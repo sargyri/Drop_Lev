{
  "nbformat": 4,
  "nbformat_minor": 0,
  "metadata": {
    "colab": {
      "name": "Lev droplet_st_pred.ipynb",
      "provenance": [],
      "private_outputs": true,
      "collapsed_sections": [],
      "toc_visible": true,
      "include_colab_link": true
    },
    "kernelspec": {
      "name": "python3",
      "display_name": "Python 3"
    }
  },
  "cells": [
    {
      "cell_type": "markdown",
      "metadata": {
        "id": "view-in-github",
        "colab_type": "text"
      },
      "source": [
        "<a href=\"https://colab.research.google.com/github/sargyri/Drop_Lev/blob/master/Machine_learning/Lev_droplet_st_pred.ipynb\" target=\"_parent\"><img src=\"https://colab.research.google.com/assets/colab-badge.svg\" alt=\"Open In Colab\"/></a>"
      ]
    },
    {
      "cell_type": "markdown",
      "metadata": {
        "colab_type": "text",
        "id": "FhGuhbZ6M5tl"
      },
      "source": [
        "##### Copyright 2018 The TensorFlow Authors."
      ]
    },
    {
      "cell_type": "code",
      "metadata": {
        "cellView": "form",
        "colab_type": "code",
        "id": "AwOEIRJC6Une",
        "colab": {}
      },
      "source": [
        "#@title Licensed under the Apache License, Version 2.0 (the \"License\");\n",
        "# you may not use this file except in compliance with the License.\n",
        "# You may obtain a copy of the License at\n",
        "#\n",
        "# https://www.apache.org/licenses/LICENSE-2.0\n",
        "#\n",
        "# Unless required by applicable law or agreed to in writing, software\n",
        "# distributed under the License is distributed on an \"AS IS\" BASIS,\n",
        "# WITHOUT WARRANTIES OR CONDITIONS OF ANY KIND, either express or implied.\n",
        "# See the License for the specific language governing permissions and\n",
        "# limitations under the License."
      ],
      "execution_count": null,
      "outputs": []
    },
    {
      "cell_type": "code",
      "metadata": {
        "cellView": "form",
        "colab_type": "code",
        "id": "KyPEtTqk6VdG",
        "colab": {}
      },
      "source": [
        "#@title MIT License\n",
        "#\n",
        "# Copyright (c) 2017 François Chollet\n",
        "#\n",
        "# Permission is hereby granted, free of charge, to any person obtaining a\n",
        "# copy of this software and associated documentation files (the \"Software\"),\n",
        "# to deal in the Software without restriction, including without limitation\n",
        "# the rights to use, copy, modify, merge, publish, distribute, sublicense,\n",
        "# and/or sell copies of the Software, and to permit persons to whom the\n",
        "# Software is furnished to do so, subject to the following conditions:\n",
        "#\n",
        "# The above copyright notice and this permission notice shall be included in\n",
        "# all copies or substantial portions of the Software.\n",
        "#\n",
        "# THE SOFTWARE IS PROVIDED \"AS IS\", WITHOUT WARRANTY OF ANY KIND, EXPRESS OR\n",
        "# IMPLIED, INCLUDING BUT NOT LIMITED TO THE WARRANTIES OF MERCHANTABILITY,\n",
        "# FITNESS FOR A PARTICULAR PURPOSE AND NONINFRINGEMENT. IN NO EVENT SHALL\n",
        "# THE AUTHORS OR COPYRIGHT HOLDERS BE LIABLE FOR ANY CLAIM, DAMAGES OR OTHER\n",
        "# LIABILITY, WHETHER IN AN ACTION OF CONTRACT, TORT OR OTHERWISE, ARISING\n",
        "# FROM, OUT OF OR IN CONNECTION WITH THE SOFTWARE OR THE USE OR OTHER\n",
        "# DEALINGS IN THE SOFTWARE."
      ],
      "execution_count": null,
      "outputs": []
    },
    {
      "cell_type": "markdown",
      "metadata": {
        "colab_type": "text",
        "id": "EIdT9iu_Z4Rb"
      },
      "source": [
        "# Lev Droplet "
      ]
    },
    {
      "cell_type": "markdown",
      "metadata": {
        "colab_type": "text",
        "id": "bBIlTPscrIT9"
      },
      "source": [
        "<table class=\"tfo-notebook-buttons\" align=\"left\">\n",
        "  <td>\n",
        "    <a target=\"_blank\" href=\"https://www.tensorflow.org/tutorials/keras/basic_regression\"><img src=\"https://www.tensorflow.org/images/tf_logo_32px.png\" />View on TensorFlow.org</a>\n",
        "  </td>\n",
        "  <td>\n",
        "    <a target=\"_blank\" href=\"https://colab.research.google.com/github/tensorflow/docs/blob/r2.0rc/site/en/tutorials/keras/basic_regression.ipynb\"><img src=\"https://www.tensorflow.org/images/colab_logo_32px.png\" />Run in Google Colab</a>\n",
        "  </td>\n",
        "  <td>\n",
        "    <a target=\"_blank\" href=\"https://github.com/tensorflow/docs/blob/r2.0rc/site/en/tutorials/keras/basic_regression.ipynb\"><img src=\"https://www.tensorflow.org/images/GitHub-Mark-32px.png\" />View source on GitHub</a>\n",
        "  </td>\n",
        "</table>"
      ]
    },
    {
      "cell_type": "markdown",
      "metadata": {
        "colab_type": "text",
        "id": "AHp3M9ZmrIxj"
      },
      "source": [
        "Determination of ST by NN using coords (rho,theta, volume, volt)"
      ]
    },
    {
      "cell_type": "code",
      "metadata": {
        "colab_type": "code",
        "id": "moB4tpEHxKB3",
        "colab": {}
      },
      "source": [
        "# Use seaborn for pairplot\n",
        "#!pip install seaborn\n",
        "#!pip install talos\n",
        "#!pip install -q  --no-deps tensorflow-addons~=0.7"
      ],
      "execution_count": null,
      "outputs": []
    },
    {
      "cell_type": "code",
      "metadata": {
        "id": "0_CJRT6p-bHH",
        "colab_type": "code",
        "colab": {}
      },
      "source": [
        "!pip install lmfit"
      ],
      "execution_count": null,
      "outputs": []
    },
    {
      "cell_type": "code",
      "metadata": {
        "colab_type": "code",
        "id": "1rRo8oNqZ-Rj",
        "colab": {}
      },
      "source": [
        "from __future__ import absolute_import, division, print_function, unicode_literals\n",
        "\n",
        "import pathlib\n",
        "import pprint\n",
        "import os\n",
        "import matplotlib.pyplot as plt\n",
        "import pandas as pd\n",
        "import numpy as np\n",
        "\n",
        "import seaborn as sns\n",
        "\n",
        "import tensorflow.compat.v1 as tf\n",
        "tf.disable_v2_behavior()\n",
        "from tensorflow import keras\n",
        "from tensorflow.keras import layers\n",
        "\n",
        "from tensorflow.keras.callbacks import ModelCheckpoint\n",
        "\n",
        "import tensorflow_addons as tfa\n",
        "\n",
        "print(tf.__version__)\n"
      ],
      "execution_count": null,
      "outputs": []
    },
    {
      "cell_type": "markdown",
      "metadata": {
        "id": "TvCBPgR-gWXl",
        "colab_type": "text"
      },
      "source": [
        "Run the next code box only if google drive is not mounted to colab"
      ]
    },
    {
      "cell_type": "code",
      "metadata": {
        "id": "7dA-joJRPNiJ",
        "colab_type": "code",
        "colab": {}
      },
      "source": [
        "from google.colab import drive\n",
        "drive.mount('/content/drive')"
      ],
      "execution_count": null,
      "outputs": []
    },
    {
      "cell_type": "markdown",
      "metadata": {
        "id": "lMshRx3PgwcZ",
        "colab_type": "text"
      },
      "source": [
        "If it **is** mounted continue from here on"
      ]
    },
    {
      "cell_type": "markdown",
      "metadata": {
        "id": "OgUp-UtJe3dA",
        "colab_type": "text"
      },
      "source": [
        "Check the connection to google's **GPU**"
      ]
    },
    {
      "cell_type": "code",
      "metadata": {
        "id": "dgZHRBKye0v-",
        "colab_type": "code",
        "colab": {}
      },
      "source": [
        "%tensorflow_version 2.x\n",
        "import tensorflow as tf\n",
        "device_name = tf.test.gpu_device_name()\n",
        "if device_name != '/device:GPU:0':\n",
        "  raise SystemError('GPU device not found')\n",
        "print('Found GPU at: {}'.format(device_name))"
      ],
      "execution_count": null,
      "outputs": []
    },
    {
      "cell_type": "markdown",
      "metadata": {
        "id": "4x6T3kToe53b",
        "colab_type": "text"
      },
      "source": [
        "**Or** check the connection to google's **TPU**"
      ]
    },
    {
      "cell_type": "code",
      "metadata": {
        "colab_type": "code",
        "id": "3IEVK-KFxi5Z",
        "colab": {}
      },
      "source": [
        "if 'COLAB_TPU_ADDR' not in os.environ:\n",
        "  print('ERROR: Not connected to a TPU runtime; please see the first cell in this notebook for instructions!')\n",
        "else:\n",
        "  tpu_address = 'grpc://' + os.environ['COLAB_TPU_ADDR']\n",
        "  print ('TPU address is', tpu_address)\n",
        "\n",
        "  with tf.Session(tpu_address) as session:\n",
        "    devices = session.list_devices()\n",
        "    \n",
        "  print('TPU devices:')\n",
        "  pprint.pprint(devices)"
      ],
      "execution_count": null,
      "outputs": []
    },
    {
      "cell_type": "markdown",
      "metadata": {
        "colab_type": "text",
        "id": "gFh9ne3FZ-On"
      },
      "source": [
        "### Get the data\n",
        "First download the dataset!\n",
        "\n",
        "**Option 1**: Upload files"
      ]
    },
    {
      "cell_type": "code",
      "metadata": {
        "id": "K7-5GSURZTdh",
        "colab_type": "code",
        "colab": {}
      },
      "source": [
        "from google.colab import files\n",
        "uploaded = files.upload()"
      ],
      "execution_count": null,
      "outputs": []
    },
    {
      "cell_type": "code",
      "metadata": {
        "id": "l83INVYlZsND",
        "colab_type": "code",
        "colab": {}
      },
      "source": [
        "import io\n",
        "csvfilename=str('TritonX100_conci_0.0100_all.csv')\n",
        "input = pd.read_csv(io.BytesIO(uploaded[csvfilename]))\n",
        "#input = pd.read_csv(csvfilename, sep=\"\\t\")\n",
        "# Dataset is now stored in a Pandas Dataframe\n",
        "input.shape"
      ],
      "execution_count": null,
      "outputs": []
    },
    {
      "cell_type": "markdown",
      "metadata": {
        "id": "WCobdL9vDRXH",
        "colab_type": "text"
      },
      "source": [
        "**Option 2**: Import files from drive"
      ]
    },
    {
      "cell_type": "code",
      "metadata": {
        "id": "Z-NFT5ddEOdC",
        "colab_type": "code",
        "colab": {}
      },
      "source": [
        "#From the drive folder that is mounted to collab go to the file that you are interested in, \n",
        "#right click and copy the path of the file. Paste it in csvfilename:\n",
        "\n",
        "fileSDS1=pd.read_csv(str('/content/drive/My Drive/DropLev/Levitator_2/Training/SDS/SDS_conci_0.01054_all.csv'), sep=\"\\t\")\n",
        "fileSDS2=pd.read_csv(str('/content/drive/My Drive/DropLev/Levitator_2/Training/SDS/SDS_conci_0.02108_all.csv'), sep='\\t')\n",
        "fileSDS3=pd.read_csv(str('/content/drive/My Drive/DropLev/Levitator_2/Training/SDS/SDS_conci_0.04273_all.csv'), sep='\\t')\n",
        "fileSDS4=pd.read_csv(str('/content/drive/My Drive/DropLev/Levitator_2/Training/SDS/SDS_conci_0.08828_all.csv'), sep=\"\\t\")\n",
        "fileSDS5=pd.read_csv(str('/content/drive/My Drive/DropLev/Levitator_2/Training/SDS/SDS_conci_0.25000_all.csv'), sep=\"\\t\")\n",
        "fileSDS6=pd.read_csv(str('/content/drive/My Drive/DropLev/Levitator_2/Training/SDS/SDS_conci_0.50000_all.csv'), sep=\"\\t\")\n",
        "fileSDS7=pd.read_csv(str('/content/drive/My Drive/DropLev/Levitator_2/Training/SDS/SDS_conci_0.75000_all.csv'), sep=\"\\t\")\n",
        "fileSDS8=pd.read_csv(str('/content/drive/My Drive/DropLev/Levitator_2/Training/SDS/SDS_conci_1.00000_all.csv'), sep=\"\\t\")\n",
        "fileSDS9=pd.read_csv(str('/content/drive/My Drive/DropLev/Levitator_2/Training/SDS/SDS_conci_1.25000_all.csv'), sep=\"\\t\")\n",
        "fileSDS10=pd.read_csv(str('/content/drive/My Drive/DropLev/Levitator_2/Training/SDS/SDS_conci_1.50000_all.csv'), sep=\"\\t\")\n",
        "fileSDS11=pd.read_csv(str('/content/drive/My Drive/DropLev/Levitator_2/Training/SDS/SDS_conci_2.00000_all.csv'), sep=\"\\t\")\n",
        "fileSDS12=pd.read_csv(str('/content/drive/My Drive/DropLev/Levitator_2/Training/SDS/SDS_conci_2.50000_all.csv'), sep=\"\\t\")\n",
        "fileSDS13=pd.read_csv(str('/content/drive/My Drive/DropLev/Levitator_2/Training/SDS/SDS_conci_3.00000_all.csv'), sep=\"\\t\")\n",
        "fileSDS14=pd.read_csv(str('/content/drive/My Drive/DropLev/Levitator_2/Training/SDS/SDS_conci_3.50000_all.csv'), sep=\"\\t\")\n",
        "fileSDS15=pd.read_csv(str('/content/drive/My Drive/DropLev/Levitator_2/Training/SDS/SDS_conci_4.00000_all.csv'), sep=\"\\t\")\n",
        "fileSDS16=pd.read_csv(str('/content/drive/My Drive/DropLev/Levitator_2/Training/SDS/SDS_conci_4.50000_all.csv'), sep=\"\\t\")\n",
        "fileSDS17=pd.read_csv(str('/content/drive/My Drive/DropLev/Levitator_2/Training/SDS/SDS_conci_5.50000_all.csv'), sep=\"\\t\")\n",
        "fileSDS18=pd.read_csv(str('/content/drive/My Drive/DropLev/Levitator_2/Training/SDS/SDS_conci_6.50000_all.csv'), sep=\"\\t\")\n",
        "fileSDS19=pd.read_csv(str('/content/drive/My Drive/DropLev/Levitator_2/Training/SDS/SDS_conci_7.50000_all.csv'), sep=\"\\t\")\n",
        "fileSDS20=pd.read_csv(str('/content/drive/My Drive/DropLev/Levitator_2/Training/SDS/SDS_conci_8.50000_all.csv'), sep=\"\\t\")\n",
        "fileSDS21=pd.read_csv(str('/content/drive/My Drive/DropLev/Levitator_2/Training/SDS/SDS_conci_24.75900_all.csv'), sep=\"\\t\")\n",
        "\n",
        "fileTrit1=pd.read_csv(str('/content/drive/My Drive/DropLev/Levitator_2/Training/TritonX100/TritonX_conci_0.00250_all.csv'), sep=\"\\t\")\n",
        "fileTrit2=pd.read_csv(str('/content/drive/My Drive/DropLev/Levitator_2/Training/TritonX100/TritonX_conci_0.00500_all.csv'), sep=\"\\t\")\n",
        "fileTrit3=pd.read_csv(str('/content/drive/My Drive/DropLev/Levitator_2/Training/TritonX100/TritonX_conci_0.00750_all.csv'), sep=\"\\t\")\n",
        "fileTrit4=pd.read_csv(str('/content/drive/My Drive/DropLev/Levitator_2/Training/TritonX100/TritonX_conci_0.01000_all.csv'), sep=\"\\t\")\n",
        "fileTrit5=pd.read_csv(str('/content/drive/My Drive/DropLev/Levitator_2/Training/TritonX100/TritonX_conci_0.01500_all.csv'), sep=\"\\t\")\n",
        "fileTrit6=pd.read_csv(str('/content/drive/My Drive/DropLev/Levitator_2/Training/TritonX100/TritonX_conci_0.02000_all.csv'), sep=\"\\t\")\n",
        "fileTrit7=pd.read_csv(str('/content/drive/My Drive/DropLev/Levitator_2/Training/TritonX100/TritonX_conci_0.02500_all.csv'), sep=\"\\t\")\n",
        "fileTrit8=pd.read_csv(str('/content/drive/My Drive/DropLev/Levitator_2/Training/TritonX100/TritonX_conci_0.03500_all.csv'), sep=\"\\t\")\n",
        "fileTrit9=pd.read_csv(str('/content/drive/My Drive/DropLev/Levitator_2/Training/TritonX100/TritonX_conci_0.05000_all.csv'), sep=\"\\t\")\n",
        "fileTrit10=pd.read_csv(str('/content/drive/My Drive/DropLev/Levitator_2/Training/TritonX100/TritonX_conci_0.07500_all.csv'), sep=\"\\t\")\n",
        "fileTrit11=pd.read_csv(str('/content/drive/My Drive/DropLev/Levitator_2/Training/TritonX100/TritonX_conci_0.10000_all.csv'), sep=\"\\t\")\n",
        "fileTrit12=pd.read_csv(str('/content/drive/My Drive/DropLev/Levitator_2/Training/TritonX100/TritonX_conci_0.12500_all.csv'), sep=\"\\t\")\n",
        "fileTrit13=pd.read_csv(str('/content/drive/My Drive/DropLev/Levitator_2/Training/TritonX100/TritonX_conci_0.15000_all.csv'), sep=\"\\t\")\n",
        "fileTrit14=pd.read_csv(str('/content/drive/My Drive/DropLev/Levitator_2/Training/TritonX100/TritonX_conci_0.17500_all.csv'), sep=\"\\t\")\n",
        "fileTrit15=pd.read_csv(str('/content/drive/My Drive/DropLev/Levitator_2/Training/TritonX100/TritonX_conci_0.20000_all.csv'), sep=\"\\t\")\n",
        "fileTrit16=pd.read_csv(str('/content/drive/My Drive/DropLev/Levitator_2/Training/TritonX100/TritonX_conci_0.25000_all.csv'), sep=\"\\t\")\n",
        "fileTrit17=pd.read_csv(str('/content/drive/My Drive/DropLev/Levitator_2/Training/TritonX100/TritonX_conci_0.30000_all.csv'), sep=\"\\t\")\n",
        "fileTrit18=pd.read_csv(str('/content/drive/My Drive/DropLev/Levitator_2/Training/TritonX100/TritonX_conci_0.45000_all.csv'), sep=\"\\t\")\n",
        "fileTrit19=pd.read_csv(str('/content/drive/My Drive/DropLev/Levitator_2/Training/TritonX100/TritonX_conci_1.00000_all.csv'), sep=\"\\t\")\n",
        "fileTrit20=pd.read_csv(str('/content/drive/My Drive/DropLev/Levitator_2/Training/TritonX100/TritonX_conci_3.00000_all.csv'), sep=\"\\t\")\n",
        "fileTrit21=pd.read_csv(str('/content/drive/My Drive/DropLev/Levitator_2/Training/TritonX100/TritonX_conci_10.00000_all.csv'), sep=\"\\t\")\n",
        "\n",
        "fileCTAB1=pd.read_csv(str('/content/drive/My Drive/DropLev/Levitator_2/Training/CTAB/CTAB_conci_0.00100_all.csv'), sep=\"\\t\")\n",
        "fileCTAB2=pd.read_csv(str('/content/drive/My Drive/DropLev/Levitator_2/Training/CTAB/CTAB_conci_0.00200_all.csv'), sep=\"\\t\")\n",
        "fileCTAB3=pd.read_csv(str('/content/drive/My Drive/DropLev/Levitator_2/Training/CTAB/CTAB_conci_0.00500_all.csv'), sep=\"\\t\")\n",
        "fileCTAB4=pd.read_csv(str('/content/drive/My Drive/DropLev/Levitator_2/Training/CTAB/CTAB_conci_0.01000_all.csv'), sep=\"\\t\")\n",
        "fileCTAB5=pd.read_csv(str('/content/drive/My Drive/DropLev/Levitator_2/Training/CTAB/CTAB_conci_0.01500_all.csv'), sep=\"\\t\")\n",
        "fileCTAB6=pd.read_csv(str('/content/drive/My Drive/DropLev/Levitator_2/Training/CTAB/CTAB_conci_0.05500_all.csv'), sep=\"\\t\")\n",
        "fileCTAB7=pd.read_csv(str('/content/drive/My Drive/DropLev/Levitator_2/Training/CTAB/CTAB_conci_0.10000_all.csv'), sep=\"\\t\")\n",
        "fileCTAB8=pd.read_csv(str('/content/drive/My Drive/DropLev/Levitator_2/Training/CTAB/CTAB_conci_0.15000_all.csv'), sep=\"\\t\")\n",
        "fileCTAB9=pd.read_csv(str('/content/drive/My Drive/DropLev/Levitator_2/Training/CTAB/CTAB_conci_0.20000_all.csv'), sep=\"\\t\")\n",
        "fileCTAB10=pd.read_csv(str('/content/drive/My Drive/DropLev/Levitator_2/Training/CTAB/CTAB_conci_0.25000_all.csv'), sep=\"\\t\")\n",
        "fileCTAB11=pd.read_csv(str('/content/drive/My Drive/DropLev/Levitator_2/Training/CTAB/CTAB_conci_0.30000_all.csv'), sep=\"\\t\")\n",
        "fileCTAB12=pd.read_csv(str('/content/drive/My Drive/DropLev/Levitator_2/Training/CTAB/CTAB_conci_0.40000_all.csv'), sep=\"\\t\")\n",
        "fileCTAB13=pd.read_csv(str('/content/drive/My Drive/DropLev/Levitator_2/Training/CTAB/CTAB_conci_0.50000_all.csv'), sep=\"\\t\")\n",
        "fileCTAB14=pd.read_csv(str('/content/drive/My Drive/DropLev/Levitator_2/Training/CTAB/CTAB_conci_0.60000_all.csv'), sep=\"\\t\")\n",
        "fileCTAB15=pd.read_csv(str('/content/drive/My Drive/DropLev/Levitator_2/Training/CTAB/CTAB_conci_0.70000_all.csv'), sep=\"\\t\")\n",
        "fileCTAB16=pd.read_csv(str('/content/drive/My Drive/DropLev/Levitator_2/Training/CTAB/CTAB_conci_0.80000_all.csv'), sep=\"\\t\")\n",
        "fileCTAB17=pd.read_csv(str('/content/drive/My Drive/DropLev/Levitator_2/Training/CTAB/CTAB_conci_0.85000_all.csv'), sep=\"\\t\")\n",
        "fileCTAB18=pd.read_csv(str('/content/drive/My Drive/DropLev/Levitator_2/Training/CTAB/CTAB_conci_0.90000_all.csv'), sep=\"\\t\")\n",
        "fileCTAB19=pd.read_csv(str('/content/drive/My Drive/DropLev/Levitator_2/Training/CTAB/CTAB_conci_1.00000_all.csv'), sep=\"\\t\")\n",
        "fileCTAB20=pd.read_csv(str('/content/drive/My Drive/DropLev/Levitator_2/Training/CTAB/CTAB_conci_5.00000_all.csv'), sep=\"\\t\")\n",
        "fileCTAB21=pd.read_csv(str('/content/drive/My Drive/DropLev/Levitator_2/Training/CTAB/CTAB_conci_13.15224_all.csv'), sep=\"\\t\")\n",
        "\n",
        "#input=np.vstack([fileSDS1, fileSDS2, fileSDS3, fileSDS4, fileSDS5, fileSDS6, fileSDS7, fileSDS8, fileSDS9, fileSDS10, fileSDS11, \n",
        "                 #fileSDS12, fileSDS13, fileSDS14, fileSDS15, fileSDS16, fileSDS17, fileSDS18, fileSDS19, fileSDS20, fileSDS21,\n",
        "                # fileTrit1, fileTrit2, fileTrit3, fileTrit4, fileTrit5, fileTrit6, fileTrit7, fileTrit8, fileTrit9, fileTrit10, fileTrit11,\n",
        "                # fileTrit12, fileTrit13, fileTrit14, fileTrit15, fileTrit16, fileTrit17, fileTrit18, fileTrit19, fileTrit20, fileTrit21,\n",
        "                # fileCTAB1, fileCTAB2, fileCTAB3, fileCTAB4, fileCTAB5, fileCTAB6, fileCTAB7, fileCTAB8, fileCTAB9, fileCTAB10, fileCTAB11,\n",
        "                # fileCTAB12, fileCTAB13, fileCTAB14, fileCTAB15, fileCTAB16, fileCTAB17, fileCTAB18, fileCTAB19, fileCTAB20, fileCTAB21])\n",
        "# input=np.vstack([fileSDS5, fileSDS6, fileSDS7, fileSDS8, fileSDS9, fileSDS10, fileSDS13, fileSDS14,\n",
        "#                  fileTrit7, fileTrit8, fileTrit9, fileTrit10, fileTrit11,\n",
        "#                  fileCTAB9, fileCTAB10, fileCTAB11, fileCTAB12,fileCTAB13, fileCTAB14])\n",
        "# input.shape\n",
        "\n",
        "#csvfilename=str('/content/drive/My Drive/DropLev/Levitator_2/Training/SDS/SDS_conci_1.50000_ML_data.csv')\n",
        "\n",
        "#input = pd.read_csv(csvfilename)"
      ],
      "execution_count": null,
      "outputs": []
    },
    {
      "cell_type": "code",
      "metadata": {
        "id": "tzJI27XdjnCq",
        "colab_type": "code",
        "colab": {}
      },
      "source": [
        "input=np.vstack([fileSDS1, fileSDS2, fileSDS3, fileSDS4, fileSDS5, fileSDS6, fileSDS7, fileSDS19, fileSDS20, fileSDS21,\n",
        "                 fileTrit1, fileTrit2, fileTrit3, fileTrit4, fileTrit5, fileTrit17, fileTrit18, fileTrit19, fileTrit20, fileTrit21,\n",
        "                 fileCTAB1, fileCTAB2, fileCTAB3, fileCTAB4, fileCTAB5, fileCTAB15, fileCTAB16, fileCTAB17, fileCTAB18, fileCTAB19, fileCTAB20, fileCTAB21])\n",
        "\n",
        "# input=np.vstack([fileSDS8, fileSDS9, fileSDS10, fileSDS11, fileSDS12, fileSDS13, fileSDS14, fileSDS15, fileSDS16, fileSDS17, fileSDS18,\n",
        "#                  fileTrit6, fileTrit7, fileTrit8, fileTrit9, fileTrit10, fileTrit11, fileTrit12, fileTrit13, fileTrit14, fileTrit15, fileTrit16,\n",
        "#                  fileCTAB6, fileCTAB7, fileCTAB8, fileCTAB9, fileCTAB10, fileCTAB11, fileCTAB12, fileCTAB13, fileCTAB14])"
      ],
      "execution_count": null,
      "outputs": []
    },
    {
      "cell_type": "code",
      "metadata": {
        "id": "wXBoAZocVdj7",
        "colab_type": "code",
        "colab": {}
      },
      "source": [
        "column_names=[]\n",
        "\n",
        "for i in range(300):\n",
        "  column_names.append('rho_%d' %i)\n",
        "for i in range(300):\n",
        "  column_names.append('phi_%d' %i)\n",
        "for i in range(300):\n",
        "  column_names.append('theta_%d' %i)\n",
        "column_names.append('height')\n",
        "column_names.append('width')  \n",
        "column_names.append('volume')\n",
        "column_names.append('R_sph')\n",
        "column_names.append('volt')\n",
        "column_names.append('Intensity')\n",
        "column_names.append('time')\n",
        "column_names.append('Power')\n",
        "#column_names.append('Ps')\n",
        "#column_names.append('Ps_err')\n",
        "column_names.append('centre_x')\n",
        "column_names.append('centre_y')\n",
        "column_names.append('surfactant_conc')\n",
        "column_names.append('Aspect_Ratio')\n",
        "column_names.append('st')\n",
        "\n",
        "\n",
        "#raw_dataset = pd.read_csv(csvfilename, sep=\"\\t\")\n",
        "#raw_dataset.columns=column_names\n",
        "\n",
        "raw_dataset = pd.DataFrame(data=input,  columns=column_names) \n",
        "              \n",
        "raw_dataset.shape\n",
        "\n",
        "dataset = raw_dataset.copy()\n",
        "\n",
        "#for i in range(300):\n",
        "#  dataset.pop('rho_%d' %i)\n",
        "for i in range(300):\n",
        "  dataset.pop('phi_%d' %i)\n",
        "#for i in range(300):\n",
        "#  dataset.pop('theta_%d' %i)\n",
        "dataset.pop(\"height\")\n",
        "dataset.pop(\"width\")\n",
        "#dataset.pop(\"volume\")\n",
        "#dataset.pop(\"R_sph\")\n",
        "#dataset.pop('volt')\n",
        "dataset.pop('Intensity')\n",
        "dataset.pop('time')\n",
        "dataset.pop('Power')\n",
        "#dataset.pop('Ps')\n",
        "#dataset.pop('Ps_err')\n",
        "dataset.pop(\"centre_x\")\n",
        "dataset.pop(\"centre_y\")\n",
        "dataset.pop('surfactant_conc')\n",
        "dataset.pop(\"Aspect_Ratio\")\n",
        "\n",
        "dataset.tail()\n"
      ],
      "execution_count": null,
      "outputs": []
    },
    {
      "cell_type": "code",
      "metadata": {
        "id": "4anqOb6ofqwS",
        "colab_type": "code",
        "colab": {}
      },
      "source": [
        "#Drop 125 values of theta\n",
        "for i in range(0,125):\n",
        "  dataset=dataset.drop(dataset.columns[300+i], axis=1)\n",
        "  i=i+1\n",
        "\n",
        "\n",
        "#Drop 125 values of rho:\n",
        "for i in range(0,125):\n",
        "  dataset=dataset.drop(dataset.columns[i], axis=1)\n",
        "  i=i+1\n",
        "\n",
        "dataset.pop('R_sph')\n",
        "\n",
        "dataset.tail()"
      ],
      "execution_count": null,
      "outputs": []
    },
    {
      "cell_type": "code",
      "metadata": {
        "id": "hlGbUYqSD6nj",
        "colab_type": "code",
        "colab": {}
      },
      "source": [
        "volt=dataset['volt']"
      ],
      "execution_count": null,
      "outputs": []
    },
    {
      "cell_type": "code",
      "metadata": {
        "id": "W5tohPiqD_6L",
        "colab_type": "code",
        "colab": {}
      },
      "source": [
        "dataset.pop('volt')"
      ],
      "execution_count": null,
      "outputs": []
    },
    {
      "cell_type": "code",
      "metadata": {
        "id": "9ovzFzZDEEOx",
        "colab_type": "code",
        "colab": {}
      },
      "source": [
        "datset=dataset.drop([0, 1, 2, 3,4 ,5, 6, 7, 8, 9, 10, 11, 12, 13, 14, 15, 16, 17, 18, 19, 20, 21, 22, 23, 24, 25, 26, 27, 28, 29], axis=0)\n",
        "datset.shape"
      ],
      "execution_count": null,
      "outputs": []
    },
    {
      "cell_type": "code",
      "metadata": {
        "id": "s58jqLUEKNtc",
        "colab_type": "code",
        "colab": {}
      },
      "source": [
        "volt2=volt.drop([156630, 156631, 156632, 156633, 156634, 156635, 156636, 156637, 156638, 156639, 156640, 156641, 156642, 156643, 156644, 156645,\n",
        "                 156646, 156647, 156648, 156649, 156650, 156651, 156652, 156653, 156654, 156655, 156656, 156657, 156658, 156659, 156659], axis=0)\n",
        "len(volt2)"
      ],
      "execution_count": null,
      "outputs": []
    },
    {
      "cell_type": "code",
      "metadata": {
        "id": "_ZgxNnRIK_9k",
        "colab_type": "code",
        "colab": {}
      },
      "source": [
        "datset.pop('volt')\n",
        "datset.pop('volt2')"
      ],
      "execution_count": null,
      "outputs": []
    },
    {
      "cell_type": "code",
      "metadata": {
        "id": "RiGnHudDMKQc",
        "colab_type": "code",
        "colab": {}
      },
      "source": [
        "volt2=np.asarray(volt2)"
      ],
      "execution_count": null,
      "outputs": []
    },
    {
      "cell_type": "code",
      "metadata": {
        "id": "KtvcJNFqLWp8",
        "colab_type": "code",
        "colab": {}
      },
      "source": [
        "datset['volt']=volt2\n",
        "datset.tail()\n",
        "dataset=datset"
      ],
      "execution_count": null,
      "outputs": []
    },
    {
      "cell_type": "code",
      "metadata": {
        "id": "sbgMtmTyybem",
        "colab_type": "code",
        "colab": {}
      },
      "source": [
        "#Check that the drop contour is still well defined!\n",
        "plt.plot(dataset.iloc[150000, 150:300], dataset.iloc[150000, 0:150])"
      ],
      "execution_count": null,
      "outputs": []
    },
    {
      "cell_type": "markdown",
      "metadata": {
        "id": "A9ux9dasikYc",
        "colab_type": "text"
      },
      "source": [
        "### Show the Volume and ST distribution of the data"
      ]
    },
    {
      "cell_type": "code",
      "metadata": {
        "id": "8nA2ICVeWuMG",
        "colab_type": "code",
        "colab": {}
      },
      "source": [
        "#linex=np.tile(3, 2)\n",
        "#liney=[0, 0.3]\n",
        "\n",
        "plt.figure()\n",
        "sns.distplot(dataset['volume'])\n",
        "plt.xlabel('Volume [μL]')\n",
        "plt.ylabel('Count')\n",
        "\n",
        "plt.figure()\n",
        "sns.distplot(dataset['st'])\n",
        "plt.xlabel('Surface tension [mN/m]')\n",
        "plt.ylabel('Count')\n",
        "\n",
        "plt.figure()\n",
        "sns.distplot(dataset['volt'])\n",
        "plt.xlabel('Voltage [V]')\n",
        "plt.ylabel('Count')\n"
      ],
      "execution_count": null,
      "outputs": []
    },
    {
      "cell_type": "markdown",
      "metadata": {
        "id": "xaNUMVadnhCQ",
        "colab_type": "text"
      },
      "source": [
        "### Selectively choose data with (almost) constant volume"
      ]
    },
    {
      "cell_type": "code",
      "metadata": {
        "id": "xrMpqWF0k2ft",
        "colab_type": "code",
        "colab": {}
      },
      "source": [
        "new_input=[]\n",
        "vol_min=2.99\n",
        "vol_max=3.01\n",
        "for i in range(len(dataset)):\n",
        "  if dataset['volume'].iloc[i] >= vol_min and dataset['volume'].iloc[i] <= vol_max:\n",
        "    vol_ct_data=dataset.iloc[i, :]\n",
        "    new_input.append(vol_ct_data)\n",
        "new_input=np.asarray(new_input)\n",
        "new_input.shape"
      ],
      "execution_count": null,
      "outputs": []
    },
    {
      "cell_type": "code",
      "metadata": {
        "id": "KH2AdDoKcM84",
        "colab_type": "code",
        "colab": {}
      },
      "source": [
        "column_names=[]\n",
        "\n",
        "for i in range(300):\n",
        "  column_names.append('rho_%d' %i)\n",
        "for i in range(300):\n",
        "  column_names.append('theta_%d' %i)\n",
        "column_names.append('volume')\n",
        "column_names.append('R_sph')\n",
        "column_names.append('volt')\n",
        "column_names.append('st')\n",
        "\n",
        "new_dataset=pd.DataFrame(new_input, columns=column_names)\n",
        "new_dataset.pop('R_sph')\n",
        "new_dataset.tail()"
      ],
      "execution_count": null,
      "outputs": []
    },
    {
      "cell_type": "code",
      "metadata": {
        "id": "J3mgXVPxqhdg",
        "colab_type": "code",
        "colab": {}
      },
      "source": [
        "plt.figure()\n",
        "sns.distplot(new_dataset['volt'])\n",
        "plt.xlabel('Voltage [V]')\n",
        "plt.ylabel('Count')\n",
        "\n",
        "plt.figure()\n",
        "sns.distplot(new_dataset['st'])\n",
        "plt.xlabel('Surface tension [mN/m]')\n",
        "plt.ylabel('Count')"
      ],
      "execution_count": null,
      "outputs": []
    },
    {
      "cell_type": "code",
      "metadata": {
        "id": "875aKn_Nc_Ba",
        "colab_type": "code",
        "colab": {}
      },
      "source": [
        "# #Drop 125 values of theta\n",
        "# for i in range(0,125):\n",
        "#   new_dataset=new_dataset.drop(new_dataset.columns[300+i], axis=1)\n",
        "#   i=i+1\n",
        "\n",
        "\n",
        "# #Drop 125 values of theta\n",
        "# for i in range(0,125):\n",
        "#   new_dataset=new_dataset.drop(new_dataset.columns[i], axis=1)\n",
        "#   i=i+1\n",
        "\n",
        "# #Drop voltage\n",
        "# new_dataset.pop('volt')\n"
      ],
      "execution_count": null,
      "outputs": []
    },
    {
      "cell_type": "code",
      "metadata": {
        "id": "b4d1JSJHjQlu",
        "colab_type": "code",
        "colab": {}
      },
      "source": [
        "# #Drop volume if it's constant\n",
        "# new_dataset.pop('volume')"
      ],
      "execution_count": null,
      "outputs": []
    },
    {
      "cell_type": "code",
      "metadata": {
        "id": "YZyh7deT-MIe",
        "colab_type": "code",
        "colab": {}
      },
      "source": [
        "# #Check that the drop contour is still well defined!\n",
        "# plt.plot(new_dataset.iloc[25, 150:300], new_dataset.iloc[25, 0:150])"
      ],
      "execution_count": null,
      "outputs": []
    },
    {
      "cell_type": "code",
      "metadata": {
        "id": "MSbdYAlnp9dR",
        "colab_type": "code",
        "colab": {}
      },
      "source": [
        "new_input=np.asarray(dataset)"
      ],
      "execution_count": null,
      "outputs": []
    },
    {
      "cell_type": "code",
      "metadata": {
        "id": "j12KuanmwH2y",
        "colab_type": "code",
        "colab": {}
      },
      "source": [
        "from lmfit import Model, fit_report, Parameters\n",
        "\n",
        "def model_fit(th, Ps):\n",
        "    \"\"\"\n",
        "    Express the model that will be used to fit the experimental data (simple approach).\n",
        "\n",
        "    Input parameters\n",
        "    ----------\n",
        "    dB:     deciBell\n",
        "    th:     angle theta\n",
        "    Returns\n",
        "    -------\n",
        "    Expression of fitting model.\n",
        "\n",
        "    \"\"\"\n",
        "    rho=-((3/(64*gamma))*R_sph**2*Ps**2*Cg_air*(1+((7/5)*(k_o*R_sph)**2)))*(3*(np.cos(th))**2-1)+R_sph\n",
        "    return rho\n",
        "data_Ps=[]\n",
        "Cg_air=1/101325 #Pa**(-1)\n",
        "k_o=2*np.pi*40/340 #mm^-1\n",
        "\n",
        "for i in range(len(new_input)):\n",
        "  gamma=new_input[i, 603]\n",
        "  R_sph=new_input[i, 601]\n",
        "  rho=new_input[i, 0:300]\n",
        "  gmodel = Model(model_fit, nan_policy='omit')\n",
        "    \n",
        "  fit_param = Parameters()\n",
        "  fit_param.add('Ps', value=700, min=10, max=4000)\n",
        "  \n",
        "  result = gmodel.fit(rho, th=new_input[i, 300:600], params=fit_param)         #rho_final, th: x and y to be evaluated, respectively\n",
        "  Ps=result.params['Ps'].value\n",
        "  data_Ps.append(Ps)\n",
        "data_Ps=np.asarray(data_Ps)\n",
        "\n",
        "plt.figure()\n",
        "plt.plot(data_Ps)\n",
        "plt.xlabel('Drop')\n",
        "plt.ylabel('Acoustic pressure [Pa]')"
      ],
      "execution_count": null,
      "outputs": []
    },
    {
      "cell_type": "code",
      "metadata": {
        "id": "lW-0aq4TFQhw",
        "colab_type": "code",
        "colab": {}
      },
      "source": [
        "plt.figure()\n",
        "plt.plot(new_input[i, 300:600], rho, 'bo')\n",
        "plt.plot(new_input[i, 300:600], result.best_fit, 'r-', label='best fit')"
      ],
      "execution_count": null,
      "outputs": []
    },
    {
      "cell_type": "code",
      "metadata": {
        "id": "_vjS9VIDE8IZ",
        "colab_type": "code",
        "colab": {}
      },
      "source": [
        "column_names=[]\n",
        "\n",
        "for i in range(300):\n",
        "  column_names.append('rho_%d' %i)\n",
        "for i in range(300):\n",
        "  column_names.append('theta_%d' %i)\n",
        "column_names.append('volume')\n",
        "column_names.append('R_sph')\n",
        "column_names.append('volt')\n",
        "column_names.append('st')\n",
        "\n",
        "new_dataset=pd.DataFrame(new_input, columns=column_names)"
      ],
      "execution_count": null,
      "outputs": []
    },
    {
      "cell_type": "code",
      "metadata": {
        "id": "rd01bD1bQv37",
        "colab_type": "code",
        "colab": {}
      },
      "source": [
        "\n",
        "#Add the calclulated Ps values to the new_dataset dataframe\n",
        "new_dataset['Ps']=data_Ps\n",
        "\n",
        "#Drop the R_sph values since we cannot have them in the prediction\n",
        "new_dataset.pop('R_sph')\n",
        "new_dataset.pop('volt')\n",
        "# new_dataset.pop('volume')\n",
        "new_dataset.tail()"
      ],
      "execution_count": null,
      "outputs": []
    },
    {
      "cell_type": "code",
      "metadata": {
        "id": "w8AledUKHYgx",
        "colab_type": "code",
        "colab": {}
      },
      "source": [
        "dataset=new_dataset\n",
        "#Drop 125 values of theta\n",
        "for i in range(0,125):\n",
        "  dataset=dataset.drop(dataset.columns[300+i], axis=1)\n",
        "  i=i+1\n",
        "\n",
        "\n",
        "#Drop 125 values of rho:\n",
        "for i in range(0,125):\n",
        "  dataset=dataset.drop(dataset.columns[i], axis=1)\n",
        "  i=i+1\n",
        "\n",
        "dataset.tail()"
      ],
      "execution_count": null,
      "outputs": []
    },
    {
      "cell_type": "code",
      "metadata": {
        "id": "bggWFmt2NibH",
        "colab_type": "code",
        "colab": {}
      },
      "source": [
        "newer_input=[]\n",
        "Ps_min=1500\n",
        "Ps_max=2100\n",
        "for i in range(len(new_dataset)):\n",
        "  if new_dataset['Ps'].iloc[i] >= Ps_min and new_dataset['Ps'].iloc[i] <= Ps_max:\n",
        "    Ps_range=new_dataset.iloc[i, :]\n",
        "    newer_input.append(Ps_range)\n",
        "newer_input=np.asarray(newer_input)\n",
        "\n",
        "newer_input.shape"
      ],
      "execution_count": null,
      "outputs": []
    },
    {
      "cell_type": "code",
      "metadata": {
        "id": "R2qMP-VUQLBk",
        "colab_type": "code",
        "colab": {}
      },
      "source": [
        "plt.figure()\n",
        "plt.plot(newer_input[:, 601])\n",
        "plt.ylabel('Acoustic pressure [Pa]')\n",
        "plt.xlabel('droplet')"
      ],
      "execution_count": null,
      "outputs": []
    },
    {
      "cell_type": "code",
      "metadata": {
        "id": "quLwjCQHOtsw",
        "colab_type": "code",
        "colab": {}
      },
      "source": [
        "column_names=[]\n",
        "\n",
        "for i in range(300):\n",
        "  column_names.append('rho_%d' %i)\n",
        "for i in range(300):\n",
        "  column_names.append('theta_%d' %i)\n",
        "# column_names.append('volume')\n",
        "column_names.append('st')\n",
        "column_names.append('Ps')\n",
        "\n",
        "new_df=pd.DataFrame(newer_input, columns=column_names)\n",
        "\n",
        "#Drop ST:\n",
        "new_df.pop('st')"
      ],
      "execution_count": null,
      "outputs": []
    },
    {
      "cell_type": "code",
      "metadata": {
        "id": "M94e1UYNCvW7",
        "colab_type": "code",
        "colab": {}
      },
      "source": [
        "stats_input_df=new_df.describe()\n",
        "stats_input_df=stats_input_df.transpose()\n",
        "new_df.describe()"
      ],
      "execution_count": null,
      "outputs": []
    },
    {
      "cell_type": "code",
      "metadata": {
        "id": "5G14I_viqS7D",
        "colab_type": "code",
        "colab": {}
      },
      "source": [
        "def norm_test(x):\n",
        "  return (x - stats_input_df['mean']) / stats_input_df['std']\n",
        "\n",
        "#import model from drive\n",
        "filename=str('test_training_all_vary_vol_0.h5')\n",
        "model = tf.keras.models.load_model('/content/drive/My Drive/DropLev/MachineLearningModels/'+filename)\n",
        "\n",
        "norm_input_array=norm_test(new_df)\n",
        "prediction=model.predict(norm_input_array).flatten()\n",
        "true_values=newer_input[:, 351]\n",
        "\n",
        "plt.figure()\n",
        "plt.xlabel('Frame number')\n",
        "plt.ylabel('Surface tension [ mN/m ]')\n",
        "plt.ylim(20, 75)\n",
        "plt.plot(prediction, label='Predicted values')\n",
        "plt.plot(true_values, label='Real values')\n",
        "plt.legend()\n",
        "\n",
        "plt.figure()\n",
        "plt.scatter(true_values, prediction)\n",
        "plt.title('Normalized new test data')\n",
        "plt.xlabel('True Values [surface tension - mN/m]')\n",
        "plt.ylabel('Predictions [surface tension - mN/m]')\n",
        "plt.axis('equal')\n",
        "plt.axis('square')\n",
        "plt.xlim([10,75])\n",
        "plt.ylim([10,75])\n",
        "_ = plt.plot([-100, 100], [-100, 100])\n",
        "plt.show()\n",
        "\n",
        "error = prediction - true_values\n",
        "plt.figure()\n",
        "plt.hist(error, bins = 50)\n",
        "plt.xlabel(\"Prediction Error [mN/m]\")\n",
        "_ = plt.ylabel(\"Count\")\n",
        "#plt.ylim(0, 30)\n",
        "plt.show()\n"
      ],
      "execution_count": null,
      "outputs": []
    },
    {
      "cell_type": "markdown",
      "metadata": {
        "colab_type": "text",
        "id": "nslsRLh7Zss4"
      },
      "source": [
        "Import it using pandas"
      ]
    },
    {
      "cell_type": "code",
      "metadata": {
        "colab_type": "code",
        "id": "CiX2FI4gZtTt",
        "colab": {}
      },
      "source": [
        "column_names=[]\n",
        "\n",
        "for i in range(300):\n",
        "  column_names.append('rho_%d' %i)\n",
        "for i in range(300):\n",
        "  column_names.append('phi_%d' %i)\n",
        "for i in range(300):\n",
        "  column_names.append('theta_%d' %i)\n",
        "column_names.append('height')\n",
        "column_names.append('width')  \n",
        "column_names.append('volume')\n",
        "column_names.append('R_sph')\n",
        "column_names.append('volt')\n",
        "column_names.append('Intensity')\n",
        "column_names.append('time')\n",
        "column_names.append('Power')\n",
        "#column_names.append('Ps')\n",
        "#column_names.append('Ps_err')\n",
        "column_names.append('centre_x')\n",
        "column_names.append('centre_y')\n",
        "column_names.append('surfactant_conc')\n",
        "column_names.append('Aspect_Ratio')\n",
        "column_names.append('st')\n",
        "\n",
        "\n",
        "#raw_dataset = pd.read_csv(csvfilename, sep=\"\\t\")\n",
        "#raw_dataset.columns=column_names\n",
        "\n",
        "raw_dataset = pd.DataFrame(data=input,  columns=column_names) \n",
        "              \n",
        "\n",
        "\n",
        "raw_dataset.shape\n",
        "\n",
        "dataset = raw_dataset.copy()\n",
        "\n",
        "#for i in range(300):\n",
        "#  dataset.pop('rho_%d' %i)\n",
        "#for i in range(300):\n",
        "#  dataset.pop('phi_%d' %i)\n",
        "#for i in range(300):\n",
        "#  dataset.pop('theta_%d' %i)\n",
        "dataset.pop(\"height\")\n",
        "dataset.pop(\"width\")\n",
        "dataset.pop(\"volume\")\n",
        "#dataset.pop(\"R_sph\")\n",
        "#dataset.pop('volt')\n",
        "dataset.pop('Intensity')\n",
        "dataset.pop('time')\n",
        "dataset.pop('Power')\n",
        "#dataset.pop('Ps')\n",
        "#dataset.pop('Ps_err')\n",
        "dataset.pop(\"centre_x\")\n",
        "dataset.pop(\"centre_y\")\n",
        "dataset.pop('surfactant_conc')\n",
        "dataset.pop(\"Aspect_Ratio\")\n",
        "\n",
        "dataset.tail()"
      ],
      "execution_count": null,
      "outputs": []
    },
    {
      "cell_type": "markdown",
      "metadata": {
        "id": "_95pruq44BPg",
        "colab_type": "text"
      },
      "source": [
        "###Adding/Changing feutures"
      ]
    },
    {
      "cell_type": "code",
      "metadata": {
        "id": "3I6P2NJk4Ivn",
        "colab_type": "code",
        "colab": {}
      },
      "source": [
        "dataset['R_sph']=dataset['R_sph']**2\n",
        "\n",
        "for i in range(300):\n",
        "  dataset['theta_%d' %i]= (np.cos(dataset['theta_%d' %i]))**2"
      ],
      "execution_count": null,
      "outputs": []
    },
    {
      "cell_type": "markdown",
      "metadata": {
        "colab_type": "text",
        "id": "Cuym4yvk76vU"
      },
      "source": [
        "### Split the data into train and test\n",
        "\n",
        "Now split the dataset into a training set and a test set.\n",
        "\n",
        "We will use the test set in the final evaluation of our model."
      ]
    },
    {
      "cell_type": "code",
      "metadata": {
        "id": "5vYR5slnjdn8",
        "colab_type": "code",
        "colab": {}
      },
      "source": [
        "dataset.pop('R_sph')\n",
        "dataset.tail()"
      ],
      "execution_count": null,
      "outputs": []
    },
    {
      "cell_type": "code",
      "metadata": {
        "id": "r5Z_OUrCl3Qy",
        "colab_type": "code",
        "colab": {}
      },
      "source": [
        "dataset['volt']=dataset['volt']*178\n",
        "dataset.tail()"
      ],
      "execution_count": null,
      "outputs": []
    },
    {
      "cell_type": "code",
      "metadata": {
        "colab_type": "code",
        "id": "qn-IGhUE7_1H",
        "colab": {}
      },
      "source": [
        "train_dataset = dataset.sample(frac=0.8,random_state=1)\n",
        "test_dataset = dataset.drop(train_dataset.index)\n"
      ],
      "execution_count": null,
      "outputs": []
    },
    {
      "cell_type": "markdown",
      "metadata": {
        "colab_type": "text",
        "id": "J4ubs136WLNp"
      },
      "source": [
        "### Inspect the data\n",
        "\n",
        "Have a quick look at the joint distribution of a few pairs of columns from the training set."
      ]
    },
    {
      "cell_type": "code",
      "metadata": {
        "colab_type": "code",
        "id": "oRKO_x8gWKv-",
        "colab": {}
      },
      "source": [
        "#sns.pairplot(train_dataset[column_names], diag_kind=\"kde\")\n",
        "#plt.show()"
      ],
      "execution_count": null,
      "outputs": []
    },
    {
      "cell_type": "markdown",
      "metadata": {
        "colab_type": "text",
        "id": "gavKO_6DWRMP"
      },
      "source": [
        "Also look at the overall statistics:"
      ]
    },
    {
      "cell_type": "code",
      "metadata": {
        "colab_type": "code",
        "id": "yi2FzC3T21jR",
        "colab": {}
      },
      "source": [
        "train_stats = train_dataset.describe()\n",
        "train_stats.pop(\"st\")\n",
        "\n",
        "train_stats = train_stats.transpose()\n",
        "train_stats"
      ],
      "execution_count": null,
      "outputs": []
    },
    {
      "cell_type": "markdown",
      "metadata": {
        "colab_type": "text",
        "id": "Db7Auq1yXUvh"
      },
      "source": [
        "### Split features from labels\n",
        "\n",
        "Separate the target value, or \"label\", from the features. This label is the value that you will train the model to predict."
      ]
    },
    {
      "cell_type": "code",
      "metadata": {
        "colab_type": "code",
        "id": "t2sluJdCW7jN",
        "colab": {}
      },
      "source": [
        "train_labels = train_dataset.pop('st')\n",
        "test_labels = test_dataset.pop('st')"
      ],
      "execution_count": null,
      "outputs": []
    },
    {
      "cell_type": "markdown",
      "metadata": {
        "colab_type": "text",
        "id": "mRklxK5s388r"
      },
      "source": [
        "### Normalize the data\n",
        "\n",
        "Look again at the `train_stats` block above and note how different the ranges of each feature are."
      ]
    },
    {
      "cell_type": "markdown",
      "metadata": {
        "colab_type": "text",
        "id": "-ywmerQ6dSox"
      },
      "source": [
        "It is good practice to normalize features that use different scales and ranges. Although the model *might* converge without feature normalization, it makes training more difficult, and it makes the resulting model dependent on the choice of units used in the input.\n",
        "\n",
        "Note: Although we intentionally generate these statistics from only the training dataset, these statistics will also be used to normalize the test dataset. We need to do that to project the test dataset into the same distribution that the model has been trained on."
      ]
    },
    {
      "cell_type": "code",
      "metadata": {
        "colab_type": "code",
        "id": "JlC5ooJrgjQF",
        "colab": {}
      },
      "source": [
        "def norm(x):\n",
        "  return (x - train_stats['mean']) / train_stats['std']\n",
        "normed_train_data = norm(train_dataset)\n",
        "normed_test_data = norm(test_dataset)\n",
        "#normed_train_data = train_dataset\n",
        "#normed_test_data = test_dataset\n"
      ],
      "execution_count": null,
      "outputs": []
    },
    {
      "cell_type": "code",
      "metadata": {
        "id": "V-iAzPgHReUu",
        "colab_type": "code",
        "colab": {}
      },
      "source": [
        "#to check!\n",
        "\n",
        "#normed_test_data = tf.nn.batch_normalization(train_dataset, train_stats['mean'], train_stats['std'], offset=None, scale=None, variance_epsilon=1)\n",
        "#normed_test_data_old = norm(train_dataset)"
      ],
      "execution_count": null,
      "outputs": []
    },
    {
      "cell_type": "markdown",
      "metadata": {
        "colab_type": "text",
        "id": "BuiClDk45eS4"
      },
      "source": [
        "This normalized data is what we will use to train the model.\n",
        "\n",
        "Caution: The statistics used to normalize the inputs here (mean and standard deviation) need to be applied to any other data that is fed to the model, along with the one-hot encoding that we did earlier.  That includes the test set as well as live data when the model is used in production."
      ]
    },
    {
      "cell_type": "markdown",
      "metadata": {
        "colab_type": "text",
        "id": "SmjdzxKzEu1-"
      },
      "source": [
        "## The model"
      ]
    },
    {
      "cell_type": "markdown",
      "metadata": {
        "colab_type": "text",
        "id": "6SWtkIjhrZwa"
      },
      "source": [
        "### Build the model\n",
        "\n",
        "Let's build our model. Here, we'll use a `Sequential` model with two densely connected hidden layers, and an output layer that returns a single, continuous value. The model building steps are wrapped in a function, `build_model`, since we'll create a second model, later on."
      ]
    },
    {
      "cell_type": "code",
      "metadata": {
        "id": "vPSvYP6mhHBM",
        "colab_type": "code",
        "colab": {}
      },
      "source": [
        "STEPS_PER_EPOCH=len(train_dataset)/500\n",
        "lr_schedule = tf.keras.optimizers.schedules.InverseTimeDecay(\n",
        "  0.001,\n",
        "  decay_steps=STEPS_PER_EPOCH*1000,\n",
        "  decay_rate=1,\n",
        "  staircase=False)\n",
        "\n",
        "def get_optimizer():\n",
        "  return tf.keras.optimizers.Adam(lr_schedule)"
      ],
      "execution_count": null,
      "outputs": []
    },
    {
      "cell_type": "code",
      "metadata": {
        "colab_type": "code",
        "id": "c26juK7ZG8j-",
        "colab": {}
      },
      "source": [
        "def build_model():\n",
        "  model = keras.Sequential([\n",
        "    layers.Dense(200, activation=tf.nn.swish, input_shape=[len(train_dataset.keys())]),\n",
        "    layers.Dense(150, activation=tf.nn.swish),\n",
        "    layers.Dense(150, activation=tf.nn.swish),\n",
        "    layers.Dense(125, activation=tf.nn.swish),\n",
        "    layers.Dense(125, activation=tf.nn.swish),\n",
        "    layers.Dense(100, activation=tf.nn.swish),\n",
        "    # layers.Dense(100, activation=tf.nn.swish),\n",
        "    layers.Dense(75, activation=tf.nn.swish),\n",
        "    layers.Dense(50, activation=tf.nn.swish),\n",
        "    layers.Dense(25, activation=tf.nn.swish),\n",
        "    layers.Dense(5, activation=tf.nn.swish),\n",
        "    layers.Dense(1)\n",
        "  ])\n",
        "\n",
        " # optimizer = tf.keras.optimizers.RMSprop(0.0001)\n",
        "\n",
        "  model.compile(loss='mean_squared_error',\n",
        "                optimizer=get_optimizer(),\n",
        "                metrics=['mean_absolute_error', 'mean_squared_error'])\n",
        "  return model"
      ],
      "execution_count": null,
      "outputs": []
    },
    {
      "cell_type": "code",
      "metadata": {
        "id": "UJPFdqJ3fUbG",
        "colab_type": "code",
        "colab": {}
      },
      "source": [
        "    # layers.Dense(70, activation=tf.nn.swish),\n",
        "    # layers.Dense(60, activation=tf.nn.swish),\n",
        "    # layers.Dense(50, activation=tf.nn.swish),\n",
        "    # layers.Dense(40, activation=tf.nn.swish),\n",
        "    # layers.Dense(30, activation=tf.nn.swish),\n",
        "    # layers.Dense(20, activation=tf.nn.swish),\n",
        "    # layers.Dense(10, activation=tf.nn.swish),"
      ],
      "execution_count": null,
      "outputs": []
    },
    {
      "cell_type": "code",
      "metadata": {
        "colab_type": "code",
        "id": "cGbPb-PHGbhs",
        "colab": {}
      },
      "source": [
        "model = build_model()"
      ],
      "execution_count": null,
      "outputs": []
    },
    {
      "cell_type": "markdown",
      "metadata": {
        "id": "AUx4uYxk0GEJ",
        "colab_type": "text"
      },
      "source": [
        "## If there is a model saved on google drive execute the next block"
      ]
    },
    {
      "cell_type": "code",
      "metadata": {
        "id": "y3Ir9yi8z0VA",
        "colab_type": "code",
        "colab": {}
      },
      "source": [
        "from tensorflow.keras.models import load_model\n",
        "\n",
        "# del model \n",
        "folder=str('theory_experiment_mix/')\n",
        "model_name=str('All_surf_all_vary_175points_trial_1.h5')\n",
        "model = load_model(str(\"/content/drive/My Drive/DropLev/MachineLearningModels/\"+folder+model_name))\n"
      ],
      "execution_count": null,
      "outputs": []
    },
    {
      "cell_type": "markdown",
      "metadata": {
        "colab_type": "text",
        "id": "Sj49Og4YGULr"
      },
      "source": [
        "### Inspect the model\n",
        "\n",
        "Use the `.summary` method to print a simple description of the model"
      ]
    },
    {
      "cell_type": "code",
      "metadata": {
        "colab_type": "code",
        "id": "ReAD0n6MsFK-",
        "colab": {}
      },
      "source": [
        "model.summary()"
      ],
      "execution_count": null,
      "outputs": []
    },
    {
      "cell_type": "markdown",
      "metadata": {
        "colab_type": "text",
        "id": "Vt6W50qGsJAL"
      },
      "source": [
        "\n",
        "Now try out the model. Take a batch of `10` examples from the training data and call `model.predict` on it."
      ]
    },
    {
      "cell_type": "code",
      "metadata": {
        "colab_type": "code",
        "id": "-d-gBaVtGTSC",
        "colab": {}
      },
      "source": [
        "example_batch = normed_train_data[:10]\n",
        "example_result = model.predict(example_batch)\n",
        "example_result"
      ],
      "execution_count": null,
      "outputs": []
    },
    {
      "cell_type": "markdown",
      "metadata": {
        "colab_type": "text",
        "id": "QlM8KrSOsaYo"
      },
      "source": [
        "It seems to be working, and it produces a result of the expected shape and type."
      ]
    },
    {
      "cell_type": "markdown",
      "metadata": {
        "colab_type": "text",
        "id": "0-qWCsh6DlyH"
      },
      "source": [
        "### Train the model\n",
        "\n",
        "Train the model for 1000 epochs, and record the training and validation accuracy in the `history` object."
      ]
    },
    {
      "cell_type": "code",
      "metadata": {
        "colab_type": "code",
        "id": "sD7qHCmNIOY0",
        "colab": {}
      },
      "source": [
        "# Display training progress by printing a single dot for each completed epoch\n",
        "class PrintDot(keras.callbacks.Callback):\n",
        "  def on_epoch_end(self, epoch, logs):\n",
        "    if epoch % 55 == 0: print('')\n",
        "    print('.', end='')\n",
        "\n",
        "\n",
        "EPOCHS = 1000\n",
        "\n",
        "\n",
        "early_stop = keras.callbacks.EarlyStopping(monitor='val_loss',min_delta=0, patience=75, verbose=0, mode='auto')\n",
        "\n",
        "\n",
        "history = model.fit(\n",
        "  normed_train_data, train_labels,\n",
        "  epochs=EPOCHS, validation_split = 0.2, verbose=0,\n",
        "  callbacks=[early_stop, PrintDot()])  # callbacks=callbacks_list"
      ],
      "execution_count": null,
      "outputs": []
    },
    {
      "cell_type": "markdown",
      "metadata": {
        "colab_type": "text",
        "id": "tQm3pc0FYPQB"
      },
      "source": [
        "Visualize the model's training progress using the stats stored in the `history` object."
      ]
    },
    {
      "cell_type": "code",
      "metadata": {
        "colab_type": "code",
        "id": "4Xj91b-dymEy",
        "colab": {}
      },
      "source": [
        "hist = pd.DataFrame(history.history)\n",
        "hist['epoch'] = history.epoch\n",
        "hist.tail()"
      ],
      "execution_count": null,
      "outputs": []
    },
    {
      "cell_type": "markdown",
      "metadata": {
        "colab_type": "text",
        "id": "AqsuANc11FYv"
      },
      "source": [
        "Let's automatically stop training when the validation score doesn't improve. We'll use an *EarlyStopping callback* that tests a training condition for  every epoch. If a set amount of epochs elapses without showing improvement, then automatically stop the training.\n",
        "\n",
        "You can learn more about this callback [here](https://www.tensorflow.org/versions/master/api_docs/python/tf/keras/callbacks/EarlyStopping)."
      ]
    },
    {
      "cell_type": "code",
      "metadata": {
        "colab_type": "code",
        "id": "B6XriGbVPh2t",
        "colab": {}
      },
      "source": [
        "def plot_history(history):\n",
        "  hist = pd.DataFrame(history.history)\n",
        "  hist['epoch'] = history.epoch\n",
        "\n",
        "  plt.figure()\n",
        "  plt.xlabel('Epoch')\n",
        "  plt.ylabel('Mean Abs Error [ST]')\n",
        "  plt.plot(hist['epoch'], hist['mean_absolute_error'],\n",
        "           label='Train Error')\n",
        "  plt.plot(hist['epoch'], hist['val_mean_absolute_error'],\n",
        "           label = 'Val Error')\n",
        "  plt.ylim([0,1])\n",
        "  plt.legend()\n",
        "\n",
        "  plt.figure()\n",
        "  plt.xlabel('Epoch')\n",
        "  plt.ylabel('Mean Square Error [$ST^2$]')\n",
        "  plt.plot(hist['epoch'], hist['mean_squared_error'],\n",
        "           label='Train Error')\n",
        "  plt.plot(hist['epoch'], hist['val_mean_squared_error'],\n",
        "           label = 'Val Error')\n",
        "  plt.ylim([0,2])\n",
        "  plt.legend()\n",
        "  plt.show()\n",
        "\n",
        "\n",
        "plot_history(history)"
      ],
      "execution_count": null,
      "outputs": []
    },
    {
      "cell_type": "markdown",
      "metadata": {
        "colab_type": "text",
        "id": "3St8-DmrX8P4"
      },
      "source": [
        "Let's see how well the model generalizes by using the **test** set, which we did not use when training the model.  This tells us how well we can expect the model to predict when we use it in the real world."
      ]
    },
    {
      "cell_type": "code",
      "metadata": {
        "colab_type": "code",
        "id": "jl_yNr5n1kms",
        "colab": {}
      },
      "source": [
        "loss, mae, mse = model.evaluate(normed_test_data, test_labels, verbose=0)\n",
        "print(\"Testing set Mean Abs Error: {:5.2f} mN/m\".format(mae))\n",
        "# keras.metrics.accuracy(normed_test_data, test_labels)"
      ],
      "execution_count": null,
      "outputs": []
    },
    {
      "cell_type": "markdown",
      "metadata": {
        "colab_type": "text",
        "id": "ft603OzXuEZC"
      },
      "source": [
        "### Make predictions\n",
        "\n",
        "Finally, predict volume values using data in the testing set:"
      ]
    },
    {
      "cell_type": "code",
      "metadata": {
        "colab_type": "code",
        "id": "Xe7RXH3N3CWU",
        "colab": {}
      },
      "source": [
        "test_predictions = model.predict(normed_test_data).flatten()\n",
        "\n",
        "plt.scatter(test_labels, test_predictions)\n",
        "plt.title('Normalized test data')\n",
        "plt.xlabel('True Values [surface tension - mN/m]')\n",
        "plt.ylabel('Predictions [surface tension - mN/m]')\n",
        "plt.axis('equal')\n",
        "plt.axis('square')\n",
        "plt.xlim([20,75])\n",
        "plt.ylim([20,75])\n",
        "_ = plt.plot([-100, 100], [-100, 100])\n",
        "plt.show()\n",
        "\n",
        "test_predictions2 = model.predict(normed_train_data).flatten()\n",
        "\n",
        "plt.scatter(train_labels, test_predictions2)\n",
        "plt.title('Normalized training data')\n",
        "plt.xlabel('True Values [surface tension - mN/m]')\n",
        "plt.ylabel('Predictions [surface tension - mN/m]')\n",
        "plt.axis('equal')\n",
        "plt.axis('square')\n",
        "plt.xlim([20,75])\n",
        "plt.ylim([20,75])\n",
        "_ = plt.plot([-100, 100], [-100, 100])\n",
        "plt.show()\n"
      ],
      "execution_count": null,
      "outputs": []
    },
    {
      "cell_type": "code",
      "metadata": {
        "colab_type": "code",
        "id": "f-OHX4DiXd8x",
        "colab": {}
      },
      "source": [
        "error = test_predictions - test_labels\n",
        "plt.hist(error, bins = 50)\n",
        "plt.xlabel(\"Prediction Error [surface tension - mN/m]\")\n",
        "_ = plt.ylabel(\"Count\")\n",
        "# plt.xlim(-20, 20)\n",
        "plt.show()"
      ],
      "execution_count": null,
      "outputs": []
    },
    {
      "cell_type": "markdown",
      "metadata": {
        "id": "r-i0Bq5JF0nv",
        "colab_type": "text"
      },
      "source": [
        "# Saving the final Model"
      ]
    },
    {
      "cell_type": "markdown",
      "metadata": {
        "id": "G8FBhOnbGK65",
        "colab_type": "text"
      },
      "source": [
        "When you are satisfied with the model and the accuracy continue from here:"
      ]
    },
    {
      "cell_type": "markdown",
      "metadata": {
        "id": "BspL3Z6-GPaa",
        "colab_type": "text"
      },
      "source": [
        "Saving the model in a **SavedModel** format"
      ]
    },
    {
      "cell_type": "code",
      "metadata": {
        "id": "VwWrwBcZGLnZ",
        "colab_type": "code",
        "colab": {}
      },
      "source": [
        "!pip install -q pyyaml h5py  # Required to save models in HDF5 format"
      ],
      "execution_count": null,
      "outputs": []
    },
    {
      "cell_type": "code",
      "metadata": {
        "id": "6BR7rbL5GXku",
        "colab_type": "code",
        "colab": {}
      },
      "source": [
        "import os"
      ],
      "execution_count": null,
      "outputs": []
    },
    {
      "cell_type": "code",
      "metadata": {
        "id": "MzumSsZfGYCp",
        "colab_type": "code",
        "colab": {}
      },
      "source": [
        "# Save the entire model as a SavedModel.\n",
        "folder=str('theory_experiment_mix/')\n",
        "filename=str('All_surf_all_vary_175points_trial_1.h5')\n",
        "!mkdir -p '/content/drive/My Drive/DropLev/MachineLearningModels' #Ceates a folder named \"MachineLearningModels\"\n",
        "model.save('/content/drive/My Drive/DropLev/MachineLearningModels/'+folder+filename)  #Saves the file"
      ],
      "execution_count": null,
      "outputs": []
    },
    {
      "cell_type": "markdown",
      "metadata": {
        "id": "pJzKbb1EGgUE",
        "colab_type": "text"
      },
      "source": [
        "The SavedModel format is a directory containing a protobuf binary and a Tensorflow checkpoint. Inspect the saved model directory:"
      ]
    },
    {
      "cell_type": "code",
      "metadata": {
        "id": "9yGUiOkfGgen",
        "colab_type": "code",
        "colab": {}
      },
      "source": [
        "# DropLev_st_prediction_model directory\n",
        "#!ls content/drive/My Drive/DropLev/MachineLearningModels\n",
        "\n",
        "# Contains an assets folder, saved_model.pb, and variables folder.\n",
        "#!ls content/drive/My Drive/DropLev/MachineLearningModels/SDS_1.h5"
      ],
      "execution_count": null,
      "outputs": []
    },
    {
      "cell_type": "markdown",
      "metadata": {
        "id": "n2IWIiOYGgqK",
        "colab_type": "text"
      },
      "source": [
        "Saving the model in a **HDF5** format"
      ]
    },
    {
      "cell_type": "code",
      "metadata": {
        "id": "H_Zl4tVVGg3J",
        "colab_type": "code",
        "colab": {}
      },
      "source": [
        "# Save the entire model to a HDF5 file.\n",
        "# The '.h5' extension indicates that the model should be saved to HDF5.\n",
        "#model.save('content/drive/My Drive/DropLev/MachineLearningModels/'+filename) "
      ],
      "execution_count": null,
      "outputs": []
    },
    {
      "cell_type": "markdown",
      "metadata": {
        "id": "oZcqRI0r9B4r",
        "colab_type": "text"
      },
      "source": [
        "# Reload a fresh Keras model from the saved model:"
      ]
    },
    {
      "cell_type": "markdown",
      "metadata": {
        "id": "W6mEqNn497op",
        "colab_type": "text"
      },
      "source": [
        "For **SavedModel** format"
      ]
    },
    {
      "cell_type": "code",
      "metadata": {
        "id": "c4vUC4ep8_VA",
        "colab_type": "code",
        "colab": {}
      },
      "source": [
        "new_model = tf.keras.models.load_model('/content/drive/My Drive/DropLev/MachineLearningModels/'+filename)\n",
        "\n",
        "# Check its architecture\n",
        "new_model.summary()"
      ],
      "execution_count": null,
      "outputs": []
    },
    {
      "cell_type": "markdown",
      "metadata": {
        "id": "myilbB_P9_dO",
        "colab_type": "text"
      },
      "source": [
        "For **HDF5** format"
      ]
    },
    {
      "cell_type": "code",
      "metadata": {
        "id": "94ZjuhOV-Dfk",
        "colab_type": "code",
        "colab": {}
      },
      "source": [
        "# Recreate the exact same model, including its weights and the optimizer\n",
        "new_model = tf.keras.models.load_model('DropLev_st_prediction_model.h5')\n",
        "\n",
        "# Show the model architecture\n",
        "new_model.summary()"
      ],
      "execution_count": null,
      "outputs": []
    },
    {
      "cell_type": "markdown",
      "metadata": {
        "id": "j1K6xGBg9K4A",
        "colab_type": "text"
      },
      "source": [
        "Evaluate the restored model (for both formats)"
      ]
    },
    {
      "cell_type": "code",
      "metadata": {
        "id": "if5rjrz79NPI",
        "colab_type": "code",
        "colab": {}
      },
      "source": [
        "# Evaluation\n",
        "loss, mae, mse = new_model.evaluate(normed_test_data, test_labels, verbose=0)\n",
        "print('Restored model, Mean absolute error: {:5.2f}'.format(mae))\n",
        "\n",
        "print(new_model.predict(normed_test_data).shape)"
      ],
      "execution_count": null,
      "outputs": []
    }
  ]
}