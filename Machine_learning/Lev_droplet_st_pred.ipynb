{
  "nbformat": 4,
  "nbformat_minor": 0,
  "metadata": {
    "colab": {
      "name": "Lev droplet_st_pred.ipynb",
      "provenance": [],
      "collapsed_sections": [],
      "toc_visible": true,
      "include_colab_link": true
    },
    "kernelspec": {
      "name": "python3",
      "display_name": "Python 3"
    },
    "accelerator": "GPU"
  },
  "cells": [
    {
      "cell_type": "markdown",
      "metadata": {
        "id": "view-in-github",
        "colab_type": "text"
      },
      "source": [
        "<a href=\"https://colab.research.google.com/github/sargyri/Drop_Lev/blob/master/Machine_learning/Lev_droplet_st_pred.ipynb\" target=\"_parent\"><img src=\"https://colab.research.google.com/assets/colab-badge.svg\" alt=\"Open In Colab\"/></a>"
      ]
    },
    {
      "cell_type": "markdown",
      "metadata": {
        "id": "FhGuhbZ6M5tl"
      },
      "source": [
        "##### Copyright 2018 The TensorFlow Authors."
      ]
    },
    {
      "cell_type": "code",
      "metadata": {
        "cellView": "form",
        "id": "AwOEIRJC6Une"
      },
      "source": [
        "#@title Licensed under the Apache License, Version 2.0 (the \"License\");\n",
        "# you may not use this file except in compliance with the License.\n",
        "# You may obtain a copy of the License at\n",
        "#\n",
        "# https://www.apache.org/licenses/LICENSE-2.0\n",
        "#\n",
        "# Unless required by applicable law or agreed to in writing, software\n",
        "# distributed under the License is distributed on an \"AS IS\" BASIS,\n",
        "# WITHOUT WARRANTIES OR CONDITIONS OF ANY KIND, either express or implied.\n",
        "# See the License for the specific language governing permissions and\n",
        "# limitations under the License."
      ],
      "execution_count": null,
      "outputs": []
    },
    {
      "cell_type": "code",
      "metadata": {
        "cellView": "form",
        "id": "KyPEtTqk6VdG"
      },
      "source": [
        "#@title MIT License\n",
        "#\n",
        "# Copyright (c) 2017 François Chollet\n",
        "#\n",
        "# Permission is hereby granted, free of charge, to any person obtaining a\n",
        "# copy of this software and associated documentation files (the \"Software\"),\n",
        "# to deal in the Software without restriction, including without limitation\n",
        "# the rights to use, copy, modify, merge, publish, distribute, sublicense,\n",
        "# and/or sell copies of the Software, and to permit persons to whom the\n",
        "# Software is furnished to do so, subject to the following conditions:\n",
        "#\n",
        "# The above copyright notice and this permission notice shall be included in\n",
        "# all copies or substantial portions of the Software.\n",
        "#\n",
        "# THE SOFTWARE IS PROVIDED \"AS IS\", WITHOUT WARRANTY OF ANY KIND, EXPRESS OR\n",
        "# IMPLIED, INCLUDING BUT NOT LIMITED TO THE WARRANTIES OF MERCHANTABILITY,\n",
        "# FITNESS FOR A PARTICULAR PURPOSE AND NONINFRINGEMENT. IN NO EVENT SHALL\n",
        "# THE AUTHORS OR COPYRIGHT HOLDERS BE LIABLE FOR ANY CLAIM, DAMAGES OR OTHER\n",
        "# LIABILITY, WHETHER IN AN ACTION OF CONTRACT, TORT OR OTHERWISE, ARISING\n",
        "# FROM, OUT OF OR IN CONNECTION WITH THE SOFTWARE OR THE USE OR OTHER\n",
        "# DEALINGS IN THE SOFTWARE."
      ],
      "execution_count": null,
      "outputs": []
    },
    {
      "cell_type": "markdown",
      "metadata": {
        "id": "EIdT9iu_Z4Rb"
      },
      "source": [
        "# Lev Droplet "
      ]
    },
    {
      "cell_type": "markdown",
      "metadata": {
        "id": "bBIlTPscrIT9"
      },
      "source": [
        "<table class=\"tfo-notebook-buttons\" align=\"left\">\n",
        "  <td>\n",
        "    <a target=\"_blank\" href=\"https://www.tensorflow.org/tutorials/keras/basic_regression\"><img src=\"https://www.tensorflow.org/images/tf_logo_32px.png\" />View on TensorFlow.org</a>\n",
        "  </td>\n",
        "  <td>\n",
        "    <a target=\"_blank\" href=\"https://colab.research.google.com/github/tensorflow/docs/blob/r2.0rc/site/en/tutorials/keras/basic_regression.ipynb\"><img src=\"https://www.tensorflow.org/images/colab_logo_32px.png\" />Run in Google Colab</a>\n",
        "  </td>\n",
        "  <td>\n",
        "    <a target=\"_blank\" href=\"https://github.com/tensorflow/docs/blob/r2.0rc/site/en/tutorials/keras/basic_regression.ipynb\"><img src=\"https://www.tensorflow.org/images/GitHub-Mark-32px.png\" />View source on GitHub</a>\n",
        "  </td>\n",
        "</table>"
      ]
    },
    {
      "cell_type": "markdown",
      "metadata": {
        "id": "AHp3M9ZmrIxj"
      },
      "source": [
        "Determination of ST by NN using coords (rho,theta, volume, volt)"
      ]
    },
    {
      "cell_type": "code",
      "metadata": {
        "id": "moB4tpEHxKB3"
      },
      "source": [
        "# Use seaborn for pairplot\n",
        "#!pip install seaborn\n",
        "#!pip install talos\n",
        "#!pip install -q  --no-deps tensorflow-addons~=0.7"
      ],
      "execution_count": null,
      "outputs": []
    },
    {
      "cell_type": "code",
      "metadata": {
        "id": "0_CJRT6p-bHH",
        "colab": {
          "base_uri": "https://localhost:8080/"
        },
        "outputId": "5e3d726e-c9d8-44c1-fd84-9bd28cc420f1"
      },
      "source": [
        "!pip install lmfit\n",
        "!pip install tensorflow_addons"
      ],
      "execution_count": 1,
      "outputs": [
        {
          "output_type": "stream",
          "text": [
            "Collecting lmfit\n",
            "\u001b[?25l  Downloading https://files.pythonhosted.org/packages/67/70/0ef97b9d67b63efce0b720563e1c87ebfc15b565e89adde0c66c1025c848/lmfit-1.0.2.tar.gz (306kB)\n",
            "\u001b[K     |████████████████████████████████| 307kB 8.7MB/s \n",
            "\u001b[?25hCollecting asteval>=0.9.16\n",
            "\u001b[?25l  Downloading https://files.pythonhosted.org/packages/32/06/efc5ea08dc44836abbabbd949d944d6fde08312ce756557e16ab1ca477a4/asteval-0.9.23.tar.gz (55kB)\n",
            "\u001b[K     |████████████████████████████████| 61kB 10.2MB/s \n",
            "\u001b[?25hRequirement already satisfied: numpy>=1.16 in /usr/local/lib/python3.7/dist-packages (from lmfit) (1.19.5)\n",
            "Requirement already satisfied: scipy>=1.2 in /usr/local/lib/python3.7/dist-packages (from lmfit) (1.4.1)\n",
            "Collecting uncertainties>=3.0.1\n",
            "\u001b[?25l  Downloading https://files.pythonhosted.org/packages/45/41/fc7e7b73b603e7c2c9e040b7aa8caf4a88d74b6faa567601ed82b6f0d8e1/uncertainties-3.1.5-py2.py3-none-any.whl (246kB)\n",
            "\u001b[K     |████████████████████████████████| 256kB 33.6MB/s \n",
            "\u001b[?25hRequirement already satisfied: future in /usr/local/lib/python3.7/dist-packages (from uncertainties>=3.0.1->lmfit) (0.16.0)\n",
            "Building wheels for collected packages: lmfit, asteval\n",
            "  Building wheel for lmfit (setup.py) ... \u001b[?25l\u001b[?25hdone\n",
            "  Created wheel for lmfit: filename=lmfit-1.0.2-cp37-none-any.whl size=85265 sha256=63dbc29f4660e035036e0e8c2043eca1b01c18ea88981bde0c55cfae3eb1ba03\n",
            "  Stored in directory: /root/.cache/pip/wheels/d4/5e/db/d9f5987d9f15bf910feb5e0274ac601d5f2161dc78aedfacfa\n",
            "  Building wheel for asteval (setup.py) ... \u001b[?25l\u001b[?25hdone\n",
            "  Created wheel for asteval: filename=asteval-0.9.23-cp37-none-any.whl size=17419 sha256=71ec130dcb2c4e06e9d50d4b3bf163038e2cbdb84dad7feba44bbc74d1b5745f\n",
            "  Stored in directory: /root/.cache/pip/wheels/56/d6/43/4b5d8a9fd98b976031768673658c8b8d08dc9dcc0fa1907ad0\n",
            "Successfully built lmfit asteval\n",
            "Installing collected packages: asteval, uncertainties, lmfit\n",
            "Successfully installed asteval-0.9.23 lmfit-1.0.2 uncertainties-3.1.5\n",
            "Collecting tensorflow_addons\n",
            "\u001b[?25l  Downloading https://files.pythonhosted.org/packages/74/e3/56d2fe76f0bb7c88ed9b2a6a557e25e83e252aec08f13de34369cd850a0b/tensorflow_addons-0.12.1-cp37-cp37m-manylinux2010_x86_64.whl (703kB)\n",
            "\u001b[K     |████████████████████████████████| 706kB 7.8MB/s \n",
            "\u001b[?25hRequirement already satisfied: typeguard>=2.7 in /usr/local/lib/python3.7/dist-packages (from tensorflow_addons) (2.7.1)\n",
            "Installing collected packages: tensorflow-addons\n",
            "Successfully installed tensorflow-addons-0.12.1\n"
          ],
          "name": "stdout"
        }
      ]
    },
    {
      "cell_type": "code",
      "metadata": {
        "id": "1rRo8oNqZ-Rj",
        "colab": {
          "base_uri": "https://localhost:8080/"
        },
        "outputId": "a5626da6-c439-4ae7-842d-e5dd284e6957"
      },
      "source": [
        "from __future__ import absolute_import, division, print_function, unicode_literals\n",
        "\n",
        "import pathlib\n",
        "import pprint\n",
        "import os\n",
        "import matplotlib.pyplot as plt\n",
        "import pandas as pd\n",
        "import numpy as np\n",
        "\n",
        "import seaborn as sns\n",
        "\n",
        "import tensorflow.compat.v1 as tf\n",
        "tf.disable_v2_behavior()\n",
        "from tensorflow import keras\n",
        "from tensorflow.keras import layers\n",
        "\n",
        "from tensorflow.keras.callbacks import ModelCheckpoint\n",
        "\n",
        "import tensorflow_addons as tfa\n",
        "\n",
        "print(tf.__version__)\n"
      ],
      "execution_count": 2,
      "outputs": [
        {
          "output_type": "stream",
          "text": [
            "WARNING:tensorflow:From /usr/local/lib/python3.7/dist-packages/tensorflow/python/compat/v2_compat.py:96: disable_resource_variables (from tensorflow.python.ops.variable_scope) is deprecated and will be removed in a future version.\n",
            "Instructions for updating:\n",
            "non-resource variables are not supported in the long term\n",
            "2.4.1\n"
          ],
          "name": "stdout"
        }
      ]
    },
    {
      "cell_type": "markdown",
      "metadata": {
        "id": "TvCBPgR-gWXl"
      },
      "source": [
        "Run the next code box only if google drive is not mounted to colab"
      ]
    },
    {
      "cell_type": "code",
      "metadata": {
        "id": "7dA-joJRPNiJ",
        "colab": {
          "base_uri": "https://localhost:8080/"
        },
        "outputId": "669d983e-fe61-4343-c899-67d4526d846c"
      },
      "source": [
        "from google.colab import drive\n",
        "drive.mount('/content/drive')"
      ],
      "execution_count": 5,
      "outputs": [
        {
          "output_type": "stream",
          "text": [
            "Mounted at /content/drive\n"
          ],
          "name": "stdout"
        }
      ]
    },
    {
      "cell_type": "markdown",
      "metadata": {
        "id": "lMshRx3PgwcZ"
      },
      "source": [
        "If it **is** mounted continue from here on"
      ]
    },
    {
      "cell_type": "markdown",
      "metadata": {
        "id": "OgUp-UtJe3dA"
      },
      "source": [
        "Check the connection to google's **GPU**"
      ]
    },
    {
      "cell_type": "code",
      "metadata": {
        "id": "dgZHRBKye0v-",
        "colab": {
          "base_uri": "https://localhost:8080/"
        },
        "outputId": "e2214a66-9d15-49fd-fcc5-0ffbff0cff4d"
      },
      "source": [
        "%tensorflow_version 2.x\n",
        "import tensorflow as tf\n",
        "device_name = tf.test.gpu_device_name()\n",
        "if device_name != '/device:GPU:0':\n",
        "  raise SystemError('GPU device not found')\n",
        "print('Found GPU at: {}'.format(device_name))"
      ],
      "execution_count": 6,
      "outputs": [
        {
          "output_type": "stream",
          "text": [
            "Found GPU at: /device:GPU:0\n"
          ],
          "name": "stdout"
        }
      ]
    },
    {
      "cell_type": "markdown",
      "metadata": {
        "id": "4x6T3kToe53b"
      },
      "source": [
        "**Or** check the connection to google's **TPU**"
      ]
    },
    {
      "cell_type": "code",
      "metadata": {
        "id": "3IEVK-KFxi5Z"
      },
      "source": [
        "if 'COLAB_TPU_ADDR' not in os.environ:\n",
        "  print('ERROR: Not connected to a TPU runtime; please see the first cell in this notebook for instructions!')\n",
        "else:\n",
        "  tpu_address = 'grpc://' + os.environ['COLAB_TPU_ADDR']\n",
        "  print ('TPU address is', tpu_address)\n",
        "\n",
        "  with tf.Session(tpu_address) as session:\n",
        "    devices = session.list_devices()\n",
        "    \n",
        "  print('TPU devices:')\n",
        "  pprint.pprint(devices)"
      ],
      "execution_count": null,
      "outputs": []
    },
    {
      "cell_type": "markdown",
      "metadata": {
        "id": "gFh9ne3FZ-On"
      },
      "source": [
        "### Get the data\n",
        "First download the dataset!\n",
        "\n",
        "**Option 1**: Upload files"
      ]
    },
    {
      "cell_type": "code",
      "metadata": {
        "id": "K7-5GSURZTdh"
      },
      "source": [
        "from google.colab import files\n",
        "uploaded = files.upload()"
      ],
      "execution_count": null,
      "outputs": []
    },
    {
      "cell_type": "code",
      "metadata": {
        "id": "l83INVYlZsND"
      },
      "source": [
        "import io\n",
        "csvfilename=str('TritonX100_conci_0.0100_all.csv')\n",
        "input = pd.read_csv(io.BytesIO(uploaded[csvfilename]))\n",
        "#input = pd.read_csv(csvfilename, sep=\"\\t\")\n",
        "# Dataset is now stored in a Pandas Dataframe\n",
        "input.shape"
      ],
      "execution_count": null,
      "outputs": []
    },
    {
      "cell_type": "markdown",
      "metadata": {
        "id": "WCobdL9vDRXH"
      },
      "source": [
        "**Option 2**: Import files from drive"
      ]
    },
    {
      "cell_type": "code",
      "metadata": {
        "id": "Z-NFT5ddEOdC"
      },
      "source": [
        "#From the drive folder that is mounted to collab go to the file that you are interested in, \n",
        "#right click and copy the path of the file. Paste it in csvfilename:\n",
        "path=str('/content/drive/My Drive/DropLev/Levitator_2/Training/')\n",
        "\n",
        "fileSDS1=pd.read_csv(str(path+'SDS/SDS_conci_0.01054_all.csv'), sep=\"\\t\")\n",
        "fileSDS2=pd.read_csv(str(path+'SDS/SDS_conci_0.02108_all.csv'), sep='\\t')\n",
        "fileSDS3=pd.read_csv(str(path+'SDS/SDS_conci_0.04273_all.csv'), sep='\\t')\n",
        "fileSDS4=pd.read_csv(str(path+'SDS/SDS_conci_0.08828_all.csv'), sep=\"\\t\")\n",
        "fileSDS5=pd.read_csv(str(path+'SDS/SDS_conci_0.25000_all.csv'), sep=\"\\t\")\n",
        "fileSDS6=pd.read_csv(str(path+'SDS/SDS_conci_0.50000_all.csv'), sep=\"\\t\")\n",
        "fileSDS7=pd.read_csv(str(path+'SDS/SDS_conci_0.75000_all.csv'), sep=\"\\t\")\n",
        "fileSDS8=pd.read_csv(str(path+'SDS/SDS_conci_1.00000_all.csv'), sep=\"\\t\")\n",
        "fileSDS9=pd.read_csv(str(path+'SDS/SDS_conci_1.25000_all.csv'), sep=\"\\t\")\n",
        "fileSDS10=pd.read_csv(str(path+'SDS/SDS_conci_1.50000_all.csv'), sep=\"\\t\")\n",
        "fileSDS11=pd.read_csv(str(path+'SDS/SDS_conci_2.00000_all.csv'), sep=\"\\t\")\n",
        "fileSDS12=pd.read_csv(str(path+'SDS/SDS_conci_2.50000_all.csv'), sep=\"\\t\")\n",
        "fileSDS13=pd.read_csv(str(path+'SDS/SDS_conci_3.00000_all.csv'), sep=\"\\t\")\n",
        "fileSDS14=pd.read_csv(str(path+'SDS/SDS_conci_3.50000_all.csv'), sep=\"\\t\")\n",
        "fileSDS15=pd.read_csv(str(path+'SDS/SDS_conci_4.00000_all.csv'), sep=\"\\t\")\n",
        "fileSDS16=pd.read_csv(str(path+'SDS/SDS_conci_4.50000_all.csv'), sep=\"\\t\")\n",
        "fileSDS17=pd.read_csv(str(path+'SDS/SDS_conci_5.50000_all.csv'), sep=\"\\t\")\n",
        "fileSDS18=pd.read_csv(str(path+'SDS/SDS_conci_6.50000_all.csv'), sep=\"\\t\")\n",
        "fileSDS19=pd.read_csv(str(path+'SDS/SDS_conci_7.50000_all.csv'), sep=\"\\t\")\n",
        "fileSDS20=pd.read_csv(str(path+'SDS/SDS_conci_8.50000_all.csv'), sep=\"\\t\")\n",
        "fileSDS21=pd.read_csv(str(path+'SDS/SDS_conci_24.75900_all.csv'), sep=\"\\t\")\n",
        "\n",
        "fileTrit1=pd.read_csv(str(path+'TritonX100/TritonX_conci_0.00250_all.csv'), sep=\"\\t\")\n",
        "fileTrit2=pd.read_csv(str(path+'TritonX100/TritonX_conci_0.00500_all.csv'), sep=\"\\t\")\n",
        "fileTrit3=pd.read_csv(str(path+'TritonX100/TritonX_conci_0.00750_all.csv'), sep=\"\\t\")\n",
        "fileTrit4=pd.read_csv(str(path+'TritonX100/TritonX_conci_0.01000_all.csv'), sep=\"\\t\")\n",
        "fileTrit5=pd.read_csv(str(path+'TritonX100/TritonX_conci_0.01500_all.csv'), sep=\"\\t\")\n",
        "fileTrit6=pd.read_csv(str(path+'TritonX100/TritonX_conci_0.02000_all.csv'), sep=\"\\t\")\n",
        "fileTrit7=pd.read_csv(str(path+'TritonX100/TritonX_conci_0.02500_all.csv'), sep=\"\\t\")\n",
        "fileTrit8=pd.read_csv(str(path+'TritonX100/TritonX_conci_0.03500_all.csv'), sep=\"\\t\")\n",
        "fileTrit9=pd.read_csv(str(path+'TritonX100/TritonX_conci_0.05000_all.csv'), sep=\"\\t\")\n",
        "fileTrit10=pd.read_csv(str(path+'TritonX100/TritonX_conci_0.07500_all.csv'), sep=\"\\t\")\n",
        "fileTrit11=pd.read_csv(str(path+'TritonX100/TritonX_conci_0.10000_all.csv'), sep=\"\\t\")\n",
        "fileTrit12=pd.read_csv(str(path+'TritonX100/TritonX_conci_0.12500_all.csv'), sep=\"\\t\")\n",
        "fileTrit13=pd.read_csv(str(path+'TritonX100/TritonX_conci_0.15000_all.csv'), sep=\"\\t\")\n",
        "fileTrit14=pd.read_csv(str(path+'TritonX100/TritonX_conci_0.17500_all.csv'), sep=\"\\t\")\n",
        "fileTrit15=pd.read_csv(str(path+'TritonX100/TritonX_conci_0.20000_all.csv'), sep=\"\\t\")\n",
        "fileTrit16=pd.read_csv(str(path+'TritonX100/TritonX_conci_0.25000_all.csv'), sep=\"\\t\")\n",
        "fileTrit17=pd.read_csv(str(path+'TritonX100/TritonX_conci_0.30000_all.csv'), sep=\"\\t\")\n",
        "fileTrit18=pd.read_csv(str(path+'TritonX100/TritonX_conci_0.45000_all.csv'), sep=\"\\t\")\n",
        "fileTrit19=pd.read_csv(str(path+'TritonX100/TritonX_conci_1.00000_all.csv'), sep=\"\\t\")\n",
        "fileTrit20=pd.read_csv(str(path+'TritonX100/TritonX_conci_3.00000_all.csv'), sep=\"\\t\")\n",
        "fileTrit21=pd.read_csv(str(path+'TritonX100/TritonX_conci_10.00000_all.csv'), sep=\"\\t\")\n",
        "\n",
        "fileCTAB1=pd.read_csv(str(path+'CTAB/CTAB_conci_0.00100_all.csv'), sep=\"\\t\")\n",
        "fileCTAB2=pd.read_csv(str(path+'CTAB/CTAB_conci_0.00200_all.csv'), sep=\"\\t\")\n",
        "fileCTAB3=pd.read_csv(str(path+'CTAB/CTAB_conci_0.00500_all.csv'), sep=\"\\t\")\n",
        "fileCTAB4=pd.read_csv(str(path+'CTAB/CTAB_conci_0.01000_all.csv'), sep=\"\\t\")\n",
        "fileCTAB5=pd.read_csv(str(path+'CTAB/CTAB_conci_0.01500_all.csv'), sep=\"\\t\")\n",
        "fileCTAB6=pd.read_csv(str(path+'CTAB/CTAB_conci_0.05500_all.csv'), sep=\"\\t\")\n",
        "fileCTAB7=pd.read_csv(str(path+'CTAB/CTAB_conci_0.10000_all.csv'), sep=\"\\t\")\n",
        "fileCTAB8=pd.read_csv(str(path+'CTAB/CTAB_conci_0.15000_all.csv'), sep=\"\\t\")\n",
        "fileCTAB9=pd.read_csv(str(path+'CTAB/CTAB_conci_0.20000_all.csv'), sep=\"\\t\")\n",
        "fileCTAB10=pd.read_csv(str(path+'CTAB/CTAB_conci_0.25000_all.csv'), sep=\"\\t\")\n",
        "fileCTAB11=pd.read_csv(str(path+'CTAB/CTAB_conci_0.30000_all.csv'), sep=\"\\t\")\n",
        "fileCTAB12=pd.read_csv(str(path+'CTAB/CTAB_conci_0.40000_all.csv'), sep=\"\\t\")\n",
        "fileCTAB13=pd.read_csv(str(path+'CTAB/CTAB_conci_0.50000_all.csv'), sep=\"\\t\")\n",
        "fileCTAB14=pd.read_csv(str(path+'CTAB/CTAB_conci_0.60000_all.csv'), sep=\"\\t\")\n",
        "fileCTAB15=pd.read_csv(str(path+'CTAB/CTAB_conci_0.70000_all.csv'), sep=\"\\t\")\n",
        "fileCTAB16=pd.read_csv(str(path+'CTAB/CTAB_conci_0.80000_all.csv'), sep=\"\\t\")\n",
        "fileCTAB17=pd.read_csv(str(path+'CTAB/CTAB_conci_0.85000_all.csv'), sep=\"\\t\")\n",
        "fileCTAB18=pd.read_csv(str(path+'CTAB/CTAB_conci_0.90000_all.csv'), sep=\"\\t\")\n",
        "fileCTAB19=pd.read_csv(str(path+'CTAB/CTAB_conci_1.00000_all.csv'), sep=\"\\t\")\n",
        "fileCTAB20=pd.read_csv(str(path+'CTAB/CTAB_conci_5.00000_all.csv'), sep=\"\\t\")\n",
        "fileCTAB21=pd.read_csv(str(path+'CTAB/CTAB_conci_13.15224_all.csv'), sep=\"\\t\")\n",
        "\n",
        "#input=np.vstack([fileSDS1, fileSDS2, fileSDS3, fileSDS4, fileSDS5, fileSDS6, fileSDS7, fileSDS8, fileSDS9, fileSDS10, fileSDS11, \n",
        "                 #fileSDS12, fileSDS13, fileSDS14, fileSDS15, fileSDS16, fileSDS17, fileSDS18, fileSDS19, fileSDS20, fileSDS21,\n",
        "                # fileTrit1, fileTrit2, fileTrit3, fileTrit4, fileTrit5, fileTrit6, fileTrit7, fileTrit8, fileTrit9, fileTrit10, fileTrit11,\n",
        "                # fileTrit12, fileTrit13, fileTrit14, fileTrit15, fileTrit16, fileTrit17, fileTrit18, fileTrit19, fileTrit20, fileTrit21,\n",
        "                # fileCTAB1, fileCTAB2, fileCTAB3, fileCTAB4, fileCTAB5, fileCTAB6, fileCTAB7, fileCTAB8, fileCTAB9, fileCTAB10, fileCTAB11,\n",
        "                # fileCTAB12, fileCTAB13, fileCTAB14, fileCTAB15, fileCTAB16, fileCTAB17, fileCTAB18, fileCTAB19, fileCTAB20, fileCTAB21])\n",
        "# input=np.vstack([fileSDS5, fileSDS6, fileSDS7, fileSDS8, fileSDS9, fileSDS10, fileSDS13, fileSDS14,\n",
        "#                  fileTrit7, fileTrit8, fileTrit9, fileTrit10, fileTrit11,\n",
        "#                  fileCTAB9, fileCTAB10, fileCTAB11, fileCTAB12,fileCTAB13, fileCTAB14])\n",
        "# input.shape\n",
        "\n",
        "#csvfilename=str('/content/drive/My Drive/DropLev/Levitator_2/Training/SDS/SDS_conci_1.50000_ML_data.csv')\n",
        "\n",
        "#input = pd.read_csv(csvfilename)"
      ],
      "execution_count": 7,
      "outputs": []
    },
    {
      "cell_type": "code",
      "metadata": {
        "id": "tzJI27XdjnCq"
      },
      "source": [
        "# input=np.vstack([fileSDS1, fileSDS2, fileSDS3, fileSDS4, fileSDS5, fileSDS6, fileSDS7, fileSDS19, fileSDS20, fileSDS21,\n",
        "#                  fileTrit1, fileTrit2, fileTrit3, fileTrit4, fileTrit5, fileTrit17, fileTrit18, fileTrit19, fileTrit20, fileTrit21,\n",
        "#                  fileCTAB1, fileCTAB2, fileCTAB3, fileCTAB4, fileCTAB5, fileCTAB15, fileCTAB16, fileCTAB17, fileCTAB18, fileCTAB19, fileCTAB20, fileCTAB21])\n",
        "\n",
        "input=np.vstack([fileSDS8, fileSDS9, fileSDS10, fileSDS11, fileSDS12, fileSDS13, fileSDS14, fileSDS15, fileSDS16, fileSDS17, fileSDS18,\n",
        "                 fileTrit6, fileTrit7, fileTrit8, fileTrit9, fileTrit10, fileTrit11, fileTrit12, fileTrit13, fileTrit14, fileTrit15, fileTrit16,\n",
        "                 fileCTAB6, fileCTAB7, fileCTAB8, fileCTAB9, fileCTAB10, fileCTAB11, fileCTAB12, fileCTAB13, fileCTAB14])\n",
        "\n",
        "# input=np.vstack([fileTrit6, fileTrit7, fileTrit8, fileTrit9, fileTrit10, fileTrit11, fileTrit12, fileTrit13, fileTrit14, fileTrit15, fileTrit16])\n",
        "\n",
        "# input=np.vstack([fileCTAB10, fileCTAB11])"
      ],
      "execution_count": 16,
      "outputs": []
    },
    {
      "cell_type": "code",
      "metadata": {
        "id": "wXBoAZocVdj7",
        "colab": {
          "base_uri": "https://localhost:8080/",
          "height": 202
        },
        "outputId": "cbfdb88e-cf95-49d4-8af6-73c5546c3d3f"
      },
      "source": [
        "column_names=[]\n",
        "\n",
        "for i in range(300):\n",
        "  column_names.append('rho_%d' %i)\n",
        "for i in range(300):\n",
        "  column_names.append('phi_%d' %i)\n",
        "for i in range(300):\n",
        "  column_names.append('theta_%d' %i)\n",
        "column_names.append('height')\n",
        "column_names.append('width')  \n",
        "column_names.append('volume')\n",
        "column_names.append('R_sph')\n",
        "column_names.append('volt')\n",
        "column_names.append('Intensity')\n",
        "column_names.append('time')\n",
        "column_names.append('Power')\n",
        "#column_names.append('Ps')\n",
        "#column_names.append('Ps_err')\n",
        "column_names.append('centre_x')\n",
        "column_names.append('centre_y')\n",
        "column_names.append('surfactant_conc')\n",
        "column_names.append('Aspect_Ratio')\n",
        "column_names.append('st')\n",
        "\n",
        "\n",
        "#raw_dataset = pd.read_csv(csvfilename, sep=\"\\t\")\n",
        "#raw_dataset.columns=column_names\n",
        "\n",
        "raw_dataset = pd.DataFrame(data=input,  columns=column_names) \n",
        "              \n",
        "raw_dataset.shape\n",
        "\n",
        "dataset = raw_dataset.copy()\n",
        "\n",
        "for i in range(300):\n",
        " dataset.pop('rho_%d' %i)\n",
        "for i in range(300):\n",
        "  dataset.pop('phi_%d' %i)\n",
        "for i in range(300):\n",
        " dataset.pop('theta_%d' %i)\n",
        "dataset.pop(\"height\")\n",
        "dataset.pop(\"width\")\n",
        "#dataset.pop(\"volume\")\n",
        "dataset.pop(\"R_sph\")\n",
        "dataset.pop('volt')\n",
        "dataset.pop('Intensity')\n",
        "dataset.pop('time')\n",
        "# dataset.pop('Power')\n",
        "#dataset.pop('Ps')\n",
        "#dataset.pop('Ps_err')\n",
        "dataset.pop(\"centre_x\")\n",
        "# dataset.pop(\"centre_y\")\n",
        "dataset.pop('surfactant_conc')\n",
        "# dataset.pop(\"Aspect_Ratio\")\n",
        "\n",
        "dataset.tail()\n",
        "\n",
        "#We keep: volume\tPower\tcentre_y\tAspect_Ratio\tst"
      ],
      "execution_count": 17,
      "outputs": [
        {
          "output_type": "execute_result",
          "data": {
            "text/html": [
              "<div>\n",
              "<style scoped>\n",
              "    .dataframe tbody tr th:only-of-type {\n",
              "        vertical-align: middle;\n",
              "    }\n",
              "\n",
              "    .dataframe tbody tr th {\n",
              "        vertical-align: top;\n",
              "    }\n",
              "\n",
              "    .dataframe thead th {\n",
              "        text-align: right;\n",
              "    }\n",
              "</style>\n",
              "<table border=\"1\" class=\"dataframe\">\n",
              "  <thead>\n",
              "    <tr style=\"text-align: right;\">\n",
              "      <th></th>\n",
              "      <th>volume</th>\n",
              "      <th>Power</th>\n",
              "      <th>centre_y</th>\n",
              "      <th>Aspect_Ratio</th>\n",
              "      <th>st</th>\n",
              "    </tr>\n",
              "  </thead>\n",
              "  <tbody>\n",
              "    <tr>\n",
              "      <th>156655</th>\n",
              "      <td>1.764766</td>\n",
              "      <td>3.00604</td>\n",
              "      <td>1.776659</td>\n",
              "      <td>1.319018</td>\n",
              "      <td>38.500904</td>\n",
              "    </tr>\n",
              "    <tr>\n",
              "      <th>156656</th>\n",
              "      <td>1.762896</td>\n",
              "      <td>3.00604</td>\n",
              "      <td>1.776659</td>\n",
              "      <td>1.319018</td>\n",
              "      <td>38.499712</td>\n",
              "    </tr>\n",
              "    <tr>\n",
              "      <th>156657</th>\n",
              "      <td>1.768315</td>\n",
              "      <td>3.00604</td>\n",
              "      <td>1.765184</td>\n",
              "      <td>1.319018</td>\n",
              "      <td>38.503163</td>\n",
              "    </tr>\n",
              "    <tr>\n",
              "      <th>156658</th>\n",
              "      <td>1.753342</td>\n",
              "      <td>3.00604</td>\n",
              "      <td>1.784309</td>\n",
              "      <td>1.301829</td>\n",
              "      <td>38.493602</td>\n",
              "    </tr>\n",
              "    <tr>\n",
              "      <th>156659</th>\n",
              "      <td>1.750045</td>\n",
              "      <td>3.00604</td>\n",
              "      <td>1.791959</td>\n",
              "      <td>1.301829</td>\n",
              "      <td>38.491487</td>\n",
              "    </tr>\n",
              "  </tbody>\n",
              "</table>\n",
              "</div>"
            ],
            "text/plain": [
              "          volume    Power  centre_y  Aspect_Ratio         st\n",
              "156655  1.764766  3.00604  1.776659      1.319018  38.500904\n",
              "156656  1.762896  3.00604  1.776659      1.319018  38.499712\n",
              "156657  1.768315  3.00604  1.765184      1.319018  38.503163\n",
              "156658  1.753342  3.00604  1.784309      1.301829  38.493602\n",
              "156659  1.750045  3.00604  1.791959      1.301829  38.491487"
            ]
          },
          "metadata": {
            "tags": []
          },
          "execution_count": 17
        }
      ]
    },
    {
      "cell_type": "code",
      "metadata": {
        "id": "4anqOb6ofqwS",
        "colab": {
          "base_uri": "https://localhost:8080/",
          "height": 246
        },
        "outputId": "a15bddf1-1d09-4e2f-ac5f-c3718d379cf9"
      },
      "source": [
        "#Drop 125 values of theta\n",
        "for i in range(0,150):\n",
        "  dataset=dataset.drop(dataset.columns[300+i], axis=1)\n",
        "  i=i+1\n",
        "\n",
        "\n",
        "#Drop 125 values of rho:\n",
        "for i in range(0,150):\n",
        "  dataset=dataset.drop(dataset.columns[i], axis=1)\n",
        "  i=i+1\n",
        "\n",
        "\n",
        "\n",
        "# dataset.pop('R_sph')\n",
        "\n",
        "dataset.tail()"
      ],
      "execution_count": null,
      "outputs": [
        {
          "output_type": "execute_result",
          "data": {
            "text/html": [
              "<div>\n",
              "<style scoped>\n",
              "    .dataframe tbody tr th:only-of-type {\n",
              "        vertical-align: middle;\n",
              "    }\n",
              "\n",
              "    .dataframe tbody tr th {\n",
              "        vertical-align: top;\n",
              "    }\n",
              "\n",
              "    .dataframe thead th {\n",
              "        text-align: right;\n",
              "    }\n",
              "</style>\n",
              "<table border=\"1\" class=\"dataframe\">\n",
              "  <thead>\n",
              "    <tr style=\"text-align: right;\">\n",
              "      <th></th>\n",
              "      <th>rho_1</th>\n",
              "      <th>rho_3</th>\n",
              "      <th>rho_5</th>\n",
              "      <th>rho_7</th>\n",
              "      <th>rho_9</th>\n",
              "      <th>rho_11</th>\n",
              "      <th>rho_13</th>\n",
              "      <th>rho_15</th>\n",
              "      <th>rho_17</th>\n",
              "      <th>rho_19</th>\n",
              "      <th>rho_21</th>\n",
              "      <th>rho_23</th>\n",
              "      <th>rho_25</th>\n",
              "      <th>rho_27</th>\n",
              "      <th>rho_29</th>\n",
              "      <th>rho_31</th>\n",
              "      <th>rho_33</th>\n",
              "      <th>rho_35</th>\n",
              "      <th>rho_37</th>\n",
              "      <th>rho_39</th>\n",
              "      <th>rho_41</th>\n",
              "      <th>rho_43</th>\n",
              "      <th>rho_45</th>\n",
              "      <th>rho_47</th>\n",
              "      <th>rho_49</th>\n",
              "      <th>rho_51</th>\n",
              "      <th>rho_53</th>\n",
              "      <th>rho_55</th>\n",
              "      <th>rho_57</th>\n",
              "      <th>rho_59</th>\n",
              "      <th>rho_61</th>\n",
              "      <th>rho_63</th>\n",
              "      <th>rho_65</th>\n",
              "      <th>rho_67</th>\n",
              "      <th>rho_69</th>\n",
              "      <th>rho_71</th>\n",
              "      <th>rho_73</th>\n",
              "      <th>rho_75</th>\n",
              "      <th>rho_77</th>\n",
              "      <th>rho_79</th>\n",
              "      <th>...</th>\n",
              "      <th>phi_229</th>\n",
              "      <th>phi_231</th>\n",
              "      <th>phi_233</th>\n",
              "      <th>phi_235</th>\n",
              "      <th>phi_237</th>\n",
              "      <th>phi_239</th>\n",
              "      <th>phi_241</th>\n",
              "      <th>phi_243</th>\n",
              "      <th>phi_245</th>\n",
              "      <th>phi_247</th>\n",
              "      <th>phi_249</th>\n",
              "      <th>phi_251</th>\n",
              "      <th>phi_253</th>\n",
              "      <th>phi_255</th>\n",
              "      <th>phi_257</th>\n",
              "      <th>phi_259</th>\n",
              "      <th>phi_261</th>\n",
              "      <th>phi_263</th>\n",
              "      <th>phi_265</th>\n",
              "      <th>phi_267</th>\n",
              "      <th>phi_269</th>\n",
              "      <th>phi_271</th>\n",
              "      <th>phi_273</th>\n",
              "      <th>phi_275</th>\n",
              "      <th>phi_277</th>\n",
              "      <th>phi_279</th>\n",
              "      <th>phi_281</th>\n",
              "      <th>phi_283</th>\n",
              "      <th>phi_285</th>\n",
              "      <th>phi_287</th>\n",
              "      <th>phi_289</th>\n",
              "      <th>phi_291</th>\n",
              "      <th>phi_293</th>\n",
              "      <th>phi_295</th>\n",
              "      <th>phi_297</th>\n",
              "      <th>phi_299</th>\n",
              "      <th>volume</th>\n",
              "      <th>R_sph</th>\n",
              "      <th>volt</th>\n",
              "      <th>st</th>\n",
              "    </tr>\n",
              "  </thead>\n",
              "  <tbody>\n",
              "    <tr>\n",
              "      <th>161330</th>\n",
              "      <td>0.701388</td>\n",
              "      <td>0.702297</td>\n",
              "      <td>0.700892</td>\n",
              "      <td>0.696702</td>\n",
              "      <td>0.692601</td>\n",
              "      <td>0.683902</td>\n",
              "      <td>0.682661</td>\n",
              "      <td>0.679565</td>\n",
              "      <td>0.673910</td>\n",
              "      <td>0.668012</td>\n",
              "      <td>0.651712</td>\n",
              "      <td>0.645341</td>\n",
              "      <td>0.636919</td>\n",
              "      <td>0.622031</td>\n",
              "      <td>0.617834</td>\n",
              "      <td>0.598273</td>\n",
              "      <td>0.589880</td>\n",
              "      <td>0.588071</td>\n",
              "      <td>0.578039</td>\n",
              "      <td>0.575526</td>\n",
              "      <td>0.570301</td>\n",
              "      <td>0.564835</td>\n",
              "      <td>0.560623</td>\n",
              "      <td>0.560352</td>\n",
              "      <td>0.553637</td>\n",
              "      <td>0.552432</td>\n",
              "      <td>0.547251</td>\n",
              "      <td>0.545513</td>\n",
              "      <td>0.542329</td>\n",
              "      <td>0.536524</td>\n",
              "      <td>0.536889</td>\n",
              "      <td>0.532660</td>\n",
              "      <td>0.534141</td>\n",
              "      <td>0.531530</td>\n",
              "      <td>0.530588</td>\n",
              "      <td>0.529562</td>\n",
              "      <td>0.529220</td>\n",
              "      <td>0.531530</td>\n",
              "      <td>0.529863</td>\n",
              "      <td>0.533965</td>\n",
              "      <td>...</td>\n",
              "      <td>1.817517</td>\n",
              "      <td>1.852029</td>\n",
              "      <td>1.881311</td>\n",
              "      <td>1.981203</td>\n",
              "      <td>2.003204</td>\n",
              "      <td>2.025098</td>\n",
              "      <td>2.074546</td>\n",
              "      <td>2.117077</td>\n",
              "      <td>2.173779</td>\n",
              "      <td>2.214297</td>\n",
              "      <td>2.228924</td>\n",
              "      <td>2.286540</td>\n",
              "      <td>2.319514</td>\n",
              "      <td>2.365285</td>\n",
              "      <td>2.440439</td>\n",
              "      <td>2.461993</td>\n",
              "      <td>2.500558</td>\n",
              "      <td>2.529866</td>\n",
              "      <td>2.558624</td>\n",
              "      <td>2.608353</td>\n",
              "      <td>2.640827</td>\n",
              "      <td>2.709185</td>\n",
              "      <td>2.752549</td>\n",
              "      <td>2.800096</td>\n",
              "      <td>2.812674</td>\n",
              "      <td>2.839378</td>\n",
              "      <td>2.857125</td>\n",
              "      <td>2.869447</td>\n",
              "      <td>2.906048</td>\n",
              "      <td>2.923525</td>\n",
              "      <td>2.940940</td>\n",
              "      <td>2.992703</td>\n",
              "      <td>3.015198</td>\n",
              "      <td>3.043012</td>\n",
              "      <td>3.092719</td>\n",
              "      <td>3.136158</td>\n",
              "      <td>1.098164</td>\n",
              "      <td>0.640019</td>\n",
              "      <td>8.92</td>\n",
              "      <td>35.444797</td>\n",
              "    </tr>\n",
              "    <tr>\n",
              "      <th>161331</th>\n",
              "      <td>0.701212</td>\n",
              "      <td>0.702575</td>\n",
              "      <td>0.697918</td>\n",
              "      <td>0.692978</td>\n",
              "      <td>0.690893</td>\n",
              "      <td>0.685247</td>\n",
              "      <td>0.685078</td>\n",
              "      <td>0.675199</td>\n",
              "      <td>0.672435</td>\n",
              "      <td>0.671906</td>\n",
              "      <td>0.651712</td>\n",
              "      <td>0.644195</td>\n",
              "      <td>0.636919</td>\n",
              "      <td>0.624972</td>\n",
              "      <td>0.617505</td>\n",
              "      <td>0.593481</td>\n",
              "      <td>0.591806</td>\n",
              "      <td>0.585712</td>\n",
              "      <td>0.578039</td>\n",
              "      <td>0.577675</td>\n",
              "      <td>0.569449</td>\n",
              "      <td>0.566770</td>\n",
              "      <td>0.564335</td>\n",
              "      <td>0.560352</td>\n",
              "      <td>0.556875</td>\n",
              "      <td>0.552432</td>\n",
              "      <td>0.550052</td>\n",
              "      <td>0.544223</td>\n",
              "      <td>0.541299</td>\n",
              "      <td>0.537429</td>\n",
              "      <td>0.536889</td>\n",
              "      <td>0.533965</td>\n",
              "      <td>0.535808</td>\n",
              "      <td>0.532715</td>\n",
              "      <td>0.531898</td>\n",
              "      <td>0.531189</td>\n",
              "      <td>0.530096</td>\n",
              "      <td>0.529343</td>\n",
              "      <td>0.531898</td>\n",
              "      <td>0.533163</td>\n",
              "      <td>...</td>\n",
              "      <td>1.808843</td>\n",
              "      <td>1.838302</td>\n",
              "      <td>1.888063</td>\n",
              "      <td>1.968295</td>\n",
              "      <td>1.996844</td>\n",
              "      <td>2.009527</td>\n",
              "      <td>2.089942</td>\n",
              "      <td>2.111216</td>\n",
              "      <td>2.164406</td>\n",
              "      <td>2.203545</td>\n",
              "      <td>2.243467</td>\n",
              "      <td>2.291470</td>\n",
              "      <td>2.333367</td>\n",
              "      <td>2.347104</td>\n",
              "      <td>2.427502</td>\n",
              "      <td>2.449258</td>\n",
              "      <td>2.491919</td>\n",
              "      <td>2.521343</td>\n",
              "      <td>2.575326</td>\n",
              "      <td>2.608353</td>\n",
              "      <td>2.624662</td>\n",
              "      <td>2.703913</td>\n",
              "      <td>2.739722</td>\n",
              "      <td>2.787479</td>\n",
              "      <td>2.812674</td>\n",
              "      <td>2.832319</td>\n",
              "      <td>2.844748</td>\n",
              "      <td>2.869447</td>\n",
              "      <td>2.899320</td>\n",
              "      <td>2.911458</td>\n",
              "      <td>2.935521</td>\n",
              "      <td>2.981854</td>\n",
              "      <td>3.004340</td>\n",
              "      <td>3.032142</td>\n",
              "      <td>3.114425</td>\n",
              "      <td>3.141593</td>\n",
              "      <td>1.097919</td>\n",
              "      <td>0.639971</td>\n",
              "      <td>8.92</td>\n",
              "      <td>35.444606</td>\n",
              "    </tr>\n",
              "    <tr>\n",
              "      <th>161332</th>\n",
              "      <td>0.704399</td>\n",
              "      <td>0.705838</td>\n",
              "      <td>0.703194</td>\n",
              "      <td>0.702225</td>\n",
              "      <td>0.695452</td>\n",
              "      <td>0.691910</td>\n",
              "      <td>0.683881</td>\n",
              "      <td>0.682789</td>\n",
              "      <td>0.676604</td>\n",
              "      <td>0.671486</td>\n",
              "      <td>0.669334</td>\n",
              "      <td>0.652301</td>\n",
              "      <td>0.644195</td>\n",
              "      <td>0.636008</td>\n",
              "      <td>0.621542</td>\n",
              "      <td>0.617505</td>\n",
              "      <td>0.598540</td>\n",
              "      <td>0.587479</td>\n",
              "      <td>0.585712</td>\n",
              "      <td>0.578916</td>\n",
              "      <td>0.573393</td>\n",
              "      <td>0.571469</td>\n",
              "      <td>0.566219</td>\n",
              "      <td>0.562147</td>\n",
              "      <td>0.558577</td>\n",
              "      <td>0.552051</td>\n",
              "      <td>0.550921</td>\n",
              "      <td>0.545885</td>\n",
              "      <td>0.544250</td>\n",
              "      <td>0.541299</td>\n",
              "      <td>0.539354</td>\n",
              "      <td>0.536119</td>\n",
              "      <td>0.532048</td>\n",
              "      <td>0.532715</td>\n",
              "      <td>0.531530</td>\n",
              "      <td>0.530875</td>\n",
              "      <td>0.529891</td>\n",
              "      <td>0.529275</td>\n",
              "      <td>0.529562</td>\n",
              "      <td>0.530328</td>\n",
              "      <td>...</td>\n",
              "      <td>1.852029</td>\n",
              "      <td>1.874531</td>\n",
              "      <td>1.901475</td>\n",
              "      <td>1.987603</td>\n",
              "      <td>2.031338</td>\n",
              "      <td>2.065203</td>\n",
              "      <td>2.117077</td>\n",
              "      <td>2.169972</td>\n",
              "      <td>2.184815</td>\n",
              "      <td>2.228924</td>\n",
              "      <td>2.263007</td>\n",
              "      <td>2.296358</td>\n",
              "      <td>2.324242</td>\n",
              "      <td>2.360719</td>\n",
              "      <td>2.400808</td>\n",
              "      <td>2.444460</td>\n",
              "      <td>2.487022</td>\n",
              "      <td>2.512796</td>\n",
              "      <td>2.545215</td>\n",
              "      <td>2.586800</td>\n",
              "      <td>2.630487</td>\n",
              "      <td>2.659574</td>\n",
              "      <td>2.675334</td>\n",
              "      <td>2.749434</td>\n",
              "      <td>2.782158</td>\n",
              "      <td>2.826959</td>\n",
              "      <td>2.853339</td>\n",
              "      <td>2.870944</td>\n",
              "      <td>2.883138</td>\n",
              "      <td>2.907337</td>\n",
              "      <td>2.936646</td>\n",
              "      <td>2.948498</td>\n",
              "      <td>2.971043</td>\n",
              "      <td>3.015885</td>\n",
              "      <td>3.060251</td>\n",
              "      <td>3.109172</td>\n",
              "      <td>1.098068</td>\n",
              "      <td>0.640000</td>\n",
              "      <td>8.92</td>\n",
              "      <td>35.444722</td>\n",
              "    </tr>\n",
              "    <tr>\n",
              "      <th>161333</th>\n",
              "      <td>0.708904</td>\n",
              "      <td>0.705964</td>\n",
              "      <td>0.704474</td>\n",
              "      <td>0.700036</td>\n",
              "      <td>0.695809</td>\n",
              "      <td>0.690581</td>\n",
              "      <td>0.689289</td>\n",
              "      <td>0.682462</td>\n",
              "      <td>0.676682</td>\n",
              "      <td>0.674192</td>\n",
              "      <td>0.654057</td>\n",
              "      <td>0.647542</td>\n",
              "      <td>0.638956</td>\n",
              "      <td>0.623768</td>\n",
              "      <td>0.616968</td>\n",
              "      <td>0.596663</td>\n",
              "      <td>0.587901</td>\n",
              "      <td>0.586000</td>\n",
              "      <td>0.578744</td>\n",
              "      <td>0.572979</td>\n",
              "      <td>0.570774</td>\n",
              "      <td>0.565133</td>\n",
              "      <td>0.560808</td>\n",
              "      <td>0.557125</td>\n",
              "      <td>0.550081</td>\n",
              "      <td>0.548749</td>\n",
              "      <td>0.543333</td>\n",
              "      <td>0.541436</td>\n",
              "      <td>0.537904</td>\n",
              "      <td>0.531888</td>\n",
              "      <td>0.532105</td>\n",
              "      <td>0.527674</td>\n",
              "      <td>0.529580</td>\n",
              "      <td>0.527976</td>\n",
              "      <td>0.525844</td>\n",
              "      <td>0.525182</td>\n",
              "      <td>0.524394</td>\n",
              "      <td>0.523731</td>\n",
              "      <td>0.523634</td>\n",
              "      <td>0.524187</td>\n",
              "      <td>...</td>\n",
              "      <td>1.813129</td>\n",
              "      <td>1.850092</td>\n",
              "      <td>1.877758</td>\n",
              "      <td>1.978945</td>\n",
              "      <td>2.001228</td>\n",
              "      <td>2.023403</td>\n",
              "      <td>2.073487</td>\n",
              "      <td>2.116557</td>\n",
              "      <td>2.173964</td>\n",
              "      <td>2.214972</td>\n",
              "      <td>2.229774</td>\n",
              "      <td>2.283722</td>\n",
              "      <td>2.321406</td>\n",
              "      <td>2.363059</td>\n",
              "      <td>2.438780</td>\n",
              "      <td>2.460492</td>\n",
              "      <td>2.499333</td>\n",
              "      <td>2.528851</td>\n",
              "      <td>2.557813</td>\n",
              "      <td>2.602717</td>\n",
              "      <td>2.635361</td>\n",
              "      <td>2.706546</td>\n",
              "      <td>2.749893</td>\n",
              "      <td>2.797424</td>\n",
              "      <td>2.809995</td>\n",
              "      <td>2.836699</td>\n",
              "      <td>2.856013</td>\n",
              "      <td>2.868262</td>\n",
              "      <td>2.903348</td>\n",
              "      <td>2.922027</td>\n",
              "      <td>2.939340</td>\n",
              "      <td>2.990812</td>\n",
              "      <td>3.013182</td>\n",
              "      <td>3.040842</td>\n",
              "      <td>3.090286</td>\n",
              "      <td>3.133528</td>\n",
              "      <td>1.094999</td>\n",
              "      <td>0.639404</td>\n",
              "      <td>8.92</td>\n",
              "      <td>35.442326</td>\n",
              "    </tr>\n",
              "    <tr>\n",
              "      <th>161334</th>\n",
              "      <td>0.707738</td>\n",
              "      <td>0.705430</td>\n",
              "      <td>0.705101</td>\n",
              "      <td>0.701039</td>\n",
              "      <td>0.694443</td>\n",
              "      <td>0.689341</td>\n",
              "      <td>0.680516</td>\n",
              "      <td>0.673654</td>\n",
              "      <td>0.671316</td>\n",
              "      <td>0.659233</td>\n",
              "      <td>0.654766</td>\n",
              "      <td>0.651992</td>\n",
              "      <td>0.628986</td>\n",
              "      <td>0.620564</td>\n",
              "      <td>0.613552</td>\n",
              "      <td>0.601743</td>\n",
              "      <td>0.594436</td>\n",
              "      <td>0.572511</td>\n",
              "      <td>0.569172</td>\n",
              "      <td>0.565210</td>\n",
              "      <td>0.560083</td>\n",
              "      <td>0.557892</td>\n",
              "      <td>0.549185</td>\n",
              "      <td>0.547797</td>\n",
              "      <td>0.546672</td>\n",
              "      <td>0.544400</td>\n",
              "      <td>0.540029</td>\n",
              "      <td>0.537729</td>\n",
              "      <td>0.533452</td>\n",
              "      <td>0.528278</td>\n",
              "      <td>0.527990</td>\n",
              "      <td>0.525844</td>\n",
              "      <td>0.523772</td>\n",
              "      <td>0.522608</td>\n",
              "      <td>0.525582</td>\n",
              "      <td>0.521637</td>\n",
              "      <td>0.521776</td>\n",
              "      <td>0.522608</td>\n",
              "      <td>0.524132</td>\n",
              "      <td>0.527797</td>\n",
              "      <td>...</td>\n",
              "      <td>1.889134</td>\n",
              "      <td>1.918648</td>\n",
              "      <td>1.938737</td>\n",
              "      <td>1.967770</td>\n",
              "      <td>2.018697</td>\n",
              "      <td>2.096380</td>\n",
              "      <td>2.123575</td>\n",
              "      <td>2.138840</td>\n",
              "      <td>2.215641</td>\n",
              "      <td>2.239778</td>\n",
              "      <td>2.293340</td>\n",
              "      <td>2.330796</td>\n",
              "      <td>2.372138</td>\n",
              "      <td>2.421271</td>\n",
              "      <td>2.464896</td>\n",
              "      <td>2.477546</td>\n",
              "      <td>2.556954</td>\n",
              "      <td>2.582034</td>\n",
              "      <td>2.626130</td>\n",
              "      <td>2.658211</td>\n",
              "      <td>2.710401</td>\n",
              "      <td>2.738594</td>\n",
              "      <td>2.753636</td>\n",
              "      <td>2.820733</td>\n",
              "      <td>2.852545</td>\n",
              "      <td>2.894592</td>\n",
              "      <td>2.918728</td>\n",
              "      <td>2.936085</td>\n",
              "      <td>2.947971</td>\n",
              "      <td>2.970578</td>\n",
              "      <td>2.999310</td>\n",
              "      <td>3.010836</td>\n",
              "      <td>3.033029</td>\n",
              "      <td>3.076643</td>\n",
              "      <td>3.098493</td>\n",
              "      <td>3.125422</td>\n",
              "      <td>1.094578</td>\n",
              "      <td>0.639322</td>\n",
              "      <td>8.92</td>\n",
              "      <td>35.441997</td>\n",
              "    </tr>\n",
              "  </tbody>\n",
              "</table>\n",
              "<p>5 rows × 304 columns</p>\n",
              "</div>"
            ],
            "text/plain": [
              "           rho_1     rho_3     rho_5  ...     R_sph  volt         st\n",
              "161330  0.701388  0.702297  0.700892  ...  0.640019  8.92  35.444797\n",
              "161331  0.701212  0.702575  0.697918  ...  0.639971  8.92  35.444606\n",
              "161332  0.704399  0.705838  0.703194  ...  0.640000  8.92  35.444722\n",
              "161333  0.708904  0.705964  0.704474  ...  0.639404  8.92  35.442326\n",
              "161334  0.707738  0.705430  0.705101  ...  0.639322  8.92  35.441997\n",
              "\n",
              "[5 rows x 304 columns]"
            ]
          },
          "metadata": {
            "tags": []
          },
          "execution_count": 24
        }
      ]
    },
    {
      "cell_type": "code",
      "metadata": {
        "id": "UWFL9HPvH42Y"
      },
      "source": [
        "#Drop 125 values of theta\n",
        "for i in range(0,25):\n",
        "  dataset=dataset.drop(dataset.columns[125+i], axis=1)\n",
        "  i=i+15\n",
        "\n",
        "\n",
        "#Drop 125 values of rho:\n",
        "for i in range(0,25):\n",
        "  dataset=dataset.drop(dataset.columns[i], axis=1)\n",
        "  i=i+15\n",
        "\n",
        "dataset.tail()"
      ],
      "execution_count": null,
      "outputs": []
    },
    {
      "cell_type": "code",
      "metadata": {
        "id": "hlGbUYqSD6nj"
      },
      "source": [
        "# volt=dataset['volt']"
      ],
      "execution_count": null,
      "outputs": []
    },
    {
      "cell_type": "code",
      "metadata": {
        "id": "W5tohPiqD_6L"
      },
      "source": [
        "# dataset.pop('volt')"
      ],
      "execution_count": null,
      "outputs": []
    },
    {
      "cell_type": "code",
      "metadata": {
        "id": "9ovzFzZDEEOx"
      },
      "source": [
        "# shift=50\n",
        "# datset=dataset\n",
        "# for i in range(shift):\n",
        "#   datset=datset.drop([i], axis=0)\n",
        "# datset.shape\n",
        "# datset.head()"
      ],
      "execution_count": null,
      "outputs": []
    },
    {
      "cell_type": "code",
      "metadata": {
        "id": "MfmA80OkrJHF"
      },
      "source": [
        "# volt2=volt\n",
        "# for i in range(1, 51):\n",
        "#   j=1\n",
        "#   volt2=volt2.drop(len(volt2)-j, axis=0)\n",
        "# volt2.tail()"
      ],
      "execution_count": null,
      "outputs": []
    },
    {
      "cell_type": "code",
      "metadata": {
        "id": "RiGnHudDMKQc"
      },
      "source": [
        "# volt2=np.asarray(volt2)"
      ],
      "execution_count": null,
      "outputs": []
    },
    {
      "cell_type": "code",
      "metadata": {
        "id": "KtvcJNFqLWp8"
      },
      "source": [
        "# datset['volt']=volt2\n",
        "# datset.tail()\n"
      ],
      "execution_count": null,
      "outputs": []
    },
    {
      "cell_type": "code",
      "metadata": {
        "id": "mkB1N5dWk2m_"
      },
      "source": [
        "# dataset=datset\n",
        "# dataset.head()"
      ],
      "execution_count": null,
      "outputs": []
    },
    {
      "cell_type": "code",
      "metadata": {
        "id": "sbgMtmTyybem"
      },
      "source": [
        "#Check that the drop contour is still well defined!\n",
        "plt.plot(dataset.iloc[600, 100:200], dataset.iloc[600, 0:100])"
      ],
      "execution_count": null,
      "outputs": []
    },
    {
      "cell_type": "markdown",
      "metadata": {
        "id": "A9ux9dasikYc"
      },
      "source": [
        "### Show the Volume and ST distribution of the data"
      ]
    },
    {
      "cell_type": "code",
      "metadata": {
        "id": "8nA2ICVeWuMG",
        "colab": {
          "base_uri": "https://localhost:8080/",
          "height": 945
        },
        "outputId": "b9be66c3-4a6b-4773-ee58-94cefe1e9dc6"
      },
      "source": [
        "#linex=np.tile(3, 2)\n",
        "#liney=[0, 0.3]\n",
        "\n",
        "plt.figure()\n",
        "sns.distplot(dataset['volume'])\n",
        "plt.xlabel('Volume [μL]')\n",
        "plt.ylabel('Count')\n",
        "\n",
        "plt.figure()\n",
        "sns.distplot(dataset['st'])\n",
        "plt.xlabel('Surface tension [mN/m]')\n",
        "plt.ylabel('Count')\n",
        "\n",
        "plt.figure()\n",
        "sns.distplot(dataset['Power'])\n",
        "plt.xlabel('Power [Watt]')\n",
        "plt.ylabel('Count')\n"
      ],
      "execution_count": 18,
      "outputs": [
        {
          "output_type": "stream",
          "text": [
            "/usr/local/lib/python3.7/dist-packages/seaborn/distributions.py:2557: FutureWarning: `distplot` is a deprecated function and will be removed in a future version. Please adapt your code to use either `displot` (a figure-level function with similar flexibility) or `histplot` (an axes-level function for histograms).\n",
            "  warnings.warn(msg, FutureWarning)\n",
            "/usr/local/lib/python3.7/dist-packages/seaborn/distributions.py:2557: FutureWarning: `distplot` is a deprecated function and will be removed in a future version. Please adapt your code to use either `displot` (a figure-level function with similar flexibility) or `histplot` (an axes-level function for histograms).\n",
            "  warnings.warn(msg, FutureWarning)\n",
            "/usr/local/lib/python3.7/dist-packages/seaborn/distributions.py:2557: FutureWarning: `distplot` is a deprecated function and will be removed in a future version. Please adapt your code to use either `displot` (a figure-level function with similar flexibility) or `histplot` (an axes-level function for histograms).\n",
            "  warnings.warn(msg, FutureWarning)\n"
          ],
          "name": "stderr"
        },
        {
          "output_type": "execute_result",
          "data": {
            "text/plain": [
              "Text(0, 0.5, 'Count')"
            ]
          },
          "metadata": {
            "tags": []
          },
          "execution_count": 18
        },
        {
          "output_type": "display_data",
          "data": {
            "image/png": "[encoded data removed]",
            "text/plain": [
              "<Figure size 432x288 with 1 Axes>"
            ]
          },
          "metadata": {
            "tags": [],
            "needs_background": "light"
          }
        },
        {
          "output_type": "display_data",
          "data": {
            "image/png": "[encoded data removed]",
            "text/plain": [
              "<Figure size 432x288 with 1 Axes>"
            ]
          },
          "metadata": {
            "tags": [],
            "needs_background": "light"
          }
        },
        {
          "output_type": "display_data",
          "data": {
            "image/png": "[encoded data removed]",
            "text/plain": [
              "<Figure size 432x288 with 1 Axes>"
            ]
          },
          "metadata": {
            "tags": [],
            "needs_background": "light"
          }
        }
      ]
    },
    {
      "cell_type": "markdown",
      "metadata": {
        "id": "xaNUMVadnhCQ"
      },
      "source": [
        "### Selectively choose data with (almost) constant volume"
      ]
    },
    {
      "cell_type": "code",
      "metadata": {
        "id": "xrMpqWF0k2ft"
      },
      "source": [
        "new_input=[]\n",
        "vol_min=2.99\n",
        "vol_max=3.01\n",
        "for i in range(len(dataset)):\n",
        "  if dataset['volume'].iloc[i] >= vol_min and dataset['volume'].iloc[i] <= vol_max:\n",
        "    vol_ct_data=dataset.iloc[i, :]\n",
        "    new_input.append(vol_ct_data)\n",
        "new_input=np.asarray(new_input)\n",
        "new_input.shape"
      ],
      "execution_count": null,
      "outputs": []
    },
    {
      "cell_type": "code",
      "metadata": {
        "id": "KH2AdDoKcM84"
      },
      "source": [
        "column_names=[]\n",
        "\n",
        "for i in range(300):\n",
        "  column_names.append('rho_%d' %i)\n",
        "for i in range(300):\n",
        "  column_names.append('theta_%d' %i)\n",
        "column_names.append('volume')\n",
        "column_names.append('R_sph')\n",
        "column_names.append('volt')\n",
        "column_names.append('st')\n",
        "\n",
        "new_dataset=pd.DataFrame(new_input, columns=column_names)\n",
        "new_dataset.pop('R_sph')\n",
        "new_dataset.tail()"
      ],
      "execution_count": null,
      "outputs": []
    },
    {
      "cell_type": "code",
      "metadata": {
        "id": "J3mgXVPxqhdg"
      },
      "source": [
        "plt.figure()\n",
        "sns.distplot(new_dataset['volt'])\n",
        "plt.xlabel('Voltage [V]')\n",
        "plt.ylabel('Count')\n",
        "\n",
        "plt.figure()\n",
        "sns.distplot(new_dataset['st'])\n",
        "plt.xlabel('Surface tension [mN/m]')\n",
        "plt.ylabel('Count')"
      ],
      "execution_count": null,
      "outputs": []
    },
    {
      "cell_type": "code",
      "metadata": {
        "id": "875aKn_Nc_Ba"
      },
      "source": [
        "# #Drop 125 values of theta\n",
        "# for i in range(0,125):\n",
        "#   new_dataset=new_dataset.drop(new_dataset.columns[300+i], axis=1)\n",
        "#   i=i+1\n",
        "\n",
        "\n",
        "# #Drop 125 values of theta\n",
        "# for i in range(0,125):\n",
        "#   new_dataset=new_dataset.drop(new_dataset.columns[i], axis=1)\n",
        "#   i=i+1\n",
        "\n",
        "# #Drop voltage\n",
        "# new_dataset.pop('volt')\n"
      ],
      "execution_count": null,
      "outputs": []
    },
    {
      "cell_type": "code",
      "metadata": {
        "id": "b4d1JSJHjQlu"
      },
      "source": [
        "# #Drop volume if it's constant\n",
        "# new_dataset.pop('volume')"
      ],
      "execution_count": null,
      "outputs": []
    },
    {
      "cell_type": "code",
      "metadata": {
        "id": "YZyh7deT-MIe"
      },
      "source": [
        "# #Check that the drop contour is still well defined!\n",
        "# plt.plot(new_dataset.iloc[25, 150:300], new_dataset.iloc[25, 0:150])"
      ],
      "execution_count": null,
      "outputs": []
    },
    {
      "cell_type": "code",
      "metadata": {
        "id": "MSbdYAlnp9dR"
      },
      "source": [
        "new_input=np.asarray(dataset)"
      ],
      "execution_count": null,
      "outputs": []
    },
    {
      "cell_type": "code",
      "metadata": {
        "id": "j12KuanmwH2y"
      },
      "source": [
        "from lmfit import Model, fit_report, Parameters\n",
        "\n",
        "def model_fit(th, Ps):\n",
        "    \"\"\"\n",
        "    Express the model that will be used to fit the experimental data (simple approach).\n",
        "\n",
        "    Input parameters\n",
        "    ----------\n",
        "    dB:     deciBell\n",
        "    th:     angle theta\n",
        "    Returns\n",
        "    -------\n",
        "    Expression of fitting model.\n",
        "\n",
        "    \"\"\"\n",
        "    rho=-((3/(64*gamma))*R_sph**2*Ps**2*Cg_air*(1+((7/5)*(k_o*R_sph)**2)))*(3*(np.cos(th))**2-1)+R_sph\n",
        "    return rho\n",
        "data_Ps=[]\n",
        "Cg_air=1/101325 #Pa**(-1)\n",
        "k_o=2*np.pi*40/340 #mm^-1\n",
        "\n",
        "for i in range(len(new_input)):\n",
        "  gamma=new_input[i, 603]\n",
        "  R_sph=new_input[i, 601]\n",
        "  rho=new_input[i, 0:300]\n",
        "  gmodel = Model(model_fit, nan_policy='omit')\n",
        "    \n",
        "  fit_param = Parameters()\n",
        "  fit_param.add('Ps', value=700, min=10, max=4000)\n",
        "  \n",
        "  result = gmodel.fit(rho, th=new_input[i, 300:600], params=fit_param)         #rho_final, th: x and y to be evaluated, respectively\n",
        "  Ps=result.params['Ps'].value\n",
        "  data_Ps.append(Ps)\n",
        "data_Ps=np.asarray(data_Ps)\n",
        "\n",
        "plt.figure()\n",
        "plt.plot(data_Ps)\n",
        "plt.xlabel('Drop')\n",
        "plt.ylabel('Acoustic pressure [Pa]')"
      ],
      "execution_count": null,
      "outputs": []
    },
    {
      "cell_type": "code",
      "metadata": {
        "id": "lW-0aq4TFQhw"
      },
      "source": [
        "plt.figure()\n",
        "plt.plot(new_input[i, 300:600], rho, 'bo')\n",
        "plt.plot(new_input[i, 300:600], result.best_fit, 'r-', label='best fit')"
      ],
      "execution_count": null,
      "outputs": []
    },
    {
      "cell_type": "code",
      "metadata": {
        "id": "_vjS9VIDE8IZ"
      },
      "source": [
        "column_names=[]\n",
        "\n",
        "for i in range(300):\n",
        "  column_names.append('rho_%d' %i)\n",
        "for i in range(300):\n",
        "  column_names.append('theta_%d' %i)\n",
        "column_names.append('volume')\n",
        "column_names.append('R_sph')\n",
        "column_names.append('volt')\n",
        "column_names.append('st')\n",
        "\n",
        "new_dataset=pd.DataFrame(new_input, columns=column_names)"
      ],
      "execution_count": null,
      "outputs": []
    },
    {
      "cell_type": "code",
      "metadata": {
        "id": "rd01bD1bQv37"
      },
      "source": [
        "\n",
        "#Add the calclulated Ps values to the new_dataset dataframe\n",
        "new_dataset['Ps']=data_Ps\n",
        "\n",
        "#Drop the R_sph values since we cannot have them in the prediction\n",
        "new_dataset.pop('R_sph')\n",
        "new_dataset.pop('volt')\n",
        "# new_dataset.pop('volume')\n",
        "new_dataset.tail()"
      ],
      "execution_count": null,
      "outputs": []
    },
    {
      "cell_type": "code",
      "metadata": {
        "id": "w8AledUKHYgx"
      },
      "source": [
        "dataset=new_dataset\n",
        "#Drop 125 values of theta\n",
        "for i in range(0,125):\n",
        "  dataset=dataset.drop(dataset.columns[300+i], axis=1)\n",
        "  i=i+1\n",
        "\n",
        "\n",
        "#Drop 125 values of rho:\n",
        "for i in range(0,125):\n",
        "  dataset=dataset.drop(dataset.columns[i], axis=1)\n",
        "  i=i+1\n",
        "\n",
        "dataset.tail()"
      ],
      "execution_count": null,
      "outputs": []
    },
    {
      "cell_type": "code",
      "metadata": {
        "id": "bggWFmt2NibH"
      },
      "source": [
        "newer_input=[]\n",
        "Ps_min=1500\n",
        "Ps_max=2100\n",
        "for i in range(len(new_dataset)):\n",
        "  if new_dataset['Ps'].iloc[i] >= Ps_min and new_dataset['Ps'].iloc[i] <= Ps_max:\n",
        "    Ps_range=new_dataset.iloc[i, :]\n",
        "    newer_input.append(Ps_range)\n",
        "newer_input=np.asarray(newer_input)\n",
        "\n",
        "newer_input.shape"
      ],
      "execution_count": null,
      "outputs": []
    },
    {
      "cell_type": "code",
      "metadata": {
        "id": "R2qMP-VUQLBk"
      },
      "source": [
        "plt.figure()\n",
        "plt.plot(newer_input[:, 601])\n",
        "plt.ylabel('Acoustic pressure [Pa]')\n",
        "plt.xlabel('droplet')"
      ],
      "execution_count": null,
      "outputs": []
    },
    {
      "cell_type": "code",
      "metadata": {
        "id": "quLwjCQHOtsw"
      },
      "source": [
        "column_names=[]\n",
        "\n",
        "for i in range(300):\n",
        "  column_names.append('rho_%d' %i)\n",
        "for i in range(300):\n",
        "  column_names.append('theta_%d' %i)\n",
        "# column_names.append('volume')\n",
        "column_names.append('st')\n",
        "column_names.append('Ps')\n",
        "\n",
        "new_df=pd.DataFrame(newer_input, columns=column_names)\n",
        "\n",
        "#Drop ST:\n",
        "new_df.pop('st')"
      ],
      "execution_count": null,
      "outputs": []
    },
    {
      "cell_type": "code",
      "metadata": {
        "id": "M94e1UYNCvW7"
      },
      "source": [
        "# dataset.pop('st')\n",
        "\n",
        "dataset_name=dataset.iloc[80000:90000]\n",
        "\n",
        "stats_input_df=dataset_name.describe()\n",
        "stats_input_df=stats_input_df.transpose()\n",
        "stats_input_df.tail()"
      ],
      "execution_count": null,
      "outputs": []
    },
    {
      "cell_type": "code",
      "metadata": {
        "id": "XgkRM6C3geh8"
      },
      "source": [
        "new_dataset.iloc[:, 601]\n",
        "newer_input=np.asarray(new_dataset.iloc[80000:90000])"
      ],
      "execution_count": null,
      "outputs": []
    },
    {
      "cell_type": "code",
      "metadata": {
        "id": "5G14I_viqS7D"
      },
      "source": [
        "def norm_test(x):\n",
        "  return (x - stats_input_df['mean']) / stats_input_df['std']\n",
        "\n",
        "#import model from drive\n",
        "folder=str('theory_experiment_mix/')\n",
        "filename=str('All_surf_all_vary_175points_trial_1.h5')\n",
        "model = tf.keras.models.load_model('/content/drive/My Drive/DropLev/MachineLearningModels/'+folder+filename)\n",
        "\n",
        "\n",
        "norm_input_array=norm_test(dataset_name)\n",
        "prediction=model.predict(norm_input_array).flatten()\n",
        "true_values=newer_input[:, 601]\n",
        "\n",
        "plt.figure()\n",
        "plt.xlabel('Frame number')\n",
        "plt.ylabel('Surface tension [ mN/m ]')\n",
        "plt.ylim(20, 75)\n",
        "plt.plot(prediction, label='Predicted values')\n",
        "plt.plot(true_values, label='Real values')\n",
        "plt.legend()\n",
        "\n",
        "plt.figure()\n",
        "plt.scatter(true_values, prediction)\n",
        "plt.title('Normalized new test data')\n",
        "plt.xlabel('True Values [surface tension - mN/m]')\n",
        "plt.ylabel('Predictions [surface tension - mN/m]')\n",
        "plt.axis('equal')\n",
        "plt.axis('square')\n",
        "plt.xlim([10,75])\n",
        "plt.ylim([10,75])\n",
        "_ = plt.plot([-100, 100], [-100, 100])\n",
        "plt.show()\n",
        "\n",
        "error = prediction - true_values\n",
        "plt.figure()\n",
        "plt.hist(error, bins = 50)\n",
        "plt.xlabel(\"Prediction Error [mN/m]\")\n",
        "_ = plt.ylabel(\"Count\")\n",
        "#plt.ylim(0, 30)\n",
        "plt.show()\n"
      ],
      "execution_count": null,
      "outputs": []
    },
    {
      "cell_type": "markdown",
      "metadata": {
        "id": "nslsRLh7Zss4"
      },
      "source": [
        "Import it using pandas"
      ]
    },
    {
      "cell_type": "code",
      "metadata": {
        "id": "CiX2FI4gZtTt"
      },
      "source": [
        "column_names=[]\n",
        "\n",
        "for i in range(300):\n",
        "  column_names.append('rho_%d' %i)\n",
        "for i in range(300):\n",
        "  column_names.append('phi_%d' %i)\n",
        "for i in range(300):\n",
        "  column_names.append('theta_%d' %i)\n",
        "column_names.append('height')\n",
        "column_names.append('width')  \n",
        "column_names.append('volume')\n",
        "column_names.append('R_sph')\n",
        "column_names.append('volt')\n",
        "column_names.append('Intensity')\n",
        "column_names.append('time')\n",
        "column_names.append('Power')\n",
        "#column_names.append('Ps')\n",
        "#column_names.append('Ps_err')\n",
        "column_names.append('centre_x')\n",
        "column_names.append('centre_y')\n",
        "column_names.append('surfactant_conc')\n",
        "column_names.append('Aspect_Ratio')\n",
        "column_names.append('st')\n",
        "\n",
        "\n",
        "#raw_dataset = pd.read_csv(csvfilename, sep=\"\\t\")\n",
        "#raw_dataset.columns=column_names\n",
        "\n",
        "raw_dataset = pd.DataFrame(data=input,  columns=column_names) \n",
        "              \n",
        "\n",
        "\n",
        "raw_dataset.shape\n",
        "\n",
        "dataset = raw_dataset.copy()\n",
        "\n",
        "#for i in range(300):\n",
        "#  dataset.pop('rho_%d' %i)\n",
        "#for i in range(300):\n",
        "#  dataset.pop('phi_%d' %i)\n",
        "#for i in range(300):\n",
        "#  dataset.pop('theta_%d' %i)\n",
        "dataset.pop(\"height\")\n",
        "dataset.pop(\"width\")\n",
        "dataset.pop(\"volume\")\n",
        "#dataset.pop(\"R_sph\")\n",
        "#dataset.pop('volt')\n",
        "dataset.pop('Intensity')\n",
        "dataset.pop('time')\n",
        "dataset.pop('Power')\n",
        "#dataset.pop('Ps')\n",
        "#dataset.pop('Ps_err')\n",
        "dataset.pop(\"centre_x\")\n",
        "dataset.pop(\"centre_y\")\n",
        "dataset.pop('surfactant_conc')\n",
        "dataset.pop(\"Aspect_Ratio\")\n",
        "\n",
        "dataset.tail()"
      ],
      "execution_count": null,
      "outputs": []
    },
    {
      "cell_type": "markdown",
      "metadata": {
        "id": "_95pruq44BPg"
      },
      "source": [
        "###Adding/Changing feutures"
      ]
    },
    {
      "cell_type": "code",
      "metadata": {
        "id": "3I6P2NJk4Ivn"
      },
      "source": [
        "# dataset['R_sph']=dataset['R_sph']**2\n",
        "\n",
        "for i in range(300):\n",
        "  dataset['theta_%d' %i]= (np.cos(dataset['theta_%d' %i]))**2"
      ],
      "execution_count": null,
      "outputs": []
    },
    {
      "cell_type": "markdown",
      "metadata": {
        "id": "Cuym4yvk76vU"
      },
      "source": [
        "### Split the data into train and test\n",
        "\n",
        "Now split the dataset into a training set and a test set.\n",
        "\n",
        "We will use the test set in the final evaluation of our model."
      ]
    },
    {
      "cell_type": "code",
      "metadata": {
        "id": "r5Z_OUrCl3Qy"
      },
      "source": [
        "dataset['volt']=dataset['volt']*178\n",
        "dataset.tail()"
      ],
      "execution_count": null,
      "outputs": []
    },
    {
      "cell_type": "code",
      "metadata": {
        "id": "5vYR5slnjdn8"
      },
      "source": [
        "dataset.pop('R_sph')\n",
        "dataset.pop('volume')\n",
        "dataset.tail()"
      ],
      "execution_count": null,
      "outputs": []
    },
    {
      "cell_type": "code",
      "metadata": {
        "id": "qn-IGhUE7_1H"
      },
      "source": [
        "train_dataset = dataset.sample(frac=0.8,random_state=1)\n",
        "test_dataset = dataset.drop(train_dataset.index)"
      ],
      "execution_count": 19,
      "outputs": []
    },
    {
      "cell_type": "markdown",
      "metadata": {
        "id": "J4ubs136WLNp"
      },
      "source": [
        "### Inspect the data\n",
        "\n",
        "Have a quick look at the joint distribution of a few pairs of columns from the training set."
      ]
    },
    {
      "cell_type": "code",
      "metadata": {
        "id": "oRKO_x8gWKv-"
      },
      "source": [
        "#sns.pairplot(train_dataset[column_names], diag_kind=\"kde\")\n",
        "#plt.show()"
      ],
      "execution_count": null,
      "outputs": []
    },
    {
      "cell_type": "markdown",
      "metadata": {
        "id": "gavKO_6DWRMP"
      },
      "source": [
        "Also look at the overall statistics:"
      ]
    },
    {
      "cell_type": "code",
      "metadata": {
        "id": "yi2FzC3T21jR",
        "outputId": "2304ae36-1f4f-4483-b508-d6790022894a",
        "colab": {
          "base_uri": "https://localhost:8080/",
          "height": 171
        }
      },
      "source": [
        "train_stats = train_dataset.describe()\n",
        "train_stats.pop(\"st\")\n",
        "\n",
        "train_stats = train_stats.transpose()\n",
        "train_stats"
      ],
      "execution_count": 20,
      "outputs": [
        {
          "output_type": "execute_result",
          "data": {
            "text/html": [
              "<div>\n",
              "<style scoped>\n",
              "    .dataframe tbody tr th:only-of-type {\n",
              "        vertical-align: middle;\n",
              "    }\n",
              "\n",
              "    .dataframe tbody tr th {\n",
              "        vertical-align: top;\n",
              "    }\n",
              "\n",
              "    .dataframe thead th {\n",
              "        text-align: right;\n",
              "    }\n",
              "</style>\n",
              "<table border=\"1\" class=\"dataframe\">\n",
              "  <thead>\n",
              "    <tr style=\"text-align: right;\">\n",
              "      <th></th>\n",
              "      <th>count</th>\n",
              "      <th>mean</th>\n",
              "      <th>std</th>\n",
              "      <th>min</th>\n",
              "      <th>25%</th>\n",
              "      <th>50%</th>\n",
              "      <th>75%</th>\n",
              "      <th>max</th>\n",
              "    </tr>\n",
              "  </thead>\n",
              "  <tbody>\n",
              "    <tr>\n",
              "      <th>volume</th>\n",
              "      <td>125328.0</td>\n",
              "      <td>2.712248</td>\n",
              "      <td>1.057960</td>\n",
              "      <td>0.431143</td>\n",
              "      <td>1.920658</td>\n",
              "      <td>2.625074</td>\n",
              "      <td>3.396813</td>\n",
              "      <td>6.006597</td>\n",
              "    </tr>\n",
              "    <tr>\n",
              "      <th>Power</th>\n",
              "      <td>125328.0</td>\n",
              "      <td>2.535960</td>\n",
              "      <td>0.439246</td>\n",
              "      <td>1.795200</td>\n",
              "      <td>2.164190</td>\n",
              "      <td>2.468040</td>\n",
              "      <td>2.888360</td>\n",
              "      <td>3.630000</td>\n",
              "    </tr>\n",
              "    <tr>\n",
              "      <th>centre_y</th>\n",
              "      <td>125328.0</td>\n",
              "      <td>1.804003</td>\n",
              "      <td>0.169194</td>\n",
              "      <td>1.345894</td>\n",
              "      <td>1.682844</td>\n",
              "      <td>1.783739</td>\n",
              "      <td>1.917586</td>\n",
              "      <td>2.364358</td>\n",
              "    </tr>\n",
              "    <tr>\n",
              "      <th>Aspect_Ratio</th>\n",
              "      <td>125328.0</td>\n",
              "      <td>1.334011</td>\n",
              "      <td>0.163549</td>\n",
              "      <td>1.092342</td>\n",
              "      <td>1.221519</td>\n",
              "      <td>1.300000</td>\n",
              "      <td>1.396396</td>\n",
              "      <td>2.535433</td>\n",
              "    </tr>\n",
              "  </tbody>\n",
              "</table>\n",
              "</div>"
            ],
            "text/plain": [
              "                 count      mean       std  ...       50%       75%       max\n",
              "volume        125328.0  2.712248  1.057960  ...  2.625074  3.396813  6.006597\n",
              "Power         125328.0  2.535960  0.439246  ...  2.468040  2.888360  3.630000\n",
              "centre_y      125328.0  1.804003  0.169194  ...  1.783739  1.917586  2.364358\n",
              "Aspect_Ratio  125328.0  1.334011  0.163549  ...  1.300000  1.396396  2.535433\n",
              "\n",
              "[4 rows x 8 columns]"
            ]
          },
          "metadata": {
            "tags": []
          },
          "execution_count": 20
        }
      ]
    },
    {
      "cell_type": "markdown",
      "metadata": {
        "id": "Db7Auq1yXUvh"
      },
      "source": [
        "### Split features from labels\n",
        "\n",
        "Separate the target value, or \"label\", from the features. This label is the value that you will train the model to predict."
      ]
    },
    {
      "cell_type": "code",
      "metadata": {
        "id": "t2sluJdCW7jN"
      },
      "source": [
        "train_labels = train_dataset.pop('st')\n",
        "test_labels = test_dataset.pop('st')"
      ],
      "execution_count": 21,
      "outputs": []
    },
    {
      "cell_type": "markdown",
      "metadata": {
        "id": "mRklxK5s388r"
      },
      "source": [
        "### Normalize the data\n",
        "\n",
        "Look again at the `train_stats` block above and note how different the ranges of each feature are."
      ]
    },
    {
      "cell_type": "markdown",
      "metadata": {
        "id": "-ywmerQ6dSox"
      },
      "source": [
        "It is good practice to normalize features that use different scales and ranges. Although the model *might* converge without feature normalization, it makes training more difficult, and it makes the resulting model dependent on the choice of units used in the input.\n",
        "\n",
        "Note: Although we intentionally generate these statistics from only the training dataset, these statistics will also be used to normalize the test dataset. We need to do that to project the test dataset into the same distribution that the model has been trained on."
      ]
    },
    {
      "cell_type": "code",
      "metadata": {
        "id": "JlC5ooJrgjQF"
      },
      "source": [
        "def norm(x):\n",
        "  return (x - train_stats['mean']) / train_stats['std']\n",
        "normed_train_data = norm(train_dataset)\n",
        "normed_test_data = norm(test_dataset)\n",
        "#normed_train_data = train_dataset\n",
        "#normed_test_data = test_dataset\n"
      ],
      "execution_count": 22,
      "outputs": []
    },
    {
      "cell_type": "code",
      "metadata": {
        "id": "V-iAzPgHReUu"
      },
      "source": [
        "#to check!\n",
        "\n",
        "#normed_test_data = tf.nn.batch_normalization(train_dataset, train_stats['mean'], train_stats['std'], offset=None, scale=None, variance_epsilon=1)\n",
        "#normed_test_data_old = norm(train_dataset)"
      ],
      "execution_count": null,
      "outputs": []
    },
    {
      "cell_type": "markdown",
      "metadata": {
        "id": "BuiClDk45eS4"
      },
      "source": [
        "This normalized data is what we will use to train the model.\n",
        "\n",
        "Caution: The statistics used to normalize the inputs here (mean and standard deviation) need to be applied to any other data that is fed to the model, along with the one-hot encoding that we did earlier.  That includes the test set as well as live data when the model is used in production."
      ]
    },
    {
      "cell_type": "markdown",
      "metadata": {
        "id": "SmjdzxKzEu1-"
      },
      "source": [
        "## The model"
      ]
    },
    {
      "cell_type": "markdown",
      "metadata": {
        "id": "6SWtkIjhrZwa"
      },
      "source": [
        "### Build the model\n",
        "\n",
        "Let's build our model. Here, we'll use a `Sequential` model with two densely connected hidden layers, and an output layer that returns a single, continuous value. The model building steps are wrapped in a function, `build_model`, since we'll create a second model, later on."
      ]
    },
    {
      "cell_type": "markdown",
      "metadata": {
        "id": "VF7eiYOO_gqb"
      },
      "source": [
        "## Neural network model"
      ]
    },
    {
      "cell_type": "code",
      "metadata": {
        "id": "vPSvYP6mhHBM"
      },
      "source": [
        "STEPS_PER_EPOCH=len(train_dataset)/500\n",
        "lr_schedule = tf.keras.optimizers.schedules.InverseTimeDecay(\n",
        "  0.001,\n",
        "  decay_steps=STEPS_PER_EPOCH*1000,\n",
        "  decay_rate=1,\n",
        "  staircase=False)\n",
        "\n",
        "def get_optimizer():\n",
        "  return tf.keras.optimizers.Adam(lr_schedule)"
      ],
      "execution_count": 23,
      "outputs": []
    },
    {
      "cell_type": "code",
      "metadata": {
        "id": "c26juK7ZG8j-"
      },
      "source": [
        "def build_model():\n",
        "  model = keras.Sequential([\n",
        "    layers.Dense(2500, activation=tf.nn.swish, input_shape=[len(train_dataset.keys())]),\n",
        "    layers.Dense(500, activation=tf.nn.swish),\n",
        "    # layers.Dense(3, activation=tf.nn.swish),\n",
        "    layers.Dense(1)\n",
        "  ])\n",
        "\n",
        " # optimizer = tf.keras.optimizers.RMSprop(0.0001)\n",
        "\n",
        "  model.compile(loss='mean_squared_error',\n",
        "                optimizer=get_optimizer(),\n",
        "                metrics=['mean_absolute_error', 'mean_squared_error'])\n",
        "  return model"
      ],
      "execution_count": 24,
      "outputs": []
    },
    {
      "cell_type": "code",
      "metadata": {
        "id": "UJPFdqJ3fUbG"
      },
      "source": [
        "    # layers.Dense(70, activation=tf.nn.swish),\n",
        "    # layers.Dense(60, activation=tf.nn.swish),\n",
        "    # layers.Dense(50, activation=tf.nn.swish),\n",
        "    # layers.Dense(40, activation=tf.nn.swish),\n",
        "    # layers.Dense(30, activation=tf.nn.swish),\n",
        "    # layers.Dense(20, activation=tf.nn.swish),\n",
        "    # layers.Dense(10, activation=tf.nn.swish),"
      ],
      "execution_count": null,
      "outputs": []
    },
    {
      "cell_type": "code",
      "metadata": {
        "id": "cGbPb-PHGbhs"
      },
      "source": [
        "model = build_model()"
      ],
      "execution_count": 25,
      "outputs": []
    },
    {
      "cell_type": "markdown",
      "metadata": {
        "id": "0D1SulhQ_ksx"
      },
      "source": [
        "## Random forest"
      ]
    },
    {
      "cell_type": "code",
      "metadata": {
        "id": "jO06sLhv_ndP",
        "outputId": "2b5431f8-bc6a-4b51-d7c7-2629d052a1bd",
        "colab": {
          "base_uri": "https://localhost:8080/"
        }
      },
      "source": [
        "from sklearn.ensemble import RandomForestRegressor\n",
        "\n",
        "model = RandomForestRegressor(max_depth=10, random_state=0)\n",
        "model.fit(normed_train_data, train_labels)\n",
        "predicted = model.predict(normed_test_data)\n",
        "\n",
        "print('Coefficient R^2:', model.score(normed_test_data, test_labels))\n"
      ],
      "execution_count": 60,
      "outputs": [
        {
          "output_type": "stream",
          "text": [
            "Coefficient R^2: 0.9011559201395274\n"
          ],
          "name": "stdout"
        }
      ]
    },
    {
      "cell_type": "markdown",
      "metadata": {
        "id": "m9XW3fo8_n-n"
      },
      "source": [
        "## Support Vector Machine (SVM)"
      ]
    },
    {
      "cell_type": "code",
      "metadata": {
        "id": "Lzwe7g2-_ruD",
        "outputId": "9f581764-472e-4004-9f45-8471bea3ff30",
        "colab": {
          "base_uri": "https://localhost:8080/"
        }
      },
      "source": [
        "from sklearn.svm import SVR\n",
        "\n",
        "model=SVR(C=0.001, kernel='sigmoid', gamma='scale', coef0=1, max_iter=2000)\n",
        "model.fit(normed_train_data, train_labels)\n",
        "predicted = model.predict(normed_test_data)\n",
        "\n",
        "print('Coefficient R^2:', model.score(normed_test_data, test_labels))\n"
      ],
      "execution_count": 59,
      "outputs": [
        {
          "output_type": "stream",
          "text": [
            "/usr/local/lib/python3.7/dist-packages/sklearn/svm/_base.py:231: ConvergenceWarning: Solver terminated early (max_iter=2000).  Consider pre-processing your data with StandardScaler or MinMaxScaler.\n",
            "  % self.max_iter, ConvergenceWarning)\n"
          ],
          "name": "stderr"
        },
        {
          "output_type": "stream",
          "text": [
            "Coefficient R^2: -0.02013237030903814\n"
          ],
          "name": "stdout"
        }
      ]
    },
    {
      "cell_type": "markdown",
      "metadata": {
        "id": "AUx4uYxk0GEJ"
      },
      "source": [
        "## If there is a model saved on google drive execute the next block"
      ]
    },
    {
      "cell_type": "code",
      "metadata": {
        "id": "y3Ir9yi8z0VA"
      },
      "source": [
        "from tensorflow.keras.models import load_model\n",
        "\n",
        "del model \n",
        "folder=str('Experimental_surfactants/')\n",
        "model_name=str('TritonX_all_vary_175points_trial_1.h5')\n",
        "model = load_model(str(\"/content/drive/My Drive/DropLev/MachineLearningModels/\"+folder+model_name))\n"
      ],
      "execution_count": null,
      "outputs": []
    },
    {
      "cell_type": "markdown",
      "metadata": {
        "id": "Sj49Og4YGULr"
      },
      "source": [
        "### Inspect the model\n",
        "\n",
        "Use the `.summary` method to print a simple description of the model"
      ]
    },
    {
      "cell_type": "code",
      "metadata": {
        "id": "ReAD0n6MsFK-",
        "outputId": "46cd0740-1f91-4ddd-bf43-3886b23b0738",
        "colab": {
          "base_uri": "https://localhost:8080/"
        }
      },
      "source": [
        "model.summary()"
      ],
      "execution_count": 26,
      "outputs": [
        {
          "output_type": "stream",
          "text": [
            "Model: \"sequential\"\n",
            "_________________________________________________________________\n",
            "Layer (type)                 Output Shape              Param #   \n",
            "=================================================================\n",
            "dense (Dense)                (None, 2500)              12500     \n",
            "_________________________________________________________________\n",
            "dense_1 (Dense)              (None, 500)               1250500   \n",
            "_________________________________________________________________\n",
            "dense_2 (Dense)              (None, 1)                 501       \n",
            "=================================================================\n",
            "Total params: 1,263,501\n",
            "Trainable params: 1,263,501\n",
            "Non-trainable params: 0\n",
            "_________________________________________________________________\n"
          ],
          "name": "stdout"
        }
      ]
    },
    {
      "cell_type": "markdown",
      "metadata": {
        "id": "Vt6W50qGsJAL"
      },
      "source": [
        "\n",
        "Now try out the model. Take a batch of `10` examples from the training data and call `model.predict` on it."
      ]
    },
    {
      "cell_type": "code",
      "metadata": {
        "id": "-d-gBaVtGTSC",
        "outputId": "85ab799a-efeb-45f1-c54d-8765bf22165c",
        "colab": {
          "base_uri": "https://localhost:8080/"
        }
      },
      "source": [
        "example_batch = normed_train_data[:10]\n",
        "example_result = model.predict(example_batch)\n",
        "example_result"
      ],
      "execution_count": 27,
      "outputs": [
        {
          "output_type": "stream",
          "text": [
            "/usr/local/lib/python3.7/dist-packages/tensorflow/python/keras/engine/training.py:2325: UserWarning: `Model.state_updates` will be removed in a future version. This property should not be used in TensorFlow 2.0, as `updates` are applied automatically.\n",
            "  warnings.warn('`Model.state_updates` will be removed in a future version. '\n"
          ],
          "name": "stderr"
        },
        {
          "output_type": "execute_result",
          "data": {
            "text/plain": [
              "array([[-0.05443232],\n",
              "       [ 0.00497837],\n",
              "       [ 0.06555058],\n",
              "       [ 0.03061546],\n",
              "       [-0.03634379],\n",
              "       [-0.01426938],\n",
              "       [ 0.02127873],\n",
              "       [-0.01192214],\n",
              "       [-0.07664655],\n",
              "       [-0.00948929]], dtype=float32)"
            ]
          },
          "metadata": {
            "tags": []
          },
          "execution_count": 27
        }
      ]
    },
    {
      "cell_type": "markdown",
      "metadata": {
        "id": "QlM8KrSOsaYo"
      },
      "source": [
        "It seems to be working, and it produces a result of the expected shape and type."
      ]
    },
    {
      "cell_type": "markdown",
      "metadata": {
        "id": "0-qWCsh6DlyH"
      },
      "source": [
        "### Train the model\n",
        "\n",
        "Train the model for 1000 epochs, and record the training and validation accuracy in the `history` object."
      ]
    },
    {
      "cell_type": "code",
      "metadata": {
        "id": "sD7qHCmNIOY0",
        "outputId": "f0ef1d55-739a-4425-a13f-bb14004dba65",
        "colab": {
          "base_uri": "https://localhost:8080/",
          "height": 235
        }
      },
      "source": [
        "# Display training progress by printing a single dot for each completed epoch\n",
        "class PrintDot(keras.callbacks.Callback):\n",
        "  def on_epoch_end(self, epoch, logs):\n",
        "    if epoch % 55 == 0: print('')\n",
        "    print('.', end='')\n",
        "\n",
        "\n",
        "EPOCHS = 200\n",
        "\n",
        "\n",
        "early_stop = keras.callbacks.EarlyStopping(monitor='val_loss',min_delta=0, patience=15, verbose=0, mode='auto')\n",
        "\n",
        "\n",
        "history = model.fit(\n",
        "  normed_train_data, train_labels,\n",
        "  epochs=EPOCHS, validation_split = 0.2, verbose=0,\n",
        "  callbacks=[early_stop, PrintDot()])  # callbacks=callbacks_list"
      ],
      "execution_count": 1,
      "outputs": [
        {
          "output_type": "error",
          "ename": "NameError",
          "evalue": "ignored",
          "traceback": [
            "\u001b[0;31m---------------------------------------------------------------------------\u001b[0m",
            "\u001b[0;31mNameError\u001b[0m                                 Traceback (most recent call last)",
            "\u001b[0;32m<ipython-input-1-e250e4fc1288>\u001b[0m in \u001b[0;36m<module>\u001b[0;34m()\u001b[0m\n\u001b[1;32m      1\u001b[0m \u001b[0;31m# Display training progress by printing a single dot for each completed epoch\u001b[0m\u001b[0;34m\u001b[0m\u001b[0;34m\u001b[0m\u001b[0;34m\u001b[0m\u001b[0m\n\u001b[0;32m----> 2\u001b[0;31m \u001b[0;32mclass\u001b[0m \u001b[0mPrintDot\u001b[0m\u001b[0;34m(\u001b[0m\u001b[0mkeras\u001b[0m\u001b[0;34m.\u001b[0m\u001b[0mcallbacks\u001b[0m\u001b[0;34m.\u001b[0m\u001b[0mCallback\u001b[0m\u001b[0;34m)\u001b[0m\u001b[0;34m:\u001b[0m\u001b[0;34m\u001b[0m\u001b[0;34m\u001b[0m\u001b[0m\n\u001b[0m\u001b[1;32m      3\u001b[0m   \u001b[0;32mdef\u001b[0m \u001b[0mon_epoch_end\u001b[0m\u001b[0;34m(\u001b[0m\u001b[0mself\u001b[0m\u001b[0;34m,\u001b[0m \u001b[0mepoch\u001b[0m\u001b[0;34m,\u001b[0m \u001b[0mlogs\u001b[0m\u001b[0;34m)\u001b[0m\u001b[0;34m:\u001b[0m\u001b[0;34m\u001b[0m\u001b[0;34m\u001b[0m\u001b[0m\n\u001b[1;32m      4\u001b[0m     \u001b[0;32mif\u001b[0m \u001b[0mepoch\u001b[0m \u001b[0;34m%\u001b[0m \u001b[0;36m55\u001b[0m \u001b[0;34m==\u001b[0m \u001b[0;36m0\u001b[0m\u001b[0;34m:\u001b[0m \u001b[0mprint\u001b[0m\u001b[0;34m(\u001b[0m\u001b[0;34m''\u001b[0m\u001b[0;34m)\u001b[0m\u001b[0;34m\u001b[0m\u001b[0;34m\u001b[0m\u001b[0m\n\u001b[1;32m      5\u001b[0m     \u001b[0mprint\u001b[0m\u001b[0;34m(\u001b[0m\u001b[0;34m'.'\u001b[0m\u001b[0;34m,\u001b[0m \u001b[0mend\u001b[0m\u001b[0;34m=\u001b[0m\u001b[0;34m''\u001b[0m\u001b[0;34m)\u001b[0m\u001b[0;34m\u001b[0m\u001b[0;34m\u001b[0m\u001b[0m\n",
            "\u001b[0;31mNameError\u001b[0m: name 'keras' is not defined"
          ]
        }
      ]
    },
    {
      "cell_type": "markdown",
      "metadata": {
        "id": "tQm3pc0FYPQB"
      },
      "source": [
        "Visualize the model's training progress using the stats stored in the `history` object."
      ]
    },
    {
      "cell_type": "code",
      "metadata": {
        "id": "4Xj91b-dymEy",
        "outputId": "82dd0d26-38d8-42c7-8968-ec57dedce146",
        "colab": {
          "base_uri": "https://localhost:8080/",
          "height": 222
        }
      },
      "source": [
        "hist = pd.DataFrame(history.history)\n",
        "hist['epoch'] = history.epoch\n",
        "hist.tail()"
      ],
      "execution_count": 29,
      "outputs": [
        {
          "output_type": "execute_result",
          "data": {
            "text/html": [
              "<div>\n",
              "<style scoped>\n",
              "    .dataframe tbody tr th:only-of-type {\n",
              "        vertical-align: middle;\n",
              "    }\n",
              "\n",
              "    .dataframe tbody tr th {\n",
              "        vertical-align: top;\n",
              "    }\n",
              "\n",
              "    .dataframe thead th {\n",
              "        text-align: right;\n",
              "    }\n",
              "</style>\n",
              "<table border=\"1\" class=\"dataframe\">\n",
              "  <thead>\n",
              "    <tr style=\"text-align: right;\">\n",
              "      <th></th>\n",
              "      <th>loss</th>\n",
              "      <th>mean_absolute_error</th>\n",
              "      <th>mean_squared_error</th>\n",
              "      <th>val_loss</th>\n",
              "      <th>val_mean_absolute_error</th>\n",
              "      <th>val_mean_squared_error</th>\n",
              "      <th>epoch</th>\n",
              "    </tr>\n",
              "  </thead>\n",
              "  <tbody>\n",
              "    <tr>\n",
              "      <th>995</th>\n",
              "      <td>4.339959</td>\n",
              "      <td>1.344712</td>\n",
              "      <td>4.339964</td>\n",
              "      <td>4.858629</td>\n",
              "      <td>1.426651</td>\n",
              "      <td>4.858628</td>\n",
              "      <td>995</td>\n",
              "    </tr>\n",
              "    <tr>\n",
              "      <th>996</th>\n",
              "      <td>4.341572</td>\n",
              "      <td>1.343027</td>\n",
              "      <td>4.341576</td>\n",
              "      <td>4.862009</td>\n",
              "      <td>1.418638</td>\n",
              "      <td>4.862008</td>\n",
              "      <td>996</td>\n",
              "    </tr>\n",
              "    <tr>\n",
              "      <th>997</th>\n",
              "      <td>4.341613</td>\n",
              "      <td>1.343655</td>\n",
              "      <td>4.341615</td>\n",
              "      <td>4.894823</td>\n",
              "      <td>1.428940</td>\n",
              "      <td>4.894823</td>\n",
              "      <td>997</td>\n",
              "    </tr>\n",
              "    <tr>\n",
              "      <th>998</th>\n",
              "      <td>4.337558</td>\n",
              "      <td>1.341786</td>\n",
              "      <td>4.337556</td>\n",
              "      <td>4.861349</td>\n",
              "      <td>1.417788</td>\n",
              "      <td>4.861348</td>\n",
              "      <td>998</td>\n",
              "    </tr>\n",
              "    <tr>\n",
              "      <th>999</th>\n",
              "      <td>4.334665</td>\n",
              "      <td>1.342600</td>\n",
              "      <td>4.334663</td>\n",
              "      <td>4.891584</td>\n",
              "      <td>1.431068</td>\n",
              "      <td>4.891588</td>\n",
              "      <td>999</td>\n",
              "    </tr>\n",
              "  </tbody>\n",
              "</table>\n",
              "</div>"
            ],
            "text/plain": [
              "         loss  mean_absolute_error  ...  val_mean_squared_error  epoch\n",
              "995  4.339959             1.344712  ...                4.858628    995\n",
              "996  4.341572             1.343027  ...                4.862008    996\n",
              "997  4.341613             1.343655  ...                4.894823    997\n",
              "998  4.337558             1.341786  ...                4.861348    998\n",
              "999  4.334665             1.342600  ...                4.891588    999\n",
              "\n",
              "[5 rows x 7 columns]"
            ]
          },
          "metadata": {
            "tags": []
          },
          "execution_count": 29
        }
      ]
    },
    {
      "cell_type": "markdown",
      "metadata": {
        "id": "AqsuANc11FYv"
      },
      "source": [
        "Let's automatically stop training when the validation score doesn't improve. We'll use an *EarlyStopping callback* that tests a training condition for  every epoch. If a set amount of epochs elapses without showing improvement, then automatically stop the training.\n",
        "\n",
        "You can learn more about this callback [here](https://www.tensorflow.org/versions/master/api_docs/python/tf/keras/callbacks/EarlyStopping)."
      ]
    },
    {
      "cell_type": "code",
      "metadata": {
        "id": "B6XriGbVPh2t",
        "outputId": "5d1620a8-ca61-4186-ead9-b1f80ce67418",
        "colab": {
          "base_uri": "https://localhost:8080/",
          "height": 549
        }
      },
      "source": [
        "def plot_history(history):\n",
        "  hist = pd.DataFrame(history.history)\n",
        "  hist['epoch'] = history.epoch\n",
        "\n",
        "  plt.figure()\n",
        "  plt.xlabel('Epoch')\n",
        "  plt.ylabel('Mean Abs Error [ST]')\n",
        "  plt.plot(hist['epoch'], hist['mean_absolute_error'],\n",
        "           label='Training Error')\n",
        "  plt.plot(hist['epoch'], hist['val_mean_absolute_error'],\n",
        "           label = 'Validation Error')\n",
        "  plt.ylim([0,2])\n",
        "  plt.legend()\n",
        "\n",
        "  plt.figure()\n",
        "  plt.xlabel('Epoch')\n",
        "  plt.ylabel('Mean Square Error [$ST^2$]')\n",
        "  plt.plot(hist['epoch'], hist['mean_squared_error'],\n",
        "           label='Training Error')\n",
        "  plt.plot(hist['epoch'], hist['val_mean_squared_error'],\n",
        "           label = 'Validation Error')\n",
        "  plt.ylim([0,3])\n",
        "  plt.legend()\n",
        "  plt.show()\n",
        "\n",
        "\n",
        "plot_history(history)"
      ],
      "execution_count": 30,
      "outputs": [
        {
          "output_type": "display_data",
          "data": {
            "image/png": "[encoded data removed]",
            "text/plain": [
              "<Figure size 432x288 with 1 Axes>"
            ]
          },
          "metadata": {
            "tags": [],
            "needs_background": "light"
          }
        },
        {
          "output_type": "display_data",
          "data": {
            "image/png": "[encoded data removed]",
            "text/plain": [
              "<Figure size 432x288 with 1 Axes>"
            ]
          },
          "metadata": {
            "tags": [],
            "needs_background": "light"
          }
        }
      ]
    },
    {
      "cell_type": "markdown",
      "metadata": {
        "id": "3St8-DmrX8P4"
      },
      "source": [
        "Let's see how well the model generalizes by using the **test** set, which we did not use when training the model.  This tells us how well we can expect the model to predict when we use it in the real world."
      ]
    },
    {
      "cell_type": "code",
      "metadata": {
        "id": "jl_yNr5n1kms",
        "outputId": "5bc5dba0-e5f8-4f83-fbbf-e596fcfd9dbd",
        "colab": {
          "base_uri": "https://localhost:8080/"
        }
      },
      "source": [
        "loss, mae, mse = model.evaluate(normed_test_data, test_labels, verbose=0)\n",
        "print(\"Testing set Mean Abs Error: {:5.2f} mN/m\".format(mae))\n",
        "# keras.metrics.accuracy(normed_test_data, test_labels)"
      ],
      "execution_count": 31,
      "outputs": [
        {
          "output_type": "stream",
          "text": [
            "Testing set Mean Abs Error:  1.41 mN/m\n"
          ],
          "name": "stdout"
        }
      ]
    },
    {
      "cell_type": "markdown",
      "metadata": {
        "id": "ft603OzXuEZC"
      },
      "source": [
        "### Make predictions\n",
        "\n",
        "Finally, predict volume values using data in the testing set:"
      ]
    },
    {
      "cell_type": "code",
      "metadata": {
        "id": "Xe7RXH3N3CWU"
      },
      "source": [
        "test_predictions = model.predict(normed_test_data).flatten()\n",
        "\n",
        "plt.scatter(test_labels, test_predictions)\n",
        "plt.title('Normalized test data')\n",
        "plt.xlabel('True Values [surface tension - mN/m]')\n",
        "plt.ylabel('Predictions [surface tension - mN/m]')\n",
        "plt.axis('equal')\n",
        "plt.axis('square')\n",
        "plt.xlim([20,75])\n",
        "plt.ylim([20,75])\n",
        "_ = plt.plot([-100, 100], [-100, 100])\n",
        "plt.show()\n",
        "\n",
        "test_predictions2 = model.predict(normed_train_data).flatten()\n",
        "\n",
        "plt.scatter(train_labels, test_predictions2)\n",
        "plt.title('Normalized training data')\n",
        "plt.xlabel('True Values [surface tension - mN/m]')\n",
        "plt.ylabel('Predictions [surface tension - mN/m]')\n",
        "plt.axis('equal')\n",
        "plt.axis('square')\n",
        "plt.xlim([20,75])\n",
        "plt.ylim([20,75])\n",
        "_ = plt.plot([-100, 100], [-100, 100])\n",
        "plt.show()\n"
      ],
      "execution_count": null,
      "outputs": []
    },
    {
      "cell_type": "code",
      "metadata": {
        "id": "f-OHX4DiXd8x"
      },
      "source": [
        "error = test_predictions - test_labels\n",
        "plt.hist(error, bins = 50)\n",
        "plt.xlabel(\"Prediction Error [surface tension - mN/m]\")\n",
        "_ = plt.ylabel(\"Count\")\n",
        "# plt.xlim(-20, 20)\n",
        "plt.show()"
      ],
      "execution_count": null,
      "outputs": []
    },
    {
      "cell_type": "markdown",
      "metadata": {
        "id": "r-i0Bq5JF0nv"
      },
      "source": [
        "# Saving the final Model"
      ]
    },
    {
      "cell_type": "markdown",
      "metadata": {
        "id": "G8FBhOnbGK65"
      },
      "source": [
        "When you are satisfied with the model and the accuracy continue from here:"
      ]
    },
    {
      "cell_type": "markdown",
      "metadata": {
        "id": "BspL3Z6-GPaa"
      },
      "source": [
        "Saving the model in a **SavedModel** format"
      ]
    },
    {
      "cell_type": "code",
      "metadata": {
        "id": "VwWrwBcZGLnZ"
      },
      "source": [
        "!pip install -q pyyaml h5py  # Required to save models in HDF5 format"
      ],
      "execution_count": null,
      "outputs": []
    },
    {
      "cell_type": "code",
      "metadata": {
        "id": "6BR7rbL5GXku"
      },
      "source": [
        "import os"
      ],
      "execution_count": null,
      "outputs": []
    },
    {
      "cell_type": "code",
      "metadata": {
        "id": "MzumSsZfGYCp"
      },
      "source": [
        "# Save the entire model as a SavedModel.\n",
        "folder=str('Experimental_surfactants/')\n",
        "filename=str('TritonX_all_vary_175points_trial_2.h5')\n",
        "!mkdir -p '/content/drive/My Drive/DropLev/MachineLearningModels' #Ceates a folder named \"MachineLearningModels\"\n",
        "model.save('/content/drive/My Drive/DropLev/MachineLearningModels/'+folder+filename)  #Saves the file"
      ],
      "execution_count": null,
      "outputs": []
    },
    {
      "cell_type": "markdown",
      "metadata": {
        "id": "pJzKbb1EGgUE"
      },
      "source": [
        "The SavedModel format is a directory containing a protobuf binary and a Tensorflow checkpoint. Inspect the saved model directory:"
      ]
    },
    {
      "cell_type": "code",
      "metadata": {
        "id": "9yGUiOkfGgen"
      },
      "source": [
        "# DropLev_st_prediction_model directory\n",
        "#!ls content/drive/My Drive/DropLev/MachineLearningModels\n",
        "\n",
        "# Contains an assets folder, saved_model.pb, and variables folder.\n",
        "#!ls content/drive/My Drive/DropLev/MachineLearningModels/SDS_1.h5"
      ],
      "execution_count": null,
      "outputs": []
    },
    {
      "cell_type": "markdown",
      "metadata": {
        "id": "n2IWIiOYGgqK"
      },
      "source": [
        "Saving the model in a **HDF5** format"
      ]
    },
    {
      "cell_type": "code",
      "metadata": {
        "id": "H_Zl4tVVGg3J"
      },
      "source": [
        "# Save the entire model to a HDF5 file.\n",
        "# The '.h5' extension indicates that the model should be saved to HDF5.\n",
        "#model.save('content/drive/My Drive/DropLev/MachineLearningModels/'+filename) "
      ],
      "execution_count": null,
      "outputs": []
    },
    {
      "cell_type": "markdown",
      "metadata": {
        "id": "oZcqRI0r9B4r"
      },
      "source": [
        "# Reload a fresh Keras model from the saved model:"
      ]
    },
    {
      "cell_type": "markdown",
      "metadata": {
        "id": "W6mEqNn497op"
      },
      "source": [
        "For **SavedModel** format"
      ]
    },
    {
      "cell_type": "code",
      "metadata": {
        "id": "c4vUC4ep8_VA"
      },
      "source": [
        "new_model = tf.keras.models.load_model('/content/drive/My Drive/DropLev/MachineLearningModels/'+folder+filename)\n",
        "\n",
        "# Check its architecture\n",
        "new_model.summary()"
      ],
      "execution_count": null,
      "outputs": []
    },
    {
      "cell_type": "markdown",
      "metadata": {
        "id": "myilbB_P9_dO"
      },
      "source": [
        "For **HDF5** format"
      ]
    },
    {
      "cell_type": "code",
      "metadata": {
        "id": "94ZjuhOV-Dfk"
      },
      "source": [
        "# Recreate the exact same model, including its weights and the optimizer\n",
        "new_model = tf.keras.models.load_model('DropLev_st_prediction_model.h5')\n",
        "\n",
        "# Show the model architecture\n",
        "new_model.summary()"
      ],
      "execution_count": null,
      "outputs": []
    },
    {
      "cell_type": "markdown",
      "metadata": {
        "id": "j1K6xGBg9K4A"
      },
      "source": [
        "Evaluate the restored model (for both formats)"
      ]
    },
    {
      "cell_type": "code",
      "metadata": {
        "id": "if5rjrz79NPI"
      },
      "source": [
        "# Evaluation\n",
        "loss, mae, mse = new_model.evaluate(normed_test_data, test_labels, verbose=0)\n",
        "print('Restored model, Mean absolute error: {:5.2f}'.format(mae))\n",
        "\n",
        "print(new_model.predict(normed_test_data).shape)"
      ],
      "execution_count": null,
      "outputs": []
    }
  ]
}