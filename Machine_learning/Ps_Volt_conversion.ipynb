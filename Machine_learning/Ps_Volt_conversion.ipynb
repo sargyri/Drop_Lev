{
  "nbformat": 4,
  "nbformat_minor": 0,
  "metadata": {
    "colab": {
      "name": "Ps_Volt_conversion.ipynb",
      "provenance": [],
      "toc_visible": true,
      "authorship_tag": "ABX9TyPY5EwkMQuVEMEQ9k/SyvtI",
      "include_colab_link": true
    },
    "kernelspec": {
      "name": "python3",
      "display_name": "Python 3"
    },
    "accelerator": "GPU"
  },
  "cells": [
    {
      "cell_type": "markdown",
      "metadata": {
        "id": "view-in-github",
        "colab_type": "text"
      },
      "source": [
        "<a href=\"https://colab.research.google.com/github/sargyri/Drop_Lev/blob/master/Machine_learning/Ps_Volt_conversion.ipynb\" target=\"_parent\"><img src=\"https://colab.research.google.com/assets/colab-badge.svg\" alt=\"Open In Colab\"/></a>"
      ]
    },
    {
      "cell_type": "markdown",
      "metadata": {
        "id": "FhGuhbZ6M5tl"
      },
      "source": [
        "##### Copyright 2018 The TensorFlow Authors."
      ]
    },
    {
      "cell_type": "code",
      "metadata": {
        "cellView": "form",
        "id": "AwOEIRJC6Une"
      },
      "source": [
        "#@title Licensed under the Apache License, Version 2.0 (the \"License\");\n",
        "# you may not use this file except in compliance with the License.\n",
        "# You may obtain a copy of the License at\n",
        "#\n",
        "# https://www.apache.org/licenses/LICENSE-2.0\n",
        "#\n",
        "# Unless required by applicable law or agreed to in writing, software\n",
        "# distributed under the License is distributed on an \"AS IS\" BASIS,\n",
        "# WITHOUT WARRANTIES OR CONDITIONS OF ANY KIND, either express or implied.\n",
        "# See the License for the specific language governing permissions and\n",
        "# limitations under the License."
      ],
      "execution_count": null,
      "outputs": []
    },
    {
      "cell_type": "code",
      "metadata": {
        "cellView": "form",
        "id": "KyPEtTqk6VdG"
      },
      "source": [
        "#@title MIT License\n",
        "#\n",
        "# Copyright (c) 2017 François Chollet\n",
        "#\n",
        "# Permission is hereby granted, free of charge, to any person obtaining a\n",
        "# copy of this software and associated documentation files (the \"Software\"),\n",
        "# to deal in the Software without restriction, including without limitation\n",
        "# the rights to use, copy, modify, merge, publish, distribute, sublicense,\n",
        "# and/or sell copies of the Software, and to permit persons to whom the\n",
        "# Software is furnished to do so, subject to the following conditions:\n",
        "#\n",
        "# The above copyright notice and this permission notice shall be included in\n",
        "# all copies or substantial portions of the Software.\n",
        "#\n",
        "# THE SOFTWARE IS PROVIDED \"AS IS\", WITHOUT WARRANTY OF ANY KIND, EXPRESS OR\n",
        "# IMPLIED, INCLUDING BUT NOT LIMITED TO THE WARRANTIES OF MERCHANTABILITY,\n",
        "# FITNESS FOR A PARTICULAR PURPOSE AND NONINFRINGEMENT. IN NO EVENT SHALL\n",
        "# THE AUTHORS OR COPYRIGHT HOLDERS BE LIABLE FOR ANY CLAIM, DAMAGES OR OTHER\n",
        "# LIABILITY, WHETHER IN AN ACTION OF CONTRACT, TORT OR OTHERWISE, ARISING\n",
        "# FROM, OUT OF OR IN CONNECTION WITH THE SOFTWARE OR THE USE OR OTHER\n",
        "# DEALINGS IN THE SOFTWARE."
      ],
      "execution_count": null,
      "outputs": []
    },
    {
      "cell_type": "markdown",
      "metadata": {
        "id": "EIdT9iu_Z4Rb"
      },
      "source": [
        "# Lev Droplet "
      ]
    },
    {
      "cell_type": "markdown",
      "metadata": {
        "id": "bBIlTPscrIT9"
      },
      "source": [
        "<table class=\"tfo-notebook-buttons\" align=\"left\">\n",
        "  <td>\n",
        "    <a target=\"_blank\" href=\"https://www.tensorflow.org/tutorials/keras/basic_regression\"><img src=\"https://www.tensorflow.org/images/tf_logo_32px.png\" />View on TensorFlow.org</a>\n",
        "  </td>\n",
        "  <td>\n",
        "    <a target=\"_blank\" href=\"https://colab.research.google.com/github/tensorflow/docs/blob/r2.0rc/site/en/tutorials/keras/basic_regression.ipynb\"><img src=\"https://www.tensorflow.org/images/colab_logo_32px.png\" />Run in Google Colab</a>\n",
        "  </td>\n",
        "  <td>\n",
        "    <a target=\"_blank\" href=\"https://github.com/tensorflow/docs/blob/r2.0rc/site/en/tutorials/keras/basic_regression.ipynb\"><img src=\"https://www.tensorflow.org/images/GitHub-Mark-32px.png\" />View source on GitHub</a>\n",
        "  </td>\n",
        "</table>"
      ]
    },
    {
      "cell_type": "markdown",
      "metadata": {
        "id": "AHp3M9ZmrIxj"
      },
      "source": [
        "Determination of ST by NN using coords (rho,theta, volume, volt)"
      ]
    },
    {
      "cell_type": "code",
      "metadata": {
        "id": "moB4tpEHxKB3"
      },
      "source": [
        "# Use seaborn for pairplot\n",
        "#!pip install seaborn\n",
        "#!pip install talos\n",
        "#!pip install -q  --no-deps tensorflow-addons~=0.7\n",
        "!pip install lmfit"
      ],
      "execution_count": null,
      "outputs": []
    },
    {
      "cell_type": "code",
      "metadata": {
        "id": "1rRo8oNqZ-Rj",
        "outputId": "4e6c33f4-9701-4976-8e2e-0bf2b8481e21",
        "colab": {
          "base_uri": "https://localhost:8080/",
          "height": 108
        }
      },
      "source": [
        "from __future__ import absolute_import, division, print_function, unicode_literals\n",
        "\n",
        "import pathlib\n",
        "import pprint\n",
        "import os\n",
        "import matplotlib.pyplot as plt\n",
        "import pandas as pd\n",
        "import numpy as np\n",
        "\n",
        "import seaborn as sns\n",
        "\n",
        "import tensorflow.compat.v1 as tf\n",
        "tf.disable_v2_behavior()\n",
        "from tensorflow import keras\n",
        "from tensorflow.keras import layers\n",
        "\n",
        "from tensorflow.keras.callbacks import ModelCheckpoint\n",
        "\n",
        "import tensorflow_addons as tfa\n",
        "\n",
        "print(tf.__version__)\n"
      ],
      "execution_count": 1,
      "outputs": [
        {
          "output_type": "stream",
          "text": [
            "WARNING:tensorflow:From /usr/local/lib/python3.6/dist-packages/tensorflow/python/compat/v2_compat.py:96: disable_resource_variables (from tensorflow.python.ops.variable_scope) is deprecated and will be removed in a future version.\n",
            "Instructions for updating:\n",
            "non-resource variables are not supported in the long term\n",
            "2.3.0\n"
          ],
          "name": "stdout"
        }
      ]
    },
    {
      "cell_type": "markdown",
      "metadata": {
        "id": "TvCBPgR-gWXl"
      },
      "source": [
        "Run the next code box only if google drive is not mounted to colab"
      ]
    },
    {
      "cell_type": "code",
      "metadata": {
        "id": "7dA-joJRPNiJ",
        "outputId": "1dbba004-49eb-4679-e930-aa61f765ea5a",
        "colab": {
          "base_uri": "https://localhost:8080/",
          "height": 35
        }
      },
      "source": [
        "from google.colab import drive\n",
        "drive.mount('/content/drive')"
      ],
      "execution_count": 2,
      "outputs": [
        {
          "output_type": "stream",
          "text": [
            "Mounted at /content/drive\n"
          ],
          "name": "stdout"
        }
      ]
    },
    {
      "cell_type": "markdown",
      "metadata": {
        "id": "lMshRx3PgwcZ"
      },
      "source": [
        "If it **is** mounted continue from here on"
      ]
    },
    {
      "cell_type": "markdown",
      "metadata": {
        "id": "OgUp-UtJe3dA"
      },
      "source": [
        "Check the connection to google's **GPU**"
      ]
    },
    {
      "cell_type": "code",
      "metadata": {
        "id": "dgZHRBKye0v-",
        "outputId": "b9f89ee3-3fa9-4f6d-9351-5a5fd2c66e6e",
        "colab": {
          "base_uri": "https://localhost:8080/",
          "height": 35
        }
      },
      "source": [
        "%tensorflow_version 2.x\n",
        "import tensorflow as tf\n",
        "device_name = tf.test.gpu_device_name()\n",
        "if device_name != '/device:GPU:0':\n",
        "  raise SystemError('GPU device not found')\n",
        "print('Found GPU at: {}'.format(device_name))"
      ],
      "execution_count": 3,
      "outputs": [
        {
          "output_type": "stream",
          "text": [
            "Found GPU at: /device:GPU:0\n"
          ],
          "name": "stdout"
        }
      ]
    },
    {
      "cell_type": "markdown",
      "metadata": {
        "id": "4x6T3kToe53b"
      },
      "source": [
        "**Or** check the connection to google's **TPU**"
      ]
    },
    {
      "cell_type": "code",
      "metadata": {
        "id": "3IEVK-KFxi5Z"
      },
      "source": [
        "if 'COLAB_TPU_ADDR' not in os.environ:\n",
        "  print('ERROR: Not connected to a TPU runtime; please see the first cell in this notebook for instructions!')\n",
        "else:\n",
        "  tpu_address = 'grpc://' + os.environ['COLAB_TPU_ADDR']\n",
        "  print ('TPU address is', tpu_address)\n",
        "\n",
        "  with tf.Session(tpu_address) as session:\n",
        "    devices = session.list_devices()\n",
        "    \n",
        "  print('TPU devices:')\n",
        "  pprint.pprint(devices)"
      ],
      "execution_count": null,
      "outputs": []
    },
    {
      "cell_type": "markdown",
      "metadata": {
        "id": "gFh9ne3FZ-On"
      },
      "source": [
        "### Get the data\n",
        "First download the dataset!\n",
        "\n",
        "**Option 1**: Upload files"
      ]
    },
    {
      "cell_type": "code",
      "metadata": {
        "id": "K7-5GSURZTdh"
      },
      "source": [
        "from google.colab import files\n",
        "uploaded = files.upload()"
      ],
      "execution_count": null,
      "outputs": []
    },
    {
      "cell_type": "code",
      "metadata": {
        "id": "l83INVYlZsND"
      },
      "source": [
        "import io\n",
        "csvfilename=str('TritonX100_conci_0.0100_all.csv')\n",
        "input = pd.read_csv(io.BytesIO(uploaded[csvfilename]))\n",
        "#input = pd.read_csv(csvfilename, sep=\"\\t\")\n",
        "# Dataset is now stored in a Pandas Dataframe\n",
        "input.shape"
      ],
      "execution_count": null,
      "outputs": []
    },
    {
      "cell_type": "markdown",
      "metadata": {
        "id": "WCobdL9vDRXH"
      },
      "source": [
        "**Option 2**: Import files from drive"
      ]
    },
    {
      "cell_type": "code",
      "metadata": {
        "id": "Z-NFT5ddEOdC"
      },
      "source": [
        "#From the drive folder that is mounted to collab go to the file that you are interested in, right click and copy the path of the file. You can find this on the folder symbol on the left:\n",
        "#OBS! The name of the file and folder(s) must not have a gap! For example a filepath like this: 'This folder/That_file name.csv' won't be able to be readen you should have\n",
        "#something like: 'This_folder/That_file_name'.\n",
        "\n",
        "fileWater1=pd.read_csv(str('/content/drive/My Drive/DropLev/Levitator_2/Training/water/water__10.50_20200306_alldata_check.csv'), sep=\"\\t\")\n",
        "fileWater2=pd.read_csv(str('/content/drive/My Drive/DropLev/Levitator_2/Training/water/water__6.50_20200306_alldata_check.csv'), sep='\\t')\n",
        "fileWater3=pd.read_csv(str('/content/drive/My Drive/DropLev/Levitator_2/Training/water/water__8.50_20200306_alldata_check.csv'), sep='\\t')\n",
        "fileWater4=pd.read_csv(str('/content/drive/My Drive/DropLev/Levitator_2/Training/water/water__1_20200701_alldata_check.csv'), sep='\\t')\n",
        "fileWater5=pd.read_csv(str('/content/drive/My Drive/DropLev/Levitator_2/Training/water/water__2_20200701_alldata_check.csv'), sep='\\t')\n",
        "fileWater6=pd.read_csv(str('/content/drive/My Drive/DropLev/Levitator_2/Training/water/water__3_20200701_alldata_check.csv'), sep='\\t')\n"
      ],
      "execution_count": 4,
      "outputs": []
    },
    {
      "cell_type": "code",
      "metadata": {
        "id": "tzJI27XdjnCq"
      },
      "source": [
        "#Add the files one under the other. OBS all the files need to have the same columns! You can add as many files as you want!\n",
        "\n",
        "input=np.vstack([fileWater1, fileWater2, fileWater3, fileWater4, fileWater5, fileWater6]) "
      ],
      "execution_count": 5,
      "outputs": []
    },
    {
      "cell_type": "code",
      "metadata": {
        "id": "wXBoAZocVdj7",
        "outputId": "cb8e7087-18d3-4adf-a5d2-8d5aef18ad4d",
        "colab": {
          "base_uri": "https://localhost:8080/",
          "height": 249
        }
      },
      "source": [
        "#Here you give a name to each column! It is much easier to work with dataframes, because you can call each column but the name that you give!\n",
        "# You can check more if you google about 'pandas dataframe', but in short it is a form of table!\n",
        "\n",
        "column_names=[]\n",
        "\n",
        "for i in range(300):\n",
        "  column_names.append('rho_%d' %i)  #Here one of my parameter is repeated 300 times so I am using a for loop to give the same name to the first 300 columns\n",
        "for i in range(300):\n",
        "  column_names.append('phi_%d' %i) \n",
        "for i in range(300):\n",
        "  column_names.append('theta_%d' %i) \n",
        "column_names.append('height')\n",
        "column_names.append('width')  \n",
        "column_names.append('volume')\n",
        "column_names.append('R_sph')\n",
        "column_names.append('volt')\n",
        "column_names.append('Intensity')\n",
        "column_names.append('time')\n",
        "column_names.append('centre_x')\n",
        "column_names.append('centre_y')\n",
        "column_names.append('Aspect_Ratio')\n",
        "column_names.append('Ps')\n",
        "column_names.append('Ps_err')\n",
        "column_names.append('Ps_stderr')\n",
        "column_names.append('dB')\n",
        "column_names.append('st')\n",
        "\n",
        "raw_dataset = pd.DataFrame(data=input,  columns=column_names) \n",
        "              \n",
        "raw_dataset.shape  #Prints the shape of the dataset\n",
        "\n",
        "dataset = raw_dataset.copy()  #Creates a copy of the dataset\n",
        "\n",
        "\n",
        "#Here we remove the data that we don't want! For that we use the command pop()\n",
        "\n",
        "for i in range(300):\n",
        " dataset.pop('theta_%d' %i)   #Here I can remove the 300 columns of this parameter if I don't it\n",
        "dataset.pop(\"height\")\n",
        "dataset.pop(\"width\")\n",
        "dataset.pop('R_sph')\n",
        "dataset.pop('Intensity')\n",
        "dataset.pop('time')\n",
        "dataset.pop('Ps_err')\n",
        "dataset.pop('Ps_stderr')\n",
        "dataset.pop('dB')\n",
        "\n",
        "dataset.pop(\"Aspect_Ratio\")\n",
        "\n",
        "dataset.tail()   #The command tail() prints the last 5 rows of the dataset. There is also the command head() that prints the first 5 rows!\n"
      ],
      "execution_count": 6,
      "outputs": [
        {
          "output_type": "execute_result",
          "data": {
            "text/html": [
              "<div>\n",
              "<style scoped>\n",
              "    .dataframe tbody tr th:only-of-type {\n",
              "        vertical-align: middle;\n",
              "    }\n",
              "\n",
              "    .dataframe tbody tr th {\n",
              "        vertical-align: top;\n",
              "    }\n",
              "\n",
              "    .dataframe thead th {\n",
              "        text-align: right;\n",
              "    }\n",
              "</style>\n",
              "<table border=\"1\" class=\"dataframe\">\n",
              "  <thead>\n",
              "    <tr style=\"text-align: right;\">\n",
              "      <th></th>\n",
              "      <th>rho_0</th>\n",
              "      <th>rho_1</th>\n",
              "      <th>rho_2</th>\n",
              "      <th>rho_3</th>\n",
              "      <th>rho_4</th>\n",
              "      <th>rho_5</th>\n",
              "      <th>rho_6</th>\n",
              "      <th>rho_7</th>\n",
              "      <th>rho_8</th>\n",
              "      <th>rho_9</th>\n",
              "      <th>rho_10</th>\n",
              "      <th>rho_11</th>\n",
              "      <th>rho_12</th>\n",
              "      <th>rho_13</th>\n",
              "      <th>rho_14</th>\n",
              "      <th>rho_15</th>\n",
              "      <th>rho_16</th>\n",
              "      <th>rho_17</th>\n",
              "      <th>rho_18</th>\n",
              "      <th>rho_19</th>\n",
              "      <th>rho_20</th>\n",
              "      <th>rho_21</th>\n",
              "      <th>rho_22</th>\n",
              "      <th>rho_23</th>\n",
              "      <th>rho_24</th>\n",
              "      <th>rho_25</th>\n",
              "      <th>rho_26</th>\n",
              "      <th>rho_27</th>\n",
              "      <th>rho_28</th>\n",
              "      <th>rho_29</th>\n",
              "      <th>rho_30</th>\n",
              "      <th>rho_31</th>\n",
              "      <th>rho_32</th>\n",
              "      <th>rho_33</th>\n",
              "      <th>rho_34</th>\n",
              "      <th>rho_35</th>\n",
              "      <th>rho_36</th>\n",
              "      <th>rho_37</th>\n",
              "      <th>rho_38</th>\n",
              "      <th>rho_39</th>\n",
              "      <th>...</th>\n",
              "      <th>phi_266</th>\n",
              "      <th>phi_267</th>\n",
              "      <th>phi_268</th>\n",
              "      <th>phi_269</th>\n",
              "      <th>phi_270</th>\n",
              "      <th>phi_271</th>\n",
              "      <th>phi_272</th>\n",
              "      <th>phi_273</th>\n",
              "      <th>phi_274</th>\n",
              "      <th>phi_275</th>\n",
              "      <th>phi_276</th>\n",
              "      <th>phi_277</th>\n",
              "      <th>phi_278</th>\n",
              "      <th>phi_279</th>\n",
              "      <th>phi_280</th>\n",
              "      <th>phi_281</th>\n",
              "      <th>phi_282</th>\n",
              "      <th>phi_283</th>\n",
              "      <th>phi_284</th>\n",
              "      <th>phi_285</th>\n",
              "      <th>phi_286</th>\n",
              "      <th>phi_287</th>\n",
              "      <th>phi_288</th>\n",
              "      <th>phi_289</th>\n",
              "      <th>phi_290</th>\n",
              "      <th>phi_291</th>\n",
              "      <th>phi_292</th>\n",
              "      <th>phi_293</th>\n",
              "      <th>phi_294</th>\n",
              "      <th>phi_295</th>\n",
              "      <th>phi_296</th>\n",
              "      <th>phi_297</th>\n",
              "      <th>phi_298</th>\n",
              "      <th>phi_299</th>\n",
              "      <th>volume</th>\n",
              "      <th>volt</th>\n",
              "      <th>centre_x</th>\n",
              "      <th>centre_y</th>\n",
              "      <th>Ps</th>\n",
              "      <th>st</th>\n",
              "    </tr>\n",
              "  </thead>\n",
              "  <tbody>\n",
              "    <tr>\n",
              "      <th>9458</th>\n",
              "      <td>0.768861</td>\n",
              "      <td>0.768994</td>\n",
              "      <td>0.769090</td>\n",
              "      <td>0.769204</td>\n",
              "      <td>0.769489</td>\n",
              "      <td>0.769850</td>\n",
              "      <td>0.767900</td>\n",
              "      <td>0.768243</td>\n",
              "      <td>0.769384</td>\n",
              "      <td>0.767871</td>\n",
              "      <td>0.768385</td>\n",
              "      <td>0.767099</td>\n",
              "      <td>0.764185</td>\n",
              "      <td>0.762355</td>\n",
              "      <td>0.760770</td>\n",
              "      <td>0.762940</td>\n",
              "      <td>0.760212</td>\n",
              "      <td>0.760222</td>\n",
              "      <td>0.761472</td>\n",
              "      <td>0.760424</td>\n",
              "      <td>0.755734</td>\n",
              "      <td>0.755124</td>\n",
              "      <td>0.753874</td>\n",
              "      <td>0.743537</td>\n",
              "      <td>0.741754</td>\n",
              "      <td>0.737283</td>\n",
              "      <td>0.732555</td>\n",
              "      <td>0.731726</td>\n",
              "      <td>0.730185</td>\n",
              "      <td>0.729473</td>\n",
              "      <td>0.715369</td>\n",
              "      <td>0.708495</td>\n",
              "      <td>0.707658</td>\n",
              "      <td>0.701627</td>\n",
              "      <td>0.703022</td>\n",
              "      <td>0.700082</td>\n",
              "      <td>0.690466</td>\n",
              "      <td>0.688620</td>\n",
              "      <td>0.688216</td>\n",
              "      <td>0.687919</td>\n",
              "      <td>...</td>\n",
              "      <td>2.486384</td>\n",
              "      <td>2.523496</td>\n",
              "      <td>2.530867</td>\n",
              "      <td>2.545549</td>\n",
              "      <td>2.564555</td>\n",
              "      <td>2.579095</td>\n",
              "      <td>2.600725</td>\n",
              "      <td>2.626648</td>\n",
              "      <td>2.633736</td>\n",
              "      <td>2.689505</td>\n",
              "      <td>2.755858</td>\n",
              "      <td>2.760610</td>\n",
              "      <td>2.817425</td>\n",
              "      <td>2.823858</td>\n",
              "      <td>2.835077</td>\n",
              "      <td>2.839920</td>\n",
              "      <td>2.844777</td>\n",
              "      <td>2.862251</td>\n",
              "      <td>2.883110</td>\n",
              "      <td>2.910069</td>\n",
              "      <td>2.930851</td>\n",
              "      <td>2.936812</td>\n",
              "      <td>2.952551</td>\n",
              "      <td>2.957477</td>\n",
              "      <td>3.013510</td>\n",
              "      <td>3.033970</td>\n",
              "      <td>3.038940</td>\n",
              "      <td>3.069219</td>\n",
              "      <td>3.079174</td>\n",
              "      <td>3.094364</td>\n",
              "      <td>3.099329</td>\n",
              "      <td>3.109266</td>\n",
              "      <td>3.119208</td>\n",
              "      <td>3.124181</td>\n",
              "      <td>1.637879</td>\n",
              "      <td>10.86</td>\n",
              "      <td>2.656382</td>\n",
              "      <td>1.594977</td>\n",
              "      <td>2741.229110</td>\n",
              "      <td>72.8</td>\n",
              "    </tr>\n",
              "    <tr>\n",
              "      <th>9459</th>\n",
              "      <td>0.773090</td>\n",
              "      <td>0.769411</td>\n",
              "      <td>0.769952</td>\n",
              "      <td>0.771234</td>\n",
              "      <td>0.771547</td>\n",
              "      <td>0.770930</td>\n",
              "      <td>0.767774</td>\n",
              "      <td>0.767507</td>\n",
              "      <td>0.765455</td>\n",
              "      <td>0.767211</td>\n",
              "      <td>0.767240</td>\n",
              "      <td>0.762870</td>\n",
              "      <td>0.763915</td>\n",
              "      <td>0.762391</td>\n",
              "      <td>0.763225</td>\n",
              "      <td>0.762103</td>\n",
              "      <td>0.759305</td>\n",
              "      <td>0.750945</td>\n",
              "      <td>0.747890</td>\n",
              "      <td>0.745313</td>\n",
              "      <td>0.741959</td>\n",
              "      <td>0.743977</td>\n",
              "      <td>0.741614</td>\n",
              "      <td>0.740488</td>\n",
              "      <td>0.727271</td>\n",
              "      <td>0.719607</td>\n",
              "      <td>0.716765</td>\n",
              "      <td>0.711932</td>\n",
              "      <td>0.712466</td>\n",
              "      <td>0.708182</td>\n",
              "      <td>0.700779</td>\n",
              "      <td>0.696980</td>\n",
              "      <td>0.695919</td>\n",
              "      <td>0.694962</td>\n",
              "      <td>0.688405</td>\n",
              "      <td>0.686234</td>\n",
              "      <td>0.686031</td>\n",
              "      <td>0.684270</td>\n",
              "      <td>0.682611</td>\n",
              "      <td>0.679065</td>\n",
              "      <td>...</td>\n",
              "      <td>2.513963</td>\n",
              "      <td>2.528705</td>\n",
              "      <td>2.555052</td>\n",
              "      <td>2.562349</td>\n",
              "      <td>2.624383</td>\n",
              "      <td>2.694073</td>\n",
              "      <td>2.698727</td>\n",
              "      <td>2.758232</td>\n",
              "      <td>2.764881</td>\n",
              "      <td>2.776251</td>\n",
              "      <td>2.782822</td>\n",
              "      <td>2.787595</td>\n",
              "      <td>2.810196</td>\n",
              "      <td>2.826273</td>\n",
              "      <td>2.854971</td>\n",
              "      <td>2.875784</td>\n",
              "      <td>2.880664</td>\n",
              "      <td>2.897834</td>\n",
              "      <td>2.902719</td>\n",
              "      <td>2.959944</td>\n",
              "      <td>2.980563</td>\n",
              "      <td>2.986288</td>\n",
              "      <td>3.016619</td>\n",
              "      <td>3.026525</td>\n",
              "      <td>3.041924</td>\n",
              "      <td>3.056796</td>\n",
              "      <td>3.066733</td>\n",
              "      <td>3.072053</td>\n",
              "      <td>3.101813</td>\n",
              "      <td>3.111751</td>\n",
              "      <td>3.116722</td>\n",
              "      <td>3.121695</td>\n",
              "      <td>3.131643</td>\n",
              "      <td>3.141593</td>\n",
              "      <td>1.642630</td>\n",
              "      <td>10.86</td>\n",
              "      <td>2.633433</td>\n",
              "      <td>1.600714</td>\n",
              "      <td>2753.061660</td>\n",
              "      <td>72.8</td>\n",
              "    </tr>\n",
              "    <tr>\n",
              "      <th>9460</th>\n",
              "      <td>0.770831</td>\n",
              "      <td>0.771001</td>\n",
              "      <td>0.771115</td>\n",
              "      <td>0.771248</td>\n",
              "      <td>0.771570</td>\n",
              "      <td>0.768150</td>\n",
              "      <td>0.770147</td>\n",
              "      <td>0.770508</td>\n",
              "      <td>0.767902</td>\n",
              "      <td>0.770280</td>\n",
              "      <td>0.767025</td>\n",
              "      <td>0.766052</td>\n",
              "      <td>0.766892</td>\n",
              "      <td>0.761551</td>\n",
              "      <td>0.763680</td>\n",
              "      <td>0.762223</td>\n",
              "      <td>0.759589</td>\n",
              "      <td>0.759666</td>\n",
              "      <td>0.760936</td>\n",
              "      <td>0.759935</td>\n",
              "      <td>0.754855</td>\n",
              "      <td>0.753750</td>\n",
              "      <td>0.740592</td>\n",
              "      <td>0.738970</td>\n",
              "      <td>0.737841</td>\n",
              "      <td>0.733266</td>\n",
              "      <td>0.732468</td>\n",
              "      <td>0.730988</td>\n",
              "      <td>0.730308</td>\n",
              "      <td>0.716740</td>\n",
              "      <td>0.710096</td>\n",
              "      <td>0.706440</td>\n",
              "      <td>0.703472</td>\n",
              "      <td>0.701869</td>\n",
              "      <td>0.698966</td>\n",
              "      <td>0.692721</td>\n",
              "      <td>0.687677</td>\n",
              "      <td>0.687294</td>\n",
              "      <td>0.687017</td>\n",
              "      <td>0.680276</td>\n",
              "      <td>...</td>\n",
              "      <td>2.495439</td>\n",
              "      <td>2.532379</td>\n",
              "      <td>2.539712</td>\n",
              "      <td>2.554318</td>\n",
              "      <td>2.573252</td>\n",
              "      <td>2.587709</td>\n",
              "      <td>2.606554</td>\n",
              "      <td>2.632469</td>\n",
              "      <td>2.639547</td>\n",
              "      <td>2.697505</td>\n",
              "      <td>2.761561</td>\n",
              "      <td>2.768192</td>\n",
              "      <td>2.824650</td>\n",
              "      <td>2.829473</td>\n",
              "      <td>2.840672</td>\n",
              "      <td>2.845519</td>\n",
              "      <td>2.851831</td>\n",
              "      <td>2.867805</td>\n",
              "      <td>2.888644</td>\n",
              "      <td>2.915549</td>\n",
              "      <td>2.936300</td>\n",
              "      <td>2.942231</td>\n",
              "      <td>2.957017</td>\n",
              "      <td>2.962859</td>\n",
              "      <td>3.018788</td>\n",
              "      <td>3.039195</td>\n",
              "      <td>3.044158</td>\n",
              "      <td>3.074362</td>\n",
              "      <td>3.084299</td>\n",
              "      <td>3.099224</td>\n",
              "      <td>3.104204</td>\n",
              "      <td>3.114304</td>\n",
              "      <td>3.124225</td>\n",
              "      <td>3.129186</td>\n",
              "      <td>1.639032</td>\n",
              "      <td>10.86</td>\n",
              "      <td>2.646820</td>\n",
              "      <td>1.602627</td>\n",
              "      <td>2743.288499</td>\n",
              "      <td>72.8</td>\n",
              "    </tr>\n",
              "    <tr>\n",
              "      <th>9461</th>\n",
              "      <td>0.763086</td>\n",
              "      <td>0.763757</td>\n",
              "      <td>0.763929</td>\n",
              "      <td>0.764561</td>\n",
              "      <td>0.762184</td>\n",
              "      <td>0.762530</td>\n",
              "      <td>0.762434</td>\n",
              "      <td>0.759319</td>\n",
              "      <td>0.759435</td>\n",
              "      <td>0.757467</td>\n",
              "      <td>0.759300</td>\n",
              "      <td>0.755804</td>\n",
              "      <td>0.755262</td>\n",
              "      <td>0.756346</td>\n",
              "      <td>0.754913</td>\n",
              "      <td>0.751437</td>\n",
              "      <td>0.752526</td>\n",
              "      <td>0.741697</td>\n",
              "      <td>0.742269</td>\n",
              "      <td>0.739940</td>\n",
              "      <td>0.736909</td>\n",
              "      <td>0.735756</td>\n",
              "      <td>0.733566</td>\n",
              "      <td>0.732528</td>\n",
              "      <td>0.720567</td>\n",
              "      <td>0.714020</td>\n",
              "      <td>0.711824</td>\n",
              "      <td>0.707578</td>\n",
              "      <td>0.705486</td>\n",
              "      <td>0.704573</td>\n",
              "      <td>0.695482</td>\n",
              "      <td>0.692320</td>\n",
              "      <td>0.691474</td>\n",
              "      <td>0.690733</td>\n",
              "      <td>0.685226</td>\n",
              "      <td>0.683366</td>\n",
              "      <td>0.683387</td>\n",
              "      <td>0.682166</td>\n",
              "      <td>0.680598</td>\n",
              "      <td>0.678014</td>\n",
              "      <td>...</td>\n",
              "      <td>2.511424</td>\n",
              "      <td>2.518866</td>\n",
              "      <td>2.533696</td>\n",
              "      <td>2.563114</td>\n",
              "      <td>2.570414</td>\n",
              "      <td>2.697733</td>\n",
              "      <td>2.704652</td>\n",
              "      <td>2.769232</td>\n",
              "      <td>2.780710</td>\n",
              "      <td>2.787333</td>\n",
              "      <td>2.792162</td>\n",
              "      <td>2.810118</td>\n",
              "      <td>2.814972</td>\n",
              "      <td>2.832765</td>\n",
              "      <td>2.860143</td>\n",
              "      <td>2.881154</td>\n",
              "      <td>2.887372</td>\n",
              "      <td>2.903383</td>\n",
              "      <td>2.908320</td>\n",
              "      <td>2.966041</td>\n",
              "      <td>2.986830</td>\n",
              "      <td>2.991827</td>\n",
              "      <td>3.022565</td>\n",
              "      <td>3.033159</td>\n",
              "      <td>3.048194</td>\n",
              "      <td>3.053216</td>\n",
              "      <td>3.063665</td>\n",
              "      <td>3.073687</td>\n",
              "      <td>3.078703</td>\n",
              "      <td>3.109023</td>\n",
              "      <td>3.119040</td>\n",
              "      <td>3.124051</td>\n",
              "      <td>3.129062</td>\n",
              "      <td>3.139086</td>\n",
              "      <td>1.610094</td>\n",
              "      <td>10.86</td>\n",
              "      <td>2.681244</td>\n",
              "      <td>1.633226</td>\n",
              "      <td>2655.702637</td>\n",
              "      <td>72.8</td>\n",
              "    </tr>\n",
              "    <tr>\n",
              "      <th>9462</th>\n",
              "      <td>0.761239</td>\n",
              "      <td>0.761306</td>\n",
              "      <td>0.761623</td>\n",
              "      <td>0.762535</td>\n",
              "      <td>0.762774</td>\n",
              "      <td>0.761075</td>\n",
              "      <td>0.757839</td>\n",
              "      <td>0.756873</td>\n",
              "      <td>0.758418</td>\n",
              "      <td>0.756303</td>\n",
              "      <td>0.756061</td>\n",
              "      <td>0.755170</td>\n",
              "      <td>0.756148</td>\n",
              "      <td>0.754472</td>\n",
              "      <td>0.753541</td>\n",
              "      <td>0.750302</td>\n",
              "      <td>0.744134</td>\n",
              "      <td>0.740735</td>\n",
              "      <td>0.741170</td>\n",
              "      <td>0.737320</td>\n",
              "      <td>0.735990</td>\n",
              "      <td>0.736695</td>\n",
              "      <td>0.735463</td>\n",
              "      <td>0.722346</td>\n",
              "      <td>0.714343</td>\n",
              "      <td>0.711315</td>\n",
              "      <td>0.709122</td>\n",
              "      <td>0.706776</td>\n",
              "      <td>0.705274</td>\n",
              "      <td>0.697693</td>\n",
              "      <td>0.693813</td>\n",
              "      <td>0.692727</td>\n",
              "      <td>0.691744</td>\n",
              "      <td>0.688405</td>\n",
              "      <td>0.686234</td>\n",
              "      <td>0.682643</td>\n",
              "      <td>0.680829</td>\n",
              "      <td>0.682611</td>\n",
              "      <td>0.679065</td>\n",
              "      <td>0.675544</td>\n",
              "      <td>...</td>\n",
              "      <td>2.489499</td>\n",
              "      <td>2.519479</td>\n",
              "      <td>2.526930</td>\n",
              "      <td>2.590284</td>\n",
              "      <td>2.661515</td>\n",
              "      <td>2.668578</td>\n",
              "      <td>2.731259</td>\n",
              "      <td>2.736019</td>\n",
              "      <td>2.747600</td>\n",
              "      <td>2.754362</td>\n",
              "      <td>2.759161</td>\n",
              "      <td>2.777384</td>\n",
              "      <td>2.782217</td>\n",
              "      <td>2.827972</td>\n",
              "      <td>2.850627</td>\n",
              "      <td>2.855541</td>\n",
              "      <td>2.871743</td>\n",
              "      <td>2.878029</td>\n",
              "      <td>2.936197</td>\n",
              "      <td>2.958113</td>\n",
              "      <td>2.963100</td>\n",
              "      <td>2.993957</td>\n",
              "      <td>3.004699</td>\n",
              "      <td>3.019750</td>\n",
              "      <td>3.025368</td>\n",
              "      <td>3.035395</td>\n",
              "      <td>3.045443</td>\n",
              "      <td>3.050475</td>\n",
              "      <td>3.081061</td>\n",
              "      <td>3.091130</td>\n",
              "      <td>3.096169</td>\n",
              "      <td>3.101211</td>\n",
              "      <td>3.111451</td>\n",
              "      <td>3.121495</td>\n",
              "      <td>1.600486</td>\n",
              "      <td>10.86</td>\n",
              "      <td>2.686982</td>\n",
              "      <td>1.627488</td>\n",
              "      <td>2664.232965</td>\n",
              "      <td>72.8</td>\n",
              "    </tr>\n",
              "  </tbody>\n",
              "</table>\n",
              "<p>5 rows × 606 columns</p>\n",
              "</div>"
            ],
            "text/plain": [
              "         rho_0     rho_1     rho_2  ...  centre_y           Ps    st\n",
              "9458  0.768861  0.768994  0.769090  ...  1.594977  2741.229110  72.8\n",
              "9459  0.773090  0.769411  0.769952  ...  1.600714  2753.061660  72.8\n",
              "9460  0.770831  0.771001  0.771115  ...  1.602627  2743.288499  72.8\n",
              "9461  0.763086  0.763757  0.763929  ...  1.633226  2655.702637  72.8\n",
              "9462  0.761239  0.761306  0.761623  ...  1.627488  2664.232965  72.8\n",
              "\n",
              "[5 rows x 606 columns]"
            ]
          },
          "metadata": {
            "tags": []
          },
          "execution_count": 6
        }
      ]
    },
    {
      "cell_type": "code",
      "metadata": {
        "id": "4anqOb6ofqwS",
        "outputId": "2858fd36-29c9-473d-a752-57ae96e89faf",
        "colab": {
          "base_uri": "https://localhost:8080/",
          "height": 249
        }
      },
      "source": [
        "#Drop 125 values of theta\n",
        "for i in range(0,125):\n",
        "  dataset=dataset.drop(dataset.columns[300+i], axis=1)\n",
        "  i=i+1\n",
        "\n",
        "\n",
        "#Drop 125 values of rho:\n",
        "for i in range(0,125):\n",
        "  dataset=dataset.drop(dataset.columns[i], axis=1)\n",
        "  i=i+1\n",
        "\n",
        "# dataset.pop('R_sph')\n",
        "\n",
        "dataset.tail()"
      ],
      "execution_count": 7,
      "outputs": [
        {
          "output_type": "execute_result",
          "data": {
            "text/html": [
              "<div>\n",
              "<style scoped>\n",
              "    .dataframe tbody tr th:only-of-type {\n",
              "        vertical-align: middle;\n",
              "    }\n",
              "\n",
              "    .dataframe tbody tr th {\n",
              "        vertical-align: top;\n",
              "    }\n",
              "\n",
              "    .dataframe thead th {\n",
              "        text-align: right;\n",
              "    }\n",
              "</style>\n",
              "<table border=\"1\" class=\"dataframe\">\n",
              "  <thead>\n",
              "    <tr style=\"text-align: right;\">\n",
              "      <th></th>\n",
              "      <th>rho_1</th>\n",
              "      <th>rho_3</th>\n",
              "      <th>rho_5</th>\n",
              "      <th>rho_7</th>\n",
              "      <th>rho_9</th>\n",
              "      <th>rho_11</th>\n",
              "      <th>rho_13</th>\n",
              "      <th>rho_15</th>\n",
              "      <th>rho_17</th>\n",
              "      <th>rho_19</th>\n",
              "      <th>rho_21</th>\n",
              "      <th>rho_23</th>\n",
              "      <th>rho_25</th>\n",
              "      <th>rho_27</th>\n",
              "      <th>rho_29</th>\n",
              "      <th>rho_31</th>\n",
              "      <th>rho_33</th>\n",
              "      <th>rho_35</th>\n",
              "      <th>rho_37</th>\n",
              "      <th>rho_39</th>\n",
              "      <th>rho_41</th>\n",
              "      <th>rho_43</th>\n",
              "      <th>rho_45</th>\n",
              "      <th>rho_47</th>\n",
              "      <th>rho_49</th>\n",
              "      <th>rho_51</th>\n",
              "      <th>rho_53</th>\n",
              "      <th>rho_55</th>\n",
              "      <th>rho_57</th>\n",
              "      <th>rho_59</th>\n",
              "      <th>rho_61</th>\n",
              "      <th>rho_63</th>\n",
              "      <th>rho_65</th>\n",
              "      <th>rho_67</th>\n",
              "      <th>rho_69</th>\n",
              "      <th>rho_71</th>\n",
              "      <th>rho_73</th>\n",
              "      <th>rho_75</th>\n",
              "      <th>rho_77</th>\n",
              "      <th>rho_79</th>\n",
              "      <th>...</th>\n",
              "      <th>phi_266</th>\n",
              "      <th>phi_267</th>\n",
              "      <th>phi_268</th>\n",
              "      <th>phi_269</th>\n",
              "      <th>phi_270</th>\n",
              "      <th>phi_271</th>\n",
              "      <th>phi_272</th>\n",
              "      <th>phi_273</th>\n",
              "      <th>phi_274</th>\n",
              "      <th>phi_275</th>\n",
              "      <th>phi_276</th>\n",
              "      <th>phi_277</th>\n",
              "      <th>phi_278</th>\n",
              "      <th>phi_279</th>\n",
              "      <th>phi_280</th>\n",
              "      <th>phi_281</th>\n",
              "      <th>phi_282</th>\n",
              "      <th>phi_283</th>\n",
              "      <th>phi_284</th>\n",
              "      <th>phi_285</th>\n",
              "      <th>phi_286</th>\n",
              "      <th>phi_287</th>\n",
              "      <th>phi_288</th>\n",
              "      <th>phi_289</th>\n",
              "      <th>phi_290</th>\n",
              "      <th>phi_291</th>\n",
              "      <th>phi_292</th>\n",
              "      <th>phi_293</th>\n",
              "      <th>phi_294</th>\n",
              "      <th>phi_295</th>\n",
              "      <th>phi_296</th>\n",
              "      <th>phi_297</th>\n",
              "      <th>phi_298</th>\n",
              "      <th>phi_299</th>\n",
              "      <th>volume</th>\n",
              "      <th>volt</th>\n",
              "      <th>centre_x</th>\n",
              "      <th>centre_y</th>\n",
              "      <th>Ps</th>\n",
              "      <th>st</th>\n",
              "    </tr>\n",
              "  </thead>\n",
              "  <tbody>\n",
              "    <tr>\n",
              "      <th>9458</th>\n",
              "      <td>0.768994</td>\n",
              "      <td>0.769204</td>\n",
              "      <td>0.769850</td>\n",
              "      <td>0.768243</td>\n",
              "      <td>0.767871</td>\n",
              "      <td>0.767099</td>\n",
              "      <td>0.762355</td>\n",
              "      <td>0.762940</td>\n",
              "      <td>0.760222</td>\n",
              "      <td>0.760424</td>\n",
              "      <td>0.755124</td>\n",
              "      <td>0.743537</td>\n",
              "      <td>0.737283</td>\n",
              "      <td>0.731726</td>\n",
              "      <td>0.729473</td>\n",
              "      <td>0.708495</td>\n",
              "      <td>0.701627</td>\n",
              "      <td>0.700082</td>\n",
              "      <td>0.688620</td>\n",
              "      <td>0.687919</td>\n",
              "      <td>0.679821</td>\n",
              "      <td>0.676532</td>\n",
              "      <td>0.674322</td>\n",
              "      <td>0.669095</td>\n",
              "      <td>0.667015</td>\n",
              "      <td>0.667322</td>\n",
              "      <td>0.666686</td>\n",
              "      <td>0.663783</td>\n",
              "      <td>0.662625</td>\n",
              "      <td>0.661387</td>\n",
              "      <td>0.664157</td>\n",
              "      <td>0.663717</td>\n",
              "      <td>0.660192</td>\n",
              "      <td>0.661664</td>\n",
              "      <td>0.662989</td>\n",
              "      <td>0.662901</td>\n",
              "      <td>0.665280</td>\n",
              "      <td>0.664983</td>\n",
              "      <td>0.664212</td>\n",
              "      <td>0.666104</td>\n",
              "      <td>...</td>\n",
              "      <td>2.486384</td>\n",
              "      <td>2.523496</td>\n",
              "      <td>2.530867</td>\n",
              "      <td>2.545549</td>\n",
              "      <td>2.564555</td>\n",
              "      <td>2.579095</td>\n",
              "      <td>2.600725</td>\n",
              "      <td>2.626648</td>\n",
              "      <td>2.633736</td>\n",
              "      <td>2.689505</td>\n",
              "      <td>2.755858</td>\n",
              "      <td>2.760610</td>\n",
              "      <td>2.817425</td>\n",
              "      <td>2.823858</td>\n",
              "      <td>2.835077</td>\n",
              "      <td>2.839920</td>\n",
              "      <td>2.844777</td>\n",
              "      <td>2.862251</td>\n",
              "      <td>2.883110</td>\n",
              "      <td>2.910069</td>\n",
              "      <td>2.930851</td>\n",
              "      <td>2.936812</td>\n",
              "      <td>2.952551</td>\n",
              "      <td>2.957477</td>\n",
              "      <td>3.013510</td>\n",
              "      <td>3.033970</td>\n",
              "      <td>3.038940</td>\n",
              "      <td>3.069219</td>\n",
              "      <td>3.079174</td>\n",
              "      <td>3.094364</td>\n",
              "      <td>3.099329</td>\n",
              "      <td>3.109266</td>\n",
              "      <td>3.119208</td>\n",
              "      <td>3.124181</td>\n",
              "      <td>1.637879</td>\n",
              "      <td>10.86</td>\n",
              "      <td>2.656382</td>\n",
              "      <td>1.594977</td>\n",
              "      <td>2741.229110</td>\n",
              "      <td>72.8</td>\n",
              "    </tr>\n",
              "    <tr>\n",
              "      <th>9459</th>\n",
              "      <td>0.769411</td>\n",
              "      <td>0.771234</td>\n",
              "      <td>0.770930</td>\n",
              "      <td>0.767507</td>\n",
              "      <td>0.767211</td>\n",
              "      <td>0.762870</td>\n",
              "      <td>0.762391</td>\n",
              "      <td>0.762103</td>\n",
              "      <td>0.750945</td>\n",
              "      <td>0.745313</td>\n",
              "      <td>0.743977</td>\n",
              "      <td>0.740488</td>\n",
              "      <td>0.719607</td>\n",
              "      <td>0.711932</td>\n",
              "      <td>0.708182</td>\n",
              "      <td>0.696980</td>\n",
              "      <td>0.694962</td>\n",
              "      <td>0.686234</td>\n",
              "      <td>0.684270</td>\n",
              "      <td>0.679065</td>\n",
              "      <td>0.675133</td>\n",
              "      <td>0.674959</td>\n",
              "      <td>0.674103</td>\n",
              "      <td>0.670010</td>\n",
              "      <td>0.669169</td>\n",
              "      <td>0.667166</td>\n",
              "      <td>0.664793</td>\n",
              "      <td>0.666562</td>\n",
              "      <td>0.664892</td>\n",
              "      <td>0.664188</td>\n",
              "      <td>0.661882</td>\n",
              "      <td>0.663295</td>\n",
              "      <td>0.665354</td>\n",
              "      <td>0.663108</td>\n",
              "      <td>0.667122</td>\n",
              "      <td>0.667253</td>\n",
              "      <td>0.669005</td>\n",
              "      <td>0.668874</td>\n",
              "      <td>0.670610</td>\n",
              "      <td>0.673495</td>\n",
              "      <td>...</td>\n",
              "      <td>2.513963</td>\n",
              "      <td>2.528705</td>\n",
              "      <td>2.555052</td>\n",
              "      <td>2.562349</td>\n",
              "      <td>2.624383</td>\n",
              "      <td>2.694073</td>\n",
              "      <td>2.698727</td>\n",
              "      <td>2.758232</td>\n",
              "      <td>2.764881</td>\n",
              "      <td>2.776251</td>\n",
              "      <td>2.782822</td>\n",
              "      <td>2.787595</td>\n",
              "      <td>2.810196</td>\n",
              "      <td>2.826273</td>\n",
              "      <td>2.854971</td>\n",
              "      <td>2.875784</td>\n",
              "      <td>2.880664</td>\n",
              "      <td>2.897834</td>\n",
              "      <td>2.902719</td>\n",
              "      <td>2.959944</td>\n",
              "      <td>2.980563</td>\n",
              "      <td>2.986288</td>\n",
              "      <td>3.016619</td>\n",
              "      <td>3.026525</td>\n",
              "      <td>3.041924</td>\n",
              "      <td>3.056796</td>\n",
              "      <td>3.066733</td>\n",
              "      <td>3.072053</td>\n",
              "      <td>3.101813</td>\n",
              "      <td>3.111751</td>\n",
              "      <td>3.116722</td>\n",
              "      <td>3.121695</td>\n",
              "      <td>3.131643</td>\n",
              "      <td>3.141593</td>\n",
              "      <td>1.642630</td>\n",
              "      <td>10.86</td>\n",
              "      <td>2.633433</td>\n",
              "      <td>1.600714</td>\n",
              "      <td>2753.061660</td>\n",
              "      <td>72.8</td>\n",
              "    </tr>\n",
              "    <tr>\n",
              "      <th>9460</th>\n",
              "      <td>0.771001</td>\n",
              "      <td>0.771248</td>\n",
              "      <td>0.768150</td>\n",
              "      <td>0.770508</td>\n",
              "      <td>0.770280</td>\n",
              "      <td>0.766052</td>\n",
              "      <td>0.761551</td>\n",
              "      <td>0.762223</td>\n",
              "      <td>0.759666</td>\n",
              "      <td>0.759935</td>\n",
              "      <td>0.753750</td>\n",
              "      <td>0.738970</td>\n",
              "      <td>0.733266</td>\n",
              "      <td>0.730988</td>\n",
              "      <td>0.716740</td>\n",
              "      <td>0.706440</td>\n",
              "      <td>0.701869</td>\n",
              "      <td>0.692721</td>\n",
              "      <td>0.687294</td>\n",
              "      <td>0.680276</td>\n",
              "      <td>0.679523</td>\n",
              "      <td>0.678014</td>\n",
              "      <td>0.671728</td>\n",
              "      <td>0.669328</td>\n",
              "      <td>0.669415</td>\n",
              "      <td>0.664347</td>\n",
              "      <td>0.665887</td>\n",
              "      <td>0.663179</td>\n",
              "      <td>0.662119</td>\n",
              "      <td>0.661014</td>\n",
              "      <td>0.664237</td>\n",
              "      <td>0.663753</td>\n",
              "      <td>0.663642</td>\n",
              "      <td>0.660261</td>\n",
              "      <td>0.661589</td>\n",
              "      <td>0.663179</td>\n",
              "      <td>0.661832</td>\n",
              "      <td>0.662385</td>\n",
              "      <td>0.664678</td>\n",
              "      <td>0.665931</td>\n",
              "      <td>...</td>\n",
              "      <td>2.495439</td>\n",
              "      <td>2.532379</td>\n",
              "      <td>2.539712</td>\n",
              "      <td>2.554318</td>\n",
              "      <td>2.573252</td>\n",
              "      <td>2.587709</td>\n",
              "      <td>2.606554</td>\n",
              "      <td>2.632469</td>\n",
              "      <td>2.639547</td>\n",
              "      <td>2.697505</td>\n",
              "      <td>2.761561</td>\n",
              "      <td>2.768192</td>\n",
              "      <td>2.824650</td>\n",
              "      <td>2.829473</td>\n",
              "      <td>2.840672</td>\n",
              "      <td>2.845519</td>\n",
              "      <td>2.851831</td>\n",
              "      <td>2.867805</td>\n",
              "      <td>2.888644</td>\n",
              "      <td>2.915549</td>\n",
              "      <td>2.936300</td>\n",
              "      <td>2.942231</td>\n",
              "      <td>2.957017</td>\n",
              "      <td>2.962859</td>\n",
              "      <td>3.018788</td>\n",
              "      <td>3.039195</td>\n",
              "      <td>3.044158</td>\n",
              "      <td>3.074362</td>\n",
              "      <td>3.084299</td>\n",
              "      <td>3.099224</td>\n",
              "      <td>3.104204</td>\n",
              "      <td>3.114304</td>\n",
              "      <td>3.124225</td>\n",
              "      <td>3.129186</td>\n",
              "      <td>1.639032</td>\n",
              "      <td>10.86</td>\n",
              "      <td>2.646820</td>\n",
              "      <td>1.602627</td>\n",
              "      <td>2743.288499</td>\n",
              "      <td>72.8</td>\n",
              "    </tr>\n",
              "    <tr>\n",
              "      <th>9461</th>\n",
              "      <td>0.763757</td>\n",
              "      <td>0.764561</td>\n",
              "      <td>0.762530</td>\n",
              "      <td>0.759319</td>\n",
              "      <td>0.757467</td>\n",
              "      <td>0.755804</td>\n",
              "      <td>0.756346</td>\n",
              "      <td>0.751437</td>\n",
              "      <td>0.741697</td>\n",
              "      <td>0.739940</td>\n",
              "      <td>0.735756</td>\n",
              "      <td>0.732528</td>\n",
              "      <td>0.714020</td>\n",
              "      <td>0.707578</td>\n",
              "      <td>0.704573</td>\n",
              "      <td>0.692320</td>\n",
              "      <td>0.690733</td>\n",
              "      <td>0.683366</td>\n",
              "      <td>0.682166</td>\n",
              "      <td>0.678014</td>\n",
              "      <td>0.674921</td>\n",
              "      <td>0.671728</td>\n",
              "      <td>0.671270</td>\n",
              "      <td>0.668365</td>\n",
              "      <td>0.668124</td>\n",
              "      <td>0.666414</td>\n",
              "      <td>0.664435</td>\n",
              "      <td>0.666985</td>\n",
              "      <td>0.665074</td>\n",
              "      <td>0.663686</td>\n",
              "      <td>0.663841</td>\n",
              "      <td>0.662804</td>\n",
              "      <td>0.664898</td>\n",
              "      <td>0.665601</td>\n",
              "      <td>0.665360</td>\n",
              "      <td>0.665689</td>\n",
              "      <td>0.666590</td>\n",
              "      <td>0.669153</td>\n",
              "      <td>0.670092</td>\n",
              "      <td>0.673076</td>\n",
              "      <td>...</td>\n",
              "      <td>2.511424</td>\n",
              "      <td>2.518866</td>\n",
              "      <td>2.533696</td>\n",
              "      <td>2.563114</td>\n",
              "      <td>2.570414</td>\n",
              "      <td>2.697733</td>\n",
              "      <td>2.704652</td>\n",
              "      <td>2.769232</td>\n",
              "      <td>2.780710</td>\n",
              "      <td>2.787333</td>\n",
              "      <td>2.792162</td>\n",
              "      <td>2.810118</td>\n",
              "      <td>2.814972</td>\n",
              "      <td>2.832765</td>\n",
              "      <td>2.860143</td>\n",
              "      <td>2.881154</td>\n",
              "      <td>2.887372</td>\n",
              "      <td>2.903383</td>\n",
              "      <td>2.908320</td>\n",
              "      <td>2.966041</td>\n",
              "      <td>2.986830</td>\n",
              "      <td>2.991827</td>\n",
              "      <td>3.022565</td>\n",
              "      <td>3.033159</td>\n",
              "      <td>3.048194</td>\n",
              "      <td>3.053216</td>\n",
              "      <td>3.063665</td>\n",
              "      <td>3.073687</td>\n",
              "      <td>3.078703</td>\n",
              "      <td>3.109023</td>\n",
              "      <td>3.119040</td>\n",
              "      <td>3.124051</td>\n",
              "      <td>3.129062</td>\n",
              "      <td>3.139086</td>\n",
              "      <td>1.610094</td>\n",
              "      <td>10.86</td>\n",
              "      <td>2.681244</td>\n",
              "      <td>1.633226</td>\n",
              "      <td>2655.702637</td>\n",
              "      <td>72.8</td>\n",
              "    </tr>\n",
              "    <tr>\n",
              "      <th>9462</th>\n",
              "      <td>0.761306</td>\n",
              "      <td>0.762535</td>\n",
              "      <td>0.761075</td>\n",
              "      <td>0.756873</td>\n",
              "      <td>0.756303</td>\n",
              "      <td>0.755170</td>\n",
              "      <td>0.754472</td>\n",
              "      <td>0.750302</td>\n",
              "      <td>0.740735</td>\n",
              "      <td>0.737320</td>\n",
              "      <td>0.736695</td>\n",
              "      <td>0.722346</td>\n",
              "      <td>0.711315</td>\n",
              "      <td>0.706776</td>\n",
              "      <td>0.697693</td>\n",
              "      <td>0.692727</td>\n",
              "      <td>0.688405</td>\n",
              "      <td>0.682643</td>\n",
              "      <td>0.682611</td>\n",
              "      <td>0.675544</td>\n",
              "      <td>0.675133</td>\n",
              "      <td>0.674959</td>\n",
              "      <td>0.670436</td>\n",
              "      <td>0.670010</td>\n",
              "      <td>0.665409</td>\n",
              "      <td>0.667166</td>\n",
              "      <td>0.664793</td>\n",
              "      <td>0.666562</td>\n",
              "      <td>0.662247</td>\n",
              "      <td>0.661805</td>\n",
              "      <td>0.662600</td>\n",
              "      <td>0.663295</td>\n",
              "      <td>0.665277</td>\n",
              "      <td>0.666859</td>\n",
              "      <td>0.667987</td>\n",
              "      <td>0.666233</td>\n",
              "      <td>0.667878</td>\n",
              "      <td>0.670087</td>\n",
              "      <td>0.670239</td>\n",
              "      <td>0.675003</td>\n",
              "      <td>...</td>\n",
              "      <td>2.489499</td>\n",
              "      <td>2.519479</td>\n",
              "      <td>2.526930</td>\n",
              "      <td>2.590284</td>\n",
              "      <td>2.661515</td>\n",
              "      <td>2.668578</td>\n",
              "      <td>2.731259</td>\n",
              "      <td>2.736019</td>\n",
              "      <td>2.747600</td>\n",
              "      <td>2.754362</td>\n",
              "      <td>2.759161</td>\n",
              "      <td>2.777384</td>\n",
              "      <td>2.782217</td>\n",
              "      <td>2.827972</td>\n",
              "      <td>2.850627</td>\n",
              "      <td>2.855541</td>\n",
              "      <td>2.871743</td>\n",
              "      <td>2.878029</td>\n",
              "      <td>2.936197</td>\n",
              "      <td>2.958113</td>\n",
              "      <td>2.963100</td>\n",
              "      <td>2.993957</td>\n",
              "      <td>3.004699</td>\n",
              "      <td>3.019750</td>\n",
              "      <td>3.025368</td>\n",
              "      <td>3.035395</td>\n",
              "      <td>3.045443</td>\n",
              "      <td>3.050475</td>\n",
              "      <td>3.081061</td>\n",
              "      <td>3.091130</td>\n",
              "      <td>3.096169</td>\n",
              "      <td>3.101211</td>\n",
              "      <td>3.111451</td>\n",
              "      <td>3.121495</td>\n",
              "      <td>1.600486</td>\n",
              "      <td>10.86</td>\n",
              "      <td>2.686982</td>\n",
              "      <td>1.627488</td>\n",
              "      <td>2664.232965</td>\n",
              "      <td>72.8</td>\n",
              "    </tr>\n",
              "  </tbody>\n",
              "</table>\n",
              "<p>5 rows × 356 columns</p>\n",
              "</div>"
            ],
            "text/plain": [
              "         rho_1     rho_3     rho_5  ...  centre_y           Ps    st\n",
              "9458  0.768994  0.769204  0.769850  ...  1.594977  2741.229110  72.8\n",
              "9459  0.769411  0.771234  0.770930  ...  1.600714  2753.061660  72.8\n",
              "9460  0.771001  0.771248  0.768150  ...  1.602627  2743.288499  72.8\n",
              "9461  0.763757  0.764561  0.762530  ...  1.633226  2655.702637  72.8\n",
              "9462  0.761306  0.762535  0.761075  ...  1.627488  2664.232965  72.8\n",
              "\n",
              "[5 rows x 356 columns]"
            ]
          },
          "metadata": {
            "tags": []
          },
          "execution_count": 7
        }
      ]
    },
    {
      "cell_type": "code",
      "metadata": {
        "id": "vcny-hTf9h-U",
        "outputId": "150c486d-e701-4d3f-b145-adbd6ec323f7",
        "colab": {
          "base_uri": "https://localhost:8080/",
          "height": 283
        }
      },
      "source": [
        "#Check that the drop contour is still well defined!\n",
        "plt.plot(dataset.iloc[600, 175:350], dataset.iloc[600, 0:175])"
      ],
      "execution_count": 8,
      "outputs": [
        {
          "output_type": "execute_result",
          "data": {
            "text/plain": [
              "[<matplotlib.lines.Line2D at 0x7fba61085198>]"
            ]
          },
          "metadata": {
            "tags": []
          },
          "execution_count": 8
        },
        {
          "output_type": "display_data",
          "data": {
            "image/png": "[encoded data removed]",
            "text/plain": [
              "<Figure size 432x288 with 1 Axes>"
            ]
          },
          "metadata": {
            "tags": [],
            "needs_background": "light"
          }
        }
      ]
    },
    {
      "cell_type": "markdown",
      "metadata": {
        "id": "A9ux9dasikYc"
      },
      "source": [
        "### Show the Volume and ST distribution of the data"
      ]
    },
    {
      "cell_type": "code",
      "metadata": {
        "id": "8nA2ICVeWuMG",
        "outputId": "461a9037-45cd-49e9-e3d5-6732bd5676d7",
        "colab": {
          "base_uri": "https://localhost:8080/",
          "height": 1000
        }
      },
      "source": [
        "#linex=np.tile(3, 2)\n",
        "#liney=[0, 0.3]\n",
        "\n",
        "plt.figure()\n",
        "sns.distplot(dataset['volume'])\n",
        "plt.xlabel('Volume [μL]')\n",
        "plt.ylabel('Count')\n",
        "\n",
        "plt.figure()\n",
        "sns.distplot(dataset['st'])\n",
        "plt.xlabel('Surface tension [mN/m]')\n",
        "plt.ylabel('Count')\n",
        "\n",
        "plt.figure()\n",
        "sns.distplot(dataset['volt'])\n",
        "plt.xlabel('Voltage [V]')\n",
        "plt.ylabel('Count')\n",
        "\n",
        "plt.figure()\n",
        "sns.distplot(dataset['Ps'])\n",
        "plt.xlabel('Acoustic pressure [Pa]')\n",
        "plt.ylabel('Count')\n"
      ],
      "execution_count": 45,
      "outputs": [
        {
          "output_type": "stream",
          "text": [
            "/usr/local/lib/python3.6/dist-packages/seaborn/distributions.py:2551: FutureWarning: `distplot` is a deprecated function and will be removed in a future version. Please adapt your code to use either `displot` (a figure-level function with similar flexibility) or `histplot` (an axes-level function for histograms).\n",
            "  warnings.warn(msg, FutureWarning)\n",
            "/usr/local/lib/python3.6/dist-packages/seaborn/distributions.py:2551: FutureWarning: `distplot` is a deprecated function and will be removed in a future version. Please adapt your code to use either `displot` (a figure-level function with similar flexibility) or `histplot` (an axes-level function for histograms).\n",
            "  warnings.warn(msg, FutureWarning)\n",
            "/usr/local/lib/python3.6/dist-packages/seaborn/distributions.py:305: UserWarning: Dataset has 0 variance; skipping density estimate.\n",
            "  warnings.warn(msg, UserWarning)\n",
            "/usr/local/lib/python3.6/dist-packages/seaborn/distributions.py:2551: FutureWarning: `distplot` is a deprecated function and will be removed in a future version. Please adapt your code to use either `displot` (a figure-level function with similar flexibility) or `histplot` (an axes-level function for histograms).\n",
            "  warnings.warn(msg, FutureWarning)\n",
            "/usr/local/lib/python3.6/dist-packages/seaborn/distributions.py:2551: FutureWarning: `distplot` is a deprecated function and will be removed in a future version. Please adapt your code to use either `displot` (a figure-level function with similar flexibility) or `histplot` (an axes-level function for histograms).\n",
            "  warnings.warn(msg, FutureWarning)\n"
          ],
          "name": "stderr"
        },
        {
          "output_type": "execute_result",
          "data": {
            "text/plain": [
              "Text(0, 0.5, 'Count')"
            ]
          },
          "metadata": {
            "tags": []
          },
          "execution_count": 45
        },
        {
          "output_type": "display_data",
          "data": {
            "image/png": "[encoded data removed]",
            "text/plain": [
              "<Figure size 432x288 with 1 Axes>"
            ]
          },
          "metadata": {
            "tags": [],
            "needs_background": "light"
          }
        },
        {
          "output_type": "display_data",
          "data": {
            "image/png": "[encoded data removed]",
            "text/plain": [
              "<Figure size 432x288 with 1 Axes>"
            ]
          },
          "metadata": {
            "tags": [],
            "needs_background": "light"
          }
        },
        {
          "output_type": "display_data",
          "data": {
            "image/png": "[encoded data removed]",
            "text/plain": [
              "<Figure size 432x288 with 1 Axes>"
            ]
          },
          "metadata": {
            "tags": [],
            "needs_background": "light"
          }
        },
        {
          "output_type": "display_data",
          "data": {
            "image/png": "[encoded data removed]",
            "text/plain": [
              "<Figure size 432x288 with 1 Axes>"
            ]
          },
          "metadata": {
            "tags": [],
            "needs_background": "light"
          }
        }
      ]
    },
    {
      "cell_type": "markdown",
      "metadata": {
        "id": "xaNUMVadnhCQ"
      },
      "source": [
        "### Selectively choose data with (almost) constant volume"
      ]
    },
    {
      "cell_type": "code",
      "metadata": {
        "id": "xrMpqWF0k2ft"
      },
      "source": [
        "new_input=[]\n",
        "vol_min=2.99\n",
        "vol_max=3.01\n",
        "for i in range(len(dataset)):\n",
        "  if dataset['volume'].iloc[i] >= vol_min and dataset['volume'].iloc[i] <= vol_max:\n",
        "    vol_ct_data=dataset.iloc[i, :]\n",
        "    new_input.append(vol_ct_data)\n",
        "new_input=np.asarray(new_input)\n",
        "new_input.shape"
      ],
      "execution_count": null,
      "outputs": []
    },
    {
      "cell_type": "code",
      "metadata": {
        "id": "KH2AdDoKcM84"
      },
      "source": [
        "column_names=[]\n",
        "\n",
        "for i in range(300):\n",
        "  column_names.append('rho_%d' %i)\n",
        "for i in range(300):\n",
        "  column_names.append('theta_%d' %i)\n",
        "column_names.append('volume')\n",
        "column_names.append('R_sph')\n",
        "column_names.append('volt')\n",
        "column_names.append('st')\n",
        "\n",
        "new_dataset=pd.DataFrame(new_input, columns=column_names)\n",
        "new_dataset.pop('R_sph')\n",
        "new_dataset.tail()"
      ],
      "execution_count": null,
      "outputs": []
    },
    {
      "cell_type": "code",
      "metadata": {
        "id": "J3mgXVPxqhdg"
      },
      "source": [
        "plt.figure()\n",
        "sns.distplot(new_dataset['volt'])\n",
        "plt.xlabel('Voltage [V]')\n",
        "plt.ylabel('Count')\n",
        "\n",
        "plt.figure()\n",
        "sns.distplot(new_dataset['st'])\n",
        "plt.xlabel('Surface tension [mN/m]')\n",
        "plt.ylabel('Count')"
      ],
      "execution_count": null,
      "outputs": []
    },
    {
      "cell_type": "markdown",
      "metadata": {
        "id": "Cuym4yvk76vU"
      },
      "source": [
        "### Split the data into train and test\n",
        "\n",
        "Now split the dataset into a training set and a test set.\n",
        "\n",
        "We will use the test set in the final evaluation of our model."
      ]
    },
    {
      "cell_type": "code",
      "metadata": {
        "id": "uyn7ToGEx-3M",
        "outputId": "7de5ded7-37ed-4bcc-8dc6-84850594eaff",
        "colab": {
          "base_uri": "https://localhost:8080/",
          "height": 249
        }
      },
      "source": [
        "dataset.pop('volume')\n",
        "dataset.pop('centre_x')\n",
        "dataset.pop('centre_y')\n",
        "dataset.pop('st')\n",
        "\n",
        "dataset.tail()"
      ],
      "execution_count": 9,
      "outputs": [
        {
          "output_type": "execute_result",
          "data": {
            "text/html": [
              "<div>\n",
              "<style scoped>\n",
              "    .dataframe tbody tr th:only-of-type {\n",
              "        vertical-align: middle;\n",
              "    }\n",
              "\n",
              "    .dataframe tbody tr th {\n",
              "        vertical-align: top;\n",
              "    }\n",
              "\n",
              "    .dataframe thead th {\n",
              "        text-align: right;\n",
              "    }\n",
              "</style>\n",
              "<table border=\"1\" class=\"dataframe\">\n",
              "  <thead>\n",
              "    <tr style=\"text-align: right;\">\n",
              "      <th></th>\n",
              "      <th>rho_1</th>\n",
              "      <th>rho_3</th>\n",
              "      <th>rho_5</th>\n",
              "      <th>rho_7</th>\n",
              "      <th>rho_9</th>\n",
              "      <th>rho_11</th>\n",
              "      <th>rho_13</th>\n",
              "      <th>rho_15</th>\n",
              "      <th>rho_17</th>\n",
              "      <th>rho_19</th>\n",
              "      <th>rho_21</th>\n",
              "      <th>rho_23</th>\n",
              "      <th>rho_25</th>\n",
              "      <th>rho_27</th>\n",
              "      <th>rho_29</th>\n",
              "      <th>rho_31</th>\n",
              "      <th>rho_33</th>\n",
              "      <th>rho_35</th>\n",
              "      <th>rho_37</th>\n",
              "      <th>rho_39</th>\n",
              "      <th>rho_41</th>\n",
              "      <th>rho_43</th>\n",
              "      <th>rho_45</th>\n",
              "      <th>rho_47</th>\n",
              "      <th>rho_49</th>\n",
              "      <th>rho_51</th>\n",
              "      <th>rho_53</th>\n",
              "      <th>rho_55</th>\n",
              "      <th>rho_57</th>\n",
              "      <th>rho_59</th>\n",
              "      <th>rho_61</th>\n",
              "      <th>rho_63</th>\n",
              "      <th>rho_65</th>\n",
              "      <th>rho_67</th>\n",
              "      <th>rho_69</th>\n",
              "      <th>rho_71</th>\n",
              "      <th>rho_73</th>\n",
              "      <th>rho_75</th>\n",
              "      <th>rho_77</th>\n",
              "      <th>rho_79</th>\n",
              "      <th>...</th>\n",
              "      <th>phi_262</th>\n",
              "      <th>phi_263</th>\n",
              "      <th>phi_264</th>\n",
              "      <th>phi_265</th>\n",
              "      <th>phi_266</th>\n",
              "      <th>phi_267</th>\n",
              "      <th>phi_268</th>\n",
              "      <th>phi_269</th>\n",
              "      <th>phi_270</th>\n",
              "      <th>phi_271</th>\n",
              "      <th>phi_272</th>\n",
              "      <th>phi_273</th>\n",
              "      <th>phi_274</th>\n",
              "      <th>phi_275</th>\n",
              "      <th>phi_276</th>\n",
              "      <th>phi_277</th>\n",
              "      <th>phi_278</th>\n",
              "      <th>phi_279</th>\n",
              "      <th>phi_280</th>\n",
              "      <th>phi_281</th>\n",
              "      <th>phi_282</th>\n",
              "      <th>phi_283</th>\n",
              "      <th>phi_284</th>\n",
              "      <th>phi_285</th>\n",
              "      <th>phi_286</th>\n",
              "      <th>phi_287</th>\n",
              "      <th>phi_288</th>\n",
              "      <th>phi_289</th>\n",
              "      <th>phi_290</th>\n",
              "      <th>phi_291</th>\n",
              "      <th>phi_292</th>\n",
              "      <th>phi_293</th>\n",
              "      <th>phi_294</th>\n",
              "      <th>phi_295</th>\n",
              "      <th>phi_296</th>\n",
              "      <th>phi_297</th>\n",
              "      <th>phi_298</th>\n",
              "      <th>phi_299</th>\n",
              "      <th>volt</th>\n",
              "      <th>Ps</th>\n",
              "    </tr>\n",
              "  </thead>\n",
              "  <tbody>\n",
              "    <tr>\n",
              "      <th>9458</th>\n",
              "      <td>0.768994</td>\n",
              "      <td>0.769204</td>\n",
              "      <td>0.769850</td>\n",
              "      <td>0.768243</td>\n",
              "      <td>0.767871</td>\n",
              "      <td>0.767099</td>\n",
              "      <td>0.762355</td>\n",
              "      <td>0.762940</td>\n",
              "      <td>0.760222</td>\n",
              "      <td>0.760424</td>\n",
              "      <td>0.755124</td>\n",
              "      <td>0.743537</td>\n",
              "      <td>0.737283</td>\n",
              "      <td>0.731726</td>\n",
              "      <td>0.729473</td>\n",
              "      <td>0.708495</td>\n",
              "      <td>0.701627</td>\n",
              "      <td>0.700082</td>\n",
              "      <td>0.688620</td>\n",
              "      <td>0.687919</td>\n",
              "      <td>0.679821</td>\n",
              "      <td>0.676532</td>\n",
              "      <td>0.674322</td>\n",
              "      <td>0.669095</td>\n",
              "      <td>0.667015</td>\n",
              "      <td>0.667322</td>\n",
              "      <td>0.666686</td>\n",
              "      <td>0.663783</td>\n",
              "      <td>0.662625</td>\n",
              "      <td>0.661387</td>\n",
              "      <td>0.664157</td>\n",
              "      <td>0.663717</td>\n",
              "      <td>0.660192</td>\n",
              "      <td>0.661664</td>\n",
              "      <td>0.662989</td>\n",
              "      <td>0.662901</td>\n",
              "      <td>0.665280</td>\n",
              "      <td>0.664983</td>\n",
              "      <td>0.664212</td>\n",
              "      <td>0.666104</td>\n",
              "      <td>...</td>\n",
              "      <td>2.403959</td>\n",
              "      <td>2.415174</td>\n",
              "      <td>2.430344</td>\n",
              "      <td>2.445480</td>\n",
              "      <td>2.486384</td>\n",
              "      <td>2.523496</td>\n",
              "      <td>2.530867</td>\n",
              "      <td>2.545549</td>\n",
              "      <td>2.564555</td>\n",
              "      <td>2.579095</td>\n",
              "      <td>2.600725</td>\n",
              "      <td>2.626648</td>\n",
              "      <td>2.633736</td>\n",
              "      <td>2.689505</td>\n",
              "      <td>2.755858</td>\n",
              "      <td>2.760610</td>\n",
              "      <td>2.817425</td>\n",
              "      <td>2.823858</td>\n",
              "      <td>2.835077</td>\n",
              "      <td>2.839920</td>\n",
              "      <td>2.844777</td>\n",
              "      <td>2.862251</td>\n",
              "      <td>2.883110</td>\n",
              "      <td>2.910069</td>\n",
              "      <td>2.930851</td>\n",
              "      <td>2.936812</td>\n",
              "      <td>2.952551</td>\n",
              "      <td>2.957477</td>\n",
              "      <td>3.013510</td>\n",
              "      <td>3.033970</td>\n",
              "      <td>3.038940</td>\n",
              "      <td>3.069219</td>\n",
              "      <td>3.079174</td>\n",
              "      <td>3.094364</td>\n",
              "      <td>3.099329</td>\n",
              "      <td>3.109266</td>\n",
              "      <td>3.119208</td>\n",
              "      <td>3.124181</td>\n",
              "      <td>10.86</td>\n",
              "      <td>2741.229110</td>\n",
              "    </tr>\n",
              "    <tr>\n",
              "      <th>9459</th>\n",
              "      <td>0.769411</td>\n",
              "      <td>0.771234</td>\n",
              "      <td>0.770930</td>\n",
              "      <td>0.767507</td>\n",
              "      <td>0.767211</td>\n",
              "      <td>0.762870</td>\n",
              "      <td>0.762391</td>\n",
              "      <td>0.762103</td>\n",
              "      <td>0.750945</td>\n",
              "      <td>0.745313</td>\n",
              "      <td>0.743977</td>\n",
              "      <td>0.740488</td>\n",
              "      <td>0.719607</td>\n",
              "      <td>0.711932</td>\n",
              "      <td>0.708182</td>\n",
              "      <td>0.696980</td>\n",
              "      <td>0.694962</td>\n",
              "      <td>0.686234</td>\n",
              "      <td>0.684270</td>\n",
              "      <td>0.679065</td>\n",
              "      <td>0.675133</td>\n",
              "      <td>0.674959</td>\n",
              "      <td>0.674103</td>\n",
              "      <td>0.670010</td>\n",
              "      <td>0.669169</td>\n",
              "      <td>0.667166</td>\n",
              "      <td>0.664793</td>\n",
              "      <td>0.666562</td>\n",
              "      <td>0.664892</td>\n",
              "      <td>0.664188</td>\n",
              "      <td>0.661882</td>\n",
              "      <td>0.663295</td>\n",
              "      <td>0.665354</td>\n",
              "      <td>0.663108</td>\n",
              "      <td>0.667122</td>\n",
              "      <td>0.667253</td>\n",
              "      <td>0.669005</td>\n",
              "      <td>0.668874</td>\n",
              "      <td>0.670610</td>\n",
              "      <td>0.673495</td>\n",
              "      <td>...</td>\n",
              "      <td>2.473524</td>\n",
              "      <td>2.488497</td>\n",
              "      <td>2.491722</td>\n",
              "      <td>2.506566</td>\n",
              "      <td>2.513963</td>\n",
              "      <td>2.528705</td>\n",
              "      <td>2.555052</td>\n",
              "      <td>2.562349</td>\n",
              "      <td>2.624383</td>\n",
              "      <td>2.694073</td>\n",
              "      <td>2.698727</td>\n",
              "      <td>2.758232</td>\n",
              "      <td>2.764881</td>\n",
              "      <td>2.776251</td>\n",
              "      <td>2.782822</td>\n",
              "      <td>2.787595</td>\n",
              "      <td>2.810196</td>\n",
              "      <td>2.826273</td>\n",
              "      <td>2.854971</td>\n",
              "      <td>2.875784</td>\n",
              "      <td>2.880664</td>\n",
              "      <td>2.897834</td>\n",
              "      <td>2.902719</td>\n",
              "      <td>2.959944</td>\n",
              "      <td>2.980563</td>\n",
              "      <td>2.986288</td>\n",
              "      <td>3.016619</td>\n",
              "      <td>3.026525</td>\n",
              "      <td>3.041924</td>\n",
              "      <td>3.056796</td>\n",
              "      <td>3.066733</td>\n",
              "      <td>3.072053</td>\n",
              "      <td>3.101813</td>\n",
              "      <td>3.111751</td>\n",
              "      <td>3.116722</td>\n",
              "      <td>3.121695</td>\n",
              "      <td>3.131643</td>\n",
              "      <td>3.141593</td>\n",
              "      <td>10.86</td>\n",
              "      <td>2753.061660</td>\n",
              "    </tr>\n",
              "    <tr>\n",
              "      <th>9460</th>\n",
              "      <td>0.771001</td>\n",
              "      <td>0.771248</td>\n",
              "      <td>0.768150</td>\n",
              "      <td>0.770508</td>\n",
              "      <td>0.770280</td>\n",
              "      <td>0.766052</td>\n",
              "      <td>0.761551</td>\n",
              "      <td>0.762223</td>\n",
              "      <td>0.759666</td>\n",
              "      <td>0.759935</td>\n",
              "      <td>0.753750</td>\n",
              "      <td>0.738970</td>\n",
              "      <td>0.733266</td>\n",
              "      <td>0.730988</td>\n",
              "      <td>0.716740</td>\n",
              "      <td>0.706440</td>\n",
              "      <td>0.701869</td>\n",
              "      <td>0.692721</td>\n",
              "      <td>0.687294</td>\n",
              "      <td>0.680276</td>\n",
              "      <td>0.679523</td>\n",
              "      <td>0.678014</td>\n",
              "      <td>0.671728</td>\n",
              "      <td>0.669328</td>\n",
              "      <td>0.669415</td>\n",
              "      <td>0.664347</td>\n",
              "      <td>0.665887</td>\n",
              "      <td>0.663179</td>\n",
              "      <td>0.662119</td>\n",
              "      <td>0.661014</td>\n",
              "      <td>0.664237</td>\n",
              "      <td>0.663753</td>\n",
              "      <td>0.663642</td>\n",
              "      <td>0.660261</td>\n",
              "      <td>0.661589</td>\n",
              "      <td>0.663179</td>\n",
              "      <td>0.661832</td>\n",
              "      <td>0.662385</td>\n",
              "      <td>0.664678</td>\n",
              "      <td>0.665931</td>\n",
              "      <td>...</td>\n",
              "      <td>2.409376</td>\n",
              "      <td>2.424529</td>\n",
              "      <td>2.439650</td>\n",
              "      <td>2.454734</td>\n",
              "      <td>2.495439</td>\n",
              "      <td>2.532379</td>\n",
              "      <td>2.539712</td>\n",
              "      <td>2.554318</td>\n",
              "      <td>2.573252</td>\n",
              "      <td>2.587709</td>\n",
              "      <td>2.606554</td>\n",
              "      <td>2.632469</td>\n",
              "      <td>2.639547</td>\n",
              "      <td>2.697505</td>\n",
              "      <td>2.761561</td>\n",
              "      <td>2.768192</td>\n",
              "      <td>2.824650</td>\n",
              "      <td>2.829473</td>\n",
              "      <td>2.840672</td>\n",
              "      <td>2.845519</td>\n",
              "      <td>2.851831</td>\n",
              "      <td>2.867805</td>\n",
              "      <td>2.888644</td>\n",
              "      <td>2.915549</td>\n",
              "      <td>2.936300</td>\n",
              "      <td>2.942231</td>\n",
              "      <td>2.957017</td>\n",
              "      <td>2.962859</td>\n",
              "      <td>3.018788</td>\n",
              "      <td>3.039195</td>\n",
              "      <td>3.044158</td>\n",
              "      <td>3.074362</td>\n",
              "      <td>3.084299</td>\n",
              "      <td>3.099224</td>\n",
              "      <td>3.104204</td>\n",
              "      <td>3.114304</td>\n",
              "      <td>3.124225</td>\n",
              "      <td>3.129186</td>\n",
              "      <td>10.86</td>\n",
              "      <td>2743.288499</td>\n",
              "    </tr>\n",
              "    <tr>\n",
              "      <th>9461</th>\n",
              "      <td>0.763757</td>\n",
              "      <td>0.764561</td>\n",
              "      <td>0.762530</td>\n",
              "      <td>0.759319</td>\n",
              "      <td>0.757467</td>\n",
              "      <td>0.755804</td>\n",
              "      <td>0.756346</td>\n",
              "      <td>0.751437</td>\n",
              "      <td>0.741697</td>\n",
              "      <td>0.739940</td>\n",
              "      <td>0.735756</td>\n",
              "      <td>0.732528</td>\n",
              "      <td>0.714020</td>\n",
              "      <td>0.707578</td>\n",
              "      <td>0.704573</td>\n",
              "      <td>0.692320</td>\n",
              "      <td>0.690733</td>\n",
              "      <td>0.683366</td>\n",
              "      <td>0.682166</td>\n",
              "      <td>0.678014</td>\n",
              "      <td>0.674921</td>\n",
              "      <td>0.671728</td>\n",
              "      <td>0.671270</td>\n",
              "      <td>0.668365</td>\n",
              "      <td>0.668124</td>\n",
              "      <td>0.666414</td>\n",
              "      <td>0.664435</td>\n",
              "      <td>0.666985</td>\n",
              "      <td>0.665074</td>\n",
              "      <td>0.663686</td>\n",
              "      <td>0.663841</td>\n",
              "      <td>0.662804</td>\n",
              "      <td>0.664898</td>\n",
              "      <td>0.665601</td>\n",
              "      <td>0.665360</td>\n",
              "      <td>0.665689</td>\n",
              "      <td>0.666590</td>\n",
              "      <td>0.669153</td>\n",
              "      <td>0.670092</td>\n",
              "      <td>0.673076</td>\n",
              "      <td>...</td>\n",
              "      <td>2.420989</td>\n",
              "      <td>2.466433</td>\n",
              "      <td>2.481489</td>\n",
              "      <td>2.492231</td>\n",
              "      <td>2.511424</td>\n",
              "      <td>2.518866</td>\n",
              "      <td>2.533696</td>\n",
              "      <td>2.563114</td>\n",
              "      <td>2.570414</td>\n",
              "      <td>2.697733</td>\n",
              "      <td>2.704652</td>\n",
              "      <td>2.769232</td>\n",
              "      <td>2.780710</td>\n",
              "      <td>2.787333</td>\n",
              "      <td>2.792162</td>\n",
              "      <td>2.810118</td>\n",
              "      <td>2.814972</td>\n",
              "      <td>2.832765</td>\n",
              "      <td>2.860143</td>\n",
              "      <td>2.881154</td>\n",
              "      <td>2.887372</td>\n",
              "      <td>2.903383</td>\n",
              "      <td>2.908320</td>\n",
              "      <td>2.966041</td>\n",
              "      <td>2.986830</td>\n",
              "      <td>2.991827</td>\n",
              "      <td>3.022565</td>\n",
              "      <td>3.033159</td>\n",
              "      <td>3.048194</td>\n",
              "      <td>3.053216</td>\n",
              "      <td>3.063665</td>\n",
              "      <td>3.073687</td>\n",
              "      <td>3.078703</td>\n",
              "      <td>3.109023</td>\n",
              "      <td>3.119040</td>\n",
              "      <td>3.124051</td>\n",
              "      <td>3.129062</td>\n",
              "      <td>3.139086</td>\n",
              "      <td>10.86</td>\n",
              "      <td>2655.702637</td>\n",
              "    </tr>\n",
              "    <tr>\n",
              "      <th>9462</th>\n",
              "      <td>0.761306</td>\n",
              "      <td>0.762535</td>\n",
              "      <td>0.761075</td>\n",
              "      <td>0.756873</td>\n",
              "      <td>0.756303</td>\n",
              "      <td>0.755170</td>\n",
              "      <td>0.754472</td>\n",
              "      <td>0.750302</td>\n",
              "      <td>0.740735</td>\n",
              "      <td>0.737320</td>\n",
              "      <td>0.736695</td>\n",
              "      <td>0.722346</td>\n",
              "      <td>0.711315</td>\n",
              "      <td>0.706776</td>\n",
              "      <td>0.697693</td>\n",
              "      <td>0.692727</td>\n",
              "      <td>0.688405</td>\n",
              "      <td>0.682643</td>\n",
              "      <td>0.682611</td>\n",
              "      <td>0.675544</td>\n",
              "      <td>0.675133</td>\n",
              "      <td>0.674959</td>\n",
              "      <td>0.670436</td>\n",
              "      <td>0.670010</td>\n",
              "      <td>0.665409</td>\n",
              "      <td>0.667166</td>\n",
              "      <td>0.664793</td>\n",
              "      <td>0.666562</td>\n",
              "      <td>0.662247</td>\n",
              "      <td>0.661805</td>\n",
              "      <td>0.662600</td>\n",
              "      <td>0.663295</td>\n",
              "      <td>0.665277</td>\n",
              "      <td>0.666859</td>\n",
              "      <td>0.667987</td>\n",
              "      <td>0.666233</td>\n",
              "      <td>0.667878</td>\n",
              "      <td>0.670087</td>\n",
              "      <td>0.670239</td>\n",
              "      <td>0.675003</td>\n",
              "      <td>...</td>\n",
              "      <td>2.428863</td>\n",
              "      <td>2.444090</td>\n",
              "      <td>2.451689</td>\n",
              "      <td>2.474415</td>\n",
              "      <td>2.489499</td>\n",
              "      <td>2.519479</td>\n",
              "      <td>2.526930</td>\n",
              "      <td>2.590284</td>\n",
              "      <td>2.661515</td>\n",
              "      <td>2.668578</td>\n",
              "      <td>2.731259</td>\n",
              "      <td>2.736019</td>\n",
              "      <td>2.747600</td>\n",
              "      <td>2.754362</td>\n",
              "      <td>2.759161</td>\n",
              "      <td>2.777384</td>\n",
              "      <td>2.782217</td>\n",
              "      <td>2.827972</td>\n",
              "      <td>2.850627</td>\n",
              "      <td>2.855541</td>\n",
              "      <td>2.871743</td>\n",
              "      <td>2.878029</td>\n",
              "      <td>2.936197</td>\n",
              "      <td>2.958113</td>\n",
              "      <td>2.963100</td>\n",
              "      <td>2.993957</td>\n",
              "      <td>3.004699</td>\n",
              "      <td>3.019750</td>\n",
              "      <td>3.025368</td>\n",
              "      <td>3.035395</td>\n",
              "      <td>3.045443</td>\n",
              "      <td>3.050475</td>\n",
              "      <td>3.081061</td>\n",
              "      <td>3.091130</td>\n",
              "      <td>3.096169</td>\n",
              "      <td>3.101211</td>\n",
              "      <td>3.111451</td>\n",
              "      <td>3.121495</td>\n",
              "      <td>10.86</td>\n",
              "      <td>2664.232965</td>\n",
              "    </tr>\n",
              "  </tbody>\n",
              "</table>\n",
              "<p>5 rows × 352 columns</p>\n",
              "</div>"
            ],
            "text/plain": [
              "         rho_1     rho_3     rho_5  ...   phi_299   volt           Ps\n",
              "9458  0.768994  0.769204  0.769850  ...  3.124181  10.86  2741.229110\n",
              "9459  0.769411  0.771234  0.770930  ...  3.141593  10.86  2753.061660\n",
              "9460  0.771001  0.771248  0.768150  ...  3.129186  10.86  2743.288499\n",
              "9461  0.763757  0.764561  0.762530  ...  3.139086  10.86  2655.702637\n",
              "9462  0.761306  0.762535  0.761075  ...  3.121495  10.86  2664.232965\n",
              "\n",
              "[5 rows x 352 columns]"
            ]
          },
          "metadata": {
            "tags": []
          },
          "execution_count": 9
        }
      ]
    },
    {
      "cell_type": "code",
      "metadata": {
        "id": "qn-IGhUE7_1H"
      },
      "source": [
        "train_dataset = dataset.sample(frac=0.8,random_state=1)\n",
        "test_dataset = dataset.drop(train_dataset.index)\n"
      ],
      "execution_count": 10,
      "outputs": []
    },
    {
      "cell_type": "markdown",
      "metadata": {
        "id": "J4ubs136WLNp"
      },
      "source": [
        "### Inspect the data\n",
        "\n",
        "Have a quick look at the joint distribution of a few pairs of columns from the training set."
      ]
    },
    {
      "cell_type": "code",
      "metadata": {
        "id": "oRKO_x8gWKv-"
      },
      "source": [
        "#sns.pairplot(train_dataset[column_names], diag_kind=\"kde\")\n",
        "#plt.show()"
      ],
      "execution_count": null,
      "outputs": []
    },
    {
      "cell_type": "markdown",
      "metadata": {
        "id": "gavKO_6DWRMP"
      },
      "source": [
        "Also look at the overall statistics:"
      ]
    },
    {
      "cell_type": "code",
      "metadata": {
        "id": "yi2FzC3T21jR",
        "outputId": "1f7fa9dc-7949-4c7c-c701-9089068bac52",
        "colab": {
          "base_uri": "https://localhost:8080/",
          "height": 411
        }
      },
      "source": [
        "train_stats = train_dataset.describe()\n",
        "train_stats.pop(\"Ps\")   #OBS! I want to predict the surface tension that is why I remove the ST column!\n",
        "\n",
        "train_stats = train_stats.transpose()\n",
        "train_stats"
      ],
      "execution_count": 11,
      "outputs": [
        {
          "output_type": "execute_result",
          "data": {
            "text/html": [
              "<div>\n",
              "<style scoped>\n",
              "    .dataframe tbody tr th:only-of-type {\n",
              "        vertical-align: middle;\n",
              "    }\n",
              "\n",
              "    .dataframe tbody tr th {\n",
              "        vertical-align: top;\n",
              "    }\n",
              "\n",
              "    .dataframe thead th {\n",
              "        text-align: right;\n",
              "    }\n",
              "</style>\n",
              "<table border=\"1\" class=\"dataframe\">\n",
              "  <thead>\n",
              "    <tr style=\"text-align: right;\">\n",
              "      <th></th>\n",
              "      <th>count</th>\n",
              "      <th>mean</th>\n",
              "      <th>std</th>\n",
              "      <th>min</th>\n",
              "      <th>25%</th>\n",
              "      <th>50%</th>\n",
              "      <th>75%</th>\n",
              "      <th>max</th>\n",
              "    </tr>\n",
              "  </thead>\n",
              "  <tbody>\n",
              "    <tr>\n",
              "      <th>rho_1</th>\n",
              "      <td>7570.0</td>\n",
              "      <td>0.941769</td>\n",
              "      <td>0.137017</td>\n",
              "      <td>0.533626</td>\n",
              "      <td>0.860125</td>\n",
              "      <td>0.942883</td>\n",
              "      <td>1.028601</td>\n",
              "      <td>1.270144</td>\n",
              "    </tr>\n",
              "    <tr>\n",
              "      <th>rho_3</th>\n",
              "      <td>7570.0</td>\n",
              "      <td>0.942037</td>\n",
              "      <td>0.137147</td>\n",
              "      <td>0.534681</td>\n",
              "      <td>0.860142</td>\n",
              "      <td>0.942885</td>\n",
              "      <td>1.028803</td>\n",
              "      <td>1.271727</td>\n",
              "    </tr>\n",
              "    <tr>\n",
              "      <th>rho_5</th>\n",
              "      <td>7570.0</td>\n",
              "      <td>0.941927</td>\n",
              "      <td>0.137133</td>\n",
              "      <td>0.535392</td>\n",
              "      <td>0.859679</td>\n",
              "      <td>0.942438</td>\n",
              "      <td>1.028478</td>\n",
              "      <td>1.271917</td>\n",
              "    </tr>\n",
              "    <tr>\n",
              "      <th>rho_7</th>\n",
              "      <td>7570.0</td>\n",
              "      <td>0.941320</td>\n",
              "      <td>0.137032</td>\n",
              "      <td>0.534708</td>\n",
              "      <td>0.859268</td>\n",
              "      <td>0.941341</td>\n",
              "      <td>1.028813</td>\n",
              "      <td>1.269055</td>\n",
              "    </tr>\n",
              "    <tr>\n",
              "      <th>rho_9</th>\n",
              "      <td>7570.0</td>\n",
              "      <td>0.940233</td>\n",
              "      <td>0.136958</td>\n",
              "      <td>0.534462</td>\n",
              "      <td>0.857767</td>\n",
              "      <td>0.939274</td>\n",
              "      <td>1.027708</td>\n",
              "      <td>1.265829</td>\n",
              "    </tr>\n",
              "    <tr>\n",
              "      <th>...</th>\n",
              "      <td>...</td>\n",
              "      <td>...</td>\n",
              "      <td>...</td>\n",
              "      <td>...</td>\n",
              "      <td>...</td>\n",
              "      <td>...</td>\n",
              "      <td>...</td>\n",
              "      <td>...</td>\n",
              "    </tr>\n",
              "    <tr>\n",
              "      <th>phi_296</th>\n",
              "      <td>7570.0</td>\n",
              "      <td>3.075057</td>\n",
              "      <td>0.031817</td>\n",
              "      <td>2.919888</td>\n",
              "      <td>3.054938</td>\n",
              "      <td>3.081161</td>\n",
              "      <td>3.100489</td>\n",
              "      <td>3.128732</td>\n",
              "    </tr>\n",
              "    <tr>\n",
              "      <th>phi_297</th>\n",
              "      <td>7570.0</td>\n",
              "      <td>3.093286</td>\n",
              "      <td>0.026978</td>\n",
              "      <td>2.957467</td>\n",
              "      <td>3.077090</td>\n",
              "      <td>3.100546</td>\n",
              "      <td>3.113938</td>\n",
              "      <td>3.135162</td>\n",
              "    </tr>\n",
              "    <tr>\n",
              "      <th>phi_298</th>\n",
              "      <td>7570.0</td>\n",
              "      <td>3.109298</td>\n",
              "      <td>0.023327</td>\n",
              "      <td>3.019504</td>\n",
              "      <td>3.097025</td>\n",
              "      <td>3.116650</td>\n",
              "      <td>3.127010</td>\n",
              "      <td>3.138581</td>\n",
              "    </tr>\n",
              "    <tr>\n",
              "      <th>phi_299</th>\n",
              "      <td>7570.0</td>\n",
              "      <td>3.127965</td>\n",
              "      <td>0.014306</td>\n",
              "      <td>3.036716</td>\n",
              "      <td>3.121640</td>\n",
              "      <td>3.132867</td>\n",
              "      <td>3.138482</td>\n",
              "      <td>3.141593</td>\n",
              "    </tr>\n",
              "    <tr>\n",
              "      <th>volt</th>\n",
              "      <td>7570.0</td>\n",
              "      <td>8.602634</td>\n",
              "      <td>1.425861</td>\n",
              "      <td>6.500000</td>\n",
              "      <td>7.340000</td>\n",
              "      <td>8.500000</td>\n",
              "      <td>10.010000</td>\n",
              "      <td>11.000000</td>\n",
              "    </tr>\n",
              "  </tbody>\n",
              "</table>\n",
              "<p>351 rows × 8 columns</p>\n",
              "</div>"
            ],
            "text/plain": [
              "          count      mean       std  ...       50%        75%        max\n",
              "rho_1    7570.0  0.941769  0.137017  ...  0.942883   1.028601   1.270144\n",
              "rho_3    7570.0  0.942037  0.137147  ...  0.942885   1.028803   1.271727\n",
              "rho_5    7570.0  0.941927  0.137133  ...  0.942438   1.028478   1.271917\n",
              "rho_7    7570.0  0.941320  0.137032  ...  0.941341   1.028813   1.269055\n",
              "rho_9    7570.0  0.940233  0.136958  ...  0.939274   1.027708   1.265829\n",
              "...         ...       ...       ...  ...       ...        ...        ...\n",
              "phi_296  7570.0  3.075057  0.031817  ...  3.081161   3.100489   3.128732\n",
              "phi_297  7570.0  3.093286  0.026978  ...  3.100546   3.113938   3.135162\n",
              "phi_298  7570.0  3.109298  0.023327  ...  3.116650   3.127010   3.138581\n",
              "phi_299  7570.0  3.127965  0.014306  ...  3.132867   3.138482   3.141593\n",
              "volt     7570.0  8.602634  1.425861  ...  8.500000  10.010000  11.000000\n",
              "\n",
              "[351 rows x 8 columns]"
            ]
          },
          "metadata": {
            "tags": []
          },
          "execution_count": 11
        }
      ]
    },
    {
      "cell_type": "markdown",
      "metadata": {
        "id": "Db7Auq1yXUvh"
      },
      "source": [
        "### Split features from labels\n",
        "\n",
        "Separate the target value, or \"label\", from the features. This label is the value that you will train the model to predict."
      ]
    },
    {
      "cell_type": "code",
      "metadata": {
        "id": "t2sluJdCW7jN"
      },
      "source": [
        "train_labels = train_dataset.pop('Ps')  #OBS! Same here as in the previous cell\n",
        "test_labels = test_dataset.pop('Ps') #OBS! Same here"
      ],
      "execution_count": 12,
      "outputs": []
    },
    {
      "cell_type": "markdown",
      "metadata": {
        "id": "mRklxK5s388r"
      },
      "source": [
        "### Normalize the data\n",
        "\n",
        "Look again at the `train_stats` block above and note how different the ranges of each feature are."
      ]
    },
    {
      "cell_type": "markdown",
      "metadata": {
        "id": "-ywmerQ6dSox"
      },
      "source": [
        "It is good practice to normalize features that use different scales and ranges. Although the model *might* converge without feature normalization, it makes training more difficult, and it makes the resulting model dependent on the choice of units used in the input.\n",
        "\n",
        "Note: Although we intentionally generate these statistics from only the training dataset, these statistics will also be used to normalize the test dataset. We need to do that to project the test dataset into the same distribution that the model has been trained on."
      ]
    },
    {
      "cell_type": "code",
      "metadata": {
        "id": "JlC5ooJrgjQF"
      },
      "source": [
        "def norm(x):\n",
        "  return (x - train_stats['mean']) / train_stats['std']\n",
        "normed_train_data = norm(train_dataset)\n",
        "normed_test_data = norm(test_dataset)\n"
      ],
      "execution_count": 13,
      "outputs": []
    },
    {
      "cell_type": "markdown",
      "metadata": {
        "id": "BuiClDk45eS4"
      },
      "source": [
        "This normalized data is what we will use to train the model.\n",
        "\n",
        "Caution: The statistics used to normalize the inputs here (mean and standard deviation) need to be applied to any other data that is fed to the model, along with the one-hot encoding that we did earlier.  That includes the test set as well as live data when the model is used in production."
      ]
    },
    {
      "cell_type": "markdown",
      "metadata": {
        "id": "SmjdzxKzEu1-"
      },
      "source": [
        "## The model"
      ]
    },
    {
      "cell_type": "markdown",
      "metadata": {
        "id": "6SWtkIjhrZwa"
      },
      "source": [
        "### Build the model\n",
        "\n",
        "Let's build our model. Here, we'll use a `Sequential` model with two densely connected hidden layers, and an output layer that returns a single, continuous value. The model building steps are wrapped in a function, `build_model`, since we'll create a second model, later on."
      ]
    },
    {
      "cell_type": "code",
      "metadata": {
        "id": "vPSvYP6mhHBM"
      },
      "source": [
        "\n",
        "STEPS_PER_EPOCH=len(train_dataset)/500\n",
        "lr_schedule = tf.keras.optimizers.schedules.InverseTimeDecay(\n",
        "  0.001,\n",
        "  decay_steps=STEPS_PER_EPOCH*1000,\n",
        "  decay_rate=1,\n",
        "  staircase=False)\n",
        "\n",
        "def get_optimizer():\n",
        "  return tf.keras.optimizers.Adam(lr_schedule) #Adam has been working the best as an optimizer in most cases find more options in the next cell!"
      ],
      "execution_count": 14,
      "outputs": []
    },
    {
      "cell_type": "code",
      "metadata": {
        "id": "c26juK7ZG8j-"
      },
      "source": [
        "def build_model():\n",
        "  model = keras.Sequential([\n",
        "    layers.Dense(1000, activation=tf.nn.swish, input_shape=[len(train_dataset.keys())]),\n",
        "    layers.Dense(500, activation=tf.nn.swish),\n",
        "    # layers.Dense(3, activation=tf.nn.swish),\n",
        "    layers.Dense(1)\n",
        "  ])\n",
        "\n",
        "#Here are differnt optimizer options:\n",
        "\n",
        "  #optimizer_1 = tf.keras.optimizers.RMSprop(0.0000001)\n",
        "  #optimizer_2 = tf.keras.optimizers.Adagrad(learning_rate=0.0001)\n",
        "  #optimizer_3 = tf.keras.optimizers.Adam(learning_rate=0.001, beta_1=0.9, beta_2=0.999, amsgrad=False)  \n",
        "  #optimizer_4 = tf.keras.optimizers.Adamax(learning_rate=0.001, beta_1=0.8, beta_2=0.995)\n",
        "\n",
        "  model.compile(loss='mean_squared_error',\n",
        "                optimizer=get_optimizer(),  #If you want to try without the learning schedule you should also change the option of the optimizer here! You should put optimizer=optimizer_3 for example!\n",
        "                metrics=['mean_absolute_error', 'mean_squared_error'])\n",
        "  return model"
      ],
      "execution_count": 15,
      "outputs": []
    },
    {
      "cell_type": "code",
      "metadata": {
        "id": "cGbPb-PHGbhs"
      },
      "source": [
        "model = build_model()"
      ],
      "execution_count": 16,
      "outputs": []
    },
    {
      "cell_type": "markdown",
      "metadata": {
        "id": "AUx4uYxk0GEJ"
      },
      "source": [
        "## If there is a model saved on google drive execute the next block"
      ]
    },
    {
      "cell_type": "code",
      "metadata": {
        "id": "y3Ir9yi8z0VA"
      },
      "source": [
        "from tensorflow.keras.models import load_model\n",
        "\n",
        "# del model \n",
        "folder=str('theory_experiment_mix/')\n",
        "model_name=str('All_surf_all_vary_175points_trial_1.h5')\n",
        "model = load_model(str(\"/content/drive/My Drive/DropLev/MachineLearningModels/\"+folder+model_name))\n"
      ],
      "execution_count": null,
      "outputs": []
    },
    {
      "cell_type": "markdown",
      "metadata": {
        "id": "Sj49Og4YGULr"
      },
      "source": [
        "### Inspect the model\n",
        "\n",
        "Use the `.summary` method to print a simple description of the model"
      ]
    },
    {
      "cell_type": "code",
      "metadata": {
        "id": "ReAD0n6MsFK-",
        "outputId": "9c1c2700-aeaf-4911-f3bb-1c9c3650eec3",
        "colab": {
          "base_uri": "https://localhost:8080/",
          "height": 266
        }
      },
      "source": [
        "model.summary()"
      ],
      "execution_count": 17,
      "outputs": [
        {
          "output_type": "stream",
          "text": [
            "Model: \"sequential\"\n",
            "_________________________________________________________________\n",
            "Layer (type)                 Output Shape              Param #   \n",
            "=================================================================\n",
            "dense (Dense)                (None, 1000)              352000    \n",
            "_________________________________________________________________\n",
            "dense_1 (Dense)              (None, 500)               500500    \n",
            "_________________________________________________________________\n",
            "dense_2 (Dense)              (None, 1)                 501       \n",
            "=================================================================\n",
            "Total params: 853,001\n",
            "Trainable params: 853,001\n",
            "Non-trainable params: 0\n",
            "_________________________________________________________________\n"
          ],
          "name": "stdout"
        }
      ]
    },
    {
      "cell_type": "markdown",
      "metadata": {
        "id": "Vt6W50qGsJAL"
      },
      "source": [
        "\n",
        "Now try out the model. Take a batch of `10` examples from the training data and call `model.predict` on it."
      ]
    },
    {
      "cell_type": "code",
      "metadata": {
        "id": "-d-gBaVtGTSC",
        "outputId": "9ff2d730-e889-4820-9cc3-f412d4ec79a1",
        "colab": {
          "base_uri": "https://localhost:8080/",
          "height": 268
        }
      },
      "source": [
        "example_batch = normed_train_data[:10]\n",
        "example_result = model.predict(example_batch)\n",
        "example_result"
      ],
      "execution_count": 18,
      "outputs": [
        {
          "output_type": "stream",
          "text": [
            "WARNING:tensorflow:From /usr/local/lib/python3.6/dist-packages/tensorflow/python/keras/engine/training_v1.py:2070: Model.state_updates (from tensorflow.python.keras.engine.training) is deprecated and will be removed in a future version.\n",
            "Instructions for updating:\n",
            "This property should not be used in TensorFlow 2.0, as updates are applied automatically.\n"
          ],
          "name": "stdout"
        },
        {
          "output_type": "execute_result",
          "data": {
            "text/plain": [
              "array([[-0.30091557],\n",
              "       [-0.49498263],\n",
              "       [-0.49298418],\n",
              "       [ 0.6989482 ],\n",
              "       [-0.308387  ],\n",
              "       [-0.48966986],\n",
              "       [-0.29545686],\n",
              "       [ 0.03656934],\n",
              "       [-0.18991059],\n",
              "       [ 0.2885363 ]], dtype=float32)"
            ]
          },
          "metadata": {
            "tags": []
          },
          "execution_count": 18
        }
      ]
    },
    {
      "cell_type": "markdown",
      "metadata": {
        "id": "QlM8KrSOsaYo"
      },
      "source": [
        "It seems to be working, and it produces a result of the expected shape and type."
      ]
    },
    {
      "cell_type": "markdown",
      "metadata": {
        "id": "0-qWCsh6DlyH"
      },
      "source": [
        "### Train the model\n",
        "\n",
        "Train the model for 1000 epochs, and record the training and validation accuracy in the `history` object."
      ]
    },
    {
      "cell_type": "code",
      "metadata": {
        "id": "sD7qHCmNIOY0",
        "outputId": "bc24854c-0049-4a4b-950b-7f79ec40789a",
        "colab": {
          "base_uri": "https://localhost:8080/",
          "height": 426
        }
      },
      "source": [
        "# Display training progress by printing a single dot for each completed epoch\n",
        "class PrintDot(keras.callbacks.Callback):\n",
        "  def on_epoch_end(self, epoch, logs):\n",
        "    if epoch % 55 == 0: print('')\n",
        "    print('.', end='')\n",
        "\n",
        "\n",
        "EPOCHS = 5000\n",
        "\n",
        "\n",
        "early_stop = keras.callbacks.EarlyStopping(monitor='val_loss',min_delta=0, patience=75, verbose=0, mode='auto')\n",
        "\n",
        "\n",
        "history = model.fit(\n",
        "  normed_train_data, train_labels,\n",
        "  epochs=EPOCHS, validation_split = 0.2, verbose=0,\n",
        "  callbacks=[early_stop, PrintDot()])  # callbacks=callbacks_list"
      ],
      "execution_count": 19,
      "outputs": [
        {
          "output_type": "stream",
          "text": [
            "\n",
            ".......................................................\n",
            ".......................................................\n",
            ".......................................................\n",
            ".......................................................\n",
            ".......................................................\n",
            ".......................................................\n",
            ".......................................................\n",
            ".......................................................\n",
            ".......................................................\n",
            ".......................................................\n",
            ".......................................................\n",
            ".......................................................\n",
            ".......................................................\n",
            ".......................................................\n",
            ".......................................................\n",
            ".......................................................\n",
            ".......................................................\n",
            ".......................................................\n",
            ".......................................................\n",
            ".......................................................\n",
            ".......................................................\n",
            "................................."
          ],
          "name": "stdout"
        }
      ]
    },
    {
      "cell_type": "markdown",
      "metadata": {
        "id": "tQm3pc0FYPQB"
      },
      "source": [
        "Visualize the model's training progress using the stats stored in the `history` object."
      ]
    },
    {
      "cell_type": "code",
      "metadata": {
        "id": "4Xj91b-dymEy",
        "outputId": "cc8534dc-3c13-4321-dc12-efea7f601e59",
        "colab": {
          "base_uri": "https://localhost:8080/",
          "height": 200
        }
      },
      "source": [
        "hist = pd.DataFrame(history.history)\n",
        "hist['epoch'] = history.epoch\n",
        "hist.tail()"
      ],
      "execution_count": 20,
      "outputs": [
        {
          "output_type": "execute_result",
          "data": {
            "text/html": [
              "<div>\n",
              "<style scoped>\n",
              "    .dataframe tbody tr th:only-of-type {\n",
              "        vertical-align: middle;\n",
              "    }\n",
              "\n",
              "    .dataframe tbody tr th {\n",
              "        vertical-align: top;\n",
              "    }\n",
              "\n",
              "    .dataframe thead th {\n",
              "        text-align: right;\n",
              "    }\n",
              "</style>\n",
              "<table border=\"1\" class=\"dataframe\">\n",
              "  <thead>\n",
              "    <tr style=\"text-align: right;\">\n",
              "      <th></th>\n",
              "      <th>loss</th>\n",
              "      <th>mean_absolute_error</th>\n",
              "      <th>mean_squared_error</th>\n",
              "      <th>val_loss</th>\n",
              "      <th>val_mean_absolute_error</th>\n",
              "      <th>val_mean_squared_error</th>\n",
              "      <th>epoch</th>\n",
              "    </tr>\n",
              "  </thead>\n",
              "  <tbody>\n",
              "    <tr>\n",
              "      <th>1183</th>\n",
              "      <td>16.932619</td>\n",
              "      <td>3.144009</td>\n",
              "      <td>16.932619</td>\n",
              "      <td>646.165080</td>\n",
              "      <td>14.991938</td>\n",
              "      <td>646.165039</td>\n",
              "      <td>1183</td>\n",
              "    </tr>\n",
              "    <tr>\n",
              "      <th>1184</th>\n",
              "      <td>12.805507</td>\n",
              "      <td>2.744704</td>\n",
              "      <td>12.805511</td>\n",
              "      <td>645.519077</td>\n",
              "      <td>14.958520</td>\n",
              "      <td>645.519165</td>\n",
              "      <td>1184</td>\n",
              "    </tr>\n",
              "    <tr>\n",
              "      <th>1185</th>\n",
              "      <td>12.265443</td>\n",
              "      <td>2.650538</td>\n",
              "      <td>12.265441</td>\n",
              "      <td>643.816306</td>\n",
              "      <td>15.140341</td>\n",
              "      <td>643.816406</td>\n",
              "      <td>1185</td>\n",
              "    </tr>\n",
              "    <tr>\n",
              "      <th>1186</th>\n",
              "      <td>14.123669</td>\n",
              "      <td>2.854166</td>\n",
              "      <td>14.123669</td>\n",
              "      <td>640.218230</td>\n",
              "      <td>14.875966</td>\n",
              "      <td>640.218262</td>\n",
              "      <td>1186</td>\n",
              "    </tr>\n",
              "    <tr>\n",
              "      <th>1187</th>\n",
              "      <td>13.689663</td>\n",
              "      <td>2.815813</td>\n",
              "      <td>13.689661</td>\n",
              "      <td>659.411673</td>\n",
              "      <td>15.546966</td>\n",
              "      <td>659.411743</td>\n",
              "      <td>1187</td>\n",
              "    </tr>\n",
              "  </tbody>\n",
              "</table>\n",
              "</div>"
            ],
            "text/plain": [
              "           loss  mean_absolute_error  ...  val_mean_squared_error  epoch\n",
              "1183  16.932619             3.144009  ...              646.165039   1183\n",
              "1184  12.805507             2.744704  ...              645.519165   1184\n",
              "1185  12.265443             2.650538  ...              643.816406   1185\n",
              "1186  14.123669             2.854166  ...              640.218262   1186\n",
              "1187  13.689663             2.815813  ...              659.411743   1187\n",
              "\n",
              "[5 rows x 7 columns]"
            ]
          },
          "metadata": {
            "tags": []
          },
          "execution_count": 20
        }
      ]
    },
    {
      "cell_type": "markdown",
      "metadata": {
        "id": "AqsuANc11FYv"
      },
      "source": [
        "Let's automatically stop training when the validation score doesn't improve. We'll use an *EarlyStopping callback* that tests a training condition for  every epoch. If a set amount of epochs elapses without showing improvement, then automatically stop the training.\n",
        "\n",
        "You can learn more about this callback [here](https://www.tensorflow.org/versions/master/api_docs/python/tf/keras/callbacks/EarlyStopping)."
      ]
    },
    {
      "cell_type": "code",
      "metadata": {
        "id": "B6XriGbVPh2t",
        "outputId": "866919cb-ed14-46bb-db01-a3a5ff6da1be",
        "colab": {
          "base_uri": "https://localhost:8080/",
          "height": 549
        }
      },
      "source": [
        "def plot_history(history):\n",
        "  hist = pd.DataFrame(history.history)\n",
        "  hist['epoch'] = history.epoch\n",
        "\n",
        "  plt.figure()\n",
        "  plt.xlabel('Epoch')\n",
        "  plt.ylabel('Mean Abs Error [ST]')\n",
        "  plt.plot(hist['epoch'], hist['mean_absolute_error'],\n",
        "           label='Train Error')\n",
        "  plt.plot(hist['epoch'], hist['val_mean_absolute_error'],\n",
        "           label = 'Val Error')\n",
        "  plt.ylim([0,100])\n",
        "  plt.legend()\n",
        "\n",
        "  plt.figure()\n",
        "  plt.xlabel('Epoch')\n",
        "  plt.ylabel('Mean Square Error [$ST^2$]')\n",
        "  plt.plot(hist['epoch'], hist['mean_squared_error'],\n",
        "           label='Train Error')\n",
        "  plt.plot(hist['epoch'], hist['val_mean_squared_error'],\n",
        "           label = 'Val Error')\n",
        "  plt.ylim([0,2000])\n",
        "  plt.legend()\n",
        "  plt.show()\n",
        "\n",
        "\n",
        "plot_history(history)"
      ],
      "execution_count": 21,
      "outputs": [
        {
          "output_type": "display_data",
          "data": {
            "image/png": "[encoded data removed]",
            "text/plain": [
              "<Figure size 432x288 with 1 Axes>"
            ]
          },
          "metadata": {
            "tags": [],
            "needs_background": "light"
          }
        },
        {
          "output_type": "display_data",
          "data": {
            "image/png": "[encoded data removed]",
            "text/plain": [
              "<Figure size 432x288 with 1 Axes>"
            ]
          },
          "metadata": {
            "tags": [],
            "needs_background": "light"
          }
        }
      ]
    },
    {
      "cell_type": "markdown",
      "metadata": {
        "id": "3St8-DmrX8P4"
      },
      "source": [
        "Let's see how well the model generalizes by using the **test** set, which we did not use when training the model.  This tells us how well we can expect the model to predict when we use it in the real world."
      ]
    },
    {
      "cell_type": "code",
      "metadata": {
        "id": "jl_yNr5n1kms",
        "outputId": "c62a9305-17d9-4a46-db49-f0d9453c195a",
        "colab": {
          "base_uri": "https://localhost:8080/",
          "height": 35
        }
      },
      "source": [
        "loss, mae, mse = model.evaluate(normed_test_data, test_labels, verbose=0)\n",
        "print(\"Testing set Mean Abs Error: {:5.2f} Pa\".format(mae))\n",
        "# keras.metrics.accuracy(normed_test_data, test_labels)"
      ],
      "execution_count": 22,
      "outputs": [
        {
          "output_type": "stream",
          "text": [
            "Testing set Mean Abs Error: 15.11 Pa\n"
          ],
          "name": "stdout"
        }
      ]
    },
    {
      "cell_type": "markdown",
      "metadata": {
        "id": "ft603OzXuEZC"
      },
      "source": [
        "### Make predictions\n",
        "\n",
        "Finally, predict volume values using data in the testing set:"
      ]
    },
    {
      "cell_type": "code",
      "metadata": {
        "id": "Xe7RXH3N3CWU",
        "outputId": "34a37c4a-b254-4df7-f47f-7b864b0b60c8",
        "colab": {
          "base_uri": "https://localhost:8080/",
          "height": 573
        }
      },
      "source": [
        "test_predictions = model.predict(normed_test_data).flatten()\n",
        "\n",
        "plt.scatter(test_labels, test_predictions)\n",
        "plt.title('Normalized test data')\n",
        "plt.xlabel('True Values [Acoustic Pressure - Pa]')\n",
        "plt.ylabel('Predictions [Acoustic Pressure - Pa]')\n",
        "plt.axis('equal')\n",
        "plt.axis('square')\n",
        "plt.xlim([500,5000])\n",
        "plt.ylim([500,5000])\n",
        "_ = plt.plot([-5000, 5000], [-5000, 5000])\n",
        "plt.show()\n",
        "\n",
        "test_predictions2 = model.predict(normed_train_data).flatten()\n",
        "\n",
        "plt.scatter(train_labels, test_predictions2)\n",
        "plt.title('Normalized training data')\n",
        "plt.xlabel('True Values [Acoustic Pressure - Pa]')\n",
        "plt.ylabel('Predictions [Acoustic Pressure - Pa]')\n",
        "plt.axis('equal')\n",
        "plt.axis('square')\n",
        "plt.xlim([500,5000])\n",
        "plt.ylim([500,5000])\n",
        "_ = plt.plot([-5000, 5000], [-5000, 5000])\n",
        "plt.show()\n"
      ],
      "execution_count": 23,
      "outputs": [
        {
          "output_type": "display_data",
          "data": {
            "image/png": "[encoded data removed]",
            "text/plain": [
              "<Figure size 432x288 with 1 Axes>"
            ]
          },
          "metadata": {
            "tags": [],
            "needs_background": "light"
          }
        },
        {
          "output_type": "display_data",
          "data": {
            "image/png": "[encoded data removed]",
            "text/plain": [
              "<Figure size 432x288 with 1 Axes>"
            ]
          },
          "metadata": {
            "tags": [],
            "needs_background": "light"
          }
        }
      ]
    },
    {
      "cell_type": "code",
      "metadata": {
        "id": "f-OHX4DiXd8x",
        "outputId": "1ff75e9c-d245-440a-cc7d-98bc6d61bc90",
        "colab": {
          "base_uri": "https://localhost:8080/",
          "height": 279
        }
      },
      "source": [
        "error = test_predictions - test_labels\n",
        "plt.hist(error, bins = 50)\n",
        "plt.xlabel(\"Prediction Error [Acoustic Pressure - Pa]\")\n",
        "_ = plt.ylabel(\"Count\")\n",
        "# plt.xlim(-20, 20)\n",
        "plt.show()"
      ],
      "execution_count": 24,
      "outputs": [
        {
          "output_type": "display_data",
          "data": {
            "image/png": "[encoded data removed]",
            "text/plain": [
              "<Figure size 432x288 with 1 Axes>"
            ]
          },
          "metadata": {
            "tags": [],
            "needs_background": "light"
          }
        }
      ]
    },
    {
      "cell_type": "markdown",
      "metadata": {
        "id": "r-i0Bq5JF0nv"
      },
      "source": [
        "# Saving the final Model"
      ]
    },
    {
      "cell_type": "markdown",
      "metadata": {
        "id": "G8FBhOnbGK65"
      },
      "source": [
        "When you are satisfied with the model and the accuracy continue from here:"
      ]
    },
    {
      "cell_type": "markdown",
      "metadata": {
        "id": "BspL3Z6-GPaa"
      },
      "source": [
        "Saving the model in a ** HDF5** format"
      ]
    },
    {
      "cell_type": "code",
      "metadata": {
        "id": "VwWrwBcZGLnZ"
      },
      "source": [
        "!pip install -q pyyaml h5py  # Required to save models in HDF5 format"
      ],
      "execution_count": null,
      "outputs": []
    },
    {
      "cell_type": "code",
      "metadata": {
        "id": "6BR7rbL5GXku"
      },
      "source": [
        "import os"
      ],
      "execution_count": null,
      "outputs": []
    },
    {
      "cell_type": "code",
      "metadata": {
        "id": "MzumSsZfGYCp"
      },
      "source": [
        "# Save the entire model as a SavedModel.\n",
        "folder=str('Ps_voltage_conversion/')\n",
        "filename=str('water_Ps_volt_175points.h5')\n",
        "!mkdir -p '/content/drive/My Drive/DropLev/MachineLearningModels' #Ceates a folder named \"MachineLearningModels\"  #OBS! Check the path of your google drive!\n",
        "model.save('/content/drive/My Drive/DropLev/MachineLearningModels/'+folder+filename)  #Saves the file"
      ],
      "execution_count": 70,
      "outputs": []
    },
    {
      "cell_type": "markdown",
      "metadata": {
        "id": "oZcqRI0r9B4r"
      },
      "source": [
        "# Reload a fresh Keras model from the saved model:"
      ]
    },
    {
      "cell_type": "markdown",
      "metadata": {
        "id": "W6mEqNn497op"
      },
      "source": [
        "For **SavedModel** format"
      ]
    },
    {
      "cell_type": "code",
      "metadata": {
        "id": "c4vUC4ep8_VA"
      },
      "source": [
        "#If the folder and the filename are defined from the previous cell then you don't need to define them again!\n",
        "\n",
        "new_model = tf.keras.models.load_model('/content/drive/My Drive/DropLev/MachineLearningModels/'+folder+filename)\n",
        "\n",
        "# Check its architecture\n",
        "new_model.summary()"
      ],
      "execution_count": null,
      "outputs": []
    },
    {
      "cell_type": "markdown",
      "metadata": {
        "id": "j1K6xGBg9K4A"
      },
      "source": [
        "Evaluate the restored model (for both formats)"
      ]
    },
    {
      "cell_type": "code",
      "metadata": {
        "id": "if5rjrz79NPI"
      },
      "source": [
        "# Evaluation\n",
        "loss, mae, mse = new_model.evaluate(normed_test_data, test_labels, verbose=0)\n",
        "print('Restored model, Mean absolute error: {:5.2f}'.format(mae))\n",
        "\n",
        "print(new_model.predict(normed_test_data).shape)"
      ],
      "execution_count": null,
      "outputs": []
    }
  ]
}