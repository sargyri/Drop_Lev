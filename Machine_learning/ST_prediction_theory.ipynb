{
  "nbformat": 4,
  "nbformat_minor": 0,
  "metadata": {
    "colab": {
      "name": "ST_prediction_theory.ipynb",
      "provenance": [],
      "toc_visible": true,
      "authorship_tag": "ABX9TyNmx+n8siQIX/Is5kdCNYVk",
      "include_colab_link": true
    },
    "kernelspec": {
      "name": "python3",
      "display_name": "Python 3"
    }
  },
  "cells": [
    {
      "cell_type": "markdown",
      "metadata": {
        "id": "view-in-github",
        "colab_type": "text"
      },
      "source": [
        "<a href=\"https://colab.research.google.com/github/sargyri/Drop_Lev/blob/master/Machine_learning/ST_prediction_theory.ipynb\" target=\"_parent\"><img src=\"https://colab.research.google.com/assets/colab-badge.svg\" alt=\"Open In Colab\"/></a>"
      ]
    },
    {
      "cell_type": "markdown",
      "metadata": {
        "colab_type": "text",
        "id": "FhGuhbZ6M5tl"
      },
      "source": [
        "##### Copyright 2018 The TensorFlow Authors."
      ]
    },
    {
      "cell_type": "code",
      "metadata": {
        "cellView": "form",
        "colab_type": "code",
        "id": "AwOEIRJC6Une",
        "colab": {}
      },
      "source": [
        "#@title Licensed under the Apache License, Version 2.0 (the \"License\");\n",
        "# you may not use this file except in compliance with the License.\n",
        "# You may obtain a copy of the License at\n",
        "#\n",
        "# https://www.apache.org/licenses/LICENSE-2.0\n",
        "#\n",
        "# Unless required by applicable law or agreed to in writing, software\n",
        "# distributed under the License is distributed on an \"AS IS\" BASIS,\n",
        "# WITHOUT WARRANTIES OR CONDITIONS OF ANY KIND, either express or implied.\n",
        "# See the License for the specific language governing permissions and\n",
        "# limitations under the License."
      ],
      "execution_count": null,
      "outputs": []
    },
    {
      "cell_type": "code",
      "metadata": {
        "cellView": "form",
        "colab_type": "code",
        "id": "KyPEtTqk6VdG",
        "colab": {}
      },
      "source": [
        "#@title MIT License\n",
        "#\n",
        "# Copyright (c) 2017 François Chollet\n",
        "#\n",
        "# Permission is hereby granted, free of charge, to any person obtaining a\n",
        "# copy of this software and associated documentation files (the \"Software\"),\n",
        "# to deal in the Software without restriction, including without limitation\n",
        "# the rights to use, copy, modify, merge, publish, distribute, sublicense,\n",
        "# and/or sell copies of the Software, and to permit persons to whom the\n",
        "# Software is furnished to do so, subject to the following conditions:\n",
        "#\n",
        "# The above copyright notice and this permission notice shall be included in\n",
        "# all copies or substantial portions of the Software.\n",
        "#\n",
        "# THE SOFTWARE IS PROVIDED \"AS IS\", WITHOUT WARRANTY OF ANY KIND, EXPRESS OR\n",
        "# IMPLIED, INCLUDING BUT NOT LIMITED TO THE WARRANTIES OF MERCHANTABILITY,\n",
        "# FITNESS FOR A PARTICULAR PURPOSE AND NONINFRINGEMENT. IN NO EVENT SHALL\n",
        "# THE AUTHORS OR COPYRIGHT HOLDERS BE LIABLE FOR ANY CLAIM, DAMAGES OR OTHER\n",
        "# LIABILITY, WHETHER IN AN ACTION OF CONTRACT, TORT OR OTHERWISE, ARISING\n",
        "# FROM, OUT OF OR IN CONNECTION WITH THE SOFTWARE OR THE USE OR OTHER\n",
        "# DEALINGS IN THE SOFTWARE."
      ],
      "execution_count": null,
      "outputs": []
    },
    {
      "cell_type": "markdown",
      "metadata": {
        "colab_type": "text",
        "id": "EIdT9iu_Z4Rb"
      },
      "source": [
        "# Lev Droplet "
      ]
    },
    {
      "cell_type": "markdown",
      "metadata": {
        "colab_type": "text",
        "id": "bBIlTPscrIT9"
      },
      "source": [
        "<table class=\"tfo-notebook-buttons\" align=\"left\">\n",
        "  <td>\n",
        "    <a target=\"_blank\" href=\"https://www.tensorflow.org/tutorials/keras/basic_regression\"><img src=\"https://www.tensorflow.org/images/tf_logo_32px.png\" />View on TensorFlow.org</a>\n",
        "  </td>\n",
        "  <td>\n",
        "    <a target=\"_blank\" href=\"https://colab.research.google.com/github/tensorflow/docs/blob/r2.0rc/site/en/tutorials/keras/basic_regression.ipynb\"><img src=\"https://www.tensorflow.org/images/colab_logo_32px.png\" />Run in Google Colab</a>\n",
        "  </td>\n",
        "  <td>\n",
        "    <a target=\"_blank\" href=\"https://github.com/tensorflow/docs/blob/r2.0rc/site/en/tutorials/keras/basic_regression.ipynb\"><img src=\"https://www.tensorflow.org/images/GitHub-Mark-32px.png\" />View source on GitHub</a>\n",
        "  </td>\n",
        "</table>"
      ]
    },
    {
      "cell_type": "markdown",
      "metadata": {
        "colab_type": "text",
        "id": "AHp3M9ZmrIxj"
      },
      "source": [
        "NN for predicting ST from theoretical data based on the somple model"
      ]
    },
    {
      "cell_type": "code",
      "metadata": {
        "id": "SuZCEJncWUzA",
        "colab_type": "code",
        "colab": {}
      },
      "source": [
        "from __future__ import absolute_import, division, print_function, unicode_literals\n",
        "\n",
        "import pathlib\n",
        "import os\n",
        "import matplotlib.pyplot as plt\n",
        "import pandas as pd\n",
        "import seaborn as sns\n",
        "\n",
        "import pprint\n",
        "import tensorflow.compat.v1 as tf\n",
        "tf.disable_v2_behavior()\n",
        "\n",
        "from tensorflow import keras\n",
        "from tensorflow.keras import layers\n",
        "from tensorflow.keras.callbacks import ModelCheckpoint\n",
        "\n",
        "print(tf.__version__)"
      ],
      "execution_count": null,
      "outputs": []
    },
    {
      "cell_type": "markdown",
      "metadata": {
        "id": "TvCBPgR-gWXl",
        "colab_type": "text"
      },
      "source": [
        "Run the next code box only if google drive is not mounted to colab"
      ]
    },
    {
      "cell_type": "code",
      "metadata": {
        "id": "7dA-joJRPNiJ",
        "colab_type": "code",
        "colab": {
          "base_uri": "https://localhost:8080/",
          "height": 120
        },
        "outputId": "92a5cc8b-2972-498e-d402-0e407248989e"
      },
      "source": [
        "from google.colab import drive\n",
        "drive.mount('/content/drive')"
      ],
      "execution_count": null,
      "outputs": [
        {
          "output_type": "stream",
          "text": [
            "Go to this URL in a browser: https://accounts.google.com/o/oauth2/auth?client_id=947318989803-6bn6qk8qdgf4n4g3pfee6491hc0brc4i.apps.googleusercontent.com&redirect_uri=urn%3aietf%3awg%3aoauth%3a2.0%3aoob&scope=email%20https%3a%2f%2fwww.googleapis.com%2fauth%2fdocs.test%20https%3a%2f%2fwww.googleapis.com%2fauth%2fdrive%20https%3a%2f%2fwww.googleapis.com%2fauth%2fdrive.photos.readonly%20https%3a%2f%2fwww.googleapis.com%2fauth%2fpeopleapi.readonly&response_type=code\n",
            "\n",
            "Enter your authorization code:\n",
            "··········\n",
            "Mounted at /content/drive\n"
          ],
          "name": "stdout"
        }
      ]
    },
    {
      "cell_type": "markdown",
      "metadata": {
        "id": "lMshRx3PgwcZ",
        "colab_type": "text"
      },
      "source": [
        "If it **is** mounted continue from here on"
      ]
    },
    {
      "cell_type": "code",
      "metadata": {
        "colab_type": "code",
        "id": "3IEVK-KFxi5Z",
        "colab": {
          "base_uri": "https://localhost:8080/",
          "height": 33
        },
        "outputId": "1312803c-142d-489d-f8e9-88af5aa6532c"
      },
      "source": [
        "if 'COLAB_TPU_ADDR' not in os.environ:\n",
        "  print('ERROR: Not connected to a TPU runtime; please see the first cell in this notebook for instructions!')\n",
        "else:\n",
        "  tpu_address = 'grpc://' + os.environ['COLAB_TPU_ADDR']\n",
        "  print ('TPU address is', tpu_address)\n",
        "\n",
        "  with tf.Session(tpu_address) as session:\n",
        "    devices = session.list_devices()\n",
        "    \n",
        "  print('TPU devices:')\n",
        "  pprint.pprint(devices)"
      ],
      "execution_count": null,
      "outputs": [
        {
          "output_type": "stream",
          "text": [
            "ERROR: Not connected to a TPU runtime; please see the first cell in this notebook for instructions!\n"
          ],
          "name": "stdout"
        }
      ]
    },
    {
      "cell_type": "markdown",
      "metadata": {
        "colab_type": "text",
        "id": "gFh9ne3FZ-On"
      },
      "source": [
        "### Get the data\n",
        "First download the dataset!\n",
        "\n",
        "**Option 1**: Upload files"
      ]
    },
    {
      "cell_type": "code",
      "metadata": {
        "id": "K7-5GSURZTdh",
        "colab_type": "code",
        "colab": {}
      },
      "source": [
        "from google.colab import files\n",
        "uploaded = files.upload()"
      ],
      "execution_count": null,
      "outputs": []
    },
    {
      "cell_type": "code",
      "metadata": {
        "id": "l83INVYlZsND",
        "colab_type": "code",
        "colab": {}
      },
      "source": [
        "import io\n",
        "csvfilename=str('TritonX100_conci_0.0100_all.csv')\n",
        "input = pd.read_csv(io.BytesIO(uploaded[csvfilename]))\n",
        "#input = pd.read_csv(csvfilename, sep=\"\\t\")\n",
        "# Dataset is now stored in a Pandas Dataframe\n",
        "input.shape"
      ],
      "execution_count": null,
      "outputs": []
    },
    {
      "cell_type": "markdown",
      "metadata": {
        "id": "WCobdL9vDRXH",
        "colab_type": "text"
      },
      "source": [
        "**Option 2**: Import files from drive"
      ]
    },
    {
      "cell_type": "code",
      "metadata": {
        "id": "Z-NFT5ddEOdC",
        "colab_type": "code",
        "colab": {
          "base_uri": "https://localhost:8080/",
          "height": 33
        },
        "outputId": "cabed8fa-138a-4e6b-af28-e2bff73c899b"
      },
      "source": [
        "#From the drive folder that is mounted to collab go to the file that you are interested in, \n",
        "#right click and copy the path of the file. Paste it in csvfilename:\n",
        "import numpy as np\n",
        "file1=pd.read_csv(str('/content/drive/My Drive/DropLev/Levitator_2/Training/SDS/SDS_conci_0.01054_all.csv'), sep=\"\\t\")\n",
        "file2=pd.read_csv(str('/content/drive/My Drive/DropLev/Levitator_2/Training/SDS/SDS_conci_0.02108_all.csv'), sep=\"\\t\")\n",
        "file3=pd.read_csv(str('/content/drive/My Drive/DropLev/Levitator_2/Training/SDS/SDS_conci_0.04273_all.csv'), sep=\"\\t\")\n",
        "#file4=pd.read_csv(str('/content/drive/My Drive/DropLev/Levitator_2/Training/CTAB/CTAB_conci_0.30000_all.csv'), sep=\"\\t\")\n",
        "#file5=pd.read_csv(str('/content/drive/My Drive/DropLev/Levitator_2/Training/CTAB/CTAB_conci_0.60000_all.csv'), sep=\"\\t\")\n",
        "#file6=pd.read_csv(str('/content/drive/My Drive/DropLev/Levitator_2/Training/CTAB/CTAB_conci_0.90000_all.csv'), sep=\"\\t\")\n",
        "\n",
        "input=np.vstack([file1, file2, file3]) #, file4, file5, file6])\n",
        "\n",
        "input.shape\n",
        "#csvfilename=str('/content/drive/My Drive/DropLev/Levitator_2/Training/SDS/SDS_conci_1.50000_ML_data.csv')\n",
        "\n",
        "#input = pd.read_csv(csvfilename)\n"
      ],
      "execution_count": null,
      "outputs": [
        {
          "output_type": "execute_result",
          "data": {
            "text/plain": [
              "(15485, 913)"
            ]
          },
          "metadata": {
            "tags": []
          },
          "execution_count": 5
        }
      ]
    },
    {
      "cell_type": "markdown",
      "metadata": {
        "colab_type": "text",
        "id": "nslsRLh7Zss4"
      },
      "source": [
        "Import it using pandas"
      ]
    },
    {
      "cell_type": "code",
      "metadata": {
        "colab_type": "code",
        "id": "CiX2FI4gZtTt",
        "colab": {
          "base_uri": "https://localhost:8080/",
          "height": 247
        },
        "outputId": "fd7e0bd2-661f-4466-9bc5-15b0e789251a"
      },
      "source": [
        "column_names=[]\n",
        "\n",
        "for i in range(300):\n",
        "  column_names.append('rho_%d' %i)\n",
        "for i in range(300):\n",
        "  column_names.append('phi_%d' %i)\n",
        "for i in range(300):\n",
        "  column_names.append('theta_%d' %i)\n",
        "column_names.append('height')\n",
        "column_names.append('width')  \n",
        "column_names.append('volume')\n",
        "column_names.append('R_sph')\n",
        "column_names.append('volt')\n",
        "column_names.append('Intensity')\n",
        "column_names.append('time')\n",
        "column_names.append('Power')\n",
        "#column_names.append('Ps')\n",
        "#column_names.append('Ps_err')\n",
        "column_names.append('centre_x')\n",
        "column_names.append('centre_y')\n",
        "column_names.append('surfactant_conc')\n",
        "column_names.append('Aspect_Ratio')\n",
        "column_names.append('st')\n",
        "\n",
        "#raw_dataset = pd.read_csv(csvfilename, sep=\"\\t\")\n",
        "#raw_dataset.columns=column_names\n",
        "\n",
        "raw_dataset = pd.DataFrame(data=input,  columns=column_names) \n",
        "              \n",
        "raw_dataset.shape\n",
        "\n",
        "dataset = raw_dataset.copy()\n",
        "\n",
        "for i in range(300):\n",
        "  dataset.pop('theta_%d' %i)\n",
        "dataset.pop(\"height\")\n",
        "dataset.pop(\"width\")\n",
        "dataset.pop(\"R_sph\")\n",
        "dataset.pop('volt')\n",
        "dataset.pop('Intensity')\n",
        "dataset.pop('time')\n",
        "dataset.pop('Power')\n",
        "dataset.pop(\"centre_x\")\n",
        "dataset.pop(\"centre_y\")\n",
        "dataset.pop('surfactant_conc')\n",
        "dataset.pop(\"Aspect_Ratio\")\n",
        "dataset.pop('st')\n",
        "#dataset.pop('Ps')\n",
        "#dataset.pop('Ps_err')\n",
        "\n",
        "\n",
        "\n",
        "dataset.tail()"
      ],
      "execution_count": null,
      "outputs": [
        {
          "output_type": "execute_result",
          "data": {
            "text/html": [
              "<div>\n",
              "<style scoped>\n",
              "    .dataframe tbody tr th:only-of-type {\n",
              "        vertical-align: middle;\n",
              "    }\n",
              "\n",
              "    .dataframe tbody tr th {\n",
              "        vertical-align: top;\n",
              "    }\n",
              "\n",
              "    .dataframe thead th {\n",
              "        text-align: right;\n",
              "    }\n",
              "</style>\n",
              "<table border=\"1\" class=\"dataframe\">\n",
              "  <thead>\n",
              "    <tr style=\"text-align: right;\">\n",
              "      <th></th>\n",
              "      <th>rho_0</th>\n",
              "      <th>rho_1</th>\n",
              "      <th>rho_2</th>\n",
              "      <th>rho_3</th>\n",
              "      <th>rho_4</th>\n",
              "      <th>rho_5</th>\n",
              "      <th>rho_6</th>\n",
              "      <th>rho_7</th>\n",
              "      <th>rho_8</th>\n",
              "      <th>rho_9</th>\n",
              "      <th>rho_10</th>\n",
              "      <th>rho_11</th>\n",
              "      <th>rho_12</th>\n",
              "      <th>rho_13</th>\n",
              "      <th>rho_14</th>\n",
              "      <th>rho_15</th>\n",
              "      <th>rho_16</th>\n",
              "      <th>rho_17</th>\n",
              "      <th>rho_18</th>\n",
              "      <th>rho_19</th>\n",
              "      <th>rho_20</th>\n",
              "      <th>rho_21</th>\n",
              "      <th>rho_22</th>\n",
              "      <th>rho_23</th>\n",
              "      <th>rho_24</th>\n",
              "      <th>rho_25</th>\n",
              "      <th>rho_26</th>\n",
              "      <th>rho_27</th>\n",
              "      <th>rho_28</th>\n",
              "      <th>rho_29</th>\n",
              "      <th>rho_30</th>\n",
              "      <th>rho_31</th>\n",
              "      <th>rho_32</th>\n",
              "      <th>rho_33</th>\n",
              "      <th>rho_34</th>\n",
              "      <th>rho_35</th>\n",
              "      <th>rho_36</th>\n",
              "      <th>rho_37</th>\n",
              "      <th>rho_38</th>\n",
              "      <th>rho_39</th>\n",
              "      <th>...</th>\n",
              "      <th>phi_261</th>\n",
              "      <th>phi_262</th>\n",
              "      <th>phi_263</th>\n",
              "      <th>phi_264</th>\n",
              "      <th>phi_265</th>\n",
              "      <th>phi_266</th>\n",
              "      <th>phi_267</th>\n",
              "      <th>phi_268</th>\n",
              "      <th>phi_269</th>\n",
              "      <th>phi_270</th>\n",
              "      <th>phi_271</th>\n",
              "      <th>phi_272</th>\n",
              "      <th>phi_273</th>\n",
              "      <th>phi_274</th>\n",
              "      <th>phi_275</th>\n",
              "      <th>phi_276</th>\n",
              "      <th>phi_277</th>\n",
              "      <th>phi_278</th>\n",
              "      <th>phi_279</th>\n",
              "      <th>phi_280</th>\n",
              "      <th>phi_281</th>\n",
              "      <th>phi_282</th>\n",
              "      <th>phi_283</th>\n",
              "      <th>phi_284</th>\n",
              "      <th>phi_285</th>\n",
              "      <th>phi_286</th>\n",
              "      <th>phi_287</th>\n",
              "      <th>phi_288</th>\n",
              "      <th>phi_289</th>\n",
              "      <th>phi_290</th>\n",
              "      <th>phi_291</th>\n",
              "      <th>phi_292</th>\n",
              "      <th>phi_293</th>\n",
              "      <th>phi_294</th>\n",
              "      <th>phi_295</th>\n",
              "      <th>phi_296</th>\n",
              "      <th>phi_297</th>\n",
              "      <th>phi_298</th>\n",
              "      <th>phi_299</th>\n",
              "      <th>volume</th>\n",
              "    </tr>\n",
              "  </thead>\n",
              "  <tbody>\n",
              "    <tr>\n",
              "      <th>15480</th>\n",
              "      <td>0.623459</td>\n",
              "      <td>0.623530</td>\n",
              "      <td>0.623694</td>\n",
              "      <td>0.623952</td>\n",
              "      <td>0.624514</td>\n",
              "      <td>0.622461</td>\n",
              "      <td>0.621273</td>\n",
              "      <td>0.620955</td>\n",
              "      <td>0.623001</td>\n",
              "      <td>0.620731</td>\n",
              "      <td>0.619398</td>\n",
              "      <td>0.620165</td>\n",
              "      <td>0.619445</td>\n",
              "      <td>0.616806</td>\n",
              "      <td>0.617873</td>\n",
              "      <td>0.618961</td>\n",
              "      <td>0.617553</td>\n",
              "      <td>0.618701</td>\n",
              "      <td>0.614442</td>\n",
              "      <td>0.615821</td>\n",
              "      <td>0.615096</td>\n",
              "      <td>0.613012</td>\n",
              "      <td>0.614489</td>\n",
              "      <td>0.608388</td>\n",
              "      <td>0.607257</td>\n",
              "      <td>0.604480</td>\n",
              "      <td>0.602699</td>\n",
              "      <td>0.600437</td>\n",
              "      <td>0.600534</td>\n",
              "      <td>0.597065</td>\n",
              "      <td>0.593304</td>\n",
              "      <td>0.589941</td>\n",
              "      <td>0.588700</td>\n",
              "      <td>0.581121</td>\n",
              "      <td>0.576902</td>\n",
              "      <td>0.577941</td>\n",
              "      <td>0.575543</td>\n",
              "      <td>0.576166</td>\n",
              "      <td>0.573812</td>\n",
              "      <td>0.574513</td>\n",
              "      <td>...</td>\n",
              "      <td>2.437599</td>\n",
              "      <td>2.456094</td>\n",
              "      <td>2.502005</td>\n",
              "      <td>2.511120</td>\n",
              "      <td>2.579570</td>\n",
              "      <td>2.597312</td>\n",
              "      <td>2.629203</td>\n",
              "      <td>2.637909</td>\n",
              "      <td>2.683635</td>\n",
              "      <td>2.692128</td>\n",
              "      <td>2.697857</td>\n",
              "      <td>2.720473</td>\n",
              "      <td>2.728820</td>\n",
              "      <td>2.742917</td>\n",
              "      <td>2.748748</td>\n",
              "      <td>2.756988</td>\n",
              "      <td>2.765170</td>\n",
              "      <td>2.785030</td>\n",
              "      <td>2.806984</td>\n",
              "      <td>2.818849</td>\n",
              "      <td>2.826766</td>\n",
              "      <td>2.832725</td>\n",
              "      <td>2.840570</td>\n",
              "      <td>2.846542</td>\n",
              "      <td>2.860294</td>\n",
              "      <td>2.886016</td>\n",
              "      <td>2.893600</td>\n",
              "      <td>2.899633</td>\n",
              "      <td>2.905684</td>\n",
              "      <td>2.913166</td>\n",
              "      <td>2.932661</td>\n",
              "      <td>2.938726</td>\n",
              "      <td>2.964231</td>\n",
              "      <td>2.970331</td>\n",
              "      <td>3.021062</td>\n",
              "      <td>3.064585</td>\n",
              "      <td>3.070724</td>\n",
              "      <td>3.095329</td>\n",
              "      <td>3.132390</td>\n",
              "      <td>0.878005</td>\n",
              "    </tr>\n",
              "    <tr>\n",
              "      <th>15481</th>\n",
              "      <td>0.621967</td>\n",
              "      <td>0.622297</td>\n",
              "      <td>0.622720</td>\n",
              "      <td>0.623236</td>\n",
              "      <td>0.620036</td>\n",
              "      <td>0.621132</td>\n",
              "      <td>0.620165</td>\n",
              "      <td>0.620071</td>\n",
              "      <td>0.617115</td>\n",
              "      <td>0.619705</td>\n",
              "      <td>0.617837</td>\n",
              "      <td>0.617091</td>\n",
              "      <td>0.615156</td>\n",
              "      <td>0.615049</td>\n",
              "      <td>0.616273</td>\n",
              "      <td>0.617518</td>\n",
              "      <td>0.615180</td>\n",
              "      <td>0.614204</td>\n",
              "      <td>0.612606</td>\n",
              "      <td>0.609529</td>\n",
              "      <td>0.611099</td>\n",
              "      <td>0.610836</td>\n",
              "      <td>0.609025</td>\n",
              "      <td>0.607257</td>\n",
              "      <td>0.601265</td>\n",
              "      <td>0.600985</td>\n",
              "      <td>0.598863</td>\n",
              "      <td>0.595188</td>\n",
              "      <td>0.596685</td>\n",
              "      <td>0.594659</td>\n",
              "      <td>0.590152</td>\n",
              "      <td>0.585810</td>\n",
              "      <td>0.585585</td>\n",
              "      <td>0.582969</td>\n",
              "      <td>0.575848</td>\n",
              "      <td>0.572587</td>\n",
              "      <td>0.571142</td>\n",
              "      <td>0.572025</td>\n",
              "      <td>0.569821</td>\n",
              "      <td>0.570783</td>\n",
              "      <td>...</td>\n",
              "      <td>2.479115</td>\n",
              "      <td>2.506566</td>\n",
              "      <td>2.524743</td>\n",
              "      <td>2.569674</td>\n",
              "      <td>2.575111</td>\n",
              "      <td>2.642246</td>\n",
              "      <td>2.656520</td>\n",
              "      <td>2.687888</td>\n",
              "      <td>2.693613</td>\n",
              "      <td>2.738776</td>\n",
              "      <td>2.744607</td>\n",
              "      <td>2.752875</td>\n",
              "      <td>2.775096</td>\n",
              "      <td>2.780978</td>\n",
              "      <td>2.794972</td>\n",
              "      <td>2.802995</td>\n",
              "      <td>2.808919</td>\n",
              "      <td>2.816875</td>\n",
              "      <td>2.836656</td>\n",
              "      <td>2.856423</td>\n",
              "      <td>2.870145</td>\n",
              "      <td>2.876162</td>\n",
              "      <td>2.882199</td>\n",
              "      <td>2.889817</td>\n",
              "      <td>2.895858</td>\n",
              "      <td>2.909434</td>\n",
              "      <td>2.935057</td>\n",
              "      <td>2.941146</td>\n",
              "      <td>2.947251</td>\n",
              "      <td>2.954531</td>\n",
              "      <td>2.960629</td>\n",
              "      <td>2.980004</td>\n",
              "      <td>2.986118</td>\n",
              "      <td>3.011491</td>\n",
              "      <td>3.017621</td>\n",
              "      <td>3.067426</td>\n",
              "      <td>3.110833</td>\n",
              "      <td>3.116982</td>\n",
              "      <td>3.141593</td>\n",
              "      <td>0.875071</td>\n",
              "    </tr>\n",
              "    <tr>\n",
              "      <th>15482</th>\n",
              "      <td>0.623694</td>\n",
              "      <td>0.623952</td>\n",
              "      <td>0.624303</td>\n",
              "      <td>0.620931</td>\n",
              "      <td>0.621473</td>\n",
              "      <td>0.622461</td>\n",
              "      <td>0.621273</td>\n",
              "      <td>0.620955</td>\n",
              "      <td>0.621508</td>\n",
              "      <td>0.620248</td>\n",
              "      <td>0.618299</td>\n",
              "      <td>0.617435</td>\n",
              "      <td>0.618961</td>\n",
              "      <td>0.618713</td>\n",
              "      <td>0.616261</td>\n",
              "      <td>0.617470</td>\n",
              "      <td>0.615084</td>\n",
              "      <td>0.614025</td>\n",
              "      <td>0.615821</td>\n",
              "      <td>0.612474</td>\n",
              "      <td>0.610501</td>\n",
              "      <td>0.610153</td>\n",
              "      <td>0.611757</td>\n",
              "      <td>0.609925</td>\n",
              "      <td>0.603160</td>\n",
              "      <td>0.602699</td>\n",
              "      <td>0.600437</td>\n",
              "      <td>0.599596</td>\n",
              "      <td>0.597861</td>\n",
              "      <td>0.595618</td>\n",
              "      <td>0.593304</td>\n",
              "      <td>0.588700</td>\n",
              "      <td>0.585735</td>\n",
              "      <td>0.582856</td>\n",
              "      <td>0.574971</td>\n",
              "      <td>0.574513</td>\n",
              "      <td>0.572983</td>\n",
              "      <td>0.570719</td>\n",
              "      <td>0.571577</td>\n",
              "      <td>0.572485</td>\n",
              "      <td>...</td>\n",
              "      <td>2.465316</td>\n",
              "      <td>2.492866</td>\n",
              "      <td>2.511120</td>\n",
              "      <td>2.552689</td>\n",
              "      <td>2.561683</td>\n",
              "      <td>2.629203</td>\n",
              "      <td>2.643525</td>\n",
              "      <td>2.675092</td>\n",
              "      <td>2.683635</td>\n",
              "      <td>2.726272</td>\n",
              "      <td>2.734622</td>\n",
              "      <td>2.740452</td>\n",
              "      <td>2.762847</td>\n",
              "      <td>2.771027</td>\n",
              "      <td>2.785030</td>\n",
              "      <td>2.790937</td>\n",
              "      <td>2.798991</td>\n",
              "      <td>2.804918</td>\n",
              "      <td>2.824817</td>\n",
              "      <td>2.846542</td>\n",
              "      <td>2.858552</td>\n",
              "      <td>2.866297</td>\n",
              "      <td>2.872321</td>\n",
              "      <td>2.879987</td>\n",
              "      <td>2.886016</td>\n",
              "      <td>2.899633</td>\n",
              "      <td>2.925285</td>\n",
              "      <td>2.931369</td>\n",
              "      <td>2.938726</td>\n",
              "      <td>2.944806</td>\n",
              "      <td>2.950900</td>\n",
              "      <td>2.970331</td>\n",
              "      <td>2.976444</td>\n",
              "      <td>3.001884</td>\n",
              "      <td>3.008018</td>\n",
              "      <td>3.058451</td>\n",
              "      <td>3.101491</td>\n",
              "      <td>3.107655</td>\n",
              "      <td>3.132390</td>\n",
              "      <td>0.875281</td>\n",
              "    </tr>\n",
              "    <tr>\n",
              "      <th>15483</th>\n",
              "      <td>0.619634</td>\n",
              "      <td>0.619705</td>\n",
              "      <td>0.619988</td>\n",
              "      <td>0.621191</td>\n",
              "      <td>0.623236</td>\n",
              "      <td>0.622332</td>\n",
              "      <td>0.620319</td>\n",
              "      <td>0.617849</td>\n",
              "      <td>0.619977</td>\n",
              "      <td>0.616522</td>\n",
              "      <td>0.619221</td>\n",
              "      <td>0.616462</td>\n",
              "      <td>0.617435</td>\n",
              "      <td>0.618429</td>\n",
              "      <td>0.616806</td>\n",
              "      <td>0.613906</td>\n",
              "      <td>0.616344</td>\n",
              "      <td>0.614025</td>\n",
              "      <td>0.613083</td>\n",
              "      <td>0.614442</td>\n",
              "      <td>0.612259</td>\n",
              "      <td>0.608100</td>\n",
              "      <td>0.606582</td>\n",
              "      <td>0.603511</td>\n",
              "      <td>0.601192</td>\n",
              "      <td>0.601885</td>\n",
              "      <td>0.598338</td>\n",
              "      <td>0.597396</td>\n",
              "      <td>0.592601</td>\n",
              "      <td>0.591390</td>\n",
              "      <td>0.589557</td>\n",
              "      <td>0.585735</td>\n",
              "      <td>0.580403</td>\n",
              "      <td>0.578586</td>\n",
              "      <td>0.576458</td>\n",
              "      <td>0.576902</td>\n",
              "      <td>0.574449</td>\n",
              "      <td>0.574971</td>\n",
              "      <td>0.575543</td>\n",
              "      <td>0.572204</td>\n",
              "      <td>...</td>\n",
              "      <td>2.461193</td>\n",
              "      <td>2.470449</td>\n",
              "      <td>2.543663</td>\n",
              "      <td>2.558111</td>\n",
              "      <td>2.593963</td>\n",
              "      <td>2.602833</td>\n",
              "      <td>2.649176</td>\n",
              "      <td>2.657862</td>\n",
              "      <td>2.666501</td>\n",
              "      <td>2.686553</td>\n",
              "      <td>2.695111</td>\n",
              "      <td>2.709408</td>\n",
              "      <td>2.717867</td>\n",
              "      <td>2.726272</td>\n",
              "      <td>2.732100</td>\n",
              "      <td>2.754608</td>\n",
              "      <td>2.776911</td>\n",
              "      <td>2.790937</td>\n",
              "      <td>2.796869</td>\n",
              "      <td>2.804918</td>\n",
              "      <td>2.810869</td>\n",
              "      <td>2.816845</td>\n",
              "      <td>2.830809</td>\n",
              "      <td>2.858552</td>\n",
              "      <td>2.864588</td>\n",
              "      <td>2.872321</td>\n",
              "      <td>2.878365</td>\n",
              "      <td>2.884429</td>\n",
              "      <td>2.905684</td>\n",
              "      <td>2.911753</td>\n",
              "      <td>2.937469</td>\n",
              "      <td>2.943585</td>\n",
              "      <td>2.994856</td>\n",
              "      <td>3.039465</td>\n",
              "      <td>3.045615</td>\n",
              "      <td>3.070285</td>\n",
              "      <td>3.107655</td>\n",
              "      <td>3.119991</td>\n",
              "      <td>3.132334</td>\n",
              "      <td>0.866846</td>\n",
              "    </tr>\n",
              "    <tr>\n",
              "      <th>15484</th>\n",
              "      <td>0.621570</td>\n",
              "      <td>0.621688</td>\n",
              "      <td>0.621900</td>\n",
              "      <td>0.622393</td>\n",
              "      <td>0.620204</td>\n",
              "      <td>0.618881</td>\n",
              "      <td>0.618432</td>\n",
              "      <td>0.620416</td>\n",
              "      <td>0.618101</td>\n",
              "      <td>0.620439</td>\n",
              "      <td>0.617367</td>\n",
              "      <td>0.616584</td>\n",
              "      <td>0.617603</td>\n",
              "      <td>0.614968</td>\n",
              "      <td>0.616038</td>\n",
              "      <td>0.614588</td>\n",
              "      <td>0.612035</td>\n",
              "      <td>0.611294</td>\n",
              "      <td>0.612657</td>\n",
              "      <td>0.611892</td>\n",
              "      <td>0.613325</td>\n",
              "      <td>0.611246</td>\n",
              "      <td>0.604894</td>\n",
              "      <td>0.603708</td>\n",
              "      <td>0.600890</td>\n",
              "      <td>0.599037</td>\n",
              "      <td>0.599940</td>\n",
              "      <td>0.596786</td>\n",
              "      <td>0.593246</td>\n",
              "      <td>0.589386</td>\n",
              "      <td>0.588492</td>\n",
              "      <td>0.584701</td>\n",
              "      <td>0.581489</td>\n",
              "      <td>0.576994</td>\n",
              "      <td>0.575674</td>\n",
              "      <td>0.573765</td>\n",
              "      <td>0.574351</td>\n",
              "      <td>0.571977</td>\n",
              "      <td>0.572642</td>\n",
              "      <td>0.570312</td>\n",
              "      <td>...</td>\n",
              "      <td>2.449817</td>\n",
              "      <td>2.490888</td>\n",
              "      <td>2.500054</td>\n",
              "      <td>2.568890</td>\n",
              "      <td>2.586762</td>\n",
              "      <td>2.618851</td>\n",
              "      <td>2.627628</td>\n",
              "      <td>2.673653</td>\n",
              "      <td>2.682225</td>\n",
              "      <td>2.687959</td>\n",
              "      <td>2.710744</td>\n",
              "      <td>2.719173</td>\n",
              "      <td>2.733365</td>\n",
              "      <td>2.741688</td>\n",
              "      <td>2.747534</td>\n",
              "      <td>2.755802</td>\n",
              "      <td>2.775782</td>\n",
              "      <td>2.797933</td>\n",
              "      <td>2.811890</td>\n",
              "      <td>2.817850</td>\n",
              "      <td>2.825794</td>\n",
              "      <td>2.831770</td>\n",
              "      <td>2.839641</td>\n",
              "      <td>2.851641</td>\n",
              "      <td>2.879178</td>\n",
              "      <td>2.885225</td>\n",
              "      <td>2.891291</td>\n",
              "      <td>2.898885</td>\n",
              "      <td>2.904953</td>\n",
              "      <td>2.924616</td>\n",
              "      <td>2.930718</td>\n",
              "      <td>2.956436</td>\n",
              "      <td>2.963683</td>\n",
              "      <td>3.014555</td>\n",
              "      <td>3.058195</td>\n",
              "      <td>3.064347</td>\n",
              "      <td>3.089010</td>\n",
              "      <td>3.126209</td>\n",
              "      <td>3.138516</td>\n",
              "      <td>0.866035</td>\n",
              "    </tr>\n",
              "  </tbody>\n",
              "</table>\n",
              "<p>5 rows × 601 columns</p>\n",
              "</div>"
            ],
            "text/plain": [
              "          rho_0     rho_1     rho_2  ...   phi_298   phi_299    volume\n",
              "15480  0.623459  0.623530  0.623694  ...  3.095329  3.132390  0.878005\n",
              "15481  0.621967  0.622297  0.622720  ...  3.116982  3.141593  0.875071\n",
              "15482  0.623694  0.623952  0.624303  ...  3.107655  3.132390  0.875281\n",
              "15483  0.619634  0.619705  0.619988  ...  3.119991  3.132334  0.866846\n",
              "15484  0.621570  0.621688  0.621900  ...  3.126209  3.138516  0.866035\n",
              "\n",
              "[5 rows x 601 columns]"
            ]
          },
          "metadata": {
            "tags": []
          },
          "execution_count": 6
        }
      ]
    },
    {
      "cell_type": "markdown",
      "metadata": {
        "colab_type": "text",
        "id": "Cuym4yvk76vU"
      },
      "source": [
        "### Split the data into train and test\n",
        "\n",
        "Now split the dataset into a training set and a test set.\n",
        "\n",
        "We will use the test set in the final evaluation of our model."
      ]
    },
    {
      "cell_type": "code",
      "metadata": {
        "colab_type": "code",
        "id": "qn-IGhUE7_1H",
        "colab": {}
      },
      "source": [
        "train_dataset = dataset.sample(frac=0.8,random_state=1)\n",
        "test_dataset = dataset.drop(train_dataset.index)\n"
      ],
      "execution_count": null,
      "outputs": []
    },
    {
      "cell_type": "markdown",
      "metadata": {
        "colab_type": "text",
        "id": "J4ubs136WLNp"
      },
      "source": [
        "### Inspect the data\n",
        "\n",
        "Have a quick look at the joint distribution of a few pairs of columns from the training set."
      ]
    },
    {
      "cell_type": "code",
      "metadata": {
        "colab_type": "code",
        "id": "oRKO_x8gWKv-",
        "colab": {}
      },
      "source": [
        "#sns.pairplot(train_dataset[column_names], diag_kind=\"kde\")\n",
        "#plt.show()"
      ],
      "execution_count": null,
      "outputs": []
    },
    {
      "cell_type": "markdown",
      "metadata": {
        "colab_type": "text",
        "id": "gavKO_6DWRMP"
      },
      "source": [
        "Also look at the overall statistics:"
      ]
    },
    {
      "cell_type": "code",
      "metadata": {
        "colab_type": "code",
        "id": "yi2FzC3T21jR",
        "colab": {}
      },
      "source": [
        "train_stats = train_dataset.describe()\n",
        "train_stats.pop(\"st\")\n",
        "\n",
        "train_stats = train_stats.transpose()\n",
        "train_stats"
      ],
      "execution_count": null,
      "outputs": []
    },
    {
      "cell_type": "markdown",
      "metadata": {
        "colab_type": "text",
        "id": "Db7Auq1yXUvh"
      },
      "source": [
        "### Split features from labels\n",
        "\n",
        "Separate the target value, or \"label\", from the features. This label is the value that you will train the model to predict."
      ]
    },
    {
      "cell_type": "code",
      "metadata": {
        "colab_type": "code",
        "id": "t2sluJdCW7jN",
        "colab": {}
      },
      "source": [
        "train_labels = train_dataset.pop('st')\n",
        "test_labels = test_dataset.pop('st')"
      ],
      "execution_count": null,
      "outputs": []
    },
    {
      "cell_type": "markdown",
      "metadata": {
        "colab_type": "text",
        "id": "mRklxK5s388r"
      },
      "source": [
        "### Normalize the data\n",
        "\n",
        "Look again at the `train_stats` block above and note how different the ranges of each feature are."
      ]
    },
    {
      "cell_type": "markdown",
      "metadata": {
        "colab_type": "text",
        "id": "-ywmerQ6dSox"
      },
      "source": [
        "It is good practice to normalize features that use different scales and ranges. Although the model *might* converge without feature normalization, it makes training more difficult, and it makes the resulting model dependent on the choice of units used in the input.\n",
        "\n",
        "Note: Although we intentionally generate these statistics from only the training dataset, these statistics will also be used to normalize the test dataset. We need to do that to project the test dataset into the same distribution that the model has been trained on."
      ]
    },
    {
      "cell_type": "code",
      "metadata": {
        "colab_type": "code",
        "id": "JlC5ooJrgjQF",
        "colab": {}
      },
      "source": [
        "def norm(x):\n",
        "  return (x - train_stats['mean']) / train_stats['std']\n",
        "normed_train_data = norm(train_dataset)\n",
        "normed_test_data = norm(test_dataset)\n",
        "#normed_train_data = train_dataset\n",
        "#normed_test_data = test_dataset\n"
      ],
      "execution_count": null,
      "outputs": []
    },
    {
      "cell_type": "markdown",
      "metadata": {
        "colab_type": "text",
        "id": "BuiClDk45eS4"
      },
      "source": [
        "This normalized data is what we will use to train the model.\n",
        "\n",
        "Caution: The statistics used to normalize the inputs here (mean and standard deviation) need to be applied to any other data that is fed to the model, along with the one-hot encoding that we did earlier.  That includes the test set as well as live data when the model is used in production."
      ]
    },
    {
      "cell_type": "markdown",
      "metadata": {
        "colab_type": "text",
        "id": "SmjdzxKzEu1-"
      },
      "source": [
        "## The model"
      ]
    },
    {
      "cell_type": "markdown",
      "metadata": {
        "colab_type": "text",
        "id": "6SWtkIjhrZwa"
      },
      "source": [
        "### Build the model\n",
        "\n",
        "Let's build our model. Here, we'll use a `Sequential` model with two densely connected hidden layers, and an output layer that returns a single, continuous value. The model building steps are wrapped in a function, `build_model`, since we'll create a second model, later on."
      ]
    },
    {
      "cell_type": "code",
      "metadata": {
        "id": "vPSvYP6mhHBM",
        "colab_type": "code",
        "colab": {}
      },
      "source": [
        "input_shape=input.shape\n",
        "print(input_shape)"
      ],
      "execution_count": null,
      "outputs": []
    },
    {
      "cell_type": "code",
      "metadata": {
        "colab_type": "code",
        "id": "c26juK7ZG8j-",
        "colab": {}
      },
      "source": [
        "def build_model():\n",
        "  model = keras.Sequential([\n",
        "   # layers.Dense(40, activation=tf.nn.swish, input_shape=[len(train_dataset.keys())]),  #activation='linear'\n",
        "    layers.Dense(4, activation=tf.nn.swish, input_shape=[len(train_dataset.keys())]),\n",
        "   # tf.keras.layers.LayerNormalization(axis=1 , center=True , scale=True),\n",
        "    layers.Dense(12, activation=tf.nn.swish, input_shape=[len(train_dataset.keys())]),\n",
        "    layers.Dense(8, activation=tf.nn.swish, input_shape=[len(train_dataset.keys())]),\n",
        "  #  layers.Dense(3, activation=tf.nn.swish, input_shape=[len(train_dataset.keys())]),\n",
        "    layers.Dense(1)\n",
        "  ])\n",
        "\n",
        "  #optimizer = tf.keras.optimizers.RMSprop(0.0000001)\n",
        "  #optimizer = tf.keras.optimizers.Adagrad(learning_rate=0.0001)\n",
        "  optimizer = tf.keras.optimizers.Adam(learning_rate=0.001, beta_1=0.9, beta_2=0.999, amsgrad=False)\n",
        "  #optimizer = tf.keras.optimizers.Adamax(learning_rate=0.001, beta_1=0.8, beta_2=0.995)\n",
        "\n",
        "  #model.compile(loss='mean_squared_error',\n",
        "  #              optimizer=optimizer,\n",
        "  #              metrics=['mean_absolute_error', 'mean_squared_error'])\n",
        "  \n",
        "  model.compile(loss=tf.keras.losses.Huber(),\n",
        "                optimizer=optimizer,\n",
        "                metrics=['mean_absolute_error', 'mean_squared_error'])\n",
        "  \n",
        "  \n",
        "  return model"
      ],
      "execution_count": null,
      "outputs": []
    },
    {
      "cell_type": "code",
      "metadata": {
        "colab_type": "code",
        "id": "cGbPb-PHGbhs",
        "colab": {}
      },
      "source": [
        "model = build_model()"
      ],
      "execution_count": null,
      "outputs": []
    },
    {
      "cell_type": "markdown",
      "metadata": {
        "id": "AUx4uYxk0GEJ",
        "colab_type": "text"
      },
      "source": [
        "## If there is a model saved on google drive execute the next block"
      ]
    },
    {
      "cell_type": "code",
      "metadata": {
        "id": "y3Ir9yi8z0VA",
        "colab_type": "code",
        "colab": {}
      },
      "source": [
        "from tensorflow.keras.models import load_model\n",
        "\n",
        "del model \n",
        "\n",
        "model_name=str('All_surf_five_feutures_Huber_swish_trial_3.h5')\n",
        "model = load_model(str(\"/content/drive/My Drive/DropLev/MachineLearningModels/\"+model_name))\n"
      ],
      "execution_count": null,
      "outputs": []
    },
    {
      "cell_type": "markdown",
      "metadata": {
        "colab_type": "text",
        "id": "Sj49Og4YGULr"
      },
      "source": [
        "### Inspect the model\n",
        "\n",
        "Use the `.summary` method to print a simple description of the model"
      ]
    },
    {
      "cell_type": "code",
      "metadata": {
        "colab_type": "code",
        "id": "ReAD0n6MsFK-",
        "colab": {}
      },
      "source": [
        "model.summary()"
      ],
      "execution_count": null,
      "outputs": []
    },
    {
      "cell_type": "markdown",
      "metadata": {
        "colab_type": "text",
        "id": "Vt6W50qGsJAL"
      },
      "source": [
        "\n",
        "Now try out the model. Take a batch of `10` examples from the training data and call `model.predict` on it."
      ]
    },
    {
      "cell_type": "code",
      "metadata": {
        "colab_type": "code",
        "id": "-d-gBaVtGTSC",
        "colab": {}
      },
      "source": [
        "example_batch = normed_train_data[:10]\n",
        "example_result = model.predict(example_batch)\n",
        "example_result"
      ],
      "execution_count": null,
      "outputs": []
    },
    {
      "cell_type": "markdown",
      "metadata": {
        "colab_type": "text",
        "id": "QlM8KrSOsaYo"
      },
      "source": [
        "It seems to be working, and it produces a result of the expected shape and type."
      ]
    },
    {
      "cell_type": "markdown",
      "metadata": {
        "colab_type": "text",
        "id": "0-qWCsh6DlyH"
      },
      "source": [
        "### Train the model\n",
        "\n",
        "Train the model for 1000 epochs, and record the training and validation accuracy in the `history` object."
      ]
    },
    {
      "cell_type": "code",
      "metadata": {
        "colab_type": "code",
        "id": "sD7qHCmNIOY0",
        "colab": {}
      },
      "source": [
        "# Display training progress by printing a single dot for each completed epoch\n",
        "class PrintDot(keras.callbacks.Callback):\n",
        "  def on_epoch_end(self, epoch, logs):\n",
        "    if epoch % 55 == 0: print('')\n",
        "    print('.', end='')\n",
        "\n",
        "#Save the k-th epoch (100 in this case)\n",
        "class CustomSaver(keras.callbacks.Callback):\n",
        "    filepath=\"/content/drive/My Drive/DropLev/MachineLearningModels/\"\n",
        "    def on_epoch_end(self, epoch, logs={}):\n",
        "        if epoch == 100:  # or save after some epoch, each k-th epoch etc.\n",
        "            self.model.save(str(filepath+\"SDS_70mNperm_trial1.h5\"), monitor = \"val_loss\", verbose = 0,\n",
        "  save_best_only = False, save_weights_only = False, mode = \"min\", period = 1)\n",
        "\n",
        "EPOCHS = 700\n",
        "\n",
        "#filepath=\"/content/drive/My Drive/DropLev/MachineLearningModels/saved-model-{epoch:02d}-{val_loss:.2f}.h5.h5\"\n",
        "#keras.callbacks.ModelCheckpoint(filepath, monitor='val_loss', verbose=0, save_best_only=False, \n",
        "#                                save_weights_only=False, mode='auto', period=1)\n",
        "#callbacks_list = [checkpoint]\n",
        "\n",
        "## create and use callback:\n",
        "#filepath=\"/content/drive/My Drive/DropLev/MachineLearningModels/weights.100EPOCHS.h5\"\n",
        "saver = CustomSaver()\n",
        "#history = model.fit(normed_train_data, train_labels, callbacks=[saver], epochs=10)\n",
        "\n",
        "#Checkpoints. Save best fit\n",
        "#filepath=\"/content/drive/My Drive/DropLev/MachineLearningModels/weights.best.h5\"\n",
        "#checkpoint = ModelCheckpoint(filepath, monitor='val_acc', verbose=0, save_best_only=True, mode='auto')\n",
        "#callbacks_list = [checkpoint]\n",
        "\n",
        "early_stop = keras.callbacks.EarlyStopping(monitor='val_loss',min_delta=0, patience=10, verbose=0, mode='auto')\n",
        "\n",
        "\n",
        "history = model.fit(\n",
        "  normed_train_data, train_labels,\n",
        "  epochs=EPOCHS, validation_split = 0.2, verbose=0,\n",
        "  callbacks=[early_stop, PrintDot()])  # callbacks=callbacks_list"
      ],
      "execution_count": null,
      "outputs": []
    },
    {
      "cell_type": "markdown",
      "metadata": {
        "colab_type": "text",
        "id": "tQm3pc0FYPQB"
      },
      "source": [
        "Visualize the model's training progress using the stats stored in the `history` object."
      ]
    },
    {
      "cell_type": "code",
      "metadata": {
        "colab_type": "code",
        "id": "4Xj91b-dymEy",
        "colab": {}
      },
      "source": [
        "hist = pd.DataFrame(history.history)\n",
        "hist['epoch'] = history.epoch\n",
        "hist.tail()"
      ],
      "execution_count": null,
      "outputs": []
    },
    {
      "cell_type": "code",
      "metadata": {
        "colab_type": "code",
        "id": "B6XriGbVPh2t",
        "colab": {}
      },
      "source": [
        "def plot_history(history):\n",
        "  hist = pd.DataFrame(history.history)\n",
        "  hist['epoch'] = history.epoch\n",
        "\n",
        "  plt.figure()\n",
        "  plt.xlabel('Epoch')\n",
        "  plt.ylabel('Mean Abs Error [ST]')\n",
        "  plt.plot(hist['epoch'], hist['mean_absolute_error'],\n",
        "           label='Train Error')\n",
        "  plt.plot(hist['epoch'], hist['val_mean_absolute_error'],\n",
        "           label = 'Val Error')\n",
        "  plt.ylim([0,5])\n",
        "  plt.legend()\n",
        "\n",
        "  plt.figure()\n",
        "  plt.xlabel('Epoch')\n",
        "  plt.ylabel('Mean Square Error [$ST^2$]')\n",
        "  plt.plot(hist['epoch'], hist['mean_squared_error'],\n",
        "           label='Train Error')\n",
        "  plt.plot(hist['epoch'], hist['val_mean_squared_error'],\n",
        "           label = 'Val Error')\n",
        "  plt.ylim([0,50])\n",
        "  plt.legend()\n",
        "  plt.show()\n",
        "\n",
        "\n",
        "plot_history(history)"
      ],
      "execution_count": null,
      "outputs": []
    },
    {
      "cell_type": "markdown",
      "metadata": {
        "colab_type": "text",
        "id": "3St8-DmrX8P4"
      },
      "source": [
        "Let's see how well the model generalizes by using the **test** set, which we did not use when training the model.  This tells us how well we can expect the model to predict when we use it in the real world."
      ]
    },
    {
      "cell_type": "code",
      "metadata": {
        "colab_type": "code",
        "id": "jl_yNr5n1kms",
        "colab": {}
      },
      "source": [
        "loss, mae, mse = model.evaluate(normed_test_data, test_labels, verbose=0)\n",
        "print(\"Testing set Mean Abs Error: {:5.2f} mN/m\".format(mae))\n",
        "# \n",
        "#keras.metrics.accuracy(normed_test_data, test_labels)"
      ],
      "execution_count": null,
      "outputs": []
    },
    {
      "cell_type": "markdown",
      "metadata": {
        "colab_type": "text",
        "id": "ft603OzXuEZC"
      },
      "source": [
        "### Make predictions\n",
        "\n",
        "Finally, predict volume values using data in the testing set:"
      ]
    },
    {
      "cell_type": "code",
      "metadata": {
        "colab_type": "code",
        "id": "Xe7RXH3N3CWU",
        "colab": {}
      },
      "source": [
        "test_predictions = model.predict(normed_test_data).flatten()\n",
        "\n",
        "plt.scatter(test_labels, test_predictions)\n",
        "plt.title('Normalized test data')\n",
        "plt.xlabel('True Values [surface tension - mN/m]')\n",
        "plt.ylabel('Predictions [surface tension - mN/m]')\n",
        "plt.axis('equal')\n",
        "plt.axis('square')\n",
        "plt.xlim([20,75])\n",
        "plt.ylim([20,75])\n",
        "_ = plt.plot([-100, 100], [-100, 100])\n",
        "plt.show()\n",
        "\n",
        "test_predictions2 = model.predict(normed_train_data).flatten()\n",
        "\n",
        "plt.scatter(train_labels, test_predictions2)\n",
        "plt.title('Normalized training data')\n",
        "plt.xlabel('True Values [surface tension - mN/m]')\n",
        "plt.ylabel('Predictions [surface tension - mN/m]')\n",
        "plt.axis('equal')\n",
        "plt.axis('square')\n",
        "plt.xlim([20,75])\n",
        "plt.ylim([20,75])\n",
        "_ = plt.plot([-100, 100], [-100, 100])\n",
        "plt.show()\n"
      ],
      "execution_count": null,
      "outputs": []
    },
    {
      "cell_type": "code",
      "metadata": {
        "colab_type": "code",
        "id": "f-OHX4DiXd8x",
        "colab": {}
      },
      "source": [
        "error = test_predictions - test_labels\n",
        "plt.hist(error, bins = 50)\n",
        "plt.xlabel(\"Prediction Error [surface tension - mN/m]\")\n",
        "_ = plt.ylabel(\"Count\")\n",
        "plt.show()"
      ],
      "execution_count": null,
      "outputs": []
    },
    {
      "cell_type": "markdown",
      "metadata": {
        "id": "r-i0Bq5JF0nv",
        "colab_type": "text"
      },
      "source": [
        "# Saving the final Model"
      ]
    },
    {
      "cell_type": "markdown",
      "metadata": {
        "id": "G8FBhOnbGK65",
        "colab_type": "text"
      },
      "source": [
        "When you are satisfied with the model and the accuracy continue from here:"
      ]
    },
    {
      "cell_type": "markdown",
      "metadata": {
        "id": "BspL3Z6-GPaa",
        "colab_type": "text"
      },
      "source": [
        "Saving the model in a **SavedModel** format"
      ]
    },
    {
      "cell_type": "code",
      "metadata": {
        "id": "VwWrwBcZGLnZ",
        "colab_type": "code",
        "colab": {}
      },
      "source": [
        "!pip install -q pyyaml h5py  # Required to save models in HDF5 format"
      ],
      "execution_count": null,
      "outputs": []
    },
    {
      "cell_type": "code",
      "metadata": {
        "id": "6BR7rbL5GXku",
        "colab_type": "code",
        "colab": {}
      },
      "source": [
        "import os"
      ],
      "execution_count": null,
      "outputs": []
    },
    {
      "cell_type": "code",
      "metadata": {
        "id": "MzumSsZfGYCp",
        "colab_type": "code",
        "colab": {}
      },
      "source": [
        "# Save the entire model as a SavedModel.\n",
        "filename=str('All_surf_five_feutures_Huber_swish_trial_3.h5')\n",
        "!mkdir -p '/content/drive/My Drive/DropLev/MachineLearningModels' #Ceates a folder named \"MachineLearningModels\"\n",
        "model.save('/content/drive/My Drive/DropLev/MachineLearningModels/'+filename)  #Saves the file"
      ],
      "execution_count": null,
      "outputs": []
    },
    {
      "cell_type": "markdown",
      "metadata": {
        "id": "pJzKbb1EGgUE",
        "colab_type": "text"
      },
      "source": [
        "The SavedModel format is a directory containing a protobuf binary and a Tensorflow checkpoint. Inspect the saved model directory:"
      ]
    },
    {
      "cell_type": "code",
      "metadata": {
        "id": "9yGUiOkfGgen",
        "colab_type": "code",
        "colab": {}
      },
      "source": [
        "# DropLev_st_prediction_model directory\n",
        "#!ls content/drive/My Drive/DropLev/MachineLearningModels\n",
        "\n",
        "# Contains an assets folder, saved_model.pb, and variables folder.\n",
        "#!ls content/drive/My Drive/DropLev/MachineLearningModels/SDS_1.h5"
      ],
      "execution_count": null,
      "outputs": []
    },
    {
      "cell_type": "markdown",
      "metadata": {
        "id": "n2IWIiOYGgqK",
        "colab_type": "text"
      },
      "source": [
        "Saving the model in a **HDF5** format"
      ]
    },
    {
      "cell_type": "code",
      "metadata": {
        "id": "H_Zl4tVVGg3J",
        "colab_type": "code",
        "colab": {}
      },
      "source": [
        "# Save the entire model to a HDF5 file.\n",
        "# The '.h5' extension indicates that the model should be saved to HDF5.\n",
        "#model.save('content/drive/My Drive/DropLev/MachineLearningModels/'+filename) "
      ],
      "execution_count": null,
      "outputs": []
    },
    {
      "cell_type": "markdown",
      "metadata": {
        "id": "oZcqRI0r9B4r",
        "colab_type": "text"
      },
      "source": [
        "# Reload a fresh Keras model from the saved model:"
      ]
    },
    {
      "cell_type": "markdown",
      "metadata": {
        "id": "W6mEqNn497op",
        "colab_type": "text"
      },
      "source": [
        "For **SavedModel** format"
      ]
    },
    {
      "cell_type": "code",
      "metadata": {
        "id": "c4vUC4ep8_VA",
        "colab_type": "code",
        "colab": {}
      },
      "source": [
        "new_model = tf.keras.models.load_model('/content/drive/My Drive/DropLev/MachineLearningModels/'+filename)\n",
        "\n",
        "# Check its architecture\n",
        "new_model.summary()"
      ],
      "execution_count": null,
      "outputs": []
    },
    {
      "cell_type": "markdown",
      "metadata": {
        "id": "myilbB_P9_dO",
        "colab_type": "text"
      },
      "source": [
        "For **HDF5** format"
      ]
    },
    {
      "cell_type": "code",
      "metadata": {
        "id": "94ZjuhOV-Dfk",
        "colab_type": "code",
        "colab": {}
      },
      "source": [
        "# Recreate the exact same model, including its weights and the optimizer\n",
        "new_model = tf.keras.models.load_model('DropLev_st_prediction_model.h5')\n",
        "\n",
        "# Show the model architecture\n",
        "new_model.summary()"
      ],
      "execution_count": null,
      "outputs": []
    },
    {
      "cell_type": "markdown",
      "metadata": {
        "id": "j1K6xGBg9K4A",
        "colab_type": "text"
      },
      "source": [
        "Evaluate the restored model (for both formats)"
      ]
    },
    {
      "cell_type": "code",
      "metadata": {
        "id": "if5rjrz79NPI",
        "colab_type": "code",
        "colab": {}
      },
      "source": [
        "# Evaluation\n",
        "loss, mae, mse = new_model.evaluate(normed_test_data, test_labels, verbose=0)\n",
        "print('Restored model, Mean absolute error: {:5.2f}'.format(mae))\n",
        "\n",
        "print(new_model.predict(normed_test_data).shape)"
      ],
      "execution_count": null,
      "outputs": []
    }
  ]
}