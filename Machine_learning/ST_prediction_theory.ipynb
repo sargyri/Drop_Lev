{
  "nbformat": 4,
  "nbformat_minor": 0,
  "metadata": {
    "colab": {
      "name": "ST_prediction_theory.ipynb",
      "provenance": [],
      "include_colab_link": true
    },
    "kernelspec": {
      "name": "python3",
      "display_name": "Python 3"
    }
  },
  "cells": [
    {
      "cell_type": "markdown",
      "metadata": {
        "id": "view-in-github",
        "colab_type": "text"
      },
      "source": [
        "<a href=\"https://colab.research.google.com/github/sargyri/Drop_Lev/blob/master/Machine_learning/ST_prediction_theory.ipynb\" target=\"_parent\"><img src=\"https://colab.research.google.com/assets/colab-badge.svg\" alt=\"Open In Colab\"/></a>"
      ]
    },
    {
      "cell_type": "markdown",
      "metadata": {
        "id": "FhGuhbZ6M5tl"
      },
      "source": [
        "##### Copyright 2018 The TensorFlow Authors."
      ]
    },
    {
      "cell_type": "code",
      "metadata": {
        "cellView": "form",
        "id": "AwOEIRJC6Une"
      },
      "source": [
        "#@title Licensed under the Apache License, Version 2.0 (the \"License\");\n",
        "# you may not use this file except in compliance with the License.\n",
        "# You may obtain a copy of the License at\n",
        "#\n",
        "# https://www.apache.org/licenses/LICENSE-2.0\n",
        "#\n",
        "# Unless required by applicable law or agreed to in writing, software\n",
        "# distributed under the License is distributed on an \"AS IS\" BASIS,\n",
        "# WITHOUT WARRANTIES OR CONDITIONS OF ANY KIND, either express or implied.\n",
        "# See the License for the specific language governing permissions and\n",
        "# limitations under the License."
      ],
      "execution_count": null,
      "outputs": []
    },
    {
      "cell_type": "code",
      "metadata": {
        "cellView": "form",
        "id": "KyPEtTqk6VdG"
      },
      "source": [
        "#@title MIT License\n",
        "#\n",
        "# Copyright (c) 2017 François Chollet\n",
        "#\n",
        "# Permission is hereby granted, free of charge, to any person obtaining a\n",
        "# copy of this software and associated documentation files (the \"Software\"),\n",
        "# to deal in the Software without restriction, including without limitation\n",
        "# the rights to use, copy, modify, merge, publish, distribute, sublicense,\n",
        "# and/or sell copies of the Software, and to permit persons to whom the\n",
        "# Software is furnished to do so, subject to the following conditions:\n",
        "#\n",
        "# The above copyright notice and this permission notice shall be included in\n",
        "# all copies or substantial portions of the Software.\n",
        "#\n",
        "# THE SOFTWARE IS PROVIDED \"AS IS\", WITHOUT WARRANTY OF ANY KIND, EXPRESS OR\n",
        "# IMPLIED, INCLUDING BUT NOT LIMITED TO THE WARRANTIES OF MERCHANTABILITY,\n",
        "# FITNESS FOR A PARTICULAR PURPOSE AND NONINFRINGEMENT. IN NO EVENT SHALL\n",
        "# THE AUTHORS OR COPYRIGHT HOLDERS BE LIABLE FOR ANY CLAIM, DAMAGES OR OTHER\n",
        "# LIABILITY, WHETHER IN AN ACTION OF CONTRACT, TORT OR OTHERWISE, ARISING\n",
        "# FROM, OUT OF OR IN CONNECTION WITH THE SOFTWARE OR THE USE OR OTHER\n",
        "# DEALINGS IN THE SOFTWARE."
      ],
      "execution_count": null,
      "outputs": []
    },
    {
      "cell_type": "markdown",
      "metadata": {
        "id": "EIdT9iu_Z4Rb"
      },
      "source": [
        "# Lev Droplet "
      ]
    },
    {
      "cell_type": "markdown",
      "metadata": {
        "id": "bBIlTPscrIT9"
      },
      "source": [
        "<table class=\"tfo-notebook-buttons\" align=\"left\">\n",
        "  <td>\n",
        "    <a target=\"_blank\" href=\"https://www.tensorflow.org/tutorials/keras/basic_regression\"><img src=\"https://www.tensorflow.org/images/tf_logo_32px.png\" />View on TensorFlow.org</a>\n",
        "  </td>\n",
        "  <td>\n",
        "    <a target=\"_blank\" href=\"https://colab.research.google.com/github/tensorflow/docs/blob/r2.0rc/site/en/tutorials/keras/basic_regression.ipynb\"><img src=\"https://www.tensorflow.org/images/colab_logo_32px.png\" />Run in Google Colab</a>\n",
        "  </td>\n",
        "  <td>\n",
        "    <a target=\"_blank\" href=\"https://github.com/tensorflow/docs/blob/r2.0rc/site/en/tutorials/keras/basic_regression.ipynb\"><img src=\"https://www.tensorflow.org/images/GitHub-Mark-32px.png\" />View source on GitHub</a>\n",
        "  </td>\n",
        "</table>"
      ]
    },
    {
      "cell_type": "markdown",
      "metadata": {
        "id": "AHp3M9ZmrIxj"
      },
      "source": [
        "NN for predicting ST from theoretical data based on the somple model"
      ]
    },
    {
      "cell_type": "code",
      "metadata": {
        "id": "j2J8YeLX2j7a",
        "colab": {
          "base_uri": "https://localhost:8080/"
        },
        "outputId": "5a41f6b2-aa4f-448c-bcd6-b8b475d7c50a"
      },
      "source": [
        "!pip install lmfit\n",
        "# !pip install git+https://github.com/ulikoehler/UliEngineering.git\n"
      ],
      "execution_count": 1,
      "outputs": [
        {
          "output_type": "stream",
          "name": "stdout",
          "text": [
            "Collecting lmfit\n",
            "  Downloading lmfit-1.0.2.tar.gz (306 kB)\n",
            "\u001b[?25l\r\u001b[K     |█                               | 10 kB 25.5 MB/s eta 0:00:01\r\u001b[K     |██▏                             | 20 kB 10.2 MB/s eta 0:00:01\r\u001b[K     |███▏                            | 30 kB 8.7 MB/s eta 0:00:01\r\u001b[K     |████▎                           | 40 kB 7.9 MB/s eta 0:00:01\r\u001b[K     |█████▍                          | 51 kB 4.2 MB/s eta 0:00:01\r\u001b[K     |██████▍                         | 61 kB 4.4 MB/s eta 0:00:01\r\u001b[K     |███████▌                        | 71 kB 4.6 MB/s eta 0:00:01\r\u001b[K     |████████▋                       | 81 kB 5.2 MB/s eta 0:00:01\r\u001b[K     |█████████▋                      | 92 kB 3.9 MB/s eta 0:00:01\r\u001b[K     |██████████▊                     | 102 kB 4.3 MB/s eta 0:00:01\r\u001b[K     |███████████▉                    | 112 kB 4.3 MB/s eta 0:00:01\r\u001b[K     |████████████▉                   | 122 kB 4.3 MB/s eta 0:00:01\r\u001b[K     |██████████████                  | 133 kB 4.3 MB/s eta 0:00:01\r\u001b[K     |███████████████                 | 143 kB 4.3 MB/s eta 0:00:01\r\u001b[K     |████████████████                | 153 kB 4.3 MB/s eta 0:00:01\r\u001b[K     |█████████████████▏              | 163 kB 4.3 MB/s eta 0:00:01\r\u001b[K     |██████████████████▏             | 174 kB 4.3 MB/s eta 0:00:01\r\u001b[K     |███████████████████▎            | 184 kB 4.3 MB/s eta 0:00:01\r\u001b[K     |████████████████████▍           | 194 kB 4.3 MB/s eta 0:00:01\r\u001b[K     |█████████████████████▍          | 204 kB 4.3 MB/s eta 0:00:01\r\u001b[K     |██████████████████████▌         | 215 kB 4.3 MB/s eta 0:00:01\r\u001b[K     |███████████████████████▋        | 225 kB 4.3 MB/s eta 0:00:01\r\u001b[K     |████████████████████████▋       | 235 kB 4.3 MB/s eta 0:00:01\r\u001b[K     |█████████████████████████▊      | 245 kB 4.3 MB/s eta 0:00:01\r\u001b[K     |██████████████████████████▊     | 256 kB 4.3 MB/s eta 0:00:01\r\u001b[K     |███████████████████████████▉    | 266 kB 4.3 MB/s eta 0:00:01\r\u001b[K     |█████████████████████████████   | 276 kB 4.3 MB/s eta 0:00:01\r\u001b[K     |██████████████████████████████  | 286 kB 4.3 MB/s eta 0:00:01\r\u001b[K     |███████████████████████████████ | 296 kB 4.3 MB/s eta 0:00:01\r\u001b[K     |████████████████████████████████| 306 kB 4.3 MB/s \n",
            "\u001b[?25hCollecting asteval>=0.9.16\n",
            "  Downloading asteval-0.9.25.tar.gz (39 kB)\n",
            "Requirement already satisfied: numpy>=1.16 in /usr/local/lib/python3.7/dist-packages (from lmfit) (1.19.5)\n",
            "Requirement already satisfied: scipy>=1.2 in /usr/local/lib/python3.7/dist-packages (from lmfit) (1.4.1)\n",
            "Collecting uncertainties>=3.0.1\n",
            "  Downloading uncertainties-3.1.6-py2.py3-none-any.whl (98 kB)\n",
            "\u001b[K     |████████████████████████████████| 98 kB 8.0 MB/s \n",
            "\u001b[?25hRequirement already satisfied: future in /usr/local/lib/python3.7/dist-packages (from uncertainties>=3.0.1->lmfit) (0.16.0)\n",
            "Building wheels for collected packages: lmfit, asteval\n",
            "  Building wheel for lmfit (setup.py) ... \u001b[?25l\u001b[?25hdone\n",
            "  Created wheel for lmfit: filename=lmfit-1.0.2-py3-none-any.whl size=85275 sha256=d6d656c6b935e540af0293916314d1d4f061ecc566ba8947c3e6884da85f9505\n",
            "  Stored in directory: /root/.cache/pip/wheels/42/81/51/72ff0f8e216caa9fe1e9dd1e7c287274b1eb75c79bfc858f5b\n",
            "  Building wheel for asteval (setup.py) ... \u001b[?25l\u001b[?25hdone\n",
            "  Created wheel for asteval: filename=asteval-0.9.25-py3-none-any.whl size=17301 sha256=6f0cf8c690766e11bcfd9e547628850aaa0be828986af9fef35c1021d6bb951e\n",
            "  Stored in directory: /root/.cache/pip/wheels/4a/87/53/f1385a55b3f60eabb921c5f4fd151c00fdb016b5111b8c830f\n",
            "Successfully built lmfit asteval\n",
            "Installing collected packages: uncertainties, asteval, lmfit\n",
            "Successfully installed asteval-0.9.25 lmfit-1.0.2 uncertainties-3.1.6\n"
          ]
        }
      ]
    },
    {
      "cell_type": "code",
      "metadata": {
        "id": "jyE0M3V99EdP",
        "scrolled": true,
        "colab": {
          "base_uri": "https://localhost:8080/"
        },
        "outputId": "041615ce-e296-4882-9698-c3dc6cc0e664"
      },
      "source": [
        "import numpy as np\n",
        "#import cv2\n",
        "import os\n",
        "import re\n",
        "import glob\n",
        "import matplotlib.pyplot as plt\n",
        "from scipy.signal import  gaussian\n",
        "from scipy.ndimage import filters\n",
        "from scipy import optimize\n",
        "from scipy.stats import linregress\n",
        "from mpl_toolkits.mplot3d import Axes3D\n",
        "\n",
        "import seaborn as sns\n",
        "\n",
        "import scipy as sp\n",
        "import scipy.interpolate\n",
        "from scipy.integrate import trapz\n",
        "\n",
        "import time\n",
        "\n",
        "import pandas as pd\n",
        "\n",
        "from lmfit import Model, fit_report, Parameters\n",
        "\n",
        "#from __future__ import absolute_import, division, print_function, unicode_literals\n",
        "\n",
        "import pathlib\n",
        "\n",
        "import matplotlib.pyplot as plt\n",
        "import pandas as pd\n",
        "import seaborn as sns\n",
        "\n",
        "import tensorflow.compat.v1 as tf\n",
        "tf.disable_v2_behavior()  #!!! Why though? !!!\n",
        "\n",
        "import pprint\n",
        "import tensorflow as tf\n",
        "from tensorflow import keras\n",
        "from tensorflow.keras import layers\n",
        "from tensorflow.keras.callbacks import ModelCheckpoint\n",
        "import io\n",
        "\n",
        "# from UliEngineering.Math.Coordinates import BoundingBox\n",
        "\n",
        "print(tf.__version__)\n",
        "print(\"Num GPUs Available: \", len(tf.config.experimental.list_physical_devices('GPU')))\n",
        "\n",
        "\n",
        "######### initialize the data ###############\n",
        "data_input=[]\n",
        "data_output=[]\n",
        "l_sample=300\n",
        "vol_all=[]\n",
        "vol2_all=[]\n",
        "data_x=[]\n",
        "data_y=[]\n",
        "data_h=[]\n",
        "data_w=[]\n",
        "R_sph_all=[]\n",
        "Ar=[]\n",
        "#st_all=[]\n",
        "rho=[]\n",
        "theta=[]\n",
        "#List of non-processed images:\n",
        "discarded=[]\n",
        "new=[]  #list of images without the discarded ones\n",
        "\n",
        "#For the simple approach fit\n",
        "phi_final=[]\n",
        "theta_az=[]\n",
        "theta_all=[]\n",
        "theta_final=[]\n",
        "r_theta_all=[]\n",
        "xc_all=[]\n",
        "yc_all=[]\n",
        "rho_final=[]\n",
        "data_Ps=[]\n",
        "data_dB=[]\n",
        "data_stderr=[]\n",
        "data_err=[]\n",
        "\n",
        "total_num_pictures = len(glob.glob1('.',\"*.png\"))\n",
        "frame_number=np.arange(total_num_pictures)\n",
        "\n",
        "gamma=64 #[N/m]\n",
        "Cg_air=1/101325 #Pa**(-1)\n",
        "k_o=2*np.pi*40/340  #wave number in the air. frequency 40kHz (25kH=0.000040sec) and speed of sound in air v=340 m/s from paper (331.5 for 20oC online) \n",
        "#Calibration\n",
        "needle_d=0.83 #mm\n",
        "needle_pxl=220 #pixels\n",
        "#calibration=0.00621722846441948**3\n",
        "cal=needle_d/needle_pxl\n",
        "calibration=(cal)**3\n",
        "\n",
        "\n",
        "###############################################################################\n",
        "#### Functions used in the data processing ####################################\n",
        "###############################################################################\n",
        "\n",
        "def calc_volume(x,y):\n",
        "    \"\"\"\n",
        "    Calculate the drop volume from a shape matrix.\n",
        "\n",
        "    Parameters\n",
        "    ----------\n",
        "    x, y - contour of the drop\n",
        "\n",
        "    Returns\n",
        "    -------\n",
        "    Integrated volume using for the given shape matrix.\n",
        "\n",
        "    \"\"\"\n",
        "    # data selection\n",
        "    idx=x<=0  # r=right\n",
        "    x_l=x[idx]\n",
        "    y_l=y[idx]\n",
        "        \n",
        "    vol_left=trapz(np.pi*x_l**2, y_l)/2\n",
        "        \n",
        "    # data selection\n",
        "    idx=x>=0  # r=right\n",
        "    x_r=x[idx]\n",
        "    y_r=y[idx]\n",
        "    vol_right=-trapz(np.pi*x_r**2, y_r)/2\n",
        "   \n",
        "    return vol_left+vol_right\n",
        "\n",
        "\n",
        "def calc_R_sph(vol, cal):\n",
        "    \"\"\"\n",
        "    Calculate the spherical radius of a droplet based on the volume.\n",
        "\n",
        "    Input parameters\n",
        "    ----------\n",
        "    vol:         volume   [pixels**3]\n",
        "    calibration: calibration factor  [mm**3/pixels**3]\n",
        "\n",
        "    Returns\n",
        "    -------\n",
        "    Corresponding spherical radius.  [mm]\n",
        "\n",
        "    \"\"\"\n",
        "#    calibration=0.00621722846441948**3\n",
        "    #R_sph=(3*vol*calibration/(4*np.pi))**(1/3)\n",
        "    R_sph=(3*vol/(4*np.pi))**(1/3)\n",
        "    return R_sph\n",
        "\n",
        "def calc_dB(Ps):\n",
        "    \"\"\"\n",
        "    Calculate the deci Bell (dB) value for each acoustic pressure Ps.\n",
        "\n",
        "    Input parameters\n",
        "    ----------\n",
        "    Ps:     aplitude of the acoustic pressure\n",
        "\n",
        "    Returns\n",
        "    -------\n",
        "    dB value. []\n",
        "\n",
        "    \"\"\"\n",
        "    Po=2*10**(-5) #[Pa]\n",
        "\n",
        "    return 20*np.log10(Ps/Po)     #Acoustic pressure [Pa]\n",
        "\n",
        "def model_fit(th, Ps):\n",
        "    \"\"\"\n",
        "    Express the model that will be used to fit the experimental data (simple approach).\n",
        "\n",
        "    Input parameters\n",
        "    ----------\n",
        "    dB:     deciBell\n",
        "    th:     angle theta\n",
        "    Returns\n",
        "    -------\n",
        "    Expression of fitting model.\n",
        "\n",
        "    \"\"\"\n",
        "#    Ps=calc_ampl(dB)\n",
        "    ct_new=-((3/(64*gamma))*R_sph**2*Ps**2*Cg_air*(1+((7/5)*(k_o*R_sph)**2)))\n",
        "    return ct_new*(3*(np.cos(th))**2-1)+R_sph\n",
        "\n",
        "\n",
        "def R_predict(th, gamma, R_sph, Ps, Cg_air, k_o):\n",
        "    \"\"\"\n",
        "    Prediction of ST. \n",
        "    After the acoustic pressure is determined. The ST is calculated based on the equation of our model. \n",
        "    \n",
        "    \n",
        "    Input parameters\n",
        "    ----------\n",
        "    th:     angle theta\n",
        "    gamma:  ST as initial predition [mN/m]\n",
        "    Power:  U*I [Watt]\n",
        "    Returns\n",
        "    -------\n",
        "    gamma:   predicted surface tension [mN/m]\n",
        "\n",
        "    \"\"\"    \n",
        "#    Ps=data_Ps[i-1]    #[Pa]\n",
        "    ct_new=-((3/(64*gamma))*R_sph**2*Ps**2*Cg_air*(1+((7/5)*(k_o*R_sph)**2)))*(3*(np.cos(th))**2-1)\n",
        "    return ct_new+R_sph\n",
        "\n",
        "def ST_predict(th, gamma, R_sph, Ps, Cg_air, k_o):\n",
        "    \"\"\"\n",
        "    Prediction of ST. \n",
        "    After the acoustic pressure is determined. The ST is calculated based on the equation of our model. \n",
        "    \n",
        "    \n",
        "    Input parameters\n",
        "    ----------\n",
        "    th:     angle theta\n",
        "    gamma:  ST as initial predition [mN/m]\n",
        "    Power:  U*I [Watt]\n",
        "    Returns\n",
        "    -------\n",
        "    gamma:   predicted surface tension [mN/m]\n",
        "\n",
        "    \"\"\"    \n",
        "#    Ps=data_Ps[i-1]    #[Pa]\n",
        "    ct_new=-((3/(64*gamma))*R_sph**2*Ps**2*Cg_air*(1+((7/5)*(k_o*R_sph)**2)))*(3*(np.cos(th))**2-1)\n",
        "    return ct_new+R_sph\n",
        "\n",
        "\n",
        "def azimuth(phi):\n",
        "    \"\"\"\n",
        "    Calculate the azimuthal angle.\n",
        "\n",
        "    Input parameters\n",
        "    ----------\n",
        "    phi:     angle phi\n",
        "\n",
        "    Returns\n",
        "    -------\n",
        "    Azimuthal angle.\n",
        "\n",
        "    \"\"\"\n",
        "\n",
        "    a=np.arctan2(x, y)\n",
        "    return a\n",
        "\n",
        "\n",
        "def cart2pol(x, y):\n",
        "    rho = np.sqrt(x**2 + y**2)\n",
        "    theta = np.arctan2(y, x)\n",
        "    return(theta, rho)\n",
        "\n",
        "def pol2cart(rho, phi):\n",
        "    x = rho * np.cos(phi)\n",
        "    y = rho * np.sin(phi)\n",
        "    return(x, y)\n",
        "\n",
        "\n",
        "def pol2cart_theta(rho, theta):\n",
        "    x = rho * np.sin(theta)\n",
        "    y = rho * np.cos(theta)\n",
        "    return(x, y)"
      ],
      "execution_count": 2,
      "outputs": [
        {
          "output_type": "stream",
          "name": "stdout",
          "text": [
            "WARNING:tensorflow:From /usr/local/lib/python3.7/dist-packages/tensorflow/python/compat/v2_compat.py:101: disable_resource_variables (from tensorflow.python.ops.variable_scope) is deprecated and will be removed in a future version.\n",
            "Instructions for updating:\n",
            "non-resource variables are not supported in the long term\n",
            "2.6.0\n",
            "Num GPUs Available:  0\n"
          ]
        }
      ]
    },
    {
      "cell_type": "markdown",
      "metadata": {
        "id": "TvCBPgR-gWXl"
      },
      "source": [
        "Run the next code box only if google drive is not mounted to colab"
      ]
    },
    {
      "cell_type": "code",
      "metadata": {
        "id": "7dA-joJRPNiJ",
        "colab": {
          "base_uri": "https://localhost:8080/"
        },
        "outputId": "ef72cf6b-148d-46e7-f147-ef43f39dc291"
      },
      "source": [
        "from google.colab import drive\n",
        "drive.mount('/content/drive')"
      ],
      "execution_count": 3,
      "outputs": [
        {
          "output_type": "stream",
          "name": "stdout",
          "text": [
            "Mounted at /content/drive\n"
          ]
        }
      ]
    },
    {
      "cell_type": "markdown",
      "metadata": {
        "id": "lMshRx3PgwcZ"
      },
      "source": [
        "If it **is** mounted continue from here on"
      ]
    },
    {
      "cell_type": "code",
      "metadata": {
        "id": "3IEVK-KFxi5Z",
        "colab": {
          "base_uri": "https://localhost:8080/",
          "height": 33
        },
        "outputId": "ba33ea5d-b33e-4183-8c24-d14ed082a120"
      },
      "source": [
        "if 'COLAB_TPU_ADDR' not in os.environ:\n",
        "  print('ERROR: Not connected to a TPU runtime; please see the first cell in this notebook for instructions!')\n",
        "else:\n",
        "  tpu_address = 'grpc://' + os.environ['COLAB_TPU_ADDR']\n",
        "  print ('TPU address is', tpu_address)\n",
        "\n",
        "  with tf.Session(tpu_address) as session:\n",
        "    devices = session.list_devices()\n",
        "    \n",
        "  print('TPU devices:')\n",
        "  pprint.pprint(devices)"
      ],
      "execution_count": null,
      "outputs": [
        {
          "output_type": "stream",
          "text": [
            "ERROR: Not connected to a TPU runtime; please see the first cell in this notebook for instructions!\n"
          ],
          "name": "stdout"
        }
      ]
    },
    {
      "cell_type": "markdown",
      "metadata": {
        "id": "gFh9ne3FZ-On"
      },
      "source": [
        "### Get the data\n",
        "First download the dataset!\n",
        "\n",
        "**Option 1**: Upload files"
      ]
    },
    {
      "cell_type": "code",
      "metadata": {
        "id": "K7-5GSURZTdh"
      },
      "source": [
        "from google.colab import files\n",
        "uploaded = files.upload()"
      ],
      "execution_count": null,
      "outputs": []
    },
    {
      "cell_type": "code",
      "metadata": {
        "id": "l83INVYlZsND"
      },
      "source": [
        "import io\n",
        "csvfilename=str('TritonX100_conci_0.0100_all.csv')\n",
        "input = pd.read_csv(io.BytesIO(uploaded[csvfilename]))\n",
        "#input = pd.read_csv(csvfilename, sep=\"\\t\")\n",
        "# Dataset is now stored in a Pandas Dataframe\n",
        "input.shape"
      ],
      "execution_count": null,
      "outputs": []
    },
    {
      "cell_type": "markdown",
      "metadata": {
        "id": "WCobdL9vDRXH"
      },
      "source": [
        "**Option 2**: Import files from drive"
      ]
    },
    {
      "cell_type": "code",
      "metadata": {
        "id": "Z-NFT5ddEOdC",
        "colab": {
          "base_uri": "https://localhost:8080/",
          "height": 33
        },
        "outputId": "7b68735f-3205-497b-e838-d8a0643b6b47"
      },
      "source": [
        "#From the drive folder that is mounted to collab go to the file that you are interested in, \n",
        "#right click and copy the path of the file. Paste it in csvfilename:\n",
        "import numpy as np\n",
        "file1=pd.read_csv(str('/content/drive/My Drive/DropLev/Theory_simple_model/volatile_solvents/MLtheory_ST_20.00_Ps_2882.0.csv'), sep=\"\\t\")\n",
        "file2=pd.read_csv(str('/content/drive/My Drive/DropLev/Theory_simple_model/volatile_solvents/MLtheory_ST_22.00_Ps_2882.0.csv'), sep=\"\\t\")\n",
        "file3=pd.read_csv(str('/content/drive/My Drive/DropLev/Theory_simple_model/volatile_solvents/MLtheory_ST_25.00_Ps_2882.0.csv'), sep=\"\\t\")\n",
        "file4=pd.read_csv(str('/content/drive/My Drive/DropLev/Theory_simple_model/volatile_solvents/MLtheory_ST_27.00_Ps_2882.0.csv'), sep=\"\\t\")\n",
        "file5=pd.read_csv(str('/content/drive/My Drive/DropLev/Theory_simple_model/volatile_solvents/MLtheory_ST_30.00_Ps_2882.0.csv'), sep=\"\\t\")\n",
        "file6=pd.read_csv(str('/content/drive/My Drive/DropLev/Theory_simple_model/volatile_solvents/MLtheory_ST_32.00_Ps_2882.0.csv'), sep=\"\\t\")\n",
        "file7=pd.read_csv(str('/content/drive/My Drive/DropLev/Theory_simple_model/volatile_solvents/MLtheory_ST_35.00_Ps_2882.0.csv'), sep=\"\\t\")\n",
        "file8=pd.read_csv(str('/content/drive/My Drive/DropLev/Theory_simple_model/volatile_solvents/MLtheory_ST_40.00_Ps_2882.0.csv'), sep=\"\\t\")\n",
        "file9=pd.read_csv(str('/content/drive/My Drive/DropLev/Theory_simple_model/volatile_solvents/MLtheory_ST_45.00_Ps_2882.0.csv'), sep=\"\\t\")\n",
        "file10=pd.read_csv(str('/content/drive/My Drive/DropLev/Theory_simple_model/volatile_solvents/MLtheory_ST_50.00_Ps_2882.0.csv'), sep=\"\\t\")\n",
        "file11=pd.read_csv(str('/content/drive/My Drive/DropLev/Theory_simple_model/volatile_solvents/MLtheory_ST_55.00_Ps_2882.0.csv'), sep=\"\\t\")\n",
        "file12=pd.read_csv(str('/content/drive/My Drive/DropLev/Theory_simple_model/volatile_solvents/MLtheory_ST_60.00_Ps_2882.0.csv'), sep=\"\\t\")\n",
        "file13=pd.read_csv(str('/content/drive/My Drive/DropLev/Theory_simple_model/volatile_solvents/MLtheory_ST_65.00_Ps_2882.0.csv'), sep=\"\\t\")\n",
        "file14=pd.read_csv(str('/content/drive/My Drive/DropLev/Theory_simple_model/volatile_solvents/MLtheory_ST_70.00_Ps_2882.0.csv'), sep=\"\\t\")\n",
        "file15=pd.read_csv(str('/content/drive/My Drive/DropLev/Theory_simple_model/volatile_solvents/MLtheory_ST_72.00_Ps_2882.0.csv'), sep=\"\\t\")\n",
        "file16=pd.read_csv(str('/content/drive/My Drive/DropLev/Theory_simple_model/non_volatile_solvents/MLtheory_ST_20.00_Rsph_0.54.csv'), sep=\"\\t\")\n",
        "file17=pd.read_csv(str('/content/drive/My Drive/DropLev/Theory_simple_model/non_volatile_solvents/MLtheory_ST_22.00_Rsph_0.67.csv'), sep=\"\\t\")\n",
        "file18=pd.read_csv(str('/content/drive/My Drive/DropLev/Theory_simple_model/non_volatile_solvents/MLtheory_ST_25.00_Rsph_0.59.csv'), sep=\"\\t\")\n",
        "file19=pd.read_csv(str('/content/drive/My Drive/DropLev/Theory_simple_model/non_volatile_solvents/MLtheory_ST_25.00_Rsph_0.67.csv'), sep=\"\\t\")\n",
        "file20=pd.read_csv(str('/content/drive/My Drive/DropLev/Theory_simple_model/non_volatile_solvents/MLtheory_ST_30.00_Rsph_0.67.csv'), sep=\"\\t\")\n",
        "file21=pd.read_csv(str('/content/drive/My Drive/DropLev/Theory_simple_model/non_volatile_solvents/MLtheory_ST_35.00_Rsph_0.67.csv'), sep=\"\\t\")\n",
        "file22=pd.read_csv(str('/content/drive/My Drive/DropLev/Theory_simple_model/non_volatile_solvents/MLtheory_ST_40.00_Rsph_0.80.csv'), sep=\"\\t\")\n",
        "file23=pd.read_csv(str('/content/drive/My Drive/DropLev/Theory_simple_model/non_volatile_solvents/MLtheory_ST_45.00_Rsph_0.94.csv'), sep=\"\\t\")\n",
        "file24=pd.read_csv(str('/content/drive/My Drive/DropLev/Theory_simple_model/non_volatile_solvents/MLtheory_ST_50.00_Rsph_1.07.csv'), sep=\"\\t\")\n",
        "file25=pd.read_csv(str('/content/drive/My Drive/DropLev/Theory_simple_model/non_volatile_solvents/MLtheory_ST_55.00_Rsph_1.21.csv'), sep=\"\\t\")\n",
        "file26=pd.read_csv(str('/content/drive/My Drive/DropLev/Theory_simple_model/non_volatile_solvents/MLtheory_ST_60.00_Rsph_1.34.csv'), sep=\"\\t\")\n",
        "file27=pd.read_csv(str('/content/drive/My Drive/DropLev/Theory_simple_model/non_volatile_solvents/MLtheory_ST_65.00_Rsph_1.45.csv'), sep=\"\\t\")\n",
        "file28=pd.read_csv(str('/content/drive/My Drive/DropLev/Theory_simple_model/non_volatile_solvents/MLtheory_ST_65.00_Rsph_1.47.csv'), sep=\"\\t\")\n",
        "file29=pd.read_csv(str('/content/drive/My Drive/DropLev/Theory_simple_model/non_volatile_solvents/MLtheory_ST_70.00_Rsph_1.61.csv'), sep=\"\\t\")\n",
        "file30=pd.read_csv(str('/content/drive/My Drive/DropLev/Theory_simple_model/non_volatile_solvents/MLtheory_ST_72.00_Rsph_1.61.csv'), sep=\"\\t\")\n",
        "\n",
        "#input=np.vstack([file1, file2, file3, file4, file5, file6, file7, file8, file9, file10, file11, file12, file13, file14, file15])\n",
        "#input=np.vstack([file16, file17, file18, file19, file20, file21, file22, file23, file24, file25, file26, file27, file28, file29, file30])\n",
        "input=np.vstack([file1, file2, file16])\n",
        "input.shape\n",
        "#csvfilename=str('/content/drive/My Drive/DropLev/Levitator_2/Training/SDS/SDS_conci_1.50000_ML_data.csv')\n",
        "\n",
        "#input = pd.read_csv(csvfilename)\n"
      ],
      "execution_count": null,
      "outputs": [
        {
          "output_type": "execute_result",
          "data": {
            "text/plain": [
              "(297, 304)"
            ]
          },
          "metadata": {
            "tags": []
          },
          "execution_count": 281
        }
      ]
    },
    {
      "cell_type": "markdown",
      "metadata": {
        "id": "0dQzS1gV1jC1"
      },
      "source": [
        "**Option 3**: Generate the data"
      ]
    },
    {
      "cell_type": "markdown",
      "metadata": {
        "id": "lsGCO8nDUAlJ"
      },
      "source": [
        "Generate random angle:\n",
        "20 000 sets of 200 points"
      ]
    },
    {
      "cell_type": "code",
      "metadata": {
        "id": "k2AMjiCZT_5m",
        "colab": {
          "base_uri": "https://localhost:8080/",
          "height": 1000
        },
        "outputId": "94fa4f72-754b-453c-d511-248bea0dd5f4"
      },
      "source": [
        "def gen_data(num_sample,sampling):\n",
        "\n",
        "    np.random.seed(1234)\n",
        "\n",
        "    #test=np.arange(100)\n",
        "    #test_r=np.random.choice(test,10)\n",
        "\n",
        "    vol_drop=np.random.random(num_sample)*(5-0.5)+0.5 # in µL\n",
        "    calibration=1 #0.0060567117466506235e-3 #mm/pixel\n",
        "  \n",
        "    #gamma=72.8 #[mN/m]   \n",
        "    Cg_air=1/101325 #Pa**(-1)\n",
        "    k_o=2*np.pi*40/343  #wave number in the air in [mm^-1]. frequency 40kHz (25kH=0.000040sec) and speed of sound in air v=343 m/s from paper (331.5 for 20oC online) \n",
        "    #Calibration\n",
        "    Ps= np.random.random(num_sample)*(4000-2000)+2000  #[Pa]\n",
        "    R_sph=calc_R_sph(vol_drop, calibration)\n",
        "\n",
        "    # print(\"Radius in mm: \", R_sph)\n",
        "    \n",
        "    #num_sample=200  #ST\n",
        "    #sampling=200\n",
        "\n",
        "    #theta=np.linspace(0,2*np.pi, 100)\n",
        "\n",
        "    #theta=np.random.random(200)*2*np.pi\n",
        "    theta=np.random.rand(num_sample, sampling)*2*np.pi\n",
        "    theta.sort()\n",
        "    ST_range=np.random.random(num_sample)*(75-25)+25\n",
        "    # print(theta.shape)\n",
        "    r_all=np.empty([0,sampling])\n",
        "    # print(r_all.shape)\n",
        "\n",
        "    if type(R_sph)==float and type(Ps)==float:\n",
        "      for i in range(num_sample):\n",
        "        r=R_predict(theta[i], ST_range[i], R_sph, Ps, Cg_air, k_o)\n",
        "        r_all=np.vstack((r_all, r))\n",
        "      \n",
        "      if i % 1000 == 0:\n",
        "        print(i)\n",
        "    elif type(R_sph)==float and type(Ps)!=float:\n",
        "      for i in range(num_sample):\n",
        "        r=R_predict(theta[i], ST_range[i], R_sph, Ps[i], Cg_air, k_o)\n",
        "        r_all=np.vstack((r_all, r))\n",
        "        \n",
        "      if i % 1000 == 0:\n",
        "        print(i)\n",
        "    elif type(R_sph)!=float and type(Ps)==float:\n",
        "      for i in range(num_sample):\n",
        "        r=R_predict(theta[i], ST_range[i], R_sph[i], Ps, Cg_air, k_o)\n",
        "        r_all=np.vstack((r_all, r))\n",
        "      \n",
        "      if i % 1000 == 0:\n",
        "        print(i)\n",
        "    elif type(R_sph)!=float and type(Ps)!=float:\n",
        "      for i in range(num_sample):\n",
        "        r=R_predict(theta[i], ST_range[i], R_sph[i], Ps[i], Cg_air, k_o)\n",
        "          #print(r.shape)\n",
        "          #print(r)\n",
        "        r_all=np.vstack((r_all, r))\n",
        "\n",
        "    dataset=np.hstack((theta,r_all, vol_drop.reshape([num_sample,1]), Ps.reshape([num_sample,1]), ST_range.reshape([num_sample,1])))\n",
        "    print(dataset.shape)\n",
        "\n",
        "    if i % 1000 == 0:\n",
        "      print(i)\n",
        "        \n",
        "\n",
        "    # print(r_all.shape)\n",
        "\n",
        "    #print(ST_range)\n",
        "    print(ST_range.min())\n",
        "    print(ST_range.max())\n",
        "    #sns.set(color_codes=True)\n",
        "    plt.figure()\n",
        "    sns.distplot(ST_range)\n",
        "    plt.xlabel('Surface tension (mN/m)')\n",
        "\n",
        "    if type(vol_drop) != float:\n",
        "      plt.figure()\n",
        "      sns.distplot(vol_drop)\n",
        "      plt.xlabel('Volume (μL)')\n",
        "\n",
        "    if type(Ps) != float:\n",
        "      plt.figure()\n",
        "      sns.distplot(Ps)\n",
        "      plt.xlabel('Acoustic pressure (Pa)')\n",
        "\n",
        "    fig3 = plt.figure()\n",
        "    plt.xlabel('Cartesian y-axis (mm)')\n",
        "    plt.ylabel('Cartesian z-axis (mm)')\n",
        "    ax = plt.gca()\n",
        "    ax.set_aspect(1)\n",
        "    ax.set_xlim([-1.5,1.5])\n",
        "    ax.set_ylim([-1.5,1.5])\n",
        "\n",
        "    for j in dataset:\n",
        "      x,y=pol2cart_theta(j[sampling:sampling+sampling], j[0:sampling])\n",
        "    #  print(x.shape)\n",
        "    #  print(y.shape)\n",
        "      plt.plot(x,y)\n",
        "    plt.show()\n",
        "\n",
        "\n",
        "    return dataset\n",
        "\n",
        "num_sample=100000  # number of different ST values\n",
        "sampling=175 # number of coordiante point describing the contour\n",
        "\n",
        "\n",
        "dataset=gen_data(num_sample,sampling)\n",
        "\n",
        "\n",
        "column_names=[]\n",
        "for i in range(sampling):\n",
        "  column_names.append('theta')\n",
        "for i in range(sampling):\n",
        "  column_names.append('rho')\n",
        "column_names.append('vol')\n",
        "column_names.append('Ps')\n",
        "column_names.append('ST')\n",
        "\n",
        "\n",
        "raw_dataset = pd.DataFrame(dataset, columns=column_names)\n",
        "\n",
        "raw_dataset.to_csv('./dataset.csv',index=False)\n"
      ],
      "execution_count": 172,
      "outputs": [
        {
          "output_type": "stream",
          "name": "stdout",
          "text": [
            "(100000, 353)\n",
            "25.000713275495734\n",
            "74.999819526924\n"
          ]
        },
        {
          "output_type": "stream",
          "name": "stderr",
          "text": [
            "/usr/local/lib/python3.7/dist-packages/seaborn/distributions.py:2619: FutureWarning: `distplot` is a deprecated function and will be removed in a future version. Please adapt your code to use either `displot` (a figure-level function with similar flexibility) or `histplot` (an axes-level function for histograms).\n",
            "  warnings.warn(msg, FutureWarning)\n",
            "/usr/local/lib/python3.7/dist-packages/seaborn/distributions.py:2619: FutureWarning: `distplot` is a deprecated function and will be removed in a future version. Please adapt your code to use either `displot` (a figure-level function with similar flexibility) or `histplot` (an axes-level function for histograms).\n",
            "  warnings.warn(msg, FutureWarning)\n",
            "/usr/local/lib/python3.7/dist-packages/seaborn/distributions.py:2619: FutureWarning: `distplot` is a deprecated function and will be removed in a future version. Please adapt your code to use either `displot` (a figure-level function with similar flexibility) or `histplot` (an axes-level function for histograms).\n",
            "  warnings.warn(msg, FutureWarning)\n"
          ]
        },
        {
          "output_type": "display_data",
          "data": {
            "image/png": "[encoded data removed]",
            "text/plain": [
              "<Figure size 432x288 with 1 Axes>"
            ]
          },
          "metadata": {
            "needs_background": "light"
          }
        },
        {
          "output_type": "display_data",
          "data": {
            "image/png": "[encoded data removed]",
            "text/plain": [
              "<Figure size 432x288 with 1 Axes>"
            ]
          },
          "metadata": {
            "needs_background": "light"
          }
        },
        {
          "output_type": "display_data",
          "data": {
            "image/png": "[encoded data removed]",
            "text/plain": [
              "<Figure size 432x288 with 1 Axes>"
            ]
          },
          "metadata": {
            "needs_background": "light"
          }
        },
        {
          "output_type": "display_data",
          "data": {
            "image/png": "[encoded data removed]",
            "text/plain": [
              "<Figure size 432x288 with 1 Axes>"
            ]
          },
          "metadata": {
            "needs_background": "light"
          }
        }
      ]
    },
    {
      "cell_type": "code",
      "metadata": {
        "id": "h4eDSfaT8tNi"
      },
      "source": [
        "# dataset = raw_dataset.copy()\n",
        "\n",
        "# dataset.tail()\n"
      ],
      "execution_count": 7,
      "outputs": []
    },
    {
      "cell_type": "code",
      "metadata": {
        "id": "CLXi05SX5UHR"
      },
      "source": [
        "AR=[]\n",
        "width=[]\n",
        "# plt.figure()\n",
        "for j in range(num_sample):\n",
        "  x,y=pol2cart_theta(np.asarray(raw_dataset.iloc[j, sampling:sampling+sampling]), np.asarray(raw_dataset.iloc[j, 0:sampling]))\n",
        "  # plt.plot(x, y)\n",
        "  # plt.plot(max(x), 0, 'ko')\n",
        "  # plt.plot(min(x), 0, 'ko')\n",
        "  # plt.plot(max(y), 'ko')\n",
        "  # plt.plot(min(y), 'ko')\n",
        "    # print(x)\n",
        "  AR.append(abs(max(y)-min(y))/abs(max(x)-min(x)))\n",
        "  width.append(max(x)-min(x))\n",
        "\n",
        "AR=np.asarray(AR)\n",
        "width=np.asarray(width)\n",
        "# raw_dataset['AR']=AR"
      ],
      "execution_count": null,
      "outputs": []
    },
    {
      "cell_type": "markdown",
      "metadata": {
        "id": "l_mOUIChDhDB"
      },
      "source": [
        "Conditions"
      ]
    },
    {
      "cell_type": "code",
      "metadata": {
        "id": "62WZnE_f3TW7",
        "outputId": "43ad99f7-d33d-41b3-bff0-03c6e2029b88",
        "colab": {
          "base_uri": "https://localhost:8080/",
          "height": 1000
        }
      },
      "source": [
        "# radius < 1/10 of operating wavelegth 40 kHz\n",
        "\n",
        "wavelength_lim = 343 / 40 # [mm] \n",
        "radius=width/2\n",
        "\n",
        "raw_dataset['radius']=radius\n",
        "\n",
        "plt.figure()\n",
        "plt.plot(radius, label='In silico data')\n",
        "plt.plot(range(len(raw_dataset)), np.repeat(wavelength_lim*0.1, len(raw_dataset)), 'r', label='Wavelength limit')\n",
        "plt.xlabel('Instance')\n",
        "plt.ylabel('Radius (mm)')\n",
        "plt.legend()\n",
        "\n",
        "pre_rslt_dataset= raw_dataset[raw_dataset['radius'] < wavelength_lim*0.1]\n",
        "\n",
        "plt.figure()\n",
        "plt.plot(pre_rslt_dataset.radius, label='In silico data')\n",
        "plt.plot(range(len(raw_dataset)), np.repeat(wavelength_lim*0.1, len(raw_dataset)), 'r', label='Wavelength limit')\n",
        "plt.xlabel('Instance')\n",
        "plt.ylabel('Radius (mm)')\n",
        "plt.legend()\n",
        "\n",
        "# Capillary length check\n",
        "\n",
        "lambda_c=np.sqrt(pre_rslt_dataset.ST/9.81)\n",
        "volume_c=(4/3)*np.pi*(lambda_c/2)**3\n",
        "\n",
        "rslt_dataset= pre_rslt_dataset[pre_rslt_dataset['vol'] <= volume_c*0.7]\n",
        "\n",
        "plt.figure()\n",
        "plt.plot(pre_rslt_dataset.ST, volume_c)\n",
        "plt.plot(pre_rslt_dataset.ST, pre_rslt_dataset.vol)\n",
        "plt.xlabel('Surface tension (mN/m)')\n",
        "plt.ylabel('Volume (μL)')\n",
        "\n",
        "plt.figure()\n",
        "plt.plot(pre_rslt_dataset.ST, volume_c)\n",
        "plt.plot(rslt_dataset.ST, rslt_dataset.vol)\n",
        "plt.xlabel('Surface tension (mN/m)')\n",
        "plt.ylabel('Volume (μL)')"
      ],
      "execution_count": 175,
      "outputs": [
        {
          "output_type": "execute_result",
          "data": {
            "text/plain": [
              "Text(0, 0.5, 'Volume (μL)')"
            ]
          },
          "metadata": {},
          "execution_count": 175
        },
        {
          "output_type": "display_data",
          "data": {
            "image/png": "[encoded data removed]",
            "text/plain": [
              "<Figure size 432x288 with 1 Axes>"
            ]
          },
          "metadata": {
            "needs_background": "light"
          }
        },
        {
          "output_type": "display_data",
          "data": {
            "image/png": "[encoded data removed]",
            "text/plain": [
              "<Figure size 432x288 with 1 Axes>"
            ]
          },
          "metadata": {
            "needs_background": "light"
          }
        },
        {
          "output_type": "display_data",
          "data": {
            "image/png": "[encoded data removed]",
            "text/plain": [
              "<Figure size 432x288 with 1 Axes>"
            ]
          },
          "metadata": {
            "needs_background": "light"
          }
        },
        {
          "output_type": "display_data",
          "data": {
            "image/png": "[encoded data removed]",
            "text/plain": [
              "<Figure size 432x288 with 1 Axes>"
            ]
          },
          "metadata": {
            "needs_background": "light"
          }
        }
      ]
    },
    {
      "cell_type": "code",
      "metadata": {
        "id": "o0-aC3nOMpIp",
        "outputId": "9fe0c817-0da2-4189-fe7d-5cb4345a29c9",
        "colab": {
          "base_uri": "https://localhost:8080/",
          "height": 256
        }
      },
      "source": [
        "# dataset=rslt_dataset.copy()\n",
        "\n",
        "dataset=rslt_dataset.reset_index(drop=True)\n",
        "\n",
        "dataset.tail()"
      ],
      "execution_count": 176,
      "outputs": [
        {
          "output_type": "execute_result",
          "data": {
            "text/html": [
              "<div>\n",
              "<style scoped>\n",
              "    .dataframe tbody tr th:only-of-type {\n",
              "        vertical-align: middle;\n",
              "    }\n",
              "\n",
              "    .dataframe tbody tr th {\n",
              "        vertical-align: top;\n",
              "    }\n",
              "\n",
              "    .dataframe thead th {\n",
              "        text-align: right;\n",
              "    }\n",
              "</style>\n",
              "<table border=\"1\" class=\"dataframe\">\n",
              "  <thead>\n",
              "    <tr style=\"text-align: right;\">\n",
              "      <th></th>\n",
              "      <th>theta</th>\n",
              "      <th>theta</th>\n",
              "      <th>theta</th>\n",
              "      <th>theta</th>\n",
              "      <th>theta</th>\n",
              "      <th>theta</th>\n",
              "      <th>theta</th>\n",
              "      <th>theta</th>\n",
              "      <th>theta</th>\n",
              "      <th>theta</th>\n",
              "      <th>theta</th>\n",
              "      <th>theta</th>\n",
              "      <th>theta</th>\n",
              "      <th>theta</th>\n",
              "      <th>theta</th>\n",
              "      <th>theta</th>\n",
              "      <th>theta</th>\n",
              "      <th>theta</th>\n",
              "      <th>theta</th>\n",
              "      <th>theta</th>\n",
              "      <th>theta</th>\n",
              "      <th>theta</th>\n",
              "      <th>theta</th>\n",
              "      <th>theta</th>\n",
              "      <th>theta</th>\n",
              "      <th>theta</th>\n",
              "      <th>theta</th>\n",
              "      <th>theta</th>\n",
              "      <th>theta</th>\n",
              "      <th>theta</th>\n",
              "      <th>theta</th>\n",
              "      <th>theta</th>\n",
              "      <th>theta</th>\n",
              "      <th>theta</th>\n",
              "      <th>theta</th>\n",
              "      <th>theta</th>\n",
              "      <th>theta</th>\n",
              "      <th>theta</th>\n",
              "      <th>theta</th>\n",
              "      <th>theta</th>\n",
              "      <th>...</th>\n",
              "      <th>rho</th>\n",
              "      <th>rho</th>\n",
              "      <th>rho</th>\n",
              "      <th>rho</th>\n",
              "      <th>rho</th>\n",
              "      <th>rho</th>\n",
              "      <th>rho</th>\n",
              "      <th>rho</th>\n",
              "      <th>rho</th>\n",
              "      <th>rho</th>\n",
              "      <th>rho</th>\n",
              "      <th>rho</th>\n",
              "      <th>rho</th>\n",
              "      <th>rho</th>\n",
              "      <th>rho</th>\n",
              "      <th>rho</th>\n",
              "      <th>rho</th>\n",
              "      <th>rho</th>\n",
              "      <th>rho</th>\n",
              "      <th>rho</th>\n",
              "      <th>rho</th>\n",
              "      <th>rho</th>\n",
              "      <th>rho</th>\n",
              "      <th>rho</th>\n",
              "      <th>rho</th>\n",
              "      <th>rho</th>\n",
              "      <th>rho</th>\n",
              "      <th>rho</th>\n",
              "      <th>rho</th>\n",
              "      <th>rho</th>\n",
              "      <th>rho</th>\n",
              "      <th>rho</th>\n",
              "      <th>rho</th>\n",
              "      <th>rho</th>\n",
              "      <th>rho</th>\n",
              "      <th>rho</th>\n",
              "      <th>vol</th>\n",
              "      <th>Ps</th>\n",
              "      <th>ST</th>\n",
              "      <th>radius</th>\n",
              "    </tr>\n",
              "  </thead>\n",
              "  <tbody>\n",
              "    <tr>\n",
              "      <th>32730</th>\n",
              "      <td>0.006487</td>\n",
              "      <td>0.013789</td>\n",
              "      <td>0.096540</td>\n",
              "      <td>0.118458</td>\n",
              "      <td>0.145448</td>\n",
              "      <td>0.197635</td>\n",
              "      <td>0.209709</td>\n",
              "      <td>0.211336</td>\n",
              "      <td>0.294112</td>\n",
              "      <td>0.312237</td>\n",
              "      <td>0.314474</td>\n",
              "      <td>0.361506</td>\n",
              "      <td>0.407719</td>\n",
              "      <td>0.425246</td>\n",
              "      <td>0.432425</td>\n",
              "      <td>0.451144</td>\n",
              "      <td>0.496884</td>\n",
              "      <td>0.542109</td>\n",
              "      <td>0.580073</td>\n",
              "      <td>0.596835</td>\n",
              "      <td>0.626861</td>\n",
              "      <td>0.635348</td>\n",
              "      <td>0.651380</td>\n",
              "      <td>0.654429</td>\n",
              "      <td>0.721168</td>\n",
              "      <td>0.749543</td>\n",
              "      <td>0.875773</td>\n",
              "      <td>0.905534</td>\n",
              "      <td>0.948502</td>\n",
              "      <td>0.951854</td>\n",
              "      <td>0.952445</td>\n",
              "      <td>1.088275</td>\n",
              "      <td>1.092440</td>\n",
              "      <td>1.101080</td>\n",
              "      <td>1.124383</td>\n",
              "      <td>1.146525</td>\n",
              "      <td>1.179150</td>\n",
              "      <td>1.209487</td>\n",
              "      <td>1.213652</td>\n",
              "      <td>1.221126</td>\n",
              "      <td>...</td>\n",
              "      <td>0.749393</td>\n",
              "      <td>0.746641</td>\n",
              "      <td>0.745598</td>\n",
              "      <td>0.741828</td>\n",
              "      <td>0.741669</td>\n",
              "      <td>0.739983</td>\n",
              "      <td>0.737304</td>\n",
              "      <td>0.730654</td>\n",
              "      <td>0.725359</td>\n",
              "      <td>0.722970</td>\n",
              "      <td>0.717507</td>\n",
              "      <td>0.715213</td>\n",
              "      <td>0.708094</td>\n",
              "      <td>0.690912</td>\n",
              "      <td>0.685095</td>\n",
              "      <td>0.672913</td>\n",
              "      <td>0.672212</td>\n",
              "      <td>0.659331</td>\n",
              "      <td>0.646569</td>\n",
              "      <td>0.631803</td>\n",
              "      <td>0.631495</td>\n",
              "      <td>0.628988</td>\n",
              "      <td>0.624361</td>\n",
              "      <td>0.615131</td>\n",
              "      <td>0.600825</td>\n",
              "      <td>0.597082</td>\n",
              "      <td>0.592689</td>\n",
              "      <td>0.586349</td>\n",
              "      <td>0.582141</td>\n",
              "      <td>0.576609</td>\n",
              "      <td>0.574285</td>\n",
              "      <td>0.569300</td>\n",
              "      <td>0.568373</td>\n",
              "      <td>0.566952</td>\n",
              "      <td>0.562400</td>\n",
              "      <td>0.559712</td>\n",
              "      <td>1.390654</td>\n",
              "      <td>3749.089314</td>\n",
              "      <td>63.829010</td>\n",
              "      <td>0.758761</td>\n",
              "    </tr>\n",
              "    <tr>\n",
              "      <th>32731</th>\n",
              "      <td>0.068471</td>\n",
              "      <td>0.085887</td>\n",
              "      <td>0.099550</td>\n",
              "      <td>0.153445</td>\n",
              "      <td>0.166885</td>\n",
              "      <td>0.195450</td>\n",
              "      <td>0.264388</td>\n",
              "      <td>0.264434</td>\n",
              "      <td>0.269350</td>\n",
              "      <td>0.308089</td>\n",
              "      <td>0.350209</td>\n",
              "      <td>0.451205</td>\n",
              "      <td>0.502740</td>\n",
              "      <td>0.574458</td>\n",
              "      <td>0.598399</td>\n",
              "      <td>0.639735</td>\n",
              "      <td>0.734410</td>\n",
              "      <td>0.745555</td>\n",
              "      <td>0.768413</td>\n",
              "      <td>0.882550</td>\n",
              "      <td>0.907725</td>\n",
              "      <td>0.919345</td>\n",
              "      <td>0.946506</td>\n",
              "      <td>1.087331</td>\n",
              "      <td>1.112475</td>\n",
              "      <td>1.128121</td>\n",
              "      <td>1.134863</td>\n",
              "      <td>1.201846</td>\n",
              "      <td>1.205422</td>\n",
              "      <td>1.207971</td>\n",
              "      <td>1.261706</td>\n",
              "      <td>1.284829</td>\n",
              "      <td>1.297017</td>\n",
              "      <td>1.325149</td>\n",
              "      <td>1.328764</td>\n",
              "      <td>1.351613</td>\n",
              "      <td>1.363330</td>\n",
              "      <td>1.388614</td>\n",
              "      <td>1.417844</td>\n",
              "      <td>1.480068</td>\n",
              "      <td>...</td>\n",
              "      <td>0.694232</td>\n",
              "      <td>0.690078</td>\n",
              "      <td>0.679743</td>\n",
              "      <td>0.669907</td>\n",
              "      <td>0.668947</td>\n",
              "      <td>0.658222</td>\n",
              "      <td>0.655646</td>\n",
              "      <td>0.649810</td>\n",
              "      <td>0.642104</td>\n",
              "      <td>0.639779</td>\n",
              "      <td>0.639706</td>\n",
              "      <td>0.636296</td>\n",
              "      <td>0.635741</td>\n",
              "      <td>0.624299</td>\n",
              "      <td>0.605541</td>\n",
              "      <td>0.600929</td>\n",
              "      <td>0.595496</td>\n",
              "      <td>0.589786</td>\n",
              "      <td>0.587450</td>\n",
              "      <td>0.575538</td>\n",
              "      <td>0.571922</td>\n",
              "      <td>0.570705</td>\n",
              "      <td>0.565409</td>\n",
              "      <td>0.563248</td>\n",
              "      <td>0.561173</td>\n",
              "      <td>0.556705</td>\n",
              "      <td>0.556108</td>\n",
              "      <td>0.553340</td>\n",
              "      <td>0.552308</td>\n",
              "      <td>0.552279</td>\n",
              "      <td>0.551799</td>\n",
              "      <td>0.551668</td>\n",
              "      <td>0.551573</td>\n",
              "      <td>0.551487</td>\n",
              "      <td>0.551206</td>\n",
              "      <td>0.550946</td>\n",
              "      <td>1.338031</td>\n",
              "      <td>3145.987369</td>\n",
              "      <td>43.558728</td>\n",
              "      <td>0.749662</td>\n",
              "    </tr>\n",
              "    <tr>\n",
              "      <th>32732</th>\n",
              "      <td>0.037698</td>\n",
              "      <td>0.050183</td>\n",
              "      <td>0.055444</td>\n",
              "      <td>0.085379</td>\n",
              "      <td>0.109360</td>\n",
              "      <td>0.129696</td>\n",
              "      <td>0.133292</td>\n",
              "      <td>0.159517</td>\n",
              "      <td>0.169687</td>\n",
              "      <td>0.201326</td>\n",
              "      <td>0.250331</td>\n",
              "      <td>0.257403</td>\n",
              "      <td>0.310883</td>\n",
              "      <td>0.321576</td>\n",
              "      <td>0.409425</td>\n",
              "      <td>0.467013</td>\n",
              "      <td>0.471607</td>\n",
              "      <td>0.505756</td>\n",
              "      <td>0.537209</td>\n",
              "      <td>0.550445</td>\n",
              "      <td>0.622642</td>\n",
              "      <td>0.627621</td>\n",
              "      <td>0.644662</td>\n",
              "      <td>0.696185</td>\n",
              "      <td>0.715006</td>\n",
              "      <td>0.719321</td>\n",
              "      <td>0.804004</td>\n",
              "      <td>0.869075</td>\n",
              "      <td>1.110849</td>\n",
              "      <td>1.173719</td>\n",
              "      <td>1.173865</td>\n",
              "      <td>1.217086</td>\n",
              "      <td>1.234788</td>\n",
              "      <td>1.247713</td>\n",
              "      <td>1.249322</td>\n",
              "      <td>1.414232</td>\n",
              "      <td>1.416469</td>\n",
              "      <td>1.541258</td>\n",
              "      <td>1.559936</td>\n",
              "      <td>1.598248</td>\n",
              "      <td>...</td>\n",
              "      <td>0.635649</td>\n",
              "      <td>0.635206</td>\n",
              "      <td>0.635004</td>\n",
              "      <td>0.633178</td>\n",
              "      <td>0.631594</td>\n",
              "      <td>0.631371</td>\n",
              "      <td>0.629307</td>\n",
              "      <td>0.621670</td>\n",
              "      <td>0.619467</td>\n",
              "      <td>0.619289</td>\n",
              "      <td>0.619205</td>\n",
              "      <td>0.617728</td>\n",
              "      <td>0.609083</td>\n",
              "      <td>0.607762</td>\n",
              "      <td>0.607745</td>\n",
              "      <td>0.607352</td>\n",
              "      <td>0.603033</td>\n",
              "      <td>0.591281</td>\n",
              "      <td>0.589602</td>\n",
              "      <td>0.588960</td>\n",
              "      <td>0.583698</td>\n",
              "      <td>0.583224</td>\n",
              "      <td>0.582712</td>\n",
              "      <td>0.581412</td>\n",
              "      <td>0.578493</td>\n",
              "      <td>0.575258</td>\n",
              "      <td>0.573108</td>\n",
              "      <td>0.569924</td>\n",
              "      <td>0.569122</td>\n",
              "      <td>0.568504</td>\n",
              "      <td>0.561260</td>\n",
              "      <td>0.559690</td>\n",
              "      <td>0.558252</td>\n",
              "      <td>0.558203</td>\n",
              "      <td>0.557723</td>\n",
              "      <td>0.557363</td>\n",
              "      <td>1.124949</td>\n",
              "      <td>3237.502199</td>\n",
              "      <td>60.181335</td>\n",
              "      <td>0.689177</td>\n",
              "    </tr>\n",
              "    <tr>\n",
              "      <th>32733</th>\n",
              "      <td>0.060400</td>\n",
              "      <td>0.083246</td>\n",
              "      <td>0.146191</td>\n",
              "      <td>0.193732</td>\n",
              "      <td>0.263857</td>\n",
              "      <td>0.271305</td>\n",
              "      <td>0.331212</td>\n",
              "      <td>0.418289</td>\n",
              "      <td>0.500070</td>\n",
              "      <td>0.500469</td>\n",
              "      <td>0.517763</td>\n",
              "      <td>0.536012</td>\n",
              "      <td>0.565684</td>\n",
              "      <td>0.621346</td>\n",
              "      <td>0.665213</td>\n",
              "      <td>0.701218</td>\n",
              "      <td>0.722469</td>\n",
              "      <td>0.728660</td>\n",
              "      <td>0.737273</td>\n",
              "      <td>0.795226</td>\n",
              "      <td>0.840539</td>\n",
              "      <td>0.841972</td>\n",
              "      <td>0.898024</td>\n",
              "      <td>0.906056</td>\n",
              "      <td>0.972212</td>\n",
              "      <td>1.067107</td>\n",
              "      <td>1.131710</td>\n",
              "      <td>1.136503</td>\n",
              "      <td>1.170670</td>\n",
              "      <td>1.243876</td>\n",
              "      <td>1.258532</td>\n",
              "      <td>1.301085</td>\n",
              "      <td>1.313261</td>\n",
              "      <td>1.320748</td>\n",
              "      <td>1.329206</td>\n",
              "      <td>1.364102</td>\n",
              "      <td>1.376227</td>\n",
              "      <td>1.390149</td>\n",
              "      <td>1.413560</td>\n",
              "      <td>1.462507</td>\n",
              "      <td>...</td>\n",
              "      <td>0.804218</td>\n",
              "      <td>0.804549</td>\n",
              "      <td>0.805161</td>\n",
              "      <td>0.805330</td>\n",
              "      <td>0.805464</td>\n",
              "      <td>0.805393</td>\n",
              "      <td>0.804973</td>\n",
              "      <td>0.804075</td>\n",
              "      <td>0.803503</td>\n",
              "      <td>0.800009</td>\n",
              "      <td>0.796066</td>\n",
              "      <td>0.787888</td>\n",
              "      <td>0.782179</td>\n",
              "      <td>0.779214</td>\n",
              "      <td>0.776841</td>\n",
              "      <td>0.754385</td>\n",
              "      <td>0.738177</td>\n",
              "      <td>0.731718</td>\n",
              "      <td>0.716489</td>\n",
              "      <td>0.709039</td>\n",
              "      <td>0.698756</td>\n",
              "      <td>0.694537</td>\n",
              "      <td>0.692689</td>\n",
              "      <td>0.692025</td>\n",
              "      <td>0.678695</td>\n",
              "      <td>0.676493</td>\n",
              "      <td>0.655286</td>\n",
              "      <td>0.648783</td>\n",
              "      <td>0.641626</td>\n",
              "      <td>0.635218</td>\n",
              "      <td>0.616940</td>\n",
              "      <td>0.613758</td>\n",
              "      <td>0.612323</td>\n",
              "      <td>0.612120</td>\n",
              "      <td>0.605474</td>\n",
              "      <td>0.595556</td>\n",
              "      <td>1.665932</td>\n",
              "      <td>2824.905880</td>\n",
              "      <td>40.078039</td>\n",
              "      <td>0.805442</td>\n",
              "    </tr>\n",
              "    <tr>\n",
              "      <th>32734</th>\n",
              "      <td>0.049187</td>\n",
              "      <td>0.144412</td>\n",
              "      <td>0.182447</td>\n",
              "      <td>0.207710</td>\n",
              "      <td>0.218358</td>\n",
              "      <td>0.230934</td>\n",
              "      <td>0.249572</td>\n",
              "      <td>0.345890</td>\n",
              "      <td>0.353738</td>\n",
              "      <td>0.391827</td>\n",
              "      <td>0.400306</td>\n",
              "      <td>0.400318</td>\n",
              "      <td>0.421208</td>\n",
              "      <td>0.495716</td>\n",
              "      <td>0.523483</td>\n",
              "      <td>0.625885</td>\n",
              "      <td>0.675556</td>\n",
              "      <td>0.689579</td>\n",
              "      <td>0.726161</td>\n",
              "      <td>0.764016</td>\n",
              "      <td>0.774344</td>\n",
              "      <td>0.891360</td>\n",
              "      <td>0.897090</td>\n",
              "      <td>0.909498</td>\n",
              "      <td>0.940170</td>\n",
              "      <td>1.016588</td>\n",
              "      <td>1.023111</td>\n",
              "      <td>1.053232</td>\n",
              "      <td>1.087806</td>\n",
              "      <td>1.116794</td>\n",
              "      <td>1.122063</td>\n",
              "      <td>1.172191</td>\n",
              "      <td>1.200580</td>\n",
              "      <td>1.228444</td>\n",
              "      <td>1.247786</td>\n",
              "      <td>1.249267</td>\n",
              "      <td>1.271476</td>\n",
              "      <td>1.276647</td>\n",
              "      <td>1.286269</td>\n",
              "      <td>1.345711</td>\n",
              "      <td>...</td>\n",
              "      <td>0.618437</td>\n",
              "      <td>0.616607</td>\n",
              "      <td>0.609642</td>\n",
              "      <td>0.608025</td>\n",
              "      <td>0.606500</td>\n",
              "      <td>0.604494</td>\n",
              "      <td>0.600823</td>\n",
              "      <td>0.594375</td>\n",
              "      <td>0.590956</td>\n",
              "      <td>0.580651</td>\n",
              "      <td>0.578268</td>\n",
              "      <td>0.577899</td>\n",
              "      <td>0.577093</td>\n",
              "      <td>0.575532</td>\n",
              "      <td>0.568765</td>\n",
              "      <td>0.560769</td>\n",
              "      <td>0.556415</td>\n",
              "      <td>0.553109</td>\n",
              "      <td>0.546825</td>\n",
              "      <td>0.544287</td>\n",
              "      <td>0.540033</td>\n",
              "      <td>0.538260</td>\n",
              "      <td>0.534047</td>\n",
              "      <td>0.530524</td>\n",
              "      <td>0.527331</td>\n",
              "      <td>0.526075</td>\n",
              "      <td>0.524769</td>\n",
              "      <td>0.524297</td>\n",
              "      <td>0.516531</td>\n",
              "      <td>0.516209</td>\n",
              "      <td>0.515487</td>\n",
              "      <td>0.514349</td>\n",
              "      <td>0.514016</td>\n",
              "      <td>0.513416</td>\n",
              "      <td>0.510329</td>\n",
              "      <td>0.510324</td>\n",
              "      <td>0.841242</td>\n",
              "      <td>2492.977519</td>\n",
              "      <td>32.938795</td>\n",
              "      <td>0.622886</td>\n",
              "    </tr>\n",
              "  </tbody>\n",
              "</table>\n",
              "<p>5 rows × 354 columns</p>\n",
              "</div>"
            ],
            "text/plain": [
              "          theta     theta     theta  ...           Ps         ST    radius\n",
              "32730  0.006487  0.013789  0.096540  ...  3749.089314  63.829010  0.758761\n",
              "32731  0.068471  0.085887  0.099550  ...  3145.987369  43.558728  0.749662\n",
              "32732  0.037698  0.050183  0.055444  ...  3237.502199  60.181335  0.689177\n",
              "32733  0.060400  0.083246  0.146191  ...  2824.905880  40.078039  0.805442\n",
              "32734  0.049187  0.144412  0.182447  ...  2492.977519  32.938795  0.622886\n",
              "\n",
              "[5 rows x 354 columns]"
            ]
          },
          "metadata": {},
          "execution_count": 176
        }
      ]
    },
    {
      "cell_type": "code",
      "metadata": {
        "id": "XbIdrF7JOBAc",
        "outputId": "6c16d69b-3988-44e1-9c0e-79eb084c14f4",
        "colab": {
          "base_uri": "https://localhost:8080/",
          "height": 1000
        }
      },
      "source": [
        "#New data distribution\n",
        "plt.figure()\n",
        "sns.distplot(dataset.ST)\n",
        "plt.xlabel('Surface tension (mN/m)')\n",
        "\n",
        "plt.figure()\n",
        "sns.distplot(dataset.vol)\n",
        "plt.xlabel('Volume (μL)')\n",
        "\n",
        "plt.figure()\n",
        "sns.distplot(dataset.Ps)\n",
        "plt.xlabel('Acoustic pressure (Pa)')\n",
        "\n",
        "fig, ax = plt.subplots()\n",
        "plt.xlabel('Cartesian y-axis (mm)')\n",
        "plt.ylabel('Cartesian z-axis (mm)')\n",
        "ax = plt.gca()\n",
        "ax.set_aspect(1)\n",
        "ax.set_xlim([-1.5,1.5])\n",
        "ax.set_ylim([-1.5,1.5])\n",
        "for j in range(len(dataset)):\n",
        "  x,y=pol2cart_theta(np.asarray(dataset.iloc[j, sampling:sampling+sampling]), np.asarray(dataset.iloc[j, 0:sampling]))\n",
        "  plt.plot(x, y)\n",
        "\n",
        "\n",
        "\n"
      ],
      "execution_count": 244,
      "outputs": [
        {
          "output_type": "stream",
          "name": "stderr",
          "text": [
            "/usr/local/lib/python3.7/dist-packages/seaborn/distributions.py:2619: FutureWarning: `distplot` is a deprecated function and will be removed in a future version. Please adapt your code to use either `displot` (a figure-level function with similar flexibility) or `histplot` (an axes-level function for histograms).\n",
            "  warnings.warn(msg, FutureWarning)\n",
            "/usr/local/lib/python3.7/dist-packages/seaborn/distributions.py:2619: FutureWarning: `distplot` is a deprecated function and will be removed in a future version. Please adapt your code to use either `displot` (a figure-level function with similar flexibility) or `histplot` (an axes-level function for histograms).\n",
            "  warnings.warn(msg, FutureWarning)\n",
            "/usr/local/lib/python3.7/dist-packages/seaborn/distributions.py:2619: FutureWarning: `distplot` is a deprecated function and will be removed in a future version. Please adapt your code to use either `displot` (a figure-level function with similar flexibility) or `histplot` (an axes-level function for histograms).\n",
            "  warnings.warn(msg, FutureWarning)\n"
          ]
        },
        {
          "output_type": "display_data",
          "data": {
            "image/png": "[encoded data removed]",
            "text/plain": [
              "<Figure size 432x288 with 1 Axes>"
            ]
          },
          "metadata": {
            "needs_background": "light"
          }
        },
        {
          "output_type": "display_data",
          "data": {
            "image/png": "[encoded data removed]",
            "text/plain": [
              "<Figure size 432x288 with 1 Axes>"
            ]
          },
          "metadata": {
            "needs_background": "light"
          }
        },
        {
          "output_type": "display_data",
          "data": {
            "image/png": "[encoded data removed]",
            "text/plain": [
              "<Figure size 432x288 with 1 Axes>"
            ]
          },
          "metadata": {
            "needs_background": "light"
          }
        },
        {
          "output_type": "display_data",
          "data": {
            "image/png": "[encoded data removed]",
            "text/plain": [
              "<Figure size 432x288 with 1 Axes>"
            ]
          },
          "metadata": {
            "needs_background": "light"
          }
        }
      ]
    },
    {
      "cell_type": "code",
      "metadata": {
        "id": "Kqa0s-Fl_K2V"
      },
      "source": [
        "# ST_1=dataset[(dataset['ST'] <= 72) & (dataset['ST'] > 71.5) ]\n",
        "# vol_1=ST_1[(ST_1['vol']<=3 ) & (ST_1['vol'] > 2)]\n",
        "\n",
        "# ST_3=dataset[(dataset['ST'] <= 50.5) & (dataset['ST'] > 50) ]\n",
        "# vol_3=ST_3[(ST_3['vol']<=3 ) & (ST_3['vol'] > 2)]\n",
        "\n",
        "# ST_2=dataset[(dataset['ST'] <= 25.5) & (dataset['ST'] > 25) ]\n",
        "# vol_2=ST_2[(ST_2['vol']<=3 ) & (ST_2['vol'] > 2)]\n",
        "\n",
        "# plt.figure()\n",
        "# plt.plot(vol_1.Ps, vol_1.AR, 'o', label='ST=71.25+-0.25')\n",
        "# plt.plot(vol_3.Ps, vol_3.AR, 'o', label='ST=50.25+-0.25')\n",
        "# plt.plot(vol_2.Ps, vol_2.AR, 'o', label='ST=25.25+-0.25')\n",
        "# plt.xlabel('Acoustic pressure (Pa)')\n",
        "# plt.ylabel('Aspect Ratio')\n",
        "# plt.legend()\n"
      ],
      "execution_count": null,
      "outputs": []
    },
    {
      "cell_type": "markdown",
      "metadata": {
        "id": "nslsRLh7Zss4"
      },
      "source": [
        "###Import it using pandas for **options 1 and 2**"
      ]
    },
    {
      "cell_type": "code",
      "metadata": {
        "id": "CiX2FI4gZtTt",
        "colab": {
          "base_uri": "https://localhost:8080/",
          "height": 247
        },
        "outputId": "04d2320e-92b2-40ee-9db1-828deca949e1"
      },
      "source": [
        "column_names=[]\n",
        "\n",
        "for i in range(100):\n",
        "  column_names.append('rho_%d' %i)\n",
        "for i in range(100):\n",
        "  column_names.append('phi_%d' %i)\n",
        "for i in range(100):\n",
        "  column_names.append('cos2theta_%d' %i)\n",
        "column_names.append('(k*R_sph)^2')\n",
        "column_names.append('R_sph2')\n",
        "column_names.append('Ps2*Cg_air')\n",
        "\n",
        "column_names.append('st')\n",
        "\n",
        "#raw_dataset = pd.read_csv(csvfilename, sep=\"\\t\")\n",
        "#raw_dataset.columns=column_names\n",
        "\n",
        "raw_dataset = pd.DataFrame(data=input,  columns=column_names) \n",
        "              \n",
        "raw_dataset.shape\n",
        "\n",
        "dataset = raw_dataset.copy()\n",
        "\n",
        "\n",
        "#for i in range(100):\n",
        "#  dataset.pop('cos2theta_%d' %i)\n",
        "\n",
        "dataset.pop('Ps2*Cg_air')\n",
        "\n",
        "\n",
        "dataset.tail()"
      ],
      "execution_count": null,
      "outputs": [
        {
          "output_type": "execute_result",
          "data": {
            "text/html": [
              "<div>\n",
              "<style scoped>\n",
              "    .dataframe tbody tr th:only-of-type {\n",
              "        vertical-align: middle;\n",
              "    }\n",
              "\n",
              "    .dataframe tbody tr th {\n",
              "        vertical-align: top;\n",
              "    }\n",
              "\n",
              "    .dataframe thead th {\n",
              "        text-align: right;\n",
              "    }\n",
              "</style>\n",
              "<table border=\"1\" class=\"dataframe\">\n",
              "  <thead>\n",
              "    <tr style=\"text-align: right;\">\n",
              "      <th></th>\n",
              "      <th>rho_0</th>\n",
              "      <th>rho_1</th>\n",
              "      <th>rho_2</th>\n",
              "      <th>rho_3</th>\n",
              "      <th>rho_4</th>\n",
              "      <th>rho_5</th>\n",
              "      <th>rho_6</th>\n",
              "      <th>rho_7</th>\n",
              "      <th>rho_8</th>\n",
              "      <th>rho_9</th>\n",
              "      <th>rho_10</th>\n",
              "      <th>rho_11</th>\n",
              "      <th>rho_12</th>\n",
              "      <th>rho_13</th>\n",
              "      <th>rho_14</th>\n",
              "      <th>rho_15</th>\n",
              "      <th>rho_16</th>\n",
              "      <th>rho_17</th>\n",
              "      <th>rho_18</th>\n",
              "      <th>rho_19</th>\n",
              "      <th>rho_20</th>\n",
              "      <th>rho_21</th>\n",
              "      <th>rho_22</th>\n",
              "      <th>rho_23</th>\n",
              "      <th>rho_24</th>\n",
              "      <th>rho_25</th>\n",
              "      <th>rho_26</th>\n",
              "      <th>rho_27</th>\n",
              "      <th>rho_28</th>\n",
              "      <th>rho_29</th>\n",
              "      <th>rho_30</th>\n",
              "      <th>rho_31</th>\n",
              "      <th>rho_32</th>\n",
              "      <th>rho_33</th>\n",
              "      <th>rho_34</th>\n",
              "      <th>rho_35</th>\n",
              "      <th>rho_36</th>\n",
              "      <th>rho_37</th>\n",
              "      <th>rho_38</th>\n",
              "      <th>rho_39</th>\n",
              "      <th>...</th>\n",
              "      <th>cos2theta_63</th>\n",
              "      <th>cos2theta_64</th>\n",
              "      <th>cos2theta_65</th>\n",
              "      <th>cos2theta_66</th>\n",
              "      <th>cos2theta_67</th>\n",
              "      <th>cos2theta_68</th>\n",
              "      <th>cos2theta_69</th>\n",
              "      <th>cos2theta_70</th>\n",
              "      <th>cos2theta_71</th>\n",
              "      <th>cos2theta_72</th>\n",
              "      <th>cos2theta_73</th>\n",
              "      <th>cos2theta_74</th>\n",
              "      <th>cos2theta_75</th>\n",
              "      <th>cos2theta_76</th>\n",
              "      <th>cos2theta_77</th>\n",
              "      <th>cos2theta_78</th>\n",
              "      <th>cos2theta_79</th>\n",
              "      <th>cos2theta_80</th>\n",
              "      <th>cos2theta_81</th>\n",
              "      <th>cos2theta_82</th>\n",
              "      <th>cos2theta_83</th>\n",
              "      <th>cos2theta_84</th>\n",
              "      <th>cos2theta_85</th>\n",
              "      <th>cos2theta_86</th>\n",
              "      <th>cos2theta_87</th>\n",
              "      <th>cos2theta_88</th>\n",
              "      <th>cos2theta_89</th>\n",
              "      <th>cos2theta_90</th>\n",
              "      <th>cos2theta_91</th>\n",
              "      <th>cos2theta_92</th>\n",
              "      <th>cos2theta_93</th>\n",
              "      <th>cos2theta_94</th>\n",
              "      <th>cos2theta_95</th>\n",
              "      <th>cos2theta_96</th>\n",
              "      <th>cos2theta_97</th>\n",
              "      <th>cos2theta_98</th>\n",
              "      <th>cos2theta_99</th>\n",
              "      <th>(k*R_sph)^2</th>\n",
              "      <th>R_sph2</th>\n",
              "      <th>st</th>\n",
              "    </tr>\n",
              "  </thead>\n",
              "  <tbody>\n",
              "    <tr>\n",
              "      <th>292</th>\n",
              "      <td>0.594194</td>\n",
              "      <td>0.593489</td>\n",
              "      <td>0.591385</td>\n",
              "      <td>0.587916</td>\n",
              "      <td>0.583138</td>\n",
              "      <td>0.577128</td>\n",
              "      <td>0.569983</td>\n",
              "      <td>0.561817</td>\n",
              "      <td>0.552761</td>\n",
              "      <td>0.542963</td>\n",
              "      <td>0.532578</td>\n",
              "      <td>0.521775</td>\n",
              "      <td>0.510727</td>\n",
              "      <td>0.499611</td>\n",
              "      <td>0.488608</td>\n",
              "      <td>0.477893</td>\n",
              "      <td>0.467640</td>\n",
              "      <td>0.458013</td>\n",
              "      <td>0.449166</td>\n",
              "      <td>0.441244</td>\n",
              "      <td>0.434372</td>\n",
              "      <td>0.428662</td>\n",
              "      <td>0.424205</td>\n",
              "      <td>0.421073</td>\n",
              "      <td>0.419316</td>\n",
              "      <td>0.418964</td>\n",
              "      <td>0.420020</td>\n",
              "      <td>0.422469</td>\n",
              "      <td>0.426271</td>\n",
              "      <td>0.431365</td>\n",
              "      <td>0.437669</td>\n",
              "      <td>0.445081</td>\n",
              "      <td>0.453483</td>\n",
              "      <td>0.462738</td>\n",
              "      <td>0.472698</td>\n",
              "      <td>0.483204</td>\n",
              "      <td>0.494085</td>\n",
              "      <td>0.505166</td>\n",
              "      <td>0.516270</td>\n",
              "      <td>0.527218</td>\n",
              "      <td>...</td>\n",
              "      <td>0.571157</td>\n",
              "      <td>0.633237</td>\n",
              "      <td>0.693173</td>\n",
              "      <td>0.75</td>\n",
              "      <td>0.802805</td>\n",
              "      <td>0.850737</td>\n",
              "      <td>0.893027</td>\n",
              "      <td>0.928992</td>\n",
              "      <td>0.958054</td>\n",
              "      <td>0.979746</td>\n",
              "      <td>0.993719</td>\n",
              "      <td>0.999748</td>\n",
              "      <td>0.997736</td>\n",
              "      <td>0.987715</td>\n",
              "      <td>0.969846</td>\n",
              "      <td>0.944418</td>\n",
              "      <td>0.911838</td>\n",
              "      <td>0.872632</td>\n",
              "      <td>0.82743</td>\n",
              "      <td>0.77696</td>\n",
              "      <td>0.722033</td>\n",
              "      <td>0.663534</td>\n",
              "      <td>0.602403</td>\n",
              "      <td>0.539625</td>\n",
              "      <td>0.476209</td>\n",
              "      <td>0.413176</td>\n",
              "      <td>0.35154</td>\n",
              "      <td>0.292292</td>\n",
              "      <td>0.236387</td>\n",
              "      <td>0.184724</td>\n",
              "      <td>0.138133</td>\n",
              "      <td>0.097365</td>\n",
              "      <td>0.063075</td>\n",
              "      <td>0.035816</td>\n",
              "      <td>0.016026</td>\n",
              "      <td>0.004023</td>\n",
              "      <td>3.749399e-33</td>\n",
              "      <td>0.535769</td>\n",
              "      <td>0.287049</td>\n",
              "      <td>20.0</td>\n",
              "    </tr>\n",
              "    <tr>\n",
              "      <th>293</th>\n",
              "      <td>0.595005</td>\n",
              "      <td>0.594291</td>\n",
              "      <td>0.592158</td>\n",
              "      <td>0.588641</td>\n",
              "      <td>0.583796</td>\n",
              "      <td>0.577703</td>\n",
              "      <td>0.570458</td>\n",
              "      <td>0.562178</td>\n",
              "      <td>0.552997</td>\n",
              "      <td>0.543062</td>\n",
              "      <td>0.532534</td>\n",
              "      <td>0.521580</td>\n",
              "      <td>0.510379</td>\n",
              "      <td>0.499109</td>\n",
              "      <td>0.487953</td>\n",
              "      <td>0.477090</td>\n",
              "      <td>0.466694</td>\n",
              "      <td>0.456933</td>\n",
              "      <td>0.447964</td>\n",
              "      <td>0.439931</td>\n",
              "      <td>0.432964</td>\n",
              "      <td>0.427174</td>\n",
              "      <td>0.422655</td>\n",
              "      <td>0.419480</td>\n",
              "      <td>0.417699</td>\n",
              "      <td>0.417341</td>\n",
              "      <td>0.418413</td>\n",
              "      <td>0.420896</td>\n",
              "      <td>0.424751</td>\n",
              "      <td>0.429915</td>\n",
              "      <td>0.436307</td>\n",
              "      <td>0.443822</td>\n",
              "      <td>0.452340</td>\n",
              "      <td>0.461724</td>\n",
              "      <td>0.471822</td>\n",
              "      <td>0.482474</td>\n",
              "      <td>0.493506</td>\n",
              "      <td>0.504741</td>\n",
              "      <td>0.515999</td>\n",
              "      <td>0.527099</td>\n",
              "      <td>...</td>\n",
              "      <td>0.571157</td>\n",
              "      <td>0.633237</td>\n",
              "      <td>0.693173</td>\n",
              "      <td>0.75</td>\n",
              "      <td>0.802805</td>\n",
              "      <td>0.850737</td>\n",
              "      <td>0.893027</td>\n",
              "      <td>0.928992</td>\n",
              "      <td>0.958054</td>\n",
              "      <td>0.979746</td>\n",
              "      <td>0.993719</td>\n",
              "      <td>0.999748</td>\n",
              "      <td>0.997736</td>\n",
              "      <td>0.987715</td>\n",
              "      <td>0.969846</td>\n",
              "      <td>0.944418</td>\n",
              "      <td>0.911838</td>\n",
              "      <td>0.872632</td>\n",
              "      <td>0.82743</td>\n",
              "      <td>0.77696</td>\n",
              "      <td>0.722033</td>\n",
              "      <td>0.663534</td>\n",
              "      <td>0.602403</td>\n",
              "      <td>0.539625</td>\n",
              "      <td>0.476209</td>\n",
              "      <td>0.413176</td>\n",
              "      <td>0.35154</td>\n",
              "      <td>0.292292</td>\n",
              "      <td>0.236387</td>\n",
              "      <td>0.184724</td>\n",
              "      <td>0.138133</td>\n",
              "      <td>0.097365</td>\n",
              "      <td>0.063075</td>\n",
              "      <td>0.035816</td>\n",
              "      <td>0.016026</td>\n",
              "      <td>0.004023</td>\n",
              "      <td>3.749399e-33</td>\n",
              "      <td>0.535769</td>\n",
              "      <td>0.287049</td>\n",
              "      <td>20.0</td>\n",
              "    </tr>\n",
              "    <tr>\n",
              "      <th>294</th>\n",
              "      <td>0.595822</td>\n",
              "      <td>0.595098</td>\n",
              "      <td>0.592935</td>\n",
              "      <td>0.589370</td>\n",
              "      <td>0.584459</td>\n",
              "      <td>0.578281</td>\n",
              "      <td>0.570936</td>\n",
              "      <td>0.562543</td>\n",
              "      <td>0.553235</td>\n",
              "      <td>0.543163</td>\n",
              "      <td>0.532489</td>\n",
              "      <td>0.521385</td>\n",
              "      <td>0.510029</td>\n",
              "      <td>0.498604</td>\n",
              "      <td>0.487293</td>\n",
              "      <td>0.476280</td>\n",
              "      <td>0.465741</td>\n",
              "      <td>0.455845</td>\n",
              "      <td>0.446753</td>\n",
              "      <td>0.438609</td>\n",
              "      <td>0.431546</td>\n",
              "      <td>0.425676</td>\n",
              "      <td>0.421095</td>\n",
              "      <td>0.417876</td>\n",
              "      <td>0.416070</td>\n",
              "      <td>0.415708</td>\n",
              "      <td>0.416794</td>\n",
              "      <td>0.419311</td>\n",
              "      <td>0.423219</td>\n",
              "      <td>0.428455</td>\n",
              "      <td>0.434935</td>\n",
              "      <td>0.442554</td>\n",
              "      <td>0.451189</td>\n",
              "      <td>0.460702</td>\n",
              "      <td>0.470940</td>\n",
              "      <td>0.481738</td>\n",
              "      <td>0.492923</td>\n",
              "      <td>0.504313</td>\n",
              "      <td>0.515727</td>\n",
              "      <td>0.526980</td>\n",
              "      <td>...</td>\n",
              "      <td>0.571157</td>\n",
              "      <td>0.633237</td>\n",
              "      <td>0.693173</td>\n",
              "      <td>0.75</td>\n",
              "      <td>0.802805</td>\n",
              "      <td>0.850737</td>\n",
              "      <td>0.893027</td>\n",
              "      <td>0.928992</td>\n",
              "      <td>0.958054</td>\n",
              "      <td>0.979746</td>\n",
              "      <td>0.993719</td>\n",
              "      <td>0.999748</td>\n",
              "      <td>0.997736</td>\n",
              "      <td>0.987715</td>\n",
              "      <td>0.969846</td>\n",
              "      <td>0.944418</td>\n",
              "      <td>0.911838</td>\n",
              "      <td>0.872632</td>\n",
              "      <td>0.82743</td>\n",
              "      <td>0.77696</td>\n",
              "      <td>0.722033</td>\n",
              "      <td>0.663534</td>\n",
              "      <td>0.602403</td>\n",
              "      <td>0.539625</td>\n",
              "      <td>0.476209</td>\n",
              "      <td>0.413176</td>\n",
              "      <td>0.35154</td>\n",
              "      <td>0.292292</td>\n",
              "      <td>0.236387</td>\n",
              "      <td>0.184724</td>\n",
              "      <td>0.138133</td>\n",
              "      <td>0.097365</td>\n",
              "      <td>0.063075</td>\n",
              "      <td>0.035816</td>\n",
              "      <td>0.016026</td>\n",
              "      <td>0.004023</td>\n",
              "      <td>3.749399e-33</td>\n",
              "      <td>0.535769</td>\n",
              "      <td>0.287049</td>\n",
              "      <td>20.0</td>\n",
              "    </tr>\n",
              "    <tr>\n",
              "      <th>295</th>\n",
              "      <td>0.596645</td>\n",
              "      <td>0.595910</td>\n",
              "      <td>0.593718</td>\n",
              "      <td>0.590104</td>\n",
              "      <td>0.585126</td>\n",
              "      <td>0.578864</td>\n",
              "      <td>0.571418</td>\n",
              "      <td>0.562909</td>\n",
              "      <td>0.553474</td>\n",
              "      <td>0.543264</td>\n",
              "      <td>0.532444</td>\n",
              "      <td>0.521188</td>\n",
              "      <td>0.509676</td>\n",
              "      <td>0.498094</td>\n",
              "      <td>0.486629</td>\n",
              "      <td>0.475465</td>\n",
              "      <td>0.464782</td>\n",
              "      <td>0.454750</td>\n",
              "      <td>0.445533</td>\n",
              "      <td>0.437278</td>\n",
              "      <td>0.430118</td>\n",
              "      <td>0.424168</td>\n",
              "      <td>0.419524</td>\n",
              "      <td>0.416261</td>\n",
              "      <td>0.414431</td>\n",
              "      <td>0.414063</td>\n",
              "      <td>0.415164</td>\n",
              "      <td>0.417716</td>\n",
              "      <td>0.421678</td>\n",
              "      <td>0.426985</td>\n",
              "      <td>0.433554</td>\n",
              "      <td>0.441277</td>\n",
              "      <td>0.450031</td>\n",
              "      <td>0.459674</td>\n",
              "      <td>0.470052</td>\n",
              "      <td>0.480998</td>\n",
              "      <td>0.492336</td>\n",
              "      <td>0.503882</td>\n",
              "      <td>0.515452</td>\n",
              "      <td>0.526859</td>\n",
              "      <td>...</td>\n",
              "      <td>0.571157</td>\n",
              "      <td>0.633237</td>\n",
              "      <td>0.693173</td>\n",
              "      <td>0.75</td>\n",
              "      <td>0.802805</td>\n",
              "      <td>0.850737</td>\n",
              "      <td>0.893027</td>\n",
              "      <td>0.928992</td>\n",
              "      <td>0.958054</td>\n",
              "      <td>0.979746</td>\n",
              "      <td>0.993719</td>\n",
              "      <td>0.999748</td>\n",
              "      <td>0.997736</td>\n",
              "      <td>0.987715</td>\n",
              "      <td>0.969846</td>\n",
              "      <td>0.944418</td>\n",
              "      <td>0.911838</td>\n",
              "      <td>0.872632</td>\n",
              "      <td>0.82743</td>\n",
              "      <td>0.77696</td>\n",
              "      <td>0.722033</td>\n",
              "      <td>0.663534</td>\n",
              "      <td>0.602403</td>\n",
              "      <td>0.539625</td>\n",
              "      <td>0.476209</td>\n",
              "      <td>0.413176</td>\n",
              "      <td>0.35154</td>\n",
              "      <td>0.292292</td>\n",
              "      <td>0.236387</td>\n",
              "      <td>0.184724</td>\n",
              "      <td>0.138133</td>\n",
              "      <td>0.097365</td>\n",
              "      <td>0.063075</td>\n",
              "      <td>0.035816</td>\n",
              "      <td>0.016026</td>\n",
              "      <td>0.004023</td>\n",
              "      <td>3.749399e-33</td>\n",
              "      <td>0.535769</td>\n",
              "      <td>0.287049</td>\n",
              "      <td>20.0</td>\n",
              "    </tr>\n",
              "    <tr>\n",
              "      <th>296</th>\n",
              "      <td>0.597473</td>\n",
              "      <td>0.596729</td>\n",
              "      <td>0.594507</td>\n",
              "      <td>0.590843</td>\n",
              "      <td>0.585797</td>\n",
              "      <td>0.579450</td>\n",
              "      <td>0.571903</td>\n",
              "      <td>0.563279</td>\n",
              "      <td>0.553715</td>\n",
              "      <td>0.543366</td>\n",
              "      <td>0.532399</td>\n",
              "      <td>0.520989</td>\n",
              "      <td>0.509321</td>\n",
              "      <td>0.497582</td>\n",
              "      <td>0.485961</td>\n",
              "      <td>0.474645</td>\n",
              "      <td>0.463816</td>\n",
              "      <td>0.453648</td>\n",
              "      <td>0.444306</td>\n",
              "      <td>0.435938</td>\n",
              "      <td>0.428681</td>\n",
              "      <td>0.422650</td>\n",
              "      <td>0.417943</td>\n",
              "      <td>0.414635</td>\n",
              "      <td>0.412780</td>\n",
              "      <td>0.412407</td>\n",
              "      <td>0.413523</td>\n",
              "      <td>0.416110</td>\n",
              "      <td>0.420125</td>\n",
              "      <td>0.425505</td>\n",
              "      <td>0.432163</td>\n",
              "      <td>0.439991</td>\n",
              "      <td>0.448864</td>\n",
              "      <td>0.458639</td>\n",
              "      <td>0.469158</td>\n",
              "      <td>0.480253</td>\n",
              "      <td>0.491745</td>\n",
              "      <td>0.503449</td>\n",
              "      <td>0.515176</td>\n",
              "      <td>0.526738</td>\n",
              "      <td>...</td>\n",
              "      <td>0.571157</td>\n",
              "      <td>0.633237</td>\n",
              "      <td>0.693173</td>\n",
              "      <td>0.75</td>\n",
              "      <td>0.802805</td>\n",
              "      <td>0.850737</td>\n",
              "      <td>0.893027</td>\n",
              "      <td>0.928992</td>\n",
              "      <td>0.958054</td>\n",
              "      <td>0.979746</td>\n",
              "      <td>0.993719</td>\n",
              "      <td>0.999748</td>\n",
              "      <td>0.997736</td>\n",
              "      <td>0.987715</td>\n",
              "      <td>0.969846</td>\n",
              "      <td>0.944418</td>\n",
              "      <td>0.911838</td>\n",
              "      <td>0.872632</td>\n",
              "      <td>0.82743</td>\n",
              "      <td>0.77696</td>\n",
              "      <td>0.722033</td>\n",
              "      <td>0.663534</td>\n",
              "      <td>0.602403</td>\n",
              "      <td>0.539625</td>\n",
              "      <td>0.476209</td>\n",
              "      <td>0.413176</td>\n",
              "      <td>0.35154</td>\n",
              "      <td>0.292292</td>\n",
              "      <td>0.236387</td>\n",
              "      <td>0.184724</td>\n",
              "      <td>0.138133</td>\n",
              "      <td>0.097365</td>\n",
              "      <td>0.063075</td>\n",
              "      <td>0.035816</td>\n",
              "      <td>0.016026</td>\n",
              "      <td>0.004023</td>\n",
              "      <td>3.749399e-33</td>\n",
              "      <td>0.535769</td>\n",
              "      <td>0.287049</td>\n",
              "      <td>20.0</td>\n",
              "    </tr>\n",
              "  </tbody>\n",
              "</table>\n",
              "<p>5 rows × 303 columns</p>\n",
              "</div>"
            ],
            "text/plain": [
              "        rho_0     rho_1     rho_2  ...  (k*R_sph)^2    R_sph2    st\n",
              "292  0.594194  0.593489  0.591385  ...     0.535769  0.287049  20.0\n",
              "293  0.595005  0.594291  0.592158  ...     0.535769  0.287049  20.0\n",
              "294  0.595822  0.595098  0.592935  ...     0.535769  0.287049  20.0\n",
              "295  0.596645  0.595910  0.593718  ...     0.535769  0.287049  20.0\n",
              "296  0.597473  0.596729  0.594507  ...     0.535769  0.287049  20.0\n",
              "\n",
              "[5 rows x 303 columns]"
            ]
          },
          "metadata": {
            "tags": []
          },
          "execution_count": 282
        }
      ]
    },
    {
      "cell_type": "code",
      "metadata": {
        "id": "SVNFYZBO90fx"
      },
      "source": [
        "k_o=2*np.pi*20.2/340 \n",
        "dataset['(k*R_sph)^2']=(dataset['(k*R_sph)^2']*k_o)**2\n",
        "\n",
        "#Cg_air=1/103623.50  #Pa**(-1)\n",
        "#dataset['Ps2*Cg_air']=dataset['Ps2*Cg_air']*Cg_air"
      ],
      "execution_count": null,
      "outputs": []
    },
    {
      "cell_type": "code",
      "metadata": {
        "id": "uqyM21JfY6nc",
        "colab": {
          "base_uri": "https://localhost:8080/",
          "height": 217
        },
        "outputId": "5699d635-82d7-4fe2-b273-5edc92282ba5"
      },
      "source": [
        "dataset.iloc[193, :]"
      ],
      "execution_count": null,
      "outputs": [
        {
          "output_type": "execute_result",
          "data": {
            "text/plain": [
              "rho_0           6.275189e-01\n",
              "rho_1           6.267880e-01\n",
              "rho_2           6.246516e-01\n",
              "rho_3           6.211441e-01\n",
              "rho_4           6.163220e-01\n",
              "                    ...     \n",
              "cos2theta_98    4.021315e-03\n",
              "cos2theta_99    3.749399e-33\n",
              "(k*R_sph)^2     4.508115e-02\n",
              "R_sph2          3.235120e-01\n",
              "st              2.200000e+01\n",
              "Name: 193, Length: 303, dtype: float64"
            ]
          },
          "metadata": {
            "tags": []
          },
          "execution_count": 252
        }
      ]
    },
    {
      "cell_type": "markdown",
      "metadata": {
        "id": "5Q_w-R-A225p"
      },
      "source": [
        "### Import data for **option 3**:"
      ]
    },
    {
      "cell_type": "code",
      "metadata": {
        "id": "CT87QF6z2v-5"
      },
      "source": [
        "# loading of data\n",
        "\n",
        "raw_dataset=pd.read_csv('dataset.csv')\n",
        "\n",
        "dataset = raw_dataset.copy()\n",
        "dataset.tail()"
      ],
      "execution_count": null,
      "outputs": []
    },
    {
      "cell_type": "markdown",
      "metadata": {
        "id": "Cuym4yvk76vU"
      },
      "source": [
        "### Split the data into train and test\n",
        "\n",
        "Now split the dataset into a training set and a test set.\n",
        "\n",
        "We will use the test set in the final evaluation of our model."
      ]
    },
    {
      "cell_type": "code",
      "metadata": {
        "id": "qn-IGhUE7_1H"
      },
      "source": [
        "train_dataset = dataset.sample(frac=0.8,random_state=1)\n",
        "test_dataset = dataset.drop(train_dataset.index)"
      ],
      "execution_count": null,
      "outputs": []
    },
    {
      "cell_type": "markdown",
      "metadata": {
        "id": "J4ubs136WLNp"
      },
      "source": [
        "### Inspect the data\n",
        "\n",
        "Have a quick look at the joint distribution of a few pairs of columns from the training set."
      ]
    },
    {
      "cell_type": "code",
      "metadata": {
        "id": "oRKO_x8gWKv-"
      },
      "source": [
        "#sns.pairplot(train_dataset[column_names], diag_kind=\"kde\")\n",
        "#plt.show()"
      ],
      "execution_count": null,
      "outputs": []
    },
    {
      "cell_type": "markdown",
      "metadata": {
        "id": "gavKO_6DWRMP"
      },
      "source": [
        "Also look at the overall statistics:"
      ]
    },
    {
      "cell_type": "code",
      "metadata": {
        "id": "yi2FzC3T21jR",
        "colab": {
          "base_uri": "https://localhost:8080/",
          "height": 419
        },
        "outputId": "cde7974c-5e27-4a90-e0cf-1c72aea07832"
      },
      "source": [
        "train_stats = train_dataset.describe()\n",
        "train_stats.pop(\"ST\")\n",
        "\n",
        "train_stats = train_stats.transpose()\n",
        "train_stats"
      ],
      "execution_count": null,
      "outputs": [
        {
          "output_type": "execute_result",
          "data": {
            "text/html": [
              "<div>\n",
              "<style scoped>\n",
              "    .dataframe tbody tr th:only-of-type {\n",
              "        vertical-align: middle;\n",
              "    }\n",
              "\n",
              "    .dataframe tbody tr th {\n",
              "        vertical-align: top;\n",
              "    }\n",
              "\n",
              "    .dataframe thead th {\n",
              "        text-align: right;\n",
              "    }\n",
              "</style>\n",
              "<table border=\"1\" class=\"dataframe\">\n",
              "  <thead>\n",
              "    <tr style=\"text-align: right;\">\n",
              "      <th></th>\n",
              "      <th>count</th>\n",
              "      <th>mean</th>\n",
              "      <th>std</th>\n",
              "      <th>min</th>\n",
              "      <th>25%</th>\n",
              "      <th>50%</th>\n",
              "      <th>75%</th>\n",
              "      <th>max</th>\n",
              "    </tr>\n",
              "  </thead>\n",
              "  <tbody>\n",
              "    <tr>\n",
              "      <th>theta</th>\n",
              "      <td>40000.0</td>\n",
              "      <td>0.035441</td>\n",
              "      <td>0.035409</td>\n",
              "      <td>8.227378e-07</td>\n",
              "      <td>0.010152</td>\n",
              "      <td>0.024761</td>\n",
              "      <td>0.049136</td>\n",
              "      <td>0.398472</td>\n",
              "    </tr>\n",
              "    <tr>\n",
              "      <th>theta</th>\n",
              "      <td>40000.0</td>\n",
              "      <td>0.070948</td>\n",
              "      <td>0.049674</td>\n",
              "      <td>1.636472e-04</td>\n",
              "      <td>0.034155</td>\n",
              "      <td>0.059752</td>\n",
              "      <td>0.095815</td>\n",
              "      <td>0.431262</td>\n",
              "    </tr>\n",
              "    <tr>\n",
              "      <th>theta</th>\n",
              "      <td>40000.0</td>\n",
              "      <td>0.106703</td>\n",
              "      <td>0.060614</td>\n",
              "      <td>3.322635e-03</td>\n",
              "      <td>0.062049</td>\n",
              "      <td>0.095695</td>\n",
              "      <td>0.139350</td>\n",
              "      <td>0.483530</td>\n",
              "    </tr>\n",
              "    <tr>\n",
              "      <th>theta</th>\n",
              "      <td>40000.0</td>\n",
              "      <td>0.142465</td>\n",
              "      <td>0.069982</td>\n",
              "      <td>5.237236e-03</td>\n",
              "      <td>0.090981</td>\n",
              "      <td>0.131095</td>\n",
              "      <td>0.182129</td>\n",
              "      <td>0.624057</td>\n",
              "    </tr>\n",
              "    <tr>\n",
              "      <th>theta</th>\n",
              "      <td>40000.0</td>\n",
              "      <td>0.178111</td>\n",
              "      <td>0.078032</td>\n",
              "      <td>1.199932e-02</td>\n",
              "      <td>0.120799</td>\n",
              "      <td>0.167156</td>\n",
              "      <td>0.223681</td>\n",
              "      <td>0.703769</td>\n",
              "    </tr>\n",
              "    <tr>\n",
              "      <th>...</th>\n",
              "      <td>...</td>\n",
              "      <td>...</td>\n",
              "      <td>...</td>\n",
              "      <td>...</td>\n",
              "      <td>...</td>\n",
              "      <td>...</td>\n",
              "      <td>...</td>\n",
              "      <td>...</td>\n",
              "    </tr>\n",
              "    <tr>\n",
              "      <th>rho</th>\n",
              "      <td>40000.0</td>\n",
              "      <td>0.757438</td>\n",
              "      <td>0.084149</td>\n",
              "      <td>5.553369e-01</td>\n",
              "      <td>0.692068</td>\n",
              "      <td>0.764910</td>\n",
              "      <td>0.825379</td>\n",
              "      <td>0.931905</td>\n",
              "    </tr>\n",
              "    <tr>\n",
              "      <th>rho</th>\n",
              "      <td>40000.0</td>\n",
              "      <td>0.756611</td>\n",
              "      <td>0.083974</td>\n",
              "      <td>5.549933e-01</td>\n",
              "      <td>0.691518</td>\n",
              "      <td>0.764025</td>\n",
              "      <td>0.824411</td>\n",
              "      <td>0.928220</td>\n",
              "    </tr>\n",
              "    <tr>\n",
              "      <th>rho</th>\n",
              "      <td>40000.0</td>\n",
              "      <td>0.756066</td>\n",
              "      <td>0.083867</td>\n",
              "      <td>5.549343e-01</td>\n",
              "      <td>0.691137</td>\n",
              "      <td>0.763394</td>\n",
              "      <td>0.823737</td>\n",
              "      <td>0.927652</td>\n",
              "    </tr>\n",
              "    <tr>\n",
              "      <th>vol</th>\n",
              "      <td>40000.0</td>\n",
              "      <td>2.501001</td>\n",
              "      <td>0.867448</td>\n",
              "      <td>1.000078e+00</td>\n",
              "      <td>1.750726</td>\n",
              "      <td>2.499641</td>\n",
              "      <td>3.252811</td>\n",
              "      <td>3.999997</td>\n",
              "    </tr>\n",
              "    <tr>\n",
              "      <th>Ps</th>\n",
              "      <td>40000.0</td>\n",
              "      <td>1799.780040</td>\n",
              "      <td>115.279256</td>\n",
              "      <td>1.600001e+03</td>\n",
              "      <td>1699.433331</td>\n",
              "      <td>1799.461232</td>\n",
              "      <td>1899.745090</td>\n",
              "      <td>1999.979751</td>\n",
              "    </tr>\n",
              "  </tbody>\n",
              "</table>\n",
              "<p>352 rows × 8 columns</p>\n",
              "</div>"
            ],
            "text/plain": [
              "         count         mean         std  ...          50%          75%          max\n",
              "theta  40000.0     0.035441    0.035409  ...     0.024761     0.049136     0.398472\n",
              "theta  40000.0     0.070948    0.049674  ...     0.059752     0.095815     0.431262\n",
              "theta  40000.0     0.106703    0.060614  ...     0.095695     0.139350     0.483530\n",
              "theta  40000.0     0.142465    0.069982  ...     0.131095     0.182129     0.624057\n",
              "theta  40000.0     0.178111    0.078032  ...     0.167156     0.223681     0.703769\n",
              "...        ...          ...         ...  ...          ...          ...          ...\n",
              "rho    40000.0     0.757438    0.084149  ...     0.764910     0.825379     0.931905\n",
              "rho    40000.0     0.756611    0.083974  ...     0.764025     0.824411     0.928220\n",
              "rho    40000.0     0.756066    0.083867  ...     0.763394     0.823737     0.927652\n",
              "vol    40000.0     2.501001    0.867448  ...     2.499641     3.252811     3.999997\n",
              "Ps     40000.0  1799.780040  115.279256  ...  1799.461232  1899.745090  1999.979751\n",
              "\n",
              "[352 rows x 8 columns]"
            ]
          },
          "metadata": {},
          "execution_count": 123
        }
      ]
    },
    {
      "cell_type": "markdown",
      "metadata": {
        "id": "mRklxK5s388r"
      },
      "source": [
        "### Normalize the data\n",
        "\n",
        "Look again at the `train_stats` block above and note how different the ranges of each feature are."
      ]
    },
    {
      "cell_type": "markdown",
      "metadata": {
        "id": "-ywmerQ6dSox"
      },
      "source": [
        "It is good practice to normalize features that use different scales and ranges. Although the model *might* converge without feature normalization, it makes training more difficult, and it makes the resulting model dependent on the choice of units used in the input.\n",
        "\n",
        "Note: Although we intentionally generate these statistics from only the training dataset, these statistics will also be used to normalize the test dataset. We need to do that to project the test dataset into the same distribution that the model has been trained on."
      ]
    },
    {
      "cell_type": "code",
      "metadata": {
        "id": "JlC5ooJrgjQF"
      },
      "source": [
        "# def norm(x):\n",
        "#   return (x - train_stats['mean']) / train_stats['std']\n",
        "# normed_train_data = norm(train_dataset)\n",
        "# normed_test_data = norm(test_dataset)\n",
        "# #normed_train_data = train_dataset\n",
        "# #normed_test_data = test_dataset\n"
      ],
      "execution_count": null,
      "outputs": []
    },
    {
      "cell_type": "code",
      "metadata": {
        "id": "8G-7cQwtYZqF",
        "colab": {
          "base_uri": "https://localhost:8080/",
          "height": 33
        },
        "outputId": "c842045c-8bc3-4660-96c2-64730da12a7f"
      },
      "source": [
        "# def find_nearest(array, value):\n",
        "#     array = np.asarray(array)\n",
        "#     idx = (np.abs(array - value)).argmin()\n",
        "#     return array[idx], idx\n",
        "    \n",
        "# find_nearest(train_stats['std'], 0)"
      ],
      "execution_count": null,
      "outputs": [
        {
          "output_type": "execute_result",
          "data": {
            "text/plain": [
              "(0.0, 193)"
            ]
          },
          "metadata": {
            "tags": []
          },
          "execution_count": 245
        }
      ]
    },
    {
      "cell_type": "markdown",
      "metadata": {
        "id": "BuiClDk45eS4"
      },
      "source": [
        "This normalized data is what we will use to train the model.\n",
        "\n",
        "Caution: The statistics used to normalize the inputs here (mean and standard deviation) need to be applied to any other data that is fed to the model, along with the one-hot encoding that we did earlier.  That includes the test set as well as live data when the model is used in production."
      ]
    },
    {
      "cell_type": "markdown",
      "metadata": {
        "id": "FnxcF5nL7u3r"
      },
      "source": [
        "### Min-Max transformation"
      ]
    },
    {
      "cell_type": "code",
      "metadata": {
        "colab": {
          "base_uri": "https://localhost:8080/",
          "height": 112
        },
        "id": "44q6lmIZjdZR",
        "outputId": "1fd92353-44a7-4717-cb5b-35e6131a2cf7"
      },
      "source": [
        "points=175\n",
        "\n",
        "dataset.pop('radius')\n",
        "\n",
        "stats = dataset.iloc[:, points*2:].describe()\n",
        "stats.pop(\"ST\")\n",
        "\n",
        "stats = stats.transpose()\n",
        "stats"
      ],
      "execution_count": 177,
      "outputs": [
        {
          "output_type": "execute_result",
          "data": {
            "text/html": [
              "<div>\n",
              "<style scoped>\n",
              "    .dataframe tbody tr th:only-of-type {\n",
              "        vertical-align: middle;\n",
              "    }\n",
              "\n",
              "    .dataframe tbody tr th {\n",
              "        vertical-align: top;\n",
              "    }\n",
              "\n",
              "    .dataframe thead th {\n",
              "        text-align: right;\n",
              "    }\n",
              "</style>\n",
              "<table border=\"1\" class=\"dataframe\">\n",
              "  <thead>\n",
              "    <tr style=\"text-align: right;\">\n",
              "      <th></th>\n",
              "      <th>count</th>\n",
              "      <th>mean</th>\n",
              "      <th>std</th>\n",
              "      <th>min</th>\n",
              "      <th>25%</th>\n",
              "      <th>50%</th>\n",
              "      <th>75%</th>\n",
              "      <th>max</th>\n",
              "    </tr>\n",
              "  </thead>\n",
              "  <tbody>\n",
              "    <tr>\n",
              "      <th>vol</th>\n",
              "      <td>32735.0</td>\n",
              "      <td>1.254803</td>\n",
              "      <td>0.454844</td>\n",
              "      <td>0.500013</td>\n",
              "      <td>0.865983</td>\n",
              "      <td>1.235161</td>\n",
              "      <td>1.611476</td>\n",
              "      <td>2.383112</td>\n",
              "    </tr>\n",
              "    <tr>\n",
              "      <th>Ps</th>\n",
              "      <td>32735.0</td>\n",
              "      <td>2935.664488</td>\n",
              "      <td>571.611908</td>\n",
              "      <td>2000.062726</td>\n",
              "      <td>2437.500335</td>\n",
              "      <td>2904.283233</td>\n",
              "      <td>3417.567230</td>\n",
              "      <td>3999.950203</td>\n",
              "    </tr>\n",
              "  </tbody>\n",
              "</table>\n",
              "</div>"
            ],
            "text/plain": [
              "       count         mean         std  ...          50%          75%          max\n",
              "vol  32735.0     1.254803    0.454844  ...     1.235161     1.611476     2.383112\n",
              "Ps   32735.0  2935.664488  571.611908  ...  2904.283233  3417.567230  3999.950203\n",
              "\n",
              "[2 rows x 8 columns]"
            ]
          },
          "metadata": {},
          "execution_count": 177
        }
      ]
    },
    {
      "cell_type": "code",
      "metadata": {
        "id": "9pdeddTJTz0O",
        "colab": {
          "base_uri": "https://localhost:8080/"
        },
        "outputId": "335b3c66-39d2-454c-f33e-55857c5d4b48"
      },
      "source": [
        "max_rho=[]\n",
        "min_rho=[]\n",
        "min_theta=[]\n",
        "max_theta=[]\n",
        "for i in range(len(dataset)):\n",
        "  max_rho.append(max(dataset.iloc[i, 0:points].values))\n",
        "  min_rho.append(min(dataset.iloc[i, 0:points].values))\n",
        "  max_theta.append(max(dataset.iloc[i, points:points*2].values))\n",
        "  min_theta.append(min(dataset.iloc[i, points:points*2].values))\n",
        "\n",
        "print(min(min_rho), max(max_rho), min(min_theta), max(max_theta))"
      ],
      "execution_count": 178,
      "outputs": [
        {
          "output_type": "stream",
          "name": "stdout",
          "text": [
            "1.2794529218609596e-06 6.283185168994403 0.3281601438928193 0.8596755773358611\n"
          ]
        }
      ]
    },
    {
      "cell_type": "code",
      "metadata": {
        "id": "laqakjWfUwd8"
      },
      "source": [
        "# Change the range of rho from 0 to 1\n",
        "\n",
        "OldMax= max(max_rho)\n",
        "OldMin=min(min_rho)\n",
        "\n",
        "NewValues_rho={}\n",
        "\n",
        "OldRange = (OldMax - OldMin)\n",
        "for i in range(len(dataset)):\n",
        "  if (OldRange == 0):\n",
        "      NewValue = NewMin\n",
        "      NewValues.append(NewValue)\n",
        "  else:\n",
        "      NewValue = (dataset.iloc[i, 0:points] - OldMin)/(OldMax-OldMin) \n",
        "      NewValues_rho[i]=NewValue"
      ],
      "execution_count": 179,
      "outputs": []
    },
    {
      "cell_type": "code",
      "metadata": {
        "id": "uCDhwYmJaPcS"
      },
      "source": [
        "# Change the range of theta from 0 to 1\n",
        "\n",
        "OldMax= max(max_theta)\n",
        "OldMin=min(min_theta)\n",
        "\n",
        "NewValues_theta={}\n",
        "\n",
        "OldRange = (OldMax - OldMin)\n",
        "for i in range(len(dataset)):\n",
        "  if (OldRange == 0):\n",
        "      NewValue = NewMin\n",
        "      NewValues.append(NewValue)\n",
        "  else:\n",
        "      NewValue = (dataset.iloc[i, points:points*2] - OldMin)/(OldMax-OldMin) \n",
        "      NewValues_theta[i]=NewValue"
      ],
      "execution_count": 180,
      "outputs": []
    },
    {
      "cell_type": "code",
      "metadata": {
        "id": "Qe4IfTeXj20G",
        "colab": {
          "base_uri": "https://localhost:8080/",
          "height": 256
        },
        "outputId": "98ce96ff-0fd4-46f7-ba07-e44254abfbd3"
      },
      "source": [
        "df_rho=pd.DataFrame.from_dict(NewValues_rho).T\n",
        "df_theta=pd.DataFrame.from_dict(NewValues_theta).T\n",
        "\n",
        "new_df=pd.concat([df_rho, df_theta], axis=1)\n",
        "\n",
        "new_df.tail()"
      ],
      "execution_count": 181,
      "outputs": [
        {
          "output_type": "execute_result",
          "data": {
            "text/html": [
              "<div>\n",
              "<style scoped>\n",
              "    .dataframe tbody tr th:only-of-type {\n",
              "        vertical-align: middle;\n",
              "    }\n",
              "\n",
              "    .dataframe tbody tr th {\n",
              "        vertical-align: top;\n",
              "    }\n",
              "\n",
              "    .dataframe thead th {\n",
              "        text-align: right;\n",
              "    }\n",
              "</style>\n",
              "<table border=\"1\" class=\"dataframe\">\n",
              "  <thead>\n",
              "    <tr style=\"text-align: right;\">\n",
              "      <th></th>\n",
              "      <th>theta</th>\n",
              "      <th>theta</th>\n",
              "      <th>theta</th>\n",
              "      <th>theta</th>\n",
              "      <th>theta</th>\n",
              "      <th>theta</th>\n",
              "      <th>theta</th>\n",
              "      <th>theta</th>\n",
              "      <th>theta</th>\n",
              "      <th>theta</th>\n",
              "      <th>theta</th>\n",
              "      <th>theta</th>\n",
              "      <th>theta</th>\n",
              "      <th>theta</th>\n",
              "      <th>theta</th>\n",
              "      <th>theta</th>\n",
              "      <th>theta</th>\n",
              "      <th>theta</th>\n",
              "      <th>theta</th>\n",
              "      <th>theta</th>\n",
              "      <th>theta</th>\n",
              "      <th>theta</th>\n",
              "      <th>theta</th>\n",
              "      <th>theta</th>\n",
              "      <th>theta</th>\n",
              "      <th>theta</th>\n",
              "      <th>theta</th>\n",
              "      <th>theta</th>\n",
              "      <th>theta</th>\n",
              "      <th>theta</th>\n",
              "      <th>theta</th>\n",
              "      <th>theta</th>\n",
              "      <th>theta</th>\n",
              "      <th>theta</th>\n",
              "      <th>theta</th>\n",
              "      <th>theta</th>\n",
              "      <th>theta</th>\n",
              "      <th>theta</th>\n",
              "      <th>theta</th>\n",
              "      <th>theta</th>\n",
              "      <th>...</th>\n",
              "      <th>rho</th>\n",
              "      <th>rho</th>\n",
              "      <th>rho</th>\n",
              "      <th>rho</th>\n",
              "      <th>rho</th>\n",
              "      <th>rho</th>\n",
              "      <th>rho</th>\n",
              "      <th>rho</th>\n",
              "      <th>rho</th>\n",
              "      <th>rho</th>\n",
              "      <th>rho</th>\n",
              "      <th>rho</th>\n",
              "      <th>rho</th>\n",
              "      <th>rho</th>\n",
              "      <th>rho</th>\n",
              "      <th>rho</th>\n",
              "      <th>rho</th>\n",
              "      <th>rho</th>\n",
              "      <th>rho</th>\n",
              "      <th>rho</th>\n",
              "      <th>rho</th>\n",
              "      <th>rho</th>\n",
              "      <th>rho</th>\n",
              "      <th>rho</th>\n",
              "      <th>rho</th>\n",
              "      <th>rho</th>\n",
              "      <th>rho</th>\n",
              "      <th>rho</th>\n",
              "      <th>rho</th>\n",
              "      <th>rho</th>\n",
              "      <th>rho</th>\n",
              "      <th>rho</th>\n",
              "      <th>rho</th>\n",
              "      <th>rho</th>\n",
              "      <th>rho</th>\n",
              "      <th>rho</th>\n",
              "      <th>rho</th>\n",
              "      <th>rho</th>\n",
              "      <th>rho</th>\n",
              "      <th>rho</th>\n",
              "    </tr>\n",
              "  </thead>\n",
              "  <tbody>\n",
              "    <tr>\n",
              "      <th>32730</th>\n",
              "      <td>0.001032</td>\n",
              "      <td>0.002194</td>\n",
              "      <td>0.015365</td>\n",
              "      <td>0.018853</td>\n",
              "      <td>0.023149</td>\n",
              "      <td>0.031454</td>\n",
              "      <td>0.033376</td>\n",
              "      <td>0.033635</td>\n",
              "      <td>0.046809</td>\n",
              "      <td>0.049694</td>\n",
              "      <td>0.050050</td>\n",
              "      <td>0.057535</td>\n",
              "      <td>0.064890</td>\n",
              "      <td>0.067680</td>\n",
              "      <td>0.068822</td>\n",
              "      <td>0.071802</td>\n",
              "      <td>0.079081</td>\n",
              "      <td>0.086279</td>\n",
              "      <td>0.092321</td>\n",
              "      <td>0.094989</td>\n",
              "      <td>0.099768</td>\n",
              "      <td>0.101119</td>\n",
              "      <td>0.103670</td>\n",
              "      <td>0.104155</td>\n",
              "      <td>0.114777</td>\n",
              "      <td>0.119293</td>\n",
              "      <td>0.139383</td>\n",
              "      <td>0.144120</td>\n",
              "      <td>0.150959</td>\n",
              "      <td>0.151492</td>\n",
              "      <td>0.151586</td>\n",
              "      <td>0.173204</td>\n",
              "      <td>0.173867</td>\n",
              "      <td>0.175242</td>\n",
              "      <td>0.178951</td>\n",
              "      <td>0.182475</td>\n",
              "      <td>0.187667</td>\n",
              "      <td>0.192496</td>\n",
              "      <td>0.193158</td>\n",
              "      <td>0.194348</td>\n",
              "      <td>...</td>\n",
              "      <td>0.807933</td>\n",
              "      <td>0.805297</td>\n",
              "      <td>0.798494</td>\n",
              "      <td>0.796206</td>\n",
              "      <td>0.792512</td>\n",
              "      <td>0.787336</td>\n",
              "      <td>0.785373</td>\n",
              "      <td>0.778280</td>\n",
              "      <td>0.777982</td>\n",
              "      <td>0.774809</td>\n",
              "      <td>0.769768</td>\n",
              "      <td>0.757258</td>\n",
              "      <td>0.747296</td>\n",
              "      <td>0.742800</td>\n",
              "      <td>0.732523</td>\n",
              "      <td>0.728207</td>\n",
              "      <td>0.714812</td>\n",
              "      <td>0.682486</td>\n",
              "      <td>0.671542</td>\n",
              "      <td>0.648623</td>\n",
              "      <td>0.647304</td>\n",
              "      <td>0.623069</td>\n",
              "      <td>0.599058</td>\n",
              "      <td>0.571277</td>\n",
              "      <td>0.570698</td>\n",
              "      <td>0.565982</td>\n",
              "      <td>0.557276</td>\n",
              "      <td>0.539910</td>\n",
              "      <td>0.512995</td>\n",
              "      <td>0.505952</td>\n",
              "      <td>0.497689</td>\n",
              "      <td>0.485760</td>\n",
              "      <td>0.477843</td>\n",
              "      <td>0.467435</td>\n",
              "      <td>0.463062</td>\n",
              "      <td>0.453684</td>\n",
              "      <td>0.451939</td>\n",
              "      <td>0.449266</td>\n",
              "      <td>0.440702</td>\n",
              "      <td>0.435644</td>\n",
              "    </tr>\n",
              "    <tr>\n",
              "      <th>32731</th>\n",
              "      <td>0.010897</td>\n",
              "      <td>0.013669</td>\n",
              "      <td>0.015844</td>\n",
              "      <td>0.024421</td>\n",
              "      <td>0.026560</td>\n",
              "      <td>0.031107</td>\n",
              "      <td>0.042079</td>\n",
              "      <td>0.042086</td>\n",
              "      <td>0.042868</td>\n",
              "      <td>0.049034</td>\n",
              "      <td>0.055737</td>\n",
              "      <td>0.071811</td>\n",
              "      <td>0.080013</td>\n",
              "      <td>0.091428</td>\n",
              "      <td>0.095238</td>\n",
              "      <td>0.101817</td>\n",
              "      <td>0.116885</td>\n",
              "      <td>0.118659</td>\n",
              "      <td>0.122297</td>\n",
              "      <td>0.140462</td>\n",
              "      <td>0.144469</td>\n",
              "      <td>0.146318</td>\n",
              "      <td>0.150641</td>\n",
              "      <td>0.173054</td>\n",
              "      <td>0.177056</td>\n",
              "      <td>0.179546</td>\n",
              "      <td>0.180619</td>\n",
              "      <td>0.191280</td>\n",
              "      <td>0.191849</td>\n",
              "      <td>0.192254</td>\n",
              "      <td>0.200807</td>\n",
              "      <td>0.204487</td>\n",
              "      <td>0.206427</td>\n",
              "      <td>0.210904</td>\n",
              "      <td>0.211479</td>\n",
              "      <td>0.215116</td>\n",
              "      <td>0.216980</td>\n",
              "      <td>0.221005</td>\n",
              "      <td>0.225657</td>\n",
              "      <td>0.235560</td>\n",
              "      <td>...</td>\n",
              "      <td>0.719886</td>\n",
              "      <td>0.712427</td>\n",
              "      <td>0.707141</td>\n",
              "      <td>0.706616</td>\n",
              "      <td>0.688732</td>\n",
              "      <td>0.680917</td>\n",
              "      <td>0.661473</td>\n",
              "      <td>0.642966</td>\n",
              "      <td>0.641161</td>\n",
              "      <td>0.620982</td>\n",
              "      <td>0.616136</td>\n",
              "      <td>0.605157</td>\n",
              "      <td>0.590658</td>\n",
              "      <td>0.586283</td>\n",
              "      <td>0.586147</td>\n",
              "      <td>0.579731</td>\n",
              "      <td>0.578687</td>\n",
              "      <td>0.557160</td>\n",
              "      <td>0.521868</td>\n",
              "      <td>0.513191</td>\n",
              "      <td>0.502970</td>\n",
              "      <td>0.492227</td>\n",
              "      <td>0.487832</td>\n",
              "      <td>0.465421</td>\n",
              "      <td>0.458617</td>\n",
              "      <td>0.456328</td>\n",
              "      <td>0.446363</td>\n",
              "      <td>0.442298</td>\n",
              "      <td>0.438393</td>\n",
              "      <td>0.429988</td>\n",
              "      <td>0.428863</td>\n",
              "      <td>0.423656</td>\n",
              "      <td>0.421715</td>\n",
              "      <td>0.421659</td>\n",
              "      <td>0.420757</td>\n",
              "      <td>0.420511</td>\n",
              "      <td>0.420332</td>\n",
              "      <td>0.420169</td>\n",
              "      <td>0.419641</td>\n",
              "      <td>0.419152</td>\n",
              "    </tr>\n",
              "    <tr>\n",
              "      <th>32732</th>\n",
              "      <td>0.006000</td>\n",
              "      <td>0.007987</td>\n",
              "      <td>0.008824</td>\n",
              "      <td>0.013588</td>\n",
              "      <td>0.017405</td>\n",
              "      <td>0.020641</td>\n",
              "      <td>0.021214</td>\n",
              "      <td>0.025388</td>\n",
              "      <td>0.027006</td>\n",
              "      <td>0.032042</td>\n",
              "      <td>0.039841</td>\n",
              "      <td>0.040967</td>\n",
              "      <td>0.049478</td>\n",
              "      <td>0.051180</td>\n",
              "      <td>0.065162</td>\n",
              "      <td>0.074327</td>\n",
              "      <td>0.075058</td>\n",
              "      <td>0.080493</td>\n",
              "      <td>0.085499</td>\n",
              "      <td>0.087606</td>\n",
              "      <td>0.099096</td>\n",
              "      <td>0.099889</td>\n",
              "      <td>0.102601</td>\n",
              "      <td>0.110801</td>\n",
              "      <td>0.113797</td>\n",
              "      <td>0.114483</td>\n",
              "      <td>0.127961</td>\n",
              "      <td>0.138317</td>\n",
              "      <td>0.176797</td>\n",
              "      <td>0.186803</td>\n",
              "      <td>0.186826</td>\n",
              "      <td>0.193705</td>\n",
              "      <td>0.196522</td>\n",
              "      <td>0.198580</td>\n",
              "      <td>0.198836</td>\n",
              "      <td>0.225082</td>\n",
              "      <td>0.225438</td>\n",
              "      <td>0.245299</td>\n",
              "      <td>0.248271</td>\n",
              "      <td>0.254369</td>\n",
              "      <td>...</td>\n",
              "      <td>0.601486</td>\n",
              "      <td>0.591342</td>\n",
              "      <td>0.590251</td>\n",
              "      <td>0.583189</td>\n",
              "      <td>0.578513</td>\n",
              "      <td>0.577679</td>\n",
              "      <td>0.577301</td>\n",
              "      <td>0.573865</td>\n",
              "      <td>0.570884</td>\n",
              "      <td>0.570465</td>\n",
              "      <td>0.566581</td>\n",
              "      <td>0.552213</td>\n",
              "      <td>0.548069</td>\n",
              "      <td>0.547733</td>\n",
              "      <td>0.547575</td>\n",
              "      <td>0.544796</td>\n",
              "      <td>0.528533</td>\n",
              "      <td>0.526047</td>\n",
              "      <td>0.526014</td>\n",
              "      <td>0.525275</td>\n",
              "      <td>0.517149</td>\n",
              "      <td>0.495040</td>\n",
              "      <td>0.491880</td>\n",
              "      <td>0.490673</td>\n",
              "      <td>0.480773</td>\n",
              "      <td>0.479881</td>\n",
              "      <td>0.478916</td>\n",
              "      <td>0.476471</td>\n",
              "      <td>0.470980</td>\n",
              "      <td>0.464893</td>\n",
              "      <td>0.460848</td>\n",
              "      <td>0.454858</td>\n",
              "      <td>0.453348</td>\n",
              "      <td>0.452187</td>\n",
              "      <td>0.438557</td>\n",
              "      <td>0.435603</td>\n",
              "      <td>0.432897</td>\n",
              "      <td>0.432806</td>\n",
              "      <td>0.431903</td>\n",
              "      <td>0.431225</td>\n",
              "    </tr>\n",
              "    <tr>\n",
              "      <th>32733</th>\n",
              "      <td>0.009613</td>\n",
              "      <td>0.013249</td>\n",
              "      <td>0.023267</td>\n",
              "      <td>0.030833</td>\n",
              "      <td>0.041994</td>\n",
              "      <td>0.043179</td>\n",
              "      <td>0.052714</td>\n",
              "      <td>0.066573</td>\n",
              "      <td>0.079588</td>\n",
              "      <td>0.079652</td>\n",
              "      <td>0.082404</td>\n",
              "      <td>0.085309</td>\n",
              "      <td>0.090031</td>\n",
              "      <td>0.098890</td>\n",
              "      <td>0.105872</td>\n",
              "      <td>0.111602</td>\n",
              "      <td>0.114984</td>\n",
              "      <td>0.115970</td>\n",
              "      <td>0.117340</td>\n",
              "      <td>0.126564</td>\n",
              "      <td>0.133776</td>\n",
              "      <td>0.134004</td>\n",
              "      <td>0.142925</td>\n",
              "      <td>0.144203</td>\n",
              "      <td>0.154732</td>\n",
              "      <td>0.169835</td>\n",
              "      <td>0.180117</td>\n",
              "      <td>0.180880</td>\n",
              "      <td>0.186318</td>\n",
              "      <td>0.197969</td>\n",
              "      <td>0.200301</td>\n",
              "      <td>0.207074</td>\n",
              "      <td>0.209012</td>\n",
              "      <td>0.210203</td>\n",
              "      <td>0.211550</td>\n",
              "      <td>0.217103</td>\n",
              "      <td>0.219033</td>\n",
              "      <td>0.221249</td>\n",
              "      <td>0.224975</td>\n",
              "      <td>0.232765</td>\n",
              "      <td>...</td>\n",
              "      <td>0.885669</td>\n",
              "      <td>0.886925</td>\n",
              "      <td>0.892162</td>\n",
              "      <td>0.893425</td>\n",
              "      <td>0.895661</td>\n",
              "      <td>0.896284</td>\n",
              "      <td>0.897435</td>\n",
              "      <td>0.897754</td>\n",
              "      <td>0.898005</td>\n",
              "      <td>0.897873</td>\n",
              "      <td>0.897081</td>\n",
              "      <td>0.895392</td>\n",
              "      <td>0.894315</td>\n",
              "      <td>0.887742</td>\n",
              "      <td>0.880323</td>\n",
              "      <td>0.864938</td>\n",
              "      <td>0.854198</td>\n",
              "      <td>0.848619</td>\n",
              "      <td>0.844155</td>\n",
              "      <td>0.801904</td>\n",
              "      <td>0.771412</td>\n",
              "      <td>0.759260</td>\n",
              "      <td>0.730607</td>\n",
              "      <td>0.716590</td>\n",
              "      <td>0.697244</td>\n",
              "      <td>0.689307</td>\n",
              "      <td>0.685830</td>\n",
              "      <td>0.684579</td>\n",
              "      <td>0.659501</td>\n",
              "      <td>0.655357</td>\n",
              "      <td>0.615458</td>\n",
              "      <td>0.603224</td>\n",
              "      <td>0.589759</td>\n",
              "      <td>0.577703</td>\n",
              "      <td>0.543313</td>\n",
              "      <td>0.537327</td>\n",
              "      <td>0.534627</td>\n",
              "      <td>0.534246</td>\n",
              "      <td>0.521742</td>\n",
              "      <td>0.503082</td>\n",
              "    </tr>\n",
              "    <tr>\n",
              "      <th>32734</th>\n",
              "      <td>0.007828</td>\n",
              "      <td>0.022984</td>\n",
              "      <td>0.029037</td>\n",
              "      <td>0.033058</td>\n",
              "      <td>0.034753</td>\n",
              "      <td>0.036754</td>\n",
              "      <td>0.039720</td>\n",
              "      <td>0.055050</td>\n",
              "      <td>0.056299</td>\n",
              "      <td>0.062361</td>\n",
              "      <td>0.063711</td>\n",
              "      <td>0.063712</td>\n",
              "      <td>0.067037</td>\n",
              "      <td>0.078895</td>\n",
              "      <td>0.083315</td>\n",
              "      <td>0.099613</td>\n",
              "      <td>0.107518</td>\n",
              "      <td>0.109750</td>\n",
              "      <td>0.115572</td>\n",
              "      <td>0.121597</td>\n",
              "      <td>0.123241</td>\n",
              "      <td>0.141864</td>\n",
              "      <td>0.142776</td>\n",
              "      <td>0.144751</td>\n",
              "      <td>0.149633</td>\n",
              "      <td>0.161795</td>\n",
              "      <td>0.162833</td>\n",
              "      <td>0.167627</td>\n",
              "      <td>0.173130</td>\n",
              "      <td>0.177743</td>\n",
              "      <td>0.178582</td>\n",
              "      <td>0.186560</td>\n",
              "      <td>0.191078</td>\n",
              "      <td>0.195513</td>\n",
              "      <td>0.198591</td>\n",
              "      <td>0.198827</td>\n",
              "      <td>0.202362</td>\n",
              "      <td>0.203185</td>\n",
              "      <td>0.204716</td>\n",
              "      <td>0.214176</td>\n",
              "      <td>...</td>\n",
              "      <td>0.553421</td>\n",
              "      <td>0.552679</td>\n",
              "      <td>0.550420</td>\n",
              "      <td>0.547319</td>\n",
              "      <td>0.546132</td>\n",
              "      <td>0.542687</td>\n",
              "      <td>0.529583</td>\n",
              "      <td>0.526542</td>\n",
              "      <td>0.523671</td>\n",
              "      <td>0.519897</td>\n",
              "      <td>0.512992</td>\n",
              "      <td>0.500860</td>\n",
              "      <td>0.494427</td>\n",
              "      <td>0.475040</td>\n",
              "      <td>0.470555</td>\n",
              "      <td>0.469862</td>\n",
              "      <td>0.468346</td>\n",
              "      <td>0.465408</td>\n",
              "      <td>0.452678</td>\n",
              "      <td>0.437633</td>\n",
              "      <td>0.429442</td>\n",
              "      <td>0.423221</td>\n",
              "      <td>0.411399</td>\n",
              "      <td>0.406624</td>\n",
              "      <td>0.398620</td>\n",
              "      <td>0.395285</td>\n",
              "      <td>0.387359</td>\n",
              "      <td>0.380730</td>\n",
              "      <td>0.374722</td>\n",
              "      <td>0.372360</td>\n",
              "      <td>0.369903</td>\n",
              "      <td>0.369015</td>\n",
              "      <td>0.354404</td>\n",
              "      <td>0.353798</td>\n",
              "      <td>0.352439</td>\n",
              "      <td>0.350299</td>\n",
              "      <td>0.349672</td>\n",
              "      <td>0.348544</td>\n",
              "      <td>0.342736</td>\n",
              "      <td>0.342725</td>\n",
              "    </tr>\n",
              "  </tbody>\n",
              "</table>\n",
              "<p>5 rows × 350 columns</p>\n",
              "</div>"
            ],
            "text/plain": [
              "          theta     theta     theta  ...       rho       rho       rho\n",
              "32730  0.001032  0.002194  0.015365  ...  0.449266  0.440702  0.435644\n",
              "32731  0.010897  0.013669  0.015844  ...  0.420169  0.419641  0.419152\n",
              "32732  0.006000  0.007987  0.008824  ...  0.432806  0.431903  0.431225\n",
              "32733  0.009613  0.013249  0.023267  ...  0.534246  0.521742  0.503082\n",
              "32734  0.007828  0.022984  0.029037  ...  0.348544  0.342736  0.342725\n",
              "\n",
              "[5 rows x 350 columns]"
            ]
          },
          "metadata": {},
          "execution_count": 181
        }
      ]
    },
    {
      "cell_type": "code",
      "metadata": {
        "id": "ogH0AAnoVhbM",
        "colab": {
          "base_uri": "https://localhost:8080/",
          "height": 312
        },
        "outputId": "3d449669-596a-469a-99a4-25187c1926bc"
      },
      "source": [
        "plt.figure()\n",
        "plt.title('Polar coordinates')\n",
        "for n in range(1000):\n",
        "  plt.plot(new_df.iloc[n, 0:points], new_df.iloc[n, points:points*2], 'o', markersize=1)\n",
        "plt.ylabel('Radius, ρ')\n",
        "plt.xlabel('Azimuth angle, θ')"
      ],
      "execution_count": 66,
      "outputs": [
        {
          "output_type": "execute_result",
          "data": {
            "text/plain": [
              "Text(0.5, 0, 'Azimuth angle, θ')"
            ]
          },
          "metadata": {},
          "execution_count": 66
        },
        {
          "output_type": "display_data",
          "data": {
            "image/png": "[encoded data removed]",
            "text/plain": [
              "<Figure size 432x288 with 1 Axes>"
            ]
          },
          "metadata": {
            "needs_background": "light"
          }
        }
      ]
    },
    {
      "cell_type": "code",
      "metadata": {
        "id": "Yemp8bAu7xo5"
      },
      "source": [
        "def min_max_norm(x):\n",
        "  return (x-stats['min'])/(stats['max']-stats['min'])\n",
        "\n",
        "normed_data_rest = min_max_norm(dataset.iloc[:, points*2:])\n"
      ],
      "execution_count": 182,
      "outputs": []
    },
    {
      "cell_type": "code",
      "metadata": {
        "id": "eQ0X2FOTWAsV",
        "colab": {
          "base_uri": "https://localhost:8080/",
          "height": 256
        },
        "outputId": "ce8eef28-9a37-42dd-85f3-19c415b3c89e"
      },
      "source": [
        "normed_data = new_df.copy()\n",
        "normed_data['volume'] = normed_data_rest.vol\n",
        "# normed_data['centre_x'] = normed_data_rest.centre_x\n",
        "# normed_data['centre_y'] = normed_data_rest.centre_y\n",
        "# normed_data['Aspect_Ratio'] = normed_data_rest.Aspect_Ratio\n",
        "\n",
        "normed_data['Ps'] = normed_data_rest.Ps\n",
        "# normed_data['volt'] = normed_data_rest.volt\n",
        "normed_data['ST'] = dataset.ST\n",
        "\n",
        "normed_data.tail()"
      ],
      "execution_count": 183,
      "outputs": [
        {
          "output_type": "execute_result",
          "data": {
            "text/html": [
              "<div>\n",
              "<style scoped>\n",
              "    .dataframe tbody tr th:only-of-type {\n",
              "        vertical-align: middle;\n",
              "    }\n",
              "\n",
              "    .dataframe tbody tr th {\n",
              "        vertical-align: top;\n",
              "    }\n",
              "\n",
              "    .dataframe thead th {\n",
              "        text-align: right;\n",
              "    }\n",
              "</style>\n",
              "<table border=\"1\" class=\"dataframe\">\n",
              "  <thead>\n",
              "    <tr style=\"text-align: right;\">\n",
              "      <th></th>\n",
              "      <th>theta</th>\n",
              "      <th>theta</th>\n",
              "      <th>theta</th>\n",
              "      <th>theta</th>\n",
              "      <th>theta</th>\n",
              "      <th>theta</th>\n",
              "      <th>theta</th>\n",
              "      <th>theta</th>\n",
              "      <th>theta</th>\n",
              "      <th>theta</th>\n",
              "      <th>theta</th>\n",
              "      <th>theta</th>\n",
              "      <th>theta</th>\n",
              "      <th>theta</th>\n",
              "      <th>theta</th>\n",
              "      <th>theta</th>\n",
              "      <th>theta</th>\n",
              "      <th>theta</th>\n",
              "      <th>theta</th>\n",
              "      <th>theta</th>\n",
              "      <th>theta</th>\n",
              "      <th>theta</th>\n",
              "      <th>theta</th>\n",
              "      <th>theta</th>\n",
              "      <th>theta</th>\n",
              "      <th>theta</th>\n",
              "      <th>theta</th>\n",
              "      <th>theta</th>\n",
              "      <th>theta</th>\n",
              "      <th>theta</th>\n",
              "      <th>theta</th>\n",
              "      <th>theta</th>\n",
              "      <th>theta</th>\n",
              "      <th>theta</th>\n",
              "      <th>theta</th>\n",
              "      <th>theta</th>\n",
              "      <th>theta</th>\n",
              "      <th>theta</th>\n",
              "      <th>theta</th>\n",
              "      <th>theta</th>\n",
              "      <th>...</th>\n",
              "      <th>rho</th>\n",
              "      <th>rho</th>\n",
              "      <th>rho</th>\n",
              "      <th>rho</th>\n",
              "      <th>rho</th>\n",
              "      <th>rho</th>\n",
              "      <th>rho</th>\n",
              "      <th>rho</th>\n",
              "      <th>rho</th>\n",
              "      <th>rho</th>\n",
              "      <th>rho</th>\n",
              "      <th>rho</th>\n",
              "      <th>rho</th>\n",
              "      <th>rho</th>\n",
              "      <th>rho</th>\n",
              "      <th>rho</th>\n",
              "      <th>rho</th>\n",
              "      <th>rho</th>\n",
              "      <th>rho</th>\n",
              "      <th>rho</th>\n",
              "      <th>rho</th>\n",
              "      <th>rho</th>\n",
              "      <th>rho</th>\n",
              "      <th>rho</th>\n",
              "      <th>rho</th>\n",
              "      <th>rho</th>\n",
              "      <th>rho</th>\n",
              "      <th>rho</th>\n",
              "      <th>rho</th>\n",
              "      <th>rho</th>\n",
              "      <th>rho</th>\n",
              "      <th>rho</th>\n",
              "      <th>rho</th>\n",
              "      <th>rho</th>\n",
              "      <th>rho</th>\n",
              "      <th>rho</th>\n",
              "      <th>rho</th>\n",
              "      <th>volume</th>\n",
              "      <th>Ps</th>\n",
              "      <th>ST</th>\n",
              "    </tr>\n",
              "  </thead>\n",
              "  <tbody>\n",
              "    <tr>\n",
              "      <th>32730</th>\n",
              "      <td>0.001032</td>\n",
              "      <td>0.002194</td>\n",
              "      <td>0.015365</td>\n",
              "      <td>0.018853</td>\n",
              "      <td>0.023149</td>\n",
              "      <td>0.031454</td>\n",
              "      <td>0.033376</td>\n",
              "      <td>0.033635</td>\n",
              "      <td>0.046809</td>\n",
              "      <td>0.049694</td>\n",
              "      <td>0.050050</td>\n",
              "      <td>0.057535</td>\n",
              "      <td>0.064890</td>\n",
              "      <td>0.067680</td>\n",
              "      <td>0.068822</td>\n",
              "      <td>0.071802</td>\n",
              "      <td>0.079081</td>\n",
              "      <td>0.086279</td>\n",
              "      <td>0.092321</td>\n",
              "      <td>0.094989</td>\n",
              "      <td>0.099768</td>\n",
              "      <td>0.101119</td>\n",
              "      <td>0.103670</td>\n",
              "      <td>0.104155</td>\n",
              "      <td>0.114777</td>\n",
              "      <td>0.119293</td>\n",
              "      <td>0.139383</td>\n",
              "      <td>0.144120</td>\n",
              "      <td>0.150959</td>\n",
              "      <td>0.151492</td>\n",
              "      <td>0.151586</td>\n",
              "      <td>0.173204</td>\n",
              "      <td>0.173867</td>\n",
              "      <td>0.175242</td>\n",
              "      <td>0.178951</td>\n",
              "      <td>0.182475</td>\n",
              "      <td>0.187667</td>\n",
              "      <td>0.192496</td>\n",
              "      <td>0.193158</td>\n",
              "      <td>0.194348</td>\n",
              "      <td>...</td>\n",
              "      <td>0.796206</td>\n",
              "      <td>0.792512</td>\n",
              "      <td>0.787336</td>\n",
              "      <td>0.785373</td>\n",
              "      <td>0.778280</td>\n",
              "      <td>0.777982</td>\n",
              "      <td>0.774809</td>\n",
              "      <td>0.769768</td>\n",
              "      <td>0.757258</td>\n",
              "      <td>0.747296</td>\n",
              "      <td>0.742800</td>\n",
              "      <td>0.732523</td>\n",
              "      <td>0.728207</td>\n",
              "      <td>0.714812</td>\n",
              "      <td>0.682486</td>\n",
              "      <td>0.671542</td>\n",
              "      <td>0.648623</td>\n",
              "      <td>0.647304</td>\n",
              "      <td>0.623069</td>\n",
              "      <td>0.599058</td>\n",
              "      <td>0.571277</td>\n",
              "      <td>0.570698</td>\n",
              "      <td>0.565982</td>\n",
              "      <td>0.557276</td>\n",
              "      <td>0.539910</td>\n",
              "      <td>0.512995</td>\n",
              "      <td>0.505952</td>\n",
              "      <td>0.497689</td>\n",
              "      <td>0.485760</td>\n",
              "      <td>0.477843</td>\n",
              "      <td>0.467435</td>\n",
              "      <td>0.463062</td>\n",
              "      <td>0.453684</td>\n",
              "      <td>0.451939</td>\n",
              "      <td>0.449266</td>\n",
              "      <td>0.440702</td>\n",
              "      <td>0.435644</td>\n",
              "      <td>0.472966</td>\n",
              "      <td>0.874562</td>\n",
              "      <td>63.829010</td>\n",
              "    </tr>\n",
              "    <tr>\n",
              "      <th>32731</th>\n",
              "      <td>0.010897</td>\n",
              "      <td>0.013669</td>\n",
              "      <td>0.015844</td>\n",
              "      <td>0.024421</td>\n",
              "      <td>0.026560</td>\n",
              "      <td>0.031107</td>\n",
              "      <td>0.042079</td>\n",
              "      <td>0.042086</td>\n",
              "      <td>0.042868</td>\n",
              "      <td>0.049034</td>\n",
              "      <td>0.055737</td>\n",
              "      <td>0.071811</td>\n",
              "      <td>0.080013</td>\n",
              "      <td>0.091428</td>\n",
              "      <td>0.095238</td>\n",
              "      <td>0.101817</td>\n",
              "      <td>0.116885</td>\n",
              "      <td>0.118659</td>\n",
              "      <td>0.122297</td>\n",
              "      <td>0.140462</td>\n",
              "      <td>0.144469</td>\n",
              "      <td>0.146318</td>\n",
              "      <td>0.150641</td>\n",
              "      <td>0.173054</td>\n",
              "      <td>0.177056</td>\n",
              "      <td>0.179546</td>\n",
              "      <td>0.180619</td>\n",
              "      <td>0.191280</td>\n",
              "      <td>0.191849</td>\n",
              "      <td>0.192254</td>\n",
              "      <td>0.200807</td>\n",
              "      <td>0.204487</td>\n",
              "      <td>0.206427</td>\n",
              "      <td>0.210904</td>\n",
              "      <td>0.211479</td>\n",
              "      <td>0.215116</td>\n",
              "      <td>0.216980</td>\n",
              "      <td>0.221005</td>\n",
              "      <td>0.225657</td>\n",
              "      <td>0.235560</td>\n",
              "      <td>...</td>\n",
              "      <td>0.706616</td>\n",
              "      <td>0.688732</td>\n",
              "      <td>0.680917</td>\n",
              "      <td>0.661473</td>\n",
              "      <td>0.642966</td>\n",
              "      <td>0.641161</td>\n",
              "      <td>0.620982</td>\n",
              "      <td>0.616136</td>\n",
              "      <td>0.605157</td>\n",
              "      <td>0.590658</td>\n",
              "      <td>0.586283</td>\n",
              "      <td>0.586147</td>\n",
              "      <td>0.579731</td>\n",
              "      <td>0.578687</td>\n",
              "      <td>0.557160</td>\n",
              "      <td>0.521868</td>\n",
              "      <td>0.513191</td>\n",
              "      <td>0.502970</td>\n",
              "      <td>0.492227</td>\n",
              "      <td>0.487832</td>\n",
              "      <td>0.465421</td>\n",
              "      <td>0.458617</td>\n",
              "      <td>0.456328</td>\n",
              "      <td>0.446363</td>\n",
              "      <td>0.442298</td>\n",
              "      <td>0.438393</td>\n",
              "      <td>0.429988</td>\n",
              "      <td>0.428863</td>\n",
              "      <td>0.423656</td>\n",
              "      <td>0.421715</td>\n",
              "      <td>0.421659</td>\n",
              "      <td>0.420757</td>\n",
              "      <td>0.420511</td>\n",
              "      <td>0.420332</td>\n",
              "      <td>0.420169</td>\n",
              "      <td>0.419641</td>\n",
              "      <td>0.419152</td>\n",
              "      <td>0.445021</td>\n",
              "      <td>0.572995</td>\n",
              "      <td>43.558728</td>\n",
              "    </tr>\n",
              "    <tr>\n",
              "      <th>32732</th>\n",
              "      <td>0.006000</td>\n",
              "      <td>0.007987</td>\n",
              "      <td>0.008824</td>\n",
              "      <td>0.013588</td>\n",
              "      <td>0.017405</td>\n",
              "      <td>0.020641</td>\n",
              "      <td>0.021214</td>\n",
              "      <td>0.025388</td>\n",
              "      <td>0.027006</td>\n",
              "      <td>0.032042</td>\n",
              "      <td>0.039841</td>\n",
              "      <td>0.040967</td>\n",
              "      <td>0.049478</td>\n",
              "      <td>0.051180</td>\n",
              "      <td>0.065162</td>\n",
              "      <td>0.074327</td>\n",
              "      <td>0.075058</td>\n",
              "      <td>0.080493</td>\n",
              "      <td>0.085499</td>\n",
              "      <td>0.087606</td>\n",
              "      <td>0.099096</td>\n",
              "      <td>0.099889</td>\n",
              "      <td>0.102601</td>\n",
              "      <td>0.110801</td>\n",
              "      <td>0.113797</td>\n",
              "      <td>0.114483</td>\n",
              "      <td>0.127961</td>\n",
              "      <td>0.138317</td>\n",
              "      <td>0.176797</td>\n",
              "      <td>0.186803</td>\n",
              "      <td>0.186826</td>\n",
              "      <td>0.193705</td>\n",
              "      <td>0.196522</td>\n",
              "      <td>0.198580</td>\n",
              "      <td>0.198836</td>\n",
              "      <td>0.225082</td>\n",
              "      <td>0.225438</td>\n",
              "      <td>0.245299</td>\n",
              "      <td>0.248271</td>\n",
              "      <td>0.254369</td>\n",
              "      <td>...</td>\n",
              "      <td>0.583189</td>\n",
              "      <td>0.578513</td>\n",
              "      <td>0.577679</td>\n",
              "      <td>0.577301</td>\n",
              "      <td>0.573865</td>\n",
              "      <td>0.570884</td>\n",
              "      <td>0.570465</td>\n",
              "      <td>0.566581</td>\n",
              "      <td>0.552213</td>\n",
              "      <td>0.548069</td>\n",
              "      <td>0.547733</td>\n",
              "      <td>0.547575</td>\n",
              "      <td>0.544796</td>\n",
              "      <td>0.528533</td>\n",
              "      <td>0.526047</td>\n",
              "      <td>0.526014</td>\n",
              "      <td>0.525275</td>\n",
              "      <td>0.517149</td>\n",
              "      <td>0.495040</td>\n",
              "      <td>0.491880</td>\n",
              "      <td>0.490673</td>\n",
              "      <td>0.480773</td>\n",
              "      <td>0.479881</td>\n",
              "      <td>0.478916</td>\n",
              "      <td>0.476471</td>\n",
              "      <td>0.470980</td>\n",
              "      <td>0.464893</td>\n",
              "      <td>0.460848</td>\n",
              "      <td>0.454858</td>\n",
              "      <td>0.453348</td>\n",
              "      <td>0.452187</td>\n",
              "      <td>0.438557</td>\n",
              "      <td>0.435603</td>\n",
              "      <td>0.432897</td>\n",
              "      <td>0.432806</td>\n",
              "      <td>0.431903</td>\n",
              "      <td>0.431225</td>\n",
              "      <td>0.331866</td>\n",
              "      <td>0.618755</td>\n",
              "      <td>60.181335</td>\n",
              "    </tr>\n",
              "    <tr>\n",
              "      <th>32733</th>\n",
              "      <td>0.009613</td>\n",
              "      <td>0.013249</td>\n",
              "      <td>0.023267</td>\n",
              "      <td>0.030833</td>\n",
              "      <td>0.041994</td>\n",
              "      <td>0.043179</td>\n",
              "      <td>0.052714</td>\n",
              "      <td>0.066573</td>\n",
              "      <td>0.079588</td>\n",
              "      <td>0.079652</td>\n",
              "      <td>0.082404</td>\n",
              "      <td>0.085309</td>\n",
              "      <td>0.090031</td>\n",
              "      <td>0.098890</td>\n",
              "      <td>0.105872</td>\n",
              "      <td>0.111602</td>\n",
              "      <td>0.114984</td>\n",
              "      <td>0.115970</td>\n",
              "      <td>0.117340</td>\n",
              "      <td>0.126564</td>\n",
              "      <td>0.133776</td>\n",
              "      <td>0.134004</td>\n",
              "      <td>0.142925</td>\n",
              "      <td>0.144203</td>\n",
              "      <td>0.154732</td>\n",
              "      <td>0.169835</td>\n",
              "      <td>0.180117</td>\n",
              "      <td>0.180880</td>\n",
              "      <td>0.186318</td>\n",
              "      <td>0.197969</td>\n",
              "      <td>0.200301</td>\n",
              "      <td>0.207074</td>\n",
              "      <td>0.209012</td>\n",
              "      <td>0.210203</td>\n",
              "      <td>0.211550</td>\n",
              "      <td>0.217103</td>\n",
              "      <td>0.219033</td>\n",
              "      <td>0.221249</td>\n",
              "      <td>0.224975</td>\n",
              "      <td>0.232765</td>\n",
              "      <td>...</td>\n",
              "      <td>0.893425</td>\n",
              "      <td>0.895661</td>\n",
              "      <td>0.896284</td>\n",
              "      <td>0.897435</td>\n",
              "      <td>0.897754</td>\n",
              "      <td>0.898005</td>\n",
              "      <td>0.897873</td>\n",
              "      <td>0.897081</td>\n",
              "      <td>0.895392</td>\n",
              "      <td>0.894315</td>\n",
              "      <td>0.887742</td>\n",
              "      <td>0.880323</td>\n",
              "      <td>0.864938</td>\n",
              "      <td>0.854198</td>\n",
              "      <td>0.848619</td>\n",
              "      <td>0.844155</td>\n",
              "      <td>0.801904</td>\n",
              "      <td>0.771412</td>\n",
              "      <td>0.759260</td>\n",
              "      <td>0.730607</td>\n",
              "      <td>0.716590</td>\n",
              "      <td>0.697244</td>\n",
              "      <td>0.689307</td>\n",
              "      <td>0.685830</td>\n",
              "      <td>0.684579</td>\n",
              "      <td>0.659501</td>\n",
              "      <td>0.655357</td>\n",
              "      <td>0.615458</td>\n",
              "      <td>0.603224</td>\n",
              "      <td>0.589759</td>\n",
              "      <td>0.577703</td>\n",
              "      <td>0.543313</td>\n",
              "      <td>0.537327</td>\n",
              "      <td>0.534627</td>\n",
              "      <td>0.534246</td>\n",
              "      <td>0.521742</td>\n",
              "      <td>0.503082</td>\n",
              "      <td>0.619149</td>\n",
              "      <td>0.412445</td>\n",
              "      <td>40.078039</td>\n",
              "    </tr>\n",
              "    <tr>\n",
              "      <th>32734</th>\n",
              "      <td>0.007828</td>\n",
              "      <td>0.022984</td>\n",
              "      <td>0.029037</td>\n",
              "      <td>0.033058</td>\n",
              "      <td>0.034753</td>\n",
              "      <td>0.036754</td>\n",
              "      <td>0.039720</td>\n",
              "      <td>0.055050</td>\n",
              "      <td>0.056299</td>\n",
              "      <td>0.062361</td>\n",
              "      <td>0.063711</td>\n",
              "      <td>0.063712</td>\n",
              "      <td>0.067037</td>\n",
              "      <td>0.078895</td>\n",
              "      <td>0.083315</td>\n",
              "      <td>0.099613</td>\n",
              "      <td>0.107518</td>\n",
              "      <td>0.109750</td>\n",
              "      <td>0.115572</td>\n",
              "      <td>0.121597</td>\n",
              "      <td>0.123241</td>\n",
              "      <td>0.141864</td>\n",
              "      <td>0.142776</td>\n",
              "      <td>0.144751</td>\n",
              "      <td>0.149633</td>\n",
              "      <td>0.161795</td>\n",
              "      <td>0.162833</td>\n",
              "      <td>0.167627</td>\n",
              "      <td>0.173130</td>\n",
              "      <td>0.177743</td>\n",
              "      <td>0.178582</td>\n",
              "      <td>0.186560</td>\n",
              "      <td>0.191078</td>\n",
              "      <td>0.195513</td>\n",
              "      <td>0.198591</td>\n",
              "      <td>0.198827</td>\n",
              "      <td>0.202362</td>\n",
              "      <td>0.203185</td>\n",
              "      <td>0.204716</td>\n",
              "      <td>0.214176</td>\n",
              "      <td>...</td>\n",
              "      <td>0.547319</td>\n",
              "      <td>0.546132</td>\n",
              "      <td>0.542687</td>\n",
              "      <td>0.529583</td>\n",
              "      <td>0.526542</td>\n",
              "      <td>0.523671</td>\n",
              "      <td>0.519897</td>\n",
              "      <td>0.512992</td>\n",
              "      <td>0.500860</td>\n",
              "      <td>0.494427</td>\n",
              "      <td>0.475040</td>\n",
              "      <td>0.470555</td>\n",
              "      <td>0.469862</td>\n",
              "      <td>0.468346</td>\n",
              "      <td>0.465408</td>\n",
              "      <td>0.452678</td>\n",
              "      <td>0.437633</td>\n",
              "      <td>0.429442</td>\n",
              "      <td>0.423221</td>\n",
              "      <td>0.411399</td>\n",
              "      <td>0.406624</td>\n",
              "      <td>0.398620</td>\n",
              "      <td>0.395285</td>\n",
              "      <td>0.387359</td>\n",
              "      <td>0.380730</td>\n",
              "      <td>0.374722</td>\n",
              "      <td>0.372360</td>\n",
              "      <td>0.369903</td>\n",
              "      <td>0.369015</td>\n",
              "      <td>0.354404</td>\n",
              "      <td>0.353798</td>\n",
              "      <td>0.352439</td>\n",
              "      <td>0.350299</td>\n",
              "      <td>0.349672</td>\n",
              "      <td>0.348544</td>\n",
              "      <td>0.342736</td>\n",
              "      <td>0.342725</td>\n",
              "      <td>0.181207</td>\n",
              "      <td>0.246471</td>\n",
              "      <td>32.938795</td>\n",
              "    </tr>\n",
              "  </tbody>\n",
              "</table>\n",
              "<p>5 rows × 353 columns</p>\n",
              "</div>"
            ],
            "text/plain": [
              "          theta     theta     theta  ...    volume        Ps         ST\n",
              "32730  0.001032  0.002194  0.015365  ...  0.472966  0.874562  63.829010\n",
              "32731  0.010897  0.013669  0.015844  ...  0.445021  0.572995  43.558728\n",
              "32732  0.006000  0.007987  0.008824  ...  0.331866  0.618755  60.181335\n",
              "32733  0.009613  0.013249  0.023267  ...  0.619149  0.412445  40.078039\n",
              "32734  0.007828  0.022984  0.029037  ...  0.181207  0.246471  32.938795\n",
              "\n",
              "[5 rows x 353 columns]"
            ]
          },
          "metadata": {},
          "execution_count": 183
        }
      ]
    },
    {
      "cell_type": "markdown",
      "metadata": {
        "id": "SOCMKtGWc8kO"
      },
      "source": [
        "### Split the data into train and test\n",
        "\n",
        "Now split the dataset into a training set and a test set.\n",
        "\n",
        "We will use the test set in the final evaluation of our model."
      ]
    },
    {
      "cell_type": "code",
      "metadata": {
        "id": "omYZ9Atvc8kX"
      },
      "source": [
        "normed_train_data = normed_data.sample(frac=0.8,random_state=0)\n",
        "normed_test_data = normed_data.drop(normed_train_data.index)"
      ],
      "execution_count": 184,
      "outputs": []
    },
    {
      "cell_type": "code",
      "metadata": {
        "id": "ijFPP_Y7dsYe",
        "colab": {
          "base_uri": "https://localhost:8080/",
          "height": 296
        },
        "outputId": "d499e34c-bc06-4e0c-f41c-df3ce849cf34"
      },
      "source": [
        "plt.figure()\n",
        "for i in range(10):\n",
        "  plt.plot(normed_train_data.iloc[i, 0:175], normed_train_data.iloc[i, 175:350], 'o', markersize=1)\n",
        "plt.ylabel('Radius, ρ')\n",
        "plt.xlabel('Azimuth angle, θ')"
      ],
      "execution_count": 70,
      "outputs": [
        {
          "output_type": "execute_result",
          "data": {
            "text/plain": [
              "Text(0.5, 0, 'Azimuth angle, θ')"
            ]
          },
          "metadata": {},
          "execution_count": 70
        },
        {
          "output_type": "display_data",
          "data": {
            "image/png": "[encoded data removed]",
            "text/plain": [
              "<Figure size 432x288 with 1 Axes>"
            ]
          },
          "metadata": {
            "needs_background": "light"
          }
        }
      ]
    },
    {
      "cell_type": "markdown",
      "metadata": {
        "id": "y0I4xpjHXXMV"
      },
      "source": [
        "### Split features from labels\n",
        "\n",
        "Separate the target value, or \"label\", from the features. This label is the value that you will train the model to predict."
      ]
    },
    {
      "cell_type": "code",
      "metadata": {
        "id": "YIMjYsODXXMe"
      },
      "source": [
        "train_labels = normed_train_data.pop('ST')\n",
        "test_labels = normed_test_data.pop('ST')"
      ],
      "execution_count": 185,
      "outputs": []
    },
    {
      "cell_type": "markdown",
      "metadata": {
        "id": "SmjdzxKzEu1-"
      },
      "source": [
        "## The model"
      ]
    },
    {
      "cell_type": "markdown",
      "metadata": {
        "id": "6SWtkIjhrZwa"
      },
      "source": [
        "### Build the model\n",
        "\n",
        "Let's build our model. Here, we'll use a `Sequential` model with two densely connected hidden layers, and an output layer that returns a single, continuous value. The model building steps are wrapped in a function, `build_model`, since we'll create a second model, later on."
      ]
    },
    {
      "cell_type": "code",
      "metadata": {
        "id": "c26juK7ZG8j-"
      },
      "source": [
        "def build_model():\n",
        "  model = keras.Sequential([\n",
        "    layers.Dense(25, activation=tf.nn.swish, input_shape=[len(normed_test_data.keys())]),\n",
        "   # tf.keras.layers.LayerNormalization(axis=1 , center=True , scale=True),\n",
        "  #  layers.Dense(10, activation=tf.nn.softplus),\n",
        "    # layers.Dense(12, activation=tf.nn.softplus),\n",
        "    layers.Dense(5, activation=tf.nn.softplus),\n",
        "    layers.Dense(1)\n",
        "  ])\n",
        "\n",
        "  #optimizer = tf.keras.optimizers.RMSprop(0.0000001)\n",
        "  #optimizer = tf.keras.optimizers.Adagrad(learning_rate=0.0001)\n",
        "  optimizer = tf.keras.optimizers.Adam() #learning_rate=0.001, beta_1=0.9, beta_2=0.999, amsgrad=False\n",
        "  #optimizer = tf.keras.optimizers.Adamax(learning_rate=0.001, beta_1=0.8, beta_2=0.995)\n",
        "\n",
        "  #model.compile(loss='mean_squared_error',\n",
        "  #              optimizer=optimizer,\n",
        "  #              metrics=['mean_absolute_error', 'mean_squared_error'])\n",
        "  \n",
        "  model.compile(loss='mean_absolute_error',\n",
        "                optimizer=optimizer,\n",
        "                metrics=['mean_absolute_error', 'mean_squared_error'])\n",
        "  \n",
        "  \n",
        "  return model"
      ],
      "execution_count": 279,
      "outputs": []
    },
    {
      "cell_type": "code",
      "metadata": {
        "id": "cGbPb-PHGbhs"
      },
      "source": [
        "model = build_model()"
      ],
      "execution_count": 280,
      "outputs": []
    },
    {
      "cell_type": "markdown",
      "metadata": {
        "id": "p_MsKnx6CiJ1"
      },
      "source": [
        "### Inspect the model\n",
        "\n",
        "Use the `.summary` method to print a simple description of the model"
      ]
    },
    {
      "cell_type": "code",
      "metadata": {
        "colab": {
          "base_uri": "https://localhost:8080/"
        },
        "id": "JogRjzbbCiJ8",
        "outputId": "ea506c70-9991-4ddb-c18d-1a5c66bbb157"
      },
      "source": [
        "model.summary()"
      ],
      "execution_count": 281,
      "outputs": [
        {
          "output_type": "stream",
          "name": "stdout",
          "text": [
            "Model: \"sequential_21\"\n",
            "_________________________________________________________________\n",
            "Layer (type)                 Output Shape              Param #   \n",
            "=================================================================\n",
            "dense_67 (Dense)             (None, 25)                8825      \n",
            "_________________________________________________________________\n",
            "dense_68 (Dense)             (None, 5)                 130       \n",
            "_________________________________________________________________\n",
            "dense_69 (Dense)             (None, 1)                 6         \n",
            "=================================================================\n",
            "Total params: 8,961\n",
            "Trainable params: 8,961\n",
            "Non-trainable params: 0\n",
            "_________________________________________________________________\n"
          ]
        }
      ]
    },
    {
      "cell_type": "markdown",
      "metadata": {
        "id": "78c18_srCoSM"
      },
      "source": [
        "\n",
        "Now try out the model. Take a batch of `10` examples from the training data and call `model.predict` on it."
      ]
    },
    {
      "cell_type": "code",
      "metadata": {
        "colab": {
          "base_uri": "https://localhost:8080/"
        },
        "id": "vG9W22RICoSN",
        "outputId": "bcc33a21-dad8-43fe-85e2-7b9acc99047e"
      },
      "source": [
        "example_batch = normed_train_data[:10]\n",
        "example_result = model.predict(example_batch)\n",
        "example_result"
      ],
      "execution_count": 282,
      "outputs": [
        {
          "output_type": "stream",
          "name": "stderr",
          "text": [
            "/usr/local/lib/python3.7/dist-packages/keras/engine/training.py:2470: UserWarning: `Model.state_updates` will be removed in a future version. This property should not be used in TensorFlow 2.0, as `updates` are applied automatically.\n",
            "  warnings.warn('`Model.state_updates` will be removed in a future version. '\n"
          ]
        },
        {
          "output_type": "execute_result",
          "data": {
            "text/plain": [
              "array([[0.41617784],\n",
              "       [0.45333007],\n",
              "       [0.35182944],\n",
              "       [0.4077548 ],\n",
              "       [0.43101323],\n",
              "       [0.4168601 ],\n",
              "       [0.42985237],\n",
              "       [0.48241463],\n",
              "       [0.39864096],\n",
              "       [0.45500615]], dtype=float32)"
            ]
          },
          "metadata": {},
          "execution_count": 282
        }
      ]
    },
    {
      "cell_type": "markdown",
      "metadata": {
        "id": "aDvyY2WqCoSN"
      },
      "source": [
        "It seems to be working, and it produces a result of the expected shape and type."
      ]
    },
    {
      "cell_type": "markdown",
      "metadata": {
        "id": "APAplLIxCoSN"
      },
      "source": [
        "### Train the model\n",
        "\n",
        "Train the model for 1000 epochs, and record the training and validation accuracy in the `history` object."
      ]
    },
    {
      "cell_type": "code",
      "metadata": {
        "id": "fdMZuhUgzMZ4",
        "colab": {
          "base_uri": "https://localhost:8080/"
        },
        "outputId": "6d87d253-5aab-45e4-d043-e9d550cbbb8d"
      },
      "source": [
        "# Display training progress by printing a single dot for each completed epoch\n",
        "class PrintDot(keras.callbacks.Callback):\n",
        "  def on_epoch_end(self, epoch, logs):\n",
        "    if epoch % 100 == 0: print('')\n",
        "    print('.', end='')\n",
        "\n",
        "EPOCHS = 1000\n",
        "\n",
        "# The patience parameter is the amount of epochs to check for improvement\n",
        "early_stop = keras.callbacks.EarlyStopping(monitor='val_loss', patience=20, min_delta=0, restore_best_weights=True)\n",
        "\n",
        "history = model.fit(normed_train_data, train_labels, epochs=EPOCHS,\n",
        "                    validation_split = 0.2, verbose=0, callbacks=[early_stop, PrintDot()])\n"
      ],
      "execution_count": 283,
      "outputs": [
        {
          "output_type": "stream",
          "name": "stderr",
          "text": [
            "/usr/local/lib/python3.7/dist-packages/keras/engine/training.py:2470: UserWarning: `Model.state_updates` will be removed in a future version. This property should not be used in TensorFlow 2.0, as `updates` are applied automatically.\n",
            "  warnings.warn('`Model.state_updates` will be removed in a future version. '\n"
          ]
        },
        {
          "output_type": "stream",
          "name": "stdout",
          "text": [
            "\n",
            "....................................................................................................\n",
            "..............................................................................."
          ]
        }
      ]
    },
    {
      "cell_type": "markdown",
      "metadata": {
        "id": "ZNofocGTCoSN"
      },
      "source": [
        "Visualize the model's training progress using the stats stored in the `history` object."
      ]
    },
    {
      "cell_type": "code",
      "metadata": {
        "id": "IHtfi4xlXiHy",
        "colab": {
          "base_uri": "https://localhost:8080/",
          "height": 206
        },
        "outputId": "f0c416c8-725a-4b3d-8424-af2e855dc21e"
      },
      "source": [
        "hist = pd.DataFrame(history.history)\n",
        "hist['epoch'] = history.epoch\n",
        "hist.tail() "
      ],
      "execution_count": 284,
      "outputs": [
        {
          "output_type": "execute_result",
          "data": {
            "text/html": [
              "<div>\n",
              "<style scoped>\n",
              "    .dataframe tbody tr th:only-of-type {\n",
              "        vertical-align: middle;\n",
              "    }\n",
              "\n",
              "    .dataframe tbody tr th {\n",
              "        vertical-align: top;\n",
              "    }\n",
              "\n",
              "    .dataframe thead th {\n",
              "        text-align: right;\n",
              "    }\n",
              "</style>\n",
              "<table border=\"1\" class=\"dataframe\">\n",
              "  <thead>\n",
              "    <tr style=\"text-align: right;\">\n",
              "      <th></th>\n",
              "      <th>loss</th>\n",
              "      <th>mean_absolute_error</th>\n",
              "      <th>mean_squared_error</th>\n",
              "      <th>val_loss</th>\n",
              "      <th>val_mean_absolute_error</th>\n",
              "      <th>val_mean_squared_error</th>\n",
              "      <th>epoch</th>\n",
              "    </tr>\n",
              "  </thead>\n",
              "  <tbody>\n",
              "    <tr>\n",
              "      <th>174</th>\n",
              "      <td>0.617085</td>\n",
              "      <td>0.617085</td>\n",
              "      <td>0.728488</td>\n",
              "      <td>0.658857</td>\n",
              "      <td>0.658857</td>\n",
              "      <td>0.761805</td>\n",
              "      <td>174</td>\n",
              "    </tr>\n",
              "    <tr>\n",
              "      <th>175</th>\n",
              "      <td>0.591229</td>\n",
              "      <td>0.591230</td>\n",
              "      <td>0.682484</td>\n",
              "      <td>0.547302</td>\n",
              "      <td>0.547302</td>\n",
              "      <td>0.579396</td>\n",
              "      <td>175</td>\n",
              "    </tr>\n",
              "    <tr>\n",
              "      <th>176</th>\n",
              "      <td>0.623083</td>\n",
              "      <td>0.623083</td>\n",
              "      <td>0.756840</td>\n",
              "      <td>0.725323</td>\n",
              "      <td>0.725323</td>\n",
              "      <td>1.135968</td>\n",
              "      <td>176</td>\n",
              "    </tr>\n",
              "    <tr>\n",
              "      <th>177</th>\n",
              "      <td>0.576355</td>\n",
              "      <td>0.576355</td>\n",
              "      <td>0.661437</td>\n",
              "      <td>0.659870</td>\n",
              "      <td>0.659870</td>\n",
              "      <td>0.895590</td>\n",
              "      <td>177</td>\n",
              "    </tr>\n",
              "    <tr>\n",
              "      <th>178</th>\n",
              "      <td>0.644930</td>\n",
              "      <td>0.644930</td>\n",
              "      <td>0.800221</td>\n",
              "      <td>0.481237</td>\n",
              "      <td>0.481237</td>\n",
              "      <td>0.480964</td>\n",
              "      <td>178</td>\n",
              "    </tr>\n",
              "  </tbody>\n",
              "</table>\n",
              "</div>"
            ],
            "text/plain": [
              "         loss  mean_absolute_error  ...  val_mean_squared_error  epoch\n",
              "174  0.617085             0.617085  ...                0.761805    174\n",
              "175  0.591229             0.591230  ...                0.579396    175\n",
              "176  0.623083             0.623083  ...                1.135968    176\n",
              "177  0.576355             0.576355  ...                0.895590    177\n",
              "178  0.644930             0.644930  ...                0.480964    178\n",
              "\n",
              "[5 rows x 7 columns]"
            ]
          },
          "metadata": {},
          "execution_count": 284
        }
      ]
    },
    {
      "cell_type": "code",
      "metadata": {
        "id": "VPI7VDvrXvJb",
        "colab": {
          "base_uri": "https://localhost:8080/",
          "height": 549
        },
        "outputId": "8ddf5527-88d5-4b6d-eef4-3dc98483bfaa"
      },
      "source": [
        "def plot_history(history):\n",
        "  hist = pd.DataFrame(history.history)\n",
        "  hist['epoch'] = history.epoch\n",
        "\n",
        "  plt.figure()\n",
        "  plt.xlabel('Epoch')\n",
        "  plt.ylabel('Mean Abs Error [ST]')\n",
        "  plt.plot(hist['epoch'], hist['mean_absolute_error'],\n",
        "           label='Train Error')\n",
        "  plt.plot(hist['epoch'], hist['val_mean_absolute_error'],\n",
        "           label = 'Val Error')\n",
        "  plt.ylim([0,5])\n",
        "  plt.legend()\n",
        "\n",
        "  plt.figure()\n",
        "  plt.xlabel('Epoch')\n",
        "  plt.ylabel('Mean Square Error [$ST^2$]')\n",
        "  plt.plot(hist['epoch'], hist['mean_squared_error'],\n",
        "           label='Train Error')\n",
        "  plt.plot(hist['epoch'], hist['val_mean_squared_error'],\n",
        "           label = 'Val Error')\n",
        "  plt.ylim([0,25])\n",
        "  plt.legend()\n",
        "  plt.show()\n",
        "\n",
        "\n",
        "plot_history(history)"
      ],
      "execution_count": 285,
      "outputs": [
        {
          "output_type": "display_data",
          "data": {
            "image/png": "[encoded data removed]",
            "text/plain": [
              "<Figure size 432x288 with 1 Axes>"
            ]
          },
          "metadata": {
            "needs_background": "light"
          }
        },
        {
          "output_type": "display_data",
          "data": {
            "image/png": "[encoded data removed]",
            "text/plain": [
              "<Figure size 432x288 with 1 Axes>"
            ]
          },
          "metadata": {
            "needs_background": "light"
          }
        }
      ]
    },
    {
      "cell_type": "markdown",
      "metadata": {
        "id": "l7lTAVELCoSO"
      },
      "source": [
        "The graph shows that on the validation set, the average error is usually around +/- 2 MPG. Is this good? We'll leave that decision up to you.\n",
        "\n",
        "Let's see how well the model generalizes by using the **test** set, which we did not use when training the model.  This tells us how well we can expect the model to predict when we use it in the real world."
      ]
    },
    {
      "cell_type": "code",
      "metadata": {
        "colab": {
          "base_uri": "https://localhost:8080/"
        },
        "id": "OirOiOSTCoSO",
        "outputId": "023a3eb8-1bc7-4a84-fc6d-559b1caacdb2"
      },
      "source": [
        "loss, mae, mse = model.evaluate(normed_test_data, test_labels, verbose=0)\n",
        "\n",
        "print(\"Testing set Mean Abs Error: {:5.2f} mN/m\".format(mae))\n",
        "\n",
        "print(\"Testing set Mean Abs Error over ST range: {:5.2f}\".format(mae/(max(dataset.ST)-min(dataset.ST))))\n"
      ],
      "execution_count": 286,
      "outputs": [
        {
          "output_type": "stream",
          "name": "stdout",
          "text": [
            "Testing set Mean Abs Error:  0.46 mN/m\n",
            "Testing set Mean Abs Error over ST range:  0.01\n"
          ]
        }
      ]
    },
    {
      "cell_type": "markdown",
      "metadata": {
        "id": "NkcS2mMvCoSO"
      },
      "source": [
        "### Make predictions\n",
        "\n",
        "Finally, predict ST values using data in the testing set:"
      ]
    },
    {
      "cell_type": "code",
      "metadata": {
        "colab": {
          "base_uri": "https://localhost:8080/",
          "height": 573
        },
        "id": "9m-HwyFrCoSO",
        "outputId": "15a2e986-1621-46d2-abed-c522db3dc1c6"
      },
      "source": [
        "test_predictions = model.predict(normed_test_data).flatten()\n",
        "\n",
        "plt.scatter(test_labels, test_predictions)\n",
        "plt.title('Normalized test data')\n",
        "plt.xlabel('True Values [surface tension - mN/m]')\n",
        "plt.ylabel('Predictions [surface tension - mN/m]')\n",
        "plt.axis('equal')\n",
        "plt.axis('square')\n",
        "plt.xlim([10,80])\n",
        "plt.ylim([10,80])\n",
        "_ = plt.plot([-100, 100], [-100, 100])\n",
        "plt.show()\n",
        "\n",
        "train_predictions = model.predict(normed_train_data).flatten()\n",
        "\n",
        "plt.scatter(train_labels, train_predictions)\n",
        "plt.title('Normalized training data')\n",
        "plt.xlabel('True Values [surface tension - mN/m]')\n",
        "plt.ylabel('Predictions [surface tension - mN/m]')\n",
        "plt.axis('equal')\n",
        "plt.axis('square')\n",
        "plt.xlim([10,80])\n",
        "plt.ylim([10,80])\n",
        "_ = plt.plot([-100, 100], [-100, 100])\n",
        "plt.show()\n",
        "\n",
        "# plt.figure()\n",
        "# plt.xlabel('Image')\n",
        "# plt.ylabel('Surface tension [ mN/m ]')\n",
        "# plt.ylim(30, 75)\n",
        "# plt.plot(test_predictions[0:2000], label='Predicted test instances')\n",
        "# plt.plot(range(len(test_labels)-18000), test_labels[0:2000], '--', label='Real test instances')\n",
        "# plt.legend()\n"
      ],
      "execution_count": 287,
      "outputs": [
        {
          "output_type": "display_data",
          "data": {
            "image/png": "[encoded data removed]",
            "text/plain": [
              "<Figure size 432x288 with 1 Axes>"
            ]
          },
          "metadata": {
            "needs_background": "light"
          }
        },
        {
          "output_type": "display_data",
          "data": {
            "image/png": "[encoded data removed]",
            "text/plain": [
              "<Figure size 432x288 with 1 Axes>"
            ]
          },
          "metadata": {
            "needs_background": "light"
          }
        }
      ]
    },
    {
      "cell_type": "markdown",
      "metadata": {
        "id": "OrkHGKZcusUo"
      },
      "source": [
        "Seriously?"
      ]
    },
    {
      "cell_type": "code",
      "metadata": {
        "colab": {
          "base_uri": "https://localhost:8080/",
          "height": 630
        },
        "id": "pQi_gr5-CoSO",
        "outputId": "33480156-84af-4eb5-ee0c-8e64f2f5b91b"
      },
      "source": [
        "error_test = test_predictions - test_labels\n",
        "sns.distplot(error_test, bins = 50)\n",
        "plt.xlabel(\"Prediction Error (mN/m)\")\n",
        "_ = plt.ylabel(\"Probability density\")\n",
        "plt.xlim(-3.5, 3.5)\n",
        "plt.show()\n",
        "\n",
        "plt.figure()\n",
        "sns.distplot(error_test, bins = 50)\n",
        "plt.xlabel(\"Prediction Error (mN/m)\")\n",
        "_ = plt.ylabel(\"Probability density\")\n",
        "plt.show()"
      ],
      "execution_count": 288,
      "outputs": [
        {
          "output_type": "stream",
          "name": "stderr",
          "text": [
            "/usr/local/lib/python3.7/dist-packages/seaborn/distributions.py:2619: FutureWarning: `distplot` is a deprecated function and will be removed in a future version. Please adapt your code to use either `displot` (a figure-level function with similar flexibility) or `histplot` (an axes-level function for histograms).\n",
            "  warnings.warn(msg, FutureWarning)\n"
          ]
        },
        {
          "output_type": "display_data",
          "data": {
            "image/png": "[encoded data removed]",
            "text/plain": [
              "<Figure size 432x288 with 1 Axes>"
            ]
          },
          "metadata": {
            "needs_background": "light"
          }
        },
        {
          "output_type": "stream",
          "name": "stderr",
          "text": [
            "/usr/local/lib/python3.7/dist-packages/seaborn/distributions.py:2619: FutureWarning: `distplot` is a deprecated function and will be removed in a future version. Please adapt your code to use either `displot` (a figure-level function with similar flexibility) or `histplot` (an axes-level function for histograms).\n",
            "  warnings.warn(msg, FutureWarning)\n"
          ]
        },
        {
          "output_type": "display_data",
          "data": {
            "image/png": "[encoded data removed]",
            "text/plain": [
              "<Figure size 432x288 with 1 Axes>"
            ]
          },
          "metadata": {
            "needs_background": "light"
          }
        }
      ]
    },
    {
      "cell_type": "code",
      "metadata": {
        "id": "3M-jM-phuDtZ",
        "colab": {
          "base_uri": "https://localhost:8080/",
          "height": 590
        },
        "outputId": "a502ce3a-d400-4109-b2c0-c9771d30e9e1"
      },
      "source": [
        "error_test = test_predictions - test_labels\n",
        "error_train = train_predictions - train_labels\n",
        "\n",
        "plt.figure()\n",
        "plt.title('Test dataset')\n",
        "plt.plot(test_labels, error_test, 'o')\n",
        "plt.ylabel('Error (mN/m)')\n",
        "plt.xlabel('Surface tension (mN/m)')\n",
        "\n",
        "plt.figure()\n",
        "plt.title('Train dataset')\n",
        "plt.plot(train_labels, error_train, 'o')\n",
        "plt.ylabel('Error (mN/m)')\n",
        "plt.xlabel('Surface tension (mN/m)')\n"
      ],
      "execution_count": 289,
      "outputs": [
        {
          "output_type": "execute_result",
          "data": {
            "text/plain": [
              "Text(0.5, 0, 'Surface tension (mN/m)')"
            ]
          },
          "metadata": {},
          "execution_count": 289
        },
        {
          "output_type": "display_data",
          "data": {
            "image/png": "[encoded data removed]",
            "text/plain": [
              "<Figure size 432x288 with 1 Axes>"
            ]
          },
          "metadata": {
            "needs_background": "light"
          }
        },
        {
          "output_type": "display_data",
          "data": {
            "image/png": "[encoded data removed]",
            "text/plain": [
              "<Figure size 432x288 with 1 Axes>"
            ]
          },
          "metadata": {
            "needs_background": "light"
          }
        }
      ]
    },
    {
      "cell_type": "code",
      "metadata": {
        "id": "TFYpfMpwjBWM"
      },
      "source": [
        "#Save prediction outcome in a csv file\n",
        "error_test = test_predictions - test_labels\n",
        "error_train = train_predictions - train_labels\n",
        "outcome_train=pd.DataFrame(data=np.array([train_labels.values, train_predictions]).T, columns=['Train_labels', 'Train_pred'])\n",
        "outcome_test=pd.DataFrame(data=np.array([test_labels.values, test_predictions]).T, columns=[ 'Test_labels', 'Test_pred'])\n",
        "\n",
        "date=str('20211012')\n",
        "\n",
        "model_No=2\n",
        "\n",
        "data_No=32000\n",
        "ST_min=25\n",
        "ST_max=75\n",
        "vol_min=0.5\n",
        "vol_max=2.5\n",
        "Ps_min=2000\n",
        "Ps_max=4000\n",
        "\n",
        "\n",
        "filename=str('data_%d_ST_%.2f_%.2f_vol_%.2f_%.2f_Ps_%d_%d_model_%d_%s.csv' %(data_No, ST_min, ST_max, vol_min, vol_max, Ps_min, Ps_max, model_No, date))\n",
        "!mkdir -p '/content/drive/My Drive/DropLev/Outcomes/' #Ceates a folder named \"MachineLearningModels\"\n",
        "outcome_train.to_csv('/content/drive/My Drive/DropLev/Outcomes/'+'train_out_'+filename, index=False)  #Saves the file\n",
        "outcome_test.to_csv('/content/drive/My Drive/DropLev/Outcomes/'+'test_out_'+filename, index=False)  #Saves the file\n",
        "\n",
        "hist.to_csv('/content/drive/My Drive/DropLev/Outcomes/'+'history_'+filename)\n"
      ],
      "execution_count": 290,
      "outputs": []
    },
    {
      "cell_type": "markdown",
      "metadata": {
        "id": "AUx4uYxk0GEJ"
      },
      "source": [
        "## If there is a model saved on google drive execute the next block"
      ]
    },
    {
      "cell_type": "code",
      "metadata": {
        "id": "y3Ir9yi8z0VA"
      },
      "source": [
        "from tensorflow.keras.models import load_model\n",
        "\n",
        "del model \n",
        "\n",
        "model_name=str('All_surf_five_feutures_Huber_swish_trial_3.h5')\n",
        "model = load_model(str(\"/content/drive/My Drive/DropLev/MachineLearningModels/\"+model_name))\n"
      ],
      "execution_count": null,
      "outputs": []
    },
    {
      "cell_type": "markdown",
      "metadata": {
        "id": "Sj49Og4YGULr"
      },
      "source": [
        "### Inspect the model\n",
        "\n",
        "Use the `.summary` method to print a simple description of the model"
      ]
    },
    {
      "cell_type": "code",
      "metadata": {
        "id": "ReAD0n6MsFK-",
        "colab": {
          "base_uri": "https://localhost:8080/",
          "height": 250
        },
        "outputId": "0ccbaa9b-a0df-4000-d4b0-5c61787771ab"
      },
      "source": [
        "model.summary()"
      ],
      "execution_count": null,
      "outputs": [
        {
          "output_type": "stream",
          "text": [
            "Model: \"sequential_30\"\n",
            "_________________________________________________________________\n",
            "Layer (type)                 Output Shape              Param #   \n",
            "=================================================================\n",
            "dense_90 (Dense)             (None, 50)                15150     \n",
            "_________________________________________________________________\n",
            "dense_91 (Dense)             (None, 3)                 153       \n",
            "_________________________________________________________________\n",
            "dense_92 (Dense)             (None, 1)                 4         \n",
            "=================================================================\n",
            "Total params: 15,307\n",
            "Trainable params: 15,307\n",
            "Non-trainable params: 0\n",
            "_________________________________________________________________\n"
          ],
          "name": "stdout"
        }
      ]
    },
    {
      "cell_type": "markdown",
      "metadata": {
        "id": "Vt6W50qGsJAL"
      },
      "source": [
        "\n",
        "Now try out the model. Take a batch of `10` examples from the training data and call `model.predict` on it."
      ]
    },
    {
      "cell_type": "code",
      "metadata": {
        "id": "-d-gBaVtGTSC",
        "colab": {
          "base_uri": "https://localhost:8080/",
          "height": 183
        },
        "outputId": "1745fe1c-cf78-4609-ef3b-a2003d78fa5b"
      },
      "source": [
        "example_batch = normed_train_data[:10]\n",
        "example_result = model.predict(example_batch)\n",
        "example_result"
      ],
      "execution_count": null,
      "outputs": [
        {
          "output_type": "execute_result",
          "data": {
            "text/plain": [
              "array([[ 0.43203562],\n",
              "       [-0.3725443 ],\n",
              "       [ 0.15722759],\n",
              "       [-0.407181  ],\n",
              "       [-0.37564555],\n",
              "       [-0.37614414],\n",
              "       [-0.3925074 ],\n",
              "       [-0.04143935],\n",
              "       [ 0.6424061 ],\n",
              "       [ 0.6858951 ]], dtype=float32)"
            ]
          },
          "metadata": {
            "tags": []
          },
          "execution_count": 290
        }
      ]
    },
    {
      "cell_type": "markdown",
      "metadata": {
        "id": "QlM8KrSOsaYo"
      },
      "source": [
        "It seems to be working, and it produces a result of the expected shape and type."
      ]
    },
    {
      "cell_type": "markdown",
      "metadata": {
        "id": "0-qWCsh6DlyH"
      },
      "source": [
        "### Train the model\n",
        "\n",
        "Train the model for 1000 epochs, and record the training and validation accuracy in the `history` object."
      ]
    },
    {
      "cell_type": "code",
      "metadata": {
        "id": "sD7qHCmNIOY0",
        "colab": {
          "base_uri": "https://localhost:8080/",
          "height": 50
        },
        "outputId": "9d8ccb11-4df6-47c2-9589-79639db8b7b7"
      },
      "source": [
        "# Display training progress by printing a single dot for each completed epoch\n",
        "class PrintDot(keras.callbacks.Callback):\n",
        "  def on_epoch_end(self, epoch, logs):\n",
        "    if epoch % 55 == 0: print('')\n",
        "    print('.', end='')\n",
        "\n",
        "#Save the k-th epoch (100 in this case)\n",
        "#class CustomSaver(keras.callbacks.Callback):\n",
        "#    filepath=\"/content/drive/My Drive/DropLev/MachineLearningModels/\"\n",
        "#    def on_epoch_end(self, epoch, logs={}):\n",
        "#        if epoch == 100:  # or save after some epoch, each k-th epoch etc.\n",
        "#           self.model.save(str(filepath+\"SDS_70mNperm_trial1.h5\"), monitor = \"val_loss\", verbose = 0,\n",
        "#  save_best_only = False, save_weights_only = False, mode = \"min\", period = 1)\n",
        "\n",
        "EPOCHS = 700\n",
        "\n",
        "#filepath=\"/content/drive/My Drive/DropLev/MachineLearningModels/saved-model-{epoch:02d}-{val_loss:.2f}.h5.h5\"\n",
        "#keras.callbacks.ModelCheckpoint(filepath, monitor='val_loss', verbose=0, save_best_only=False, \n",
        "#                                save_weights_only=False, mode='auto', period=1)\n",
        "#callbacks_list = [checkpoint]\n",
        "\n",
        "## create and use callback:\n",
        "#filepath=\"/content/drive/My Drive/DropLev/MachineLearningModels/weights.100EPOCHS.h5\"\n",
        "#saver = CustomSaver()\n",
        "#history = model.fit(normed_train_data, train_labels, callbacks=[saver], epochs=10)\n",
        "\n",
        "#Checkpoints. Save best fit\n",
        "#filepath=\"/content/drive/My Drive/DropLev/MachineLearningModels/weights.best.h5\"\n",
        "#checkpoint = ModelCheckpoint(filepath, monitor='val_acc', verbose=0, save_best_only=True, mode='auto')\n",
        "#callbacks_list = [checkpoint]\n",
        "\n",
        "early_stop = keras.callbacks.EarlyStopping(monitor='val_loss',min_delta=0, patience=10, verbose=0, mode='auto')\n",
        "\n",
        "\n",
        "history = model.fit(\n",
        "  normed_train_data, train_labels,\n",
        "  epochs=EPOCHS, validation_split = 0.2, verbose=0,\n",
        "  callbacks=[early_stop, PrintDot()])  # callbacks=callbacks_list"
      ],
      "execution_count": null,
      "outputs": [
        {
          "output_type": "stream",
          "text": [
            "\n",
            "...................."
          ],
          "name": "stdout"
        }
      ]
    },
    {
      "cell_type": "markdown",
      "metadata": {
        "id": "tQm3pc0FYPQB"
      },
      "source": [
        "Visualize the model's training progress using the stats stored in the `history` object."
      ]
    },
    {
      "cell_type": "code",
      "metadata": {
        "id": "4Xj91b-dymEy",
        "colab": {
          "base_uri": "https://localhost:8080/",
          "height": 197
        },
        "outputId": "3a349055-803b-4f7a-b687-b02992ac9167"
      },
      "source": [
        "hist = pd.DataFrame(history.history)\n",
        "hist['epoch'] = history.epoch\n",
        "hist.tail()"
      ],
      "execution_count": null,
      "outputs": [
        {
          "output_type": "execute_result",
          "data": {
            "text/html": [
              "<div>\n",
              "<style scoped>\n",
              "    .dataframe tbody tr th:only-of-type {\n",
              "        vertical-align: middle;\n",
              "    }\n",
              "\n",
              "    .dataframe tbody tr th {\n",
              "        vertical-align: top;\n",
              "    }\n",
              "\n",
              "    .dataframe thead th {\n",
              "        text-align: right;\n",
              "    }\n",
              "</style>\n",
              "<table border=\"1\" class=\"dataframe\">\n",
              "  <thead>\n",
              "    <tr style=\"text-align: right;\">\n",
              "      <th></th>\n",
              "      <th>loss</th>\n",
              "      <th>mean_absolute_error</th>\n",
              "      <th>mean_squared_error</th>\n",
              "      <th>val_loss</th>\n",
              "      <th>val_mean_absolute_error</th>\n",
              "      <th>val_mean_squared_error</th>\n",
              "      <th>epoch</th>\n",
              "    </tr>\n",
              "  </thead>\n",
              "  <tbody>\n",
              "    <tr>\n",
              "      <th>15</th>\n",
              "      <td>7.163245</td>\n",
              "      <td>7.163245</td>\n",
              "      <td>130.577637</td>\n",
              "      <td>7.792389</td>\n",
              "      <td>7.792389</td>\n",
              "      <td>141.851059</td>\n",
              "      <td>15</td>\n",
              "    </tr>\n",
              "    <tr>\n",
              "      <th>16</th>\n",
              "      <td>7.162131</td>\n",
              "      <td>7.162131</td>\n",
              "      <td>130.552383</td>\n",
              "      <td>7.785986</td>\n",
              "      <td>7.785986</td>\n",
              "      <td>141.798523</td>\n",
              "      <td>16</td>\n",
              "    </tr>\n",
              "    <tr>\n",
              "      <th>17</th>\n",
              "      <td>7.154714</td>\n",
              "      <td>7.154715</td>\n",
              "      <td>130.544373</td>\n",
              "      <td>7.785559</td>\n",
              "      <td>7.785559</td>\n",
              "      <td>141.747849</td>\n",
              "      <td>17</td>\n",
              "    </tr>\n",
              "    <tr>\n",
              "      <th>18</th>\n",
              "      <td>7.148772</td>\n",
              "      <td>7.148772</td>\n",
              "      <td>130.395157</td>\n",
              "      <td>7.756837</td>\n",
              "      <td>7.756837</td>\n",
              "      <td>141.482620</td>\n",
              "      <td>18</td>\n",
              "    </tr>\n",
              "    <tr>\n",
              "      <th>19</th>\n",
              "      <td>7.155182</td>\n",
              "      <td>7.155182</td>\n",
              "      <td>130.323730</td>\n",
              "      <td>7.777982</td>\n",
              "      <td>7.777982</td>\n",
              "      <td>141.616928</td>\n",
              "      <td>19</td>\n",
              "    </tr>\n",
              "  </tbody>\n",
              "</table>\n",
              "</div>"
            ],
            "text/plain": [
              "        loss  mean_absolute_error  ...  val_mean_squared_error  epoch\n",
              "15  7.163245             7.163245  ...              141.851059     15\n",
              "16  7.162131             7.162131  ...              141.798523     16\n",
              "17  7.154714             7.154715  ...              141.747849     17\n",
              "18  7.148772             7.148772  ...              141.482620     18\n",
              "19  7.155182             7.155182  ...              141.616928     19\n",
              "\n",
              "[5 rows x 7 columns]"
            ]
          },
          "metadata": {
            "tags": []
          },
          "execution_count": 292
        }
      ]
    },
    {
      "cell_type": "code",
      "metadata": {
        "id": "B6XriGbVPh2t",
        "colab": {
          "base_uri": "https://localhost:8080/",
          "height": 549
        },
        "outputId": "d4ad2956-a647-4d4d-dfd6-bab505e2e3f1"
      },
      "source": [
        "def plot_history(history):\n",
        "  hist = pd.DataFrame(history.history)\n",
        "  hist['epoch'] = history.epoch\n",
        "\n",
        "  plt.figure()\n",
        "  plt.xlabel('Epoch')\n",
        "  plt.ylabel('Mean Abs Error [ST]')\n",
        "  plt.plot(hist['epoch'], hist['mean_absolute_error'],\n",
        "           label='Train Error')\n",
        "  plt.plot(hist['epoch'], hist['val_mean_absolute_error'],\n",
        "           label = 'Val Error')\n",
        "  plt.ylim([0,10])\n",
        "  plt.legend()\n",
        "\n",
        "  plt.figure()\n",
        "  plt.xlabel('Epoch')\n",
        "  plt.ylabel('Mean Square Error [$ST^2$]')\n",
        "  plt.plot(hist['epoch'], hist['mean_squared_error'],\n",
        "           label='Train Error')\n",
        "  plt.plot(hist['epoch'], hist['val_mean_squared_error'],\n",
        "           label = 'Val Error')\n",
        "  plt.ylim([0,200])\n",
        "  plt.legend()\n",
        "  plt.show()\n",
        "\n",
        "\n",
        "plot_history(history)"
      ],
      "execution_count": null,
      "outputs": [
        {
          "output_type": "display_data",
          "data": {
            "image/png": "[encoded data removed]",
            "text/plain": [
              "<Figure size 432x288 with 1 Axes>"
            ]
          },
          "metadata": {
            "tags": [],
            "needs_background": "light"
          }
        },
        {
          "output_type": "display_data",
          "data": {
            "image/png": "[encoded data removed]",
            "text/plain": [
              "<Figure size 432x288 with 1 Axes>"
            ]
          },
          "metadata": {
            "tags": [],
            "needs_background": "light"
          }
        }
      ]
    },
    {
      "cell_type": "markdown",
      "metadata": {
        "id": "3St8-DmrX8P4"
      },
      "source": [
        "Let's see how well the model generalizes by using the **test** set, which we did not use when training the model.  This tells us how well we can expect the model to predict when we use it in the real world."
      ]
    },
    {
      "cell_type": "code",
      "metadata": {
        "id": "jl_yNr5n1kms",
        "colab": {
          "base_uri": "https://localhost:8080/",
          "height": 33
        },
        "outputId": "c94b2fb6-cc5f-47dc-c47e-d428c2092101"
      },
      "source": [
        "loss, mae, mse = model.evaluate(normed_test_data, test_labels, verbose=0)\n",
        "print(\"Testing set Mean Abs Error: {:5.2f} mN/m\".format(mae))\n",
        "# \n",
        "#keras.metrics.accuracy(normed_test_data, test_labels)"
      ],
      "execution_count": null,
      "outputs": [
        {
          "output_type": "stream",
          "text": [
            "Testing set Mean Abs Error:  7.44 mN/m\n"
          ],
          "name": "stdout"
        }
      ]
    },
    {
      "cell_type": "markdown",
      "metadata": {
        "id": "ft603OzXuEZC"
      },
      "source": [
        "### Make predictions\n",
        "\n",
        "Finally, predict volume values using data in the testing set:"
      ]
    },
    {
      "cell_type": "code",
      "metadata": {
        "id": "Xe7RXH3N3CWU",
        "colab": {
          "base_uri": "https://localhost:8080/",
          "height": 573
        },
        "outputId": "6fed0078-688d-40cf-a341-2db0b15502da"
      },
      "source": [
        "test_predictions = model.predict(normed_test_data).flatten()\n",
        "\n",
        "plt.scatter(test_labels, test_predictions)\n",
        "plt.title('Normalized test data')\n",
        "plt.xlabel('True Values [surface tension - mN/m]')\n",
        "plt.ylabel('Predictions [surface tension - mN/m]')\n",
        "plt.axis('equal')\n",
        "plt.axis('square')\n",
        "plt.xlim([10,75])\n",
        "plt.ylim([10,75])\n",
        "_ = plt.plot([-100, 100], [-100, 100])\n",
        "plt.show()\n",
        "\n",
        "test_predictions2 = model.predict(normed_train_data).flatten()\n",
        "\n",
        "plt.scatter(train_labels, test_predictions2)\n",
        "plt.title('Normalized training data')\n",
        "plt.xlabel('True Values [surface tension - mN/m]')\n",
        "plt.ylabel('Predictions [surface tension - mN/m]')\n",
        "plt.axis('equal')\n",
        "plt.axis('square')\n",
        "plt.xlim([10,75])\n",
        "plt.ylim([10,75])\n",
        "_ = plt.plot([-100, 100], [-100, 100])\n",
        "plt.show()\n"
      ],
      "execution_count": null,
      "outputs": [
        {
          "output_type": "display_data",
          "data": {
            "image/png": "[encoded data removed]",
            "text/plain": [
              "<Figure size 432x288 with 1 Axes>"
            ]
          },
          "metadata": {
            "tags": [],
            "needs_background": "light"
          }
        },
        {
          "output_type": "display_data",
          "data": {
            "image/png": "[encoded data removed]",
            "text/plain": [
              "<Figure size 432x288 with 1 Axes>"
            ]
          },
          "metadata": {
            "tags": [],
            "needs_background": "light"
          }
        }
      ]
    },
    {
      "cell_type": "code",
      "metadata": {
        "id": "f-OHX4DiXd8x",
        "colab": {
          "base_uri": "https://localhost:8080/",
          "height": 279
        },
        "outputId": "aca45772-0e15-4ee2-a308-b0f642288965"
      },
      "source": [
        "error = test_predictions - test_labels\n",
        "plt.hist(error, bins = 50)\n",
        "plt.xlabel(\"Prediction Error [surface tension - mN/m]\")\n",
        "_ = plt.ylabel(\"Count\")\n",
        "plt.show()"
      ],
      "execution_count": null,
      "outputs": [
        {
          "output_type": "display_data",
          "data": {
            "image/png": "[encoded data removed]",
            "text/plain": [
              "<Figure size 432x288 with 1 Axes>"
            ]
          },
          "metadata": {
            "tags": [],
            "needs_background": "light"
          }
        }
      ]
    },
    {
      "cell_type": "markdown",
      "metadata": {
        "id": "r-i0Bq5JF0nv"
      },
      "source": [
        "# Saving the final Model"
      ]
    },
    {
      "cell_type": "markdown",
      "metadata": {
        "id": "G8FBhOnbGK65"
      },
      "source": [
        "When you are satisfied with the model and the accuracy continue from here:"
      ]
    },
    {
      "cell_type": "markdown",
      "metadata": {
        "id": "BspL3Z6-GPaa"
      },
      "source": [
        "Saving the model in a **SavedModel** format"
      ]
    },
    {
      "cell_type": "code",
      "metadata": {
        "id": "VwWrwBcZGLnZ"
      },
      "source": [
        "!pip install -q pyyaml h5py  # Required to save models in HDF5 format"
      ],
      "execution_count": null,
      "outputs": []
    },
    {
      "cell_type": "code",
      "metadata": {
        "id": "6BR7rbL5GXku"
      },
      "source": [
        "import os"
      ],
      "execution_count": null,
      "outputs": []
    },
    {
      "cell_type": "code",
      "metadata": {
        "id": "MzumSsZfGYCp"
      },
      "source": [
        "# Save the entire model as a SavedModel.\n",
        "filename=str('All_surf_five_feutures_Huber_swish_trial_3.h5')\n",
        "!mkdir -p '/content/drive/My Drive/DropLev/MachineLearningModels' #Ceates a folder named \"MachineLearningModels\"\n",
        "model.save('/content/drive/My Drive/DropLev/MachineLearningModels/'+filename)  #Saves the file"
      ],
      "execution_count": null,
      "outputs": []
    },
    {
      "cell_type": "markdown",
      "metadata": {
        "id": "pJzKbb1EGgUE"
      },
      "source": [
        "The SavedModel format is a directory containing a protobuf binary and a Tensorflow checkpoint. Inspect the saved model directory:"
      ]
    },
    {
      "cell_type": "code",
      "metadata": {
        "id": "9yGUiOkfGgen"
      },
      "source": [
        "# DropLev_st_prediction_model directory\n",
        "#!ls content/drive/My Drive/DropLev/MachineLearningModels\n",
        "\n",
        "# Contains an assets folder, saved_model.pb, and variables folder.\n",
        "#!ls content/drive/My Drive/DropLev/MachineLearningModels/SDS_1.h5"
      ],
      "execution_count": null,
      "outputs": []
    },
    {
      "cell_type": "markdown",
      "metadata": {
        "id": "n2IWIiOYGgqK"
      },
      "source": [
        "Saving the model in a **HDF5** format"
      ]
    },
    {
      "cell_type": "code",
      "metadata": {
        "id": "H_Zl4tVVGg3J"
      },
      "source": [
        "# Save the entire model to a HDF5 file.\n",
        "# The '.h5' extension indicates that the model should be saved to HDF5.\n",
        "#model.save('content/drive/My Drive/DropLev/MachineLearningModels/'+filename) "
      ],
      "execution_count": null,
      "outputs": []
    },
    {
      "cell_type": "markdown",
      "metadata": {
        "id": "oZcqRI0r9B4r"
      },
      "source": [
        "# Reload a fresh Keras model from the saved model:"
      ]
    },
    {
      "cell_type": "markdown",
      "metadata": {
        "id": "W6mEqNn497op"
      },
      "source": [
        "For **SavedModel** format"
      ]
    },
    {
      "cell_type": "code",
      "metadata": {
        "id": "c4vUC4ep8_VA"
      },
      "source": [
        "new_model = tf.keras.models.load_model('/content/drive/My Drive/DropLev/MachineLearningModels/'+filename)\n",
        "\n",
        "# Check its architecture\n",
        "new_model.summary()"
      ],
      "execution_count": null,
      "outputs": []
    },
    {
      "cell_type": "markdown",
      "metadata": {
        "id": "myilbB_P9_dO"
      },
      "source": [
        "For **HDF5** format"
      ]
    },
    {
      "cell_type": "code",
      "metadata": {
        "id": "94ZjuhOV-Dfk"
      },
      "source": [
        "# Recreate the exact same model, including its weights and the optimizer\n",
        "new_model = tf.keras.models.load_model('DropLev_st_prediction_model.h5')\n",
        "\n",
        "# Show the model architecture\n",
        "new_model.summary()"
      ],
      "execution_count": null,
      "outputs": []
    },
    {
      "cell_type": "markdown",
      "metadata": {
        "id": "j1K6xGBg9K4A"
      },
      "source": [
        "Evaluate the restored model (for both formats)"
      ]
    },
    {
      "cell_type": "code",
      "metadata": {
        "id": "if5rjrz79NPI"
      },
      "source": [
        "# Evaluation\n",
        "loss, mae, mse = new_model.evaluate(normed_test_data, test_labels, verbose=0)\n",
        "print('Restored model, Mean absolute error: {:5.2f}'.format(mae))\n",
        "\n",
        "print(new_model.predict(normed_test_data).shape)"
      ],
      "execution_count": null,
      "outputs": []
    }
  ]
}