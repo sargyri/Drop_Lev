{
  "nbformat": 4,
  "nbformat_minor": 0,
  "metadata": {
    "colab": {
      "name": "ST_prediction_theory.ipynb",
      "provenance": [],
      "toc_visible": true,
      "include_colab_link": true
    },
    "kernelspec": {
      "name": "python3",
      "display_name": "Python 3"
    }
  },
  "cells": [
    {
      "cell_type": "markdown",
      "metadata": {
        "id": "view-in-github",
        "colab_type": "text"
      },
      "source": [
        "<a href=\"https://colab.research.google.com/github/sargyri/Drop_Lev/blob/master/Machine_learning/ST_prediction_theory.ipynb\" target=\"_parent\"><img src=\"https://colab.research.google.com/assets/colab-badge.svg\" alt=\"Open In Colab\"/></a>"
      ]
    },
    {
      "cell_type": "markdown",
      "metadata": {
        "id": "FhGuhbZ6M5tl"
      },
      "source": [
        "##### Copyright 2018 The TensorFlow Authors."
      ]
    },
    {
      "cell_type": "code",
      "metadata": {
        "cellView": "form",
        "id": "AwOEIRJC6Une"
      },
      "source": [
        "#@title Licensed under the Apache License, Version 2.0 (the \"License\");\n",
        "# you may not use this file except in compliance with the License.\n",
        "# You may obtain a copy of the License at\n",
        "#\n",
        "# https://www.apache.org/licenses/LICENSE-2.0\n",
        "#\n",
        "# Unless required by applicable law or agreed to in writing, software\n",
        "# distributed under the License is distributed on an \"AS IS\" BASIS,\n",
        "# WITHOUT WARRANTIES OR CONDITIONS OF ANY KIND, either express or implied.\n",
        "# See the License for the specific language governing permissions and\n",
        "# limitations under the License."
      ],
      "execution_count": null,
      "outputs": []
    },
    {
      "cell_type": "code",
      "metadata": {
        "cellView": "form",
        "id": "KyPEtTqk6VdG"
      },
      "source": [
        "#@title MIT License\n",
        "#\n",
        "# Copyright (c) 2017 François Chollet\n",
        "#\n",
        "# Permission is hereby granted, free of charge, to any person obtaining a\n",
        "# copy of this software and associated documentation files (the \"Software\"),\n",
        "# to deal in the Software without restriction, including without limitation\n",
        "# the rights to use, copy, modify, merge, publish, distribute, sublicense,\n",
        "# and/or sell copies of the Software, and to permit persons to whom the\n",
        "# Software is furnished to do so, subject to the following conditions:\n",
        "#\n",
        "# The above copyright notice and this permission notice shall be included in\n",
        "# all copies or substantial portions of the Software.\n",
        "#\n",
        "# THE SOFTWARE IS PROVIDED \"AS IS\", WITHOUT WARRANTY OF ANY KIND, EXPRESS OR\n",
        "# IMPLIED, INCLUDING BUT NOT LIMITED TO THE WARRANTIES OF MERCHANTABILITY,\n",
        "# FITNESS FOR A PARTICULAR PURPOSE AND NONINFRINGEMENT. IN NO EVENT SHALL\n",
        "# THE AUTHORS OR COPYRIGHT HOLDERS BE LIABLE FOR ANY CLAIM, DAMAGES OR OTHER\n",
        "# LIABILITY, WHETHER IN AN ACTION OF CONTRACT, TORT OR OTHERWISE, ARISING\n",
        "# FROM, OUT OF OR IN CONNECTION WITH THE SOFTWARE OR THE USE OR OTHER\n",
        "# DEALINGS IN THE SOFTWARE."
      ],
      "execution_count": null,
      "outputs": []
    },
    {
      "cell_type": "markdown",
      "metadata": {
        "id": "EIdT9iu_Z4Rb"
      },
      "source": [
        "# Lev Droplet "
      ]
    },
    {
      "cell_type": "markdown",
      "metadata": {
        "id": "bBIlTPscrIT9"
      },
      "source": [
        "<table class=\"tfo-notebook-buttons\" align=\"left\">\n",
        "  <td>\n",
        "    <a target=\"_blank\" href=\"https://www.tensorflow.org/tutorials/keras/basic_regression\"><img src=\"https://www.tensorflow.org/images/tf_logo_32px.png\" />View on TensorFlow.org</a>\n",
        "  </td>\n",
        "  <td>\n",
        "    <a target=\"_blank\" href=\"https://colab.research.google.com/github/tensorflow/docs/blob/r2.0rc/site/en/tutorials/keras/basic_regression.ipynb\"><img src=\"https://www.tensorflow.org/images/colab_logo_32px.png\" />Run in Google Colab</a>\n",
        "  </td>\n",
        "  <td>\n",
        "    <a target=\"_blank\" href=\"https://github.com/tensorflow/docs/blob/r2.0rc/site/en/tutorials/keras/basic_regression.ipynb\"><img src=\"https://www.tensorflow.org/images/GitHub-Mark-32px.png\" />View source on GitHub</a>\n",
        "  </td>\n",
        "</table>"
      ]
    },
    {
      "cell_type": "markdown",
      "metadata": {
        "id": "AHp3M9ZmrIxj"
      },
      "source": [
        "NN for predicting ST from theoretical data based on the somple model"
      ]
    },
    {
      "cell_type": "code",
      "metadata": {
        "id": "j2J8YeLX2j7a",
        "colab": {
          "base_uri": "https://localhost:8080/"
        },
        "outputId": "7c307474-f967-4462-dd37-41a1473551d0"
      },
      "source": [
        "!pip install lmfit"
      ],
      "execution_count": 2,
      "outputs": [
        {
          "output_type": "stream",
          "name": "stdout",
          "text": [
            "Collecting lmfit\n",
            "  Downloading lmfit-1.0.2.tar.gz (306 kB)\n",
            "\u001b[K     |████████████████████████████████| 306 kB 3.1 MB/s \n",
            "\u001b[?25hCollecting asteval>=0.9.16\n",
            "  Downloading asteval-0.9.25.tar.gz (39 kB)\n",
            "Requirement already satisfied: numpy>=1.16 in /usr/local/lib/python3.7/dist-packages (from lmfit) (1.19.5)\n",
            "Requirement already satisfied: scipy>=1.2 in /usr/local/lib/python3.7/dist-packages (from lmfit) (1.4.1)\n",
            "Collecting uncertainties>=3.0.1\n",
            "  Downloading uncertainties-3.1.6-py2.py3-none-any.whl (98 kB)\n",
            "\u001b[K     |████████████████████████████████| 98 kB 5.9 MB/s \n",
            "\u001b[?25hRequirement already satisfied: future in /usr/local/lib/python3.7/dist-packages (from uncertainties>=3.0.1->lmfit) (0.16.0)\n",
            "Building wheels for collected packages: lmfit, asteval\n",
            "  Building wheel for lmfit (setup.py) ... \u001b[?25l\u001b[?25hdone\n",
            "  Created wheel for lmfit: filename=lmfit-1.0.2-py3-none-any.whl size=85275 sha256=76050934e6efdaafe5e59f7db7a3b59beb62fbe9610cb2b4f555b5f8b1ef034e\n",
            "  Stored in directory: /root/.cache/pip/wheels/42/81/51/72ff0f8e216caa9fe1e9dd1e7c287274b1eb75c79bfc858f5b\n",
            "  Building wheel for asteval (setup.py) ... \u001b[?25l\u001b[?25hdone\n",
            "  Created wheel for asteval: filename=asteval-0.9.25-py3-none-any.whl size=17301 sha256=6892b54f688db1d7ff9769ca65415d9d81b7055e01c16321b3477b90fa7550ab\n",
            "  Stored in directory: /root/.cache/pip/wheels/4a/87/53/f1385a55b3f60eabb921c5f4fd151c00fdb016b5111b8c830f\n",
            "Successfully built lmfit asteval\n",
            "Installing collected packages: uncertainties, asteval, lmfit\n",
            "Successfully installed asteval-0.9.25 lmfit-1.0.2 uncertainties-3.1.6\n"
          ]
        }
      ]
    },
    {
      "cell_type": "code",
      "metadata": {
        "id": "jyE0M3V99EdP",
        "scrolled": true,
        "colab": {
          "base_uri": "https://localhost:8080/"
        },
        "outputId": "8716f15a-36f8-455f-f793-943ba553d0b9"
      },
      "source": [
        "import numpy as np\n",
        "#import cv2\n",
        "import os\n",
        "import re\n",
        "import glob\n",
        "import matplotlib.pyplot as plt\n",
        "from scipy.signal import  gaussian\n",
        "from scipy.ndimage import filters\n",
        "from scipy import optimize\n",
        "from scipy.stats import linregress\n",
        "from mpl_toolkits.mplot3d import Axes3D\n",
        "\n",
        "import seaborn as sns\n",
        "\n",
        "import scipy as sp\n",
        "import scipy.interpolate\n",
        "from scipy.integrate import trapz\n",
        "\n",
        "import time\n",
        "\n",
        "import pandas as pd\n",
        "\n",
        "from lmfit import Model, fit_report, Parameters\n",
        "\n",
        "#from __future__ import absolute_import, division, print_function, unicode_literals\n",
        "\n",
        "import pathlib\n",
        "\n",
        "import matplotlib.pyplot as plt\n",
        "import pandas as pd\n",
        "import seaborn as sns\n",
        "\n",
        "import tensorflow.compat.v1 as tf\n",
        "tf.disable_v2_behavior()  #!!! Why though? !!!\n",
        "\n",
        "import pprint\n",
        "import tensorflow as tf\n",
        "from tensorflow import keras\n",
        "from tensorflow.keras import layers\n",
        "from tensorflow.keras.callbacks import ModelCheckpoint\n",
        "import io\n",
        "\n",
        "print(tf.__version__)\n",
        "print(\"Num GPUs Available: \", len(tf.config.experimental.list_physical_devices('GPU')))\n",
        "\n",
        "\n",
        "######### initialize the data ###############\n",
        "data_input=[]\n",
        "data_output=[]\n",
        "l_sample=300\n",
        "vol_all=[]\n",
        "vol2_all=[]\n",
        "data_x=[]\n",
        "data_y=[]\n",
        "data_h=[]\n",
        "data_w=[]\n",
        "R_sph_all=[]\n",
        "Ar=[]\n",
        "#st_all=[]\n",
        "rho=[]\n",
        "theta=[]\n",
        "#List of non-processed images:\n",
        "discarded=[]\n",
        "new=[]  #list of images without the discarded ones\n",
        "\n",
        "#For the simple approach fit\n",
        "phi_final=[]\n",
        "theta_az=[]\n",
        "theta_all=[]\n",
        "theta_final=[]\n",
        "r_theta_all=[]\n",
        "xc_all=[]\n",
        "yc_all=[]\n",
        "rho_final=[]\n",
        "data_Ps=[]\n",
        "data_dB=[]\n",
        "data_stderr=[]\n",
        "data_err=[]\n",
        "\n",
        "total_num_pictures = len(glob.glob1('.',\"*.png\"))\n",
        "frame_number=np.arange(total_num_pictures)\n",
        "\n",
        "gamma=64 #[N/m]\n",
        "Cg_air=1/101325 #Pa**(-1)\n",
        "k_o=2*np.pi*40/340  #wave number in the air. frequency 40kHz (25kH=0.000040sec) and speed of sound in air v=340 m/s from paper (331.5 for 20oC online) \n",
        "#Calibration\n",
        "needle_d=0.83 #mm\n",
        "needle_pxl=220 #pixels\n",
        "#calibration=0.00621722846441948**3\n",
        "cal=needle_d/needle_pxl\n",
        "calibration=(cal)**3\n",
        "\n",
        "\n",
        "###############################################################################\n",
        "#### Functions used in the data processing ####################################\n",
        "###############################################################################\n",
        "\n",
        "def calc_volume(x,y):\n",
        "    \"\"\"\n",
        "    Calculate the drop volume from a shape matrix.\n",
        "\n",
        "    Parameters\n",
        "    ----------\n",
        "    x, y - contour of the drop\n",
        "\n",
        "    Returns\n",
        "    -------\n",
        "    Integrated volume using for the given shape matrix.\n",
        "\n",
        "    \"\"\"\n",
        "    # data selection\n",
        "    idx=x<=0  # r=right\n",
        "    x_l=x[idx]\n",
        "    y_l=y[idx]\n",
        "        \n",
        "    vol_left=trapz(np.pi*x_l**2, y_l)/2\n",
        "        \n",
        "    # data selection\n",
        "    idx=x>=0  # r=right\n",
        "    x_r=x[idx]\n",
        "    y_r=y[idx]\n",
        "    vol_right=-trapz(np.pi*x_r**2, y_r)/2\n",
        "   \n",
        "    return vol_left+vol_right\n",
        "\n",
        "\n",
        "def calc_R_sph(vol, cal):\n",
        "    \"\"\"\n",
        "    Calculate the spherical radius of a droplet based on the volume.\n",
        "\n",
        "    Input parameters\n",
        "    ----------\n",
        "    vol:         volume   [pixels**3]\n",
        "    calibration: calibration factor  [mm**3/pixels**3]\n",
        "\n",
        "    Returns\n",
        "    -------\n",
        "    Corresponding spherical radius.  [mm]\n",
        "\n",
        "    \"\"\"\n",
        "#    calibration=0.00621722846441948**3\n",
        "    #R_sph=(3*vol*calibration/(4*np.pi))**(1/3)\n",
        "    R_sph=(3*vol/(4*np.pi))**(1/3)\n",
        "    return R_sph\n",
        "\n",
        "def calc_dB(Ps):\n",
        "    \"\"\"\n",
        "    Calculate the deci Bell (dB) value for each acoustic pressure Ps.\n",
        "\n",
        "    Input parameters\n",
        "    ----------\n",
        "    Ps:     aplitude of the acoustic pressure\n",
        "\n",
        "    Returns\n",
        "    -------\n",
        "    dB value. []\n",
        "\n",
        "    \"\"\"\n",
        "    Po=2*10**(-5) #[Pa]\n",
        "\n",
        "    return 20*np.log10(Ps/Po)     #Acoustic pressure [Pa]\n",
        "\n",
        "def model_fit(th, Ps):\n",
        "    \"\"\"\n",
        "    Express the model that will be used to fit the experimental data (simple approach).\n",
        "\n",
        "    Input parameters\n",
        "    ----------\n",
        "    dB:     deciBell\n",
        "    th:     angle theta\n",
        "    Returns\n",
        "    -------\n",
        "    Expression of fitting model.\n",
        "\n",
        "    \"\"\"\n",
        "#    Ps=calc_ampl(dB)\n",
        "    ct_new=-((3/(64*gamma))*R_sph**2*Ps**2*Cg_air*(1+((7/5)*(k_o*R_sph)**2)))\n",
        "    return ct_new*(3*(np.cos(th))**2-1)+R_sph\n",
        "\n",
        "\n",
        "def R_predict(th, gamma, R_sph, Ps, Cg_air, k_o):\n",
        "    \"\"\"\n",
        "    Prediction of ST. \n",
        "    After the acoustic pressure is determined. The ST is calculated based on the equation of our model. \n",
        "    \n",
        "    \n",
        "    Input parameters\n",
        "    ----------\n",
        "    th:     angle theta\n",
        "    gamma:  ST as initial predition [mN/m]\n",
        "    Power:  U*I [Watt]\n",
        "    Returns\n",
        "    -------\n",
        "    gamma:   predicted surface tension [mN/m]\n",
        "\n",
        "    \"\"\"    \n",
        "#    Ps=data_Ps[i-1]    #[Pa]\n",
        "    ct_new=-((3/(64*gamma))*R_sph**2*Ps**2*Cg_air*(1+((7/5)*(k_o*R_sph)**2)))*(3*(np.cos(th))**2-1)\n",
        "    return ct_new+R_sph\n",
        "\n",
        "def ST_predict(th, gamma, R_sph, Ps, Cg_air, k_o):\n",
        "    \"\"\"\n",
        "    Prediction of ST. \n",
        "    After the acoustic pressure is determined. The ST is calculated based on the equation of our model. \n",
        "    \n",
        "    \n",
        "    Input parameters\n",
        "    ----------\n",
        "    th:     angle theta\n",
        "    gamma:  ST as initial predition [mN/m]\n",
        "    Power:  U*I [Watt]\n",
        "    Returns\n",
        "    -------\n",
        "    gamma:   predicted surface tension [mN/m]\n",
        "\n",
        "    \"\"\"    \n",
        "#    Ps=data_Ps[i-1]    #[Pa]\n",
        "    ct_new=-((3/(64*gamma))*R_sph**2*Ps**2*Cg_air*(1+((7/5)*(k_o*R_sph)**2)))*(3*(np.cos(th))**2-1)\n",
        "    return ct_new+R_sph\n",
        "\n",
        "\n",
        "def azimuth(phi):\n",
        "    \"\"\"\n",
        "    Calculate the azimuthal angle.\n",
        "\n",
        "    Input parameters\n",
        "    ----------\n",
        "    phi:     angle phi\n",
        "\n",
        "    Returns\n",
        "    -------\n",
        "    Azimuthal angle.\n",
        "\n",
        "    \"\"\"\n",
        "\n",
        "    a=np.arctan2(x, y)\n",
        "    return a\n",
        "\n",
        "\n",
        "def cart2pol(x, y):\n",
        "    rho = np.sqrt(x**2 + y**2)\n",
        "    theta = np.arctan2(y, x)\n",
        "    return(theta, rho)\n",
        "\n",
        "def pol2cart(rho, phi):\n",
        "    x = rho * np.cos(phi)\n",
        "    y = rho * np.sin(phi)\n",
        "    return(x, y)\n",
        "\n",
        "\n",
        "def pol2cart_theta(rho, theta):\n",
        "    x = rho * np.sin(theta)\n",
        "    y = rho * np.cos(theta)\n",
        "    return(x, y)"
      ],
      "execution_count": 4,
      "outputs": [
        {
          "output_type": "stream",
          "name": "stdout",
          "text": [
            "2.6.0\n",
            "Num GPUs Available:  0\n"
          ]
        }
      ]
    },
    {
      "cell_type": "markdown",
      "metadata": {
        "id": "TvCBPgR-gWXl"
      },
      "source": [
        "Run the next code box only if google drive is not mounted to colab"
      ]
    },
    {
      "cell_type": "code",
      "metadata": {
        "id": "7dA-joJRPNiJ",
        "colab": {
          "base_uri": "https://localhost:8080/"
        },
        "outputId": "c51a84aa-bf17-40cc-f330-64080bc00107"
      },
      "source": [
        "from google.colab import drive\n",
        "drive.mount('/content/drive')"
      ],
      "execution_count": 5,
      "outputs": [
        {
          "output_type": "stream",
          "name": "stdout",
          "text": [
            "Mounted at /content/drive\n"
          ]
        }
      ]
    },
    {
      "cell_type": "markdown",
      "metadata": {
        "id": "lMshRx3PgwcZ"
      },
      "source": [
        "If it **is** mounted continue from here on"
      ]
    },
    {
      "cell_type": "code",
      "metadata": {
        "id": "3IEVK-KFxi5Z",
        "colab": {
          "base_uri": "https://localhost:8080/",
          "height": 33
        },
        "outputId": "ba33ea5d-b33e-4183-8c24-d14ed082a120"
      },
      "source": [
        "if 'COLAB_TPU_ADDR' not in os.environ:\n",
        "  print('ERROR: Not connected to a TPU runtime; please see the first cell in this notebook for instructions!')\n",
        "else:\n",
        "  tpu_address = 'grpc://' + os.environ['COLAB_TPU_ADDR']\n",
        "  print ('TPU address is', tpu_address)\n",
        "\n",
        "  with tf.Session(tpu_address) as session:\n",
        "    devices = session.list_devices()\n",
        "    \n",
        "  print('TPU devices:')\n",
        "  pprint.pprint(devices)"
      ],
      "execution_count": null,
      "outputs": [
        {
          "output_type": "stream",
          "text": [
            "ERROR: Not connected to a TPU runtime; please see the first cell in this notebook for instructions!\n"
          ],
          "name": "stdout"
        }
      ]
    },
    {
      "cell_type": "markdown",
      "metadata": {
        "id": "gFh9ne3FZ-On"
      },
      "source": [
        "### Get the data\n",
        "First download the dataset!\n",
        "\n",
        "**Option 1**: Upload files"
      ]
    },
    {
      "cell_type": "code",
      "metadata": {
        "id": "K7-5GSURZTdh"
      },
      "source": [
        "from google.colab import files\n",
        "uploaded = files.upload()"
      ],
      "execution_count": null,
      "outputs": []
    },
    {
      "cell_type": "code",
      "metadata": {
        "id": "l83INVYlZsND"
      },
      "source": [
        "import io\n",
        "csvfilename=str('TritonX100_conci_0.0100_all.csv')\n",
        "input = pd.read_csv(io.BytesIO(uploaded[csvfilename]))\n",
        "#input = pd.read_csv(csvfilename, sep=\"\\t\")\n",
        "# Dataset is now stored in a Pandas Dataframe\n",
        "input.shape"
      ],
      "execution_count": null,
      "outputs": []
    },
    {
      "cell_type": "markdown",
      "metadata": {
        "id": "WCobdL9vDRXH"
      },
      "source": [
        "**Option 2**: Import files from drive"
      ]
    },
    {
      "cell_type": "code",
      "metadata": {
        "id": "Z-NFT5ddEOdC",
        "colab": {
          "base_uri": "https://localhost:8080/",
          "height": 33
        },
        "outputId": "7b68735f-3205-497b-e838-d8a0643b6b47"
      },
      "source": [
        "#From the drive folder that is mounted to collab go to the file that you are interested in, \n",
        "#right click and copy the path of the file. Paste it in csvfilename:\n",
        "import numpy as np\n",
        "file1=pd.read_csv(str('/content/drive/My Drive/DropLev/Theory_simple_model/volatile_solvents/MLtheory_ST_20.00_Ps_2882.0.csv'), sep=\"\\t\")\n",
        "file2=pd.read_csv(str('/content/drive/My Drive/DropLev/Theory_simple_model/volatile_solvents/MLtheory_ST_22.00_Ps_2882.0.csv'), sep=\"\\t\")\n",
        "file3=pd.read_csv(str('/content/drive/My Drive/DropLev/Theory_simple_model/volatile_solvents/MLtheory_ST_25.00_Ps_2882.0.csv'), sep=\"\\t\")\n",
        "file4=pd.read_csv(str('/content/drive/My Drive/DropLev/Theory_simple_model/volatile_solvents/MLtheory_ST_27.00_Ps_2882.0.csv'), sep=\"\\t\")\n",
        "file5=pd.read_csv(str('/content/drive/My Drive/DropLev/Theory_simple_model/volatile_solvents/MLtheory_ST_30.00_Ps_2882.0.csv'), sep=\"\\t\")\n",
        "file6=pd.read_csv(str('/content/drive/My Drive/DropLev/Theory_simple_model/volatile_solvents/MLtheory_ST_32.00_Ps_2882.0.csv'), sep=\"\\t\")\n",
        "file7=pd.read_csv(str('/content/drive/My Drive/DropLev/Theory_simple_model/volatile_solvents/MLtheory_ST_35.00_Ps_2882.0.csv'), sep=\"\\t\")\n",
        "file8=pd.read_csv(str('/content/drive/My Drive/DropLev/Theory_simple_model/volatile_solvents/MLtheory_ST_40.00_Ps_2882.0.csv'), sep=\"\\t\")\n",
        "file9=pd.read_csv(str('/content/drive/My Drive/DropLev/Theory_simple_model/volatile_solvents/MLtheory_ST_45.00_Ps_2882.0.csv'), sep=\"\\t\")\n",
        "file10=pd.read_csv(str('/content/drive/My Drive/DropLev/Theory_simple_model/volatile_solvents/MLtheory_ST_50.00_Ps_2882.0.csv'), sep=\"\\t\")\n",
        "file11=pd.read_csv(str('/content/drive/My Drive/DropLev/Theory_simple_model/volatile_solvents/MLtheory_ST_55.00_Ps_2882.0.csv'), sep=\"\\t\")\n",
        "file12=pd.read_csv(str('/content/drive/My Drive/DropLev/Theory_simple_model/volatile_solvents/MLtheory_ST_60.00_Ps_2882.0.csv'), sep=\"\\t\")\n",
        "file13=pd.read_csv(str('/content/drive/My Drive/DropLev/Theory_simple_model/volatile_solvents/MLtheory_ST_65.00_Ps_2882.0.csv'), sep=\"\\t\")\n",
        "file14=pd.read_csv(str('/content/drive/My Drive/DropLev/Theory_simple_model/volatile_solvents/MLtheory_ST_70.00_Ps_2882.0.csv'), sep=\"\\t\")\n",
        "file15=pd.read_csv(str('/content/drive/My Drive/DropLev/Theory_simple_model/volatile_solvents/MLtheory_ST_72.00_Ps_2882.0.csv'), sep=\"\\t\")\n",
        "file16=pd.read_csv(str('/content/drive/My Drive/DropLev/Theory_simple_model/non_volatile_solvents/MLtheory_ST_20.00_Rsph_0.54.csv'), sep=\"\\t\")\n",
        "file17=pd.read_csv(str('/content/drive/My Drive/DropLev/Theory_simple_model/non_volatile_solvents/MLtheory_ST_22.00_Rsph_0.67.csv'), sep=\"\\t\")\n",
        "file18=pd.read_csv(str('/content/drive/My Drive/DropLev/Theory_simple_model/non_volatile_solvents/MLtheory_ST_25.00_Rsph_0.59.csv'), sep=\"\\t\")\n",
        "file19=pd.read_csv(str('/content/drive/My Drive/DropLev/Theory_simple_model/non_volatile_solvents/MLtheory_ST_25.00_Rsph_0.67.csv'), sep=\"\\t\")\n",
        "file20=pd.read_csv(str('/content/drive/My Drive/DropLev/Theory_simple_model/non_volatile_solvents/MLtheory_ST_30.00_Rsph_0.67.csv'), sep=\"\\t\")\n",
        "file21=pd.read_csv(str('/content/drive/My Drive/DropLev/Theory_simple_model/non_volatile_solvents/MLtheory_ST_35.00_Rsph_0.67.csv'), sep=\"\\t\")\n",
        "file22=pd.read_csv(str('/content/drive/My Drive/DropLev/Theory_simple_model/non_volatile_solvents/MLtheory_ST_40.00_Rsph_0.80.csv'), sep=\"\\t\")\n",
        "file23=pd.read_csv(str('/content/drive/My Drive/DropLev/Theory_simple_model/non_volatile_solvents/MLtheory_ST_45.00_Rsph_0.94.csv'), sep=\"\\t\")\n",
        "file24=pd.read_csv(str('/content/drive/My Drive/DropLev/Theory_simple_model/non_volatile_solvents/MLtheory_ST_50.00_Rsph_1.07.csv'), sep=\"\\t\")\n",
        "file25=pd.read_csv(str('/content/drive/My Drive/DropLev/Theory_simple_model/non_volatile_solvents/MLtheory_ST_55.00_Rsph_1.21.csv'), sep=\"\\t\")\n",
        "file26=pd.read_csv(str('/content/drive/My Drive/DropLev/Theory_simple_model/non_volatile_solvents/MLtheory_ST_60.00_Rsph_1.34.csv'), sep=\"\\t\")\n",
        "file27=pd.read_csv(str('/content/drive/My Drive/DropLev/Theory_simple_model/non_volatile_solvents/MLtheory_ST_65.00_Rsph_1.45.csv'), sep=\"\\t\")\n",
        "file28=pd.read_csv(str('/content/drive/My Drive/DropLev/Theory_simple_model/non_volatile_solvents/MLtheory_ST_65.00_Rsph_1.47.csv'), sep=\"\\t\")\n",
        "file29=pd.read_csv(str('/content/drive/My Drive/DropLev/Theory_simple_model/non_volatile_solvents/MLtheory_ST_70.00_Rsph_1.61.csv'), sep=\"\\t\")\n",
        "file30=pd.read_csv(str('/content/drive/My Drive/DropLev/Theory_simple_model/non_volatile_solvents/MLtheory_ST_72.00_Rsph_1.61.csv'), sep=\"\\t\")\n",
        "\n",
        "#input=np.vstack([file1, file2, file3, file4, file5, file6, file7, file8, file9, file10, file11, file12, file13, file14, file15])\n",
        "#input=np.vstack([file16, file17, file18, file19, file20, file21, file22, file23, file24, file25, file26, file27, file28, file29, file30])\n",
        "input=np.vstack([file1, file2, file16])\n",
        "input.shape\n",
        "#csvfilename=str('/content/drive/My Drive/DropLev/Levitator_2/Training/SDS/SDS_conci_1.50000_ML_data.csv')\n",
        "\n",
        "#input = pd.read_csv(csvfilename)\n"
      ],
      "execution_count": null,
      "outputs": [
        {
          "output_type": "execute_result",
          "data": {
            "text/plain": [
              "(297, 304)"
            ]
          },
          "metadata": {
            "tags": []
          },
          "execution_count": 281
        }
      ]
    },
    {
      "cell_type": "markdown",
      "metadata": {
        "id": "0dQzS1gV1jC1"
      },
      "source": [
        "**Option 3**: Generate the data"
      ]
    },
    {
      "cell_type": "markdown",
      "metadata": {
        "id": "lsGCO8nDUAlJ"
      },
      "source": [
        "Generate random angle:\n",
        "20 000 sets of 200 points"
      ]
    },
    {
      "cell_type": "code",
      "metadata": {
        "id": "27utOVqKvqQ6",
        "outputId": "4151e45b-2390-40a7-f6a6-522e535a2521",
        "colab": {
          "base_uri": "https://localhost:8080/"
        }
      },
      "source": [
        "a1=1.5\n",
        "vol_drop=np.random.random(num_sample)*(5-2)+2 \n",
        "type(vol_drop) != float"
      ],
      "execution_count": 28,
      "outputs": [
        {
          "output_type": "execute_result",
          "data": {
            "text/plain": [
              "True"
            ]
          },
          "metadata": {},
          "execution_count": 28
        }
      ]
    },
    {
      "cell_type": "code",
      "metadata": {
        "id": "k2AMjiCZT_5m",
        "colab": {
          "base_uri": "https://localhost:8080/",
          "height": 1000
        },
        "outputId": "5cc6b884-1372-4942-cd8e-fc5038c434d8"
      },
      "source": [
        "def gen_data(num_sample,sampling):\n",
        "\n",
        "    np.random.seed(1234)\n",
        "\n",
        "    #test=np.arange(100)\n",
        "    #test_r=np.random.choice(test,10)\n",
        "\n",
        "    vol_drop=np.random.random(num_sample)*(4-1)+1 # in µL\n",
        "    calibration=0.0060567117466506235e-3 #mm/pixel\n",
        "  \n",
        "    #gamma=72.8 #[mN/m]   \n",
        "    Cg_air=1/101325 #Pa**(-1)\n",
        "    k_o=2*np.pi*40/340  #wave number in the air in [mm^-1]. frequency 40kHz (25kH=0.000040sec) and speed of sound in air v=340 m/s from paper (331.5 for 20oC online) \n",
        "    #Calibration\n",
        "    Ps= np.random.random(num_sample)*(2000-1600)+1600  #[Pa]\n",
        "    R_sph=calc_R_sph(vol_drop, calibration)\n",
        "\n",
        "    print(\"Radius in mm: \", R_sph)\n",
        "    \n",
        "    #num_sample=200  #ST\n",
        "    #sampling=200\n",
        "\n",
        "    #theta=np.linspace(0,2*np.pi, 100)\n",
        "\n",
        "    #theta=np.random.random(200)*2*np.pi\n",
        "    theta=np.random.rand(num_sample, sampling)*2*np.pi\n",
        "    theta.sort()\n",
        "    ST_range=np.random.random(num_sample)*(72-25)+25\n",
        "    print(theta.shape)\n",
        "    r_all=np.empty([0,sampling])\n",
        "    print(r_all.shape)\n",
        "\n",
        "    if type(R_sph)==float and type(Ps)==float:\n",
        "      for i in range(num_sample):\n",
        "        r=R_predict(theta[i], ST_range[i], R_sph, Ps, Cg_air, k_o)\n",
        "        r_all=np.vstack((r_all, r))\n",
        "      \n",
        "      if i % 1000 == 0:\n",
        "        print(i)\n",
        "    elif type(R_sph)==float and type(Ps)!=float:\n",
        "      for i in range(num_sample):\n",
        "        r=R_predict(theta[i], ST_range[i], R_sph, Ps[i], Cg_air, k_o)\n",
        "        r_all=np.vstack((r_all, r))\n",
        "        \n",
        "      if i % 1000 == 0:\n",
        "        print(i)\n",
        "    elif type(R_sph)!=float and type(Ps)==float:\n",
        "      for i in range(num_sample):\n",
        "        r=R_predict(theta[i], ST_range[i], R_sph[i], Ps, Cg_air, k_o)\n",
        "        r_all=np.vstack((r_all, r))\n",
        "      \n",
        "      if i % 1000 == 0:\n",
        "        print(i)\n",
        "    elif type(R_sph)!=float and type(Ps)!=float:\n",
        "      for i in range(num_sample):\n",
        "        r=R_predict(theta[i], ST_range[i], R_sph[i], Ps[i], Cg_air, k_o)\n",
        "          #print(r.shape)\n",
        "          #print(r)\n",
        "        r_all=np.vstack((r_all, r))\n",
        "      \n",
        "      if i % 1000 == 0:\n",
        "        print(i)\n",
        "        \n",
        "\n",
        "    print(r_all.shape)\n",
        "\n",
        "    dataset=np.hstack((theta,r_all, vol_drop.reshape([num_sample,1]), Ps.reshape([num_sample,1]), ST_range.reshape([num_sample,1])))\n",
        "    print(dataset.shape)\n",
        "\n",
        "    #print(ST_range)\n",
        "    print(ST_range.min())\n",
        "    print(ST_range.max())\n",
        "    #sns.set(color_codes=True)\n",
        "    plt.figure()\n",
        "    sns.distplot(ST_range)\n",
        "    plt.xlabel('Surface tension (mN/m)')\n",
        "\n",
        "    if type(vol_drop) != float:\n",
        "      plt.figure()\n",
        "      sns.distplot(vol_drop)\n",
        "      plt.xlabel('Volume (μL)')\n",
        "\n",
        "    if type(Ps) != float:\n",
        "      plt.figure()\n",
        "      sns.distplot(Ps)\n",
        "      plt.xlabel('Acoustic pressure (Pa)')\n",
        "\n",
        "    fig3 = plt.figure()\n",
        "    plt.xlabel('Cartesian y-axis (mm)')\n",
        "    plt.ylabel('Cartesian z-axis (mm)')\n",
        "    ax = plt.gca()\n",
        "    ax.set_aspect(1)\n",
        "    ax.set_xlim([-1.5,1.5])\n",
        "    ax.set_ylim([-1.5,1.5])\n",
        "    for j in dataset:\n",
        "      x,y=pol2cart_theta(j[sampling:sampling+sampling], j[0:sampling])\n",
        "    #  print(x.shape)\n",
        "    #  print(y.shape)\n",
        "      #plt.plot(x*1e3,y*1e3)\n",
        "      plt.plot(x,y)\n",
        "    plt.show()\n",
        "\n",
        "\n",
        "    return dataset\n",
        "\n",
        "num_sample=50000  # number of different ST values\n",
        "sampling=175 # number of coordiante point describing the contour\n",
        "\n",
        "\n",
        "dataset=gen_data(num_sample,sampling)\n",
        "\n",
        "\n",
        "column_names=[]\n",
        "for i in range(sampling):\n",
        "  column_names.append('theta')\n",
        "for i in range(sampling):\n",
        "  column_names.append('rho')\n",
        "column_names.append('vol')\n",
        "column_names.append('Ps')\n",
        "column_names.append('ST')\n",
        "\n",
        "\n",
        "raw_dataset = pd.DataFrame(dataset, columns=column_names)\n",
        "\n",
        "raw_dataset.to_csv('./dataset.csv',index=False)\n"
      ],
      "execution_count": 120,
      "outputs": [
        {
          "output_type": "stream",
          "name": "stdout",
          "text": [
            "Radius in mm:  [0.72170002 0.88120917 0.820428   ... 0.83407742 0.86269029 0.91220806]\n",
            "(50000, 175)\n",
            "(0, 175)\n",
            "(50000, 175)\n",
            "(50000, 353)\n",
            "25.000107764804284\n",
            "71.9995538712055\n"
          ]
        },
        {
          "output_type": "stream",
          "name": "stderr",
          "text": [
            "/usr/local/lib/python3.7/dist-packages/seaborn/distributions.py:2557: FutureWarning: `distplot` is a deprecated function and will be removed in a future version. Please adapt your code to use either `displot` (a figure-level function with similar flexibility) or `histplot` (an axes-level function for histograms).\n",
            "  warnings.warn(msg, FutureWarning)\n",
            "/usr/local/lib/python3.7/dist-packages/seaborn/distributions.py:2557: FutureWarning: `distplot` is a deprecated function and will be removed in a future version. Please adapt your code to use either `displot` (a figure-level function with similar flexibility) or `histplot` (an axes-level function for histograms).\n",
            "  warnings.warn(msg, FutureWarning)\n",
            "/usr/local/lib/python3.7/dist-packages/seaborn/distributions.py:2557: FutureWarning: `distplot` is a deprecated function and will be removed in a future version. Please adapt your code to use either `displot` (a figure-level function with similar flexibility) or `histplot` (an axes-level function for histograms).\n",
            "  warnings.warn(msg, FutureWarning)\n"
          ]
        },
        {
          "output_type": "display_data",
          "data": {
            "image/png": "[encoded data removed]",
            "text/plain": [
              "<Figure size 432x288 with 1 Axes>"
            ]
          },
          "metadata": {
            "needs_background": "light"
          }
        },
        {
          "output_type": "display_data",
          "data": {
            "image/png": "[encoded data removed]",
            "text/plain": [
              "<Figure size 432x288 with 1 Axes>"
            ]
          },
          "metadata": {
            "needs_background": "light"
          }
        },
        {
          "output_type": "display_data",
          "data": {
            "image/png": "[encoded data removed]",
            "text/plain": [
              "<Figure size 432x288 with 1 Axes>"
            ]
          },
          "metadata": {
            "needs_background": "light"
          }
        },
        {
          "output_type": "display_data",
          "data": {
            "image/png": "[encoded data removed]",
            "text/plain": [
              "<Figure size 432x288 with 1 Axes>"
            ]
          },
          "metadata": {
            "needs_background": "light"
          }
        }
      ]
    },
    {
      "cell_type": "code",
      "metadata": {
        "id": "h4eDSfaT8tNi",
        "outputId": "eee221f1-0285-457e-9ae2-6888eb6471e1",
        "colab": {
          "base_uri": "https://localhost:8080/",
          "height": 253
        }
      },
      "source": [
        "dataset = raw_dataset.copy()\n",
        "\n",
        "dataset.tail()"
      ],
      "execution_count": 121,
      "outputs": [
        {
          "output_type": "execute_result",
          "data": {
            "text/html": [
              "<div>\n",
              "<style scoped>\n",
              "    .dataframe tbody tr th:only-of-type {\n",
              "        vertical-align: middle;\n",
              "    }\n",
              "\n",
              "    .dataframe tbody tr th {\n",
              "        vertical-align: top;\n",
              "    }\n",
              "\n",
              "    .dataframe thead th {\n",
              "        text-align: right;\n",
              "    }\n",
              "</style>\n",
              "<table border=\"1\" class=\"dataframe\">\n",
              "  <thead>\n",
              "    <tr style=\"text-align: right;\">\n",
              "      <th></th>\n",
              "      <th>theta</th>\n",
              "      <th>theta</th>\n",
              "      <th>theta</th>\n",
              "      <th>theta</th>\n",
              "      <th>theta</th>\n",
              "      <th>theta</th>\n",
              "      <th>theta</th>\n",
              "      <th>theta</th>\n",
              "      <th>theta</th>\n",
              "      <th>theta</th>\n",
              "      <th>theta</th>\n",
              "      <th>theta</th>\n",
              "      <th>theta</th>\n",
              "      <th>theta</th>\n",
              "      <th>theta</th>\n",
              "      <th>theta</th>\n",
              "      <th>theta</th>\n",
              "      <th>theta</th>\n",
              "      <th>theta</th>\n",
              "      <th>theta</th>\n",
              "      <th>theta</th>\n",
              "      <th>theta</th>\n",
              "      <th>theta</th>\n",
              "      <th>theta</th>\n",
              "      <th>theta</th>\n",
              "      <th>theta</th>\n",
              "      <th>theta</th>\n",
              "      <th>theta</th>\n",
              "      <th>theta</th>\n",
              "      <th>theta</th>\n",
              "      <th>theta</th>\n",
              "      <th>theta</th>\n",
              "      <th>theta</th>\n",
              "      <th>theta</th>\n",
              "      <th>theta</th>\n",
              "      <th>theta</th>\n",
              "      <th>theta</th>\n",
              "      <th>theta</th>\n",
              "      <th>theta</th>\n",
              "      <th>theta</th>\n",
              "      <th>...</th>\n",
              "      <th>rho</th>\n",
              "      <th>rho</th>\n",
              "      <th>rho</th>\n",
              "      <th>rho</th>\n",
              "      <th>rho</th>\n",
              "      <th>rho</th>\n",
              "      <th>rho</th>\n",
              "      <th>rho</th>\n",
              "      <th>rho</th>\n",
              "      <th>rho</th>\n",
              "      <th>rho</th>\n",
              "      <th>rho</th>\n",
              "      <th>rho</th>\n",
              "      <th>rho</th>\n",
              "      <th>rho</th>\n",
              "      <th>rho</th>\n",
              "      <th>rho</th>\n",
              "      <th>rho</th>\n",
              "      <th>rho</th>\n",
              "      <th>rho</th>\n",
              "      <th>rho</th>\n",
              "      <th>rho</th>\n",
              "      <th>rho</th>\n",
              "      <th>rho</th>\n",
              "      <th>rho</th>\n",
              "      <th>rho</th>\n",
              "      <th>rho</th>\n",
              "      <th>rho</th>\n",
              "      <th>rho</th>\n",
              "      <th>rho</th>\n",
              "      <th>rho</th>\n",
              "      <th>rho</th>\n",
              "      <th>rho</th>\n",
              "      <th>rho</th>\n",
              "      <th>rho</th>\n",
              "      <th>rho</th>\n",
              "      <th>rho</th>\n",
              "      <th>vol</th>\n",
              "      <th>Ps</th>\n",
              "      <th>ST</th>\n",
              "    </tr>\n",
              "  </thead>\n",
              "  <tbody>\n",
              "    <tr>\n",
              "      <th>49995</th>\n",
              "      <td>0.023862</td>\n",
              "      <td>0.034279</td>\n",
              "      <td>0.034937</td>\n",
              "      <td>0.037045</td>\n",
              "      <td>0.108623</td>\n",
              "      <td>0.260101</td>\n",
              "      <td>0.264479</td>\n",
              "      <td>0.269516</td>\n",
              "      <td>0.284802</td>\n",
              "      <td>0.287063</td>\n",
              "      <td>0.291524</td>\n",
              "      <td>0.463566</td>\n",
              "      <td>0.509650</td>\n",
              "      <td>0.511205</td>\n",
              "      <td>0.532117</td>\n",
              "      <td>0.560168</td>\n",
              "      <td>0.599528</td>\n",
              "      <td>0.599766</td>\n",
              "      <td>0.626108</td>\n",
              "      <td>0.672522</td>\n",
              "      <td>0.705309</td>\n",
              "      <td>0.706927</td>\n",
              "      <td>0.728017</td>\n",
              "      <td>0.730034</td>\n",
              "      <td>0.748578</td>\n",
              "      <td>0.797519</td>\n",
              "      <td>0.886971</td>\n",
              "      <td>0.921199</td>\n",
              "      <td>0.979881</td>\n",
              "      <td>1.000424</td>\n",
              "      <td>1.001490</td>\n",
              "      <td>1.021219</td>\n",
              "      <td>1.031977</td>\n",
              "      <td>1.077751</td>\n",
              "      <td>1.113789</td>\n",
              "      <td>1.117653</td>\n",
              "      <td>1.200364</td>\n",
              "      <td>1.217345</td>\n",
              "      <td>1.262776</td>\n",
              "      <td>1.314808</td>\n",
              "      <td>...</td>\n",
              "      <td>0.967867</td>\n",
              "      <td>0.966973</td>\n",
              "      <td>0.945321</td>\n",
              "      <td>0.944744</td>\n",
              "      <td>0.944506</td>\n",
              "      <td>0.932850</td>\n",
              "      <td>0.924477</td>\n",
              "      <td>0.919664</td>\n",
              "      <td>0.910467</td>\n",
              "      <td>0.880061</td>\n",
              "      <td>0.857325</td>\n",
              "      <td>0.853683</td>\n",
              "      <td>0.843821</td>\n",
              "      <td>0.842059</td>\n",
              "      <td>0.834567</td>\n",
              "      <td>0.832189</td>\n",
              "      <td>0.821875</td>\n",
              "      <td>0.817479</td>\n",
              "      <td>0.813887</td>\n",
              "      <td>0.806548</td>\n",
              "      <td>0.805772</td>\n",
              "      <td>0.793077</td>\n",
              "      <td>0.788685</td>\n",
              "      <td>0.771140</td>\n",
              "      <td>0.765879</td>\n",
              "      <td>0.752285</td>\n",
              "      <td>0.748584</td>\n",
              "      <td>0.747980</td>\n",
              "      <td>0.746195</td>\n",
              "      <td>0.745872</td>\n",
              "      <td>0.745652</td>\n",
              "      <td>0.741447</td>\n",
              "      <td>0.725126</td>\n",
              "      <td>0.715650</td>\n",
              "      <td>0.714640</td>\n",
              "      <td>0.705814</td>\n",
              "      <td>0.705662</td>\n",
              "      <td>2.856649</td>\n",
              "      <td>1990.121472</td>\n",
              "      <td>25.688378</td>\n",
              "    </tr>\n",
              "    <tr>\n",
              "      <th>49996</th>\n",
              "      <td>0.051349</td>\n",
              "      <td>0.144342</td>\n",
              "      <td>0.191626</td>\n",
              "      <td>0.207233</td>\n",
              "      <td>0.215264</td>\n",
              "      <td>0.246122</td>\n",
              "      <td>0.254681</td>\n",
              "      <td>0.256412</td>\n",
              "      <td>0.267861</td>\n",
              "      <td>0.273437</td>\n",
              "      <td>0.321325</td>\n",
              "      <td>0.326490</td>\n",
              "      <td>0.373049</td>\n",
              "      <td>0.380408</td>\n",
              "      <td>0.405453</td>\n",
              "      <td>0.450840</td>\n",
              "      <td>0.498682</td>\n",
              "      <td>0.510126</td>\n",
              "      <td>0.577340</td>\n",
              "      <td>0.604795</td>\n",
              "      <td>0.733766</td>\n",
              "      <td>0.760155</td>\n",
              "      <td>0.796921</td>\n",
              "      <td>0.825083</td>\n",
              "      <td>0.895649</td>\n",
              "      <td>0.925634</td>\n",
              "      <td>0.989937</td>\n",
              "      <td>1.023822</td>\n",
              "      <td>1.023916</td>\n",
              "      <td>1.048507</td>\n",
              "      <td>1.144593</td>\n",
              "      <td>1.193028</td>\n",
              "      <td>1.315640</td>\n",
              "      <td>1.383746</td>\n",
              "      <td>1.419750</td>\n",
              "      <td>1.454834</td>\n",
              "      <td>1.533393</td>\n",
              "      <td>1.538164</td>\n",
              "      <td>1.564005</td>\n",
              "      <td>1.622146</td>\n",
              "      <td>...</td>\n",
              "      <td>0.753656</td>\n",
              "      <td>0.752725</td>\n",
              "      <td>0.744351</td>\n",
              "      <td>0.740892</td>\n",
              "      <td>0.739801</td>\n",
              "      <td>0.739579</td>\n",
              "      <td>0.735294</td>\n",
              "      <td>0.732372</td>\n",
              "      <td>0.730306</td>\n",
              "      <td>0.729956</td>\n",
              "      <td>0.721852</td>\n",
              "      <td>0.721373</td>\n",
              "      <td>0.720259</td>\n",
              "      <td>0.720244</td>\n",
              "      <td>0.717784</td>\n",
              "      <td>0.715887</td>\n",
              "      <td>0.715354</td>\n",
              "      <td>0.714128</td>\n",
              "      <td>0.714067</td>\n",
              "      <td>0.706655</td>\n",
              "      <td>0.696368</td>\n",
              "      <td>0.693281</td>\n",
              "      <td>0.692870</td>\n",
              "      <td>0.688198</td>\n",
              "      <td>0.687503</td>\n",
              "      <td>0.686029</td>\n",
              "      <td>0.684234</td>\n",
              "      <td>0.683787</td>\n",
              "      <td>0.682654</td>\n",
              "      <td>0.682466</td>\n",
              "      <td>0.682224</td>\n",
              "      <td>0.681688</td>\n",
              "      <td>0.680272</td>\n",
              "      <td>0.679968</td>\n",
              "      <td>0.678244</td>\n",
              "      <td>0.678194</td>\n",
              "      <td>0.678053</td>\n",
              "      <td>1.775881</td>\n",
              "      <td>1821.177597</td>\n",
              "      <td>33.849961</td>\n",
              "    </tr>\n",
              "    <tr>\n",
              "      <th>49997</th>\n",
              "      <td>0.054109</td>\n",
              "      <td>0.108957</td>\n",
              "      <td>0.126624</td>\n",
              "      <td>0.138440</td>\n",
              "      <td>0.175073</td>\n",
              "      <td>0.208060</td>\n",
              "      <td>0.285553</td>\n",
              "      <td>0.299700</td>\n",
              "      <td>0.317046</td>\n",
              "      <td>0.330692</td>\n",
              "      <td>0.343598</td>\n",
              "      <td>0.428377</td>\n",
              "      <td>0.451356</td>\n",
              "      <td>0.452530</td>\n",
              "      <td>0.549231</td>\n",
              "      <td>0.561175</td>\n",
              "      <td>0.574396</td>\n",
              "      <td>0.587682</td>\n",
              "      <td>0.605581</td>\n",
              "      <td>0.692244</td>\n",
              "      <td>0.713112</td>\n",
              "      <td>0.748366</td>\n",
              "      <td>0.806334</td>\n",
              "      <td>0.848448</td>\n",
              "      <td>0.916636</td>\n",
              "      <td>0.925707</td>\n",
              "      <td>0.968489</td>\n",
              "      <td>0.978733</td>\n",
              "      <td>1.023111</td>\n",
              "      <td>1.059162</td>\n",
              "      <td>1.140315</td>\n",
              "      <td>1.146445</td>\n",
              "      <td>1.155118</td>\n",
              "      <td>1.190679</td>\n",
              "      <td>1.233316</td>\n",
              "      <td>1.283117</td>\n",
              "      <td>1.314732</td>\n",
              "      <td>1.332466</td>\n",
              "      <td>1.384104</td>\n",
              "      <td>1.431728</td>\n",
              "      <td>...</td>\n",
              "      <td>0.864723</td>\n",
              "      <td>0.864720</td>\n",
              "      <td>0.864701</td>\n",
              "      <td>0.862662</td>\n",
              "      <td>0.860320</td>\n",
              "      <td>0.858325</td>\n",
              "      <td>0.856682</td>\n",
              "      <td>0.855219</td>\n",
              "      <td>0.852917</td>\n",
              "      <td>0.852851</td>\n",
              "      <td>0.851194</td>\n",
              "      <td>0.848398</td>\n",
              "      <td>0.847678</td>\n",
              "      <td>0.846748</td>\n",
              "      <td>0.843453</td>\n",
              "      <td>0.835984</td>\n",
              "      <td>0.835259</td>\n",
              "      <td>0.835162</td>\n",
              "      <td>0.831090</td>\n",
              "      <td>0.826935</td>\n",
              "      <td>0.813445</td>\n",
              "      <td>0.813217</td>\n",
              "      <td>0.806304</td>\n",
              "      <td>0.805016</td>\n",
              "      <td>0.799950</td>\n",
              "      <td>0.790180</td>\n",
              "      <td>0.790033</td>\n",
              "      <td>0.788679</td>\n",
              "      <td>0.787989</td>\n",
              "      <td>0.784205</td>\n",
              "      <td>0.779665</td>\n",
              "      <td>0.779183</td>\n",
              "      <td>0.778797</td>\n",
              "      <td>0.774178</td>\n",
              "      <td>0.773348</td>\n",
              "      <td>0.773242</td>\n",
              "      <td>0.772843</td>\n",
              "      <td>2.430568</td>\n",
              "      <td>1744.102285</td>\n",
              "      <td>48.916954</td>\n",
              "    </tr>\n",
              "    <tr>\n",
              "      <th>49998</th>\n",
              "      <td>0.009563</td>\n",
              "      <td>0.029078</td>\n",
              "      <td>0.043815</td>\n",
              "      <td>0.086210</td>\n",
              "      <td>0.125681</td>\n",
              "      <td>0.177886</td>\n",
              "      <td>0.349223</td>\n",
              "      <td>0.420408</td>\n",
              "      <td>0.504417</td>\n",
              "      <td>0.571193</td>\n",
              "      <td>0.573078</td>\n",
              "      <td>0.575633</td>\n",
              "      <td>0.585599</td>\n",
              "      <td>0.587817</td>\n",
              "      <td>0.711062</td>\n",
              "      <td>0.761213</td>\n",
              "      <td>0.769863</td>\n",
              "      <td>0.770459</td>\n",
              "      <td>0.841994</td>\n",
              "      <td>0.933651</td>\n",
              "      <td>0.959529</td>\n",
              "      <td>1.057108</td>\n",
              "      <td>1.107143</td>\n",
              "      <td>1.120788</td>\n",
              "      <td>1.161054</td>\n",
              "      <td>1.249507</td>\n",
              "      <td>1.302084</td>\n",
              "      <td>1.345779</td>\n",
              "      <td>1.411126</td>\n",
              "      <td>1.469093</td>\n",
              "      <td>1.475515</td>\n",
              "      <td>1.476756</td>\n",
              "      <td>1.516557</td>\n",
              "      <td>1.524662</td>\n",
              "      <td>1.556774</td>\n",
              "      <td>1.657524</td>\n",
              "      <td>1.663801</td>\n",
              "      <td>1.720028</td>\n",
              "      <td>1.725969</td>\n",
              "      <td>1.732634</td>\n",
              "      <td>...</td>\n",
              "      <td>0.883320</td>\n",
              "      <td>0.883156</td>\n",
              "      <td>0.880404</td>\n",
              "      <td>0.877969</td>\n",
              "      <td>0.876962</td>\n",
              "      <td>0.873722</td>\n",
              "      <td>0.873702</td>\n",
              "      <td>0.866013</td>\n",
              "      <td>0.861645</td>\n",
              "      <td>0.846501</td>\n",
              "      <td>0.844850</td>\n",
              "      <td>0.842190</td>\n",
              "      <td>0.838795</td>\n",
              "      <td>0.835459</td>\n",
              "      <td>0.832548</td>\n",
              "      <td>0.832160</td>\n",
              "      <td>0.828436</td>\n",
              "      <td>0.826529</td>\n",
              "      <td>0.824628</td>\n",
              "      <td>0.819635</td>\n",
              "      <td>0.818791</td>\n",
              "      <td>0.817113</td>\n",
              "      <td>0.817071</td>\n",
              "      <td>0.816982</td>\n",
              "      <td>0.816118</td>\n",
              "      <td>0.815510</td>\n",
              "      <td>0.813837</td>\n",
              "      <td>0.809746</td>\n",
              "      <td>0.809595</td>\n",
              "      <td>0.808496</td>\n",
              "      <td>0.806684</td>\n",
              "      <td>0.804277</td>\n",
              "      <td>0.804127</td>\n",
              "      <td>0.804046</td>\n",
              "      <td>0.803142</td>\n",
              "      <td>0.802782</td>\n",
              "      <td>0.802630</td>\n",
              "      <td>2.689387</td>\n",
              "      <td>1703.638399</td>\n",
              "      <td>52.122966</td>\n",
              "    </tr>\n",
              "    <tr>\n",
              "      <th>49999</th>\n",
              "      <td>0.036166</td>\n",
              "      <td>0.055831</td>\n",
              "      <td>0.125321</td>\n",
              "      <td>0.201134</td>\n",
              "      <td>0.234988</td>\n",
              "      <td>0.302621</td>\n",
              "      <td>0.343091</td>\n",
              "      <td>0.393511</td>\n",
              "      <td>0.422262</td>\n",
              "      <td>0.444165</td>\n",
              "      <td>0.450060</td>\n",
              "      <td>0.614571</td>\n",
              "      <td>0.617735</td>\n",
              "      <td>0.674948</td>\n",
              "      <td>0.682925</td>\n",
              "      <td>0.698784</td>\n",
              "      <td>0.806415</td>\n",
              "      <td>0.818811</td>\n",
              "      <td>0.829651</td>\n",
              "      <td>0.845581</td>\n",
              "      <td>0.847610</td>\n",
              "      <td>0.865297</td>\n",
              "      <td>0.865435</td>\n",
              "      <td>0.881413</td>\n",
              "      <td>0.902595</td>\n",
              "      <td>0.949126</td>\n",
              "      <td>0.966570</td>\n",
              "      <td>1.048294</td>\n",
              "      <td>1.233557</td>\n",
              "      <td>1.251713</td>\n",
              "      <td>1.313553</td>\n",
              "      <td>1.371214</td>\n",
              "      <td>1.430468</td>\n",
              "      <td>1.625893</td>\n",
              "      <td>1.671757</td>\n",
              "      <td>1.697403</td>\n",
              "      <td>1.728909</td>\n",
              "      <td>1.822744</td>\n",
              "      <td>1.826598</td>\n",
              "      <td>1.843809</td>\n",
              "      <td>...</td>\n",
              "      <td>0.972530</td>\n",
              "      <td>0.971804</td>\n",
              "      <td>0.969995</td>\n",
              "      <td>0.957135</td>\n",
              "      <td>0.952266</td>\n",
              "      <td>0.951498</td>\n",
              "      <td>0.938173</td>\n",
              "      <td>0.930477</td>\n",
              "      <td>0.921464</td>\n",
              "      <td>0.912711</td>\n",
              "      <td>0.912293</td>\n",
              "      <td>0.906189</td>\n",
              "      <td>0.894607</td>\n",
              "      <td>0.893142</td>\n",
              "      <td>0.874417</td>\n",
              "      <td>0.869172</td>\n",
              "      <td>0.863695</td>\n",
              "      <td>0.842586</td>\n",
              "      <td>0.841603</td>\n",
              "      <td>0.839615</td>\n",
              "      <td>0.833116</td>\n",
              "      <td>0.828223</td>\n",
              "      <td>0.827125</td>\n",
              "      <td>0.822743</td>\n",
              "      <td>0.820194</td>\n",
              "      <td>0.817833</td>\n",
              "      <td>0.807237</td>\n",
              "      <td>0.804406</td>\n",
              "      <td>0.804350</td>\n",
              "      <td>0.802188</td>\n",
              "      <td>0.800499</td>\n",
              "      <td>0.795706</td>\n",
              "      <td>0.793578</td>\n",
              "      <td>0.789529</td>\n",
              "      <td>0.786204</td>\n",
              "      <td>0.785983</td>\n",
              "      <td>0.785814</td>\n",
              "      <td>3.179584</td>\n",
              "      <td>1630.332665</td>\n",
              "      <td>26.475489</td>\n",
              "    </tr>\n",
              "  </tbody>\n",
              "</table>\n",
              "<p>5 rows × 353 columns</p>\n",
              "</div>"
            ],
            "text/plain": [
              "          theta     theta     theta  ...       vol           Ps         ST\n",
              "49995  0.023862  0.034279  0.034937  ...  2.856649  1990.121472  25.688378\n",
              "49996  0.051349  0.144342  0.191626  ...  1.775881  1821.177597  33.849961\n",
              "49997  0.054109  0.108957  0.126624  ...  2.430568  1744.102285  48.916954\n",
              "49998  0.009563  0.029078  0.043815  ...  2.689387  1703.638399  52.122966\n",
              "49999  0.036166  0.055831  0.125321  ...  3.179584  1630.332665  26.475489\n",
              "\n",
              "[5 rows x 353 columns]"
            ]
          },
          "metadata": {},
          "execution_count": 121
        }
      ]
    },
    {
      "cell_type": "markdown",
      "metadata": {
        "id": "nslsRLh7Zss4"
      },
      "source": [
        "###Import it using pandas for **options 1 and 2**"
      ]
    },
    {
      "cell_type": "code",
      "metadata": {
        "id": "CiX2FI4gZtTt",
        "colab": {
          "base_uri": "https://localhost:8080/",
          "height": 247
        },
        "outputId": "04d2320e-92b2-40ee-9db1-828deca949e1"
      },
      "source": [
        "column_names=[]\n",
        "\n",
        "for i in range(100):\n",
        "  column_names.append('rho_%d' %i)\n",
        "for i in range(100):\n",
        "  column_names.append('phi_%d' %i)\n",
        "for i in range(100):\n",
        "  column_names.append('cos2theta_%d' %i)\n",
        "column_names.append('(k*R_sph)^2')\n",
        "column_names.append('R_sph2')\n",
        "column_names.append('Ps2*Cg_air')\n",
        "\n",
        "column_names.append('st')\n",
        "\n",
        "#raw_dataset = pd.read_csv(csvfilename, sep=\"\\t\")\n",
        "#raw_dataset.columns=column_names\n",
        "\n",
        "raw_dataset = pd.DataFrame(data=input,  columns=column_names) \n",
        "              \n",
        "raw_dataset.shape\n",
        "\n",
        "dataset = raw_dataset.copy()\n",
        "\n",
        "\n",
        "#for i in range(100):\n",
        "#  dataset.pop('cos2theta_%d' %i)\n",
        "\n",
        "dataset.pop('Ps2*Cg_air')\n",
        "\n",
        "\n",
        "dataset.tail()"
      ],
      "execution_count": null,
      "outputs": [
        {
          "output_type": "execute_result",
          "data": {
            "text/html": [
              "<div>\n",
              "<style scoped>\n",
              "    .dataframe tbody tr th:only-of-type {\n",
              "        vertical-align: middle;\n",
              "    }\n",
              "\n",
              "    .dataframe tbody tr th {\n",
              "        vertical-align: top;\n",
              "    }\n",
              "\n",
              "    .dataframe thead th {\n",
              "        text-align: right;\n",
              "    }\n",
              "</style>\n",
              "<table border=\"1\" class=\"dataframe\">\n",
              "  <thead>\n",
              "    <tr style=\"text-align: right;\">\n",
              "      <th></th>\n",
              "      <th>rho_0</th>\n",
              "      <th>rho_1</th>\n",
              "      <th>rho_2</th>\n",
              "      <th>rho_3</th>\n",
              "      <th>rho_4</th>\n",
              "      <th>rho_5</th>\n",
              "      <th>rho_6</th>\n",
              "      <th>rho_7</th>\n",
              "      <th>rho_8</th>\n",
              "      <th>rho_9</th>\n",
              "      <th>rho_10</th>\n",
              "      <th>rho_11</th>\n",
              "      <th>rho_12</th>\n",
              "      <th>rho_13</th>\n",
              "      <th>rho_14</th>\n",
              "      <th>rho_15</th>\n",
              "      <th>rho_16</th>\n",
              "      <th>rho_17</th>\n",
              "      <th>rho_18</th>\n",
              "      <th>rho_19</th>\n",
              "      <th>rho_20</th>\n",
              "      <th>rho_21</th>\n",
              "      <th>rho_22</th>\n",
              "      <th>rho_23</th>\n",
              "      <th>rho_24</th>\n",
              "      <th>rho_25</th>\n",
              "      <th>rho_26</th>\n",
              "      <th>rho_27</th>\n",
              "      <th>rho_28</th>\n",
              "      <th>rho_29</th>\n",
              "      <th>rho_30</th>\n",
              "      <th>rho_31</th>\n",
              "      <th>rho_32</th>\n",
              "      <th>rho_33</th>\n",
              "      <th>rho_34</th>\n",
              "      <th>rho_35</th>\n",
              "      <th>rho_36</th>\n",
              "      <th>rho_37</th>\n",
              "      <th>rho_38</th>\n",
              "      <th>rho_39</th>\n",
              "      <th>...</th>\n",
              "      <th>cos2theta_63</th>\n",
              "      <th>cos2theta_64</th>\n",
              "      <th>cos2theta_65</th>\n",
              "      <th>cos2theta_66</th>\n",
              "      <th>cos2theta_67</th>\n",
              "      <th>cos2theta_68</th>\n",
              "      <th>cos2theta_69</th>\n",
              "      <th>cos2theta_70</th>\n",
              "      <th>cos2theta_71</th>\n",
              "      <th>cos2theta_72</th>\n",
              "      <th>cos2theta_73</th>\n",
              "      <th>cos2theta_74</th>\n",
              "      <th>cos2theta_75</th>\n",
              "      <th>cos2theta_76</th>\n",
              "      <th>cos2theta_77</th>\n",
              "      <th>cos2theta_78</th>\n",
              "      <th>cos2theta_79</th>\n",
              "      <th>cos2theta_80</th>\n",
              "      <th>cos2theta_81</th>\n",
              "      <th>cos2theta_82</th>\n",
              "      <th>cos2theta_83</th>\n",
              "      <th>cos2theta_84</th>\n",
              "      <th>cos2theta_85</th>\n",
              "      <th>cos2theta_86</th>\n",
              "      <th>cos2theta_87</th>\n",
              "      <th>cos2theta_88</th>\n",
              "      <th>cos2theta_89</th>\n",
              "      <th>cos2theta_90</th>\n",
              "      <th>cos2theta_91</th>\n",
              "      <th>cos2theta_92</th>\n",
              "      <th>cos2theta_93</th>\n",
              "      <th>cos2theta_94</th>\n",
              "      <th>cos2theta_95</th>\n",
              "      <th>cos2theta_96</th>\n",
              "      <th>cos2theta_97</th>\n",
              "      <th>cos2theta_98</th>\n",
              "      <th>cos2theta_99</th>\n",
              "      <th>(k*R_sph)^2</th>\n",
              "      <th>R_sph2</th>\n",
              "      <th>st</th>\n",
              "    </tr>\n",
              "  </thead>\n",
              "  <tbody>\n",
              "    <tr>\n",
              "      <th>292</th>\n",
              "      <td>0.594194</td>\n",
              "      <td>0.593489</td>\n",
              "      <td>0.591385</td>\n",
              "      <td>0.587916</td>\n",
              "      <td>0.583138</td>\n",
              "      <td>0.577128</td>\n",
              "      <td>0.569983</td>\n",
              "      <td>0.561817</td>\n",
              "      <td>0.552761</td>\n",
              "      <td>0.542963</td>\n",
              "      <td>0.532578</td>\n",
              "      <td>0.521775</td>\n",
              "      <td>0.510727</td>\n",
              "      <td>0.499611</td>\n",
              "      <td>0.488608</td>\n",
              "      <td>0.477893</td>\n",
              "      <td>0.467640</td>\n",
              "      <td>0.458013</td>\n",
              "      <td>0.449166</td>\n",
              "      <td>0.441244</td>\n",
              "      <td>0.434372</td>\n",
              "      <td>0.428662</td>\n",
              "      <td>0.424205</td>\n",
              "      <td>0.421073</td>\n",
              "      <td>0.419316</td>\n",
              "      <td>0.418964</td>\n",
              "      <td>0.420020</td>\n",
              "      <td>0.422469</td>\n",
              "      <td>0.426271</td>\n",
              "      <td>0.431365</td>\n",
              "      <td>0.437669</td>\n",
              "      <td>0.445081</td>\n",
              "      <td>0.453483</td>\n",
              "      <td>0.462738</td>\n",
              "      <td>0.472698</td>\n",
              "      <td>0.483204</td>\n",
              "      <td>0.494085</td>\n",
              "      <td>0.505166</td>\n",
              "      <td>0.516270</td>\n",
              "      <td>0.527218</td>\n",
              "      <td>...</td>\n",
              "      <td>0.571157</td>\n",
              "      <td>0.633237</td>\n",
              "      <td>0.693173</td>\n",
              "      <td>0.75</td>\n",
              "      <td>0.802805</td>\n",
              "      <td>0.850737</td>\n",
              "      <td>0.893027</td>\n",
              "      <td>0.928992</td>\n",
              "      <td>0.958054</td>\n",
              "      <td>0.979746</td>\n",
              "      <td>0.993719</td>\n",
              "      <td>0.999748</td>\n",
              "      <td>0.997736</td>\n",
              "      <td>0.987715</td>\n",
              "      <td>0.969846</td>\n",
              "      <td>0.944418</td>\n",
              "      <td>0.911838</td>\n",
              "      <td>0.872632</td>\n",
              "      <td>0.82743</td>\n",
              "      <td>0.77696</td>\n",
              "      <td>0.722033</td>\n",
              "      <td>0.663534</td>\n",
              "      <td>0.602403</td>\n",
              "      <td>0.539625</td>\n",
              "      <td>0.476209</td>\n",
              "      <td>0.413176</td>\n",
              "      <td>0.35154</td>\n",
              "      <td>0.292292</td>\n",
              "      <td>0.236387</td>\n",
              "      <td>0.184724</td>\n",
              "      <td>0.138133</td>\n",
              "      <td>0.097365</td>\n",
              "      <td>0.063075</td>\n",
              "      <td>0.035816</td>\n",
              "      <td>0.016026</td>\n",
              "      <td>0.004023</td>\n",
              "      <td>3.749399e-33</td>\n",
              "      <td>0.535769</td>\n",
              "      <td>0.287049</td>\n",
              "      <td>20.0</td>\n",
              "    </tr>\n",
              "    <tr>\n",
              "      <th>293</th>\n",
              "      <td>0.595005</td>\n",
              "      <td>0.594291</td>\n",
              "      <td>0.592158</td>\n",
              "      <td>0.588641</td>\n",
              "      <td>0.583796</td>\n",
              "      <td>0.577703</td>\n",
              "      <td>0.570458</td>\n",
              "      <td>0.562178</td>\n",
              "      <td>0.552997</td>\n",
              "      <td>0.543062</td>\n",
              "      <td>0.532534</td>\n",
              "      <td>0.521580</td>\n",
              "      <td>0.510379</td>\n",
              "      <td>0.499109</td>\n",
              "      <td>0.487953</td>\n",
              "      <td>0.477090</td>\n",
              "      <td>0.466694</td>\n",
              "      <td>0.456933</td>\n",
              "      <td>0.447964</td>\n",
              "      <td>0.439931</td>\n",
              "      <td>0.432964</td>\n",
              "      <td>0.427174</td>\n",
              "      <td>0.422655</td>\n",
              "      <td>0.419480</td>\n",
              "      <td>0.417699</td>\n",
              "      <td>0.417341</td>\n",
              "      <td>0.418413</td>\n",
              "      <td>0.420896</td>\n",
              "      <td>0.424751</td>\n",
              "      <td>0.429915</td>\n",
              "      <td>0.436307</td>\n",
              "      <td>0.443822</td>\n",
              "      <td>0.452340</td>\n",
              "      <td>0.461724</td>\n",
              "      <td>0.471822</td>\n",
              "      <td>0.482474</td>\n",
              "      <td>0.493506</td>\n",
              "      <td>0.504741</td>\n",
              "      <td>0.515999</td>\n",
              "      <td>0.527099</td>\n",
              "      <td>...</td>\n",
              "      <td>0.571157</td>\n",
              "      <td>0.633237</td>\n",
              "      <td>0.693173</td>\n",
              "      <td>0.75</td>\n",
              "      <td>0.802805</td>\n",
              "      <td>0.850737</td>\n",
              "      <td>0.893027</td>\n",
              "      <td>0.928992</td>\n",
              "      <td>0.958054</td>\n",
              "      <td>0.979746</td>\n",
              "      <td>0.993719</td>\n",
              "      <td>0.999748</td>\n",
              "      <td>0.997736</td>\n",
              "      <td>0.987715</td>\n",
              "      <td>0.969846</td>\n",
              "      <td>0.944418</td>\n",
              "      <td>0.911838</td>\n",
              "      <td>0.872632</td>\n",
              "      <td>0.82743</td>\n",
              "      <td>0.77696</td>\n",
              "      <td>0.722033</td>\n",
              "      <td>0.663534</td>\n",
              "      <td>0.602403</td>\n",
              "      <td>0.539625</td>\n",
              "      <td>0.476209</td>\n",
              "      <td>0.413176</td>\n",
              "      <td>0.35154</td>\n",
              "      <td>0.292292</td>\n",
              "      <td>0.236387</td>\n",
              "      <td>0.184724</td>\n",
              "      <td>0.138133</td>\n",
              "      <td>0.097365</td>\n",
              "      <td>0.063075</td>\n",
              "      <td>0.035816</td>\n",
              "      <td>0.016026</td>\n",
              "      <td>0.004023</td>\n",
              "      <td>3.749399e-33</td>\n",
              "      <td>0.535769</td>\n",
              "      <td>0.287049</td>\n",
              "      <td>20.0</td>\n",
              "    </tr>\n",
              "    <tr>\n",
              "      <th>294</th>\n",
              "      <td>0.595822</td>\n",
              "      <td>0.595098</td>\n",
              "      <td>0.592935</td>\n",
              "      <td>0.589370</td>\n",
              "      <td>0.584459</td>\n",
              "      <td>0.578281</td>\n",
              "      <td>0.570936</td>\n",
              "      <td>0.562543</td>\n",
              "      <td>0.553235</td>\n",
              "      <td>0.543163</td>\n",
              "      <td>0.532489</td>\n",
              "      <td>0.521385</td>\n",
              "      <td>0.510029</td>\n",
              "      <td>0.498604</td>\n",
              "      <td>0.487293</td>\n",
              "      <td>0.476280</td>\n",
              "      <td>0.465741</td>\n",
              "      <td>0.455845</td>\n",
              "      <td>0.446753</td>\n",
              "      <td>0.438609</td>\n",
              "      <td>0.431546</td>\n",
              "      <td>0.425676</td>\n",
              "      <td>0.421095</td>\n",
              "      <td>0.417876</td>\n",
              "      <td>0.416070</td>\n",
              "      <td>0.415708</td>\n",
              "      <td>0.416794</td>\n",
              "      <td>0.419311</td>\n",
              "      <td>0.423219</td>\n",
              "      <td>0.428455</td>\n",
              "      <td>0.434935</td>\n",
              "      <td>0.442554</td>\n",
              "      <td>0.451189</td>\n",
              "      <td>0.460702</td>\n",
              "      <td>0.470940</td>\n",
              "      <td>0.481738</td>\n",
              "      <td>0.492923</td>\n",
              "      <td>0.504313</td>\n",
              "      <td>0.515727</td>\n",
              "      <td>0.526980</td>\n",
              "      <td>...</td>\n",
              "      <td>0.571157</td>\n",
              "      <td>0.633237</td>\n",
              "      <td>0.693173</td>\n",
              "      <td>0.75</td>\n",
              "      <td>0.802805</td>\n",
              "      <td>0.850737</td>\n",
              "      <td>0.893027</td>\n",
              "      <td>0.928992</td>\n",
              "      <td>0.958054</td>\n",
              "      <td>0.979746</td>\n",
              "      <td>0.993719</td>\n",
              "      <td>0.999748</td>\n",
              "      <td>0.997736</td>\n",
              "      <td>0.987715</td>\n",
              "      <td>0.969846</td>\n",
              "      <td>0.944418</td>\n",
              "      <td>0.911838</td>\n",
              "      <td>0.872632</td>\n",
              "      <td>0.82743</td>\n",
              "      <td>0.77696</td>\n",
              "      <td>0.722033</td>\n",
              "      <td>0.663534</td>\n",
              "      <td>0.602403</td>\n",
              "      <td>0.539625</td>\n",
              "      <td>0.476209</td>\n",
              "      <td>0.413176</td>\n",
              "      <td>0.35154</td>\n",
              "      <td>0.292292</td>\n",
              "      <td>0.236387</td>\n",
              "      <td>0.184724</td>\n",
              "      <td>0.138133</td>\n",
              "      <td>0.097365</td>\n",
              "      <td>0.063075</td>\n",
              "      <td>0.035816</td>\n",
              "      <td>0.016026</td>\n",
              "      <td>0.004023</td>\n",
              "      <td>3.749399e-33</td>\n",
              "      <td>0.535769</td>\n",
              "      <td>0.287049</td>\n",
              "      <td>20.0</td>\n",
              "    </tr>\n",
              "    <tr>\n",
              "      <th>295</th>\n",
              "      <td>0.596645</td>\n",
              "      <td>0.595910</td>\n",
              "      <td>0.593718</td>\n",
              "      <td>0.590104</td>\n",
              "      <td>0.585126</td>\n",
              "      <td>0.578864</td>\n",
              "      <td>0.571418</td>\n",
              "      <td>0.562909</td>\n",
              "      <td>0.553474</td>\n",
              "      <td>0.543264</td>\n",
              "      <td>0.532444</td>\n",
              "      <td>0.521188</td>\n",
              "      <td>0.509676</td>\n",
              "      <td>0.498094</td>\n",
              "      <td>0.486629</td>\n",
              "      <td>0.475465</td>\n",
              "      <td>0.464782</td>\n",
              "      <td>0.454750</td>\n",
              "      <td>0.445533</td>\n",
              "      <td>0.437278</td>\n",
              "      <td>0.430118</td>\n",
              "      <td>0.424168</td>\n",
              "      <td>0.419524</td>\n",
              "      <td>0.416261</td>\n",
              "      <td>0.414431</td>\n",
              "      <td>0.414063</td>\n",
              "      <td>0.415164</td>\n",
              "      <td>0.417716</td>\n",
              "      <td>0.421678</td>\n",
              "      <td>0.426985</td>\n",
              "      <td>0.433554</td>\n",
              "      <td>0.441277</td>\n",
              "      <td>0.450031</td>\n",
              "      <td>0.459674</td>\n",
              "      <td>0.470052</td>\n",
              "      <td>0.480998</td>\n",
              "      <td>0.492336</td>\n",
              "      <td>0.503882</td>\n",
              "      <td>0.515452</td>\n",
              "      <td>0.526859</td>\n",
              "      <td>...</td>\n",
              "      <td>0.571157</td>\n",
              "      <td>0.633237</td>\n",
              "      <td>0.693173</td>\n",
              "      <td>0.75</td>\n",
              "      <td>0.802805</td>\n",
              "      <td>0.850737</td>\n",
              "      <td>0.893027</td>\n",
              "      <td>0.928992</td>\n",
              "      <td>0.958054</td>\n",
              "      <td>0.979746</td>\n",
              "      <td>0.993719</td>\n",
              "      <td>0.999748</td>\n",
              "      <td>0.997736</td>\n",
              "      <td>0.987715</td>\n",
              "      <td>0.969846</td>\n",
              "      <td>0.944418</td>\n",
              "      <td>0.911838</td>\n",
              "      <td>0.872632</td>\n",
              "      <td>0.82743</td>\n",
              "      <td>0.77696</td>\n",
              "      <td>0.722033</td>\n",
              "      <td>0.663534</td>\n",
              "      <td>0.602403</td>\n",
              "      <td>0.539625</td>\n",
              "      <td>0.476209</td>\n",
              "      <td>0.413176</td>\n",
              "      <td>0.35154</td>\n",
              "      <td>0.292292</td>\n",
              "      <td>0.236387</td>\n",
              "      <td>0.184724</td>\n",
              "      <td>0.138133</td>\n",
              "      <td>0.097365</td>\n",
              "      <td>0.063075</td>\n",
              "      <td>0.035816</td>\n",
              "      <td>0.016026</td>\n",
              "      <td>0.004023</td>\n",
              "      <td>3.749399e-33</td>\n",
              "      <td>0.535769</td>\n",
              "      <td>0.287049</td>\n",
              "      <td>20.0</td>\n",
              "    </tr>\n",
              "    <tr>\n",
              "      <th>296</th>\n",
              "      <td>0.597473</td>\n",
              "      <td>0.596729</td>\n",
              "      <td>0.594507</td>\n",
              "      <td>0.590843</td>\n",
              "      <td>0.585797</td>\n",
              "      <td>0.579450</td>\n",
              "      <td>0.571903</td>\n",
              "      <td>0.563279</td>\n",
              "      <td>0.553715</td>\n",
              "      <td>0.543366</td>\n",
              "      <td>0.532399</td>\n",
              "      <td>0.520989</td>\n",
              "      <td>0.509321</td>\n",
              "      <td>0.497582</td>\n",
              "      <td>0.485961</td>\n",
              "      <td>0.474645</td>\n",
              "      <td>0.463816</td>\n",
              "      <td>0.453648</td>\n",
              "      <td>0.444306</td>\n",
              "      <td>0.435938</td>\n",
              "      <td>0.428681</td>\n",
              "      <td>0.422650</td>\n",
              "      <td>0.417943</td>\n",
              "      <td>0.414635</td>\n",
              "      <td>0.412780</td>\n",
              "      <td>0.412407</td>\n",
              "      <td>0.413523</td>\n",
              "      <td>0.416110</td>\n",
              "      <td>0.420125</td>\n",
              "      <td>0.425505</td>\n",
              "      <td>0.432163</td>\n",
              "      <td>0.439991</td>\n",
              "      <td>0.448864</td>\n",
              "      <td>0.458639</td>\n",
              "      <td>0.469158</td>\n",
              "      <td>0.480253</td>\n",
              "      <td>0.491745</td>\n",
              "      <td>0.503449</td>\n",
              "      <td>0.515176</td>\n",
              "      <td>0.526738</td>\n",
              "      <td>...</td>\n",
              "      <td>0.571157</td>\n",
              "      <td>0.633237</td>\n",
              "      <td>0.693173</td>\n",
              "      <td>0.75</td>\n",
              "      <td>0.802805</td>\n",
              "      <td>0.850737</td>\n",
              "      <td>0.893027</td>\n",
              "      <td>0.928992</td>\n",
              "      <td>0.958054</td>\n",
              "      <td>0.979746</td>\n",
              "      <td>0.993719</td>\n",
              "      <td>0.999748</td>\n",
              "      <td>0.997736</td>\n",
              "      <td>0.987715</td>\n",
              "      <td>0.969846</td>\n",
              "      <td>0.944418</td>\n",
              "      <td>0.911838</td>\n",
              "      <td>0.872632</td>\n",
              "      <td>0.82743</td>\n",
              "      <td>0.77696</td>\n",
              "      <td>0.722033</td>\n",
              "      <td>0.663534</td>\n",
              "      <td>0.602403</td>\n",
              "      <td>0.539625</td>\n",
              "      <td>0.476209</td>\n",
              "      <td>0.413176</td>\n",
              "      <td>0.35154</td>\n",
              "      <td>0.292292</td>\n",
              "      <td>0.236387</td>\n",
              "      <td>0.184724</td>\n",
              "      <td>0.138133</td>\n",
              "      <td>0.097365</td>\n",
              "      <td>0.063075</td>\n",
              "      <td>0.035816</td>\n",
              "      <td>0.016026</td>\n",
              "      <td>0.004023</td>\n",
              "      <td>3.749399e-33</td>\n",
              "      <td>0.535769</td>\n",
              "      <td>0.287049</td>\n",
              "      <td>20.0</td>\n",
              "    </tr>\n",
              "  </tbody>\n",
              "</table>\n",
              "<p>5 rows × 303 columns</p>\n",
              "</div>"
            ],
            "text/plain": [
              "        rho_0     rho_1     rho_2  ...  (k*R_sph)^2    R_sph2    st\n",
              "292  0.594194  0.593489  0.591385  ...     0.535769  0.287049  20.0\n",
              "293  0.595005  0.594291  0.592158  ...     0.535769  0.287049  20.0\n",
              "294  0.595822  0.595098  0.592935  ...     0.535769  0.287049  20.0\n",
              "295  0.596645  0.595910  0.593718  ...     0.535769  0.287049  20.0\n",
              "296  0.597473  0.596729  0.594507  ...     0.535769  0.287049  20.0\n",
              "\n",
              "[5 rows x 303 columns]"
            ]
          },
          "metadata": {
            "tags": []
          },
          "execution_count": 282
        }
      ]
    },
    {
      "cell_type": "code",
      "metadata": {
        "id": "SVNFYZBO90fx"
      },
      "source": [
        "k_o=2*np.pi*20.2/340 \n",
        "dataset['(k*R_sph)^2']=(dataset['(k*R_sph)^2']*k_o)**2\n",
        "\n",
        "#Cg_air=1/103623.50  #Pa**(-1)\n",
        "#dataset['Ps2*Cg_air']=dataset['Ps2*Cg_air']*Cg_air"
      ],
      "execution_count": null,
      "outputs": []
    },
    {
      "cell_type": "code",
      "metadata": {
        "id": "uqyM21JfY6nc",
        "colab": {
          "base_uri": "https://localhost:8080/",
          "height": 217
        },
        "outputId": "5699d635-82d7-4fe2-b273-5edc92282ba5"
      },
      "source": [
        "dataset.iloc[193, :]"
      ],
      "execution_count": null,
      "outputs": [
        {
          "output_type": "execute_result",
          "data": {
            "text/plain": [
              "rho_0           6.275189e-01\n",
              "rho_1           6.267880e-01\n",
              "rho_2           6.246516e-01\n",
              "rho_3           6.211441e-01\n",
              "rho_4           6.163220e-01\n",
              "                    ...     \n",
              "cos2theta_98    4.021315e-03\n",
              "cos2theta_99    3.749399e-33\n",
              "(k*R_sph)^2     4.508115e-02\n",
              "R_sph2          3.235120e-01\n",
              "st              2.200000e+01\n",
              "Name: 193, Length: 303, dtype: float64"
            ]
          },
          "metadata": {
            "tags": []
          },
          "execution_count": 252
        }
      ]
    },
    {
      "cell_type": "markdown",
      "metadata": {
        "id": "5Q_w-R-A225p"
      },
      "source": [
        "### Import data for **option 3**:"
      ]
    },
    {
      "cell_type": "code",
      "metadata": {
        "id": "CT87QF6z2v-5"
      },
      "source": [
        "# loading of data\n",
        "\n",
        "raw_dataset=pd.read_csv('dataset.csv')\n",
        "\n",
        "dataset = raw_dataset.copy()\n",
        "dataset.tail()"
      ],
      "execution_count": null,
      "outputs": []
    },
    {
      "cell_type": "markdown",
      "metadata": {
        "id": "Cuym4yvk76vU"
      },
      "source": [
        "### Split the data into train and test\n",
        "\n",
        "Now split the dataset into a training set and a test set.\n",
        "\n",
        "We will use the test set in the final evaluation of our model."
      ]
    },
    {
      "cell_type": "code",
      "metadata": {
        "id": "qn-IGhUE7_1H"
      },
      "source": [
        "train_dataset = dataset.sample(frac=0.8,random_state=1)\n",
        "test_dataset = dataset.drop(train_dataset.index)"
      ],
      "execution_count": 122,
      "outputs": []
    },
    {
      "cell_type": "markdown",
      "metadata": {
        "id": "J4ubs136WLNp"
      },
      "source": [
        "### Inspect the data\n",
        "\n",
        "Have a quick look at the joint distribution of a few pairs of columns from the training set."
      ]
    },
    {
      "cell_type": "code",
      "metadata": {
        "id": "oRKO_x8gWKv-"
      },
      "source": [
        "#sns.pairplot(train_dataset[column_names], diag_kind=\"kde\")\n",
        "#plt.show()"
      ],
      "execution_count": null,
      "outputs": []
    },
    {
      "cell_type": "markdown",
      "metadata": {
        "id": "gavKO_6DWRMP"
      },
      "source": [
        "Also look at the overall statistics:"
      ]
    },
    {
      "cell_type": "code",
      "metadata": {
        "id": "yi2FzC3T21jR",
        "colab": {
          "base_uri": "https://localhost:8080/",
          "height": 419
        },
        "outputId": "cde7974c-5e27-4a90-e0cf-1c72aea07832"
      },
      "source": [
        "train_stats = train_dataset.describe()\n",
        "train_stats.pop(\"ST\")\n",
        "\n",
        "train_stats = train_stats.transpose()\n",
        "train_stats"
      ],
      "execution_count": 123,
      "outputs": [
        {
          "output_type": "execute_result",
          "data": {
            "text/html": [
              "<div>\n",
              "<style scoped>\n",
              "    .dataframe tbody tr th:only-of-type {\n",
              "        vertical-align: middle;\n",
              "    }\n",
              "\n",
              "    .dataframe tbody tr th {\n",
              "        vertical-align: top;\n",
              "    }\n",
              "\n",
              "    .dataframe thead th {\n",
              "        text-align: right;\n",
              "    }\n",
              "</style>\n",
              "<table border=\"1\" class=\"dataframe\">\n",
              "  <thead>\n",
              "    <tr style=\"text-align: right;\">\n",
              "      <th></th>\n",
              "      <th>count</th>\n",
              "      <th>mean</th>\n",
              "      <th>std</th>\n",
              "      <th>min</th>\n",
              "      <th>25%</th>\n",
              "      <th>50%</th>\n",
              "      <th>75%</th>\n",
              "      <th>max</th>\n",
              "    </tr>\n",
              "  </thead>\n",
              "  <tbody>\n",
              "    <tr>\n",
              "      <th>theta</th>\n",
              "      <td>40000.0</td>\n",
              "      <td>0.035441</td>\n",
              "      <td>0.035409</td>\n",
              "      <td>8.227378e-07</td>\n",
              "      <td>0.010152</td>\n",
              "      <td>0.024761</td>\n",
              "      <td>0.049136</td>\n",
              "      <td>0.398472</td>\n",
              "    </tr>\n",
              "    <tr>\n",
              "      <th>theta</th>\n",
              "      <td>40000.0</td>\n",
              "      <td>0.070948</td>\n",
              "      <td>0.049674</td>\n",
              "      <td>1.636472e-04</td>\n",
              "      <td>0.034155</td>\n",
              "      <td>0.059752</td>\n",
              "      <td>0.095815</td>\n",
              "      <td>0.431262</td>\n",
              "    </tr>\n",
              "    <tr>\n",
              "      <th>theta</th>\n",
              "      <td>40000.0</td>\n",
              "      <td>0.106703</td>\n",
              "      <td>0.060614</td>\n",
              "      <td>3.322635e-03</td>\n",
              "      <td>0.062049</td>\n",
              "      <td>0.095695</td>\n",
              "      <td>0.139350</td>\n",
              "      <td>0.483530</td>\n",
              "    </tr>\n",
              "    <tr>\n",
              "      <th>theta</th>\n",
              "      <td>40000.0</td>\n",
              "      <td>0.142465</td>\n",
              "      <td>0.069982</td>\n",
              "      <td>5.237236e-03</td>\n",
              "      <td>0.090981</td>\n",
              "      <td>0.131095</td>\n",
              "      <td>0.182129</td>\n",
              "      <td>0.624057</td>\n",
              "    </tr>\n",
              "    <tr>\n",
              "      <th>theta</th>\n",
              "      <td>40000.0</td>\n",
              "      <td>0.178111</td>\n",
              "      <td>0.078032</td>\n",
              "      <td>1.199932e-02</td>\n",
              "      <td>0.120799</td>\n",
              "      <td>0.167156</td>\n",
              "      <td>0.223681</td>\n",
              "      <td>0.703769</td>\n",
              "    </tr>\n",
              "    <tr>\n",
              "      <th>...</th>\n",
              "      <td>...</td>\n",
              "      <td>...</td>\n",
              "      <td>...</td>\n",
              "      <td>...</td>\n",
              "      <td>...</td>\n",
              "      <td>...</td>\n",
              "      <td>...</td>\n",
              "      <td>...</td>\n",
              "    </tr>\n",
              "    <tr>\n",
              "      <th>rho</th>\n",
              "      <td>40000.0</td>\n",
              "      <td>0.757438</td>\n",
              "      <td>0.084149</td>\n",
              "      <td>5.553369e-01</td>\n",
              "      <td>0.692068</td>\n",
              "      <td>0.764910</td>\n",
              "      <td>0.825379</td>\n",
              "      <td>0.931905</td>\n",
              "    </tr>\n",
              "    <tr>\n",
              "      <th>rho</th>\n",
              "      <td>40000.0</td>\n",
              "      <td>0.756611</td>\n",
              "      <td>0.083974</td>\n",
              "      <td>5.549933e-01</td>\n",
              "      <td>0.691518</td>\n",
              "      <td>0.764025</td>\n",
              "      <td>0.824411</td>\n",
              "      <td>0.928220</td>\n",
              "    </tr>\n",
              "    <tr>\n",
              "      <th>rho</th>\n",
              "      <td>40000.0</td>\n",
              "      <td>0.756066</td>\n",
              "      <td>0.083867</td>\n",
              "      <td>5.549343e-01</td>\n",
              "      <td>0.691137</td>\n",
              "      <td>0.763394</td>\n",
              "      <td>0.823737</td>\n",
              "      <td>0.927652</td>\n",
              "    </tr>\n",
              "    <tr>\n",
              "      <th>vol</th>\n",
              "      <td>40000.0</td>\n",
              "      <td>2.501001</td>\n",
              "      <td>0.867448</td>\n",
              "      <td>1.000078e+00</td>\n",
              "      <td>1.750726</td>\n",
              "      <td>2.499641</td>\n",
              "      <td>3.252811</td>\n",
              "      <td>3.999997</td>\n",
              "    </tr>\n",
              "    <tr>\n",
              "      <th>Ps</th>\n",
              "      <td>40000.0</td>\n",
              "      <td>1799.780040</td>\n",
              "      <td>115.279256</td>\n",
              "      <td>1.600001e+03</td>\n",
              "      <td>1699.433331</td>\n",
              "      <td>1799.461232</td>\n",
              "      <td>1899.745090</td>\n",
              "      <td>1999.979751</td>\n",
              "    </tr>\n",
              "  </tbody>\n",
              "</table>\n",
              "<p>352 rows × 8 columns</p>\n",
              "</div>"
            ],
            "text/plain": [
              "         count         mean         std  ...          50%          75%          max\n",
              "theta  40000.0     0.035441    0.035409  ...     0.024761     0.049136     0.398472\n",
              "theta  40000.0     0.070948    0.049674  ...     0.059752     0.095815     0.431262\n",
              "theta  40000.0     0.106703    0.060614  ...     0.095695     0.139350     0.483530\n",
              "theta  40000.0     0.142465    0.069982  ...     0.131095     0.182129     0.624057\n",
              "theta  40000.0     0.178111    0.078032  ...     0.167156     0.223681     0.703769\n",
              "...        ...          ...         ...  ...          ...          ...          ...\n",
              "rho    40000.0     0.757438    0.084149  ...     0.764910     0.825379     0.931905\n",
              "rho    40000.0     0.756611    0.083974  ...     0.764025     0.824411     0.928220\n",
              "rho    40000.0     0.756066    0.083867  ...     0.763394     0.823737     0.927652\n",
              "vol    40000.0     2.501001    0.867448  ...     2.499641     3.252811     3.999997\n",
              "Ps     40000.0  1799.780040  115.279256  ...  1799.461232  1899.745090  1999.979751\n",
              "\n",
              "[352 rows x 8 columns]"
            ]
          },
          "metadata": {},
          "execution_count": 123
        }
      ]
    },
    {
      "cell_type": "markdown",
      "metadata": {
        "id": "mRklxK5s388r"
      },
      "source": [
        "### Normalize the data\n",
        "\n",
        "Look again at the `train_stats` block above and note how different the ranges of each feature are."
      ]
    },
    {
      "cell_type": "markdown",
      "metadata": {
        "id": "-ywmerQ6dSox"
      },
      "source": [
        "It is good practice to normalize features that use different scales and ranges. Although the model *might* converge without feature normalization, it makes training more difficult, and it makes the resulting model dependent on the choice of units used in the input.\n",
        "\n",
        "Note: Although we intentionally generate these statistics from only the training dataset, these statistics will also be used to normalize the test dataset. We need to do that to project the test dataset into the same distribution that the model has been trained on."
      ]
    },
    {
      "cell_type": "code",
      "metadata": {
        "id": "JlC5ooJrgjQF"
      },
      "source": [
        "# def norm(x):\n",
        "#   return (x - train_stats['mean']) / train_stats['std']\n",
        "# normed_train_data = norm(train_dataset)\n",
        "# normed_test_data = norm(test_dataset)\n",
        "# #normed_train_data = train_dataset\n",
        "# #normed_test_data = test_dataset\n"
      ],
      "execution_count": null,
      "outputs": []
    },
    {
      "cell_type": "code",
      "metadata": {
        "id": "8G-7cQwtYZqF",
        "colab": {
          "base_uri": "https://localhost:8080/",
          "height": 33
        },
        "outputId": "c842045c-8bc3-4660-96c2-64730da12a7f"
      },
      "source": [
        "# def find_nearest(array, value):\n",
        "#     array = np.asarray(array)\n",
        "#     idx = (np.abs(array - value)).argmin()\n",
        "#     return array[idx], idx\n",
        "    \n",
        "# find_nearest(train_stats['std'], 0)"
      ],
      "execution_count": null,
      "outputs": [
        {
          "output_type": "execute_result",
          "data": {
            "text/plain": [
              "(0.0, 193)"
            ]
          },
          "metadata": {
            "tags": []
          },
          "execution_count": 245
        }
      ]
    },
    {
      "cell_type": "markdown",
      "metadata": {
        "id": "BuiClDk45eS4"
      },
      "source": [
        "This normalized data is what we will use to train the model.\n",
        "\n",
        "Caution: The statistics used to normalize the inputs here (mean and standard deviation) need to be applied to any other data that is fed to the model, along with the one-hot encoding that we did earlier.  That includes the test set as well as live data when the model is used in production."
      ]
    },
    {
      "cell_type": "markdown",
      "metadata": {
        "id": "FnxcF5nL7u3r"
      },
      "source": [
        "### Min-Max transformation"
      ]
    },
    {
      "cell_type": "code",
      "metadata": {
        "colab": {
          "base_uri": "https://localhost:8080/",
          "height": 111
        },
        "id": "44q6lmIZjdZR",
        "outputId": "34cba4ae-5c85-47a7-98b1-3d572bd8c358"
      },
      "source": [
        "points=175\n",
        "\n",
        "stats = dataset.iloc[:, points*2:].describe()\n",
        "stats.pop(\"ST\")\n",
        "\n",
        "stats = stats.transpose()\n",
        "stats"
      ],
      "execution_count": 125,
      "outputs": [
        {
          "output_type": "execute_result",
          "data": {
            "text/html": [
              "<div>\n",
              "<style scoped>\n",
              "    .dataframe tbody tr th:only-of-type {\n",
              "        vertical-align: middle;\n",
              "    }\n",
              "\n",
              "    .dataframe tbody tr th {\n",
              "        vertical-align: top;\n",
              "    }\n",
              "\n",
              "    .dataframe thead th {\n",
              "        text-align: right;\n",
              "    }\n",
              "</style>\n",
              "<table border=\"1\" class=\"dataframe\">\n",
              "  <thead>\n",
              "    <tr style=\"text-align: right;\">\n",
              "      <th></th>\n",
              "      <th>count</th>\n",
              "      <th>mean</th>\n",
              "      <th>std</th>\n",
              "      <th>min</th>\n",
              "      <th>25%</th>\n",
              "      <th>50%</th>\n",
              "      <th>75%</th>\n",
              "      <th>max</th>\n",
              "    </tr>\n",
              "  </thead>\n",
              "  <tbody>\n",
              "    <tr>\n",
              "      <th>vol</th>\n",
              "      <td>50000.0</td>\n",
              "      <td>2.500667</td>\n",
              "      <td>0.867762</td>\n",
              "      <td>1.000078</td>\n",
              "      <td>1.748480</td>\n",
              "      <td>2.501759</td>\n",
              "      <td>3.25216</td>\n",
              "      <td>3.999997</td>\n",
              "    </tr>\n",
              "    <tr>\n",
              "      <th>Ps</th>\n",
              "      <td>50000.0</td>\n",
              "      <td>1800.014129</td>\n",
              "      <td>115.310712</td>\n",
              "      <td>1600.001121</td>\n",
              "      <td>1699.839026</td>\n",
              "      <td>1799.681532</td>\n",
              "      <td>1900.05598</td>\n",
              "      <td>1999.992497</td>\n",
              "    </tr>\n",
              "  </tbody>\n",
              "</table>\n",
              "</div>"
            ],
            "text/plain": [
              "       count         mean         std  ...          50%         75%          max\n",
              "vol  50000.0     2.500667    0.867762  ...     2.501759     3.25216     3.999997\n",
              "Ps   50000.0  1800.014129  115.310712  ...  1799.681532  1900.05598  1999.992497\n",
              "\n",
              "[2 rows x 8 columns]"
            ]
          },
          "metadata": {},
          "execution_count": 125
        }
      ]
    },
    {
      "cell_type": "code",
      "metadata": {
        "id": "9pdeddTJTz0O",
        "colab": {
          "base_uri": "https://localhost:8080/"
        },
        "outputId": "b92a077e-bdd7-40bf-f6f2-ae0850766530"
      },
      "source": [
        "max_rho=[]\n",
        "min_rho=[]\n",
        "min_theta=[]\n",
        "max_theta=[]\n",
        "for i in range(len(dataset)):\n",
        "  max_rho.append(max(dataset.iloc[i, 0:points].values))\n",
        "  min_rho.append(min(dataset.iloc[i, 0:points].values))\n",
        "  max_theta.append(max(dataset.iloc[i, points:points*2].values))\n",
        "  min_theta.append(min(dataset.iloc[i, points:points*2].values))\n",
        "\n",
        "print(min(min_rho), max(max_rho), min(min_theta), max(max_theta))"
      ],
      "execution_count": 126,
      "outputs": [
        {
          "output_type": "stream",
          "name": "stdout",
          "text": [
            "8.227377601459501e-07 6.283185168994403 0.554932588023126 1.1029742121076611\n"
          ]
        }
      ]
    },
    {
      "cell_type": "code",
      "metadata": {
        "id": "laqakjWfUwd8"
      },
      "source": [
        "# Change the range of rho from 0 to 1\n",
        "\n",
        "OldMax= max(max_rho)\n",
        "OldMin=min(min_rho)\n",
        "\n",
        "NewValues_rho={}\n",
        "\n",
        "OldRange = (OldMax - OldMin)\n",
        "for i in range(len(dataset)):\n",
        "  if (OldRange == 0):\n",
        "      NewValue = NewMin\n",
        "      NewValues.append(NewValue)\n",
        "  else:\n",
        "      NewValue = (dataset.iloc[i, 0:points] - OldMin)/(OldMax-OldMin) \n",
        "      NewValues_rho[i]=NewValue"
      ],
      "execution_count": 127,
      "outputs": []
    },
    {
      "cell_type": "code",
      "metadata": {
        "id": "uCDhwYmJaPcS"
      },
      "source": [
        "# Change the range of theta from 0 to 1\n",
        "\n",
        "OldMax= max(max_theta)\n",
        "OldMin=min(min_theta)\n",
        "\n",
        "NewValues_theta={}\n",
        "\n",
        "OldRange = (OldMax - OldMin)\n",
        "for i in range(len(dataset)):\n",
        "  if (OldRange == 0):\n",
        "      NewValue = NewMin\n",
        "      NewValues.append(NewValue)\n",
        "  else:\n",
        "      NewValue = (dataset.iloc[i, points:points*2] - OldMin)/(OldMax-OldMin) \n",
        "      NewValues_theta[i]=NewValue"
      ],
      "execution_count": 128,
      "outputs": []
    },
    {
      "cell_type": "code",
      "metadata": {
        "id": "Qe4IfTeXj20G",
        "colab": {
          "base_uri": "https://localhost:8080/",
          "height": 253
        },
        "outputId": "3cc290f4-0ec3-4f5c-dd24-695c28918f04"
      },
      "source": [
        "df_rho=pd.DataFrame.from_dict(NewValues_rho).T\n",
        "df_theta=pd.DataFrame.from_dict(NewValues_theta).T\n",
        "\n",
        "new_df=pd.concat([df_rho, df_theta], axis=1)\n",
        "\n",
        "new_df.tail()"
      ],
      "execution_count": 129,
      "outputs": [
        {
          "output_type": "execute_result",
          "data": {
            "text/html": [
              "<div>\n",
              "<style scoped>\n",
              "    .dataframe tbody tr th:only-of-type {\n",
              "        vertical-align: middle;\n",
              "    }\n",
              "\n",
              "    .dataframe tbody tr th {\n",
              "        vertical-align: top;\n",
              "    }\n",
              "\n",
              "    .dataframe thead th {\n",
              "        text-align: right;\n",
              "    }\n",
              "</style>\n",
              "<table border=\"1\" class=\"dataframe\">\n",
              "  <thead>\n",
              "    <tr style=\"text-align: right;\">\n",
              "      <th></th>\n",
              "      <th>theta</th>\n",
              "      <th>theta</th>\n",
              "      <th>theta</th>\n",
              "      <th>theta</th>\n",
              "      <th>theta</th>\n",
              "      <th>theta</th>\n",
              "      <th>theta</th>\n",
              "      <th>theta</th>\n",
              "      <th>theta</th>\n",
              "      <th>theta</th>\n",
              "      <th>theta</th>\n",
              "      <th>theta</th>\n",
              "      <th>theta</th>\n",
              "      <th>theta</th>\n",
              "      <th>theta</th>\n",
              "      <th>theta</th>\n",
              "      <th>theta</th>\n",
              "      <th>theta</th>\n",
              "      <th>theta</th>\n",
              "      <th>theta</th>\n",
              "      <th>theta</th>\n",
              "      <th>theta</th>\n",
              "      <th>theta</th>\n",
              "      <th>theta</th>\n",
              "      <th>theta</th>\n",
              "      <th>theta</th>\n",
              "      <th>theta</th>\n",
              "      <th>theta</th>\n",
              "      <th>theta</th>\n",
              "      <th>theta</th>\n",
              "      <th>theta</th>\n",
              "      <th>theta</th>\n",
              "      <th>theta</th>\n",
              "      <th>theta</th>\n",
              "      <th>theta</th>\n",
              "      <th>theta</th>\n",
              "      <th>theta</th>\n",
              "      <th>theta</th>\n",
              "      <th>theta</th>\n",
              "      <th>theta</th>\n",
              "      <th>...</th>\n",
              "      <th>rho</th>\n",
              "      <th>rho</th>\n",
              "      <th>rho</th>\n",
              "      <th>rho</th>\n",
              "      <th>rho</th>\n",
              "      <th>rho</th>\n",
              "      <th>rho</th>\n",
              "      <th>rho</th>\n",
              "      <th>rho</th>\n",
              "      <th>rho</th>\n",
              "      <th>rho</th>\n",
              "      <th>rho</th>\n",
              "      <th>rho</th>\n",
              "      <th>rho</th>\n",
              "      <th>rho</th>\n",
              "      <th>rho</th>\n",
              "      <th>rho</th>\n",
              "      <th>rho</th>\n",
              "      <th>rho</th>\n",
              "      <th>rho</th>\n",
              "      <th>rho</th>\n",
              "      <th>rho</th>\n",
              "      <th>rho</th>\n",
              "      <th>rho</th>\n",
              "      <th>rho</th>\n",
              "      <th>rho</th>\n",
              "      <th>rho</th>\n",
              "      <th>rho</th>\n",
              "      <th>rho</th>\n",
              "      <th>rho</th>\n",
              "      <th>rho</th>\n",
              "      <th>rho</th>\n",
              "      <th>rho</th>\n",
              "      <th>rho</th>\n",
              "      <th>rho</th>\n",
              "      <th>rho</th>\n",
              "      <th>rho</th>\n",
              "      <th>rho</th>\n",
              "      <th>rho</th>\n",
              "      <th>rho</th>\n",
              "    </tr>\n",
              "  </thead>\n",
              "  <tbody>\n",
              "    <tr>\n",
              "      <th>49995</th>\n",
              "      <td>0.003798</td>\n",
              "      <td>0.005456</td>\n",
              "      <td>0.005560</td>\n",
              "      <td>0.005896</td>\n",
              "      <td>0.017288</td>\n",
              "      <td>0.041396</td>\n",
              "      <td>0.042093</td>\n",
              "      <td>0.042895</td>\n",
              "      <td>0.045327</td>\n",
              "      <td>0.045687</td>\n",
              "      <td>0.046397</td>\n",
              "      <td>0.073779</td>\n",
              "      <td>0.081113</td>\n",
              "      <td>0.081361</td>\n",
              "      <td>0.084689</td>\n",
              "      <td>0.089153</td>\n",
              "      <td>0.095418</td>\n",
              "      <td>0.095456</td>\n",
              "      <td>0.099648</td>\n",
              "      <td>0.107035</td>\n",
              "      <td>0.112253</td>\n",
              "      <td>0.112511</td>\n",
              "      <td>0.115867</td>\n",
              "      <td>0.116188</td>\n",
              "      <td>0.119140</td>\n",
              "      <td>0.126929</td>\n",
              "      <td>0.141166</td>\n",
              "      <td>0.146613</td>\n",
              "      <td>0.155953</td>\n",
              "      <td>0.159222</td>\n",
              "      <td>0.159392</td>\n",
              "      <td>0.162532</td>\n",
              "      <td>0.164244</td>\n",
              "      <td>0.171529</td>\n",
              "      <td>0.177265</td>\n",
              "      <td>0.177880</td>\n",
              "      <td>0.191044</td>\n",
              "      <td>0.193746</td>\n",
              "      <td>0.200977</td>\n",
              "      <td>0.209258</td>\n",
              "      <td>...</td>\n",
              "      <td>0.754136</td>\n",
              "      <td>0.754061</td>\n",
              "      <td>0.753565</td>\n",
              "      <td>0.753473</td>\n",
              "      <td>0.751842</td>\n",
              "      <td>0.712333</td>\n",
              "      <td>0.711280</td>\n",
              "      <td>0.710846</td>\n",
              "      <td>0.689577</td>\n",
              "      <td>0.674299</td>\n",
              "      <td>0.665517</td>\n",
              "      <td>0.648736</td>\n",
              "      <td>0.593254</td>\n",
              "      <td>0.551770</td>\n",
              "      <td>0.545124</td>\n",
              "      <td>0.527128</td>\n",
              "      <td>0.523913</td>\n",
              "      <td>0.510244</td>\n",
              "      <td>0.505904</td>\n",
              "      <td>0.487085</td>\n",
              "      <td>0.479064</td>\n",
              "      <td>0.472509</td>\n",
              "      <td>0.459118</td>\n",
              "      <td>0.457701</td>\n",
              "      <td>0.434538</td>\n",
              "      <td>0.426523</td>\n",
              "      <td>0.394508</td>\n",
              "      <td>0.384910</td>\n",
              "      <td>0.360105</td>\n",
              "      <td>0.353352</td>\n",
              "      <td>0.352250</td>\n",
              "      <td>0.348993</td>\n",
              "      <td>0.348403</td>\n",
              "      <td>0.348002</td>\n",
              "      <td>0.340328</td>\n",
              "      <td>0.310548</td>\n",
              "      <td>0.293257</td>\n",
              "      <td>0.291415</td>\n",
              "      <td>0.275309</td>\n",
              "      <td>0.275032</td>\n",
              "    </tr>\n",
              "    <tr>\n",
              "      <th>49996</th>\n",
              "      <td>0.008172</td>\n",
              "      <td>0.022973</td>\n",
              "      <td>0.030498</td>\n",
              "      <td>0.032982</td>\n",
              "      <td>0.034260</td>\n",
              "      <td>0.039171</td>\n",
              "      <td>0.040534</td>\n",
              "      <td>0.040809</td>\n",
              "      <td>0.042631</td>\n",
              "      <td>0.043519</td>\n",
              "      <td>0.051140</td>\n",
              "      <td>0.051962</td>\n",
              "      <td>0.059372</td>\n",
              "      <td>0.060544</td>\n",
              "      <td>0.064530</td>\n",
              "      <td>0.071753</td>\n",
              "      <td>0.079368</td>\n",
              "      <td>0.081189</td>\n",
              "      <td>0.091886</td>\n",
              "      <td>0.096256</td>\n",
              "      <td>0.116782</td>\n",
              "      <td>0.120982</td>\n",
              "      <td>0.126834</td>\n",
              "      <td>0.131316</td>\n",
              "      <td>0.142547</td>\n",
              "      <td>0.147319</td>\n",
              "      <td>0.157553</td>\n",
              "      <td>0.162946</td>\n",
              "      <td>0.162961</td>\n",
              "      <td>0.166875</td>\n",
              "      <td>0.182168</td>\n",
              "      <td>0.189876</td>\n",
              "      <td>0.209391</td>\n",
              "      <td>0.220230</td>\n",
              "      <td>0.225960</td>\n",
              "      <td>0.231544</td>\n",
              "      <td>0.244047</td>\n",
              "      <td>0.244806</td>\n",
              "      <td>0.248919</td>\n",
              "      <td>0.258173</td>\n",
              "      <td>...</td>\n",
              "      <td>0.376408</td>\n",
              "      <td>0.370869</td>\n",
              "      <td>0.363683</td>\n",
              "      <td>0.362606</td>\n",
              "      <td>0.360907</td>\n",
              "      <td>0.345627</td>\n",
              "      <td>0.339316</td>\n",
              "      <td>0.337325</td>\n",
              "      <td>0.336920</td>\n",
              "      <td>0.329102</td>\n",
              "      <td>0.323769</td>\n",
              "      <td>0.320001</td>\n",
              "      <td>0.319361</td>\n",
              "      <td>0.304575</td>\n",
              "      <td>0.303700</td>\n",
              "      <td>0.301668</td>\n",
              "      <td>0.301641</td>\n",
              "      <td>0.297152</td>\n",
              "      <td>0.293691</td>\n",
              "      <td>0.292718</td>\n",
              "      <td>0.290480</td>\n",
              "      <td>0.290370</td>\n",
              "      <td>0.276845</td>\n",
              "      <td>0.258075</td>\n",
              "      <td>0.252442</td>\n",
              "      <td>0.251691</td>\n",
              "      <td>0.243166</td>\n",
              "      <td>0.241898</td>\n",
              "      <td>0.239209</td>\n",
              "      <td>0.235933</td>\n",
              "      <td>0.235118</td>\n",
              "      <td>0.233051</td>\n",
              "      <td>0.232708</td>\n",
              "      <td>0.232266</td>\n",
              "      <td>0.231288</td>\n",
              "      <td>0.228705</td>\n",
              "      <td>0.228150</td>\n",
              "      <td>0.225003</td>\n",
              "      <td>0.224913</td>\n",
              "      <td>0.224655</td>\n",
              "    </tr>\n",
              "    <tr>\n",
              "      <th>49997</th>\n",
              "      <td>0.008612</td>\n",
              "      <td>0.017341</td>\n",
              "      <td>0.020153</td>\n",
              "      <td>0.022033</td>\n",
              "      <td>0.027864</td>\n",
              "      <td>0.033114</td>\n",
              "      <td>0.045447</td>\n",
              "      <td>0.047699</td>\n",
              "      <td>0.050459</td>\n",
              "      <td>0.052631</td>\n",
              "      <td>0.054685</td>\n",
              "      <td>0.068178</td>\n",
              "      <td>0.071835</td>\n",
              "      <td>0.072022</td>\n",
              "      <td>0.087413</td>\n",
              "      <td>0.089314</td>\n",
              "      <td>0.091418</td>\n",
              "      <td>0.093532</td>\n",
              "      <td>0.096381</td>\n",
              "      <td>0.110174</td>\n",
              "      <td>0.113495</td>\n",
              "      <td>0.119106</td>\n",
              "      <td>0.128332</td>\n",
              "      <td>0.135035</td>\n",
              "      <td>0.145887</td>\n",
              "      <td>0.147331</td>\n",
              "      <td>0.154140</td>\n",
              "      <td>0.155770</td>\n",
              "      <td>0.162833</td>\n",
              "      <td>0.168571</td>\n",
              "      <td>0.181487</td>\n",
              "      <td>0.182462</td>\n",
              "      <td>0.183843</td>\n",
              "      <td>0.189502</td>\n",
              "      <td>0.196288</td>\n",
              "      <td>0.204214</td>\n",
              "      <td>0.209246</td>\n",
              "      <td>0.212068</td>\n",
              "      <td>0.220287</td>\n",
              "      <td>0.227867</td>\n",
              "      <td>...</td>\n",
              "      <td>0.565208</td>\n",
              "      <td>0.565300</td>\n",
              "      <td>0.565278</td>\n",
              "      <td>0.565269</td>\n",
              "      <td>0.565262</td>\n",
              "      <td>0.565228</td>\n",
              "      <td>0.561507</td>\n",
              "      <td>0.557234</td>\n",
              "      <td>0.553594</td>\n",
              "      <td>0.550596</td>\n",
              "      <td>0.547926</td>\n",
              "      <td>0.543725</td>\n",
              "      <td>0.543605</td>\n",
              "      <td>0.540582</td>\n",
              "      <td>0.535480</td>\n",
              "      <td>0.534167</td>\n",
              "      <td>0.532469</td>\n",
              "      <td>0.526457</td>\n",
              "      <td>0.512829</td>\n",
              "      <td>0.511505</td>\n",
              "      <td>0.511328</td>\n",
              "      <td>0.503899</td>\n",
              "      <td>0.496316</td>\n",
              "      <td>0.471702</td>\n",
              "      <td>0.471286</td>\n",
              "      <td>0.458673</td>\n",
              "      <td>0.456323</td>\n",
              "      <td>0.447078</td>\n",
              "      <td>0.429252</td>\n",
              "      <td>0.428982</td>\n",
              "      <td>0.426512</td>\n",
              "      <td>0.425252</td>\n",
              "      <td>0.418349</td>\n",
              "      <td>0.410064</td>\n",
              "      <td>0.409184</td>\n",
              "      <td>0.408480</td>\n",
              "      <td>0.400052</td>\n",
              "      <td>0.398538</td>\n",
              "      <td>0.398345</td>\n",
              "      <td>0.397617</td>\n",
              "    </tr>\n",
              "    <tr>\n",
              "      <th>49998</th>\n",
              "      <td>0.001522</td>\n",
              "      <td>0.004628</td>\n",
              "      <td>0.006973</td>\n",
              "      <td>0.013721</td>\n",
              "      <td>0.020003</td>\n",
              "      <td>0.028311</td>\n",
              "      <td>0.055580</td>\n",
              "      <td>0.066910</td>\n",
              "      <td>0.080280</td>\n",
              "      <td>0.090908</td>\n",
              "      <td>0.091208</td>\n",
              "      <td>0.091615</td>\n",
              "      <td>0.093201</td>\n",
              "      <td>0.093554</td>\n",
              "      <td>0.113169</td>\n",
              "      <td>0.121151</td>\n",
              "      <td>0.122527</td>\n",
              "      <td>0.122622</td>\n",
              "      <td>0.134007</td>\n",
              "      <td>0.148595</td>\n",
              "      <td>0.152714</td>\n",
              "      <td>0.168244</td>\n",
              "      <td>0.176207</td>\n",
              "      <td>0.178379</td>\n",
              "      <td>0.184787</td>\n",
              "      <td>0.198865</td>\n",
              "      <td>0.207233</td>\n",
              "      <td>0.214187</td>\n",
              "      <td>0.224588</td>\n",
              "      <td>0.233813</td>\n",
              "      <td>0.234835</td>\n",
              "      <td>0.235033</td>\n",
              "      <td>0.241367</td>\n",
              "      <td>0.242657</td>\n",
              "      <td>0.247768</td>\n",
              "      <td>0.263803</td>\n",
              "      <td>0.264802</td>\n",
              "      <td>0.273751</td>\n",
              "      <td>0.274696</td>\n",
              "      <td>0.275757</td>\n",
              "      <td>...</td>\n",
              "      <td>0.609599</td>\n",
              "      <td>0.609087</td>\n",
              "      <td>0.604172</td>\n",
              "      <td>0.599201</td>\n",
              "      <td>0.598903</td>\n",
              "      <td>0.593881</td>\n",
              "      <td>0.589439</td>\n",
              "      <td>0.587601</td>\n",
              "      <td>0.581689</td>\n",
              "      <td>0.581652</td>\n",
              "      <td>0.567622</td>\n",
              "      <td>0.559652</td>\n",
              "      <td>0.532019</td>\n",
              "      <td>0.529006</td>\n",
              "      <td>0.524152</td>\n",
              "      <td>0.517958</td>\n",
              "      <td>0.511870</td>\n",
              "      <td>0.506558</td>\n",
              "      <td>0.505852</td>\n",
              "      <td>0.499057</td>\n",
              "      <td>0.495577</td>\n",
              "      <td>0.492107</td>\n",
              "      <td>0.482997</td>\n",
              "      <td>0.481457</td>\n",
              "      <td>0.478395</td>\n",
              "      <td>0.478319</td>\n",
              "      <td>0.478157</td>\n",
              "      <td>0.476579</td>\n",
              "      <td>0.475471</td>\n",
              "      <td>0.472417</td>\n",
              "      <td>0.464952</td>\n",
              "      <td>0.464678</td>\n",
              "      <td>0.462671</td>\n",
              "      <td>0.459365</td>\n",
              "      <td>0.454973</td>\n",
              "      <td>0.454699</td>\n",
              "      <td>0.454552</td>\n",
              "      <td>0.452903</td>\n",
              "      <td>0.452246</td>\n",
              "      <td>0.451968</td>\n",
              "    </tr>\n",
              "    <tr>\n",
              "      <th>49999</th>\n",
              "      <td>0.005756</td>\n",
              "      <td>0.008886</td>\n",
              "      <td>0.019945</td>\n",
              "      <td>0.032011</td>\n",
              "      <td>0.037399</td>\n",
              "      <td>0.048163</td>\n",
              "      <td>0.054605</td>\n",
              "      <td>0.062629</td>\n",
              "      <td>0.067205</td>\n",
              "      <td>0.070691</td>\n",
              "      <td>0.071629</td>\n",
              "      <td>0.097812</td>\n",
              "      <td>0.098315</td>\n",
              "      <td>0.107421</td>\n",
              "      <td>0.108691</td>\n",
              "      <td>0.111215</td>\n",
              "      <td>0.128345</td>\n",
              "      <td>0.130318</td>\n",
              "      <td>0.132043</td>\n",
              "      <td>0.134578</td>\n",
              "      <td>0.134901</td>\n",
              "      <td>0.137716</td>\n",
              "      <td>0.137738</td>\n",
              "      <td>0.140281</td>\n",
              "      <td>0.143652</td>\n",
              "      <td>0.151058</td>\n",
              "      <td>0.153834</td>\n",
              "      <td>0.166841</td>\n",
              "      <td>0.196327</td>\n",
              "      <td>0.199216</td>\n",
              "      <td>0.209058</td>\n",
              "      <td>0.218235</td>\n",
              "      <td>0.227666</td>\n",
              "      <td>0.258769</td>\n",
              "      <td>0.266068</td>\n",
              "      <td>0.270150</td>\n",
              "      <td>0.275164</td>\n",
              "      <td>0.290099</td>\n",
              "      <td>0.290712</td>\n",
              "      <td>0.293451</td>\n",
              "      <td>...</td>\n",
              "      <td>0.766292</td>\n",
              "      <td>0.765375</td>\n",
              "      <td>0.763122</td>\n",
              "      <td>0.761982</td>\n",
              "      <td>0.760656</td>\n",
              "      <td>0.757355</td>\n",
              "      <td>0.733891</td>\n",
              "      <td>0.725006</td>\n",
              "      <td>0.723604</td>\n",
              "      <td>0.699291</td>\n",
              "      <td>0.685247</td>\n",
              "      <td>0.668802</td>\n",
              "      <td>0.652830</td>\n",
              "      <td>0.652067</td>\n",
              "      <td>0.640929</td>\n",
              "      <td>0.619797</td>\n",
              "      <td>0.617124</td>\n",
              "      <td>0.582956</td>\n",
              "      <td>0.573386</td>\n",
              "      <td>0.563392</td>\n",
              "      <td>0.524875</td>\n",
              "      <td>0.523082</td>\n",
              "      <td>0.519455</td>\n",
              "      <td>0.507595</td>\n",
              "      <td>0.498666</td>\n",
              "      <td>0.496664</td>\n",
              "      <td>0.488668</td>\n",
              "      <td>0.484017</td>\n",
              "      <td>0.479709</td>\n",
              "      <td>0.460375</td>\n",
              "      <td>0.455208</td>\n",
              "      <td>0.455107</td>\n",
              "      <td>0.451162</td>\n",
              "      <td>0.448081</td>\n",
              "      <td>0.439334</td>\n",
              "      <td>0.435451</td>\n",
              "      <td>0.428064</td>\n",
              "      <td>0.421997</td>\n",
              "      <td>0.421593</td>\n",
              "      <td>0.421285</td>\n",
              "    </tr>\n",
              "  </tbody>\n",
              "</table>\n",
              "<p>5 rows × 350 columns</p>\n",
              "</div>"
            ],
            "text/plain": [
              "          theta     theta     theta  ...       rho       rho       rho\n",
              "49995  0.003798  0.005456  0.005560  ...  0.291415  0.275309  0.275032\n",
              "49996  0.008172  0.022973  0.030498  ...  0.225003  0.224913  0.224655\n",
              "49997  0.008612  0.017341  0.020153  ...  0.398538  0.398345  0.397617\n",
              "49998  0.001522  0.004628  0.006973  ...  0.452903  0.452246  0.451968\n",
              "49999  0.005756  0.008886  0.019945  ...  0.421997  0.421593  0.421285\n",
              "\n",
              "[5 rows x 350 columns]"
            ]
          },
          "metadata": {},
          "execution_count": 129
        }
      ]
    },
    {
      "cell_type": "code",
      "metadata": {
        "id": "ogH0AAnoVhbM",
        "colab": {
          "base_uri": "https://localhost:8080/",
          "height": 312
        },
        "outputId": "371e864d-48be-45f5-81ed-247249ab8c5f"
      },
      "source": [
        "plt.figure()\n",
        "plt.title('Polar coordinates')\n",
        "for n in range(1000):\n",
        "  plt.plot(new_df.iloc[n, 0:points], new_df.iloc[n, points:points*2], 'o', markersize=1)\n",
        "plt.ylabel('Radius, ρ')\n",
        "plt.xlabel('Azimuth angle, θ')"
      ],
      "execution_count": 130,
      "outputs": [
        {
          "output_type": "execute_result",
          "data": {
            "text/plain": [
              "Text(0.5, 0, 'Azimuth angle, θ')"
            ]
          },
          "metadata": {},
          "execution_count": 130
        },
        {
          "output_type": "display_data",
          "data": {
            "image/png": "[encoded data removed]",
            "text/plain": [
              "<Figure size 432x288 with 1 Axes>"
            ]
          },
          "metadata": {
            "needs_background": "light"
          }
        }
      ]
    },
    {
      "cell_type": "code",
      "metadata": {
        "id": "Yemp8bAu7xo5"
      },
      "source": [
        "def min_max_norm(x):\n",
        "  return (x-stats['min'])/(stats['max']-stats['min'])\n",
        "\n",
        "normed_data_rest = min_max_norm(dataset.iloc[:, points*2:])\n"
      ],
      "execution_count": 131,
      "outputs": []
    },
    {
      "cell_type": "code",
      "metadata": {
        "id": "eQ0X2FOTWAsV",
        "colab": {
          "base_uri": "https://localhost:8080/",
          "height": 253
        },
        "outputId": "0eb0dd23-c777-4d6e-f5c1-6881e040e2b8"
      },
      "source": [
        "normed_data = new_df.copy()\n",
        "normed_data['volume'] = normed_data_rest.vol\n",
        "# normed_data['centre_x'] = normed_data_rest.centre_x\n",
        "# normed_data['centre_y'] = normed_data_rest.centre_y\n",
        "# normed_data['Aspect_Ratio'] = normed_data_rest.Aspect_Ratio\n",
        "\n",
        "normed_data['Ps'] = normed_data_rest.Ps\n",
        "# normed_data['volt'] = normed_data_rest.volt\n",
        "normed_data['ST'] = dataset.ST\n",
        "\n",
        "normed_data.tail()"
      ],
      "execution_count": 132,
      "outputs": [
        {
          "output_type": "execute_result",
          "data": {
            "text/html": [
              "<div>\n",
              "<style scoped>\n",
              "    .dataframe tbody tr th:only-of-type {\n",
              "        vertical-align: middle;\n",
              "    }\n",
              "\n",
              "    .dataframe tbody tr th {\n",
              "        vertical-align: top;\n",
              "    }\n",
              "\n",
              "    .dataframe thead th {\n",
              "        text-align: right;\n",
              "    }\n",
              "</style>\n",
              "<table border=\"1\" class=\"dataframe\">\n",
              "  <thead>\n",
              "    <tr style=\"text-align: right;\">\n",
              "      <th></th>\n",
              "      <th>theta</th>\n",
              "      <th>theta</th>\n",
              "      <th>theta</th>\n",
              "      <th>theta</th>\n",
              "      <th>theta</th>\n",
              "      <th>theta</th>\n",
              "      <th>theta</th>\n",
              "      <th>theta</th>\n",
              "      <th>theta</th>\n",
              "      <th>theta</th>\n",
              "      <th>theta</th>\n",
              "      <th>theta</th>\n",
              "      <th>theta</th>\n",
              "      <th>theta</th>\n",
              "      <th>theta</th>\n",
              "      <th>theta</th>\n",
              "      <th>theta</th>\n",
              "      <th>theta</th>\n",
              "      <th>theta</th>\n",
              "      <th>theta</th>\n",
              "      <th>theta</th>\n",
              "      <th>theta</th>\n",
              "      <th>theta</th>\n",
              "      <th>theta</th>\n",
              "      <th>theta</th>\n",
              "      <th>theta</th>\n",
              "      <th>theta</th>\n",
              "      <th>theta</th>\n",
              "      <th>theta</th>\n",
              "      <th>theta</th>\n",
              "      <th>theta</th>\n",
              "      <th>theta</th>\n",
              "      <th>theta</th>\n",
              "      <th>theta</th>\n",
              "      <th>theta</th>\n",
              "      <th>theta</th>\n",
              "      <th>theta</th>\n",
              "      <th>theta</th>\n",
              "      <th>theta</th>\n",
              "      <th>theta</th>\n",
              "      <th>...</th>\n",
              "      <th>rho</th>\n",
              "      <th>rho</th>\n",
              "      <th>rho</th>\n",
              "      <th>rho</th>\n",
              "      <th>rho</th>\n",
              "      <th>rho</th>\n",
              "      <th>rho</th>\n",
              "      <th>rho</th>\n",
              "      <th>rho</th>\n",
              "      <th>rho</th>\n",
              "      <th>rho</th>\n",
              "      <th>rho</th>\n",
              "      <th>rho</th>\n",
              "      <th>rho</th>\n",
              "      <th>rho</th>\n",
              "      <th>rho</th>\n",
              "      <th>rho</th>\n",
              "      <th>rho</th>\n",
              "      <th>rho</th>\n",
              "      <th>rho</th>\n",
              "      <th>rho</th>\n",
              "      <th>rho</th>\n",
              "      <th>rho</th>\n",
              "      <th>rho</th>\n",
              "      <th>rho</th>\n",
              "      <th>rho</th>\n",
              "      <th>rho</th>\n",
              "      <th>rho</th>\n",
              "      <th>rho</th>\n",
              "      <th>rho</th>\n",
              "      <th>rho</th>\n",
              "      <th>rho</th>\n",
              "      <th>rho</th>\n",
              "      <th>rho</th>\n",
              "      <th>rho</th>\n",
              "      <th>rho</th>\n",
              "      <th>rho</th>\n",
              "      <th>volume</th>\n",
              "      <th>Ps</th>\n",
              "      <th>ST</th>\n",
              "    </tr>\n",
              "  </thead>\n",
              "  <tbody>\n",
              "    <tr>\n",
              "      <th>49995</th>\n",
              "      <td>0.003798</td>\n",
              "      <td>0.005456</td>\n",
              "      <td>0.005560</td>\n",
              "      <td>0.005896</td>\n",
              "      <td>0.017288</td>\n",
              "      <td>0.041396</td>\n",
              "      <td>0.042093</td>\n",
              "      <td>0.042895</td>\n",
              "      <td>0.045327</td>\n",
              "      <td>0.045687</td>\n",
              "      <td>0.046397</td>\n",
              "      <td>0.073779</td>\n",
              "      <td>0.081113</td>\n",
              "      <td>0.081361</td>\n",
              "      <td>0.084689</td>\n",
              "      <td>0.089153</td>\n",
              "      <td>0.095418</td>\n",
              "      <td>0.095456</td>\n",
              "      <td>0.099648</td>\n",
              "      <td>0.107035</td>\n",
              "      <td>0.112253</td>\n",
              "      <td>0.112511</td>\n",
              "      <td>0.115867</td>\n",
              "      <td>0.116188</td>\n",
              "      <td>0.119140</td>\n",
              "      <td>0.126929</td>\n",
              "      <td>0.141166</td>\n",
              "      <td>0.146613</td>\n",
              "      <td>0.155953</td>\n",
              "      <td>0.159222</td>\n",
              "      <td>0.159392</td>\n",
              "      <td>0.162532</td>\n",
              "      <td>0.164244</td>\n",
              "      <td>0.171529</td>\n",
              "      <td>0.177265</td>\n",
              "      <td>0.177880</td>\n",
              "      <td>0.191044</td>\n",
              "      <td>0.193746</td>\n",
              "      <td>0.200977</td>\n",
              "      <td>0.209258</td>\n",
              "      <td>...</td>\n",
              "      <td>0.753473</td>\n",
              "      <td>0.751842</td>\n",
              "      <td>0.712333</td>\n",
              "      <td>0.711280</td>\n",
              "      <td>0.710846</td>\n",
              "      <td>0.689577</td>\n",
              "      <td>0.674299</td>\n",
              "      <td>0.665517</td>\n",
              "      <td>0.648736</td>\n",
              "      <td>0.593254</td>\n",
              "      <td>0.551770</td>\n",
              "      <td>0.545124</td>\n",
              "      <td>0.527128</td>\n",
              "      <td>0.523913</td>\n",
              "      <td>0.510244</td>\n",
              "      <td>0.505904</td>\n",
              "      <td>0.487085</td>\n",
              "      <td>0.479064</td>\n",
              "      <td>0.472509</td>\n",
              "      <td>0.459118</td>\n",
              "      <td>0.457701</td>\n",
              "      <td>0.434538</td>\n",
              "      <td>0.426523</td>\n",
              "      <td>0.394508</td>\n",
              "      <td>0.384910</td>\n",
              "      <td>0.360105</td>\n",
              "      <td>0.353352</td>\n",
              "      <td>0.352250</td>\n",
              "      <td>0.348993</td>\n",
              "      <td>0.348403</td>\n",
              "      <td>0.348002</td>\n",
              "      <td>0.340328</td>\n",
              "      <td>0.310548</td>\n",
              "      <td>0.293257</td>\n",
              "      <td>0.291415</td>\n",
              "      <td>0.275309</td>\n",
              "      <td>0.275032</td>\n",
              "      <td>0.618874</td>\n",
              "      <td>0.975322</td>\n",
              "      <td>25.688378</td>\n",
              "    </tr>\n",
              "    <tr>\n",
              "      <th>49996</th>\n",
              "      <td>0.008172</td>\n",
              "      <td>0.022973</td>\n",
              "      <td>0.030498</td>\n",
              "      <td>0.032982</td>\n",
              "      <td>0.034260</td>\n",
              "      <td>0.039171</td>\n",
              "      <td>0.040534</td>\n",
              "      <td>0.040809</td>\n",
              "      <td>0.042631</td>\n",
              "      <td>0.043519</td>\n",
              "      <td>0.051140</td>\n",
              "      <td>0.051962</td>\n",
              "      <td>0.059372</td>\n",
              "      <td>0.060544</td>\n",
              "      <td>0.064530</td>\n",
              "      <td>0.071753</td>\n",
              "      <td>0.079368</td>\n",
              "      <td>0.081189</td>\n",
              "      <td>0.091886</td>\n",
              "      <td>0.096256</td>\n",
              "      <td>0.116782</td>\n",
              "      <td>0.120982</td>\n",
              "      <td>0.126834</td>\n",
              "      <td>0.131316</td>\n",
              "      <td>0.142547</td>\n",
              "      <td>0.147319</td>\n",
              "      <td>0.157553</td>\n",
              "      <td>0.162946</td>\n",
              "      <td>0.162961</td>\n",
              "      <td>0.166875</td>\n",
              "      <td>0.182168</td>\n",
              "      <td>0.189876</td>\n",
              "      <td>0.209391</td>\n",
              "      <td>0.220230</td>\n",
              "      <td>0.225960</td>\n",
              "      <td>0.231544</td>\n",
              "      <td>0.244047</td>\n",
              "      <td>0.244806</td>\n",
              "      <td>0.248919</td>\n",
              "      <td>0.258173</td>\n",
              "      <td>...</td>\n",
              "      <td>0.362606</td>\n",
              "      <td>0.360907</td>\n",
              "      <td>0.345627</td>\n",
              "      <td>0.339316</td>\n",
              "      <td>0.337325</td>\n",
              "      <td>0.336920</td>\n",
              "      <td>0.329102</td>\n",
              "      <td>0.323769</td>\n",
              "      <td>0.320001</td>\n",
              "      <td>0.319361</td>\n",
              "      <td>0.304575</td>\n",
              "      <td>0.303700</td>\n",
              "      <td>0.301668</td>\n",
              "      <td>0.301641</td>\n",
              "      <td>0.297152</td>\n",
              "      <td>0.293691</td>\n",
              "      <td>0.292718</td>\n",
              "      <td>0.290480</td>\n",
              "      <td>0.290370</td>\n",
              "      <td>0.276845</td>\n",
              "      <td>0.258075</td>\n",
              "      <td>0.252442</td>\n",
              "      <td>0.251691</td>\n",
              "      <td>0.243166</td>\n",
              "      <td>0.241898</td>\n",
              "      <td>0.239209</td>\n",
              "      <td>0.235933</td>\n",
              "      <td>0.235118</td>\n",
              "      <td>0.233051</td>\n",
              "      <td>0.232708</td>\n",
              "      <td>0.232266</td>\n",
              "      <td>0.231288</td>\n",
              "      <td>0.228705</td>\n",
              "      <td>0.228150</td>\n",
              "      <td>0.225003</td>\n",
              "      <td>0.224913</td>\n",
              "      <td>0.224655</td>\n",
              "      <td>0.258608</td>\n",
              "      <td>0.552953</td>\n",
              "      <td>33.849961</td>\n",
              "    </tr>\n",
              "    <tr>\n",
              "      <th>49997</th>\n",
              "      <td>0.008612</td>\n",
              "      <td>0.017341</td>\n",
              "      <td>0.020153</td>\n",
              "      <td>0.022033</td>\n",
              "      <td>0.027864</td>\n",
              "      <td>0.033114</td>\n",
              "      <td>0.045447</td>\n",
              "      <td>0.047699</td>\n",
              "      <td>0.050459</td>\n",
              "      <td>0.052631</td>\n",
              "      <td>0.054685</td>\n",
              "      <td>0.068178</td>\n",
              "      <td>0.071835</td>\n",
              "      <td>0.072022</td>\n",
              "      <td>0.087413</td>\n",
              "      <td>0.089314</td>\n",
              "      <td>0.091418</td>\n",
              "      <td>0.093532</td>\n",
              "      <td>0.096381</td>\n",
              "      <td>0.110174</td>\n",
              "      <td>0.113495</td>\n",
              "      <td>0.119106</td>\n",
              "      <td>0.128332</td>\n",
              "      <td>0.135035</td>\n",
              "      <td>0.145887</td>\n",
              "      <td>0.147331</td>\n",
              "      <td>0.154140</td>\n",
              "      <td>0.155770</td>\n",
              "      <td>0.162833</td>\n",
              "      <td>0.168571</td>\n",
              "      <td>0.181487</td>\n",
              "      <td>0.182462</td>\n",
              "      <td>0.183843</td>\n",
              "      <td>0.189502</td>\n",
              "      <td>0.196288</td>\n",
              "      <td>0.204214</td>\n",
              "      <td>0.209246</td>\n",
              "      <td>0.212068</td>\n",
              "      <td>0.220287</td>\n",
              "      <td>0.227867</td>\n",
              "      <td>...</td>\n",
              "      <td>0.565269</td>\n",
              "      <td>0.565262</td>\n",
              "      <td>0.565228</td>\n",
              "      <td>0.561507</td>\n",
              "      <td>0.557234</td>\n",
              "      <td>0.553594</td>\n",
              "      <td>0.550596</td>\n",
              "      <td>0.547926</td>\n",
              "      <td>0.543725</td>\n",
              "      <td>0.543605</td>\n",
              "      <td>0.540582</td>\n",
              "      <td>0.535480</td>\n",
              "      <td>0.534167</td>\n",
              "      <td>0.532469</td>\n",
              "      <td>0.526457</td>\n",
              "      <td>0.512829</td>\n",
              "      <td>0.511505</td>\n",
              "      <td>0.511328</td>\n",
              "      <td>0.503899</td>\n",
              "      <td>0.496316</td>\n",
              "      <td>0.471702</td>\n",
              "      <td>0.471286</td>\n",
              "      <td>0.458673</td>\n",
              "      <td>0.456323</td>\n",
              "      <td>0.447078</td>\n",
              "      <td>0.429252</td>\n",
              "      <td>0.428982</td>\n",
              "      <td>0.426512</td>\n",
              "      <td>0.425252</td>\n",
              "      <td>0.418349</td>\n",
              "      <td>0.410064</td>\n",
              "      <td>0.409184</td>\n",
              "      <td>0.408480</td>\n",
              "      <td>0.400052</td>\n",
              "      <td>0.398538</td>\n",
              "      <td>0.398345</td>\n",
              "      <td>0.397617</td>\n",
              "      <td>0.476843</td>\n",
              "      <td>0.360261</td>\n",
              "      <td>48.916954</td>\n",
              "    </tr>\n",
              "    <tr>\n",
              "      <th>49998</th>\n",
              "      <td>0.001522</td>\n",
              "      <td>0.004628</td>\n",
              "      <td>0.006973</td>\n",
              "      <td>0.013721</td>\n",
              "      <td>0.020003</td>\n",
              "      <td>0.028311</td>\n",
              "      <td>0.055580</td>\n",
              "      <td>0.066910</td>\n",
              "      <td>0.080280</td>\n",
              "      <td>0.090908</td>\n",
              "      <td>0.091208</td>\n",
              "      <td>0.091615</td>\n",
              "      <td>0.093201</td>\n",
              "      <td>0.093554</td>\n",
              "      <td>0.113169</td>\n",
              "      <td>0.121151</td>\n",
              "      <td>0.122527</td>\n",
              "      <td>0.122622</td>\n",
              "      <td>0.134007</td>\n",
              "      <td>0.148595</td>\n",
              "      <td>0.152714</td>\n",
              "      <td>0.168244</td>\n",
              "      <td>0.176207</td>\n",
              "      <td>0.178379</td>\n",
              "      <td>0.184787</td>\n",
              "      <td>0.198865</td>\n",
              "      <td>0.207233</td>\n",
              "      <td>0.214187</td>\n",
              "      <td>0.224588</td>\n",
              "      <td>0.233813</td>\n",
              "      <td>0.234835</td>\n",
              "      <td>0.235033</td>\n",
              "      <td>0.241367</td>\n",
              "      <td>0.242657</td>\n",
              "      <td>0.247768</td>\n",
              "      <td>0.263803</td>\n",
              "      <td>0.264802</td>\n",
              "      <td>0.273751</td>\n",
              "      <td>0.274696</td>\n",
              "      <td>0.275757</td>\n",
              "      <td>...</td>\n",
              "      <td>0.599201</td>\n",
              "      <td>0.598903</td>\n",
              "      <td>0.593881</td>\n",
              "      <td>0.589439</td>\n",
              "      <td>0.587601</td>\n",
              "      <td>0.581689</td>\n",
              "      <td>0.581652</td>\n",
              "      <td>0.567622</td>\n",
              "      <td>0.559652</td>\n",
              "      <td>0.532019</td>\n",
              "      <td>0.529006</td>\n",
              "      <td>0.524152</td>\n",
              "      <td>0.517958</td>\n",
              "      <td>0.511870</td>\n",
              "      <td>0.506558</td>\n",
              "      <td>0.505852</td>\n",
              "      <td>0.499057</td>\n",
              "      <td>0.495577</td>\n",
              "      <td>0.492107</td>\n",
              "      <td>0.482997</td>\n",
              "      <td>0.481457</td>\n",
              "      <td>0.478395</td>\n",
              "      <td>0.478319</td>\n",
              "      <td>0.478157</td>\n",
              "      <td>0.476579</td>\n",
              "      <td>0.475471</td>\n",
              "      <td>0.472417</td>\n",
              "      <td>0.464952</td>\n",
              "      <td>0.464678</td>\n",
              "      <td>0.462671</td>\n",
              "      <td>0.459365</td>\n",
              "      <td>0.454973</td>\n",
              "      <td>0.454699</td>\n",
              "      <td>0.454552</td>\n",
              "      <td>0.452903</td>\n",
              "      <td>0.452246</td>\n",
              "      <td>0.451968</td>\n",
              "      <td>0.563118</td>\n",
              "      <td>0.259099</td>\n",
              "      <td>52.122966</td>\n",
              "    </tr>\n",
              "    <tr>\n",
              "      <th>49999</th>\n",
              "      <td>0.005756</td>\n",
              "      <td>0.008886</td>\n",
              "      <td>0.019945</td>\n",
              "      <td>0.032011</td>\n",
              "      <td>0.037399</td>\n",
              "      <td>0.048163</td>\n",
              "      <td>0.054605</td>\n",
              "      <td>0.062629</td>\n",
              "      <td>0.067205</td>\n",
              "      <td>0.070691</td>\n",
              "      <td>0.071629</td>\n",
              "      <td>0.097812</td>\n",
              "      <td>0.098315</td>\n",
              "      <td>0.107421</td>\n",
              "      <td>0.108691</td>\n",
              "      <td>0.111215</td>\n",
              "      <td>0.128345</td>\n",
              "      <td>0.130318</td>\n",
              "      <td>0.132043</td>\n",
              "      <td>0.134578</td>\n",
              "      <td>0.134901</td>\n",
              "      <td>0.137716</td>\n",
              "      <td>0.137738</td>\n",
              "      <td>0.140281</td>\n",
              "      <td>0.143652</td>\n",
              "      <td>0.151058</td>\n",
              "      <td>0.153834</td>\n",
              "      <td>0.166841</td>\n",
              "      <td>0.196327</td>\n",
              "      <td>0.199216</td>\n",
              "      <td>0.209058</td>\n",
              "      <td>0.218235</td>\n",
              "      <td>0.227666</td>\n",
              "      <td>0.258769</td>\n",
              "      <td>0.266068</td>\n",
              "      <td>0.270150</td>\n",
              "      <td>0.275164</td>\n",
              "      <td>0.290099</td>\n",
              "      <td>0.290712</td>\n",
              "      <td>0.293451</td>\n",
              "      <td>...</td>\n",
              "      <td>0.761982</td>\n",
              "      <td>0.760656</td>\n",
              "      <td>0.757355</td>\n",
              "      <td>0.733891</td>\n",
              "      <td>0.725006</td>\n",
              "      <td>0.723604</td>\n",
              "      <td>0.699291</td>\n",
              "      <td>0.685247</td>\n",
              "      <td>0.668802</td>\n",
              "      <td>0.652830</td>\n",
              "      <td>0.652067</td>\n",
              "      <td>0.640929</td>\n",
              "      <td>0.619797</td>\n",
              "      <td>0.617124</td>\n",
              "      <td>0.582956</td>\n",
              "      <td>0.573386</td>\n",
              "      <td>0.563392</td>\n",
              "      <td>0.524875</td>\n",
              "      <td>0.523082</td>\n",
              "      <td>0.519455</td>\n",
              "      <td>0.507595</td>\n",
              "      <td>0.498666</td>\n",
              "      <td>0.496664</td>\n",
              "      <td>0.488668</td>\n",
              "      <td>0.484017</td>\n",
              "      <td>0.479709</td>\n",
              "      <td>0.460375</td>\n",
              "      <td>0.455208</td>\n",
              "      <td>0.455107</td>\n",
              "      <td>0.451162</td>\n",
              "      <td>0.448081</td>\n",
              "      <td>0.439334</td>\n",
              "      <td>0.435451</td>\n",
              "      <td>0.428064</td>\n",
              "      <td>0.421997</td>\n",
              "      <td>0.421593</td>\n",
              "      <td>0.421285</td>\n",
              "      <td>0.726522</td>\n",
              "      <td>0.075830</td>\n",
              "      <td>26.475489</td>\n",
              "    </tr>\n",
              "  </tbody>\n",
              "</table>\n",
              "<p>5 rows × 353 columns</p>\n",
              "</div>"
            ],
            "text/plain": [
              "          theta     theta     theta  ...    volume        Ps         ST\n",
              "49995  0.003798  0.005456  0.005560  ...  0.618874  0.975322  25.688378\n",
              "49996  0.008172  0.022973  0.030498  ...  0.258608  0.552953  33.849961\n",
              "49997  0.008612  0.017341  0.020153  ...  0.476843  0.360261  48.916954\n",
              "49998  0.001522  0.004628  0.006973  ...  0.563118  0.259099  52.122966\n",
              "49999  0.005756  0.008886  0.019945  ...  0.726522  0.075830  26.475489\n",
              "\n",
              "[5 rows x 353 columns]"
            ]
          },
          "metadata": {},
          "execution_count": 132
        }
      ]
    },
    {
      "cell_type": "markdown",
      "metadata": {
        "id": "SOCMKtGWc8kO"
      },
      "source": [
        "### Split the data into train and test\n",
        "\n",
        "Now split the dataset into a training set and a test set.\n",
        "\n",
        "We will use the test set in the final evaluation of our model."
      ]
    },
    {
      "cell_type": "code",
      "metadata": {
        "id": "omYZ9Atvc8kX"
      },
      "source": [
        "normed_train_data = normed_data.sample(frac=0.8,random_state=0)\n",
        "normed_test_data = normed_data.drop(normed_train_data.index)"
      ],
      "execution_count": 133,
      "outputs": []
    },
    {
      "cell_type": "code",
      "metadata": {
        "id": "ijFPP_Y7dsYe",
        "colab": {
          "base_uri": "https://localhost:8080/",
          "height": 299
        },
        "outputId": "b788c3fa-7970-47ce-caa7-a65acd015ea8"
      },
      "source": [
        "plt.figure()\n",
        "for i in range(1000):\n",
        "  plt.plot(normed_train_data.iloc[i, 0:175], normed_train_data.iloc[i, 175:350], 'o', markersize=1)\n",
        "plt.ylabel('Radius, ρ')\n",
        "plt.xlabel('Azimuth angle, θ')"
      ],
      "execution_count": 63,
      "outputs": [
        {
          "output_type": "execute_result",
          "data": {
            "text/plain": [
              "Text(0.5, 0, 'Azimuth angle, θ')"
            ]
          },
          "metadata": {},
          "execution_count": 63
        },
        {
          "output_type": "display_data",
          "data": {
            "image/png": "[encoded data removed]",
            "text/plain": [
              "<Figure size 432x288 with 1 Axes>"
            ]
          },
          "metadata": {
            "needs_background": "light"
          }
        }
      ]
    },
    {
      "cell_type": "markdown",
      "metadata": {
        "id": "y0I4xpjHXXMV"
      },
      "source": [
        "### Split features from labels\n",
        "\n",
        "Separate the target value, or \"label\", from the features. This label is the value that you will train the model to predict."
      ]
    },
    {
      "cell_type": "code",
      "metadata": {
        "id": "YIMjYsODXXMe"
      },
      "source": [
        "train_labels = normed_train_data.pop('ST')\n",
        "test_labels = normed_test_data.pop('ST')"
      ],
      "execution_count": 134,
      "outputs": []
    },
    {
      "cell_type": "markdown",
      "metadata": {
        "id": "SmjdzxKzEu1-"
      },
      "source": [
        "## The model"
      ]
    },
    {
      "cell_type": "markdown",
      "metadata": {
        "id": "6SWtkIjhrZwa"
      },
      "source": [
        "### Build the model\n",
        "\n",
        "Let's build our model. Here, we'll use a `Sequential` model with two densely connected hidden layers, and an output layer that returns a single, continuous value. The model building steps are wrapped in a function, `build_model`, since we'll create a second model, later on."
      ]
    },
    {
      "cell_type": "code",
      "metadata": {
        "id": "c26juK7ZG8j-"
      },
      "source": [
        "def build_model():\n",
        "  model = keras.Sequential([\n",
        "    layers.Dense(50, activation=tf.nn.softplus, input_shape=[len(normed_test_data.keys())]),\n",
        "   # tf.keras.layers.LayerNormalization(axis=1 , center=True , scale=True),\n",
        "   layers.Dense(25, activation=tf.nn.softplus),\n",
        "    # layers.Dense(25, activation=tf.nn.softplus),\n",
        "    layers.Dense(5, activation=tf.nn.softplus),\n",
        "    layers.Dense(1)\n",
        "  ])\n",
        "\n",
        "  #optimizer = tf.keras.optimizers.RMSprop(0.0000001)\n",
        "  #optimizer = tf.keras.optimizers.Adagrad(learning_rate=0.0001)\n",
        "  optimizer = tf.keras.optimizers.Adam() #learning_rate=0.001, beta_1=0.9, beta_2=0.999, amsgrad=False\n",
        "  #optimizer = tf.keras.optimizers.Adamax(learning_rate=0.001, beta_1=0.8, beta_2=0.995)\n",
        "\n",
        "  #model.compile(loss='mean_squared_error',\n",
        "  #              optimizer=optimizer,\n",
        "  #              metrics=['mean_absolute_error', 'mean_squared_error'])\n",
        "  \n",
        "  model.compile(loss='mean_absolute_error',\n",
        "                optimizer=optimizer,\n",
        "                metrics=['mean_absolute_error', 'mean_squared_error'])\n",
        "  \n",
        "  \n",
        "  return model"
      ],
      "execution_count": 175,
      "outputs": []
    },
    {
      "cell_type": "code",
      "metadata": {
        "id": "cGbPb-PHGbhs"
      },
      "source": [
        "model = build_model()"
      ],
      "execution_count": 176,
      "outputs": []
    },
    {
      "cell_type": "markdown",
      "metadata": {
        "id": "p_MsKnx6CiJ1"
      },
      "source": [
        "### Inspect the model\n",
        "\n",
        "Use the `.summary` method to print a simple description of the model"
      ]
    },
    {
      "cell_type": "code",
      "metadata": {
        "colab": {
          "base_uri": "https://localhost:8080/"
        },
        "id": "JogRjzbbCiJ8",
        "outputId": "f0c71b76-dc1c-43ed-f582-028a68a482dd"
      },
      "source": [
        "model.summary()"
      ],
      "execution_count": 177,
      "outputs": [
        {
          "output_type": "stream",
          "name": "stdout",
          "text": [
            "Model: \"sequential_11\"\n",
            "_________________________________________________________________\n",
            "Layer (type)                 Output Shape              Param #   \n",
            "=================================================================\n",
            "dense_37 (Dense)             (None, 50)                17650     \n",
            "_________________________________________________________________\n",
            "dense_38 (Dense)             (None, 25)                1275      \n",
            "_________________________________________________________________\n",
            "dense_39 (Dense)             (None, 25)                650       \n",
            "_________________________________________________________________\n",
            "dense_40 (Dense)             (None, 5)                 130       \n",
            "_________________________________________________________________\n",
            "dense_41 (Dense)             (None, 1)                 6         \n",
            "=================================================================\n",
            "Total params: 19,711\n",
            "Trainable params: 19,711\n",
            "Non-trainable params: 0\n",
            "_________________________________________________________________\n"
          ]
        }
      ]
    },
    {
      "cell_type": "markdown",
      "metadata": {
        "id": "78c18_srCoSM"
      },
      "source": [
        "\n",
        "Now try out the model. Take a batch of `10` examples from the training data and call `model.predict` on it."
      ]
    },
    {
      "cell_type": "code",
      "metadata": {
        "colab": {
          "base_uri": "https://localhost:8080/"
        },
        "id": "vG9W22RICoSN",
        "outputId": "2e43a889-b3b8-44da-e1fe-92c4cdd703b6"
      },
      "source": [
        "example_batch = normed_train_data[:10]\n",
        "example_result = model.predict(example_batch)\n",
        "example_result"
      ],
      "execution_count": 178,
      "outputs": [
        {
          "output_type": "stream",
          "name": "stderr",
          "text": [
            "/usr/local/lib/python3.7/dist-packages/keras/engine/training.py:2470: UserWarning: `Model.state_updates` will be removed in a future version. This property should not be used in TensorFlow 2.0, as `updates` are applied automatically.\n",
            "  warnings.warn('`Model.state_updates` will be removed in a future version. '\n"
          ]
        },
        {
          "output_type": "execute_result",
          "data": {
            "text/plain": [
              "array([[-1.3786653],\n",
              "       [-1.3777649],\n",
              "       [-1.3308109],\n",
              "       [-1.3728629],\n",
              "       [-1.3313259],\n",
              "       [-1.3946002],\n",
              "       [-1.3801718],\n",
              "       [-1.413751 ],\n",
              "       [-1.327869 ],\n",
              "       [-1.3406402]], dtype=float32)"
            ]
          },
          "metadata": {},
          "execution_count": 178
        }
      ]
    },
    {
      "cell_type": "markdown",
      "metadata": {
        "id": "aDvyY2WqCoSN"
      },
      "source": [
        "It seems to be working, and it produces a result of the expected shape and type."
      ]
    },
    {
      "cell_type": "markdown",
      "metadata": {
        "id": "APAplLIxCoSN"
      },
      "source": [
        "### Train the model\n",
        "\n",
        "Train the model for 1000 epochs, and record the training and validation accuracy in the `history` object."
      ]
    },
    {
      "cell_type": "code",
      "metadata": {
        "id": "fdMZuhUgzMZ4",
        "colab": {
          "base_uri": "https://localhost:8080/"
        },
        "outputId": "70635321-450e-432c-cbb4-1162fb9ed1b6"
      },
      "source": [
        "# Display training progress by printing a single dot for each completed epoch\n",
        "class PrintDot(keras.callbacks.Callback):\n",
        "  def on_epoch_end(self, epoch, logs):\n",
        "    if epoch % 100 == 0: print('')\n",
        "    print('.', end='')\n",
        "\n",
        "EPOCHS = 1000\n",
        "\n",
        "# The patience parameter is the amount of epochs to check for improvement\n",
        "early_stop = keras.callbacks.EarlyStopping(monitor='val_loss', patience=20, min_delta=0, restore_best_weights=True)\n",
        "\n",
        "history = model.fit(normed_train_data, train_labels, epochs=EPOCHS,\n",
        "                    validation_split = 0.2, verbose=0, callbacks=[early_stop, PrintDot()])\n"
      ],
      "execution_count": 179,
      "outputs": [
        {
          "output_type": "stream",
          "name": "stderr",
          "text": [
            "/usr/local/lib/python3.7/dist-packages/keras/engine/training.py:2470: UserWarning: `Model.state_updates` will be removed in a future version. This property should not be used in TensorFlow 2.0, as `updates` are applied automatically.\n",
            "  warnings.warn('`Model.state_updates` will be removed in a future version. '\n"
          ]
        },
        {
          "output_type": "stream",
          "name": "stdout",
          "text": [
            "\n",
            "....................................................................................................\n",
            ".."
          ]
        }
      ]
    },
    {
      "cell_type": "markdown",
      "metadata": {
        "id": "ZNofocGTCoSN"
      },
      "source": [
        "Visualize the model's training progress using the stats stored in the `history` object."
      ]
    },
    {
      "cell_type": "code",
      "metadata": {
        "id": "IHtfi4xlXiHy",
        "colab": {
          "base_uri": "https://localhost:8080/",
          "height": 204
        },
        "outputId": "1c765e69-0bc4-4ff9-a240-0d1ed422129d"
      },
      "source": [
        "hist = pd.DataFrame(history.history)\n",
        "hist['epoch'] = history.epoch\n",
        "hist.tail() "
      ],
      "execution_count": 180,
      "outputs": [
        {
          "output_type": "execute_result",
          "data": {
            "text/html": [
              "<div>\n",
              "<style scoped>\n",
              "    .dataframe tbody tr th:only-of-type {\n",
              "        vertical-align: middle;\n",
              "    }\n",
              "\n",
              "    .dataframe tbody tr th {\n",
              "        vertical-align: top;\n",
              "    }\n",
              "\n",
              "    .dataframe thead th {\n",
              "        text-align: right;\n",
              "    }\n",
              "</style>\n",
              "<table border=\"1\" class=\"dataframe\">\n",
              "  <thead>\n",
              "    <tr style=\"text-align: right;\">\n",
              "      <th></th>\n",
              "      <th>loss</th>\n",
              "      <th>mean_absolute_error</th>\n",
              "      <th>mean_squared_error</th>\n",
              "      <th>val_loss</th>\n",
              "      <th>val_mean_absolute_error</th>\n",
              "      <th>val_mean_squared_error</th>\n",
              "      <th>epoch</th>\n",
              "    </tr>\n",
              "  </thead>\n",
              "  <tbody>\n",
              "    <tr>\n",
              "      <th>97</th>\n",
              "      <td>0.513887</td>\n",
              "      <td>0.513887</td>\n",
              "      <td>0.510010</td>\n",
              "      <td>0.356557</td>\n",
              "      <td>0.356557</td>\n",
              "      <td>0.249031</td>\n",
              "      <td>97</td>\n",
              "    </tr>\n",
              "    <tr>\n",
              "      <th>98</th>\n",
              "      <td>0.540513</td>\n",
              "      <td>0.540513</td>\n",
              "      <td>0.556507</td>\n",
              "      <td>0.454199</td>\n",
              "      <td>0.454198</td>\n",
              "      <td>0.353645</td>\n",
              "      <td>98</td>\n",
              "    </tr>\n",
              "    <tr>\n",
              "      <th>99</th>\n",
              "      <td>0.534153</td>\n",
              "      <td>0.534153</td>\n",
              "      <td>0.540881</td>\n",
              "      <td>0.870054</td>\n",
              "      <td>0.870054</td>\n",
              "      <td>1.270933</td>\n",
              "      <td>99</td>\n",
              "    </tr>\n",
              "    <tr>\n",
              "      <th>100</th>\n",
              "      <td>0.515335</td>\n",
              "      <td>0.515335</td>\n",
              "      <td>0.506241</td>\n",
              "      <td>0.441538</td>\n",
              "      <td>0.441538</td>\n",
              "      <td>0.403778</td>\n",
              "      <td>100</td>\n",
              "    </tr>\n",
              "    <tr>\n",
              "      <th>101</th>\n",
              "      <td>0.474225</td>\n",
              "      <td>0.474225</td>\n",
              "      <td>0.426461</td>\n",
              "      <td>0.527228</td>\n",
              "      <td>0.527228</td>\n",
              "      <td>0.542847</td>\n",
              "      <td>101</td>\n",
              "    </tr>\n",
              "  </tbody>\n",
              "</table>\n",
              "</div>"
            ],
            "text/plain": [
              "         loss  mean_absolute_error  ...  val_mean_squared_error  epoch\n",
              "97   0.513887             0.513887  ...                0.249031     97\n",
              "98   0.540513             0.540513  ...                0.353645     98\n",
              "99   0.534153             0.534153  ...                1.270933     99\n",
              "100  0.515335             0.515335  ...                0.403778    100\n",
              "101  0.474225             0.474225  ...                0.542847    101\n",
              "\n",
              "[5 rows x 7 columns]"
            ]
          },
          "metadata": {},
          "execution_count": 180
        }
      ]
    },
    {
      "cell_type": "code",
      "metadata": {
        "id": "VPI7VDvrXvJb",
        "colab": {
          "base_uri": "https://localhost:8080/",
          "height": 549
        },
        "outputId": "9014e32d-5c08-45db-d643-801d8d1b751b"
      },
      "source": [
        "def plot_history(history):\n",
        "  hist = pd.DataFrame(history.history)\n",
        "  hist['epoch'] = history.epoch\n",
        "\n",
        "  plt.figure()\n",
        "  plt.xlabel('Epoch')\n",
        "  plt.ylabel('Mean Abs Error [ST]')\n",
        "  plt.plot(hist['epoch'], hist['mean_absolute_error'],\n",
        "           label='Train Error')\n",
        "  plt.plot(hist['epoch'], hist['val_mean_absolute_error'],\n",
        "           label = 'Val Error')\n",
        "  plt.ylim([0,5])\n",
        "  plt.legend()\n",
        "\n",
        "  plt.figure()\n",
        "  plt.xlabel('Epoch')\n",
        "  plt.ylabel('Mean Square Error [$ST^2$]')\n",
        "  plt.plot(hist['epoch'], hist['mean_squared_error'],\n",
        "           label='Train Error')\n",
        "  plt.plot(hist['epoch'], hist['val_mean_squared_error'],\n",
        "           label = 'Val Error')\n",
        "  plt.ylim([0,25])\n",
        "  plt.legend()\n",
        "  plt.show()\n",
        "\n",
        "\n",
        "plot_history(history)"
      ],
      "execution_count": 181,
      "outputs": [
        {
          "output_type": "display_data",
          "data": {
            "image/png": "[encoded data removed]",
            "text/plain": [
              "<Figure size 432x288 with 1 Axes>"
            ]
          },
          "metadata": {
            "needs_background": "light"
          }
        },
        {
          "output_type": "display_data",
          "data": {
            "image/png": "[encoded data removed]",
            "text/plain": [
              "<Figure size 432x288 with 1 Axes>"
            ]
          },
          "metadata": {
            "needs_background": "light"
          }
        }
      ]
    },
    {
      "cell_type": "markdown",
      "metadata": {
        "id": "l7lTAVELCoSO"
      },
      "source": [
        "The graph shows that on the validation set, the average error is usually around +/- 2 MPG. Is this good? We'll leave that decision up to you.\n",
        "\n",
        "Let's see how well the model generalizes by using the **test** set, which we did not use when training the model.  This tells us how well we can expect the model to predict when we use it in the real world."
      ]
    },
    {
      "cell_type": "code",
      "metadata": {
        "colab": {
          "base_uri": "https://localhost:8080/"
        },
        "id": "OirOiOSTCoSO",
        "outputId": "cf94f025-7550-4045-fa05-394b4889cae5"
      },
      "source": [
        "loss, mae, mse = model.evaluate(normed_test_data, test_labels, verbose=0)\n",
        "\n",
        "print(\"Testing set Mean Abs Error: {:5.2f} mN/m\".format(mae))\n",
        "\n",
        "print(\"Testing set Mean Abs Error over ST range: {:5.2f}\".format(mae/(max(dataset.ST)-min(dataset.ST))))\n"
      ],
      "execution_count": 182,
      "outputs": [
        {
          "output_type": "stream",
          "name": "stdout",
          "text": [
            "Testing set Mean Abs Error:  0.35 mN/m\n",
            "Testing set Mean Abs Error over ST range:  0.01\n"
          ]
        }
      ]
    },
    {
      "cell_type": "markdown",
      "metadata": {
        "id": "NkcS2mMvCoSO"
      },
      "source": [
        "### Make predictions\n",
        "\n",
        "Finally, predict ST values using data in the testing set:"
      ]
    },
    {
      "cell_type": "code",
      "metadata": {
        "colab": {
          "base_uri": "https://localhost:8080/",
          "height": 573
        },
        "id": "9m-HwyFrCoSO",
        "outputId": "399cc932-66bb-42f2-d872-4882f242aae3"
      },
      "source": [
        "test_predictions = model.predict(normed_test_data).flatten()\n",
        "\n",
        "plt.scatter(test_labels, test_predictions)\n",
        "plt.title('Normalized test data')\n",
        "plt.xlabel('True Values [surface tension - mN/m]')\n",
        "plt.ylabel('Predictions [surface tension - mN/m]')\n",
        "plt.axis('equal')\n",
        "plt.axis('square')\n",
        "plt.xlim([10,80])\n",
        "plt.ylim([10,80])\n",
        "_ = plt.plot([-100, 100], [-100, 100])\n",
        "plt.show()\n",
        "\n",
        "train_predictions = model.predict(normed_train_data).flatten()\n",
        "\n",
        "plt.scatter(train_labels, train_predictions)\n",
        "plt.title('Normalized training data')\n",
        "plt.xlabel('True Values [surface tension - mN/m]')\n",
        "plt.ylabel('Predictions [surface tension - mN/m]')\n",
        "plt.axis('equal')\n",
        "plt.axis('square')\n",
        "plt.xlim([10,80])\n",
        "plt.ylim([10,80])\n",
        "_ = plt.plot([-100, 100], [-100, 100])\n",
        "plt.show()\n",
        "\n",
        "# plt.figure()\n",
        "# plt.xlabel('Image')\n",
        "# plt.ylabel('Surface tension [ mN/m ]')\n",
        "# plt.ylim(30, 75)\n",
        "# plt.plot(test_predictions[0:2000], label='Predicted test instances')\n",
        "# plt.plot(range(len(test_labels)-18000), test_labels[0:2000], '--', label='Real test instances')\n",
        "# plt.legend()\n"
      ],
      "execution_count": 183,
      "outputs": [
        {
          "output_type": "display_data",
          "data": {
            "image/png": "[encoded data removed]",
            "text/plain": [
              "<Figure size 432x288 with 1 Axes>"
            ]
          },
          "metadata": {
            "needs_background": "light"
          }
        },
        {
          "output_type": "display_data",
          "data": {
            "image/png": "[encoded data removed]",
            "text/plain": [
              "<Figure size 432x288 with 1 Axes>"
            ]
          },
          "metadata": {
            "needs_background": "light"
          }
        }
      ]
    },
    {
      "cell_type": "markdown",
      "metadata": {
        "id": "OrkHGKZcusUo"
      },
      "source": [
        "Seriously?"
      ]
    },
    {
      "cell_type": "code",
      "metadata": {
        "colab": {
          "base_uri": "https://localhost:8080/",
          "height": 541
        },
        "id": "pQi_gr5-CoSO",
        "outputId": "92b77da6-851e-41a2-ac8b-d068ba27eb8a"
      },
      "source": [
        "error = test_predictions - test_labels\n",
        "plt.hist(error, bins = 50)\n",
        "plt.xlabel(\"Prediction Error [mN/m]\")\n",
        "_ = plt.ylabel(\"Count\")\n",
        "plt.xlim(-3.5, 3.5)\n",
        "plt.show()\n",
        "\n",
        "plt.hist(error, bins = 50)\n",
        "plt.xlabel(\"Prediction Error [mN/m]\")\n",
        "_ = plt.ylabel(\"Count\")\n",
        "plt.show()"
      ],
      "execution_count": 184,
      "outputs": [
        {
          "output_type": "display_data",
          "data": {
            "image/png": "[encoded data removed]",
            "text/plain": [
              "<Figure size 432x288 with 1 Axes>"
            ]
          },
          "metadata": {
            "needs_background": "light"
          }
        },
        {
          "output_type": "display_data",
          "data": {
            "image/png": "[encoded data removed]",
            "text/plain": [
              "<Figure size 432x288 with 1 Axes>"
            ]
          },
          "metadata": {
            "needs_background": "light"
          }
        }
      ]
    },
    {
      "cell_type": "markdown",
      "metadata": {
        "id": "AUx4uYxk0GEJ"
      },
      "source": [
        "## If there is a model saved on google drive execute the next block"
      ]
    },
    {
      "cell_type": "code",
      "metadata": {
        "id": "y3Ir9yi8z0VA"
      },
      "source": [
        "from tensorflow.keras.models import load_model\n",
        "\n",
        "del model \n",
        "\n",
        "model_name=str('All_surf_five_feutures_Huber_swish_trial_3.h5')\n",
        "model = load_model(str(\"/content/drive/My Drive/DropLev/MachineLearningModels/\"+model_name))\n"
      ],
      "execution_count": null,
      "outputs": []
    },
    {
      "cell_type": "markdown",
      "metadata": {
        "id": "Sj49Og4YGULr"
      },
      "source": [
        "### Inspect the model\n",
        "\n",
        "Use the `.summary` method to print a simple description of the model"
      ]
    },
    {
      "cell_type": "code",
      "metadata": {
        "id": "ReAD0n6MsFK-",
        "colab": {
          "base_uri": "https://localhost:8080/",
          "height": 250
        },
        "outputId": "0ccbaa9b-a0df-4000-d4b0-5c61787771ab"
      },
      "source": [
        "model.summary()"
      ],
      "execution_count": null,
      "outputs": [
        {
          "output_type": "stream",
          "text": [
            "Model: \"sequential_30\"\n",
            "_________________________________________________________________\n",
            "Layer (type)                 Output Shape              Param #   \n",
            "=================================================================\n",
            "dense_90 (Dense)             (None, 50)                15150     \n",
            "_________________________________________________________________\n",
            "dense_91 (Dense)             (None, 3)                 153       \n",
            "_________________________________________________________________\n",
            "dense_92 (Dense)             (None, 1)                 4         \n",
            "=================================================================\n",
            "Total params: 15,307\n",
            "Trainable params: 15,307\n",
            "Non-trainable params: 0\n",
            "_________________________________________________________________\n"
          ],
          "name": "stdout"
        }
      ]
    },
    {
      "cell_type": "markdown",
      "metadata": {
        "id": "Vt6W50qGsJAL"
      },
      "source": [
        "\n",
        "Now try out the model. Take a batch of `10` examples from the training data and call `model.predict` on it."
      ]
    },
    {
      "cell_type": "code",
      "metadata": {
        "id": "-d-gBaVtGTSC",
        "colab": {
          "base_uri": "https://localhost:8080/",
          "height": 183
        },
        "outputId": "1745fe1c-cf78-4609-ef3b-a2003d78fa5b"
      },
      "source": [
        "example_batch = normed_train_data[:10]\n",
        "example_result = model.predict(example_batch)\n",
        "example_result"
      ],
      "execution_count": null,
      "outputs": [
        {
          "output_type": "execute_result",
          "data": {
            "text/plain": [
              "array([[ 0.43203562],\n",
              "       [-0.3725443 ],\n",
              "       [ 0.15722759],\n",
              "       [-0.407181  ],\n",
              "       [-0.37564555],\n",
              "       [-0.37614414],\n",
              "       [-0.3925074 ],\n",
              "       [-0.04143935],\n",
              "       [ 0.6424061 ],\n",
              "       [ 0.6858951 ]], dtype=float32)"
            ]
          },
          "metadata": {
            "tags": []
          },
          "execution_count": 290
        }
      ]
    },
    {
      "cell_type": "markdown",
      "metadata": {
        "id": "QlM8KrSOsaYo"
      },
      "source": [
        "It seems to be working, and it produces a result of the expected shape and type."
      ]
    },
    {
      "cell_type": "markdown",
      "metadata": {
        "id": "0-qWCsh6DlyH"
      },
      "source": [
        "### Train the model\n",
        "\n",
        "Train the model for 1000 epochs, and record the training and validation accuracy in the `history` object."
      ]
    },
    {
      "cell_type": "code",
      "metadata": {
        "id": "sD7qHCmNIOY0",
        "colab": {
          "base_uri": "https://localhost:8080/",
          "height": 50
        },
        "outputId": "9d8ccb11-4df6-47c2-9589-79639db8b7b7"
      },
      "source": [
        "# Display training progress by printing a single dot for each completed epoch\n",
        "class PrintDot(keras.callbacks.Callback):\n",
        "  def on_epoch_end(self, epoch, logs):\n",
        "    if epoch % 55 == 0: print('')\n",
        "    print('.', end='')\n",
        "\n",
        "#Save the k-th epoch (100 in this case)\n",
        "#class CustomSaver(keras.callbacks.Callback):\n",
        "#    filepath=\"/content/drive/My Drive/DropLev/MachineLearningModels/\"\n",
        "#    def on_epoch_end(self, epoch, logs={}):\n",
        "#        if epoch == 100:  # or save after some epoch, each k-th epoch etc.\n",
        "#           self.model.save(str(filepath+\"SDS_70mNperm_trial1.h5\"), monitor = \"val_loss\", verbose = 0,\n",
        "#  save_best_only = False, save_weights_only = False, mode = \"min\", period = 1)\n",
        "\n",
        "EPOCHS = 700\n",
        "\n",
        "#filepath=\"/content/drive/My Drive/DropLev/MachineLearningModels/saved-model-{epoch:02d}-{val_loss:.2f}.h5.h5\"\n",
        "#keras.callbacks.ModelCheckpoint(filepath, monitor='val_loss', verbose=0, save_best_only=False, \n",
        "#                                save_weights_only=False, mode='auto', period=1)\n",
        "#callbacks_list = [checkpoint]\n",
        "\n",
        "## create and use callback:\n",
        "#filepath=\"/content/drive/My Drive/DropLev/MachineLearningModels/weights.100EPOCHS.h5\"\n",
        "#saver = CustomSaver()\n",
        "#history = model.fit(normed_train_data, train_labels, callbacks=[saver], epochs=10)\n",
        "\n",
        "#Checkpoints. Save best fit\n",
        "#filepath=\"/content/drive/My Drive/DropLev/MachineLearningModels/weights.best.h5\"\n",
        "#checkpoint = ModelCheckpoint(filepath, monitor='val_acc', verbose=0, save_best_only=True, mode='auto')\n",
        "#callbacks_list = [checkpoint]\n",
        "\n",
        "early_stop = keras.callbacks.EarlyStopping(monitor='val_loss',min_delta=0, patience=10, verbose=0, mode='auto')\n",
        "\n",
        "\n",
        "history = model.fit(\n",
        "  normed_train_data, train_labels,\n",
        "  epochs=EPOCHS, validation_split = 0.2, verbose=0,\n",
        "  callbacks=[early_stop, PrintDot()])  # callbacks=callbacks_list"
      ],
      "execution_count": null,
      "outputs": [
        {
          "output_type": "stream",
          "text": [
            "\n",
            "...................."
          ],
          "name": "stdout"
        }
      ]
    },
    {
      "cell_type": "markdown",
      "metadata": {
        "id": "tQm3pc0FYPQB"
      },
      "source": [
        "Visualize the model's training progress using the stats stored in the `history` object."
      ]
    },
    {
      "cell_type": "code",
      "metadata": {
        "id": "4Xj91b-dymEy",
        "colab": {
          "base_uri": "https://localhost:8080/",
          "height": 197
        },
        "outputId": "3a349055-803b-4f7a-b687-b02992ac9167"
      },
      "source": [
        "hist = pd.DataFrame(history.history)\n",
        "hist['epoch'] = history.epoch\n",
        "hist.tail()"
      ],
      "execution_count": null,
      "outputs": [
        {
          "output_type": "execute_result",
          "data": {
            "text/html": [
              "<div>\n",
              "<style scoped>\n",
              "    .dataframe tbody tr th:only-of-type {\n",
              "        vertical-align: middle;\n",
              "    }\n",
              "\n",
              "    .dataframe tbody tr th {\n",
              "        vertical-align: top;\n",
              "    }\n",
              "\n",
              "    .dataframe thead th {\n",
              "        text-align: right;\n",
              "    }\n",
              "</style>\n",
              "<table border=\"1\" class=\"dataframe\">\n",
              "  <thead>\n",
              "    <tr style=\"text-align: right;\">\n",
              "      <th></th>\n",
              "      <th>loss</th>\n",
              "      <th>mean_absolute_error</th>\n",
              "      <th>mean_squared_error</th>\n",
              "      <th>val_loss</th>\n",
              "      <th>val_mean_absolute_error</th>\n",
              "      <th>val_mean_squared_error</th>\n",
              "      <th>epoch</th>\n",
              "    </tr>\n",
              "  </thead>\n",
              "  <tbody>\n",
              "    <tr>\n",
              "      <th>15</th>\n",
              "      <td>7.163245</td>\n",
              "      <td>7.163245</td>\n",
              "      <td>130.577637</td>\n",
              "      <td>7.792389</td>\n",
              "      <td>7.792389</td>\n",
              "      <td>141.851059</td>\n",
              "      <td>15</td>\n",
              "    </tr>\n",
              "    <tr>\n",
              "      <th>16</th>\n",
              "      <td>7.162131</td>\n",
              "      <td>7.162131</td>\n",
              "      <td>130.552383</td>\n",
              "      <td>7.785986</td>\n",
              "      <td>7.785986</td>\n",
              "      <td>141.798523</td>\n",
              "      <td>16</td>\n",
              "    </tr>\n",
              "    <tr>\n",
              "      <th>17</th>\n",
              "      <td>7.154714</td>\n",
              "      <td>7.154715</td>\n",
              "      <td>130.544373</td>\n",
              "      <td>7.785559</td>\n",
              "      <td>7.785559</td>\n",
              "      <td>141.747849</td>\n",
              "      <td>17</td>\n",
              "    </tr>\n",
              "    <tr>\n",
              "      <th>18</th>\n",
              "      <td>7.148772</td>\n",
              "      <td>7.148772</td>\n",
              "      <td>130.395157</td>\n",
              "      <td>7.756837</td>\n",
              "      <td>7.756837</td>\n",
              "      <td>141.482620</td>\n",
              "      <td>18</td>\n",
              "    </tr>\n",
              "    <tr>\n",
              "      <th>19</th>\n",
              "      <td>7.155182</td>\n",
              "      <td>7.155182</td>\n",
              "      <td>130.323730</td>\n",
              "      <td>7.777982</td>\n",
              "      <td>7.777982</td>\n",
              "      <td>141.616928</td>\n",
              "      <td>19</td>\n",
              "    </tr>\n",
              "  </tbody>\n",
              "</table>\n",
              "</div>"
            ],
            "text/plain": [
              "        loss  mean_absolute_error  ...  val_mean_squared_error  epoch\n",
              "15  7.163245             7.163245  ...              141.851059     15\n",
              "16  7.162131             7.162131  ...              141.798523     16\n",
              "17  7.154714             7.154715  ...              141.747849     17\n",
              "18  7.148772             7.148772  ...              141.482620     18\n",
              "19  7.155182             7.155182  ...              141.616928     19\n",
              "\n",
              "[5 rows x 7 columns]"
            ]
          },
          "metadata": {
            "tags": []
          },
          "execution_count": 292
        }
      ]
    },
    {
      "cell_type": "code",
      "metadata": {
        "id": "B6XriGbVPh2t",
        "colab": {
          "base_uri": "https://localhost:8080/",
          "height": 549
        },
        "outputId": "d4ad2956-a647-4d4d-dfd6-bab505e2e3f1"
      },
      "source": [
        "def plot_history(history):\n",
        "  hist = pd.DataFrame(history.history)\n",
        "  hist['epoch'] = history.epoch\n",
        "\n",
        "  plt.figure()\n",
        "  plt.xlabel('Epoch')\n",
        "  plt.ylabel('Mean Abs Error [ST]')\n",
        "  plt.plot(hist['epoch'], hist['mean_absolute_error'],\n",
        "           label='Train Error')\n",
        "  plt.plot(hist['epoch'], hist['val_mean_absolute_error'],\n",
        "           label = 'Val Error')\n",
        "  plt.ylim([0,10])\n",
        "  plt.legend()\n",
        "\n",
        "  plt.figure()\n",
        "  plt.xlabel('Epoch')\n",
        "  plt.ylabel('Mean Square Error [$ST^2$]')\n",
        "  plt.plot(hist['epoch'], hist['mean_squared_error'],\n",
        "           label='Train Error')\n",
        "  plt.plot(hist['epoch'], hist['val_mean_squared_error'],\n",
        "           label = 'Val Error')\n",
        "  plt.ylim([0,200])\n",
        "  plt.legend()\n",
        "  plt.show()\n",
        "\n",
        "\n",
        "plot_history(history)"
      ],
      "execution_count": null,
      "outputs": [
        {
          "output_type": "display_data",
          "data": {
            "image/png": "[encoded data removed]",
            "text/plain": [
              "<Figure size 432x288 with 1 Axes>"
            ]
          },
          "metadata": {
            "tags": [],
            "needs_background": "light"
          }
        },
        {
          "output_type": "display_data",
          "data": {
            "image/png": "[encoded data removed]",
            "text/plain": [
              "<Figure size 432x288 with 1 Axes>"
            ]
          },
          "metadata": {
            "tags": [],
            "needs_background": "light"
          }
        }
      ]
    },
    {
      "cell_type": "markdown",
      "metadata": {
        "id": "3St8-DmrX8P4"
      },
      "source": [
        "Let's see how well the model generalizes by using the **test** set, which we did not use when training the model.  This tells us how well we can expect the model to predict when we use it in the real world."
      ]
    },
    {
      "cell_type": "code",
      "metadata": {
        "id": "jl_yNr5n1kms",
        "colab": {
          "base_uri": "https://localhost:8080/",
          "height": 33
        },
        "outputId": "c94b2fb6-cc5f-47dc-c47e-d428c2092101"
      },
      "source": [
        "loss, mae, mse = model.evaluate(normed_test_data, test_labels, verbose=0)\n",
        "print(\"Testing set Mean Abs Error: {:5.2f} mN/m\".format(mae))\n",
        "# \n",
        "#keras.metrics.accuracy(normed_test_data, test_labels)"
      ],
      "execution_count": null,
      "outputs": [
        {
          "output_type": "stream",
          "text": [
            "Testing set Mean Abs Error:  7.44 mN/m\n"
          ],
          "name": "stdout"
        }
      ]
    },
    {
      "cell_type": "markdown",
      "metadata": {
        "id": "ft603OzXuEZC"
      },
      "source": [
        "### Make predictions\n",
        "\n",
        "Finally, predict volume values using data in the testing set:"
      ]
    },
    {
      "cell_type": "code",
      "metadata": {
        "id": "Xe7RXH3N3CWU",
        "colab": {
          "base_uri": "https://localhost:8080/",
          "height": 573
        },
        "outputId": "6fed0078-688d-40cf-a341-2db0b15502da"
      },
      "source": [
        "test_predictions = model.predict(normed_test_data).flatten()\n",
        "\n",
        "plt.scatter(test_labels, test_predictions)\n",
        "plt.title('Normalized test data')\n",
        "plt.xlabel('True Values [surface tension - mN/m]')\n",
        "plt.ylabel('Predictions [surface tension - mN/m]')\n",
        "plt.axis('equal')\n",
        "plt.axis('square')\n",
        "plt.xlim([10,75])\n",
        "plt.ylim([10,75])\n",
        "_ = plt.plot([-100, 100], [-100, 100])\n",
        "plt.show()\n",
        "\n",
        "test_predictions2 = model.predict(normed_train_data).flatten()\n",
        "\n",
        "plt.scatter(train_labels, test_predictions2)\n",
        "plt.title('Normalized training data')\n",
        "plt.xlabel('True Values [surface tension - mN/m]')\n",
        "plt.ylabel('Predictions [surface tension - mN/m]')\n",
        "plt.axis('equal')\n",
        "plt.axis('square')\n",
        "plt.xlim([10,75])\n",
        "plt.ylim([10,75])\n",
        "_ = plt.plot([-100, 100], [-100, 100])\n",
        "plt.show()\n"
      ],
      "execution_count": null,
      "outputs": [
        {
          "output_type": "display_data",
          "data": {
            "image/png": "[encoded data removed]",
            "text/plain": [
              "<Figure size 432x288 with 1 Axes>"
            ]
          },
          "metadata": {
            "tags": [],
            "needs_background": "light"
          }
        },
        {
          "output_type": "display_data",
          "data": {
            "image/png": "[encoded data removed]",
            "text/plain": [
              "<Figure size 432x288 with 1 Axes>"
            ]
          },
          "metadata": {
            "tags": [],
            "needs_background": "light"
          }
        }
      ]
    },
    {
      "cell_type": "code",
      "metadata": {
        "id": "f-OHX4DiXd8x",
        "colab": {
          "base_uri": "https://localhost:8080/",
          "height": 279
        },
        "outputId": "aca45772-0e15-4ee2-a308-b0f642288965"
      },
      "source": [
        "error = test_predictions - test_labels\n",
        "plt.hist(error, bins = 50)\n",
        "plt.xlabel(\"Prediction Error [surface tension - mN/m]\")\n",
        "_ = plt.ylabel(\"Count\")\n",
        "plt.show()"
      ],
      "execution_count": null,
      "outputs": [
        {
          "output_type": "display_data",
          "data": {
            "image/png": "[encoded data removed]",
            "text/plain": [
              "<Figure size 432x288 with 1 Axes>"
            ]
          },
          "metadata": {
            "tags": [],
            "needs_background": "light"
          }
        }
      ]
    },
    {
      "cell_type": "markdown",
      "metadata": {
        "id": "r-i0Bq5JF0nv"
      },
      "source": [
        "# Saving the final Model"
      ]
    },
    {
      "cell_type": "markdown",
      "metadata": {
        "id": "G8FBhOnbGK65"
      },
      "source": [
        "When you are satisfied with the model and the accuracy continue from here:"
      ]
    },
    {
      "cell_type": "markdown",
      "metadata": {
        "id": "BspL3Z6-GPaa"
      },
      "source": [
        "Saving the model in a **SavedModel** format"
      ]
    },
    {
      "cell_type": "code",
      "metadata": {
        "id": "VwWrwBcZGLnZ"
      },
      "source": [
        "!pip install -q pyyaml h5py  # Required to save models in HDF5 format"
      ],
      "execution_count": null,
      "outputs": []
    },
    {
      "cell_type": "code",
      "metadata": {
        "id": "6BR7rbL5GXku"
      },
      "source": [
        "import os"
      ],
      "execution_count": null,
      "outputs": []
    },
    {
      "cell_type": "code",
      "metadata": {
        "id": "MzumSsZfGYCp"
      },
      "source": [
        "# Save the entire model as a SavedModel.\n",
        "filename=str('All_surf_five_feutures_Huber_swish_trial_3.h5')\n",
        "!mkdir -p '/content/drive/My Drive/DropLev/MachineLearningModels' #Ceates a folder named \"MachineLearningModels\"\n",
        "model.save('/content/drive/My Drive/DropLev/MachineLearningModels/'+filename)  #Saves the file"
      ],
      "execution_count": null,
      "outputs": []
    },
    {
      "cell_type": "markdown",
      "metadata": {
        "id": "pJzKbb1EGgUE"
      },
      "source": [
        "The SavedModel format is a directory containing a protobuf binary and a Tensorflow checkpoint. Inspect the saved model directory:"
      ]
    },
    {
      "cell_type": "code",
      "metadata": {
        "id": "9yGUiOkfGgen"
      },
      "source": [
        "# DropLev_st_prediction_model directory\n",
        "#!ls content/drive/My Drive/DropLev/MachineLearningModels\n",
        "\n",
        "# Contains an assets folder, saved_model.pb, and variables folder.\n",
        "#!ls content/drive/My Drive/DropLev/MachineLearningModels/SDS_1.h5"
      ],
      "execution_count": null,
      "outputs": []
    },
    {
      "cell_type": "markdown",
      "metadata": {
        "id": "n2IWIiOYGgqK"
      },
      "source": [
        "Saving the model in a **HDF5** format"
      ]
    },
    {
      "cell_type": "code",
      "metadata": {
        "id": "H_Zl4tVVGg3J"
      },
      "source": [
        "# Save the entire model to a HDF5 file.\n",
        "# The '.h5' extension indicates that the model should be saved to HDF5.\n",
        "#model.save('content/drive/My Drive/DropLev/MachineLearningModels/'+filename) "
      ],
      "execution_count": null,
      "outputs": []
    },
    {
      "cell_type": "markdown",
      "metadata": {
        "id": "oZcqRI0r9B4r"
      },
      "source": [
        "# Reload a fresh Keras model from the saved model:"
      ]
    },
    {
      "cell_type": "markdown",
      "metadata": {
        "id": "W6mEqNn497op"
      },
      "source": [
        "For **SavedModel** format"
      ]
    },
    {
      "cell_type": "code",
      "metadata": {
        "id": "c4vUC4ep8_VA"
      },
      "source": [
        "new_model = tf.keras.models.load_model('/content/drive/My Drive/DropLev/MachineLearningModels/'+filename)\n",
        "\n",
        "# Check its architecture\n",
        "new_model.summary()"
      ],
      "execution_count": null,
      "outputs": []
    },
    {
      "cell_type": "markdown",
      "metadata": {
        "id": "myilbB_P9_dO"
      },
      "source": [
        "For **HDF5** format"
      ]
    },
    {
      "cell_type": "code",
      "metadata": {
        "id": "94ZjuhOV-Dfk"
      },
      "source": [
        "# Recreate the exact same model, including its weights and the optimizer\n",
        "new_model = tf.keras.models.load_model('DropLev_st_prediction_model.h5')\n",
        "\n",
        "# Show the model architecture\n",
        "new_model.summary()"
      ],
      "execution_count": null,
      "outputs": []
    },
    {
      "cell_type": "markdown",
      "metadata": {
        "id": "j1K6xGBg9K4A"
      },
      "source": [
        "Evaluate the restored model (for both formats)"
      ]
    },
    {
      "cell_type": "code",
      "metadata": {
        "id": "if5rjrz79NPI"
      },
      "source": [
        "# Evaluation\n",
        "loss, mae, mse = new_model.evaluate(normed_test_data, test_labels, verbose=0)\n",
        "print('Restored model, Mean absolute error: {:5.2f}'.format(mae))\n",
        "\n",
        "print(new_model.predict(normed_test_data).shape)"
      ],
      "execution_count": null,
      "outputs": []
    }
  ]
}