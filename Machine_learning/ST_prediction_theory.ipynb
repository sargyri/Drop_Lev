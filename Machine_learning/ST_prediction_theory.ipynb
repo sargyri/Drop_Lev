{
  "nbformat": 4,
  "nbformat_minor": 0,
  "metadata": {
    "colab": {
      "name": "ST_prediction_theory.ipynb",
      "provenance": [],
      "include_colab_link": true
    },
    "kernelspec": {
      "name": "python3",
      "display_name": "Python 3"
    }
  },
  "cells": [
    {
      "cell_type": "markdown",
      "metadata": {
        "id": "view-in-github",
        "colab_type": "text"
      },
      "source": [
        "<a href=\"https://colab.research.google.com/github/sargyri/Drop_Lev/blob/master/Machine_learning/ST_prediction_theory.ipynb\" target=\"_parent\"><img src=\"https://colab.research.google.com/assets/colab-badge.svg\" alt=\"Open In Colab\"/></a>"
      ]
    },
    {
      "cell_type": "markdown",
      "metadata": {
        "id": "FhGuhbZ6M5tl"
      },
      "source": [
        "##### Copyright 2018 The TensorFlow Authors."
      ]
    },
    {
      "cell_type": "code",
      "metadata": {
        "cellView": "form",
        "id": "AwOEIRJC6Une"
      },
      "source": [
        "#@title Licensed under the Apache License, Version 2.0 (the \"License\");\n",
        "# you may not use this file except in compliance with the License.\n",
        "# You may obtain a copy of the License at\n",
        "#\n",
        "# https://www.apache.org/licenses/LICENSE-2.0\n",
        "#\n",
        "# Unless required by applicable law or agreed to in writing, software\n",
        "# distributed under the License is distributed on an \"AS IS\" BASIS,\n",
        "# WITHOUT WARRANTIES OR CONDITIONS OF ANY KIND, either express or implied.\n",
        "# See the License for the specific language governing permissions and\n",
        "# limitations under the License."
      ],
      "execution_count": null,
      "outputs": []
    },
    {
      "cell_type": "code",
      "metadata": {
        "cellView": "form",
        "id": "KyPEtTqk6VdG"
      },
      "source": [
        "#@title MIT License\n",
        "#\n",
        "# Copyright (c) 2017 François Chollet\n",
        "#\n",
        "# Permission is hereby granted, free of charge, to any person obtaining a\n",
        "# copy of this software and associated documentation files (the \"Software\"),\n",
        "# to deal in the Software without restriction, including without limitation\n",
        "# the rights to use, copy, modify, merge, publish, distribute, sublicense,\n",
        "# and/or sell copies of the Software, and to permit persons to whom the\n",
        "# Software is furnished to do so, subject to the following conditions:\n",
        "#\n",
        "# The above copyright notice and this permission notice shall be included in\n",
        "# all copies or substantial portions of the Software.\n",
        "#\n",
        "# THE SOFTWARE IS PROVIDED \"AS IS\", WITHOUT WARRANTY OF ANY KIND, EXPRESS OR\n",
        "# IMPLIED, INCLUDING BUT NOT LIMITED TO THE WARRANTIES OF MERCHANTABILITY,\n",
        "# FITNESS FOR A PARTICULAR PURPOSE AND NONINFRINGEMENT. IN NO EVENT SHALL\n",
        "# THE AUTHORS OR COPYRIGHT HOLDERS BE LIABLE FOR ANY CLAIM, DAMAGES OR OTHER\n",
        "# LIABILITY, WHETHER IN AN ACTION OF CONTRACT, TORT OR OTHERWISE, ARISING\n",
        "# FROM, OUT OF OR IN CONNECTION WITH THE SOFTWARE OR THE USE OR OTHER\n",
        "# DEALINGS IN THE SOFTWARE."
      ],
      "execution_count": null,
      "outputs": []
    },
    {
      "cell_type": "markdown",
      "metadata": {
        "id": "EIdT9iu_Z4Rb"
      },
      "source": [
        "# Lev Droplet "
      ]
    },
    {
      "cell_type": "markdown",
      "metadata": {
        "id": "bBIlTPscrIT9"
      },
      "source": [
        "<table class=\"tfo-notebook-buttons\" align=\"left\">\n",
        "  <td>\n",
        "    <a target=\"_blank\" href=\"https://www.tensorflow.org/tutorials/keras/basic_regression\"><img src=\"https://www.tensorflow.org/images/tf_logo_32px.png\" />View on TensorFlow.org</a>\n",
        "  </td>\n",
        "  <td>\n",
        "    <a target=\"_blank\" href=\"https://colab.research.google.com/github/tensorflow/docs/blob/r2.0rc/site/en/tutorials/keras/basic_regression.ipynb\"><img src=\"https://www.tensorflow.org/images/colab_logo_32px.png\" />Run in Google Colab</a>\n",
        "  </td>\n",
        "  <td>\n",
        "    <a target=\"_blank\" href=\"https://github.com/tensorflow/docs/blob/r2.0rc/site/en/tutorials/keras/basic_regression.ipynb\"><img src=\"https://www.tensorflow.org/images/GitHub-Mark-32px.png\" />View source on GitHub</a>\n",
        "  </td>\n",
        "</table>"
      ]
    },
    {
      "cell_type": "markdown",
      "metadata": {
        "id": "AHp3M9ZmrIxj"
      },
      "source": [
        "NN for predicting ST from theoretical data based on the somple model"
      ]
    },
    {
      "cell_type": "code",
      "metadata": {
        "id": "j2J8YeLX2j7a",
        "colab": {
          "base_uri": "https://localhost:8080/"
        },
        "outputId": "46984c29-ffc6-4012-cb57-ac7b8468c062"
      },
      "source": [
        "!pip install lmfit\n",
        "# !pip install git+https://github.com/ulikoehler/UliEngineering.git\n"
      ],
      "execution_count": 1,
      "outputs": [
        {
          "output_type": "stream",
          "name": "stdout",
          "text": [
            "Requirement already satisfied: lmfit in /usr/local/lib/python3.7/dist-packages (1.0.2)\n",
            "Requirement already satisfied: scipy>=1.2 in /usr/local/lib/python3.7/dist-packages (from lmfit) (1.4.1)\n",
            "Requirement already satisfied: asteval>=0.9.16 in /usr/local/lib/python3.7/dist-packages (from lmfit) (0.9.25)\n",
            "Requirement already satisfied: numpy>=1.16 in /usr/local/lib/python3.7/dist-packages (from lmfit) (1.19.5)\n",
            "Requirement already satisfied: uncertainties>=3.0.1 in /usr/local/lib/python3.7/dist-packages (from lmfit) (3.1.6)\n",
            "Requirement already satisfied: future in /usr/local/lib/python3.7/dist-packages (from uncertainties>=3.0.1->lmfit) (0.16.0)\n"
          ]
        }
      ]
    },
    {
      "cell_type": "code",
      "metadata": {
        "id": "jyE0M3V99EdP",
        "scrolled": true,
        "colab": {
          "base_uri": "https://localhost:8080/"
        },
        "outputId": "b07e3565-d506-4404-f409-fd0a5472c7d9"
      },
      "source": [
        "import numpy as np\n",
        "#import cv2\n",
        "import os\n",
        "import re\n",
        "import glob\n",
        "import matplotlib.pyplot as plt\n",
        "from scipy.signal import  gaussian\n",
        "from scipy.ndimage import filters\n",
        "from scipy import optimize\n",
        "from scipy.stats import linregress\n",
        "from mpl_toolkits.mplot3d import Axes3D\n",
        "\n",
        "import seaborn as sns\n",
        "\n",
        "import scipy as sp\n",
        "import scipy.interpolate\n",
        "from scipy.integrate import trapz\n",
        "\n",
        "import time\n",
        "\n",
        "import pandas as pd\n",
        "\n",
        "from lmfit import Model, fit_report, Parameters\n",
        "\n",
        "#from __future__ import absolute_import, division, print_function, unicode_literals\n",
        "\n",
        "import pathlib\n",
        "\n",
        "import matplotlib.pyplot as plt\n",
        "import pandas as pd\n",
        "import seaborn as sns\n",
        "\n",
        "import tensorflow.compat.v1 as tf\n",
        "tf.disable_v2_behavior()  #!!! Why though? !!!\n",
        "\n",
        "import pprint\n",
        "import tensorflow as tf\n",
        "from tensorflow import keras\n",
        "from tensorflow.keras import layers\n",
        "from tensorflow.keras.callbacks import ModelCheckpoint\n",
        "import io\n",
        "\n",
        "# from UliEngineering.Math.Coordinates import BoundingBox\n",
        "\n",
        "print(tf.__version__)\n",
        "print(\"Num GPUs Available: \", len(tf.config.experimental.list_physical_devices('GPU')))\n",
        "\n",
        "\n",
        "######### initialize the data ###############\n",
        "data_input=[]\n",
        "data_output=[]\n",
        "l_sample=300\n",
        "vol_all=[]\n",
        "vol2_all=[]\n",
        "data_x=[]\n",
        "data_y=[]\n",
        "data_h=[]\n",
        "data_w=[]\n",
        "R_sph_all=[]\n",
        "Ar=[]\n",
        "#st_all=[]\n",
        "rho=[]\n",
        "theta=[]\n",
        "#List of non-processed images:\n",
        "discarded=[]\n",
        "new=[]  #list of images without the discarded ones\n",
        "\n",
        "#For the simple approach fit\n",
        "phi_final=[]\n",
        "theta_az=[]\n",
        "theta_all=[]\n",
        "theta_final=[]\n",
        "r_theta_all=[]\n",
        "xc_all=[]\n",
        "yc_all=[]\n",
        "rho_final=[]\n",
        "data_Ps=[]\n",
        "data_dB=[]\n",
        "data_stderr=[]\n",
        "data_err=[]\n",
        "\n",
        "total_num_pictures = len(glob.glob1('.',\"*.png\"))\n",
        "frame_number=np.arange(total_num_pictures)\n",
        "\n",
        "gamma=64 #[N/m]\n",
        "Cg_air=1/101325 #Pa**(-1)\n",
        "k_o=2*np.pi*40/340  #wave number in the air. frequency 40kHz (25kH=0.000040sec) and speed of sound in air v=340 m/s from paper (331.5 for 20oC online) \n",
        "#Calibration\n",
        "needle_d=0.83 #mm\n",
        "needle_pxl=220 #pixels\n",
        "#calibration=0.00621722846441948**3\n",
        "cal=needle_d/needle_pxl\n",
        "calibration=(cal)**3\n",
        "\n",
        "\n",
        "###############################################################################\n",
        "#### Functions used in the data processing ####################################\n",
        "###############################################################################\n",
        "\n",
        "def calc_volume(x,y):\n",
        "    \"\"\"\n",
        "    Calculate the drop volume from a shape matrix.\n",
        "\n",
        "    Parameters\n",
        "    ----------\n",
        "    x, y - contour of the drop\n",
        "\n",
        "    Returns\n",
        "    -------\n",
        "    Integrated volume using for the given shape matrix.\n",
        "\n",
        "    \"\"\"\n",
        "    # data selection\n",
        "    idx=x<=0  # r=right\n",
        "    x_l=x[idx]\n",
        "    y_l=y[idx]\n",
        "        \n",
        "    vol_left=trapz(np.pi*x_l**2, y_l)/2\n",
        "        \n",
        "    # data selection\n",
        "    idx=x>=0  # r=right\n",
        "    x_r=x[idx]\n",
        "    y_r=y[idx]\n",
        "    vol_right=-trapz(np.pi*x_r**2, y_r)/2\n",
        "   \n",
        "    return vol_left+vol_right\n",
        "\n",
        "\n",
        "def calc_R_sph(vol, cal):\n",
        "    \"\"\"\n",
        "    Calculate the spherical radius of a droplet based on the volume.\n",
        "\n",
        "    Input parameters\n",
        "    ----------\n",
        "    vol:         volume   [pixels**3]\n",
        "    calibration: calibration factor  [mm**3/pixels**3]\n",
        "\n",
        "    Returns\n",
        "    -------\n",
        "    Corresponding spherical radius.  [mm]\n",
        "\n",
        "    \"\"\"\n",
        "#    calibration=0.00621722846441948**3\n",
        "    #R_sph=(3*vol*calibration/(4*np.pi))**(1/3)\n",
        "    R_sph=(3*vol/(4*np.pi))**(1/3)\n",
        "    return R_sph\n",
        "\n",
        "def calc_dB(Ps):\n",
        "    \"\"\"\n",
        "    Calculate the deci Bell (dB) value for each acoustic pressure Ps.\n",
        "\n",
        "    Input parameters\n",
        "    ----------\n",
        "    Ps:     aplitude of the acoustic pressure\n",
        "\n",
        "    Returns\n",
        "    -------\n",
        "    dB value. []\n",
        "\n",
        "    \"\"\"\n",
        "    Po=2*10**(-5) #[Pa]\n",
        "\n",
        "    return 20*np.log10(Ps/Po)     #Acoustic pressure [Pa]\n",
        "\n",
        "def model_fit(th, Ps):\n",
        "    \"\"\"\n",
        "    Express the model that will be used to fit the experimental data (simple approach).\n",
        "\n",
        "    Input parameters\n",
        "    ----------\n",
        "    dB:     deciBell\n",
        "    th:     angle theta\n",
        "    Returns\n",
        "    -------\n",
        "    Expression of fitting model.\n",
        "\n",
        "    \"\"\"\n",
        "#    Ps=calc_ampl(dB)\n",
        "    ct_new=-((3/(64*gamma))*R_sph**2*Ps**2*Cg_air*(1+((7/5)*(k_o*R_sph)**2)))\n",
        "    return ct_new*(3*(np.cos(th))**2-1)+R_sph\n",
        "\n",
        "\n",
        "def R_predict(th, gamma, R_sph, Ps, Cg_air, k_o):\n",
        "    \"\"\"\n",
        "    Prediction of ST. \n",
        "    After the acoustic pressure is determined. The ST is calculated based on the equation of our model. \n",
        "    \n",
        "    \n",
        "    Input parameters\n",
        "    ----------\n",
        "    th:     angle theta\n",
        "    gamma:  ST as initial predition [mN/m]\n",
        "    Power:  U*I [Watt]\n",
        "    Returns\n",
        "    -------\n",
        "    gamma:   predicted surface tension [mN/m]\n",
        "\n",
        "    \"\"\"    \n",
        "#    Ps=data_Ps[i-1]    #[Pa]\n",
        "    ct_new=-((3/(64*gamma))*R_sph**2*Ps**2*Cg_air*(1+((7/5)*(k_o*R_sph)**2)))*(3*(np.cos(th))**2-1)\n",
        "    return ct_new+R_sph\n",
        "\n",
        "def ST_predict(th, gamma, R_sph, Ps, Cg_air, k_o):\n",
        "    \"\"\"\n",
        "    Prediction of ST. \n",
        "    After the acoustic pressure is determined. The ST is calculated based on the equation of our model. \n",
        "    \n",
        "    \n",
        "    Input parameters\n",
        "    ----------\n",
        "    th:     angle theta\n",
        "    gamma:  ST as initial predition [mN/m]\n",
        "    Power:  U*I [Watt]\n",
        "    Returns\n",
        "    -------\n",
        "    gamma:   predicted surface tension [mN/m]\n",
        "\n",
        "    \"\"\"    \n",
        "#    Ps=data_Ps[i-1]    #[Pa]\n",
        "    ct_new=-((3/(64*gamma))*R_sph**2*Ps**2*Cg_air*(1+((7/5)*(k_o*R_sph)**2)))*(3*(np.cos(th))**2-1)\n",
        "    return ct_new+R_sph\n",
        "\n",
        "\n",
        "def azimuth(phi):\n",
        "    \"\"\"\n",
        "    Calculate the azimuthal angle.\n",
        "\n",
        "    Input parameters\n",
        "    ----------\n",
        "    phi:     angle phi\n",
        "\n",
        "    Returns\n",
        "    -------\n",
        "    Azimuthal angle.\n",
        "\n",
        "    \"\"\"\n",
        "\n",
        "    a=np.arctan2(x, y)\n",
        "    return a\n",
        "\n",
        "\n",
        "def cart2pol(x, y):\n",
        "    rho = np.sqrt(x**2 + y**2)\n",
        "    theta = np.arctan2(y, x)\n",
        "    return(theta, rho)\n",
        "\n",
        "def pol2cart(rho, phi):\n",
        "    x = rho * np.cos(phi)\n",
        "    y = rho * np.sin(phi)\n",
        "    return(x, y)\n",
        "\n",
        "\n",
        "def pol2cart_theta(rho, theta):\n",
        "    x = rho * np.sin(theta)\n",
        "    y = rho * np.cos(theta)\n",
        "    return(x, y)"
      ],
      "execution_count": 2,
      "outputs": [
        {
          "output_type": "stream",
          "name": "stdout",
          "text": [
            "WARNING:tensorflow:From /usr/local/lib/python3.7/dist-packages/tensorflow/python/compat/v2_compat.py:101: disable_resource_variables (from tensorflow.python.ops.variable_scope) is deprecated and will be removed in a future version.\n",
            "Instructions for updating:\n",
            "non-resource variables are not supported in the long term\n",
            "2.6.0\n",
            "Num GPUs Available:  0\n"
          ]
        }
      ]
    },
    {
      "cell_type": "markdown",
      "metadata": {
        "id": "TvCBPgR-gWXl"
      },
      "source": [
        "Run the next code box only if google drive is not mounted to colab"
      ]
    },
    {
      "cell_type": "code",
      "metadata": {
        "id": "7dA-joJRPNiJ",
        "colab": {
          "base_uri": "https://localhost:8080/"
        },
        "outputId": "e16c2aa1-27ca-4a5f-be1a-8327dca8705b"
      },
      "source": [
        "from google.colab import drive\n",
        "drive.mount('/content/drive')"
      ],
      "execution_count": 3,
      "outputs": [
        {
          "output_type": "stream",
          "name": "stdout",
          "text": [
            "Drive already mounted at /content/drive; to attempt to forcibly remount, call drive.mount(\"/content/drive\", force_remount=True).\n"
          ]
        }
      ]
    },
    {
      "cell_type": "markdown",
      "metadata": {
        "id": "lMshRx3PgwcZ"
      },
      "source": [
        "If it **is** mounted continue from here on"
      ]
    },
    {
      "cell_type": "code",
      "metadata": {
        "id": "3IEVK-KFxi5Z",
        "colab": {
          "base_uri": "https://localhost:8080/",
          "height": 33
        },
        "outputId": "ba33ea5d-b33e-4183-8c24-d14ed082a120"
      },
      "source": [
        "if 'COLAB_TPU_ADDR' not in os.environ:\n",
        "  print('ERROR: Not connected to a TPU runtime; please see the first cell in this notebook for instructions!')\n",
        "else:\n",
        "  tpu_address = 'grpc://' + os.environ['COLAB_TPU_ADDR']\n",
        "  print ('TPU address is', tpu_address)\n",
        "\n",
        "  with tf.Session(tpu_address) as session:\n",
        "    devices = session.list_devices()\n",
        "    \n",
        "  print('TPU devices:')\n",
        "  pprint.pprint(devices)"
      ],
      "execution_count": null,
      "outputs": [
        {
          "output_type": "stream",
          "text": [
            "ERROR: Not connected to a TPU runtime; please see the first cell in this notebook for instructions!\n"
          ],
          "name": "stdout"
        }
      ]
    },
    {
      "cell_type": "markdown",
      "metadata": {
        "id": "gFh9ne3FZ-On"
      },
      "source": [
        "### Get the data\n",
        "First download the dataset!\n",
        "\n",
        "**Option 1**: Upload files"
      ]
    },
    {
      "cell_type": "code",
      "metadata": {
        "id": "K7-5GSURZTdh"
      },
      "source": [
        "from google.colab import files\n",
        "uploaded = files.upload()"
      ],
      "execution_count": null,
      "outputs": []
    },
    {
      "cell_type": "code",
      "metadata": {
        "id": "l83INVYlZsND"
      },
      "source": [
        "import io\n",
        "csvfilename=str('TritonX100_conci_0.0100_all.csv')\n",
        "input = pd.read_csv(io.BytesIO(uploaded[csvfilename]))\n",
        "#input = pd.read_csv(csvfilename, sep=\"\\t\")\n",
        "# Dataset is now stored in a Pandas Dataframe\n",
        "input.shape"
      ],
      "execution_count": null,
      "outputs": []
    },
    {
      "cell_type": "markdown",
      "metadata": {
        "id": "WCobdL9vDRXH"
      },
      "source": [
        "**Option 2**: Import files from drive"
      ]
    },
    {
      "cell_type": "code",
      "metadata": {
        "id": "Z-NFT5ddEOdC",
        "colab": {
          "base_uri": "https://localhost:8080/",
          "height": 33
        },
        "outputId": "7b68735f-3205-497b-e838-d8a0643b6b47"
      },
      "source": [
        "#From the drive folder that is mounted to collab go to the file that you are interested in, \n",
        "#right click and copy the path of the file. Paste it in csvfilename:\n",
        "import numpy as np\n",
        "file1=pd.read_csv(str('/content/drive/My Drive/DropLev/Theory_simple_model/volatile_solvents/MLtheory_ST_20.00_Ps_2882.0.csv'), sep=\"\\t\")\n",
        "file2=pd.read_csv(str('/content/drive/My Drive/DropLev/Theory_simple_model/volatile_solvents/MLtheory_ST_22.00_Ps_2882.0.csv'), sep=\"\\t\")\n",
        "file3=pd.read_csv(str('/content/drive/My Drive/DropLev/Theory_simple_model/volatile_solvents/MLtheory_ST_25.00_Ps_2882.0.csv'), sep=\"\\t\")\n",
        "file4=pd.read_csv(str('/content/drive/My Drive/DropLev/Theory_simple_model/volatile_solvents/MLtheory_ST_27.00_Ps_2882.0.csv'), sep=\"\\t\")\n",
        "file5=pd.read_csv(str('/content/drive/My Drive/DropLev/Theory_simple_model/volatile_solvents/MLtheory_ST_30.00_Ps_2882.0.csv'), sep=\"\\t\")\n",
        "file6=pd.read_csv(str('/content/drive/My Drive/DropLev/Theory_simple_model/volatile_solvents/MLtheory_ST_32.00_Ps_2882.0.csv'), sep=\"\\t\")\n",
        "file7=pd.read_csv(str('/content/drive/My Drive/DropLev/Theory_simple_model/volatile_solvents/MLtheory_ST_35.00_Ps_2882.0.csv'), sep=\"\\t\")\n",
        "file8=pd.read_csv(str('/content/drive/My Drive/DropLev/Theory_simple_model/volatile_solvents/MLtheory_ST_40.00_Ps_2882.0.csv'), sep=\"\\t\")\n",
        "file9=pd.read_csv(str('/content/drive/My Drive/DropLev/Theory_simple_model/volatile_solvents/MLtheory_ST_45.00_Ps_2882.0.csv'), sep=\"\\t\")\n",
        "file10=pd.read_csv(str('/content/drive/My Drive/DropLev/Theory_simple_model/volatile_solvents/MLtheory_ST_50.00_Ps_2882.0.csv'), sep=\"\\t\")\n",
        "file11=pd.read_csv(str('/content/drive/My Drive/DropLev/Theory_simple_model/volatile_solvents/MLtheory_ST_55.00_Ps_2882.0.csv'), sep=\"\\t\")\n",
        "file12=pd.read_csv(str('/content/drive/My Drive/DropLev/Theory_simple_model/volatile_solvents/MLtheory_ST_60.00_Ps_2882.0.csv'), sep=\"\\t\")\n",
        "file13=pd.read_csv(str('/content/drive/My Drive/DropLev/Theory_simple_model/volatile_solvents/MLtheory_ST_65.00_Ps_2882.0.csv'), sep=\"\\t\")\n",
        "file14=pd.read_csv(str('/content/drive/My Drive/DropLev/Theory_simple_model/volatile_solvents/MLtheory_ST_70.00_Ps_2882.0.csv'), sep=\"\\t\")\n",
        "file15=pd.read_csv(str('/content/drive/My Drive/DropLev/Theory_simple_model/volatile_solvents/MLtheory_ST_72.00_Ps_2882.0.csv'), sep=\"\\t\")\n",
        "file16=pd.read_csv(str('/content/drive/My Drive/DropLev/Theory_simple_model/non_volatile_solvents/MLtheory_ST_20.00_Rsph_0.54.csv'), sep=\"\\t\")\n",
        "file17=pd.read_csv(str('/content/drive/My Drive/DropLev/Theory_simple_model/non_volatile_solvents/MLtheory_ST_22.00_Rsph_0.67.csv'), sep=\"\\t\")\n",
        "file18=pd.read_csv(str('/content/drive/My Drive/DropLev/Theory_simple_model/non_volatile_solvents/MLtheory_ST_25.00_Rsph_0.59.csv'), sep=\"\\t\")\n",
        "file19=pd.read_csv(str('/content/drive/My Drive/DropLev/Theory_simple_model/non_volatile_solvents/MLtheory_ST_25.00_Rsph_0.67.csv'), sep=\"\\t\")\n",
        "file20=pd.read_csv(str('/content/drive/My Drive/DropLev/Theory_simple_model/non_volatile_solvents/MLtheory_ST_30.00_Rsph_0.67.csv'), sep=\"\\t\")\n",
        "file21=pd.read_csv(str('/content/drive/My Drive/DropLev/Theory_simple_model/non_volatile_solvents/MLtheory_ST_35.00_Rsph_0.67.csv'), sep=\"\\t\")\n",
        "file22=pd.read_csv(str('/content/drive/My Drive/DropLev/Theory_simple_model/non_volatile_solvents/MLtheory_ST_40.00_Rsph_0.80.csv'), sep=\"\\t\")\n",
        "file23=pd.read_csv(str('/content/drive/My Drive/DropLev/Theory_simple_model/non_volatile_solvents/MLtheory_ST_45.00_Rsph_0.94.csv'), sep=\"\\t\")\n",
        "file24=pd.read_csv(str('/content/drive/My Drive/DropLev/Theory_simple_model/non_volatile_solvents/MLtheory_ST_50.00_Rsph_1.07.csv'), sep=\"\\t\")\n",
        "file25=pd.read_csv(str('/content/drive/My Drive/DropLev/Theory_simple_model/non_volatile_solvents/MLtheory_ST_55.00_Rsph_1.21.csv'), sep=\"\\t\")\n",
        "file26=pd.read_csv(str('/content/drive/My Drive/DropLev/Theory_simple_model/non_volatile_solvents/MLtheory_ST_60.00_Rsph_1.34.csv'), sep=\"\\t\")\n",
        "file27=pd.read_csv(str('/content/drive/My Drive/DropLev/Theory_simple_model/non_volatile_solvents/MLtheory_ST_65.00_Rsph_1.45.csv'), sep=\"\\t\")\n",
        "file28=pd.read_csv(str('/content/drive/My Drive/DropLev/Theory_simple_model/non_volatile_solvents/MLtheory_ST_65.00_Rsph_1.47.csv'), sep=\"\\t\")\n",
        "file29=pd.read_csv(str('/content/drive/My Drive/DropLev/Theory_simple_model/non_volatile_solvents/MLtheory_ST_70.00_Rsph_1.61.csv'), sep=\"\\t\")\n",
        "file30=pd.read_csv(str('/content/drive/My Drive/DropLev/Theory_simple_model/non_volatile_solvents/MLtheory_ST_72.00_Rsph_1.61.csv'), sep=\"\\t\")\n",
        "\n",
        "#input=np.vstack([file1, file2, file3, file4, file5, file6, file7, file8, file9, file10, file11, file12, file13, file14, file15])\n",
        "#input=np.vstack([file16, file17, file18, file19, file20, file21, file22, file23, file24, file25, file26, file27, file28, file29, file30])\n",
        "input=np.vstack([file1, file2, file16])\n",
        "input.shape\n",
        "#csvfilename=str('/content/drive/My Drive/DropLev/Levitator_2/Training/SDS/SDS_conci_1.50000_ML_data.csv')\n",
        "\n",
        "#input = pd.read_csv(csvfilename)\n"
      ],
      "execution_count": null,
      "outputs": [
        {
          "output_type": "execute_result",
          "data": {
            "text/plain": [
              "(297, 304)"
            ]
          },
          "metadata": {
            "tags": []
          },
          "execution_count": 281
        }
      ]
    },
    {
      "cell_type": "markdown",
      "metadata": {
        "id": "0dQzS1gV1jC1"
      },
      "source": [
        "**Option 3**: Generate the data"
      ]
    },
    {
      "cell_type": "markdown",
      "metadata": {
        "id": "lsGCO8nDUAlJ"
      },
      "source": [
        "Generate random angle:\n",
        "20 000 sets of 200 points"
      ]
    },
    {
      "cell_type": "code",
      "metadata": {
        "id": "k2AMjiCZT_5m",
        "colab": {
          "base_uri": "https://localhost:8080/",
          "height": 1000
        },
        "outputId": "2def0c47-2111-4865-c6df-0caa2945071e"
      },
      "source": [
        "def gen_data(num_sample,sampling):\n",
        "\n",
        "    np.random.seed(1234)\n",
        "\n",
        "    #test=np.arange(100)\n",
        "    #test_r=np.random.choice(test,10)\n",
        "\n",
        "    vol_drop=np.random.random(num_sample)*(2.5-0.5)+0.5 # in µL\n",
        "    calibration=1 #0.0060567117466506235e-3 #mm/pixel\n",
        "  \n",
        "    #gamma=72.8 #[mN/m]   \n",
        "    Cg_air=1/101325 #Pa**(-1)\n",
        "    k_o=2*np.pi*40/343  #wave number in the air in [mm^-1]. frequency 40kHz (25kH=0.000040sec) and speed of sound in air v=343 m/s from paper (331.5 for 20oC online) \n",
        "    #Calibration\n",
        "    Ps= np.random.random(num_sample)*(4000-2000)+2000  #[Pa]\n",
        "    R_sph=calc_R_sph(vol_drop, calibration)\n",
        "\n",
        "    # print(\"Radius in mm: \", R_sph)\n",
        "    \n",
        "    #num_sample=200  #ST\n",
        "    #sampling=200\n",
        "\n",
        "    #theta=np.linspace(0,2*np.pi, 100)\n",
        "\n",
        "    #theta=np.random.random(200)*2*np.pi\n",
        "    theta=np.random.rand(num_sample, sampling)*2*np.pi\n",
        "    theta.sort()\n",
        "    ST_range=np.random.random(num_sample)*(75-25)+25\n",
        "    # print(theta.shape)\n",
        "    r_all=np.empty([0,sampling])\n",
        "    # print(r_all.shape)\n",
        "\n",
        "    if type(R_sph)==float and type(Ps)==float:\n",
        "      for i in range(num_sample):\n",
        "        r=R_predict(theta[i], ST_range[i], R_sph, Ps, Cg_air, k_o)\n",
        "        r_all=np.vstack((r_all, r))\n",
        "      \n",
        "      if i % 1000 == 0:\n",
        "        print(i)\n",
        "    elif type(R_sph)==float and type(Ps)!=float:\n",
        "      for i in range(num_sample):\n",
        "        r=R_predict(theta[i], ST_range[i], R_sph, Ps[i], Cg_air, k_o)\n",
        "        r_all=np.vstack((r_all, r))\n",
        "        \n",
        "      if i % 1000 == 0:\n",
        "        print(i)\n",
        "    elif type(R_sph)!=float and type(Ps)==float:\n",
        "      for i in range(num_sample):\n",
        "        r=R_predict(theta[i], ST_range[i], R_sph[i], Ps, Cg_air, k_o)\n",
        "        r_all=np.vstack((r_all, r))\n",
        "      \n",
        "      if i % 1000 == 0:\n",
        "        print(i)\n",
        "    elif type(R_sph)!=float and type(Ps)!=float:\n",
        "      for i in range(num_sample):\n",
        "        r=R_predict(theta[i], ST_range[i], R_sph[i], Ps[i], Cg_air, k_o)\n",
        "          #print(r.shape)\n",
        "          #print(r)\n",
        "        r_all=np.vstack((r_all, r))\n",
        "\n",
        "    dataset=np.hstack((theta,r_all, vol_drop.reshape([num_sample,1]), Ps.reshape([num_sample,1]), ST_range.reshape([num_sample,1])))\n",
        "    print(dataset.shape)\n",
        "\n",
        "    if i % 1000 == 0:\n",
        "      print(i)\n",
        "        \n",
        "\n",
        "    # print(r_all.shape)\n",
        "\n",
        "    #print(ST_range)\n",
        "    print(ST_range.min())\n",
        "    print(ST_range.max())\n",
        "    #sns.set(color_codes=True)\n",
        "    plt.figure()\n",
        "    sns.distplot(ST_range, norm_hist=True, kde=False)\n",
        "    plt.xlabel('Surface tension (mN/m)')\n",
        "    plt.ylabel('Probability density')\n",
        "\n",
        "    if type(vol_drop) != float:\n",
        "      plt.figure()\n",
        "      sns.distplot(vol_drop, norm_hist=True, kde=False)\n",
        "      plt.xlabel('Volume (μL)')\n",
        "    plt.ylabel('Probability density')\n",
        "\n",
        "    if type(Ps) != float:\n",
        "      plt.figure()\n",
        "      sns.distplot(Ps, norm_hist=True, kde=False)\n",
        "      plt.xlabel('Acoustic pressure (Pa)')\n",
        "    plt.ylabel('Probability density')\n",
        "\n",
        "    fig3 = plt.figure()\n",
        "    plt.xlabel('Cartesian y-axis (mm)')\n",
        "    plt.ylabel('Cartesian z-axis (mm)')\n",
        "    ax = plt.gca()\n",
        "    ax.set_aspect(1)\n",
        "    ax.set_xlim([-1.5,1.5])\n",
        "    ax.set_ylim([-1.5,1.5])\n",
        "\n",
        "    for j in dataset:\n",
        "      x,y=pol2cart_theta(j[sampling:sampling+sampling], j[0:sampling])\n",
        "    #  print(x.shape)\n",
        "    #  print(y.shape)\n",
        "      plt.plot(x,y)\n",
        "    plt.show()\n",
        "\n",
        "\n",
        "    return dataset\n",
        "\n",
        "num_sample=50000  # number of different ST values\n",
        "sampling=175 # number of coordiante point describing the contour\n",
        "\n",
        "\n",
        "dataset=gen_data(num_sample,sampling)\n",
        "\n",
        "\n",
        "column_names=[]\n",
        "for i in range(sampling):\n",
        "  column_names.append('theta')\n",
        "for i in range(sampling):\n",
        "  column_names.append('rho')\n",
        "column_names.append('vol')\n",
        "column_names.append('Ps')\n",
        "column_names.append('ST')\n",
        "\n",
        "\n",
        "raw_dataset = pd.DataFrame(dataset, columns=column_names)\n",
        "\n",
        "raw_dataset.to_csv('./dataset.csv',index=False)\n"
      ],
      "execution_count": 4,
      "outputs": [
        {
          "output_type": "stream",
          "name": "stdout",
          "text": [
            "(50000, 353)\n",
            "25.00011464340881\n",
            "74.99952539489948\n"
          ]
        },
        {
          "output_type": "stream",
          "name": "stderr",
          "text": [
            "/usr/local/lib/python3.7/dist-packages/seaborn/distributions.py:2619: FutureWarning: `distplot` is a deprecated function and will be removed in a future version. Please adapt your code to use either `displot` (a figure-level function with similar flexibility) or `histplot` (an axes-level function for histograms).\n",
            "  warnings.warn(msg, FutureWarning)\n"
          ]
        },
        {
          "output_type": "display_data",
          "data": {
            "image/png": "[encoded data removed]",
            "text/plain": [
              "<Figure size 432x288 with 1 Axes>"
            ]
          },
          "metadata": {
            "needs_background": "light"
          }
        },
        {
          "output_type": "display_data",
          "data": {
            "image/png": "[encoded data removed]",
            "text/plain": [
              "<Figure size 432x288 with 1 Axes>"
            ]
          },
          "metadata": {
            "needs_background": "light"
          }
        },
        {
          "output_type": "display_data",
          "data": {
            "image/png": "[encoded data removed]",
            "text/plain": [
              "<Figure size 432x288 with 1 Axes>"
            ]
          },
          "metadata": {
            "needs_background": "light"
          }
        },
        {
          "output_type": "display_data",
          "data": {
            "image/png": "[encoded data removed]",
            "text/plain": [
              "<Figure size 432x288 with 1 Axes>"
            ]
          },
          "metadata": {
            "needs_background": "light"
          }
        }
      ]
    },
    {
      "cell_type": "code",
      "metadata": {
        "id": "h4eDSfaT8tNi"
      },
      "source": [
        "# dataset = raw_dataset.copy()\n",
        "\n",
        "# dataset.tail()\n"
      ],
      "execution_count": null,
      "outputs": []
    },
    {
      "cell_type": "code",
      "metadata": {
        "id": "CLXi05SX5UHR"
      },
      "source": [
        "AR=[]\n",
        "width=[]\n",
        "# plt.figure()\n",
        "for j in range(num_sample):\n",
        "  x,y=pol2cart_theta(np.asarray(raw_dataset.iloc[j, sampling:sampling+sampling]), np.asarray(raw_dataset.iloc[j, 0:sampling]))\n",
        "  # plt.plot(x, y)\n",
        "  # plt.plot(max(x), 0, 'ko')\n",
        "  # plt.plot(min(x), 0, 'ko')\n",
        "  # plt.plot(max(y), 'ko')\n",
        "  # plt.plot(min(y), 'ko')\n",
        "    # print(x)\n",
        "  AR.append(abs(max(y)-min(y))/abs(max(x)-min(x)))\n",
        "  width.append(max(x)-min(x))\n",
        "\n",
        "AR=np.asarray(AR)\n",
        "width=np.asarray(width)\n",
        "raw_dataset['AR']=AR"
      ],
      "execution_count": 5,
      "outputs": []
    },
    {
      "cell_type": "markdown",
      "metadata": {
        "id": "l_mOUIChDhDB"
      },
      "source": [
        "Conditions"
      ]
    },
    {
      "cell_type": "code",
      "metadata": {
        "id": "62WZnE_f3TW7",
        "colab": {
          "base_uri": "https://localhost:8080/",
          "height": 1000
        },
        "outputId": "7c4492bb-d200-41f3-ecdc-b69e842c5396"
      },
      "source": [
        "# radius < 1/10 of operating wavelegth 40 kHz\n",
        "\n",
        "wavelength_lim = 343 / 40 # [mm] \n",
        "radius=width/2\n",
        "\n",
        "raw_dataset['radius']=radius\n",
        "\n",
        "plt.figure()\n",
        "plt.plot(radius, label='In silico data')\n",
        "plt.plot(range(len(raw_dataset)), np.repeat(wavelength_lim*0.1, len(raw_dataset)), 'r', label='Wavelength limit')\n",
        "plt.xlabel('Instance')\n",
        "plt.ylabel('Radius (mm)')\n",
        "plt.legend()\n",
        "\n",
        "pre_rslt_dataset= raw_dataset[raw_dataset['radius'] < wavelength_lim*0.1]\n",
        "\n",
        "plt.figure()\n",
        "plt.plot(pre_rslt_dataset.radius, label='In silico data')\n",
        "plt.plot(range(len(raw_dataset)), np.repeat(wavelength_lim*0.1, len(raw_dataset)), 'r', label='Wavelength limit')\n",
        "plt.xlabel('Instance')\n",
        "plt.ylabel('Radius (mm)')\n",
        "plt.legend()\n",
        "\n",
        "# Capillary length check\n",
        "\n",
        "lambda_c=np.sqrt(pre_rslt_dataset.ST/9.81)\n",
        "volume_c=(4/3)*np.pi*(lambda_c/2)**3\n",
        "\n",
        "rslt_dataset= pre_rslt_dataset[pre_rslt_dataset['vol'] <= volume_c*0.7]\n",
        "\n",
        "plt.figure()\n",
        "plt.plot(pre_rslt_dataset.ST, volume_c)\n",
        "plt.plot(pre_rslt_dataset.ST, pre_rslt_dataset.vol)\n",
        "plt.xlabel('Surface tension (mN/m)')\n",
        "plt.ylabel('Volume (μL)')\n",
        "\n",
        "plt.figure()\n",
        "plt.plot(pre_rslt_dataset.ST, volume_c)\n",
        "plt.plot(rslt_dataset.ST, rslt_dataset.vol)\n",
        "plt.xlabel('Surface tension (mN/m)')\n",
        "plt.ylabel('Volume (μL)')\n",
        "\n",
        "#Aspect ratio\n",
        "Ar_limit=0.6\n",
        "\n",
        "final_dataset= rslt_dataset[rslt_dataset['AR'] > Ar_limit]\n",
        "\n",
        "plt.figure()  \n",
        "plt.plot(rslt_dataset.AR)\n",
        "plt.plot(range(len(raw_dataset)), np.repeat(Ar_limit, len(raw_dataset)), 'r')\n",
        "plt.xlabel('Instances')\n",
        "plt.ylabel('Aspect ratio')\n",
        "\n",
        "plt.figure()  \n",
        "plt.plot(final_dataset.AR)\n",
        "plt.plot(range(len(raw_dataset)), np.repeat(Ar_limit, len(raw_dataset)), 'r')\n",
        "plt.xlabel('Instances')\n",
        "plt.ylabel('Aspect ratio')\n"
      ],
      "execution_count": 16,
      "outputs": [
        {
          "output_type": "execute_result",
          "data": {
            "text/plain": [
              "Text(0, 0.5, 'Aspect ratio')"
            ]
          },
          "metadata": {},
          "execution_count": 16
        },
        {
          "output_type": "display_data",
          "data": {
            "image/png": "[encoded data removed]",
            "text/plain": [
              "<Figure size 432x288 with 1 Axes>"
            ]
          },
          "metadata": {
            "needs_background": "light"
          }
        },
        {
          "output_type": "display_data",
          "data": {
            "image/png": "[encoded data removed]",
            "text/plain": [
              "<Figure size 432x288 with 1 Axes>"
            ]
          },
          "metadata": {
            "needs_background": "light"
          }
        },
        {
          "output_type": "display_data",
          "data": {
            "image/png": "[encoded data removed]",
            "text/plain": [
              "<Figure size 432x288 with 1 Axes>"
            ]
          },
          "metadata": {
            "needs_background": "light"
          }
        },
        {
          "output_type": "display_data",
          "data": {
            "image/png": "[encoded data removed]",
            "text/plain": [
              "<Figure size 432x288 with 1 Axes>"
            ]
          },
          "metadata": {
            "needs_background": "light"
          }
        },
        {
          "output_type": "display_data",
          "data": {
            "image/png": "[encoded data removed]",
            "text/plain": [
              "<Figure size 432x288 with 1 Axes>"
            ]
          },
          "metadata": {
            "needs_background": "light"
          }
        },
        {
          "output_type": "display_data",
          "data": {
            "image/png": "[encoded data removed]",
            "text/plain": [
              "<Figure size 432x288 with 1 Axes>"
            ]
          },
          "metadata": {
            "needs_background": "light"
          }
        }
      ]
    },
    {
      "cell_type": "code",
      "metadata": {
        "id": "NWe6682bVObn",
        "outputId": "351544a8-9623-4963-f2dd-de2c5c3db6e3",
        "colab": {
          "base_uri": "https://localhost:8080/",
          "height": 1000
        }
      },
      "source": [
        "#New data distribution\n",
        "plt.figure()\n",
        "sns.distplot(final_dataset.ST, norm_hist=True, kde=False)\n",
        "plt.xlabel('Surface tension (mN/m)')\n",
        "plt.ylabel('Probability density')\n",
        "\n",
        "plt.figure()\n",
        "sns.distplot(final_dataset.vol, norm_hist=True, kde=False)\n",
        "plt.xlabel('Volume (μL)')\n",
        "plt.ylabel('Probability density')\n",
        "\n",
        "plt.figure()\n",
        "sns.distplot(final_dataset.Ps, norm_hist=True, kde=False)\n",
        "plt.xlabel('Acoustic pressure (Pa)')\n",
        "plt.ylabel('Probability density')\n",
        "\n",
        "fig, ax = plt.subplots()\n",
        "plt.xlabel('Cartesian y-axis (mm)')\n",
        "plt.ylabel('Cartesian z-axis (mm)')\n",
        "ax = plt.gca()\n",
        "ax.set_aspect(1)\n",
        "ax.set_xlim([-1.5,1.5])\n",
        "ax.set_ylim([-1.5,1.5])\n",
        "for j in range(len(dataset)):\n",
        "  try:\n",
        "    x,y=pol2cart_theta(np.asarray(final_dataset.iloc[j, sampling:sampling+sampling]), np.asarray(final_dataset.iloc[j, 0:sampling]))\n",
        "    plt.plot(x, y)\n",
        "  except:\n",
        "    j=j+1\n",
        "\n",
        "\n",
        "\n"
      ],
      "execution_count": 45,
      "outputs": [
        {
          "output_type": "stream",
          "name": "stderr",
          "text": [
            "/usr/local/lib/python3.7/dist-packages/seaborn/distributions.py:2619: FutureWarning: `distplot` is a deprecated function and will be removed in a future version. Please adapt your code to use either `displot` (a figure-level function with similar flexibility) or `histplot` (an axes-level function for histograms).\n",
            "  warnings.warn(msg, FutureWarning)\n"
          ]
        },
        {
          "output_type": "display_data",
          "data": {
            "image/png": "[encoded data removed]",
            "text/plain": [
              "<Figure size 432x288 with 1 Axes>"
            ]
          },
          "metadata": {
            "needs_background": "light"
          }
        },
        {
          "output_type": "display_data",
          "data": {
            "image/png": "[encoded data removed]",
            "text/plain": [
              "<Figure size 432x288 with 1 Axes>"
            ]
          },
          "metadata": {
            "needs_background": "light"
          }
        },
        {
          "output_type": "display_data",
          "data": {
            "image/png": "[encoded data removed]",
            "text/plain": [
              "<Figure size 432x288 with 1 Axes>"
            ]
          },
          "metadata": {
            "needs_background": "light"
          }
        },
        {
          "output_type": "display_data",
          "data": {
            "image/png": "[encoded data removed]",
            "text/plain": [
              "<Figure size 432x288 with 1 Axes>"
            ]
          },
          "metadata": {
            "needs_background": "light"
          }
        }
      ]
    },
    {
      "cell_type": "code",
      "metadata": {
        "id": "EECj46vUdLdv",
        "outputId": "ebb42650-c5d3-4c88-8195-312e8826f5a1",
        "colab": {
          "base_uri": "https://localhost:8080/",
          "height": 283
        }
      },
      "source": [
        "\n",
        "fig, ax = plt.subplots()\n",
        "plt.xlabel('Cartesian y-axis (mm)')\n",
        "plt.ylabel('Cartesian z-axis (mm)')\n",
        "ax = plt.gca()\n",
        "ax.set_aspect(1)\n",
        "ax.set_xlim([-1.5,1.5])\n",
        "ax.set_ylim([-1.5,1.5])\n",
        "for j in range(len(dataset)):\n",
        "  try:\n",
        "    x,y=pol2cart_theta(np.asarray(final_dataset.iloc[j, sampling:sampling+sampling]), np.asarray(final_dataset.iloc[j, 0:sampling]))\n",
        "    plt.plot(x, y)\n",
        "  except:\n",
        "    j=j+1\n",
        "plt.savefig('contours', dpi=300, format='pdf')"
      ],
      "execution_count": 47,
      "outputs": [
        {
          "output_type": "display_data",
          "data": {
            "image/png": "[encoded data removed]",
            "text/plain": [
              "<Figure size 432x288 with 1 Axes>"
            ]
          },
          "metadata": {
            "needs_background": "light"
          }
        }
      ]
    },
    {
      "cell_type": "code",
      "metadata": {
        "id": "o0-aC3nOMpIp",
        "colab": {
          "base_uri": "https://localhost:8080/",
          "height": 253
        },
        "outputId": "386d486f-7176-49b9-e6c7-b700d3d05e2d"
      },
      "source": [
        "# dataset=rslt_dataset.copy()\n",
        "\n",
        "dataset=final_dataset.reset_index(drop=True)\n",
        "\n",
        "dataset.tail()"
      ],
      "execution_count": 18,
      "outputs": [
        {
          "output_type": "execute_result",
          "data": {
            "text/html": [
              "<div>\n",
              "<style scoped>\n",
              "    .dataframe tbody tr th:only-of-type {\n",
              "        vertical-align: middle;\n",
              "    }\n",
              "\n",
              "    .dataframe tbody tr th {\n",
              "        vertical-align: top;\n",
              "    }\n",
              "\n",
              "    .dataframe thead th {\n",
              "        text-align: right;\n",
              "    }\n",
              "</style>\n",
              "<table border=\"1\" class=\"dataframe\">\n",
              "  <thead>\n",
              "    <tr style=\"text-align: right;\">\n",
              "      <th></th>\n",
              "      <th>theta</th>\n",
              "      <th>theta</th>\n",
              "      <th>theta</th>\n",
              "      <th>theta</th>\n",
              "      <th>theta</th>\n",
              "      <th>theta</th>\n",
              "      <th>theta</th>\n",
              "      <th>theta</th>\n",
              "      <th>theta</th>\n",
              "      <th>theta</th>\n",
              "      <th>theta</th>\n",
              "      <th>theta</th>\n",
              "      <th>theta</th>\n",
              "      <th>theta</th>\n",
              "      <th>theta</th>\n",
              "      <th>theta</th>\n",
              "      <th>theta</th>\n",
              "      <th>theta</th>\n",
              "      <th>theta</th>\n",
              "      <th>theta</th>\n",
              "      <th>theta</th>\n",
              "      <th>theta</th>\n",
              "      <th>theta</th>\n",
              "      <th>theta</th>\n",
              "      <th>theta</th>\n",
              "      <th>theta</th>\n",
              "      <th>theta</th>\n",
              "      <th>theta</th>\n",
              "      <th>theta</th>\n",
              "      <th>theta</th>\n",
              "      <th>theta</th>\n",
              "      <th>theta</th>\n",
              "      <th>theta</th>\n",
              "      <th>theta</th>\n",
              "      <th>theta</th>\n",
              "      <th>theta</th>\n",
              "      <th>theta</th>\n",
              "      <th>theta</th>\n",
              "      <th>theta</th>\n",
              "      <th>theta</th>\n",
              "      <th>...</th>\n",
              "      <th>rho</th>\n",
              "      <th>rho</th>\n",
              "      <th>rho</th>\n",
              "      <th>rho</th>\n",
              "      <th>rho</th>\n",
              "      <th>rho</th>\n",
              "      <th>rho</th>\n",
              "      <th>rho</th>\n",
              "      <th>rho</th>\n",
              "      <th>rho</th>\n",
              "      <th>rho</th>\n",
              "      <th>rho</th>\n",
              "      <th>rho</th>\n",
              "      <th>rho</th>\n",
              "      <th>rho</th>\n",
              "      <th>rho</th>\n",
              "      <th>rho</th>\n",
              "      <th>rho</th>\n",
              "      <th>rho</th>\n",
              "      <th>rho</th>\n",
              "      <th>rho</th>\n",
              "      <th>rho</th>\n",
              "      <th>rho</th>\n",
              "      <th>rho</th>\n",
              "      <th>rho</th>\n",
              "      <th>rho</th>\n",
              "      <th>rho</th>\n",
              "      <th>rho</th>\n",
              "      <th>rho</th>\n",
              "      <th>rho</th>\n",
              "      <th>rho</th>\n",
              "      <th>rho</th>\n",
              "      <th>rho</th>\n",
              "      <th>rho</th>\n",
              "      <th>rho</th>\n",
              "      <th>vol</th>\n",
              "      <th>Ps</th>\n",
              "      <th>ST</th>\n",
              "      <th>AR</th>\n",
              "      <th>radius</th>\n",
              "    </tr>\n",
              "  </thead>\n",
              "  <tbody>\n",
              "    <tr>\n",
              "      <th>35532</th>\n",
              "      <td>0.016535</td>\n",
              "      <td>0.038659</td>\n",
              "      <td>0.106127</td>\n",
              "      <td>0.118981</td>\n",
              "      <td>0.126748</td>\n",
              "      <td>0.136403</td>\n",
              "      <td>0.146639</td>\n",
              "      <td>0.151635</td>\n",
              "      <td>0.158539</td>\n",
              "      <td>0.168717</td>\n",
              "      <td>0.174872</td>\n",
              "      <td>0.186752</td>\n",
              "      <td>0.264934</td>\n",
              "      <td>0.287608</td>\n",
              "      <td>0.293395</td>\n",
              "      <td>0.407674</td>\n",
              "      <td>0.489952</td>\n",
              "      <td>0.538827</td>\n",
              "      <td>0.559060</td>\n",
              "      <td>0.561622</td>\n",
              "      <td>0.570222</td>\n",
              "      <td>0.831208</td>\n",
              "      <td>0.847272</td>\n",
              "      <td>0.884855</td>\n",
              "      <td>0.890171</td>\n",
              "      <td>0.919731</td>\n",
              "      <td>0.935667</td>\n",
              "      <td>1.011561</td>\n",
              "      <td>1.056857</td>\n",
              "      <td>1.085437</td>\n",
              "      <td>1.089516</td>\n",
              "      <td>1.098289</td>\n",
              "      <td>1.102701</td>\n",
              "      <td>1.125809</td>\n",
              "      <td>1.131542</td>\n",
              "      <td>1.136248</td>\n",
              "      <td>1.139737</td>\n",
              "      <td>1.146762</td>\n",
              "      <td>1.183313</td>\n",
              "      <td>1.226734</td>\n",
              "      <td>...</td>\n",
              "      <td>0.684636</td>\n",
              "      <td>0.682623</td>\n",
              "      <td>0.678642</td>\n",
              "      <td>0.675194</td>\n",
              "      <td>0.663905</td>\n",
              "      <td>0.663740</td>\n",
              "      <td>0.654580</td>\n",
              "      <td>0.653213</td>\n",
              "      <td>0.625224</td>\n",
              "      <td>0.615224</td>\n",
              "      <td>0.605363</td>\n",
              "      <td>0.604374</td>\n",
              "      <td>0.602784</td>\n",
              "      <td>0.602647</td>\n",
              "      <td>0.600388</td>\n",
              "      <td>0.594607</td>\n",
              "      <td>0.592894</td>\n",
              "      <td>0.589726</td>\n",
              "      <td>0.583670</td>\n",
              "      <td>0.574718</td>\n",
              "      <td>0.574053</td>\n",
              "      <td>0.565122</td>\n",
              "      <td>0.557437</td>\n",
              "      <td>0.550505</td>\n",
              "      <td>0.542199</td>\n",
              "      <td>0.534075</td>\n",
              "      <td>0.531045</td>\n",
              "      <td>0.528311</td>\n",
              "      <td>0.521777</td>\n",
              "      <td>0.521755</td>\n",
              "      <td>0.518745</td>\n",
              "      <td>0.518215</td>\n",
              "      <td>0.513463</td>\n",
              "      <td>0.513321</td>\n",
              "      <td>0.513058</td>\n",
              "      <td>1.051235</td>\n",
              "      <td>2754.157967</td>\n",
              "      <td>30.807223</td>\n",
              "      <td>0.743893</td>\n",
              "      <td>0.689633</td>\n",
              "    </tr>\n",
              "    <tr>\n",
              "      <th>35533</th>\n",
              "      <td>0.054830</td>\n",
              "      <td>0.058066</td>\n",
              "      <td>0.097851</td>\n",
              "      <td>0.103878</td>\n",
              "      <td>0.144637</td>\n",
              "      <td>0.185487</td>\n",
              "      <td>0.185963</td>\n",
              "      <td>0.221207</td>\n",
              "      <td>0.238999</td>\n",
              "      <td>0.243751</td>\n",
              "      <td>0.259050</td>\n",
              "      <td>0.393788</td>\n",
              "      <td>0.402729</td>\n",
              "      <td>0.409109</td>\n",
              "      <td>0.413726</td>\n",
              "      <td>0.424512</td>\n",
              "      <td>0.449590</td>\n",
              "      <td>0.461372</td>\n",
              "      <td>0.477891</td>\n",
              "      <td>0.488269</td>\n",
              "      <td>0.536489</td>\n",
              "      <td>0.555270</td>\n",
              "      <td>0.634070</td>\n",
              "      <td>0.702316</td>\n",
              "      <td>0.751827</td>\n",
              "      <td>0.859393</td>\n",
              "      <td>0.881048</td>\n",
              "      <td>0.910210</td>\n",
              "      <td>0.933913</td>\n",
              "      <td>1.013181</td>\n",
              "      <td>1.045672</td>\n",
              "      <td>1.063541</td>\n",
              "      <td>1.097579</td>\n",
              "      <td>1.129982</td>\n",
              "      <td>1.214490</td>\n",
              "      <td>1.233691</td>\n",
              "      <td>1.301162</td>\n",
              "      <td>1.349777</td>\n",
              "      <td>1.357075</td>\n",
              "      <td>1.371613</td>\n",
              "      <td>...</td>\n",
              "      <td>0.627686</td>\n",
              "      <td>0.626512</td>\n",
              "      <td>0.624520</td>\n",
              "      <td>0.622817</td>\n",
              "      <td>0.621907</td>\n",
              "      <td>0.620527</td>\n",
              "      <td>0.620431</td>\n",
              "      <td>0.618547</td>\n",
              "      <td>0.617297</td>\n",
              "      <td>0.614207</td>\n",
              "      <td>0.613900</td>\n",
              "      <td>0.610406</td>\n",
              "      <td>0.607158</td>\n",
              "      <td>0.604675</td>\n",
              "      <td>0.603278</td>\n",
              "      <td>0.601818</td>\n",
              "      <td>0.599880</td>\n",
              "      <td>0.592153</td>\n",
              "      <td>0.591743</td>\n",
              "      <td>0.581263</td>\n",
              "      <td>0.579020</td>\n",
              "      <td>0.578104</td>\n",
              "      <td>0.572199</td>\n",
              "      <td>0.567785</td>\n",
              "      <td>0.557889</td>\n",
              "      <td>0.557820</td>\n",
              "      <td>0.554403</td>\n",
              "      <td>0.548739</td>\n",
              "      <td>0.546883</td>\n",
              "      <td>0.545714</td>\n",
              "      <td>0.544383</td>\n",
              "      <td>0.543370</td>\n",
              "      <td>0.543171</td>\n",
              "      <td>0.542878</td>\n",
              "      <td>0.542877</td>\n",
              "      <td>0.936355</td>\n",
              "      <td>2277.755120</td>\n",
              "      <td>35.257709</td>\n",
              "      <td>0.850522</td>\n",
              "      <td>0.638268</td>\n",
              "    </tr>\n",
              "    <tr>\n",
              "      <th>35534</th>\n",
              "      <td>0.051349</td>\n",
              "      <td>0.144342</td>\n",
              "      <td>0.191626</td>\n",
              "      <td>0.207233</td>\n",
              "      <td>0.215264</td>\n",
              "      <td>0.246122</td>\n",
              "      <td>0.254681</td>\n",
              "      <td>0.256412</td>\n",
              "      <td>0.267861</td>\n",
              "      <td>0.273437</td>\n",
              "      <td>0.321325</td>\n",
              "      <td>0.326490</td>\n",
              "      <td>0.373049</td>\n",
              "      <td>0.380408</td>\n",
              "      <td>0.405453</td>\n",
              "      <td>0.450840</td>\n",
              "      <td>0.498682</td>\n",
              "      <td>0.510126</td>\n",
              "      <td>0.577340</td>\n",
              "      <td>0.604795</td>\n",
              "      <td>0.733766</td>\n",
              "      <td>0.760155</td>\n",
              "      <td>0.796921</td>\n",
              "      <td>0.825083</td>\n",
              "      <td>0.895649</td>\n",
              "      <td>0.925634</td>\n",
              "      <td>0.989937</td>\n",
              "      <td>1.023822</td>\n",
              "      <td>1.023916</td>\n",
              "      <td>1.048507</td>\n",
              "      <td>1.144593</td>\n",
              "      <td>1.193028</td>\n",
              "      <td>1.315640</td>\n",
              "      <td>1.383746</td>\n",
              "      <td>1.419750</td>\n",
              "      <td>1.454834</td>\n",
              "      <td>1.533393</td>\n",
              "      <td>1.538164</td>\n",
              "      <td>1.564005</td>\n",
              "      <td>1.622146</td>\n",
              "      <td>...</td>\n",
              "      <td>0.611637</td>\n",
              "      <td>0.605476</td>\n",
              "      <td>0.603532</td>\n",
              "      <td>0.603136</td>\n",
              "      <td>0.595503</td>\n",
              "      <td>0.590298</td>\n",
              "      <td>0.586618</td>\n",
              "      <td>0.585994</td>\n",
              "      <td>0.571559</td>\n",
              "      <td>0.570704</td>\n",
              "      <td>0.568720</td>\n",
              "      <td>0.568694</td>\n",
              "      <td>0.564312</td>\n",
              "      <td>0.560933</td>\n",
              "      <td>0.559983</td>\n",
              "      <td>0.557798</td>\n",
              "      <td>0.557690</td>\n",
              "      <td>0.544487</td>\n",
              "      <td>0.526162</td>\n",
              "      <td>0.520663</td>\n",
              "      <td>0.519930</td>\n",
              "      <td>0.511607</td>\n",
              "      <td>0.510369</td>\n",
              "      <td>0.507743</td>\n",
              "      <td>0.504546</td>\n",
              "      <td>0.503750</td>\n",
              "      <td>0.501732</td>\n",
              "      <td>0.501396</td>\n",
              "      <td>0.500966</td>\n",
              "      <td>0.500011</td>\n",
              "      <td>0.497489</td>\n",
              "      <td>0.496947</td>\n",
              "      <td>0.493875</td>\n",
              "      <td>0.493787</td>\n",
              "      <td>0.493535</td>\n",
              "      <td>1.017254</td>\n",
              "      <td>3105.887983</td>\n",
              "      <td>34.414852</td>\n",
              "      <td>0.715882</td>\n",
              "      <td>0.689100</td>\n",
              "    </tr>\n",
              "    <tr>\n",
              "      <th>35535</th>\n",
              "      <td>0.054109</td>\n",
              "      <td>0.108957</td>\n",
              "      <td>0.126624</td>\n",
              "      <td>0.138440</td>\n",
              "      <td>0.175073</td>\n",
              "      <td>0.208060</td>\n",
              "      <td>0.285553</td>\n",
              "      <td>0.299700</td>\n",
              "      <td>0.317046</td>\n",
              "      <td>0.330692</td>\n",
              "      <td>0.343598</td>\n",
              "      <td>0.428377</td>\n",
              "      <td>0.451356</td>\n",
              "      <td>0.452530</td>\n",
              "      <td>0.549231</td>\n",
              "      <td>0.561175</td>\n",
              "      <td>0.574396</td>\n",
              "      <td>0.587682</td>\n",
              "      <td>0.605581</td>\n",
              "      <td>0.692244</td>\n",
              "      <td>0.713112</td>\n",
              "      <td>0.748366</td>\n",
              "      <td>0.806334</td>\n",
              "      <td>0.848448</td>\n",
              "      <td>0.916636</td>\n",
              "      <td>0.925707</td>\n",
              "      <td>0.968489</td>\n",
              "      <td>0.978733</td>\n",
              "      <td>1.023111</td>\n",
              "      <td>1.059162</td>\n",
              "      <td>1.140315</td>\n",
              "      <td>1.146445</td>\n",
              "      <td>1.155118</td>\n",
              "      <td>1.190679</td>\n",
              "      <td>1.233316</td>\n",
              "      <td>1.283117</td>\n",
              "      <td>1.314732</td>\n",
              "      <td>1.332466</td>\n",
              "      <td>1.384104</td>\n",
              "      <td>1.431728</td>\n",
              "      <td>...</td>\n",
              "      <td>0.748646</td>\n",
              "      <td>0.745589</td>\n",
              "      <td>0.742079</td>\n",
              "      <td>0.739089</td>\n",
              "      <td>0.736626</td>\n",
              "      <td>0.734432</td>\n",
              "      <td>0.730982</td>\n",
              "      <td>0.730883</td>\n",
              "      <td>0.728399</td>\n",
              "      <td>0.724209</td>\n",
              "      <td>0.723130</td>\n",
              "      <td>0.721735</td>\n",
              "      <td>0.716797</td>\n",
              "      <td>0.705601</td>\n",
              "      <td>0.704514</td>\n",
              "      <td>0.704368</td>\n",
              "      <td>0.698265</td>\n",
              "      <td>0.692036</td>\n",
              "      <td>0.671816</td>\n",
              "      <td>0.671475</td>\n",
              "      <td>0.661113</td>\n",
              "      <td>0.659182</td>\n",
              "      <td>0.651588</td>\n",
              "      <td>0.636945</td>\n",
              "      <td>0.636723</td>\n",
              "      <td>0.634694</td>\n",
              "      <td>0.633659</td>\n",
              "      <td>0.627988</td>\n",
              "      <td>0.621182</td>\n",
              "      <td>0.620460</td>\n",
              "      <td>0.619881</td>\n",
              "      <td>0.612958</td>\n",
              "      <td>0.611714</td>\n",
              "      <td>0.611556</td>\n",
              "      <td>0.610957</td>\n",
              "      <td>1.453712</td>\n",
              "      <td>2720.511427</td>\n",
              "      <td>50.443568</td>\n",
              "      <td>0.815713</td>\n",
              "      <td>0.748703</td>\n",
              "    </tr>\n",
              "    <tr>\n",
              "      <th>35536</th>\n",
              "      <td>0.009563</td>\n",
              "      <td>0.029078</td>\n",
              "      <td>0.043815</td>\n",
              "      <td>0.086210</td>\n",
              "      <td>0.125681</td>\n",
              "      <td>0.177886</td>\n",
              "      <td>0.349223</td>\n",
              "      <td>0.420408</td>\n",
              "      <td>0.504417</td>\n",
              "      <td>0.571193</td>\n",
              "      <td>0.573078</td>\n",
              "      <td>0.575633</td>\n",
              "      <td>0.585599</td>\n",
              "      <td>0.587817</td>\n",
              "      <td>0.711062</td>\n",
              "      <td>0.761213</td>\n",
              "      <td>0.769863</td>\n",
              "      <td>0.770459</td>\n",
              "      <td>0.841994</td>\n",
              "      <td>0.933651</td>\n",
              "      <td>0.959529</td>\n",
              "      <td>1.057108</td>\n",
              "      <td>1.107143</td>\n",
              "      <td>1.120788</td>\n",
              "      <td>1.161054</td>\n",
              "      <td>1.249507</td>\n",
              "      <td>1.302084</td>\n",
              "      <td>1.345779</td>\n",
              "      <td>1.411126</td>\n",
              "      <td>1.469093</td>\n",
              "      <td>1.475515</td>\n",
              "      <td>1.476756</td>\n",
              "      <td>1.516557</td>\n",
              "      <td>1.524662</td>\n",
              "      <td>1.556774</td>\n",
              "      <td>1.657524</td>\n",
              "      <td>1.663801</td>\n",
              "      <td>1.720028</td>\n",
              "      <td>1.725969</td>\n",
              "      <td>1.732634</td>\n",
              "      <td>...</td>\n",
              "      <td>0.753410</td>\n",
              "      <td>0.750126</td>\n",
              "      <td>0.748767</td>\n",
              "      <td>0.744396</td>\n",
              "      <td>0.744369</td>\n",
              "      <td>0.733997</td>\n",
              "      <td>0.728104</td>\n",
              "      <td>0.707675</td>\n",
              "      <td>0.705447</td>\n",
              "      <td>0.701859</td>\n",
              "      <td>0.697279</td>\n",
              "      <td>0.692778</td>\n",
              "      <td>0.688851</td>\n",
              "      <td>0.688329</td>\n",
              "      <td>0.683305</td>\n",
              "      <td>0.680733</td>\n",
              "      <td>0.678167</td>\n",
              "      <td>0.671432</td>\n",
              "      <td>0.670294</td>\n",
              "      <td>0.668030</td>\n",
              "      <td>0.667974</td>\n",
              "      <td>0.667854</td>\n",
              "      <td>0.666687</td>\n",
              "      <td>0.665868</td>\n",
              "      <td>0.663610</td>\n",
              "      <td>0.658092</td>\n",
              "      <td>0.657889</td>\n",
              "      <td>0.656405</td>\n",
              "      <td>0.653961</td>\n",
              "      <td>0.650714</td>\n",
              "      <td>0.650512</td>\n",
              "      <td>0.650403</td>\n",
              "      <td>0.649183</td>\n",
              "      <td>0.648698</td>\n",
              "      <td>0.648493</td>\n",
              "      <td>1.626258</td>\n",
              "      <td>2518.191997</td>\n",
              "      <td>53.854220</td>\n",
              "      <td>0.841939</td>\n",
              "      <td>0.770038</td>\n",
              "    </tr>\n",
              "  </tbody>\n",
              "</table>\n",
              "<p>5 rows × 355 columns</p>\n",
              "</div>"
            ],
            "text/plain": [
              "          theta     theta     theta  ...         ST        AR    radius\n",
              "35532  0.016535  0.038659  0.106127  ...  30.807223  0.743893  0.689633\n",
              "35533  0.054830  0.058066  0.097851  ...  35.257709  0.850522  0.638268\n",
              "35534  0.051349  0.144342  0.191626  ...  34.414852  0.715882  0.689100\n",
              "35535  0.054109  0.108957  0.126624  ...  50.443568  0.815713  0.748703\n",
              "35536  0.009563  0.029078  0.043815  ...  53.854220  0.841939  0.770038\n",
              "\n",
              "[5 rows x 355 columns]"
            ]
          },
          "metadata": {},
          "execution_count": 18
        }
      ]
    },
    {
      "cell_type": "code",
      "metadata": {
        "id": "XbIdrF7JOBAc"
      },
      "source": [
        "#New data distribution\n",
        "plt.figure()\n",
        "sns.distplot(dataset.ST, norm_hist=True, kde=False)\n",
        "plt.xlabel('Surface tension (mN/m)')\n",
        "plt.ylabel('Probability density')\n",
        "\n",
        "plt.figure()\n",
        "sns.distplot(dataset.vol, norm_hist=True, kde=False)\n",
        "plt.xlabel('Volume (μL)')\n",
        "plt.ylabel('Probability density')\n",
        "\n",
        "plt.figure()\n",
        "sns.distplot(dataset.Ps, norm_hist=True, kde=False)\n",
        "plt.xlabel('Acoustic pressure (Pa)')\n",
        "plt.ylabel('Probability density')\n",
        "\n",
        "fig, ax = plt.subplots()\n",
        "plt.xlabel('Cartesian y-axis (mm)')\n",
        "plt.ylabel('Cartesian z-axis (mm)')\n",
        "ax = plt.gca()\n",
        "ax.set_aspect(1)\n",
        "ax.set_xlim([-1.5,1.5])\n",
        "ax.set_ylim([-1.5,1.5])\n",
        "for j in range(len(dataset)):\n",
        "  x,y=pol2cart_theta(np.asarray(dataset.iloc[j, sampling:sampling+sampling]), np.asarray(dataset.iloc[j, 0:sampling]))\n",
        "  plt.plot(x, y)\n",
        "\n",
        "\n",
        "\n"
      ],
      "execution_count": null,
      "outputs": []
    },
    {
      "cell_type": "code",
      "metadata": {
        "id": "Kqa0s-Fl_K2V"
      },
      "source": [
        "# ST_1=dataset[(dataset['ST'] <= 72) & (dataset['ST'] > 71.5) ]\n",
        "# vol_1=ST_1[(ST_1['vol']<=3 ) & (ST_1['vol'] > 2)]\n",
        "\n",
        "# ST_3=dataset[(dataset['ST'] <= 50.5) & (dataset['ST'] > 50) ]\n",
        "# vol_3=ST_3[(ST_3['vol']<=3 ) & (ST_3['vol'] > 2)]\n",
        "\n",
        "# ST_2=dataset[(dataset['ST'] <= 25.5) & (dataset['ST'] > 25) ]\n",
        "# vol_2=ST_2[(ST_2['vol']<=3 ) & (ST_2['vol'] > 2)]\n",
        "\n",
        "# plt.figure()\n",
        "# plt.plot(vol_1.Ps, vol_1.AR, 'o', label='ST=71.25+-0.25')\n",
        "# plt.plot(vol_3.Ps, vol_3.AR, 'o', label='ST=50.25+-0.25')\n",
        "# plt.plot(vol_2.Ps, vol_2.AR, 'o', label='ST=25.25+-0.25')\n",
        "# plt.xlabel('Acoustic pressure (Pa)')\n",
        "# plt.ylabel('Aspect Ratio')\n",
        "# plt.legend()\n"
      ],
      "execution_count": null,
      "outputs": []
    },
    {
      "cell_type": "markdown",
      "metadata": {
        "id": "nslsRLh7Zss4"
      },
      "source": [
        "###Import it using pandas for **options 1 and 2**"
      ]
    },
    {
      "cell_type": "code",
      "metadata": {
        "id": "CiX2FI4gZtTt",
        "colab": {
          "base_uri": "https://localhost:8080/",
          "height": 247
        },
        "outputId": "04d2320e-92b2-40ee-9db1-828deca949e1"
      },
      "source": [
        "column_names=[]\n",
        "\n",
        "for i in range(100):\n",
        "  column_names.append('rho_%d' %i)\n",
        "for i in range(100):\n",
        "  column_names.append('phi_%d' %i)\n",
        "for i in range(100):\n",
        "  column_names.append('cos2theta_%d' %i)\n",
        "column_names.append('(k*R_sph)^2')\n",
        "column_names.append('R_sph2')\n",
        "column_names.append('Ps2*Cg_air')\n",
        "\n",
        "column_names.append('st')\n",
        "\n",
        "#raw_dataset = pd.read_csv(csvfilename, sep=\"\\t\")\n",
        "#raw_dataset.columns=column_names\n",
        "\n",
        "raw_dataset = pd.DataFrame(data=input,  columns=column_names) \n",
        "              \n",
        "raw_dataset.shape\n",
        "\n",
        "dataset = raw_dataset.copy()\n",
        "\n",
        "\n",
        "#for i in range(100):\n",
        "#  dataset.pop('cos2theta_%d' %i)\n",
        "\n",
        "dataset.pop('Ps2*Cg_air')\n",
        "\n",
        "\n",
        "dataset.tail()"
      ],
      "execution_count": null,
      "outputs": [
        {
          "output_type": "execute_result",
          "data": {
            "text/html": [
              "<div>\n",
              "<style scoped>\n",
              "    .dataframe tbody tr th:only-of-type {\n",
              "        vertical-align: middle;\n",
              "    }\n",
              "\n",
              "    .dataframe tbody tr th {\n",
              "        vertical-align: top;\n",
              "    }\n",
              "\n",
              "    .dataframe thead th {\n",
              "        text-align: right;\n",
              "    }\n",
              "</style>\n",
              "<table border=\"1\" class=\"dataframe\">\n",
              "  <thead>\n",
              "    <tr style=\"text-align: right;\">\n",
              "      <th></th>\n",
              "      <th>rho_0</th>\n",
              "      <th>rho_1</th>\n",
              "      <th>rho_2</th>\n",
              "      <th>rho_3</th>\n",
              "      <th>rho_4</th>\n",
              "      <th>rho_5</th>\n",
              "      <th>rho_6</th>\n",
              "      <th>rho_7</th>\n",
              "      <th>rho_8</th>\n",
              "      <th>rho_9</th>\n",
              "      <th>rho_10</th>\n",
              "      <th>rho_11</th>\n",
              "      <th>rho_12</th>\n",
              "      <th>rho_13</th>\n",
              "      <th>rho_14</th>\n",
              "      <th>rho_15</th>\n",
              "      <th>rho_16</th>\n",
              "      <th>rho_17</th>\n",
              "      <th>rho_18</th>\n",
              "      <th>rho_19</th>\n",
              "      <th>rho_20</th>\n",
              "      <th>rho_21</th>\n",
              "      <th>rho_22</th>\n",
              "      <th>rho_23</th>\n",
              "      <th>rho_24</th>\n",
              "      <th>rho_25</th>\n",
              "      <th>rho_26</th>\n",
              "      <th>rho_27</th>\n",
              "      <th>rho_28</th>\n",
              "      <th>rho_29</th>\n",
              "      <th>rho_30</th>\n",
              "      <th>rho_31</th>\n",
              "      <th>rho_32</th>\n",
              "      <th>rho_33</th>\n",
              "      <th>rho_34</th>\n",
              "      <th>rho_35</th>\n",
              "      <th>rho_36</th>\n",
              "      <th>rho_37</th>\n",
              "      <th>rho_38</th>\n",
              "      <th>rho_39</th>\n",
              "      <th>...</th>\n",
              "      <th>cos2theta_63</th>\n",
              "      <th>cos2theta_64</th>\n",
              "      <th>cos2theta_65</th>\n",
              "      <th>cos2theta_66</th>\n",
              "      <th>cos2theta_67</th>\n",
              "      <th>cos2theta_68</th>\n",
              "      <th>cos2theta_69</th>\n",
              "      <th>cos2theta_70</th>\n",
              "      <th>cos2theta_71</th>\n",
              "      <th>cos2theta_72</th>\n",
              "      <th>cos2theta_73</th>\n",
              "      <th>cos2theta_74</th>\n",
              "      <th>cos2theta_75</th>\n",
              "      <th>cos2theta_76</th>\n",
              "      <th>cos2theta_77</th>\n",
              "      <th>cos2theta_78</th>\n",
              "      <th>cos2theta_79</th>\n",
              "      <th>cos2theta_80</th>\n",
              "      <th>cos2theta_81</th>\n",
              "      <th>cos2theta_82</th>\n",
              "      <th>cos2theta_83</th>\n",
              "      <th>cos2theta_84</th>\n",
              "      <th>cos2theta_85</th>\n",
              "      <th>cos2theta_86</th>\n",
              "      <th>cos2theta_87</th>\n",
              "      <th>cos2theta_88</th>\n",
              "      <th>cos2theta_89</th>\n",
              "      <th>cos2theta_90</th>\n",
              "      <th>cos2theta_91</th>\n",
              "      <th>cos2theta_92</th>\n",
              "      <th>cos2theta_93</th>\n",
              "      <th>cos2theta_94</th>\n",
              "      <th>cos2theta_95</th>\n",
              "      <th>cos2theta_96</th>\n",
              "      <th>cos2theta_97</th>\n",
              "      <th>cos2theta_98</th>\n",
              "      <th>cos2theta_99</th>\n",
              "      <th>(k*R_sph)^2</th>\n",
              "      <th>R_sph2</th>\n",
              "      <th>st</th>\n",
              "    </tr>\n",
              "  </thead>\n",
              "  <tbody>\n",
              "    <tr>\n",
              "      <th>292</th>\n",
              "      <td>0.594194</td>\n",
              "      <td>0.593489</td>\n",
              "      <td>0.591385</td>\n",
              "      <td>0.587916</td>\n",
              "      <td>0.583138</td>\n",
              "      <td>0.577128</td>\n",
              "      <td>0.569983</td>\n",
              "      <td>0.561817</td>\n",
              "      <td>0.552761</td>\n",
              "      <td>0.542963</td>\n",
              "      <td>0.532578</td>\n",
              "      <td>0.521775</td>\n",
              "      <td>0.510727</td>\n",
              "      <td>0.499611</td>\n",
              "      <td>0.488608</td>\n",
              "      <td>0.477893</td>\n",
              "      <td>0.467640</td>\n",
              "      <td>0.458013</td>\n",
              "      <td>0.449166</td>\n",
              "      <td>0.441244</td>\n",
              "      <td>0.434372</td>\n",
              "      <td>0.428662</td>\n",
              "      <td>0.424205</td>\n",
              "      <td>0.421073</td>\n",
              "      <td>0.419316</td>\n",
              "      <td>0.418964</td>\n",
              "      <td>0.420020</td>\n",
              "      <td>0.422469</td>\n",
              "      <td>0.426271</td>\n",
              "      <td>0.431365</td>\n",
              "      <td>0.437669</td>\n",
              "      <td>0.445081</td>\n",
              "      <td>0.453483</td>\n",
              "      <td>0.462738</td>\n",
              "      <td>0.472698</td>\n",
              "      <td>0.483204</td>\n",
              "      <td>0.494085</td>\n",
              "      <td>0.505166</td>\n",
              "      <td>0.516270</td>\n",
              "      <td>0.527218</td>\n",
              "      <td>...</td>\n",
              "      <td>0.571157</td>\n",
              "      <td>0.633237</td>\n",
              "      <td>0.693173</td>\n",
              "      <td>0.75</td>\n",
              "      <td>0.802805</td>\n",
              "      <td>0.850737</td>\n",
              "      <td>0.893027</td>\n",
              "      <td>0.928992</td>\n",
              "      <td>0.958054</td>\n",
              "      <td>0.979746</td>\n",
              "      <td>0.993719</td>\n",
              "      <td>0.999748</td>\n",
              "      <td>0.997736</td>\n",
              "      <td>0.987715</td>\n",
              "      <td>0.969846</td>\n",
              "      <td>0.944418</td>\n",
              "      <td>0.911838</td>\n",
              "      <td>0.872632</td>\n",
              "      <td>0.82743</td>\n",
              "      <td>0.77696</td>\n",
              "      <td>0.722033</td>\n",
              "      <td>0.663534</td>\n",
              "      <td>0.602403</td>\n",
              "      <td>0.539625</td>\n",
              "      <td>0.476209</td>\n",
              "      <td>0.413176</td>\n",
              "      <td>0.35154</td>\n",
              "      <td>0.292292</td>\n",
              "      <td>0.236387</td>\n",
              "      <td>0.184724</td>\n",
              "      <td>0.138133</td>\n",
              "      <td>0.097365</td>\n",
              "      <td>0.063075</td>\n",
              "      <td>0.035816</td>\n",
              "      <td>0.016026</td>\n",
              "      <td>0.004023</td>\n",
              "      <td>3.749399e-33</td>\n",
              "      <td>0.535769</td>\n",
              "      <td>0.287049</td>\n",
              "      <td>20.0</td>\n",
              "    </tr>\n",
              "    <tr>\n",
              "      <th>293</th>\n",
              "      <td>0.595005</td>\n",
              "      <td>0.594291</td>\n",
              "      <td>0.592158</td>\n",
              "      <td>0.588641</td>\n",
              "      <td>0.583796</td>\n",
              "      <td>0.577703</td>\n",
              "      <td>0.570458</td>\n",
              "      <td>0.562178</td>\n",
              "      <td>0.552997</td>\n",
              "      <td>0.543062</td>\n",
              "      <td>0.532534</td>\n",
              "      <td>0.521580</td>\n",
              "      <td>0.510379</td>\n",
              "      <td>0.499109</td>\n",
              "      <td>0.487953</td>\n",
              "      <td>0.477090</td>\n",
              "      <td>0.466694</td>\n",
              "      <td>0.456933</td>\n",
              "      <td>0.447964</td>\n",
              "      <td>0.439931</td>\n",
              "      <td>0.432964</td>\n",
              "      <td>0.427174</td>\n",
              "      <td>0.422655</td>\n",
              "      <td>0.419480</td>\n",
              "      <td>0.417699</td>\n",
              "      <td>0.417341</td>\n",
              "      <td>0.418413</td>\n",
              "      <td>0.420896</td>\n",
              "      <td>0.424751</td>\n",
              "      <td>0.429915</td>\n",
              "      <td>0.436307</td>\n",
              "      <td>0.443822</td>\n",
              "      <td>0.452340</td>\n",
              "      <td>0.461724</td>\n",
              "      <td>0.471822</td>\n",
              "      <td>0.482474</td>\n",
              "      <td>0.493506</td>\n",
              "      <td>0.504741</td>\n",
              "      <td>0.515999</td>\n",
              "      <td>0.527099</td>\n",
              "      <td>...</td>\n",
              "      <td>0.571157</td>\n",
              "      <td>0.633237</td>\n",
              "      <td>0.693173</td>\n",
              "      <td>0.75</td>\n",
              "      <td>0.802805</td>\n",
              "      <td>0.850737</td>\n",
              "      <td>0.893027</td>\n",
              "      <td>0.928992</td>\n",
              "      <td>0.958054</td>\n",
              "      <td>0.979746</td>\n",
              "      <td>0.993719</td>\n",
              "      <td>0.999748</td>\n",
              "      <td>0.997736</td>\n",
              "      <td>0.987715</td>\n",
              "      <td>0.969846</td>\n",
              "      <td>0.944418</td>\n",
              "      <td>0.911838</td>\n",
              "      <td>0.872632</td>\n",
              "      <td>0.82743</td>\n",
              "      <td>0.77696</td>\n",
              "      <td>0.722033</td>\n",
              "      <td>0.663534</td>\n",
              "      <td>0.602403</td>\n",
              "      <td>0.539625</td>\n",
              "      <td>0.476209</td>\n",
              "      <td>0.413176</td>\n",
              "      <td>0.35154</td>\n",
              "      <td>0.292292</td>\n",
              "      <td>0.236387</td>\n",
              "      <td>0.184724</td>\n",
              "      <td>0.138133</td>\n",
              "      <td>0.097365</td>\n",
              "      <td>0.063075</td>\n",
              "      <td>0.035816</td>\n",
              "      <td>0.016026</td>\n",
              "      <td>0.004023</td>\n",
              "      <td>3.749399e-33</td>\n",
              "      <td>0.535769</td>\n",
              "      <td>0.287049</td>\n",
              "      <td>20.0</td>\n",
              "    </tr>\n",
              "    <tr>\n",
              "      <th>294</th>\n",
              "      <td>0.595822</td>\n",
              "      <td>0.595098</td>\n",
              "      <td>0.592935</td>\n",
              "      <td>0.589370</td>\n",
              "      <td>0.584459</td>\n",
              "      <td>0.578281</td>\n",
              "      <td>0.570936</td>\n",
              "      <td>0.562543</td>\n",
              "      <td>0.553235</td>\n",
              "      <td>0.543163</td>\n",
              "      <td>0.532489</td>\n",
              "      <td>0.521385</td>\n",
              "      <td>0.510029</td>\n",
              "      <td>0.498604</td>\n",
              "      <td>0.487293</td>\n",
              "      <td>0.476280</td>\n",
              "      <td>0.465741</td>\n",
              "      <td>0.455845</td>\n",
              "      <td>0.446753</td>\n",
              "      <td>0.438609</td>\n",
              "      <td>0.431546</td>\n",
              "      <td>0.425676</td>\n",
              "      <td>0.421095</td>\n",
              "      <td>0.417876</td>\n",
              "      <td>0.416070</td>\n",
              "      <td>0.415708</td>\n",
              "      <td>0.416794</td>\n",
              "      <td>0.419311</td>\n",
              "      <td>0.423219</td>\n",
              "      <td>0.428455</td>\n",
              "      <td>0.434935</td>\n",
              "      <td>0.442554</td>\n",
              "      <td>0.451189</td>\n",
              "      <td>0.460702</td>\n",
              "      <td>0.470940</td>\n",
              "      <td>0.481738</td>\n",
              "      <td>0.492923</td>\n",
              "      <td>0.504313</td>\n",
              "      <td>0.515727</td>\n",
              "      <td>0.526980</td>\n",
              "      <td>...</td>\n",
              "      <td>0.571157</td>\n",
              "      <td>0.633237</td>\n",
              "      <td>0.693173</td>\n",
              "      <td>0.75</td>\n",
              "      <td>0.802805</td>\n",
              "      <td>0.850737</td>\n",
              "      <td>0.893027</td>\n",
              "      <td>0.928992</td>\n",
              "      <td>0.958054</td>\n",
              "      <td>0.979746</td>\n",
              "      <td>0.993719</td>\n",
              "      <td>0.999748</td>\n",
              "      <td>0.997736</td>\n",
              "      <td>0.987715</td>\n",
              "      <td>0.969846</td>\n",
              "      <td>0.944418</td>\n",
              "      <td>0.911838</td>\n",
              "      <td>0.872632</td>\n",
              "      <td>0.82743</td>\n",
              "      <td>0.77696</td>\n",
              "      <td>0.722033</td>\n",
              "      <td>0.663534</td>\n",
              "      <td>0.602403</td>\n",
              "      <td>0.539625</td>\n",
              "      <td>0.476209</td>\n",
              "      <td>0.413176</td>\n",
              "      <td>0.35154</td>\n",
              "      <td>0.292292</td>\n",
              "      <td>0.236387</td>\n",
              "      <td>0.184724</td>\n",
              "      <td>0.138133</td>\n",
              "      <td>0.097365</td>\n",
              "      <td>0.063075</td>\n",
              "      <td>0.035816</td>\n",
              "      <td>0.016026</td>\n",
              "      <td>0.004023</td>\n",
              "      <td>3.749399e-33</td>\n",
              "      <td>0.535769</td>\n",
              "      <td>0.287049</td>\n",
              "      <td>20.0</td>\n",
              "    </tr>\n",
              "    <tr>\n",
              "      <th>295</th>\n",
              "      <td>0.596645</td>\n",
              "      <td>0.595910</td>\n",
              "      <td>0.593718</td>\n",
              "      <td>0.590104</td>\n",
              "      <td>0.585126</td>\n",
              "      <td>0.578864</td>\n",
              "      <td>0.571418</td>\n",
              "      <td>0.562909</td>\n",
              "      <td>0.553474</td>\n",
              "      <td>0.543264</td>\n",
              "      <td>0.532444</td>\n",
              "      <td>0.521188</td>\n",
              "      <td>0.509676</td>\n",
              "      <td>0.498094</td>\n",
              "      <td>0.486629</td>\n",
              "      <td>0.475465</td>\n",
              "      <td>0.464782</td>\n",
              "      <td>0.454750</td>\n",
              "      <td>0.445533</td>\n",
              "      <td>0.437278</td>\n",
              "      <td>0.430118</td>\n",
              "      <td>0.424168</td>\n",
              "      <td>0.419524</td>\n",
              "      <td>0.416261</td>\n",
              "      <td>0.414431</td>\n",
              "      <td>0.414063</td>\n",
              "      <td>0.415164</td>\n",
              "      <td>0.417716</td>\n",
              "      <td>0.421678</td>\n",
              "      <td>0.426985</td>\n",
              "      <td>0.433554</td>\n",
              "      <td>0.441277</td>\n",
              "      <td>0.450031</td>\n",
              "      <td>0.459674</td>\n",
              "      <td>0.470052</td>\n",
              "      <td>0.480998</td>\n",
              "      <td>0.492336</td>\n",
              "      <td>0.503882</td>\n",
              "      <td>0.515452</td>\n",
              "      <td>0.526859</td>\n",
              "      <td>...</td>\n",
              "      <td>0.571157</td>\n",
              "      <td>0.633237</td>\n",
              "      <td>0.693173</td>\n",
              "      <td>0.75</td>\n",
              "      <td>0.802805</td>\n",
              "      <td>0.850737</td>\n",
              "      <td>0.893027</td>\n",
              "      <td>0.928992</td>\n",
              "      <td>0.958054</td>\n",
              "      <td>0.979746</td>\n",
              "      <td>0.993719</td>\n",
              "      <td>0.999748</td>\n",
              "      <td>0.997736</td>\n",
              "      <td>0.987715</td>\n",
              "      <td>0.969846</td>\n",
              "      <td>0.944418</td>\n",
              "      <td>0.911838</td>\n",
              "      <td>0.872632</td>\n",
              "      <td>0.82743</td>\n",
              "      <td>0.77696</td>\n",
              "      <td>0.722033</td>\n",
              "      <td>0.663534</td>\n",
              "      <td>0.602403</td>\n",
              "      <td>0.539625</td>\n",
              "      <td>0.476209</td>\n",
              "      <td>0.413176</td>\n",
              "      <td>0.35154</td>\n",
              "      <td>0.292292</td>\n",
              "      <td>0.236387</td>\n",
              "      <td>0.184724</td>\n",
              "      <td>0.138133</td>\n",
              "      <td>0.097365</td>\n",
              "      <td>0.063075</td>\n",
              "      <td>0.035816</td>\n",
              "      <td>0.016026</td>\n",
              "      <td>0.004023</td>\n",
              "      <td>3.749399e-33</td>\n",
              "      <td>0.535769</td>\n",
              "      <td>0.287049</td>\n",
              "      <td>20.0</td>\n",
              "    </tr>\n",
              "    <tr>\n",
              "      <th>296</th>\n",
              "      <td>0.597473</td>\n",
              "      <td>0.596729</td>\n",
              "      <td>0.594507</td>\n",
              "      <td>0.590843</td>\n",
              "      <td>0.585797</td>\n",
              "      <td>0.579450</td>\n",
              "      <td>0.571903</td>\n",
              "      <td>0.563279</td>\n",
              "      <td>0.553715</td>\n",
              "      <td>0.543366</td>\n",
              "      <td>0.532399</td>\n",
              "      <td>0.520989</td>\n",
              "      <td>0.509321</td>\n",
              "      <td>0.497582</td>\n",
              "      <td>0.485961</td>\n",
              "      <td>0.474645</td>\n",
              "      <td>0.463816</td>\n",
              "      <td>0.453648</td>\n",
              "      <td>0.444306</td>\n",
              "      <td>0.435938</td>\n",
              "      <td>0.428681</td>\n",
              "      <td>0.422650</td>\n",
              "      <td>0.417943</td>\n",
              "      <td>0.414635</td>\n",
              "      <td>0.412780</td>\n",
              "      <td>0.412407</td>\n",
              "      <td>0.413523</td>\n",
              "      <td>0.416110</td>\n",
              "      <td>0.420125</td>\n",
              "      <td>0.425505</td>\n",
              "      <td>0.432163</td>\n",
              "      <td>0.439991</td>\n",
              "      <td>0.448864</td>\n",
              "      <td>0.458639</td>\n",
              "      <td>0.469158</td>\n",
              "      <td>0.480253</td>\n",
              "      <td>0.491745</td>\n",
              "      <td>0.503449</td>\n",
              "      <td>0.515176</td>\n",
              "      <td>0.526738</td>\n",
              "      <td>...</td>\n",
              "      <td>0.571157</td>\n",
              "      <td>0.633237</td>\n",
              "      <td>0.693173</td>\n",
              "      <td>0.75</td>\n",
              "      <td>0.802805</td>\n",
              "      <td>0.850737</td>\n",
              "      <td>0.893027</td>\n",
              "      <td>0.928992</td>\n",
              "      <td>0.958054</td>\n",
              "      <td>0.979746</td>\n",
              "      <td>0.993719</td>\n",
              "      <td>0.999748</td>\n",
              "      <td>0.997736</td>\n",
              "      <td>0.987715</td>\n",
              "      <td>0.969846</td>\n",
              "      <td>0.944418</td>\n",
              "      <td>0.911838</td>\n",
              "      <td>0.872632</td>\n",
              "      <td>0.82743</td>\n",
              "      <td>0.77696</td>\n",
              "      <td>0.722033</td>\n",
              "      <td>0.663534</td>\n",
              "      <td>0.602403</td>\n",
              "      <td>0.539625</td>\n",
              "      <td>0.476209</td>\n",
              "      <td>0.413176</td>\n",
              "      <td>0.35154</td>\n",
              "      <td>0.292292</td>\n",
              "      <td>0.236387</td>\n",
              "      <td>0.184724</td>\n",
              "      <td>0.138133</td>\n",
              "      <td>0.097365</td>\n",
              "      <td>0.063075</td>\n",
              "      <td>0.035816</td>\n",
              "      <td>0.016026</td>\n",
              "      <td>0.004023</td>\n",
              "      <td>3.749399e-33</td>\n",
              "      <td>0.535769</td>\n",
              "      <td>0.287049</td>\n",
              "      <td>20.0</td>\n",
              "    </tr>\n",
              "  </tbody>\n",
              "</table>\n",
              "<p>5 rows × 303 columns</p>\n",
              "</div>"
            ],
            "text/plain": [
              "        rho_0     rho_1     rho_2  ...  (k*R_sph)^2    R_sph2    st\n",
              "292  0.594194  0.593489  0.591385  ...     0.535769  0.287049  20.0\n",
              "293  0.595005  0.594291  0.592158  ...     0.535769  0.287049  20.0\n",
              "294  0.595822  0.595098  0.592935  ...     0.535769  0.287049  20.0\n",
              "295  0.596645  0.595910  0.593718  ...     0.535769  0.287049  20.0\n",
              "296  0.597473  0.596729  0.594507  ...     0.535769  0.287049  20.0\n",
              "\n",
              "[5 rows x 303 columns]"
            ]
          },
          "metadata": {
            "tags": []
          },
          "execution_count": 282
        }
      ]
    },
    {
      "cell_type": "code",
      "metadata": {
        "id": "SVNFYZBO90fx"
      },
      "source": [
        "k_o=2*np.pi*20.2/340 \n",
        "dataset['(k*R_sph)^2']=(dataset['(k*R_sph)^2']*k_o)**2\n",
        "\n",
        "#Cg_air=1/103623.50  #Pa**(-1)\n",
        "#dataset['Ps2*Cg_air']=dataset['Ps2*Cg_air']*Cg_air"
      ],
      "execution_count": null,
      "outputs": []
    },
    {
      "cell_type": "code",
      "metadata": {
        "id": "uqyM21JfY6nc",
        "colab": {
          "base_uri": "https://localhost:8080/",
          "height": 217
        },
        "outputId": "5699d635-82d7-4fe2-b273-5edc92282ba5"
      },
      "source": [
        "dataset.iloc[193, :]"
      ],
      "execution_count": null,
      "outputs": [
        {
          "output_type": "execute_result",
          "data": {
            "text/plain": [
              "rho_0           6.275189e-01\n",
              "rho_1           6.267880e-01\n",
              "rho_2           6.246516e-01\n",
              "rho_3           6.211441e-01\n",
              "rho_4           6.163220e-01\n",
              "                    ...     \n",
              "cos2theta_98    4.021315e-03\n",
              "cos2theta_99    3.749399e-33\n",
              "(k*R_sph)^2     4.508115e-02\n",
              "R_sph2          3.235120e-01\n",
              "st              2.200000e+01\n",
              "Name: 193, Length: 303, dtype: float64"
            ]
          },
          "metadata": {
            "tags": []
          },
          "execution_count": 252
        }
      ]
    },
    {
      "cell_type": "markdown",
      "metadata": {
        "id": "5Q_w-R-A225p"
      },
      "source": [
        "### Import data for **option 3**:"
      ]
    },
    {
      "cell_type": "code",
      "metadata": {
        "id": "CT87QF6z2v-5"
      },
      "source": [
        "# loading of data\n",
        "\n",
        "raw_dataset=pd.read_csv('dataset.csv')\n",
        "\n",
        "dataset = raw_dataset.copy()\n",
        "dataset.tail()"
      ],
      "execution_count": null,
      "outputs": []
    },
    {
      "cell_type": "markdown",
      "metadata": {
        "id": "Cuym4yvk76vU"
      },
      "source": [
        "### Split the data into train and test\n",
        "\n",
        "Now split the dataset into a training set and a test set.\n",
        "\n",
        "We will use the test set in the final evaluation of our model."
      ]
    },
    {
      "cell_type": "code",
      "metadata": {
        "id": "qn-IGhUE7_1H"
      },
      "source": [
        "train_dataset = dataset.sample(frac=0.8,random_state=1)\n",
        "test_dataset = dataset.drop(train_dataset.index)"
      ],
      "execution_count": null,
      "outputs": []
    },
    {
      "cell_type": "markdown",
      "metadata": {
        "id": "J4ubs136WLNp"
      },
      "source": [
        "### Inspect the data\n",
        "\n",
        "Have a quick look at the joint distribution of a few pairs of columns from the training set."
      ]
    },
    {
      "cell_type": "code",
      "metadata": {
        "id": "oRKO_x8gWKv-"
      },
      "source": [
        "#sns.pairplot(train_dataset[column_names], diag_kind=\"kde\")\n",
        "#plt.show()"
      ],
      "execution_count": null,
      "outputs": []
    },
    {
      "cell_type": "markdown",
      "metadata": {
        "id": "gavKO_6DWRMP"
      },
      "source": [
        "Also look at the overall statistics:"
      ]
    },
    {
      "cell_type": "code",
      "metadata": {
        "id": "yi2FzC3T21jR",
        "colab": {
          "base_uri": "https://localhost:8080/",
          "height": 419
        },
        "outputId": "cde7974c-5e27-4a90-e0cf-1c72aea07832"
      },
      "source": [
        "train_stats = train_dataset.describe()\n",
        "train_stats.pop(\"ST\")\n",
        "\n",
        "train_stats = train_stats.transpose()\n",
        "train_stats"
      ],
      "execution_count": null,
      "outputs": [
        {
          "output_type": "execute_result",
          "data": {
            "text/html": [
              "<div>\n",
              "<style scoped>\n",
              "    .dataframe tbody tr th:only-of-type {\n",
              "        vertical-align: middle;\n",
              "    }\n",
              "\n",
              "    .dataframe tbody tr th {\n",
              "        vertical-align: top;\n",
              "    }\n",
              "\n",
              "    .dataframe thead th {\n",
              "        text-align: right;\n",
              "    }\n",
              "</style>\n",
              "<table border=\"1\" class=\"dataframe\">\n",
              "  <thead>\n",
              "    <tr style=\"text-align: right;\">\n",
              "      <th></th>\n",
              "      <th>count</th>\n",
              "      <th>mean</th>\n",
              "      <th>std</th>\n",
              "      <th>min</th>\n",
              "      <th>25%</th>\n",
              "      <th>50%</th>\n",
              "      <th>75%</th>\n",
              "      <th>max</th>\n",
              "    </tr>\n",
              "  </thead>\n",
              "  <tbody>\n",
              "    <tr>\n",
              "      <th>theta</th>\n",
              "      <td>40000.0</td>\n",
              "      <td>0.035441</td>\n",
              "      <td>0.035409</td>\n",
              "      <td>8.227378e-07</td>\n",
              "      <td>0.010152</td>\n",
              "      <td>0.024761</td>\n",
              "      <td>0.049136</td>\n",
              "      <td>0.398472</td>\n",
              "    </tr>\n",
              "    <tr>\n",
              "      <th>theta</th>\n",
              "      <td>40000.0</td>\n",
              "      <td>0.070948</td>\n",
              "      <td>0.049674</td>\n",
              "      <td>1.636472e-04</td>\n",
              "      <td>0.034155</td>\n",
              "      <td>0.059752</td>\n",
              "      <td>0.095815</td>\n",
              "      <td>0.431262</td>\n",
              "    </tr>\n",
              "    <tr>\n",
              "      <th>theta</th>\n",
              "      <td>40000.0</td>\n",
              "      <td>0.106703</td>\n",
              "      <td>0.060614</td>\n",
              "      <td>3.322635e-03</td>\n",
              "      <td>0.062049</td>\n",
              "      <td>0.095695</td>\n",
              "      <td>0.139350</td>\n",
              "      <td>0.483530</td>\n",
              "    </tr>\n",
              "    <tr>\n",
              "      <th>theta</th>\n",
              "      <td>40000.0</td>\n",
              "      <td>0.142465</td>\n",
              "      <td>0.069982</td>\n",
              "      <td>5.237236e-03</td>\n",
              "      <td>0.090981</td>\n",
              "      <td>0.131095</td>\n",
              "      <td>0.182129</td>\n",
              "      <td>0.624057</td>\n",
              "    </tr>\n",
              "    <tr>\n",
              "      <th>theta</th>\n",
              "      <td>40000.0</td>\n",
              "      <td>0.178111</td>\n",
              "      <td>0.078032</td>\n",
              "      <td>1.199932e-02</td>\n",
              "      <td>0.120799</td>\n",
              "      <td>0.167156</td>\n",
              "      <td>0.223681</td>\n",
              "      <td>0.703769</td>\n",
              "    </tr>\n",
              "    <tr>\n",
              "      <th>...</th>\n",
              "      <td>...</td>\n",
              "      <td>...</td>\n",
              "      <td>...</td>\n",
              "      <td>...</td>\n",
              "      <td>...</td>\n",
              "      <td>...</td>\n",
              "      <td>...</td>\n",
              "      <td>...</td>\n",
              "    </tr>\n",
              "    <tr>\n",
              "      <th>rho</th>\n",
              "      <td>40000.0</td>\n",
              "      <td>0.757438</td>\n",
              "      <td>0.084149</td>\n",
              "      <td>5.553369e-01</td>\n",
              "      <td>0.692068</td>\n",
              "      <td>0.764910</td>\n",
              "      <td>0.825379</td>\n",
              "      <td>0.931905</td>\n",
              "    </tr>\n",
              "    <tr>\n",
              "      <th>rho</th>\n",
              "      <td>40000.0</td>\n",
              "      <td>0.756611</td>\n",
              "      <td>0.083974</td>\n",
              "      <td>5.549933e-01</td>\n",
              "      <td>0.691518</td>\n",
              "      <td>0.764025</td>\n",
              "      <td>0.824411</td>\n",
              "      <td>0.928220</td>\n",
              "    </tr>\n",
              "    <tr>\n",
              "      <th>rho</th>\n",
              "      <td>40000.0</td>\n",
              "      <td>0.756066</td>\n",
              "      <td>0.083867</td>\n",
              "      <td>5.549343e-01</td>\n",
              "      <td>0.691137</td>\n",
              "      <td>0.763394</td>\n",
              "      <td>0.823737</td>\n",
              "      <td>0.927652</td>\n",
              "    </tr>\n",
              "    <tr>\n",
              "      <th>vol</th>\n",
              "      <td>40000.0</td>\n",
              "      <td>2.501001</td>\n",
              "      <td>0.867448</td>\n",
              "      <td>1.000078e+00</td>\n",
              "      <td>1.750726</td>\n",
              "      <td>2.499641</td>\n",
              "      <td>3.252811</td>\n",
              "      <td>3.999997</td>\n",
              "    </tr>\n",
              "    <tr>\n",
              "      <th>Ps</th>\n",
              "      <td>40000.0</td>\n",
              "      <td>1799.780040</td>\n",
              "      <td>115.279256</td>\n",
              "      <td>1.600001e+03</td>\n",
              "      <td>1699.433331</td>\n",
              "      <td>1799.461232</td>\n",
              "      <td>1899.745090</td>\n",
              "      <td>1999.979751</td>\n",
              "    </tr>\n",
              "  </tbody>\n",
              "</table>\n",
              "<p>352 rows × 8 columns</p>\n",
              "</div>"
            ],
            "text/plain": [
              "         count         mean         std  ...          50%          75%          max\n",
              "theta  40000.0     0.035441    0.035409  ...     0.024761     0.049136     0.398472\n",
              "theta  40000.0     0.070948    0.049674  ...     0.059752     0.095815     0.431262\n",
              "theta  40000.0     0.106703    0.060614  ...     0.095695     0.139350     0.483530\n",
              "theta  40000.0     0.142465    0.069982  ...     0.131095     0.182129     0.624057\n",
              "theta  40000.0     0.178111    0.078032  ...     0.167156     0.223681     0.703769\n",
              "...        ...          ...         ...  ...          ...          ...          ...\n",
              "rho    40000.0     0.757438    0.084149  ...     0.764910     0.825379     0.931905\n",
              "rho    40000.0     0.756611    0.083974  ...     0.764025     0.824411     0.928220\n",
              "rho    40000.0     0.756066    0.083867  ...     0.763394     0.823737     0.927652\n",
              "vol    40000.0     2.501001    0.867448  ...     2.499641     3.252811     3.999997\n",
              "Ps     40000.0  1799.780040  115.279256  ...  1799.461232  1899.745090  1999.979751\n",
              "\n",
              "[352 rows x 8 columns]"
            ]
          },
          "metadata": {},
          "execution_count": 123
        }
      ]
    },
    {
      "cell_type": "markdown",
      "metadata": {
        "id": "mRklxK5s388r"
      },
      "source": [
        "### Normalize the data\n",
        "\n",
        "Look again at the `train_stats` block above and note how different the ranges of each feature are."
      ]
    },
    {
      "cell_type": "markdown",
      "metadata": {
        "id": "-ywmerQ6dSox"
      },
      "source": [
        "It is good practice to normalize features that use different scales and ranges. Although the model *might* converge without feature normalization, it makes training more difficult, and it makes the resulting model dependent on the choice of units used in the input.\n",
        "\n",
        "Note: Although we intentionally generate these statistics from only the training dataset, these statistics will also be used to normalize the test dataset. We need to do that to project the test dataset into the same distribution that the model has been trained on."
      ]
    },
    {
      "cell_type": "code",
      "metadata": {
        "id": "JlC5ooJrgjQF"
      },
      "source": [
        "# def norm(x):\n",
        "#   return (x - train_stats['mean']) / train_stats['std']\n",
        "# normed_train_data = norm(train_dataset)\n",
        "# normed_test_data = norm(test_dataset)\n",
        "# #normed_train_data = train_dataset\n",
        "# #normed_test_data = test_dataset\n"
      ],
      "execution_count": null,
      "outputs": []
    },
    {
      "cell_type": "code",
      "metadata": {
        "id": "8G-7cQwtYZqF",
        "colab": {
          "base_uri": "https://localhost:8080/",
          "height": 33
        },
        "outputId": "c842045c-8bc3-4660-96c2-64730da12a7f"
      },
      "source": [
        "# def find_nearest(array, value):\n",
        "#     array = np.asarray(array)\n",
        "#     idx = (np.abs(array - value)).argmin()\n",
        "#     return array[idx], idx\n",
        "    \n",
        "# find_nearest(train_stats['std'], 0)"
      ],
      "execution_count": null,
      "outputs": [
        {
          "output_type": "execute_result",
          "data": {
            "text/plain": [
              "(0.0, 193)"
            ]
          },
          "metadata": {
            "tags": []
          },
          "execution_count": 245
        }
      ]
    },
    {
      "cell_type": "markdown",
      "metadata": {
        "id": "BuiClDk45eS4"
      },
      "source": [
        "This normalized data is what we will use to train the model.\n",
        "\n",
        "Caution: The statistics used to normalize the inputs here (mean and standard deviation) need to be applied to any other data that is fed to the model, along with the one-hot encoding that we did earlier.  That includes the test set as well as live data when the model is used in production."
      ]
    },
    {
      "cell_type": "markdown",
      "metadata": {
        "id": "FnxcF5nL7u3r"
      },
      "source": [
        "### Min-Max transformation"
      ]
    },
    {
      "cell_type": "code",
      "metadata": {
        "colab": {
          "base_uri": "https://localhost:8080/",
          "height": 142
        },
        "id": "44q6lmIZjdZR",
        "outputId": "d6bb8f86-6d72-4863-d6d8-c4a2f59dc1d9"
      },
      "source": [
        "points=175\n",
        "\n",
        "dataset.pop('radius')\n",
        "\n",
        "stats = dataset.iloc[:, points*2:].describe()\n",
        "stats.pop(\"ST\")\n",
        "\n",
        "stats = stats.transpose()\n",
        "stats"
      ],
      "execution_count": 19,
      "outputs": [
        {
          "output_type": "execute_result",
          "data": {
            "text/html": [
              "<div>\n",
              "<style scoped>\n",
              "    .dataframe tbody tr th:only-of-type {\n",
              "        vertical-align: middle;\n",
              "    }\n",
              "\n",
              "    .dataframe tbody tr th {\n",
              "        vertical-align: top;\n",
              "    }\n",
              "\n",
              "    .dataframe thead th {\n",
              "        text-align: right;\n",
              "    }\n",
              "</style>\n",
              "<table border=\"1\" class=\"dataframe\">\n",
              "  <thead>\n",
              "    <tr style=\"text-align: right;\">\n",
              "      <th></th>\n",
              "      <th>count</th>\n",
              "      <th>mean</th>\n",
              "      <th>std</th>\n",
              "      <th>min</th>\n",
              "      <th>25%</th>\n",
              "      <th>50%</th>\n",
              "      <th>75%</th>\n",
              "      <th>max</th>\n",
              "    </tr>\n",
              "  </thead>\n",
              "  <tbody>\n",
              "    <tr>\n",
              "      <th>vol</th>\n",
              "      <td>35537.0</td>\n",
              "      <td>1.257347</td>\n",
              "      <td>0.463560</td>\n",
              "      <td>0.500052</td>\n",
              "      <td>0.859353</td>\n",
              "      <td>1.235918</td>\n",
              "      <td>1.630791</td>\n",
              "      <td>2.403922</td>\n",
              "    </tr>\n",
              "    <tr>\n",
              "      <th>Ps</th>\n",
              "      <td>35537.0</td>\n",
              "      <td>2908.267819</td>\n",
              "      <td>561.359373</td>\n",
              "      <td>2000.005607</td>\n",
              "      <td>2422.481179</td>\n",
              "      <td>2872.274470</td>\n",
              "      <td>3370.227641</td>\n",
              "      <td>3999.962484</td>\n",
              "    </tr>\n",
              "    <tr>\n",
              "      <th>AR</th>\n",
              "      <td>35537.0</td>\n",
              "      <td>0.802390</td>\n",
              "      <td>0.079772</td>\n",
              "      <td>0.600004</td>\n",
              "      <td>0.748430</td>\n",
              "      <td>0.813696</td>\n",
              "      <td>0.865748</td>\n",
              "      <td>0.955270</td>\n",
              "    </tr>\n",
              "  </tbody>\n",
              "</table>\n",
              "</div>"
            ],
            "text/plain": [
              "       count         mean         std  ...          50%          75%          max\n",
              "vol  35537.0     1.257347    0.463560  ...     1.235918     1.630791     2.403922\n",
              "Ps   35537.0  2908.267819  561.359373  ...  2872.274470  3370.227641  3999.962484\n",
              "AR   35537.0     0.802390    0.079772  ...     0.813696     0.865748     0.955270\n",
              "\n",
              "[3 rows x 8 columns]"
            ]
          },
          "metadata": {},
          "execution_count": 19
        }
      ]
    },
    {
      "cell_type": "code",
      "metadata": {
        "id": "9pdeddTJTz0O",
        "colab": {
          "base_uri": "https://localhost:8080/"
        },
        "outputId": "075367d5-1ecd-4f8b-e4dc-eb7b0b6e5838"
      },
      "source": [
        "max_rho=[]\n",
        "min_rho=[]\n",
        "min_theta=[]\n",
        "max_theta=[]\n",
        "for i in range(len(dataset)):\n",
        "  max_rho.append(max(dataset.iloc[i, 0:points].values))\n",
        "  min_rho.append(min(dataset.iloc[i, 0:points].values))\n",
        "  max_theta.append(max(dataset.iloc[i, points:points*2].values))\n",
        "  min_theta.append(min(dataset.iloc[i, points:points*2].values))\n",
        "\n",
        "print(min(min_rho), max(max_rho), min(min_theta), max(max_theta))"
      ],
      "execution_count": 20,
      "outputs": [
        {
          "output_type": "stream",
          "name": "stdout",
          "text": [
            "1.2794529218609596e-06 6.283185168994403 0.34076192536524297 0.8627539094701838\n"
          ]
        }
      ]
    },
    {
      "cell_type": "code",
      "metadata": {
        "id": "laqakjWfUwd8"
      },
      "source": [
        "# Change the range of rho from 0 to 1\n",
        "\n",
        "OldMax= max(max_rho)\n",
        "OldMin=min(min_rho)\n",
        "\n",
        "NewValues_rho={}\n",
        "\n",
        "OldRange = (OldMax - OldMin)\n",
        "for i in range(len(dataset)):\n",
        "  if (OldRange == 0):\n",
        "      NewValue = NewMin\n",
        "      NewValues.append(NewValue)\n",
        "  else:\n",
        "      NewValue = (dataset.iloc[i, 0:points] - OldMin)/(OldMax-OldMin) \n",
        "      NewValues_rho[i]=NewValue"
      ],
      "execution_count": 21,
      "outputs": []
    },
    {
      "cell_type": "code",
      "metadata": {
        "id": "uCDhwYmJaPcS"
      },
      "source": [
        "# Change the range of theta from 0 to 1\n",
        "\n",
        "OldMax= max(max_theta)\n",
        "OldMin=min(min_theta)\n",
        "\n",
        "NewValues_theta={}\n",
        "\n",
        "OldRange = (OldMax - OldMin)\n",
        "for i in range(len(dataset)):\n",
        "  if (OldRange == 0):\n",
        "      NewValue = NewMin\n",
        "      NewValues.append(NewValue)\n",
        "  else:\n",
        "      NewValue = (dataset.iloc[i, points:points*2] - OldMin)/(OldMax-OldMin) \n",
        "      NewValues_theta[i]=NewValue"
      ],
      "execution_count": 22,
      "outputs": []
    },
    {
      "cell_type": "code",
      "metadata": {
        "id": "Qe4IfTeXj20G",
        "colab": {
          "base_uri": "https://localhost:8080/",
          "height": 253
        },
        "outputId": "c4c3959d-2470-40b6-f337-f9f58b01ffa7"
      },
      "source": [
        "df_rho=pd.DataFrame.from_dict(NewValues_rho).T\n",
        "df_theta=pd.DataFrame.from_dict(NewValues_theta).T\n",
        "\n",
        "new_df=pd.concat([df_rho, df_theta], axis=1)\n",
        "\n",
        "new_df.tail()"
      ],
      "execution_count": 23,
      "outputs": [
        {
          "output_type": "execute_result",
          "data": {
            "text/html": [
              "<div>\n",
              "<style scoped>\n",
              "    .dataframe tbody tr th:only-of-type {\n",
              "        vertical-align: middle;\n",
              "    }\n",
              "\n",
              "    .dataframe tbody tr th {\n",
              "        vertical-align: top;\n",
              "    }\n",
              "\n",
              "    .dataframe thead th {\n",
              "        text-align: right;\n",
              "    }\n",
              "</style>\n",
              "<table border=\"1\" class=\"dataframe\">\n",
              "  <thead>\n",
              "    <tr style=\"text-align: right;\">\n",
              "      <th></th>\n",
              "      <th>theta</th>\n",
              "      <th>theta</th>\n",
              "      <th>theta</th>\n",
              "      <th>theta</th>\n",
              "      <th>theta</th>\n",
              "      <th>theta</th>\n",
              "      <th>theta</th>\n",
              "      <th>theta</th>\n",
              "      <th>theta</th>\n",
              "      <th>theta</th>\n",
              "      <th>theta</th>\n",
              "      <th>theta</th>\n",
              "      <th>theta</th>\n",
              "      <th>theta</th>\n",
              "      <th>theta</th>\n",
              "      <th>theta</th>\n",
              "      <th>theta</th>\n",
              "      <th>theta</th>\n",
              "      <th>theta</th>\n",
              "      <th>theta</th>\n",
              "      <th>theta</th>\n",
              "      <th>theta</th>\n",
              "      <th>theta</th>\n",
              "      <th>theta</th>\n",
              "      <th>theta</th>\n",
              "      <th>theta</th>\n",
              "      <th>theta</th>\n",
              "      <th>theta</th>\n",
              "      <th>theta</th>\n",
              "      <th>theta</th>\n",
              "      <th>theta</th>\n",
              "      <th>theta</th>\n",
              "      <th>theta</th>\n",
              "      <th>theta</th>\n",
              "      <th>theta</th>\n",
              "      <th>theta</th>\n",
              "      <th>theta</th>\n",
              "      <th>theta</th>\n",
              "      <th>theta</th>\n",
              "      <th>theta</th>\n",
              "      <th>...</th>\n",
              "      <th>rho</th>\n",
              "      <th>rho</th>\n",
              "      <th>rho</th>\n",
              "      <th>rho</th>\n",
              "      <th>rho</th>\n",
              "      <th>rho</th>\n",
              "      <th>rho</th>\n",
              "      <th>rho</th>\n",
              "      <th>rho</th>\n",
              "      <th>rho</th>\n",
              "      <th>rho</th>\n",
              "      <th>rho</th>\n",
              "      <th>rho</th>\n",
              "      <th>rho</th>\n",
              "      <th>rho</th>\n",
              "      <th>rho</th>\n",
              "      <th>rho</th>\n",
              "      <th>rho</th>\n",
              "      <th>rho</th>\n",
              "      <th>rho</th>\n",
              "      <th>rho</th>\n",
              "      <th>rho</th>\n",
              "      <th>rho</th>\n",
              "      <th>rho</th>\n",
              "      <th>rho</th>\n",
              "      <th>rho</th>\n",
              "      <th>rho</th>\n",
              "      <th>rho</th>\n",
              "      <th>rho</th>\n",
              "      <th>rho</th>\n",
              "      <th>rho</th>\n",
              "      <th>rho</th>\n",
              "      <th>rho</th>\n",
              "      <th>rho</th>\n",
              "      <th>rho</th>\n",
              "      <th>rho</th>\n",
              "      <th>rho</th>\n",
              "      <th>rho</th>\n",
              "      <th>rho</th>\n",
              "      <th>rho</th>\n",
              "    </tr>\n",
              "  </thead>\n",
              "  <tbody>\n",
              "    <tr>\n",
              "      <th>35532</th>\n",
              "      <td>0.002631</td>\n",
              "      <td>0.006153</td>\n",
              "      <td>0.016891</td>\n",
              "      <td>0.018936</td>\n",
              "      <td>0.020172</td>\n",
              "      <td>0.021709</td>\n",
              "      <td>0.023338</td>\n",
              "      <td>0.024133</td>\n",
              "      <td>0.025232</td>\n",
              "      <td>0.026852</td>\n",
              "      <td>0.027832</td>\n",
              "      <td>0.029722</td>\n",
              "      <td>0.042165</td>\n",
              "      <td>0.045774</td>\n",
              "      <td>0.046695</td>\n",
              "      <td>0.064883</td>\n",
              "      <td>0.077978</td>\n",
              "      <td>0.085757</td>\n",
              "      <td>0.088977</td>\n",
              "      <td>0.089385</td>\n",
              "      <td>0.090754</td>\n",
              "      <td>0.132291</td>\n",
              "      <td>0.134847</td>\n",
              "      <td>0.140829</td>\n",
              "      <td>0.141675</td>\n",
              "      <td>0.146380</td>\n",
              "      <td>0.148916</td>\n",
              "      <td>0.160995</td>\n",
              "      <td>0.168204</td>\n",
              "      <td>0.172752</td>\n",
              "      <td>0.173402</td>\n",
              "      <td>0.174798</td>\n",
              "      <td>0.175500</td>\n",
              "      <td>0.179178</td>\n",
              "      <td>0.180090</td>\n",
              "      <td>0.180839</td>\n",
              "      <td>0.181395</td>\n",
              "      <td>0.182513</td>\n",
              "      <td>0.188330</td>\n",
              "      <td>0.195241</td>\n",
              "      <td>...</td>\n",
              "      <td>0.668351</td>\n",
              "      <td>0.668355</td>\n",
              "      <td>0.668140</td>\n",
              "      <td>0.667836</td>\n",
              "      <td>0.660216</td>\n",
              "      <td>0.658773</td>\n",
              "      <td>0.654916</td>\n",
              "      <td>0.647290</td>\n",
              "      <td>0.640685</td>\n",
              "      <td>0.619058</td>\n",
              "      <td>0.618742</td>\n",
              "      <td>0.601193</td>\n",
              "      <td>0.598574</td>\n",
              "      <td>0.544956</td>\n",
              "      <td>0.525798</td>\n",
              "      <td>0.506907</td>\n",
              "      <td>0.505012</td>\n",
              "      <td>0.501966</td>\n",
              "      <td>0.501704</td>\n",
              "      <td>0.497375</td>\n",
              "      <td>0.486301</td>\n",
              "      <td>0.483020</td>\n",
              "      <td>0.476949</td>\n",
              "      <td>0.465348</td>\n",
              "      <td>0.448198</td>\n",
              "      <td>0.446925</td>\n",
              "      <td>0.429815</td>\n",
              "      <td>0.415094</td>\n",
              "      <td>0.401813</td>\n",
              "      <td>0.385900</td>\n",
              "      <td>0.370337</td>\n",
              "      <td>0.364533</td>\n",
              "      <td>0.359294</td>\n",
              "      <td>0.346778</td>\n",
              "      <td>0.346735</td>\n",
              "      <td>0.340969</td>\n",
              "      <td>0.339954</td>\n",
              "      <td>0.330851</td>\n",
              "      <td>0.330578</td>\n",
              "      <td>0.330075</td>\n",
              "    </tr>\n",
              "    <tr>\n",
              "      <th>35533</th>\n",
              "      <td>0.008726</td>\n",
              "      <td>0.009241</td>\n",
              "      <td>0.015573</td>\n",
              "      <td>0.016533</td>\n",
              "      <td>0.023020</td>\n",
              "      <td>0.029521</td>\n",
              "      <td>0.029597</td>\n",
              "      <td>0.035206</td>\n",
              "      <td>0.038038</td>\n",
              "      <td>0.038794</td>\n",
              "      <td>0.041229</td>\n",
              "      <td>0.062673</td>\n",
              "      <td>0.064096</td>\n",
              "      <td>0.065112</td>\n",
              "      <td>0.065846</td>\n",
              "      <td>0.067563</td>\n",
              "      <td>0.071554</td>\n",
              "      <td>0.073429</td>\n",
              "      <td>0.076059</td>\n",
              "      <td>0.077710</td>\n",
              "      <td>0.085385</td>\n",
              "      <td>0.088374</td>\n",
              "      <td>0.100915</td>\n",
              "      <td>0.111777</td>\n",
              "      <td>0.119657</td>\n",
              "      <td>0.136776</td>\n",
              "      <td>0.140223</td>\n",
              "      <td>0.144864</td>\n",
              "      <td>0.148637</td>\n",
              "      <td>0.161253</td>\n",
              "      <td>0.166424</td>\n",
              "      <td>0.169268</td>\n",
              "      <td>0.174685</td>\n",
              "      <td>0.179842</td>\n",
              "      <td>0.193292</td>\n",
              "      <td>0.196348</td>\n",
              "      <td>0.207086</td>\n",
              "      <td>0.214823</td>\n",
              "      <td>0.215985</td>\n",
              "      <td>0.218299</td>\n",
              "      <td>...</td>\n",
              "      <td>0.562530</td>\n",
              "      <td>0.557022</td>\n",
              "      <td>0.554839</td>\n",
              "      <td>0.554064</td>\n",
              "      <td>0.553235</td>\n",
              "      <td>0.549671</td>\n",
              "      <td>0.547423</td>\n",
              "      <td>0.543606</td>\n",
              "      <td>0.540344</td>\n",
              "      <td>0.538600</td>\n",
              "      <td>0.535957</td>\n",
              "      <td>0.535772</td>\n",
              "      <td>0.532164</td>\n",
              "      <td>0.529768</td>\n",
              "      <td>0.523849</td>\n",
              "      <td>0.523261</td>\n",
              "      <td>0.516568</td>\n",
              "      <td>0.510346</td>\n",
              "      <td>0.505588</td>\n",
              "      <td>0.502913</td>\n",
              "      <td>0.500115</td>\n",
              "      <td>0.496402</td>\n",
              "      <td>0.481600</td>\n",
              "      <td>0.480814</td>\n",
              "      <td>0.460736</td>\n",
              "      <td>0.456440</td>\n",
              "      <td>0.454685</td>\n",
              "      <td>0.443373</td>\n",
              "      <td>0.434916</td>\n",
              "      <td>0.415959</td>\n",
              "      <td>0.415826</td>\n",
              "      <td>0.409281</td>\n",
              "      <td>0.398430</td>\n",
              "      <td>0.394875</td>\n",
              "      <td>0.392635</td>\n",
              "      <td>0.390084</td>\n",
              "      <td>0.388143</td>\n",
              "      <td>0.387763</td>\n",
              "      <td>0.387202</td>\n",
              "      <td>0.387200</td>\n",
              "    </tr>\n",
              "    <tr>\n",
              "      <th>35534</th>\n",
              "      <td>0.008172</td>\n",
              "      <td>0.022973</td>\n",
              "      <td>0.030498</td>\n",
              "      <td>0.032982</td>\n",
              "      <td>0.034260</td>\n",
              "      <td>0.039171</td>\n",
              "      <td>0.040534</td>\n",
              "      <td>0.040809</td>\n",
              "      <td>0.042631</td>\n",
              "      <td>0.043519</td>\n",
              "      <td>0.051140</td>\n",
              "      <td>0.051962</td>\n",
              "      <td>0.059372</td>\n",
              "      <td>0.060544</td>\n",
              "      <td>0.064530</td>\n",
              "      <td>0.071753</td>\n",
              "      <td>0.079368</td>\n",
              "      <td>0.081189</td>\n",
              "      <td>0.091886</td>\n",
              "      <td>0.096256</td>\n",
              "      <td>0.116782</td>\n",
              "      <td>0.120982</td>\n",
              "      <td>0.126834</td>\n",
              "      <td>0.131316</td>\n",
              "      <td>0.142547</td>\n",
              "      <td>0.147319</td>\n",
              "      <td>0.157553</td>\n",
              "      <td>0.162946</td>\n",
              "      <td>0.162961</td>\n",
              "      <td>0.166875</td>\n",
              "      <td>0.182167</td>\n",
              "      <td>0.189876</td>\n",
              "      <td>0.209390</td>\n",
              "      <td>0.220230</td>\n",
              "      <td>0.225960</td>\n",
              "      <td>0.231544</td>\n",
              "      <td>0.244047</td>\n",
              "      <td>0.244806</td>\n",
              "      <td>0.248919</td>\n",
              "      <td>0.258172</td>\n",
              "      <td>...</td>\n",
              "      <td>0.576494</td>\n",
              "      <td>0.566133</td>\n",
              "      <td>0.552695</td>\n",
              "      <td>0.550681</td>\n",
              "      <td>0.547503</td>\n",
              "      <td>0.518925</td>\n",
              "      <td>0.507122</td>\n",
              "      <td>0.503398</td>\n",
              "      <td>0.502640</td>\n",
              "      <td>0.488018</td>\n",
              "      <td>0.478045</td>\n",
              "      <td>0.470996</td>\n",
              "      <td>0.469800</td>\n",
              "      <td>0.442146</td>\n",
              "      <td>0.440509</td>\n",
              "      <td>0.436708</td>\n",
              "      <td>0.436659</td>\n",
              "      <td>0.428263</td>\n",
              "      <td>0.421790</td>\n",
              "      <td>0.419970</td>\n",
              "      <td>0.415784</td>\n",
              "      <td>0.415578</td>\n",
              "      <td>0.390283</td>\n",
              "      <td>0.355178</td>\n",
              "      <td>0.344643</td>\n",
              "      <td>0.343239</td>\n",
              "      <td>0.327295</td>\n",
              "      <td>0.324923</td>\n",
              "      <td>0.319893</td>\n",
              "      <td>0.313767</td>\n",
              "      <td>0.312242</td>\n",
              "      <td>0.308377</td>\n",
              "      <td>0.307734</td>\n",
              "      <td>0.306909</td>\n",
              "      <td>0.305079</td>\n",
              "      <td>0.300248</td>\n",
              "      <td>0.299211</td>\n",
              "      <td>0.293324</td>\n",
              "      <td>0.293156</td>\n",
              "      <td>0.292673</td>\n",
              "    </tr>\n",
              "    <tr>\n",
              "      <th>35535</th>\n",
              "      <td>0.008611</td>\n",
              "      <td>0.017341</td>\n",
              "      <td>0.020153</td>\n",
              "      <td>0.022033</td>\n",
              "      <td>0.027864</td>\n",
              "      <td>0.033114</td>\n",
              "      <td>0.045447</td>\n",
              "      <td>0.047699</td>\n",
              "      <td>0.050459</td>\n",
              "      <td>0.052631</td>\n",
              "      <td>0.054685</td>\n",
              "      <td>0.068178</td>\n",
              "      <td>0.071835</td>\n",
              "      <td>0.072022</td>\n",
              "      <td>0.087413</td>\n",
              "      <td>0.089314</td>\n",
              "      <td>0.091418</td>\n",
              "      <td>0.093532</td>\n",
              "      <td>0.096381</td>\n",
              "      <td>0.110174</td>\n",
              "      <td>0.113495</td>\n",
              "      <td>0.119106</td>\n",
              "      <td>0.128332</td>\n",
              "      <td>0.135035</td>\n",
              "      <td>0.145887</td>\n",
              "      <td>0.147331</td>\n",
              "      <td>0.154140</td>\n",
              "      <td>0.155770</td>\n",
              "      <td>0.162833</td>\n",
              "      <td>0.168571</td>\n",
              "      <td>0.181487</td>\n",
              "      <td>0.182462</td>\n",
              "      <td>0.183843</td>\n",
              "      <td>0.189502</td>\n",
              "      <td>0.196288</td>\n",
              "      <td>0.204214</td>\n",
              "      <td>0.209246</td>\n",
              "      <td>0.212068</td>\n",
              "      <td>0.220287</td>\n",
              "      <td>0.227866</td>\n",
              "      <td>...</td>\n",
              "      <td>0.781367</td>\n",
              "      <td>0.781513</td>\n",
              "      <td>0.781477</td>\n",
              "      <td>0.781463</td>\n",
              "      <td>0.781452</td>\n",
              "      <td>0.781398</td>\n",
              "      <td>0.775542</td>\n",
              "      <td>0.768818</td>\n",
              "      <td>0.763090</td>\n",
              "      <td>0.758372</td>\n",
              "      <td>0.754169</td>\n",
              "      <td>0.747559</td>\n",
              "      <td>0.747369</td>\n",
              "      <td>0.742612</td>\n",
              "      <td>0.734583</td>\n",
              "      <td>0.732517</td>\n",
              "      <td>0.729845</td>\n",
              "      <td>0.720384</td>\n",
              "      <td>0.698936</td>\n",
              "      <td>0.696853</td>\n",
              "      <td>0.696574</td>\n",
              "      <td>0.684883</td>\n",
              "      <td>0.672950</td>\n",
              "      <td>0.634213</td>\n",
              "      <td>0.633559</td>\n",
              "      <td>0.613709</td>\n",
              "      <td>0.610010</td>\n",
              "      <td>0.595462</td>\n",
              "      <td>0.567408</td>\n",
              "      <td>0.566984</td>\n",
              "      <td>0.563096</td>\n",
              "      <td>0.561114</td>\n",
              "      <td>0.550249</td>\n",
              "      <td>0.537212</td>\n",
              "      <td>0.535827</td>\n",
              "      <td>0.534719</td>\n",
              "      <td>0.521456</td>\n",
              "      <td>0.519073</td>\n",
              "      <td>0.518770</td>\n",
              "      <td>0.517624</td>\n",
              "    </tr>\n",
              "    <tr>\n",
              "      <th>35536</th>\n",
              "      <td>0.001522</td>\n",
              "      <td>0.004628</td>\n",
              "      <td>0.006973</td>\n",
              "      <td>0.013721</td>\n",
              "      <td>0.020003</td>\n",
              "      <td>0.028311</td>\n",
              "      <td>0.055580</td>\n",
              "      <td>0.066910</td>\n",
              "      <td>0.080280</td>\n",
              "      <td>0.090908</td>\n",
              "      <td>0.091208</td>\n",
              "      <td>0.091615</td>\n",
              "      <td>0.093201</td>\n",
              "      <td>0.093554</td>\n",
              "      <td>0.113169</td>\n",
              "      <td>0.121151</td>\n",
              "      <td>0.122527</td>\n",
              "      <td>0.122622</td>\n",
              "      <td>0.134007</td>\n",
              "      <td>0.148595</td>\n",
              "      <td>0.152714</td>\n",
              "      <td>0.168244</td>\n",
              "      <td>0.176207</td>\n",
              "      <td>0.178379</td>\n",
              "      <td>0.184787</td>\n",
              "      <td>0.198865</td>\n",
              "      <td>0.207233</td>\n",
              "      <td>0.214187</td>\n",
              "      <td>0.224588</td>\n",
              "      <td>0.233813</td>\n",
              "      <td>0.234835</td>\n",
              "      <td>0.235033</td>\n",
              "      <td>0.241367</td>\n",
              "      <td>0.242657</td>\n",
              "      <td>0.247768</td>\n",
              "      <td>0.263803</td>\n",
              "      <td>0.264802</td>\n",
              "      <td>0.273751</td>\n",
              "      <td>0.274696</td>\n",
              "      <td>0.275757</td>\n",
              "      <td>...</td>\n",
              "      <td>0.812787</td>\n",
              "      <td>0.812063</td>\n",
              "      <td>0.805102</td>\n",
              "      <td>0.798061</td>\n",
              "      <td>0.797639</td>\n",
              "      <td>0.790526</td>\n",
              "      <td>0.784234</td>\n",
              "      <td>0.781631</td>\n",
              "      <td>0.773257</td>\n",
              "      <td>0.773205</td>\n",
              "      <td>0.753335</td>\n",
              "      <td>0.742046</td>\n",
              "      <td>0.702910</td>\n",
              "      <td>0.698641</td>\n",
              "      <td>0.691767</td>\n",
              "      <td>0.682994</td>\n",
              "      <td>0.674371</td>\n",
              "      <td>0.666848</td>\n",
              "      <td>0.665848</td>\n",
              "      <td>0.656224</td>\n",
              "      <td>0.651295</td>\n",
              "      <td>0.646380</td>\n",
              "      <td>0.633478</td>\n",
              "      <td>0.631297</td>\n",
              "      <td>0.626961</td>\n",
              "      <td>0.626853</td>\n",
              "      <td>0.626622</td>\n",
              "      <td>0.624388</td>\n",
              "      <td>0.622819</td>\n",
              "      <td>0.618493</td>\n",
              "      <td>0.607921</td>\n",
              "      <td>0.607532</td>\n",
              "      <td>0.604690</td>\n",
              "      <td>0.600007</td>\n",
              "      <td>0.593787</td>\n",
              "      <td>0.593400</td>\n",
              "      <td>0.593191</td>\n",
              "      <td>0.590855</td>\n",
              "      <td>0.589925</td>\n",
              "      <td>0.589531</td>\n",
              "    </tr>\n",
              "  </tbody>\n",
              "</table>\n",
              "<p>5 rows × 350 columns</p>\n",
              "</div>"
            ],
            "text/plain": [
              "          theta     theta     theta  ...       rho       rho       rho\n",
              "35532  0.002631  0.006153  0.016891  ...  0.330851  0.330578  0.330075\n",
              "35533  0.008726  0.009241  0.015573  ...  0.387763  0.387202  0.387200\n",
              "35534  0.008172  0.022973  0.030498  ...  0.293324  0.293156  0.292673\n",
              "35535  0.008611  0.017341  0.020153  ...  0.519073  0.518770  0.517624\n",
              "35536  0.001522  0.004628  0.006973  ...  0.590855  0.589925  0.589531\n",
              "\n",
              "[5 rows x 350 columns]"
            ]
          },
          "metadata": {},
          "execution_count": 23
        }
      ]
    },
    {
      "cell_type": "code",
      "metadata": {
        "id": "ogH0AAnoVhbM",
        "colab": {
          "base_uri": "https://localhost:8080/",
          "height": 312
        },
        "outputId": "63080ff6-be7a-460e-8a6a-548287983019"
      },
      "source": [
        "plt.figure()\n",
        "plt.title('Polar coordinates')\n",
        "for n in range(1000):\n",
        "  plt.plot(new_df.iloc[n, 0:points], new_df.iloc[n, points:points*2], 'o', markersize=1)\n",
        "plt.ylabel('Radius, ρ')\n",
        "plt.xlabel('Azimuth angle, θ')"
      ],
      "execution_count": 24,
      "outputs": [
        {
          "output_type": "execute_result",
          "data": {
            "text/plain": [
              "Text(0.5, 0, 'Azimuth angle, θ')"
            ]
          },
          "metadata": {},
          "execution_count": 24
        },
        {
          "output_type": "display_data",
          "data": {
            "image/png": "[encoded data removed]",
            "text/plain": [
              "<Figure size 432x288 with 1 Axes>"
            ]
          },
          "metadata": {
            "needs_background": "light"
          }
        }
      ]
    },
    {
      "cell_type": "code",
      "metadata": {
        "id": "Yemp8bAu7xo5"
      },
      "source": [
        "def min_max_norm(x):\n",
        "  return (x-stats['min'])/(stats['max']-stats['min'])\n",
        "\n",
        "normed_data_rest = min_max_norm(dataset.iloc[:, points*2:])\n"
      ],
      "execution_count": 25,
      "outputs": []
    },
    {
      "cell_type": "code",
      "metadata": {
        "id": "eQ0X2FOTWAsV",
        "colab": {
          "base_uri": "https://localhost:8080/",
          "height": 253
        },
        "outputId": "bf995aff-e184-42ae-efa9-7b9e2c513040"
      },
      "source": [
        "normed_data = new_df.copy()\n",
        "normed_data['volume'] = normed_data_rest.vol\n",
        "# normed_data['centre_x'] = normed_data_rest.centre_x\n",
        "# normed_data['centre_y'] = normed_data_rest.centre_y\n",
        "# normed_data['Aspect_Ratio'] = normed_data_rest.Aspect_Ratio\n",
        "\n",
        "normed_data['Ps'] = normed_data_rest.Ps\n",
        "# normed_data['volt'] = normed_data_rest.volt\n",
        "normed_data['ST'] = dataset.ST\n",
        "\n",
        "normed_data.tail()"
      ],
      "execution_count": 26,
      "outputs": [
        {
          "output_type": "execute_result",
          "data": {
            "text/html": [
              "<div>\n",
              "<style scoped>\n",
              "    .dataframe tbody tr th:only-of-type {\n",
              "        vertical-align: middle;\n",
              "    }\n",
              "\n",
              "    .dataframe tbody tr th {\n",
              "        vertical-align: top;\n",
              "    }\n",
              "\n",
              "    .dataframe thead th {\n",
              "        text-align: right;\n",
              "    }\n",
              "</style>\n",
              "<table border=\"1\" class=\"dataframe\">\n",
              "  <thead>\n",
              "    <tr style=\"text-align: right;\">\n",
              "      <th></th>\n",
              "      <th>theta</th>\n",
              "      <th>theta</th>\n",
              "      <th>theta</th>\n",
              "      <th>theta</th>\n",
              "      <th>theta</th>\n",
              "      <th>theta</th>\n",
              "      <th>theta</th>\n",
              "      <th>theta</th>\n",
              "      <th>theta</th>\n",
              "      <th>theta</th>\n",
              "      <th>theta</th>\n",
              "      <th>theta</th>\n",
              "      <th>theta</th>\n",
              "      <th>theta</th>\n",
              "      <th>theta</th>\n",
              "      <th>theta</th>\n",
              "      <th>theta</th>\n",
              "      <th>theta</th>\n",
              "      <th>theta</th>\n",
              "      <th>theta</th>\n",
              "      <th>theta</th>\n",
              "      <th>theta</th>\n",
              "      <th>theta</th>\n",
              "      <th>theta</th>\n",
              "      <th>theta</th>\n",
              "      <th>theta</th>\n",
              "      <th>theta</th>\n",
              "      <th>theta</th>\n",
              "      <th>theta</th>\n",
              "      <th>theta</th>\n",
              "      <th>theta</th>\n",
              "      <th>theta</th>\n",
              "      <th>theta</th>\n",
              "      <th>theta</th>\n",
              "      <th>theta</th>\n",
              "      <th>theta</th>\n",
              "      <th>theta</th>\n",
              "      <th>theta</th>\n",
              "      <th>theta</th>\n",
              "      <th>theta</th>\n",
              "      <th>...</th>\n",
              "      <th>rho</th>\n",
              "      <th>rho</th>\n",
              "      <th>rho</th>\n",
              "      <th>rho</th>\n",
              "      <th>rho</th>\n",
              "      <th>rho</th>\n",
              "      <th>rho</th>\n",
              "      <th>rho</th>\n",
              "      <th>rho</th>\n",
              "      <th>rho</th>\n",
              "      <th>rho</th>\n",
              "      <th>rho</th>\n",
              "      <th>rho</th>\n",
              "      <th>rho</th>\n",
              "      <th>rho</th>\n",
              "      <th>rho</th>\n",
              "      <th>rho</th>\n",
              "      <th>rho</th>\n",
              "      <th>rho</th>\n",
              "      <th>rho</th>\n",
              "      <th>rho</th>\n",
              "      <th>rho</th>\n",
              "      <th>rho</th>\n",
              "      <th>rho</th>\n",
              "      <th>rho</th>\n",
              "      <th>rho</th>\n",
              "      <th>rho</th>\n",
              "      <th>rho</th>\n",
              "      <th>rho</th>\n",
              "      <th>rho</th>\n",
              "      <th>rho</th>\n",
              "      <th>rho</th>\n",
              "      <th>rho</th>\n",
              "      <th>rho</th>\n",
              "      <th>rho</th>\n",
              "      <th>rho</th>\n",
              "      <th>rho</th>\n",
              "      <th>volume</th>\n",
              "      <th>Ps</th>\n",
              "      <th>ST</th>\n",
              "    </tr>\n",
              "  </thead>\n",
              "  <tbody>\n",
              "    <tr>\n",
              "      <th>35532</th>\n",
              "      <td>0.002631</td>\n",
              "      <td>0.006153</td>\n",
              "      <td>0.016891</td>\n",
              "      <td>0.018936</td>\n",
              "      <td>0.020172</td>\n",
              "      <td>0.021709</td>\n",
              "      <td>0.023338</td>\n",
              "      <td>0.024133</td>\n",
              "      <td>0.025232</td>\n",
              "      <td>0.026852</td>\n",
              "      <td>0.027832</td>\n",
              "      <td>0.029722</td>\n",
              "      <td>0.042165</td>\n",
              "      <td>0.045774</td>\n",
              "      <td>0.046695</td>\n",
              "      <td>0.064883</td>\n",
              "      <td>0.077978</td>\n",
              "      <td>0.085757</td>\n",
              "      <td>0.088977</td>\n",
              "      <td>0.089385</td>\n",
              "      <td>0.090754</td>\n",
              "      <td>0.132291</td>\n",
              "      <td>0.134847</td>\n",
              "      <td>0.140829</td>\n",
              "      <td>0.141675</td>\n",
              "      <td>0.146380</td>\n",
              "      <td>0.148916</td>\n",
              "      <td>0.160995</td>\n",
              "      <td>0.168204</td>\n",
              "      <td>0.172752</td>\n",
              "      <td>0.173402</td>\n",
              "      <td>0.174798</td>\n",
              "      <td>0.175500</td>\n",
              "      <td>0.179178</td>\n",
              "      <td>0.180090</td>\n",
              "      <td>0.180839</td>\n",
              "      <td>0.181395</td>\n",
              "      <td>0.182513</td>\n",
              "      <td>0.188330</td>\n",
              "      <td>0.195241</td>\n",
              "      <td>...</td>\n",
              "      <td>0.667836</td>\n",
              "      <td>0.660216</td>\n",
              "      <td>0.658773</td>\n",
              "      <td>0.654916</td>\n",
              "      <td>0.647290</td>\n",
              "      <td>0.640685</td>\n",
              "      <td>0.619058</td>\n",
              "      <td>0.618742</td>\n",
              "      <td>0.601193</td>\n",
              "      <td>0.598574</td>\n",
              "      <td>0.544956</td>\n",
              "      <td>0.525798</td>\n",
              "      <td>0.506907</td>\n",
              "      <td>0.505012</td>\n",
              "      <td>0.501966</td>\n",
              "      <td>0.501704</td>\n",
              "      <td>0.497375</td>\n",
              "      <td>0.486301</td>\n",
              "      <td>0.483020</td>\n",
              "      <td>0.476949</td>\n",
              "      <td>0.465348</td>\n",
              "      <td>0.448198</td>\n",
              "      <td>0.446925</td>\n",
              "      <td>0.429815</td>\n",
              "      <td>0.415094</td>\n",
              "      <td>0.401813</td>\n",
              "      <td>0.385900</td>\n",
              "      <td>0.370337</td>\n",
              "      <td>0.364533</td>\n",
              "      <td>0.359294</td>\n",
              "      <td>0.346778</td>\n",
              "      <td>0.346735</td>\n",
              "      <td>0.340969</td>\n",
              "      <td>0.339954</td>\n",
              "      <td>0.330851</td>\n",
              "      <td>0.330578</td>\n",
              "      <td>0.330075</td>\n",
              "      <td>0.289507</td>\n",
              "      <td>0.377084</td>\n",
              "      <td>30.807223</td>\n",
              "    </tr>\n",
              "    <tr>\n",
              "      <th>35533</th>\n",
              "      <td>0.008726</td>\n",
              "      <td>0.009241</td>\n",
              "      <td>0.015573</td>\n",
              "      <td>0.016533</td>\n",
              "      <td>0.023020</td>\n",
              "      <td>0.029521</td>\n",
              "      <td>0.029597</td>\n",
              "      <td>0.035206</td>\n",
              "      <td>0.038038</td>\n",
              "      <td>0.038794</td>\n",
              "      <td>0.041229</td>\n",
              "      <td>0.062673</td>\n",
              "      <td>0.064096</td>\n",
              "      <td>0.065112</td>\n",
              "      <td>0.065846</td>\n",
              "      <td>0.067563</td>\n",
              "      <td>0.071554</td>\n",
              "      <td>0.073429</td>\n",
              "      <td>0.076059</td>\n",
              "      <td>0.077710</td>\n",
              "      <td>0.085385</td>\n",
              "      <td>0.088374</td>\n",
              "      <td>0.100915</td>\n",
              "      <td>0.111777</td>\n",
              "      <td>0.119657</td>\n",
              "      <td>0.136776</td>\n",
              "      <td>0.140223</td>\n",
              "      <td>0.144864</td>\n",
              "      <td>0.148637</td>\n",
              "      <td>0.161253</td>\n",
              "      <td>0.166424</td>\n",
              "      <td>0.169268</td>\n",
              "      <td>0.174685</td>\n",
              "      <td>0.179842</td>\n",
              "      <td>0.193292</td>\n",
              "      <td>0.196348</td>\n",
              "      <td>0.207086</td>\n",
              "      <td>0.214823</td>\n",
              "      <td>0.215985</td>\n",
              "      <td>0.218299</td>\n",
              "      <td>...</td>\n",
              "      <td>0.554064</td>\n",
              "      <td>0.553235</td>\n",
              "      <td>0.549671</td>\n",
              "      <td>0.547423</td>\n",
              "      <td>0.543606</td>\n",
              "      <td>0.540344</td>\n",
              "      <td>0.538600</td>\n",
              "      <td>0.535957</td>\n",
              "      <td>0.535772</td>\n",
              "      <td>0.532164</td>\n",
              "      <td>0.529768</td>\n",
              "      <td>0.523849</td>\n",
              "      <td>0.523261</td>\n",
              "      <td>0.516568</td>\n",
              "      <td>0.510346</td>\n",
              "      <td>0.505588</td>\n",
              "      <td>0.502913</td>\n",
              "      <td>0.500115</td>\n",
              "      <td>0.496402</td>\n",
              "      <td>0.481600</td>\n",
              "      <td>0.480814</td>\n",
              "      <td>0.460736</td>\n",
              "      <td>0.456440</td>\n",
              "      <td>0.454685</td>\n",
              "      <td>0.443373</td>\n",
              "      <td>0.434916</td>\n",
              "      <td>0.415959</td>\n",
              "      <td>0.415826</td>\n",
              "      <td>0.409281</td>\n",
              "      <td>0.398430</td>\n",
              "      <td>0.394875</td>\n",
              "      <td>0.392635</td>\n",
              "      <td>0.390084</td>\n",
              "      <td>0.388143</td>\n",
              "      <td>0.387763</td>\n",
              "      <td>0.387202</td>\n",
              "      <td>0.387200</td>\n",
              "      <td>0.229166</td>\n",
              "      <td>0.138878</td>\n",
              "      <td>35.257709</td>\n",
              "    </tr>\n",
              "    <tr>\n",
              "      <th>35534</th>\n",
              "      <td>0.008172</td>\n",
              "      <td>0.022973</td>\n",
              "      <td>0.030498</td>\n",
              "      <td>0.032982</td>\n",
              "      <td>0.034260</td>\n",
              "      <td>0.039171</td>\n",
              "      <td>0.040534</td>\n",
              "      <td>0.040809</td>\n",
              "      <td>0.042631</td>\n",
              "      <td>0.043519</td>\n",
              "      <td>0.051140</td>\n",
              "      <td>0.051962</td>\n",
              "      <td>0.059372</td>\n",
              "      <td>0.060544</td>\n",
              "      <td>0.064530</td>\n",
              "      <td>0.071753</td>\n",
              "      <td>0.079368</td>\n",
              "      <td>0.081189</td>\n",
              "      <td>0.091886</td>\n",
              "      <td>0.096256</td>\n",
              "      <td>0.116782</td>\n",
              "      <td>0.120982</td>\n",
              "      <td>0.126834</td>\n",
              "      <td>0.131316</td>\n",
              "      <td>0.142547</td>\n",
              "      <td>0.147319</td>\n",
              "      <td>0.157553</td>\n",
              "      <td>0.162946</td>\n",
              "      <td>0.162961</td>\n",
              "      <td>0.166875</td>\n",
              "      <td>0.182167</td>\n",
              "      <td>0.189876</td>\n",
              "      <td>0.209390</td>\n",
              "      <td>0.220230</td>\n",
              "      <td>0.225960</td>\n",
              "      <td>0.231544</td>\n",
              "      <td>0.244047</td>\n",
              "      <td>0.244806</td>\n",
              "      <td>0.248919</td>\n",
              "      <td>0.258172</td>\n",
              "      <td>...</td>\n",
              "      <td>0.550681</td>\n",
              "      <td>0.547503</td>\n",
              "      <td>0.518925</td>\n",
              "      <td>0.507122</td>\n",
              "      <td>0.503398</td>\n",
              "      <td>0.502640</td>\n",
              "      <td>0.488018</td>\n",
              "      <td>0.478045</td>\n",
              "      <td>0.470996</td>\n",
              "      <td>0.469800</td>\n",
              "      <td>0.442146</td>\n",
              "      <td>0.440509</td>\n",
              "      <td>0.436708</td>\n",
              "      <td>0.436659</td>\n",
              "      <td>0.428263</td>\n",
              "      <td>0.421790</td>\n",
              "      <td>0.419970</td>\n",
              "      <td>0.415784</td>\n",
              "      <td>0.415578</td>\n",
              "      <td>0.390283</td>\n",
              "      <td>0.355178</td>\n",
              "      <td>0.344643</td>\n",
              "      <td>0.343239</td>\n",
              "      <td>0.327295</td>\n",
              "      <td>0.324923</td>\n",
              "      <td>0.319893</td>\n",
              "      <td>0.313767</td>\n",
              "      <td>0.312242</td>\n",
              "      <td>0.308377</td>\n",
              "      <td>0.307734</td>\n",
              "      <td>0.306909</td>\n",
              "      <td>0.305079</td>\n",
              "      <td>0.300248</td>\n",
              "      <td>0.299211</td>\n",
              "      <td>0.293324</td>\n",
              "      <td>0.293156</td>\n",
              "      <td>0.292673</td>\n",
              "      <td>0.271658</td>\n",
              "      <td>0.552953</td>\n",
              "      <td>34.414852</td>\n",
              "    </tr>\n",
              "    <tr>\n",
              "      <th>35535</th>\n",
              "      <td>0.008611</td>\n",
              "      <td>0.017341</td>\n",
              "      <td>0.020153</td>\n",
              "      <td>0.022033</td>\n",
              "      <td>0.027864</td>\n",
              "      <td>0.033114</td>\n",
              "      <td>0.045447</td>\n",
              "      <td>0.047699</td>\n",
              "      <td>0.050459</td>\n",
              "      <td>0.052631</td>\n",
              "      <td>0.054685</td>\n",
              "      <td>0.068178</td>\n",
              "      <td>0.071835</td>\n",
              "      <td>0.072022</td>\n",
              "      <td>0.087413</td>\n",
              "      <td>0.089314</td>\n",
              "      <td>0.091418</td>\n",
              "      <td>0.093532</td>\n",
              "      <td>0.096381</td>\n",
              "      <td>0.110174</td>\n",
              "      <td>0.113495</td>\n",
              "      <td>0.119106</td>\n",
              "      <td>0.128332</td>\n",
              "      <td>0.135035</td>\n",
              "      <td>0.145887</td>\n",
              "      <td>0.147331</td>\n",
              "      <td>0.154140</td>\n",
              "      <td>0.155770</td>\n",
              "      <td>0.162833</td>\n",
              "      <td>0.168571</td>\n",
              "      <td>0.181487</td>\n",
              "      <td>0.182462</td>\n",
              "      <td>0.183843</td>\n",
              "      <td>0.189502</td>\n",
              "      <td>0.196288</td>\n",
              "      <td>0.204214</td>\n",
              "      <td>0.209246</td>\n",
              "      <td>0.212068</td>\n",
              "      <td>0.220287</td>\n",
              "      <td>0.227866</td>\n",
              "      <td>...</td>\n",
              "      <td>0.781463</td>\n",
              "      <td>0.781452</td>\n",
              "      <td>0.781398</td>\n",
              "      <td>0.775542</td>\n",
              "      <td>0.768818</td>\n",
              "      <td>0.763090</td>\n",
              "      <td>0.758372</td>\n",
              "      <td>0.754169</td>\n",
              "      <td>0.747559</td>\n",
              "      <td>0.747369</td>\n",
              "      <td>0.742612</td>\n",
              "      <td>0.734583</td>\n",
              "      <td>0.732517</td>\n",
              "      <td>0.729845</td>\n",
              "      <td>0.720384</td>\n",
              "      <td>0.698936</td>\n",
              "      <td>0.696853</td>\n",
              "      <td>0.696574</td>\n",
              "      <td>0.684883</td>\n",
              "      <td>0.672950</td>\n",
              "      <td>0.634213</td>\n",
              "      <td>0.633559</td>\n",
              "      <td>0.613709</td>\n",
              "      <td>0.610010</td>\n",
              "      <td>0.595462</td>\n",
              "      <td>0.567408</td>\n",
              "      <td>0.566984</td>\n",
              "      <td>0.563096</td>\n",
              "      <td>0.561114</td>\n",
              "      <td>0.550249</td>\n",
              "      <td>0.537212</td>\n",
              "      <td>0.535827</td>\n",
              "      <td>0.534719</td>\n",
              "      <td>0.521456</td>\n",
              "      <td>0.519073</td>\n",
              "      <td>0.518770</td>\n",
              "      <td>0.517624</td>\n",
              "      <td>0.500906</td>\n",
              "      <td>0.360261</td>\n",
              "      <td>50.443568</td>\n",
              "    </tr>\n",
              "    <tr>\n",
              "      <th>35536</th>\n",
              "      <td>0.001522</td>\n",
              "      <td>0.004628</td>\n",
              "      <td>0.006973</td>\n",
              "      <td>0.013721</td>\n",
              "      <td>0.020003</td>\n",
              "      <td>0.028311</td>\n",
              "      <td>0.055580</td>\n",
              "      <td>0.066910</td>\n",
              "      <td>0.080280</td>\n",
              "      <td>0.090908</td>\n",
              "      <td>0.091208</td>\n",
              "      <td>0.091615</td>\n",
              "      <td>0.093201</td>\n",
              "      <td>0.093554</td>\n",
              "      <td>0.113169</td>\n",
              "      <td>0.121151</td>\n",
              "      <td>0.122527</td>\n",
              "      <td>0.122622</td>\n",
              "      <td>0.134007</td>\n",
              "      <td>0.148595</td>\n",
              "      <td>0.152714</td>\n",
              "      <td>0.168244</td>\n",
              "      <td>0.176207</td>\n",
              "      <td>0.178379</td>\n",
              "      <td>0.184787</td>\n",
              "      <td>0.198865</td>\n",
              "      <td>0.207233</td>\n",
              "      <td>0.214187</td>\n",
              "      <td>0.224588</td>\n",
              "      <td>0.233813</td>\n",
              "      <td>0.234835</td>\n",
              "      <td>0.235033</td>\n",
              "      <td>0.241367</td>\n",
              "      <td>0.242657</td>\n",
              "      <td>0.247768</td>\n",
              "      <td>0.263803</td>\n",
              "      <td>0.264802</td>\n",
              "      <td>0.273751</td>\n",
              "      <td>0.274696</td>\n",
              "      <td>0.275757</td>\n",
              "      <td>...</td>\n",
              "      <td>0.798061</td>\n",
              "      <td>0.797639</td>\n",
              "      <td>0.790526</td>\n",
              "      <td>0.784234</td>\n",
              "      <td>0.781631</td>\n",
              "      <td>0.773257</td>\n",
              "      <td>0.773205</td>\n",
              "      <td>0.753335</td>\n",
              "      <td>0.742046</td>\n",
              "      <td>0.702910</td>\n",
              "      <td>0.698641</td>\n",
              "      <td>0.691767</td>\n",
              "      <td>0.682994</td>\n",
              "      <td>0.674371</td>\n",
              "      <td>0.666848</td>\n",
              "      <td>0.665848</td>\n",
              "      <td>0.656224</td>\n",
              "      <td>0.651295</td>\n",
              "      <td>0.646380</td>\n",
              "      <td>0.633478</td>\n",
              "      <td>0.631297</td>\n",
              "      <td>0.626961</td>\n",
              "      <td>0.626853</td>\n",
              "      <td>0.626622</td>\n",
              "      <td>0.624388</td>\n",
              "      <td>0.622819</td>\n",
              "      <td>0.618493</td>\n",
              "      <td>0.607921</td>\n",
              "      <td>0.607532</td>\n",
              "      <td>0.604690</td>\n",
              "      <td>0.600007</td>\n",
              "      <td>0.593787</td>\n",
              "      <td>0.593400</td>\n",
              "      <td>0.593191</td>\n",
              "      <td>0.590855</td>\n",
              "      <td>0.589925</td>\n",
              "      <td>0.589531</td>\n",
              "      <td>0.591535</td>\n",
              "      <td>0.259099</td>\n",
              "      <td>53.854220</td>\n",
              "    </tr>\n",
              "  </tbody>\n",
              "</table>\n",
              "<p>5 rows × 353 columns</p>\n",
              "</div>"
            ],
            "text/plain": [
              "          theta     theta     theta  ...    volume        Ps         ST\n",
              "35532  0.002631  0.006153  0.016891  ...  0.289507  0.377084  30.807223\n",
              "35533  0.008726  0.009241  0.015573  ...  0.229166  0.138878  35.257709\n",
              "35534  0.008172  0.022973  0.030498  ...  0.271658  0.552953  34.414852\n",
              "35535  0.008611  0.017341  0.020153  ...  0.500906  0.360261  50.443568\n",
              "35536  0.001522  0.004628  0.006973  ...  0.591535  0.259099  53.854220\n",
              "\n",
              "[5 rows x 353 columns]"
            ]
          },
          "metadata": {},
          "execution_count": 26
        }
      ]
    },
    {
      "cell_type": "markdown",
      "metadata": {
        "id": "SOCMKtGWc8kO"
      },
      "source": [
        "### Split the data into train and test\n",
        "\n",
        "Now split the dataset into a training set and a test set.\n",
        "\n",
        "We will use the test set in the final evaluation of our model."
      ]
    },
    {
      "cell_type": "code",
      "metadata": {
        "id": "omYZ9Atvc8kX"
      },
      "source": [
        "normed_train_data = normed_data.sample(frac=0.8,random_state=0)\n",
        "normed_test_data = normed_data.drop(normed_train_data.index)"
      ],
      "execution_count": 27,
      "outputs": []
    },
    {
      "cell_type": "code",
      "metadata": {
        "id": "ijFPP_Y7dsYe",
        "colab": {
          "base_uri": "https://localhost:8080/",
          "height": 296
        },
        "outputId": "0873f134-0efd-4918-944a-ca3cbd0fa9c5"
      },
      "source": [
        "plt.figure()\n",
        "for i in range(10):\n",
        "  plt.plot(normed_train_data.iloc[i, 0:175], normed_train_data.iloc[i, 175:350], 'o', markersize=1)\n",
        "plt.ylabel('Radius, ρ')\n",
        "plt.xlabel('Azimuth angle, θ')"
      ],
      "execution_count": 28,
      "outputs": [
        {
          "output_type": "execute_result",
          "data": {
            "text/plain": [
              "Text(0.5, 0, 'Azimuth angle, θ')"
            ]
          },
          "metadata": {},
          "execution_count": 28
        },
        {
          "output_type": "display_data",
          "data": {
            "image/png": "[encoded data removed]",
            "text/plain": [
              "<Figure size 432x288 with 1 Axes>"
            ]
          },
          "metadata": {
            "needs_background": "light"
          }
        }
      ]
    },
    {
      "cell_type": "markdown",
      "metadata": {
        "id": "y0I4xpjHXXMV"
      },
      "source": [
        "### Split features from labels\n",
        "\n",
        "Separate the target value, or \"label\", from the features. This label is the value that you will train the model to predict."
      ]
    },
    {
      "cell_type": "code",
      "metadata": {
        "id": "YIMjYsODXXMe"
      },
      "source": [
        "train_labels = normed_train_data.pop('ST')\n",
        "test_labels = normed_test_data.pop('ST')"
      ],
      "execution_count": 29,
      "outputs": []
    },
    {
      "cell_type": "markdown",
      "metadata": {
        "id": "SmjdzxKzEu1-"
      },
      "source": [
        "## The model"
      ]
    },
    {
      "cell_type": "markdown",
      "metadata": {
        "id": "6SWtkIjhrZwa"
      },
      "source": [
        "### Build the model\n",
        "\n",
        "Let's build our model. Here, we'll use a `Sequential` model with two densely connected hidden layers, and an output layer that returns a single, continuous value. The model building steps are wrapped in a function, `build_model`, since we'll create a second model, later on."
      ]
    },
    {
      "cell_type": "code",
      "metadata": {
        "id": "c26juK7ZG8j-"
      },
      "source": [
        "def build_model():\n",
        "  model = keras.Sequential([\n",
        "    layers.Dense(20, activation=tf.nn.swish, input_shape=[len(normed_test_data.keys())]),\n",
        "   # tf.keras.layers.LayerNormalization(axis=1 , center=True , scale=True),\n",
        "  #  layers.Dense(10, activation=tf.nn.softplus),\n",
        "    # layers.Dense(12, activation=tf.nn.softplus),\n",
        "    layers.Dense(5, activation=tf.nn.softplus),\n",
        "    layers.Dense(1)\n",
        "  ])\n",
        "\n",
        "  #optimizer = tf.keras.optimizers.RMSprop(0.0000001)\n",
        "  #optimizer = tf.keras.optimizers.Adagrad(learning_rate=0.0001)\n",
        "  optimizer = tf.keras.optimizers.Adam() #learning_rate=0.001, beta_1=0.9, beta_2=0.999, amsgrad=False\n",
        "  #optimizer = tf.keras.optimizers.Adamax(learning_rate=0.001, beta_1=0.8, beta_2=0.995)\n",
        "\n",
        "  #model.compile(loss='mean_squared_error',\n",
        "  #              optimizer=optimizer,\n",
        "  #              metrics=['mean_absolute_error', 'mean_squared_error'])\n",
        "  \n",
        "  model.compile(loss='mean_absolute_error',\n",
        "                optimizer=optimizer,\n",
        "                metrics=['mean_absolute_error', 'mean_squared_error'])\n",
        "  \n",
        "  \n",
        "  return model"
      ],
      "execution_count": 30,
      "outputs": []
    },
    {
      "cell_type": "code",
      "metadata": {
        "id": "cGbPb-PHGbhs"
      },
      "source": [
        "model = build_model()"
      ],
      "execution_count": 31,
      "outputs": []
    },
    {
      "cell_type": "markdown",
      "metadata": {
        "id": "p_MsKnx6CiJ1"
      },
      "source": [
        "### Inspect the model\n",
        "\n",
        "Use the `.summary` method to print a simple description of the model"
      ]
    },
    {
      "cell_type": "code",
      "metadata": {
        "colab": {
          "base_uri": "https://localhost:8080/"
        },
        "id": "JogRjzbbCiJ8",
        "outputId": "aa54b90e-d4ba-435b-ba86-141da9a7b91d"
      },
      "source": [
        "model.summary()"
      ],
      "execution_count": 32,
      "outputs": [
        {
          "output_type": "stream",
          "name": "stdout",
          "text": [
            "Model: \"sequential\"\n",
            "_________________________________________________________________\n",
            "Layer (type)                 Output Shape              Param #   \n",
            "=================================================================\n",
            "dense (Dense)                (None, 20)                7060      \n",
            "_________________________________________________________________\n",
            "dense_1 (Dense)              (None, 5)                 105       \n",
            "_________________________________________________________________\n",
            "dense_2 (Dense)              (None, 1)                 6         \n",
            "=================================================================\n",
            "Total params: 7,171\n",
            "Trainable params: 7,171\n",
            "Non-trainable params: 0\n",
            "_________________________________________________________________\n"
          ]
        }
      ]
    },
    {
      "cell_type": "markdown",
      "metadata": {
        "id": "78c18_srCoSM"
      },
      "source": [
        "\n",
        "Now try out the model. Take a batch of `10` examples from the training data and call `model.predict` on it."
      ]
    },
    {
      "cell_type": "code",
      "metadata": {
        "colab": {
          "base_uri": "https://localhost:8080/"
        },
        "id": "vG9W22RICoSN",
        "outputId": "11f32f0a-a89b-4958-9b4d-8ed3473bda56"
      },
      "source": [
        "example_batch = normed_train_data[:10]\n",
        "example_result = model.predict(example_batch)\n",
        "example_result"
      ],
      "execution_count": 33,
      "outputs": [
        {
          "output_type": "stream",
          "name": "stderr",
          "text": [
            "/usr/local/lib/python3.7/dist-packages/keras/engine/training.py:2470: UserWarning: `Model.state_updates` will be removed in a future version. This property should not be used in TensorFlow 2.0, as `updates` are applied automatically.\n",
            "  warnings.warn('`Model.state_updates` will be removed in a future version. '\n"
          ]
        },
        {
          "output_type": "execute_result",
          "data": {
            "text/plain": [
              "array([[-0.9625053 ],\n",
              "       [-0.9181774 ],\n",
              "       [-1.1656207 ],\n",
              "       [-0.81875616],\n",
              "       [-0.91200715],\n",
              "       [-0.9239416 ],\n",
              "       [-1.0025125 ],\n",
              "       [-0.9192705 ],\n",
              "       [-0.7430832 ],\n",
              "       [-0.8156048 ]], dtype=float32)"
            ]
          },
          "metadata": {},
          "execution_count": 33
        }
      ]
    },
    {
      "cell_type": "markdown",
      "metadata": {
        "id": "aDvyY2WqCoSN"
      },
      "source": [
        "It seems to be working, and it produces a result of the expected shape and type."
      ]
    },
    {
      "cell_type": "markdown",
      "metadata": {
        "id": "APAplLIxCoSN"
      },
      "source": [
        "### Train the model\n",
        "\n",
        "Train the model for 1000 epochs, and record the training and validation accuracy in the `history` object."
      ]
    },
    {
      "cell_type": "code",
      "metadata": {
        "id": "fdMZuhUgzMZ4",
        "colab": {
          "base_uri": "https://localhost:8080/"
        },
        "outputId": "5edded39-87e9-4e1a-bf69-f0fabd3cb879"
      },
      "source": [
        "# Display training progress by printing a single dot for each completed epoch\n",
        "class PrintDot(keras.callbacks.Callback):\n",
        "  def on_epoch_end(self, epoch, logs):\n",
        "    if epoch % 100 == 0: print('')\n",
        "    print('.', end='')\n",
        "\n",
        "EPOCHS = 1000\n",
        "\n",
        "# The patience parameter is the amount of epochs to check for improvement\n",
        "early_stop = keras.callbacks.EarlyStopping(monitor='val_loss', patience=20, min_delta=0, restore_best_weights=True)\n",
        "\n",
        "history = model.fit(normed_train_data, train_labels, epochs=EPOCHS,\n",
        "                    validation_split = 0.2, verbose=0, callbacks=[early_stop, PrintDot()])\n"
      ],
      "execution_count": 34,
      "outputs": [
        {
          "output_type": "stream",
          "name": "stderr",
          "text": [
            "/usr/local/lib/python3.7/dist-packages/keras/engine/training.py:2470: UserWarning: `Model.state_updates` will be removed in a future version. This property should not be used in TensorFlow 2.0, as `updates` are applied automatically.\n",
            "  warnings.warn('`Model.state_updates` will be removed in a future version. '\n"
          ]
        },
        {
          "output_type": "stream",
          "name": "stdout",
          "text": [
            "\n",
            "....................................................................................................\n",
            "......................"
          ]
        }
      ]
    },
    {
      "cell_type": "markdown",
      "metadata": {
        "id": "ZNofocGTCoSN"
      },
      "source": [
        "Visualize the model's training progress using the stats stored in the `history` object."
      ]
    },
    {
      "cell_type": "code",
      "metadata": {
        "id": "IHtfi4xlXiHy",
        "colab": {
          "base_uri": "https://localhost:8080/",
          "height": 204
        },
        "outputId": "ee355229-b8d6-4c89-a759-d4eb2f4a376b"
      },
      "source": [
        "hist = pd.DataFrame(history.history)\n",
        "hist['epoch'] = history.epoch\n",
        "hist.tail() "
      ],
      "execution_count": 35,
      "outputs": [
        {
          "output_type": "execute_result",
          "data": {
            "text/html": [
              "<div>\n",
              "<style scoped>\n",
              "    .dataframe tbody tr th:only-of-type {\n",
              "        vertical-align: middle;\n",
              "    }\n",
              "\n",
              "    .dataframe tbody tr th {\n",
              "        vertical-align: top;\n",
              "    }\n",
              "\n",
              "    .dataframe thead th {\n",
              "        text-align: right;\n",
              "    }\n",
              "</style>\n",
              "<table border=\"1\" class=\"dataframe\">\n",
              "  <thead>\n",
              "    <tr style=\"text-align: right;\">\n",
              "      <th></th>\n",
              "      <th>loss</th>\n",
              "      <th>mean_absolute_error</th>\n",
              "      <th>mean_squared_error</th>\n",
              "      <th>val_loss</th>\n",
              "      <th>val_mean_absolute_error</th>\n",
              "      <th>val_mean_squared_error</th>\n",
              "      <th>epoch</th>\n",
              "    </tr>\n",
              "  </thead>\n",
              "  <tbody>\n",
              "    <tr>\n",
              "      <th>117</th>\n",
              "      <td>0.658368</td>\n",
              "      <td>0.658368</td>\n",
              "      <td>0.860844</td>\n",
              "      <td>0.810161</td>\n",
              "      <td>0.810161</td>\n",
              "      <td>1.218090</td>\n",
              "      <td>117</td>\n",
              "    </tr>\n",
              "    <tr>\n",
              "      <th>118</th>\n",
              "      <td>0.733853</td>\n",
              "      <td>0.733852</td>\n",
              "      <td>1.038129</td>\n",
              "      <td>0.861045</td>\n",
              "      <td>0.861045</td>\n",
              "      <td>1.326865</td>\n",
              "      <td>118</td>\n",
              "    </tr>\n",
              "    <tr>\n",
              "      <th>119</th>\n",
              "      <td>0.664078</td>\n",
              "      <td>0.664078</td>\n",
              "      <td>0.875306</td>\n",
              "      <td>1.037703</td>\n",
              "      <td>1.037703</td>\n",
              "      <td>1.454206</td>\n",
              "      <td>119</td>\n",
              "    </tr>\n",
              "    <tr>\n",
              "      <th>120</th>\n",
              "      <td>0.642251</td>\n",
              "      <td>0.642251</td>\n",
              "      <td>0.827683</td>\n",
              "      <td>0.598158</td>\n",
              "      <td>0.598158</td>\n",
              "      <td>0.757755</td>\n",
              "      <td>120</td>\n",
              "    </tr>\n",
              "    <tr>\n",
              "      <th>121</th>\n",
              "      <td>0.654774</td>\n",
              "      <td>0.654774</td>\n",
              "      <td>0.857605</td>\n",
              "      <td>0.839512</td>\n",
              "      <td>0.839512</td>\n",
              "      <td>1.120033</td>\n",
              "      <td>121</td>\n",
              "    </tr>\n",
              "  </tbody>\n",
              "</table>\n",
              "</div>"
            ],
            "text/plain": [
              "         loss  mean_absolute_error  ...  val_mean_squared_error  epoch\n",
              "117  0.658368             0.658368  ...                1.218090    117\n",
              "118  0.733853             0.733852  ...                1.326865    118\n",
              "119  0.664078             0.664078  ...                1.454206    119\n",
              "120  0.642251             0.642251  ...                0.757755    120\n",
              "121  0.654774             0.654774  ...                1.120033    121\n",
              "\n",
              "[5 rows x 7 columns]"
            ]
          },
          "metadata": {},
          "execution_count": 35
        }
      ]
    },
    {
      "cell_type": "code",
      "metadata": {
        "id": "VPI7VDvrXvJb",
        "colab": {
          "base_uri": "https://localhost:8080/",
          "height": 549
        },
        "outputId": "7383dd0c-b95d-4ebc-ce2f-dc15af0b19f3"
      },
      "source": [
        "def plot_history(history):\n",
        "  hist = pd.DataFrame(history.history)\n",
        "  hist['epoch'] = history.epoch\n",
        "\n",
        "  plt.figure()\n",
        "  plt.xlabel('Epoch')\n",
        "  plt.ylabel('Mean Abs Error [ST]')\n",
        "  plt.plot(hist['epoch'], hist['mean_absolute_error'],\n",
        "           label='Train Error')\n",
        "  plt.plot(hist['epoch'], hist['val_mean_absolute_error'],\n",
        "           label = 'Val Error')\n",
        "  plt.ylim([0,5])\n",
        "  plt.legend()\n",
        "\n",
        "  plt.figure()\n",
        "  plt.xlabel('Epoch')\n",
        "  plt.ylabel('Mean Square Error [$ST^2$]')\n",
        "  plt.plot(hist['epoch'], hist['mean_squared_error'],\n",
        "           label='Train Error')\n",
        "  plt.plot(hist['epoch'], hist['val_mean_squared_error'],\n",
        "           label = 'Val Error')\n",
        "  plt.ylim([0,25])\n",
        "  plt.legend()\n",
        "  plt.show()\n",
        "\n",
        "\n",
        "plot_history(history)"
      ],
      "execution_count": 36,
      "outputs": [
        {
          "output_type": "display_data",
          "data": {
            "image/png": "[encoded data removed]",
            "text/plain": [
              "<Figure size 432x288 with 1 Axes>"
            ]
          },
          "metadata": {
            "needs_background": "light"
          }
        },
        {
          "output_type": "display_data",
          "data": {
            "image/png": "[encoded data removed]",
            "text/plain": [
              "<Figure size 432x288 with 1 Axes>"
            ]
          },
          "metadata": {
            "needs_background": "light"
          }
        }
      ]
    },
    {
      "cell_type": "markdown",
      "metadata": {
        "id": "l7lTAVELCoSO"
      },
      "source": [
        "The graph shows that on the validation set, the average error is usually around +/- 2 MPG. Is this good? We'll leave that decision up to you.\n",
        "\n",
        "Let's see how well the model generalizes by using the **test** set, which we did not use when training the model.  This tells us how well we can expect the model to predict when we use it in the real world."
      ]
    },
    {
      "cell_type": "code",
      "metadata": {
        "colab": {
          "base_uri": "https://localhost:8080/"
        },
        "id": "OirOiOSTCoSO",
        "outputId": "0c0eefc2-8303-4646-a6b4-0b1eeabb33c4"
      },
      "source": [
        "loss, mae, mse = model.evaluate(normed_test_data, test_labels, verbose=0)\n",
        "\n",
        "print(\"Testing set Mean Abs Error: {:5.2f} mN/m\".format(mae))\n",
        "\n",
        "print(\"Testing set Mean Abs Error over ST range: {:5.2f}\".format(mae/(max(dataset.ST)-min(dataset.ST))))\n"
      ],
      "execution_count": 37,
      "outputs": [
        {
          "output_type": "stream",
          "name": "stdout",
          "text": [
            "Testing set Mean Abs Error:  0.52 mN/m\n",
            "Testing set Mean Abs Error over ST range:  0.01\n"
          ]
        }
      ]
    },
    {
      "cell_type": "markdown",
      "metadata": {
        "id": "NkcS2mMvCoSO"
      },
      "source": [
        "### Make predictions\n",
        "\n",
        "Finally, predict ST values using data in the testing set:"
      ]
    },
    {
      "cell_type": "code",
      "metadata": {
        "colab": {
          "base_uri": "https://localhost:8080/",
          "height": 573
        },
        "id": "9m-HwyFrCoSO",
        "outputId": "fabd2312-a5de-4484-cfe7-0bbddd0d15a3"
      },
      "source": [
        "test_predictions = model.predict(normed_test_data).flatten()\n",
        "\n",
        "plt.scatter(test_labels, test_predictions)\n",
        "plt.title('Normalized test data')\n",
        "plt.xlabel('True Values [surface tension - mN/m]')\n",
        "plt.ylabel('Predictions [surface tension - mN/m]')\n",
        "plt.axis('equal')\n",
        "plt.axis('square')\n",
        "plt.xlim([10,80])\n",
        "plt.ylim([10,80])\n",
        "_ = plt.plot([-100, 100], [-100, 100])\n",
        "plt.show()\n",
        "\n",
        "train_predictions = model.predict(normed_train_data).flatten()\n",
        "\n",
        "plt.scatter(train_labels, train_predictions)\n",
        "plt.title('Normalized training data')\n",
        "plt.xlabel('True Values [surface tension - mN/m]')\n",
        "plt.ylabel('Predictions [surface tension - mN/m]')\n",
        "plt.axis('equal')\n",
        "plt.axis('square')\n",
        "plt.xlim([10,80])\n",
        "plt.ylim([10,80])\n",
        "_ = plt.plot([-100, 100], [-100, 100])\n",
        "plt.show()\n",
        "\n",
        "# plt.figure()\n",
        "# plt.xlabel('Image')\n",
        "# plt.ylabel('Surface tension [ mN/m ]')\n",
        "# plt.ylim(30, 75)\n",
        "# plt.plot(test_predictions[0:2000], label='Predicted test instances')\n",
        "# plt.plot(range(len(test_labels)-18000), test_labels[0:2000], '--', label='Real test instances')\n",
        "# plt.legend()\n"
      ],
      "execution_count": 38,
      "outputs": [
        {
          "output_type": "display_data",
          "data": {
            "image/png": "[encoded data removed]",
            "text/plain": [
              "<Figure size 432x288 with 1 Axes>"
            ]
          },
          "metadata": {
            "needs_background": "light"
          }
        },
        {
          "output_type": "display_data",
          "data": {
            "image/png": "[encoded data removed]",
            "text/plain": [
              "<Figure size 432x288 with 1 Axes>"
            ]
          },
          "metadata": {
            "needs_background": "light"
          }
        }
      ]
    },
    {
      "cell_type": "markdown",
      "metadata": {
        "id": "OrkHGKZcusUo"
      },
      "source": [
        "Seriously?"
      ]
    },
    {
      "cell_type": "code",
      "metadata": {
        "colab": {
          "base_uri": "https://localhost:8080/",
          "height": 629
        },
        "id": "pQi_gr5-CoSO",
        "outputId": "f0bc79c3-a8e0-4da4-a868-72a3f2f4e008"
      },
      "source": [
        "error_test = test_predictions - test_labels\n",
        "sns.distplot(error_test, bins = 50)\n",
        "plt.xlabel(\"Prediction Error (mN/m)\")\n",
        "_ = plt.ylabel(\"Probability density\")\n",
        "plt.xlim(-3.5, 3.5)\n",
        "plt.show()\n",
        "\n",
        "plt.figure()\n",
        "sns.distplot(error_test, bins = 50)\n",
        "plt.xlabel(\"Prediction Error (mN/m)\")\n",
        "_ = plt.ylabel(\"Probability density\")\n",
        "plt.show()"
      ],
      "execution_count": 39,
      "outputs": [
        {
          "output_type": "stream",
          "name": "stderr",
          "text": [
            "/usr/local/lib/python3.7/dist-packages/seaborn/distributions.py:2619: FutureWarning: `distplot` is a deprecated function and will be removed in a future version. Please adapt your code to use either `displot` (a figure-level function with similar flexibility) or `histplot` (an axes-level function for histograms).\n",
            "  warnings.warn(msg, FutureWarning)\n"
          ]
        },
        {
          "output_type": "display_data",
          "data": {
            "image/png": "[encoded data removed]",
            "text/plain": [
              "<Figure size 432x288 with 1 Axes>"
            ]
          },
          "metadata": {
            "needs_background": "light"
          }
        },
        {
          "output_type": "stream",
          "name": "stderr",
          "text": [
            "/usr/local/lib/python3.7/dist-packages/seaborn/distributions.py:2619: FutureWarning: `distplot` is a deprecated function and will be removed in a future version. Please adapt your code to use either `displot` (a figure-level function with similar flexibility) or `histplot` (an axes-level function for histograms).\n",
            "  warnings.warn(msg, FutureWarning)\n"
          ]
        },
        {
          "output_type": "display_data",
          "data": {
            "image/png": "[encoded data removed]",
            "text/plain": [
              "<Figure size 432x288 with 1 Axes>"
            ]
          },
          "metadata": {
            "needs_background": "light"
          }
        }
      ]
    },
    {
      "cell_type": "code",
      "metadata": {
        "id": "3M-jM-phuDtZ",
        "colab": {
          "base_uri": "https://localhost:8080/",
          "height": 590
        },
        "outputId": "95dd954a-2c87-43d0-9bec-d917b44e8f01"
      },
      "source": [
        "error_test = test_predictions - test_labels\n",
        "error_train = train_predictions - train_labels\n",
        "\n",
        "plt.figure()\n",
        "plt.title('Test dataset')\n",
        "plt.plot(test_labels, error_test, 'o')\n",
        "plt.ylabel('Error (mN/m)')\n",
        "plt.xlabel('Surface tension (mN/m)')\n",
        "\n",
        "plt.figure()\n",
        "plt.title('Train dataset')\n",
        "plt.plot(train_labels, error_train, 'o')\n",
        "plt.ylabel('Error (mN/m)')\n",
        "plt.xlabel('Surface tension (mN/m)')\n"
      ],
      "execution_count": 40,
      "outputs": [
        {
          "output_type": "execute_result",
          "data": {
            "text/plain": [
              "Text(0.5, 0, 'Surface tension (mN/m)')"
            ]
          },
          "metadata": {},
          "execution_count": 40
        },
        {
          "output_type": "display_data",
          "data": {
            "image/png": "[encoded data removed]",
            "text/plain": [
              "<Figure size 432x288 with 1 Axes>"
            ]
          },
          "metadata": {
            "needs_background": "light"
          }
        },
        {
          "output_type": "display_data",
          "data": {
            "image/png": "[encoded data removed]",
            "text/plain": [
              "<Figure size 432x288 with 1 Axes>"
            ]
          },
          "metadata": {
            "needs_background": "light"
          }
        }
      ]
    },
    {
      "cell_type": "code",
      "metadata": {
        "id": "TFYpfMpwjBWM"
      },
      "source": [
        "#Save prediction outcome in a csv file\n",
        "error_test = test_predictions - test_labels\n",
        "error_train = train_predictions - train_labels\n",
        "outcome_train=pd.DataFrame(data=np.array([train_labels.values, train_predictions]).T, columns=['Train_labels', 'Train_pred'])\n",
        "outcome_test=pd.DataFrame(data=np.array([test_labels.values, test_predictions]).T, columns=[ 'Test_labels', 'Test_pred'])\n",
        "\n",
        "date=str('20211019')\n",
        "\n",
        "model_No=1\n",
        "\n",
        "data_No=35536\n",
        "ST_min=25\n",
        "ST_max=75\n",
        "vol_min=0.5\n",
        "vol_max=2.5\n",
        "Ps_min=2000\n",
        "Ps_max=4000\n",
        "\n",
        "\n",
        "filename=str('data_%d_ST_%.2f_%.2f_vol_%.2f_%.2f_Ps_%d_%d_model_%d_%s.csv' %(data_No, ST_min, ST_max, vol_min, vol_max, Ps_min, Ps_max, model_No, date))\n",
        "!mkdir -p '/content/drive/My Drive/DropLev/Outcomes/' #Ceates a folder named \"MachineLearningModels\"\n",
        "outcome_train.to_csv('/content/drive/My Drive/DropLev/Outcomes/'+'train_out_'+filename, index=False)  #Saves the file\n",
        "outcome_test.to_csv('/content/drive/My Drive/DropLev/Outcomes/'+'test_out_'+filename, index=False)  #Saves the file\n",
        "\n",
        "hist.to_csv('/content/drive/My Drive/DropLev/Outcomes/'+'history_'+filename)\n"
      ],
      "execution_count": 41,
      "outputs": []
    },
    {
      "cell_type": "markdown",
      "metadata": {
        "id": "AUx4uYxk0GEJ"
      },
      "source": [
        "## If there is a model saved on google drive execute the next block"
      ]
    },
    {
      "cell_type": "code",
      "metadata": {
        "id": "y3Ir9yi8z0VA"
      },
      "source": [
        "from tensorflow.keras.models import load_model\n",
        "\n",
        "del model \n",
        "\n",
        "model_name=str('All_surf_five_feutures_Huber_swish_trial_3.h5')\n",
        "model = load_model(str(\"/content/drive/My Drive/DropLev/MachineLearningModels/\"+model_name))\n"
      ],
      "execution_count": null,
      "outputs": []
    },
    {
      "cell_type": "markdown",
      "metadata": {
        "id": "Sj49Og4YGULr"
      },
      "source": [
        "### Inspect the model\n",
        "\n",
        "Use the `.summary` method to print a simple description of the model"
      ]
    },
    {
      "cell_type": "code",
      "metadata": {
        "id": "ReAD0n6MsFK-",
        "colab": {
          "base_uri": "https://localhost:8080/",
          "height": 250
        },
        "outputId": "0ccbaa9b-a0df-4000-d4b0-5c61787771ab"
      },
      "source": [
        "model.summary()"
      ],
      "execution_count": null,
      "outputs": [
        {
          "output_type": "stream",
          "text": [
            "Model: \"sequential_30\"\n",
            "_________________________________________________________________\n",
            "Layer (type)                 Output Shape              Param #   \n",
            "=================================================================\n",
            "dense_90 (Dense)             (None, 50)                15150     \n",
            "_________________________________________________________________\n",
            "dense_91 (Dense)             (None, 3)                 153       \n",
            "_________________________________________________________________\n",
            "dense_92 (Dense)             (None, 1)                 4         \n",
            "=================================================================\n",
            "Total params: 15,307\n",
            "Trainable params: 15,307\n",
            "Non-trainable params: 0\n",
            "_________________________________________________________________\n"
          ],
          "name": "stdout"
        }
      ]
    },
    {
      "cell_type": "markdown",
      "metadata": {
        "id": "Vt6W50qGsJAL"
      },
      "source": [
        "\n",
        "Now try out the model. Take a batch of `10` examples from the training data and call `model.predict` on it."
      ]
    },
    {
      "cell_type": "code",
      "metadata": {
        "id": "-d-gBaVtGTSC",
        "colab": {
          "base_uri": "https://localhost:8080/",
          "height": 183
        },
        "outputId": "1745fe1c-cf78-4609-ef3b-a2003d78fa5b"
      },
      "source": [
        "example_batch = normed_train_data[:10]\n",
        "example_result = model.predict(example_batch)\n",
        "example_result"
      ],
      "execution_count": null,
      "outputs": [
        {
          "output_type": "execute_result",
          "data": {
            "text/plain": [
              "array([[ 0.43203562],\n",
              "       [-0.3725443 ],\n",
              "       [ 0.15722759],\n",
              "       [-0.407181  ],\n",
              "       [-0.37564555],\n",
              "       [-0.37614414],\n",
              "       [-0.3925074 ],\n",
              "       [-0.04143935],\n",
              "       [ 0.6424061 ],\n",
              "       [ 0.6858951 ]], dtype=float32)"
            ]
          },
          "metadata": {
            "tags": []
          },
          "execution_count": 290
        }
      ]
    },
    {
      "cell_type": "markdown",
      "metadata": {
        "id": "QlM8KrSOsaYo"
      },
      "source": [
        "It seems to be working, and it produces a result of the expected shape and type."
      ]
    },
    {
      "cell_type": "markdown",
      "metadata": {
        "id": "0-qWCsh6DlyH"
      },
      "source": [
        "### Train the model\n",
        "\n",
        "Train the model for 1000 epochs, and record the training and validation accuracy in the `history` object."
      ]
    },
    {
      "cell_type": "code",
      "metadata": {
        "id": "sD7qHCmNIOY0",
        "colab": {
          "base_uri": "https://localhost:8080/",
          "height": 50
        },
        "outputId": "9d8ccb11-4df6-47c2-9589-79639db8b7b7"
      },
      "source": [
        "# Display training progress by printing a single dot for each completed epoch\n",
        "class PrintDot(keras.callbacks.Callback):\n",
        "  def on_epoch_end(self, epoch, logs):\n",
        "    if epoch % 55 == 0: print('')\n",
        "    print('.', end='')\n",
        "\n",
        "#Save the k-th epoch (100 in this case)\n",
        "#class CustomSaver(keras.callbacks.Callback):\n",
        "#    filepath=\"/content/drive/My Drive/DropLev/MachineLearningModels/\"\n",
        "#    def on_epoch_end(self, epoch, logs={}):\n",
        "#        if epoch == 100:  # or save after some epoch, each k-th epoch etc.\n",
        "#           self.model.save(str(filepath+\"SDS_70mNperm_trial1.h5\"), monitor = \"val_loss\", verbose = 0,\n",
        "#  save_best_only = False, save_weights_only = False, mode = \"min\", period = 1)\n",
        "\n",
        "EPOCHS = 700\n",
        "\n",
        "#filepath=\"/content/drive/My Drive/DropLev/MachineLearningModels/saved-model-{epoch:02d}-{val_loss:.2f}.h5.h5\"\n",
        "#keras.callbacks.ModelCheckpoint(filepath, monitor='val_loss', verbose=0, save_best_only=False, \n",
        "#                                save_weights_only=False, mode='auto', period=1)\n",
        "#callbacks_list = [checkpoint]\n",
        "\n",
        "## create and use callback:\n",
        "#filepath=\"/content/drive/My Drive/DropLev/MachineLearningModels/weights.100EPOCHS.h5\"\n",
        "#saver = CustomSaver()\n",
        "#history = model.fit(normed_train_data, train_labels, callbacks=[saver], epochs=10)\n",
        "\n",
        "#Checkpoints. Save best fit\n",
        "#filepath=\"/content/drive/My Drive/DropLev/MachineLearningModels/weights.best.h5\"\n",
        "#checkpoint = ModelCheckpoint(filepath, monitor='val_acc', verbose=0, save_best_only=True, mode='auto')\n",
        "#callbacks_list = [checkpoint]\n",
        "\n",
        "early_stop = keras.callbacks.EarlyStopping(monitor='val_loss',min_delta=0, patience=10, verbose=0, mode='auto')\n",
        "\n",
        "\n",
        "history = model.fit(\n",
        "  normed_train_data, train_labels,\n",
        "  epochs=EPOCHS, validation_split = 0.2, verbose=0,\n",
        "  callbacks=[early_stop, PrintDot()])  # callbacks=callbacks_list"
      ],
      "execution_count": null,
      "outputs": [
        {
          "output_type": "stream",
          "text": [
            "\n",
            "...................."
          ],
          "name": "stdout"
        }
      ]
    },
    {
      "cell_type": "markdown",
      "metadata": {
        "id": "tQm3pc0FYPQB"
      },
      "source": [
        "Visualize the model's training progress using the stats stored in the `history` object."
      ]
    },
    {
      "cell_type": "code",
      "metadata": {
        "id": "4Xj91b-dymEy",
        "colab": {
          "base_uri": "https://localhost:8080/",
          "height": 197
        },
        "outputId": "3a349055-803b-4f7a-b687-b02992ac9167"
      },
      "source": [
        "hist = pd.DataFrame(history.history)\n",
        "hist['epoch'] = history.epoch\n",
        "hist.tail()"
      ],
      "execution_count": null,
      "outputs": [
        {
          "output_type": "execute_result",
          "data": {
            "text/html": [
              "<div>\n",
              "<style scoped>\n",
              "    .dataframe tbody tr th:only-of-type {\n",
              "        vertical-align: middle;\n",
              "    }\n",
              "\n",
              "    .dataframe tbody tr th {\n",
              "        vertical-align: top;\n",
              "    }\n",
              "\n",
              "    .dataframe thead th {\n",
              "        text-align: right;\n",
              "    }\n",
              "</style>\n",
              "<table border=\"1\" class=\"dataframe\">\n",
              "  <thead>\n",
              "    <tr style=\"text-align: right;\">\n",
              "      <th></th>\n",
              "      <th>loss</th>\n",
              "      <th>mean_absolute_error</th>\n",
              "      <th>mean_squared_error</th>\n",
              "      <th>val_loss</th>\n",
              "      <th>val_mean_absolute_error</th>\n",
              "      <th>val_mean_squared_error</th>\n",
              "      <th>epoch</th>\n",
              "    </tr>\n",
              "  </thead>\n",
              "  <tbody>\n",
              "    <tr>\n",
              "      <th>15</th>\n",
              "      <td>7.163245</td>\n",
              "      <td>7.163245</td>\n",
              "      <td>130.577637</td>\n",
              "      <td>7.792389</td>\n",
              "      <td>7.792389</td>\n",
              "      <td>141.851059</td>\n",
              "      <td>15</td>\n",
              "    </tr>\n",
              "    <tr>\n",
              "      <th>16</th>\n",
              "      <td>7.162131</td>\n",
              "      <td>7.162131</td>\n",
              "      <td>130.552383</td>\n",
              "      <td>7.785986</td>\n",
              "      <td>7.785986</td>\n",
              "      <td>141.798523</td>\n",
              "      <td>16</td>\n",
              "    </tr>\n",
              "    <tr>\n",
              "      <th>17</th>\n",
              "      <td>7.154714</td>\n",
              "      <td>7.154715</td>\n",
              "      <td>130.544373</td>\n",
              "      <td>7.785559</td>\n",
              "      <td>7.785559</td>\n",
              "      <td>141.747849</td>\n",
              "      <td>17</td>\n",
              "    </tr>\n",
              "    <tr>\n",
              "      <th>18</th>\n",
              "      <td>7.148772</td>\n",
              "      <td>7.148772</td>\n",
              "      <td>130.395157</td>\n",
              "      <td>7.756837</td>\n",
              "      <td>7.756837</td>\n",
              "      <td>141.482620</td>\n",
              "      <td>18</td>\n",
              "    </tr>\n",
              "    <tr>\n",
              "      <th>19</th>\n",
              "      <td>7.155182</td>\n",
              "      <td>7.155182</td>\n",
              "      <td>130.323730</td>\n",
              "      <td>7.777982</td>\n",
              "      <td>7.777982</td>\n",
              "      <td>141.616928</td>\n",
              "      <td>19</td>\n",
              "    </tr>\n",
              "  </tbody>\n",
              "</table>\n",
              "</div>"
            ],
            "text/plain": [
              "        loss  mean_absolute_error  ...  val_mean_squared_error  epoch\n",
              "15  7.163245             7.163245  ...              141.851059     15\n",
              "16  7.162131             7.162131  ...              141.798523     16\n",
              "17  7.154714             7.154715  ...              141.747849     17\n",
              "18  7.148772             7.148772  ...              141.482620     18\n",
              "19  7.155182             7.155182  ...              141.616928     19\n",
              "\n",
              "[5 rows x 7 columns]"
            ]
          },
          "metadata": {
            "tags": []
          },
          "execution_count": 292
        }
      ]
    },
    {
      "cell_type": "code",
      "metadata": {
        "id": "B6XriGbVPh2t",
        "colab": {
          "base_uri": "https://localhost:8080/",
          "height": 549
        },
        "outputId": "d4ad2956-a647-4d4d-dfd6-bab505e2e3f1"
      },
      "source": [
        "def plot_history(history):\n",
        "  hist = pd.DataFrame(history.history)\n",
        "  hist['epoch'] = history.epoch\n",
        "\n",
        "  plt.figure()\n",
        "  plt.xlabel('Epoch')\n",
        "  plt.ylabel('Mean Abs Error [ST]')\n",
        "  plt.plot(hist['epoch'], hist['mean_absolute_error'],\n",
        "           label='Train Error')\n",
        "  plt.plot(hist['epoch'], hist['val_mean_absolute_error'],\n",
        "           label = 'Val Error')\n",
        "  plt.ylim([0,10])\n",
        "  plt.legend()\n",
        "\n",
        "  plt.figure()\n",
        "  plt.xlabel('Epoch')\n",
        "  plt.ylabel('Mean Square Error [$ST^2$]')\n",
        "  plt.plot(hist['epoch'], hist['mean_squared_error'],\n",
        "           label='Train Error')\n",
        "  plt.plot(hist['epoch'], hist['val_mean_squared_error'],\n",
        "           label = 'Val Error')\n",
        "  plt.ylim([0,200])\n",
        "  plt.legend()\n",
        "  plt.show()\n",
        "\n",
        "\n",
        "plot_history(history)"
      ],
      "execution_count": null,
      "outputs": [
        {
          "output_type": "display_data",
          "data": {
            "image/png": "[encoded data removed]",
            "text/plain": [
              "<Figure size 432x288 with 1 Axes>"
            ]
          },
          "metadata": {
            "tags": [],
            "needs_background": "light"
          }
        },
        {
          "output_type": "display_data",
          "data": {
            "image/png": "[encoded data removed]",
            "text/plain": [
              "<Figure size 432x288 with 1 Axes>"
            ]
          },
          "metadata": {
            "tags": [],
            "needs_background": "light"
          }
        }
      ]
    },
    {
      "cell_type": "markdown",
      "metadata": {
        "id": "3St8-DmrX8P4"
      },
      "source": [
        "Let's see how well the model generalizes by using the **test** set, which we did not use when training the model.  This tells us how well we can expect the model to predict when we use it in the real world."
      ]
    },
    {
      "cell_type": "code",
      "metadata": {
        "id": "jl_yNr5n1kms",
        "colab": {
          "base_uri": "https://localhost:8080/",
          "height": 33
        },
        "outputId": "c94b2fb6-cc5f-47dc-c47e-d428c2092101"
      },
      "source": [
        "loss, mae, mse = model.evaluate(normed_test_data, test_labels, verbose=0)\n",
        "print(\"Testing set Mean Abs Error: {:5.2f} mN/m\".format(mae))\n",
        "# \n",
        "#keras.metrics.accuracy(normed_test_data, test_labels)"
      ],
      "execution_count": null,
      "outputs": [
        {
          "output_type": "stream",
          "text": [
            "Testing set Mean Abs Error:  7.44 mN/m\n"
          ],
          "name": "stdout"
        }
      ]
    },
    {
      "cell_type": "markdown",
      "metadata": {
        "id": "ft603OzXuEZC"
      },
      "source": [
        "### Make predictions\n",
        "\n",
        "Finally, predict volume values using data in the testing set:"
      ]
    },
    {
      "cell_type": "code",
      "metadata": {
        "id": "Xe7RXH3N3CWU",
        "colab": {
          "base_uri": "https://localhost:8080/",
          "height": 573
        },
        "outputId": "6fed0078-688d-40cf-a341-2db0b15502da"
      },
      "source": [
        "test_predictions = model.predict(normed_test_data).flatten()\n",
        "\n",
        "plt.scatter(test_labels, test_predictions)\n",
        "plt.title('Normalized test data')\n",
        "plt.xlabel('True Values [surface tension - mN/m]')\n",
        "plt.ylabel('Predictions [surface tension - mN/m]')\n",
        "plt.axis('equal')\n",
        "plt.axis('square')\n",
        "plt.xlim([10,75])\n",
        "plt.ylim([10,75])\n",
        "_ = plt.plot([-100, 100], [-100, 100])\n",
        "plt.show()\n",
        "\n",
        "test_predictions2 = model.predict(normed_train_data).flatten()\n",
        "\n",
        "plt.scatter(train_labels, test_predictions2)\n",
        "plt.title('Normalized training data')\n",
        "plt.xlabel('True Values [surface tension - mN/m]')\n",
        "plt.ylabel('Predictions [surface tension - mN/m]')\n",
        "plt.axis('equal')\n",
        "plt.axis('square')\n",
        "plt.xlim([10,75])\n",
        "plt.ylim([10,75])\n",
        "_ = plt.plot([-100, 100], [-100, 100])\n",
        "plt.show()\n"
      ],
      "execution_count": null,
      "outputs": [
        {
          "output_type": "display_data",
          "data": {
            "image/png": "[encoded data removed]",
            "text/plain": [
              "<Figure size 432x288 with 1 Axes>"
            ]
          },
          "metadata": {
            "tags": [],
            "needs_background": "light"
          }
        },
        {
          "output_type": "display_data",
          "data": {
            "image/png": "[encoded data removed]",
            "text/plain": [
              "<Figure size 432x288 with 1 Axes>"
            ]
          },
          "metadata": {
            "tags": [],
            "needs_background": "light"
          }
        }
      ]
    },
    {
      "cell_type": "code",
      "metadata": {
        "id": "f-OHX4DiXd8x",
        "colab": {
          "base_uri": "https://localhost:8080/",
          "height": 279
        },
        "outputId": "aca45772-0e15-4ee2-a308-b0f642288965"
      },
      "source": [
        "error = test_predictions - test_labels\n",
        "plt.hist(error, bins = 50)\n",
        "plt.xlabel(\"Prediction Error [surface tension - mN/m]\")\n",
        "_ = plt.ylabel(\"Count\")\n",
        "plt.show()"
      ],
      "execution_count": null,
      "outputs": [
        {
          "output_type": "display_data",
          "data": {
            "image/png": "[encoded data removed]",
            "text/plain": [
              "<Figure size 432x288 with 1 Axes>"
            ]
          },
          "metadata": {
            "tags": [],
            "needs_background": "light"
          }
        }
      ]
    },
    {
      "cell_type": "markdown",
      "metadata": {
        "id": "r-i0Bq5JF0nv"
      },
      "source": [
        "# Saving the final Model"
      ]
    },
    {
      "cell_type": "markdown",
      "metadata": {
        "id": "G8FBhOnbGK65"
      },
      "source": [
        "When you are satisfied with the model and the accuracy continue from here:"
      ]
    },
    {
      "cell_type": "markdown",
      "metadata": {
        "id": "BspL3Z6-GPaa"
      },
      "source": [
        "Saving the model in a **SavedModel** format"
      ]
    },
    {
      "cell_type": "code",
      "metadata": {
        "id": "VwWrwBcZGLnZ"
      },
      "source": [
        "!pip install -q pyyaml h5py  # Required to save models in HDF5 format"
      ],
      "execution_count": null,
      "outputs": []
    },
    {
      "cell_type": "code",
      "metadata": {
        "id": "6BR7rbL5GXku"
      },
      "source": [
        "import os"
      ],
      "execution_count": null,
      "outputs": []
    },
    {
      "cell_type": "code",
      "metadata": {
        "id": "MzumSsZfGYCp"
      },
      "source": [
        "# Save the entire model as a SavedModel.\n",
        "filename=str('All_surf_five_feutures_Huber_swish_trial_3.h5')\n",
        "!mkdir -p '/content/drive/My Drive/DropLev/MachineLearningModels' #Ceates a folder named \"MachineLearningModels\"\n",
        "model.save('/content/drive/My Drive/DropLev/MachineLearningModels/'+filename)  #Saves the file"
      ],
      "execution_count": null,
      "outputs": []
    },
    {
      "cell_type": "markdown",
      "metadata": {
        "id": "pJzKbb1EGgUE"
      },
      "source": [
        "The SavedModel format is a directory containing a protobuf binary and a Tensorflow checkpoint. Inspect the saved model directory:"
      ]
    },
    {
      "cell_type": "code",
      "metadata": {
        "id": "9yGUiOkfGgen"
      },
      "source": [
        "# DropLev_st_prediction_model directory\n",
        "#!ls content/drive/My Drive/DropLev/MachineLearningModels\n",
        "\n",
        "# Contains an assets folder, saved_model.pb, and variables folder.\n",
        "#!ls content/drive/My Drive/DropLev/MachineLearningModels/SDS_1.h5"
      ],
      "execution_count": null,
      "outputs": []
    },
    {
      "cell_type": "markdown",
      "metadata": {
        "id": "n2IWIiOYGgqK"
      },
      "source": [
        "Saving the model in a **HDF5** format"
      ]
    },
    {
      "cell_type": "code",
      "metadata": {
        "id": "H_Zl4tVVGg3J"
      },
      "source": [
        "# Save the entire model to a HDF5 file.\n",
        "# The '.h5' extension indicates that the model should be saved to HDF5.\n",
        "#model.save('content/drive/My Drive/DropLev/MachineLearningModels/'+filename) "
      ],
      "execution_count": null,
      "outputs": []
    },
    {
      "cell_type": "markdown",
      "metadata": {
        "id": "oZcqRI0r9B4r"
      },
      "source": [
        "# Reload a fresh Keras model from the saved model:"
      ]
    },
    {
      "cell_type": "markdown",
      "metadata": {
        "id": "W6mEqNn497op"
      },
      "source": [
        "For **SavedModel** format"
      ]
    },
    {
      "cell_type": "code",
      "metadata": {
        "id": "c4vUC4ep8_VA"
      },
      "source": [
        "new_model = tf.keras.models.load_model('/content/drive/My Drive/DropLev/MachineLearningModels/'+filename)\n",
        "\n",
        "# Check its architecture\n",
        "new_model.summary()"
      ],
      "execution_count": null,
      "outputs": []
    },
    {
      "cell_type": "markdown",
      "metadata": {
        "id": "myilbB_P9_dO"
      },
      "source": [
        "For **HDF5** format"
      ]
    },
    {
      "cell_type": "code",
      "metadata": {
        "id": "94ZjuhOV-Dfk"
      },
      "source": [
        "# Recreate the exact same model, including its weights and the optimizer\n",
        "new_model = tf.keras.models.load_model('DropLev_st_prediction_model.h5')\n",
        "\n",
        "# Show the model architecture\n",
        "new_model.summary()"
      ],
      "execution_count": null,
      "outputs": []
    },
    {
      "cell_type": "markdown",
      "metadata": {
        "id": "j1K6xGBg9K4A"
      },
      "source": [
        "Evaluate the restored model (for both formats)"
      ]
    },
    {
      "cell_type": "code",
      "metadata": {
        "id": "if5rjrz79NPI"
      },
      "source": [
        "# Evaluation\n",
        "loss, mae, mse = new_model.evaluate(normed_test_data, test_labels, verbose=0)\n",
        "print('Restored model, Mean absolute error: {:5.2f}'.format(mae))\n",
        "\n",
        "print(new_model.predict(normed_test_data).shape)"
      ],
      "execution_count": null,
      "outputs": []
    }
  ]
}