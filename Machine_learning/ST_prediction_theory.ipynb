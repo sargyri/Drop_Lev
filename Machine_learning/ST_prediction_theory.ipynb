{
  "nbformat": 4,
  "nbformat_minor": 0,
  "metadata": {
    "colab": {
      "name": "ST_prediction_theory.ipynb",
      "provenance": [],
      "toc_visible": true,
      "authorship_tag": "ABX9TyPl48YvFzCeMFBZbAx2xkFu",
      "include_colab_link": true
    },
    "kernelspec": {
      "name": "python3",
      "display_name": "Python 3"
    }
  },
  "cells": [
    {
      "cell_type": "markdown",
      "metadata": {
        "id": "view-in-github",
        "colab_type": "text"
      },
      "source": [
        "<a href=\"https://colab.research.google.com/github/sargyri/Drop_Lev/blob/master/Machine_learning/ST_prediction_theory.ipynb\" target=\"_parent\"><img src=\"https://colab.research.google.com/assets/colab-badge.svg\" alt=\"Open In Colab\"/></a>"
      ]
    },
    {
      "cell_type": "markdown",
      "metadata": {
        "colab_type": "text",
        "id": "FhGuhbZ6M5tl"
      },
      "source": [
        "##### Copyright 2018 The TensorFlow Authors."
      ]
    },
    {
      "cell_type": "code",
      "metadata": {
        "cellView": "form",
        "colab_type": "code",
        "id": "AwOEIRJC6Une",
        "colab": {}
      },
      "source": [
        "#@title Licensed under the Apache License, Version 2.0 (the \"License\");\n",
        "# you may not use this file except in compliance with the License.\n",
        "# You may obtain a copy of the License at\n",
        "#\n",
        "# https://www.apache.org/licenses/LICENSE-2.0\n",
        "#\n",
        "# Unless required by applicable law or agreed to in writing, software\n",
        "# distributed under the License is distributed on an \"AS IS\" BASIS,\n",
        "# WITHOUT WARRANTIES OR CONDITIONS OF ANY KIND, either express or implied.\n",
        "# See the License for the specific language governing permissions and\n",
        "# limitations under the License."
      ],
      "execution_count": null,
      "outputs": []
    },
    {
      "cell_type": "code",
      "metadata": {
        "cellView": "form",
        "colab_type": "code",
        "id": "KyPEtTqk6VdG",
        "colab": {}
      },
      "source": [
        "#@title MIT License\n",
        "#\n",
        "# Copyright (c) 2017 François Chollet\n",
        "#\n",
        "# Permission is hereby granted, free of charge, to any person obtaining a\n",
        "# copy of this software and associated documentation files (the \"Software\"),\n",
        "# to deal in the Software without restriction, including without limitation\n",
        "# the rights to use, copy, modify, merge, publish, distribute, sublicense,\n",
        "# and/or sell copies of the Software, and to permit persons to whom the\n",
        "# Software is furnished to do so, subject to the following conditions:\n",
        "#\n",
        "# The above copyright notice and this permission notice shall be included in\n",
        "# all copies or substantial portions of the Software.\n",
        "#\n",
        "# THE SOFTWARE IS PROVIDED \"AS IS\", WITHOUT WARRANTY OF ANY KIND, EXPRESS OR\n",
        "# IMPLIED, INCLUDING BUT NOT LIMITED TO THE WARRANTIES OF MERCHANTABILITY,\n",
        "# FITNESS FOR A PARTICULAR PURPOSE AND NONINFRINGEMENT. IN NO EVENT SHALL\n",
        "# THE AUTHORS OR COPYRIGHT HOLDERS BE LIABLE FOR ANY CLAIM, DAMAGES OR OTHER\n",
        "# LIABILITY, WHETHER IN AN ACTION OF CONTRACT, TORT OR OTHERWISE, ARISING\n",
        "# FROM, OUT OF OR IN CONNECTION WITH THE SOFTWARE OR THE USE OR OTHER\n",
        "# DEALINGS IN THE SOFTWARE."
      ],
      "execution_count": null,
      "outputs": []
    },
    {
      "cell_type": "markdown",
      "metadata": {
        "colab_type": "text",
        "id": "EIdT9iu_Z4Rb"
      },
      "source": [
        "# Lev Droplet "
      ]
    },
    {
      "cell_type": "markdown",
      "metadata": {
        "colab_type": "text",
        "id": "bBIlTPscrIT9"
      },
      "source": [
        "<table class=\"tfo-notebook-buttons\" align=\"left\">\n",
        "  <td>\n",
        "    <a target=\"_blank\" href=\"https://www.tensorflow.org/tutorials/keras/basic_regression\"><img src=\"https://www.tensorflow.org/images/tf_logo_32px.png\" />View on TensorFlow.org</a>\n",
        "  </td>\n",
        "  <td>\n",
        "    <a target=\"_blank\" href=\"https://colab.research.google.com/github/tensorflow/docs/blob/r2.0rc/site/en/tutorials/keras/basic_regression.ipynb\"><img src=\"https://www.tensorflow.org/images/colab_logo_32px.png\" />Run in Google Colab</a>\n",
        "  </td>\n",
        "  <td>\n",
        "    <a target=\"_blank\" href=\"https://github.com/tensorflow/docs/blob/r2.0rc/site/en/tutorials/keras/basic_regression.ipynb\"><img src=\"https://www.tensorflow.org/images/GitHub-Mark-32px.png\" />View source on GitHub</a>\n",
        "  </td>\n",
        "</table>"
      ]
    },
    {
      "cell_type": "markdown",
      "metadata": {
        "colab_type": "text",
        "id": "AHp3M9ZmrIxj"
      },
      "source": [
        "NN for predicting ST from theoretical data based on the somple model"
      ]
    },
    {
      "cell_type": "code",
      "metadata": {
        "id": "j2J8YeLX2j7a",
        "colab_type": "code",
        "colab": {}
      },
      "source": [
        "!pip install lmfit"
      ],
      "execution_count": null,
      "outputs": []
    },
    {
      "cell_type": "code",
      "metadata": {
        "colab_type": "code",
        "id": "jyE0M3V99EdP",
        "scrolled": true,
        "colab": {
          "base_uri": "https://localhost:8080/",
          "height": 50
        },
        "outputId": "a6883e36-62d9-4b81-e85b-e662d2de9bbf"
      },
      "source": [
        "import numpy as np\n",
        "#import cv2\n",
        "import os\n",
        "import re\n",
        "import glob\n",
        "import matplotlib.pyplot as plt\n",
        "from scipy.signal import  gaussian\n",
        "from scipy.ndimage import filters\n",
        "from scipy import optimize\n",
        "from scipy.stats import linregress\n",
        "from mpl_toolkits.mplot3d import Axes3D\n",
        "\n",
        "import seaborn as sns\n",
        "\n",
        "import scipy as sp\n",
        "import scipy.interpolate\n",
        "from scipy.integrate import trapz\n",
        "\n",
        "import time\n",
        "\n",
        "import pandas as pd\n",
        "\n",
        "from lmfit import Model, fit_report, Parameters\n",
        "\n",
        "#from __future__ import absolute_import, division, print_function, unicode_literals\n",
        "\n",
        "import pathlib\n",
        "\n",
        "import matplotlib.pyplot as plt\n",
        "import pandas as pd\n",
        "import seaborn as sns\n",
        "\n",
        "import tensorflow.compat.v1 as tf\n",
        "tf.disable_v2_behavior()  #!!! Why though? !!!\n",
        "\n",
        "import pprint\n",
        "import tensorflow as tf\n",
        "from tensorflow import keras\n",
        "from tensorflow.keras import layers\n",
        "from tensorflow.keras.callbacks import ModelCheckpoint\n",
        "import io\n",
        "\n",
        "print(tf.__version__)\n",
        "print(\"Num GPUs Available: \", len(tf.config.experimental.list_physical_devices('GPU')))\n",
        "\n",
        "\n",
        "######### initialize the data ###############\n",
        "data_input=[]\n",
        "data_output=[]\n",
        "l_sample=300\n",
        "vol_all=[]\n",
        "vol2_all=[]\n",
        "data_x=[]\n",
        "data_y=[]\n",
        "data_h=[]\n",
        "data_w=[]\n",
        "R_sph_all=[]\n",
        "Ar=[]\n",
        "#st_all=[]\n",
        "rho=[]\n",
        "theta=[]\n",
        "#List of non-processed images:\n",
        "discarded=[]\n",
        "new=[]  #list of images without the discarded ones\n",
        "\n",
        "#For the simple approach fit\n",
        "phi_final=[]\n",
        "theta_az=[]\n",
        "theta_all=[]\n",
        "theta_final=[]\n",
        "r_theta_all=[]\n",
        "xc_all=[]\n",
        "yc_all=[]\n",
        "rho_final=[]\n",
        "data_Ps=[]\n",
        "data_dB=[]\n",
        "data_stderr=[]\n",
        "data_err=[]\n",
        "\n",
        "total_num_pictures = len(glob.glob1('.',\"*.png\"))\n",
        "frame_number=np.arange(total_num_pictures)\n",
        "\n",
        "gamma=64 #[N/m]\n",
        "Cg_air=1/101325 #Pa**(-1)\n",
        "k_o=2*np.pi*40/340  #wave number in the air. frequency 40kHz (25kH=0.000040sec) and speed of sound in air v=340 m/s from paper (331.5 for 20oC online) \n",
        "#Calibration\n",
        "needle_d=0.83 #mm\n",
        "needle_pxl=220 #pixels\n",
        "#calibration=0.00621722846441948**3\n",
        "cal=needle_d/needle_pxl\n",
        "calibration=(cal)**3\n",
        "\n",
        "\n",
        "###############################################################################\n",
        "#### Functions used in the data processing ####################################\n",
        "###############################################################################\n",
        "\n",
        "def calc_volume(x,y):\n",
        "    \"\"\"\n",
        "    Calculate the drop volume from a shape matrix.\n",
        "\n",
        "    Parameters\n",
        "    ----------\n",
        "    x, y - contour of the drop\n",
        "\n",
        "    Returns\n",
        "    -------\n",
        "    Integrated volume using for the given shape matrix.\n",
        "\n",
        "    \"\"\"\n",
        "    # data selection\n",
        "    idx=x<=0  # r=right\n",
        "    x_l=x[idx]\n",
        "    y_l=y[idx]\n",
        "        \n",
        "    vol_left=trapz(np.pi*x_l**2, y_l)/2\n",
        "        \n",
        "    # data selection\n",
        "    idx=x>=0  # r=right\n",
        "    x_r=x[idx]\n",
        "    y_r=y[idx]\n",
        "    vol_right=-trapz(np.pi*x_r**2, y_r)/2\n",
        "   \n",
        "    return vol_left+vol_right\n",
        "\n",
        "\n",
        "def calc_R_sph(vol, cal):\n",
        "    \"\"\"\n",
        "    Calculate the spherical radius of a droplet based on the volume.\n",
        "\n",
        "    Input parameters\n",
        "    ----------\n",
        "    vol:         volume   [pixels**3]\n",
        "    calibration: calibration factor  [mm**3/pixels**3]\n",
        "\n",
        "    Returns\n",
        "    -------\n",
        "    Corresponding spherical radius.  [mm]\n",
        "\n",
        "    \"\"\"\n",
        "#    calibration=0.00621722846441948**3\n",
        "    #R_sph=(3*vol*calibration/(4*np.pi))**(1/3)\n",
        "    R_sph=(3*vol/(4*np.pi))**(1/3)\n",
        "    return R_sph\n",
        "\n",
        "def calc_dB(Ps):\n",
        "    \"\"\"\n",
        "    Calculate the deci Bell (dB) value for each acoustic pressure Ps.\n",
        "\n",
        "    Input parameters\n",
        "    ----------\n",
        "    Ps:     aplitude of the acoustic pressure\n",
        "\n",
        "    Returns\n",
        "    -------\n",
        "    dB value. []\n",
        "\n",
        "    \"\"\"\n",
        "    Po=2*10**(-5) #[Pa]\n",
        "\n",
        "    return 20*np.log10(Ps/Po)     #Acoustic pressure [Pa]\n",
        "\n",
        "def model_fit(th, Ps):\n",
        "    \"\"\"\n",
        "    Express the model that will be used to fit the experimental data (simple approach).\n",
        "\n",
        "    Input parameters\n",
        "    ----------\n",
        "    dB:     deciBell\n",
        "    th:     angle theta\n",
        "    Returns\n",
        "    -------\n",
        "    Expression of fitting model.\n",
        "\n",
        "    \"\"\"\n",
        "#    Ps=calc_ampl(dB)\n",
        "    ct_new=-((3/(64*gamma))*R_sph**2*Ps**2*Cg_air*(1+((7/5)*(k_o*R_sph)**2)))\n",
        "    return ct_new*(3*(np.cos(th))**2-1)+R_sph\n",
        "\n",
        "\n",
        "def R_predict(th, gamma, R_sph, Ps, Cg_air, k_o):\n",
        "    \"\"\"\n",
        "    Prediction of ST. \n",
        "    After the acoustic pressure is determined. The ST is calculated based on the equation of our model. \n",
        "    \n",
        "    \n",
        "    Input parameters\n",
        "    ----------\n",
        "    th:     angle theta\n",
        "    gamma:  ST as initial predition [mN/m]\n",
        "    Power:  U*I [Watt]\n",
        "    Returns\n",
        "    -------\n",
        "    gamma:   predicted surface tension [mN/m]\n",
        "\n",
        "    \"\"\"    \n",
        "#    Ps=data_Ps[i-1]    #[Pa]\n",
        "    ct_new=-((3/(64*gamma))*R_sph**2*Ps**2*Cg_air*(1+((7/5)*(k_o*R_sph)**2)))*(3*(np.cos(th))**2-1)\n",
        "    return ct_new+R_sph\n",
        "\n",
        "def ST_predict(th, gamma, R_sph, Ps, Cg_air, k_o):\n",
        "    \"\"\"\n",
        "    Prediction of ST. \n",
        "    After the acoustic pressure is determined. The ST is calculated based on the equation of our model. \n",
        "    \n",
        "    \n",
        "    Input parameters\n",
        "    ----------\n",
        "    th:     angle theta\n",
        "    gamma:  ST as initial predition [mN/m]\n",
        "    Power:  U*I [Watt]\n",
        "    Returns\n",
        "    -------\n",
        "    gamma:   predicted surface tension [mN/m]\n",
        "\n",
        "    \"\"\"    \n",
        "#    Ps=data_Ps[i-1]    #[Pa]\n",
        "    ct_new=-((3/(64*gamma))*R_sph**2*Ps**2*Cg_air*(1+((7/5)*(k_o*R_sph)**2)))*(3*(np.cos(th))**2-1)\n",
        "    return ct_new+R_sph\n",
        "\n",
        "\n",
        "def azimuth(phi):\n",
        "    \"\"\"\n",
        "    Calculate the azimuthal angle.\n",
        "\n",
        "    Input parameters\n",
        "    ----------\n",
        "    phi:     angle phi\n",
        "\n",
        "    Returns\n",
        "    -------\n",
        "    Azimuthal angle.\n",
        "\n",
        "    \"\"\"\n",
        "\n",
        "    if phi<=np.pi/2:\n",
        "        a=np.pi/2-phi\n",
        "    else:\n",
        "        a=2.5*np.pi-phi\n",
        "    return a\n",
        "\n",
        "\n",
        "def cart2pol(x, y):\n",
        "    rho = np.sqrt(x**2 + y**2)\n",
        "    theta = np.arctan2(y, x)\n",
        "    return(theta, rho)\n",
        "\n",
        "def pol2cart(rho, phi):\n",
        "    x = rho * np.cos(phi)\n",
        "    y = rho * np.sin(phi)\n",
        "    return(x, y)\n",
        "\n",
        "\n",
        "def pol2cart_theta(rho, theta):\n",
        "    x = rho * np.sin(theta)\n",
        "    y = rho * np.cos(theta)\n",
        "    return(x, y)"
      ],
      "execution_count": null,
      "outputs": [
        {
          "output_type": "stream",
          "text": [
            "2.3.0\n",
            "Num GPUs Available:  0\n"
          ],
          "name": "stdout"
        }
      ]
    },
    {
      "cell_type": "markdown",
      "metadata": {
        "id": "TvCBPgR-gWXl",
        "colab_type": "text"
      },
      "source": [
        "Run the next code box only if google drive is not mounted to colab"
      ]
    },
    {
      "cell_type": "code",
      "metadata": {
        "id": "7dA-joJRPNiJ",
        "colab_type": "code",
        "colab": {
          "base_uri": "https://localhost:8080/",
          "height": 120
        },
        "outputId": "0718a3b2-4a02-4e0c-f699-0f3f0863d4e4"
      },
      "source": [
        "from google.colab import drive\n",
        "drive.mount('/content/drive')"
      ],
      "execution_count": null,
      "outputs": [
        {
          "output_type": "stream",
          "text": [
            "Go to this URL in a browser: https://accounts.google.com/o/oauth2/auth?client_id=947318989803-6bn6qk8qdgf4n4g3pfee6491hc0brc4i.apps.googleusercontent.com&redirect_uri=urn%3aietf%3awg%3aoauth%3a2.0%3aoob&scope=email%20https%3a%2f%2fwww.googleapis.com%2fauth%2fdocs.test%20https%3a%2f%2fwww.googleapis.com%2fauth%2fdrive%20https%3a%2f%2fwww.googleapis.com%2fauth%2fdrive.photos.readonly%20https%3a%2f%2fwww.googleapis.com%2fauth%2fpeopleapi.readonly&response_type=code\n",
            "\n",
            "Enter your authorization code:\n",
            "··········\n",
            "Mounted at /content/drive\n"
          ],
          "name": "stdout"
        }
      ]
    },
    {
      "cell_type": "markdown",
      "metadata": {
        "id": "lMshRx3PgwcZ",
        "colab_type": "text"
      },
      "source": [
        "If it **is** mounted continue from here on"
      ]
    },
    {
      "cell_type": "code",
      "metadata": {
        "colab_type": "code",
        "id": "3IEVK-KFxi5Z",
        "colab": {
          "base_uri": "https://localhost:8080/",
          "height": 33
        },
        "outputId": "ba33ea5d-b33e-4183-8c24-d14ed082a120"
      },
      "source": [
        "if 'COLAB_TPU_ADDR' not in os.environ:\n",
        "  print('ERROR: Not connected to a TPU runtime; please see the first cell in this notebook for instructions!')\n",
        "else:\n",
        "  tpu_address = 'grpc://' + os.environ['COLAB_TPU_ADDR']\n",
        "  print ('TPU address is', tpu_address)\n",
        "\n",
        "  with tf.Session(tpu_address) as session:\n",
        "    devices = session.list_devices()\n",
        "    \n",
        "  print('TPU devices:')\n",
        "  pprint.pprint(devices)"
      ],
      "execution_count": null,
      "outputs": [
        {
          "output_type": "stream",
          "text": [
            "ERROR: Not connected to a TPU runtime; please see the first cell in this notebook for instructions!\n"
          ],
          "name": "stdout"
        }
      ]
    },
    {
      "cell_type": "markdown",
      "metadata": {
        "colab_type": "text",
        "id": "gFh9ne3FZ-On"
      },
      "source": [
        "### Get the data\n",
        "First download the dataset!\n",
        "\n",
        "**Option 1**: Upload files"
      ]
    },
    {
      "cell_type": "code",
      "metadata": {
        "id": "K7-5GSURZTdh",
        "colab_type": "code",
        "colab": {}
      },
      "source": [
        "from google.colab import files\n",
        "uploaded = files.upload()"
      ],
      "execution_count": null,
      "outputs": []
    },
    {
      "cell_type": "code",
      "metadata": {
        "id": "l83INVYlZsND",
        "colab_type": "code",
        "colab": {}
      },
      "source": [
        "import io\n",
        "csvfilename=str('TritonX100_conci_0.0100_all.csv')\n",
        "input = pd.read_csv(io.BytesIO(uploaded[csvfilename]))\n",
        "#input = pd.read_csv(csvfilename, sep=\"\\t\")\n",
        "# Dataset is now stored in a Pandas Dataframe\n",
        "input.shape"
      ],
      "execution_count": null,
      "outputs": []
    },
    {
      "cell_type": "markdown",
      "metadata": {
        "id": "WCobdL9vDRXH",
        "colab_type": "text"
      },
      "source": [
        "**Option 2**: Import files from drive"
      ]
    },
    {
      "cell_type": "code",
      "metadata": {
        "id": "Z-NFT5ddEOdC",
        "colab_type": "code",
        "colab": {
          "base_uri": "https://localhost:8080/",
          "height": 33
        },
        "outputId": "7b68735f-3205-497b-e838-d8a0643b6b47"
      },
      "source": [
        "#From the drive folder that is mounted to collab go to the file that you are interested in, \n",
        "#right click and copy the path of the file. Paste it in csvfilename:\n",
        "import numpy as np\n",
        "file1=pd.read_csv(str('/content/drive/My Drive/DropLev/Theory_simple_model/volatile_solvents/MLtheory_ST_20.00_Ps_2882.0.csv'), sep=\"\\t\")\n",
        "file2=pd.read_csv(str('/content/drive/My Drive/DropLev/Theory_simple_model/volatile_solvents/MLtheory_ST_22.00_Ps_2882.0.csv'), sep=\"\\t\")\n",
        "file3=pd.read_csv(str('/content/drive/My Drive/DropLev/Theory_simple_model/volatile_solvents/MLtheory_ST_25.00_Ps_2882.0.csv'), sep=\"\\t\")\n",
        "file4=pd.read_csv(str('/content/drive/My Drive/DropLev/Theory_simple_model/volatile_solvents/MLtheory_ST_27.00_Ps_2882.0.csv'), sep=\"\\t\")\n",
        "file5=pd.read_csv(str('/content/drive/My Drive/DropLev/Theory_simple_model/volatile_solvents/MLtheory_ST_30.00_Ps_2882.0.csv'), sep=\"\\t\")\n",
        "file6=pd.read_csv(str('/content/drive/My Drive/DropLev/Theory_simple_model/volatile_solvents/MLtheory_ST_32.00_Ps_2882.0.csv'), sep=\"\\t\")\n",
        "file7=pd.read_csv(str('/content/drive/My Drive/DropLev/Theory_simple_model/volatile_solvents/MLtheory_ST_35.00_Ps_2882.0.csv'), sep=\"\\t\")\n",
        "file8=pd.read_csv(str('/content/drive/My Drive/DropLev/Theory_simple_model/volatile_solvents/MLtheory_ST_40.00_Ps_2882.0.csv'), sep=\"\\t\")\n",
        "file9=pd.read_csv(str('/content/drive/My Drive/DropLev/Theory_simple_model/volatile_solvents/MLtheory_ST_45.00_Ps_2882.0.csv'), sep=\"\\t\")\n",
        "file10=pd.read_csv(str('/content/drive/My Drive/DropLev/Theory_simple_model/volatile_solvents/MLtheory_ST_50.00_Ps_2882.0.csv'), sep=\"\\t\")\n",
        "file11=pd.read_csv(str('/content/drive/My Drive/DropLev/Theory_simple_model/volatile_solvents/MLtheory_ST_55.00_Ps_2882.0.csv'), sep=\"\\t\")\n",
        "file12=pd.read_csv(str('/content/drive/My Drive/DropLev/Theory_simple_model/volatile_solvents/MLtheory_ST_60.00_Ps_2882.0.csv'), sep=\"\\t\")\n",
        "file13=pd.read_csv(str('/content/drive/My Drive/DropLev/Theory_simple_model/volatile_solvents/MLtheory_ST_65.00_Ps_2882.0.csv'), sep=\"\\t\")\n",
        "file14=pd.read_csv(str('/content/drive/My Drive/DropLev/Theory_simple_model/volatile_solvents/MLtheory_ST_70.00_Ps_2882.0.csv'), sep=\"\\t\")\n",
        "file15=pd.read_csv(str('/content/drive/My Drive/DropLev/Theory_simple_model/volatile_solvents/MLtheory_ST_72.00_Ps_2882.0.csv'), sep=\"\\t\")\n",
        "file16=pd.read_csv(str('/content/drive/My Drive/DropLev/Theory_simple_model/non_volatile_solvents/MLtheory_ST_20.00_Rsph_0.54.csv'), sep=\"\\t\")\n",
        "file17=pd.read_csv(str('/content/drive/My Drive/DropLev/Theory_simple_model/non_volatile_solvents/MLtheory_ST_22.00_Rsph_0.67.csv'), sep=\"\\t\")\n",
        "file18=pd.read_csv(str('/content/drive/My Drive/DropLev/Theory_simple_model/non_volatile_solvents/MLtheory_ST_25.00_Rsph_0.59.csv'), sep=\"\\t\")\n",
        "file19=pd.read_csv(str('/content/drive/My Drive/DropLev/Theory_simple_model/non_volatile_solvents/MLtheory_ST_25.00_Rsph_0.67.csv'), sep=\"\\t\")\n",
        "file20=pd.read_csv(str('/content/drive/My Drive/DropLev/Theory_simple_model/non_volatile_solvents/MLtheory_ST_30.00_Rsph_0.67.csv'), sep=\"\\t\")\n",
        "file21=pd.read_csv(str('/content/drive/My Drive/DropLev/Theory_simple_model/non_volatile_solvents/MLtheory_ST_35.00_Rsph_0.67.csv'), sep=\"\\t\")\n",
        "file22=pd.read_csv(str('/content/drive/My Drive/DropLev/Theory_simple_model/non_volatile_solvents/MLtheory_ST_40.00_Rsph_0.80.csv'), sep=\"\\t\")\n",
        "file23=pd.read_csv(str('/content/drive/My Drive/DropLev/Theory_simple_model/non_volatile_solvents/MLtheory_ST_45.00_Rsph_0.94.csv'), sep=\"\\t\")\n",
        "file24=pd.read_csv(str('/content/drive/My Drive/DropLev/Theory_simple_model/non_volatile_solvents/MLtheory_ST_50.00_Rsph_1.07.csv'), sep=\"\\t\")\n",
        "file25=pd.read_csv(str('/content/drive/My Drive/DropLev/Theory_simple_model/non_volatile_solvents/MLtheory_ST_55.00_Rsph_1.21.csv'), sep=\"\\t\")\n",
        "file26=pd.read_csv(str('/content/drive/My Drive/DropLev/Theory_simple_model/non_volatile_solvents/MLtheory_ST_60.00_Rsph_1.34.csv'), sep=\"\\t\")\n",
        "file27=pd.read_csv(str('/content/drive/My Drive/DropLev/Theory_simple_model/non_volatile_solvents/MLtheory_ST_65.00_Rsph_1.45.csv'), sep=\"\\t\")\n",
        "file28=pd.read_csv(str('/content/drive/My Drive/DropLev/Theory_simple_model/non_volatile_solvents/MLtheory_ST_65.00_Rsph_1.47.csv'), sep=\"\\t\")\n",
        "file29=pd.read_csv(str('/content/drive/My Drive/DropLev/Theory_simple_model/non_volatile_solvents/MLtheory_ST_70.00_Rsph_1.61.csv'), sep=\"\\t\")\n",
        "file30=pd.read_csv(str('/content/drive/My Drive/DropLev/Theory_simple_model/non_volatile_solvents/MLtheory_ST_72.00_Rsph_1.61.csv'), sep=\"\\t\")\n",
        "\n",
        "#input=np.vstack([file1, file2, file3, file4, file5, file6, file7, file8, file9, file10, file11, file12, file13, file14, file15])\n",
        "#input=np.vstack([file16, file17, file18, file19, file20, file21, file22, file23, file24, file25, file26, file27, file28, file29, file30])\n",
        "input=np.vstack([file1, file2, file16])\n",
        "input.shape\n",
        "#csvfilename=str('/content/drive/My Drive/DropLev/Levitator_2/Training/SDS/SDS_conci_1.50000_ML_data.csv')\n",
        "\n",
        "#input = pd.read_csv(csvfilename)\n"
      ],
      "execution_count": null,
      "outputs": [
        {
          "output_type": "execute_result",
          "data": {
            "text/plain": [
              "(297, 304)"
            ]
          },
          "metadata": {
            "tags": []
          },
          "execution_count": 281
        }
      ]
    },
    {
      "cell_type": "markdown",
      "metadata": {
        "id": "0dQzS1gV1jC1",
        "colab_type": "text"
      },
      "source": [
        "**Option 3**: Generate the data"
      ]
    },
    {
      "cell_type": "markdown",
      "metadata": {
        "colab_type": "text",
        "id": "lsGCO8nDUAlJ"
      },
      "source": [
        "Generate random angle:\n",
        "20 000 sets of 200 points"
      ]
    },
    {
      "cell_type": "code",
      "metadata": {
        "colab_type": "code",
        "id": "k2AMjiCZT_5m",
        "colab": {}
      },
      "source": [
        "def gen_data(num_sample,sampling):\n",
        "\n",
        "    np.random.seed(1234)\n",
        "\n",
        "    #test=np.arange(100)\n",
        "    #test_r=np.random.choice(test,10)\n",
        "\n",
        "    vol_drop=5 # in µL\n",
        "    calibration=0.0060567117466506235e-3 #mm/pixel\n",
        "  \n",
        "    #gamma=72.8 #[mN/m]   \n",
        "    Cg_air=1/101325 #Pa**(-1)\n",
        "    k_o=2*np.pi*40/340  #wave number in the air in [mm^-1]. frequency 40kHz (25kH=0.000040sec) and speed of sound in air v=340 m/s from paper (331.5 for 20oC online) \n",
        "    #Calibration\n",
        "    Ps= 1800  #[Pa]\n",
        "    R_sph=calc_R_sph(vol_drop, calibration)\n",
        "\n",
        "    print(\"Radius in mm: \", R_sph)\n",
        "    \n",
        "    #num_sample=200  #ST\n",
        "    #sampling=200\n",
        "\n",
        "    #theta=np.linspace(0,2*np.pi, 100)\n",
        "\n",
        "    #theta=np.random.random(200)*2*np.pi\n",
        "    theta=np.random.rand(num_sample, sampling)*2*np.pi\n",
        "    theta.sort()\n",
        "    ST_range=np.random.random(num_sample)*(72-20)+20\n",
        "    print(theta.shape)\n",
        "    r_all=np.empty([0,sampling])\n",
        "    print(r_all.shape)\n",
        "\n",
        "    for i in range(num_sample):\n",
        "        r=R_predict(theta[i], ST_range[i], R_sph, Ps, Cg_air, k_o)\n",
        "          #print(r.shape)\n",
        "         #print(r)\n",
        "        r_all=np.vstack((r_all, r))\n",
        "        \n",
        "        if i % 100 == 0:\n",
        "                print(i)\n",
        "        \n",
        "\n",
        "    print(r_all.shape)\n",
        "\n",
        "    dataset=np.hstack((theta,r_all, ST_range.reshape([num_sample,1])))\n",
        "    print(dataset.shape)\n",
        "\n",
        "    #print(ST_range)\n",
        "    print(ST_range.min())\n",
        "    print(ST_range.max())\n",
        "    #sns.set(color_codes=True)\n",
        "    sns.distplot(ST_range);\n",
        "\n",
        "    fig3 = plt.figure()\n",
        "    ax = plt.gca()\n",
        "    ax.set_aspect(1)\n",
        "    ax.set_xlim([-1.5,1.5])\n",
        "    ax.set_ylim([-1.5,1.5])\n",
        "    \n",
        "\n",
        "    for j in dataset:\n",
        "\n",
        "      x,y=pol2cart_theta(j[sampling:sampling+sampling], j[0:sampling])\n",
        "    #  print(x.shape)\n",
        "    #  print(y.shape)\n",
        "\n",
        "      #plt.plot(x*1e3,y*1e3)\n",
        "      plt.plot(x,y)\n",
        "\n",
        "    plt.show()\n",
        "    return dataset\n",
        "\n",
        "num_sample=5000  # number of different ST values\n",
        "sampling=200 # number of coordiante point describing the contour\n",
        "\n",
        "\n",
        "dataset=gen_data(num_sample,sampling)\n",
        "\n",
        "\n",
        "column_names=[]\n",
        "for i in range(sampling):\n",
        "  column_names.append('theta')\n",
        "for i in range(sampling):\n",
        "  column_names.append('rho')\n",
        "\n",
        "column_names.append('ST')\n",
        "\n",
        "\n",
        "raw_dataset = pd.DataFrame(dataset, columns=column_names)\n",
        "\n",
        "raw_dataset.to_csv('./dataset.csv',index=False)\n"
      ],
      "execution_count": null,
      "outputs": []
    },
    {
      "cell_type": "markdown",
      "metadata": {
        "colab_type": "text",
        "id": "nslsRLh7Zss4"
      },
      "source": [
        "###Import it using pandas for **options 1 and 2**"
      ]
    },
    {
      "cell_type": "code",
      "metadata": {
        "colab_type": "code",
        "id": "CiX2FI4gZtTt",
        "colab": {
          "base_uri": "https://localhost:8080/",
          "height": 247
        },
        "outputId": "04d2320e-92b2-40ee-9db1-828deca949e1"
      },
      "source": [
        "column_names=[]\n",
        "\n",
        "for i in range(100):\n",
        "  column_names.append('rho_%d' %i)\n",
        "for i in range(100):\n",
        "  column_names.append('phi_%d' %i)\n",
        "for i in range(100):\n",
        "  column_names.append('cos2theta_%d' %i)\n",
        "column_names.append('(k*R_sph)^2')\n",
        "column_names.append('R_sph2')\n",
        "column_names.append('Ps2*Cg_air')\n",
        "\n",
        "column_names.append('st')\n",
        "\n",
        "#raw_dataset = pd.read_csv(csvfilename, sep=\"\\t\")\n",
        "#raw_dataset.columns=column_names\n",
        "\n",
        "raw_dataset = pd.DataFrame(data=input,  columns=column_names) \n",
        "              \n",
        "raw_dataset.shape\n",
        "\n",
        "dataset = raw_dataset.copy()\n",
        "\n",
        "\n",
        "#for i in range(100):\n",
        "#  dataset.pop('cos2theta_%d' %i)\n",
        "\n",
        "dataset.pop('Ps2*Cg_air')\n",
        "\n",
        "\n",
        "dataset.tail()"
      ],
      "execution_count": null,
      "outputs": [
        {
          "output_type": "execute_result",
          "data": {
            "text/html": [
              "<div>\n",
              "<style scoped>\n",
              "    .dataframe tbody tr th:only-of-type {\n",
              "        vertical-align: middle;\n",
              "    }\n",
              "\n",
              "    .dataframe tbody tr th {\n",
              "        vertical-align: top;\n",
              "    }\n",
              "\n",
              "    .dataframe thead th {\n",
              "        text-align: right;\n",
              "    }\n",
              "</style>\n",
              "<table border=\"1\" class=\"dataframe\">\n",
              "  <thead>\n",
              "    <tr style=\"text-align: right;\">\n",
              "      <th></th>\n",
              "      <th>rho_0</th>\n",
              "      <th>rho_1</th>\n",
              "      <th>rho_2</th>\n",
              "      <th>rho_3</th>\n",
              "      <th>rho_4</th>\n",
              "      <th>rho_5</th>\n",
              "      <th>rho_6</th>\n",
              "      <th>rho_7</th>\n",
              "      <th>rho_8</th>\n",
              "      <th>rho_9</th>\n",
              "      <th>rho_10</th>\n",
              "      <th>rho_11</th>\n",
              "      <th>rho_12</th>\n",
              "      <th>rho_13</th>\n",
              "      <th>rho_14</th>\n",
              "      <th>rho_15</th>\n",
              "      <th>rho_16</th>\n",
              "      <th>rho_17</th>\n",
              "      <th>rho_18</th>\n",
              "      <th>rho_19</th>\n",
              "      <th>rho_20</th>\n",
              "      <th>rho_21</th>\n",
              "      <th>rho_22</th>\n",
              "      <th>rho_23</th>\n",
              "      <th>rho_24</th>\n",
              "      <th>rho_25</th>\n",
              "      <th>rho_26</th>\n",
              "      <th>rho_27</th>\n",
              "      <th>rho_28</th>\n",
              "      <th>rho_29</th>\n",
              "      <th>rho_30</th>\n",
              "      <th>rho_31</th>\n",
              "      <th>rho_32</th>\n",
              "      <th>rho_33</th>\n",
              "      <th>rho_34</th>\n",
              "      <th>rho_35</th>\n",
              "      <th>rho_36</th>\n",
              "      <th>rho_37</th>\n",
              "      <th>rho_38</th>\n",
              "      <th>rho_39</th>\n",
              "      <th>...</th>\n",
              "      <th>cos2theta_63</th>\n",
              "      <th>cos2theta_64</th>\n",
              "      <th>cos2theta_65</th>\n",
              "      <th>cos2theta_66</th>\n",
              "      <th>cos2theta_67</th>\n",
              "      <th>cos2theta_68</th>\n",
              "      <th>cos2theta_69</th>\n",
              "      <th>cos2theta_70</th>\n",
              "      <th>cos2theta_71</th>\n",
              "      <th>cos2theta_72</th>\n",
              "      <th>cos2theta_73</th>\n",
              "      <th>cos2theta_74</th>\n",
              "      <th>cos2theta_75</th>\n",
              "      <th>cos2theta_76</th>\n",
              "      <th>cos2theta_77</th>\n",
              "      <th>cos2theta_78</th>\n",
              "      <th>cos2theta_79</th>\n",
              "      <th>cos2theta_80</th>\n",
              "      <th>cos2theta_81</th>\n",
              "      <th>cos2theta_82</th>\n",
              "      <th>cos2theta_83</th>\n",
              "      <th>cos2theta_84</th>\n",
              "      <th>cos2theta_85</th>\n",
              "      <th>cos2theta_86</th>\n",
              "      <th>cos2theta_87</th>\n",
              "      <th>cos2theta_88</th>\n",
              "      <th>cos2theta_89</th>\n",
              "      <th>cos2theta_90</th>\n",
              "      <th>cos2theta_91</th>\n",
              "      <th>cos2theta_92</th>\n",
              "      <th>cos2theta_93</th>\n",
              "      <th>cos2theta_94</th>\n",
              "      <th>cos2theta_95</th>\n",
              "      <th>cos2theta_96</th>\n",
              "      <th>cos2theta_97</th>\n",
              "      <th>cos2theta_98</th>\n",
              "      <th>cos2theta_99</th>\n",
              "      <th>(k*R_sph)^2</th>\n",
              "      <th>R_sph2</th>\n",
              "      <th>st</th>\n",
              "    </tr>\n",
              "  </thead>\n",
              "  <tbody>\n",
              "    <tr>\n",
              "      <th>292</th>\n",
              "      <td>0.594194</td>\n",
              "      <td>0.593489</td>\n",
              "      <td>0.591385</td>\n",
              "      <td>0.587916</td>\n",
              "      <td>0.583138</td>\n",
              "      <td>0.577128</td>\n",
              "      <td>0.569983</td>\n",
              "      <td>0.561817</td>\n",
              "      <td>0.552761</td>\n",
              "      <td>0.542963</td>\n",
              "      <td>0.532578</td>\n",
              "      <td>0.521775</td>\n",
              "      <td>0.510727</td>\n",
              "      <td>0.499611</td>\n",
              "      <td>0.488608</td>\n",
              "      <td>0.477893</td>\n",
              "      <td>0.467640</td>\n",
              "      <td>0.458013</td>\n",
              "      <td>0.449166</td>\n",
              "      <td>0.441244</td>\n",
              "      <td>0.434372</td>\n",
              "      <td>0.428662</td>\n",
              "      <td>0.424205</td>\n",
              "      <td>0.421073</td>\n",
              "      <td>0.419316</td>\n",
              "      <td>0.418964</td>\n",
              "      <td>0.420020</td>\n",
              "      <td>0.422469</td>\n",
              "      <td>0.426271</td>\n",
              "      <td>0.431365</td>\n",
              "      <td>0.437669</td>\n",
              "      <td>0.445081</td>\n",
              "      <td>0.453483</td>\n",
              "      <td>0.462738</td>\n",
              "      <td>0.472698</td>\n",
              "      <td>0.483204</td>\n",
              "      <td>0.494085</td>\n",
              "      <td>0.505166</td>\n",
              "      <td>0.516270</td>\n",
              "      <td>0.527218</td>\n",
              "      <td>...</td>\n",
              "      <td>0.571157</td>\n",
              "      <td>0.633237</td>\n",
              "      <td>0.693173</td>\n",
              "      <td>0.75</td>\n",
              "      <td>0.802805</td>\n",
              "      <td>0.850737</td>\n",
              "      <td>0.893027</td>\n",
              "      <td>0.928992</td>\n",
              "      <td>0.958054</td>\n",
              "      <td>0.979746</td>\n",
              "      <td>0.993719</td>\n",
              "      <td>0.999748</td>\n",
              "      <td>0.997736</td>\n",
              "      <td>0.987715</td>\n",
              "      <td>0.969846</td>\n",
              "      <td>0.944418</td>\n",
              "      <td>0.911838</td>\n",
              "      <td>0.872632</td>\n",
              "      <td>0.82743</td>\n",
              "      <td>0.77696</td>\n",
              "      <td>0.722033</td>\n",
              "      <td>0.663534</td>\n",
              "      <td>0.602403</td>\n",
              "      <td>0.539625</td>\n",
              "      <td>0.476209</td>\n",
              "      <td>0.413176</td>\n",
              "      <td>0.35154</td>\n",
              "      <td>0.292292</td>\n",
              "      <td>0.236387</td>\n",
              "      <td>0.184724</td>\n",
              "      <td>0.138133</td>\n",
              "      <td>0.097365</td>\n",
              "      <td>0.063075</td>\n",
              "      <td>0.035816</td>\n",
              "      <td>0.016026</td>\n",
              "      <td>0.004023</td>\n",
              "      <td>3.749399e-33</td>\n",
              "      <td>0.535769</td>\n",
              "      <td>0.287049</td>\n",
              "      <td>20.0</td>\n",
              "    </tr>\n",
              "    <tr>\n",
              "      <th>293</th>\n",
              "      <td>0.595005</td>\n",
              "      <td>0.594291</td>\n",
              "      <td>0.592158</td>\n",
              "      <td>0.588641</td>\n",
              "      <td>0.583796</td>\n",
              "      <td>0.577703</td>\n",
              "      <td>0.570458</td>\n",
              "      <td>0.562178</td>\n",
              "      <td>0.552997</td>\n",
              "      <td>0.543062</td>\n",
              "      <td>0.532534</td>\n",
              "      <td>0.521580</td>\n",
              "      <td>0.510379</td>\n",
              "      <td>0.499109</td>\n",
              "      <td>0.487953</td>\n",
              "      <td>0.477090</td>\n",
              "      <td>0.466694</td>\n",
              "      <td>0.456933</td>\n",
              "      <td>0.447964</td>\n",
              "      <td>0.439931</td>\n",
              "      <td>0.432964</td>\n",
              "      <td>0.427174</td>\n",
              "      <td>0.422655</td>\n",
              "      <td>0.419480</td>\n",
              "      <td>0.417699</td>\n",
              "      <td>0.417341</td>\n",
              "      <td>0.418413</td>\n",
              "      <td>0.420896</td>\n",
              "      <td>0.424751</td>\n",
              "      <td>0.429915</td>\n",
              "      <td>0.436307</td>\n",
              "      <td>0.443822</td>\n",
              "      <td>0.452340</td>\n",
              "      <td>0.461724</td>\n",
              "      <td>0.471822</td>\n",
              "      <td>0.482474</td>\n",
              "      <td>0.493506</td>\n",
              "      <td>0.504741</td>\n",
              "      <td>0.515999</td>\n",
              "      <td>0.527099</td>\n",
              "      <td>...</td>\n",
              "      <td>0.571157</td>\n",
              "      <td>0.633237</td>\n",
              "      <td>0.693173</td>\n",
              "      <td>0.75</td>\n",
              "      <td>0.802805</td>\n",
              "      <td>0.850737</td>\n",
              "      <td>0.893027</td>\n",
              "      <td>0.928992</td>\n",
              "      <td>0.958054</td>\n",
              "      <td>0.979746</td>\n",
              "      <td>0.993719</td>\n",
              "      <td>0.999748</td>\n",
              "      <td>0.997736</td>\n",
              "      <td>0.987715</td>\n",
              "      <td>0.969846</td>\n",
              "      <td>0.944418</td>\n",
              "      <td>0.911838</td>\n",
              "      <td>0.872632</td>\n",
              "      <td>0.82743</td>\n",
              "      <td>0.77696</td>\n",
              "      <td>0.722033</td>\n",
              "      <td>0.663534</td>\n",
              "      <td>0.602403</td>\n",
              "      <td>0.539625</td>\n",
              "      <td>0.476209</td>\n",
              "      <td>0.413176</td>\n",
              "      <td>0.35154</td>\n",
              "      <td>0.292292</td>\n",
              "      <td>0.236387</td>\n",
              "      <td>0.184724</td>\n",
              "      <td>0.138133</td>\n",
              "      <td>0.097365</td>\n",
              "      <td>0.063075</td>\n",
              "      <td>0.035816</td>\n",
              "      <td>0.016026</td>\n",
              "      <td>0.004023</td>\n",
              "      <td>3.749399e-33</td>\n",
              "      <td>0.535769</td>\n",
              "      <td>0.287049</td>\n",
              "      <td>20.0</td>\n",
              "    </tr>\n",
              "    <tr>\n",
              "      <th>294</th>\n",
              "      <td>0.595822</td>\n",
              "      <td>0.595098</td>\n",
              "      <td>0.592935</td>\n",
              "      <td>0.589370</td>\n",
              "      <td>0.584459</td>\n",
              "      <td>0.578281</td>\n",
              "      <td>0.570936</td>\n",
              "      <td>0.562543</td>\n",
              "      <td>0.553235</td>\n",
              "      <td>0.543163</td>\n",
              "      <td>0.532489</td>\n",
              "      <td>0.521385</td>\n",
              "      <td>0.510029</td>\n",
              "      <td>0.498604</td>\n",
              "      <td>0.487293</td>\n",
              "      <td>0.476280</td>\n",
              "      <td>0.465741</td>\n",
              "      <td>0.455845</td>\n",
              "      <td>0.446753</td>\n",
              "      <td>0.438609</td>\n",
              "      <td>0.431546</td>\n",
              "      <td>0.425676</td>\n",
              "      <td>0.421095</td>\n",
              "      <td>0.417876</td>\n",
              "      <td>0.416070</td>\n",
              "      <td>0.415708</td>\n",
              "      <td>0.416794</td>\n",
              "      <td>0.419311</td>\n",
              "      <td>0.423219</td>\n",
              "      <td>0.428455</td>\n",
              "      <td>0.434935</td>\n",
              "      <td>0.442554</td>\n",
              "      <td>0.451189</td>\n",
              "      <td>0.460702</td>\n",
              "      <td>0.470940</td>\n",
              "      <td>0.481738</td>\n",
              "      <td>0.492923</td>\n",
              "      <td>0.504313</td>\n",
              "      <td>0.515727</td>\n",
              "      <td>0.526980</td>\n",
              "      <td>...</td>\n",
              "      <td>0.571157</td>\n",
              "      <td>0.633237</td>\n",
              "      <td>0.693173</td>\n",
              "      <td>0.75</td>\n",
              "      <td>0.802805</td>\n",
              "      <td>0.850737</td>\n",
              "      <td>0.893027</td>\n",
              "      <td>0.928992</td>\n",
              "      <td>0.958054</td>\n",
              "      <td>0.979746</td>\n",
              "      <td>0.993719</td>\n",
              "      <td>0.999748</td>\n",
              "      <td>0.997736</td>\n",
              "      <td>0.987715</td>\n",
              "      <td>0.969846</td>\n",
              "      <td>0.944418</td>\n",
              "      <td>0.911838</td>\n",
              "      <td>0.872632</td>\n",
              "      <td>0.82743</td>\n",
              "      <td>0.77696</td>\n",
              "      <td>0.722033</td>\n",
              "      <td>0.663534</td>\n",
              "      <td>0.602403</td>\n",
              "      <td>0.539625</td>\n",
              "      <td>0.476209</td>\n",
              "      <td>0.413176</td>\n",
              "      <td>0.35154</td>\n",
              "      <td>0.292292</td>\n",
              "      <td>0.236387</td>\n",
              "      <td>0.184724</td>\n",
              "      <td>0.138133</td>\n",
              "      <td>0.097365</td>\n",
              "      <td>0.063075</td>\n",
              "      <td>0.035816</td>\n",
              "      <td>0.016026</td>\n",
              "      <td>0.004023</td>\n",
              "      <td>3.749399e-33</td>\n",
              "      <td>0.535769</td>\n",
              "      <td>0.287049</td>\n",
              "      <td>20.0</td>\n",
              "    </tr>\n",
              "    <tr>\n",
              "      <th>295</th>\n",
              "      <td>0.596645</td>\n",
              "      <td>0.595910</td>\n",
              "      <td>0.593718</td>\n",
              "      <td>0.590104</td>\n",
              "      <td>0.585126</td>\n",
              "      <td>0.578864</td>\n",
              "      <td>0.571418</td>\n",
              "      <td>0.562909</td>\n",
              "      <td>0.553474</td>\n",
              "      <td>0.543264</td>\n",
              "      <td>0.532444</td>\n",
              "      <td>0.521188</td>\n",
              "      <td>0.509676</td>\n",
              "      <td>0.498094</td>\n",
              "      <td>0.486629</td>\n",
              "      <td>0.475465</td>\n",
              "      <td>0.464782</td>\n",
              "      <td>0.454750</td>\n",
              "      <td>0.445533</td>\n",
              "      <td>0.437278</td>\n",
              "      <td>0.430118</td>\n",
              "      <td>0.424168</td>\n",
              "      <td>0.419524</td>\n",
              "      <td>0.416261</td>\n",
              "      <td>0.414431</td>\n",
              "      <td>0.414063</td>\n",
              "      <td>0.415164</td>\n",
              "      <td>0.417716</td>\n",
              "      <td>0.421678</td>\n",
              "      <td>0.426985</td>\n",
              "      <td>0.433554</td>\n",
              "      <td>0.441277</td>\n",
              "      <td>0.450031</td>\n",
              "      <td>0.459674</td>\n",
              "      <td>0.470052</td>\n",
              "      <td>0.480998</td>\n",
              "      <td>0.492336</td>\n",
              "      <td>0.503882</td>\n",
              "      <td>0.515452</td>\n",
              "      <td>0.526859</td>\n",
              "      <td>...</td>\n",
              "      <td>0.571157</td>\n",
              "      <td>0.633237</td>\n",
              "      <td>0.693173</td>\n",
              "      <td>0.75</td>\n",
              "      <td>0.802805</td>\n",
              "      <td>0.850737</td>\n",
              "      <td>0.893027</td>\n",
              "      <td>0.928992</td>\n",
              "      <td>0.958054</td>\n",
              "      <td>0.979746</td>\n",
              "      <td>0.993719</td>\n",
              "      <td>0.999748</td>\n",
              "      <td>0.997736</td>\n",
              "      <td>0.987715</td>\n",
              "      <td>0.969846</td>\n",
              "      <td>0.944418</td>\n",
              "      <td>0.911838</td>\n",
              "      <td>0.872632</td>\n",
              "      <td>0.82743</td>\n",
              "      <td>0.77696</td>\n",
              "      <td>0.722033</td>\n",
              "      <td>0.663534</td>\n",
              "      <td>0.602403</td>\n",
              "      <td>0.539625</td>\n",
              "      <td>0.476209</td>\n",
              "      <td>0.413176</td>\n",
              "      <td>0.35154</td>\n",
              "      <td>0.292292</td>\n",
              "      <td>0.236387</td>\n",
              "      <td>0.184724</td>\n",
              "      <td>0.138133</td>\n",
              "      <td>0.097365</td>\n",
              "      <td>0.063075</td>\n",
              "      <td>0.035816</td>\n",
              "      <td>0.016026</td>\n",
              "      <td>0.004023</td>\n",
              "      <td>3.749399e-33</td>\n",
              "      <td>0.535769</td>\n",
              "      <td>0.287049</td>\n",
              "      <td>20.0</td>\n",
              "    </tr>\n",
              "    <tr>\n",
              "      <th>296</th>\n",
              "      <td>0.597473</td>\n",
              "      <td>0.596729</td>\n",
              "      <td>0.594507</td>\n",
              "      <td>0.590843</td>\n",
              "      <td>0.585797</td>\n",
              "      <td>0.579450</td>\n",
              "      <td>0.571903</td>\n",
              "      <td>0.563279</td>\n",
              "      <td>0.553715</td>\n",
              "      <td>0.543366</td>\n",
              "      <td>0.532399</td>\n",
              "      <td>0.520989</td>\n",
              "      <td>0.509321</td>\n",
              "      <td>0.497582</td>\n",
              "      <td>0.485961</td>\n",
              "      <td>0.474645</td>\n",
              "      <td>0.463816</td>\n",
              "      <td>0.453648</td>\n",
              "      <td>0.444306</td>\n",
              "      <td>0.435938</td>\n",
              "      <td>0.428681</td>\n",
              "      <td>0.422650</td>\n",
              "      <td>0.417943</td>\n",
              "      <td>0.414635</td>\n",
              "      <td>0.412780</td>\n",
              "      <td>0.412407</td>\n",
              "      <td>0.413523</td>\n",
              "      <td>0.416110</td>\n",
              "      <td>0.420125</td>\n",
              "      <td>0.425505</td>\n",
              "      <td>0.432163</td>\n",
              "      <td>0.439991</td>\n",
              "      <td>0.448864</td>\n",
              "      <td>0.458639</td>\n",
              "      <td>0.469158</td>\n",
              "      <td>0.480253</td>\n",
              "      <td>0.491745</td>\n",
              "      <td>0.503449</td>\n",
              "      <td>0.515176</td>\n",
              "      <td>0.526738</td>\n",
              "      <td>...</td>\n",
              "      <td>0.571157</td>\n",
              "      <td>0.633237</td>\n",
              "      <td>0.693173</td>\n",
              "      <td>0.75</td>\n",
              "      <td>0.802805</td>\n",
              "      <td>0.850737</td>\n",
              "      <td>0.893027</td>\n",
              "      <td>0.928992</td>\n",
              "      <td>0.958054</td>\n",
              "      <td>0.979746</td>\n",
              "      <td>0.993719</td>\n",
              "      <td>0.999748</td>\n",
              "      <td>0.997736</td>\n",
              "      <td>0.987715</td>\n",
              "      <td>0.969846</td>\n",
              "      <td>0.944418</td>\n",
              "      <td>0.911838</td>\n",
              "      <td>0.872632</td>\n",
              "      <td>0.82743</td>\n",
              "      <td>0.77696</td>\n",
              "      <td>0.722033</td>\n",
              "      <td>0.663534</td>\n",
              "      <td>0.602403</td>\n",
              "      <td>0.539625</td>\n",
              "      <td>0.476209</td>\n",
              "      <td>0.413176</td>\n",
              "      <td>0.35154</td>\n",
              "      <td>0.292292</td>\n",
              "      <td>0.236387</td>\n",
              "      <td>0.184724</td>\n",
              "      <td>0.138133</td>\n",
              "      <td>0.097365</td>\n",
              "      <td>0.063075</td>\n",
              "      <td>0.035816</td>\n",
              "      <td>0.016026</td>\n",
              "      <td>0.004023</td>\n",
              "      <td>3.749399e-33</td>\n",
              "      <td>0.535769</td>\n",
              "      <td>0.287049</td>\n",
              "      <td>20.0</td>\n",
              "    </tr>\n",
              "  </tbody>\n",
              "</table>\n",
              "<p>5 rows × 303 columns</p>\n",
              "</div>"
            ],
            "text/plain": [
              "        rho_0     rho_1     rho_2  ...  (k*R_sph)^2    R_sph2    st\n",
              "292  0.594194  0.593489  0.591385  ...     0.535769  0.287049  20.0\n",
              "293  0.595005  0.594291  0.592158  ...     0.535769  0.287049  20.0\n",
              "294  0.595822  0.595098  0.592935  ...     0.535769  0.287049  20.0\n",
              "295  0.596645  0.595910  0.593718  ...     0.535769  0.287049  20.0\n",
              "296  0.597473  0.596729  0.594507  ...     0.535769  0.287049  20.0\n",
              "\n",
              "[5 rows x 303 columns]"
            ]
          },
          "metadata": {
            "tags": []
          },
          "execution_count": 282
        }
      ]
    },
    {
      "cell_type": "code",
      "metadata": {
        "id": "SVNFYZBO90fx",
        "colab_type": "code",
        "colab": {}
      },
      "source": [
        "k_o=2*np.pi*20.2/340 \n",
        "dataset['(k*R_sph)^2']=(dataset['(k*R_sph)^2']*k_o)**2\n",
        "\n",
        "#Cg_air=1/103623.50  #Pa**(-1)\n",
        "#dataset['Ps2*Cg_air']=dataset['Ps2*Cg_air']*Cg_air"
      ],
      "execution_count": null,
      "outputs": []
    },
    {
      "cell_type": "code",
      "metadata": {
        "id": "uqyM21JfY6nc",
        "colab_type": "code",
        "colab": {
          "base_uri": "https://localhost:8080/",
          "height": 217
        },
        "outputId": "5699d635-82d7-4fe2-b273-5edc92282ba5"
      },
      "source": [
        "dataset.iloc[193, :]"
      ],
      "execution_count": null,
      "outputs": [
        {
          "output_type": "execute_result",
          "data": {
            "text/plain": [
              "rho_0           6.275189e-01\n",
              "rho_1           6.267880e-01\n",
              "rho_2           6.246516e-01\n",
              "rho_3           6.211441e-01\n",
              "rho_4           6.163220e-01\n",
              "                    ...     \n",
              "cos2theta_98    4.021315e-03\n",
              "cos2theta_99    3.749399e-33\n",
              "(k*R_sph)^2     4.508115e-02\n",
              "R_sph2          3.235120e-01\n",
              "st              2.200000e+01\n",
              "Name: 193, Length: 303, dtype: float64"
            ]
          },
          "metadata": {
            "tags": []
          },
          "execution_count": 252
        }
      ]
    },
    {
      "cell_type": "markdown",
      "metadata": {
        "id": "5Q_w-R-A225p",
        "colab_type": "text"
      },
      "source": [
        "### Import data for **option 3**:"
      ]
    },
    {
      "cell_type": "code",
      "metadata": {
        "colab_type": "code",
        "id": "CT87QF6z2v-5",
        "colab": {}
      },
      "source": [
        "# loading of data\n",
        "\n",
        "raw_dataset=pd.read_csv('dataset.csv')\n",
        "\n",
        "dataset = raw_dataset.copy()\n",
        "dataset.tail()"
      ],
      "execution_count": null,
      "outputs": []
    },
    {
      "cell_type": "markdown",
      "metadata": {
        "colab_type": "text",
        "id": "Cuym4yvk76vU"
      },
      "source": [
        "### Split the data into train and test\n",
        "\n",
        "Now split the dataset into a training set and a test set.\n",
        "\n",
        "We will use the test set in the final evaluation of our model."
      ]
    },
    {
      "cell_type": "code",
      "metadata": {
        "colab_type": "code",
        "id": "qn-IGhUE7_1H",
        "colab": {}
      },
      "source": [
        "train_dataset = dataset.sample(frac=0.8,random_state=1)\n",
        "test_dataset = dataset.drop(train_dataset.index)"
      ],
      "execution_count": null,
      "outputs": []
    },
    {
      "cell_type": "markdown",
      "metadata": {
        "colab_type": "text",
        "id": "J4ubs136WLNp"
      },
      "source": [
        "### Inspect the data\n",
        "\n",
        "Have a quick look at the joint distribution of a few pairs of columns from the training set."
      ]
    },
    {
      "cell_type": "code",
      "metadata": {
        "colab_type": "code",
        "id": "oRKO_x8gWKv-",
        "colab": {}
      },
      "source": [
        "#sns.pairplot(train_dataset[column_names], diag_kind=\"kde\")\n",
        "#plt.show()"
      ],
      "execution_count": null,
      "outputs": []
    },
    {
      "cell_type": "markdown",
      "metadata": {
        "colab_type": "text",
        "id": "gavKO_6DWRMP"
      },
      "source": [
        "Also look at the overall statistics:"
      ]
    },
    {
      "cell_type": "code",
      "metadata": {
        "colab_type": "code",
        "id": "yi2FzC3T21jR",
        "colab": {
          "base_uri": "https://localhost:8080/",
          "height": 407
        },
        "outputId": "4552d7e9-9690-4964-efe5-2816de08e9d5"
      },
      "source": [
        "train_stats = train_dataset.describe()\n",
        "train_stats.pop(\"st\")\n",
        "\n",
        "train_stats = train_stats.transpose()\n",
        "train_stats"
      ],
      "execution_count": null,
      "outputs": [
        {
          "output_type": "execute_result",
          "data": {
            "text/html": [
              "<div>\n",
              "<style scoped>\n",
              "    .dataframe tbody tr th:only-of-type {\n",
              "        vertical-align: middle;\n",
              "    }\n",
              "\n",
              "    .dataframe tbody tr th {\n",
              "        vertical-align: top;\n",
              "    }\n",
              "\n",
              "    .dataframe thead th {\n",
              "        text-align: right;\n",
              "    }\n",
              "</style>\n",
              "<table border=\"1\" class=\"dataframe\">\n",
              "  <thead>\n",
              "    <tr style=\"text-align: right;\">\n",
              "      <th></th>\n",
              "      <th>count</th>\n",
              "      <th>mean</th>\n",
              "      <th>std</th>\n",
              "      <th>min</th>\n",
              "      <th>25%</th>\n",
              "      <th>50%</th>\n",
              "      <th>75%</th>\n",
              "      <th>max</th>\n",
              "    </tr>\n",
              "  </thead>\n",
              "  <tbody>\n",
              "    <tr>\n",
              "      <th>rho_0</th>\n",
              "      <td>238.0</td>\n",
              "      <td>4.395571e-01</td>\n",
              "      <td>1.623852e-01</td>\n",
              "      <td>8.675703e-02</td>\n",
              "      <td>3.083947e-01</td>\n",
              "      <td>5.197162e-01</td>\n",
              "      <td>5.666202e-01</td>\n",
              "      <td>6.590173e-01</td>\n",
              "    </tr>\n",
              "    <tr>\n",
              "      <th>rho_1</th>\n",
              "      <td>238.0</td>\n",
              "      <td>4.392138e-01</td>\n",
              "      <td>1.622092e-01</td>\n",
              "      <td>8.674147e-02</td>\n",
              "      <td>3.081962e-01</td>\n",
              "      <td>5.192071e-01</td>\n",
              "      <td>5.662479e-01</td>\n",
              "      <td>6.581504e-01</td>\n",
              "    </tr>\n",
              "    <tr>\n",
              "      <th>rho_2</th>\n",
              "      <td>238.0</td>\n",
              "      <td>4.382029e-01</td>\n",
              "      <td>1.616896e-01</td>\n",
              "      <td>8.669599e-02</td>\n",
              "      <td>3.076159e-01</td>\n",
              "      <td>5.177193e-01</td>\n",
              "      <td>5.651369e-01</td>\n",
              "      <td>6.556163e-01</td>\n",
              "    </tr>\n",
              "    <tr>\n",
              "      <th>rho_3</th>\n",
              "      <td>238.0</td>\n",
              "      <td>4.365408e-01</td>\n",
              "      <td>1.608370e-01</td>\n",
              "      <td>8.662132e-02</td>\n",
              "      <td>3.066633e-01</td>\n",
              "      <td>5.152766e-01</td>\n",
              "      <td>5.633053e-01</td>\n",
              "      <td>6.514560e-01</td>\n",
              "    </tr>\n",
              "    <tr>\n",
              "      <th>rho_4</th>\n",
              "      <td>238.0</td>\n",
              "      <td>4.342542e-01</td>\n",
              "      <td>1.596687e-01</td>\n",
              "      <td>8.651867e-02</td>\n",
              "      <td>3.053535e-01</td>\n",
              "      <td>5.119184e-01</td>\n",
              "      <td>5.601632e-01</td>\n",
              "      <td>6.457362e-01</td>\n",
              "    </tr>\n",
              "    <tr>\n",
              "      <th>...</th>\n",
              "      <td>...</td>\n",
              "      <td>...</td>\n",
              "      <td>...</td>\n",
              "      <td>...</td>\n",
              "      <td>...</td>\n",
              "      <td>...</td>\n",
              "      <td>...</td>\n",
              "      <td>...</td>\n",
              "    </tr>\n",
              "    <tr>\n",
              "      <th>cos2theta_97</th>\n",
              "      <td>238.0</td>\n",
              "      <td>1.602226e-02</td>\n",
              "      <td>2.394088e-06</td>\n",
              "      <td>1.602058e-02</td>\n",
              "      <td>1.602058e-02</td>\n",
              "      <td>1.602058e-02</td>\n",
              "      <td>1.602565e-02</td>\n",
              "      <td>1.602565e-02</td>\n",
              "    </tr>\n",
              "    <tr>\n",
              "      <th>cos2theta_98</th>\n",
              "      <td>238.0</td>\n",
              "      <td>4.021739e-03</td>\n",
              "      <td>6.033755e-07</td>\n",
              "      <td>4.021315e-03</td>\n",
              "      <td>4.021315e-03</td>\n",
              "      <td>4.021315e-03</td>\n",
              "      <td>4.022594e-03</td>\n",
              "      <td>4.022594e-03</td>\n",
              "    </tr>\n",
              "    <tr>\n",
              "      <th>cos2theta_99</th>\n",
              "      <td>238.0</td>\n",
              "      <td>3.749399e-33</td>\n",
              "      <td>8.913707e-48</td>\n",
              "      <td>3.749399e-33</td>\n",
              "      <td>3.749399e-33</td>\n",
              "      <td>3.749399e-33</td>\n",
              "      <td>3.749399e-33</td>\n",
              "      <td>3.749399e-33</td>\n",
              "    </tr>\n",
              "    <tr>\n",
              "      <th>(k*R_sph)^2</th>\n",
              "      <td>238.0</td>\n",
              "      <td>2.667389e-02</td>\n",
              "      <td>1.494087e-02</td>\n",
              "      <td>1.018835e-03</td>\n",
              "      <td>1.191805e-02</td>\n",
              "      <td>3.194797e-02</td>\n",
              "      <td>4.000000e-02</td>\n",
              "      <td>4.840000e-02</td>\n",
              "    </tr>\n",
              "    <tr>\n",
              "      <th>R_sph2</th>\n",
              "      <td>238.0</td>\n",
              "      <td>1.914175e-01</td>\n",
              "      <td>1.072189e-01</td>\n",
              "      <td>7.311376e-03</td>\n",
              "      <td>8.552649e-02</td>\n",
              "      <td>2.292655e-01</td>\n",
              "      <td>2.870485e-01</td>\n",
              "      <td>3.473287e-01</td>\n",
              "    </tr>\n",
              "  </tbody>\n",
              "</table>\n",
              "<p>302 rows × 8 columns</p>\n",
              "</div>"
            ],
            "text/plain": [
              "              count          mean  ...           75%           max\n",
              "rho_0         238.0  4.395571e-01  ...  5.666202e-01  6.590173e-01\n",
              "rho_1         238.0  4.392138e-01  ...  5.662479e-01  6.581504e-01\n",
              "rho_2         238.0  4.382029e-01  ...  5.651369e-01  6.556163e-01\n",
              "rho_3         238.0  4.365408e-01  ...  5.633053e-01  6.514560e-01\n",
              "rho_4         238.0  4.342542e-01  ...  5.601632e-01  6.457362e-01\n",
              "...             ...           ...  ...           ...           ...\n",
              "cos2theta_97  238.0  1.602226e-02  ...  1.602565e-02  1.602565e-02\n",
              "cos2theta_98  238.0  4.021739e-03  ...  4.022594e-03  4.022594e-03\n",
              "cos2theta_99  238.0  3.749399e-33  ...  3.749399e-33  3.749399e-33\n",
              "(k*R_sph)^2   238.0  2.667389e-02  ...  4.000000e-02  4.840000e-02\n",
              "R_sph2        238.0  1.914175e-01  ...  2.870485e-01  3.473287e-01\n",
              "\n",
              "[302 rows x 8 columns]"
            ]
          },
          "metadata": {
            "tags": []
          },
          "execution_count": 285
        }
      ]
    },
    {
      "cell_type": "markdown",
      "metadata": {
        "colab_type": "text",
        "id": "Db7Auq1yXUvh"
      },
      "source": [
        "### Split features from labels\n",
        "\n",
        "Separate the target value, or \"label\", from the features. This label is the value that you will train the model to predict."
      ]
    },
    {
      "cell_type": "code",
      "metadata": {
        "colab_type": "code",
        "id": "t2sluJdCW7jN",
        "colab": {}
      },
      "source": [
        "train_labels = train_dataset.pop('st')\n",
        "test_labels = test_dataset.pop('st')"
      ],
      "execution_count": null,
      "outputs": []
    },
    {
      "cell_type": "markdown",
      "metadata": {
        "colab_type": "text",
        "id": "mRklxK5s388r"
      },
      "source": [
        "### Normalize the data\n",
        "\n",
        "Look again at the `train_stats` block above and note how different the ranges of each feature are."
      ]
    },
    {
      "cell_type": "markdown",
      "metadata": {
        "colab_type": "text",
        "id": "-ywmerQ6dSox"
      },
      "source": [
        "It is good practice to normalize features that use different scales and ranges. Although the model *might* converge without feature normalization, it makes training more difficult, and it makes the resulting model dependent on the choice of units used in the input.\n",
        "\n",
        "Note: Although we intentionally generate these statistics from only the training dataset, these statistics will also be used to normalize the test dataset. We need to do that to project the test dataset into the same distribution that the model has been trained on."
      ]
    },
    {
      "cell_type": "code",
      "metadata": {
        "colab_type": "code",
        "id": "JlC5ooJrgjQF",
        "colab": {}
      },
      "source": [
        "def norm(x):\n",
        "  return (x - train_stats['mean']) / train_stats['std']\n",
        "normed_train_data = norm(train_dataset)\n",
        "normed_test_data = norm(test_dataset)\n",
        "#normed_train_data = train_dataset\n",
        "#normed_test_data = test_dataset\n"
      ],
      "execution_count": null,
      "outputs": []
    },
    {
      "cell_type": "code",
      "metadata": {
        "id": "8G-7cQwtYZqF",
        "colab_type": "code",
        "colab": {
          "base_uri": "https://localhost:8080/",
          "height": 33
        },
        "outputId": "c842045c-8bc3-4660-96c2-64730da12a7f"
      },
      "source": [
        "def find_nearest(array, value):\n",
        "    array = np.asarray(array)\n",
        "    idx = (np.abs(array - value)).argmin()\n",
        "    return array[idx], idx\n",
        "    \n",
        "find_nearest(train_stats['std'], 0)"
      ],
      "execution_count": null,
      "outputs": [
        {
          "output_type": "execute_result",
          "data": {
            "text/plain": [
              "(0.0, 193)"
            ]
          },
          "metadata": {
            "tags": []
          },
          "execution_count": 245
        }
      ]
    },
    {
      "cell_type": "markdown",
      "metadata": {
        "colab_type": "text",
        "id": "BuiClDk45eS4"
      },
      "source": [
        "This normalized data is what we will use to train the model.\n",
        "\n",
        "Caution: The statistics used to normalize the inputs here (mean and standard deviation) need to be applied to any other data that is fed to the model, along with the one-hot encoding that we did earlier.  That includes the test set as well as live data when the model is used in production."
      ]
    },
    {
      "cell_type": "markdown",
      "metadata": {
        "colab_type": "text",
        "id": "SmjdzxKzEu1-"
      },
      "source": [
        "## The model"
      ]
    },
    {
      "cell_type": "markdown",
      "metadata": {
        "colab_type": "text",
        "id": "6SWtkIjhrZwa"
      },
      "source": [
        "### Build the model\n",
        "\n",
        "Let's build our model. Here, we'll use a `Sequential` model with two densely connected hidden layers, and an output layer that returns a single, continuous value. The model building steps are wrapped in a function, `build_model`, since we'll create a second model, later on."
      ]
    },
    {
      "cell_type": "code",
      "metadata": {
        "colab_type": "code",
        "id": "c26juK7ZG8j-",
        "colab": {}
      },
      "source": [
        "def build_model():\n",
        "  model = keras.Sequential([\n",
        "   # layers.Dense(40, activation=tf.nn.swish, input_shape=[len(train_dataset.keys())]),  #activation='linear'\n",
        "    layers.Dense(50, activation=tf.nn.relu, input_shape=[len(train_dataset.keys())]),\n",
        "   # tf.keras.layers.LayerNormalization(axis=1 , center=True , scale=True),\n",
        "  #  layers.Dense(12, activation=tf.nn.swish, input_shape=[len(train_dataset.keys())]),\n",
        "    #layers.Dense(8, activation=tf.nn.swish, input_shape=[len(train_dataset.keys())]),\n",
        "    layers.Dense(3, activation=tf.nn.relu, input_shape=[len(train_dataset.keys())]),\n",
        "    layers.Dense(1)\n",
        "  ])\n",
        "\n",
        "  #optimizer = tf.keras.optimizers.RMSprop(0.0000001)\n",
        "  #optimizer = tf.keras.optimizers.Adagrad(learning_rate=0.0001)\n",
        "  optimizer = tf.keras.optimizers.Adam(learning_rate=0.001, beta_1=0.9, beta_2=0.999, amsgrad=False)\n",
        "  #optimizer = tf.keras.optimizers.Adamax(learning_rate=0.001, beta_1=0.8, beta_2=0.995)\n",
        "\n",
        "  #model.compile(loss='mean_squared_error',\n",
        "  #              optimizer=optimizer,\n",
        "  #              metrics=['mean_absolute_error', 'mean_squared_error'])\n",
        "  \n",
        "  model.compile(loss='mean_absolute_error',\n",
        "                optimizer=optimizer,\n",
        "                metrics=['mean_absolute_error', 'mean_squared_error'])\n",
        "  \n",
        "  \n",
        "  return model"
      ],
      "execution_count": null,
      "outputs": []
    },
    {
      "cell_type": "code",
      "metadata": {
        "colab_type": "code",
        "id": "cGbPb-PHGbhs",
        "colab": {}
      },
      "source": [
        "model = build_model()"
      ],
      "execution_count": null,
      "outputs": []
    },
    {
      "cell_type": "markdown",
      "metadata": {
        "id": "AUx4uYxk0GEJ",
        "colab_type": "text"
      },
      "source": [
        "## If there is a model saved on google drive execute the next block"
      ]
    },
    {
      "cell_type": "code",
      "metadata": {
        "id": "y3Ir9yi8z0VA",
        "colab_type": "code",
        "colab": {}
      },
      "source": [
        "from tensorflow.keras.models import load_model\n",
        "\n",
        "del model \n",
        "\n",
        "model_name=str('All_surf_five_feutures_Huber_swish_trial_3.h5')\n",
        "model = load_model(str(\"/content/drive/My Drive/DropLev/MachineLearningModels/\"+model_name))\n"
      ],
      "execution_count": null,
      "outputs": []
    },
    {
      "cell_type": "markdown",
      "metadata": {
        "colab_type": "text",
        "id": "Sj49Og4YGULr"
      },
      "source": [
        "### Inspect the model\n",
        "\n",
        "Use the `.summary` method to print a simple description of the model"
      ]
    },
    {
      "cell_type": "code",
      "metadata": {
        "colab_type": "code",
        "id": "ReAD0n6MsFK-",
        "colab": {
          "base_uri": "https://localhost:8080/",
          "height": 250
        },
        "outputId": "0ccbaa9b-a0df-4000-d4b0-5c61787771ab"
      },
      "source": [
        "model.summary()"
      ],
      "execution_count": null,
      "outputs": [
        {
          "output_type": "stream",
          "text": [
            "Model: \"sequential_30\"\n",
            "_________________________________________________________________\n",
            "Layer (type)                 Output Shape              Param #   \n",
            "=================================================================\n",
            "dense_90 (Dense)             (None, 50)                15150     \n",
            "_________________________________________________________________\n",
            "dense_91 (Dense)             (None, 3)                 153       \n",
            "_________________________________________________________________\n",
            "dense_92 (Dense)             (None, 1)                 4         \n",
            "=================================================================\n",
            "Total params: 15,307\n",
            "Trainable params: 15,307\n",
            "Non-trainable params: 0\n",
            "_________________________________________________________________\n"
          ],
          "name": "stdout"
        }
      ]
    },
    {
      "cell_type": "markdown",
      "metadata": {
        "colab_type": "text",
        "id": "Vt6W50qGsJAL"
      },
      "source": [
        "\n",
        "Now try out the model. Take a batch of `10` examples from the training data and call `model.predict` on it."
      ]
    },
    {
      "cell_type": "code",
      "metadata": {
        "colab_type": "code",
        "id": "-d-gBaVtGTSC",
        "colab": {
          "base_uri": "https://localhost:8080/",
          "height": 183
        },
        "outputId": "1745fe1c-cf78-4609-ef3b-a2003d78fa5b"
      },
      "source": [
        "example_batch = normed_train_data[:10]\n",
        "example_result = model.predict(example_batch)\n",
        "example_result"
      ],
      "execution_count": null,
      "outputs": [
        {
          "output_type": "execute_result",
          "data": {
            "text/plain": [
              "array([[ 0.43203562],\n",
              "       [-0.3725443 ],\n",
              "       [ 0.15722759],\n",
              "       [-0.407181  ],\n",
              "       [-0.37564555],\n",
              "       [-0.37614414],\n",
              "       [-0.3925074 ],\n",
              "       [-0.04143935],\n",
              "       [ 0.6424061 ],\n",
              "       [ 0.6858951 ]], dtype=float32)"
            ]
          },
          "metadata": {
            "tags": []
          },
          "execution_count": 290
        }
      ]
    },
    {
      "cell_type": "markdown",
      "metadata": {
        "colab_type": "text",
        "id": "QlM8KrSOsaYo"
      },
      "source": [
        "It seems to be working, and it produces a result of the expected shape and type."
      ]
    },
    {
      "cell_type": "markdown",
      "metadata": {
        "colab_type": "text",
        "id": "0-qWCsh6DlyH"
      },
      "source": [
        "### Train the model\n",
        "\n",
        "Train the model for 1000 epochs, and record the training and validation accuracy in the `history` object."
      ]
    },
    {
      "cell_type": "code",
      "metadata": {
        "colab_type": "code",
        "id": "sD7qHCmNIOY0",
        "colab": {
          "base_uri": "https://localhost:8080/",
          "height": 50
        },
        "outputId": "9d8ccb11-4df6-47c2-9589-79639db8b7b7"
      },
      "source": [
        "# Display training progress by printing a single dot for each completed epoch\n",
        "class PrintDot(keras.callbacks.Callback):\n",
        "  def on_epoch_end(self, epoch, logs):\n",
        "    if epoch % 55 == 0: print('')\n",
        "    print('.', end='')\n",
        "\n",
        "#Save the k-th epoch (100 in this case)\n",
        "#class CustomSaver(keras.callbacks.Callback):\n",
        "#    filepath=\"/content/drive/My Drive/DropLev/MachineLearningModels/\"\n",
        "#    def on_epoch_end(self, epoch, logs={}):\n",
        "#        if epoch == 100:  # or save after some epoch, each k-th epoch etc.\n",
        "#           self.model.save(str(filepath+\"SDS_70mNperm_trial1.h5\"), monitor = \"val_loss\", verbose = 0,\n",
        "#  save_best_only = False, save_weights_only = False, mode = \"min\", period = 1)\n",
        "\n",
        "EPOCHS = 700\n",
        "\n",
        "#filepath=\"/content/drive/My Drive/DropLev/MachineLearningModels/saved-model-{epoch:02d}-{val_loss:.2f}.h5.h5\"\n",
        "#keras.callbacks.ModelCheckpoint(filepath, monitor='val_loss', verbose=0, save_best_only=False, \n",
        "#                                save_weights_only=False, mode='auto', period=1)\n",
        "#callbacks_list = [checkpoint]\n",
        "\n",
        "## create and use callback:\n",
        "#filepath=\"/content/drive/My Drive/DropLev/MachineLearningModels/weights.100EPOCHS.h5\"\n",
        "#saver = CustomSaver()\n",
        "#history = model.fit(normed_train_data, train_labels, callbacks=[saver], epochs=10)\n",
        "\n",
        "#Checkpoints. Save best fit\n",
        "#filepath=\"/content/drive/My Drive/DropLev/MachineLearningModels/weights.best.h5\"\n",
        "#checkpoint = ModelCheckpoint(filepath, monitor='val_acc', verbose=0, save_best_only=True, mode='auto')\n",
        "#callbacks_list = [checkpoint]\n",
        "\n",
        "early_stop = keras.callbacks.EarlyStopping(monitor='val_loss',min_delta=0, patience=10, verbose=0, mode='auto')\n",
        "\n",
        "\n",
        "history = model.fit(\n",
        "  normed_train_data, train_labels,\n",
        "  epochs=EPOCHS, validation_split = 0.2, verbose=0,\n",
        "  callbacks=[early_stop, PrintDot()])  # callbacks=callbacks_list"
      ],
      "execution_count": null,
      "outputs": [
        {
          "output_type": "stream",
          "text": [
            "\n",
            "...................."
          ],
          "name": "stdout"
        }
      ]
    },
    {
      "cell_type": "markdown",
      "metadata": {
        "colab_type": "text",
        "id": "tQm3pc0FYPQB"
      },
      "source": [
        "Visualize the model's training progress using the stats stored in the `history` object."
      ]
    },
    {
      "cell_type": "code",
      "metadata": {
        "colab_type": "code",
        "id": "4Xj91b-dymEy",
        "colab": {
          "base_uri": "https://localhost:8080/",
          "height": 197
        },
        "outputId": "3a349055-803b-4f7a-b687-b02992ac9167"
      },
      "source": [
        "hist = pd.DataFrame(history.history)\n",
        "hist['epoch'] = history.epoch\n",
        "hist.tail()"
      ],
      "execution_count": null,
      "outputs": [
        {
          "output_type": "execute_result",
          "data": {
            "text/html": [
              "<div>\n",
              "<style scoped>\n",
              "    .dataframe tbody tr th:only-of-type {\n",
              "        vertical-align: middle;\n",
              "    }\n",
              "\n",
              "    .dataframe tbody tr th {\n",
              "        vertical-align: top;\n",
              "    }\n",
              "\n",
              "    .dataframe thead th {\n",
              "        text-align: right;\n",
              "    }\n",
              "</style>\n",
              "<table border=\"1\" class=\"dataframe\">\n",
              "  <thead>\n",
              "    <tr style=\"text-align: right;\">\n",
              "      <th></th>\n",
              "      <th>loss</th>\n",
              "      <th>mean_absolute_error</th>\n",
              "      <th>mean_squared_error</th>\n",
              "      <th>val_loss</th>\n",
              "      <th>val_mean_absolute_error</th>\n",
              "      <th>val_mean_squared_error</th>\n",
              "      <th>epoch</th>\n",
              "    </tr>\n",
              "  </thead>\n",
              "  <tbody>\n",
              "    <tr>\n",
              "      <th>15</th>\n",
              "      <td>7.163245</td>\n",
              "      <td>7.163245</td>\n",
              "      <td>130.577637</td>\n",
              "      <td>7.792389</td>\n",
              "      <td>7.792389</td>\n",
              "      <td>141.851059</td>\n",
              "      <td>15</td>\n",
              "    </tr>\n",
              "    <tr>\n",
              "      <th>16</th>\n",
              "      <td>7.162131</td>\n",
              "      <td>7.162131</td>\n",
              "      <td>130.552383</td>\n",
              "      <td>7.785986</td>\n",
              "      <td>7.785986</td>\n",
              "      <td>141.798523</td>\n",
              "      <td>16</td>\n",
              "    </tr>\n",
              "    <tr>\n",
              "      <th>17</th>\n",
              "      <td>7.154714</td>\n",
              "      <td>7.154715</td>\n",
              "      <td>130.544373</td>\n",
              "      <td>7.785559</td>\n",
              "      <td>7.785559</td>\n",
              "      <td>141.747849</td>\n",
              "      <td>17</td>\n",
              "    </tr>\n",
              "    <tr>\n",
              "      <th>18</th>\n",
              "      <td>7.148772</td>\n",
              "      <td>7.148772</td>\n",
              "      <td>130.395157</td>\n",
              "      <td>7.756837</td>\n",
              "      <td>7.756837</td>\n",
              "      <td>141.482620</td>\n",
              "      <td>18</td>\n",
              "    </tr>\n",
              "    <tr>\n",
              "      <th>19</th>\n",
              "      <td>7.155182</td>\n",
              "      <td>7.155182</td>\n",
              "      <td>130.323730</td>\n",
              "      <td>7.777982</td>\n",
              "      <td>7.777982</td>\n",
              "      <td>141.616928</td>\n",
              "      <td>19</td>\n",
              "    </tr>\n",
              "  </tbody>\n",
              "</table>\n",
              "</div>"
            ],
            "text/plain": [
              "        loss  mean_absolute_error  ...  val_mean_squared_error  epoch\n",
              "15  7.163245             7.163245  ...              141.851059     15\n",
              "16  7.162131             7.162131  ...              141.798523     16\n",
              "17  7.154714             7.154715  ...              141.747849     17\n",
              "18  7.148772             7.148772  ...              141.482620     18\n",
              "19  7.155182             7.155182  ...              141.616928     19\n",
              "\n",
              "[5 rows x 7 columns]"
            ]
          },
          "metadata": {
            "tags": []
          },
          "execution_count": 292
        }
      ]
    },
    {
      "cell_type": "code",
      "metadata": {
        "colab_type": "code",
        "id": "B6XriGbVPh2t",
        "colab": {
          "base_uri": "https://localhost:8080/",
          "height": 549
        },
        "outputId": "d4ad2956-a647-4d4d-dfd6-bab505e2e3f1"
      },
      "source": [
        "def plot_history(history):\n",
        "  hist = pd.DataFrame(history.history)\n",
        "  hist['epoch'] = history.epoch\n",
        "\n",
        "  plt.figure()\n",
        "  plt.xlabel('Epoch')\n",
        "  plt.ylabel('Mean Abs Error [ST]')\n",
        "  plt.plot(hist['epoch'], hist['mean_absolute_error'],\n",
        "           label='Train Error')\n",
        "  plt.plot(hist['epoch'], hist['val_mean_absolute_error'],\n",
        "           label = 'Val Error')\n",
        "  plt.ylim([0,10])\n",
        "  plt.legend()\n",
        "\n",
        "  plt.figure()\n",
        "  plt.xlabel('Epoch')\n",
        "  plt.ylabel('Mean Square Error [$ST^2$]')\n",
        "  plt.plot(hist['epoch'], hist['mean_squared_error'],\n",
        "           label='Train Error')\n",
        "  plt.plot(hist['epoch'], hist['val_mean_squared_error'],\n",
        "           label = 'Val Error')\n",
        "  plt.ylim([0,200])\n",
        "  plt.legend()\n",
        "  plt.show()\n",
        "\n",
        "\n",
        "plot_history(history)"
      ],
      "execution_count": null,
      "outputs": [
        {
          "output_type": "display_data",
          "data": {
            "image/png": "[encoded data removed]",
            "text/plain": [
              "<Figure size 432x288 with 1 Axes>"
            ]
          },
          "metadata": {
            "tags": [],
            "needs_background": "light"
          }
        },
        {
          "output_type": "display_data",
          "data": {
            "image/png": "[encoded data removed]",
            "text/plain": [
              "<Figure size 432x288 with 1 Axes>"
            ]
          },
          "metadata": {
            "tags": [],
            "needs_background": "light"
          }
        }
      ]
    },
    {
      "cell_type": "markdown",
      "metadata": {
        "colab_type": "text",
        "id": "3St8-DmrX8P4"
      },
      "source": [
        "Let's see how well the model generalizes by using the **test** set, which we did not use when training the model.  This tells us how well we can expect the model to predict when we use it in the real world."
      ]
    },
    {
      "cell_type": "code",
      "metadata": {
        "colab_type": "code",
        "id": "jl_yNr5n1kms",
        "colab": {
          "base_uri": "https://localhost:8080/",
          "height": 33
        },
        "outputId": "c94b2fb6-cc5f-47dc-c47e-d428c2092101"
      },
      "source": [
        "loss, mae, mse = model.evaluate(normed_test_data, test_labels, verbose=0)\n",
        "print(\"Testing set Mean Abs Error: {:5.2f} mN/m\".format(mae))\n",
        "# \n",
        "#keras.metrics.accuracy(normed_test_data, test_labels)"
      ],
      "execution_count": null,
      "outputs": [
        {
          "output_type": "stream",
          "text": [
            "Testing set Mean Abs Error:  7.44 mN/m\n"
          ],
          "name": "stdout"
        }
      ]
    },
    {
      "cell_type": "markdown",
      "metadata": {
        "colab_type": "text",
        "id": "ft603OzXuEZC"
      },
      "source": [
        "### Make predictions\n",
        "\n",
        "Finally, predict volume values using data in the testing set:"
      ]
    },
    {
      "cell_type": "code",
      "metadata": {
        "colab_type": "code",
        "id": "Xe7RXH3N3CWU",
        "colab": {
          "base_uri": "https://localhost:8080/",
          "height": 573
        },
        "outputId": "6fed0078-688d-40cf-a341-2db0b15502da"
      },
      "source": [
        "test_predictions = model.predict(normed_test_data).flatten()\n",
        "\n",
        "plt.scatter(test_labels, test_predictions)\n",
        "plt.title('Normalized test data')\n",
        "plt.xlabel('True Values [surface tension - mN/m]')\n",
        "plt.ylabel('Predictions [surface tension - mN/m]')\n",
        "plt.axis('equal')\n",
        "plt.axis('square')\n",
        "plt.xlim([10,75])\n",
        "plt.ylim([10,75])\n",
        "_ = plt.plot([-100, 100], [-100, 100])\n",
        "plt.show()\n",
        "\n",
        "test_predictions2 = model.predict(normed_train_data).flatten()\n",
        "\n",
        "plt.scatter(train_labels, test_predictions2)\n",
        "plt.title('Normalized training data')\n",
        "plt.xlabel('True Values [surface tension - mN/m]')\n",
        "plt.ylabel('Predictions [surface tension - mN/m]')\n",
        "plt.axis('equal')\n",
        "plt.axis('square')\n",
        "plt.xlim([10,75])\n",
        "plt.ylim([10,75])\n",
        "_ = plt.plot([-100, 100], [-100, 100])\n",
        "plt.show()\n"
      ],
      "execution_count": null,
      "outputs": [
        {
          "output_type": "display_data",
          "data": {
            "image/png": "[encoded data removed]",
            "text/plain": [
              "<Figure size 432x288 with 1 Axes>"
            ]
          },
          "metadata": {
            "tags": [],
            "needs_background": "light"
          }
        },
        {
          "output_type": "display_data",
          "data": {
            "image/png": "[encoded data removed]",
            "text/plain": [
              "<Figure size 432x288 with 1 Axes>"
            ]
          },
          "metadata": {
            "tags": [],
            "needs_background": "light"
          }
        }
      ]
    },
    {
      "cell_type": "code",
      "metadata": {
        "colab_type": "code",
        "id": "f-OHX4DiXd8x",
        "colab": {
          "base_uri": "https://localhost:8080/",
          "height": 279
        },
        "outputId": "aca45772-0e15-4ee2-a308-b0f642288965"
      },
      "source": [
        "error = test_predictions - test_labels\n",
        "plt.hist(error, bins = 50)\n",
        "plt.xlabel(\"Prediction Error [surface tension - mN/m]\")\n",
        "_ = plt.ylabel(\"Count\")\n",
        "plt.show()"
      ],
      "execution_count": null,
      "outputs": [
        {
          "output_type": "display_data",
          "data": {
            "image/png": "[encoded data removed]",
            "text/plain": [
              "<Figure size 432x288 with 1 Axes>"
            ]
          },
          "metadata": {
            "tags": [],
            "needs_background": "light"
          }
        }
      ]
    },
    {
      "cell_type": "markdown",
      "metadata": {
        "id": "r-i0Bq5JF0nv",
        "colab_type": "text"
      },
      "source": [
        "# Saving the final Model"
      ]
    },
    {
      "cell_type": "markdown",
      "metadata": {
        "id": "G8FBhOnbGK65",
        "colab_type": "text"
      },
      "source": [
        "When you are satisfied with the model and the accuracy continue from here:"
      ]
    },
    {
      "cell_type": "markdown",
      "metadata": {
        "id": "BspL3Z6-GPaa",
        "colab_type": "text"
      },
      "source": [
        "Saving the model in a **SavedModel** format"
      ]
    },
    {
      "cell_type": "code",
      "metadata": {
        "id": "VwWrwBcZGLnZ",
        "colab_type": "code",
        "colab": {}
      },
      "source": [
        "!pip install -q pyyaml h5py  # Required to save models in HDF5 format"
      ],
      "execution_count": null,
      "outputs": []
    },
    {
      "cell_type": "code",
      "metadata": {
        "id": "6BR7rbL5GXku",
        "colab_type": "code",
        "colab": {}
      },
      "source": [
        "import os"
      ],
      "execution_count": null,
      "outputs": []
    },
    {
      "cell_type": "code",
      "metadata": {
        "id": "MzumSsZfGYCp",
        "colab_type": "code",
        "colab": {}
      },
      "source": [
        "# Save the entire model as a SavedModel.\n",
        "filename=str('All_surf_five_feutures_Huber_swish_trial_3.h5')\n",
        "!mkdir -p '/content/drive/My Drive/DropLev/MachineLearningModels' #Ceates a folder named \"MachineLearningModels\"\n",
        "model.save('/content/drive/My Drive/DropLev/MachineLearningModels/'+filename)  #Saves the file"
      ],
      "execution_count": null,
      "outputs": []
    },
    {
      "cell_type": "markdown",
      "metadata": {
        "id": "pJzKbb1EGgUE",
        "colab_type": "text"
      },
      "source": [
        "The SavedModel format is a directory containing a protobuf binary and a Tensorflow checkpoint. Inspect the saved model directory:"
      ]
    },
    {
      "cell_type": "code",
      "metadata": {
        "id": "9yGUiOkfGgen",
        "colab_type": "code",
        "colab": {}
      },
      "source": [
        "# DropLev_st_prediction_model directory\n",
        "#!ls content/drive/My Drive/DropLev/MachineLearningModels\n",
        "\n",
        "# Contains an assets folder, saved_model.pb, and variables folder.\n",
        "#!ls content/drive/My Drive/DropLev/MachineLearningModels/SDS_1.h5"
      ],
      "execution_count": null,
      "outputs": []
    },
    {
      "cell_type": "markdown",
      "metadata": {
        "id": "n2IWIiOYGgqK",
        "colab_type": "text"
      },
      "source": [
        "Saving the model in a **HDF5** format"
      ]
    },
    {
      "cell_type": "code",
      "metadata": {
        "id": "H_Zl4tVVGg3J",
        "colab_type": "code",
        "colab": {}
      },
      "source": [
        "# Save the entire model to a HDF5 file.\n",
        "# The '.h5' extension indicates that the model should be saved to HDF5.\n",
        "#model.save('content/drive/My Drive/DropLev/MachineLearningModels/'+filename) "
      ],
      "execution_count": null,
      "outputs": []
    },
    {
      "cell_type": "markdown",
      "metadata": {
        "id": "oZcqRI0r9B4r",
        "colab_type": "text"
      },
      "source": [
        "# Reload a fresh Keras model from the saved model:"
      ]
    },
    {
      "cell_type": "markdown",
      "metadata": {
        "id": "W6mEqNn497op",
        "colab_type": "text"
      },
      "source": [
        "For **SavedModel** format"
      ]
    },
    {
      "cell_type": "code",
      "metadata": {
        "id": "c4vUC4ep8_VA",
        "colab_type": "code",
        "colab": {}
      },
      "source": [
        "new_model = tf.keras.models.load_model('/content/drive/My Drive/DropLev/MachineLearningModels/'+filename)\n",
        "\n",
        "# Check its architecture\n",
        "new_model.summary()"
      ],
      "execution_count": null,
      "outputs": []
    },
    {
      "cell_type": "markdown",
      "metadata": {
        "id": "myilbB_P9_dO",
        "colab_type": "text"
      },
      "source": [
        "For **HDF5** format"
      ]
    },
    {
      "cell_type": "code",
      "metadata": {
        "id": "94ZjuhOV-Dfk",
        "colab_type": "code",
        "colab": {}
      },
      "source": [
        "# Recreate the exact same model, including its weights and the optimizer\n",
        "new_model = tf.keras.models.load_model('DropLev_st_prediction_model.h5')\n",
        "\n",
        "# Show the model architecture\n",
        "new_model.summary()"
      ],
      "execution_count": null,
      "outputs": []
    },
    {
      "cell_type": "markdown",
      "metadata": {
        "id": "j1K6xGBg9K4A",
        "colab_type": "text"
      },
      "source": [
        "Evaluate the restored model (for both formats)"
      ]
    },
    {
      "cell_type": "code",
      "metadata": {
        "id": "if5rjrz79NPI",
        "colab_type": "code",
        "colab": {}
      },
      "source": [
        "# Evaluation\n",
        "loss, mae, mse = new_model.evaluate(normed_test_data, test_labels, verbose=0)\n",
        "print('Restored model, Mean absolute error: {:5.2f}'.format(mae))\n",
        "\n",
        "print(new_model.predict(normed_test_data).shape)"
      ],
      "execution_count": null,
      "outputs": []
    }
  ]
}