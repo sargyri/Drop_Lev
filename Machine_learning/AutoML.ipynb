{
  "nbformat": 4,
  "nbformat_minor": 0,
  "metadata": {
    "colab": {
      "name": "AutoML.ipynb",
      "provenance": [],
      "authorship_tag": "ABX9TyN2J2z+8sS54zCQ3mtBtaWp",
      "include_colab_link": true
    },
    "kernelspec": {
      "name": "python3",
      "display_name": "Python 3"
    }
  },
  "cells": [
    {
      "cell_type": "markdown",
      "metadata": {
        "id": "view-in-github",
        "colab_type": "text"
      },
      "source": [
        "<a href=\"https://colab.research.google.com/github/sargyri/Drop_Lev/blob/master/AutoML.ipynb\" target=\"_parent\"><img src=\"https://colab.research.google.com/assets/colab-badge.svg\" alt=\"Open In Colab\"/></a>"
      ]
    },
    {
      "cell_type": "markdown",
      "metadata": {
        "id": "whJfImJn8Qjw",
        "colab_type": "text"
      },
      "source": [
        "Source code: https://github.com/jeffheaton/t81_558_deep_learning/blob/master/t81_558_class_14_01_automl.ipynb"
      ]
    },
    {
      "cell_type": "markdown",
      "metadata": {
        "id": "rtKrWMkgSqAI",
        "colab_type": "text"
      },
      "source": [
        ""
      ]
    },
    {
      "cell_type": "markdown",
      "metadata": {
        "id": "lakENgrbhSQZ",
        "colab_type": "text"
      },
      "source": [
        "#AutoML defining the settings"
      ]
    },
    {
      "cell_type": "code",
      "metadata": {
        "id": "s3uZywBjhRTM",
        "colab_type": "code",
        "colab": {}
      },
      "source": [
        "import logging\n",
        "\n",
        "automl_settings = {\n",
        "    \"iteration_timeout_minutes\": 2,\n",
        "    \"experiment_timeout_hours\": 0.3,\n",
        "    \"enable_early_stopping\": True,\n",
        "    \"primary_metric\": 'spearman_correlation',\n",
        "    \"featurization\": 'auto',\n",
        "    \"verbosity\": logging.INFO,\n",
        "    \"n_cross_validations\": 5\n",
        "}"
      ],
      "execution_count": null,
      "outputs": []
    },
    {
      "cell_type": "markdown",
      "metadata": {
        "id": "kvZkKgeqzfCC",
        "colab_type": "text"
      },
      "source": [
        ""
      ]
    },
    {
      "cell_type": "code",
      "metadata": {
        "id": "x-up12k1ziak",
        "colab_type": "code",
        "colab": {}
      },
      "source": [
        "!sudo apt-get install build-essential swig\n",
        "!curl https://raw.githubusercontent.com/automl/auto-sklearn/master/requirements.txt | xargs -n 1 -L 1 pip install"
      ],
      "execution_count": null,
      "outputs": []
    },
    {
      "cell_type": "code",
      "metadata": {
        "id": "WgxotJca4OWU",
        "colab_type": "code",
        "colab": {}
      },
      "source": [
        " !pip install git+git://github.com/scikit-learn/scikit-learn.git"
      ],
      "execution_count": null,
      "outputs": []
    },
    {
      "cell_type": "code",
      "metadata": {
        "id": "2PRX-n8JzfKQ",
        "colab_type": "code",
        "colab": {}
      },
      "source": [
        "import sklearn.model_selection\n",
        "import sklearn.datasets\n",
        "import sklearn.metrics\n",
        "\n",
        "import autosklearn.regression"
      ],
      "execution_count": null,
      "outputs": []
    },
    {
      "cell_type": "code",
      "metadata": {
        "id": "Q91FNNi-3zDp",
        "colab_type": "code",
        "colab": {}
      },
      "source": [
        "sklearn.__version__"
      ],
      "execution_count": null,
      "outputs": []
    },
    {
      "cell_type": "markdown",
      "metadata": {
        "id": "veQCwRz3Dd2q",
        "colab_type": "text"
      },
      "source": [
        "#Data Loading"
      ]
    },
    {
      "cell_type": "code",
      "metadata": {
        "id": "HYo8qniQDc2v",
        "colab_type": "code",
        "colab": {}
      },
      "source": [
        "X, y = sklearn.datasets.load_boston(return_X_y=True)\n",
        "feature_types = (['numerical'] * 912)\n",
        "X_train, X_test, y_train, y_test = \\\n",
        "    sklearn.model_selection.train_test_split(X, y, random_state=1)"
      ],
      "execution_count": null,
      "outputs": []
    },
    {
      "cell_type": "markdown",
      "metadata": {
        "id": "g6JsLFpkShO_",
        "colab_type": "text"
      },
      "source": [
        "##The model"
      ]
    },
    {
      "cell_type": "markdown",
      "metadata": {
        "id": "3bJ0lKh3EQlX",
        "colab_type": "text"
      },
      "source": [
        "#Build and fit a regressor"
      ]
    },
    {
      "cell_type": "markdown",
      "metadata": {
        "id": "_YXPFRV2Sroe",
        "colab_type": "text"
      },
      "source": [
        ""
      ]
    },
    {
      "cell_type": "code",
      "metadata": {
        "id": "j3lPW7QoEUc6",
        "colab_type": "code",
        "colab": {}
      },
      "source": [
        "automl = autosklearn.regression.AutoSklearnRegressor(\n",
        "    time_left_for_this_task=120,\n",
        "    per_run_time_limit=30,\n",
        "    tmp_folder='/content/drive/My Drive/DropLev/MachineLearningModels/tmp/autosklearn_regression_example_tmp',\n",
        "    output_folder='/content/drive/My Drive/DropLev/MachineLearningModels/tmp/autosklearn_regression_example_out',\n",
        ")\n",
        "automl.fit(X_train, y_train, dataset_name='boston',\n",
        "           feat_type=feature_types)"
      ],
      "execution_count": null,
      "outputs": []
    },
    {
      "cell_type": "markdown",
      "metadata": {
        "id": "cRAp13WlEddj",
        "colab_type": "text"
      },
      "source": [
        "#Print the final ensemble constructed by auto-sklearn\n"
      ]
    },
    {
      "cell_type": "code",
      "metadata": {
        "id": "P_KPGahNEfKh",
        "colab_type": "code",
        "colab": {}
      },
      "source": [
        "print(automl.show_models())"
      ],
      "execution_count": null,
      "outputs": []
    },
    {
      "cell_type": "markdown",
      "metadata": {
        "id": "Tb1w5AarEiSd",
        "colab_type": "text"
      },
      "source": [
        "#Get the Score of the final ensemble\n"
      ]
    },
    {
      "cell_type": "code",
      "metadata": {
        "id": "BaOJ29mGEibw",
        "colab_type": "code",
        "colab": {}
      },
      "source": [
        "predictions = automl.predict(X_test)\n",
        "print(\"R2 score:\", sklearn.metrics.r2_score(y_test, predictions))"
      ],
      "execution_count": null,
      "outputs": []
    },
    {
      "cell_type": "code",
      "metadata": {
        "id": "w_Y09uSI8LV1",
        "colab_type": "code",
        "colab": {}
      },
      "source": [
        ""
      ],
      "execution_count": null,
      "outputs": []
    }
  ]
}
