{
  "nbformat": 4,
  "nbformat_minor": 0,
  "metadata": {
    "colab": {
      "name": "test_training_ST_on_model.ipynb",
      "provenance": [],
      "collapsed_sections": [],
      "toc_visible": true,
      "include_colab_link": true
    },
    "kernelspec": {
      "display_name": "Python 3",
      "language": "python",
      "name": "python3"
    },
    "language_info": {
      "codemirror_mode": {
        "name": "ipython",
        "version": 3
      },
      "file_extension": ".py",
      "mimetype": "text/x-python",
      "name": "python",
      "nbconvert_exporter": "python",
      "pygments_lexer": "ipython3",
      "version": "3.6.9"
    },
    "accelerator": "GPU"
  },
  "cells": [
    {
      "cell_type": "markdown",
      "metadata": {
        "id": "view-in-github",
        "colab_type": "text"
      },
      "source": [
        "<a href=\"https://colab.research.google.com/github/sargyri/Drop_Lev/blob/master/Machine_learning/test_training_ST_on_model.ipynb\" target=\"_parent\"><img src=\"https://colab.research.google.com/assets/colab-badge.svg\" alt=\"Open In Colab\"/></a>"
      ]
    },
    {
      "cell_type": "markdown",
      "metadata": {
        "id": "FhGuhbZ6M5tl"
      },
      "source": [
        "##### Copyright 2018 The TensorFlow Authors."
      ]
    },
    {
      "cell_type": "code",
      "metadata": {
        "cellView": "form",
        "id": "AwOEIRJC6Une"
      },
      "source": [
        "#@title Licensed under the Apache License, Version 2.0 (the \"License\");\n",
        "# you may not use this file except in compliance with the License.\n",
        "# You may obtain a copy of the License at\n",
        "#\n",
        "# https://www.apache.org/licenses/LICENSE-2.0\n",
        "#\n",
        "# Unless required by applicable law or agreed to in writing, software\n",
        "# distributed under the License is distributed on an \"AS IS\" BASIS,\n",
        "# WITHOUT WARRANTIES OR CONDITIONS OF ANY KIND, either express or implied.\n",
        "# See the License for the specific language governing permissions and\n",
        "# limitations under the License."
      ],
      "execution_count": null,
      "outputs": []
    },
    {
      "cell_type": "code",
      "metadata": {
        "cellView": "form",
        "id": "KyPEtTqk6VdG"
      },
      "source": [
        "#@title MIT License\n",
        "#\n",
        "# Copyright (c) 2017 François Chollet\n",
        "#\n",
        "# Permission is hereby granted, free of charge, to any person obtaining a\n",
        "# copy of this software and associated documentation files (the \"Software\"),\n",
        "# to deal in the Software without restriction, including without limitation\n",
        "# the rights to use, copy, modify, merge, publish, distribute, sublicense,\n",
        "# and/or sell copies of the Software, and to permit persons to whom the\n",
        "# Software is furnished to do so, subject to the following conditions:\n",
        "#\n",
        "# The above copyright notice and this permission notice shall be included in\n",
        "# all copies or substantial portions of the Software.\n",
        "#\n",
        "# THE SOFTWARE IS PROVIDED \"AS IS\", WITHOUT WARRANTY OF ANY KIND, EXPRESS OR\n",
        "# IMPLIED, INCLUDING BUT NOT LIMITED TO THE WARRANTIES OF MERCHANTABILITY,\n",
        "# FITNESS FOR A PARTICULAR PURPOSE AND NONINFRINGEMENT. IN NO EVENT SHALL\n",
        "# THE AUTHORS OR COPYRIGHT HOLDERS BE LIABLE FOR ANY CLAIM, DAMAGES OR OTHER\n",
        "# LIABILITY, WHETHER IN AN ACTION OF CONTRACT, TORT OR OTHERWISE, ARISING\n",
        "# FROM, OUT OF OR IN CONNECTION WITH THE SOFTWARE OR THE USE OR OTHER\n",
        "# DEALINGS IN THE SOFTWARE."
      ],
      "execution_count": null,
      "outputs": []
    },
    {
      "cell_type": "markdown",
      "metadata": {
        "id": "EIdT9iu_Z4Rb"
      },
      "source": [
        "# Lev Droplet "
      ]
    },
    {
      "cell_type": "markdown",
      "metadata": {
        "id": "bBIlTPscrIT9"
      },
      "source": [
        "<table class=\"tfo-notebook-buttons\" align=\"left\">\n",
        "  <td>\n",
        "    <a target=\"_blank\" href=\"https://www.tensorflow.org/tutorials/keras/basic_regression\"><img src=\"https://www.tensorflow.org/images/tf_logo_32px.png\" />View on TensorFlow.org</a>\n",
        "  </td>\n",
        "  <td>\n",
        "    <a target=\"_blank\" href=\"https://colab.research.google.com/github/tensorflow/docs/blob/r2.0rc/site/en/tutorials/keras/basic_regression.ipynb\"><img src=\"https://www.tensorflow.org/images/colab_logo_32px.png\" />Run in Google Colab</a>\n",
        "  </td>\n",
        "  <td>\n",
        "    <a target=\"_blank\" href=\"https://github.com/tensorflow/docs/blob/r2.0rc/site/en/tutorials/keras/basic_regression.ipynb\"><img src=\"https://www.tensorflow.org/images/GitHub-Mark-32px.png\" />View source on GitHub</a>\n",
        "  </td>\n",
        "</table>"
      ]
    },
    {
      "cell_type": "markdown",
      "metadata": {
        "id": "AHp3M9ZmrIxj"
      },
      "source": [
        "Training NN model(s) on theoretical data generated via the simple physical model"
      ]
    },
    {
      "cell_type": "code",
      "metadata": {
        "id": "IbpYKApN-KAR",
        "scrolled": true,
        "colab": {
          "base_uri": "https://localhost:8080/"
        },
        "outputId": "fcf395bc-1c49-4dcb-ae30-c4bcd05d47ef"
      },
      "source": [
        "!pip install lmfit\n",
        "#!pip install seaborn"
      ],
      "execution_count": 2,
      "outputs": [
        {
          "output_type": "stream",
          "text": [
            "Collecting lmfit\n",
            "\u001b[?25l  Downloading https://files.pythonhosted.org/packages/67/70/0ef97b9d67b63efce0b720563e1c87ebfc15b565e89adde0c66c1025c848/lmfit-1.0.2.tar.gz (306kB)\n",
            "\u001b[K     |████████████████████████████████| 307kB 31.3MB/s \n",
            "\u001b[?25hCollecting asteval>=0.9.16\n",
            "\u001b[?25l  Downloading https://files.pythonhosted.org/packages/32/06/efc5ea08dc44836abbabbd949d944d6fde08312ce756557e16ab1ca477a4/asteval-0.9.23.tar.gz (55kB)\n",
            "\u001b[K     |████████████████████████████████| 61kB 7.4MB/s \n",
            "\u001b[?25hRequirement already satisfied: numpy>=1.16 in /usr/local/lib/python3.7/dist-packages (from lmfit) (1.19.5)\n",
            "Requirement already satisfied: scipy>=1.2 in /usr/local/lib/python3.7/dist-packages (from lmfit) (1.4.1)\n",
            "Collecting uncertainties>=3.0.1\n",
            "\u001b[?25l  Downloading https://files.pythonhosted.org/packages/45/41/fc7e7b73b603e7c2c9e040b7aa8caf4a88d74b6faa567601ed82b6f0d8e1/uncertainties-3.1.5-py2.py3-none-any.whl (246kB)\n",
            "\u001b[K     |████████████████████████████████| 256kB 28.4MB/s \n",
            "\u001b[?25hRequirement already satisfied: future in /usr/local/lib/python3.7/dist-packages (from uncertainties>=3.0.1->lmfit) (0.16.0)\n",
            "Building wheels for collected packages: lmfit, asteval\n",
            "  Building wheel for lmfit (setup.py) ... \u001b[?25l\u001b[?25hdone\n",
            "  Created wheel for lmfit: filename=lmfit-1.0.2-cp37-none-any.whl size=85265 sha256=29b5ac097a03c90b332d03389c0aef7a786328b3bcb3dddf9915b65f920c8667\n",
            "  Stored in directory: /root/.cache/pip/wheels/d4/5e/db/d9f5987d9f15bf910feb5e0274ac601d5f2161dc78aedfacfa\n",
            "  Building wheel for asteval (setup.py) ... \u001b[?25l\u001b[?25hdone\n",
            "  Created wheel for asteval: filename=asteval-0.9.23-cp37-none-any.whl size=17419 sha256=e41d8081fb6a968192bba655b6d45d400d6cda8981db8b7acb2b76efeeb6e494\n",
            "  Stored in directory: /root/.cache/pip/wheels/56/d6/43/4b5d8a9fd98b976031768673658c8b8d08dc9dcc0fa1907ad0\n",
            "Successfully built lmfit asteval\n",
            "Installing collected packages: asteval, uncertainties, lmfit\n",
            "Successfully installed asteval-0.9.23 lmfit-1.0.2 uncertainties-3.1.5\n"
          ],
          "name": "stdout"
        }
      ]
    },
    {
      "cell_type": "code",
      "metadata": {
        "id": "jyE0M3V99EdP",
        "scrolled": true,
        "colab": {
          "base_uri": "https://localhost:8080/"
        },
        "outputId": "04fab844-34de-4f5f-f6b2-6b6e66aa279c"
      },
      "source": [
        "import numpy as np\n",
        "#import cv2\n",
        "import os\n",
        "import re\n",
        "import glob\n",
        "import matplotlib.pyplot as plt\n",
        "from scipy.signal import  gaussian\n",
        "from scipy.ndimage import filters\n",
        "from scipy import optimize\n",
        "from scipy.stats import linregress\n",
        "from mpl_toolkits.mplot3d import Axes3D\n",
        "\n",
        "import seaborn as sns\n",
        "\n",
        "import scipy as sp\n",
        "import scipy.interpolate\n",
        "from scipy.integrate import trapz\n",
        "\n",
        "import time\n",
        "\n",
        "import pandas as pd\n",
        "\n",
        "from lmfit import Model, fit_report, Parameters\n",
        "\n",
        "#from __future__ import absolute_import, division, print_function, unicode_literals\n",
        "\n",
        "import pathlib\n",
        "\n",
        "import matplotlib.pyplot as plt\n",
        "import pandas as pd\n",
        "import seaborn as sns\n",
        "\n",
        "import tensorflow as tf\n",
        "from tensorflow import keras\n",
        "from tensorflow.keras import layers\n",
        "\n",
        "import io\n",
        "\n",
        "print(tf.__version__)\n",
        "print(\"Num GPUs Available: \", len(tf.config.experimental.list_physical_devices('GPU')))\n",
        "\n",
        "\n",
        "######### initialize the data ###############\n",
        "data_input=[]\n",
        "data_output=[]\n",
        "l_sample=300\n",
        "vol_all=[]\n",
        "vol2_all=[]\n",
        "data_x=[]\n",
        "data_y=[]\n",
        "data_h=[]\n",
        "data_w=[]\n",
        "R_sph_all=[]\n",
        "Ar=[]\n",
        "#st_all=[]\n",
        "rho=[]\n",
        "theta=[]\n",
        "#List of non-processed images:\n",
        "discarded=[]\n",
        "new=[]  #list of images without the discarded ones\n",
        "\n",
        "#For the simple approach fit\n",
        "phi_final=[]\n",
        "theta_az=[]\n",
        "theta_all=[]\n",
        "theta_final=[]\n",
        "r_theta_all=[]\n",
        "xc_all=[]\n",
        "yc_all=[]\n",
        "rho_final=[]\n",
        "data_Ps=[]\n",
        "data_dB=[]\n",
        "data_stderr=[]\n",
        "data_err=[]\n",
        "\n",
        "total_num_pictures = len(glob.glob1('.',\"*.png\"))\n",
        "frame_number=np.arange(total_num_pictures)\n",
        "\n",
        "gamma=64 #[N/m]\n",
        "Cg_air=1/101325 #Pa**(-1)\n",
        "k_o=2*np.pi*40/340  #wave number in the air. frequency 40kHz (25kH=0.000040sec) and speed of sound in air v=340 m/s from paper (331.5 for 20oC online) \n",
        "#Calibration\n",
        "needle_d=0.83 #mm\n",
        "needle_pxl=220 #pixels\n",
        "#calibration=0.00621722846441948**3\n",
        "cal=needle_d/needle_pxl\n",
        "calibration=(cal)**3\n",
        "\n",
        "\n",
        "###############################################################################\n",
        "#### Functions used in the data processing ####################################\n",
        "###############################################################################\n",
        "\n",
        "def calc_volume(x,y):\n",
        "    \"\"\"\n",
        "    Calculate the drop volume from a shape matrix.\n",
        "\n",
        "    Parameters\n",
        "    ----------\n",
        "    x, y - contour of the drop\n",
        "\n",
        "    Returns\n",
        "    -------\n",
        "    Integrated volume using for the given shape matrix.\n",
        "\n",
        "    \"\"\"\n",
        "    # data selection\n",
        "    idx=x<=0  # r=right\n",
        "    x_l=x[idx]\n",
        "    y_l=y[idx]\n",
        "        \n",
        "    vol_left=trapz(np.pi*x_l**2, y_l)/2\n",
        "        \n",
        "    # data selection\n",
        "    idx=x>=0  # r=right\n",
        "    x_r=x[idx]\n",
        "    y_r=y[idx]\n",
        "    vol_right=-trapz(np.pi*x_r**2, y_r)/2\n",
        "   \n",
        "    return vol_left+vol_right\n",
        "\n",
        "\n",
        "def calc_R_sph(vol):\n",
        "    \"\"\"\n",
        "    Calculate the spherical radius of a droplet based on the volume.\n",
        "\n",
        "    Input parameters\n",
        "    ----------\n",
        "    vol:         volume   [pixels**3]\n",
        "    calibration: calibration factor  [mm**3/pixels**3]\n",
        "\n",
        "    Returns\n",
        "    -------\n",
        "    Corresponding spherical radius.  [mm]\n",
        "\n",
        "    \"\"\"\n",
        "#    calibration=0.00621722846441948**3\n",
        "    #R_sph=(3*vol*calibration/(4*np.pi))**(1/3)\n",
        "    R_sph=(3*vol/(4*np.pi))**(1/3)\n",
        "    return R_sph\n",
        "\n",
        "def calc_dB(Ps):\n",
        "    \"\"\"\n",
        "    Calculate the deci Bell (dB) value for each acoustic pressure Ps.\n",
        "\n",
        "    Input parameters\n",
        "    ----------\n",
        "    Ps:     aplitude of the acoustic pressure\n",
        "\n",
        "    Returns\n",
        "    -------\n",
        "    dB value. []\n",
        "\n",
        "    \"\"\"\n",
        "    Po=2*10**(-5) #[Pa]\n",
        "\n",
        "    return 20*np.log10(Ps/Po)     #Acoustic pressure [Pa]\n",
        "\n",
        "def model_fit(th, Ps):\n",
        "    \"\"\"\n",
        "    Express the model that will be used to fit the experimental data (simple approach).\n",
        "\n",
        "    Input parameters\n",
        "    ----------\n",
        "    dB:     deciBell\n",
        "    th:     angle theta\n",
        "    Returns\n",
        "    -------\n",
        "    Expression of fitting model.\n",
        "\n",
        "    \"\"\"\n",
        "#    Ps=calc_ampl(dB)\n",
        "    ct_new=-((3/(64*gamma))*R_sph**2*Ps**2*Cg_air*(1+((7/5)*(k_o*R_sph)**2)))\n",
        "    return ct_new*(3*(np.cos(th))**2-1)+R_sph\n",
        "\n",
        "\n",
        "def R_predict(th, gamma, R_sph, Ps, Cg_air, k_o):\n",
        "    \"\"\"\n",
        "    Prediction of ST. \n",
        "    After the acoustic pressure is determined. The ST is calculated based on the equation of our model. \n",
        "    \n",
        "    \n",
        "    Input parameters\n",
        "    ----------\n",
        "    th:     angle theta\n",
        "    gamma:  ST as initial predition [mN/m]\n",
        "    Power:  U*I [Watt]\n",
        "    Returns\n",
        "    -------\n",
        "    gamma:   predicted surface tension [mN/m]\n",
        "\n",
        "    \"\"\"    \n",
        "#    Ps=data_Ps[i-1]    #[Pa]\n",
        "    ct_new=-((3/(64*gamma))*R_sph**2*Ps**2*Cg_air*(1+((7/5)*(k_o*R_sph)**2)))*(3*(np.cos(th))**2-1)\n",
        "    return ct_new+R_sph\n",
        "\n",
        "def ST_predict(th, gamma, R_sph, Ps, Cg_air, k_o):\n",
        "    \"\"\"\n",
        "    Prediction of ST. \n",
        "    After the acoustic pressure is determined. The ST is calculated based on the equation of our model. \n",
        "    \n",
        "    \n",
        "    Input parameters\n",
        "    ----------\n",
        "    th:     angle theta\n",
        "    gamma:  ST as initial predition [mN/m]\n",
        "    Power:  U*I [Watt]\n",
        "    Returns\n",
        "    -------\n",
        "    gamma:   predicted surface tension [mN/m]\n",
        "\n",
        "    \"\"\"    \n",
        "#    Ps=data_Ps[i-1]    #[Pa]\n",
        "    ct_new=-((3/(64*gamma))*R_sph**2*Ps**2*Cg_air*(1+((7/5)*(k_o*R_sph)**2)))*(3*(np.cos(th))**2-1)\n",
        "    return ct_new+R_sph\n",
        "\n",
        "\n",
        "def azimuth(phi):\n",
        "    \"\"\"\n",
        "    Calculate the azimuthal angle.\n",
        "\n",
        "    Input parameters\n",
        "    ----------\n",
        "    phi:     angle phi\n",
        "\n",
        "    Returns\n",
        "    -------\n",
        "    Azimuthal angle.\n",
        "\n",
        "    \"\"\"\n",
        "    if phi<=np.pi/2:\n",
        "        theta=np.pi/2-phi\n",
        "    else:\n",
        "        theta=2.5*np.pi-phi\n",
        "    return theta\n",
        "\n",
        "\n",
        "def cart2pol(x, y):\n",
        "    rho = np.sqrt(x**2 + y**2)\n",
        "    theta = np.arctan2(y, x)\n",
        "    return(theta, rho)\n",
        "\n",
        "def pol2cart(rho, phi):\n",
        "    x = rho * np.cos(phi)\n",
        "    y = rho * np.sin(phi)\n",
        "    return(x, y)\n",
        "\n",
        "\n",
        "def pol2cart_theta(rho, theta):\n",
        "    x = rho * np.sin(theta)\n",
        "    y = rho * np.cos(theta)\n",
        "    return(x, y)"
      ],
      "execution_count": 3,
      "outputs": [
        {
          "output_type": "stream",
          "text": [
            "2.5.0\n",
            "Num GPUs Available:  0\n"
          ],
          "name": "stdout"
        }
      ]
    },
    {
      "cell_type": "markdown",
      "metadata": {
        "id": "OgUp-UtJe3dA"
      },
      "source": [
        "Check the connection to google's **GPU**"
      ]
    },
    {
      "cell_type": "code",
      "metadata": {
        "id": "dgZHRBKye0v-",
        "colab": {
          "base_uri": "https://localhost:8080/"
        },
        "outputId": "3a1f9431-e10a-4a65-8e82-f123c79fcc98"
      },
      "source": [
        "%tensorflow_version 2.x\n",
        "import tensorflow as tf\n",
        "device_name = tf.test.gpu_device_name()\n",
        "if device_name != '/device:GPU:0':\n",
        "  raise SystemError('GPU device not found')\n",
        "print('Found GPU at: {}'.format(device_name))"
      ],
      "execution_count": null,
      "outputs": [
        {
          "output_type": "stream",
          "text": [
            "Found GPU at: /device:GPU:0\n"
          ],
          "name": "stdout"
        }
      ]
    },
    {
      "cell_type": "markdown",
      "metadata": {
        "id": "lsGCO8nDUAlJ"
      },
      "source": [
        "Generate random angle:\n",
        "20 000 sets of 200 points"
      ]
    },
    {
      "cell_type": "code",
      "metadata": {
        "id": "k2AMjiCZT_5m",
        "colab": {
          "base_uri": "https://localhost:8080/",
          "height": 1000
        },
        "outputId": "06f3a2e8-c2f8-4726-e29c-6a5081d2b391"
      },
      "source": [
        "def gen_data(num_sample,sampling):\n",
        "\n",
        "    #np.random.seed(1234)\n",
        "\n",
        "    vol_drop=np.random.random(num_sample)*(5-1)+1 # in µL\n",
        "    # vol_drop=np.tile(vol_drop, num_sample)   # If the volume is constant !!!\n",
        "\n",
        "    #gamma=72.8 #[mN/m]   \n",
        "    Cg_air=1/101325 #Pa**(-1)\n",
        "    k_o=2*np.pi*40/340  #wave number in the air in [mm^-1]. frequency 40kHz (25kH=0.000040sec) and speed of sound in air v=340 m/s from paper (331.5 for 20oC online) \n",
        "\n",
        "    Ps=np.random.random(num_sample)*(3177-1568)+1568  #[Pa]\n",
        "    R_sph=calc_R_sph(vol_drop)\n",
        "\n",
        "    theta=np.random.rand(num_sample, sampling)*np.pi*2\n",
        "    theta.sort()\n",
        "    \n",
        "    ST_range=np.random.random(num_sample)*(72.4-37)+37\n",
        "    r_all=np.empty([0,sampling])\n",
        "\n",
        "\n",
        "    for i in range(num_sample):\n",
        "        r=R_predict(theta[i], ST_range[i], R_sph[i], Ps[i], Cg_air, k_o)\n",
        "        r_all=np.vstack((r_all, r))\n",
        "        \n",
        "        if i % 10000 == 0:\n",
        "                print(i)\n",
        "        \n",
        "    \n",
        "    dataset=np.hstack((r_all, theta, vol_drop.reshape([num_sample, 1]), Ps.reshape([num_sample,1]), ST_range.reshape([num_sample,1])))\n",
        "\n",
        "    # print(ST_range.min())\n",
        "    # print(ST_range.max())\n",
        "\n",
        "    plt.figure()\n",
        "    plt.ylabel('Count')\n",
        "    plt.xlabel('Surface tension [mN/m]')\n",
        "    sns.distplot(ST_range)\n",
        "    plt.figure()\n",
        "    plt.ylabel('Count')\n",
        "    plt.xlabel('Acoustic pressure [Pa]')\n",
        "    sns.distplot(Ps)\n",
        "    plt.figure()\n",
        "    plt.ylabel('Count')\n",
        "    plt.xlabel('Volume [μL]')\n",
        "    sns.distplot(vol_drop)\n",
        "\n",
        "    fig3 = plt.figure()\n",
        "    ax = plt.gca()\n",
        "    ax.set_aspect(1)\n",
        "    ax.set_xlim([-1.5,1.5])\n",
        "    ax.set_ylim([-1.5,1.5])\n",
        "    \n",
        "\n",
        "    for j in dataset:\n",
        "\n",
        "      x,y=pol2cart_theta(j[0:sampling], j[sampling:sampling+sampling])\n",
        "\n",
        "      plt.plot(x, y)\n",
        "\n",
        "    plt.show()\n",
        "    return dataset\n",
        "\n",
        "num_sample=50000 # number of different ST values\n",
        "sampling=175 # number of coordiante point describing the contour\n",
        "\n",
        "\n",
        "dataset=gen_data(num_sample,sampling)\n",
        "\n",
        "\n",
        "column_names=[]\n",
        "for i in range(sampling):\n",
        "  column_names.append('rho')\n",
        "for i in range(sampling):\n",
        "  column_names.append('theta')\n",
        "column_names.append('vol')\n",
        "column_names.append('Ps')\n",
        "column_names.append('ST')\n",
        "\n",
        "\n",
        "raw_dataset = pd.DataFrame(dataset, columns=column_names)\n",
        "\n",
        "# raw_dataset.to_csv('./dataset.csv',index=False)\n"
      ],
      "execution_count": 4,
      "outputs": [
        {
          "output_type": "stream",
          "text": [
            "0\n",
            "10000\n",
            "20000\n",
            "30000\n",
            "40000\n"
          ],
          "name": "stdout"
        },
        {
          "output_type": "stream",
          "text": [
            "/usr/local/lib/python3.7/dist-packages/seaborn/distributions.py:2557: FutureWarning: `distplot` is a deprecated function and will be removed in a future version. Please adapt your code to use either `displot` (a figure-level function with similar flexibility) or `histplot` (an axes-level function for histograms).\n",
            "  warnings.warn(msg, FutureWarning)\n",
            "/usr/local/lib/python3.7/dist-packages/seaborn/distributions.py:2557: FutureWarning: `distplot` is a deprecated function and will be removed in a future version. Please adapt your code to use either `displot` (a figure-level function with similar flexibility) or `histplot` (an axes-level function for histograms).\n",
            "  warnings.warn(msg, FutureWarning)\n",
            "/usr/local/lib/python3.7/dist-packages/seaborn/distributions.py:2557: FutureWarning: `distplot` is a deprecated function and will be removed in a future version. Please adapt your code to use either `displot` (a figure-level function with similar flexibility) or `histplot` (an axes-level function for histograms).\n",
            "  warnings.warn(msg, FutureWarning)\n"
          ],
          "name": "stderr"
        },
        {
          "output_type": "display_data",
          "data": {
            "image/png": "[encoded data removed]",
            "text/plain": [
              "<Figure size 432x288 with 1 Axes>"
            ]
          },
          "metadata": {
            "tags": [],
            "needs_background": "light"
          }
        },
        {
          "output_type": "display_data",
          "data": {
            "image/png": "[encoded data removed]",
            "text/plain": [
              "<Figure size 432x288 with 1 Axes>"
            ]
          },
          "metadata": {
            "tags": [],
            "needs_background": "light"
          }
        },
        {
          "output_type": "display_data",
          "data": {
            "image/png": "[encoded data removed]",
            "text/plain": [
              "<Figure size 432x288 with 1 Axes>"
            ]
          },
          "metadata": {
            "tags": [],
            "needs_background": "light"
          }
        },
        {
          "output_type": "display_data",
          "data": {
            "image/png": "[encoded data removed]",
            "text/plain": [
              "<Figure size 432x288 with 1 Axes>"
            ]
          },
          "metadata": {
            "tags": [],
            "needs_background": "light"
          }
        }
      ]
    },
    {
      "cell_type": "code",
      "metadata": {
        "id": "QnYEVF5jmVsJ"
      },
      "source": [
        "#Remove columns\n",
        "\n",
        "# Ps=raw_dataset.pop('Ps')\n",
        "# volume=raw_dataset.pop('vol')"
      ],
      "execution_count": null,
      "outputs": []
    },
    {
      "cell_type": "code",
      "metadata": {
        "id": "l83INVYlZsND",
        "colab": {
          "base_uri": "https://localhost:8080/"
        },
        "outputId": "5b39c275-7c36-4827-fae8-9ed0e9666628"
      },
      "source": [
        "\n",
        "#input = pd.read_csv(io.BytesIO(uploaded['data.csv']))\n",
        "#input = pd.DataFrame(dataset)\n",
        "# Dataset is now stored in a Pandas Dataframe\n",
        "#input.size\n"
      ],
      "execution_count": null,
      "outputs": [
        {
          "output_type": "execute_result",
          "data": {
            "text/plain": [
              "(100000, 353)"
            ]
          },
          "metadata": {
            "tags": []
          },
          "execution_count": 45
        }
      ]
    },
    {
      "cell_type": "code",
      "metadata": {
        "id": "CiX2FI4gZtTt",
        "colab": {
          "base_uri": "https://localhost:8080/",
          "height": 253
        },
        "outputId": "3c0d7d0a-3fbf-40df-d079-05aac1032a89"
      },
      "source": [
        "# loading of data\n",
        "# raw_dataset=pd.read_csv('dataset.csv')\n",
        "\n",
        "dataset = raw_dataset.copy()\n",
        "# dataset.pop('vol')\n",
        "dataset.tail()\n"
      ],
      "execution_count": 5,
      "outputs": [
        {
          "output_type": "execute_result",
          "data": {
            "text/html": [
              "<div>\n",
              "<style scoped>\n",
              "    .dataframe tbody tr th:only-of-type {\n",
              "        vertical-align: middle;\n",
              "    }\n",
              "\n",
              "    .dataframe tbody tr th {\n",
              "        vertical-align: top;\n",
              "    }\n",
              "\n",
              "    .dataframe thead th {\n",
              "        text-align: right;\n",
              "    }\n",
              "</style>\n",
              "<table border=\"1\" class=\"dataframe\">\n",
              "  <thead>\n",
              "    <tr style=\"text-align: right;\">\n",
              "      <th></th>\n",
              "      <th>rho</th>\n",
              "      <th>rho</th>\n",
              "      <th>rho</th>\n",
              "      <th>rho</th>\n",
              "      <th>rho</th>\n",
              "      <th>rho</th>\n",
              "      <th>rho</th>\n",
              "      <th>rho</th>\n",
              "      <th>rho</th>\n",
              "      <th>rho</th>\n",
              "      <th>rho</th>\n",
              "      <th>rho</th>\n",
              "      <th>rho</th>\n",
              "      <th>rho</th>\n",
              "      <th>rho</th>\n",
              "      <th>rho</th>\n",
              "      <th>rho</th>\n",
              "      <th>rho</th>\n",
              "      <th>rho</th>\n",
              "      <th>rho</th>\n",
              "      <th>rho</th>\n",
              "      <th>rho</th>\n",
              "      <th>rho</th>\n",
              "      <th>rho</th>\n",
              "      <th>rho</th>\n",
              "      <th>rho</th>\n",
              "      <th>rho</th>\n",
              "      <th>rho</th>\n",
              "      <th>rho</th>\n",
              "      <th>rho</th>\n",
              "      <th>rho</th>\n",
              "      <th>rho</th>\n",
              "      <th>rho</th>\n",
              "      <th>rho</th>\n",
              "      <th>rho</th>\n",
              "      <th>rho</th>\n",
              "      <th>rho</th>\n",
              "      <th>rho</th>\n",
              "      <th>rho</th>\n",
              "      <th>rho</th>\n",
              "      <th>...</th>\n",
              "      <th>theta</th>\n",
              "      <th>theta</th>\n",
              "      <th>theta</th>\n",
              "      <th>theta</th>\n",
              "      <th>theta</th>\n",
              "      <th>theta</th>\n",
              "      <th>theta</th>\n",
              "      <th>theta</th>\n",
              "      <th>theta</th>\n",
              "      <th>theta</th>\n",
              "      <th>theta</th>\n",
              "      <th>theta</th>\n",
              "      <th>theta</th>\n",
              "      <th>theta</th>\n",
              "      <th>theta</th>\n",
              "      <th>theta</th>\n",
              "      <th>theta</th>\n",
              "      <th>theta</th>\n",
              "      <th>theta</th>\n",
              "      <th>theta</th>\n",
              "      <th>theta</th>\n",
              "      <th>theta</th>\n",
              "      <th>theta</th>\n",
              "      <th>theta</th>\n",
              "      <th>theta</th>\n",
              "      <th>theta</th>\n",
              "      <th>theta</th>\n",
              "      <th>theta</th>\n",
              "      <th>theta</th>\n",
              "      <th>theta</th>\n",
              "      <th>theta</th>\n",
              "      <th>theta</th>\n",
              "      <th>theta</th>\n",
              "      <th>theta</th>\n",
              "      <th>theta</th>\n",
              "      <th>theta</th>\n",
              "      <th>theta</th>\n",
              "      <th>vol</th>\n",
              "      <th>Ps</th>\n",
              "      <th>ST</th>\n",
              "    </tr>\n",
              "  </thead>\n",
              "  <tbody>\n",
              "    <tr>\n",
              "      <th>49995</th>\n",
              "      <td>0.769955</td>\n",
              "      <td>0.770697</td>\n",
              "      <td>0.771015</td>\n",
              "      <td>0.776379</td>\n",
              "      <td>0.782352</td>\n",
              "      <td>0.784597</td>\n",
              "      <td>0.786373</td>\n",
              "      <td>0.788958</td>\n",
              "      <td>0.789436</td>\n",
              "      <td>0.805315</td>\n",
              "      <td>0.827363</td>\n",
              "      <td>0.828521</td>\n",
              "      <td>0.831590</td>\n",
              "      <td>0.833441</td>\n",
              "      <td>0.844612</td>\n",
              "      <td>0.845183</td>\n",
              "      <td>0.886958</td>\n",
              "      <td>0.886974</td>\n",
              "      <td>0.888134</td>\n",
              "      <td>0.889240</td>\n",
              "      <td>0.897181</td>\n",
              "      <td>0.905043</td>\n",
              "      <td>0.910937</td>\n",
              "      <td>0.920526</td>\n",
              "      <td>0.935758</td>\n",
              "      <td>0.963128</td>\n",
              "      <td>0.977860</td>\n",
              "      <td>0.986319</td>\n",
              "      <td>0.991945</td>\n",
              "      <td>0.997989</td>\n",
              "      <td>1.005684</td>\n",
              "      <td>1.007431</td>\n",
              "      <td>1.010972</td>\n",
              "      <td>1.019495</td>\n",
              "      <td>1.033733</td>\n",
              "      <td>1.076026</td>\n",
              "      <td>1.082972</td>\n",
              "      <td>1.091499</td>\n",
              "      <td>1.095921</td>\n",
              "      <td>1.098607</td>\n",
              "      <td>...</td>\n",
              "      <td>5.233004</td>\n",
              "      <td>5.242322</td>\n",
              "      <td>5.322742</td>\n",
              "      <td>5.333836</td>\n",
              "      <td>5.358181</td>\n",
              "      <td>5.373785</td>\n",
              "      <td>5.403396</td>\n",
              "      <td>5.437367</td>\n",
              "      <td>5.452760</td>\n",
              "      <td>5.470141</td>\n",
              "      <td>5.474240</td>\n",
              "      <td>5.484448</td>\n",
              "      <td>5.505969</td>\n",
              "      <td>5.577914</td>\n",
              "      <td>5.618597</td>\n",
              "      <td>5.644451</td>\n",
              "      <td>5.701744</td>\n",
              "      <td>5.702784</td>\n",
              "      <td>5.721982</td>\n",
              "      <td>5.730067</td>\n",
              "      <td>5.758448</td>\n",
              "      <td>5.803562</td>\n",
              "      <td>5.846485</td>\n",
              "      <td>5.862451</td>\n",
              "      <td>5.874571</td>\n",
              "      <td>5.888006</td>\n",
              "      <td>5.932525</td>\n",
              "      <td>5.948961</td>\n",
              "      <td>5.951301</td>\n",
              "      <td>6.035272</td>\n",
              "      <td>6.038860</td>\n",
              "      <td>6.085891</td>\n",
              "      <td>6.102256</td>\n",
              "      <td>6.108532</td>\n",
              "      <td>6.219703</td>\n",
              "      <td>6.253468</td>\n",
              "      <td>6.269021</td>\n",
              "      <td>4.122496</td>\n",
              "      <td>2949.759108</td>\n",
              "      <td>62.066575</td>\n",
              "    </tr>\n",
              "    <tr>\n",
              "      <th>49996</th>\n",
              "      <td>0.910290</td>\n",
              "      <td>0.910332</td>\n",
              "      <td>0.910342</td>\n",
              "      <td>0.910568</td>\n",
              "      <td>0.912532</td>\n",
              "      <td>0.913510</td>\n",
              "      <td>0.914056</td>\n",
              "      <td>0.915070</td>\n",
              "      <td>0.915496</td>\n",
              "      <td>0.920794</td>\n",
              "      <td>0.922659</td>\n",
              "      <td>0.931632</td>\n",
              "      <td>0.934234</td>\n",
              "      <td>0.935204</td>\n",
              "      <td>0.938501</td>\n",
              "      <td>0.940863</td>\n",
              "      <td>0.947361</td>\n",
              "      <td>0.949331</td>\n",
              "      <td>0.949404</td>\n",
              "      <td>0.967056</td>\n",
              "      <td>0.971981</td>\n",
              "      <td>0.972188</td>\n",
              "      <td>0.976915</td>\n",
              "      <td>0.997527</td>\n",
              "      <td>0.997569</td>\n",
              "      <td>0.999382</td>\n",
              "      <td>1.002583</td>\n",
              "      <td>1.030621</td>\n",
              "      <td>1.032040</td>\n",
              "      <td>1.034725</td>\n",
              "      <td>1.038209</td>\n",
              "      <td>1.040127</td>\n",
              "      <td>1.042091</td>\n",
              "      <td>1.042372</td>\n",
              "      <td>1.046991</td>\n",
              "      <td>1.050937</td>\n",
              "      <td>1.054166</td>\n",
              "      <td>1.056911</td>\n",
              "      <td>1.057223</td>\n",
              "      <td>1.057570</td>\n",
              "      <td>...</td>\n",
              "      <td>4.910898</td>\n",
              "      <td>4.996901</td>\n",
              "      <td>5.022119</td>\n",
              "      <td>5.169784</td>\n",
              "      <td>5.179328</td>\n",
              "      <td>5.242008</td>\n",
              "      <td>5.454634</td>\n",
              "      <td>5.459680</td>\n",
              "      <td>5.460495</td>\n",
              "      <td>5.502913</td>\n",
              "      <td>5.597333</td>\n",
              "      <td>5.659587</td>\n",
              "      <td>5.729177</td>\n",
              "      <td>5.776700</td>\n",
              "      <td>5.790093</td>\n",
              "      <td>5.803805</td>\n",
              "      <td>5.852164</td>\n",
              "      <td>5.886311</td>\n",
              "      <td>5.888862</td>\n",
              "      <td>5.899767</td>\n",
              "      <td>5.930305</td>\n",
              "      <td>5.936660</td>\n",
              "      <td>5.940499</td>\n",
              "      <td>5.999136</td>\n",
              "      <td>6.007672</td>\n",
              "      <td>6.032659</td>\n",
              "      <td>6.057659</td>\n",
              "      <td>6.062430</td>\n",
              "      <td>6.067571</td>\n",
              "      <td>6.152387</td>\n",
              "      <td>6.157602</td>\n",
              "      <td>6.161447</td>\n",
              "      <td>6.169635</td>\n",
              "      <td>6.183506</td>\n",
              "      <td>6.229720</td>\n",
              "      <td>6.263364</td>\n",
              "      <td>6.270704</td>\n",
              "      <td>4.304270</td>\n",
              "      <td>1743.073514</td>\n",
              "      <td>51.419355</td>\n",
              "    </tr>\n",
              "    <tr>\n",
              "      <th>49997</th>\n",
              "      <td>0.586644</td>\n",
              "      <td>0.586776</td>\n",
              "      <td>0.586795</td>\n",
              "      <td>0.586901</td>\n",
              "      <td>0.587003</td>\n",
              "      <td>0.587587</td>\n",
              "      <td>0.591613</td>\n",
              "      <td>0.594711</td>\n",
              "      <td>0.597562</td>\n",
              "      <td>0.603858</td>\n",
              "      <td>0.605395</td>\n",
              "      <td>0.610209</td>\n",
              "      <td>0.620001</td>\n",
              "      <td>0.625687</td>\n",
              "      <td>0.626209</td>\n",
              "      <td>0.636987</td>\n",
              "      <td>0.640421</td>\n",
              "      <td>0.642318</td>\n",
              "      <td>0.646872</td>\n",
              "      <td>0.648170</td>\n",
              "      <td>0.650649</td>\n",
              "      <td>0.658559</td>\n",
              "      <td>0.661689</td>\n",
              "      <td>0.661790</td>\n",
              "      <td>0.666491</td>\n",
              "      <td>0.668950</td>\n",
              "      <td>0.670898</td>\n",
              "      <td>0.670932</td>\n",
              "      <td>0.672066</td>\n",
              "      <td>0.678887</td>\n",
              "      <td>0.685104</td>\n",
              "      <td>0.687331</td>\n",
              "      <td>0.688200</td>\n",
              "      <td>0.688923</td>\n",
              "      <td>0.691293</td>\n",
              "      <td>0.696127</td>\n",
              "      <td>0.696388</td>\n",
              "      <td>0.698145</td>\n",
              "      <td>0.701267</td>\n",
              "      <td>0.701424</td>\n",
              "      <td>...</td>\n",
              "      <td>5.108276</td>\n",
              "      <td>5.127739</td>\n",
              "      <td>5.227892</td>\n",
              "      <td>5.257026</td>\n",
              "      <td>5.270807</td>\n",
              "      <td>5.303375</td>\n",
              "      <td>5.332903</td>\n",
              "      <td>5.366171</td>\n",
              "      <td>5.405994</td>\n",
              "      <td>5.407792</td>\n",
              "      <td>5.409818</td>\n",
              "      <td>5.413021</td>\n",
              "      <td>5.451912</td>\n",
              "      <td>5.519271</td>\n",
              "      <td>5.543495</td>\n",
              "      <td>5.543712</td>\n",
              "      <td>5.566138</td>\n",
              "      <td>5.672679</td>\n",
              "      <td>5.689355</td>\n",
              "      <td>5.691150</td>\n",
              "      <td>5.694272</td>\n",
              "      <td>5.711496</td>\n",
              "      <td>5.721450</td>\n",
              "      <td>5.770779</td>\n",
              "      <td>5.787785</td>\n",
              "      <td>5.832358</td>\n",
              "      <td>5.842174</td>\n",
              "      <td>5.951822</td>\n",
              "      <td>5.955853</td>\n",
              "      <td>5.989454</td>\n",
              "      <td>6.056776</td>\n",
              "      <td>6.075804</td>\n",
              "      <td>6.086306</td>\n",
              "      <td>6.091723</td>\n",
              "      <td>6.149270</td>\n",
              "      <td>6.158542</td>\n",
              "      <td>6.278975</td>\n",
              "      <td>1.236705</td>\n",
              "      <td>2652.605001</td>\n",
              "      <td>48.788218</td>\n",
              "    </tr>\n",
              "    <tr>\n",
              "      <th>49998</th>\n",
              "      <td>0.644898</td>\n",
              "      <td>0.646495</td>\n",
              "      <td>0.648373</td>\n",
              "      <td>0.649100</td>\n",
              "      <td>0.651215</td>\n",
              "      <td>0.651268</td>\n",
              "      <td>0.651305</td>\n",
              "      <td>0.651601</td>\n",
              "      <td>0.651936</td>\n",
              "      <td>0.653408</td>\n",
              "      <td>0.654607</td>\n",
              "      <td>0.655012</td>\n",
              "      <td>0.655019</td>\n",
              "      <td>0.657257</td>\n",
              "      <td>0.659747</td>\n",
              "      <td>0.660921</td>\n",
              "      <td>0.663111</td>\n",
              "      <td>0.663552</td>\n",
              "      <td>0.664577</td>\n",
              "      <td>0.665603</td>\n",
              "      <td>0.665701</td>\n",
              "      <td>0.668933</td>\n",
              "      <td>0.670990</td>\n",
              "      <td>0.673819</td>\n",
              "      <td>0.673942</td>\n",
              "      <td>0.674585</td>\n",
              "      <td>0.674749</td>\n",
              "      <td>0.675051</td>\n",
              "      <td>0.677482</td>\n",
              "      <td>0.677718</td>\n",
              "      <td>0.678418</td>\n",
              "      <td>0.680482</td>\n",
              "      <td>0.681092</td>\n",
              "      <td>0.681226</td>\n",
              "      <td>0.682003</td>\n",
              "      <td>0.682094</td>\n",
              "      <td>0.682816</td>\n",
              "      <td>0.683787</td>\n",
              "      <td>0.683792</td>\n",
              "      <td>0.684316</td>\n",
              "      <td>...</td>\n",
              "      <td>4.791252</td>\n",
              "      <td>4.806562</td>\n",
              "      <td>4.933062</td>\n",
              "      <td>5.015943</td>\n",
              "      <td>5.020122</td>\n",
              "      <td>5.128187</td>\n",
              "      <td>5.135035</td>\n",
              "      <td>5.156354</td>\n",
              "      <td>5.166225</td>\n",
              "      <td>5.212851</td>\n",
              "      <td>5.227481</td>\n",
              "      <td>5.240392</td>\n",
              "      <td>5.245343</td>\n",
              "      <td>5.322665</td>\n",
              "      <td>5.343934</td>\n",
              "      <td>5.422659</td>\n",
              "      <td>5.493397</td>\n",
              "      <td>5.511559</td>\n",
              "      <td>5.512171</td>\n",
              "      <td>5.525491</td>\n",
              "      <td>5.591924</td>\n",
              "      <td>5.597788</td>\n",
              "      <td>5.604130</td>\n",
              "      <td>5.622519</td>\n",
              "      <td>5.783490</td>\n",
              "      <td>5.796063</td>\n",
              "      <td>5.867751</td>\n",
              "      <td>5.890577</td>\n",
              "      <td>5.895930</td>\n",
              "      <td>6.027386</td>\n",
              "      <td>6.031562</td>\n",
              "      <td>6.039119</td>\n",
              "      <td>6.111923</td>\n",
              "      <td>6.164214</td>\n",
              "      <td>6.197428</td>\n",
              "      <td>6.205821</td>\n",
              "      <td>6.229579</td>\n",
              "      <td>1.267398</td>\n",
              "      <td>1603.639302</td>\n",
              "      <td>54.482986</td>\n",
              "    </tr>\n",
              "    <tr>\n",
              "      <th>49999</th>\n",
              "      <td>0.592004</td>\n",
              "      <td>0.593309</td>\n",
              "      <td>0.593520</td>\n",
              "      <td>0.594089</td>\n",
              "      <td>0.594366</td>\n",
              "      <td>0.594452</td>\n",
              "      <td>0.595602</td>\n",
              "      <td>0.599017</td>\n",
              "      <td>0.600305</td>\n",
              "      <td>0.602857</td>\n",
              "      <td>0.603192</td>\n",
              "      <td>0.604647</td>\n",
              "      <td>0.606356</td>\n",
              "      <td>0.609111</td>\n",
              "      <td>0.611722</td>\n",
              "      <td>0.612152</td>\n",
              "      <td>0.618323</td>\n",
              "      <td>0.623819</td>\n",
              "      <td>0.626364</td>\n",
              "      <td>0.632660</td>\n",
              "      <td>0.637612</td>\n",
              "      <td>0.640900</td>\n",
              "      <td>0.645028</td>\n",
              "      <td>0.646308</td>\n",
              "      <td>0.649565</td>\n",
              "      <td>0.660481</td>\n",
              "      <td>0.668609</td>\n",
              "      <td>0.668941</td>\n",
              "      <td>0.670443</td>\n",
              "      <td>0.670822</td>\n",
              "      <td>0.672936</td>\n",
              "      <td>0.676517</td>\n",
              "      <td>0.677665</td>\n",
              "      <td>0.679043</td>\n",
              "      <td>0.679055</td>\n",
              "      <td>0.680717</td>\n",
              "      <td>0.680768</td>\n",
              "      <td>0.681716</td>\n",
              "      <td>0.682287</td>\n",
              "      <td>0.682819</td>\n",
              "      <td>...</td>\n",
              "      <td>4.758974</td>\n",
              "      <td>4.808215</td>\n",
              "      <td>4.853784</td>\n",
              "      <td>4.900183</td>\n",
              "      <td>4.901307</td>\n",
              "      <td>4.925324</td>\n",
              "      <td>4.996934</td>\n",
              "      <td>5.084057</td>\n",
              "      <td>5.118733</td>\n",
              "      <td>5.126677</td>\n",
              "      <td>5.204361</td>\n",
              "      <td>5.255058</td>\n",
              "      <td>5.285198</td>\n",
              "      <td>5.319554</td>\n",
              "      <td>5.342053</td>\n",
              "      <td>5.373407</td>\n",
              "      <td>5.553076</td>\n",
              "      <td>5.560371</td>\n",
              "      <td>5.564270</td>\n",
              "      <td>5.577858</td>\n",
              "      <td>5.579047</td>\n",
              "      <td>5.655629</td>\n",
              "      <td>5.670338</td>\n",
              "      <td>5.803566</td>\n",
              "      <td>5.946857</td>\n",
              "      <td>5.996128</td>\n",
              "      <td>6.030702</td>\n",
              "      <td>6.035705</td>\n",
              "      <td>6.052609</td>\n",
              "      <td>6.120562</td>\n",
              "      <td>6.128383</td>\n",
              "      <td>6.158242</td>\n",
              "      <td>6.169614</td>\n",
              "      <td>6.208726</td>\n",
              "      <td>6.213322</td>\n",
              "      <td>6.213363</td>\n",
              "      <td>6.246961</td>\n",
              "      <td>1.176737</td>\n",
              "      <td>2289.590544</td>\n",
              "      <td>43.733094</td>\n",
              "    </tr>\n",
              "  </tbody>\n",
              "</table>\n",
              "<p>5 rows × 353 columns</p>\n",
              "</div>"
            ],
            "text/plain": [
              "            rho       rho       rho  ...       vol           Ps         ST\n",
              "49995  0.769955  0.770697  0.771015  ...  4.122496  2949.759108  62.066575\n",
              "49996  0.910290  0.910332  0.910342  ...  4.304270  1743.073514  51.419355\n",
              "49997  0.586644  0.586776  0.586795  ...  1.236705  2652.605001  48.788218\n",
              "49998  0.644898  0.646495  0.648373  ...  1.267398  1603.639302  54.482986\n",
              "49999  0.592004  0.593309  0.593520  ...  1.176737  2289.590544  43.733094\n",
              "\n",
              "[5 rows x 353 columns]"
            ]
          },
          "metadata": {
            "tags": []
          },
          "execution_count": 5
        }
      ]
    },
    {
      "cell_type": "markdown",
      "metadata": {
        "id": "HkWsufEUFMi8"
      },
      "source": [
        "### Adding noise \n",
        "\n"
      ]
    },
    {
      "cell_type": "markdown",
      "metadata": {
        "id": "SXWpXmesYvv3"
      },
      "source": [
        "#### To acoustic pressure"
      ]
    },
    {
      "cell_type": "code",
      "metadata": {
        "id": "vgwEz3rDFLcz",
        "colab": {
          "base_uri": "https://localhost:8080/",
          "height": 530
        },
        "outputId": "59609476-c4de-48c8-cf01-380853f7e23e"
      },
      "source": [
        "noisy_dataset=dataset.copy()\n",
        "\n",
        "np.random.seed(seed=1)\n",
        "noise1 = np.random.random(size=[len(dataset), ])*25\n",
        "noise2=np.random.random(size=[len(dataset), ])*25\n",
        "noisy_dataset.Ps=noisy_dataset.Ps+noise1-noise2\n",
        "\n",
        "plt.figure()\n",
        "plt.plot(dataset.iloc[0, 0:sampling], dataset.iloc[0, sampling:sampling*2])\n",
        "\n",
        "plt.figure()\n",
        "plt.plot(dataset.Ps[0:10], label='Initial Ps')\n",
        "plt.plot(noisy_dataset.Ps[0:10], label='Ps with noise')\n",
        "plt.legend()"
      ],
      "execution_count": null,
      "outputs": [
        {
          "output_type": "execute_result",
          "data": {
            "text/plain": [
              "<matplotlib.legend.Legend at 0x7fdd1ffa77d0>"
            ]
          },
          "metadata": {
            "tags": []
          },
          "execution_count": 119
        },
        {
          "output_type": "display_data",
          "data": {
            "image/png": "[encoded data removed]",
            "text/plain": [
              "<Figure size 432x288 with 1 Axes>"
            ]
          },
          "metadata": {
            "tags": [],
            "needs_background": "light"
          }
        },
        {
          "output_type": "display_data",
          "data": {
            "image/png": "[encoded data removed]",
            "text/plain": [
              "<Figure size 432x288 with 1 Axes>"
            ]
          },
          "metadata": {
            "tags": [],
            "needs_background": "light"
          }
        }
      ]
    },
    {
      "cell_type": "markdown",
      "metadata": {
        "id": "8iTHFrSRY1R2"
      },
      "source": [
        "#### To ST"
      ]
    },
    {
      "cell_type": "code",
      "metadata": {
        "colab": {
          "base_uri": "https://localhost:8080/",
          "height": 806
        },
        "id": "bHhvVONDY3yV",
        "outputId": "07d11188-dbbc-48b7-ee8f-60e8dfd99c9b"
      },
      "source": [
        "noisy_dataset=dataset.copy()\n",
        "\n",
        "np.random.seed(seed=1)\n",
        "noise1 = np.random.random(size=[len(dataset), ])*2\n",
        "noise2=np.random.random(size=[len(dataset), ])*2\n",
        "noisy_dataset.ST=noisy_dataset.ST+noise1-noise2\n",
        "\n",
        "plt.figure()\n",
        "plt.plot(dataset.iloc[0, sampling:sampling*2], dataset.iloc[0, 0:sampling])\n",
        "\n",
        "plt.figure()\n",
        "plt.plot(dataset.ST[0:20], 'o', label='Initial ST')\n",
        "plt.plot(noisy_dataset.ST[0:20], 'o', label='ST with noise')\n",
        "plt.xlabel('Instance')\n",
        "plt.ylabel('Surface tension (mN/m)')\n",
        "plt.legend()\n",
        "\n",
        "plt.figure()\n",
        "plt.plot(noisy_dataset.ST[0:20]-dataset.ST[0:20], 'o', label='Difference')\n",
        "plt.xlabel('Instance')\n",
        "plt.ylabel('Surface tension difference (mN/m)')\n",
        "plt.legend()"
      ],
      "execution_count": 6,
      "outputs": [
        {
          "output_type": "execute_result",
          "data": {
            "text/plain": [
              "<matplotlib.legend.Legend at 0x7ff29b2578d0>"
            ]
          },
          "metadata": {
            "tags": []
          },
          "execution_count": 6
        },
        {
          "output_type": "display_data",
          "data": {
            "image/png": "[encoded data removed]",
            "text/plain": [
              "<Figure size 432x288 with 1 Axes>"
            ]
          },
          "metadata": {
            "tags": [],
            "needs_background": "light"
          }
        },
        {
          "output_type": "display_data",
          "data": {
            "image/png": "[encoded data removed]",
            "text/plain": [
              "<Figure size 432x288 with 1 Axes>"
            ]
          },
          "metadata": {
            "tags": [],
            "needs_background": "light"
          }
        },
        {
          "output_type": "display_data",
          "data": {
            "image/png": "[encoded data removed]",
            "text/plain": [
              "<Figure size 432x288 with 1 Axes>"
            ]
          },
          "metadata": {
            "tags": [],
            "needs_background": "light"
          }
        }
      ]
    },
    {
      "cell_type": "markdown",
      "metadata": {
        "id": "MtvfYyw-1dig"
      },
      "source": [
        "### Save the noise dataset"
      ]
    },
    {
      "cell_type": "code",
      "metadata": {
        "id": "OEN9cHIe1c4U",
        "colab": {
          "base_uri": "https://localhost:8080/",
          "height": 253
        },
        "outputId": "d1d1e215-551e-4a27-95ef-29e34ad92e70"
      },
      "source": [
        "#The original dataset is on: raw_dataset.tail()\n",
        "# dataset=raw_dataset\n",
        "#Save the noisy dataset as dataset\n",
        "dataset=noisy_dataset.copy()\n",
        "dataset.tail()"
      ],
      "execution_count": 7,
      "outputs": [
        {
          "output_type": "execute_result",
          "data": {
            "text/html": [
              "<div>\n",
              "<style scoped>\n",
              "    .dataframe tbody tr th:only-of-type {\n",
              "        vertical-align: middle;\n",
              "    }\n",
              "\n",
              "    .dataframe tbody tr th {\n",
              "        vertical-align: top;\n",
              "    }\n",
              "\n",
              "    .dataframe thead th {\n",
              "        text-align: right;\n",
              "    }\n",
              "</style>\n",
              "<table border=\"1\" class=\"dataframe\">\n",
              "  <thead>\n",
              "    <tr style=\"text-align: right;\">\n",
              "      <th></th>\n",
              "      <th>rho</th>\n",
              "      <th>rho</th>\n",
              "      <th>rho</th>\n",
              "      <th>rho</th>\n",
              "      <th>rho</th>\n",
              "      <th>rho</th>\n",
              "      <th>rho</th>\n",
              "      <th>rho</th>\n",
              "      <th>rho</th>\n",
              "      <th>rho</th>\n",
              "      <th>rho</th>\n",
              "      <th>rho</th>\n",
              "      <th>rho</th>\n",
              "      <th>rho</th>\n",
              "      <th>rho</th>\n",
              "      <th>rho</th>\n",
              "      <th>rho</th>\n",
              "      <th>rho</th>\n",
              "      <th>rho</th>\n",
              "      <th>rho</th>\n",
              "      <th>rho</th>\n",
              "      <th>rho</th>\n",
              "      <th>rho</th>\n",
              "      <th>rho</th>\n",
              "      <th>rho</th>\n",
              "      <th>rho</th>\n",
              "      <th>rho</th>\n",
              "      <th>rho</th>\n",
              "      <th>rho</th>\n",
              "      <th>rho</th>\n",
              "      <th>rho</th>\n",
              "      <th>rho</th>\n",
              "      <th>rho</th>\n",
              "      <th>rho</th>\n",
              "      <th>rho</th>\n",
              "      <th>rho</th>\n",
              "      <th>rho</th>\n",
              "      <th>rho</th>\n",
              "      <th>rho</th>\n",
              "      <th>rho</th>\n",
              "      <th>...</th>\n",
              "      <th>theta</th>\n",
              "      <th>theta</th>\n",
              "      <th>theta</th>\n",
              "      <th>theta</th>\n",
              "      <th>theta</th>\n",
              "      <th>theta</th>\n",
              "      <th>theta</th>\n",
              "      <th>theta</th>\n",
              "      <th>theta</th>\n",
              "      <th>theta</th>\n",
              "      <th>theta</th>\n",
              "      <th>theta</th>\n",
              "      <th>theta</th>\n",
              "      <th>theta</th>\n",
              "      <th>theta</th>\n",
              "      <th>theta</th>\n",
              "      <th>theta</th>\n",
              "      <th>theta</th>\n",
              "      <th>theta</th>\n",
              "      <th>theta</th>\n",
              "      <th>theta</th>\n",
              "      <th>theta</th>\n",
              "      <th>theta</th>\n",
              "      <th>theta</th>\n",
              "      <th>theta</th>\n",
              "      <th>theta</th>\n",
              "      <th>theta</th>\n",
              "      <th>theta</th>\n",
              "      <th>theta</th>\n",
              "      <th>theta</th>\n",
              "      <th>theta</th>\n",
              "      <th>theta</th>\n",
              "      <th>theta</th>\n",
              "      <th>theta</th>\n",
              "      <th>theta</th>\n",
              "      <th>theta</th>\n",
              "      <th>theta</th>\n",
              "      <th>vol</th>\n",
              "      <th>Ps</th>\n",
              "      <th>ST</th>\n",
              "    </tr>\n",
              "  </thead>\n",
              "  <tbody>\n",
              "    <tr>\n",
              "      <th>49995</th>\n",
              "      <td>0.769955</td>\n",
              "      <td>0.770697</td>\n",
              "      <td>0.771015</td>\n",
              "      <td>0.776379</td>\n",
              "      <td>0.782352</td>\n",
              "      <td>0.784597</td>\n",
              "      <td>0.786373</td>\n",
              "      <td>0.788958</td>\n",
              "      <td>0.789436</td>\n",
              "      <td>0.805315</td>\n",
              "      <td>0.827363</td>\n",
              "      <td>0.828521</td>\n",
              "      <td>0.831590</td>\n",
              "      <td>0.833441</td>\n",
              "      <td>0.844612</td>\n",
              "      <td>0.845183</td>\n",
              "      <td>0.886958</td>\n",
              "      <td>0.886974</td>\n",
              "      <td>0.888134</td>\n",
              "      <td>0.889240</td>\n",
              "      <td>0.897181</td>\n",
              "      <td>0.905043</td>\n",
              "      <td>0.910937</td>\n",
              "      <td>0.920526</td>\n",
              "      <td>0.935758</td>\n",
              "      <td>0.963128</td>\n",
              "      <td>0.977860</td>\n",
              "      <td>0.986319</td>\n",
              "      <td>0.991945</td>\n",
              "      <td>0.997989</td>\n",
              "      <td>1.005684</td>\n",
              "      <td>1.007431</td>\n",
              "      <td>1.010972</td>\n",
              "      <td>1.019495</td>\n",
              "      <td>1.033733</td>\n",
              "      <td>1.076026</td>\n",
              "      <td>1.082972</td>\n",
              "      <td>1.091499</td>\n",
              "      <td>1.095921</td>\n",
              "      <td>1.098607</td>\n",
              "      <td>...</td>\n",
              "      <td>5.233004</td>\n",
              "      <td>5.242322</td>\n",
              "      <td>5.322742</td>\n",
              "      <td>5.333836</td>\n",
              "      <td>5.358181</td>\n",
              "      <td>5.373785</td>\n",
              "      <td>5.403396</td>\n",
              "      <td>5.437367</td>\n",
              "      <td>5.452760</td>\n",
              "      <td>5.470141</td>\n",
              "      <td>5.474240</td>\n",
              "      <td>5.484448</td>\n",
              "      <td>5.505969</td>\n",
              "      <td>5.577914</td>\n",
              "      <td>5.618597</td>\n",
              "      <td>5.644451</td>\n",
              "      <td>5.701744</td>\n",
              "      <td>5.702784</td>\n",
              "      <td>5.721982</td>\n",
              "      <td>5.730067</td>\n",
              "      <td>5.758448</td>\n",
              "      <td>5.803562</td>\n",
              "      <td>5.846485</td>\n",
              "      <td>5.862451</td>\n",
              "      <td>5.874571</td>\n",
              "      <td>5.888006</td>\n",
              "      <td>5.932525</td>\n",
              "      <td>5.948961</td>\n",
              "      <td>5.951301</td>\n",
              "      <td>6.035272</td>\n",
              "      <td>6.038860</td>\n",
              "      <td>6.085891</td>\n",
              "      <td>6.102256</td>\n",
              "      <td>6.108532</td>\n",
              "      <td>6.219703</td>\n",
              "      <td>6.253468</td>\n",
              "      <td>6.269021</td>\n",
              "      <td>4.122496</td>\n",
              "      <td>2949.759108</td>\n",
              "      <td>61.338048</td>\n",
              "    </tr>\n",
              "    <tr>\n",
              "      <th>49996</th>\n",
              "      <td>0.910290</td>\n",
              "      <td>0.910332</td>\n",
              "      <td>0.910342</td>\n",
              "      <td>0.910568</td>\n",
              "      <td>0.912532</td>\n",
              "      <td>0.913510</td>\n",
              "      <td>0.914056</td>\n",
              "      <td>0.915070</td>\n",
              "      <td>0.915496</td>\n",
              "      <td>0.920794</td>\n",
              "      <td>0.922659</td>\n",
              "      <td>0.931632</td>\n",
              "      <td>0.934234</td>\n",
              "      <td>0.935204</td>\n",
              "      <td>0.938501</td>\n",
              "      <td>0.940863</td>\n",
              "      <td>0.947361</td>\n",
              "      <td>0.949331</td>\n",
              "      <td>0.949404</td>\n",
              "      <td>0.967056</td>\n",
              "      <td>0.971981</td>\n",
              "      <td>0.972188</td>\n",
              "      <td>0.976915</td>\n",
              "      <td>0.997527</td>\n",
              "      <td>0.997569</td>\n",
              "      <td>0.999382</td>\n",
              "      <td>1.002583</td>\n",
              "      <td>1.030621</td>\n",
              "      <td>1.032040</td>\n",
              "      <td>1.034725</td>\n",
              "      <td>1.038209</td>\n",
              "      <td>1.040127</td>\n",
              "      <td>1.042091</td>\n",
              "      <td>1.042372</td>\n",
              "      <td>1.046991</td>\n",
              "      <td>1.050937</td>\n",
              "      <td>1.054166</td>\n",
              "      <td>1.056911</td>\n",
              "      <td>1.057223</td>\n",
              "      <td>1.057570</td>\n",
              "      <td>...</td>\n",
              "      <td>4.910898</td>\n",
              "      <td>4.996901</td>\n",
              "      <td>5.022119</td>\n",
              "      <td>5.169784</td>\n",
              "      <td>5.179328</td>\n",
              "      <td>5.242008</td>\n",
              "      <td>5.454634</td>\n",
              "      <td>5.459680</td>\n",
              "      <td>5.460495</td>\n",
              "      <td>5.502913</td>\n",
              "      <td>5.597333</td>\n",
              "      <td>5.659587</td>\n",
              "      <td>5.729177</td>\n",
              "      <td>5.776700</td>\n",
              "      <td>5.790093</td>\n",
              "      <td>5.803805</td>\n",
              "      <td>5.852164</td>\n",
              "      <td>5.886311</td>\n",
              "      <td>5.888862</td>\n",
              "      <td>5.899767</td>\n",
              "      <td>5.930305</td>\n",
              "      <td>5.936660</td>\n",
              "      <td>5.940499</td>\n",
              "      <td>5.999136</td>\n",
              "      <td>6.007672</td>\n",
              "      <td>6.032659</td>\n",
              "      <td>6.057659</td>\n",
              "      <td>6.062430</td>\n",
              "      <td>6.067571</td>\n",
              "      <td>6.152387</td>\n",
              "      <td>6.157602</td>\n",
              "      <td>6.161447</td>\n",
              "      <td>6.169635</td>\n",
              "      <td>6.183506</td>\n",
              "      <td>6.229720</td>\n",
              "      <td>6.263364</td>\n",
              "      <td>6.270704</td>\n",
              "      <td>4.304270</td>\n",
              "      <td>1743.073514</td>\n",
              "      <td>50.960358</td>\n",
              "    </tr>\n",
              "    <tr>\n",
              "      <th>49997</th>\n",
              "      <td>0.586644</td>\n",
              "      <td>0.586776</td>\n",
              "      <td>0.586795</td>\n",
              "      <td>0.586901</td>\n",
              "      <td>0.587003</td>\n",
              "      <td>0.587587</td>\n",
              "      <td>0.591613</td>\n",
              "      <td>0.594711</td>\n",
              "      <td>0.597562</td>\n",
              "      <td>0.603858</td>\n",
              "      <td>0.605395</td>\n",
              "      <td>0.610209</td>\n",
              "      <td>0.620001</td>\n",
              "      <td>0.625687</td>\n",
              "      <td>0.626209</td>\n",
              "      <td>0.636987</td>\n",
              "      <td>0.640421</td>\n",
              "      <td>0.642318</td>\n",
              "      <td>0.646872</td>\n",
              "      <td>0.648170</td>\n",
              "      <td>0.650649</td>\n",
              "      <td>0.658559</td>\n",
              "      <td>0.661689</td>\n",
              "      <td>0.661790</td>\n",
              "      <td>0.666491</td>\n",
              "      <td>0.668950</td>\n",
              "      <td>0.670898</td>\n",
              "      <td>0.670932</td>\n",
              "      <td>0.672066</td>\n",
              "      <td>0.678887</td>\n",
              "      <td>0.685104</td>\n",
              "      <td>0.687331</td>\n",
              "      <td>0.688200</td>\n",
              "      <td>0.688923</td>\n",
              "      <td>0.691293</td>\n",
              "      <td>0.696127</td>\n",
              "      <td>0.696388</td>\n",
              "      <td>0.698145</td>\n",
              "      <td>0.701267</td>\n",
              "      <td>0.701424</td>\n",
              "      <td>...</td>\n",
              "      <td>5.108276</td>\n",
              "      <td>5.127739</td>\n",
              "      <td>5.227892</td>\n",
              "      <td>5.257026</td>\n",
              "      <td>5.270807</td>\n",
              "      <td>5.303375</td>\n",
              "      <td>5.332903</td>\n",
              "      <td>5.366171</td>\n",
              "      <td>5.405994</td>\n",
              "      <td>5.407792</td>\n",
              "      <td>5.409818</td>\n",
              "      <td>5.413021</td>\n",
              "      <td>5.451912</td>\n",
              "      <td>5.519271</td>\n",
              "      <td>5.543495</td>\n",
              "      <td>5.543712</td>\n",
              "      <td>5.566138</td>\n",
              "      <td>5.672679</td>\n",
              "      <td>5.689355</td>\n",
              "      <td>5.691150</td>\n",
              "      <td>5.694272</td>\n",
              "      <td>5.711496</td>\n",
              "      <td>5.721450</td>\n",
              "      <td>5.770779</td>\n",
              "      <td>5.787785</td>\n",
              "      <td>5.832358</td>\n",
              "      <td>5.842174</td>\n",
              "      <td>5.951822</td>\n",
              "      <td>5.955853</td>\n",
              "      <td>5.989454</td>\n",
              "      <td>6.056776</td>\n",
              "      <td>6.075804</td>\n",
              "      <td>6.086306</td>\n",
              "      <td>6.091723</td>\n",
              "      <td>6.149270</td>\n",
              "      <td>6.158542</td>\n",
              "      <td>6.278975</td>\n",
              "      <td>1.236705</td>\n",
              "      <td>2652.605001</td>\n",
              "      <td>48.681920</td>\n",
              "    </tr>\n",
              "    <tr>\n",
              "      <th>49998</th>\n",
              "      <td>0.644898</td>\n",
              "      <td>0.646495</td>\n",
              "      <td>0.648373</td>\n",
              "      <td>0.649100</td>\n",
              "      <td>0.651215</td>\n",
              "      <td>0.651268</td>\n",
              "      <td>0.651305</td>\n",
              "      <td>0.651601</td>\n",
              "      <td>0.651936</td>\n",
              "      <td>0.653408</td>\n",
              "      <td>0.654607</td>\n",
              "      <td>0.655012</td>\n",
              "      <td>0.655019</td>\n",
              "      <td>0.657257</td>\n",
              "      <td>0.659747</td>\n",
              "      <td>0.660921</td>\n",
              "      <td>0.663111</td>\n",
              "      <td>0.663552</td>\n",
              "      <td>0.664577</td>\n",
              "      <td>0.665603</td>\n",
              "      <td>0.665701</td>\n",
              "      <td>0.668933</td>\n",
              "      <td>0.670990</td>\n",
              "      <td>0.673819</td>\n",
              "      <td>0.673942</td>\n",
              "      <td>0.674585</td>\n",
              "      <td>0.674749</td>\n",
              "      <td>0.675051</td>\n",
              "      <td>0.677482</td>\n",
              "      <td>0.677718</td>\n",
              "      <td>0.678418</td>\n",
              "      <td>0.680482</td>\n",
              "      <td>0.681092</td>\n",
              "      <td>0.681226</td>\n",
              "      <td>0.682003</td>\n",
              "      <td>0.682094</td>\n",
              "      <td>0.682816</td>\n",
              "      <td>0.683787</td>\n",
              "      <td>0.683792</td>\n",
              "      <td>0.684316</td>\n",
              "      <td>...</td>\n",
              "      <td>4.791252</td>\n",
              "      <td>4.806562</td>\n",
              "      <td>4.933062</td>\n",
              "      <td>5.015943</td>\n",
              "      <td>5.020122</td>\n",
              "      <td>5.128187</td>\n",
              "      <td>5.135035</td>\n",
              "      <td>5.156354</td>\n",
              "      <td>5.166225</td>\n",
              "      <td>5.212851</td>\n",
              "      <td>5.227481</td>\n",
              "      <td>5.240392</td>\n",
              "      <td>5.245343</td>\n",
              "      <td>5.322665</td>\n",
              "      <td>5.343934</td>\n",
              "      <td>5.422659</td>\n",
              "      <td>5.493397</td>\n",
              "      <td>5.511559</td>\n",
              "      <td>5.512171</td>\n",
              "      <td>5.525491</td>\n",
              "      <td>5.591924</td>\n",
              "      <td>5.597788</td>\n",
              "      <td>5.604130</td>\n",
              "      <td>5.622519</td>\n",
              "      <td>5.783490</td>\n",
              "      <td>5.796063</td>\n",
              "      <td>5.867751</td>\n",
              "      <td>5.890577</td>\n",
              "      <td>5.895930</td>\n",
              "      <td>6.027386</td>\n",
              "      <td>6.031562</td>\n",
              "      <td>6.039119</td>\n",
              "      <td>6.111923</td>\n",
              "      <td>6.164214</td>\n",
              "      <td>6.197428</td>\n",
              "      <td>6.205821</td>\n",
              "      <td>6.229579</td>\n",
              "      <td>1.267398</td>\n",
              "      <td>1603.639302</td>\n",
              "      <td>53.421673</td>\n",
              "    </tr>\n",
              "    <tr>\n",
              "      <th>49999</th>\n",
              "      <td>0.592004</td>\n",
              "      <td>0.593309</td>\n",
              "      <td>0.593520</td>\n",
              "      <td>0.594089</td>\n",
              "      <td>0.594366</td>\n",
              "      <td>0.594452</td>\n",
              "      <td>0.595602</td>\n",
              "      <td>0.599017</td>\n",
              "      <td>0.600305</td>\n",
              "      <td>0.602857</td>\n",
              "      <td>0.603192</td>\n",
              "      <td>0.604647</td>\n",
              "      <td>0.606356</td>\n",
              "      <td>0.609111</td>\n",
              "      <td>0.611722</td>\n",
              "      <td>0.612152</td>\n",
              "      <td>0.618323</td>\n",
              "      <td>0.623819</td>\n",
              "      <td>0.626364</td>\n",
              "      <td>0.632660</td>\n",
              "      <td>0.637612</td>\n",
              "      <td>0.640900</td>\n",
              "      <td>0.645028</td>\n",
              "      <td>0.646308</td>\n",
              "      <td>0.649565</td>\n",
              "      <td>0.660481</td>\n",
              "      <td>0.668609</td>\n",
              "      <td>0.668941</td>\n",
              "      <td>0.670443</td>\n",
              "      <td>0.670822</td>\n",
              "      <td>0.672936</td>\n",
              "      <td>0.676517</td>\n",
              "      <td>0.677665</td>\n",
              "      <td>0.679043</td>\n",
              "      <td>0.679055</td>\n",
              "      <td>0.680717</td>\n",
              "      <td>0.680768</td>\n",
              "      <td>0.681716</td>\n",
              "      <td>0.682287</td>\n",
              "      <td>0.682819</td>\n",
              "      <td>...</td>\n",
              "      <td>4.758974</td>\n",
              "      <td>4.808215</td>\n",
              "      <td>4.853784</td>\n",
              "      <td>4.900183</td>\n",
              "      <td>4.901307</td>\n",
              "      <td>4.925324</td>\n",
              "      <td>4.996934</td>\n",
              "      <td>5.084057</td>\n",
              "      <td>5.118733</td>\n",
              "      <td>5.126677</td>\n",
              "      <td>5.204361</td>\n",
              "      <td>5.255058</td>\n",
              "      <td>5.285198</td>\n",
              "      <td>5.319554</td>\n",
              "      <td>5.342053</td>\n",
              "      <td>5.373407</td>\n",
              "      <td>5.553076</td>\n",
              "      <td>5.560371</td>\n",
              "      <td>5.564270</td>\n",
              "      <td>5.577858</td>\n",
              "      <td>5.579047</td>\n",
              "      <td>5.655629</td>\n",
              "      <td>5.670338</td>\n",
              "      <td>5.803566</td>\n",
              "      <td>5.946857</td>\n",
              "      <td>5.996128</td>\n",
              "      <td>6.030702</td>\n",
              "      <td>6.035705</td>\n",
              "      <td>6.052609</td>\n",
              "      <td>6.120562</td>\n",
              "      <td>6.128383</td>\n",
              "      <td>6.158242</td>\n",
              "      <td>6.169614</td>\n",
              "      <td>6.208726</td>\n",
              "      <td>6.213322</td>\n",
              "      <td>6.213363</td>\n",
              "      <td>6.246961</td>\n",
              "      <td>1.176737</td>\n",
              "      <td>2289.590544</td>\n",
              "      <td>44.265350</td>\n",
              "    </tr>\n",
              "  </tbody>\n",
              "</table>\n",
              "<p>5 rows × 353 columns</p>\n",
              "</div>"
            ],
            "text/plain": [
              "            rho       rho       rho  ...       vol           Ps         ST\n",
              "49995  0.769955  0.770697  0.771015  ...  4.122496  2949.759108  61.338048\n",
              "49996  0.910290  0.910332  0.910342  ...  4.304270  1743.073514  50.960358\n",
              "49997  0.586644  0.586776  0.586795  ...  1.236705  2652.605001  48.681920\n",
              "49998  0.644898  0.646495  0.648373  ...  1.267398  1603.639302  53.421673\n",
              "49999  0.592004  0.593309  0.593520  ...  1.176737  2289.590544  44.265350\n",
              "\n",
              "[5 rows x 353 columns]"
            ]
          },
          "metadata": {
            "tags": []
          },
          "execution_count": 7
        }
      ]
    },
    {
      "cell_type": "markdown",
      "metadata": {
        "id": "Cuym4yvk76vU"
      },
      "source": [
        "### Split the data into train and test\n",
        "\n",
        "Now split the dataset into a training set and a test set.\n",
        "\n",
        "We will use the test set in the final evaluation of our model."
      ]
    },
    {
      "cell_type": "code",
      "metadata": {
        "id": "qn-IGhUE7_1H"
      },
      "source": [
        "train_dataset = dataset.sample(frac=0.8,random_state=0)\n",
        "test_dataset = dataset.drop(train_dataset.index)"
      ],
      "execution_count": 8,
      "outputs": []
    },
    {
      "cell_type": "markdown",
      "metadata": {
        "id": "J4ubs136WLNp"
      },
      "source": [
        "### Inspect the data\n",
        "\n",
        "Have a quick look at the joint distribution of a few pairs of columns from the training set."
      ]
    },
    {
      "cell_type": "code",
      "metadata": {
        "id": "oRKO_x8gWKv-"
      },
      "source": [
        "#sns.pairplot(train_dataset[column_names], diag_kind=\"kde\")\n",
        "#plt.show()"
      ],
      "execution_count": 100,
      "outputs": []
    },
    {
      "cell_type": "markdown",
      "metadata": {
        "id": "gavKO_6DWRMP"
      },
      "source": [
        "Also look at the overall statistics:"
      ]
    },
    {
      "cell_type": "code",
      "metadata": {
        "id": "yi2FzC3T21jR",
        "colab": {
          "base_uri": "https://localhost:8080/",
          "height": 204
        },
        "outputId": "2bcde027-61db-4027-bc3b-3db6a1d0c8d7"
      },
      "source": [
        "train_stats = train_dataset.describe()\n",
        "train_stats.pop(\"ST\")\n",
        "train_stats = train_stats.transpose()\n",
        "train_stats.tail()"
      ],
      "execution_count": 9,
      "outputs": [
        {
          "output_type": "execute_result",
          "data": {
            "text/html": [
              "<div>\n",
              "<style scoped>\n",
              "    .dataframe tbody tr th:only-of-type {\n",
              "        vertical-align: middle;\n",
              "    }\n",
              "\n",
              "    .dataframe tbody tr th {\n",
              "        vertical-align: top;\n",
              "    }\n",
              "\n",
              "    .dataframe thead th {\n",
              "        text-align: right;\n",
              "    }\n",
              "</style>\n",
              "<table border=\"1\" class=\"dataframe\">\n",
              "  <thead>\n",
              "    <tr style=\"text-align: right;\">\n",
              "      <th></th>\n",
              "      <th>count</th>\n",
              "      <th>mean</th>\n",
              "      <th>std</th>\n",
              "      <th>min</th>\n",
              "      <th>25%</th>\n",
              "      <th>50%</th>\n",
              "      <th>75%</th>\n",
              "      <th>max</th>\n",
              "    </tr>\n",
              "  </thead>\n",
              "  <tbody>\n",
              "    <tr>\n",
              "      <th>theta</th>\n",
              "      <td>40000.0</td>\n",
              "      <td>6.175714</td>\n",
              "      <td>0.061666</td>\n",
              "      <td>5.723014</td>\n",
              "      <td>6.142582</td>\n",
              "      <td>6.187360</td>\n",
              "      <td>6.221265</td>\n",
              "      <td>6.279944</td>\n",
              "    </tr>\n",
              "    <tr>\n",
              "      <th>theta</th>\n",
              "      <td>40000.0</td>\n",
              "      <td>6.211345</td>\n",
              "      <td>0.050389</td>\n",
              "      <td>5.784634</td>\n",
              "      <td>6.186631</td>\n",
              "      <td>6.222927</td>\n",
              "      <td>6.248485</td>\n",
              "      <td>6.282994</td>\n",
              "    </tr>\n",
              "    <tr>\n",
              "      <th>theta</th>\n",
              "      <td>40000.0</td>\n",
              "      <td>6.247140</td>\n",
              "      <td>0.036106</td>\n",
              "      <td>5.881016</td>\n",
              "      <td>6.233363</td>\n",
              "      <td>6.258140</td>\n",
              "      <td>6.272757</td>\n",
              "      <td>6.283185</td>\n",
              "    </tr>\n",
              "    <tr>\n",
              "      <th>vol</th>\n",
              "      <td>40000.0</td>\n",
              "      <td>2.993887</td>\n",
              "      <td>1.156878</td>\n",
              "      <td>1.000098</td>\n",
              "      <td>1.990977</td>\n",
              "      <td>3.001585</td>\n",
              "      <td>3.988465</td>\n",
              "      <td>4.999951</td>\n",
              "    </tr>\n",
              "    <tr>\n",
              "      <th>Ps</th>\n",
              "      <td>40000.0</td>\n",
              "      <td>2373.253692</td>\n",
              "      <td>464.643971</td>\n",
              "      <td>1568.182053</td>\n",
              "      <td>1971.343760</td>\n",
              "      <td>2373.426865</td>\n",
              "      <td>2775.682721</td>\n",
              "      <td>3176.999201</td>\n",
              "    </tr>\n",
              "  </tbody>\n",
              "</table>\n",
              "</div>"
            ],
            "text/plain": [
              "         count         mean         std  ...          50%          75%          max\n",
              "theta  40000.0     6.175714    0.061666  ...     6.187360     6.221265     6.279944\n",
              "theta  40000.0     6.211345    0.050389  ...     6.222927     6.248485     6.282994\n",
              "theta  40000.0     6.247140    0.036106  ...     6.258140     6.272757     6.283185\n",
              "vol    40000.0     2.993887    1.156878  ...     3.001585     3.988465     4.999951\n",
              "Ps     40000.0  2373.253692  464.643971  ...  2373.426865  2775.682721  3176.999201\n",
              "\n",
              "[5 rows x 8 columns]"
            ]
          },
          "metadata": {
            "tags": []
          },
          "execution_count": 9
        }
      ]
    },
    {
      "cell_type": "markdown",
      "metadata": {
        "id": "Db7Auq1yXUvh"
      },
      "source": [
        "### Split features from labels\n",
        "\n",
        "Separate the target value, or \"label\", from the features. This label is the value that you will train the model to predict."
      ]
    },
    {
      "cell_type": "code",
      "metadata": {
        "id": "t2sluJdCW7jN"
      },
      "source": [
        "train_labels = train_dataset.pop('ST')\n",
        "test_labels = test_dataset.pop('ST')"
      ],
      "execution_count": 10,
      "outputs": []
    },
    {
      "cell_type": "markdown",
      "metadata": {
        "id": "mRklxK5s388r"
      },
      "source": [
        "### Normalize the data\n",
        "\n",
        "Look again at the `train_stats` block above and note how different the ranges of each feature are."
      ]
    },
    {
      "cell_type": "markdown",
      "metadata": {
        "id": "-ywmerQ6dSox"
      },
      "source": [
        "It is good practice to normalize features that use different scales and ranges. Although the model *might* converge without feature normalization, it makes training more difficult, and it makes the resulting model dependent on the choice of units used in the input.\n",
        "\n",
        "Note: Although we intentionally generate these statistics from only the training dataset, these statistics will also be used to normalize the test dataset. We need to do that to project the test dataset into the same distribution that the model has been trained on."
      ]
    },
    {
      "cell_type": "markdown",
      "metadata": {
        "id": "FnxcF5nL7u3r"
      },
      "source": [
        "### Min-Max normalization"
      ]
    },
    {
      "cell_type": "code",
      "metadata": {
        "id": "Yemp8bAu7xo5"
      },
      "source": [
        "def min_max_norm(x):\n",
        "  return (x-train_stats['min'])/(train_stats['max']-train_stats['min'])\n",
        "\n",
        "normed_train_data = min_max_norm(train_dataset)\n",
        "normed_test_data  = min_max_norm(test_dataset)\n"
      ],
      "execution_count": 11,
      "outputs": []
    },
    {
      "cell_type": "markdown",
      "metadata": {
        "id": "jFpeCy1J7yOG"
      },
      "source": [
        "### Standard normalization"
      ]
    },
    {
      "cell_type": "code",
      "metadata": {
        "id": "JlC5ooJrgjQF"
      },
      "source": [
        "def std_norm(x):\n",
        "  return (x - train_stats['mean']) / train_stats['std']\n",
        "normed_train_data = std_norm(train_dataset)\n",
        "normed_test_data  = std_norm(test_dataset)\n"
      ],
      "execution_count": null,
      "outputs": []
    },
    {
      "cell_type": "markdown",
      "metadata": {
        "id": "BuiClDk45eS4"
      },
      "source": [
        "This normalized data is what we will use to train the model.\n",
        "\n",
        "Caution: The statistics used to normalize the inputs here (mean and standard deviation) need to be applied to any other data that is fed to the model, along with the one-hot encoding that we did earlier.  That includes the test set as well as live data when the model is used in production."
      ]
    },
    {
      "cell_type": "markdown",
      "metadata": {
        "id": "SmjdzxKzEu1-"
      },
      "source": [
        "## The model"
      ]
    },
    {
      "cell_type": "markdown",
      "metadata": {
        "id": "6SWtkIjhrZwa"
      },
      "source": [
        "### Build the model\n",
        "\n",
        "Let's build our model. Here, we'll use a `Sequential` model with two densely connected hidden layers, and an output layer that returns a single, continuous value. The model building steps are wrapped in a function, `build_model`, since we'll create a second model, later on."
      ]
    },
    {
      "cell_type": "markdown",
      "metadata": {
        "id": "VULFJK5Vdk2l"
      },
      "source": [
        "###Learning Schedule\n",
        "The code bellow sets a schedules.InverseTimeDecay to hyperbolically decrease the learning rate to 1/2 of the base rate at 1000 epochs, 1/3 at 2000 epochs and so on."
      ]
    },
    {
      "cell_type": "code",
      "metadata": {
        "id": "BVEwu5szdhtt"
      },
      "source": [
        "#Lr_schedule = learning schedule : Most models learn better if you gradually decrase the learning rate.\n",
        "\n",
        "STEPS_PER_EPOCH=len(train_dataset)/500\n",
        "lr_schedule = tf.keras.optimizers.schedules.InverseTimeDecay(\n",
        "  0.001,\n",
        "  decay_steps=STEPS_PER_EPOCH*1000,\n",
        "  decay_rate=1,\n",
        "  staircase=False)\n"
      ],
      "execution_count": null,
      "outputs": []
    },
    {
      "cell_type": "markdown",
      "metadata": {
        "id": "gB91psdOdj_d"
      },
      "source": [
        "Here we can plot the learning rate Vs the number of epocs"
      ]
    },
    {
      "cell_type": "code",
      "metadata": {
        "id": "MfTIU-90dkJC",
        "colab": {
          "base_uri": "https://localhost:8080/",
          "height": 279
        },
        "outputId": "d6cc4219-70b6-4a63-81cf-d58b6d94a380"
      },
      "source": [
        "step = np.linspace(0,100000)\n",
        "lr = lr_schedule(step)\n",
        "plt.figure()\n",
        "plt.plot(step/STEPS_PER_EPOCH, lr)\n",
        "plt.ylim([min(plt.ylim()),max(plt.ylim())])\n",
        "plt.xlabel('Epoch')\n",
        "_ = plt.ylabel('Learning Rate')"
      ],
      "execution_count": null,
      "outputs": [
        {
          "output_type": "display_data",
          "data": {
            "image/png": "[encoded data removed]",
            "text/plain": [
              "<Figure size 432x288 with 1 Axes>"
            ]
          },
          "metadata": {
            "tags": [],
            "needs_background": "light"
          }
        }
      ]
    },
    {
      "cell_type": "code",
      "metadata": {
        "id": "c26juK7ZG8j-"
      },
      "source": [
        "def build_model():\n",
        "  model = keras.Sequential([\n",
        "    layers.Dense(50, activation=tf.nn.softplus, input_shape=[len(train_dataset.keys())]), #kernel_regularizer='l2', \n",
        "    # layers.Dense(50, activation=tf.nn.softplus, kernel_regularizer='l2'),\n",
        "    # layers.Dense(25, activation=tf.nn.softplus),\n",
        "    layers.Dense(1)\n",
        "  ])\n",
        "\n",
        "  optimizer = get_optimizer() # tf.keras.optimizers.Adam(learning_rate=0.001) #RMSprop(0.0001)\n",
        "  model.compile(loss='mean_squared_error',\n",
        "                optimizer=optimizer,\n",
        "                metrics=['mean_absolute_error', 'mean_squared_error'])\n",
        "  return model\n",
        "\n",
        "def get_optimizer():\n",
        "  return tf.keras.optimizers.Adam()"
      ],
      "execution_count": 32,
      "outputs": []
    },
    {
      "cell_type": "code",
      "metadata": {
        "id": "cGbPb-PHGbhs"
      },
      "source": [
        "model = build_model()"
      ],
      "execution_count": 33,
      "outputs": []
    },
    {
      "cell_type": "markdown",
      "metadata": {
        "id": "AUx4uYxk0GEJ"
      },
      "source": [
        "## If there is a model saved on google drive execute the next block"
      ]
    },
    {
      "cell_type": "code",
      "metadata": {
        "id": "68AWXTSRObgp"
      },
      "source": [
        "from google.colab import drive\n",
        "drive.mount('/content/drive')"
      ],
      "execution_count": null,
      "outputs": []
    },
    {
      "cell_type": "code",
      "metadata": {
        "id": "y3Ir9yi8z0VA"
      },
      "source": [
        "from tensorflow.keras.models import load_model\n",
        "\n",
        "# del model \n",
        "\n",
        "folder=str('theoretical_all_vary/')\n",
        "\n",
        "model_name=str('CNN_model_all_vary_with_Ps_noise_Ps_1200_2300_2_5μL_25_72mN_m_no_noise_only_contours_1.h5')\n",
        "\n",
        "model = load_model(str(\"/content/drive/My Drive/DropLev/MachineLearningModels/\"+folder+model_name))\n"
      ],
      "execution_count": 34,
      "outputs": []
    },
    {
      "cell_type": "markdown",
      "metadata": {
        "id": "Sj49Og4YGULr"
      },
      "source": [
        "### Inspect the model\n",
        "\n",
        "Use the `.summary` method to print a simple description of the model"
      ]
    },
    {
      "cell_type": "code",
      "metadata": {
        "id": "ReAD0n6MsFK-",
        "colab": {
          "base_uri": "https://localhost:8080/"
        },
        "outputId": "5f12abd7-415c-450c-a9d2-4fd27a4f658f"
      },
      "source": [
        "model.summary()"
      ],
      "execution_count": 34,
      "outputs": [
        {
          "output_type": "stream",
          "text": [
            "Model: \"sequential_2\"\n",
            "_________________________________________________________________\n",
            "Layer (type)                 Output Shape              Param #   \n",
            "=================================================================\n",
            "dense_6 (Dense)              (None, 50)                17650     \n",
            "_________________________________________________________________\n",
            "dense_7 (Dense)              (None, 1)                 51        \n",
            "=================================================================\n",
            "Total params: 17,701\n",
            "Trainable params: 17,701\n",
            "Non-trainable params: 0\n",
            "_________________________________________________________________\n"
          ],
          "name": "stdout"
        }
      ]
    },
    {
      "cell_type": "code",
      "metadata": {
        "id": "cSK7djKwUxOw"
      },
      "source": [
        "model.get_config()"
      ],
      "execution_count": null,
      "outputs": []
    },
    {
      "cell_type": "code",
      "metadata": {
        "id": "o7xSRZUma5N3"
      },
      "source": [
        "model.get_weights()"
      ],
      "execution_count": null,
      "outputs": []
    },
    {
      "cell_type": "markdown",
      "metadata": {
        "id": "Vt6W50qGsJAL"
      },
      "source": [
        "\n",
        "Now try out the model. Take a batch of `10` examples from the training data and call `model.predict` on it."
      ]
    },
    {
      "cell_type": "code",
      "metadata": {
        "id": "-d-gBaVtGTSC",
        "colab": {
          "base_uri": "https://localhost:8080/"
        },
        "outputId": "286fe250-0264-490f-fccb-2e6d059f60d1"
      },
      "source": [
        "example_batch = normed_train_data[:10]\n",
        "example_result = model.predict(example_batch)\n",
        "example_result"
      ],
      "execution_count": 35,
      "outputs": [
        {
          "output_type": "execute_result",
          "data": {
            "text/plain": [
              "array([[0.73060024],\n",
              "       [0.7499907 ],\n",
              "       [0.96188337],\n",
              "       [1.0085232 ],\n",
              "       [0.6722271 ],\n",
              "       [0.8482301 ],\n",
              "       [0.7335545 ],\n",
              "       [0.8642136 ],\n",
              "       [0.93607235],\n",
              "       [0.86500275]], dtype=float32)"
            ]
          },
          "metadata": {
            "tags": []
          },
          "execution_count": 35
        }
      ]
    },
    {
      "cell_type": "markdown",
      "metadata": {
        "id": "QlM8KrSOsaYo"
      },
      "source": [
        "It seems to be working, and it produces a result of the expected shape and type."
      ]
    },
    {
      "cell_type": "markdown",
      "metadata": {
        "id": "0-qWCsh6DlyH"
      },
      "source": [
        "### Train the model\n",
        "\n",
        "Train the model for 1000 epochs, and record the training and validation accuracy in the `history` object."
      ]
    },
    {
      "cell_type": "code",
      "metadata": {
        "id": "fdMZuhUgzMZ4",
        "colab": {
          "base_uri": "https://localhost:8080/"
        },
        "outputId": "ade46bc3-02da-4a62-f5c8-062eab96d6fa"
      },
      "source": [
        "# Display training progress by printing a single dot for each completed epoch\n",
        "class PrintDot(keras.callbacks.Callback):\n",
        "  def on_epoch_end(self, epoch, logs):\n",
        "    if epoch % 100 == 0: print('')\n",
        "    print('.', end='')\n",
        "\n",
        "EPOCHS = 1000\n",
        "\n",
        "# The patience parameter is the amount of epochs to check for improvement\n",
        "early_stop = keras.callbacks.EarlyStopping(monitor='val_loss', patience=20, min_delta=0)\n",
        "\n",
        "history = model.fit(normed_train_data, train_labels, epochs=EPOCHS,\n",
        "                    validation_split = 0.2, verbose=0, callbacks=[early_stop, PrintDot()])\n"
      ],
      "execution_count": 36,
      "outputs": [
        {
          "output_type": "stream",
          "text": [
            "\n",
            "....................................................................................................\n",
            "............................................................."
          ],
          "name": "stdout"
        }
      ]
    },
    {
      "cell_type": "markdown",
      "metadata": {
        "id": "tQm3pc0FYPQB"
      },
      "source": [
        "Visualize the model's training progress using the stats stored in the `history` object."
      ]
    },
    {
      "cell_type": "code",
      "metadata": {
        "id": "IHtfi4xlXiHy",
        "colab": {
          "base_uri": "https://localhost:8080/",
          "height": 204
        },
        "outputId": "67cdde70-513d-45ce-cdb1-2acc0bce0934"
      },
      "source": [
        "hist = pd.DataFrame(history.history)\n",
        "hist['epoch'] = history.epoch\n",
        "hist.tail() "
      ],
      "execution_count": 37,
      "outputs": [
        {
          "output_type": "execute_result",
          "data": {
            "text/html": [
              "<div>\n",
              "<style scoped>\n",
              "    .dataframe tbody tr th:only-of-type {\n",
              "        vertical-align: middle;\n",
              "    }\n",
              "\n",
              "    .dataframe tbody tr th {\n",
              "        vertical-align: top;\n",
              "    }\n",
              "\n",
              "    .dataframe thead th {\n",
              "        text-align: right;\n",
              "    }\n",
              "</style>\n",
              "<table border=\"1\" class=\"dataframe\">\n",
              "  <thead>\n",
              "    <tr style=\"text-align: right;\">\n",
              "      <th></th>\n",
              "      <th>loss</th>\n",
              "      <th>mean_absolute_error</th>\n",
              "      <th>mean_squared_error</th>\n",
              "      <th>val_loss</th>\n",
              "      <th>val_mean_absolute_error</th>\n",
              "      <th>val_mean_squared_error</th>\n",
              "      <th>epoch</th>\n",
              "    </tr>\n",
              "  </thead>\n",
              "  <tbody>\n",
              "    <tr>\n",
              "      <th>156</th>\n",
              "      <td>1.174717</td>\n",
              "      <td>0.859310</td>\n",
              "      <td>1.174717</td>\n",
              "      <td>1.077910</td>\n",
              "      <td>0.822867</td>\n",
              "      <td>1.077910</td>\n",
              "      <td>156</td>\n",
              "    </tr>\n",
              "    <tr>\n",
              "      <th>157</th>\n",
              "      <td>1.126401</td>\n",
              "      <td>0.841745</td>\n",
              "      <td>1.126401</td>\n",
              "      <td>1.130152</td>\n",
              "      <td>0.846025</td>\n",
              "      <td>1.130152</td>\n",
              "      <td>157</td>\n",
              "    </tr>\n",
              "    <tr>\n",
              "      <th>158</th>\n",
              "      <td>1.202917</td>\n",
              "      <td>0.867480</td>\n",
              "      <td>1.202917</td>\n",
              "      <td>2.874027</td>\n",
              "      <td>1.425847</td>\n",
              "      <td>2.874027</td>\n",
              "      <td>158</td>\n",
              "    </tr>\n",
              "    <tr>\n",
              "      <th>159</th>\n",
              "      <td>1.106210</td>\n",
              "      <td>0.834376</td>\n",
              "      <td>1.106210</td>\n",
              "      <td>1.009661</td>\n",
              "      <td>0.799190</td>\n",
              "      <td>1.009661</td>\n",
              "      <td>159</td>\n",
              "    </tr>\n",
              "    <tr>\n",
              "      <th>160</th>\n",
              "      <td>1.178929</td>\n",
              "      <td>0.861310</td>\n",
              "      <td>1.178929</td>\n",
              "      <td>1.048194</td>\n",
              "      <td>0.812736</td>\n",
              "      <td>1.048194</td>\n",
              "      <td>160</td>\n",
              "    </tr>\n",
              "  </tbody>\n",
              "</table>\n",
              "</div>"
            ],
            "text/plain": [
              "         loss  mean_absolute_error  ...  val_mean_squared_error  epoch\n",
              "156  1.174717             0.859310  ...                1.077910    156\n",
              "157  1.126401             0.841745  ...                1.130152    157\n",
              "158  1.202917             0.867480  ...                2.874027    158\n",
              "159  1.106210             0.834376  ...                1.009661    159\n",
              "160  1.178929             0.861310  ...                1.048194    160\n",
              "\n",
              "[5 rows x 7 columns]"
            ]
          },
          "metadata": {
            "tags": []
          },
          "execution_count": 37
        }
      ]
    },
    {
      "cell_type": "code",
      "metadata": {
        "id": "VPI7VDvrXvJb",
        "colab": {
          "base_uri": "https://localhost:8080/",
          "height": 549
        },
        "outputId": "721478a2-42de-4e82-edac-083cd0e37064"
      },
      "source": [
        "def plot_history(history):\n",
        "  hist = pd.DataFrame(history.history)\n",
        "  hist['epoch'] = history.epoch\n",
        "\n",
        "  plt.figure()\n",
        "  plt.xlabel('Epoch')\n",
        "  plt.ylabel('Mean Abs Error [ST]')\n",
        "  plt.plot(hist['epoch'], hist['mean_absolute_error'],\n",
        "           label='Train Error')\n",
        "  plt.plot(hist['epoch'], hist['val_mean_absolute_error'],\n",
        "           label = 'Val Error')\n",
        "  plt.ylim([0,5])\n",
        "  plt.legend()\n",
        "\n",
        "  plt.figure()\n",
        "  plt.xlabel('Epoch')\n",
        "  plt.ylabel('Mean Square Error [$ST^2$]')\n",
        "  plt.plot(hist['epoch'], hist['mean_squared_error'],\n",
        "           label='Train Error')\n",
        "  plt.plot(hist['epoch'], hist['val_mean_squared_error'],\n",
        "           label = 'Val Error')\n",
        "  plt.ylim([0,10])\n",
        "  plt.legend()\n",
        "  plt.show()\n",
        "\n",
        "\n",
        "plot_history(history)"
      ],
      "execution_count": 38,
      "outputs": [
        {
          "output_type": "display_data",
          "data": {
            "image/png": "[encoded data removed]",
            "text/plain": [
              "<Figure size 432x288 with 1 Axes>"
            ]
          },
          "metadata": {
            "tags": [],
            "needs_background": "light"
          }
        },
        {
          "output_type": "display_data",
          "data": {
            "image/png": "[encoded data removed]",
            "text/plain": [
              "<Figure size 432x288 with 1 Axes>"
            ]
          },
          "metadata": {
            "tags": [],
            "needs_background": "light"
          }
        }
      ]
    },
    {
      "cell_type": "markdown",
      "metadata": {
        "id": "3St8-DmrX8P4"
      },
      "source": [
        "The graph shows that on the validation set, the average error is usually around +/- 2 MPG. Is this good? We'll leave that decision up to you.\n",
        "\n",
        "Let's see how well the model generalizes by using the **test** set, which we did not use when training the model.  This tells us how well we can expect the model to predict when we use it in the real world."
      ]
    },
    {
      "cell_type": "code",
      "metadata": {
        "id": "jl_yNr5n1kms",
        "colab": {
          "base_uri": "https://localhost:8080/"
        },
        "outputId": "c7060c29-805a-4295-8249-2138c1efc03d"
      },
      "source": [
        "loss, mae, mse = model.evaluate(normed_test_data, test_labels, verbose=0)\n",
        "\n",
        "print(\"Testing set Mean Abs Error: {:5.2f} mN/m\".format(mae))"
      ],
      "execution_count": 39,
      "outputs": [
        {
          "output_type": "stream",
          "text": [
            "Testing set Mean Abs Error:  0.83 mN/m\n"
          ],
          "name": "stdout"
        }
      ]
    },
    {
      "cell_type": "markdown",
      "metadata": {
        "id": "ft603OzXuEZC"
      },
      "source": [
        "### Make predictions\n",
        "\n",
        "Finally, predict ST values using data in the testing set:"
      ]
    },
    {
      "cell_type": "code",
      "metadata": {
        "id": "Xe7RXH3N3CWU",
        "colab": {
          "base_uri": "https://localhost:8080/",
          "height": 573
        },
        "outputId": "828a0114-de3d-40fd-9a96-3bc7f6ea6967"
      },
      "source": [
        "test_predictions = model.predict(normed_test_data).flatten()\n",
        "\n",
        "plt.scatter(test_labels, test_predictions)\n",
        "plt.title('Normalized test data')\n",
        "plt.xlabel('True Values [surface tension - mN/m]')\n",
        "plt.ylabel('Predictions [surface tension - mN/m]')\n",
        "plt.axis('equal')\n",
        "plt.axis('square')\n",
        "plt.xlim([10,80])\n",
        "plt.ylim([10,80])\n",
        "_ = plt.plot([-100, 100], [-100, 100])\n",
        "plt.show()\n",
        "\n",
        "test_predictions2 = model.predict(normed_train_data).flatten()\n",
        "\n",
        "plt.scatter(train_labels, test_predictions2)\n",
        "plt.title('Normalized training data')\n",
        "plt.xlabel('True Values [surface tension - mN/m]')\n",
        "plt.ylabel('Predictions [surface tension - mN/m]')\n",
        "plt.axis('equal')\n",
        "plt.axis('square')\n",
        "plt.xlim([10,80])\n",
        "plt.ylim([10,80])\n",
        "_ = plt.plot([-100, 100], [-100, 100])\n",
        "plt.show()\n",
        "\n",
        "# plt.figure()\n",
        "# plt.xlabel('Image')\n",
        "# plt.ylabel('Surface tension [ mN/m ]')\n",
        "# plt.ylim(30, 75)\n",
        "# plt.plot(test_predictions[0:2000], label='Predicted test instances')\n",
        "# plt.plot(range(len(test_labels)-18000), test_labels[0:2000], '--', label='Real test instances')\n",
        "# plt.legend()\n"
      ],
      "execution_count": 40,
      "outputs": [
        {
          "output_type": "display_data",
          "data": {
            "image/png": "[encoded data removed]",
            "text/plain": [
              "<Figure size 432x288 with 1 Axes>"
            ]
          },
          "metadata": {
            "tags": [],
            "needs_background": "light"
          }
        },
        {
          "output_type": "display_data",
          "data": {
            "image/png": "[encoded data removed]",
            "text/plain": [
              "<Figure size 432x288 with 1 Axes>"
            ]
          },
          "metadata": {
            "tags": [],
            "needs_background": "light"
          }
        }
      ]
    },
    {
      "cell_type": "markdown",
      "metadata": {
        "id": "OrkHGKZcusUo"
      },
      "source": [
        "Seriously?"
      ]
    },
    {
      "cell_type": "code",
      "metadata": {
        "id": "f-OHX4DiXd8x",
        "colab": {
          "base_uri": "https://localhost:8080/",
          "height": 279
        },
        "outputId": "c5224b4a-4437-47e5-a882-11731dcc8ae8"
      },
      "source": [
        "error = test_predictions - test_labels\n",
        "plt.hist(error, bins = 50)\n",
        "plt.xlabel(\"Prediction Error [mN/m]\")\n",
        "_ = plt.ylabel(\"Count\")\n",
        "# plt.xlim(-4, 6)\n",
        "# plt.ylim(0, 10)\n",
        "plt.show()"
      ],
      "execution_count": 41,
      "outputs": [
        {
          "output_type": "display_data",
          "data": {
            "image/png": "[encoded data removed]",
            "text/plain": [
              "<Figure size 432x288 with 1 Axes>"
            ]
          },
          "metadata": {
            "tags": [],
            "needs_background": "light"
          }
        }
      ]
    },
    {
      "cell_type": "markdown",
      "metadata": {
        "id": "izbMDBoshgNz"
      },
      "source": [
        "# Saving the final Model"
      ]
    },
    {
      "cell_type": "markdown",
      "metadata": {
        "id": "caflPo2mhgN8"
      },
      "source": [
        "When you are satisfied with the model and the accuracy continue from here:"
      ]
    },
    {
      "cell_type": "markdown",
      "metadata": {
        "id": "iquUCcQhhgN9"
      },
      "source": [
        "Run the next code box only if google drive is not mounted to colab"
      ]
    },
    {
      "cell_type": "code",
      "metadata": {
        "colab": {
          "base_uri": "https://localhost:8080/"
        },
        "id": "sjhZO2GshgN9",
        "outputId": "07d18a8e-8892-43db-f8ac-18e6e54dd284"
      },
      "source": [
        "from google.colab import drive\n",
        "drive.mount('/content/drive')"
      ],
      "execution_count": null,
      "outputs": [
        {
          "output_type": "stream",
          "text": [
            "Mounted at /content/drive\n"
          ],
          "name": "stdout"
        }
      ]
    },
    {
      "cell_type": "markdown",
      "metadata": {
        "id": "0ybZbCZGhgN_"
      },
      "source": [
        "Saving the model in a **SavedModel** format"
      ]
    },
    {
      "cell_type": "code",
      "metadata": {
        "id": "uRUuQvLahgOA"
      },
      "source": [
        "!pip install -q pyyaml h5py  # Required to save models in HDF5 format"
      ],
      "execution_count": null,
      "outputs": []
    },
    {
      "cell_type": "code",
      "metadata": {
        "id": "roMH1XhthgOA"
      },
      "source": [
        "import os"
      ],
      "execution_count": null,
      "outputs": []
    },
    {
      "cell_type": "code",
      "metadata": {
        "id": "llchoImChgOB"
      },
      "source": [
        "# Save the entire model as a SavedModel.\n",
        "folder=str('theoretical_all_vary/')\n",
        "filename=str('model_all_vary_Ps_1568_3177_1_5μL_37_72.4mNm_MSE_0_18_great_error_distr.h5')\n",
        "#!mkdir -p '/content/drive/My Drive/DropLev/MachineLearningModels' #Ceates a folder named \"MachineLearningModels\"\n",
        "model.save('/content/drive/My Drive/DropLev/MachineLearningModels/'+folder+filename)  #Saves the file"
      ],
      "execution_count": null,
      "outputs": []
    },
    {
      "cell_type": "markdown",
      "metadata": {
        "id": "9fyk10HWGv-w"
      },
      "source": [
        "### Try out a different model"
      ]
    },
    {
      "cell_type": "code",
      "metadata": {
        "id": "J6EaoxCXGmlQ"
      },
      "source": [
        "def build_model():\n",
        "  model = keras.Sequential([\n",
        "    layers.Dense(200, activation=tf.nn.softplus, input_shape=[len(train_dataset.keys())]),\n",
        "    layers.Dense(100, activation=tf.nn.swish), # input_shape=[len(train_dataset.keys())]),\n",
        "    layers.Dense(50, activation=tf.nn.softplus),\n",
        "    layers.Dense(5, activation=tf.nn.swish),\n",
        "    layers.Dense(1)\n",
        "  ])\n",
        "\n",
        "  optimizer = get_optimizer() # tf.keras.optimizers.Adam(learning_rate=0.001) #RMSprop(0.0001)\n",
        "  model.compile(loss='mean_squared_error',\n",
        "                optimizer=optimizer,\n",
        "                metrics=['mean_absolute_error', 'mean_squared_error'])\n",
        "  return model"
      ],
      "execution_count": null,
      "outputs": []
    },
    {
      "cell_type": "code",
      "metadata": {
        "id": "8FnUsVd1Gmli"
      },
      "source": [
        "model_big = build_model()"
      ],
      "execution_count": null,
      "outputs": []
    },
    {
      "cell_type": "markdown",
      "metadata": {
        "id": "yLcQNtUhGmll"
      },
      "source": [
        "## If there is a model saved on google drive execute the next block"
      ]
    },
    {
      "cell_type": "code",
      "metadata": {
        "id": "uWsiP4rRGmlm"
      },
      "source": [
        "from tensorflow.keras.models import load_model\n",
        "\n",
        "del model \n",
        "\n",
        "model_name=str('test_training_whole_drop_3μL_best_175points_noise_0.004_vol_6.h5')\n",
        "model = load_model(str(\"/content/drive/My Drive/DropLev/MachineLearningModels/\"+model_name))\n"
      ],
      "execution_count": null,
      "outputs": []
    },
    {
      "cell_type": "markdown",
      "metadata": {
        "id": "my3o3TCOGmlp"
      },
      "source": [
        "### Inspect the model\n",
        "\n",
        "Use the `.summary` method to print a simple description of the model"
      ]
    },
    {
      "cell_type": "code",
      "metadata": {
        "id": "q1U3c9_VGmlp",
        "colab": {
          "base_uri": "https://localhost:8080/"
        },
        "outputId": "25400a35-f98f-4c61-a44f-b71627199c38"
      },
      "source": [
        "model_big.summary()"
      ],
      "execution_count": null,
      "outputs": [
        {
          "output_type": "stream",
          "text": [
            "Model: \"sequential\"\n",
            "_________________________________________________________________\n",
            "Layer (type)                 Output Shape              Param #   \n",
            "=================================================================\n",
            "dense (Dense)                (None, 200)               70200     \n",
            "_________________________________________________________________\n",
            "dense_1 (Dense)              (None, 100)               20100     \n",
            "_________________________________________________________________\n",
            "dense_2 (Dense)              (None, 50)                5050      \n",
            "_________________________________________________________________\n",
            "dense_3 (Dense)              (None, 5)                 255       \n",
            "_________________________________________________________________\n",
            "dense_4 (Dense)              (None, 1)                 6         \n",
            "=================================================================\n",
            "Total params: 95,611\n",
            "Trainable params: 95,611\n",
            "Non-trainable params: 0\n",
            "_________________________________________________________________\n"
          ],
          "name": "stdout"
        }
      ]
    },
    {
      "cell_type": "markdown",
      "metadata": {
        "id": "VIjVtYyyGmls"
      },
      "source": [
        "\n",
        "Now try out the model. Take a batch of `10` examples from the training data and call `model.predict` on it."
      ]
    },
    {
      "cell_type": "code",
      "metadata": {
        "id": "G5_MGnAzGmlt",
        "colab": {
          "base_uri": "https://localhost:8080/"
        },
        "outputId": "56f55137-ab18-459d-94c5-54683e5b7950"
      },
      "source": [
        "example_batch = normed_train_data[:10]\n",
        "example_result = model_big.predict(example_batch)\n",
        "example_result"
      ],
      "execution_count": null,
      "outputs": [
        {
          "output_type": "execute_result",
          "data": {
            "text/plain": [
              "array([[0.4646791 ],\n",
              "       [0.46449545],\n",
              "       [0.44632238],\n",
              "       [0.4460677 ],\n",
              "       [0.4428678 ],\n",
              "       [0.46233898],\n",
              "       [0.44848484],\n",
              "       [0.48535466],\n",
              "       [0.44410846],\n",
              "       [0.50217676]], dtype=float32)"
            ]
          },
          "metadata": {
            "tags": []
          },
          "execution_count": 15
        }
      ]
    },
    {
      "cell_type": "markdown",
      "metadata": {
        "id": "HvdF7VgzGmlw"
      },
      "source": [
        "It seems to be working, and it produces a result of the expected shape and type."
      ]
    },
    {
      "cell_type": "markdown",
      "metadata": {
        "id": "MP5Bz5BzGmlx"
      },
      "source": [
        "### Train the model\n",
        "\n",
        "Train the model for 1000 epochs, and record the training and validation accuracy in the `history` object."
      ]
    },
    {
      "cell_type": "code",
      "metadata": {
        "id": "8iG9JR5NGmlx",
        "colab": {
          "base_uri": "https://localhost:8080/"
        },
        "outputId": "8fe8bea0-3709-4e56-8dc9-56cb2a453c15"
      },
      "source": [
        "# Display training progress by printing a single dot for each completed epoch\n",
        "class PrintDot(keras.callbacks.Callback):\n",
        "  def on_epoch_end(self, epoch, logs):\n",
        "    if epoch % 100 == 0: print('')\n",
        "    print('.', end='')\n",
        "\n",
        "EPOCHS = 1000\n",
        "\n",
        "# The patience parameter is the amount of epochs to check for improvement\n",
        "early_stop = keras.callbacks.EarlyStopping(monitor='val_loss', patience=75, min_delta=0)\n",
        "\n",
        "history_big = model_big.fit(normed_train_data, train_labels, epochs=EPOCHS,\n",
        "                    validation_split = 0.2, verbose=0, callbacks=[early_stop, PrintDot()])\n"
      ],
      "execution_count": null,
      "outputs": [
        {
          "output_type": "stream",
          "text": [
            "\n",
            "....................................................................................................\n",
            "............................."
          ],
          "name": "stdout"
        }
      ]
    },
    {
      "cell_type": "markdown",
      "metadata": {
        "id": "0Kwk9eLaGmlz"
      },
      "source": [
        "Visualize the model's training progress using the stats stored in the `history` object."
      ]
    },
    {
      "cell_type": "code",
      "metadata": {
        "id": "UPNtAEKZGmlz",
        "colab": {
          "base_uri": "https://localhost:8080/",
          "height": 204
        },
        "outputId": "bd4b7450-1261-4316-f3f9-334e8ad11a7c"
      },
      "source": [
        "hist_big = pd.DataFrame(history_big.history)\n",
        "hist_big['epoch'] = history_big.epoch\n",
        "hist_big.tail() "
      ],
      "execution_count": null,
      "outputs": [
        {
          "output_type": "execute_result",
          "data": {
            "text/html": [
              "<div>\n",
              "<style scoped>\n",
              "    .dataframe tbody tr th:only-of-type {\n",
              "        vertical-align: middle;\n",
              "    }\n",
              "\n",
              "    .dataframe tbody tr th {\n",
              "        vertical-align: top;\n",
              "    }\n",
              "\n",
              "    .dataframe thead th {\n",
              "        text-align: right;\n",
              "    }\n",
              "</style>\n",
              "<table border=\"1\" class=\"dataframe\">\n",
              "  <thead>\n",
              "    <tr style=\"text-align: right;\">\n",
              "      <th></th>\n",
              "      <th>loss</th>\n",
              "      <th>mean_absolute_error</th>\n",
              "      <th>mean_squared_error</th>\n",
              "      <th>val_loss</th>\n",
              "      <th>val_mean_absolute_error</th>\n",
              "      <th>val_mean_squared_error</th>\n",
              "      <th>epoch</th>\n",
              "    </tr>\n",
              "  </thead>\n",
              "  <tbody>\n",
              "    <tr>\n",
              "      <th>124</th>\n",
              "      <td>109.842056</td>\n",
              "      <td>8.555373</td>\n",
              "      <td>109.842056</td>\n",
              "      <td>110.820740</td>\n",
              "      <td>8.603889</td>\n",
              "      <td>110.820740</td>\n",
              "      <td>124</td>\n",
              "    </tr>\n",
              "    <tr>\n",
              "      <th>125</th>\n",
              "      <td>109.929482</td>\n",
              "      <td>8.557758</td>\n",
              "      <td>109.929482</td>\n",
              "      <td>111.271721</td>\n",
              "      <td>8.649287</td>\n",
              "      <td>111.271721</td>\n",
              "      <td>125</td>\n",
              "    </tr>\n",
              "    <tr>\n",
              "      <th>126</th>\n",
              "      <td>109.859123</td>\n",
              "      <td>8.554682</td>\n",
              "      <td>109.859123</td>\n",
              "      <td>111.351135</td>\n",
              "      <td>8.592625</td>\n",
              "      <td>111.351135</td>\n",
              "      <td>126</td>\n",
              "    </tr>\n",
              "    <tr>\n",
              "      <th>127</th>\n",
              "      <td>109.711716</td>\n",
              "      <td>8.549767</td>\n",
              "      <td>109.711716</td>\n",
              "      <td>111.419083</td>\n",
              "      <td>8.663173</td>\n",
              "      <td>111.419083</td>\n",
              "      <td>127</td>\n",
              "    </tr>\n",
              "    <tr>\n",
              "      <th>128</th>\n",
              "      <td>109.710609</td>\n",
              "      <td>8.545816</td>\n",
              "      <td>109.710609</td>\n",
              "      <td>111.692207</td>\n",
              "      <td>8.661056</td>\n",
              "      <td>111.692207</td>\n",
              "      <td>128</td>\n",
              "    </tr>\n",
              "  </tbody>\n",
              "</table>\n",
              "</div>"
            ],
            "text/plain": [
              "           loss  mean_absolute_error  ...  val_mean_squared_error  epoch\n",
              "124  109.842056             8.555373  ...              110.820740    124\n",
              "125  109.929482             8.557758  ...              111.271721    125\n",
              "126  109.859123             8.554682  ...              111.351135    126\n",
              "127  109.711716             8.549767  ...              111.419083    127\n",
              "128  109.710609             8.545816  ...              111.692207    128\n",
              "\n",
              "[5 rows x 7 columns]"
            ]
          },
          "metadata": {
            "tags": []
          },
          "execution_count": 17
        }
      ]
    },
    {
      "cell_type": "code",
      "metadata": {
        "id": "FXoBIFTgGml1",
        "colab": {
          "base_uri": "https://localhost:8080/",
          "height": 549
        },
        "outputId": "d3d24c24-7d35-478c-8d00-330fad9bdadf"
      },
      "source": [
        "def plot_history(history):\n",
        "  hist = pd.DataFrame(history.history)\n",
        "  hist['epoch'] = history.epoch\n",
        "\n",
        "  plt.figure()\n",
        "  plt.xlabel('Epoch')\n",
        "  plt.ylabel('Mean Abs Error [ST]')\n",
        "  plt.plot(hist['epoch'], hist['mean_absolute_error'],\n",
        "           label='Train Error')\n",
        "  plt.plot(hist['epoch'], hist['val_mean_absolute_error'],\n",
        "           label = 'Val Error')\n",
        "  plt.ylim([0,2])\n",
        "  plt.legend()\n",
        "\n",
        "  plt.figure()\n",
        "  plt.xlabel('Epoch')\n",
        "  plt.ylabel('Mean Square Error [$ST^2$]')\n",
        "  plt.plot(hist['epoch'], hist['mean_squared_error'],\n",
        "           label='Train Error')\n",
        "  plt.plot(hist['epoch'], hist['val_mean_squared_error'],\n",
        "           label = 'Val Error')\n",
        "  plt.ylim([0,5])\n",
        "  plt.legend()\n",
        "  plt.show()\n",
        "\n",
        "\n",
        "plot_history(history_big)"
      ],
      "execution_count": null,
      "outputs": [
        {
          "output_type": "display_data",
          "data": {
            "image/png": "[encoded data removed]",
            "text/plain": [
              "<Figure size 432x288 with 1 Axes>"
            ]
          },
          "metadata": {
            "tags": [],
            "needs_background": "light"
          }
        },
        {
          "output_type": "display_data",
          "data": {
            "image/png": "[encoded data removed]",
            "text/plain": [
              "<Figure size 432x288 with 1 Axes>"
            ]
          },
          "metadata": {
            "tags": [],
            "needs_background": "light"
          }
        }
      ]
    },
    {
      "cell_type": "markdown",
      "metadata": {
        "id": "tMUM2ZMoGml3"
      },
      "source": [
        "The graph shows that on the validation set, the average error is usually around +/- 2 MPG. Is this good? We'll leave that decision up to you.\n",
        "\n",
        "Let's see how well the model generalizes by using the **test** set, which we did not use when training the model.  This tells us how well we can expect the model to predict when we use it in the real world."
      ]
    },
    {
      "cell_type": "code",
      "metadata": {
        "id": "fXVH-grGGml3",
        "colab": {
          "base_uri": "https://localhost:8080/"
        },
        "outputId": "48cb8d65-563e-4aa2-c412-9888a9588a0a"
      },
      "source": [
        "loss, mae, mse = model_big.evaluate(normed_test_data, test_labels, verbose=0)\n",
        "\n",
        "print(\"Testing set Mean Abs Error: {:5.2f} mN/m\".format(mae))"
      ],
      "execution_count": null,
      "outputs": [
        {
          "output_type": "stream",
          "text": [
            "Testing set Mean Abs Error:  8.67 mN/m\n"
          ],
          "name": "stdout"
        }
      ]
    },
    {
      "cell_type": "markdown",
      "metadata": {
        "id": "4ifGv8-hGml5"
      },
      "source": [
        "### Make predictions\n",
        "\n",
        "Finally, predict ST values using data in the testing set:"
      ]
    },
    {
      "cell_type": "code",
      "metadata": {
        "id": "Wi0BcB87Gml5",
        "colab": {
          "base_uri": "https://localhost:8080/",
          "height": 573
        },
        "outputId": "c8f0ed85-3156-49cb-e038-bc3f1cc926ec"
      },
      "source": [
        "test_predictions_big = model_big.predict(normed_test_data).flatten()\n",
        "\n",
        "plt.scatter(test_labels, test_predictions_big)\n",
        "plt.title('Normalized test data')\n",
        "plt.xlabel('True Values [surface tension - mN/m]')\n",
        "plt.ylabel('Predictions [surface tension - mN/m]')\n",
        "plt.axis('equal')\n",
        "plt.axis('square')\n",
        "plt.xlim([10,75])\n",
        "plt.ylim([10,75])\n",
        "_ = plt.plot([-100, 100], [-100, 100])\n",
        "plt.show()\n",
        "\n",
        "test_predictions2_big = model_big.predict(normed_train_data).flatten()\n",
        "\n",
        "plt.scatter(train_labels, test_predictions2_big)\n",
        "plt.title('Normalized training data')\n",
        "plt.xlabel('True Values [surface tension - mN/m]')\n",
        "plt.ylabel('Predictions [surface tension - mN/m]')\n",
        "plt.axis('equal')\n",
        "plt.axis('square')\n",
        "plt.xlim([10,75])\n",
        "plt.ylim([10,75])\n",
        "_ = plt.plot([-100, 100], [-100, 100])\n",
        "plt.show()\n"
      ],
      "execution_count": null,
      "outputs": [
        {
          "output_type": "display_data",
          "data": {
            "image/png": "[encoded data removed]",
            "text/plain": [
              "<Figure size 432x288 with 1 Axes>"
            ]
          },
          "metadata": {
            "tags": [],
            "needs_background": "light"
          }
        },
        {
          "output_type": "display_data",
          "data": {
            "image/png": "[encoded data removed]",
            "text/plain": [
              "<Figure size 432x288 with 1 Axes>"
            ]
          },
          "metadata": {
            "tags": [],
            "needs_background": "light"
          }
        }
      ]
    },
    {
      "cell_type": "markdown",
      "metadata": {
        "id": "30DW9Dt9Gml8"
      },
      "source": [
        "Seriously?"
      ]
    },
    {
      "cell_type": "code",
      "metadata": {
        "id": "1zNzaL86Gml8",
        "colab": {
          "base_uri": "https://localhost:8080/",
          "height": 279
        },
        "outputId": "1ff0c5c2-52fd-43eb-b5e9-7e529b7e9d83"
      },
      "source": [
        "error_big = test_predictions_big - test_labels\n",
        "plt.hist(error_big, bins = 50)\n",
        "plt.xlabel(\"Prediction Error [mN/m]\")\n",
        "_ = plt.ylabel(\"Count\")\n",
        "#plt.ylim(0, 5)\n",
        "plt.show()"
      ],
      "execution_count": null,
      "outputs": [
        {
          "output_type": "display_data",
          "data": {
            "image/png": "[encoded data removed]",
            "text/plain": [
              "<Figure size 432x288 with 1 Axes>"
            ]
          },
          "metadata": {
            "tags": [],
            "needs_background": "light"
          }
        }
      ]
    },
    {
      "cell_type": "markdown",
      "metadata": {
        "id": "ZoPD_D4PLBwx"
      },
      "source": [
        "### Trying model No 3\n"
      ]
    },
    {
      "cell_type": "code",
      "metadata": {
        "id": "sZRUD8cgLHUk"
      },
      "source": [
        "# def build_model():\n",
        "#   model = keras.Sequential([\n",
        "#     #layers.Dense(100, activation=tf.nn.relu, input_shape=[len(train_dataset.keys())]),\n",
        "#     layers.Conv3D(64, kernel_size=(5,5, 5), strides=(1, 1, 1), activation=tf.nn.swish, input_shape=[len(train_dataset.keys())]),\n",
        "#     layers.MaxPooling3D(pool_size=(2, 2, 2), strides=(1, 1, 1)),\n",
        "#     layers.Conv3D(32, kernel_size=(5, 5, 5), strides=(1, 1, 1), activation=tf.nn.swish),\n",
        "#     layers.MaxPooling3D(pool_size=(2, 2, 2), strides=(1, 1, 1)),\n",
        "#     layers.Flatten(),\n",
        "#     layers.Dense(14, activation=tf.nn.swish),\n",
        "#     layers.Dense(5, activation=tf.nn.swish),\n",
        "#     layers.Dense(1)\n",
        "#   ])\n",
        "\n",
        "#   optimizer = get_optimizer() # tf.keras.optimizers.Adam(learning_rate=0.001) #RMSprop(0.0001)\n",
        "#   model.compile(loss='mean_squared_error',\n",
        "#                 optimizer=optimizer,\n",
        "#                 metrics=['mean_absolute_error', 'mean_squared_error'])\n",
        "#   return model"
      ],
      "execution_count": null,
      "outputs": []
    },
    {
      "cell_type": "markdown",
      "metadata": {
        "id": "wdKQPWPDuHDw"
      },
      "source": [
        "#### Reshape the data"
      ]
    },
    {
      "cell_type": "code",
      "metadata": {
        "colab": {
          "base_uri": "https://localhost:8080/"
        },
        "id": "eHLreNV8CMN8",
        "outputId": "a7c948ae-c42d-4945-fe9b-c3da9a27d4a7"
      },
      "source": [
        "print(normed_train_data.shape)"
      ],
      "execution_count": null,
      "outputs": [
        {
          "output_type": "stream",
          "text": [
            "(80000, 350)\n"
          ],
          "name": "stdout"
        }
      ]
    },
    {
      "cell_type": "code",
      "metadata": {
        "colab": {
          "base_uri": "https://localhost:8080/"
        },
        "id": "qx5yUvg_CMN9",
        "outputId": "00122211-d80d-461f-cf48-c7bf7b581e5a"
      },
      "source": [
        "sample_size = normed_train_data.shape[0] # number of samples in train set\n",
        "time_steps1  =2 # int(normed_train_data.shape[1]) # number of features in train set\n",
        "time_steps2 =175 #int(normed_train_data.shape[1]/25)\n",
        "input_dimension = 1               # each feature is represented by 1 number\n",
        "\n",
        "train_data_reshaped = normed_train_data.values.reshape(sample_size, time_steps1, time_steps2, input_dimension)\n",
        "\n",
        "input_shape=train_data_reshaped.shape\n",
        "print(input_shape)"
      ],
      "execution_count": null,
      "outputs": [
        {
          "output_type": "stream",
          "text": [
            "(80000, 2, 175, 1)\n"
          ],
          "name": "stdout"
        }
      ]
    },
    {
      "cell_type": "markdown",
      "metadata": {
        "id": "J0PpeGyXCMN9"
      },
      "source": [
        "#### Reshape test data"
      ]
    },
    {
      "cell_type": "code",
      "metadata": {
        "id": "Ihef5vFxCMN9"
      },
      "source": [
        "test_data_reshaped = normed_test_data.values.reshape(normed_test_data.shape[0], 2, 175, 1) #int(normed_test_data.shape[1]/25)"
      ],
      "execution_count": null,
      "outputs": []
    },
    {
      "cell_type": "code",
      "metadata": {
        "id": "Gp7vRHKYCMN9"
      },
      "source": [
        "def build_model():\n",
        "  \n",
        "  n_timesteps = train_data_reshaped.shape[1] #Number of features\n",
        "  n_features  = train_data_reshaped.shape[2] #Number of output(s)\n",
        "  dimension=1\n",
        "  model = keras.Sequential([\n",
        "    # layers.Input(shape=),\n",
        "    layers.Conv2D(filters=50, kernel_size=(1, 1), activation=\"relu\", input_shape=(n_timesteps,n_features, dimension)),\n",
        "    layers.MaxPooling2D(pool_size=(1, 1)),\n",
        "    layers.BatchNormalization(),\n",
        "    layers.Conv2D(filters=25, kernel_size=(1, 1), activation=\"relu\"),\n",
        "    layers.MaxPooling2D(pool_size=(1, 1)),\n",
        "    layers.BatchNormalization(),\n",
        "    # layers.GlobalAveragePooling3D(),\n",
        "    layers.Flatten(),\n",
        "    # layers.Dense(100, activation=tf.nn.softplus),\n",
        "    # layers.Dense(50, activation=tf.nn.swish),\n",
        "    layers.Dense(10, activation=tf.nn.softplus),\n",
        "    layers.Dense(1)\n",
        "  ])\n",
        "\n",
        " # optimizer = tf.keras.optimizers.RMSprop(0.0001)\n",
        "\n",
        "  model.compile(loss='mean_squared_error',\n",
        "                optimizer=get_optimizer(),\n",
        "                metrics=['mean_absolute_error', 'mean_squared_error'])\n",
        "  return model"
      ],
      "execution_count": null,
      "outputs": []
    },
    {
      "cell_type": "code",
      "metadata": {
        "id": "PeF3NEK6LHUt"
      },
      "source": [
        "CNN_model = build_model()"
      ],
      "execution_count": null,
      "outputs": []
    },
    {
      "cell_type": "markdown",
      "metadata": {
        "id": "ZntoWrT9MMnb"
      },
      "source": [
        "### Inspect the model\n",
        "\n",
        "Use the `.summary` method to print a simple description of the model"
      ]
    },
    {
      "cell_type": "code",
      "metadata": {
        "id": "XVDN4MumMMne",
        "colab": {
          "base_uri": "https://localhost:8080/"
        },
        "outputId": "19fe4286-ea38-42ba-93ba-9ac2bbf25791"
      },
      "source": [
        "CNN_model.summary()"
      ],
      "execution_count": null,
      "outputs": [
        {
          "output_type": "stream",
          "text": [
            "Model: \"sequential_14\"\n",
            "_________________________________________________________________\n",
            "Layer (type)                 Output Shape              Param #   \n",
            "=================================================================\n",
            "conv2d_26 (Conv2D)           (None, 2, 175, 50)        100       \n",
            "_________________________________________________________________\n",
            "max_pooling2d_26 (MaxPooling (None, 2, 175, 50)        0         \n",
            "_________________________________________________________________\n",
            "batch_normalization_26 (Batc (None, 2, 175, 50)        200       \n",
            "_________________________________________________________________\n",
            "conv2d_27 (Conv2D)           (None, 2, 175, 25)        1275      \n",
            "_________________________________________________________________\n",
            "max_pooling2d_27 (MaxPooling (None, 2, 175, 25)        0         \n",
            "_________________________________________________________________\n",
            "batch_normalization_27 (Batc (None, 2, 175, 25)        100       \n",
            "_________________________________________________________________\n",
            "flatten_13 (Flatten)         (None, 8750)              0         \n",
            "_________________________________________________________________\n",
            "dense_34 (Dense)             (None, 10)                87510     \n",
            "_________________________________________________________________\n",
            "dense_35 (Dense)             (None, 1)                 11        \n",
            "=================================================================\n",
            "Total params: 89,196\n",
            "Trainable params: 89,046\n",
            "Non-trainable params: 150\n",
            "_________________________________________________________________\n"
          ],
          "name": "stdout"
        }
      ]
    },
    {
      "cell_type": "markdown",
      "metadata": {
        "id": "qspbVMZNMMnf"
      },
      "source": [
        "\n",
        "Now try out the model. Take a batch of `10` examples from the training data and call `model.predict` on it."
      ]
    },
    {
      "cell_type": "code",
      "metadata": {
        "id": "lUbyl5J8MMnf",
        "colab": {
          "base_uri": "https://localhost:8080/"
        },
        "outputId": "29b68061-ba43-40c6-fe23-15d9c6886c28"
      },
      "source": [
        "example_batch = train_data_reshaped[:10]\n",
        "example_result = CNN_model.predict(example_batch)\n",
        "example_result"
      ],
      "execution_count": null,
      "outputs": [
        {
          "output_type": "execute_result",
          "data": {
            "text/plain": [
              "array([[28.087883],\n",
              "       [32.96527 ],\n",
              "       [44.103367],\n",
              "       [69.42511 ],\n",
              "       [51.100143],\n",
              "       [45.80421 ],\n",
              "       [56.901924],\n",
              "       [51.55749 ],\n",
              "       [65.29247 ],\n",
              "       [46.492516]], dtype=float32)"
            ]
          },
          "metadata": {
            "tags": []
          },
          "execution_count": 161
        }
      ]
    },
    {
      "cell_type": "markdown",
      "metadata": {
        "id": "twoy1EgBMMnf"
      },
      "source": [
        "It seems to be working, and it produces a result of the expected shape and type."
      ]
    },
    {
      "cell_type": "markdown",
      "metadata": {
        "id": "eE7Qfz0oMMng"
      },
      "source": [
        "### Train the model\n",
        "\n",
        "Train the model for 1000 epochs, and record the training and validation accuracy in the `history` object."
      ]
    },
    {
      "cell_type": "code",
      "metadata": {
        "id": "KcUVLqy1MMng",
        "colab": {
          "base_uri": "https://localhost:8080/"
        },
        "outputId": "649ebb87-c09a-4b74-a244-05ab74ccb207"
      },
      "source": [
        "# Display training progress by printing a single dot for each completed epoch\n",
        "class PrintDot(keras.callbacks.Callback):\n",
        "  def on_epoch_end(self, epoch, logs):\n",
        "    if epoch % 100 == 0: print('')\n",
        "    print('.', end='')\n",
        "\n",
        "EPOCHS = 1000\n",
        "\n",
        "# The patience parameter is the amount of epochs to check for improvement\n",
        "early_stop = keras.callbacks.EarlyStopping(monitor='val_loss',min_delta=0, patience=15, verbose=0, mode='auto')\n",
        "\n",
        "history_CNN = CNN_model.fit(train_data_reshaped, train_labels,\n",
        "  epochs=EPOCHS, validation_split = 0.2, verbose=0,\n",
        "  callbacks=[early_stop, PrintDot()])  # callbacks=callbacks_list\n"
      ],
      "execution_count": null,
      "outputs": [
        {
          "output_type": "stream",
          "text": [
            "\n",
            "............................."
          ],
          "name": "stdout"
        }
      ]
    },
    {
      "cell_type": "markdown",
      "metadata": {
        "id": "In64HnexMMnh"
      },
      "source": [
        "Visualize the model's training progress using the stats stored in the `history` object."
      ]
    },
    {
      "cell_type": "code",
      "metadata": {
        "id": "idExKIXeMMni",
        "colab": {
          "base_uri": "https://localhost:8080/",
          "height": 204
        },
        "outputId": "5f243fc9-80a6-41f4-90b9-c08d12527324"
      },
      "source": [
        "hist_CNN = pd.DataFrame(history_CNN.history)\n",
        "hist_CNN['epoch'] = history_CNN.epoch\n",
        "hist_CNN.tail() "
      ],
      "execution_count": null,
      "outputs": [
        {
          "output_type": "execute_result",
          "data": {
            "text/html": [
              "<div>\n",
              "<style scoped>\n",
              "    .dataframe tbody tr th:only-of-type {\n",
              "        vertical-align: middle;\n",
              "    }\n",
              "\n",
              "    .dataframe tbody tr th {\n",
              "        vertical-align: top;\n",
              "    }\n",
              "\n",
              "    .dataframe thead th {\n",
              "        text-align: right;\n",
              "    }\n",
              "</style>\n",
              "<table border=\"1\" class=\"dataframe\">\n",
              "  <thead>\n",
              "    <tr style=\"text-align: right;\">\n",
              "      <th></th>\n",
              "      <th>loss</th>\n",
              "      <th>mean_absolute_error</th>\n",
              "      <th>mean_squared_error</th>\n",
              "      <th>val_loss</th>\n",
              "      <th>val_mean_absolute_error</th>\n",
              "      <th>val_mean_squared_error</th>\n",
              "      <th>epoch</th>\n",
              "    </tr>\n",
              "  </thead>\n",
              "  <tbody>\n",
              "    <tr>\n",
              "      <th>24</th>\n",
              "      <td>111.828896</td>\n",
              "      <td>8.636181</td>\n",
              "      <td>111.828896</td>\n",
              "      <td>109.931259</td>\n",
              "      <td>8.527595</td>\n",
              "      <td>109.931259</td>\n",
              "      <td>24</td>\n",
              "    </tr>\n",
              "    <tr>\n",
              "      <th>25</th>\n",
              "      <td>111.635277</td>\n",
              "      <td>8.627120</td>\n",
              "      <td>111.635277</td>\n",
              "      <td>113.665749</td>\n",
              "      <td>8.749763</td>\n",
              "      <td>113.665749</td>\n",
              "      <td>25</td>\n",
              "    </tr>\n",
              "    <tr>\n",
              "      <th>26</th>\n",
              "      <td>111.584976</td>\n",
              "      <td>8.627238</td>\n",
              "      <td>111.584976</td>\n",
              "      <td>110.240440</td>\n",
              "      <td>8.568928</td>\n",
              "      <td>110.240440</td>\n",
              "      <td>26</td>\n",
              "    </tr>\n",
              "    <tr>\n",
              "      <th>27</th>\n",
              "      <td>111.479774</td>\n",
              "      <td>8.623121</td>\n",
              "      <td>111.479774</td>\n",
              "      <td>110.773445</td>\n",
              "      <td>8.627024</td>\n",
              "      <td>110.773445</td>\n",
              "      <td>27</td>\n",
              "    </tr>\n",
              "    <tr>\n",
              "      <th>28</th>\n",
              "      <td>111.552353</td>\n",
              "      <td>8.625348</td>\n",
              "      <td>111.552353</td>\n",
              "      <td>109.793175</td>\n",
              "      <td>8.562902</td>\n",
              "      <td>109.793175</td>\n",
              "      <td>28</td>\n",
              "    </tr>\n",
              "  </tbody>\n",
              "</table>\n",
              "</div>"
            ],
            "text/plain": [
              "          loss  mean_absolute_error  ...  val_mean_squared_error  epoch\n",
              "24  111.828896             8.636181  ...              109.931259     24\n",
              "25  111.635277             8.627120  ...              113.665749     25\n",
              "26  111.584976             8.627238  ...              110.240440     26\n",
              "27  111.479774             8.623121  ...              110.773445     27\n",
              "28  111.552353             8.625348  ...              109.793175     28\n",
              "\n",
              "[5 rows x 7 columns]"
            ]
          },
          "metadata": {
            "tags": []
          },
          "execution_count": 163
        }
      ]
    },
    {
      "cell_type": "code",
      "metadata": {
        "id": "AbwAAkxGMMni",
        "colab": {
          "base_uri": "https://localhost:8080/",
          "height": 543
        },
        "outputId": "5129685c-4244-4cdc-e23d-a449fe2b6ca5"
      },
      "source": [
        "def plot_history(history):\n",
        "  hist = pd.DataFrame(history.history)\n",
        "  hist['epoch'] = history.epoch\n",
        "\n",
        "  plt.figure()\n",
        "  plt.xlabel('Epoch')\n",
        "  plt.ylabel('Mean Abs Error [ST]')\n",
        "  plt.plot(hist['epoch'], hist['mean_absolute_error'],\n",
        "           label='Train Error')\n",
        "  plt.plot(hist['epoch'], hist['val_mean_absolute_error'],\n",
        "           label = 'Val Error')\n",
        "  # plt.ylim([0,2])\n",
        "  plt.legend()\n",
        "\n",
        "  plt.figure()\n",
        "  plt.xlabel('Epoch')\n",
        "  plt.ylabel('Mean Square Error [$ST^2$]')\n",
        "  plt.plot(hist['epoch'], hist['mean_squared_error'],\n",
        "           label='Train Error')\n",
        "  plt.plot(hist['epoch'], hist['val_mean_squared_error'],\n",
        "           label = 'Val Error')\n",
        "  # plt.ylim([0,5])\n",
        "  plt.legend()\n",
        "  plt.show()\n",
        "\n",
        "\n",
        "plot_history(history_CNN)"
      ],
      "execution_count": null,
      "outputs": [
        {
          "output_type": "display_data",
          "data": {
            "image/png": "[encoded data removed]",
            "text/plain": [
              "<Figure size 432x288 with 1 Axes>"
            ]
          },
          "metadata": {
            "tags": [],
            "needs_background": "light"
          }
        },
        {
          "output_type": "display_data",
          "data": {
            "image/png": "[encoded data removed]",
            "text/plain": [
              "<Figure size 432x288 with 1 Axes>"
            ]
          },
          "metadata": {
            "tags": [],
            "needs_background": "light"
          }
        }
      ]
    },
    {
      "cell_type": "markdown",
      "metadata": {
        "id": "AlxGpxupMMni"
      },
      "source": [
        "The graph shows that on the validation set, the average error is usually around +/- 2 MPG. Is this good? We'll leave that decision up to you.\n",
        "\n",
        "Let's see how well the model generalizes by using the **test** set, which we did not use when training the model.  This tells us how well we can expect the model to predict when we use it in the real world."
      ]
    },
    {
      "cell_type": "code",
      "metadata": {
        "id": "xdFKCSBqMMni",
        "colab": {
          "base_uri": "https://localhost:8080/"
        },
        "outputId": "20382b2b-df3b-4d70-9fe8-3d2426caeb78"
      },
      "source": [
        "loss, mae, mse = CNN_model.evaluate(test_data_reshaped, test_labels, verbose=0)\n",
        "\n",
        "print(\"Testing set Mean Abs Error: {:5.2f} mN/m\".format(mae))"
      ],
      "execution_count": null,
      "outputs": [
        {
          "output_type": "stream",
          "text": [
            "Testing set Mean Abs Error:  8.74 mN/m\n"
          ],
          "name": "stdout"
        }
      ]
    },
    {
      "cell_type": "markdown",
      "metadata": {
        "id": "_Aumx2-VMMnj"
      },
      "source": [
        "### Make predictions\n",
        "\n",
        "Finally, predict ST values using data in the testing set:"
      ]
    },
    {
      "cell_type": "code",
      "metadata": {
        "id": "Gn-HG3aFMMnj",
        "colab": {
          "base_uri": "https://localhost:8080/",
          "height": 573
        },
        "outputId": "7d7b14bc-ccb5-4f89-dd49-d4c6c1632017"
      },
      "source": [
        "test_predictions_CNN = CNN_model.predict(test_data_reshaped).flatten()\n",
        "\n",
        "plt.scatter(test_labels, test_predictions_CNN)\n",
        "plt.title('Normalized test data')\n",
        "plt.xlabel('True Values [surface tension - mN/m]')\n",
        "plt.ylabel('Predictions [surface tension - mN/m]')\n",
        "plt.axis('equal')\n",
        "plt.axis('square')\n",
        "plt.xlim([10,75])\n",
        "plt.ylim([10,75])\n",
        "_ = plt.plot([-100, 100], [-100, 100])\n",
        "plt.show()\n",
        "\n",
        "test_predictions2_CNN = CNN_model.predict(train_data_reshaped).flatten()\n",
        "\n",
        "plt.scatter(train_labels, test_predictions2_CNN)\n",
        "plt.title('Normalized training data')\n",
        "plt.xlabel('True Values [surface tension - mN/m]')\n",
        "plt.ylabel('Predictions [surface tension - mN/m]')\n",
        "plt.axis('equal')\n",
        "plt.axis('square')\n",
        "plt.xlim([10,75])\n",
        "plt.ylim([10,75])\n",
        "_ = plt.plot([-100, 100], [-100, 100])\n",
        "plt.show()\n"
      ],
      "execution_count": null,
      "outputs": [
        {
          "output_type": "display_data",
          "data": {
            "image/png": "[encoded data removed]",
            "text/plain": [
              "<Figure size 432x288 with 1 Axes>"
            ]
          },
          "metadata": {
            "tags": [],
            "needs_background": "light"
          }
        },
        {
          "output_type": "display_data",
          "data": {
            "image/png": "[encoded data removed]",
            "text/plain": [
              "<Figure size 432x288 with 1 Axes>"
            ]
          },
          "metadata": {
            "tags": [],
            "needs_background": "light"
          }
        }
      ]
    },
    {
      "cell_type": "markdown",
      "metadata": {
        "id": "f0mwvrhIMMnj"
      },
      "source": [
        "Seriously?"
      ]
    },
    {
      "cell_type": "code",
      "metadata": {
        "id": "wwhGkUuyMMnj",
        "colab": {
          "base_uri": "https://localhost:8080/",
          "height": 282
        },
        "outputId": "20b2a343-713a-47b3-cab9-e1b23b199719"
      },
      "source": [
        "error_CNN = test_predictions_CNN - test_labels\n",
        "plt.hist(error_CNN, bins = 50)\n",
        "plt.xlabel(\"Prediction Error [mN/m]\")\n",
        "_ = plt.ylabel(\"Count\")\n",
        "#plt.ylim(0, 5)\n",
        "plt.show()"
      ],
      "execution_count": null,
      "outputs": [
        {
          "output_type": "display_data",
          "data": {
            "image/png": "[encoded data removed]",
            "text/plain": [
              "<Figure size 432x288 with 1 Axes>"
            ]
          },
          "metadata": {
            "tags": [],
            "needs_background": "light"
          }
        }
      ]
    },
    {
      "cell_type": "markdown",
      "metadata": {
        "id": "r-i0Bq5JF0nv"
      },
      "source": [
        "# Saving the final Model"
      ]
    },
    {
      "cell_type": "markdown",
      "metadata": {
        "id": "G8FBhOnbGK65"
      },
      "source": [
        "When you are satisfied with the model and the accuracy continue from here:"
      ]
    },
    {
      "cell_type": "markdown",
      "metadata": {
        "id": "TvCBPgR-gWXl"
      },
      "source": [
        "Run the next code box only if google drive is not mounted to colab"
      ]
    },
    {
      "cell_type": "code",
      "metadata": {
        "id": "7dA-joJRPNiJ",
        "colab": {
          "base_uri": "https://localhost:8080/"
        },
        "outputId": "721e1d46-d412-436c-d02c-77fdd9d8f00b"
      },
      "source": [
        "from google.colab import drive\n",
        "drive.mount('/content/drive')"
      ],
      "execution_count": null,
      "outputs": [
        {
          "output_type": "stream",
          "text": [
            "Mounted at /content/drive\n"
          ],
          "name": "stdout"
        }
      ]
    },
    {
      "cell_type": "markdown",
      "metadata": {
        "id": "BspL3Z6-GPaa"
      },
      "source": [
        "Saving the model in a **SavedModel** format"
      ]
    },
    {
      "cell_type": "code",
      "metadata": {
        "id": "VwWrwBcZGLnZ"
      },
      "source": [
        "!pip install -q pyyaml h5py  # Required to save models in HDF5 format"
      ],
      "execution_count": null,
      "outputs": []
    },
    {
      "cell_type": "code",
      "metadata": {
        "id": "6BR7rbL5GXku"
      },
      "source": [
        "import os"
      ],
      "execution_count": null,
      "outputs": []
    },
    {
      "cell_type": "code",
      "metadata": {
        "id": "MzumSsZfGYCp"
      },
      "source": [
        "# Save the entire model as a SavedModel.\n",
        "folder=str('theoretical_all_vary/')\n",
        "filename=str('CNN_model_all_vary_with_Ps_noise_Ps_1300_2800_2_6μL_30_70mN_m_no_noise_only_contours_1.h5')\n",
        "#!mkdir -p '/content/drive/My Drive/DropLev/MachineLearningModels' #Ceates a folder named \"MachineLearningModels\"\n",
        "CNN_model.save('/content/drive/My Drive/DropLev/MachineLearningModels/'+folder+filename)  #Saves the file"
      ],
      "execution_count": null,
      "outputs": []
    },
    {
      "cell_type": "markdown",
      "metadata": {
        "id": "oZcqRI0r9B4r"
      },
      "source": [
        "# Reload a fresh Keras model from the saved model:"
      ]
    },
    {
      "cell_type": "markdown",
      "metadata": {
        "id": "W6mEqNn497op"
      },
      "source": [
        "For **SavedModel** format"
      ]
    },
    {
      "cell_type": "code",
      "metadata": {
        "id": "c4vUC4ep8_VA",
        "colab": {
          "base_uri": "https://localhost:8080/",
          "height": 250
        },
        "outputId": "cd46a4fd-af73-4a6e-be19-09cb2a856130"
      },
      "source": [
        "folder=str('theoretical_only_Ps_vary/')\n",
        "filename=str('test_training_Ps_1800_3000_3μL.h5')\n",
        "\n",
        "model = tf.keras.models.load_model('/content/drive/My Drive/DropLev/MachineLearningModels/'+folder+filename)\n",
        "\n",
        "# Check its architecture\n",
        "model.summary()"
      ],
      "execution_count": null,
      "outputs": [
        {
          "output_type": "stream",
          "text": [
            "Model: \"sequential_1\"\n",
            "_________________________________________________________________\n",
            "Layer (type)                 Output Shape              Param #   \n",
            "=================================================================\n",
            "dense_3 (Dense)              (None, 14)                4928      \n",
            "_________________________________________________________________\n",
            "dense_4 (Dense)              (None, 5)                 75        \n",
            "_________________________________________________________________\n",
            "dense_5 (Dense)              (None, 1)                 6         \n",
            "=================================================================\n",
            "Total params: 5,009\n",
            "Trainable params: 5,009\n",
            "Non-trainable params: 0\n",
            "_________________________________________________________________\n"
          ],
          "name": "stdout"
        }
      ]
    },
    {
      "cell_type": "markdown",
      "metadata": {
        "id": "j1K6xGBg9K4A"
      },
      "source": [
        "View the MAE of the saved and re-called model:"
      ]
    },
    {
      "cell_type": "code",
      "metadata": {
        "id": "if5rjrz79NPI"
      },
      "source": [
        "# Evaluation\n",
        "loss, mae, mse = model.evaluate(normed_test_data, test_labels, verbose=0)\n",
        "print('Restored model, Mean absolute error: {:5.2f}'.format(mae))\n"
      ],
      "execution_count": null,
      "outputs": []
    },
    {
      "cell_type": "markdown",
      "metadata": {
        "id": "SfiEXBeBbCcr"
      },
      "source": [
        "### Genarate new data and evaluate the saved model"
      ]
    },
    {
      "cell_type": "code",
      "metadata": {
        "id": "93WuLc7ybJoC",
        "colab": {
          "base_uri": "https://localhost:8080/",
          "height": 1000
        },
        "outputId": "b49bd0f3-c30c-415f-be24-c1efcf22f6f5"
      },
      "source": [
        "def norm_test(x):\n",
        "  return (x - stats_input_df['mean']) / stats_input_df['std']\n",
        "\n",
        "#import model from drive\n",
        "#filename=str('test_training_whole_drop_best.h5')\n",
        "#model = tf.keras.models.load_model('/content/drive/My Drive/DropLev/MachineLearningModels/'+filename)\n",
        "\n",
        "\n",
        "num_sample_test=25\n",
        "sampling=175\n",
        "vol_drop=np.random.random(num_sample_test)*(7-2)+2\n",
        "R_sph=calc_R_sph(vol_drop[i], calibration)\n",
        "Ps=np.random.random(num_sample_test)*(2000-1000)+2000 #Pa\n",
        "theta_test=np.random.rand(num_sample_test, sampling)*np.pi*2\n",
        "theta_test.sort()\n",
        "\n",
        "ST_test=np.random.random(num_sample_test)*(72-25)+25\n",
        "\n",
        "r_all_test=np.empty([0,sampling])\n",
        "\n",
        "for i in range(num_sample_test):\n",
        "  r_test=R_predict(theta_test[i], ST_test[i], R_sph[i], Ps[i], Cg_air, k_o)\n",
        "  r_all_test=np.vstack((r_all_test, r_test))\n",
        "\n",
        "test_dataset=np.hstack((theta_test,r_all_test, ST_test.reshape([num_sample_test,1])))\n",
        "\n",
        "############### Adding noise #############################\n",
        "noise = np.random.random(size=test_dataset.shape)*0.1\n",
        "#print(noise)\n",
        "test_dataset=test_dataset+noise\n",
        "plt.figure()\n",
        "plt.plot(test_dataset[0, 0:sampling], test_dataset[0, sampling:sampling*2])\n",
        "##########################################################\n",
        "\n",
        "input_array=test_dataset[:, 0:sampling*2]\n",
        "input_df=pd.DataFrame(input_array, index=None, dtype=float)\n",
        "\n",
        "stats_input_df=input_df.describe()\n",
        "stats_input_df=stats_input_df.transpose()\n",
        "\n",
        "norm_input_array=norm_test(input_df)\n",
        "prediction=model.predict(norm_input_array).flatten()\n",
        "true_values=test_dataset[:, sampling*2]\n",
        "\n",
        "plt.figure()\n",
        "plt.xlabel('Frame number')\n",
        "plt.ylabel('Surface tension [ mN/m ]')\n",
        "plt.ylim(20, 75)\n",
        "plt.plot(prediction, label='Predicted values')\n",
        "plt.plot(true_values, label='Real values')\n",
        "plt.legend()\n",
        "\n",
        "plt.figure()\n",
        "plt.scatter(true_values, prediction)\n",
        "plt.title('Normalized new test data')\n",
        "plt.xlabel('True Values [surface tension - mN/m]')\n",
        "plt.ylabel('Predictions [surface tension - mN/m]')\n",
        "plt.axis('equal')\n",
        "plt.axis('square')\n",
        "plt.xlim([10,75])\n",
        "plt.ylim([10,75])\n",
        "_ = plt.plot([-100, 100], [-100, 100])\n",
        "plt.show()\n",
        "\n",
        "error = prediction - true_values\n",
        "plt.figure()\n",
        "plt.hist(error, bins = 50)\n",
        "plt.xlabel(\"Prediction Error [mN/m]\")\n",
        "_ = plt.ylabel(\"Count\")\n",
        "plt.show()\n"
      ],
      "execution_count": null,
      "outputs": [
        {
          "output_type": "display_data",
          "data": {
            "image/png": "[encoded data removed]",
            "text/plain": [
              "<Figure size 432x288 with 1 Axes>"
            ]
          },
          "metadata": {
            "tags": [],
            "needs_background": "light"
          }
        },
        {
          "output_type": "display_data",
          "data": {
            "image/png": "[encoded data removed]",
            "text/plain": [
              "<Figure size 432x288 with 1 Axes>"
            ]
          },
          "metadata": {
            "tags": [],
            "needs_background": "light"
          }
        },
        {
          "output_type": "display_data",
          "data": {
            "image/png": "[encoded data removed]",
            "text/plain": [
              "<Figure size 432x288 with 1 Axes>"
            ]
          },
          "metadata": {
            "tags": [],
            "needs_background": "light"
          }
        },
        {
          "output_type": "display_data",
          "data": {
            "image/png": "[encoded data removed]",
            "text/plain": [
              "<Figure size 432x288 with 1 Axes>"
            ]
          },
          "metadata": {
            "tags": [],
            "needs_background": "light"
          }
        }
      ]
    }
  ]
}