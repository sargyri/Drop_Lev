{
  "nbformat": 4,
  "nbformat_minor": 0,
  "metadata": {
    "colab": {
      "name": "test_training_ST_on_model.ipynb",
      "provenance": [],
      "collapsed_sections": [],
      "toc_visible": true
    },
    "kernelspec": {
      "display_name": "Python 3",
      "language": "python",
      "name": "python3"
    },
    "language_info": {
      "codemirror_mode": {
        "name": "ipython",
        "version": 3
      },
      "file_extension": ".py",
      "mimetype": "text/x-python",
      "name": "python",
      "nbconvert_exporter": "python",
      "pygments_lexer": "ipython3",
      "version": "3.6.9"
    }
  },
  "cells": [
    {
      "cell_type": "code",
      "metadata": {
        "colab_type": "code",
        "id": "IbpYKApN-KAR",
        "scrolled": true,
        "colab": {
          "base_uri": "https://localhost:8080/",
          "height": 587
        },
        "outputId": "6a73aa01-25d8-4252-ec65-7ca558a03944"
      },
      "source": [
        "!pip install lmfit\n",
        "!pip install seaborn\n"
      ],
      "execution_count": 2,
      "outputs": [
        {
          "output_type": "stream",
          "text": [
            "Collecting lmfit\n",
            "\u001b[?25l  Downloading https://files.pythonhosted.org/packages/d1/2e/9e4cdcebf93603ce57bc7577707ad56ed1282ae306f611e525612b9cfeea/lmfit-1.0.1.tar.gz (258kB)\n",
            "\u001b[K     |████████████████████████████████| 266kB 2.6MB/s \n",
            "\u001b[?25hCollecting asteval>=0.9.16\n",
            "\u001b[?25l  Downloading https://files.pythonhosted.org/packages/e4/3b/8aaee90977588fa3e88d7a495af306d6f4a1c1c01c8f0fe0de1fc43d0908/asteval-0.9.18.tar.gz (52kB)\n",
            "\u001b[K     |████████████████████████████████| 61kB 6.1MB/s \n",
            "\u001b[?25hRequirement already satisfied: numpy>=1.16 in /usr/local/lib/python3.6/dist-packages (from lmfit) (1.18.5)\n",
            "Requirement already satisfied: scipy>=1.2 in /usr/local/lib/python3.6/dist-packages (from lmfit) (1.4.1)\n",
            "Collecting uncertainties>=3.0.1\n",
            "\u001b[?25l  Downloading https://files.pythonhosted.org/packages/b0/e0/fc200da8190729dcb685ae4877ed6936d31d64aeccb8cc355d9ec982681d/uncertainties-3.1.4-py2.py3-none-any.whl (246kB)\n",
            "\u001b[K     |████████████████████████████████| 256kB 8.8MB/s \n",
            "\u001b[?25hRequirement already satisfied: future in /usr/local/lib/python3.6/dist-packages (from uncertainties>=3.0.1->lmfit) (0.16.0)\n",
            "Building wheels for collected packages: lmfit, asteval\n",
            "  Building wheel for lmfit (setup.py) ... \u001b[?25l\u001b[?25hdone\n",
            "  Created wheel for lmfit: filename=lmfit-1.0.1-cp36-none-any.whl size=81991 sha256=fd49ba3163093065648be3b79f01cfee61dbae159da0da66f7cc3711156206eb\n",
            "  Stored in directory: /root/.cache/pip/wheels/ef/22/8d/6cd9c0af36f501cfb248673b05dad5d2c27504951d55519acb\n",
            "  Building wheel for asteval (setup.py) ... \u001b[?25l\u001b[?25hdone\n",
            "  Created wheel for asteval: filename=asteval-0.9.18-cp36-none-any.whl size=17381 sha256=7c1e6b71cf27344466cfbbc63f2777e2628cfb832363f19dc737e10f93442bac\n",
            "  Stored in directory: /root/.cache/pip/wheels/1c/53/1b/28d929700c9633b1786a4982e6db564ec8326a8930234dcc19\n",
            "Successfully built lmfit asteval\n",
            "Installing collected packages: asteval, uncertainties, lmfit\n",
            "Successfully installed asteval-0.9.18 lmfit-1.0.1 uncertainties-3.1.4\n",
            "Requirement already satisfied: seaborn in /usr/local/lib/python3.6/dist-packages (0.10.1)\n",
            "Requirement already satisfied: numpy>=1.13.3 in /usr/local/lib/python3.6/dist-packages (from seaborn) (1.18.5)\n",
            "Requirement already satisfied: scipy>=1.0.1 in /usr/local/lib/python3.6/dist-packages (from seaborn) (1.4.1)\n",
            "Requirement already satisfied: pandas>=0.22.0 in /usr/local/lib/python3.6/dist-packages (from seaborn) (1.0.5)\n",
            "Requirement already satisfied: matplotlib>=2.1.2 in /usr/local/lib/python3.6/dist-packages (from seaborn) (3.2.2)\n",
            "Requirement already satisfied: python-dateutil>=2.6.1 in /usr/local/lib/python3.6/dist-packages (from pandas>=0.22.0->seaborn) (2.8.1)\n",
            "Requirement already satisfied: pytz>=2017.2 in /usr/local/lib/python3.6/dist-packages (from pandas>=0.22.0->seaborn) (2018.9)\n",
            "Requirement already satisfied: pyparsing!=2.0.4,!=2.1.2,!=2.1.6,>=2.0.1 in /usr/local/lib/python3.6/dist-packages (from matplotlib>=2.1.2->seaborn) (2.4.7)\n",
            "Requirement already satisfied: cycler>=0.10 in /usr/local/lib/python3.6/dist-packages (from matplotlib>=2.1.2->seaborn) (0.10.0)\n",
            "Requirement already satisfied: kiwisolver>=1.0.1 in /usr/local/lib/python3.6/dist-packages (from matplotlib>=2.1.2->seaborn) (1.2.0)\n",
            "Requirement already satisfied: six>=1.5 in /usr/local/lib/python3.6/dist-packages (from python-dateutil>=2.6.1->pandas>=0.22.0->seaborn) (1.15.0)\n"
          ],
          "name": "stdout"
        }
      ]
    },
    {
      "cell_type": "code",
      "metadata": {
        "colab_type": "code",
        "id": "jyE0M3V99EdP",
        "scrolled": true,
        "colab": {
          "base_uri": "https://localhost:8080/",
          "height": 50
        },
        "outputId": "1d2ccf1e-5684-43fe-974a-5a90838d707c"
      },
      "source": [
        "import numpy as np\n",
        "#import cv2\n",
        "import os\n",
        "import re\n",
        "import glob\n",
        "import matplotlib.pyplot as plt\n",
        "from scipy.signal import  gaussian\n",
        "from scipy.ndimage import filters\n",
        "from scipy import optimize\n",
        "from scipy.stats import linregress\n",
        "from mpl_toolkits.mplot3d import Axes3D\n",
        "\n",
        "import seaborn as sns\n",
        "\n",
        "import scipy as sp\n",
        "import scipy.interpolate\n",
        "from scipy.integrate import trapz\n",
        "\n",
        "import time\n",
        "\n",
        "import pandas as pd\n",
        "\n",
        "from lmfit import Model, fit_report, Parameters\n",
        "\n",
        "#from __future__ import absolute_import, division, print_function, unicode_literals\n",
        "\n",
        "import pathlib\n",
        "\n",
        "import matplotlib.pyplot as plt\n",
        "import pandas as pd\n",
        "import seaborn as sns\n",
        "\n",
        "import tensorflow as tf\n",
        "from tensorflow import keras\n",
        "from tensorflow.keras import layers\n",
        "\n",
        "import io\n",
        "\n",
        "print(tf.__version__)\n",
        "print(\"Num GPUs Available: \", len(tf.config.experimental.list_physical_devices('GPU')))\n",
        "\n",
        "\n",
        "######### initialize the data ###############\n",
        "data_input=[]\n",
        "data_output=[]\n",
        "l_sample=300\n",
        "vol_all=[]\n",
        "vol2_all=[]\n",
        "data_x=[]\n",
        "data_y=[]\n",
        "data_h=[]\n",
        "data_w=[]\n",
        "R_sph_all=[]\n",
        "Ar=[]\n",
        "#st_all=[]\n",
        "rho=[]\n",
        "theta=[]\n",
        "#List of non-processed images:\n",
        "discarded=[]\n",
        "new=[]  #list of images without the discarded ones\n",
        "\n",
        "#For the simple approach fit\n",
        "phi_final=[]\n",
        "theta_az=[]\n",
        "theta_all=[]\n",
        "theta_final=[]\n",
        "r_theta_all=[]\n",
        "xc_all=[]\n",
        "yc_all=[]\n",
        "rho_final=[]\n",
        "data_Ps=[]\n",
        "data_dB=[]\n",
        "data_stderr=[]\n",
        "data_err=[]\n",
        "\n",
        "total_num_pictures = len(glob.glob1('.',\"*.png\"))\n",
        "frame_number=np.arange(total_num_pictures)\n",
        "\n",
        "gamma=64 #[N/m]\n",
        "Cg_air=1/101325 #Pa**(-1)\n",
        "k_o=2*np.pi*40/340  #wave number in the air. frequency 40kHz (25kH=0.000040sec) and speed of sound in air v=340 m/s from paper (331.5 for 20oC online) \n",
        "#Calibration\n",
        "needle_d=0.83 #mm\n",
        "needle_pxl=220 #pixels\n",
        "#calibration=0.00621722846441948**3\n",
        "cal=needle_d/needle_pxl\n",
        "calibration=(cal)**3\n",
        "\n",
        "\n",
        "###############################################################################\n",
        "#### Functions used in the data processing ####################################\n",
        "###############################################################################\n",
        "\n",
        "def calc_volume(x,y):\n",
        "    \"\"\"\n",
        "    Calculate the drop volume from a shape matrix.\n",
        "\n",
        "    Parameters\n",
        "    ----------\n",
        "    x, y - contour of the drop\n",
        "\n",
        "    Returns\n",
        "    -------\n",
        "    Integrated volume using for the given shape matrix.\n",
        "\n",
        "    \"\"\"\n",
        "    # data selection\n",
        "    idx=x<=0  # r=right\n",
        "    x_l=x[idx]\n",
        "    y_l=y[idx]\n",
        "        \n",
        "    vol_left=trapz(np.pi*x_l**2, y_l)/2\n",
        "        \n",
        "    # data selection\n",
        "    idx=x>=0  # r=right\n",
        "    x_r=x[idx]\n",
        "    y_r=y[idx]\n",
        "    vol_right=-trapz(np.pi*x_r**2, y_r)/2\n",
        "   \n",
        "    return vol_left+vol_right\n",
        "\n",
        "\n",
        "def calc_R_sph(vol, cal):\n",
        "    \"\"\"\n",
        "    Calculate the spherical radius of a droplet based on the volume.\n",
        "\n",
        "    Input parameters\n",
        "    ----------\n",
        "    vol:         volume   [pixels**3]\n",
        "    calibration: calibration factor  [mm**3/pixels**3]\n",
        "\n",
        "    Returns\n",
        "    -------\n",
        "    Corresponding spherical radius.  [mm]\n",
        "\n",
        "    \"\"\"\n",
        "#    calibration=0.00621722846441948**3\n",
        "    #R_sph=(3*vol*calibration/(4*np.pi))**(1/3)\n",
        "    R_sph=(3*vol/(4*np.pi))**(1/3)\n",
        "    return R_sph\n",
        "\n",
        "def calc_dB(Ps):\n",
        "    \"\"\"\n",
        "    Calculate the deci Bell (dB) value for each acoustic pressure Ps.\n",
        "\n",
        "    Input parameters\n",
        "    ----------\n",
        "    Ps:     aplitude of the acoustic pressure\n",
        "\n",
        "    Returns\n",
        "    -------\n",
        "    dB value. []\n",
        "\n",
        "    \"\"\"\n",
        "    Po=2*10**(-5) #[Pa]\n",
        "\n",
        "    return 20*np.log10(Ps/Po)     #Acoustic pressure [Pa]\n",
        "\n",
        "def model_fit(th, Ps):\n",
        "    \"\"\"\n",
        "    Express the model that will be used to fit the experimental data (simple approach).\n",
        "\n",
        "    Input parameters\n",
        "    ----------\n",
        "    dB:     deciBell\n",
        "    th:     angle theta\n",
        "    Returns\n",
        "    -------\n",
        "    Expression of fitting model.\n",
        "\n",
        "    \"\"\"\n",
        "#    Ps=calc_ampl(dB)\n",
        "    ct_new=-((3/(64*gamma))*R_sph**2*Ps**2*Cg_air*(1+((7/5)*(k_o*R_sph)**2)))\n",
        "    return ct_new*(3*(np.cos(th))**2-1)+R_sph\n",
        "\n",
        "\n",
        "def R_predict(th, gamma, R_sph, Ps, Cg_air, k_o):\n",
        "    \"\"\"\n",
        "    Prediction of ST. \n",
        "    After the acoustic pressure is determined. The ST is calculated based on the equation of our model. \n",
        "    \n",
        "    \n",
        "    Input parameters\n",
        "    ----------\n",
        "    th:     angle theta\n",
        "    gamma:  ST as initial predition [mN/m]\n",
        "    Power:  U*I [Watt]\n",
        "    Returns\n",
        "    -------\n",
        "    gamma:   predicted surface tension [mN/m]\n",
        "\n",
        "    \"\"\"    \n",
        "#    Ps=data_Ps[i-1]    #[Pa]\n",
        "    ct_new=-((3/(64*gamma))*R_sph**2*Ps**2*Cg_air*(1+((7/5)*(k_o*R_sph)**2)))*(3*(np.cos(th))**2-1)\n",
        "    return ct_new+R_sph\n",
        "\n",
        "def ST_predict(th, gamma, R_sph, Ps, Cg_air, k_o):\n",
        "    \"\"\"\n",
        "    Prediction of ST. \n",
        "    After the acoustic pressure is determined. The ST is calculated based on the equation of our model. \n",
        "    \n",
        "    \n",
        "    Input parameters\n",
        "    ----------\n",
        "    th:     angle theta\n",
        "    gamma:  ST as initial predition [mN/m]\n",
        "    Power:  U*I [Watt]\n",
        "    Returns\n",
        "    -------\n",
        "    gamma:   predicted surface tension [mN/m]\n",
        "\n",
        "    \"\"\"    \n",
        "#    Ps=data_Ps[i-1]    #[Pa]\n",
        "    ct_new=-((3/(64*gamma))*R_sph**2*Ps**2*Cg_air*(1+((7/5)*(k_o*R_sph)**2)))*(3*(np.cos(th))**2-1)\n",
        "    return ct_new+R_sph\n",
        "\n",
        "\n",
        "def azimuth(phi):\n",
        "    \"\"\"\n",
        "    Calculate the azimuthal angle.\n",
        "\n",
        "    Input parameters\n",
        "    ----------\n",
        "    phi:     angle phi\n",
        "\n",
        "    Returns\n",
        "    -------\n",
        "    Azimuthal angle.\n",
        "\n",
        "    \"\"\"\n",
        "\n",
        "    if phi<=np.pi/2:\n",
        "        a=np.pi/2-phi\n",
        "    else:\n",
        "        a=2.5*np.pi-phi\n",
        "    return a\n",
        "\n",
        "\n",
        "def cart2pol(x, y):\n",
        "    rho = np.sqrt(x**2 + y**2)\n",
        "    theta = np.arctan2(y, x)\n",
        "    return(theta, rho)\n",
        "\n",
        "def pol2cart(rho, phi):\n",
        "    x = rho * np.cos(phi)\n",
        "    y = rho * np.sin(phi)\n",
        "    return(x, y)\n",
        "\n",
        "\n",
        "def pol2cart_theta(rho, theta):\n",
        "    x = rho * np.sin(theta)\n",
        "    y = rho * np.cos(theta)\n",
        "    return(x, y)"
      ],
      "execution_count": 3,
      "outputs": [
        {
          "output_type": "stream",
          "text": [
            "2.3.0\n",
            "Num GPUs Available:  0\n"
          ],
          "name": "stdout"
        }
      ]
    },
    {
      "cell_type": "markdown",
      "metadata": {
        "colab_type": "text",
        "id": "lsGCO8nDUAlJ"
      },
      "source": [
        "Generate random angle:\n",
        "20 000 sets of 200 points"
      ]
    },
    {
      "cell_type": "code",
      "metadata": {
        "colab_type": "code",
        "id": "k2AMjiCZT_5m",
        "colab": {
          "base_uri": "https://localhost:8080/",
          "height": 1000
        },
        "outputId": "41113a68-5692-4390-e5d7-97dcd1139c86"
      },
      "source": [
        "def gen_data(num_sample,sampling):\n",
        "\n",
        "    np.random.seed(1234)\n",
        "\n",
        "    #test=np.arange(100)\n",
        "    #test_r=np.random.choice(test,10)\n",
        "\n",
        "    vol_drop=5 # in µL\n",
        "    calibration=0.0060567117466506235e-3 #m/px\n",
        "    #calibration=1\n",
        "\n",
        "\n",
        "    gamma=72.8 #[N/m]   !!!!!!!!!!!!!!!!!!!!!   there is an error here should be mN\n",
        "    Cg_air=1/101325 #Pa**(-1)\n",
        "    k_o=2*np.pi*40/340  #wave number in the air. frequency 40kHz (25kH=0.000040sec) and speed of sound in air v=340 m/s from paper (331.5 for 20oC online) \n",
        "    #Calibration\n",
        "    Ps= 1800\n",
        "    R_sph=calc_R_sph(vol_drop, calibration)\n",
        "\n",
        "    print(\"Radius in mm: \", R_sph*1e3)\n",
        "    \n",
        "    #num_sample=200  #ST\n",
        "    #sampling=200\n",
        "\n",
        "    #theta=np.linspace(0,2*np.pi, 100)\n",
        "\n",
        "    #theta=np.random.random(200)*2*np.pi\n",
        "    theta=np.random.rand(num_sample, sampling)*2*np.pi\n",
        "    theta.sort()\n",
        "    ST_range=np.random.random(num_sample)*(72-30)+30\n",
        "    print(theta.shape)\n",
        "    r_all=np.empty([0,sampling])\n",
        "    print(r_all.shape)\n",
        "\n",
        "    for i in range(num_sample):\n",
        "        r=R_predict(theta[i], ST_range[i], R_sph, Ps, Cg_air, k_o)\n",
        "          #print(r.shape)\n",
        "         #print(r)\n",
        "        r_all=np.vstack((r_all, r))\n",
        "        \n",
        "        if i % 100 == 0:\n",
        "                print(i)\n",
        "        \n",
        "\n",
        "    print(r_all.shape)\n",
        "\n",
        "    dataset=np.hstack((theta,r_all, ST_range.reshape([num_sample,1])))\n",
        "    print(dataset.shape)\n",
        "\n",
        "    #print(ST_range)\n",
        "    print(ST_range.min())\n",
        "    print(ST_range.max())\n",
        "    #sns.set(color_codes=True)\n",
        "    sns.distplot(ST_range);\n",
        "\n",
        "    fig3 = plt.figure()\n",
        "    ax = plt.gca()\n",
        "    ax.set_aspect(1)\n",
        "    ax.set_xlim([-1.5,1.5])\n",
        "    ax.set_ylim([-1.5,1.5])\n",
        "    \n",
        "\n",
        "    for j in dataset:\n",
        "\n",
        "      x,y=pol2cart_theta(j[sampling:sampling+sampling], j[0:sampling])\n",
        "    #  print(x.shape)\n",
        "    #  print(y.shape)\n",
        "\n",
        "      #plt.plot(x*1e3,y*1e3)\n",
        "      plt.plot(x,y)\n",
        "\n",
        "    plt.show()\n",
        "    return dataset\n",
        "\n",
        "num_sample=5000  # number of different ST values\n",
        "sampling=200 # number of coordiante point describing the contour\n",
        "\n",
        "\n",
        "dataset=gen_data(num_sample,sampling)\n",
        "\n",
        "\n",
        "column_names=[]\n",
        "for i in range(sampling):\n",
        "  column_names.append('theta')\n",
        "for i in range(sampling):\n",
        "  column_names.append('rho')\n",
        "\n",
        "column_names.append('ST')\n",
        "\n",
        "\n",
        "raw_dataset = pd.DataFrame(dataset, columns=column_names)\n",
        "\n",
        "raw_dataset.to_csv('./dataset.csv',index=False)\n"
      ],
      "execution_count": 16,
      "outputs": [
        {
          "output_type": "stream",
          "text": [
            "Radius in mm:  1060.7844179470553\n",
            "(5000, 200)\n",
            "(0, 200)\n",
            "0\n",
            "100\n",
            "200\n",
            "300\n",
            "400\n",
            "500\n",
            "600\n",
            "700\n",
            "800\n",
            "900\n",
            "1000\n",
            "1100\n",
            "1200\n",
            "1300\n",
            "1400\n",
            "1500\n",
            "1600\n",
            "1700\n",
            "1800\n",
            "1900\n",
            "2000\n",
            "2100\n",
            "2200\n",
            "2300\n",
            "2400\n",
            "2500\n",
            "2600\n",
            "2700\n",
            "2800\n",
            "2900\n",
            "3000\n",
            "3100\n",
            "3200\n",
            "3300\n",
            "3400\n",
            "3500\n",
            "3600\n",
            "3700\n",
            "3800\n",
            "3900\n",
            "4000\n",
            "4100\n",
            "4200\n",
            "4300\n",
            "4400\n",
            "4500\n",
            "4600\n",
            "4700\n",
            "4800\n",
            "4900\n",
            "(5000, 200)\n",
            "(5000, 401)\n",
            "30.006102525716475\n",
            "71.99433748141851\n"
          ],
          "name": "stdout"
        },
        {
          "output_type": "display_data",
          "data": {
            "image/png": "[encoded data removed]",
            "text/plain": [
              "<Figure size 432x288 with 1 Axes>"
            ]
          },
          "metadata": {
            "tags": [],
            "needs_background": "light"
          }
        },
        {
          "output_type": "display_data",
          "data": {
            "image/png": "[encoded data removed]",
            "text/plain": [
              "<Figure size 432x288 with 1 Axes>"
            ]
          },
          "metadata": {
            "tags": [],
            "needs_background": "light"
          }
        }
      ]
    },
    {
      "cell_type": "code",
      "metadata": {
        "colab_type": "code",
        "id": "l83INVYlZsND",
        "colab": {}
      },
      "source": [
        "\n",
        "#input = pd.read_csv(io.BytesIO(uploaded['data.csv']))\n",
        "#input = pd.DataFrame(dataset)\n",
        "# Dataset is now stored in a Pandas Dataframe\n",
        "#input.size\n"
      ],
      "execution_count": 5,
      "outputs": []
    },
    {
      "cell_type": "code",
      "metadata": {
        "colab_type": "code",
        "id": "CiX2FI4gZtTt",
        "colab": {
          "base_uri": "https://localhost:8080/",
          "height": 247
        },
        "outputId": "b3670d32-b79d-4f6a-8903-06ed07590bca"
      },
      "source": [
        "# loading of data\n",
        "\n",
        "raw_dataset=pd.read_csv('dataset.csv')\n",
        "\n",
        "dataset = raw_dataset.copy()\n",
        "dataset.tail()"
      ],
      "execution_count": 17,
      "outputs": [
        {
          "output_type": "execute_result",
          "data": {
            "text/html": [
              "<div>\n",
              "<style scoped>\n",
              "    .dataframe tbody tr th:only-of-type {\n",
              "        vertical-align: middle;\n",
              "    }\n",
              "\n",
              "    .dataframe tbody tr th {\n",
              "        vertical-align: top;\n",
              "    }\n",
              "\n",
              "    .dataframe thead th {\n",
              "        text-align: right;\n",
              "    }\n",
              "</style>\n",
              "<table border=\"1\" class=\"dataframe\">\n",
              "  <thead>\n",
              "    <tr style=\"text-align: right;\">\n",
              "      <th></th>\n",
              "      <th>theta</th>\n",
              "      <th>theta.1</th>\n",
              "      <th>theta.2</th>\n",
              "      <th>theta.3</th>\n",
              "      <th>theta.4</th>\n",
              "      <th>theta.5</th>\n",
              "      <th>theta.6</th>\n",
              "      <th>theta.7</th>\n",
              "      <th>theta.8</th>\n",
              "      <th>theta.9</th>\n",
              "      <th>theta.10</th>\n",
              "      <th>theta.11</th>\n",
              "      <th>theta.12</th>\n",
              "      <th>theta.13</th>\n",
              "      <th>theta.14</th>\n",
              "      <th>theta.15</th>\n",
              "      <th>theta.16</th>\n",
              "      <th>theta.17</th>\n",
              "      <th>theta.18</th>\n",
              "      <th>theta.19</th>\n",
              "      <th>theta.20</th>\n",
              "      <th>theta.21</th>\n",
              "      <th>theta.22</th>\n",
              "      <th>theta.23</th>\n",
              "      <th>theta.24</th>\n",
              "      <th>theta.25</th>\n",
              "      <th>theta.26</th>\n",
              "      <th>theta.27</th>\n",
              "      <th>theta.28</th>\n",
              "      <th>theta.29</th>\n",
              "      <th>theta.30</th>\n",
              "      <th>theta.31</th>\n",
              "      <th>theta.32</th>\n",
              "      <th>theta.33</th>\n",
              "      <th>theta.34</th>\n",
              "      <th>theta.35</th>\n",
              "      <th>theta.36</th>\n",
              "      <th>theta.37</th>\n",
              "      <th>theta.38</th>\n",
              "      <th>theta.39</th>\n",
              "      <th>...</th>\n",
              "      <th>rho.161</th>\n",
              "      <th>rho.162</th>\n",
              "      <th>rho.163</th>\n",
              "      <th>rho.164</th>\n",
              "      <th>rho.165</th>\n",
              "      <th>rho.166</th>\n",
              "      <th>rho.167</th>\n",
              "      <th>rho.168</th>\n",
              "      <th>rho.169</th>\n",
              "      <th>rho.170</th>\n",
              "      <th>rho.171</th>\n",
              "      <th>rho.172</th>\n",
              "      <th>rho.173</th>\n",
              "      <th>rho.174</th>\n",
              "      <th>rho.175</th>\n",
              "      <th>rho.176</th>\n",
              "      <th>rho.177</th>\n",
              "      <th>rho.178</th>\n",
              "      <th>rho.179</th>\n",
              "      <th>rho.180</th>\n",
              "      <th>rho.181</th>\n",
              "      <th>rho.182</th>\n",
              "      <th>rho.183</th>\n",
              "      <th>rho.184</th>\n",
              "      <th>rho.185</th>\n",
              "      <th>rho.186</th>\n",
              "      <th>rho.187</th>\n",
              "      <th>rho.188</th>\n",
              "      <th>rho.189</th>\n",
              "      <th>rho.190</th>\n",
              "      <th>rho.191</th>\n",
              "      <th>rho.192</th>\n",
              "      <th>rho.193</th>\n",
              "      <th>rho.194</th>\n",
              "      <th>rho.195</th>\n",
              "      <th>rho.196</th>\n",
              "      <th>rho.197</th>\n",
              "      <th>rho.198</th>\n",
              "      <th>rho.199</th>\n",
              "      <th>ST</th>\n",
              "    </tr>\n",
              "  </thead>\n",
              "  <tbody>\n",
              "    <tr>\n",
              "      <th>4995</th>\n",
              "      <td>0.033196</td>\n",
              "      <td>0.080572</td>\n",
              "      <td>0.151492</td>\n",
              "      <td>0.202281</td>\n",
              "      <td>0.238298</td>\n",
              "      <td>0.261690</td>\n",
              "      <td>0.267977</td>\n",
              "      <td>0.277648</td>\n",
              "      <td>0.330929</td>\n",
              "      <td>0.390225</td>\n",
              "      <td>0.438980</td>\n",
              "      <td>0.454528</td>\n",
              "      <td>0.510178</td>\n",
              "      <td>0.529296</td>\n",
              "      <td>0.533931</td>\n",
              "      <td>0.582559</td>\n",
              "      <td>0.662767</td>\n",
              "      <td>0.681786</td>\n",
              "      <td>0.684201</td>\n",
              "      <td>0.711659</td>\n",
              "      <td>0.712006</td>\n",
              "      <td>0.726261</td>\n",
              "      <td>0.787892</td>\n",
              "      <td>0.803004</td>\n",
              "      <td>0.839098</td>\n",
              "      <td>0.845441</td>\n",
              "      <td>0.848867</td>\n",
              "      <td>0.862689</td>\n",
              "      <td>0.874869</td>\n",
              "      <td>0.925371</td>\n",
              "      <td>0.979407</td>\n",
              "      <td>1.001326</td>\n",
              "      <td>1.088803</td>\n",
              "      <td>1.100510</td>\n",
              "      <td>1.174541</td>\n",
              "      <td>1.210587</td>\n",
              "      <td>1.214239</td>\n",
              "      <td>1.267876</td>\n",
              "      <td>1.278398</td>\n",
              "      <td>1.288603</td>\n",
              "      <td>...</td>\n",
              "      <td>1.097955</td>\n",
              "      <td>1.094464</td>\n",
              "      <td>1.092188</td>\n",
              "      <td>1.087686</td>\n",
              "      <td>1.084530</td>\n",
              "      <td>1.083748</td>\n",
              "      <td>1.079809</td>\n",
              "      <td>1.075588</td>\n",
              "      <td>1.071989</td>\n",
              "      <td>1.067702</td>\n",
              "      <td>1.067177</td>\n",
              "      <td>1.059404</td>\n",
              "      <td>1.046249</td>\n",
              "      <td>1.021074</td>\n",
              "      <td>1.019694</td>\n",
              "      <td>1.006438</td>\n",
              "      <td>1.000551</td>\n",
              "      <td>0.998451</td>\n",
              "      <td>0.996357</td>\n",
              "      <td>0.993885</td>\n",
              "      <td>0.990081</td>\n",
              "      <td>0.982628</td>\n",
              "      <td>0.982591</td>\n",
              "      <td>0.980885</td>\n",
              "      <td>0.973786</td>\n",
              "      <td>0.969947</td>\n",
              "      <td>0.967293</td>\n",
              "      <td>0.964696</td>\n",
              "      <td>0.961386</td>\n",
              "      <td>0.958601</td>\n",
              "      <td>0.958187</td>\n",
              "      <td>0.957501</td>\n",
              "      <td>0.954873</td>\n",
              "      <td>0.945921</td>\n",
              "      <td>0.945229</td>\n",
              "      <td>0.944147</td>\n",
              "      <td>0.943849</td>\n",
              "      <td>0.942074</td>\n",
              "      <td>0.941710</td>\n",
              "      <td>52.529100</td>\n",
              "    </tr>\n",
              "    <tr>\n",
              "      <th>4996</th>\n",
              "      <td>0.112351</td>\n",
              "      <td>0.122821</td>\n",
              "      <td>0.163990</td>\n",
              "      <td>0.173220</td>\n",
              "      <td>0.237142</td>\n",
              "      <td>0.291035</td>\n",
              "      <td>0.309880</td>\n",
              "      <td>0.356042</td>\n",
              "      <td>0.368716</td>\n",
              "      <td>0.382229</td>\n",
              "      <td>0.406931</td>\n",
              "      <td>0.478523</td>\n",
              "      <td>0.488660</td>\n",
              "      <td>0.569687</td>\n",
              "      <td>0.603005</td>\n",
              "      <td>0.610311</td>\n",
              "      <td>0.617079</td>\n",
              "      <td>0.714203</td>\n",
              "      <td>0.807924</td>\n",
              "      <td>0.815098</td>\n",
              "      <td>0.839786</td>\n",
              "      <td>0.847692</td>\n",
              "      <td>0.874599</td>\n",
              "      <td>0.876440</td>\n",
              "      <td>0.904414</td>\n",
              "      <td>0.948864</td>\n",
              "      <td>0.954524</td>\n",
              "      <td>0.976609</td>\n",
              "      <td>1.011733</td>\n",
              "      <td>1.021474</td>\n",
              "      <td>1.035443</td>\n",
              "      <td>1.048446</td>\n",
              "      <td>1.069262</td>\n",
              "      <td>1.071017</td>\n",
              "      <td>1.111095</td>\n",
              "      <td>1.147548</td>\n",
              "      <td>1.184517</td>\n",
              "      <td>1.217901</td>\n",
              "      <td>1.226550</td>\n",
              "      <td>1.241126</td>\n",
              "      <td>...</td>\n",
              "      <td>1.073368</td>\n",
              "      <td>1.070794</td>\n",
              "      <td>1.055273</td>\n",
              "      <td>1.051674</td>\n",
              "      <td>1.047032</td>\n",
              "      <td>1.041374</td>\n",
              "      <td>1.034430</td>\n",
              "      <td>1.031477</td>\n",
              "      <td>1.027773</td>\n",
              "      <td>1.018028</td>\n",
              "      <td>1.016679</td>\n",
              "      <td>1.011848</td>\n",
              "      <td>1.002548</td>\n",
              "      <td>0.999904</td>\n",
              "      <td>0.997216</td>\n",
              "      <td>0.993651</td>\n",
              "      <td>0.978389</td>\n",
              "      <td>0.978070</td>\n",
              "      <td>0.977904</td>\n",
              "      <td>0.966313</td>\n",
              "      <td>0.961595</td>\n",
              "      <td>0.959917</td>\n",
              "      <td>0.954688</td>\n",
              "      <td>0.954552</td>\n",
              "      <td>0.954495</td>\n",
              "      <td>0.954486</td>\n",
              "      <td>0.953359</td>\n",
              "      <td>0.953347</td>\n",
              "      <td>0.952537</td>\n",
              "      <td>0.946224</td>\n",
              "      <td>0.945506</td>\n",
              "      <td>0.944419</td>\n",
              "      <td>0.942451</td>\n",
              "      <td>0.942342</td>\n",
              "      <td>0.941671</td>\n",
              "      <td>0.939270</td>\n",
              "      <td>0.938898</td>\n",
              "      <td>0.938338</td>\n",
              "      <td>0.938172</td>\n",
              "      <td>51.146062</td>\n",
              "    </tr>\n",
              "    <tr>\n",
              "      <th>4997</th>\n",
              "      <td>0.039116</td>\n",
              "      <td>0.099112</td>\n",
              "      <td>0.104960</td>\n",
              "      <td>0.125689</td>\n",
              "      <td>0.199744</td>\n",
              "      <td>0.257138</td>\n",
              "      <td>0.267558</td>\n",
              "      <td>0.331899</td>\n",
              "      <td>0.337089</td>\n",
              "      <td>0.373073</td>\n",
              "      <td>0.390656</td>\n",
              "      <td>0.417907</td>\n",
              "      <td>0.427207</td>\n",
              "      <td>0.489629</td>\n",
              "      <td>0.513641</td>\n",
              "      <td>0.549525</td>\n",
              "      <td>0.758244</td>\n",
              "      <td>0.770555</td>\n",
              "      <td>0.946695</td>\n",
              "      <td>0.952203</td>\n",
              "      <td>0.981870</td>\n",
              "      <td>0.982857</td>\n",
              "      <td>0.991615</td>\n",
              "      <td>0.995428</td>\n",
              "      <td>1.018177</td>\n",
              "      <td>1.161078</td>\n",
              "      <td>1.177831</td>\n",
              "      <td>1.198026</td>\n",
              "      <td>1.251950</td>\n",
              "      <td>1.261315</td>\n",
              "      <td>1.272468</td>\n",
              "      <td>1.343566</td>\n",
              "      <td>1.377350</td>\n",
              "      <td>1.393327</td>\n",
              "      <td>1.414074</td>\n",
              "      <td>1.451806</td>\n",
              "      <td>1.455137</td>\n",
              "      <td>1.499595</td>\n",
              "      <td>1.568394</td>\n",
              "      <td>1.600659</td>\n",
              "      <td>...</td>\n",
              "      <td>1.085805</td>\n",
              "      <td>1.080609</td>\n",
              "      <td>1.072533</td>\n",
              "      <td>1.072284</td>\n",
              "      <td>1.069134</td>\n",
              "      <td>1.067457</td>\n",
              "      <td>1.064506</td>\n",
              "      <td>1.064028</td>\n",
              "      <td>1.061296</td>\n",
              "      <td>1.050187</td>\n",
              "      <td>1.041929</td>\n",
              "      <td>1.039946</td>\n",
              "      <td>1.017293</td>\n",
              "      <td>1.004717</td>\n",
              "      <td>1.003604</td>\n",
              "      <td>0.982011</td>\n",
              "      <td>0.976303</td>\n",
              "      <td>0.967625</td>\n",
              "      <td>0.950843</td>\n",
              "      <td>0.940145</td>\n",
              "      <td>0.930337</td>\n",
              "      <td>0.926522</td>\n",
              "      <td>0.924952</td>\n",
              "      <td>0.922391</td>\n",
              "      <td>0.915672</td>\n",
              "      <td>0.909206</td>\n",
              "      <td>0.905325</td>\n",
              "      <td>0.898838</td>\n",
              "      <td>0.896123</td>\n",
              "      <td>0.890143</td>\n",
              "      <td>0.886654</td>\n",
              "      <td>0.886601</td>\n",
              "      <td>0.885194</td>\n",
              "      <td>0.883205</td>\n",
              "      <td>0.881658</td>\n",
              "      <td>0.881231</td>\n",
              "      <td>0.880261</td>\n",
              "      <td>0.880012</td>\n",
              "      <td>0.879966</td>\n",
              "      <td>34.689841</td>\n",
              "    </tr>\n",
              "    <tr>\n",
              "      <th>4998</th>\n",
              "      <td>0.014346</td>\n",
              "      <td>0.036231</td>\n",
              "      <td>0.043969</td>\n",
              "      <td>0.044453</td>\n",
              "      <td>0.088801</td>\n",
              "      <td>0.130613</td>\n",
              "      <td>0.191184</td>\n",
              "      <td>0.195540</td>\n",
              "      <td>0.208702</td>\n",
              "      <td>0.412201</td>\n",
              "      <td>0.494300</td>\n",
              "      <td>0.500895</td>\n",
              "      <td>0.512198</td>\n",
              "      <td>0.547630</td>\n",
              "      <td>0.558488</td>\n",
              "      <td>0.615934</td>\n",
              "      <td>0.698906</td>\n",
              "      <td>0.705003</td>\n",
              "      <td>0.726602</td>\n",
              "      <td>0.776107</td>\n",
              "      <td>0.781576</td>\n",
              "      <td>0.851226</td>\n",
              "      <td>0.884526</td>\n",
              "      <td>0.931324</td>\n",
              "      <td>0.961027</td>\n",
              "      <td>0.963699</td>\n",
              "      <td>0.975965</td>\n",
              "      <td>0.977679</td>\n",
              "      <td>1.016240</td>\n",
              "      <td>1.016658</td>\n",
              "      <td>1.073240</td>\n",
              "      <td>1.138664</td>\n",
              "      <td>1.143117</td>\n",
              "      <td>1.146756</td>\n",
              "      <td>1.254093</td>\n",
              "      <td>1.293749</td>\n",
              "      <td>1.335847</td>\n",
              "      <td>1.348267</td>\n",
              "      <td>1.371092</td>\n",
              "      <td>1.398825</td>\n",
              "      <td>...</td>\n",
              "      <td>1.091392</td>\n",
              "      <td>1.089423</td>\n",
              "      <td>1.086694</td>\n",
              "      <td>1.085814</td>\n",
              "      <td>1.070015</td>\n",
              "      <td>1.060524</td>\n",
              "      <td>1.060043</td>\n",
              "      <td>1.059648</td>\n",
              "      <td>1.044825</td>\n",
              "      <td>1.043771</td>\n",
              "      <td>1.028843</td>\n",
              "      <td>1.024724</td>\n",
              "      <td>1.016362</td>\n",
              "      <td>1.014937</td>\n",
              "      <td>1.010737</td>\n",
              "      <td>1.007727</td>\n",
              "      <td>1.006170</td>\n",
              "      <td>1.002784</td>\n",
              "      <td>0.993324</td>\n",
              "      <td>0.989027</td>\n",
              "      <td>0.982528</td>\n",
              "      <td>0.975877</td>\n",
              "      <td>0.974033</td>\n",
              "      <td>0.972302</td>\n",
              "      <td>0.969154</td>\n",
              "      <td>0.968437</td>\n",
              "      <td>0.967191</td>\n",
              "      <td>0.966916</td>\n",
              "      <td>0.965713</td>\n",
              "      <td>0.962558</td>\n",
              "      <td>0.962360</td>\n",
              "      <td>0.959155</td>\n",
              "      <td>0.956477</td>\n",
              "      <td>0.953169</td>\n",
              "      <td>0.952645</td>\n",
              "      <td>0.952341</td>\n",
              "      <td>0.952256</td>\n",
              "      <td>0.951528</td>\n",
              "      <td>0.951170</td>\n",
              "      <td>57.194459</td>\n",
              "    </tr>\n",
              "    <tr>\n",
              "      <th>4999</th>\n",
              "      <td>0.039988</td>\n",
              "      <td>0.056159</td>\n",
              "      <td>0.147036</td>\n",
              "      <td>0.155008</td>\n",
              "      <td>0.170555</td>\n",
              "      <td>0.177394</td>\n",
              "      <td>0.209926</td>\n",
              "      <td>0.224403</td>\n",
              "      <td>0.230426</td>\n",
              "      <td>0.234068</td>\n",
              "      <td>0.248766</td>\n",
              "      <td>0.291308</td>\n",
              "      <td>0.293399</td>\n",
              "      <td>0.297611</td>\n",
              "      <td>0.309464</td>\n",
              "      <td>0.341247</td>\n",
              "      <td>0.351549</td>\n",
              "      <td>0.443550</td>\n",
              "      <td>0.501380</td>\n",
              "      <td>0.533410</td>\n",
              "      <td>0.538718</td>\n",
              "      <td>0.539937</td>\n",
              "      <td>0.554931</td>\n",
              "      <td>0.692955</td>\n",
              "      <td>0.699392</td>\n",
              "      <td>0.725651</td>\n",
              "      <td>0.822254</td>\n",
              "      <td>0.865352</td>\n",
              "      <td>0.914997</td>\n",
              "      <td>0.916747</td>\n",
              "      <td>0.923239</td>\n",
              "      <td>0.959589</td>\n",
              "      <td>1.025968</td>\n",
              "      <td>1.060557</td>\n",
              "      <td>1.083780</td>\n",
              "      <td>1.122273</td>\n",
              "      <td>1.179409</td>\n",
              "      <td>1.184876</td>\n",
              "      <td>1.321989</td>\n",
              "      <td>1.331689</td>\n",
              "      <td>...</td>\n",
              "      <td>1.090466</td>\n",
              "      <td>1.079863</td>\n",
              "      <td>1.079576</td>\n",
              "      <td>1.077903</td>\n",
              "      <td>1.070234</td>\n",
              "      <td>1.067664</td>\n",
              "      <td>1.067504</td>\n",
              "      <td>1.063355</td>\n",
              "      <td>1.062994</td>\n",
              "      <td>1.062435</td>\n",
              "      <td>1.059565</td>\n",
              "      <td>1.055399</td>\n",
              "      <td>1.050507</td>\n",
              "      <td>1.034962</td>\n",
              "      <td>1.028754</td>\n",
              "      <td>1.028553</td>\n",
              "      <td>1.024163</td>\n",
              "      <td>1.011642</td>\n",
              "      <td>1.003459</td>\n",
              "      <td>0.997714</td>\n",
              "      <td>0.997154</td>\n",
              "      <td>0.996183</td>\n",
              "      <td>0.992124</td>\n",
              "      <td>0.986666</td>\n",
              "      <td>0.986485</td>\n",
              "      <td>0.986309</td>\n",
              "      <td>0.985731</td>\n",
              "      <td>0.975228</td>\n",
              "      <td>0.972559</td>\n",
              "      <td>0.971086</td>\n",
              "      <td>0.969943</td>\n",
              "      <td>0.969760</td>\n",
              "      <td>0.969073</td>\n",
              "      <td>0.968779</td>\n",
              "      <td>0.967268</td>\n",
              "      <td>0.966661</td>\n",
              "      <td>0.966322</td>\n",
              "      <td>0.966144</td>\n",
              "      <td>0.966079</td>\n",
              "      <td>66.260390</td>\n",
              "    </tr>\n",
              "  </tbody>\n",
              "</table>\n",
              "<p>5 rows × 401 columns</p>\n",
              "</div>"
            ],
            "text/plain": [
              "         theta   theta.1   theta.2  ...   rho.198   rho.199         ST\n",
              "4995  0.033196  0.080572  0.151492  ...  0.942074  0.941710  52.529100\n",
              "4996  0.112351  0.122821  0.163990  ...  0.938338  0.938172  51.146062\n",
              "4997  0.039116  0.099112  0.104960  ...  0.880012  0.879966  34.689841\n",
              "4998  0.014346  0.036231  0.043969  ...  0.951528  0.951170  57.194459\n",
              "4999  0.039988  0.056159  0.147036  ...  0.966144  0.966079  66.260390\n",
              "\n",
              "[5 rows x 401 columns]"
            ]
          },
          "metadata": {
            "tags": []
          },
          "execution_count": 17
        }
      ]
    },
    {
      "cell_type": "markdown",
      "metadata": {
        "colab_type": "text",
        "id": "Cuym4yvk76vU"
      },
      "source": [
        "### Split the data into train and test\n",
        "\n",
        "Now split the dataset into a training set and a test set.\n",
        "\n",
        "We will use the test set in the final evaluation of our model."
      ]
    },
    {
      "cell_type": "code",
      "metadata": {
        "colab_type": "code",
        "id": "qn-IGhUE7_1H",
        "colab": {}
      },
      "source": [
        "train_dataset = dataset.sample(frac=0.8,random_state=0)\n",
        "test_dataset = dataset.drop(train_dataset.index)"
      ],
      "execution_count": 18,
      "outputs": []
    },
    {
      "cell_type": "markdown",
      "metadata": {
        "colab_type": "text",
        "id": "J4ubs136WLNp"
      },
      "source": [
        "### Inspect the data\n",
        "\n",
        "Have a quick look at the joint distribution of a few pairs of columns from the training set."
      ]
    },
    {
      "cell_type": "code",
      "metadata": {
        "colab_type": "code",
        "id": "oRKO_x8gWKv-",
        "colab": {}
      },
      "source": [
        "#sns.pairplot(train_dataset[column_names], diag_kind=\"kde\")\n",
        "#plt.show()"
      ],
      "execution_count": null,
      "outputs": []
    },
    {
      "cell_type": "markdown",
      "metadata": {
        "colab_type": "text",
        "id": "gavKO_6DWRMP"
      },
      "source": [
        "Also look at the overall statistics:"
      ]
    },
    {
      "cell_type": "code",
      "metadata": {
        "colab_type": "code",
        "id": "yi2FzC3T21jR",
        "colab": {
          "base_uri": "https://localhost:8080/",
          "height": 407
        },
        "outputId": "c0bf0e1f-e238-4b12-f089-26d5b675efc4"
      },
      "source": [
        "train_stats = train_dataset.describe()\n",
        "train_stats.pop(\"ST\")\n",
        "train_stats = train_stats.transpose()\n",
        "train_stats"
      ],
      "execution_count": 19,
      "outputs": [
        {
          "output_type": "execute_result",
          "data": {
            "text/html": [
              "<div>\n",
              "<style scoped>\n",
              "    .dataframe tbody tr th:only-of-type {\n",
              "        vertical-align: middle;\n",
              "    }\n",
              "\n",
              "    .dataframe tbody tr th {\n",
              "        vertical-align: top;\n",
              "    }\n",
              "\n",
              "    .dataframe thead th {\n",
              "        text-align: right;\n",
              "    }\n",
              "</style>\n",
              "<table border=\"1\" class=\"dataframe\">\n",
              "  <thead>\n",
              "    <tr style=\"text-align: right;\">\n",
              "      <th></th>\n",
              "      <th>count</th>\n",
              "      <th>mean</th>\n",
              "      <th>std</th>\n",
              "      <th>min</th>\n",
              "      <th>25%</th>\n",
              "      <th>50%</th>\n",
              "      <th>75%</th>\n",
              "      <th>max</th>\n",
              "    </tr>\n",
              "  </thead>\n",
              "  <tbody>\n",
              "    <tr>\n",
              "      <th>theta</th>\n",
              "      <td>4000.0</td>\n",
              "      <td>0.031264</td>\n",
              "      <td>0.030949</td>\n",
              "      <td>0.000004</td>\n",
              "      <td>0.008926</td>\n",
              "      <td>0.022175</td>\n",
              "      <td>0.043417</td>\n",
              "      <td>0.242190</td>\n",
              "    </tr>\n",
              "    <tr>\n",
              "      <th>theta.1</th>\n",
              "      <td>4000.0</td>\n",
              "      <td>0.061806</td>\n",
              "      <td>0.042983</td>\n",
              "      <td>0.000534</td>\n",
              "      <td>0.030005</td>\n",
              "      <td>0.052550</td>\n",
              "      <td>0.082815</td>\n",
              "      <td>0.356888</td>\n",
              "    </tr>\n",
              "    <tr>\n",
              "      <th>theta.2</th>\n",
              "      <td>4000.0</td>\n",
              "      <td>0.092641</td>\n",
              "      <td>0.052942</td>\n",
              "      <td>0.002559</td>\n",
              "      <td>0.053188</td>\n",
              "      <td>0.083498</td>\n",
              "      <td>0.122344</td>\n",
              "      <td>0.489584</td>\n",
              "    </tr>\n",
              "    <tr>\n",
              "      <th>theta.3</th>\n",
              "      <td>4000.0</td>\n",
              "      <td>0.124314</td>\n",
              "      <td>0.061655</td>\n",
              "      <td>0.007941</td>\n",
              "      <td>0.078184</td>\n",
              "      <td>0.115235</td>\n",
              "      <td>0.159605</td>\n",
              "      <td>0.492807</td>\n",
              "    </tr>\n",
              "    <tr>\n",
              "      <th>theta.4</th>\n",
              "      <td>4000.0</td>\n",
              "      <td>0.155378</td>\n",
              "      <td>0.069801</td>\n",
              "      <td>0.016825</td>\n",
              "      <td>0.104355</td>\n",
              "      <td>0.145726</td>\n",
              "      <td>0.195939</td>\n",
              "      <td>0.559092</td>\n",
              "    </tr>\n",
              "    <tr>\n",
              "      <th>...</th>\n",
              "      <td>...</td>\n",
              "      <td>...</td>\n",
              "      <td>...</td>\n",
              "      <td>...</td>\n",
              "      <td>...</td>\n",
              "      <td>...</td>\n",
              "      <td>...</td>\n",
              "      <td>...</td>\n",
              "    </tr>\n",
              "    <tr>\n",
              "      <th>rho.195</th>\n",
              "      <td>4000.0</td>\n",
              "      <td>0.935147</td>\n",
              "      <td>0.032333</td>\n",
              "      <td>0.853411</td>\n",
              "      <td>0.911409</td>\n",
              "      <td>0.942193</td>\n",
              "      <td>0.962491</td>\n",
              "      <td>0.996416</td>\n",
              "    </tr>\n",
              "    <tr>\n",
              "      <th>rho.196</th>\n",
              "      <td>4000.0</td>\n",
              "      <td>0.933271</td>\n",
              "      <td>0.032638</td>\n",
              "      <td>0.852233</td>\n",
              "      <td>0.909288</td>\n",
              "      <td>0.940165</td>\n",
              "      <td>0.961023</td>\n",
              "      <td>0.996221</td>\n",
              "    </tr>\n",
              "    <tr>\n",
              "      <th>rho.197</th>\n",
              "      <td>4000.0</td>\n",
              "      <td>0.931776</td>\n",
              "      <td>0.032887</td>\n",
              "      <td>0.852031</td>\n",
              "      <td>0.907460</td>\n",
              "      <td>0.938899</td>\n",
              "      <td>0.959708</td>\n",
              "      <td>0.988395</td>\n",
              "    </tr>\n",
              "    <tr>\n",
              "      <th>rho.198</th>\n",
              "      <td>4000.0</td>\n",
              "      <td>0.930649</td>\n",
              "      <td>0.033091</td>\n",
              "      <td>0.851762</td>\n",
              "      <td>0.906163</td>\n",
              "      <td>0.937992</td>\n",
              "      <td>0.958793</td>\n",
              "      <td>0.982285</td>\n",
              "    </tr>\n",
              "    <tr>\n",
              "      <th>rho.199</th>\n",
              "      <td>4000.0</td>\n",
              "      <td>0.929865</td>\n",
              "      <td>0.033256</td>\n",
              "      <td>0.851742</td>\n",
              "      <td>0.905313</td>\n",
              "      <td>0.937046</td>\n",
              "      <td>0.958215</td>\n",
              "      <td>0.977406</td>\n",
              "    </tr>\n",
              "  </tbody>\n",
              "</table>\n",
              "<p>400 rows × 8 columns</p>\n",
              "</div>"
            ],
            "text/plain": [
              "          count      mean       std  ...       50%       75%       max\n",
              "theta    4000.0  0.031264  0.030949  ...  0.022175  0.043417  0.242190\n",
              "theta.1  4000.0  0.061806  0.042983  ...  0.052550  0.082815  0.356888\n",
              "theta.2  4000.0  0.092641  0.052942  ...  0.083498  0.122344  0.489584\n",
              "theta.3  4000.0  0.124314  0.061655  ...  0.115235  0.159605  0.492807\n",
              "theta.4  4000.0  0.155378  0.069801  ...  0.145726  0.195939  0.559092\n",
              "...         ...       ...       ...  ...       ...       ...       ...\n",
              "rho.195  4000.0  0.935147  0.032333  ...  0.942193  0.962491  0.996416\n",
              "rho.196  4000.0  0.933271  0.032638  ...  0.940165  0.961023  0.996221\n",
              "rho.197  4000.0  0.931776  0.032887  ...  0.938899  0.959708  0.988395\n",
              "rho.198  4000.0  0.930649  0.033091  ...  0.937992  0.958793  0.982285\n",
              "rho.199  4000.0  0.929865  0.033256  ...  0.937046  0.958215  0.977406\n",
              "\n",
              "[400 rows x 8 columns]"
            ]
          },
          "metadata": {
            "tags": []
          },
          "execution_count": 19
        }
      ]
    },
    {
      "cell_type": "markdown",
      "metadata": {
        "colab_type": "text",
        "id": "Db7Auq1yXUvh"
      },
      "source": [
        "### Split features from labels\n",
        "\n",
        "Separate the target value, or \"label\", from the features. This label is the value that you will train the model to predict."
      ]
    },
    {
      "cell_type": "code",
      "metadata": {
        "colab_type": "code",
        "id": "t2sluJdCW7jN",
        "colab": {}
      },
      "source": [
        "train_labels = train_dataset.pop('ST')\n",
        "test_labels = test_dataset.pop('ST')"
      ],
      "execution_count": 20,
      "outputs": []
    },
    {
      "cell_type": "markdown",
      "metadata": {
        "colab_type": "text",
        "id": "mRklxK5s388r"
      },
      "source": [
        "### Normalize the data\n",
        "\n",
        "Look again at the `train_stats` block above and note how different the ranges of each feature are."
      ]
    },
    {
      "cell_type": "markdown",
      "metadata": {
        "colab_type": "text",
        "id": "-ywmerQ6dSox"
      },
      "source": [
        "It is good practice to normalize features that use different scales and ranges. Although the model *might* converge without feature normalization, it makes training more difficult, and it makes the resulting model dependent on the choice of units used in the input.\n",
        "\n",
        "Note: Although we intentionally generate these statistics from only the training dataset, these statistics will also be used to normalize the test dataset. We need to do that to project the test dataset into the same distribution that the model has been trained on."
      ]
    },
    {
      "cell_type": "code",
      "metadata": {
        "colab_type": "code",
        "id": "JlC5ooJrgjQF",
        "colab": {}
      },
      "source": [
        "def norm(x):\n",
        "  return (x - train_stats['mean']) / train_stats['std']\n",
        "normed_train_data = norm(train_dataset)\n",
        "normed_test_data = norm(test_dataset)\n"
      ],
      "execution_count": 21,
      "outputs": []
    },
    {
      "cell_type": "markdown",
      "metadata": {
        "colab_type": "text",
        "id": "BuiClDk45eS4"
      },
      "source": [
        "This normalized data is what we will use to train the model.\n",
        "\n",
        "Caution: The statistics used to normalize the inputs here (mean and standard deviation) need to be applied to any other data that is fed to the model, along with the one-hot encoding that we did earlier.  That includes the test set as well as live data when the model is used in production."
      ]
    },
    {
      "cell_type": "markdown",
      "metadata": {
        "colab_type": "text",
        "id": "SmjdzxKzEu1-"
      },
      "source": [
        "## The model"
      ]
    },
    {
      "cell_type": "markdown",
      "metadata": {
        "colab_type": "text",
        "id": "6SWtkIjhrZwa"
      },
      "source": [
        "### Build the model\n",
        "\n",
        "Let's build our model. Here, we'll use a `Sequential` model with two densely connected hidden layers, and an output layer that returns a single, continuous value. The model building steps are wrapped in a function, `build_model`, since we'll create a second model, later on."
      ]
    },
    {
      "cell_type": "code",
      "metadata": {
        "colab_type": "code",
        "id": "c26juK7ZG8j-",
        "colab": {}
      },
      "source": [
        "def build_model():\n",
        "  model = keras.Sequential([\n",
        "    #layers.Dense(100, activation=tf.nn.relu, input_shape=[len(train_dataset.keys())]),\n",
        "    layers.Dense(400, activation=tf.nn.relu, input_shape=[len(train_dataset.keys())]),\n",
        "    layers.Dense(150, activation=tf.nn.relu),\n",
        "    layers.Dense(10, activation=tf.nn.relu),\n",
        "    layers.Dense(1)\n",
        "  ])\n",
        "\n",
        "  optimizer = tf.keras.optimizers.RMSprop(0.0001)\n",
        "\n",
        "  model.compile(loss='mean_squared_error',\n",
        "                optimizer=optimizer,\n",
        "                metrics=['mean_absolute_error', 'mean_squared_error'])\n",
        "  return model"
      ],
      "execution_count": 22,
      "outputs": []
    },
    {
      "cell_type": "code",
      "metadata": {
        "colab_type": "code",
        "id": "cGbPb-PHGbhs",
        "colab": {}
      },
      "source": [
        "model = build_model()"
      ],
      "execution_count": 23,
      "outputs": []
    },
    {
      "cell_type": "markdown",
      "metadata": {
        "colab_type": "text",
        "id": "Sj49Og4YGULr"
      },
      "source": [
        "### Inspect the model\n",
        "\n",
        "Use the `.summary` method to print a simple description of the model"
      ]
    },
    {
      "cell_type": "code",
      "metadata": {
        "colab_type": "code",
        "id": "ReAD0n6MsFK-",
        "colab": {
          "base_uri": "https://localhost:8080/",
          "height": 283
        },
        "outputId": "97f66135-122b-49fd-97fb-0f2390fc5546"
      },
      "source": [
        "model.summary()"
      ],
      "execution_count": 24,
      "outputs": [
        {
          "output_type": "stream",
          "text": [
            "Model: \"sequential_1\"\n",
            "_________________________________________________________________\n",
            "Layer (type)                 Output Shape              Param #   \n",
            "=================================================================\n",
            "dense_4 (Dense)              (None, 400)               160400    \n",
            "_________________________________________________________________\n",
            "dense_5 (Dense)              (None, 150)               60150     \n",
            "_________________________________________________________________\n",
            "dense_6 (Dense)              (None, 10)                1510      \n",
            "_________________________________________________________________\n",
            "dense_7 (Dense)              (None, 1)                 11        \n",
            "=================================================================\n",
            "Total params: 222,071\n",
            "Trainable params: 222,071\n",
            "Non-trainable params: 0\n",
            "_________________________________________________________________\n"
          ],
          "name": "stdout"
        }
      ]
    },
    {
      "cell_type": "markdown",
      "metadata": {
        "colab_type": "text",
        "id": "Vt6W50qGsJAL"
      },
      "source": [
        "\n",
        "Now try out the model. Take a batch of `10` examples from the training data and call `model.predict` on it."
      ]
    },
    {
      "cell_type": "code",
      "metadata": {
        "colab_type": "code",
        "id": "-d-gBaVtGTSC",
        "colab": {
          "base_uri": "https://localhost:8080/",
          "height": 183
        },
        "outputId": "592896e9-2dc0-428b-b325-21650e27ba3b"
      },
      "source": [
        "example_batch = normed_train_data[:10]\n",
        "example_result = model.predict(example_batch)\n",
        "example_result"
      ],
      "execution_count": 25,
      "outputs": [
        {
          "output_type": "execute_result",
          "data": {
            "text/plain": [
              "array([[ 0.13126439],\n",
              "       [ 0.34399393],\n",
              "       [ 1.0225098 ],\n",
              "       [ 0.2935216 ],\n",
              "       [ 0.66829544],\n",
              "       [ 0.73178387],\n",
              "       [ 0.03633956],\n",
              "       [-0.05692251],\n",
              "       [ 0.10463655],\n",
              "       [ 0.64367753]], dtype=float32)"
            ]
          },
          "metadata": {
            "tags": []
          },
          "execution_count": 25
        }
      ]
    },
    {
      "cell_type": "markdown",
      "metadata": {
        "colab_type": "text",
        "id": "QlM8KrSOsaYo"
      },
      "source": [
        "It seems to be working, and it produces a result of the expected shape and type."
      ]
    },
    {
      "cell_type": "markdown",
      "metadata": {
        "colab_type": "text",
        "id": "0-qWCsh6DlyH"
      },
      "source": [
        "### Train the model\n",
        "\n",
        "Train the model for 1000 epochs, and record the training and validation accuracy in the `history` object."
      ]
    },
    {
      "cell_type": "code",
      "metadata": {
        "colab_type": "code",
        "id": "fdMZuhUgzMZ4",
        "colab": {
          "base_uri": "https://localhost:8080/",
          "height": 582
        },
        "outputId": "31b184f7-bde1-4044-e041-86aa81824229"
      },
      "source": [
        "# Display training progress by printing a single dot for each completed epoch\n",
        "class PrintDot(keras.callbacks.Callback):\n",
        "  def on_epoch_end(self, epoch, logs):\n",
        "    if epoch % 100 == 0: print('')\n",
        "    print('.', end='')\n",
        "\n",
        "EPOCHS = 1000\n",
        "\n",
        "# The patience parameter is the amount of epochs to check for improvement\n",
        "early_stop = keras.callbacks.EarlyStopping(monitor='val_loss', patience=10)\n",
        "\n",
        "history = model.fit(normed_train_data, train_labels, epochs=EPOCHS,\n",
        "                    validation_split = 0.2, verbose=0, callbacks=[early_stop, PrintDot()])\n"
      ],
      "execution_count": 27,
      "outputs": [
        {
          "output_type": "stream",
          "text": [
            "\n",
            "................................................................................"
          ],
          "name": "stdout"
        },
        {
          "output_type": "display_data",
          "data": {
            "image/png": "[encoded data removed]",
            "text/plain": [
              "<Figure size 432x288 with 1 Axes>"
            ]
          },
          "metadata": {
            "tags": [],
            "needs_background": "light"
          }
        },
        {
          "output_type": "display_data",
          "data": {
            "image/png": "[encoded data removed]",
            "text/plain": [
              "<Figure size 432x288 with 1 Axes>"
            ]
          },
          "metadata": {
            "tags": [],
            "needs_background": "light"
          }
        }
      ]
    },
    {
      "cell_type": "markdown",
      "metadata": {
        "colab_type": "text",
        "id": "tQm3pc0FYPQB"
      },
      "source": [
        "Visualize the model's training progress using the stats stored in the `history` object."
      ]
    },
    {
      "cell_type": "code",
      "metadata": {
        "id": "IHtfi4xlXiHy",
        "colab_type": "code",
        "colab": {
          "base_uri": "https://localhost:8080/",
          "height": 197
        },
        "outputId": "9fbcf207-6054-40a8-d476-0654a3866d26"
      },
      "source": [
        "hist = pd.DataFrame(history.history)\n",
        "hist['epoch'] = history.epoch\n",
        "hist.tail()"
      ],
      "execution_count": 28,
      "outputs": [
        {
          "output_type": "execute_result",
          "data": {
            "text/html": [
              "<div>\n",
              "<style scoped>\n",
              "    .dataframe tbody tr th:only-of-type {\n",
              "        vertical-align: middle;\n",
              "    }\n",
              "\n",
              "    .dataframe tbody tr th {\n",
              "        vertical-align: top;\n",
              "    }\n",
              "\n",
              "    .dataframe thead th {\n",
              "        text-align: right;\n",
              "    }\n",
              "</style>\n",
              "<table border=\"1\" class=\"dataframe\">\n",
              "  <thead>\n",
              "    <tr style=\"text-align: right;\">\n",
              "      <th></th>\n",
              "      <th>loss</th>\n",
              "      <th>mean_absolute_error</th>\n",
              "      <th>mean_squared_error</th>\n",
              "      <th>val_loss</th>\n",
              "      <th>val_mean_absolute_error</th>\n",
              "      <th>val_mean_squared_error</th>\n",
              "      <th>epoch</th>\n",
              "    </tr>\n",
              "  </thead>\n",
              "  <tbody>\n",
              "    <tr>\n",
              "      <th>75</th>\n",
              "      <td>0.912580</td>\n",
              "      <td>0.731418</td>\n",
              "      <td>0.912580</td>\n",
              "      <td>2.037772</td>\n",
              "      <td>1.116817</td>\n",
              "      <td>2.037772</td>\n",
              "      <td>75</td>\n",
              "    </tr>\n",
              "    <tr>\n",
              "      <th>76</th>\n",
              "      <td>0.869560</td>\n",
              "      <td>0.702249</td>\n",
              "      <td>0.869560</td>\n",
              "      <td>1.888682</td>\n",
              "      <td>1.045465</td>\n",
              "      <td>1.888682</td>\n",
              "      <td>76</td>\n",
              "    </tr>\n",
              "    <tr>\n",
              "      <th>77</th>\n",
              "      <td>0.852558</td>\n",
              "      <td>0.709482</td>\n",
              "      <td>0.852558</td>\n",
              "      <td>2.071637</td>\n",
              "      <td>1.125381</td>\n",
              "      <td>2.071637</td>\n",
              "      <td>77</td>\n",
              "    </tr>\n",
              "    <tr>\n",
              "      <th>78</th>\n",
              "      <td>0.819172</td>\n",
              "      <td>0.674230</td>\n",
              "      <td>0.819172</td>\n",
              "      <td>1.726498</td>\n",
              "      <td>0.994342</td>\n",
              "      <td>1.726498</td>\n",
              "      <td>78</td>\n",
              "    </tr>\n",
              "    <tr>\n",
              "      <th>79</th>\n",
              "      <td>0.819129</td>\n",
              "      <td>0.697129</td>\n",
              "      <td>0.819129</td>\n",
              "      <td>2.571079</td>\n",
              "      <td>1.257082</td>\n",
              "      <td>2.571079</td>\n",
              "      <td>79</td>\n",
              "    </tr>\n",
              "  </tbody>\n",
              "</table>\n",
              "</div>"
            ],
            "text/plain": [
              "        loss  mean_absolute_error  ...  val_mean_squared_error  epoch\n",
              "75  0.912580             0.731418  ...                2.037772     75\n",
              "76  0.869560             0.702249  ...                1.888682     76\n",
              "77  0.852558             0.709482  ...                2.071637     77\n",
              "78  0.819172             0.674230  ...                1.726498     78\n",
              "79  0.819129             0.697129  ...                2.571079     79\n",
              "\n",
              "[5 rows x 7 columns]"
            ]
          },
          "metadata": {
            "tags": []
          },
          "execution_count": 28
        }
      ]
    },
    {
      "cell_type": "code",
      "metadata": {
        "id": "VPI7VDvrXvJb",
        "colab_type": "code",
        "colab": {
          "base_uri": "https://localhost:8080/",
          "height": 549
        },
        "outputId": "bb30779c-1197-42b0-c174-5b49d9813957"
      },
      "source": [
        "def plot_history(history):\n",
        "  hist = pd.DataFrame(history.history)\n",
        "  hist['epoch'] = history.epoch\n",
        "\n",
        "  plt.figure()\n",
        "  plt.xlabel('Epoch')\n",
        "  plt.ylabel('Mean Abs Error [ST]')\n",
        "  plt.plot(hist['epoch'], hist['mean_absolute_error'],\n",
        "           label='Train Error')\n",
        "  plt.plot(hist['epoch'], hist['val_mean_absolute_error'],\n",
        "           label = 'Val Error')\n",
        "  plt.ylim([0,10])\n",
        "  plt.legend()\n",
        "\n",
        "  plt.figure()\n",
        "  plt.xlabel('Epoch')\n",
        "  plt.ylabel('Mean Square Error [$ST^2$]')\n",
        "  plt.plot(hist['epoch'], hist['mean_squared_error'],\n",
        "           label='Train Error')\n",
        "  plt.plot(hist['epoch'], hist['val_mean_squared_error'],\n",
        "           label = 'Val Error')\n",
        "  plt.ylim([0,200])\n",
        "  plt.legend()\n",
        "  plt.show()\n",
        "\n",
        "\n",
        "plot_history(history)"
      ],
      "execution_count": 34,
      "outputs": [
        {
          "output_type": "display_data",
          "data": {
            "image/png": "[encoded data removed]",
            "text/plain": [
              "<Figure size 432x288 with 1 Axes>"
            ]
          },
          "metadata": {
            "tags": [],
            "needs_background": "light"
          }
        },
        {
          "output_type": "display_data",
          "data": {
            "image/png": "[encoded data removed]",
            "text/plain": [
              "<Figure size 432x288 with 1 Axes>"
            ]
          },
          "metadata": {
            "tags": [],
            "needs_background": "light"
          }
        }
      ]
    },
    {
      "cell_type": "markdown",
      "metadata": {
        "colab_type": "text",
        "id": "3St8-DmrX8P4"
      },
      "source": [
        "The graph shows that on the validation set, the average error is usually around +/- 2 MPG. Is this good? We'll leave that decision up to you.\n",
        "\n",
        "Let's see how well the model generalizes by using the **test** set, which we did not use when training the model.  This tells us how well we can expect the model to predict when we use it in the real world."
      ]
    },
    {
      "cell_type": "code",
      "metadata": {
        "colab_type": "code",
        "id": "jl_yNr5n1kms",
        "colab": {
          "base_uri": "https://localhost:8080/",
          "height": 33
        },
        "outputId": "fc3ddfd6-a7b5-4288-cdb5-dab56fe38c86"
      },
      "source": [
        "loss, mae, mse = model.evaluate(normed_test_data, test_labels, verbose=0)\n",
        "\n",
        "print(\"Testing set Mean Abs Error: {:5.2f} mN/m\".format(mae))"
      ],
      "execution_count": 30,
      "outputs": [
        {
          "output_type": "stream",
          "text": [
            "Testing set Mean Abs Error:  1.30 mN/m\n"
          ],
          "name": "stdout"
        }
      ]
    },
    {
      "cell_type": "markdown",
      "metadata": {
        "colab_type": "text",
        "id": "ft603OzXuEZC"
      },
      "source": [
        "### Make predictions\n",
        "\n",
        "Finally, predict volt values using data in the testing set:"
      ]
    },
    {
      "cell_type": "code",
      "metadata": {
        "colab_type": "code",
        "id": "Xe7RXH3N3CWU",
        "colab": {
          "base_uri": "https://localhost:8080/",
          "height": 573
        },
        "outputId": "f04767db-2079-489e-99e5-596152359653"
      },
      "source": [
        "test_predictions = model.predict(normed_test_data).flatten()\n",
        "\n",
        "plt.scatter(test_labels, test_predictions)\n",
        "plt.title('Normalized test data')\n",
        "plt.xlabel('True Values [surface tension - mN/m]')\n",
        "plt.ylabel('Predictions [surface tension - mN/m]')\n",
        "plt.axis('equal')\n",
        "plt.axis('square')\n",
        "plt.xlim([10,75])\n",
        "plt.ylim([10,75])\n",
        "_ = plt.plot([-100, 100], [-100, 100])\n",
        "plt.show()\n",
        "\n",
        "test_predictions2 = model.predict(normed_train_data).flatten()\n",
        "\n",
        "plt.scatter(train_labels, test_predictions2)\n",
        "plt.title('Normalized training data')\n",
        "plt.xlabel('True Values [surface tension - mN/m]')\n",
        "plt.ylabel('Predictions [surface tension - mN/m]')\n",
        "plt.axis('equal')\n",
        "plt.axis('square')\n",
        "plt.xlim([10,75])\n",
        "plt.ylim([10,75])\n",
        "_ = plt.plot([-100, 100], [-100, 100])\n",
        "plt.show()\n"
      ],
      "execution_count": 32,
      "outputs": [
        {
          "output_type": "display_data",
          "data": {
            "image/png": "[encoded data removed]",
            "text/plain": [
              "<Figure size 432x288 with 1 Axes>"
            ]
          },
          "metadata": {
            "tags": [],
            "needs_background": "light"
          }
        },
        {
          "output_type": "display_data",
          "data": {
            "image/png": "[encoded data removed]",
            "text/plain": [
              "<Figure size 432x288 with 1 Axes>"
            ]
          },
          "metadata": {
            "tags": [],
            "needs_background": "light"
          }
        }
      ]
    },
    {
      "cell_type": "markdown",
      "metadata": {
        "colab_type": "text",
        "id": "OrkHGKZcusUo"
      },
      "source": [
        "Seriously?"
      ]
    },
    {
      "cell_type": "code",
      "metadata": {
        "colab_type": "code",
        "id": "f-OHX4DiXd8x",
        "colab": {
          "base_uri": "https://localhost:8080/",
          "height": 279
        },
        "outputId": "ee62556b-0e47-45d1-cc55-aa1971dd0bb3"
      },
      "source": [
        "error = test_predictions - test_labels\n",
        "plt.hist(error, bins = 50)\n",
        "plt.xlabel(\"Prediction Error [volt]\")\n",
        "_ = plt.ylabel(\"Count\")\n",
        "plt.show()"
      ],
      "execution_count": 33,
      "outputs": [
        {
          "output_type": "display_data",
          "data": {
            "image/png": "[encoded data removed]",
            "text/plain": [
              "<Figure size 432x288 with 1 Axes>"
            ]
          },
          "metadata": {
            "tags": [],
            "needs_background": "light"
          }
        }
      ]
    }
  ]
}