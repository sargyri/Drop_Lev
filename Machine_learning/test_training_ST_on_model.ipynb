{
  "nbformat": 4,
  "nbformat_minor": 0,
  "metadata": {
    "colab": {
      "name": "test_training_ST_on_model.ipynb",
      "provenance": [],
      "collapsed_sections": [],
      "toc_visible": true
    },
    "kernelspec": {
      "display_name": "Python 3",
      "language": "python",
      "name": "python3"
    },
    "language_info": {
      "codemirror_mode": {
        "name": "ipython",
        "version": 3
      },
      "file_extension": ".py",
      "mimetype": "text/x-python",
      "name": "python",
      "nbconvert_exporter": "python",
      "pygments_lexer": "ipython3",
      "version": "3.6.9"
    },
    "accelerator": "GPU"
  },
  "cells": [
    {
      "cell_type": "markdown",
      "metadata": {
        "id": "FhGuhbZ6M5tl"
      },
      "source": [
        "##### Copyright 2018 The TensorFlow Authors."
      ]
    },
    {
      "cell_type": "code",
      "metadata": {
        "cellView": "form",
        "id": "AwOEIRJC6Une"
      },
      "source": [
        "#@title Licensed under the Apache License, Version 2.0 (the \"License\");\n",
        "# you may not use this file except in compliance with the License.\n",
        "# You may obtain a copy of the License at\n",
        "#\n",
        "# https://www.apache.org/licenses/LICENSE-2.0\n",
        "#\n",
        "# Unless required by applicable law or agreed to in writing, software\n",
        "# distributed under the License is distributed on an \"AS IS\" BASIS,\n",
        "# WITHOUT WARRANTIES OR CONDITIONS OF ANY KIND, either express or implied.\n",
        "# See the License for the specific language governing permissions and\n",
        "# limitations under the License."
      ],
      "execution_count": null,
      "outputs": []
    },
    {
      "cell_type": "code",
      "metadata": {
        "cellView": "form",
        "id": "KyPEtTqk6VdG"
      },
      "source": [
        "#@title MIT License\n",
        "#\n",
        "# Copyright (c) 2017 François Chollet\n",
        "#\n",
        "# Permission is hereby granted, free of charge, to any person obtaining a\n",
        "# copy of this software and associated documentation files (the \"Software\"),\n",
        "# to deal in the Software without restriction, including without limitation\n",
        "# the rights to use, copy, modify, merge, publish, distribute, sublicense,\n",
        "# and/or sell copies of the Software, and to permit persons to whom the\n",
        "# Software is furnished to do so, subject to the following conditions:\n",
        "#\n",
        "# The above copyright notice and this permission notice shall be included in\n",
        "# all copies or substantial portions of the Software.\n",
        "#\n",
        "# THE SOFTWARE IS PROVIDED \"AS IS\", WITHOUT WARRANTY OF ANY KIND, EXPRESS OR\n",
        "# IMPLIED, INCLUDING BUT NOT LIMITED TO THE WARRANTIES OF MERCHANTABILITY,\n",
        "# FITNESS FOR A PARTICULAR PURPOSE AND NONINFRINGEMENT. IN NO EVENT SHALL\n",
        "# THE AUTHORS OR COPYRIGHT HOLDERS BE LIABLE FOR ANY CLAIM, DAMAGES OR OTHER\n",
        "# LIABILITY, WHETHER IN AN ACTION OF CONTRACT, TORT OR OTHERWISE, ARISING\n",
        "# FROM, OUT OF OR IN CONNECTION WITH THE SOFTWARE OR THE USE OR OTHER\n",
        "# DEALINGS IN THE SOFTWARE."
      ],
      "execution_count": null,
      "outputs": []
    },
    {
      "cell_type": "markdown",
      "metadata": {
        "id": "EIdT9iu_Z4Rb"
      },
      "source": [
        "# Lev Droplet "
      ]
    },
    {
      "cell_type": "markdown",
      "metadata": {
        "id": "bBIlTPscrIT9"
      },
      "source": [
        "<table class=\"tfo-notebook-buttons\" align=\"left\">\n",
        "  <td>\n",
        "    <a target=\"_blank\" href=\"https://www.tensorflow.org/tutorials/keras/basic_regression\"><img src=\"https://www.tensorflow.org/images/tf_logo_32px.png\" />View on TensorFlow.org</a>\n",
        "  </td>\n",
        "  <td>\n",
        "    <a target=\"_blank\" href=\"https://colab.research.google.com/github/tensorflow/docs/blob/r2.0rc/site/en/tutorials/keras/basic_regression.ipynb\"><img src=\"https://www.tensorflow.org/images/colab_logo_32px.png\" />Run in Google Colab</a>\n",
        "  </td>\n",
        "  <td>\n",
        "    <a target=\"_blank\" href=\"https://github.com/tensorflow/docs/blob/r2.0rc/site/en/tutorials/keras/basic_regression.ipynb\"><img src=\"https://www.tensorflow.org/images/GitHub-Mark-32px.png\" />View source on GitHub</a>\n",
        "  </td>\n",
        "</table>"
      ]
    },
    {
      "cell_type": "markdown",
      "metadata": {
        "id": "AHp3M9ZmrIxj"
      },
      "source": [
        "Training NN model(s) on theoretical data generated via the simple physical model"
      ]
    },
    {
      "cell_type": "code",
      "metadata": {
        "id": "IbpYKApN-KAR",
        "scrolled": true,
        "colab": {
          "base_uri": "https://localhost:8080/"
        },
        "outputId": "00f42aef-f5de-49f1-ffba-b004ebed7851"
      },
      "source": [
        "!pip install lmfit\n",
        "#!pip install seaborn"
      ],
      "execution_count": 1,
      "outputs": [
        {
          "output_type": "stream",
          "text": [
            "Collecting lmfit\n",
            "\u001b[?25l  Downloading https://files.pythonhosted.org/packages/67/70/0ef97b9d67b63efce0b720563e1c87ebfc15b565e89adde0c66c1025c848/lmfit-1.0.2.tar.gz (306kB)\n",
            "\u001b[K     |████████████████████████████████| 307kB 19.3MB/s \n",
            "\u001b[?25hCollecting asteval>=0.9.16\n",
            "\u001b[?25l  Downloading https://files.pythonhosted.org/packages/32/06/efc5ea08dc44836abbabbd949d944d6fde08312ce756557e16ab1ca477a4/asteval-0.9.23.tar.gz (55kB)\n",
            "\u001b[K     |████████████████████████████████| 61kB 10.5MB/s \n",
            "\u001b[?25hRequirement already satisfied: numpy>=1.16 in /usr/local/lib/python3.7/dist-packages (from lmfit) (1.19.5)\n",
            "Requirement already satisfied: scipy>=1.2 in /usr/local/lib/python3.7/dist-packages (from lmfit) (1.4.1)\n",
            "Collecting uncertainties>=3.0.1\n",
            "\u001b[?25l  Downloading https://files.pythonhosted.org/packages/45/41/fc7e7b73b603e7c2c9e040b7aa8caf4a88d74b6faa567601ed82b6f0d8e1/uncertainties-3.1.5-py2.py3-none-any.whl (246kB)\n",
            "\u001b[K     |████████████████████████████████| 256kB 51.6MB/s \n",
            "\u001b[?25hRequirement already satisfied: future in /usr/local/lib/python3.7/dist-packages (from uncertainties>=3.0.1->lmfit) (0.16.0)\n",
            "Building wheels for collected packages: lmfit, asteval\n",
            "  Building wheel for lmfit (setup.py) ... \u001b[?25l\u001b[?25hdone\n",
            "  Created wheel for lmfit: filename=lmfit-1.0.2-cp37-none-any.whl size=85265 sha256=3b2dbfe4bd5cf880a73f4ea0b6697ae503aaaeb85382bfa9cc7e8000876d13e8\n",
            "  Stored in directory: /root/.cache/pip/wheels/d4/5e/db/d9f5987d9f15bf910feb5e0274ac601d5f2161dc78aedfacfa\n",
            "  Building wheel for asteval (setup.py) ... \u001b[?25l\u001b[?25hdone\n",
            "  Created wheel for asteval: filename=asteval-0.9.23-cp37-none-any.whl size=17419 sha256=316963e3aa87f8d1ca4a007f053f3945cb0b6d70e4fca170eeadeb45d5bd5100\n",
            "  Stored in directory: /root/.cache/pip/wheels/56/d6/43/4b5d8a9fd98b976031768673658c8b8d08dc9dcc0fa1907ad0\n",
            "Successfully built lmfit asteval\n",
            "Installing collected packages: asteval, uncertainties, lmfit\n",
            "Successfully installed asteval-0.9.23 lmfit-1.0.2 uncertainties-3.1.5\n"
          ],
          "name": "stdout"
        }
      ]
    },
    {
      "cell_type": "code",
      "metadata": {
        "id": "jyE0M3V99EdP",
        "scrolled": true,
        "colab": {
          "base_uri": "https://localhost:8080/"
        },
        "outputId": "0d59385f-9286-480a-d16f-3935c7ca12fa"
      },
      "source": [
        "import numpy as np\n",
        "#import cv2\n",
        "import os\n",
        "import re\n",
        "import glob\n",
        "import matplotlib.pyplot as plt\n",
        "from scipy.signal import  gaussian\n",
        "from scipy.ndimage import filters\n",
        "from scipy import optimize\n",
        "from scipy.stats import linregress\n",
        "from mpl_toolkits.mplot3d import Axes3D\n",
        "\n",
        "import seaborn as sns\n",
        "\n",
        "import scipy as sp\n",
        "import scipy.interpolate\n",
        "from scipy.integrate import trapz\n",
        "\n",
        "import time\n",
        "\n",
        "import pandas as pd\n",
        "\n",
        "from lmfit import Model, fit_report, Parameters\n",
        "\n",
        "#from __future__ import absolute_import, division, print_function, unicode_literals\n",
        "\n",
        "import pathlib\n",
        "\n",
        "import matplotlib.pyplot as plt\n",
        "import pandas as pd\n",
        "import seaborn as sns\n",
        "\n",
        "import tensorflow as tf\n",
        "from tensorflow import keras\n",
        "from tensorflow.keras import layers\n",
        "\n",
        "import io\n",
        "\n",
        "print(tf.__version__)\n",
        "print(\"Num GPUs Available: \", len(tf.config.experimental.list_physical_devices('GPU')))\n",
        "\n",
        "\n",
        "######### initialize the data ###############\n",
        "data_input=[]\n",
        "data_output=[]\n",
        "l_sample=300\n",
        "vol_all=[]\n",
        "vol2_all=[]\n",
        "data_x=[]\n",
        "data_y=[]\n",
        "data_h=[]\n",
        "data_w=[]\n",
        "R_sph_all=[]\n",
        "Ar=[]\n",
        "#st_all=[]\n",
        "rho=[]\n",
        "theta=[]\n",
        "#List of non-processed images:\n",
        "discarded=[]\n",
        "new=[]  #list of images without the discarded ones\n",
        "\n",
        "#For the simple approach fit\n",
        "phi_final=[]\n",
        "theta_az=[]\n",
        "theta_all=[]\n",
        "theta_final=[]\n",
        "r_theta_all=[]\n",
        "xc_all=[]\n",
        "yc_all=[]\n",
        "rho_final=[]\n",
        "data_Ps=[]\n",
        "data_dB=[]\n",
        "data_stderr=[]\n",
        "data_err=[]\n",
        "\n",
        "total_num_pictures = len(glob.glob1('.',\"*.png\"))\n",
        "frame_number=np.arange(total_num_pictures)\n",
        "\n",
        "gamma=64 #[N/m]\n",
        "Cg_air=1/101325 #Pa**(-1)\n",
        "k_o=2*np.pi*40/340  #wave number in the air. frequency 40kHz (25kH=0.000040sec) and speed of sound in air v=340 m/s from paper (331.5 for 20oC online) \n",
        "#Calibration\n",
        "needle_d=0.83 #mm\n",
        "needle_pxl=220 #pixels\n",
        "#calibration=0.00621722846441948**3\n",
        "cal=needle_d/needle_pxl\n",
        "calibration=(cal)**3\n",
        "\n",
        "\n",
        "###############################################################################\n",
        "#### Functions used in the data processing ####################################\n",
        "###############################################################################\n",
        "\n",
        "def calc_volume(x,y):\n",
        "    \"\"\"\n",
        "    Calculate the drop volume from a shape matrix.\n",
        "\n",
        "    Parameters\n",
        "    ----------\n",
        "    x, y - contour of the drop\n",
        "\n",
        "    Returns\n",
        "    -------\n",
        "    Integrated volume using for the given shape matrix.\n",
        "\n",
        "    \"\"\"\n",
        "    # data selection\n",
        "    idx=x<=0  # r=right\n",
        "    x_l=x[idx]\n",
        "    y_l=y[idx]\n",
        "        \n",
        "    vol_left=trapz(np.pi*x_l**2, y_l)/2\n",
        "        \n",
        "    # data selection\n",
        "    idx=x>=0  # r=right\n",
        "    x_r=x[idx]\n",
        "    y_r=y[idx]\n",
        "    vol_right=-trapz(np.pi*x_r**2, y_r)/2\n",
        "   \n",
        "    return vol_left+vol_right\n",
        "\n",
        "\n",
        "def calc_R_sph(vol):\n",
        "    \"\"\"\n",
        "    Calculate the spherical radius of a droplet based on the volume.\n",
        "\n",
        "    Input parameters\n",
        "    ----------\n",
        "    vol:         volume   [pixels**3]\n",
        "    calibration: calibration factor  [mm**3/pixels**3]\n",
        "\n",
        "    Returns\n",
        "    -------\n",
        "    Corresponding spherical radius.  [mm]\n",
        "\n",
        "    \"\"\"\n",
        "#    calibration=0.00621722846441948**3\n",
        "    #R_sph=(3*vol*calibration/(4*np.pi))**(1/3)\n",
        "    R_sph=(3*vol/(4*np.pi))**(1/3)\n",
        "    return R_sph\n",
        "\n",
        "def calc_dB(Ps):\n",
        "    \"\"\"\n",
        "    Calculate the deci Bell (dB) value for each acoustic pressure Ps.\n",
        "\n",
        "    Input parameters\n",
        "    ----------\n",
        "    Ps:     aplitude of the acoustic pressure\n",
        "\n",
        "    Returns\n",
        "    -------\n",
        "    dB value. []\n",
        "\n",
        "    \"\"\"\n",
        "    Po=2*10**(-5) #[Pa]\n",
        "\n",
        "    return 20*np.log10(Ps/Po)     #Acoustic pressure [Pa]\n",
        "\n",
        "def model_fit(th, Ps):\n",
        "    \"\"\"\n",
        "    Express the model that will be used to fit the experimental data (simple approach).\n",
        "\n",
        "    Input parameters\n",
        "    ----------\n",
        "    dB:     deciBell\n",
        "    th:     angle theta\n",
        "    Returns\n",
        "    -------\n",
        "    Expression of fitting model.\n",
        "\n",
        "    \"\"\"\n",
        "#    Ps=calc_ampl(dB)\n",
        "    ct_new=-((3/(64*gamma))*R_sph**2*Ps**2*Cg_air*(1+((7/5)*(k_o*R_sph)**2)))\n",
        "    return ct_new*(3*(np.cos(th))**2-1)+R_sph\n",
        "\n",
        "\n",
        "def R_predict(th, gamma, R_sph, Ps, Cg_air, k_o):\n",
        "    \"\"\"\n",
        "    Prediction of ST. \n",
        "    After the acoustic pressure is determined. The ST is calculated based on the equation of our model. \n",
        "    \n",
        "    \n",
        "    Input parameters\n",
        "    ----------\n",
        "    th:     angle theta\n",
        "    gamma:  ST as initial predition [mN/m]\n",
        "    Power:  U*I [Watt]\n",
        "    Returns\n",
        "    -------\n",
        "    gamma:   predicted surface tension [mN/m]\n",
        "\n",
        "    \"\"\"    \n",
        "#    Ps=data_Ps[i-1]    #[Pa]\n",
        "    ct_new=-((3/(64*gamma))*R_sph**2*Ps**2*Cg_air*(1+((7/5)*(k_o*R_sph)**2)))*(3*(np.cos(th))**2-1)\n",
        "    return ct_new+R_sph\n",
        "\n",
        "def ST_predict(th, gamma, R_sph, Ps, Cg_air, k_o):\n",
        "    \"\"\"\n",
        "    Prediction of ST. \n",
        "    After the acoustic pressure is determined. The ST is calculated based on the equation of our model. \n",
        "    \n",
        "    \n",
        "    Input parameters\n",
        "    ----------\n",
        "    th:     angle theta\n",
        "    gamma:  ST as initial predition [mN/m]\n",
        "    Power:  U*I [Watt]\n",
        "    Returns\n",
        "    -------\n",
        "    gamma:   predicted surface tension [mN/m]\n",
        "\n",
        "    \"\"\"    \n",
        "#    Ps=data_Ps[i-1]    #[Pa]\n",
        "    ct_new=-((3/(64*gamma))*R_sph**2*Ps**2*Cg_air*(1+((7/5)*(k_o*R_sph)**2)))*(3*(np.cos(th))**2-1)\n",
        "    return ct_new+R_sph\n",
        "\n",
        "\n",
        "def azimuth(phi):\n",
        "    \"\"\"\n",
        "    Calculate the azimuthal angle.\n",
        "\n",
        "    Input parameters\n",
        "    ----------\n",
        "    phi:     angle phi\n",
        "\n",
        "    Returns\n",
        "    -------\n",
        "    Azimuthal angle.\n",
        "\n",
        "    \"\"\"\n",
        "\n",
        "    if phi<=np.pi/2:\n",
        "        a=np.pi/2-phi\n",
        "    else:\n",
        "        a=2.5*np.pi-phi\n",
        "    return a\n",
        "\n",
        "\n",
        "def cart2pol(x, y):\n",
        "    rho = np.sqrt(x**2 + y**2)\n",
        "    theta = np.arctan2(y, x)\n",
        "    return(theta, rho)\n",
        "\n",
        "def pol2cart(rho, phi):\n",
        "    x = rho * np.cos(phi)\n",
        "    y = rho * np.sin(phi)\n",
        "    return(x, y)\n",
        "\n",
        "\n",
        "def pol2cart_theta(rho, theta):\n",
        "    x = rho * np.sin(theta)\n",
        "    y = rho * np.cos(theta)\n",
        "    return(x, y)"
      ],
      "execution_count": 2,
      "outputs": [
        {
          "output_type": "stream",
          "text": [
            "2.4.1\n",
            "Num GPUs Available:  1\n"
          ],
          "name": "stdout"
        }
      ]
    },
    {
      "cell_type": "markdown",
      "metadata": {
        "id": "OgUp-UtJe3dA"
      },
      "source": [
        "Check the connection to google's **GPU**"
      ]
    },
    {
      "cell_type": "code",
      "metadata": {
        "id": "dgZHRBKye0v-",
        "colab": {
          "base_uri": "https://localhost:8080/"
        },
        "outputId": "5f6b4d85-06ae-489f-ba11-57bbd3791066"
      },
      "source": [
        "%tensorflow_version 2.x\n",
        "import tensorflow as tf\n",
        "device_name = tf.test.gpu_device_name()\n",
        "if device_name != '/device:GPU:0':\n",
        "  raise SystemError('GPU device not found')\n",
        "print('Found GPU at: {}'.format(device_name))"
      ],
      "execution_count": 3,
      "outputs": [
        {
          "output_type": "stream",
          "text": [
            "Found GPU at: /device:GPU:0\n"
          ],
          "name": "stdout"
        }
      ]
    },
    {
      "cell_type": "markdown",
      "metadata": {
        "id": "lsGCO8nDUAlJ"
      },
      "source": [
        "Generate random angle:\n",
        "20 000 sets of 200 points"
      ]
    },
    {
      "cell_type": "code",
      "metadata": {
        "id": "k2AMjiCZT_5m",
        "colab": {
          "base_uri": "https://localhost:8080/",
          "height": 1000
        },
        "outputId": "b63fc7d6-50fa-4ec1-b194-ccdea8904a27"
      },
      "source": [
        "def gen_data(num_sample,sampling):\n",
        "\n",
        "    #np.random.seed(1234)\n",
        "\n",
        "    vol_drop=np.random.random(num_sample)*(4-1)+1 # in µL\n",
        "    # vol_drop=np.tile(vol_drop, num_sample)   # If the volume is constant !!!\n",
        "\n",
        "    #gamma=72.8 #[mN/m]   \n",
        "    Cg_air=1/101325 #Pa**(-1)\n",
        "    k_o=2*np.pi*40/340  #wave number in the air in [mm^-1]. frequency 40kHz (25kH=0.000040sec) and speed of sound in air v=340 m/s from paper (331.5 for 20oC online) \n",
        "\n",
        "    Ps=np.random.random(num_sample)*(2800-700)+700  #[Pa]\n",
        "    R_sph=calc_R_sph(vol_drop)\n",
        "\n",
        "    theta=np.random.rand(num_sample, sampling)*np.pi*2\n",
        "    theta.sort()\n",
        "    \n",
        "    ST_range=np.random.random(num_sample)*(72-22)+22\n",
        "    r_all=np.empty([0,sampling])\n",
        "\n",
        "\n",
        "    for i in range(num_sample):\n",
        "        r=R_predict(theta[i], ST_range[i], R_sph[i], Ps[i], Cg_air, k_o)\n",
        "        r_all=np.vstack((r_all, r))\n",
        "        \n",
        "        if i % 10000 == 0:\n",
        "                print(i)\n",
        "        \n",
        "    \n",
        "    dataset=np.hstack((theta,r_all, vol_drop.reshape([num_sample, 1]), Ps.reshape([num_sample,1]), ST_range.reshape([num_sample,1])))\n",
        "\n",
        "    # print(ST_range.min())\n",
        "    # print(ST_range.max())\n",
        "\n",
        "    plt.figure()\n",
        "    plt.ylabel('Count')\n",
        "    plt.xlabel('Surface tension [mN/m]')\n",
        "    sns.distplot(ST_range)\n",
        "    plt.figure()\n",
        "    plt.ylabel('Count')\n",
        "    plt.xlabel('Acoustic pressure [Pa]')\n",
        "    sns.distplot(Ps)\n",
        "    plt.figure()\n",
        "    plt.ylabel('Count')\n",
        "    plt.xlabel('Volume [μL]')\n",
        "    sns.distplot(vol_drop)\n",
        "\n",
        "    fig3 = plt.figure()\n",
        "    ax = plt.gca()\n",
        "    ax.set_aspect(1)\n",
        "    ax.set_xlim([-1.5,1.5])\n",
        "    ax.set_ylim([-1.5,1.5])\n",
        "    \n",
        "\n",
        "    for j in dataset:\n",
        "\n",
        "      x,y=pol2cart_theta(j[sampling:sampling+sampling], j[0:sampling])\n",
        "\n",
        "      plt.plot(x,y)\n",
        "\n",
        "    plt.show()\n",
        "    return dataset\n",
        "\n",
        "num_sample=100000  # number of different ST values\n",
        "sampling=175 # number of coordiante point describing the contour\n",
        "\n",
        "\n",
        "dataset=gen_data(num_sample,sampling)\n",
        "\n",
        "\n",
        "column_names=[]\n",
        "for i in range(sampling):\n",
        "  column_names.append('theta')\n",
        "for i in range(sampling):\n",
        "  column_names.append('rho')\n",
        "column_names.append('vol')\n",
        "column_names.append('Ps')\n",
        "column_names.append('ST')\n",
        "\n",
        "\n",
        "raw_dataset = pd.DataFrame(dataset, columns=column_names)\n",
        "\n",
        "# raw_dataset.to_csv('./dataset.csv',index=False)\n"
      ],
      "execution_count": 29,
      "outputs": [
        {
          "output_type": "stream",
          "text": [
            "0\n",
            "10000\n",
            "20000\n",
            "30000\n",
            "40000\n",
            "50000\n",
            "60000\n",
            "70000\n",
            "80000\n",
            "90000\n"
          ],
          "name": "stdout"
        },
        {
          "output_type": "stream",
          "text": [
            "/usr/local/lib/python3.7/dist-packages/seaborn/distributions.py:2557: FutureWarning: `distplot` is a deprecated function and will be removed in a future version. Please adapt your code to use either `displot` (a figure-level function with similar flexibility) or `histplot` (an axes-level function for histograms).\n",
            "  warnings.warn(msg, FutureWarning)\n",
            "/usr/local/lib/python3.7/dist-packages/seaborn/distributions.py:2557: FutureWarning: `distplot` is a deprecated function and will be removed in a future version. Please adapt your code to use either `displot` (a figure-level function with similar flexibility) or `histplot` (an axes-level function for histograms).\n",
            "  warnings.warn(msg, FutureWarning)\n",
            "/usr/local/lib/python3.7/dist-packages/seaborn/distributions.py:2557: FutureWarning: `distplot` is a deprecated function and will be removed in a future version. Please adapt your code to use either `displot` (a figure-level function with similar flexibility) or `histplot` (an axes-level function for histograms).\n",
            "  warnings.warn(msg, FutureWarning)\n"
          ],
          "name": "stderr"
        },
        {
          "output_type": "display_data",
          "data": {
            "image/png": "[encoded data removed]",
            "text/plain": [
              "<Figure size 432x288 with 1 Axes>"
            ]
          },
          "metadata": {
            "tags": [],
            "needs_background": "light"
          }
        },
        {
          "output_type": "display_data",
          "data": {
            "image/png": "[encoded data removed]",
            "text/plain": [
              "<Figure size 432x288 with 1 Axes>"
            ]
          },
          "metadata": {
            "tags": [],
            "needs_background": "light"
          }
        },
        {
          "output_type": "display_data",
          "data": {
            "image/png": "[encoded data removed]",
            "text/plain": [
              "<Figure size 432x288 with 1 Axes>"
            ]
          },
          "metadata": {
            "tags": [],
            "needs_background": "light"
          }
        },
        {
          "output_type": "display_data",
          "data": {
            "image/png": "[encoded data removed]",
            "text/plain": [
              "<Figure size 432x288 with 1 Axes>"
            ]
          },
          "metadata": {
            "tags": [],
            "needs_background": "light"
          }
        }
      ]
    },
    {
      "cell_type": "code",
      "metadata": {
        "id": "l83INVYlZsND"
      },
      "source": [
        "\n",
        "#input = pd.read_csv(io.BytesIO(uploaded['data.csv']))\n",
        "#input = pd.DataFrame(dataset)\n",
        "# Dataset is now stored in a Pandas Dataframe\n",
        "#input.size\n"
      ],
      "execution_count": null,
      "outputs": []
    },
    {
      "cell_type": "code",
      "metadata": {
        "id": "CiX2FI4gZtTt",
        "colab": {
          "base_uri": "https://localhost:8080/",
          "height": 253
        },
        "outputId": "440395fd-f868-4e18-e562-53350670f21c"
      },
      "source": [
        "# loading of data\n",
        "# raw_dataset=pd.read_csv('dataset.csv')\n",
        "\n",
        "dataset = raw_dataset.copy()\n",
        "# dataset.pop('vol')\n",
        "dataset.tail()\n"
      ],
      "execution_count": 30,
      "outputs": [
        {
          "output_type": "execute_result",
          "data": {
            "text/html": [
              "<div>\n",
              "<style scoped>\n",
              "    .dataframe tbody tr th:only-of-type {\n",
              "        vertical-align: middle;\n",
              "    }\n",
              "\n",
              "    .dataframe tbody tr th {\n",
              "        vertical-align: top;\n",
              "    }\n",
              "\n",
              "    .dataframe thead th {\n",
              "        text-align: right;\n",
              "    }\n",
              "</style>\n",
              "<table border=\"1\" class=\"dataframe\">\n",
              "  <thead>\n",
              "    <tr style=\"text-align: right;\">\n",
              "      <th></th>\n",
              "      <th>theta</th>\n",
              "      <th>theta</th>\n",
              "      <th>theta</th>\n",
              "      <th>theta</th>\n",
              "      <th>theta</th>\n",
              "      <th>theta</th>\n",
              "      <th>theta</th>\n",
              "      <th>theta</th>\n",
              "      <th>theta</th>\n",
              "      <th>theta</th>\n",
              "      <th>theta</th>\n",
              "      <th>theta</th>\n",
              "      <th>theta</th>\n",
              "      <th>theta</th>\n",
              "      <th>theta</th>\n",
              "      <th>theta</th>\n",
              "      <th>theta</th>\n",
              "      <th>theta</th>\n",
              "      <th>theta</th>\n",
              "      <th>theta</th>\n",
              "      <th>theta</th>\n",
              "      <th>theta</th>\n",
              "      <th>theta</th>\n",
              "      <th>theta</th>\n",
              "      <th>theta</th>\n",
              "      <th>theta</th>\n",
              "      <th>theta</th>\n",
              "      <th>theta</th>\n",
              "      <th>theta</th>\n",
              "      <th>theta</th>\n",
              "      <th>theta</th>\n",
              "      <th>theta</th>\n",
              "      <th>theta</th>\n",
              "      <th>theta</th>\n",
              "      <th>theta</th>\n",
              "      <th>theta</th>\n",
              "      <th>theta</th>\n",
              "      <th>theta</th>\n",
              "      <th>theta</th>\n",
              "      <th>theta</th>\n",
              "      <th>...</th>\n",
              "      <th>rho</th>\n",
              "      <th>rho</th>\n",
              "      <th>rho</th>\n",
              "      <th>rho</th>\n",
              "      <th>rho</th>\n",
              "      <th>rho</th>\n",
              "      <th>rho</th>\n",
              "      <th>rho</th>\n",
              "      <th>rho</th>\n",
              "      <th>rho</th>\n",
              "      <th>rho</th>\n",
              "      <th>rho</th>\n",
              "      <th>rho</th>\n",
              "      <th>rho</th>\n",
              "      <th>rho</th>\n",
              "      <th>rho</th>\n",
              "      <th>rho</th>\n",
              "      <th>rho</th>\n",
              "      <th>rho</th>\n",
              "      <th>rho</th>\n",
              "      <th>rho</th>\n",
              "      <th>rho</th>\n",
              "      <th>rho</th>\n",
              "      <th>rho</th>\n",
              "      <th>rho</th>\n",
              "      <th>rho</th>\n",
              "      <th>rho</th>\n",
              "      <th>rho</th>\n",
              "      <th>rho</th>\n",
              "      <th>rho</th>\n",
              "      <th>rho</th>\n",
              "      <th>rho</th>\n",
              "      <th>rho</th>\n",
              "      <th>rho</th>\n",
              "      <th>rho</th>\n",
              "      <th>rho</th>\n",
              "      <th>rho</th>\n",
              "      <th>vol</th>\n",
              "      <th>Ps</th>\n",
              "      <th>ST</th>\n",
              "    </tr>\n",
              "  </thead>\n",
              "  <tbody>\n",
              "    <tr>\n",
              "      <th>99995</th>\n",
              "      <td>0.021842</td>\n",
              "      <td>0.023116</td>\n",
              "      <td>0.024171</td>\n",
              "      <td>0.028756</td>\n",
              "      <td>0.030178</td>\n",
              "      <td>0.107222</td>\n",
              "      <td>0.153649</td>\n",
              "      <td>0.164185</td>\n",
              "      <td>0.176079</td>\n",
              "      <td>0.225088</td>\n",
              "      <td>0.231596</td>\n",
              "      <td>0.249163</td>\n",
              "      <td>0.269986</td>\n",
              "      <td>0.309946</td>\n",
              "      <td>0.371949</td>\n",
              "      <td>0.414643</td>\n",
              "      <td>0.454860</td>\n",
              "      <td>0.497561</td>\n",
              "      <td>0.503243</td>\n",
              "      <td>0.518037</td>\n",
              "      <td>0.552248</td>\n",
              "      <td>0.557012</td>\n",
              "      <td>0.709613</td>\n",
              "      <td>0.759174</td>\n",
              "      <td>0.785864</td>\n",
              "      <td>0.836927</td>\n",
              "      <td>0.883911</td>\n",
              "      <td>0.891308</td>\n",
              "      <td>0.908405</td>\n",
              "      <td>0.958924</td>\n",
              "      <td>0.966055</td>\n",
              "      <td>0.991981</td>\n",
              "      <td>0.992851</td>\n",
              "      <td>1.040232</td>\n",
              "      <td>1.042881</td>\n",
              "      <td>1.049782</td>\n",
              "      <td>1.178075</td>\n",
              "      <td>1.200533</td>\n",
              "      <td>1.262858</td>\n",
              "      <td>1.308157</td>\n",
              "      <td>...</td>\n",
              "      <td>0.909888</td>\n",
              "      <td>0.909906</td>\n",
              "      <td>0.909801</td>\n",
              "      <td>0.909559</td>\n",
              "      <td>0.908440</td>\n",
              "      <td>0.906319</td>\n",
              "      <td>0.905170</td>\n",
              "      <td>0.903953</td>\n",
              "      <td>0.903761</td>\n",
              "      <td>0.900878</td>\n",
              "      <td>0.900001</td>\n",
              "      <td>0.899148</td>\n",
              "      <td>0.898247</td>\n",
              "      <td>0.892123</td>\n",
              "      <td>0.891634</td>\n",
              "      <td>0.888674</td>\n",
              "      <td>0.887141</td>\n",
              "      <td>0.885843</td>\n",
              "      <td>0.881806</td>\n",
              "      <td>0.880143</td>\n",
              "      <td>0.878148</td>\n",
              "      <td>0.873972</td>\n",
              "      <td>0.872395</td>\n",
              "      <td>0.871631</td>\n",
              "      <td>0.869926</td>\n",
              "      <td>0.868802</td>\n",
              "      <td>0.868754</td>\n",
              "      <td>0.868005</td>\n",
              "      <td>0.867872</td>\n",
              "      <td>0.858752</td>\n",
              "      <td>0.858033</td>\n",
              "      <td>0.856320</td>\n",
              "      <td>0.855718</td>\n",
              "      <td>0.855629</td>\n",
              "      <td>0.855408</td>\n",
              "      <td>0.850738</td>\n",
              "      <td>0.850668</td>\n",
              "      <td>2.954585</td>\n",
              "      <td>1536.494749</td>\n",
              "      <td>70.387546</td>\n",
              "    </tr>\n",
              "    <tr>\n",
              "      <th>99996</th>\n",
              "      <td>0.107519</td>\n",
              "      <td>0.115354</td>\n",
              "      <td>0.134023</td>\n",
              "      <td>0.135654</td>\n",
              "      <td>0.188303</td>\n",
              "      <td>0.231101</td>\n",
              "      <td>0.294570</td>\n",
              "      <td>0.302351</td>\n",
              "      <td>0.351916</td>\n",
              "      <td>0.362901</td>\n",
              "      <td>0.378677</td>\n",
              "      <td>0.383521</td>\n",
              "      <td>0.388904</td>\n",
              "      <td>0.395093</td>\n",
              "      <td>0.414595</td>\n",
              "      <td>0.439125</td>\n",
              "      <td>0.500390</td>\n",
              "      <td>0.529889</td>\n",
              "      <td>0.611595</td>\n",
              "      <td>0.670980</td>\n",
              "      <td>0.694635</td>\n",
              "      <td>0.800858</td>\n",
              "      <td>0.903192</td>\n",
              "      <td>0.982934</td>\n",
              "      <td>0.991407</td>\n",
              "      <td>1.008365</td>\n",
              "      <td>1.048833</td>\n",
              "      <td>1.050630</td>\n",
              "      <td>1.092007</td>\n",
              "      <td>1.093891</td>\n",
              "      <td>1.109832</td>\n",
              "      <td>1.134895</td>\n",
              "      <td>1.181109</td>\n",
              "      <td>1.195442</td>\n",
              "      <td>1.273700</td>\n",
              "      <td>1.279217</td>\n",
              "      <td>1.304680</td>\n",
              "      <td>1.323587</td>\n",
              "      <td>1.365705</td>\n",
              "      <td>1.422414</td>\n",
              "      <td>...</td>\n",
              "      <td>0.953730</td>\n",
              "      <td>0.953278</td>\n",
              "      <td>0.953249</td>\n",
              "      <td>0.951209</td>\n",
              "      <td>0.949860</td>\n",
              "      <td>0.949039</td>\n",
              "      <td>0.948758</td>\n",
              "      <td>0.948254</td>\n",
              "      <td>0.946289</td>\n",
              "      <td>0.943630</td>\n",
              "      <td>0.942320</td>\n",
              "      <td>0.941051</td>\n",
              "      <td>0.941042</td>\n",
              "      <td>0.939975</td>\n",
              "      <td>0.939560</td>\n",
              "      <td>0.936926</td>\n",
              "      <td>0.936343</td>\n",
              "      <td>0.936221</td>\n",
              "      <td>0.936044</td>\n",
              "      <td>0.934787</td>\n",
              "      <td>0.934568</td>\n",
              "      <td>0.934192</td>\n",
              "      <td>0.928276</td>\n",
              "      <td>0.927974</td>\n",
              "      <td>0.926792</td>\n",
              "      <td>0.926516</td>\n",
              "      <td>0.925041</td>\n",
              "      <td>0.924928</td>\n",
              "      <td>0.922063</td>\n",
              "      <td>0.921645</td>\n",
              "      <td>0.921630</td>\n",
              "      <td>0.918758</td>\n",
              "      <td>0.918360</td>\n",
              "      <td>0.916053</td>\n",
              "      <td>0.915498</td>\n",
              "      <td>0.914861</td>\n",
              "      <td>0.914838</td>\n",
              "      <td>3.503107</td>\n",
              "      <td>1029.599144</td>\n",
              "      <td>53.407270</td>\n",
              "    </tr>\n",
              "    <tr>\n",
              "      <th>99997</th>\n",
              "      <td>0.073438</td>\n",
              "      <td>0.109886</td>\n",
              "      <td>0.141247</td>\n",
              "      <td>0.247312</td>\n",
              "      <td>0.260766</td>\n",
              "      <td>0.282801</td>\n",
              "      <td>0.299828</td>\n",
              "      <td>0.322023</td>\n",
              "      <td>0.327183</td>\n",
              "      <td>0.391086</td>\n",
              "      <td>0.404700</td>\n",
              "      <td>0.416182</td>\n",
              "      <td>0.485919</td>\n",
              "      <td>0.491570</td>\n",
              "      <td>0.526707</td>\n",
              "      <td>0.534123</td>\n",
              "      <td>0.652905</td>\n",
              "      <td>0.770282</td>\n",
              "      <td>0.819577</td>\n",
              "      <td>0.868440</td>\n",
              "      <td>0.883419</td>\n",
              "      <td>0.994178</td>\n",
              "      <td>1.159977</td>\n",
              "      <td>1.184053</td>\n",
              "      <td>1.198006</td>\n",
              "      <td>1.228113</td>\n",
              "      <td>1.245571</td>\n",
              "      <td>1.275928</td>\n",
              "      <td>1.285654</td>\n",
              "      <td>1.298178</td>\n",
              "      <td>1.309740</td>\n",
              "      <td>1.383566</td>\n",
              "      <td>1.384715</td>\n",
              "      <td>1.437775</td>\n",
              "      <td>1.501115</td>\n",
              "      <td>1.521562</td>\n",
              "      <td>1.531053</td>\n",
              "      <td>1.554980</td>\n",
              "      <td>1.555832</td>\n",
              "      <td>1.562937</td>\n",
              "      <td>...</td>\n",
              "      <td>0.779656</td>\n",
              "      <td>0.779293</td>\n",
              "      <td>0.777913</td>\n",
              "      <td>0.777584</td>\n",
              "      <td>0.776092</td>\n",
              "      <td>0.775350</td>\n",
              "      <td>0.774457</td>\n",
              "      <td>0.774390</td>\n",
              "      <td>0.774046</td>\n",
              "      <td>0.770441</td>\n",
              "      <td>0.769922</td>\n",
              "      <td>0.769270</td>\n",
              "      <td>0.768613</td>\n",
              "      <td>0.768146</td>\n",
              "      <td>0.767847</td>\n",
              "      <td>0.766179</td>\n",
              "      <td>0.765313</td>\n",
              "      <td>0.752515</td>\n",
              "      <td>0.751700</td>\n",
              "      <td>0.750520</td>\n",
              "      <td>0.750413</td>\n",
              "      <td>0.746440</td>\n",
              "      <td>0.744180</td>\n",
              "      <td>0.743996</td>\n",
              "      <td>0.743037</td>\n",
              "      <td>0.740890</td>\n",
              "      <td>0.740361</td>\n",
              "      <td>0.739152</td>\n",
              "      <td>0.735635</td>\n",
              "      <td>0.733190</td>\n",
              "      <td>0.731638</td>\n",
              "      <td>0.731095</td>\n",
              "      <td>0.728372</td>\n",
              "      <td>0.727532</td>\n",
              "      <td>0.726954</td>\n",
              "      <td>0.726798</td>\n",
              "      <td>0.726319</td>\n",
              "      <td>1.855319</td>\n",
              "      <td>1668.680674</td>\n",
              "      <td>57.769465</td>\n",
              "    </tr>\n",
              "    <tr>\n",
              "      <th>99998</th>\n",
              "      <td>0.010924</td>\n",
              "      <td>0.027230</td>\n",
              "      <td>0.036636</td>\n",
              "      <td>0.040441</td>\n",
              "      <td>0.058835</td>\n",
              "      <td>0.063337</td>\n",
              "      <td>0.085710</td>\n",
              "      <td>0.101336</td>\n",
              "      <td>0.103356</td>\n",
              "      <td>0.165047</td>\n",
              "      <td>0.281812</td>\n",
              "      <td>0.297947</td>\n",
              "      <td>0.316795</td>\n",
              "      <td>0.316922</td>\n",
              "      <td>0.320050</td>\n",
              "      <td>0.354766</td>\n",
              "      <td>0.419434</td>\n",
              "      <td>0.452991</td>\n",
              "      <td>0.470387</td>\n",
              "      <td>0.496320</td>\n",
              "      <td>0.505489</td>\n",
              "      <td>0.509516</td>\n",
              "      <td>0.531197</td>\n",
              "      <td>0.536461</td>\n",
              "      <td>0.548713</td>\n",
              "      <td>0.560760</td>\n",
              "      <td>0.586486</td>\n",
              "      <td>0.684249</td>\n",
              "      <td>0.698583</td>\n",
              "      <td>0.748290</td>\n",
              "      <td>0.781684</td>\n",
              "      <td>0.829989</td>\n",
              "      <td>0.832408</td>\n",
              "      <td>0.838176</td>\n",
              "      <td>0.908207</td>\n",
              "      <td>0.925903</td>\n",
              "      <td>1.031708</td>\n",
              "      <td>1.033605</td>\n",
              "      <td>1.035963</td>\n",
              "      <td>1.082145</td>\n",
              "      <td>...</td>\n",
              "      <td>1.000066</td>\n",
              "      <td>0.998239</td>\n",
              "      <td>0.997103</td>\n",
              "      <td>0.989818</td>\n",
              "      <td>0.987398</td>\n",
              "      <td>0.987151</td>\n",
              "      <td>0.974327</td>\n",
              "      <td>0.967460</td>\n",
              "      <td>0.964019</td>\n",
              "      <td>0.963920</td>\n",
              "      <td>0.957760</td>\n",
              "      <td>0.956154</td>\n",
              "      <td>0.951169</td>\n",
              "      <td>0.948474</td>\n",
              "      <td>0.947485</td>\n",
              "      <td>0.941341</td>\n",
              "      <td>0.935842</td>\n",
              "      <td>0.903408</td>\n",
              "      <td>0.900210</td>\n",
              "      <td>0.896957</td>\n",
              "      <td>0.894732</td>\n",
              "      <td>0.891924</td>\n",
              "      <td>0.889428</td>\n",
              "      <td>0.889072</td>\n",
              "      <td>0.889068</td>\n",
              "      <td>0.886030</td>\n",
              "      <td>0.884151</td>\n",
              "      <td>0.878884</td>\n",
              "      <td>0.876852</td>\n",
              "      <td>0.875365</td>\n",
              "      <td>0.874298</td>\n",
              "      <td>0.872078</td>\n",
              "      <td>0.871988</td>\n",
              "      <td>0.870856</td>\n",
              "      <td>0.870299</td>\n",
              "      <td>0.870135</td>\n",
              "      <td>0.869918</td>\n",
              "      <td>3.737931</td>\n",
              "      <td>1912.692676</td>\n",
              "      <td>57.694615</td>\n",
              "    </tr>\n",
              "    <tr>\n",
              "      <th>99999</th>\n",
              "      <td>0.037564</td>\n",
              "      <td>0.093120</td>\n",
              "      <td>0.105586</td>\n",
              "      <td>0.132322</td>\n",
              "      <td>0.135728</td>\n",
              "      <td>0.167493</td>\n",
              "      <td>0.272134</td>\n",
              "      <td>0.284539</td>\n",
              "      <td>0.288078</td>\n",
              "      <td>0.301985</td>\n",
              "      <td>0.316101</td>\n",
              "      <td>0.336969</td>\n",
              "      <td>0.372072</td>\n",
              "      <td>0.374320</td>\n",
              "      <td>0.388245</td>\n",
              "      <td>0.390434</td>\n",
              "      <td>0.395012</td>\n",
              "      <td>0.402229</td>\n",
              "      <td>0.407988</td>\n",
              "      <td>0.431320</td>\n",
              "      <td>0.439364</td>\n",
              "      <td>0.446687</td>\n",
              "      <td>0.448416</td>\n",
              "      <td>0.456593</td>\n",
              "      <td>0.532614</td>\n",
              "      <td>0.540880</td>\n",
              "      <td>0.542859</td>\n",
              "      <td>0.576890</td>\n",
              "      <td>0.633675</td>\n",
              "      <td>0.652689</td>\n",
              "      <td>0.843862</td>\n",
              "      <td>0.866715</td>\n",
              "      <td>0.910849</td>\n",
              "      <td>0.937785</td>\n",
              "      <td>0.970747</td>\n",
              "      <td>1.072962</td>\n",
              "      <td>1.129690</td>\n",
              "      <td>1.156997</td>\n",
              "      <td>1.159506</td>\n",
              "      <td>1.264554</td>\n",
              "      <td>...</td>\n",
              "      <td>0.892905</td>\n",
              "      <td>0.890572</td>\n",
              "      <td>0.889992</td>\n",
              "      <td>0.889989</td>\n",
              "      <td>0.888853</td>\n",
              "      <td>0.885621</td>\n",
              "      <td>0.885283</td>\n",
              "      <td>0.884177</td>\n",
              "      <td>0.882324</td>\n",
              "      <td>0.880879</td>\n",
              "      <td>0.880531</td>\n",
              "      <td>0.880479</td>\n",
              "      <td>0.878341</td>\n",
              "      <td>0.877829</td>\n",
              "      <td>0.876930</td>\n",
              "      <td>0.874379</td>\n",
              "      <td>0.874277</td>\n",
              "      <td>0.873241</td>\n",
              "      <td>0.872965</td>\n",
              "      <td>0.872579</td>\n",
              "      <td>0.872418</td>\n",
              "      <td>0.872026</td>\n",
              "      <td>0.870479</td>\n",
              "      <td>0.870416</td>\n",
              "      <td>0.869201</td>\n",
              "      <td>0.868975</td>\n",
              "      <td>0.868463</td>\n",
              "      <td>0.868242</td>\n",
              "      <td>0.867923</td>\n",
              "      <td>0.867824</td>\n",
              "      <td>0.867756</td>\n",
              "      <td>0.867678</td>\n",
              "      <td>0.867640</td>\n",
              "      <td>0.867197</td>\n",
              "      <td>0.867126</td>\n",
              "      <td>0.866845</td>\n",
              "      <td>0.866772</td>\n",
              "      <td>3.043224</td>\n",
              "      <td>1187.136227</td>\n",
              "      <td>52.896957</td>\n",
              "    </tr>\n",
              "  </tbody>\n",
              "</table>\n",
              "<p>5 rows × 353 columns</p>\n",
              "</div>"
            ],
            "text/plain": [
              "          theta     theta     theta  ...       vol           Ps         ST\n",
              "99995  0.021842  0.023116  0.024171  ...  2.954585  1536.494749  70.387546\n",
              "99996  0.107519  0.115354  0.134023  ...  3.503107  1029.599144  53.407270\n",
              "99997  0.073438  0.109886  0.141247  ...  1.855319  1668.680674  57.769465\n",
              "99998  0.010924  0.027230  0.036636  ...  3.737931  1912.692676  57.694615\n",
              "99999  0.037564  0.093120  0.105586  ...  3.043224  1187.136227  52.896957\n",
              "\n",
              "[5 rows x 353 columns]"
            ]
          },
          "metadata": {
            "tags": []
          },
          "execution_count": 30
        }
      ]
    },
    {
      "cell_type": "markdown",
      "metadata": {
        "id": "HkWsufEUFMi8"
      },
      "source": [
        "### Adding noise to all features"
      ]
    },
    {
      "cell_type": "code",
      "metadata": {
        "id": "vgwEz3rDFLcz"
      },
      "source": [
        "noisy_dataset=dataset.copy()\n",
        "\n",
        "np.random.seed(seed=1)\n",
        "noise = np.random.random(size=[len(dataset), 1])*0.01\n",
        "\n",
        "noisy_dataset=noisy_dataset.Ps+noise\n",
        "\n",
        "plt.figure()\n",
        "plt.plot(dataset.iloc[0, 0:sampling], dataset.iloc[0, sampling:sampling*2])\n",
        "# plt.figure()\n",
        "# plt.plot(dataset.iloc[10000, 0:sampling], dataset.iloc[10000, sampling:sampling*2])\n",
        "# plt.figure()\n",
        "# plt.plot(dataset.iloc[19999, 0:sampling], dataset.iloc[19999, sampling:sampling*2])\n",
        "\n",
        "plt.figure()\n",
        "plt.plot(dataset.vol[0:10], '-o')\n",
        "plt.xlabel('Instance')\n",
        "plt.ylabel('Volume [μL]')\n",
        "\n",
        "plt.figure()\n",
        "plt.plot(dataset.Ps[0:10], dataset.ST[0:10], '-o')\n",
        "plt.xlabel('Acoustic pressure [Pa]')\n",
        "plt.ylabel('Surface tension [mN/m]')"
      ],
      "execution_count": null,
      "outputs": []
    },
    {
      "cell_type": "markdown",
      "metadata": {
        "id": "Cuym4yvk76vU"
      },
      "source": [
        "### Split the data into train and test\n",
        "\n",
        "Now split the dataset into a training set and a test set.\n",
        "\n",
        "We will use the test set in the final evaluation of our model."
      ]
    },
    {
      "cell_type": "code",
      "metadata": {
        "id": "qn-IGhUE7_1H"
      },
      "source": [
        "train_dataset = dataset.sample(frac=0.8,random_state=0)\n",
        "test_dataset = dataset.drop(train_dataset.index)"
      ],
      "execution_count": 7,
      "outputs": []
    },
    {
      "cell_type": "markdown",
      "metadata": {
        "id": "J4ubs136WLNp"
      },
      "source": [
        "### Inspect the data\n",
        "\n",
        "Have a quick look at the joint distribution of a few pairs of columns from the training set."
      ]
    },
    {
      "cell_type": "code",
      "metadata": {
        "id": "oRKO_x8gWKv-"
      },
      "source": [
        "#sns.pairplot(train_dataset[column_names], diag_kind=\"kde\")\n",
        "#plt.show()"
      ],
      "execution_count": null,
      "outputs": []
    },
    {
      "cell_type": "markdown",
      "metadata": {
        "id": "gavKO_6DWRMP"
      },
      "source": [
        "Also look at the overall statistics:"
      ]
    },
    {
      "cell_type": "code",
      "metadata": {
        "id": "yi2FzC3T21jR",
        "colab": {
          "base_uri": "https://localhost:8080/",
          "height": 204
        },
        "outputId": "f572c076-cd60-461b-f020-3ddd39b7375d"
      },
      "source": [
        "train_stats = train_dataset.describe()\n",
        "train_stats.pop(\"ST\")\n",
        "train_stats = train_stats.transpose()\n",
        "train_stats.tail()"
      ],
      "execution_count": 8,
      "outputs": [
        {
          "output_type": "execute_result",
          "data": {
            "text/html": [
              "<div>\n",
              "<style scoped>\n",
              "    .dataframe tbody tr th:only-of-type {\n",
              "        vertical-align: middle;\n",
              "    }\n",
              "\n",
              "    .dataframe tbody tr th {\n",
              "        vertical-align: top;\n",
              "    }\n",
              "\n",
              "    .dataframe thead th {\n",
              "        text-align: right;\n",
              "    }\n",
              "</style>\n",
              "<table border=\"1\" class=\"dataframe\">\n",
              "  <thead>\n",
              "    <tr style=\"text-align: right;\">\n",
              "      <th></th>\n",
              "      <th>count</th>\n",
              "      <th>mean</th>\n",
              "      <th>std</th>\n",
              "      <th>min</th>\n",
              "      <th>25%</th>\n",
              "      <th>50%</th>\n",
              "      <th>75%</th>\n",
              "      <th>max</th>\n",
              "    </tr>\n",
              "  </thead>\n",
              "  <tbody>\n",
              "    <tr>\n",
              "      <th>rho</th>\n",
              "      <td>80000.0</td>\n",
              "      <td>0.829544</td>\n",
              "      <td>0.139451</td>\n",
              "      <td>0.312495</td>\n",
              "      <td>0.722636</td>\n",
              "      <td>0.830556</td>\n",
              "      <td>0.936038</td>\n",
              "      <td>1.144751</td>\n",
              "    </tr>\n",
              "    <tr>\n",
              "      <th>rho</th>\n",
              "      <td>80000.0</td>\n",
              "      <td>0.828203</td>\n",
              "      <td>0.139768</td>\n",
              "      <td>0.304571</td>\n",
              "      <td>0.721229</td>\n",
              "      <td>0.828961</td>\n",
              "      <td>0.934882</td>\n",
              "      <td>1.142551</td>\n",
              "    </tr>\n",
              "    <tr>\n",
              "      <th>rho</th>\n",
              "      <td>80000.0</td>\n",
              "      <td>0.827297</td>\n",
              "      <td>0.140041</td>\n",
              "      <td>0.311030</td>\n",
              "      <td>0.720318</td>\n",
              "      <td>0.828191</td>\n",
              "      <td>0.934048</td>\n",
              "      <td>1.147109</td>\n",
              "    </tr>\n",
              "    <tr>\n",
              "      <th>vol</th>\n",
              "      <td>80000.0</td>\n",
              "      <td>3.759590</td>\n",
              "      <td>1.586962</td>\n",
              "      <td>1.000704</td>\n",
              "      <td>2.386352</td>\n",
              "      <td>3.765280</td>\n",
              "      <td>5.125764</td>\n",
              "      <td>6.508502</td>\n",
              "    </tr>\n",
              "    <tr>\n",
              "      <th>Ps</th>\n",
              "      <td>80000.0</td>\n",
              "      <td>1751.903666</td>\n",
              "      <td>605.557591</td>\n",
              "      <td>700.026790</td>\n",
              "      <td>1227.142242</td>\n",
              "      <td>1754.045625</td>\n",
              "      <td>2276.637314</td>\n",
              "      <td>2799.995469</td>\n",
              "    </tr>\n",
              "  </tbody>\n",
              "</table>\n",
              "</div>"
            ],
            "text/plain": [
              "       count         mean         std  ...          50%          75%          max\n",
              "rho  80000.0     0.829544    0.139451  ...     0.830556     0.936038     1.144751\n",
              "rho  80000.0     0.828203    0.139768  ...     0.828961     0.934882     1.142551\n",
              "rho  80000.0     0.827297    0.140041  ...     0.828191     0.934048     1.147109\n",
              "vol  80000.0     3.759590    1.586962  ...     3.765280     5.125764     6.508502\n",
              "Ps   80000.0  1751.903666  605.557591  ...  1754.045625  2276.637314  2799.995469\n",
              "\n",
              "[5 rows x 8 columns]"
            ]
          },
          "metadata": {
            "tags": []
          },
          "execution_count": 8
        }
      ]
    },
    {
      "cell_type": "markdown",
      "metadata": {
        "id": "Db7Auq1yXUvh"
      },
      "source": [
        "### Split features from labels\n",
        "\n",
        "Separate the target value, or \"label\", from the features. This label is the value that you will train the model to predict."
      ]
    },
    {
      "cell_type": "code",
      "metadata": {
        "id": "t2sluJdCW7jN"
      },
      "source": [
        "train_labels = train_dataset.pop('ST')\n",
        "test_labels = test_dataset.pop('ST')"
      ],
      "execution_count": 9,
      "outputs": []
    },
    {
      "cell_type": "markdown",
      "metadata": {
        "id": "mRklxK5s388r"
      },
      "source": [
        "### Normalize the data\n",
        "\n",
        "Look again at the `train_stats` block above and note how different the ranges of each feature are."
      ]
    },
    {
      "cell_type": "markdown",
      "metadata": {
        "id": "-ywmerQ6dSox"
      },
      "source": [
        "It is good practice to normalize features that use different scales and ranges. Although the model *might* converge without feature normalization, it makes training more difficult, and it makes the resulting model dependent on the choice of units used in the input.\n",
        "\n",
        "Note: Although we intentionally generate these statistics from only the training dataset, these statistics will also be used to normalize the test dataset. We need to do that to project the test dataset into the same distribution that the model has been trained on."
      ]
    },
    {
      "cell_type": "code",
      "metadata": {
        "id": "JlC5ooJrgjQF"
      },
      "source": [
        "def norm(x):\n",
        "  return (x - train_stats['mean']) / train_stats['std']\n",
        "normed_train_data = norm(train_dataset)\n",
        "normed_test_data = norm(test_dataset)\n"
      ],
      "execution_count": 10,
      "outputs": []
    },
    {
      "cell_type": "markdown",
      "metadata": {
        "id": "BuiClDk45eS4"
      },
      "source": [
        "This normalized data is what we will use to train the model.\n",
        "\n",
        "Caution: The statistics used to normalize the inputs here (mean and standard deviation) need to be applied to any other data that is fed to the model, along with the one-hot encoding that we did earlier.  That includes the test set as well as live data when the model is used in production."
      ]
    },
    {
      "cell_type": "markdown",
      "metadata": {
        "id": "SmjdzxKzEu1-"
      },
      "source": [
        "## The model"
      ]
    },
    {
      "cell_type": "markdown",
      "metadata": {
        "id": "6SWtkIjhrZwa"
      },
      "source": [
        "### Build the model\n",
        "\n",
        "Let's build our model. Here, we'll use a `Sequential` model with two densely connected hidden layers, and an output layer that returns a single, continuous value. The model building steps are wrapped in a function, `build_model`, since we'll create a second model, later on."
      ]
    },
    {
      "cell_type": "markdown",
      "metadata": {
        "id": "VULFJK5Vdk2l"
      },
      "source": [
        "###Learning Schedule\n",
        "The code bellow sets a schedules.InverseTimeDecay to hyperbolically decrease the learning rate to 1/2 of the base rate at 1000 epochs, 1/3 at 2000 epochs and so on."
      ]
    },
    {
      "cell_type": "code",
      "metadata": {
        "id": "BVEwu5szdhtt"
      },
      "source": [
        "#Lr_schedule = learning schedule : Most models learn better if you gradually decrase the learning rate.\n",
        "\n",
        "STEPS_PER_EPOCH=len(train_dataset)/500\n",
        "lr_schedule = tf.keras.optimizers.schedules.InverseTimeDecay(\n",
        "  0.001,\n",
        "  decay_steps=STEPS_PER_EPOCH*1000,\n",
        "  decay_rate=1,\n",
        "  staircase=False)\n",
        "\n",
        "def get_optimizer():\n",
        "  return tf.keras.optimizers.Adam()"
      ],
      "execution_count": 11,
      "outputs": []
    },
    {
      "cell_type": "markdown",
      "metadata": {
        "id": "gB91psdOdj_d"
      },
      "source": [
        "Here we can plot the learning rate Vs the number of epocs"
      ]
    },
    {
      "cell_type": "code",
      "metadata": {
        "id": "MfTIU-90dkJC",
        "colab": {
          "base_uri": "https://localhost:8080/",
          "height": 279
        },
        "outputId": "74781066-ffff-4275-f323-121f185977a2"
      },
      "source": [
        "step = np.linspace(0,100000)\n",
        "lr = lr_schedule(step)\n",
        "plt.figure()\n",
        "plt.plot(step/STEPS_PER_EPOCH, lr)\n",
        "plt.ylim([min(plt.ylim()),max(plt.ylim())])\n",
        "plt.xlabel('Epoch')\n",
        "_ = plt.ylabel('Learning Rate')"
      ],
      "execution_count": null,
      "outputs": [
        {
          "output_type": "display_data",
          "data": {
            "image/png": "[encoded data removed]",
            "text/plain": [
              "<Figure size 432x288 with 1 Axes>"
            ]
          },
          "metadata": {
            "tags": [],
            "needs_background": "light"
          }
        }
      ]
    },
    {
      "cell_type": "code",
      "metadata": {
        "id": "c26juK7ZG8j-"
      },
      "source": [
        "def build_model():\n",
        "  model = keras.Sequential([\n",
        "    #layers.Dense(100, activation=tf.nn.relu, input_shape=[len(train_dataset.keys())]),\n",
        "    layers.Dense(14, activation=tf.nn.swish, input_shape=[len(train_dataset.keys())]),\n",
        "    #layers.Dense(50, activation=tf.nn.swish),\n",
        "    layers.Dense(5, activation=tf.nn.swish),\n",
        "    layers.Dense(1)\n",
        "  ])\n",
        "\n",
        "  optimizer = get_optimizer() # tf.keras.optimizers.Adam(learning_rate=0.001) #RMSprop(0.0001)\n",
        "  model.compile(loss='mean_squared_error',\n",
        "                optimizer=optimizer,\n",
        "                metrics=['mean_absolute_error', 'mean_squared_error'])\n",
        "  return model"
      ],
      "execution_count": 12,
      "outputs": []
    },
    {
      "cell_type": "code",
      "metadata": {
        "id": "cGbPb-PHGbhs"
      },
      "source": [
        "model = build_model()"
      ],
      "execution_count": 13,
      "outputs": []
    },
    {
      "cell_type": "markdown",
      "metadata": {
        "id": "AUx4uYxk0GEJ"
      },
      "source": [
        "## If there is a model saved on google drive execute the next block"
      ]
    },
    {
      "cell_type": "code",
      "metadata": {
        "id": "y3Ir9yi8z0VA"
      },
      "source": [
        "from tensorflow.keras.models import load_model\n",
        "\n",
        "# del model \n",
        "\n",
        "folder=str('theoretical_only_Ps_vary/')\n",
        "\n",
        "model_name=str('test_training_Ps_1800_3000_3μL.h5')\n",
        "\n",
        "model = load_model(str(\"/content/drive/My Drive/DropLev/MachineLearningModels/\"+folder+model_name))\n"
      ],
      "execution_count": null,
      "outputs": []
    },
    {
      "cell_type": "markdown",
      "metadata": {
        "id": "Sj49Og4YGULr"
      },
      "source": [
        "### Inspect the model\n",
        "\n",
        "Use the `.summary` method to print a simple description of the model"
      ]
    },
    {
      "cell_type": "code",
      "metadata": {
        "id": "ReAD0n6MsFK-",
        "colab": {
          "base_uri": "https://localhost:8080/"
        },
        "outputId": "2b54c75a-63d5-4d79-a78e-d8f8676733cc"
      },
      "source": [
        "model.summary()"
      ],
      "execution_count": 14,
      "outputs": [
        {
          "output_type": "stream",
          "text": [
            "Model: \"sequential\"\n",
            "_________________________________________________________________\n",
            "Layer (type)                 Output Shape              Param #   \n",
            "=================================================================\n",
            "dense (Dense)                (None, 14)                4942      \n",
            "_________________________________________________________________\n",
            "dense_1 (Dense)              (None, 5)                 75        \n",
            "_________________________________________________________________\n",
            "dense_2 (Dense)              (None, 1)                 6         \n",
            "=================================================================\n",
            "Total params: 5,023\n",
            "Trainable params: 5,023\n",
            "Non-trainable params: 0\n",
            "_________________________________________________________________\n"
          ],
          "name": "stdout"
        }
      ]
    },
    {
      "cell_type": "markdown",
      "metadata": {
        "id": "Vt6W50qGsJAL"
      },
      "source": [
        "\n",
        "Now try out the model. Take a batch of `10` examples from the training data and call `model.predict` on it."
      ]
    },
    {
      "cell_type": "code",
      "metadata": {
        "id": "-d-gBaVtGTSC",
        "colab": {
          "base_uri": "https://localhost:8080/"
        },
        "outputId": "ed954ed1-e57b-43c0-fcb5-da83fe1389e3"
      },
      "source": [
        "example_batch = normed_train_data[:10]\n",
        "example_result = model.predict(example_batch)\n",
        "example_result"
      ],
      "execution_count": 15,
      "outputs": [
        {
          "output_type": "execute_result",
          "data": {
            "text/plain": [
              "array([[ 0.20038931],\n",
              "       [ 0.6349325 ],\n",
              "       [-0.6262076 ],\n",
              "       [-0.00420316],\n",
              "       [ 0.429233  ],\n",
              "       [ 2.0702724 ],\n",
              "       [-0.91197765],\n",
              "       [ 2.148213  ],\n",
              "       [-1.0784937 ],\n",
              "       [ 0.91148496]], dtype=float32)"
            ]
          },
          "metadata": {
            "tags": []
          },
          "execution_count": 15
        }
      ]
    },
    {
      "cell_type": "markdown",
      "metadata": {
        "id": "QlM8KrSOsaYo"
      },
      "source": [
        "It seems to be working, and it produces a result of the expected shape and type."
      ]
    },
    {
      "cell_type": "markdown",
      "metadata": {
        "id": "0-qWCsh6DlyH"
      },
      "source": [
        "### Train the model\n",
        "\n",
        "Train the model for 1000 epochs, and record the training and validation accuracy in the `history` object."
      ]
    },
    {
      "cell_type": "code",
      "metadata": {
        "id": "fdMZuhUgzMZ4",
        "colab": {
          "base_uri": "https://localhost:8080/"
        },
        "outputId": "d5ba8ad1-cac0-4598-a08c-f3b02660e703"
      },
      "source": [
        "# Display training progress by printing a single dot for each completed epoch\n",
        "class PrintDot(keras.callbacks.Callback):\n",
        "  def on_epoch_end(self, epoch, logs):\n",
        "    if epoch % 100 == 0: print('')\n",
        "    print('.', end='')\n",
        "\n",
        "EPOCHS = 1000\n",
        "\n",
        "# The patience parameter is the amount of epochs to check for improvement\n",
        "early_stop = keras.callbacks.EarlyStopping(monitor='val_loss', patience=75)\n",
        "\n",
        "history = model.fit(normed_train_data, train_labels, epochs=EPOCHS,\n",
        "                    validation_split = 0.2, verbose=0, callbacks=[early_stop, PrintDot()])\n"
      ],
      "execution_count": 16,
      "outputs": [
        {
          "output_type": "stream",
          "text": [
            "\n",
            "....................................................................................................\n",
            "....................................................................................................\n",
            "....................................................................................................\n",
            "....................................................................................................\n",
            "....................................................................................................\n",
            "............................................................"
          ],
          "name": "stdout"
        }
      ]
    },
    {
      "cell_type": "markdown",
      "metadata": {
        "id": "tQm3pc0FYPQB"
      },
      "source": [
        "Visualize the model's training progress using the stats stored in the `history` object."
      ]
    },
    {
      "cell_type": "code",
      "metadata": {
        "id": "IHtfi4xlXiHy",
        "colab": {
          "base_uri": "https://localhost:8080/",
          "height": 204
        },
        "outputId": "9546f71a-d640-4492-98a8-c716851e758c"
      },
      "source": [
        "hist = pd.DataFrame(history.history)\n",
        "hist['epoch'] = history.epoch\n",
        "hist.tail() "
      ],
      "execution_count": 17,
      "outputs": [
        {
          "output_type": "execute_result",
          "data": {
            "text/html": [
              "<div>\n",
              "<style scoped>\n",
              "    .dataframe tbody tr th:only-of-type {\n",
              "        vertical-align: middle;\n",
              "    }\n",
              "\n",
              "    .dataframe tbody tr th {\n",
              "        vertical-align: top;\n",
              "    }\n",
              "\n",
              "    .dataframe thead th {\n",
              "        text-align: right;\n",
              "    }\n",
              "</style>\n",
              "<table border=\"1\" class=\"dataframe\">\n",
              "  <thead>\n",
              "    <tr style=\"text-align: right;\">\n",
              "      <th></th>\n",
              "      <th>loss</th>\n",
              "      <th>mean_absolute_error</th>\n",
              "      <th>mean_squared_error</th>\n",
              "      <th>val_loss</th>\n",
              "      <th>val_mean_absolute_error</th>\n",
              "      <th>val_mean_squared_error</th>\n",
              "      <th>epoch</th>\n",
              "    </tr>\n",
              "  </thead>\n",
              "  <tbody>\n",
              "    <tr>\n",
              "      <th>555</th>\n",
              "      <td>2.576530</td>\n",
              "      <td>1.055862</td>\n",
              "      <td>2.576530</td>\n",
              "      <td>3.227787</td>\n",
              "      <td>1.241162</td>\n",
              "      <td>3.227787</td>\n",
              "      <td>555</td>\n",
              "    </tr>\n",
              "    <tr>\n",
              "      <th>556</th>\n",
              "      <td>2.643468</td>\n",
              "      <td>1.072254</td>\n",
              "      <td>2.643468</td>\n",
              "      <td>2.472407</td>\n",
              "      <td>1.027233</td>\n",
              "      <td>2.472407</td>\n",
              "      <td>556</td>\n",
              "    </tr>\n",
              "    <tr>\n",
              "      <th>557</th>\n",
              "      <td>2.685639</td>\n",
              "      <td>1.081537</td>\n",
              "      <td>2.685639</td>\n",
              "      <td>2.862510</td>\n",
              "      <td>1.095181</td>\n",
              "      <td>2.862510</td>\n",
              "      <td>557</td>\n",
              "    </tr>\n",
              "    <tr>\n",
              "      <th>558</th>\n",
              "      <td>2.637194</td>\n",
              "      <td>1.066183</td>\n",
              "      <td>2.637194</td>\n",
              "      <td>3.220593</td>\n",
              "      <td>1.192210</td>\n",
              "      <td>3.220593</td>\n",
              "      <td>558</td>\n",
              "    </tr>\n",
              "    <tr>\n",
              "      <th>559</th>\n",
              "      <td>2.603378</td>\n",
              "      <td>1.060746</td>\n",
              "      <td>2.603378</td>\n",
              "      <td>2.530491</td>\n",
              "      <td>1.046155</td>\n",
              "      <td>2.530491</td>\n",
              "      <td>559</td>\n",
              "    </tr>\n",
              "  </tbody>\n",
              "</table>\n",
              "</div>"
            ],
            "text/plain": [
              "         loss  mean_absolute_error  ...  val_mean_squared_error  epoch\n",
              "555  2.576530             1.055862  ...                3.227787    555\n",
              "556  2.643468             1.072254  ...                2.472407    556\n",
              "557  2.685639             1.081537  ...                2.862510    557\n",
              "558  2.637194             1.066183  ...                3.220593    558\n",
              "559  2.603378             1.060746  ...                2.530491    559\n",
              "\n",
              "[5 rows x 7 columns]"
            ]
          },
          "metadata": {
            "tags": []
          },
          "execution_count": 17
        }
      ]
    },
    {
      "cell_type": "code",
      "metadata": {
        "id": "VPI7VDvrXvJb",
        "colab": {
          "base_uri": "https://localhost:8080/",
          "height": 549
        },
        "outputId": "a285d95f-cf14-4180-f3bb-b4944d11fbc7"
      },
      "source": [
        "def plot_history(history):\n",
        "  hist = pd.DataFrame(history.history)\n",
        "  hist['epoch'] = history.epoch\n",
        "\n",
        "  plt.figure()\n",
        "  plt.xlabel('Epoch')\n",
        "  plt.ylabel('Mean Abs Error [ST]')\n",
        "  plt.plot(hist['epoch'], hist['mean_absolute_error'],\n",
        "           label='Train Error')\n",
        "  plt.plot(hist['epoch'], hist['val_mean_absolute_error'],\n",
        "           label = 'Val Error')\n",
        "  plt.ylim([0,2])\n",
        "  plt.legend()\n",
        "\n",
        "  plt.figure()\n",
        "  plt.xlabel('Epoch')\n",
        "  plt.ylabel('Mean Square Error [$ST^2$]')\n",
        "  plt.plot(hist['epoch'], hist['mean_squared_error'],\n",
        "           label='Train Error')\n",
        "  plt.plot(hist['epoch'], hist['val_mean_squared_error'],\n",
        "           label = 'Val Error')\n",
        "  plt.ylim([0,5])\n",
        "  plt.legend()\n",
        "  plt.show()\n",
        "\n",
        "\n",
        "plot_history(history)"
      ],
      "execution_count": 18,
      "outputs": [
        {
          "output_type": "display_data",
          "data": {
            "image/png": "[encoded data removed]",
            "text/plain": [
              "<Figure size 432x288 with 1 Axes>"
            ]
          },
          "metadata": {
            "tags": [],
            "needs_background": "light"
          }
        },
        {
          "output_type": "display_data",
          "data": {
            "image/png": "[encoded data removed]",
            "text/plain": [
              "<Figure size 432x288 with 1 Axes>"
            ]
          },
          "metadata": {
            "tags": [],
            "needs_background": "light"
          }
        }
      ]
    },
    {
      "cell_type": "markdown",
      "metadata": {
        "id": "3St8-DmrX8P4"
      },
      "source": [
        "The graph shows that on the validation set, the average error is usually around +/- 2 MPG. Is this good? We'll leave that decision up to you.\n",
        "\n",
        "Let's see how well the model generalizes by using the **test** set, which we did not use when training the model.  This tells us how well we can expect the model to predict when we use it in the real world."
      ]
    },
    {
      "cell_type": "code",
      "metadata": {
        "id": "jl_yNr5n1kms",
        "colab": {
          "base_uri": "https://localhost:8080/"
        },
        "outputId": "3f06a37f-b3d8-46f8-b10e-8cac7fc2ff67"
      },
      "source": [
        "loss, mae, mse = model.evaluate(normed_test_data, test_labels, verbose=0)\n",
        "\n",
        "print(\"Testing set Mean Abs Error: {:5.2f} mN/m\".format(mae))"
      ],
      "execution_count": 19,
      "outputs": [
        {
          "output_type": "stream",
          "text": [
            "Testing set Mean Abs Error:  1.04 mN/m\n"
          ],
          "name": "stdout"
        }
      ]
    },
    {
      "cell_type": "markdown",
      "metadata": {
        "id": "ft603OzXuEZC"
      },
      "source": [
        "### Make predictions\n",
        "\n",
        "Finally, predict ST values using data in the testing set:"
      ]
    },
    {
      "cell_type": "code",
      "metadata": {
        "id": "Xe7RXH3N3CWU",
        "colab": {
          "base_uri": "https://localhost:8080/",
          "height": 573
        },
        "outputId": "affaa40b-1b66-4e73-bcb3-c0a83c8caebf"
      },
      "source": [
        "test_predictions = model.predict(normed_test_data).flatten()\n",
        "\n",
        "plt.scatter(test_labels, test_predictions)\n",
        "plt.title('Normalized test data')\n",
        "plt.xlabel('True Values [surface tension - mN/m]')\n",
        "plt.ylabel('Predictions [surface tension - mN/m]')\n",
        "plt.axis('equal')\n",
        "plt.axis('square')\n",
        "plt.xlim([10,75])\n",
        "plt.ylim([10,75])\n",
        "_ = plt.plot([-100, 100], [-100, 100])\n",
        "plt.show()\n",
        "\n",
        "test_predictions2 = model.predict(normed_train_data).flatten()\n",
        "\n",
        "plt.scatter(train_labels, test_predictions2)\n",
        "plt.title('Normalized training data')\n",
        "plt.xlabel('True Values [surface tension - mN/m]')\n",
        "plt.ylabel('Predictions [surface tension - mN/m]')\n",
        "plt.axis('equal')\n",
        "plt.axis('square')\n",
        "plt.xlim([10,75])\n",
        "plt.ylim([10,75])\n",
        "_ = plt.plot([-100, 100], [-100, 100])\n",
        "plt.show()\n"
      ],
      "execution_count": 20,
      "outputs": [
        {
          "output_type": "display_data",
          "data": {
            "image/png": "[encoded data removed]",
            "text/plain": [
              "<Figure size 432x288 with 1 Axes>"
            ]
          },
          "metadata": {
            "tags": [],
            "needs_background": "light"
          }
        },
        {
          "output_type": "display_data",
          "data": {
            "image/png": "[encoded data removed]",
            "text/plain": [
              "<Figure size 432x288 with 1 Axes>"
            ]
          },
          "metadata": {
            "tags": [],
            "needs_background": "light"
          }
        }
      ]
    },
    {
      "cell_type": "markdown",
      "metadata": {
        "id": "OrkHGKZcusUo"
      },
      "source": [
        "Seriously?"
      ]
    },
    {
      "cell_type": "code",
      "metadata": {
        "id": "f-OHX4DiXd8x",
        "colab": {
          "base_uri": "https://localhost:8080/",
          "height": 279
        },
        "outputId": "16f28b3c-5991-4052-c8fe-a5bf2ad75352"
      },
      "source": [
        "error = test_predictions - test_labels\n",
        "plt.hist(error, bins = 50)\n",
        "plt.xlabel(\"Prediction Error [mN/m]\")\n",
        "_ = plt.ylabel(\"Count\")\n",
        "#plt.ylim(0, 5)\n",
        "plt.show()"
      ],
      "execution_count": 21,
      "outputs": [
        {
          "output_type": "display_data",
          "data": {
            "image/png": "[encoded data removed]",
            "text/plain": [
              "<Figure size 432x288 with 1 Axes>"
            ]
          },
          "metadata": {
            "tags": [],
            "needs_background": "light"
          }
        }
      ]
    },
    {
      "cell_type": "markdown",
      "metadata": {
        "id": "9fyk10HWGv-w"
      },
      "source": [
        "### Try out a different model"
      ]
    },
    {
      "cell_type": "code",
      "metadata": {
        "id": "J6EaoxCXGmlQ"
      },
      "source": [
        "def build_model():\n",
        "  model = keras.Sequential([\n",
        "    layers.Dense(200, activation=tf.nn.relu, input_shape=[len(train_dataset.keys())]),\n",
        "    layers.Dense(100, activation=tf.nn.swish), # input_shape=[len(train_dataset.keys())]),\n",
        "    layers.Dense(50, activation=tf.nn.swish),\n",
        "    layers.Dense(5, activation=tf.nn.swish),\n",
        "    layers.Dense(1)\n",
        "  ])\n",
        "\n",
        "  optimizer = get_optimizer() # tf.keras.optimizers.Adam(learning_rate=0.001) #RMSprop(0.0001)\n",
        "  model.compile(loss='mean_squared_error',\n",
        "                optimizer=optimizer,\n",
        "                metrics=['mean_absolute_error', 'mean_squared_error'])\n",
        "  return model"
      ],
      "execution_count": null,
      "outputs": []
    },
    {
      "cell_type": "code",
      "metadata": {
        "id": "8FnUsVd1Gmli"
      },
      "source": [
        "model_big = build_model()"
      ],
      "execution_count": null,
      "outputs": []
    },
    {
      "cell_type": "markdown",
      "metadata": {
        "id": "yLcQNtUhGmll"
      },
      "source": [
        "## If there is a model saved on google drive execute the next block"
      ]
    },
    {
      "cell_type": "code",
      "metadata": {
        "id": "uWsiP4rRGmlm"
      },
      "source": [
        "from tensorflow.keras.models import load_model\n",
        "\n",
        "del model \n",
        "\n",
        "model_name=str('test_training_whole_drop_3μL_best_175points_noise_0.004_vol_6.h5')\n",
        "model = load_model(str(\"/content/drive/My Drive/DropLev/MachineLearningModels/\"+model_name))\n"
      ],
      "execution_count": null,
      "outputs": []
    },
    {
      "cell_type": "markdown",
      "metadata": {
        "id": "my3o3TCOGmlp"
      },
      "source": [
        "### Inspect the model\n",
        "\n",
        "Use the `.summary` method to print a simple description of the model"
      ]
    },
    {
      "cell_type": "code",
      "metadata": {
        "id": "q1U3c9_VGmlp",
        "colab": {
          "base_uri": "https://localhost:8080/",
          "height": 337
        },
        "outputId": "5f3053b8-6448-407b-beae-92856e45aeeb"
      },
      "source": [
        "model_big.summary()"
      ],
      "execution_count": null,
      "outputs": [
        {
          "output_type": "stream",
          "text": [
            "Model: \"sequential_1\"\n",
            "_________________________________________________________________\n",
            "Layer (type)                 Output Shape              Param #   \n",
            "=================================================================\n",
            "dense_3 (Dense)              (None, 200)               70600     \n",
            "_________________________________________________________________\n",
            "dense_4 (Dense)              (None, 100)               20100     \n",
            "_________________________________________________________________\n",
            "dense_5 (Dense)              (None, 50)                5050      \n",
            "_________________________________________________________________\n",
            "dense_6 (Dense)              (None, 5)                 255       \n",
            "_________________________________________________________________\n",
            "dense_7 (Dense)              (None, 1)                 6         \n",
            "=================================================================\n",
            "Total params: 96,011\n",
            "Trainable params: 96,011\n",
            "Non-trainable params: 0\n",
            "_________________________________________________________________\n"
          ],
          "name": "stdout"
        }
      ]
    },
    {
      "cell_type": "markdown",
      "metadata": {
        "id": "VIjVtYyyGmls"
      },
      "source": [
        "\n",
        "Now try out the model. Take a batch of `10` examples from the training data and call `model.predict` on it."
      ]
    },
    {
      "cell_type": "code",
      "metadata": {
        "id": "G5_MGnAzGmlt",
        "colab": {
          "base_uri": "https://localhost:8080/",
          "height": 195
        },
        "outputId": "37cd6370-cf9c-402a-8567-a073da143a2d"
      },
      "source": [
        "example_batch = normed_train_data[:10]\n",
        "example_result = model.predict(example_batch)\n",
        "example_result"
      ],
      "execution_count": null,
      "outputs": [
        {
          "output_type": "execute_result",
          "data": {
            "text/plain": [
              "array([[52.56801 ],\n",
              "       [45.614388],\n",
              "       [66.16925 ],\n",
              "       [69.43645 ],\n",
              "       [61.43324 ],\n",
              "       [49.346756],\n",
              "       [35.584835],\n",
              "       [26.093672],\n",
              "       [52.617676],\n",
              "       [51.04277 ]], dtype=float32)"
            ]
          },
          "metadata": {
            "tags": []
          },
          "execution_count": 30
        }
      ]
    },
    {
      "cell_type": "markdown",
      "metadata": {
        "id": "HvdF7VgzGmlw"
      },
      "source": [
        "It seems to be working, and it produces a result of the expected shape and type."
      ]
    },
    {
      "cell_type": "markdown",
      "metadata": {
        "id": "MP5Bz5BzGmlx"
      },
      "source": [
        "### Train the model\n",
        "\n",
        "Train the model for 1000 epochs, and record the training and validation accuracy in the `history` object."
      ]
    },
    {
      "cell_type": "code",
      "metadata": {
        "id": "8iG9JR5NGmlx",
        "colab": {
          "base_uri": "https://localhost:8080/",
          "height": 106
        },
        "outputId": "3cd4da46-a80b-4f93-f5b0-d97174060c2b"
      },
      "source": [
        "# Display training progress by printing a single dot for each completed epoch\n",
        "class PrintDot(keras.callbacks.Callback):\n",
        "  def on_epoch_end(self, epoch, logs):\n",
        "    if epoch % 100 == 0: print('')\n",
        "    print('.', end='')\n",
        "\n",
        "EPOCHS = 1000\n",
        "\n",
        "# The patience parameter is the amount of epochs to check for improvement\n",
        "early_stop = keras.callbacks.EarlyStopping(monitor='val_loss', patience=75)\n",
        "\n",
        "history_big = model_big.fit(normed_train_data, train_labels, epochs=EPOCHS,\n",
        "                    validation_split = 0.2, verbose=0, callbacks=[early_stop, PrintDot()])\n"
      ],
      "execution_count": null,
      "outputs": [
        {
          "output_type": "stream",
          "text": [
            "\n",
            "....................................................................................................\n",
            "....................................................................................................\n",
            "....................................................................................................\n",
            "......................................................"
          ],
          "name": "stdout"
        }
      ]
    },
    {
      "cell_type": "markdown",
      "metadata": {
        "id": "0Kwk9eLaGmlz"
      },
      "source": [
        "Visualize the model's training progress using the stats stored in the `history` object."
      ]
    },
    {
      "cell_type": "code",
      "metadata": {
        "id": "UPNtAEKZGmlz",
        "colab": {
          "base_uri": "https://localhost:8080/",
          "height": 194
        },
        "outputId": "09b05831-2007-4d9a-b8d2-a9d11f620a9e"
      },
      "source": [
        "hist_big = pd.DataFrame(history_big.history)\n",
        "hist_big['epoch'] = history_big.epoch\n",
        "hist_big.tail() "
      ],
      "execution_count": null,
      "outputs": [
        {
          "output_type": "execute_result",
          "data": {
            "text/html": [
              "<div>\n",
              "<style scoped>\n",
              "    .dataframe tbody tr th:only-of-type {\n",
              "        vertical-align: middle;\n",
              "    }\n",
              "\n",
              "    .dataframe tbody tr th {\n",
              "        vertical-align: top;\n",
              "    }\n",
              "\n",
              "    .dataframe thead th {\n",
              "        text-align: right;\n",
              "    }\n",
              "</style>\n",
              "<table border=\"1\" class=\"dataframe\">\n",
              "  <thead>\n",
              "    <tr style=\"text-align: right;\">\n",
              "      <th></th>\n",
              "      <th>loss</th>\n",
              "      <th>mean_absolute_error</th>\n",
              "      <th>mean_squared_error</th>\n",
              "      <th>val_loss</th>\n",
              "      <th>val_mean_absolute_error</th>\n",
              "      <th>val_mean_squared_error</th>\n",
              "      <th>epoch</th>\n",
              "    </tr>\n",
              "  </thead>\n",
              "  <tbody>\n",
              "    <tr>\n",
              "      <th>349</th>\n",
              "      <td>0.009550</td>\n",
              "      <td>0.068605</td>\n",
              "      <td>0.009550</td>\n",
              "      <td>0.016726</td>\n",
              "      <td>0.093524</td>\n",
              "      <td>0.016726</td>\n",
              "      <td>349</td>\n",
              "    </tr>\n",
              "    <tr>\n",
              "      <th>350</th>\n",
              "      <td>0.009735</td>\n",
              "      <td>0.069005</td>\n",
              "      <td>0.009735</td>\n",
              "      <td>0.009707</td>\n",
              "      <td>0.068078</td>\n",
              "      <td>0.009707</td>\n",
              "      <td>350</td>\n",
              "    </tr>\n",
              "    <tr>\n",
              "      <th>351</th>\n",
              "      <td>0.009828</td>\n",
              "      <td>0.069744</td>\n",
              "      <td>0.009828</td>\n",
              "      <td>0.017998</td>\n",
              "      <td>0.099655</td>\n",
              "      <td>0.017998</td>\n",
              "      <td>351</td>\n",
              "    </tr>\n",
              "    <tr>\n",
              "      <th>352</th>\n",
              "      <td>0.010031</td>\n",
              "      <td>0.067599</td>\n",
              "      <td>0.010031</td>\n",
              "      <td>0.016418</td>\n",
              "      <td>0.088410</td>\n",
              "      <td>0.016418</td>\n",
              "      <td>352</td>\n",
              "    </tr>\n",
              "    <tr>\n",
              "      <th>353</th>\n",
              "      <td>0.008605</td>\n",
              "      <td>0.065644</td>\n",
              "      <td>0.008605</td>\n",
              "      <td>0.010773</td>\n",
              "      <td>0.071640</td>\n",
              "      <td>0.010773</td>\n",
              "      <td>353</td>\n",
              "    </tr>\n",
              "  </tbody>\n",
              "</table>\n",
              "</div>"
            ],
            "text/plain": [
              "         loss  mean_absolute_error  ...  val_mean_squared_error  epoch\n",
              "349  0.009550             0.068605  ...                0.016726    349\n",
              "350  0.009735             0.069005  ...                0.009707    350\n",
              "351  0.009828             0.069744  ...                0.017998    351\n",
              "352  0.010031             0.067599  ...                0.016418    352\n",
              "353  0.008605             0.065644  ...                0.010773    353\n",
              "\n",
              "[5 rows x 7 columns]"
            ]
          },
          "metadata": {
            "tags": []
          },
          "execution_count": 42
        }
      ]
    },
    {
      "cell_type": "code",
      "metadata": {
        "id": "FXoBIFTgGml1",
        "colab": {
          "base_uri": "https://localhost:8080/",
          "height": 549
        },
        "outputId": "af7fd6b4-e0b3-4cf0-da85-5fab84ad16e9"
      },
      "source": [
        "def plot_history(history):\n",
        "  hist = pd.DataFrame(history.history)\n",
        "  hist['epoch'] = history.epoch\n",
        "\n",
        "  plt.figure()\n",
        "  plt.xlabel('Epoch')\n",
        "  plt.ylabel('Mean Abs Error [ST]')\n",
        "  plt.plot(hist['epoch'], hist['mean_absolute_error'],\n",
        "           label='Train Error')\n",
        "  plt.plot(hist['epoch'], hist['val_mean_absolute_error'],\n",
        "           label = 'Val Error')\n",
        "  plt.ylim([0,2])\n",
        "  plt.legend()\n",
        "\n",
        "  plt.figure()\n",
        "  plt.xlabel('Epoch')\n",
        "  plt.ylabel('Mean Square Error [$ST^2$]')\n",
        "  plt.plot(hist['epoch'], hist['mean_squared_error'],\n",
        "           label='Train Error')\n",
        "  plt.plot(hist['epoch'], hist['val_mean_squared_error'],\n",
        "           label = 'Val Error')\n",
        "  plt.ylim([0,5])\n",
        "  plt.legend()\n",
        "  plt.show()\n",
        "\n",
        "\n",
        "plot_history(history_big)"
      ],
      "execution_count": null,
      "outputs": [
        {
          "output_type": "display_data",
          "data": {
            "image/png": "[encoded data removed]",
            "text/plain": [
              "<Figure size 432x288 with 1 Axes>"
            ]
          },
          "metadata": {
            "tags": [],
            "needs_background": "light"
          }
        },
        {
          "output_type": "display_data",
          "data": {
            "image/png": "[encoded data removed]",
            "text/plain": [
              "<Figure size 432x288 with 1 Axes>"
            ]
          },
          "metadata": {
            "tags": [],
            "needs_background": "light"
          }
        }
      ]
    },
    {
      "cell_type": "markdown",
      "metadata": {
        "id": "tMUM2ZMoGml3"
      },
      "source": [
        "The graph shows that on the validation set, the average error is usually around +/- 2 MPG. Is this good? We'll leave that decision up to you.\n",
        "\n",
        "Let's see how well the model generalizes by using the **test** set, which we did not use when training the model.  This tells us how well we can expect the model to predict when we use it in the real world."
      ]
    },
    {
      "cell_type": "code",
      "metadata": {
        "id": "fXVH-grGGml3",
        "colab": {
          "base_uri": "https://localhost:8080/",
          "height": 35
        },
        "outputId": "64cbb873-3358-42d3-e8ae-a0309dda1306"
      },
      "source": [
        "loss, mae, mse = model_big.evaluate(normed_test_data, test_labels, verbose=0)\n",
        "\n",
        "print(\"Testing set Mean Abs Error: {:5.2f} mN/m\".format(mae))"
      ],
      "execution_count": null,
      "outputs": [
        {
          "output_type": "stream",
          "text": [
            "Testing set Mean Abs Error:  0.07 mN/m\n"
          ],
          "name": "stdout"
        }
      ]
    },
    {
      "cell_type": "markdown",
      "metadata": {
        "id": "4ifGv8-hGml5"
      },
      "source": [
        "### Make predictions\n",
        "\n",
        "Finally, predict ST values using data in the testing set:"
      ]
    },
    {
      "cell_type": "code",
      "metadata": {
        "id": "Wi0BcB87Gml5",
        "colab": {
          "base_uri": "https://localhost:8080/",
          "height": 573
        },
        "outputId": "4d202dd0-02c2-43c1-dfbb-7fab341607b1"
      },
      "source": [
        "test_predictions_big = model_big.predict(normed_test_data).flatten()\n",
        "\n",
        "plt.scatter(test_labels, test_predictions_big)\n",
        "plt.title('Normalized test data')\n",
        "plt.xlabel('True Values [surface tension - mN/m]')\n",
        "plt.ylabel('Predictions [surface tension - mN/m]')\n",
        "plt.axis('equal')\n",
        "plt.axis('square')\n",
        "plt.xlim([10,75])\n",
        "plt.ylim([10,75])\n",
        "_ = plt.plot([-100, 100], [-100, 100])\n",
        "plt.show()\n",
        "\n",
        "test_predictions2_big = model_big.predict(normed_train_data).flatten()\n",
        "\n",
        "plt.scatter(train_labels, test_predictions2_big)\n",
        "plt.title('Normalized training data')\n",
        "plt.xlabel('True Values [surface tension - mN/m]')\n",
        "plt.ylabel('Predictions [surface tension - mN/m]')\n",
        "plt.axis('equal')\n",
        "plt.axis('square')\n",
        "plt.xlim([10,75])\n",
        "plt.ylim([10,75])\n",
        "_ = plt.plot([-100, 100], [-100, 100])\n",
        "plt.show()\n"
      ],
      "execution_count": null,
      "outputs": [
        {
          "output_type": "display_data",
          "data": {
            "image/png": "[encoded data removed]",
            "text/plain": [
              "<Figure size 432x288 with 1 Axes>"
            ]
          },
          "metadata": {
            "tags": [],
            "needs_background": "light"
          }
        },
        {
          "output_type": "display_data",
          "data": {
            "image/png": "[encoded data removed]",
            "text/plain": [
              "<Figure size 432x288 with 1 Axes>"
            ]
          },
          "metadata": {
            "tags": [],
            "needs_background": "light"
          }
        }
      ]
    },
    {
      "cell_type": "markdown",
      "metadata": {
        "id": "30DW9Dt9Gml8"
      },
      "source": [
        "Seriously?"
      ]
    },
    {
      "cell_type": "code",
      "metadata": {
        "id": "1zNzaL86Gml8",
        "colab": {
          "base_uri": "https://localhost:8080/",
          "height": 283
        },
        "outputId": "0d69f5ff-1ca3-4b1f-a600-83ad54be17c5"
      },
      "source": [
        "error_big = test_predictions_big - test_labels\n",
        "plt.hist(error_big, bins = 50)\n",
        "plt.xlabel(\"Prediction Error [mN/m]\")\n",
        "_ = plt.ylabel(\"Count\")\n",
        "#plt.ylim(0, 5)\n",
        "plt.show()"
      ],
      "execution_count": null,
      "outputs": [
        {
          "output_type": "display_data",
          "data": {
            "image/png": "[encoded data removed]",
            "text/plain": [
              "<Figure size 432x288 with 1 Axes>"
            ]
          },
          "metadata": {
            "tags": [],
            "needs_background": "light"
          }
        }
      ]
    },
    {
      "cell_type": "markdown",
      "metadata": {
        "id": "ZoPD_D4PLBwx"
      },
      "source": [
        "### Trying model No 3\n"
      ]
    },
    {
      "cell_type": "code",
      "metadata": {
        "id": "sZRUD8cgLHUk"
      },
      "source": [
        "def build_model():\n",
        "  model = keras.Sequential([\n",
        "    #layers.Dense(100, activation=tf.nn.relu, input_shape=[len(train_dataset.keys())]),\n",
        "    layers.Conv3D(64, kernel_size=(5,5), strides=(1, 1, 1), activation=tf.nn.swish, input_shape=[len(train_dataset.keys())])\n",
        "    layers.MaxPooling3D(pool_size=(2, 2, 2), strides=(1, 1, 1))\n",
        "    layers.Conv3D(32, kernel_size=(5,5), strides=(1, 1, 1), activation=tf.nn.swish)\n",
        "    layers.MaxPooling3D(pool_size=(2, 2, 2), strides=(1, 1, 1))\n",
        "    layers.Flatten()\n",
        "    layers.Dense(14, activation=tf.nn.swish),\n",
        "    layers.Dense(5, activation=tf.nn.swish),\n",
        "    layers.Dense(1)\n",
        "  ])\n",
        "\n",
        "  optimizer = get_optimizer() # tf.keras.optimizers.Adam(learning_rate=0.001) #RMSprop(0.0001)\n",
        "  model.compile(loss='mean_squared_error',\n",
        "                optimizer=optimizer,\n",
        "                metrics=['mean_absolute_error', 'mean_squared_error'])\n",
        "  return model"
      ],
      "execution_count": null,
      "outputs": []
    },
    {
      "cell_type": "code",
      "metadata": {
        "id": "PeF3NEK6LHUt"
      },
      "source": [
        "model = build_model()"
      ],
      "execution_count": null,
      "outputs": []
    },
    {
      "cell_type": "markdown",
      "metadata": {
        "id": "ZntoWrT9MMnb"
      },
      "source": [
        "### Inspect the model\n",
        "\n",
        "Use the `.summary` method to print a simple description of the model"
      ]
    },
    {
      "cell_type": "code",
      "metadata": {
        "id": "XVDN4MumMMne"
      },
      "source": [
        "model_big.summary()"
      ],
      "execution_count": null,
      "outputs": []
    },
    {
      "cell_type": "markdown",
      "metadata": {
        "id": "qspbVMZNMMnf"
      },
      "source": [
        "\n",
        "Now try out the model. Take a batch of `10` examples from the training data and call `model.predict` on it."
      ]
    },
    {
      "cell_type": "code",
      "metadata": {
        "id": "lUbyl5J8MMnf"
      },
      "source": [
        "example_batch = normed_train_data[:10]\n",
        "example_result = model.predict(example_batch)\n",
        "example_result"
      ],
      "execution_count": null,
      "outputs": []
    },
    {
      "cell_type": "markdown",
      "metadata": {
        "id": "twoy1EgBMMnf"
      },
      "source": [
        "It seems to be working, and it produces a result of the expected shape and type."
      ]
    },
    {
      "cell_type": "markdown",
      "metadata": {
        "id": "eE7Qfz0oMMng"
      },
      "source": [
        "### Train the model\n",
        "\n",
        "Train the model for 1000 epochs, and record the training and validation accuracy in the `history` object."
      ]
    },
    {
      "cell_type": "code",
      "metadata": {
        "id": "KcUVLqy1MMng"
      },
      "source": [
        "# Display training progress by printing a single dot for each completed epoch\n",
        "class PrintDot(keras.callbacks.Callback):\n",
        "  def on_epoch_end(self, epoch, logs):\n",
        "    if epoch % 100 == 0: print('')\n",
        "    print('.', end='')\n",
        "\n",
        "EPOCHS = 1000\n",
        "\n",
        "# The patience parameter is the amount of epochs to check for improvement\n",
        "early_stop = keras.callbacks.EarlyStopping(monitor='val_loss', patience=75)\n",
        "\n",
        "history_big = model_big.fit(normed_train_data, train_labels, epochs=EPOCHS,\n",
        "                    validation_split = 0.2, verbose=0, callbacks=[early_stop, PrintDot()])\n"
      ],
      "execution_count": null,
      "outputs": []
    },
    {
      "cell_type": "markdown",
      "metadata": {
        "id": "In64HnexMMnh"
      },
      "source": [
        "Visualize the model's training progress using the stats stored in the `history` object."
      ]
    },
    {
      "cell_type": "code",
      "metadata": {
        "id": "idExKIXeMMni"
      },
      "source": [
        "hist_big = pd.DataFrame(history_big.history)\n",
        "hist_big['epoch'] = history_big.epoch\n",
        "hist_big.tail() "
      ],
      "execution_count": null,
      "outputs": []
    },
    {
      "cell_type": "code",
      "metadata": {
        "id": "AbwAAkxGMMni"
      },
      "source": [
        "def plot_history(history):\n",
        "  hist = pd.DataFrame(history.history)\n",
        "  hist['epoch'] = history.epoch\n",
        "\n",
        "  plt.figure()\n",
        "  plt.xlabel('Epoch')\n",
        "  plt.ylabel('Mean Abs Error [ST]')\n",
        "  plt.plot(hist['epoch'], hist['mean_absolute_error'],\n",
        "           label='Train Error')\n",
        "  plt.plot(hist['epoch'], hist['val_mean_absolute_error'],\n",
        "           label = 'Val Error')\n",
        "  plt.ylim([0,2])\n",
        "  plt.legend()\n",
        "\n",
        "  plt.figure()\n",
        "  plt.xlabel('Epoch')\n",
        "  plt.ylabel('Mean Square Error [$ST^2$]')\n",
        "  plt.plot(hist['epoch'], hist['mean_squared_error'],\n",
        "           label='Train Error')\n",
        "  plt.plot(hist['epoch'], hist['val_mean_squared_error'],\n",
        "           label = 'Val Error')\n",
        "  plt.ylim([0,5])\n",
        "  plt.legend()\n",
        "  plt.show()\n",
        "\n",
        "\n",
        "plot_history(history_big)"
      ],
      "execution_count": null,
      "outputs": []
    },
    {
      "cell_type": "markdown",
      "metadata": {
        "id": "AlxGpxupMMni"
      },
      "source": [
        "The graph shows that on the validation set, the average error is usually around +/- 2 MPG. Is this good? We'll leave that decision up to you.\n",
        "\n",
        "Let's see how well the model generalizes by using the **test** set, which we did not use when training the model.  This tells us how well we can expect the model to predict when we use it in the real world."
      ]
    },
    {
      "cell_type": "code",
      "metadata": {
        "id": "xdFKCSBqMMni"
      },
      "source": [
        "loss, mae, mse = model_big.evaluate(normed_test_data, test_labels, verbose=0)\n",
        "\n",
        "print(\"Testing set Mean Abs Error: {:5.2f} mN/m\".format(mae))"
      ],
      "execution_count": null,
      "outputs": []
    },
    {
      "cell_type": "markdown",
      "metadata": {
        "id": "_Aumx2-VMMnj"
      },
      "source": [
        "### Make predictions\n",
        "\n",
        "Finally, predict ST values using data in the testing set:"
      ]
    },
    {
      "cell_type": "code",
      "metadata": {
        "id": "Gn-HG3aFMMnj"
      },
      "source": [
        "test_predictions_big = model_big.predict(normed_test_data).flatten()\n",
        "\n",
        "plt.scatter(test_labels, test_predictions_big)\n",
        "plt.title('Normalized test data')\n",
        "plt.xlabel('True Values [surface tension - mN/m]')\n",
        "plt.ylabel('Predictions [surface tension - mN/m]')\n",
        "plt.axis('equal')\n",
        "plt.axis('square')\n",
        "plt.xlim([10,75])\n",
        "plt.ylim([10,75])\n",
        "_ = plt.plot([-100, 100], [-100, 100])\n",
        "plt.show()\n",
        "\n",
        "test_predictions2_big = model_big.predict(normed_train_data).flatten()\n",
        "\n",
        "plt.scatter(train_labels, test_predictions2_big)\n",
        "plt.title('Normalized training data')\n",
        "plt.xlabel('True Values [surface tension - mN/m]')\n",
        "plt.ylabel('Predictions [surface tension - mN/m]')\n",
        "plt.axis('equal')\n",
        "plt.axis('square')\n",
        "plt.xlim([10,75])\n",
        "plt.ylim([10,75])\n",
        "_ = plt.plot([-100, 100], [-100, 100])\n",
        "plt.show()\n"
      ],
      "execution_count": null,
      "outputs": []
    },
    {
      "cell_type": "markdown",
      "metadata": {
        "id": "f0mwvrhIMMnj"
      },
      "source": [
        "Seriously?"
      ]
    },
    {
      "cell_type": "code",
      "metadata": {
        "id": "wwhGkUuyMMnj"
      },
      "source": [
        "error_big = test_predictions_big - test_labels\n",
        "plt.hist(error_big, bins = 50)\n",
        "plt.xlabel(\"Prediction Error [mN/m]\")\n",
        "_ = plt.ylabel(\"Count\")\n",
        "#plt.ylim(0, 5)\n",
        "plt.show()"
      ],
      "execution_count": null,
      "outputs": []
    },
    {
      "cell_type": "markdown",
      "metadata": {
        "id": "r-i0Bq5JF0nv"
      },
      "source": [
        "# Saving the final Model"
      ]
    },
    {
      "cell_type": "markdown",
      "metadata": {
        "id": "G8FBhOnbGK65"
      },
      "source": [
        "When you are satisfied with the model and the accuracy continue from here:"
      ]
    },
    {
      "cell_type": "markdown",
      "metadata": {
        "id": "TvCBPgR-gWXl"
      },
      "source": [
        "Run the next code box only if google drive is not mounted to colab"
      ]
    },
    {
      "cell_type": "code",
      "metadata": {
        "id": "7dA-joJRPNiJ",
        "colab": {
          "base_uri": "https://localhost:8080/",
          "height": 33
        },
        "outputId": "e12d0eb6-9fb7-4ece-eddc-1c17deb985b8"
      },
      "source": [
        "from google.colab import drive\n",
        "drive.mount('/content/drive')"
      ],
      "execution_count": null,
      "outputs": [
        {
          "output_type": "stream",
          "text": [
            "Mounted at /content/drive\n"
          ],
          "name": "stdout"
        }
      ]
    },
    {
      "cell_type": "markdown",
      "metadata": {
        "id": "BspL3Z6-GPaa"
      },
      "source": [
        "Saving the model in a **SavedModel** format"
      ]
    },
    {
      "cell_type": "code",
      "metadata": {
        "id": "VwWrwBcZGLnZ"
      },
      "source": [
        "!pip install -q pyyaml h5py  # Required to save models in HDF5 format"
      ],
      "execution_count": null,
      "outputs": []
    },
    {
      "cell_type": "code",
      "metadata": {
        "id": "6BR7rbL5GXku"
      },
      "source": [
        "import os"
      ],
      "execution_count": null,
      "outputs": []
    },
    {
      "cell_type": "code",
      "metadata": {
        "id": "MzumSsZfGYCp"
      },
      "source": [
        "# Save the entire model as a SavedModel.\n",
        "folder=str('theoretical_only_Ps_vary/')\n",
        "filename=str('test_training_Ps_1800_3000_3μL.h5')\n",
        "#!mkdir -p '/content/drive/My Drive/DropLev/MachineLearningModels' #Ceates a folder named \"MachineLearningModels\"\n",
        "model.save('/content/drive/My Drive/DropLev/MachineLearningModels/'+folder+filename)  #Saves the file"
      ],
      "execution_count": null,
      "outputs": []
    },
    {
      "cell_type": "markdown",
      "metadata": {
        "id": "oZcqRI0r9B4r"
      },
      "source": [
        "# Reload a fresh Keras model from the saved model:"
      ]
    },
    {
      "cell_type": "markdown",
      "metadata": {
        "id": "W6mEqNn497op"
      },
      "source": [
        "For **SavedModel** format"
      ]
    },
    {
      "cell_type": "code",
      "metadata": {
        "id": "c4vUC4ep8_VA",
        "colab": {
          "base_uri": "https://localhost:8080/",
          "height": 250
        },
        "outputId": "cd46a4fd-af73-4a6e-be19-09cb2a856130"
      },
      "source": [
        "folder=str('theoretical_only_Ps_vary/')\n",
        "filename=str('test_training_Ps_1800_3000_3μL.h5')\n",
        "\n",
        "model = tf.keras.models.load_model('/content/drive/My Drive/DropLev/MachineLearningModels/'+folder+filename)\n",
        "\n",
        "# Check its architecture\n",
        "model.summary()"
      ],
      "execution_count": null,
      "outputs": [
        {
          "output_type": "stream",
          "text": [
            "Model: \"sequential_1\"\n",
            "_________________________________________________________________\n",
            "Layer (type)                 Output Shape              Param #   \n",
            "=================================================================\n",
            "dense_3 (Dense)              (None, 14)                4928      \n",
            "_________________________________________________________________\n",
            "dense_4 (Dense)              (None, 5)                 75        \n",
            "_________________________________________________________________\n",
            "dense_5 (Dense)              (None, 1)                 6         \n",
            "=================================================================\n",
            "Total params: 5,009\n",
            "Trainable params: 5,009\n",
            "Non-trainable params: 0\n",
            "_________________________________________________________________\n"
          ],
          "name": "stdout"
        }
      ]
    },
    {
      "cell_type": "markdown",
      "metadata": {
        "id": "j1K6xGBg9K4A"
      },
      "source": [
        "View the MAE of the saved and re-called model:"
      ]
    },
    {
      "cell_type": "code",
      "metadata": {
        "id": "if5rjrz79NPI"
      },
      "source": [
        "# Evaluation\n",
        "loss, mae, mse = model.evaluate(normed_test_data, test_labels, verbose=0)\n",
        "print('Restored model, Mean absolute error: {:5.2f}'.format(mae))\n"
      ],
      "execution_count": null,
      "outputs": []
    },
    {
      "cell_type": "markdown",
      "metadata": {
        "id": "SfiEXBeBbCcr"
      },
      "source": [
        "### Genarate new data and evaluate the saved model"
      ]
    },
    {
      "cell_type": "code",
      "metadata": {
        "id": "93WuLc7ybJoC",
        "colab": {
          "base_uri": "https://localhost:8080/",
          "height": 1000
        },
        "outputId": "b49bd0f3-c30c-415f-be24-c1efcf22f6f5"
      },
      "source": [
        "def norm_test(x):\n",
        "  return (x - stats_input_df['mean']) / stats_input_df['std']\n",
        "\n",
        "#import model from drive\n",
        "#filename=str('test_training_whole_drop_best.h5')\n",
        "#model = tf.keras.models.load_model('/content/drive/My Drive/DropLev/MachineLearningModels/'+filename)\n",
        "\n",
        "\n",
        "num_sample_test=25\n",
        "sampling=175\n",
        "vol_drop=np.random.random(num_sample_test)*(7-2)+2\n",
        "R_sph=calc_R_sph(vol_drop[i], calibration)\n",
        "Ps=np.random.random(num_sample_test)*(2000-1000)+2000 #Pa\n",
        "theta_test=np.random.rand(num_sample_test, sampling)*np.pi*2\n",
        "theta_test.sort()\n",
        "\n",
        "ST_test=np.random.random(num_sample_test)*(72-25)+25\n",
        "\n",
        "r_all_test=np.empty([0,sampling])\n",
        "\n",
        "for i in range(num_sample_test):\n",
        "  r_test=R_predict(theta_test[i], ST_test[i], R_sph[i], Ps[i], Cg_air, k_o)\n",
        "  r_all_test=np.vstack((r_all_test, r_test))\n",
        "\n",
        "test_dataset=np.hstack((theta_test,r_all_test, ST_test.reshape([num_sample_test,1])))\n",
        "\n",
        "############### Adding noise #############################\n",
        "noise = np.random.random(size=test_dataset.shape)*0.1\n",
        "#print(noise)\n",
        "test_dataset=test_dataset+noise\n",
        "plt.figure()\n",
        "plt.plot(test_dataset[0, 0:sampling], test_dataset[0, sampling:sampling*2])\n",
        "##########################################################\n",
        "\n",
        "input_array=test_dataset[:, 0:sampling*2]\n",
        "input_df=pd.DataFrame(input_array, index=None, dtype=float)\n",
        "\n",
        "stats_input_df=input_df.describe()\n",
        "stats_input_df=stats_input_df.transpose()\n",
        "\n",
        "norm_input_array=norm_test(input_df)\n",
        "prediction=model.predict(norm_input_array).flatten()\n",
        "true_values=test_dataset[:, sampling*2]\n",
        "\n",
        "plt.figure()\n",
        "plt.xlabel('Frame number')\n",
        "plt.ylabel('Surface tension [ mN/m ]')\n",
        "plt.ylim(20, 75)\n",
        "plt.plot(prediction, label='Predicted values')\n",
        "plt.plot(true_values, label='Real values')\n",
        "plt.legend()\n",
        "\n",
        "plt.figure()\n",
        "plt.scatter(true_values, prediction)\n",
        "plt.title('Normalized new test data')\n",
        "plt.xlabel('True Values [surface tension - mN/m]')\n",
        "plt.ylabel('Predictions [surface tension - mN/m]')\n",
        "plt.axis('equal')\n",
        "plt.axis('square')\n",
        "plt.xlim([10,75])\n",
        "plt.ylim([10,75])\n",
        "_ = plt.plot([-100, 100], [-100, 100])\n",
        "plt.show()\n",
        "\n",
        "error = prediction - true_values\n",
        "plt.figure()\n",
        "plt.hist(error, bins = 50)\n",
        "plt.xlabel(\"Prediction Error [mN/m]\")\n",
        "_ = plt.ylabel(\"Count\")\n",
        "plt.show()\n"
      ],
      "execution_count": null,
      "outputs": [
        {
          "output_type": "display_data",
          "data": {
            "image/png": "[encoded data removed]",
            "text/plain": [
              "<Figure size 432x288 with 1 Axes>"
            ]
          },
          "metadata": {
            "tags": [],
            "needs_background": "light"
          }
        },
        {
          "output_type": "display_data",
          "data": {
            "image/png": "[encoded data removed]",
            "text/plain": [
              "<Figure size 432x288 with 1 Axes>"
            ]
          },
          "metadata": {
            "tags": [],
            "needs_background": "light"
          }
        },
        {
          "output_type": "display_data",
          "data": {
            "image/png": "[encoded data removed]",
            "text/plain": [
              "<Figure size 432x288 with 1 Axes>"
            ]
          },
          "metadata": {
            "tags": [],
            "needs_background": "light"
          }
        },
        {
          "output_type": "display_data",
          "data": {
            "image/png": "[encoded data removed]",
            "text/plain": [
              "<Figure size 432x288 with 1 Axes>"
            ]
          },
          "metadata": {
            "tags": [],
            "needs_background": "light"
          }
        }
      ]
    }
  ]
}