{
  "nbformat": 4,
  "nbformat_minor": 0,
  "metadata": {
    "colab": {
      "name": "test_training_ST_on_model.ipynb",
      "provenance": [],
      "collapsed_sections": [],
      "toc_visible": true
    },
    "kernelspec": {
      "display_name": "Python 3",
      "language": "python",
      "name": "python3"
    },
    "language_info": {
      "codemirror_mode": {
        "name": "ipython",
        "version": 3
      },
      "file_extension": ".py",
      "mimetype": "text/x-python",
      "name": "python",
      "nbconvert_exporter": "python",
      "pygments_lexer": "ipython3",
      "version": "3.6.9"
    },
    "accelerator": "GPU"
  },
  "cells": [
    {
      "cell_type": "markdown",
      "metadata": {
        "id": "FhGuhbZ6M5tl"
      },
      "source": [
        "##### Copyright 2018 The TensorFlow Authors."
      ]
    },
    {
      "cell_type": "code",
      "metadata": {
        "cellView": "form",
        "id": "AwOEIRJC6Une"
      },
      "source": [
        "#@title Licensed under the Apache License, Version 2.0 (the \"License\");\n",
        "# you may not use this file except in compliance with the License.\n",
        "# You may obtain a copy of the License at\n",
        "#\n",
        "# https://www.apache.org/licenses/LICENSE-2.0\n",
        "#\n",
        "# Unless required by applicable law or agreed to in writing, software\n",
        "# distributed under the License is distributed on an \"AS IS\" BASIS,\n",
        "# WITHOUT WARRANTIES OR CONDITIONS OF ANY KIND, either express or implied.\n",
        "# See the License for the specific language governing permissions and\n",
        "# limitations under the License."
      ],
      "execution_count": null,
      "outputs": []
    },
    {
      "cell_type": "code",
      "metadata": {
        "cellView": "form",
        "id": "KyPEtTqk6VdG"
      },
      "source": [
        "#@title MIT License\n",
        "#\n",
        "# Copyright (c) 2017 François Chollet\n",
        "#\n",
        "# Permission is hereby granted, free of charge, to any person obtaining a\n",
        "# copy of this software and associated documentation files (the \"Software\"),\n",
        "# to deal in the Software without restriction, including without limitation\n",
        "# the rights to use, copy, modify, merge, publish, distribute, sublicense,\n",
        "# and/or sell copies of the Software, and to permit persons to whom the\n",
        "# Software is furnished to do so, subject to the following conditions:\n",
        "#\n",
        "# The above copyright notice and this permission notice shall be included in\n",
        "# all copies or substantial portions of the Software.\n",
        "#\n",
        "# THE SOFTWARE IS PROVIDED \"AS IS\", WITHOUT WARRANTY OF ANY KIND, EXPRESS OR\n",
        "# IMPLIED, INCLUDING BUT NOT LIMITED TO THE WARRANTIES OF MERCHANTABILITY,\n",
        "# FITNESS FOR A PARTICULAR PURPOSE AND NONINFRINGEMENT. IN NO EVENT SHALL\n",
        "# THE AUTHORS OR COPYRIGHT HOLDERS BE LIABLE FOR ANY CLAIM, DAMAGES OR OTHER\n",
        "# LIABILITY, WHETHER IN AN ACTION OF CONTRACT, TORT OR OTHERWISE, ARISING\n",
        "# FROM, OUT OF OR IN CONNECTION WITH THE SOFTWARE OR THE USE OR OTHER\n",
        "# DEALINGS IN THE SOFTWARE."
      ],
      "execution_count": null,
      "outputs": []
    },
    {
      "cell_type": "markdown",
      "metadata": {
        "id": "EIdT9iu_Z4Rb"
      },
      "source": [
        "# Lev Droplet "
      ]
    },
    {
      "cell_type": "markdown",
      "metadata": {
        "id": "bBIlTPscrIT9"
      },
      "source": [
        "<table class=\"tfo-notebook-buttons\" align=\"left\">\n",
        "  <td>\n",
        "    <a target=\"_blank\" href=\"https://www.tensorflow.org/tutorials/keras/basic_regression\"><img src=\"https://www.tensorflow.org/images/tf_logo_32px.png\" />View on TensorFlow.org</a>\n",
        "  </td>\n",
        "  <td>\n",
        "    <a target=\"_blank\" href=\"https://colab.research.google.com/github/tensorflow/docs/blob/r2.0rc/site/en/tutorials/keras/basic_regression.ipynb\"><img src=\"https://www.tensorflow.org/images/colab_logo_32px.png\" />Run in Google Colab</a>\n",
        "  </td>\n",
        "  <td>\n",
        "    <a target=\"_blank\" href=\"https://github.com/tensorflow/docs/blob/r2.0rc/site/en/tutorials/keras/basic_regression.ipynb\"><img src=\"https://www.tensorflow.org/images/GitHub-Mark-32px.png\" />View source on GitHub</a>\n",
        "  </td>\n",
        "</table>"
      ]
    },
    {
      "cell_type": "markdown",
      "metadata": {
        "id": "AHp3M9ZmrIxj"
      },
      "source": [
        "Training NN model(s) on theoretical data generated via the simple physical model"
      ]
    },
    {
      "cell_type": "code",
      "metadata": {
        "id": "IbpYKApN-KAR",
        "scrolled": true,
        "colab": {
          "base_uri": "https://localhost:8080/"
        },
        "outputId": "2d665363-eba2-4e4f-90b4-4e7404e32041"
      },
      "source": [
        "!pip install lmfit\n",
        "#!pip install seaborn"
      ],
      "execution_count": 1,
      "outputs": [
        {
          "output_type": "stream",
          "text": [
            "Collecting lmfit\n",
            "\u001b[?25l  Downloading https://files.pythonhosted.org/packages/67/70/0ef97b9d67b63efce0b720563e1c87ebfc15b565e89adde0c66c1025c848/lmfit-1.0.2.tar.gz (306kB)\n",
            "\u001b[K     |████████████████████████████████| 307kB 8.2MB/s \n",
            "\u001b[?25hCollecting asteval>=0.9.16\n",
            "\u001b[?25l  Downloading https://files.pythonhosted.org/packages/32/06/efc5ea08dc44836abbabbd949d944d6fde08312ce756557e16ab1ca477a4/asteval-0.9.23.tar.gz (55kB)\n",
            "\u001b[K     |████████████████████████████████| 61kB 6.8MB/s \n",
            "\u001b[?25hRequirement already satisfied: numpy>=1.16 in /usr/local/lib/python3.7/dist-packages (from lmfit) (1.19.5)\n",
            "Requirement already satisfied: scipy>=1.2 in /usr/local/lib/python3.7/dist-packages (from lmfit) (1.4.1)\n",
            "Collecting uncertainties>=3.0.1\n",
            "\u001b[?25l  Downloading https://files.pythonhosted.org/packages/45/41/fc7e7b73b603e7c2c9e040b7aa8caf4a88d74b6faa567601ed82b6f0d8e1/uncertainties-3.1.5-py2.py3-none-any.whl (246kB)\n",
            "\u001b[K     |████████████████████████████████| 256kB 16.8MB/s \n",
            "\u001b[?25hRequirement already satisfied: future in /usr/local/lib/python3.7/dist-packages (from uncertainties>=3.0.1->lmfit) (0.16.0)\n",
            "Building wheels for collected packages: lmfit, asteval\n",
            "  Building wheel for lmfit (setup.py) ... \u001b[?25l\u001b[?25hdone\n",
            "  Created wheel for lmfit: filename=lmfit-1.0.2-cp37-none-any.whl size=85265 sha256=47bd64ee6220573fdd3325d4bf57d4f278656f3ff7fc26b70067d1ace1665f1e\n",
            "  Stored in directory: /root/.cache/pip/wheels/d4/5e/db/d9f5987d9f15bf910feb5e0274ac601d5f2161dc78aedfacfa\n",
            "  Building wheel for asteval (setup.py) ... \u001b[?25l\u001b[?25hdone\n",
            "  Created wheel for asteval: filename=asteval-0.9.23-cp37-none-any.whl size=17419 sha256=e70a27efa4632b1abb3733020b066746f4d680f13eecb1ba2e89cd2222a8a8e5\n",
            "  Stored in directory: /root/.cache/pip/wheels/56/d6/43/4b5d8a9fd98b976031768673658c8b8d08dc9dcc0fa1907ad0\n",
            "Successfully built lmfit asteval\n",
            "Installing collected packages: asteval, uncertainties, lmfit\n",
            "Successfully installed asteval-0.9.23 lmfit-1.0.2 uncertainties-3.1.5\n"
          ],
          "name": "stdout"
        }
      ]
    },
    {
      "cell_type": "code",
      "metadata": {
        "id": "jyE0M3V99EdP",
        "scrolled": true,
        "colab": {
          "base_uri": "https://localhost:8080/"
        },
        "outputId": "2f1b392a-ccca-4312-bbe2-9135c3ee886a"
      },
      "source": [
        "import numpy as np\n",
        "#import cv2\n",
        "import os\n",
        "import re\n",
        "import glob\n",
        "import matplotlib.pyplot as plt\n",
        "from scipy.signal import  gaussian\n",
        "from scipy.ndimage import filters\n",
        "from scipy import optimize\n",
        "from scipy.stats import linregress\n",
        "from mpl_toolkits.mplot3d import Axes3D\n",
        "\n",
        "import seaborn as sns\n",
        "\n",
        "import scipy as sp\n",
        "import scipy.interpolate\n",
        "from scipy.integrate import trapz\n",
        "\n",
        "import time\n",
        "\n",
        "import pandas as pd\n",
        "\n",
        "from lmfit import Model, fit_report, Parameters\n",
        "\n",
        "#from __future__ import absolute_import, division, print_function, unicode_literals\n",
        "\n",
        "import pathlib\n",
        "\n",
        "import matplotlib.pyplot as plt\n",
        "import pandas as pd\n",
        "import seaborn as sns\n",
        "\n",
        "import tensorflow as tf\n",
        "from tensorflow import keras\n",
        "from tensorflow.keras import layers\n",
        "\n",
        "import io\n",
        "\n",
        "print(tf.__version__)\n",
        "print(\"Num GPUs Available: \", len(tf.config.experimental.list_physical_devices('GPU')))\n",
        "\n",
        "\n",
        "######### initialize the data ###############\n",
        "data_input=[]\n",
        "data_output=[]\n",
        "l_sample=300\n",
        "vol_all=[]\n",
        "vol2_all=[]\n",
        "data_x=[]\n",
        "data_y=[]\n",
        "data_h=[]\n",
        "data_w=[]\n",
        "R_sph_all=[]\n",
        "Ar=[]\n",
        "#st_all=[]\n",
        "rho=[]\n",
        "theta=[]\n",
        "#List of non-processed images:\n",
        "discarded=[]\n",
        "new=[]  #list of images without the discarded ones\n",
        "\n",
        "#For the simple approach fit\n",
        "phi_final=[]\n",
        "theta_az=[]\n",
        "theta_all=[]\n",
        "theta_final=[]\n",
        "r_theta_all=[]\n",
        "xc_all=[]\n",
        "yc_all=[]\n",
        "rho_final=[]\n",
        "data_Ps=[]\n",
        "data_dB=[]\n",
        "data_stderr=[]\n",
        "data_err=[]\n",
        "\n",
        "total_num_pictures = len(glob.glob1('.',\"*.png\"))\n",
        "frame_number=np.arange(total_num_pictures)\n",
        "\n",
        "gamma=64 #[N/m]\n",
        "Cg_air=1/101325 #Pa**(-1)\n",
        "k_o=2*np.pi*40/340  #wave number in the air. frequency 40kHz (25kH=0.000040sec) and speed of sound in air v=340 m/s from paper (331.5 for 20oC online) \n",
        "#Calibration\n",
        "needle_d=0.83 #mm\n",
        "needle_pxl=220 #pixels\n",
        "#calibration=0.00621722846441948**3\n",
        "cal=needle_d/needle_pxl\n",
        "calibration=(cal)**3\n",
        "\n",
        "\n",
        "###############################################################################\n",
        "#### Functions used in the data processing ####################################\n",
        "###############################################################################\n",
        "\n",
        "def calc_volume(x,y):\n",
        "    \"\"\"\n",
        "    Calculate the drop volume from a shape matrix.\n",
        "\n",
        "    Parameters\n",
        "    ----------\n",
        "    x, y - contour of the drop\n",
        "\n",
        "    Returns\n",
        "    -------\n",
        "    Integrated volume using for the given shape matrix.\n",
        "\n",
        "    \"\"\"\n",
        "    # data selection\n",
        "    idx=x<=0  # r=right\n",
        "    x_l=x[idx]\n",
        "    y_l=y[idx]\n",
        "        \n",
        "    vol_left=trapz(np.pi*x_l**2, y_l)/2\n",
        "        \n",
        "    # data selection\n",
        "    idx=x>=0  # r=right\n",
        "    x_r=x[idx]\n",
        "    y_r=y[idx]\n",
        "    vol_right=-trapz(np.pi*x_r**2, y_r)/2\n",
        "   \n",
        "    return vol_left+vol_right\n",
        "\n",
        "\n",
        "def calc_R_sph(vol):\n",
        "    \"\"\"\n",
        "    Calculate the spherical radius of a droplet based on the volume.\n",
        "\n",
        "    Input parameters\n",
        "    ----------\n",
        "    vol:         volume   [pixels**3]\n",
        "    calibration: calibration factor  [mm**3/pixels**3]\n",
        "\n",
        "    Returns\n",
        "    -------\n",
        "    Corresponding spherical radius.  [mm]\n",
        "\n",
        "    \"\"\"\n",
        "#    calibration=0.00621722846441948**3\n",
        "    #R_sph=(3*vol*calibration/(4*np.pi))**(1/3)\n",
        "    R_sph=(3*vol/(4*np.pi))**(1/3)\n",
        "    return R_sph\n",
        "\n",
        "def calc_dB(Ps):\n",
        "    \"\"\"\n",
        "    Calculate the deci Bell (dB) value for each acoustic pressure Ps.\n",
        "\n",
        "    Input parameters\n",
        "    ----------\n",
        "    Ps:     aplitude of the acoustic pressure\n",
        "\n",
        "    Returns\n",
        "    -------\n",
        "    dB value. []\n",
        "\n",
        "    \"\"\"\n",
        "    Po=2*10**(-5) #[Pa]\n",
        "\n",
        "    return 20*np.log10(Ps/Po)     #Acoustic pressure [Pa]\n",
        "\n",
        "def model_fit(th, Ps):\n",
        "    \"\"\"\n",
        "    Express the model that will be used to fit the experimental data (simple approach).\n",
        "\n",
        "    Input parameters\n",
        "    ----------\n",
        "    dB:     deciBell\n",
        "    th:     angle theta\n",
        "    Returns\n",
        "    -------\n",
        "    Expression of fitting model.\n",
        "\n",
        "    \"\"\"\n",
        "#    Ps=calc_ampl(dB)\n",
        "    ct_new=-((3/(64*gamma))*R_sph**2*Ps**2*Cg_air*(1+((7/5)*(k_o*R_sph)**2)))\n",
        "    return ct_new*(3*(np.cos(th))**2-1)+R_sph\n",
        "\n",
        "\n",
        "def R_predict(th, gamma, R_sph, Ps, Cg_air, k_o):\n",
        "    \"\"\"\n",
        "    Prediction of ST. \n",
        "    After the acoustic pressure is determined. The ST is calculated based on the equation of our model. \n",
        "    \n",
        "    \n",
        "    Input parameters\n",
        "    ----------\n",
        "    th:     angle theta\n",
        "    gamma:  ST as initial predition [mN/m]\n",
        "    Power:  U*I [Watt]\n",
        "    Returns\n",
        "    -------\n",
        "    gamma:   predicted surface tension [mN/m]\n",
        "\n",
        "    \"\"\"    \n",
        "#    Ps=data_Ps[i-1]    #[Pa]\n",
        "    ct_new=-((3/(64*gamma))*R_sph**2*Ps**2*Cg_air*(1+((7/5)*(k_o*R_sph)**2)))*(3*(np.cos(th))**2-1)\n",
        "    return ct_new+R_sph\n",
        "\n",
        "def ST_predict(th, gamma, R_sph, Ps, Cg_air, k_o):\n",
        "    \"\"\"\n",
        "    Prediction of ST. \n",
        "    After the acoustic pressure is determined. The ST is calculated based on the equation of our model. \n",
        "    \n",
        "    \n",
        "    Input parameters\n",
        "    ----------\n",
        "    th:     angle theta\n",
        "    gamma:  ST as initial predition [mN/m]\n",
        "    Power:  U*I [Watt]\n",
        "    Returns\n",
        "    -------\n",
        "    gamma:   predicted surface tension [mN/m]\n",
        "\n",
        "    \"\"\"    \n",
        "#    Ps=data_Ps[i-1]    #[Pa]\n",
        "    ct_new=-((3/(64*gamma))*R_sph**2*Ps**2*Cg_air*(1+((7/5)*(k_o*R_sph)**2)))*(3*(np.cos(th))**2-1)\n",
        "    return ct_new+R_sph\n",
        "\n",
        "\n",
        "def azimuth(phi):\n",
        "    \"\"\"\n",
        "    Calculate the azimuthal angle.\n",
        "\n",
        "    Input parameters\n",
        "    ----------\n",
        "    phi:     angle phi\n",
        "\n",
        "    Returns\n",
        "    -------\n",
        "    Azimuthal angle.\n",
        "\n",
        "    \"\"\"\n",
        "\n",
        "    if phi<=np.pi/2:\n",
        "        a=np.pi/2-phi\n",
        "    else:\n",
        "        a=2.5*np.pi-phi\n",
        "    return a\n",
        "\n",
        "\n",
        "def cart2pol(x, y):\n",
        "    rho = np.sqrt(x**2 + y**2)\n",
        "    theta = np.arctan2(y, x)\n",
        "    return(theta, rho)\n",
        "\n",
        "def pol2cart(rho, phi):\n",
        "    x = rho * np.cos(phi)\n",
        "    y = rho * np.sin(phi)\n",
        "    return(x, y)\n",
        "\n",
        "\n",
        "def pol2cart_theta(rho, theta):\n",
        "    x = rho * np.sin(theta)\n",
        "    y = rho * np.cos(theta)\n",
        "    return(x, y)"
      ],
      "execution_count": 2,
      "outputs": [
        {
          "output_type": "stream",
          "text": [
            "2.4.1\n",
            "Num GPUs Available:  1\n"
          ],
          "name": "stdout"
        }
      ]
    },
    {
      "cell_type": "markdown",
      "metadata": {
        "id": "OgUp-UtJe3dA"
      },
      "source": [
        "Check the connection to google's **GPU**"
      ]
    },
    {
      "cell_type": "code",
      "metadata": {
        "id": "dgZHRBKye0v-",
        "colab": {
          "base_uri": "https://localhost:8080/"
        },
        "outputId": "31c0061e-f580-43c6-f19c-56d7c42e2e58"
      },
      "source": [
        "%tensorflow_version 2.x\n",
        "import tensorflow as tf\n",
        "device_name = tf.test.gpu_device_name()\n",
        "if device_name != '/device:GPU:0':\n",
        "  raise SystemError('GPU device not found')\n",
        "print('Found GPU at: {}'.format(device_name))"
      ],
      "execution_count": 3,
      "outputs": [
        {
          "output_type": "stream",
          "text": [
            "Found GPU at: /device:GPU:0\n"
          ],
          "name": "stdout"
        }
      ]
    },
    {
      "cell_type": "markdown",
      "metadata": {
        "id": "lsGCO8nDUAlJ"
      },
      "source": [
        "Generate random angle:\n",
        "20 000 sets of 200 points"
      ]
    },
    {
      "cell_type": "code",
      "metadata": {
        "id": "k2AMjiCZT_5m",
        "colab": {
          "base_uri": "https://localhost:8080/",
          "height": 1000
        },
        "outputId": "70819d04-bac6-43c9-9471-7551bd1c6fe0"
      },
      "source": [
        "def gen_data(num_sample,sampling):\n",
        "\n",
        "    #np.random.seed(1234)\n",
        "\n",
        "    vol_drop=np.random.random(num_sample)*(5-2)+2 # in µL\n",
        "    # vol_drop=np.tile(vol_drop, num_sample)   # If the volume is constant !!!\n",
        "\n",
        "    #gamma=72.8 #[mN/m]   \n",
        "    Cg_air=1/101325 #Pa**(-1)\n",
        "    k_o=2*np.pi*40/340  #wave number in the air in [mm^-1]. frequency 40kHz (25kH=0.000040sec) and speed of sound in air v=340 m/s from paper (331.5 for 20oC online) \n",
        "\n",
        "    Ps=np.random.random(num_sample)*(2100-1000)+1200  #[Pa]\n",
        "    R_sph=calc_R_sph(vol_drop)\n",
        "\n",
        "    theta=np.random.rand(num_sample, sampling)*np.pi*2\n",
        "    theta.sort()\n",
        "    \n",
        "    ST_range=np.random.random(num_sample)*(72-25)+25\n",
        "    r_all=np.empty([0,sampling])\n",
        "\n",
        "\n",
        "    for i in range(num_sample):\n",
        "        r=R_predict(theta[i], ST_range[i], R_sph[i], Ps[i], Cg_air, k_o)\n",
        "        r_all=np.vstack((r_all, r))\n",
        "        \n",
        "        if i % 10000 == 0:\n",
        "                print(i)\n",
        "        \n",
        "    \n",
        "    dataset=np.hstack((theta,r_all, vol_drop.reshape([num_sample, 1]), Ps.reshape([num_sample,1]), ST_range.reshape([num_sample,1])))\n",
        "\n",
        "    # print(ST_range.min())\n",
        "    # print(ST_range.max())\n",
        "\n",
        "    plt.figure()\n",
        "    plt.ylabel('Count')\n",
        "    plt.xlabel('Surface tension [mN/m]')\n",
        "    sns.distplot(ST_range)\n",
        "    plt.figure()\n",
        "    plt.ylabel('Count')\n",
        "    plt.xlabel('Acoustic pressure [Pa]')\n",
        "    sns.distplot(Ps)\n",
        "    plt.figure()\n",
        "    plt.ylabel('Count')\n",
        "    plt.xlabel('Volume [μL]')\n",
        "    sns.distplot(vol_drop)\n",
        "\n",
        "    fig3 = plt.figure()\n",
        "    ax = plt.gca()\n",
        "    ax.set_aspect(1)\n",
        "    ax.set_xlim([-1.5,1.5])\n",
        "    ax.set_ylim([-1.5,1.5])\n",
        "    \n",
        "\n",
        "    for j in dataset:\n",
        "\n",
        "      x,y=pol2cart_theta(j[sampling:sampling+sampling], j[0:sampling])\n",
        "\n",
        "      plt.plot(x,y)\n",
        "\n",
        "    plt.show()\n",
        "    return dataset\n",
        "\n",
        "num_sample=100000  # number of different ST values\n",
        "sampling=175 # number of coordiante point describing the contour\n",
        "\n",
        "\n",
        "dataset=gen_data(num_sample,sampling)\n",
        "\n",
        "\n",
        "column_names=[]\n",
        "for i in range(sampling):\n",
        "  column_names.append('theta')\n",
        "for i in range(sampling):\n",
        "  column_names.append('rho')\n",
        "column_names.append('vol')\n",
        "column_names.append('Ps')\n",
        "column_names.append('ST')\n",
        "\n",
        "\n",
        "raw_dataset = pd.DataFrame(dataset, columns=column_names)\n",
        "\n",
        "# raw_dataset.to_csv('./dataset.csv',index=False)\n"
      ],
      "execution_count": 4,
      "outputs": [
        {
          "output_type": "stream",
          "text": [
            "0\n",
            "10000\n",
            "20000\n",
            "30000\n",
            "40000\n",
            "50000\n",
            "60000\n",
            "70000\n",
            "80000\n",
            "90000\n"
          ],
          "name": "stdout"
        },
        {
          "output_type": "stream",
          "text": [
            "/usr/local/lib/python3.7/dist-packages/seaborn/distributions.py:2557: FutureWarning: `distplot` is a deprecated function and will be removed in a future version. Please adapt your code to use either `displot` (a figure-level function with similar flexibility) or `histplot` (an axes-level function for histograms).\n",
            "  warnings.warn(msg, FutureWarning)\n",
            "/usr/local/lib/python3.7/dist-packages/seaborn/distributions.py:2557: FutureWarning: `distplot` is a deprecated function and will be removed in a future version. Please adapt your code to use either `displot` (a figure-level function with similar flexibility) or `histplot` (an axes-level function for histograms).\n",
            "  warnings.warn(msg, FutureWarning)\n",
            "/usr/local/lib/python3.7/dist-packages/seaborn/distributions.py:2557: FutureWarning: `distplot` is a deprecated function and will be removed in a future version. Please adapt your code to use either `displot` (a figure-level function with similar flexibility) or `histplot` (an axes-level function for histograms).\n",
            "  warnings.warn(msg, FutureWarning)\n"
          ],
          "name": "stderr"
        },
        {
          "output_type": "display_data",
          "data": {
            "image/png": "[encoded data removed]",
            "text/plain": [
              "<Figure size 432x288 with 1 Axes>"
            ]
          },
          "metadata": {
            "tags": [],
            "needs_background": "light"
          }
        },
        {
          "output_type": "display_data",
          "data": {
            "image/png": "[encoded data removed]",
            "text/plain": [
              "<Figure size 432x288 with 1 Axes>"
            ]
          },
          "metadata": {
            "tags": [],
            "needs_background": "light"
          }
        },
        {
          "output_type": "display_data",
          "data": {
            "image/png": "[encoded data removed]",
            "text/plain": [
              "<Figure size 432x288 with 1 Axes>"
            ]
          },
          "metadata": {
            "tags": [],
            "needs_background": "light"
          }
        },
        {
          "output_type": "display_data",
          "data": {
            "image/png": "[encoded data removed]",
            "text/plain": [
              "<Figure size 432x288 with 1 Axes>"
            ]
          },
          "metadata": {
            "tags": [],
            "needs_background": "light"
          }
        },
        {
          "output_type": "error",
          "ename": "NameError",
          "evalue": "ignored",
          "traceback": [
            "\u001b[0;31m---------------------------------------------------------------------------\u001b[0m",
            "\u001b[0;31mNameError\u001b[0m                                 Traceback (most recent call last)",
            "\u001b[0;32m<ipython-input-4-8b50f71d07ba>\u001b[0m in \u001b[0;36m<module>\u001b[0;34m()\u001b[0m\n\u001b[1;32m     80\u001b[0m \u001b[0;34m\u001b[0m\u001b[0m\n\u001b[1;32m     81\u001b[0m \u001b[0mraw_dataset\u001b[0m \u001b[0;34m=\u001b[0m \u001b[0mpd\u001b[0m\u001b[0;34m.\u001b[0m\u001b[0mDataFrame\u001b[0m\u001b[0;34m(\u001b[0m\u001b[0mdataset\u001b[0m\u001b[0;34m,\u001b[0m \u001b[0mcolumns\u001b[0m\u001b[0;34m=\u001b[0m\u001b[0mcolumn_names\u001b[0m\u001b[0;34m)\u001b[0m\u001b[0;34m\u001b[0m\u001b[0;34m\u001b[0m\u001b[0m\n\u001b[0;32m---> 82\u001b[0;31m \u001b[0mPs\u001b[0m\u001b[0;34m=\u001b[0m\u001b[0mraw_dataset\u001b[0m\u001b[0;34m.\u001b[0m\u001b[0mpop\u001b[0m\u001b[0;34m(\u001b[0m\u001b[0mPs\u001b[0m\u001b[0;34m)\u001b[0m\u001b[0;34m\u001b[0m\u001b[0;34m\u001b[0m\u001b[0m\n\u001b[0m\u001b[1;32m     83\u001b[0m \u001b[0;31m# raw_dataset.to_csv('./dataset.csv',index=False)\u001b[0m\u001b[0;34m\u001b[0m\u001b[0;34m\u001b[0m\u001b[0;34m\u001b[0m\u001b[0m\n",
            "\u001b[0;31mNameError\u001b[0m: name 'Ps' is not defined"
          ]
        }
      ]
    },
    {
      "cell_type": "code",
      "metadata": {
        "id": "QnYEVF5jmVsJ"
      },
      "source": [
        "#Remove columns\n",
        "\n",
        "Ps=raw_dataset.pop('Ps')\n",
        "volume=raw_dataset.pop('vol')"
      ],
      "execution_count": 5,
      "outputs": []
    },
    {
      "cell_type": "code",
      "metadata": {
        "id": "l83INVYlZsND"
      },
      "source": [
        "\n",
        "#input = pd.read_csv(io.BytesIO(uploaded['data.csv']))\n",
        "#input = pd.DataFrame(dataset)\n",
        "# Dataset is now stored in a Pandas Dataframe\n",
        "#input.size\n"
      ],
      "execution_count": null,
      "outputs": []
    },
    {
      "cell_type": "code",
      "metadata": {
        "id": "CiX2FI4gZtTt",
        "colab": {
          "base_uri": "https://localhost:8080/",
          "height": 253
        },
        "outputId": "9550ff1c-9f65-4186-ab91-fa93522bced7"
      },
      "source": [
        "# loading of data\n",
        "# raw_dataset=pd.read_csv('dataset.csv')\n",
        "\n",
        "dataset = raw_dataset.copy()\n",
        "# dataset.pop('vol')\n",
        "dataset.tail()\n"
      ],
      "execution_count": 6,
      "outputs": [
        {
          "output_type": "execute_result",
          "data": {
            "text/html": [
              "<div>\n",
              "<style scoped>\n",
              "    .dataframe tbody tr th:only-of-type {\n",
              "        vertical-align: middle;\n",
              "    }\n",
              "\n",
              "    .dataframe tbody tr th {\n",
              "        vertical-align: top;\n",
              "    }\n",
              "\n",
              "    .dataframe thead th {\n",
              "        text-align: right;\n",
              "    }\n",
              "</style>\n",
              "<table border=\"1\" class=\"dataframe\">\n",
              "  <thead>\n",
              "    <tr style=\"text-align: right;\">\n",
              "      <th></th>\n",
              "      <th>theta</th>\n",
              "      <th>theta</th>\n",
              "      <th>theta</th>\n",
              "      <th>theta</th>\n",
              "      <th>theta</th>\n",
              "      <th>theta</th>\n",
              "      <th>theta</th>\n",
              "      <th>theta</th>\n",
              "      <th>theta</th>\n",
              "      <th>theta</th>\n",
              "      <th>theta</th>\n",
              "      <th>theta</th>\n",
              "      <th>theta</th>\n",
              "      <th>theta</th>\n",
              "      <th>theta</th>\n",
              "      <th>theta</th>\n",
              "      <th>theta</th>\n",
              "      <th>theta</th>\n",
              "      <th>theta</th>\n",
              "      <th>theta</th>\n",
              "      <th>theta</th>\n",
              "      <th>theta</th>\n",
              "      <th>theta</th>\n",
              "      <th>theta</th>\n",
              "      <th>theta</th>\n",
              "      <th>theta</th>\n",
              "      <th>theta</th>\n",
              "      <th>theta</th>\n",
              "      <th>theta</th>\n",
              "      <th>theta</th>\n",
              "      <th>theta</th>\n",
              "      <th>theta</th>\n",
              "      <th>theta</th>\n",
              "      <th>theta</th>\n",
              "      <th>theta</th>\n",
              "      <th>theta</th>\n",
              "      <th>theta</th>\n",
              "      <th>theta</th>\n",
              "      <th>theta</th>\n",
              "      <th>theta</th>\n",
              "      <th>...</th>\n",
              "      <th>rho</th>\n",
              "      <th>rho</th>\n",
              "      <th>rho</th>\n",
              "      <th>rho</th>\n",
              "      <th>rho</th>\n",
              "      <th>rho</th>\n",
              "      <th>rho</th>\n",
              "      <th>rho</th>\n",
              "      <th>rho</th>\n",
              "      <th>rho</th>\n",
              "      <th>rho</th>\n",
              "      <th>rho</th>\n",
              "      <th>rho</th>\n",
              "      <th>rho</th>\n",
              "      <th>rho</th>\n",
              "      <th>rho</th>\n",
              "      <th>rho</th>\n",
              "      <th>rho</th>\n",
              "      <th>rho</th>\n",
              "      <th>rho</th>\n",
              "      <th>rho</th>\n",
              "      <th>rho</th>\n",
              "      <th>rho</th>\n",
              "      <th>rho</th>\n",
              "      <th>rho</th>\n",
              "      <th>rho</th>\n",
              "      <th>rho</th>\n",
              "      <th>rho</th>\n",
              "      <th>rho</th>\n",
              "      <th>rho</th>\n",
              "      <th>rho</th>\n",
              "      <th>rho</th>\n",
              "      <th>rho</th>\n",
              "      <th>rho</th>\n",
              "      <th>rho</th>\n",
              "      <th>rho</th>\n",
              "      <th>rho</th>\n",
              "      <th>rho</th>\n",
              "      <th>rho</th>\n",
              "      <th>ST</th>\n",
              "    </tr>\n",
              "  </thead>\n",
              "  <tbody>\n",
              "    <tr>\n",
              "      <th>99995</th>\n",
              "      <td>0.035336</td>\n",
              "      <td>0.095692</td>\n",
              "      <td>0.110546</td>\n",
              "      <td>0.137971</td>\n",
              "      <td>0.159208</td>\n",
              "      <td>0.232146</td>\n",
              "      <td>0.246504</td>\n",
              "      <td>0.285787</td>\n",
              "      <td>0.303025</td>\n",
              "      <td>0.340164</td>\n",
              "      <td>0.368293</td>\n",
              "      <td>0.369888</td>\n",
              "      <td>0.381350</td>\n",
              "      <td>0.394160</td>\n",
              "      <td>0.453265</td>\n",
              "      <td>0.453505</td>\n",
              "      <td>0.461549</td>\n",
              "      <td>0.513110</td>\n",
              "      <td>0.528207</td>\n",
              "      <td>0.536895</td>\n",
              "      <td>0.570334</td>\n",
              "      <td>0.573897</td>\n",
              "      <td>0.584288</td>\n",
              "      <td>0.667902</td>\n",
              "      <td>0.680880</td>\n",
              "      <td>0.701396</td>\n",
              "      <td>0.727995</td>\n",
              "      <td>0.889814</td>\n",
              "      <td>0.889902</td>\n",
              "      <td>0.953169</td>\n",
              "      <td>1.015610</td>\n",
              "      <td>1.042128</td>\n",
              "      <td>1.060291</td>\n",
              "      <td>1.148438</td>\n",
              "      <td>1.212484</td>\n",
              "      <td>1.218720</td>\n",
              "      <td>1.227234</td>\n",
              "      <td>1.252846</td>\n",
              "      <td>1.298214</td>\n",
              "      <td>1.314759</td>\n",
              "      <td>...</td>\n",
              "      <td>1.009427</td>\n",
              "      <td>1.009312</td>\n",
              "      <td>1.007089</td>\n",
              "      <td>1.005956</td>\n",
              "      <td>1.005629</td>\n",
              "      <td>1.001750</td>\n",
              "      <td>1.000485</td>\n",
              "      <td>0.999696</td>\n",
              "      <td>0.997420</td>\n",
              "      <td>0.996607</td>\n",
              "      <td>0.993918</td>\n",
              "      <td>0.992626</td>\n",
              "      <td>0.991948</td>\n",
              "      <td>0.991507</td>\n",
              "      <td>0.989106</td>\n",
              "      <td>0.987102</td>\n",
              "      <td>0.985355</td>\n",
              "      <td>0.983875</td>\n",
              "      <td>0.978974</td>\n",
              "      <td>0.977947</td>\n",
              "      <td>0.974466</td>\n",
              "      <td>0.970075</td>\n",
              "      <td>0.969399</td>\n",
              "      <td>0.969337</td>\n",
              "      <td>0.961659</td>\n",
              "      <td>0.958050</td>\n",
              "      <td>0.955579</td>\n",
              "      <td>0.948880</td>\n",
              "      <td>0.944329</td>\n",
              "      <td>0.943057</td>\n",
              "      <td>0.940718</td>\n",
              "      <td>0.938208</td>\n",
              "      <td>0.937439</td>\n",
              "      <td>0.936798</td>\n",
              "      <td>0.928932</td>\n",
              "      <td>0.927620</td>\n",
              "      <td>0.926781</td>\n",
              "      <td>0.926780</td>\n",
              "      <td>0.926751</td>\n",
              "      <td>57.509103</td>\n",
              "    </tr>\n",
              "    <tr>\n",
              "      <th>99996</th>\n",
              "      <td>0.001140</td>\n",
              "      <td>0.148804</td>\n",
              "      <td>0.244263</td>\n",
              "      <td>0.274310</td>\n",
              "      <td>0.277316</td>\n",
              "      <td>0.282634</td>\n",
              "      <td>0.371393</td>\n",
              "      <td>0.405014</td>\n",
              "      <td>0.695748</td>\n",
              "      <td>0.700147</td>\n",
              "      <td>0.708458</td>\n",
              "      <td>0.720531</td>\n",
              "      <td>0.784231</td>\n",
              "      <td>0.831143</td>\n",
              "      <td>0.892526</td>\n",
              "      <td>0.896353</td>\n",
              "      <td>0.980651</td>\n",
              "      <td>1.000266</td>\n",
              "      <td>1.019245</td>\n",
              "      <td>1.075183</td>\n",
              "      <td>1.077630</td>\n",
              "      <td>1.087522</td>\n",
              "      <td>1.104170</td>\n",
              "      <td>1.114484</td>\n",
              "      <td>1.114895</td>\n",
              "      <td>1.124052</td>\n",
              "      <td>1.134483</td>\n",
              "      <td>1.163079</td>\n",
              "      <td>1.168061</td>\n",
              "      <td>1.172976</td>\n",
              "      <td>1.280808</td>\n",
              "      <td>1.292469</td>\n",
              "      <td>1.315993</td>\n",
              "      <td>1.351261</td>\n",
              "      <td>1.380779</td>\n",
              "      <td>1.390485</td>\n",
              "      <td>1.398930</td>\n",
              "      <td>1.407426</td>\n",
              "      <td>1.407940</td>\n",
              "      <td>1.421326</td>\n",
              "      <td>...</td>\n",
              "      <td>0.979950</td>\n",
              "      <td>0.979835</td>\n",
              "      <td>0.979788</td>\n",
              "      <td>0.979039</td>\n",
              "      <td>0.969660</td>\n",
              "      <td>0.961318</td>\n",
              "      <td>0.960284</td>\n",
              "      <td>0.956214</td>\n",
              "      <td>0.955472</td>\n",
              "      <td>0.954581</td>\n",
              "      <td>0.952711</td>\n",
              "      <td>0.952631</td>\n",
              "      <td>0.951529</td>\n",
              "      <td>0.951376</td>\n",
              "      <td>0.950088</td>\n",
              "      <td>0.945849</td>\n",
              "      <td>0.945404</td>\n",
              "      <td>0.944307</td>\n",
              "      <td>0.942840</td>\n",
              "      <td>0.939458</td>\n",
              "      <td>0.938940</td>\n",
              "      <td>0.937942</td>\n",
              "      <td>0.934956</td>\n",
              "      <td>0.933277</td>\n",
              "      <td>0.931639</td>\n",
              "      <td>0.930899</td>\n",
              "      <td>0.930494</td>\n",
              "      <td>0.930033</td>\n",
              "      <td>0.929920</td>\n",
              "      <td>0.929010</td>\n",
              "      <td>0.926517</td>\n",
              "      <td>0.925784</td>\n",
              "      <td>0.925008</td>\n",
              "      <td>0.924404</td>\n",
              "      <td>0.922525</td>\n",
              "      <td>0.919871</td>\n",
              "      <td>0.919579</td>\n",
              "      <td>0.919523</td>\n",
              "      <td>0.919330</td>\n",
              "      <td>55.589719</td>\n",
              "    </tr>\n",
              "    <tr>\n",
              "      <th>99997</th>\n",
              "      <td>0.009687</td>\n",
              "      <td>0.067675</td>\n",
              "      <td>0.093282</td>\n",
              "      <td>0.135207</td>\n",
              "      <td>0.196235</td>\n",
              "      <td>0.207725</td>\n",
              "      <td>0.243432</td>\n",
              "      <td>0.256090</td>\n",
              "      <td>0.274570</td>\n",
              "      <td>0.300843</td>\n",
              "      <td>0.306303</td>\n",
              "      <td>0.336822</td>\n",
              "      <td>0.347174</td>\n",
              "      <td>0.388550</td>\n",
              "      <td>0.393942</td>\n",
              "      <td>0.397712</td>\n",
              "      <td>0.504510</td>\n",
              "      <td>0.575274</td>\n",
              "      <td>0.664470</td>\n",
              "      <td>0.677521</td>\n",
              "      <td>0.995613</td>\n",
              "      <td>1.058890</td>\n",
              "      <td>1.110388</td>\n",
              "      <td>1.160640</td>\n",
              "      <td>1.185456</td>\n",
              "      <td>1.224675</td>\n",
              "      <td>1.231657</td>\n",
              "      <td>1.264866</td>\n",
              "      <td>1.304723</td>\n",
              "      <td>1.475656</td>\n",
              "      <td>1.486560</td>\n",
              "      <td>1.511427</td>\n",
              "      <td>1.594280</td>\n",
              "      <td>1.603165</td>\n",
              "      <td>1.654720</td>\n",
              "      <td>1.721419</td>\n",
              "      <td>1.761681</td>\n",
              "      <td>1.818312</td>\n",
              "      <td>1.889885</td>\n",
              "      <td>1.943227</td>\n",
              "      <td>...</td>\n",
              "      <td>1.005367</td>\n",
              "      <td>1.002908</td>\n",
              "      <td>1.000778</td>\n",
              "      <td>0.997551</td>\n",
              "      <td>0.995692</td>\n",
              "      <td>0.995190</td>\n",
              "      <td>0.991905</td>\n",
              "      <td>0.989104</td>\n",
              "      <td>0.989034</td>\n",
              "      <td>0.987140</td>\n",
              "      <td>0.977685</td>\n",
              "      <td>0.976166</td>\n",
              "      <td>0.973984</td>\n",
              "      <td>0.961153</td>\n",
              "      <td>0.958688</td>\n",
              "      <td>0.953675</td>\n",
              "      <td>0.952379</td>\n",
              "      <td>0.951968</td>\n",
              "      <td>0.947806</td>\n",
              "      <td>0.945615</td>\n",
              "      <td>0.939425</td>\n",
              "      <td>0.935567</td>\n",
              "      <td>0.932238</td>\n",
              "      <td>0.925625</td>\n",
              "      <td>0.912750</td>\n",
              "      <td>0.909355</td>\n",
              "      <td>0.906718</td>\n",
              "      <td>0.905341</td>\n",
              "      <td>0.905236</td>\n",
              "      <td>0.893603</td>\n",
              "      <td>0.893102</td>\n",
              "      <td>0.891304</td>\n",
              "      <td>0.889862</td>\n",
              "      <td>0.888833</td>\n",
              "      <td>0.888826</td>\n",
              "      <td>0.888407</td>\n",
              "      <td>0.888087</td>\n",
              "      <td>0.887767</td>\n",
              "      <td>0.887260</td>\n",
              "      <td>59.211676</td>\n",
              "    </tr>\n",
              "    <tr>\n",
              "      <th>99998</th>\n",
              "      <td>0.018454</td>\n",
              "      <td>0.041092</td>\n",
              "      <td>0.058643</td>\n",
              "      <td>0.085018</td>\n",
              "      <td>0.107967</td>\n",
              "      <td>0.108524</td>\n",
              "      <td>0.151191</td>\n",
              "      <td>0.176593</td>\n",
              "      <td>0.224419</td>\n",
              "      <td>0.255069</td>\n",
              "      <td>0.280169</td>\n",
              "      <td>0.324629</td>\n",
              "      <td>0.332983</td>\n",
              "      <td>0.369501</td>\n",
              "      <td>0.371479</td>\n",
              "      <td>0.410528</td>\n",
              "      <td>0.424868</td>\n",
              "      <td>0.564064</td>\n",
              "      <td>0.617615</td>\n",
              "      <td>0.689305</td>\n",
              "      <td>0.774768</td>\n",
              "      <td>0.904962</td>\n",
              "      <td>0.989305</td>\n",
              "      <td>1.056173</td>\n",
              "      <td>1.067162</td>\n",
              "      <td>1.096950</td>\n",
              "      <td>1.123161</td>\n",
              "      <td>1.153011</td>\n",
              "      <td>1.184406</td>\n",
              "      <td>1.204244</td>\n",
              "      <td>1.261176</td>\n",
              "      <td>1.286648</td>\n",
              "      <td>1.303116</td>\n",
              "      <td>1.333828</td>\n",
              "      <td>1.371926</td>\n",
              "      <td>1.378629</td>\n",
              "      <td>1.432210</td>\n",
              "      <td>1.577505</td>\n",
              "      <td>1.618926</td>\n",
              "      <td>1.624592</td>\n",
              "      <td>...</td>\n",
              "      <td>1.074584</td>\n",
              "      <td>1.070723</td>\n",
              "      <td>1.070145</td>\n",
              "      <td>1.069396</td>\n",
              "      <td>1.065109</td>\n",
              "      <td>1.064678</td>\n",
              "      <td>1.062356</td>\n",
              "      <td>1.059736</td>\n",
              "      <td>1.057342</td>\n",
              "      <td>1.054163</td>\n",
              "      <td>1.052327</td>\n",
              "      <td>1.050372</td>\n",
              "      <td>1.050314</td>\n",
              "      <td>1.048201</td>\n",
              "      <td>1.046783</td>\n",
              "      <td>1.043222</td>\n",
              "      <td>1.042457</td>\n",
              "      <td>1.036678</td>\n",
              "      <td>1.030802</td>\n",
              "      <td>1.030796</td>\n",
              "      <td>1.027547</td>\n",
              "      <td>1.025271</td>\n",
              "      <td>1.022687</td>\n",
              "      <td>1.021470</td>\n",
              "      <td>1.016048</td>\n",
              "      <td>1.012816</td>\n",
              "      <td>0.992298</td>\n",
              "      <td>0.989850</td>\n",
              "      <td>0.988854</td>\n",
              "      <td>0.988836</td>\n",
              "      <td>0.987181</td>\n",
              "      <td>0.984843</td>\n",
              "      <td>0.984631</td>\n",
              "      <td>0.984594</td>\n",
              "      <td>0.984151</td>\n",
              "      <td>0.984144</td>\n",
              "      <td>0.983910</td>\n",
              "      <td>0.983534</td>\n",
              "      <td>0.983497</td>\n",
              "      <td>38.983804</td>\n",
              "    </tr>\n",
              "    <tr>\n",
              "      <th>99999</th>\n",
              "      <td>0.017382</td>\n",
              "      <td>0.121565</td>\n",
              "      <td>0.148949</td>\n",
              "      <td>0.252491</td>\n",
              "      <td>0.356867</td>\n",
              "      <td>0.373714</td>\n",
              "      <td>0.377899</td>\n",
              "      <td>0.466358</td>\n",
              "      <td>0.475825</td>\n",
              "      <td>0.495558</td>\n",
              "      <td>0.579336</td>\n",
              "      <td>0.613333</td>\n",
              "      <td>0.625080</td>\n",
              "      <td>0.668401</td>\n",
              "      <td>0.739869</td>\n",
              "      <td>0.787991</td>\n",
              "      <td>0.821076</td>\n",
              "      <td>0.855287</td>\n",
              "      <td>0.919876</td>\n",
              "      <td>0.924532</td>\n",
              "      <td>0.936557</td>\n",
              "      <td>0.953624</td>\n",
              "      <td>0.995564</td>\n",
              "      <td>1.142529</td>\n",
              "      <td>1.152258</td>\n",
              "      <td>1.182780</td>\n",
              "      <td>1.205079</td>\n",
              "      <td>1.207327</td>\n",
              "      <td>1.232733</td>\n",
              "      <td>1.243069</td>\n",
              "      <td>1.277832</td>\n",
              "      <td>1.292797</td>\n",
              "      <td>1.299351</td>\n",
              "      <td>1.312557</td>\n",
              "      <td>1.320119</td>\n",
              "      <td>1.353598</td>\n",
              "      <td>1.370336</td>\n",
              "      <td>1.393319</td>\n",
              "      <td>1.426856</td>\n",
              "      <td>1.436851</td>\n",
              "      <td>...</td>\n",
              "      <td>1.188535</td>\n",
              "      <td>1.194769</td>\n",
              "      <td>1.200256</td>\n",
              "      <td>1.202665</td>\n",
              "      <td>1.202687</td>\n",
              "      <td>1.204423</td>\n",
              "      <td>1.205720</td>\n",
              "      <td>1.204797</td>\n",
              "      <td>1.185751</td>\n",
              "      <td>1.182717</td>\n",
              "      <td>1.171616</td>\n",
              "      <td>1.164193</td>\n",
              "      <td>1.160820</td>\n",
              "      <td>1.159861</td>\n",
              "      <td>1.137340</td>\n",
              "      <td>1.133912</td>\n",
              "      <td>1.109918</td>\n",
              "      <td>1.107570</td>\n",
              "      <td>1.104691</td>\n",
              "      <td>1.099313</td>\n",
              "      <td>1.099045</td>\n",
              "      <td>1.095118</td>\n",
              "      <td>1.065751</td>\n",
              "      <td>1.064414</td>\n",
              "      <td>1.014403</td>\n",
              "      <td>1.000007</td>\n",
              "      <td>0.948337</td>\n",
              "      <td>0.937162</td>\n",
              "      <td>0.909748</td>\n",
              "      <td>0.813953</td>\n",
              "      <td>0.788393</td>\n",
              "      <td>0.780620</td>\n",
              "      <td>0.777659</td>\n",
              "      <td>0.766826</td>\n",
              "      <td>0.766302</td>\n",
              "      <td>0.759762</td>\n",
              "      <td>0.757331</td>\n",
              "      <td>0.757215</td>\n",
              "      <td>0.756550</td>\n",
              "      <td>25.460329</td>\n",
              "    </tr>\n",
              "  </tbody>\n",
              "</table>\n",
              "<p>5 rows × 351 columns</p>\n",
              "</div>"
            ],
            "text/plain": [
              "          theta     theta     theta  ...       rho       rho         ST\n",
              "99995  0.035336  0.095692  0.110546  ...  0.926780  0.926751  57.509103\n",
              "99996  0.001140  0.148804  0.244263  ...  0.919523  0.919330  55.589719\n",
              "99997  0.009687  0.067675  0.093282  ...  0.887767  0.887260  59.211676\n",
              "99998  0.018454  0.041092  0.058643  ...  0.983534  0.983497  38.983804\n",
              "99999  0.017382  0.121565  0.148949  ...  0.757215  0.756550  25.460329\n",
              "\n",
              "[5 rows x 351 columns]"
            ]
          },
          "metadata": {
            "tags": []
          },
          "execution_count": 6
        }
      ]
    },
    {
      "cell_type": "markdown",
      "metadata": {
        "id": "HkWsufEUFMi8"
      },
      "source": [
        "### Adding noise to acoustic pressure"
      ]
    },
    {
      "cell_type": "code",
      "metadata": {
        "id": "vgwEz3rDFLcz",
        "colab": {
          "base_uri": "https://localhost:8080/",
          "height": 530
        },
        "outputId": "59609476-c4de-48c8-cf01-380853f7e23e"
      },
      "source": [
        "noisy_dataset=dataset.copy()\n",
        "\n",
        "np.random.seed(seed=1)\n",
        "noise1 = np.random.random(size=[len(dataset), ])*25\n",
        "noise2=np.random.random(size=[len(dataset), ])*25\n",
        "noisy_dataset.Ps=noisy_dataset.Ps+noise1-noise2\n",
        "\n",
        "plt.figure()\n",
        "plt.plot(dataset.iloc[0, 0:sampling], dataset.iloc[0, sampling:sampling*2])\n",
        "\n",
        "plt.figure()\n",
        "plt.plot(dataset.Ps[0:10], label='Initial Ps')\n",
        "plt.plot(noisy_dataset.Ps[0:10], label='Ps with noise')\n",
        "plt.legend()"
      ],
      "execution_count": null,
      "outputs": [
        {
          "output_type": "execute_result",
          "data": {
            "text/plain": [
              "<matplotlib.legend.Legend at 0x7fdd1ffa77d0>"
            ]
          },
          "metadata": {
            "tags": []
          },
          "execution_count": 119
        },
        {
          "output_type": "display_data",
          "data": {
            "image/png": "[encoded data removed]",
            "text/plain": [
              "<Figure size 432x288 with 1 Axes>"
            ]
          },
          "metadata": {
            "tags": [],
            "needs_background": "light"
          }
        },
        {
          "output_type": "display_data",
          "data": {
            "image/png": "[encoded data removed]",
            "text/plain": [
              "<Figure size 432x288 with 1 Axes>"
            ]
          },
          "metadata": {
            "tags": [],
            "needs_background": "light"
          }
        }
      ]
    },
    {
      "cell_type": "markdown",
      "metadata": {
        "id": "MtvfYyw-1dig"
      },
      "source": [
        "### Save the noise dataset"
      ]
    },
    {
      "cell_type": "code",
      "metadata": {
        "id": "OEN9cHIe1c4U",
        "colab": {
          "base_uri": "https://localhost:8080/",
          "height": 253
        },
        "outputId": "cfeb326f-21b4-4658-9043-bbda5e72b32b"
      },
      "source": [
        "#The original dataset is on: raw_dataset.tail()\n",
        "# dataset=raw_dataset\n",
        "#Save the noisy dataset as dataset\n",
        "dataset=noisy_dataset\n",
        "dataset.tail()"
      ],
      "execution_count": null,
      "outputs": [
        {
          "output_type": "execute_result",
          "data": {
            "text/html": [
              "<div>\n",
              "<style scoped>\n",
              "    .dataframe tbody tr th:only-of-type {\n",
              "        vertical-align: middle;\n",
              "    }\n",
              "\n",
              "    .dataframe tbody tr th {\n",
              "        vertical-align: top;\n",
              "    }\n",
              "\n",
              "    .dataframe thead th {\n",
              "        text-align: right;\n",
              "    }\n",
              "</style>\n",
              "<table border=\"1\" class=\"dataframe\">\n",
              "  <thead>\n",
              "    <tr style=\"text-align: right;\">\n",
              "      <th></th>\n",
              "      <th>theta</th>\n",
              "      <th>theta</th>\n",
              "      <th>theta</th>\n",
              "      <th>theta</th>\n",
              "      <th>theta</th>\n",
              "      <th>theta</th>\n",
              "      <th>theta</th>\n",
              "      <th>theta</th>\n",
              "      <th>theta</th>\n",
              "      <th>theta</th>\n",
              "      <th>theta</th>\n",
              "      <th>theta</th>\n",
              "      <th>theta</th>\n",
              "      <th>theta</th>\n",
              "      <th>theta</th>\n",
              "      <th>theta</th>\n",
              "      <th>theta</th>\n",
              "      <th>theta</th>\n",
              "      <th>theta</th>\n",
              "      <th>theta</th>\n",
              "      <th>theta</th>\n",
              "      <th>theta</th>\n",
              "      <th>theta</th>\n",
              "      <th>theta</th>\n",
              "      <th>theta</th>\n",
              "      <th>theta</th>\n",
              "      <th>theta</th>\n",
              "      <th>theta</th>\n",
              "      <th>theta</th>\n",
              "      <th>theta</th>\n",
              "      <th>theta</th>\n",
              "      <th>theta</th>\n",
              "      <th>theta</th>\n",
              "      <th>theta</th>\n",
              "      <th>theta</th>\n",
              "      <th>theta</th>\n",
              "      <th>theta</th>\n",
              "      <th>theta</th>\n",
              "      <th>theta</th>\n",
              "      <th>theta</th>\n",
              "      <th>...</th>\n",
              "      <th>rho</th>\n",
              "      <th>rho</th>\n",
              "      <th>rho</th>\n",
              "      <th>rho</th>\n",
              "      <th>rho</th>\n",
              "      <th>rho</th>\n",
              "      <th>rho</th>\n",
              "      <th>rho</th>\n",
              "      <th>rho</th>\n",
              "      <th>rho</th>\n",
              "      <th>rho</th>\n",
              "      <th>rho</th>\n",
              "      <th>rho</th>\n",
              "      <th>rho</th>\n",
              "      <th>rho</th>\n",
              "      <th>rho</th>\n",
              "      <th>rho</th>\n",
              "      <th>rho</th>\n",
              "      <th>rho</th>\n",
              "      <th>rho</th>\n",
              "      <th>rho</th>\n",
              "      <th>rho</th>\n",
              "      <th>rho</th>\n",
              "      <th>rho</th>\n",
              "      <th>rho</th>\n",
              "      <th>rho</th>\n",
              "      <th>rho</th>\n",
              "      <th>rho</th>\n",
              "      <th>rho</th>\n",
              "      <th>rho</th>\n",
              "      <th>rho</th>\n",
              "      <th>rho</th>\n",
              "      <th>rho</th>\n",
              "      <th>rho</th>\n",
              "      <th>rho</th>\n",
              "      <th>rho</th>\n",
              "      <th>rho</th>\n",
              "      <th>vol</th>\n",
              "      <th>Ps</th>\n",
              "      <th>ST</th>\n",
              "    </tr>\n",
              "  </thead>\n",
              "  <tbody>\n",
              "    <tr>\n",
              "      <th>99995</th>\n",
              "      <td>0.039908</td>\n",
              "      <td>0.100211</td>\n",
              "      <td>0.123792</td>\n",
              "      <td>0.143284</td>\n",
              "      <td>0.248989</td>\n",
              "      <td>0.256429</td>\n",
              "      <td>0.276989</td>\n",
              "      <td>0.306908</td>\n",
              "      <td>0.353844</td>\n",
              "      <td>0.412989</td>\n",
              "      <td>0.431787</td>\n",
              "      <td>0.443188</td>\n",
              "      <td>0.451810</td>\n",
              "      <td>0.497165</td>\n",
              "      <td>0.519754</td>\n",
              "      <td>0.533590</td>\n",
              "      <td>0.582264</td>\n",
              "      <td>0.609993</td>\n",
              "      <td>0.615454</td>\n",
              "      <td>0.621378</td>\n",
              "      <td>0.634593</td>\n",
              "      <td>0.645124</td>\n",
              "      <td>0.720576</td>\n",
              "      <td>0.766725</td>\n",
              "      <td>0.788217</td>\n",
              "      <td>0.795253</td>\n",
              "      <td>0.803847</td>\n",
              "      <td>0.893964</td>\n",
              "      <td>0.974027</td>\n",
              "      <td>0.978505</td>\n",
              "      <td>0.985181</td>\n",
              "      <td>0.986678</td>\n",
              "      <td>1.007718</td>\n",
              "      <td>1.059297</td>\n",
              "      <td>1.084816</td>\n",
              "      <td>1.133738</td>\n",
              "      <td>1.155920</td>\n",
              "      <td>1.157079</td>\n",
              "      <td>1.209349</td>\n",
              "      <td>1.211184</td>\n",
              "      <td>...</td>\n",
              "      <td>0.989414</td>\n",
              "      <td>0.989494</td>\n",
              "      <td>0.988718</td>\n",
              "      <td>0.988684</td>\n",
              "      <td>0.988128</td>\n",
              "      <td>0.985210</td>\n",
              "      <td>0.985104</td>\n",
              "      <td>0.973720</td>\n",
              "      <td>0.973635</td>\n",
              "      <td>0.972274</td>\n",
              "      <td>0.966523</td>\n",
              "      <td>0.961734</td>\n",
              "      <td>0.958344</td>\n",
              "      <td>0.956702</td>\n",
              "      <td>0.952112</td>\n",
              "      <td>0.937426</td>\n",
              "      <td>0.931630</td>\n",
              "      <td>0.920661</td>\n",
              "      <td>0.914212</td>\n",
              "      <td>0.909397</td>\n",
              "      <td>0.907571</td>\n",
              "      <td>0.902369</td>\n",
              "      <td>0.900331</td>\n",
              "      <td>0.900309</td>\n",
              "      <td>0.895594</td>\n",
              "      <td>0.889803</td>\n",
              "      <td>0.884769</td>\n",
              "      <td>0.881457</td>\n",
              "      <td>0.880773</td>\n",
              "      <td>0.876738</td>\n",
              "      <td>0.871624</td>\n",
              "      <td>0.867674</td>\n",
              "      <td>0.865746</td>\n",
              "      <td>0.865070</td>\n",
              "      <td>0.865051</td>\n",
              "      <td>0.864383</td>\n",
              "      <td>0.863530</td>\n",
              "      <td>3.563205</td>\n",
              "      <td>2078.251844</td>\n",
              "      <td>71.626467</td>\n",
              "    </tr>\n",
              "    <tr>\n",
              "      <th>99996</th>\n",
              "      <td>0.102226</td>\n",
              "      <td>0.105187</td>\n",
              "      <td>0.119526</td>\n",
              "      <td>0.144739</td>\n",
              "      <td>0.147046</td>\n",
              "      <td>0.153807</td>\n",
              "      <td>0.207210</td>\n",
              "      <td>0.209711</td>\n",
              "      <td>0.262357</td>\n",
              "      <td>0.368467</td>\n",
              "      <td>0.428154</td>\n",
              "      <td>0.463273</td>\n",
              "      <td>0.500793</td>\n",
              "      <td>0.550299</td>\n",
              "      <td>0.693990</td>\n",
              "      <td>0.731842</td>\n",
              "      <td>0.752800</td>\n",
              "      <td>0.786223</td>\n",
              "      <td>0.832711</td>\n",
              "      <td>0.834341</td>\n",
              "      <td>0.845422</td>\n",
              "      <td>0.852951</td>\n",
              "      <td>0.855588</td>\n",
              "      <td>0.895340</td>\n",
              "      <td>0.908149</td>\n",
              "      <td>0.908926</td>\n",
              "      <td>0.938491</td>\n",
              "      <td>0.950920</td>\n",
              "      <td>0.992130</td>\n",
              "      <td>1.000615</td>\n",
              "      <td>1.003147</td>\n",
              "      <td>1.023693</td>\n",
              "      <td>1.040480</td>\n",
              "      <td>1.041210</td>\n",
              "      <td>1.074605</td>\n",
              "      <td>1.080558</td>\n",
              "      <td>1.082430</td>\n",
              "      <td>1.112215</td>\n",
              "      <td>1.112269</td>\n",
              "      <td>1.114138</td>\n",
              "      <td>...</td>\n",
              "      <td>0.922747</td>\n",
              "      <td>0.921364</td>\n",
              "      <td>0.919510</td>\n",
              "      <td>0.919173</td>\n",
              "      <td>0.909403</td>\n",
              "      <td>0.904577</td>\n",
              "      <td>0.904500</td>\n",
              "      <td>0.904140</td>\n",
              "      <td>0.895049</td>\n",
              "      <td>0.891045</td>\n",
              "      <td>0.889918</td>\n",
              "      <td>0.888591</td>\n",
              "      <td>0.879384</td>\n",
              "      <td>0.877817</td>\n",
              "      <td>0.874280</td>\n",
              "      <td>0.872487</td>\n",
              "      <td>0.859109</td>\n",
              "      <td>0.857911</td>\n",
              "      <td>0.855040</td>\n",
              "      <td>0.851348</td>\n",
              "      <td>0.850466</td>\n",
              "      <td>0.845486</td>\n",
              "      <td>0.842691</td>\n",
              "      <td>0.839619</td>\n",
              "      <td>0.834403</td>\n",
              "      <td>0.829315</td>\n",
              "      <td>0.828877</td>\n",
              "      <td>0.828122</td>\n",
              "      <td>0.826083</td>\n",
              "      <td>0.825616</td>\n",
              "      <td>0.824872</td>\n",
              "      <td>0.823253</td>\n",
              "      <td>0.822973</td>\n",
              "      <td>0.822468</td>\n",
              "      <td>0.822401</td>\n",
              "      <td>0.822384</td>\n",
              "      <td>0.822342</td>\n",
              "      <td>2.945927</td>\n",
              "      <td>1421.171832</td>\n",
              "      <td>34.907303</td>\n",
              "    </tr>\n",
              "    <tr>\n",
              "      <th>99997</th>\n",
              "      <td>0.007129</td>\n",
              "      <td>0.035470</td>\n",
              "      <td>0.050607</td>\n",
              "      <td>0.076113</td>\n",
              "      <td>0.194752</td>\n",
              "      <td>0.203267</td>\n",
              "      <td>0.239681</td>\n",
              "      <td>0.284312</td>\n",
              "      <td>0.353512</td>\n",
              "      <td>0.374871</td>\n",
              "      <td>0.440922</td>\n",
              "      <td>0.443143</td>\n",
              "      <td>0.447959</td>\n",
              "      <td>0.512794</td>\n",
              "      <td>0.566930</td>\n",
              "      <td>0.600406</td>\n",
              "      <td>0.672240</td>\n",
              "      <td>0.725601</td>\n",
              "      <td>0.725965</td>\n",
              "      <td>0.727637</td>\n",
              "      <td>0.761659</td>\n",
              "      <td>0.804759</td>\n",
              "      <td>0.916379</td>\n",
              "      <td>0.939192</td>\n",
              "      <td>0.951930</td>\n",
              "      <td>0.991082</td>\n",
              "      <td>0.995293</td>\n",
              "      <td>1.019701</td>\n",
              "      <td>1.024264</td>\n",
              "      <td>1.032472</td>\n",
              "      <td>1.081440</td>\n",
              "      <td>1.099770</td>\n",
              "      <td>1.161472</td>\n",
              "      <td>1.255281</td>\n",
              "      <td>1.308350</td>\n",
              "      <td>1.319986</td>\n",
              "      <td>1.349161</td>\n",
              "      <td>1.352477</td>\n",
              "      <td>1.352657</td>\n",
              "      <td>1.492174</td>\n",
              "      <td>...</td>\n",
              "      <td>0.962533</td>\n",
              "      <td>0.960162</td>\n",
              "      <td>0.959726</td>\n",
              "      <td>0.958917</td>\n",
              "      <td>0.957079</td>\n",
              "      <td>0.956553</td>\n",
              "      <td>0.953083</td>\n",
              "      <td>0.950422</td>\n",
              "      <td>0.950403</td>\n",
              "      <td>0.950362</td>\n",
              "      <td>0.949633</td>\n",
              "      <td>0.938736</td>\n",
              "      <td>0.938428</td>\n",
              "      <td>0.933190</td>\n",
              "      <td>0.932145</td>\n",
              "      <td>0.897377</td>\n",
              "      <td>0.896992</td>\n",
              "      <td>0.896595</td>\n",
              "      <td>0.893140</td>\n",
              "      <td>0.890724</td>\n",
              "      <td>0.887696</td>\n",
              "      <td>0.884135</td>\n",
              "      <td>0.871967</td>\n",
              "      <td>0.868459</td>\n",
              "      <td>0.863736</td>\n",
              "      <td>0.862638</td>\n",
              "      <td>0.858604</td>\n",
              "      <td>0.856815</td>\n",
              "      <td>0.856445</td>\n",
              "      <td>0.855774</td>\n",
              "      <td>0.852063</td>\n",
              "      <td>0.850517</td>\n",
              "      <td>0.848816</td>\n",
              "      <td>0.847037</td>\n",
              "      <td>0.844279</td>\n",
              "      <td>0.843291</td>\n",
              "      <td>0.843178</td>\n",
              "      <td>3.323637</td>\n",
              "      <td>1696.185372</td>\n",
              "      <td>45.089836</td>\n",
              "    </tr>\n",
              "    <tr>\n",
              "      <th>99998</th>\n",
              "      <td>0.038870</td>\n",
              "      <td>0.216244</td>\n",
              "      <td>0.233850</td>\n",
              "      <td>0.257454</td>\n",
              "      <td>0.268044</td>\n",
              "      <td>0.276054</td>\n",
              "      <td>0.309785</td>\n",
              "      <td>0.370312</td>\n",
              "      <td>0.446913</td>\n",
              "      <td>0.457621</td>\n",
              "      <td>0.475340</td>\n",
              "      <td>0.485227</td>\n",
              "      <td>0.488406</td>\n",
              "      <td>0.491886</td>\n",
              "      <td>0.499002</td>\n",
              "      <td>0.499494</td>\n",
              "      <td>0.528860</td>\n",
              "      <td>0.562811</td>\n",
              "      <td>0.591998</td>\n",
              "      <td>0.606943</td>\n",
              "      <td>0.635850</td>\n",
              "      <td>0.660828</td>\n",
              "      <td>0.684410</td>\n",
              "      <td>0.703760</td>\n",
              "      <td>0.729626</td>\n",
              "      <td>0.758776</td>\n",
              "      <td>0.791520</td>\n",
              "      <td>0.832539</td>\n",
              "      <td>0.876124</td>\n",
              "      <td>0.876233</td>\n",
              "      <td>0.890157</td>\n",
              "      <td>0.895874</td>\n",
              "      <td>1.002580</td>\n",
              "      <td>1.053305</td>\n",
              "      <td>1.090214</td>\n",
              "      <td>1.143786</td>\n",
              "      <td>1.164267</td>\n",
              "      <td>1.175871</td>\n",
              "      <td>1.200008</td>\n",
              "      <td>1.243996</td>\n",
              "      <td>...</td>\n",
              "      <td>1.067014</td>\n",
              "      <td>1.066083</td>\n",
              "      <td>1.065540</td>\n",
              "      <td>1.065233</td>\n",
              "      <td>1.065016</td>\n",
              "      <td>1.063229</td>\n",
              "      <td>1.059191</td>\n",
              "      <td>1.057283</td>\n",
              "      <td>1.052902</td>\n",
              "      <td>1.052891</td>\n",
              "      <td>1.051975</td>\n",
              "      <td>1.047736</td>\n",
              "      <td>1.047009</td>\n",
              "      <td>1.042068</td>\n",
              "      <td>1.041053</td>\n",
              "      <td>1.039720</td>\n",
              "      <td>1.039439</td>\n",
              "      <td>1.037861</td>\n",
              "      <td>1.036709</td>\n",
              "      <td>1.036165</td>\n",
              "      <td>1.034231</td>\n",
              "      <td>1.031290</td>\n",
              "      <td>1.028964</td>\n",
              "      <td>1.025896</td>\n",
              "      <td>1.024602</td>\n",
              "      <td>1.017794</td>\n",
              "      <td>1.017323</td>\n",
              "      <td>1.016799</td>\n",
              "      <td>1.015873</td>\n",
              "      <td>1.012318</td>\n",
              "      <td>1.006794</td>\n",
              "      <td>1.006428</td>\n",
              "      <td>1.006171</td>\n",
              "      <td>1.002191</td>\n",
              "      <td>1.001944</td>\n",
              "      <td>0.999571</td>\n",
              "      <td>0.999411</td>\n",
              "      <td>4.776491</td>\n",
              "      <td>1309.658158</td>\n",
              "      <td>71.082061</td>\n",
              "    </tr>\n",
              "    <tr>\n",
              "      <th>99999</th>\n",
              "      <td>0.034713</td>\n",
              "      <td>0.046829</td>\n",
              "      <td>0.091079</td>\n",
              "      <td>0.131102</td>\n",
              "      <td>0.181535</td>\n",
              "      <td>0.298437</td>\n",
              "      <td>0.334803</td>\n",
              "      <td>0.355875</td>\n",
              "      <td>0.381577</td>\n",
              "      <td>0.400939</td>\n",
              "      <td>0.402548</td>\n",
              "      <td>0.503964</td>\n",
              "      <td>0.529914</td>\n",
              "      <td>0.579275</td>\n",
              "      <td>0.657764</td>\n",
              "      <td>0.664280</td>\n",
              "      <td>0.711240</td>\n",
              "      <td>0.724588</td>\n",
              "      <td>0.799882</td>\n",
              "      <td>0.800111</td>\n",
              "      <td>0.825475</td>\n",
              "      <td>0.836566</td>\n",
              "      <td>0.839267</td>\n",
              "      <td>0.851964</td>\n",
              "      <td>0.859462</td>\n",
              "      <td>0.903442</td>\n",
              "      <td>0.921129</td>\n",
              "      <td>0.950560</td>\n",
              "      <td>0.955079</td>\n",
              "      <td>0.999705</td>\n",
              "      <td>1.095535</td>\n",
              "      <td>1.104685</td>\n",
              "      <td>1.126580</td>\n",
              "      <td>1.138211</td>\n",
              "      <td>1.139441</td>\n",
              "      <td>1.140824</td>\n",
              "      <td>1.164515</td>\n",
              "      <td>1.184823</td>\n",
              "      <td>1.216829</td>\n",
              "      <td>1.240794</td>\n",
              "      <td>...</td>\n",
              "      <td>1.094976</td>\n",
              "      <td>1.092636</td>\n",
              "      <td>1.092452</td>\n",
              "      <td>1.092046</td>\n",
              "      <td>1.089574</td>\n",
              "      <td>1.082176</td>\n",
              "      <td>1.072371</td>\n",
              "      <td>1.060572</td>\n",
              "      <td>1.057717</td>\n",
              "      <td>1.039409</td>\n",
              "      <td>1.028846</td>\n",
              "      <td>1.022640</td>\n",
              "      <td>1.018436</td>\n",
              "      <td>1.018054</td>\n",
              "      <td>1.016776</td>\n",
              "      <td>1.016252</td>\n",
              "      <td>1.011410</td>\n",
              "      <td>1.004298</td>\n",
              "      <td>0.999009</td>\n",
              "      <td>0.991652</td>\n",
              "      <td>0.990809</td>\n",
              "      <td>0.978699</td>\n",
              "      <td>0.974359</td>\n",
              "      <td>0.973791</td>\n",
              "      <td>0.967944</td>\n",
              "      <td>0.965963</td>\n",
              "      <td>0.963062</td>\n",
              "      <td>0.958933</td>\n",
              "      <td>0.958194</td>\n",
              "      <td>0.954981</td>\n",
              "      <td>0.952698</td>\n",
              "      <td>0.946045</td>\n",
              "      <td>0.945718</td>\n",
              "      <td>0.944610</td>\n",
              "      <td>0.942169</td>\n",
              "      <td>0.939748</td>\n",
              "      <td>0.939448</td>\n",
              "      <td>4.940290</td>\n",
              "      <td>2049.863588</td>\n",
              "      <td>69.286102</td>\n",
              "    </tr>\n",
              "  </tbody>\n",
              "</table>\n",
              "<p>5 rows × 353 columns</p>\n",
              "</div>"
            ],
            "text/plain": [
              "          theta     theta     theta  ...       vol           Ps         ST\n",
              "99995  0.039908  0.100211  0.123792  ...  3.563205  2078.251844  71.626467\n",
              "99996  0.102226  0.105187  0.119526  ...  2.945927  1421.171832  34.907303\n",
              "99997  0.007129  0.035470  0.050607  ...  3.323637  1696.185372  45.089836\n",
              "99998  0.038870  0.216244  0.233850  ...  4.776491  1309.658158  71.082061\n",
              "99999  0.034713  0.046829  0.091079  ...  4.940290  2049.863588  69.286102\n",
              "\n",
              "[5 rows x 353 columns]"
            ]
          },
          "metadata": {
            "tags": []
          },
          "execution_count": 120
        }
      ]
    },
    {
      "cell_type": "markdown",
      "metadata": {
        "id": "Cuym4yvk76vU"
      },
      "source": [
        "### Split the data into train and test\n",
        "\n",
        "Now split the dataset into a training set and a test set.\n",
        "\n",
        "We will use the test set in the final evaluation of our model."
      ]
    },
    {
      "cell_type": "code",
      "metadata": {
        "id": "qn-IGhUE7_1H"
      },
      "source": [
        "train_dataset = dataset.sample(frac=0.8,random_state=0)\n",
        "test_dataset = dataset.drop(train_dataset.index)"
      ],
      "execution_count": 7,
      "outputs": []
    },
    {
      "cell_type": "markdown",
      "metadata": {
        "id": "J4ubs136WLNp"
      },
      "source": [
        "### Inspect the data\n",
        "\n",
        "Have a quick look at the joint distribution of a few pairs of columns from the training set."
      ]
    },
    {
      "cell_type": "code",
      "metadata": {
        "id": "oRKO_x8gWKv-"
      },
      "source": [
        "#sns.pairplot(train_dataset[column_names], diag_kind=\"kde\")\n",
        "#plt.show()"
      ],
      "execution_count": null,
      "outputs": []
    },
    {
      "cell_type": "markdown",
      "metadata": {
        "id": "gavKO_6DWRMP"
      },
      "source": [
        "Also look at the overall statistics:"
      ]
    },
    {
      "cell_type": "code",
      "metadata": {
        "id": "yi2FzC3T21jR",
        "colab": {
          "base_uri": "https://localhost:8080/",
          "height": 204
        },
        "outputId": "48b31fee-5265-43a3-8c33-9d3d7aa68597"
      },
      "source": [
        "train_stats = train_dataset.describe()\n",
        "train_stats.pop(\"ST\")\n",
        "train_stats = train_stats.transpose()\n",
        "train_stats.tail()"
      ],
      "execution_count": 8,
      "outputs": [
        {
          "output_type": "execute_result",
          "data": {
            "text/html": [
              "<div>\n",
              "<style scoped>\n",
              "    .dataframe tbody tr th:only-of-type {\n",
              "        vertical-align: middle;\n",
              "    }\n",
              "\n",
              "    .dataframe tbody tr th {\n",
              "        vertical-align: top;\n",
              "    }\n",
              "\n",
              "    .dataframe thead th {\n",
              "        text-align: right;\n",
              "    }\n",
              "</style>\n",
              "<table border=\"1\" class=\"dataframe\">\n",
              "  <thead>\n",
              "    <tr style=\"text-align: right;\">\n",
              "      <th></th>\n",
              "      <th>count</th>\n",
              "      <th>mean</th>\n",
              "      <th>std</th>\n",
              "      <th>min</th>\n",
              "      <th>25%</th>\n",
              "      <th>50%</th>\n",
              "      <th>75%</th>\n",
              "      <th>max</th>\n",
              "    </tr>\n",
              "  </thead>\n",
              "  <tbody>\n",
              "    <tr>\n",
              "      <th>rho</th>\n",
              "      <td>80000.0</td>\n",
              "      <td>0.842861</td>\n",
              "      <td>0.074405</td>\n",
              "      <td>0.621432</td>\n",
              "      <td>0.784704</td>\n",
              "      <td>0.842957</td>\n",
              "      <td>0.900299</td>\n",
              "      <td>1.026553</td>\n",
              "    </tr>\n",
              "    <tr>\n",
              "      <th>rho</th>\n",
              "      <td>80000.0</td>\n",
              "      <td>0.841057</td>\n",
              "      <td>0.074546</td>\n",
              "      <td>0.621422</td>\n",
              "      <td>0.782947</td>\n",
              "      <td>0.841195</td>\n",
              "      <td>0.898376</td>\n",
              "      <td>1.020880</td>\n",
              "    </tr>\n",
              "    <tr>\n",
              "      <th>rho</th>\n",
              "      <td>80000.0</td>\n",
              "      <td>0.839602</td>\n",
              "      <td>0.074683</td>\n",
              "      <td>0.614919</td>\n",
              "      <td>0.781496</td>\n",
              "      <td>0.839630</td>\n",
              "      <td>0.896963</td>\n",
              "      <td>1.019818</td>\n",
              "    </tr>\n",
              "    <tr>\n",
              "      <th>rho</th>\n",
              "      <td>80000.0</td>\n",
              "      <td>0.838502</td>\n",
              "      <td>0.074798</td>\n",
              "      <td>0.609476</td>\n",
              "      <td>0.780359</td>\n",
              "      <td>0.838605</td>\n",
              "      <td>0.895908</td>\n",
              "      <td>1.019445</td>\n",
              "    </tr>\n",
              "    <tr>\n",
              "      <th>rho</th>\n",
              "      <td>80000.0</td>\n",
              "      <td>0.837762</td>\n",
              "      <td>0.074883</td>\n",
              "      <td>0.608806</td>\n",
              "      <td>0.779732</td>\n",
              "      <td>0.837848</td>\n",
              "      <td>0.895182</td>\n",
              "      <td>1.018154</td>\n",
              "    </tr>\n",
              "  </tbody>\n",
              "</table>\n",
              "</div>"
            ],
            "text/plain": [
              "       count      mean       std  ...       50%       75%       max\n",
              "rho  80000.0  0.842861  0.074405  ...  0.842957  0.900299  1.026553\n",
              "rho  80000.0  0.841057  0.074546  ...  0.841195  0.898376  1.020880\n",
              "rho  80000.0  0.839602  0.074683  ...  0.839630  0.896963  1.019818\n",
              "rho  80000.0  0.838502  0.074798  ...  0.838605  0.895908  1.019445\n",
              "rho  80000.0  0.837762  0.074883  ...  0.837848  0.895182  1.018154\n",
              "\n",
              "[5 rows x 8 columns]"
            ]
          },
          "metadata": {
            "tags": []
          },
          "execution_count": 8
        }
      ]
    },
    {
      "cell_type": "markdown",
      "metadata": {
        "id": "Db7Auq1yXUvh"
      },
      "source": [
        "### Split features from labels\n",
        "\n",
        "Separate the target value, or \"label\", from the features. This label is the value that you will train the model to predict."
      ]
    },
    {
      "cell_type": "code",
      "metadata": {
        "id": "t2sluJdCW7jN"
      },
      "source": [
        "train_labels = train_dataset.pop('ST')\n",
        "test_labels = test_dataset.pop('ST')"
      ],
      "execution_count": 9,
      "outputs": []
    },
    {
      "cell_type": "markdown",
      "metadata": {
        "id": "mRklxK5s388r"
      },
      "source": [
        "### Normalize the data\n",
        "\n",
        "Look again at the `train_stats` block above and note how different the ranges of each feature are."
      ]
    },
    {
      "cell_type": "markdown",
      "metadata": {
        "id": "-ywmerQ6dSox"
      },
      "source": [
        "It is good practice to normalize features that use different scales and ranges. Although the model *might* converge without feature normalization, it makes training more difficult, and it makes the resulting model dependent on the choice of units used in the input.\n",
        "\n",
        "Note: Although we intentionally generate these statistics from only the training dataset, these statistics will also be used to normalize the test dataset. We need to do that to project the test dataset into the same distribution that the model has been trained on."
      ]
    },
    {
      "cell_type": "markdown",
      "metadata": {
        "id": "FnxcF5nL7u3r"
      },
      "source": [
        "### Min-Max normalization"
      ]
    },
    {
      "cell_type": "code",
      "metadata": {
        "id": "Yemp8bAu7xo5"
      },
      "source": [
        "def min_max_norm(x):\n",
        "  return (x-train_stats['min'])/(train_stats['max']-train_stats['min'])\n",
        "\n",
        "normed_train_data = min_max_norm(train_dataset)\n",
        "normed_test_data  = min_max_norm(test_dataset)\n"
      ],
      "execution_count": 10,
      "outputs": []
    },
    {
      "cell_type": "markdown",
      "metadata": {
        "id": "jFpeCy1J7yOG"
      },
      "source": [
        "### Standard normalization"
      ]
    },
    {
      "cell_type": "code",
      "metadata": {
        "id": "JlC5ooJrgjQF"
      },
      "source": [
        "def std_norm(x):\n",
        "  return (x - train_stats['mean']) / train_stats['std']\n",
        "normed_train_data = std_norm(train_dataset)\n",
        "normed_test_data  = std_norm(test_dataset)\n"
      ],
      "execution_count": null,
      "outputs": []
    },
    {
      "cell_type": "markdown",
      "metadata": {
        "id": "BuiClDk45eS4"
      },
      "source": [
        "This normalized data is what we will use to train the model.\n",
        "\n",
        "Caution: The statistics used to normalize the inputs here (mean and standard deviation) need to be applied to any other data that is fed to the model, along with the one-hot encoding that we did earlier.  That includes the test set as well as live data when the model is used in production."
      ]
    },
    {
      "cell_type": "markdown",
      "metadata": {
        "id": "SmjdzxKzEu1-"
      },
      "source": [
        "## The model"
      ]
    },
    {
      "cell_type": "markdown",
      "metadata": {
        "id": "6SWtkIjhrZwa"
      },
      "source": [
        "### Build the model\n",
        "\n",
        "Let's build our model. Here, we'll use a `Sequential` model with two densely connected hidden layers, and an output layer that returns a single, continuous value. The model building steps are wrapped in a function, `build_model`, since we'll create a second model, later on."
      ]
    },
    {
      "cell_type": "markdown",
      "metadata": {
        "id": "VULFJK5Vdk2l"
      },
      "source": [
        "###Learning Schedule\n",
        "The code bellow sets a schedules.InverseTimeDecay to hyperbolically decrease the learning rate to 1/2 of the base rate at 1000 epochs, 1/3 at 2000 epochs and so on."
      ]
    },
    {
      "cell_type": "code",
      "metadata": {
        "id": "BVEwu5szdhtt"
      },
      "source": [
        "#Lr_schedule = learning schedule : Most models learn better if you gradually decrase the learning rate.\n",
        "\n",
        "STEPS_PER_EPOCH=len(train_dataset)/500\n",
        "lr_schedule = tf.keras.optimizers.schedules.InverseTimeDecay(\n",
        "  0.001,\n",
        "  decay_steps=STEPS_PER_EPOCH*1000,\n",
        "  decay_rate=1,\n",
        "  staircase=False)\n",
        "\n",
        "def get_optimizer():\n",
        "  return tf.keras.optimizers.Adam()"
      ],
      "execution_count": 11,
      "outputs": []
    },
    {
      "cell_type": "markdown",
      "metadata": {
        "id": "gB91psdOdj_d"
      },
      "source": [
        "Here we can plot the learning rate Vs the number of epocs"
      ]
    },
    {
      "cell_type": "code",
      "metadata": {
        "id": "MfTIU-90dkJC",
        "colab": {
          "base_uri": "https://localhost:8080/",
          "height": 279
        },
        "outputId": "d6cc4219-70b6-4a63-81cf-d58b6d94a380"
      },
      "source": [
        "step = np.linspace(0,100000)\n",
        "lr = lr_schedule(step)\n",
        "plt.figure()\n",
        "plt.plot(step/STEPS_PER_EPOCH, lr)\n",
        "plt.ylim([min(plt.ylim()),max(plt.ylim())])\n",
        "plt.xlabel('Epoch')\n",
        "_ = plt.ylabel('Learning Rate')"
      ],
      "execution_count": null,
      "outputs": [
        {
          "output_type": "display_data",
          "data": {
            "image/png": "[encoded data removed]",
            "text/plain": [
              "<Figure size 432x288 with 1 Axes>"
            ]
          },
          "metadata": {
            "tags": [],
            "needs_background": "light"
          }
        }
      ]
    },
    {
      "cell_type": "code",
      "metadata": {
        "id": "c26juK7ZG8j-"
      },
      "source": [
        "def build_model():\n",
        "  model = keras.Sequential([\n",
        "    #layers.Dense(100, activation=tf.nn.relu, input_shape=[len(train_dataset.keys())]),\n",
        "    layers.Dense(50, activation=tf.nn.softplus, kernel_regularizer='l2', input_shape=[len(train_dataset.keys())]),\n",
        "    # layers.Dense(50, activation=tf.nn.softplus, kernel_regularizer='l2'),\n",
        "    layers.Dense(5, activation=tf.nn.softplus, kernel_regularizer='l2'),\n",
        "    layers.Dense(1)\n",
        "  ])\n",
        "\n",
        "  optimizer = get_optimizer() # tf.keras.optimizers.Adam(learning_rate=0.001) #RMSprop(0.0001)\n",
        "  model.compile(loss='mean_squared_error',\n",
        "                optimizer=optimizer,\n",
        "                metrics=['mean_absolute_error', 'mean_squared_error'])\n",
        "  return model"
      ],
      "execution_count": 12,
      "outputs": []
    },
    {
      "cell_type": "code",
      "metadata": {
        "id": "cGbPb-PHGbhs"
      },
      "source": [
        "model = build_model()"
      ],
      "execution_count": 13,
      "outputs": []
    },
    {
      "cell_type": "markdown",
      "metadata": {
        "id": "AUx4uYxk0GEJ"
      },
      "source": [
        "## If there is a model saved on google drive execute the next block"
      ]
    },
    {
      "cell_type": "code",
      "metadata": {
        "id": "68AWXTSRObgp"
      },
      "source": [
        "from google.colab import drive\n",
        "drive.mount('/content/drive')"
      ],
      "execution_count": null,
      "outputs": []
    },
    {
      "cell_type": "code",
      "metadata": {
        "id": "y3Ir9yi8z0VA"
      },
      "source": [
        "from tensorflow.keras.models import load_model\n",
        "\n",
        "# del model \n",
        "\n",
        "folder=str('theoretical_all_vary/')\n",
        "\n",
        "model_name=str('model_all_vary_with_Ps_noise_Ps_1000_2500_2_5μL_25_72mN_m_no_noise_train3.h5')\n",
        "\n",
        "model = load_model(str(\"/content/drive/My Drive/DropLev/MachineLearningModels/\"+folder+model_name))\n"
      ],
      "execution_count": null,
      "outputs": []
    },
    {
      "cell_type": "markdown",
      "metadata": {
        "id": "Sj49Og4YGULr"
      },
      "source": [
        "### Inspect the model\n",
        "\n",
        "Use the `.summary` method to print a simple description of the model"
      ]
    },
    {
      "cell_type": "code",
      "metadata": {
        "id": "ReAD0n6MsFK-",
        "colab": {
          "base_uri": "https://localhost:8080/"
        },
        "outputId": "cd2ad4a8-86b0-4054-9625-ff8030fbfb53"
      },
      "source": [
        "model.summary()"
      ],
      "execution_count": 14,
      "outputs": [
        {
          "output_type": "stream",
          "text": [
            "Model: \"sequential\"\n",
            "_________________________________________________________________\n",
            "Layer (type)                 Output Shape              Param #   \n",
            "=================================================================\n",
            "dense (Dense)                (None, 50)                17550     \n",
            "_________________________________________________________________\n",
            "dense_1 (Dense)              (None, 5)                 255       \n",
            "_________________________________________________________________\n",
            "dense_2 (Dense)              (None, 1)                 6         \n",
            "=================================================================\n",
            "Total params: 17,811\n",
            "Trainable params: 17,811\n",
            "Non-trainable params: 0\n",
            "_________________________________________________________________\n"
          ],
          "name": "stdout"
        }
      ]
    },
    {
      "cell_type": "code",
      "metadata": {
        "id": "cSK7djKwUxOw",
        "colab": {
          "base_uri": "https://localhost:8080/"
        },
        "outputId": "9a6f374c-950a-4827-e753-c73f3b7644ae"
      },
      "source": [
        "model.get_config()"
      ],
      "execution_count": null,
      "outputs": [
        {
          "output_type": "execute_result",
          "data": {
            "text/plain": [
              "{'layers': [{'class_name': 'InputLayer',\n",
              "   'config': {'batch_input_shape': (None, 352),\n",
              "    'dtype': 'float32',\n",
              "    'name': 'dense_18_input',\n",
              "    'ragged': False,\n",
              "    'sparse': False}},\n",
              "  {'class_name': 'Dense',\n",
              "   'config': {'activation': 'swish',\n",
              "    'activity_regularizer': None,\n",
              "    'batch_input_shape': (None, 352),\n",
              "    'bias_constraint': None,\n",
              "    'bias_initializer': {'class_name': 'Zeros', 'config': {}},\n",
              "    'bias_regularizer': None,\n",
              "    'dtype': 'float32',\n",
              "    'kernel_constraint': None,\n",
              "    'kernel_initializer': {'class_name': 'GlorotUniform',\n",
              "     'config': {'seed': None}},\n",
              "    'kernel_regularizer': None,\n",
              "    'name': 'dense_18',\n",
              "    'trainable': True,\n",
              "    'units': 50,\n",
              "    'use_bias': True}},\n",
              "  {'class_name': 'Dense',\n",
              "   'config': {'activation': 'swish',\n",
              "    'activity_regularizer': None,\n",
              "    'bias_constraint': None,\n",
              "    'bias_initializer': {'class_name': 'Zeros', 'config': {}},\n",
              "    'bias_regularizer': None,\n",
              "    'dtype': 'float32',\n",
              "    'kernel_constraint': None,\n",
              "    'kernel_initializer': {'class_name': 'GlorotUniform',\n",
              "     'config': {'seed': None}},\n",
              "    'kernel_regularizer': {'class_name': 'L2',\n",
              "     'config': {'l2': 0.009999999776482582}},\n",
              "    'name': 'dense_19',\n",
              "    'trainable': True,\n",
              "    'units': 5,\n",
              "    'use_bias': True}},\n",
              "  {'class_name': 'Dense',\n",
              "   'config': {'activation': 'linear',\n",
              "    'activity_regularizer': None,\n",
              "    'bias_constraint': None,\n",
              "    'bias_initializer': {'class_name': 'Zeros', 'config': {}},\n",
              "    'bias_regularizer': None,\n",
              "    'dtype': 'float32',\n",
              "    'kernel_constraint': None,\n",
              "    'kernel_initializer': {'class_name': 'GlorotUniform',\n",
              "     'config': {'seed': None}},\n",
              "    'kernel_regularizer': None,\n",
              "    'name': 'dense_20',\n",
              "    'trainable': True,\n",
              "    'units': 1,\n",
              "    'use_bias': True}}],\n",
              " 'name': 'sequential_6'}"
            ]
          },
          "metadata": {
            "tags": []
          },
          "execution_count": 65
        }
      ]
    },
    {
      "cell_type": "code",
      "metadata": {
        "id": "o7xSRZUma5N3",
        "colab": {
          "base_uri": "https://localhost:8080/"
        },
        "outputId": "b97995fd-528e-4f10-f19b-76a8927f657e"
      },
      "source": [
        "model.get_weights()"
      ],
      "execution_count": null,
      "outputs": [
        {
          "output_type": "execute_result",
          "data": {
            "text/plain": [
              "[array([[  0.5092702 ,  -0.12179124,   0.05683674, ...,  -0.7148907 ,\n",
              "           0.2906978 ,   1.0812896 ],\n",
              "        [  1.0699809 ,   0.15200645,  -0.10768988, ...,  -0.15443072,\n",
              "           0.4555988 ,   0.32697755],\n",
              "        [  1.4897798 ,  -0.08989815,  -0.0913737 , ...,  -0.12193844,\n",
              "          -0.27023208,   0.04256957],\n",
              "        ...,\n",
              "        [ -0.41766593,   0.02239161,  -1.1315706 , ...,   0.23856731,\n",
              "          -0.50644135,   0.2000509 ],\n",
              "        [ -0.47902197,   2.3037515 ,   0.60379195, ...,  -2.7177956 ,\n",
              "           2.8374398 ,  -1.3381337 ],\n",
              "        [  0.8180062 ,   3.1020966 , -14.532356  , ...,  -0.35491312,\n",
              "           8.873749  ,  -0.65268046]], dtype=float32),\n",
              " array([ -4.2529907 ,  -6.120245  ,  -1.4319749 ,  -7.5522485 ,\n",
              "         -4.128372  ,   6.27748   ,  -6.132505  ,  -5.2787666 ,\n",
              "        -11.651796  ,  -4.8069143 ,  -2.977385  , -10.86964   ,\n",
              "         -4.2106905 ,  -5.533692  ,  -5.759334  ,  -6.432223  ,\n",
              "         -3.702911  ,  -4.0800786 ,  -8.757685  ,   1.035928  ,\n",
              "         -6.061545  ,  -8.4072895 ,   0.1504133 ,  -3.598015  ,\n",
              "          5.784055  ,  -4.133744  ,   0.9555334 ,  -0.35101816,\n",
              "         -3.8640957 ,  -5.1454587 ,  -3.4189503 ,  -4.8263454 ,\n",
              "         -3.8226535 ,  -7.7395988 ,  -4.4808607 ,  -0.06490354,\n",
              "         -2.9360886 , -11.558156  ,  -8.249199  ,  -3.378229  ,\n",
              "         -1.5337639 ,   3.7979848 ,  -8.053683  ,  -0.74854213,\n",
              "         -6.5244427 ,  -5.933697  ,  -9.372639  ,  -2.0124786 ,\n",
              "         -4.5985894 ,  -5.225428  ], dtype=float32),\n",
              " array([[ 5.65695614e-02,  9.70974043e-02,  2.06462983e-02,\n",
              "          1.27539605e-01,  4.34521120e-03],\n",
              "        [ 2.03202057e-04,  1.58702343e-04,  1.77885348e-04,\n",
              "          4.04831255e-04, -5.78540039e-06],\n",
              "        [ 1.88727723e-03, -4.26435955e-02,  2.56754048e-02,\n",
              "         -6.66285753e-02, -4.14444087e-03],\n",
              "        [ 4.13183370e-05, -6.63552710e-05,  1.14863597e-05,\n",
              "         -5.82182765e-05, -3.10754258e-05],\n",
              "        [-1.16685644e-01,  1.92952305e-01, -1.82999715e-01,\n",
              "          5.50714493e-01, -3.50895338e-03],\n",
              "        [ 2.15589404e-02, -6.89286664e-02,  9.23608020e-02,\n",
              "         -1.40628025e-01, -7.36633316e-03],\n",
              "        [ 4.53094058e-02,  6.59857020e-02,  2.29754597e-02,\n",
              "          9.02058259e-02,  9.65956890e-04],\n",
              "        [-1.99535057e-01,  6.10382199e-01, -2.97578145e-03,\n",
              "          4.41061735e-01, -4.11528768e-03],\n",
              "        [ 9.33608608e-05,  9.47478475e-06, -6.93666152e-06,\n",
              "         -2.50307494e-07,  4.95477798e-06],\n",
              "        [ 3.07822879e-03,  4.16986784e-03,  1.33681903e-03,\n",
              "          6.85014809e-03,  3.37201382e-05],\n",
              "        [-2.44489238e-02, -6.52692020e-02, -1.09832454e-03,\n",
              "         -3.24970186e-02, -8.39611399e-04],\n",
              "        [ 9.72771522e-05, -2.20264672e-04, -9.03640321e-05,\n",
              "         -1.84075398e-04, -3.51783965e-05],\n",
              "        [-2.62506902e-01,  3.59015107e-01,  6.18950278e-03,\n",
              "          5.80055788e-02, -7.87556637e-03],\n",
              "        [ 1.49904955e-02, -1.33458814e-02,  2.34292801e-02,\n",
              "         -3.68056558e-02, -1.37883495e-03],\n",
              "        [-1.91436872e-01, -2.63405032e-02,  1.02002770e-02,\n",
              "          1.76476240e-01,  4.01135348e-03],\n",
              "        [-1.57391634e-02, -1.00870691e-01,  1.09577172e-01,\n",
              "         -9.66216475e-02,  1.59142737e-03],\n",
              "        [ 1.30212837e-04, -1.96768015e-05, -1.88191625e-05,\n",
              "          2.89108983e-04, -9.60286525e-06],\n",
              "        [-2.75200680e-02, -9.15468782e-02,  7.30757266e-02,\n",
              "         -4.89849038e-02,  6.91816118e-03],\n",
              "        [ 1.85161189e-05, -1.73993554e-04,  1.99616807e-06,\n",
              "         -1.38353964e-04,  1.54397385e-05],\n",
              "        [ 2.66884834e-01,  4.26088236e-02,  1.45326361e-01,\n",
              "          1.00323759e-01, -8.11536144e-03],\n",
              "        [ 2.91529726e-02,  4.00211625e-02,  1.32472022e-02,\n",
              "          6.67689517e-02,  7.60992290e-04],\n",
              "        [ 2.00254526e-02, -3.38249020e-02,  4.45529446e-02,\n",
              "         -1.42742828e-01,  3.78139620e-03],\n",
              "        [-5.91000915e-03, -1.28406852e-01,  4.65001203e-02,\n",
              "         -1.19427249e-01, -7.21878139e-04],\n",
              "        [ 4.67270650e-02,  5.73359206e-02,  2.21305098e-02,\n",
              "          9.19810608e-02,  4.94965864e-03],\n",
              "        [-4.62297257e-03, -6.38202354e-02,  8.86847079e-03,\n",
              "         -6.17279001e-02,  4.84521128e-03],\n",
              "        [ 6.72035292e-02, -1.18192639e-02, -4.56541851e-02,\n",
              "          5.45305386e-03,  8.76039150e-04],\n",
              "        [ 9.33341011e-02,  9.96042117e-02,  2.80640543e-01,\n",
              "         -1.70323268e-01, -1.65730715e-02],\n",
              "        [ 6.07391521e-02,  1.22013576e-01,  2.22605616e-02,\n",
              "          1.50579840e-01,  3.36763496e-03],\n",
              "        [-2.72256918e-02, -4.48571481e-02,  1.21520264e-02,\n",
              "         -4.28751111e-02,  9.58307239e-04],\n",
              "        [-4.82934155e-02, -1.26720220e-01,  3.58088240e-02,\n",
              "         -5.29756397e-02,  3.67398816e-03],\n",
              "        [ 4.66462485e-02,  1.11704744e-01,  1.33747254e-02,\n",
              "          1.26935482e-01,  3.04878340e-03],\n",
              "        [ 8.07218775e-02,  1.20608963e-01,  2.43165959e-02,\n",
              "          1.57176465e-01,  3.57463909e-03],\n",
              "        [ 3.56454961e-02,  5.63727468e-02,  2.39272248e-02,\n",
              "          8.54289904e-02,  6.17389102e-04],\n",
              "        [-6.25384673e-02,  4.10761088e-02,  1.98540818e-02,\n",
              "         -4.80115553e-03,  5.31753339e-03],\n",
              "        [-1.23558626e-01,  1.54149622e-01, -1.75511673e-01,\n",
              "          4.06450659e-01,  4.92383866e-03],\n",
              "        [-9.03384015e-02,  2.28437811e-01, -2.44050995e-01,\n",
              "          3.20669770e-01, -9.44058225e-03],\n",
              "        [ 4.05434072e-02,  8.49775523e-02,  1.60312206e-02,\n",
              "          9.64562818e-02,  4.63044923e-03],\n",
              "        [ 6.18615450e-05, -2.04605603e-05,  5.67591587e-06,\n",
              "         -4.88117512e-05, -4.66089914e-05],\n",
              "        [ 4.96117920e-02,  1.69125129e-03,  7.76611194e-02,\n",
              "         -1.01200782e-01,  1.66360941e-03],\n",
              "        [ 7.64859468e-02,  1.52023822e-01,  2.72214226e-02,\n",
              "          1.85517535e-01,  1.25306298e-03],\n",
              "        [-7.61378396e-05,  6.94370974e-05,  6.78824799e-05,\n",
              "          3.21784901e-04, -5.95714228e-05],\n",
              "        [-8.92192125e-03,  2.78763026e-02, -9.13112517e-03,\n",
              "          2.86801606e-02, -9.99082066e-03],\n",
              "        [ 2.31570634e-03, -6.61537647e-02,  2.23209918e-03,\n",
              "         -6.23835176e-02,  4.51608142e-03],\n",
              "        [ 1.81088284e-01, -4.28969748e-02,  8.15177783e-02,\n",
              "         -1.44794479e-01, -1.83332823e-02],\n",
              "        [-9.25966650e-02,  1.34345889e-01, -1.09292537e-01,\n",
              "          4.00489181e-01, -1.77034410e-03],\n",
              "        [ 2.43198425e-02,  3.38130258e-02,  2.31114738e-02,\n",
              "          5.72423860e-02,  6.29530521e-04],\n",
              "        [ 1.10050212e-04,  1.27840161e-04,  1.16959100e-05,\n",
              "         -5.87242539e-08, -2.00990939e-07],\n",
              "        [-2.31038444e-02, -4.90251556e-02,  4.83734161e-02,\n",
              "         -3.39387245e-02,  5.19555155e-03],\n",
              "        [ 8.12812224e-02,  9.02133808e-02,  5.62398741e-03,\n",
              "          1.23532891e-01,  1.67199865e-03],\n",
              "        [ 2.69099046e-02,  3.69827412e-02,  2.02486198e-02,\n",
              "          5.85252456e-02, -3.52399016e-04]], dtype=float32),\n",
              " array([-1.7501907, -1.9248145, -2.237511 ,  5.4004836, -1.0813335],\n",
              "       dtype=float32),\n",
              " array([[12.850758 ],\n",
              "        [ 7.4004045],\n",
              "        [ 4.4025245],\n",
              "        [ 6.6838555],\n",
              "        [ 5.0906696]], dtype=float32),\n",
              " array([1.0521859], dtype=float32)]"
            ]
          },
          "metadata": {
            "tags": []
          },
          "execution_count": 79
        }
      ]
    },
    {
      "cell_type": "markdown",
      "metadata": {
        "id": "Vt6W50qGsJAL"
      },
      "source": [
        "\n",
        "Now try out the model. Take a batch of `10` examples from the training data and call `model.predict` on it."
      ]
    },
    {
      "cell_type": "code",
      "metadata": {
        "id": "-d-gBaVtGTSC",
        "colab": {
          "base_uri": "https://localhost:8080/"
        },
        "outputId": "c4e1fa55-3cc5-456e-faa2-20753fd430ee"
      },
      "source": [
        "example_batch = normed_train_data[:10]\n",
        "example_result = model.predict(example_batch)\n",
        "example_result"
      ],
      "execution_count": 15,
      "outputs": [
        {
          "output_type": "execute_result",
          "data": {
            "text/plain": [
              "array([[1.9030799],\n",
              "       [2.0716534],\n",
              "       [1.9983993],\n",
              "       [2.1112068],\n",
              "       [1.8810754],\n",
              "       [1.9952215],\n",
              "       [1.9649836],\n",
              "       [2.0903504],\n",
              "       [1.9856987],\n",
              "       [1.9556086]], dtype=float32)"
            ]
          },
          "metadata": {
            "tags": []
          },
          "execution_count": 15
        }
      ]
    },
    {
      "cell_type": "markdown",
      "metadata": {
        "id": "QlM8KrSOsaYo"
      },
      "source": [
        "It seems to be working, and it produces a result of the expected shape and type."
      ]
    },
    {
      "cell_type": "markdown",
      "metadata": {
        "id": "0-qWCsh6DlyH"
      },
      "source": [
        "### Train the model\n",
        "\n",
        "Train the model for 1000 epochs, and record the training and validation accuracy in the `history` object."
      ]
    },
    {
      "cell_type": "code",
      "metadata": {
        "id": "fdMZuhUgzMZ4",
        "colab": {
          "base_uri": "https://localhost:8080/"
        },
        "outputId": "acb20c7f-1893-45b8-9ef7-9ff6c8a0c165"
      },
      "source": [
        "# Display training progress by printing a single dot for each completed epoch\n",
        "class PrintDot(keras.callbacks.Callback):\n",
        "  def on_epoch_end(self, epoch, logs):\n",
        "    if epoch % 100 == 0: print('')\n",
        "    print('.', end='')\n",
        "\n",
        "EPOCHS = 1000\n",
        "\n",
        "# The patience parameter is the amount of epochs to check for improvement\n",
        "early_stop = keras.callbacks.EarlyStopping(monitor='val_loss', patience=20, min_delta=0)\n",
        "\n",
        "history = model.fit(normed_train_data, train_labels, epochs=EPOCHS,\n",
        "                    validation_split = 0.2, verbose=0, callbacks=[early_stop, PrintDot()])\n"
      ],
      "execution_count": 16,
      "outputs": [
        {
          "output_type": "stream",
          "text": [
            "\n",
            "....................................................................................................\n",
            "......."
          ],
          "name": "stdout"
        }
      ]
    },
    {
      "cell_type": "markdown",
      "metadata": {
        "id": "tQm3pc0FYPQB"
      },
      "source": [
        "Visualize the model's training progress using the stats stored in the `history` object."
      ]
    },
    {
      "cell_type": "code",
      "metadata": {
        "id": "IHtfi4xlXiHy",
        "colab": {
          "base_uri": "https://localhost:8080/",
          "height": 204
        },
        "outputId": "213d6270-0e3c-40cf-de22-362632f388b0"
      },
      "source": [
        "hist = pd.DataFrame(history.history)\n",
        "hist['epoch'] = history.epoch\n",
        "hist.tail() "
      ],
      "execution_count": 17,
      "outputs": [
        {
          "output_type": "execute_result",
          "data": {
            "text/html": [
              "<div>\n",
              "<style scoped>\n",
              "    .dataframe tbody tr th:only-of-type {\n",
              "        vertical-align: middle;\n",
              "    }\n",
              "\n",
              "    .dataframe tbody tr th {\n",
              "        vertical-align: top;\n",
              "    }\n",
              "\n",
              "    .dataframe thead th {\n",
              "        text-align: right;\n",
              "    }\n",
              "</style>\n",
              "<table border=\"1\" class=\"dataframe\">\n",
              "  <thead>\n",
              "    <tr style=\"text-align: right;\">\n",
              "      <th></th>\n",
              "      <th>loss</th>\n",
              "      <th>mean_absolute_error</th>\n",
              "      <th>mean_squared_error</th>\n",
              "      <th>val_loss</th>\n",
              "      <th>val_mean_absolute_error</th>\n",
              "      <th>val_mean_squared_error</th>\n",
              "      <th>epoch</th>\n",
              "    </tr>\n",
              "  </thead>\n",
              "  <tbody>\n",
              "    <tr>\n",
              "      <th>102</th>\n",
              "      <td>113.263931</td>\n",
              "      <td>8.683423</td>\n",
              "      <td>112.594528</td>\n",
              "      <td>114.035736</td>\n",
              "      <td>8.710373</td>\n",
              "      <td>113.367653</td>\n",
              "      <td>102</td>\n",
              "    </tr>\n",
              "    <tr>\n",
              "      <th>103</th>\n",
              "      <td>113.318565</td>\n",
              "      <td>8.690186</td>\n",
              "      <td>112.648888</td>\n",
              "      <td>114.693008</td>\n",
              "      <td>8.765287</td>\n",
              "      <td>114.024376</td>\n",
              "      <td>103</td>\n",
              "    </tr>\n",
              "    <tr>\n",
              "      <th>104</th>\n",
              "      <td>113.225838</td>\n",
              "      <td>8.680769</td>\n",
              "      <td>112.556694</td>\n",
              "      <td>114.584892</td>\n",
              "      <td>8.766223</td>\n",
              "      <td>113.915298</td>\n",
              "      <td>104</td>\n",
              "    </tr>\n",
              "    <tr>\n",
              "      <th>105</th>\n",
              "      <td>113.316193</td>\n",
              "      <td>8.683200</td>\n",
              "      <td>112.648796</td>\n",
              "      <td>113.706291</td>\n",
              "      <td>8.707826</td>\n",
              "      <td>113.040871</td>\n",
              "      <td>105</td>\n",
              "    </tr>\n",
              "    <tr>\n",
              "      <th>106</th>\n",
              "      <td>113.393875</td>\n",
              "      <td>8.686566</td>\n",
              "      <td>112.729713</td>\n",
              "      <td>113.582397</td>\n",
              "      <td>8.670397</td>\n",
              "      <td>112.912888</td>\n",
              "      <td>106</td>\n",
              "    </tr>\n",
              "  </tbody>\n",
              "</table>\n",
              "</div>"
            ],
            "text/plain": [
              "           loss  mean_absolute_error  ...  val_mean_squared_error  epoch\n",
              "102  113.263931             8.683423  ...              113.367653    102\n",
              "103  113.318565             8.690186  ...              114.024376    103\n",
              "104  113.225838             8.680769  ...              113.915298    104\n",
              "105  113.316193             8.683200  ...              113.040871    105\n",
              "106  113.393875             8.686566  ...              112.912888    106\n",
              "\n",
              "[5 rows x 7 columns]"
            ]
          },
          "metadata": {
            "tags": []
          },
          "execution_count": 17
        }
      ]
    },
    {
      "cell_type": "code",
      "metadata": {
        "id": "VPI7VDvrXvJb",
        "colab": {
          "base_uri": "https://localhost:8080/",
          "height": 541
        },
        "outputId": "ed4ec1e2-d1f6-4d13-f2de-a5cfda566efa"
      },
      "source": [
        "def plot_history(history):\n",
        "  hist = pd.DataFrame(history.history)\n",
        "  hist['epoch'] = history.epoch\n",
        "\n",
        "  plt.figure()\n",
        "  plt.xlabel('Epoch')\n",
        "  plt.ylabel('Mean Abs Error [ST]')\n",
        "  plt.plot(hist['epoch'], hist['mean_absolute_error'],\n",
        "           label='Train Error')\n",
        "  plt.plot(hist['epoch'], hist['val_mean_absolute_error'],\n",
        "           label = 'Val Error')\n",
        "  # plt.ylim([0,2])\n",
        "  plt.legend()\n",
        "\n",
        "  plt.figure()\n",
        "  plt.xlabel('Epoch')\n",
        "  plt.ylabel('Mean Square Error [$ST^2$]')\n",
        "  plt.plot(hist['epoch'], hist['mean_squared_error'],\n",
        "           label='Train Error')\n",
        "  plt.plot(hist['epoch'], hist['val_mean_squared_error'],\n",
        "           label = 'Val Error')\n",
        "  # plt.ylim([0,5])\n",
        "  plt.legend()\n",
        "  plt.show()\n",
        "\n",
        "\n",
        "plot_history(history)"
      ],
      "execution_count": 22,
      "outputs": [
        {
          "output_type": "display_data",
          "data": {
            "image/png": "[encoded data removed]",
            "text/plain": [
              "<Figure size 432x288 with 1 Axes>"
            ]
          },
          "metadata": {
            "tags": [],
            "needs_background": "light"
          }
        },
        {
          "output_type": "display_data",
          "data": {
            "image/png": "[encoded data removed]",
            "text/plain": [
              "<Figure size 432x288 with 1 Axes>"
            ]
          },
          "metadata": {
            "tags": [],
            "needs_background": "light"
          }
        }
      ]
    },
    {
      "cell_type": "markdown",
      "metadata": {
        "id": "3St8-DmrX8P4"
      },
      "source": [
        "The graph shows that on the validation set, the average error is usually around +/- 2 MPG. Is this good? We'll leave that decision up to you.\n",
        "\n",
        "Let's see how well the model generalizes by using the **test** set, which we did not use when training the model.  This tells us how well we can expect the model to predict when we use it in the real world."
      ]
    },
    {
      "cell_type": "code",
      "metadata": {
        "id": "jl_yNr5n1kms",
        "colab": {
          "base_uri": "https://localhost:8080/"
        },
        "outputId": "7bb86c61-3bdc-413d-f124-abc4a51ccf5c"
      },
      "source": [
        "loss, mae, mse = model.evaluate(normed_test_data, test_labels, verbose=0)\n",
        "\n",
        "print(\"Testing set Mean Abs Error: {:5.2f} mN/m\".format(mae))"
      ],
      "execution_count": 19,
      "outputs": [
        {
          "output_type": "stream",
          "text": [
            "Testing set Mean Abs Error:  8.66 mN/m\n"
          ],
          "name": "stdout"
        }
      ]
    },
    {
      "cell_type": "markdown",
      "metadata": {
        "id": "ft603OzXuEZC"
      },
      "source": [
        "### Make predictions\n",
        "\n",
        "Finally, predict ST values using data in the testing set:"
      ]
    },
    {
      "cell_type": "code",
      "metadata": {
        "id": "Xe7RXH3N3CWU",
        "colab": {
          "base_uri": "https://localhost:8080/",
          "height": 573
        },
        "outputId": "20648500-beff-4b61-8d7b-cb7359b00c7f"
      },
      "source": [
        "test_predictions = model.predict(normed_test_data).flatten()\n",
        "\n",
        "plt.scatter(test_labels, test_predictions)\n",
        "plt.title('Normalized test data')\n",
        "plt.xlabel('True Values [surface tension - mN/m]')\n",
        "plt.ylabel('Predictions [surface tension - mN/m]')\n",
        "plt.axis('equal')\n",
        "plt.axis('square')\n",
        "plt.xlim([10,75])\n",
        "plt.ylim([10,75])\n",
        "_ = plt.plot([-100, 100], [-100, 100])\n",
        "plt.show()\n",
        "\n",
        "test_predictions2 = model.predict(normed_train_data).flatten()\n",
        "\n",
        "plt.scatter(train_labels, test_predictions2)\n",
        "plt.title('Normalized training data')\n",
        "plt.xlabel('True Values [surface tension - mN/m]')\n",
        "plt.ylabel('Predictions [surface tension - mN/m]')\n",
        "plt.axis('equal')\n",
        "plt.axis('square')\n",
        "plt.xlim([10,75])\n",
        "plt.ylim([10,75])\n",
        "_ = plt.plot([-100, 100], [-100, 100])\n",
        "plt.show()\n"
      ],
      "execution_count": 20,
      "outputs": [
        {
          "output_type": "display_data",
          "data": {
            "image/png": "[encoded data removed]",
            "text/plain": [
              "<Figure size 432x288 with 1 Axes>"
            ]
          },
          "metadata": {
            "tags": [],
            "needs_background": "light"
          }
        },
        {
          "output_type": "display_data",
          "data": {
            "image/png": "[encoded data removed]",
            "text/plain": [
              "<Figure size 432x288 with 1 Axes>"
            ]
          },
          "metadata": {
            "tags": [],
            "needs_background": "light"
          }
        }
      ]
    },
    {
      "cell_type": "markdown",
      "metadata": {
        "id": "OrkHGKZcusUo"
      },
      "source": [
        "Seriously?"
      ]
    },
    {
      "cell_type": "code",
      "metadata": {
        "id": "f-OHX4DiXd8x",
        "colab": {
          "base_uri": "https://localhost:8080/",
          "height": 279
        },
        "outputId": "1637d242-cf8c-4136-a3b2-c3e784a400d2"
      },
      "source": [
        "error = test_predictions - test_labels\n",
        "plt.hist(error, bins = 50)\n",
        "plt.xlabel(\"Prediction Error [mN/m]\")\n",
        "_ = plt.ylabel(\"Count\")\n",
        "# plt.ylim(0, 10)\n",
        "plt.show()"
      ],
      "execution_count": 21,
      "outputs": [
        {
          "output_type": "display_data",
          "data": {
            "image/png": "[encoded data removed]",
            "text/plain": [
              "<Figure size 432x288 with 1 Axes>"
            ]
          },
          "metadata": {
            "tags": [],
            "needs_background": "light"
          }
        }
      ]
    },
    {
      "cell_type": "markdown",
      "metadata": {
        "id": "izbMDBoshgNz"
      },
      "source": [
        "# Saving the final Model"
      ]
    },
    {
      "cell_type": "markdown",
      "metadata": {
        "id": "caflPo2mhgN8"
      },
      "source": [
        "When you are satisfied with the model and the accuracy continue from here:"
      ]
    },
    {
      "cell_type": "markdown",
      "metadata": {
        "id": "iquUCcQhhgN9"
      },
      "source": [
        "Run the next code box only if google drive is not mounted to colab"
      ]
    },
    {
      "cell_type": "code",
      "metadata": {
        "colab": {
          "base_uri": "https://localhost:8080/"
        },
        "id": "sjhZO2GshgN9",
        "outputId": "87166b48-8a9a-46db-dae1-41c76ead1781"
      },
      "source": [
        "from google.colab import drive\n",
        "drive.mount('/content/drive')"
      ],
      "execution_count": null,
      "outputs": [
        {
          "output_type": "stream",
          "text": [
            "Mounted at /content/drive\n"
          ],
          "name": "stdout"
        }
      ]
    },
    {
      "cell_type": "markdown",
      "metadata": {
        "id": "0ybZbCZGhgN_"
      },
      "source": [
        "Saving the model in a **SavedModel** format"
      ]
    },
    {
      "cell_type": "code",
      "metadata": {
        "id": "uRUuQvLahgOA"
      },
      "source": [
        "!pip install -q pyyaml h5py  # Required to save models in HDF5 format"
      ],
      "execution_count": null,
      "outputs": []
    },
    {
      "cell_type": "code",
      "metadata": {
        "id": "roMH1XhthgOA"
      },
      "source": [
        "import os"
      ],
      "execution_count": null,
      "outputs": []
    },
    {
      "cell_type": "code",
      "metadata": {
        "id": "llchoImChgOB"
      },
      "source": [
        "# Save the entire model as a SavedModel.\n",
        "folder=str('theoretical_all_vary/')\n",
        "filename=str('model_all_vary_with_Ps_noise_Ps_1000_2500_2_5μL_25_72mN_m_with_noise_train4_2.h5')\n",
        "#!mkdir -p '/content/drive/My Drive/DropLev/MachineLearningModels' #Ceates a folder named \"MachineLearningModels\"\n",
        "model.save('/content/drive/My Drive/DropLev/MachineLearningModels/'+folder+filename)  #Saves the file"
      ],
      "execution_count": null,
      "outputs": []
    },
    {
      "cell_type": "markdown",
      "metadata": {
        "id": "9fyk10HWGv-w"
      },
      "source": [
        "### Try out a different model"
      ]
    },
    {
      "cell_type": "code",
      "metadata": {
        "id": "J6EaoxCXGmlQ"
      },
      "source": [
        "def build_model():\n",
        "  model = keras.Sequential([\n",
        "    layers.Dense(200, activation=tf.nn.relu, input_shape=[len(train_dataset.keys())]),\n",
        "    layers.Dense(100, activation=tf.nn.swish), # input_shape=[len(train_dataset.keys())]),\n",
        "    layers.Dense(50, activation=tf.nn.swish),\n",
        "    layers.Dense(5, activation=tf.nn.swish),\n",
        "    layers.Dense(1)\n",
        "  ])\n",
        "\n",
        "  optimizer = get_optimizer() # tf.keras.optimizers.Adam(learning_rate=0.001) #RMSprop(0.0001)\n",
        "  model.compile(loss='mean_squared_error',\n",
        "                optimizer=optimizer,\n",
        "                metrics=['mean_absolute_error', 'mean_squared_error'])\n",
        "  return model"
      ],
      "execution_count": null,
      "outputs": []
    },
    {
      "cell_type": "code",
      "metadata": {
        "id": "8FnUsVd1Gmli"
      },
      "source": [
        "model_big = build_model()"
      ],
      "execution_count": null,
      "outputs": []
    },
    {
      "cell_type": "markdown",
      "metadata": {
        "id": "yLcQNtUhGmll"
      },
      "source": [
        "## If there is a model saved on google drive execute the next block"
      ]
    },
    {
      "cell_type": "code",
      "metadata": {
        "id": "uWsiP4rRGmlm"
      },
      "source": [
        "from tensorflow.keras.models import load_model\n",
        "\n",
        "del model \n",
        "\n",
        "model_name=str('test_training_whole_drop_3μL_best_175points_noise_0.004_vol_6.h5')\n",
        "model = load_model(str(\"/content/drive/My Drive/DropLev/MachineLearningModels/\"+model_name))\n"
      ],
      "execution_count": null,
      "outputs": []
    },
    {
      "cell_type": "markdown",
      "metadata": {
        "id": "my3o3TCOGmlp"
      },
      "source": [
        "### Inspect the model\n",
        "\n",
        "Use the `.summary` method to print a simple description of the model"
      ]
    },
    {
      "cell_type": "code",
      "metadata": {
        "id": "q1U3c9_VGmlp",
        "colab": {
          "base_uri": "https://localhost:8080/"
        },
        "outputId": "6ed1a990-7ce9-480f-8603-ac37b65a2392"
      },
      "source": [
        "model_big.summary()"
      ],
      "execution_count": null,
      "outputs": [
        {
          "output_type": "stream",
          "text": [
            "Model: \"sequential_14\"\n",
            "_________________________________________________________________\n",
            "Layer (type)                 Output Shape              Param #   \n",
            "=================================================================\n",
            "dense_47 (Dense)             (None, 200)               70600     \n",
            "_________________________________________________________________\n",
            "dense_48 (Dense)             (None, 100)               20100     \n",
            "_________________________________________________________________\n",
            "dense_49 (Dense)             (None, 50)                5050      \n",
            "_________________________________________________________________\n",
            "dense_50 (Dense)             (None, 5)                 255       \n",
            "_________________________________________________________________\n",
            "dense_51 (Dense)             (None, 1)                 6         \n",
            "=================================================================\n",
            "Total params: 96,011\n",
            "Trainable params: 96,011\n",
            "Non-trainable params: 0\n",
            "_________________________________________________________________\n"
          ],
          "name": "stdout"
        }
      ]
    },
    {
      "cell_type": "markdown",
      "metadata": {
        "id": "VIjVtYyyGmls"
      },
      "source": [
        "\n",
        "Now try out the model. Take a batch of `10` examples from the training data and call `model.predict` on it."
      ]
    },
    {
      "cell_type": "code",
      "metadata": {
        "id": "G5_MGnAzGmlt",
        "colab": {
          "base_uri": "https://localhost:8080/"
        },
        "outputId": "53b37f4d-c906-4192-c569-43f14696a39c"
      },
      "source": [
        "example_batch = normed_train_data[:10]\n",
        "example_result = model_big.predict(example_batch)\n",
        "example_result"
      ],
      "execution_count": null,
      "outputs": [
        {
          "output_type": "execute_result",
          "data": {
            "text/plain": [
              "array([[0.10341658],\n",
              "       [0.10751092],\n",
              "       [0.06194763],\n",
              "       [0.09155602],\n",
              "       [0.0877864 ],\n",
              "       [0.11423232],\n",
              "       [0.1167049 ],\n",
              "       [0.11997339],\n",
              "       [0.09314545],\n",
              "       [0.11397806]], dtype=float32)"
            ]
          },
          "metadata": {
            "tags": []
          },
          "execution_count": 169
        }
      ]
    },
    {
      "cell_type": "markdown",
      "metadata": {
        "id": "HvdF7VgzGmlw"
      },
      "source": [
        "It seems to be working, and it produces a result of the expected shape and type."
      ]
    },
    {
      "cell_type": "markdown",
      "metadata": {
        "id": "MP5Bz5BzGmlx"
      },
      "source": [
        "### Train the model\n",
        "\n",
        "Train the model for 1000 epochs, and record the training and validation accuracy in the `history` object."
      ]
    },
    {
      "cell_type": "code",
      "metadata": {
        "id": "8iG9JR5NGmlx",
        "colab": {
          "base_uri": "https://localhost:8080/"
        },
        "outputId": "835bad8e-ef1c-47ee-ae02-d295c94b1ae1"
      },
      "source": [
        "# Display training progress by printing a single dot for each completed epoch\n",
        "class PrintDot(keras.callbacks.Callback):\n",
        "  def on_epoch_end(self, epoch, logs):\n",
        "    if epoch % 100 == 0: print('')\n",
        "    print('.', end='')\n",
        "\n",
        "EPOCHS = 1000\n",
        "\n",
        "# The patience parameter is the amount of epochs to check for improvement\n",
        "early_stop = keras.callbacks.EarlyStopping(monitor='val_loss', patience=75, min_delta=0)\n",
        "\n",
        "history_big = model_big.fit(normed_train_data, train_labels, epochs=EPOCHS,\n",
        "                    validation_split = 0.2, verbose=0, callbacks=[early_stop, PrintDot()])\n"
      ],
      "execution_count": null,
      "outputs": [
        {
          "output_type": "stream",
          "text": [
            "\n",
            "....................................................................................................\n",
            "................................................."
          ],
          "name": "stdout"
        }
      ]
    },
    {
      "cell_type": "markdown",
      "metadata": {
        "id": "0Kwk9eLaGmlz"
      },
      "source": [
        "Visualize the model's training progress using the stats stored in the `history` object."
      ]
    },
    {
      "cell_type": "code",
      "metadata": {
        "id": "UPNtAEKZGmlz",
        "colab": {
          "base_uri": "https://localhost:8080/",
          "height": 204
        },
        "outputId": "4ebfd236-ec8c-486b-ab49-dd7cd946cae7"
      },
      "source": [
        "hist_big = pd.DataFrame(history_big.history)\n",
        "hist_big['epoch'] = history_big.epoch\n",
        "hist_big.tail() "
      ],
      "execution_count": null,
      "outputs": [
        {
          "output_type": "execute_result",
          "data": {
            "text/html": [
              "<div>\n",
              "<style scoped>\n",
              "    .dataframe tbody tr th:only-of-type {\n",
              "        vertical-align: middle;\n",
              "    }\n",
              "\n",
              "    .dataframe tbody tr th {\n",
              "        vertical-align: top;\n",
              "    }\n",
              "\n",
              "    .dataframe thead th {\n",
              "        text-align: right;\n",
              "    }\n",
              "</style>\n",
              "<table border=\"1\" class=\"dataframe\">\n",
              "  <thead>\n",
              "    <tr style=\"text-align: right;\">\n",
              "      <th></th>\n",
              "      <th>loss</th>\n",
              "      <th>mean_absolute_error</th>\n",
              "      <th>mean_squared_error</th>\n",
              "      <th>val_loss</th>\n",
              "      <th>val_mean_absolute_error</th>\n",
              "      <th>val_mean_squared_error</th>\n",
              "      <th>epoch</th>\n",
              "    </tr>\n",
              "  </thead>\n",
              "  <tbody>\n",
              "    <tr>\n",
              "      <th>144</th>\n",
              "      <td>3.323487</td>\n",
              "      <td>1.446380</td>\n",
              "      <td>3.323487</td>\n",
              "      <td>3.512927</td>\n",
              "      <td>1.465847</td>\n",
              "      <td>3.512927</td>\n",
              "      <td>144</td>\n",
              "    </tr>\n",
              "    <tr>\n",
              "      <th>145</th>\n",
              "      <td>3.290620</td>\n",
              "      <td>1.438802</td>\n",
              "      <td>3.290620</td>\n",
              "      <td>4.158316</td>\n",
              "      <td>1.607457</td>\n",
              "      <td>4.158316</td>\n",
              "      <td>145</td>\n",
              "    </tr>\n",
              "    <tr>\n",
              "      <th>146</th>\n",
              "      <td>3.255897</td>\n",
              "      <td>1.433248</td>\n",
              "      <td>3.255897</td>\n",
              "      <td>3.168190</td>\n",
              "      <td>1.427355</td>\n",
              "      <td>3.168190</td>\n",
              "      <td>146</td>\n",
              "    </tr>\n",
              "    <tr>\n",
              "      <th>147</th>\n",
              "      <td>3.296802</td>\n",
              "      <td>1.439161</td>\n",
              "      <td>3.296802</td>\n",
              "      <td>2.928701</td>\n",
              "      <td>1.377828</td>\n",
              "      <td>2.928701</td>\n",
              "      <td>147</td>\n",
              "    </tr>\n",
              "    <tr>\n",
              "      <th>148</th>\n",
              "      <td>3.303603</td>\n",
              "      <td>1.442421</td>\n",
              "      <td>3.303603</td>\n",
              "      <td>3.253408</td>\n",
              "      <td>1.437783</td>\n",
              "      <td>3.253408</td>\n",
              "      <td>148</td>\n",
              "    </tr>\n",
              "  </tbody>\n",
              "</table>\n",
              "</div>"
            ],
            "text/plain": [
              "         loss  mean_absolute_error  ...  val_mean_squared_error  epoch\n",
              "144  3.323487             1.446380  ...                3.512927    144\n",
              "145  3.290620             1.438802  ...                4.158316    145\n",
              "146  3.255897             1.433248  ...                3.168190    146\n",
              "147  3.296802             1.439161  ...                2.928701    147\n",
              "148  3.303603             1.442421  ...                3.253408    148\n",
              "\n",
              "[5 rows x 7 columns]"
            ]
          },
          "metadata": {
            "tags": []
          },
          "execution_count": 171
        }
      ]
    },
    {
      "cell_type": "code",
      "metadata": {
        "id": "FXoBIFTgGml1",
        "colab": {
          "base_uri": "https://localhost:8080/",
          "height": 549
        },
        "outputId": "9679c504-3552-4f64-d789-95c23ed8b885"
      },
      "source": [
        "def plot_history(history):\n",
        "  hist = pd.DataFrame(history.history)\n",
        "  hist['epoch'] = history.epoch\n",
        "\n",
        "  plt.figure()\n",
        "  plt.xlabel('Epoch')\n",
        "  plt.ylabel('Mean Abs Error [ST]')\n",
        "  plt.plot(hist['epoch'], hist['mean_absolute_error'],\n",
        "           label='Train Error')\n",
        "  plt.plot(hist['epoch'], hist['val_mean_absolute_error'],\n",
        "           label = 'Val Error')\n",
        "  plt.ylim([0,2])\n",
        "  plt.legend()\n",
        "\n",
        "  plt.figure()\n",
        "  plt.xlabel('Epoch')\n",
        "  plt.ylabel('Mean Square Error [$ST^2$]')\n",
        "  plt.plot(hist['epoch'], hist['mean_squared_error'],\n",
        "           label='Train Error')\n",
        "  plt.plot(hist['epoch'], hist['val_mean_squared_error'],\n",
        "           label = 'Val Error')\n",
        "  plt.ylim([0,5])\n",
        "  plt.legend()\n",
        "  plt.show()\n",
        "\n",
        "\n",
        "plot_history(history_big)"
      ],
      "execution_count": null,
      "outputs": [
        {
          "output_type": "display_data",
          "data": {
            "image/png": "[encoded data removed]",
            "text/plain": [
              "<Figure size 432x288 with 1 Axes>"
            ]
          },
          "metadata": {
            "tags": [],
            "needs_background": "light"
          }
        },
        {
          "output_type": "display_data",
          "data": {
            "image/png": "[encoded data removed]",
            "text/plain": [
              "<Figure size 432x288 with 1 Axes>"
            ]
          },
          "metadata": {
            "tags": [],
            "needs_background": "light"
          }
        }
      ]
    },
    {
      "cell_type": "markdown",
      "metadata": {
        "id": "tMUM2ZMoGml3"
      },
      "source": [
        "The graph shows that on the validation set, the average error is usually around +/- 2 MPG. Is this good? We'll leave that decision up to you.\n",
        "\n",
        "Let's see how well the model generalizes by using the **test** set, which we did not use when training the model.  This tells us how well we can expect the model to predict when we use it in the real world."
      ]
    },
    {
      "cell_type": "code",
      "metadata": {
        "id": "fXVH-grGGml3",
        "colab": {
          "base_uri": "https://localhost:8080/"
        },
        "outputId": "c48f8acc-fce8-4723-907c-a27b26349be4"
      },
      "source": [
        "loss, mae, mse = model_big.evaluate(normed_test_data, test_labels, verbose=0)\n",
        "\n",
        "print(\"Testing set Mean Abs Error: {:5.2f} mN/m\".format(mae))"
      ],
      "execution_count": null,
      "outputs": [
        {
          "output_type": "stream",
          "text": [
            "Testing set Mean Abs Error:  1.47 mN/m\n"
          ],
          "name": "stdout"
        }
      ]
    },
    {
      "cell_type": "markdown",
      "metadata": {
        "id": "4ifGv8-hGml5"
      },
      "source": [
        "### Make predictions\n",
        "\n",
        "Finally, predict ST values using data in the testing set:"
      ]
    },
    {
      "cell_type": "code",
      "metadata": {
        "id": "Wi0BcB87Gml5",
        "colab": {
          "base_uri": "https://localhost:8080/",
          "height": 573
        },
        "outputId": "f78cee13-3f84-4bd1-909c-dbb0214c5de1"
      },
      "source": [
        "test_predictions_big = model_big.predict(normed_test_data).flatten()\n",
        "\n",
        "plt.scatter(test_labels, test_predictions_big)\n",
        "plt.title('Normalized test data')\n",
        "plt.xlabel('True Values [surface tension - mN/m]')\n",
        "plt.ylabel('Predictions [surface tension - mN/m]')\n",
        "plt.axis('equal')\n",
        "plt.axis('square')\n",
        "plt.xlim([10,75])\n",
        "plt.ylim([10,75])\n",
        "_ = plt.plot([-100, 100], [-100, 100])\n",
        "plt.show()\n",
        "\n",
        "test_predictions2_big = model_big.predict(normed_train_data).flatten()\n",
        "\n",
        "plt.scatter(train_labels, test_predictions2_big)\n",
        "plt.title('Normalized training data')\n",
        "plt.xlabel('True Values [surface tension - mN/m]')\n",
        "plt.ylabel('Predictions [surface tension - mN/m]')\n",
        "plt.axis('equal')\n",
        "plt.axis('square')\n",
        "plt.xlim([10,75])\n",
        "plt.ylim([10,75])\n",
        "_ = plt.plot([-100, 100], [-100, 100])\n",
        "plt.show()\n"
      ],
      "execution_count": null,
      "outputs": [
        {
          "output_type": "display_data",
          "data": {
            "image/png": "[encoded data removed]",
            "text/plain": [
              "<Figure size 432x288 with 1 Axes>"
            ]
          },
          "metadata": {
            "tags": [],
            "needs_background": "light"
          }
        },
        {
          "output_type": "display_data",
          "data": {
            "image/png": "[encoded data removed]",
            "text/plain": [
              "<Figure size 432x288 with 1 Axes>"
            ]
          },
          "metadata": {
            "tags": [],
            "needs_background": "light"
          }
        }
      ]
    },
    {
      "cell_type": "markdown",
      "metadata": {
        "id": "30DW9Dt9Gml8"
      },
      "source": [
        "Seriously?"
      ]
    },
    {
      "cell_type": "code",
      "metadata": {
        "id": "1zNzaL86Gml8",
        "colab": {
          "base_uri": "https://localhost:8080/",
          "height": 279
        },
        "outputId": "fa779963-8dc0-476d-da3b-4c7b1dfafed0"
      },
      "source": [
        "error_big = test_predictions_big - test_labels\n",
        "plt.hist(error_big, bins = 50)\n",
        "plt.xlabel(\"Prediction Error [mN/m]\")\n",
        "_ = plt.ylabel(\"Count\")\n",
        "#plt.ylim(0, 5)\n",
        "plt.show()"
      ],
      "execution_count": null,
      "outputs": [
        {
          "output_type": "display_data",
          "data": {
            "image/png": "[encoded data removed]",
            "text/plain": [
              "<Figure size 432x288 with 1 Axes>"
            ]
          },
          "metadata": {
            "tags": [],
            "needs_background": "light"
          }
        }
      ]
    },
    {
      "cell_type": "markdown",
      "metadata": {
        "id": "ZoPD_D4PLBwx"
      },
      "source": [
        "### Trying model No 3\n"
      ]
    },
    {
      "cell_type": "code",
      "metadata": {
        "id": "sZRUD8cgLHUk"
      },
      "source": [
        "def build_model():\n",
        "  model = keras.Sequential([\n",
        "    #layers.Dense(100, activation=tf.nn.relu, input_shape=[len(train_dataset.keys())]),\n",
        "    layers.Conv3D(64, kernel_size=(5,5, 5), strides=(1, 1, 1), activation=tf.nn.swish, input_shape=[len(train_dataset.keys())]),\n",
        "    layers.MaxPooling3D(pool_size=(2, 2, 2), strides=(1, 1, 1)),\n",
        "    layers.Conv3D(32, kernel_size=(5, 5, 5), strides=(1, 1, 1), activation=tf.nn.swish),\n",
        "    layers.MaxPooling3D(pool_size=(2, 2, 2), strides=(1, 1, 1)),\n",
        "    layers.Flatten(),\n",
        "    layers.Dense(14, activation=tf.nn.swish),\n",
        "    layers.Dense(5, activation=tf.nn.swish),\n",
        "    layers.Dense(1)\n",
        "  ])\n",
        "\n",
        "  optimizer = get_optimizer() # tf.keras.optimizers.Adam(learning_rate=0.001) #RMSprop(0.0001)\n",
        "  model.compile(loss='mean_squared_error',\n",
        "                optimizer=optimizer,\n",
        "                metrics=['mean_absolute_error', 'mean_squared_error'])\n",
        "  return model"
      ],
      "execution_count": 27,
      "outputs": []
    },
    {
      "cell_type": "markdown",
      "metadata": {
        "id": "wdKQPWPDuHDw"
      },
      "source": [
        "#### Reshape the data"
      ]
    },
    {
      "cell_type": "code",
      "metadata": {
        "colab": {
          "base_uri": "https://localhost:8080/"
        },
        "id": "eHLreNV8CMN8",
        "outputId": "d2489798-63e3-4d19-f520-23e1438f911a"
      },
      "source": [
        "print(normed_train_data.shape)"
      ],
      "execution_count": 31,
      "outputs": [
        {
          "output_type": "stream",
          "text": [
            "(80000, 350)\n"
          ],
          "name": "stdout"
        }
      ]
    },
    {
      "cell_type": "code",
      "metadata": {
        "colab": {
          "base_uri": "https://localhost:8080/"
        },
        "id": "qx5yUvg_CMN9",
        "outputId": "a5da7c57-10a5-4c9b-c094-3c0a8e64f91c"
      },
      "source": [
        "sample_size = normed_train_data.shape[0] # number of samples in train set\n",
        "time_steps  = normed_train_data.shape[1] # number of features in train set\n",
        "input_dimension = 1               # each feature is represented by 1 number\n",
        "\n",
        "train_data_reshaped = normed_train_data.values.reshape(sample_size,time_steps,input_dimension)\n",
        "\n",
        "input_shape=train_data_reshaped.shape\n",
        "print(input_shape)"
      ],
      "execution_count": 32,
      "outputs": [
        {
          "output_type": "stream",
          "text": [
            "(80000, 350, 1)\n"
          ],
          "name": "stdout"
        }
      ]
    },
    {
      "cell_type": "markdown",
      "metadata": {
        "id": "J0PpeGyXCMN9"
      },
      "source": [
        "#### Reshape test data"
      ]
    },
    {
      "cell_type": "code",
      "metadata": {
        "id": "Ihef5vFxCMN9"
      },
      "source": [
        "test_data_reshaped = normed_test_data.values.reshape(normed_test_data.shape[0], normed_test_data.shape[1], 1)"
      ],
      "execution_count": 41,
      "outputs": []
    },
    {
      "cell_type": "code",
      "metadata": {
        "id": "Gp7vRHKYCMN9"
      },
      "source": [
        "def build_model():\n",
        "  n_timesteps = train_data_reshaped.shape[1] #Number of features\n",
        "  n_features  = train_data_reshaped.shape[2] #Number of output(s)\n",
        "\n",
        "  model = keras.Sequential([\n",
        "    # layers.Input(shape=),\n",
        "    layers.Conv1D(filters=64, kernel_size=2, activation=\"relu\", input_shape=(n_timesteps,n_features)),\n",
        "    layers.MaxPooling1D(pool_size=1),\n",
        "    layers.BatchNormalization(),\n",
        "    layers.Conv1D(filters=64, kernel_size=2, activation=\"relu\"),\n",
        "    layers.MaxPooling1D(pool_size=1),\n",
        "    layers.BatchNormalization(),\n",
        "    # layers.GlobalAveragePooling3D(),\n",
        "    layers.Flatten(),\n",
        "    # layers.Dense(100, activation=tf.nn.softplus),\n",
        "    # layers.Dense(50, activation=tf.nn.tanh),\n",
        "    layers.Dense(10, activation=tf.nn.softplus),\n",
        "    layers.Dense(1)\n",
        "  ])\n",
        "\n",
        " # optimizer = tf.keras.optimizers.RMSprop(0.0001)\n",
        "\n",
        "  model.compile(loss='mean_squared_error',\n",
        "                optimizer=get_optimizer(),\n",
        "                metrics=['mean_absolute_error', 'mean_squared_error'])\n",
        "  return model"
      ],
      "execution_count": 33,
      "outputs": []
    },
    {
      "cell_type": "code",
      "metadata": {
        "id": "PeF3NEK6LHUt"
      },
      "source": [
        "CNN_model = build_model()"
      ],
      "execution_count": 37,
      "outputs": []
    },
    {
      "cell_type": "markdown",
      "metadata": {
        "id": "ZntoWrT9MMnb"
      },
      "source": [
        "### Inspect the model\n",
        "\n",
        "Use the `.summary` method to print a simple description of the model"
      ]
    },
    {
      "cell_type": "code",
      "metadata": {
        "id": "XVDN4MumMMne",
        "outputId": "4908c09e-3ec0-4b64-e6bd-40a1c0ee486a",
        "colab": {
          "base_uri": "https://localhost:8080/"
        }
      },
      "source": [
        "CNN_model.summary()"
      ],
      "execution_count": 38,
      "outputs": [
        {
          "output_type": "stream",
          "text": [
            "Model: \"sequential_3\"\n",
            "_________________________________________________________________\n",
            "Layer (type)                 Output Shape              Param #   \n",
            "=================================================================\n",
            "conv1d_2 (Conv1D)            (None, 349, 64)           192       \n",
            "_________________________________________________________________\n",
            "max_pooling1d_2 (MaxPooling1 (None, 349, 64)           0         \n",
            "_________________________________________________________________\n",
            "batch_normalization_2 (Batch (None, 349, 64)           256       \n",
            "_________________________________________________________________\n",
            "conv1d_3 (Conv1D)            (None, 348, 64)           8256      \n",
            "_________________________________________________________________\n",
            "max_pooling1d_3 (MaxPooling1 (None, 348, 64)           0         \n",
            "_________________________________________________________________\n",
            "batch_normalization_3 (Batch (None, 348, 64)           256       \n",
            "_________________________________________________________________\n",
            "flatten_2 (Flatten)          (None, 22272)             0         \n",
            "_________________________________________________________________\n",
            "dense_8 (Dense)              (None, 10)                222730    \n",
            "_________________________________________________________________\n",
            "dense_9 (Dense)              (None, 1)                 11        \n",
            "=================================================================\n",
            "Total params: 231,701\n",
            "Trainable params: 231,445\n",
            "Non-trainable params: 256\n",
            "_________________________________________________________________\n"
          ],
          "name": "stdout"
        }
      ]
    },
    {
      "cell_type": "markdown",
      "metadata": {
        "id": "qspbVMZNMMnf"
      },
      "source": [
        "\n",
        "Now try out the model. Take a batch of `10` examples from the training data and call `model.predict` on it."
      ]
    },
    {
      "cell_type": "code",
      "metadata": {
        "id": "lUbyl5J8MMnf",
        "outputId": "a389e16c-520f-4c62-cd2e-a5cda475a036",
        "colab": {
          "base_uri": "https://localhost:8080/"
        }
      },
      "source": [
        "example_batch = train_data_reshaped[:10]\n",
        "example_result = CNN_model.predict(example_batch)\n",
        "example_result"
      ],
      "execution_count": 42,
      "outputs": [
        {
          "output_type": "execute_result",
          "data": {
            "text/plain": [
              "array([[ 0.00243692],\n",
              "       [-0.04951726],\n",
              "       [-0.02673613],\n",
              "       [-0.01443946],\n",
              "       [-0.02190283],\n",
              "       [-0.0277923 ],\n",
              "       [-0.0004179 ],\n",
              "       [-0.02273078],\n",
              "       [-0.01826708],\n",
              "       [-0.00465822]], dtype=float32)"
            ]
          },
          "metadata": {
            "tags": []
          },
          "execution_count": 42
        }
      ]
    },
    {
      "cell_type": "markdown",
      "metadata": {
        "id": "twoy1EgBMMnf"
      },
      "source": [
        "It seems to be working, and it produces a result of the expected shape and type."
      ]
    },
    {
      "cell_type": "markdown",
      "metadata": {
        "id": "eE7Qfz0oMMng"
      },
      "source": [
        "### Train the model\n",
        "\n",
        "Train the model for 1000 epochs, and record the training and validation accuracy in the `history` object."
      ]
    },
    {
      "cell_type": "code",
      "metadata": {
        "id": "KcUVLqy1MMng"
      },
      "source": [
        "# Display training progress by printing a single dot for each completed epoch\n",
        "class PrintDot(keras.callbacks.Callback):\n",
        "  def on_epoch_end(self, epoch, logs):\n",
        "    if epoch % 100 == 0: print('')\n",
        "    print('.', end='')\n",
        "\n",
        "EPOCHS = 1000\n",
        "\n",
        "# The patience parameter is the amount of epochs to check for improvement\n",
        "early_stop = keras.callbacks.EarlyStopping(monitor='val_loss',min_delta=0, patience=15, verbose=0, mode='auto')\n",
        "\n",
        "history_CNN = CNN_model.fit(train_data_reshaped, train_labels,\n",
        "  epochs=EPOCHS, validation_split = 0.2, verbose=0,\n",
        "  callbacks=[early_stop, PrintDot()])  # callbacks=callbacks_list\n"
      ],
      "execution_count": null,
      "outputs": []
    },
    {
      "cell_type": "markdown",
      "metadata": {
        "id": "In64HnexMMnh"
      },
      "source": [
        "Visualize the model's training progress using the stats stored in the `history` object."
      ]
    },
    {
      "cell_type": "code",
      "metadata": {
        "id": "idExKIXeMMni"
      },
      "source": [
        "hist_big = pd.DataFrame(history_big.history)\n",
        "hist_big['epoch'] = history_big.epoch\n",
        "hist_big.tail() "
      ],
      "execution_count": null,
      "outputs": []
    },
    {
      "cell_type": "code",
      "metadata": {
        "id": "AbwAAkxGMMni"
      },
      "source": [
        "def plot_history(history):\n",
        "  hist = pd.DataFrame(history.history)\n",
        "  hist['epoch'] = history.epoch\n",
        "\n",
        "  plt.figure()\n",
        "  plt.xlabel('Epoch')\n",
        "  plt.ylabel('Mean Abs Error [ST]')\n",
        "  plt.plot(hist['epoch'], hist['mean_absolute_error'],\n",
        "           label='Train Error')\n",
        "  plt.plot(hist['epoch'], hist['val_mean_absolute_error'],\n",
        "           label = 'Val Error')\n",
        "  plt.ylim([0,2])\n",
        "  plt.legend()\n",
        "\n",
        "  plt.figure()\n",
        "  plt.xlabel('Epoch')\n",
        "  plt.ylabel('Mean Square Error [$ST^2$]')\n",
        "  plt.plot(hist['epoch'], hist['mean_squared_error'],\n",
        "           label='Train Error')\n",
        "  plt.plot(hist['epoch'], hist['val_mean_squared_error'],\n",
        "           label = 'Val Error')\n",
        "  plt.ylim([0,5])\n",
        "  plt.legend()\n",
        "  plt.show()\n",
        "\n",
        "\n",
        "plot_history(history_big)"
      ],
      "execution_count": null,
      "outputs": []
    },
    {
      "cell_type": "markdown",
      "metadata": {
        "id": "AlxGpxupMMni"
      },
      "source": [
        "The graph shows that on the validation set, the average error is usually around +/- 2 MPG. Is this good? We'll leave that decision up to you.\n",
        "\n",
        "Let's see how well the model generalizes by using the **test** set, which we did not use when training the model.  This tells us how well we can expect the model to predict when we use it in the real world."
      ]
    },
    {
      "cell_type": "code",
      "metadata": {
        "id": "xdFKCSBqMMni"
      },
      "source": [
        "loss, mae, mse = model_big.evaluate(normed_test_data, test_labels, verbose=0)\n",
        "\n",
        "print(\"Testing set Mean Abs Error: {:5.2f} mN/m\".format(mae))"
      ],
      "execution_count": null,
      "outputs": []
    },
    {
      "cell_type": "markdown",
      "metadata": {
        "id": "_Aumx2-VMMnj"
      },
      "source": [
        "### Make predictions\n",
        "\n",
        "Finally, predict ST values using data in the testing set:"
      ]
    },
    {
      "cell_type": "code",
      "metadata": {
        "id": "Gn-HG3aFMMnj"
      },
      "source": [
        "test_predictions_big = model_big.predict(normed_test_data).flatten()\n",
        "\n",
        "plt.scatter(test_labels, test_predictions_big)\n",
        "plt.title('Normalized test data')\n",
        "plt.xlabel('True Values [surface tension - mN/m]')\n",
        "plt.ylabel('Predictions [surface tension - mN/m]')\n",
        "plt.axis('equal')\n",
        "plt.axis('square')\n",
        "plt.xlim([10,75])\n",
        "plt.ylim([10,75])\n",
        "_ = plt.plot([-100, 100], [-100, 100])\n",
        "plt.show()\n",
        "\n",
        "test_predictions2_big = model_big.predict(normed_train_data).flatten()\n",
        "\n",
        "plt.scatter(train_labels, test_predictions2_big)\n",
        "plt.title('Normalized training data')\n",
        "plt.xlabel('True Values [surface tension - mN/m]')\n",
        "plt.ylabel('Predictions [surface tension - mN/m]')\n",
        "plt.axis('equal')\n",
        "plt.axis('square')\n",
        "plt.xlim([10,75])\n",
        "plt.ylim([10,75])\n",
        "_ = plt.plot([-100, 100], [-100, 100])\n",
        "plt.show()\n"
      ],
      "execution_count": null,
      "outputs": []
    },
    {
      "cell_type": "markdown",
      "metadata": {
        "id": "f0mwvrhIMMnj"
      },
      "source": [
        "Seriously?"
      ]
    },
    {
      "cell_type": "code",
      "metadata": {
        "id": "wwhGkUuyMMnj"
      },
      "source": [
        "error_big = test_predictions_big - test_labels\n",
        "plt.hist(error_big, bins = 50)\n",
        "plt.xlabel(\"Prediction Error [mN/m]\")\n",
        "_ = plt.ylabel(\"Count\")\n",
        "#plt.ylim(0, 5)\n",
        "plt.show()"
      ],
      "execution_count": null,
      "outputs": []
    },
    {
      "cell_type": "markdown",
      "metadata": {
        "id": "r-i0Bq5JF0nv"
      },
      "source": [
        "# Saving the final Model"
      ]
    },
    {
      "cell_type": "markdown",
      "metadata": {
        "id": "G8FBhOnbGK65"
      },
      "source": [
        "When you are satisfied with the model and the accuracy continue from here:"
      ]
    },
    {
      "cell_type": "markdown",
      "metadata": {
        "id": "TvCBPgR-gWXl"
      },
      "source": [
        "Run the next code box only if google drive is not mounted to colab"
      ]
    },
    {
      "cell_type": "code",
      "metadata": {
        "id": "7dA-joJRPNiJ",
        "colab": {
          "base_uri": "https://localhost:8080/"
        },
        "outputId": "87166b48-8a9a-46db-dae1-41c76ead1781"
      },
      "source": [
        "from google.colab import drive\n",
        "drive.mount('/content/drive')"
      ],
      "execution_count": null,
      "outputs": [
        {
          "output_type": "stream",
          "text": [
            "Mounted at /content/drive\n"
          ],
          "name": "stdout"
        }
      ]
    },
    {
      "cell_type": "markdown",
      "metadata": {
        "id": "BspL3Z6-GPaa"
      },
      "source": [
        "Saving the model in a **SavedModel** format"
      ]
    },
    {
      "cell_type": "code",
      "metadata": {
        "id": "VwWrwBcZGLnZ"
      },
      "source": [
        "!pip install -q pyyaml h5py  # Required to save models in HDF5 format"
      ],
      "execution_count": null,
      "outputs": []
    },
    {
      "cell_type": "code",
      "metadata": {
        "id": "6BR7rbL5GXku"
      },
      "source": [
        "import os"
      ],
      "execution_count": null,
      "outputs": []
    },
    {
      "cell_type": "code",
      "metadata": {
        "id": "MzumSsZfGYCp"
      },
      "source": [
        "# Save the entire model as a SavedModel.\n",
        "folder=str('theoretical_all_vary/')\n",
        "filename=str('model_all_vary_with_Ps_noise_Ps_1000_2500_2_5μL_25_72mN_m_no_noise_train3.h5')\n",
        "#!mkdir -p '/content/drive/My Drive/DropLev/MachineLearningModels' #Ceates a folder named \"MachineLearningModels\"\n",
        "model.save('/content/drive/My Drive/DropLev/MachineLearningModels/'+folder+filename)  #Saves the file"
      ],
      "execution_count": null,
      "outputs": []
    },
    {
      "cell_type": "markdown",
      "metadata": {
        "id": "oZcqRI0r9B4r"
      },
      "source": [
        "# Reload a fresh Keras model from the saved model:"
      ]
    },
    {
      "cell_type": "markdown",
      "metadata": {
        "id": "W6mEqNn497op"
      },
      "source": [
        "For **SavedModel** format"
      ]
    },
    {
      "cell_type": "code",
      "metadata": {
        "id": "c4vUC4ep8_VA",
        "colab": {
          "base_uri": "https://localhost:8080/",
          "height": 250
        },
        "outputId": "cd46a4fd-af73-4a6e-be19-09cb2a856130"
      },
      "source": [
        "folder=str('theoretical_only_Ps_vary/')\n",
        "filename=str('test_training_Ps_1800_3000_3μL.h5')\n",
        "\n",
        "model = tf.keras.models.load_model('/content/drive/My Drive/DropLev/MachineLearningModels/'+folder+filename)\n",
        "\n",
        "# Check its architecture\n",
        "model.summary()"
      ],
      "execution_count": null,
      "outputs": [
        {
          "output_type": "stream",
          "text": [
            "Model: \"sequential_1\"\n",
            "_________________________________________________________________\n",
            "Layer (type)                 Output Shape              Param #   \n",
            "=================================================================\n",
            "dense_3 (Dense)              (None, 14)                4928      \n",
            "_________________________________________________________________\n",
            "dense_4 (Dense)              (None, 5)                 75        \n",
            "_________________________________________________________________\n",
            "dense_5 (Dense)              (None, 1)                 6         \n",
            "=================================================================\n",
            "Total params: 5,009\n",
            "Trainable params: 5,009\n",
            "Non-trainable params: 0\n",
            "_________________________________________________________________\n"
          ],
          "name": "stdout"
        }
      ]
    },
    {
      "cell_type": "markdown",
      "metadata": {
        "id": "j1K6xGBg9K4A"
      },
      "source": [
        "View the MAE of the saved and re-called model:"
      ]
    },
    {
      "cell_type": "code",
      "metadata": {
        "id": "if5rjrz79NPI"
      },
      "source": [
        "# Evaluation\n",
        "loss, mae, mse = model.evaluate(normed_test_data, test_labels, verbose=0)\n",
        "print('Restored model, Mean absolute error: {:5.2f}'.format(mae))\n"
      ],
      "execution_count": null,
      "outputs": []
    },
    {
      "cell_type": "markdown",
      "metadata": {
        "id": "SfiEXBeBbCcr"
      },
      "source": [
        "### Genarate new data and evaluate the saved model"
      ]
    },
    {
      "cell_type": "code",
      "metadata": {
        "id": "93WuLc7ybJoC",
        "colab": {
          "base_uri": "https://localhost:8080/",
          "height": 1000
        },
        "outputId": "b49bd0f3-c30c-415f-be24-c1efcf22f6f5"
      },
      "source": [
        "def norm_test(x):\n",
        "  return (x - stats_input_df['mean']) / stats_input_df['std']\n",
        "\n",
        "#import model from drive\n",
        "#filename=str('test_training_whole_drop_best.h5')\n",
        "#model = tf.keras.models.load_model('/content/drive/My Drive/DropLev/MachineLearningModels/'+filename)\n",
        "\n",
        "\n",
        "num_sample_test=25\n",
        "sampling=175\n",
        "vol_drop=np.random.random(num_sample_test)*(7-2)+2\n",
        "R_sph=calc_R_sph(vol_drop[i], calibration)\n",
        "Ps=np.random.random(num_sample_test)*(2000-1000)+2000 #Pa\n",
        "theta_test=np.random.rand(num_sample_test, sampling)*np.pi*2\n",
        "theta_test.sort()\n",
        "\n",
        "ST_test=np.random.random(num_sample_test)*(72-25)+25\n",
        "\n",
        "r_all_test=np.empty([0,sampling])\n",
        "\n",
        "for i in range(num_sample_test):\n",
        "  r_test=R_predict(theta_test[i], ST_test[i], R_sph[i], Ps[i], Cg_air, k_o)\n",
        "  r_all_test=np.vstack((r_all_test, r_test))\n",
        "\n",
        "test_dataset=np.hstack((theta_test,r_all_test, ST_test.reshape([num_sample_test,1])))\n",
        "\n",
        "############### Adding noise #############################\n",
        "noise = np.random.random(size=test_dataset.shape)*0.1\n",
        "#print(noise)\n",
        "test_dataset=test_dataset+noise\n",
        "plt.figure()\n",
        "plt.plot(test_dataset[0, 0:sampling], test_dataset[0, sampling:sampling*2])\n",
        "##########################################################\n",
        "\n",
        "input_array=test_dataset[:, 0:sampling*2]\n",
        "input_df=pd.DataFrame(input_array, index=None, dtype=float)\n",
        "\n",
        "stats_input_df=input_df.describe()\n",
        "stats_input_df=stats_input_df.transpose()\n",
        "\n",
        "norm_input_array=norm_test(input_df)\n",
        "prediction=model.predict(norm_input_array).flatten()\n",
        "true_values=test_dataset[:, sampling*2]\n",
        "\n",
        "plt.figure()\n",
        "plt.xlabel('Frame number')\n",
        "plt.ylabel('Surface tension [ mN/m ]')\n",
        "plt.ylim(20, 75)\n",
        "plt.plot(prediction, label='Predicted values')\n",
        "plt.plot(true_values, label='Real values')\n",
        "plt.legend()\n",
        "\n",
        "plt.figure()\n",
        "plt.scatter(true_values, prediction)\n",
        "plt.title('Normalized new test data')\n",
        "plt.xlabel('True Values [surface tension - mN/m]')\n",
        "plt.ylabel('Predictions [surface tension - mN/m]')\n",
        "plt.axis('equal')\n",
        "plt.axis('square')\n",
        "plt.xlim([10,75])\n",
        "plt.ylim([10,75])\n",
        "_ = plt.plot([-100, 100], [-100, 100])\n",
        "plt.show()\n",
        "\n",
        "error = prediction - true_values\n",
        "plt.figure()\n",
        "plt.hist(error, bins = 50)\n",
        "plt.xlabel(\"Prediction Error [mN/m]\")\n",
        "_ = plt.ylabel(\"Count\")\n",
        "plt.show()\n"
      ],
      "execution_count": null,
      "outputs": [
        {
          "output_type": "display_data",
          "data": {
            "image/png": "[encoded data removed]",
            "text/plain": [
              "<Figure size 432x288 with 1 Axes>"
            ]
          },
          "metadata": {
            "tags": [],
            "needs_background": "light"
          }
        },
        {
          "output_type": "display_data",
          "data": {
            "image/png": "[encoded data removed]",
            "text/plain": [
              "<Figure size 432x288 with 1 Axes>"
            ]
          },
          "metadata": {
            "tags": [],
            "needs_background": "light"
          }
        },
        {
          "output_type": "display_data",
          "data": {
            "image/png": "[encoded data removed]",
            "text/plain": [
              "<Figure size 432x288 with 1 Axes>"
            ]
          },
          "metadata": {
            "tags": [],
            "needs_background": "light"
          }
        },
        {
          "output_type": "display_data",
          "data": {
            "image/png": "[encoded data removed]",
            "text/plain": [
              "<Figure size 432x288 with 1 Axes>"
            ]
          },
          "metadata": {
            "tags": [],
            "needs_background": "light"
          }
        }
      ]
    }
  ]
}