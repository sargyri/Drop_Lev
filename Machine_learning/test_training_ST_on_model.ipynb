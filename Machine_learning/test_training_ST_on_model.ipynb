{
  "nbformat": 4,
  "nbformat_minor": 0,
  "metadata": {
    "colab": {
      "name": "test_training_ST_on_model.ipynb",
      "provenance": [],
      "collapsed_sections": []
    },
    "kernelspec": {
      "display_name": "Python 3",
      "language": "python",
      "name": "python3"
    },
    "language_info": {
      "codemirror_mode": {
        "name": "ipython",
        "version": 3
      },
      "file_extension": ".py",
      "mimetype": "text/x-python",
      "name": "python",
      "nbconvert_exporter": "python",
      "pygments_lexer": "ipython3",
      "version": "3.6.9"
    }
  },
  "cells": [
    {
      "cell_type": "code",
      "metadata": {
        "colab_type": "code",
        "id": "IbpYKApN-KAR",
        "scrolled": true,
        "colab": {
          "base_uri": "https://localhost:8080/",
          "height": 124
        },
        "outputId": "0756bef5-d08c-4d54-dcf0-f6d94c15ddcc"
      },
      "source": [
        "!pip install lmfit\n",
        "#!pip install seaborn"
      ],
      "execution_count": 3,
      "outputs": [
        {
          "output_type": "stream",
          "text": [
            "Requirement already satisfied: lmfit in /usr/local/lib/python3.6/dist-packages (1.0.1)\n",
            "Requirement already satisfied: scipy>=1.2 in /usr/local/lib/python3.6/dist-packages (from lmfit) (1.4.1)\n",
            "Requirement already satisfied: uncertainties>=3.0.1 in /usr/local/lib/python3.6/dist-packages (from lmfit) (3.1.4)\n",
            "Requirement already satisfied: numpy>=1.16 in /usr/local/lib/python3.6/dist-packages (from lmfit) (1.18.5)\n",
            "Requirement already satisfied: asteval>=0.9.16 in /usr/local/lib/python3.6/dist-packages (from lmfit) (0.9.19)\n",
            "Requirement already satisfied: future in /usr/local/lib/python3.6/dist-packages (from uncertainties>=3.0.1->lmfit) (0.16.0)\n"
          ],
          "name": "stdout"
        }
      ]
    },
    {
      "cell_type": "code",
      "metadata": {
        "colab_type": "code",
        "id": "jyE0M3V99EdP",
        "scrolled": true,
        "colab": {
          "base_uri": "https://localhost:8080/",
          "height": 108
        },
        "outputId": "d3a6978e-0217-4f03-85b0-eb3d353a4643"
      },
      "source": [
        "import numpy as np\n",
        "#import cv2\n",
        "import os\n",
        "import re\n",
        "import glob\n",
        "import matplotlib.pyplot as plt\n",
        "from scipy.signal import  gaussian\n",
        "from scipy.ndimage import filters\n",
        "from scipy import optimize\n",
        "from scipy.stats import linregress\n",
        "from mpl_toolkits.mplot3d import Axes3D\n",
        "\n",
        "import seaborn as sns\n",
        "\n",
        "import scipy as sp\n",
        "import scipy.interpolate\n",
        "from scipy.integrate import trapz\n",
        "\n",
        "import time\n",
        "\n",
        "import pandas as pd\n",
        "\n",
        "from lmfit import Model, fit_report, Parameters\n",
        "\n",
        "#from __future__ import absolute_import, division, print_function, unicode_literals\n",
        "\n",
        "import pathlib\n",
        "\n",
        "import matplotlib.pyplot as plt\n",
        "import pandas as pd\n",
        "import seaborn as sns\n",
        "\n",
        "import tensorflow as tf\n",
        "from tensorflow import keras\n",
        "from tensorflow.keras import layers\n",
        "\n",
        "import io\n",
        "\n",
        "print(tf.__version__)\n",
        "print(\"Num GPUs Available: \", len(tf.config.experimental.list_physical_devices('GPU')))\n",
        "\n",
        "\n",
        "######### initialize the data ###############\n",
        "data_input=[]\n",
        "data_output=[]\n",
        "l_sample=300\n",
        "vol_all=[]\n",
        "vol2_all=[]\n",
        "data_x=[]\n",
        "data_y=[]\n",
        "data_h=[]\n",
        "data_w=[]\n",
        "R_sph_all=[]\n",
        "Ar=[]\n",
        "#st_all=[]\n",
        "rho=[]\n",
        "theta=[]\n",
        "#List of non-processed images:\n",
        "discarded=[]\n",
        "new=[]  #list of images without the discarded ones\n",
        "\n",
        "#For the simple approach fit\n",
        "phi_final=[]\n",
        "theta_az=[]\n",
        "theta_all=[]\n",
        "theta_final=[]\n",
        "r_theta_all=[]\n",
        "xc_all=[]\n",
        "yc_all=[]\n",
        "rho_final=[]\n",
        "data_Ps=[]\n",
        "data_dB=[]\n",
        "data_stderr=[]\n",
        "data_err=[]\n",
        "\n",
        "total_num_pictures = len(glob.glob1('.',\"*.png\"))\n",
        "frame_number=np.arange(total_num_pictures)\n",
        "\n",
        "gamma=64 #[N/m]\n",
        "Cg_air=1/101325 #Pa**(-1)\n",
        "k_o=2*np.pi*40/340  #wave number in the air. frequency 40kHz (25kH=0.000040sec) and speed of sound in air v=340 m/s from paper (331.5 for 20oC online) \n",
        "#Calibration\n",
        "needle_d=0.83 #mm\n",
        "needle_pxl=220 #pixels\n",
        "#calibration=0.00621722846441948**3\n",
        "cal=needle_d/needle_pxl\n",
        "calibration=(cal)**3\n",
        "\n",
        "\n",
        "###############################################################################\n",
        "#### Functions used in the data processing ####################################\n",
        "###############################################################################\n",
        "\n",
        "def calc_volume(x,y):\n",
        "    \"\"\"\n",
        "    Calculate the drop volume from a shape matrix.\n",
        "\n",
        "    Parameters\n",
        "    ----------\n",
        "    x, y - contour of the drop\n",
        "\n",
        "    Returns\n",
        "    -------\n",
        "    Integrated volume using for the given shape matrix.\n",
        "\n",
        "    \"\"\"\n",
        "    # data selection\n",
        "    idx=x<=0  # r=right\n",
        "    x_l=x[idx]\n",
        "    y_l=y[idx]\n",
        "        \n",
        "    vol_left=trapz(np.pi*x_l**2, y_l)/2\n",
        "        \n",
        "    # data selection\n",
        "    idx=x>=0  # r=right\n",
        "    x_r=x[idx]\n",
        "    y_r=y[idx]\n",
        "    vol_right=-trapz(np.pi*x_r**2, y_r)/2\n",
        "   \n",
        "    return vol_left+vol_right\n",
        "\n",
        "\n",
        "def calc_R_sph(vol, cal):\n",
        "    \"\"\"\n",
        "    Calculate the spherical radius of a droplet based on the volume.\n",
        "\n",
        "    Input parameters\n",
        "    ----------\n",
        "    vol:         volume   [pixels**3]\n",
        "    calibration: calibration factor  [mm**3/pixels**3]\n",
        "\n",
        "    Returns\n",
        "    -------\n",
        "    Corresponding spherical radius.  [mm]\n",
        "\n",
        "    \"\"\"\n",
        "#    calibration=0.00621722846441948**3\n",
        "    #R_sph=(3*vol*calibration/(4*np.pi))**(1/3)\n",
        "    R_sph=(3*vol/(4*np.pi))**(1/3)\n",
        "    return R_sph\n",
        "\n",
        "def calc_dB(Ps):\n",
        "    \"\"\"\n",
        "    Calculate the deci Bell (dB) value for each acoustic pressure Ps.\n",
        "\n",
        "    Input parameters\n",
        "    ----------\n",
        "    Ps:     aplitude of the acoustic pressure\n",
        "\n",
        "    Returns\n",
        "    -------\n",
        "    dB value. []\n",
        "\n",
        "    \"\"\"\n",
        "    Po=2*10**(-5) #[Pa]\n",
        "\n",
        "    return 20*np.log10(Ps/Po)     #Acoustic pressure [Pa]\n",
        "\n",
        "def model_fit(th, Ps):\n",
        "    \"\"\"\n",
        "    Express the model that will be used to fit the experimental data (simple approach).\n",
        "\n",
        "    Input parameters\n",
        "    ----------\n",
        "    dB:     deciBell\n",
        "    th:     angle theta\n",
        "    Returns\n",
        "    -------\n",
        "    Expression of fitting model.\n",
        "\n",
        "    \"\"\"\n",
        "#    Ps=calc_ampl(dB)\n",
        "    ct_new=-((3/(64*gamma))*R_sph**2*Ps**2*Cg_air*(1+((7/5)*(k_o*R_sph)**2)))\n",
        "    return ct_new*(3*(np.cos(th))**2-1)+R_sph\n",
        "\n",
        "\n",
        "def R_predict(th, gamma, R_sph, Ps, Cg_air, k_o):\n",
        "    \"\"\"\n",
        "    Prediction of ST. \n",
        "    After the acoustic pressure is determined. The ST is calculated based on the equation of our model. \n",
        "    \n",
        "    \n",
        "    Input parameters\n",
        "    ----------\n",
        "    th:     angle theta\n",
        "    gamma:  ST as initial predition [mN/m]\n",
        "    Power:  U*I [Watt]\n",
        "    Returns\n",
        "    -------\n",
        "    gamma:   predicted surface tension [mN/m]\n",
        "\n",
        "    \"\"\"    \n",
        "#    Ps=data_Ps[i-1]    #[Pa]\n",
        "    ct_new=-((3/(64*gamma))*R_sph**2*Ps**2*Cg_air*(1+((7/5)*(k_o*R_sph)**2)))*(3*(np.cos(th))**2-1)\n",
        "    return ct_new+R_sph\n",
        "\n",
        "def ST_predict(th, gamma, R_sph, Ps, Cg_air, k_o):\n",
        "    \"\"\"\n",
        "    Prediction of ST. \n",
        "    After the acoustic pressure is determined. The ST is calculated based on the equation of our model. \n",
        "    \n",
        "    \n",
        "    Input parameters\n",
        "    ----------\n",
        "    th:     angle theta\n",
        "    gamma:  ST as initial predition [mN/m]\n",
        "    Power:  U*I [Watt]\n",
        "    Returns\n",
        "    -------\n",
        "    gamma:   predicted surface tension [mN/m]\n",
        "\n",
        "    \"\"\"    \n",
        "#    Ps=data_Ps[i-1]    #[Pa]\n",
        "    ct_new=-((3/(64*gamma))*R_sph**2*Ps**2*Cg_air*(1+((7/5)*(k_o*R_sph)**2)))*(3*(np.cos(th))**2-1)\n",
        "    return ct_new+R_sph\n",
        "\n",
        "\n",
        "def azimuth(phi):\n",
        "    \"\"\"\n",
        "    Calculate the azimuthal angle.\n",
        "\n",
        "    Input parameters\n",
        "    ----------\n",
        "    phi:     angle phi\n",
        "\n",
        "    Returns\n",
        "    -------\n",
        "    Azimuthal angle.\n",
        "\n",
        "    \"\"\"\n",
        "\n",
        "    if phi<=np.pi/2:\n",
        "        a=np.pi/2-phi\n",
        "    else:\n",
        "        a=2.5*np.pi-phi\n",
        "    return a\n",
        "\n",
        "\n",
        "def cart2pol(x, y):\n",
        "    rho = np.sqrt(x**2 + y**2)\n",
        "    theta = np.arctan2(y, x)\n",
        "    return(theta, rho)\n",
        "\n",
        "def pol2cart(rho, phi):\n",
        "    x = rho * np.cos(phi)\n",
        "    y = rho * np.sin(phi)\n",
        "    return(x, y)\n",
        "\n",
        "\n",
        "def pol2cart_theta(rho, theta):\n",
        "    x = rho * np.sin(theta)\n",
        "    y = rho * np.cos(theta)\n",
        "    return(x, y)"
      ],
      "execution_count": 4,
      "outputs": [
        {
          "output_type": "stream",
          "text": [
            "/usr/local/lib/python3.6/dist-packages/statsmodels/tools/_testing.py:19: FutureWarning: pandas.util.testing is deprecated. Use the functions in the public API at pandas.testing instead.\n",
            "  import pandas.util.testing as tm\n"
          ],
          "name": "stderr"
        },
        {
          "output_type": "stream",
          "text": [
            "2.3.0\n",
            "Num GPUs Available:  0\n"
          ],
          "name": "stdout"
        }
      ]
    },
    {
      "cell_type": "markdown",
      "metadata": {
        "colab_type": "text",
        "id": "lsGCO8nDUAlJ"
      },
      "source": [
        "Generate random angle:\n",
        "20 000 sets of 200 points"
      ]
    },
    {
      "cell_type": "code",
      "metadata": {
        "colab_type": "code",
        "id": "k2AMjiCZT_5m",
        "colab": {
          "base_uri": "https://localhost:8080/",
          "height": 515
        },
        "outputId": "584c89f8-ee1c-49e5-8f92-9276ca4bdb95"
      },
      "source": [
        "theta_all=[]\n",
        "def gen_data(num_sample,sampling):\n",
        "\n",
        "    np.random.seed(1234)\n",
        "\n",
        "    #test=np.arange(100)\n",
        "    #test_r=np.random.choice(test,10)\n",
        "\n",
        "    vol_drop=np.random.random(num_sample)*(7-2)+2 # in µL\n",
        "    calibration=0.0060567117466506235e-3 #mm/pixel\n",
        "  \n",
        "    #gamma=72.8 #[mN/m]   \n",
        "    Cg_air=1/101325 #Pa**(-1)\n",
        "    k_o=2*np.pi*40/340  #wave number in the air in [mm^-1]. frequency 40kHz (25kH=0.000040sec) and speed of sound in air v=340 m/s from paper (331.5 for 20oC online) \n",
        "    #Calibration\n",
        "    Ps=np.random.random(num_sample)*(2150-1500)+1500  #[Pa]\n",
        "    #for i in range(num_sample):\n",
        "    R_sph=calc_R_sph(vol_drop, calibration)\n",
        "\n",
        "   # print(\"Radius in mm: \", R_sph)\n",
        "\n",
        "    #theta=np.linspace(0,2*np.pi, 100)\n",
        "\n",
        "    #theta=np.random.random(200)*2*np.pi\n",
        "    theta=np.random.rand(num_sample, sampling)*np.pi*2\n",
        "    theta.sort()\n",
        "    \n",
        "    ST_range=np.random.random(num_sample)*(72-25)+25\n",
        "    #print(theta.shape)\n",
        "    r_all=np.empty([0,sampling])\n",
        "    #print(r_all.shape)\n",
        "\n",
        "    for i in range(num_sample):\n",
        "        r=R_predict(theta[i], ST_range[i], R_sph[i], Ps[i], Cg_air, k_o)\n",
        "          #print(r.shape)\n",
        "         #print(r)\n",
        "        r_all=np.vstack((r_all, r))\n",
        "        \n",
        "        if i % 10000 == 0:\n",
        "                print(i)\n",
        "        \n",
        "\n",
        "    #print(r_all.shape)\n",
        "\n",
        "    dataset=np.hstack((theta,r_all, vol_drop.reshape([num_sample,1]), Ps.reshape([num_sample,1]), ST_range.reshape([num_sample,1])))\n",
        "    #print(dataset.shape)\n",
        "\n",
        "    #print(ST_range)\n",
        "    print(ST_range.min())\n",
        "    print(ST_range.max())\n",
        "    #sns.set(color_codes=True)\n",
        "    plt.figure()\n",
        "    plt.ylabel('Count')\n",
        "    plt.xlabel('Surface tension [mN/m]')\n",
        "    sns.distplot(ST_range)\n",
        "    plt.figure()\n",
        "    plt.ylabel('Count')\n",
        "    plt.xlabel('Acoustic pressure [Pa]')\n",
        "    sns.distplot(Ps)\n",
        "    plt.figure()\n",
        "    plt.ylabel('Count')\n",
        "    plt.xlabel('Volume [μL]')\n",
        "    sns.distplot(vol_drop)\n",
        "\n",
        "    fig3 = plt.figure()\n",
        "    ax = plt.gca()\n",
        "    ax.set_aspect(1)\n",
        "    ax.set_xlim([-1.5,1.5])\n",
        "    ax.set_ylim([-1.5,1.5])\n",
        "    \n",
        "\n",
        "    for j in dataset:\n",
        "\n",
        "      x,y=pol2cart_theta(j[sampling:sampling+sampling], j[0:sampling])\n",
        "    #  print(x.shape)\n",
        "    #  print(y.shape)\n",
        "\n",
        "      #plt.plot(x*1e3,y*1e3)\n",
        "      plt.plot(x,y)\n",
        "\n",
        "    plt.show()\n",
        "    return dataset\n",
        "\n",
        "num_sample=300000  # number of different ST values\n",
        "sampling=175 # number of coordiante point describing the contour\n",
        "\n",
        "\n",
        "dataset=gen_data(num_sample,sampling)\n",
        "\n",
        "\n",
        "column_names=[]\n",
        "for i in range(sampling):\n",
        "  column_names.append('theta')\n",
        "for i in range(sampling):\n",
        "  column_names.append('rho')\n",
        "column_names.append('vol')\n",
        "column_names.append('Ps')\n",
        "column_names.append('ST')\n",
        "\n",
        "\n",
        "raw_dataset = pd.DataFrame(dataset, columns=column_names)\n",
        "\n",
        "raw_dataset.to_csv('./dataset.csv',index=False)\n"
      ],
      "execution_count": null,
      "outputs": [
        {
          "output_type": "stream",
          "text": [
            "0\n",
            "10000\n",
            "20000\n",
            "30000\n",
            "40000\n",
            "50000\n",
            "60000\n",
            "70000\n",
            "80000\n",
            "90000\n",
            "100000\n",
            "110000\n",
            "120000\n",
            "130000\n",
            "140000\n",
            "150000\n",
            "160000\n",
            "170000\n",
            "180000\n",
            "190000\n",
            "200000\n",
            "210000\n",
            "220000\n",
            "230000\n",
            "240000\n",
            "250000\n",
            "260000\n",
            "270000\n"
          ],
          "name": "stdout"
        }
      ]
    },
    {
      "cell_type": "code",
      "metadata": {
        "colab_type": "code",
        "id": "l83INVYlZsND",
        "colab": {}
      },
      "source": [
        "\n",
        "#input = pd.read_csv(io.BytesIO(uploaded['data.csv']))\n",
        "#input = pd.DataFrame(dataset)\n",
        "# Dataset is now stored in a Pandas Dataframe\n",
        "#input.size\n"
      ],
      "execution_count": null,
      "outputs": []
    },
    {
      "cell_type": "code",
      "metadata": {
        "colab_type": "code",
        "id": "CiX2FI4gZtTt",
        "colab": {
          "base_uri": "https://localhost:8080/",
          "height": 243
        },
        "outputId": "2f05f4c7-a642-4516-fd2e-e7cf8eb775e9"
      },
      "source": [
        "# loading of data\n",
        "\n",
        "raw_dataset=pd.read_csv('dataset.csv')\n",
        "\n",
        "dataset = raw_dataset.copy()\n",
        "dataset.tail()"
      ],
      "execution_count": 12,
      "outputs": [
        {
          "output_type": "execute_result",
          "data": {
            "text/html": [
              "<div>\n",
              "<style scoped>\n",
              "    .dataframe tbody tr th:only-of-type {\n",
              "        vertical-align: middle;\n",
              "    }\n",
              "\n",
              "    .dataframe tbody tr th {\n",
              "        vertical-align: top;\n",
              "    }\n",
              "\n",
              "    .dataframe thead th {\n",
              "        text-align: right;\n",
              "    }\n",
              "</style>\n",
              "<table border=\"1\" class=\"dataframe\">\n",
              "  <thead>\n",
              "    <tr style=\"text-align: right;\">\n",
              "      <th></th>\n",
              "      <th>theta</th>\n",
              "      <th>theta.1</th>\n",
              "      <th>theta.2</th>\n",
              "      <th>theta.3</th>\n",
              "      <th>theta.4</th>\n",
              "      <th>theta.5</th>\n",
              "      <th>theta.6</th>\n",
              "      <th>theta.7</th>\n",
              "      <th>theta.8</th>\n",
              "      <th>theta.9</th>\n",
              "      <th>theta.10</th>\n",
              "      <th>theta.11</th>\n",
              "      <th>theta.12</th>\n",
              "      <th>theta.13</th>\n",
              "      <th>theta.14</th>\n",
              "      <th>theta.15</th>\n",
              "      <th>theta.16</th>\n",
              "      <th>theta.17</th>\n",
              "      <th>theta.18</th>\n",
              "      <th>theta.19</th>\n",
              "      <th>theta.20</th>\n",
              "      <th>theta.21</th>\n",
              "      <th>theta.22</th>\n",
              "      <th>theta.23</th>\n",
              "      <th>theta.24</th>\n",
              "      <th>theta.25</th>\n",
              "      <th>theta.26</th>\n",
              "      <th>theta.27</th>\n",
              "      <th>theta.28</th>\n",
              "      <th>theta.29</th>\n",
              "      <th>theta.30</th>\n",
              "      <th>theta.31</th>\n",
              "      <th>theta.32</th>\n",
              "      <th>theta.33</th>\n",
              "      <th>theta.34</th>\n",
              "      <th>theta.35</th>\n",
              "      <th>theta.36</th>\n",
              "      <th>theta.37</th>\n",
              "      <th>theta.38</th>\n",
              "      <th>theta.39</th>\n",
              "      <th>...</th>\n",
              "      <th>rho.138</th>\n",
              "      <th>rho.139</th>\n",
              "      <th>rho.140</th>\n",
              "      <th>rho.141</th>\n",
              "      <th>rho.142</th>\n",
              "      <th>rho.143</th>\n",
              "      <th>rho.144</th>\n",
              "      <th>rho.145</th>\n",
              "      <th>rho.146</th>\n",
              "      <th>rho.147</th>\n",
              "      <th>rho.148</th>\n",
              "      <th>rho.149</th>\n",
              "      <th>rho.150</th>\n",
              "      <th>rho.151</th>\n",
              "      <th>rho.152</th>\n",
              "      <th>rho.153</th>\n",
              "      <th>rho.154</th>\n",
              "      <th>rho.155</th>\n",
              "      <th>rho.156</th>\n",
              "      <th>rho.157</th>\n",
              "      <th>rho.158</th>\n",
              "      <th>rho.159</th>\n",
              "      <th>rho.160</th>\n",
              "      <th>rho.161</th>\n",
              "      <th>rho.162</th>\n",
              "      <th>rho.163</th>\n",
              "      <th>rho.164</th>\n",
              "      <th>rho.165</th>\n",
              "      <th>rho.166</th>\n",
              "      <th>rho.167</th>\n",
              "      <th>rho.168</th>\n",
              "      <th>rho.169</th>\n",
              "      <th>rho.170</th>\n",
              "      <th>rho.171</th>\n",
              "      <th>rho.172</th>\n",
              "      <th>rho.173</th>\n",
              "      <th>rho.174</th>\n",
              "      <th>vol</th>\n",
              "      <th>Ps</th>\n",
              "      <th>ST</th>\n",
              "    </tr>\n",
              "  </thead>\n",
              "  <tbody>\n",
              "    <tr>\n",
              "      <th>299995</th>\n",
              "      <td>0.004922</td>\n",
              "      <td>0.026714</td>\n",
              "      <td>0.034664</td>\n",
              "      <td>0.059035</td>\n",
              "      <td>0.074647</td>\n",
              "      <td>0.074701</td>\n",
              "      <td>0.165023</td>\n",
              "      <td>0.165463</td>\n",
              "      <td>0.177207</td>\n",
              "      <td>0.178758</td>\n",
              "      <td>0.202705</td>\n",
              "      <td>0.232685</td>\n",
              "      <td>0.284244</td>\n",
              "      <td>0.306425</td>\n",
              "      <td>0.379545</td>\n",
              "      <td>0.381758</td>\n",
              "      <td>0.473519</td>\n",
              "      <td>0.506605</td>\n",
              "      <td>0.507949</td>\n",
              "      <td>0.517993</td>\n",
              "      <td>0.713149</td>\n",
              "      <td>0.759893</td>\n",
              "      <td>0.815801</td>\n",
              "      <td>0.821339</td>\n",
              "      <td>0.889075</td>\n",
              "      <td>0.951360</td>\n",
              "      <td>0.997681</td>\n",
              "      <td>1.004531</td>\n",
              "      <td>1.084440</td>\n",
              "      <td>1.085183</td>\n",
              "      <td>1.101674</td>\n",
              "      <td>1.125762</td>\n",
              "      <td>1.227895</td>\n",
              "      <td>1.290499</td>\n",
              "      <td>1.362035</td>\n",
              "      <td>1.398191</td>\n",
              "      <td>1.400481</td>\n",
              "      <td>1.400897</td>\n",
              "      <td>1.429206</td>\n",
              "      <td>1.484565</td>\n",
              "      <td>...</td>\n",
              "      <td>0.906078</td>\n",
              "      <td>0.905615</td>\n",
              "      <td>0.905444</td>\n",
              "      <td>0.905089</td>\n",
              "      <td>0.903853</td>\n",
              "      <td>0.903309</td>\n",
              "      <td>0.902819</td>\n",
              "      <td>0.901428</td>\n",
              "      <td>0.900749</td>\n",
              "      <td>0.899836</td>\n",
              "      <td>0.898500</td>\n",
              "      <td>0.897966</td>\n",
              "      <td>0.897413</td>\n",
              "      <td>0.896799</td>\n",
              "      <td>0.894457</td>\n",
              "      <td>0.888586</td>\n",
              "      <td>0.887097</td>\n",
              "      <td>0.886419</td>\n",
              "      <td>0.885946</td>\n",
              "      <td>0.881914</td>\n",
              "      <td>0.881147</td>\n",
              "      <td>0.878384</td>\n",
              "      <td>0.876204</td>\n",
              "      <td>0.876203</td>\n",
              "      <td>0.873467</td>\n",
              "      <td>0.869054</td>\n",
              "      <td>0.867288</td>\n",
              "      <td>0.865508</td>\n",
              "      <td>0.863150</td>\n",
              "      <td>0.857475</td>\n",
              "      <td>0.856306</td>\n",
              "      <td>0.852415</td>\n",
              "      <td>0.851807</td>\n",
              "      <td>0.851346</td>\n",
              "      <td>0.850942</td>\n",
              "      <td>0.850411</td>\n",
              "      <td>0.849788</td>\n",
              "      <td>2.935388</td>\n",
              "      <td>1501.095204</td>\n",
              "      <td>68.458096</td>\n",
              "    </tr>\n",
              "    <tr>\n",
              "      <th>299996</th>\n",
              "      <td>0.053568</td>\n",
              "      <td>0.088600</td>\n",
              "      <td>0.103341</td>\n",
              "      <td>0.179909</td>\n",
              "      <td>0.187041</td>\n",
              "      <td>0.221366</td>\n",
              "      <td>0.238189</td>\n",
              "      <td>0.271133</td>\n",
              "      <td>0.326721</td>\n",
              "      <td>0.399908</td>\n",
              "      <td>0.439820</td>\n",
              "      <td>0.449240</td>\n",
              "      <td>0.477130</td>\n",
              "      <td>0.497106</td>\n",
              "      <td>0.586696</td>\n",
              "      <td>0.587525</td>\n",
              "      <td>0.704942</td>\n",
              "      <td>0.718027</td>\n",
              "      <td>0.998460</td>\n",
              "      <td>1.150220</td>\n",
              "      <td>1.175918</td>\n",
              "      <td>1.193233</td>\n",
              "      <td>1.235003</td>\n",
              "      <td>1.276398</td>\n",
              "      <td>1.325218</td>\n",
              "      <td>1.403917</td>\n",
              "      <td>1.437734</td>\n",
              "      <td>1.601821</td>\n",
              "      <td>1.660278</td>\n",
              "      <td>1.741859</td>\n",
              "      <td>1.764468</td>\n",
              "      <td>1.778933</td>\n",
              "      <td>1.827887</td>\n",
              "      <td>1.891679</td>\n",
              "      <td>1.934542</td>\n",
              "      <td>1.951502</td>\n",
              "      <td>1.997971</td>\n",
              "      <td>2.013332</td>\n",
              "      <td>2.052048</td>\n",
              "      <td>2.052735</td>\n",
              "      <td>...</td>\n",
              "      <td>0.826047</td>\n",
              "      <td>0.811035</td>\n",
              "      <td>0.810552</td>\n",
              "      <td>0.809802</td>\n",
              "      <td>0.809607</td>\n",
              "      <td>0.803145</td>\n",
              "      <td>0.798981</td>\n",
              "      <td>0.794489</td>\n",
              "      <td>0.785341</td>\n",
              "      <td>0.779923</td>\n",
              "      <td>0.779735</td>\n",
              "      <td>0.777146</td>\n",
              "      <td>0.767813</td>\n",
              "      <td>0.766874</td>\n",
              "      <td>0.763117</td>\n",
              "      <td>0.762524</td>\n",
              "      <td>0.748739</td>\n",
              "      <td>0.746956</td>\n",
              "      <td>0.746848</td>\n",
              "      <td>0.740162</td>\n",
              "      <td>0.738687</td>\n",
              "      <td>0.732181</td>\n",
              "      <td>0.732142</td>\n",
              "      <td>0.730623</td>\n",
              "      <td>0.719396</td>\n",
              "      <td>0.712738</td>\n",
              "      <td>0.701095</td>\n",
              "      <td>0.694767</td>\n",
              "      <td>0.692435</td>\n",
              "      <td>0.687595</td>\n",
              "      <td>0.683380</td>\n",
              "      <td>0.683369</td>\n",
              "      <td>0.682516</td>\n",
              "      <td>0.677666</td>\n",
              "      <td>0.677294</td>\n",
              "      <td>0.676491</td>\n",
              "      <td>0.676182</td>\n",
              "      <td>2.118494</td>\n",
              "      <td>2143.945323</td>\n",
              "      <td>33.200700</td>\n",
              "    </tr>\n",
              "    <tr>\n",
              "      <th>299997</th>\n",
              "      <td>0.112001</td>\n",
              "      <td>0.147501</td>\n",
              "      <td>0.176514</td>\n",
              "      <td>0.186698</td>\n",
              "      <td>0.209209</td>\n",
              "      <td>0.212839</td>\n",
              "      <td>0.229857</td>\n",
              "      <td>0.252941</td>\n",
              "      <td>0.415279</td>\n",
              "      <td>0.497324</td>\n",
              "      <td>0.524536</td>\n",
              "      <td>0.528059</td>\n",
              "      <td>0.541797</td>\n",
              "      <td>0.591073</td>\n",
              "      <td>0.633738</td>\n",
              "      <td>0.644733</td>\n",
              "      <td>0.649045</td>\n",
              "      <td>0.657956</td>\n",
              "      <td>0.658079</td>\n",
              "      <td>0.706025</td>\n",
              "      <td>0.713451</td>\n",
              "      <td>0.714037</td>\n",
              "      <td>0.732123</td>\n",
              "      <td>0.739354</td>\n",
              "      <td>0.746188</td>\n",
              "      <td>0.762131</td>\n",
              "      <td>0.767392</td>\n",
              "      <td>0.778630</td>\n",
              "      <td>0.791481</td>\n",
              "      <td>0.806051</td>\n",
              "      <td>0.844663</td>\n",
              "      <td>0.851485</td>\n",
              "      <td>0.909710</td>\n",
              "      <td>0.937454</td>\n",
              "      <td>0.938502</td>\n",
              "      <td>0.981789</td>\n",
              "      <td>1.148519</td>\n",
              "      <td>1.184307</td>\n",
              "      <td>1.271992</td>\n",
              "      <td>1.279178</td>\n",
              "      <td>...</td>\n",
              "      <td>1.199091</td>\n",
              "      <td>1.193533</td>\n",
              "      <td>1.193153</td>\n",
              "      <td>1.191481</td>\n",
              "      <td>1.177071</td>\n",
              "      <td>1.176905</td>\n",
              "      <td>1.156140</td>\n",
              "      <td>1.150160</td>\n",
              "      <td>1.147173</td>\n",
              "      <td>1.137657</td>\n",
              "      <td>1.111042</td>\n",
              "      <td>1.107771</td>\n",
              "      <td>1.104721</td>\n",
              "      <td>1.103882</td>\n",
              "      <td>1.102951</td>\n",
              "      <td>1.101573</td>\n",
              "      <td>1.098061</td>\n",
              "      <td>1.095649</td>\n",
              "      <td>1.093229</td>\n",
              "      <td>1.093087</td>\n",
              "      <td>1.084171</td>\n",
              "      <td>1.071477</td>\n",
              "      <td>1.062882</td>\n",
              "      <td>1.059222</td>\n",
              "      <td>1.058543</td>\n",
              "      <td>1.056682</td>\n",
              "      <td>1.044930</td>\n",
              "      <td>1.034134</td>\n",
              "      <td>1.031454</td>\n",
              "      <td>1.025717</td>\n",
              "      <td>1.024877</td>\n",
              "      <td>1.024729</td>\n",
              "      <td>1.024226</td>\n",
              "      <td>1.023635</td>\n",
              "      <td>1.023594</td>\n",
              "      <td>1.023060</td>\n",
              "      <td>1.022932</td>\n",
              "      <td>6.463434</td>\n",
              "      <td>1854.849614</td>\n",
              "      <td>64.332375</td>\n",
              "    </tr>\n",
              "    <tr>\n",
              "      <th>299998</th>\n",
              "      <td>0.045428</td>\n",
              "      <td>0.104517</td>\n",
              "      <td>0.126453</td>\n",
              "      <td>0.158305</td>\n",
              "      <td>0.163136</td>\n",
              "      <td>0.166941</td>\n",
              "      <td>0.214870</td>\n",
              "      <td>0.244684</td>\n",
              "      <td>0.278753</td>\n",
              "      <td>0.281967</td>\n",
              "      <td>0.331656</td>\n",
              "      <td>0.339527</td>\n",
              "      <td>0.354497</td>\n",
              "      <td>0.363962</td>\n",
              "      <td>0.389972</td>\n",
              "      <td>0.415722</td>\n",
              "      <td>0.449436</td>\n",
              "      <td>0.471030</td>\n",
              "      <td>0.497193</td>\n",
              "      <td>0.503440</td>\n",
              "      <td>0.564497</td>\n",
              "      <td>0.586158</td>\n",
              "      <td>0.645294</td>\n",
              "      <td>0.746757</td>\n",
              "      <td>0.760141</td>\n",
              "      <td>0.788694</td>\n",
              "      <td>0.806012</td>\n",
              "      <td>0.812015</td>\n",
              "      <td>0.843749</td>\n",
              "      <td>0.876717</td>\n",
              "      <td>0.915182</td>\n",
              "      <td>0.922339</td>\n",
              "      <td>0.924956</td>\n",
              "      <td>0.953285</td>\n",
              "      <td>0.960884</td>\n",
              "      <td>0.973742</td>\n",
              "      <td>0.995203</td>\n",
              "      <td>1.005002</td>\n",
              "      <td>1.088422</td>\n",
              "      <td>1.098213</td>\n",
              "      <td>...</td>\n",
              "      <td>1.034389</td>\n",
              "      <td>1.034334</td>\n",
              "      <td>1.033958</td>\n",
              "      <td>1.029554</td>\n",
              "      <td>1.027610</td>\n",
              "      <td>1.023821</td>\n",
              "      <td>1.014672</td>\n",
              "      <td>1.014053</td>\n",
              "      <td>1.013784</td>\n",
              "      <td>1.011363</td>\n",
              "      <td>1.007707</td>\n",
              "      <td>1.007347</td>\n",
              "      <td>1.007287</td>\n",
              "      <td>1.006233</td>\n",
              "      <td>1.001009</td>\n",
              "      <td>0.997987</td>\n",
              "      <td>0.980250</td>\n",
              "      <td>0.979140</td>\n",
              "      <td>0.966262</td>\n",
              "      <td>0.964062</td>\n",
              "      <td>0.948946</td>\n",
              "      <td>0.947404</td>\n",
              "      <td>0.944502</td>\n",
              "      <td>0.940143</td>\n",
              "      <td>0.937802</td>\n",
              "      <td>0.934248</td>\n",
              "      <td>0.933085</td>\n",
              "      <td>0.920020</td>\n",
              "      <td>0.910698</td>\n",
              "      <td>0.905976</td>\n",
              "      <td>0.905365</td>\n",
              "      <td>0.901253</td>\n",
              "      <td>0.888703</td>\n",
              "      <td>0.882716</td>\n",
              "      <td>0.882400</td>\n",
              "      <td>0.882397</td>\n",
              "      <td>0.882337</td>\n",
              "      <td>3.988953</td>\n",
              "      <td>1852.749013</td>\n",
              "      <td>52.697894</td>\n",
              "    </tr>\n",
              "    <tr>\n",
              "      <th>299999</th>\n",
              "      <td>0.003653</td>\n",
              "      <td>0.120204</td>\n",
              "      <td>0.128195</td>\n",
              "      <td>0.129736</td>\n",
              "      <td>0.173527</td>\n",
              "      <td>0.251854</td>\n",
              "      <td>0.257952</td>\n",
              "      <td>0.279388</td>\n",
              "      <td>0.285950</td>\n",
              "      <td>0.319999</td>\n",
              "      <td>0.441180</td>\n",
              "      <td>0.534861</td>\n",
              "      <td>0.565878</td>\n",
              "      <td>0.570488</td>\n",
              "      <td>0.581058</td>\n",
              "      <td>0.629373</td>\n",
              "      <td>0.629877</td>\n",
              "      <td>0.670247</td>\n",
              "      <td>0.704438</td>\n",
              "      <td>0.717165</td>\n",
              "      <td>0.730929</td>\n",
              "      <td>0.734918</td>\n",
              "      <td>0.771657</td>\n",
              "      <td>0.821448</td>\n",
              "      <td>0.823893</td>\n",
              "      <td>0.882242</td>\n",
              "      <td>1.008647</td>\n",
              "      <td>1.028980</td>\n",
              "      <td>1.066695</td>\n",
              "      <td>1.086285</td>\n",
              "      <td>1.113106</td>\n",
              "      <td>1.154216</td>\n",
              "      <td>1.271947</td>\n",
              "      <td>1.275425</td>\n",
              "      <td>1.332115</td>\n",
              "      <td>1.338195</td>\n",
              "      <td>1.350585</td>\n",
              "      <td>1.362080</td>\n",
              "      <td>1.378092</td>\n",
              "      <td>1.465956</td>\n",
              "      <td>...</td>\n",
              "      <td>0.812534</td>\n",
              "      <td>0.809299</td>\n",
              "      <td>0.808779</td>\n",
              "      <td>0.805861</td>\n",
              "      <td>0.802126</td>\n",
              "      <td>0.797930</td>\n",
              "      <td>0.796766</td>\n",
              "      <td>0.791177</td>\n",
              "      <td>0.790637</td>\n",
              "      <td>0.785889</td>\n",
              "      <td>0.784379</td>\n",
              "      <td>0.782281</td>\n",
              "      <td>0.780799</td>\n",
              "      <td>0.776887</td>\n",
              "      <td>0.776526</td>\n",
              "      <td>0.772610</td>\n",
              "      <td>0.772264</td>\n",
              "      <td>0.769967</td>\n",
              "      <td>0.769067</td>\n",
              "      <td>0.768223</td>\n",
              "      <td>0.766181</td>\n",
              "      <td>0.765384</td>\n",
              "      <td>0.764836</td>\n",
              "      <td>0.758656</td>\n",
              "      <td>0.756638</td>\n",
              "      <td>0.753510</td>\n",
              "      <td>0.752712</td>\n",
              "      <td>0.749421</td>\n",
              "      <td>0.745786</td>\n",
              "      <td>0.743628</td>\n",
              "      <td>0.742735</td>\n",
              "      <td>0.742383</td>\n",
              "      <td>0.742074</td>\n",
              "      <td>0.739859</td>\n",
              "      <td>0.737524</td>\n",
              "      <td>0.735896</td>\n",
              "      <td>0.734395</td>\n",
              "      <td>2.048760</td>\n",
              "      <td>2120.888732</td>\n",
              "      <td>71.135636</td>\n",
              "    </tr>\n",
              "  </tbody>\n",
              "</table>\n",
              "<p>5 rows × 353 columns</p>\n",
              "</div>"
            ],
            "text/plain": [
              "           theta   theta.1   theta.2  ...       vol           Ps         ST\n",
              "299995  0.004922  0.026714  0.034664  ...  2.935388  1501.095204  68.458096\n",
              "299996  0.053568  0.088600  0.103341  ...  2.118494  2143.945323  33.200700\n",
              "299997  0.112001  0.147501  0.176514  ...  6.463434  1854.849614  64.332375\n",
              "299998  0.045428  0.104517  0.126453  ...  3.988953  1852.749013  52.697894\n",
              "299999  0.003653  0.120204  0.128195  ...  2.048760  2120.888732  71.135636\n",
              "\n",
              "[5 rows x 353 columns]"
            ]
          },
          "metadata": {
            "tags": []
          },
          "execution_count": 12
        }
      ]
    },
    {
      "cell_type": "markdown",
      "metadata": {
        "id": "HkWsufEUFMi8",
        "colab_type": "text"
      },
      "source": [
        "### Adding noise to the data"
      ]
    },
    {
      "cell_type": "code",
      "metadata": {
        "id": "vgwEz3rDFLcz",
        "colab_type": "code",
        "colab": {}
      },
      "source": [
        "#tf.random.set_seed(5);\n",
        "#Gaussian_noise=tf.random.normal(shape=[dataset.shape], mean=0, stddev=1, dtype=tf.dtypes.float64)\n",
        "\n",
        "#dataset_Gauss=dataset+Gaussian_noise\n",
        "#plt.figure()\n",
        "##plt.plot(Gaussian_noise[:, 2])\n",
        "#min(Gaussian_noise.all())\n",
        "#max(Gaussian_noise.all())\n",
        "np.random.seed(seed=1)\n",
        "noise = np.random.random(size=dataset.shape)*0.004\n",
        "#print(noise)\n",
        "dataset=dataset+noise\n",
        "#dataset_noise[0, 0:sampling]\n",
        "plt.figure()\n",
        "plt.plot(dataset.iloc[0, 0:sampling], dataset.iloc[0, sampling:sampling*2])\n",
        "plt.figure()\n",
        "plt.plot(dataset.iloc[10000, 0:sampling], dataset.iloc[10000, sampling:sampling*2])\n",
        "plt.figure()\n",
        "plt.plot(dataset.iloc[19999, 0:sampling], dataset.iloc[19999, sampling:sampling*2])\n"
      ],
      "execution_count": null,
      "outputs": []
    },
    {
      "cell_type": "markdown",
      "metadata": {
        "colab_type": "text",
        "id": "Cuym4yvk76vU"
      },
      "source": [
        "### Split the data into train and test\n",
        "\n",
        "Now split the dataset into a training set and a test set.\n",
        "\n",
        "We will use the test set in the final evaluation of our model."
      ]
    },
    {
      "cell_type": "code",
      "metadata": {
        "colab_type": "code",
        "id": "qn-IGhUE7_1H",
        "colab": {}
      },
      "source": [
        "train_dataset = dataset.sample(frac=0.8,random_state=0)\n",
        "test_dataset = dataset.drop(train_dataset.index)"
      ],
      "execution_count": 13,
      "outputs": []
    },
    {
      "cell_type": "markdown",
      "metadata": {
        "colab_type": "text",
        "id": "J4ubs136WLNp"
      },
      "source": [
        "### Inspect the data\n",
        "\n",
        "Have a quick look at the joint distribution of a few pairs of columns from the training set."
      ]
    },
    {
      "cell_type": "code",
      "metadata": {
        "colab_type": "code",
        "id": "oRKO_x8gWKv-",
        "colab": {}
      },
      "source": [
        "#sns.pairplot(train_dataset[column_names], diag_kind=\"kde\")\n",
        "#plt.show()"
      ],
      "execution_count": null,
      "outputs": []
    },
    {
      "cell_type": "markdown",
      "metadata": {
        "colab_type": "text",
        "id": "gavKO_6DWRMP"
      },
      "source": [
        "Also look at the overall statistics:"
      ]
    },
    {
      "cell_type": "code",
      "metadata": {
        "colab_type": "code",
        "id": "yi2FzC3T21jR",
        "colab": {
          "base_uri": "https://localhost:8080/",
          "height": 194
        },
        "outputId": "6bce4e95-a5a5-48e0-debd-c77263c072aa"
      },
      "source": [
        "train_stats = train_dataset.describe()\n",
        "train_stats.pop(\"ST\")\n",
        "train_stats = train_stats.transpose()\n",
        "train_stats.tail()"
      ],
      "execution_count": 14,
      "outputs": [
        {
          "output_type": "execute_result",
          "data": {
            "text/html": [
              "<div>\n",
              "<style scoped>\n",
              "    .dataframe tbody tr th:only-of-type {\n",
              "        vertical-align: middle;\n",
              "    }\n",
              "\n",
              "    .dataframe tbody tr th {\n",
              "        vertical-align: top;\n",
              "    }\n",
              "\n",
              "    .dataframe thead th {\n",
              "        text-align: right;\n",
              "    }\n",
              "</style>\n",
              "<table border=\"1\" class=\"dataframe\">\n",
              "  <thead>\n",
              "    <tr style=\"text-align: right;\">\n",
              "      <th></th>\n",
              "      <th>count</th>\n",
              "      <th>mean</th>\n",
              "      <th>std</th>\n",
              "      <th>min</th>\n",
              "      <th>25%</th>\n",
              "      <th>50%</th>\n",
              "      <th>75%</th>\n",
              "      <th>max</th>\n",
              "    </tr>\n",
              "  </thead>\n",
              "  <tbody>\n",
              "    <tr>\n",
              "      <th>rho.172</th>\n",
              "      <td>240000.0</td>\n",
              "      <td>0.881327</td>\n",
              "      <td>0.090695</td>\n",
              "      <td>0.632740</td>\n",
              "      <td>0.809836</td>\n",
              "      <td>0.882255</td>\n",
              "      <td>0.952181</td>\n",
              "      <td>1.105342</td>\n",
              "    </tr>\n",
              "    <tr>\n",
              "      <th>rho.173</th>\n",
              "      <td>240000.0</td>\n",
              "      <td>0.879838</td>\n",
              "      <td>0.090609</td>\n",
              "      <td>0.632390</td>\n",
              "      <td>0.808388</td>\n",
              "      <td>0.880643</td>\n",
              "      <td>0.950547</td>\n",
              "      <td>1.102821</td>\n",
              "    </tr>\n",
              "    <tr>\n",
              "      <th>rho.174</th>\n",
              "      <td>240000.0</td>\n",
              "      <td>0.878839</td>\n",
              "      <td>0.090567</td>\n",
              "      <td>0.632295</td>\n",
              "      <td>0.807410</td>\n",
              "      <td>0.879591</td>\n",
              "      <td>0.949468</td>\n",
              "      <td>1.098916</td>\n",
              "    </tr>\n",
              "    <tr>\n",
              "      <th>vol</th>\n",
              "      <td>240000.0</td>\n",
              "      <td>4.497055</td>\n",
              "      <td>1.442002</td>\n",
              "      <td>2.000012</td>\n",
              "      <td>3.245232</td>\n",
              "      <td>4.497192</td>\n",
              "      <td>5.744806</td>\n",
              "      <td>6.999996</td>\n",
              "    </tr>\n",
              "    <tr>\n",
              "      <th>Ps</th>\n",
              "      <td>240000.0</td>\n",
              "      <td>1825.178136</td>\n",
              "      <td>187.916096</td>\n",
              "      <td>1500.001488</td>\n",
              "      <td>1662.431059</td>\n",
              "      <td>1825.111543</td>\n",
              "      <td>1988.067464</td>\n",
              "      <td>2149.999374</td>\n",
              "    </tr>\n",
              "  </tbody>\n",
              "</table>\n",
              "</div>"
            ],
            "text/plain": [
              "            count         mean  ...          75%          max\n",
              "rho.172  240000.0     0.881327  ...     0.952181     1.105342\n",
              "rho.173  240000.0     0.879838  ...     0.950547     1.102821\n",
              "rho.174  240000.0     0.878839  ...     0.949468     1.098916\n",
              "vol      240000.0     4.497055  ...     5.744806     6.999996\n",
              "Ps       240000.0  1825.178136  ...  1988.067464  2149.999374\n",
              "\n",
              "[5 rows x 8 columns]"
            ]
          },
          "metadata": {
            "tags": []
          },
          "execution_count": 14
        }
      ]
    },
    {
      "cell_type": "markdown",
      "metadata": {
        "colab_type": "text",
        "id": "Db7Auq1yXUvh"
      },
      "source": [
        "### Split features from labels\n",
        "\n",
        "Separate the target value, or \"label\", from the features. This label is the value that you will train the model to predict."
      ]
    },
    {
      "cell_type": "code",
      "metadata": {
        "colab_type": "code",
        "id": "t2sluJdCW7jN",
        "colab": {}
      },
      "source": [
        "train_labels = train_dataset.pop('ST')\n",
        "test_labels = test_dataset.pop('ST')"
      ],
      "execution_count": 15,
      "outputs": []
    },
    {
      "cell_type": "markdown",
      "metadata": {
        "colab_type": "text",
        "id": "mRklxK5s388r"
      },
      "source": [
        "### Normalize the data\n",
        "\n",
        "Look again at the `train_stats` block above and note how different the ranges of each feature are."
      ]
    },
    {
      "cell_type": "markdown",
      "metadata": {
        "colab_type": "text",
        "id": "-ywmerQ6dSox"
      },
      "source": [
        "It is good practice to normalize features that use different scales and ranges. Although the model *might* converge without feature normalization, it makes training more difficult, and it makes the resulting model dependent on the choice of units used in the input.\n",
        "\n",
        "Note: Although we intentionally generate these statistics from only the training dataset, these statistics will also be used to normalize the test dataset. We need to do that to project the test dataset into the same distribution that the model has been trained on."
      ]
    },
    {
      "cell_type": "code",
      "metadata": {
        "colab_type": "code",
        "id": "JlC5ooJrgjQF",
        "colab": {}
      },
      "source": [
        "def norm(x):\n",
        "  return (x - train_stats['mean']) / train_stats['std']\n",
        "normed_train_data = norm(train_dataset)\n",
        "normed_test_data = norm(test_dataset)\n"
      ],
      "execution_count": null,
      "outputs": []
    },
    {
      "cell_type": "markdown",
      "metadata": {
        "colab_type": "text",
        "id": "BuiClDk45eS4"
      },
      "source": [
        "This normalized data is what we will use to train the model.\n",
        "\n",
        "Caution: The statistics used to normalize the inputs here (mean and standard deviation) need to be applied to any other data that is fed to the model, along with the one-hot encoding that we did earlier.  That includes the test set as well as live data when the model is used in production."
      ]
    },
    {
      "cell_type": "markdown",
      "metadata": {
        "colab_type": "text",
        "id": "SmjdzxKzEu1-"
      },
      "source": [
        "## The model"
      ]
    },
    {
      "cell_type": "markdown",
      "metadata": {
        "colab_type": "text",
        "id": "6SWtkIjhrZwa"
      },
      "source": [
        "### Build the model\n",
        "\n",
        "Let's build our model. Here, we'll use a `Sequential` model with two densely connected hidden layers, and an output layer that returns a single, continuous value. The model building steps are wrapped in a function, `build_model`, since we'll create a second model, later on."
      ]
    },
    {
      "cell_type": "markdown",
      "metadata": {
        "id": "VULFJK5Vdk2l",
        "colab_type": "text"
      },
      "source": [
        "###Learning Schedule\n",
        "The code bellow sets a schedules.InverseTimeDecay to hyperbolically decrease the learning rate to 1/2 of the base rate at 1000 epochs, 1/3 at 2000 epochs and so on."
      ]
    },
    {
      "cell_type": "code",
      "metadata": {
        "id": "BVEwu5szdhtt",
        "colab_type": "code",
        "colab": {}
      },
      "source": [
        "#Lr_schedule = learning schedule : Most models learn better if you gradually decrase the learning rate.\n",
        "\n",
        "STEPS_PER_EPOCH=len(train_dataset)/500\n",
        "lr_schedule = tf.keras.optimizers.schedules.InverseTimeDecay(\n",
        "  0.001,\n",
        "  decay_steps=STEPS_PER_EPOCH*1000,\n",
        "  decay_rate=1,\n",
        "  staircase=False)\n",
        "\n",
        "def get_optimizer():\n",
        "  return tf.keras.optimizers.Adam(lr_schedule)"
      ],
      "execution_count": null,
      "outputs": []
    },
    {
      "cell_type": "markdown",
      "metadata": {
        "id": "gB91psdOdj_d",
        "colab_type": "text"
      },
      "source": [
        "Here we can plot the learning rate Vs the number of epocs"
      ]
    },
    {
      "cell_type": "code",
      "metadata": {
        "id": "MfTIU-90dkJC",
        "colab_type": "code",
        "colab": {
          "base_uri": "https://localhost:8080/",
          "height": 279
        },
        "outputId": "a96cc8b6-8634-4818-9e60-1276167ac88e"
      },
      "source": [
        "step = np.linspace(0,100000)\n",
        "lr = lr_schedule(step)\n",
        "plt.figure()\n",
        "plt.plot(step/STEPS_PER_EPOCH, lr)\n",
        "plt.ylim([0,max(plt.ylim())])\n",
        "plt.xlabel('Epoch')\n",
        "_ = plt.ylabel('Learning Rate')"
      ],
      "execution_count": null,
      "outputs": [
        {
          "output_type": "display_data",
          "data": {
            "image/png": "[encoded data removed]",
            "text/plain": [
              "<Figure size 432x288 with 1 Axes>"
            ]
          },
          "metadata": {
            "tags": [],
            "needs_background": "light"
          }
        }
      ]
    },
    {
      "cell_type": "code",
      "metadata": {
        "colab_type": "code",
        "id": "c26juK7ZG8j-",
        "colab": {}
      },
      "source": [
        "def build_model():\n",
        "  model = keras.Sequential([\n",
        "    #layers.Dense(100, activation=tf.nn.relu, input_shape=[len(train_dataset.keys())]),\n",
        "    layers.Dense(14, activation=tf.nn.swish, input_shape=[len(train_dataset.keys())]),\n",
        "    #layers.Dense(50, activation=tf.nn.swish),\n",
        "    layers.Dense(5, activation=tf.nn.swish),\n",
        "    layers.Dense(1)\n",
        "  ])\n",
        "\n",
        "  optimizer = get_optimizer() # tf.keras.optimizers.Adam(learning_rate=0.001) #RMSprop(0.0001)\n",
        "  model.compile(loss='mean_squared_error',\n",
        "                optimizer=optimizer,\n",
        "                metrics=['mean_absolute_error', 'mean_squared_error'])\n",
        "  return model"
      ],
      "execution_count": null,
      "outputs": []
    },
    {
      "cell_type": "code",
      "metadata": {
        "colab_type": "code",
        "id": "cGbPb-PHGbhs",
        "colab": {}
      },
      "source": [
        "model = build_model()"
      ],
      "execution_count": null,
      "outputs": []
    },
    {
      "cell_type": "markdown",
      "metadata": {
        "id": "AUx4uYxk0GEJ",
        "colab_type": "text"
      },
      "source": [
        "## If there is a model saved on google drive execute the next block"
      ]
    },
    {
      "cell_type": "code",
      "metadata": {
        "id": "y3Ir9yi8z0VA",
        "colab_type": "code",
        "colab": {}
      },
      "source": [
        "from tensorflow.keras.models import load_model\n",
        "\n",
        "del model \n",
        "\n",
        "model_name=str('test_training_whole_drop_3μL_best_175points_noise_0.004_vol_6.h5')\n",
        "model = load_model(str(\"/content/drive/My Drive/DropLev/MachineLearningModels/\"+model_name))\n"
      ],
      "execution_count": null,
      "outputs": []
    },
    {
      "cell_type": "markdown",
      "metadata": {
        "colab_type": "text",
        "id": "Sj49Og4YGULr"
      },
      "source": [
        "### Inspect the model\n",
        "\n",
        "Use the `.summary` method to print a simple description of the model"
      ]
    },
    {
      "cell_type": "code",
      "metadata": {
        "colab_type": "code",
        "id": "ReAD0n6MsFK-",
        "colab": {
          "base_uri": "https://localhost:8080/",
          "height": 266
        },
        "outputId": "5c45e691-fc82-4531-ce1d-eb497fe8e673"
      },
      "source": [
        "model.summary()"
      ],
      "execution_count": null,
      "outputs": [
        {
          "output_type": "stream",
          "text": [
            "Model: \"sequential_3\"\n",
            "_________________________________________________________________\n",
            "Layer (type)                 Output Shape              Param #   \n",
            "=================================================================\n",
            "dense_9 (Dense)              (None, 14)                4228      \n",
            "_________________________________________________________________\n",
            "dense_10 (Dense)             (None, 5)                 75        \n",
            "_________________________________________________________________\n",
            "dense_11 (Dense)             (None, 1)                 6         \n",
            "=================================================================\n",
            "Total params: 4,309\n",
            "Trainable params: 4,309\n",
            "Non-trainable params: 0\n",
            "_________________________________________________________________\n"
          ],
          "name": "stdout"
        }
      ]
    },
    {
      "cell_type": "markdown",
      "metadata": {
        "colab_type": "text",
        "id": "Vt6W50qGsJAL"
      },
      "source": [
        "\n",
        "Now try out the model. Take a batch of `10` examples from the training data and call `model.predict` on it."
      ]
    },
    {
      "cell_type": "code",
      "metadata": {
        "colab_type": "code",
        "id": "-d-gBaVtGTSC",
        "colab": {
          "base_uri": "https://localhost:8080/",
          "height": 195
        },
        "outputId": "122470e6-66d7-49a3-f7a0-4ee4a693eba0"
      },
      "source": [
        "example_batch = normed_train_data[:10]\n",
        "example_result = model.predict(example_batch)\n",
        "example_result"
      ],
      "execution_count": null,
      "outputs": [
        {
          "output_type": "execute_result",
          "data": {
            "text/plain": [
              "array([[ 0.667854  ],\n",
              "       [-0.00682113],\n",
              "       [ 2.3365872 ],\n",
              "       [-0.3146575 ],\n",
              "       [ 1.3634801 ],\n",
              "       [ 1.0806316 ],\n",
              "       [-0.26809987],\n",
              "       [-0.079628  ],\n",
              "       [ 0.01333724],\n",
              "       [-0.25103942]], dtype=float32)"
            ]
          },
          "metadata": {
            "tags": []
          },
          "execution_count": 15
        }
      ]
    },
    {
      "cell_type": "markdown",
      "metadata": {
        "colab_type": "text",
        "id": "QlM8KrSOsaYo"
      },
      "source": [
        "It seems to be working, and it produces a result of the expected shape and type."
      ]
    },
    {
      "cell_type": "markdown",
      "metadata": {
        "colab_type": "text",
        "id": "0-qWCsh6DlyH"
      },
      "source": [
        "### Train the model\n",
        "\n",
        "Train the model for 1000 epochs, and record the training and validation accuracy in the `history` object."
      ]
    },
    {
      "cell_type": "code",
      "metadata": {
        "colab_type": "code",
        "id": "fdMZuhUgzMZ4",
        "colab": {
          "base_uri": "https://localhost:8080/",
          "height": 70
        },
        "outputId": "416ef604-bce7-4d0c-c28b-fd64506ca143"
      },
      "source": [
        "# Display training progress by printing a single dot for each completed epoch\n",
        "class PrintDot(keras.callbacks.Callback):\n",
        "  def on_epoch_end(self, epoch, logs):\n",
        "    if epoch % 100 == 0: print('')\n",
        "    print('.', end='')\n",
        "\n",
        "EPOCHS = 1000\n",
        "\n",
        "# The patience parameter is the amount of epochs to check for improvement\n",
        "early_stop = keras.callbacks.EarlyStopping(monitor='val_loss', patience=10)\n",
        "\n",
        "history = model.fit(normed_train_data, train_labels, epochs=EPOCHS,\n",
        "                    validation_split = 0.2, verbose=0, callbacks=[early_stop, PrintDot()])\n"
      ],
      "execution_count": null,
      "outputs": [
        {
          "output_type": "stream",
          "text": [
            "\n",
            "....................................................................................................\n",
            "................................"
          ],
          "name": "stdout"
        }
      ]
    },
    {
      "cell_type": "markdown",
      "metadata": {
        "colab_type": "text",
        "id": "tQm3pc0FYPQB"
      },
      "source": [
        "Visualize the model's training progress using the stats stored in the `history` object."
      ]
    },
    {
      "cell_type": "code",
      "metadata": {
        "id": "IHtfi4xlXiHy",
        "colab_type": "code",
        "colab": {
          "base_uri": "https://localhost:8080/",
          "height": 194
        },
        "outputId": "1ab8abf4-1091-4a4c-b03f-3238bf39ffb1"
      },
      "source": [
        "hist = pd.DataFrame(history.history)\n",
        "hist['epoch'] = history.epoch\n",
        "hist.tail() "
      ],
      "execution_count": null,
      "outputs": [
        {
          "output_type": "execute_result",
          "data": {
            "text/html": [
              "<div>\n",
              "<style scoped>\n",
              "    .dataframe tbody tr th:only-of-type {\n",
              "        vertical-align: middle;\n",
              "    }\n",
              "\n",
              "    .dataframe tbody tr th {\n",
              "        vertical-align: top;\n",
              "    }\n",
              "\n",
              "    .dataframe thead th {\n",
              "        text-align: right;\n",
              "    }\n",
              "</style>\n",
              "<table border=\"1\" class=\"dataframe\">\n",
              "  <thead>\n",
              "    <tr style=\"text-align: right;\">\n",
              "      <th></th>\n",
              "      <th>loss</th>\n",
              "      <th>mean_absolute_error</th>\n",
              "      <th>mean_squared_error</th>\n",
              "      <th>val_loss</th>\n",
              "      <th>val_mean_absolute_error</th>\n",
              "      <th>val_mean_squared_error</th>\n",
              "      <th>epoch</th>\n",
              "    </tr>\n",
              "  </thead>\n",
              "  <tbody>\n",
              "    <tr>\n",
              "      <th>127</th>\n",
              "      <td>0.322285</td>\n",
              "      <td>0.426762</td>\n",
              "      <td>0.322285</td>\n",
              "      <td>0.369650</td>\n",
              "      <td>0.456429</td>\n",
              "      <td>0.369650</td>\n",
              "      <td>127</td>\n",
              "    </tr>\n",
              "    <tr>\n",
              "      <th>128</th>\n",
              "      <td>0.321309</td>\n",
              "      <td>0.424535</td>\n",
              "      <td>0.321309</td>\n",
              "      <td>0.384015</td>\n",
              "      <td>0.462310</td>\n",
              "      <td>0.384015</td>\n",
              "      <td>128</td>\n",
              "    </tr>\n",
              "    <tr>\n",
              "      <th>129</th>\n",
              "      <td>0.316670</td>\n",
              "      <td>0.422194</td>\n",
              "      <td>0.316670</td>\n",
              "      <td>0.389107</td>\n",
              "      <td>0.454794</td>\n",
              "      <td>0.389107</td>\n",
              "      <td>129</td>\n",
              "    </tr>\n",
              "    <tr>\n",
              "      <th>130</th>\n",
              "      <td>0.308771</td>\n",
              "      <td>0.415769</td>\n",
              "      <td>0.308771</td>\n",
              "      <td>0.328402</td>\n",
              "      <td>0.421922</td>\n",
              "      <td>0.328402</td>\n",
              "      <td>130</td>\n",
              "    </tr>\n",
              "    <tr>\n",
              "      <th>131</th>\n",
              "      <td>0.323407</td>\n",
              "      <td>0.424461</td>\n",
              "      <td>0.323407</td>\n",
              "      <td>0.341229</td>\n",
              "      <td>0.438303</td>\n",
              "      <td>0.341229</td>\n",
              "      <td>131</td>\n",
              "    </tr>\n",
              "  </tbody>\n",
              "</table>\n",
              "</div>"
            ],
            "text/plain": [
              "         loss  mean_absolute_error  ...  val_mean_squared_error  epoch\n",
              "127  0.322285             0.426762  ...                0.369650    127\n",
              "128  0.321309             0.424535  ...                0.384015    128\n",
              "129  0.316670             0.422194  ...                0.389107    129\n",
              "130  0.308771             0.415769  ...                0.328402    130\n",
              "131  0.323407             0.424461  ...                0.341229    131\n",
              "\n",
              "[5 rows x 7 columns]"
            ]
          },
          "metadata": {
            "tags": []
          },
          "execution_count": 74
        }
      ]
    },
    {
      "cell_type": "code",
      "metadata": {
        "id": "VPI7VDvrXvJb",
        "colab_type": "code",
        "colab": {
          "base_uri": "https://localhost:8080/",
          "height": 549
        },
        "outputId": "f5228f07-e568-41ef-df05-5ed0010d9359"
      },
      "source": [
        "def plot_history(history):\n",
        "  hist = pd.DataFrame(history.history)\n",
        "  hist['epoch'] = history.epoch\n",
        "\n",
        "  plt.figure()\n",
        "  plt.xlabel('Epoch')\n",
        "  plt.ylabel('Mean Abs Error [ST]')\n",
        "  plt.plot(hist['epoch'], hist['mean_absolute_error'],\n",
        "           label='Train Error')\n",
        "  plt.plot(hist['epoch'], hist['val_mean_absolute_error'],\n",
        "           label = 'Val Error')\n",
        "  plt.ylim([0,2])\n",
        "  plt.legend()\n",
        "\n",
        "  plt.figure()\n",
        "  plt.xlabel('Epoch')\n",
        "  plt.ylabel('Mean Square Error [$ST^2$]')\n",
        "  plt.plot(hist['epoch'], hist['mean_squared_error'],\n",
        "           label='Train Error')\n",
        "  plt.plot(hist['epoch'], hist['val_mean_squared_error'],\n",
        "           label = 'Val Error')\n",
        "  plt.ylim([0,5])\n",
        "  plt.legend()\n",
        "  plt.show()\n",
        "\n",
        "\n",
        "plot_history(history)"
      ],
      "execution_count": null,
      "outputs": [
        {
          "output_type": "display_data",
          "data": {
            "image/png": "[encoded data removed]",
            "text/plain": [
              "<Figure size 432x288 with 1 Axes>"
            ]
          },
          "metadata": {
            "tags": [],
            "needs_background": "light"
          }
        },
        {
          "output_type": "display_data",
          "data": {
            "image/png": "[encoded data removed]",
            "text/plain": [
              "<Figure size 432x288 with 1 Axes>"
            ]
          },
          "metadata": {
            "tags": [],
            "needs_background": "light"
          }
        }
      ]
    },
    {
      "cell_type": "markdown",
      "metadata": {
        "colab_type": "text",
        "id": "3St8-DmrX8P4"
      },
      "source": [
        "The graph shows that on the validation set, the average error is usually around +/- 2 MPG. Is this good? We'll leave that decision up to you.\n",
        "\n",
        "Let's see how well the model generalizes by using the **test** set, which we did not use when training the model.  This tells us how well we can expect the model to predict when we use it in the real world."
      ]
    },
    {
      "cell_type": "code",
      "metadata": {
        "colab_type": "code",
        "id": "jl_yNr5n1kms",
        "colab": {
          "base_uri": "https://localhost:8080/",
          "height": 35
        },
        "outputId": "7192974a-63fa-4f69-818f-493852703225"
      },
      "source": [
        "loss, mae, mse = model.evaluate(normed_test_data, test_labels, verbose=0)\n",
        "\n",
        "print(\"Testing set Mean Abs Error: {:5.2f} mN/m\".format(mae))"
      ],
      "execution_count": null,
      "outputs": [
        {
          "output_type": "stream",
          "text": [
            "Testing set Mean Abs Error:  0.45 mN/m\n"
          ],
          "name": "stdout"
        }
      ]
    },
    {
      "cell_type": "markdown",
      "metadata": {
        "colab_type": "text",
        "id": "ft603OzXuEZC"
      },
      "source": [
        "### Make predictions\n",
        "\n",
        "Finally, predict ST values using data in the testing set:"
      ]
    },
    {
      "cell_type": "code",
      "metadata": {
        "colab_type": "code",
        "id": "Xe7RXH3N3CWU",
        "colab": {
          "base_uri": "https://localhost:8080/",
          "height": 573
        },
        "outputId": "2c66e07a-15c0-4ad4-8b4d-5d973e2ad243"
      },
      "source": [
        "test_predictions = model.predict(normed_test_data).flatten()\n",
        "\n",
        "plt.scatter(test_labels, test_predictions)\n",
        "plt.title('Normalized test data')\n",
        "plt.xlabel('True Values [surface tension - mN/m]')\n",
        "plt.ylabel('Predictions [surface tension - mN/m]')\n",
        "plt.axis('equal')\n",
        "plt.axis('square')\n",
        "plt.xlim([10,75])\n",
        "plt.ylim([10,75])\n",
        "_ = plt.plot([-100, 100], [-100, 100])\n",
        "plt.show()\n",
        "\n",
        "test_predictions2 = model.predict(normed_train_data).flatten()\n",
        "\n",
        "plt.scatter(train_labels, test_predictions2)\n",
        "plt.title('Normalized training data')\n",
        "plt.xlabel('True Values [surface tension - mN/m]')\n",
        "plt.ylabel('Predictions [surface tension - mN/m]')\n",
        "plt.axis('equal')\n",
        "plt.axis('square')\n",
        "plt.xlim([10,75])\n",
        "plt.ylim([10,75])\n",
        "_ = plt.plot([-100, 100], [-100, 100])\n",
        "plt.show()\n"
      ],
      "execution_count": null,
      "outputs": [
        {
          "output_type": "display_data",
          "data": {
            "image/png": "[encoded data removed]",
            "text/plain": [
              "<Figure size 432x288 with 1 Axes>"
            ]
          },
          "metadata": {
            "tags": [],
            "needs_background": "light"
          }
        },
        {
          "output_type": "display_data",
          "data": {
            "image/png": "[encoded data removed]",
            "text/plain": [
              "<Figure size 432x288 with 1 Axes>"
            ]
          },
          "metadata": {
            "tags": [],
            "needs_background": "light"
          }
        }
      ]
    },
    {
      "cell_type": "markdown",
      "metadata": {
        "colab_type": "text",
        "id": "OrkHGKZcusUo"
      },
      "source": [
        "Seriously?"
      ]
    },
    {
      "cell_type": "code",
      "metadata": {
        "colab_type": "code",
        "id": "f-OHX4DiXd8x",
        "colab": {
          "base_uri": "https://localhost:8080/",
          "height": 279
        },
        "outputId": "d347cc5e-489b-4dd1-c23e-fd1fae1e04c7"
      },
      "source": [
        "error = test_predictions - test_labels\n",
        "plt.hist(error, bins = 50)\n",
        "plt.xlabel(\"Prediction Error [mN/m]\")\n",
        "_ = plt.ylabel(\"Count\")\n",
        "plt.show()"
      ],
      "execution_count": null,
      "outputs": [
        {
          "output_type": "display_data",
          "data": {
            "image/png": "[encoded data removed]",
            "text/plain": [
              "<Figure size 432x288 with 1 Axes>"
            ]
          },
          "metadata": {
            "tags": [],
            "needs_background": "light"
          }
        }
      ]
    },
    {
      "cell_type": "markdown",
      "metadata": {
        "id": "r-i0Bq5JF0nv",
        "colab_type": "text"
      },
      "source": [
        "# Saving the final Model"
      ]
    },
    {
      "cell_type": "markdown",
      "metadata": {
        "id": "G8FBhOnbGK65",
        "colab_type": "text"
      },
      "source": [
        "When you are satisfied with the model and the accuracy continue from here:"
      ]
    },
    {
      "cell_type": "markdown",
      "metadata": {
        "id": "TvCBPgR-gWXl",
        "colab_type": "text"
      },
      "source": [
        "Run the next code box only if google drive is not mounted to colab"
      ]
    },
    {
      "cell_type": "code",
      "metadata": {
        "id": "7dA-joJRPNiJ",
        "colab_type": "code",
        "colab": {
          "base_uri": "https://localhost:8080/",
          "height": 126
        },
        "outputId": "92f72e89-e6fa-4296-bd2e-05be932ce3d6"
      },
      "source": [
        "from google.colab import drive\n",
        "drive.mount('/content/drive')"
      ],
      "execution_count": null,
      "outputs": [
        {
          "output_type": "stream",
          "text": [
            "Go to this URL in a browser: https://accounts.google.com/o/oauth2/auth?client_id=947318989803-6bn6qk8qdgf4n4g3pfee6491hc0brc4i.apps.googleusercontent.com&redirect_uri=urn%3aietf%3awg%3aoauth%3a2.0%3aoob&scope=email%20https%3a%2f%2fwww.googleapis.com%2fauth%2fdocs.test%20https%3a%2f%2fwww.googleapis.com%2fauth%2fdrive%20https%3a%2f%2fwww.googleapis.com%2fauth%2fdrive.photos.readonly%20https%3a%2f%2fwww.googleapis.com%2fauth%2fpeopleapi.readonly&response_type=code\n",
            "\n",
            "Enter your authorization code:\n",
            "··········\n",
            "Mounted at /content/drive\n"
          ],
          "name": "stdout"
        }
      ]
    },
    {
      "cell_type": "markdown",
      "metadata": {
        "id": "BspL3Z6-GPaa",
        "colab_type": "text"
      },
      "source": [
        "Saving the model in a **SavedModel** format"
      ]
    },
    {
      "cell_type": "code",
      "metadata": {
        "id": "VwWrwBcZGLnZ",
        "colab_type": "code",
        "colab": {}
      },
      "source": [
        "!pip install -q pyyaml h5py  # Required to save models in HDF5 format"
      ],
      "execution_count": null,
      "outputs": []
    },
    {
      "cell_type": "code",
      "metadata": {
        "id": "6BR7rbL5GXku",
        "colab_type": "code",
        "colab": {}
      },
      "source": [
        "import os"
      ],
      "execution_count": null,
      "outputs": []
    },
    {
      "cell_type": "code",
      "metadata": {
        "id": "MzumSsZfGYCp",
        "colab_type": "code",
        "colab": {}
      },
      "source": [
        "# Save the entire model as a SavedModel.\n",
        "filename=str('test_training_Ps_range_1250_1750_3μL_150points_vol0.h5')\n",
        "#!mkdir -p '/content/drive/My Drive/DropLev/MachineLearningModels' #Ceates a folder named \"MachineLearningModels\"\n",
        "model.save('/content/drive/My Drive/DropLev/MachineLearningModels/'+filename)  #Saves the file"
      ],
      "execution_count": null,
      "outputs": []
    },
    {
      "cell_type": "markdown",
      "metadata": {
        "id": "oZcqRI0r9B4r",
        "colab_type": "text"
      },
      "source": [
        "# Reload a fresh Keras model from the saved model:"
      ]
    },
    {
      "cell_type": "markdown",
      "metadata": {
        "id": "W6mEqNn497op",
        "colab_type": "text"
      },
      "source": [
        "For **SavedModel** format"
      ]
    },
    {
      "cell_type": "code",
      "metadata": {
        "id": "c4vUC4ep8_VA",
        "colab_type": "code",
        "colab": {}
      },
      "source": [
        "filename=str('test_training_quarter_drop_best_35points.h5')\n",
        "\n",
        "model = tf.keras.models.load_model('/content/drive/My Drive/DropLev/MachineLearningModels/'+filename)\n",
        "\n",
        "# Check its architecture\n",
        "model.summary()"
      ],
      "execution_count": null,
      "outputs": []
    },
    {
      "cell_type": "markdown",
      "metadata": {
        "id": "j1K6xGBg9K4A",
        "colab_type": "text"
      },
      "source": [
        "View the MAE of the saved and re-called model:"
      ]
    },
    {
      "cell_type": "code",
      "metadata": {
        "id": "if5rjrz79NPI",
        "colab_type": "code",
        "colab": {}
      },
      "source": [
        "# Evaluation\n",
        "loss, mae, mse = model.evaluate(normed_test_data, test_labels, verbose=0)\n",
        "print('Restored model, Mean absolute error: {:5.2f}'.format(mae))\n"
      ],
      "execution_count": null,
      "outputs": []
    },
    {
      "cell_type": "markdown",
      "metadata": {
        "id": "SfiEXBeBbCcr",
        "colab_type": "text"
      },
      "source": [
        "### Genarate new data and evaluate the saved model"
      ]
    },
    {
      "cell_type": "code",
      "metadata": {
        "id": "93WuLc7ybJoC",
        "colab_type": "code",
        "colab": {
          "base_uri": "https://localhost:8080/",
          "height": 1000
        },
        "outputId": "b49bd0f3-c30c-415f-be24-c1efcf22f6f5"
      },
      "source": [
        "def norm_test(x):\n",
        "  return (x - stats_input_df['mean']) / stats_input_df['std']\n",
        "\n",
        "#import model from drive\n",
        "#filename=str('test_training_whole_drop_best.h5')\n",
        "#model = tf.keras.models.load_model('/content/drive/My Drive/DropLev/MachineLearningModels/'+filename)\n",
        "\n",
        "\n",
        "num_sample_test=25\n",
        "sampling=175\n",
        "vol_drop=np.random.random(num_sample_test)*(7-2)+2\n",
        "R_sph=calc_R_sph(vol_drop[i], calibration)\n",
        "Ps=np.random.random(num_sample_test)*(2000-1000)+2000 #Pa\n",
        "theta_test=np.random.rand(num_sample_test, sampling)*np.pi*2\n",
        "theta_test.sort()\n",
        "\n",
        "ST_test=np.random.random(num_sample_test)*(72-25)+25\n",
        "\n",
        "r_all_test=np.empty([0,sampling])\n",
        "\n",
        "for i in range(num_sample_test):\n",
        "  r_test=R_predict(theta_test[i], ST_test[i], R_sph[i], Ps[i], Cg_air, k_o)\n",
        "  r_all_test=np.vstack((r_all_test, r_test))\n",
        "\n",
        "test_dataset=np.hstack((theta_test,r_all_test, ST_test.reshape([num_sample_test,1])))\n",
        "\n",
        "############### Adding noise #############################\n",
        "noise = np.random.random(size=test_dataset.shape)*0.1\n",
        "#print(noise)\n",
        "test_dataset=test_dataset+noise\n",
        "plt.figure()\n",
        "plt.plot(test_dataset[0, 0:sampling], test_dataset[0, sampling:sampling*2])\n",
        "##########################################################\n",
        "\n",
        "input_array=test_dataset[:, 0:sampling*2]\n",
        "input_df=pd.DataFrame(input_array, index=None, dtype=float)\n",
        "\n",
        "stats_input_df=input_df.describe()\n",
        "stats_input_df=stats_input_df.transpose()\n",
        "\n",
        "norm_input_array=norm_test(input_df)\n",
        "prediction=model.predict(norm_input_array).flatten()\n",
        "true_values=test_dataset[:, sampling*2]\n",
        "\n",
        "plt.figure()\n",
        "plt.xlabel('Frame number')\n",
        "plt.ylabel('Surface tension [ mN/m ]')\n",
        "plt.ylim(20, 75)\n",
        "plt.plot(prediction, label='Predicted values')\n",
        "plt.plot(true_values, label='Real values')\n",
        "plt.legend()\n",
        "\n",
        "plt.figure()\n",
        "plt.scatter(true_values, prediction)\n",
        "plt.title('Normalized new test data')\n",
        "plt.xlabel('True Values [surface tension - mN/m]')\n",
        "plt.ylabel('Predictions [surface tension - mN/m]')\n",
        "plt.axis('equal')\n",
        "plt.axis('square')\n",
        "plt.xlim([10,75])\n",
        "plt.ylim([10,75])\n",
        "_ = plt.plot([-100, 100], [-100, 100])\n",
        "plt.show()\n",
        "\n",
        "error = prediction - true_values\n",
        "plt.figure()\n",
        "plt.hist(error, bins = 50)\n",
        "plt.xlabel(\"Prediction Error [mN/m]\")\n",
        "_ = plt.ylabel(\"Count\")\n",
        "plt.show()\n"
      ],
      "execution_count": null,
      "outputs": [
        {
          "output_type": "display_data",
          "data": {
            "image/png": "[encoded data removed]",
            "text/plain": [
              "<Figure size 432x288 with 1 Axes>"
            ]
          },
          "metadata": {
            "tags": [],
            "needs_background": "light"
          }
        },
        {
          "output_type": "display_data",
          "data": {
            "image/png": "[encoded data removed]",
            "text/plain": [
              "<Figure size 432x288 with 1 Axes>"
            ]
          },
          "metadata": {
            "tags": [],
            "needs_background": "light"
          }
        },
        {
          "output_type": "display_data",
          "data": {
            "image/png": "[encoded data removed]",
            "text/plain": [
              "<Figure size 432x288 with 1 Axes>"
            ]
          },
          "metadata": {
            "tags": [],
            "needs_background": "light"
          }
        },
        {
          "output_type": "display_data",
          "data": {
            "image/png": "[encoded data removed]",
            "text/plain": [
              "<Figure size 432x288 with 1 Axes>"
            ]
          },
          "metadata": {
            "tags": [],
            "needs_background": "light"
          }
        }
      ]
    }
  ]
}