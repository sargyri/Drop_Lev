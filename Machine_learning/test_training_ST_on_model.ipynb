{
  "nbformat": 4,
  "nbformat_minor": 0,
  "metadata": {
    "colab": {
      "name": "test_training_ST_on_model.ipynb",
      "provenance": [],
      "collapsed_sections": [],
      "toc_visible": true
    },
    "kernelspec": {
      "display_name": "Python 3",
      "language": "python",
      "name": "python3"
    },
    "language_info": {
      "codemirror_mode": {
        "name": "ipython",
        "version": 3
      },
      "file_extension": ".py",
      "mimetype": "text/x-python",
      "name": "python",
      "nbconvert_exporter": "python",
      "pygments_lexer": "ipython3",
      "version": "3.6.9"
    }
  },
  "cells": [
    {
      "cell_type": "code",
      "metadata": {
        "colab_type": "code",
        "id": "IbpYKApN-KAR",
        "scrolled": true,
        "colab": {
          "base_uri": "https://localhost:8080/",
          "height": 428
        },
        "outputId": "1fe16bba-e46e-4823-9491-de6f3059b342"
      },
      "source": [
        "!pip install lmfit\n",
        "#!pip install seaborn"
      ],
      "execution_count": 1,
      "outputs": [
        {
          "output_type": "stream",
          "text": [
            "Collecting lmfit\n",
            "\u001b[?25l  Downloading https://files.pythonhosted.org/packages/d1/2e/9e4cdcebf93603ce57bc7577707ad56ed1282ae306f611e525612b9cfeea/lmfit-1.0.1.tar.gz (258kB)\n",
            "\u001b[K     |████████████████████████████████| 266kB 3.4MB/s \n",
            "\u001b[?25hCollecting asteval>=0.9.16\n",
            "\u001b[?25l  Downloading https://files.pythonhosted.org/packages/4d/35/140edd280047b77aef487a8840c0f60372ab15210eb8064e5de9b832730c/asteval-0.9.19.tar.gz (207kB)\n",
            "\u001b[K     |████████████████████████████████| 215kB 10.6MB/s \n",
            "\u001b[?25hRequirement already satisfied: numpy>=1.16 in /usr/local/lib/python3.6/dist-packages (from lmfit) (1.18.5)\n",
            "Requirement already satisfied: scipy>=1.2 in /usr/local/lib/python3.6/dist-packages (from lmfit) (1.4.1)\n",
            "Collecting uncertainties>=3.0.1\n",
            "\u001b[?25l  Downloading https://files.pythonhosted.org/packages/b0/e0/fc200da8190729dcb685ae4877ed6936d31d64aeccb8cc355d9ec982681d/uncertainties-3.1.4-py2.py3-none-any.whl (246kB)\n",
            "\u001b[K     |████████████████████████████████| 256kB 13.6MB/s \n",
            "\u001b[?25hRequirement already satisfied: future in /usr/local/lib/python3.6/dist-packages (from uncertainties>=3.0.1->lmfit) (0.16.0)\n",
            "Building wheels for collected packages: lmfit, asteval\n",
            "  Building wheel for lmfit (setup.py) ... \u001b[?25l\u001b[?25hdone\n",
            "  Created wheel for lmfit: filename=lmfit-1.0.1-cp36-none-any.whl size=81991 sha256=8582079e547f1795f09c51c377b0177e5beb7776784f3f10e69583d52bae0b95\n",
            "  Stored in directory: /root/.cache/pip/wheels/ef/22/8d/6cd9c0af36f501cfb248673b05dad5d2c27504951d55519acb\n",
            "  Building wheel for asteval (setup.py) ... \u001b[?25l\u001b[?25hdone\n",
            "  Created wheel for asteval: filename=asteval-0.9.19-cp36-none-any.whl size=17486 sha256=04eb85a94c8ef805c000f069b647596f7289d8dc6ab1d786c9cf4f4b324fc395\n",
            "  Stored in directory: /root/.cache/pip/wheels/59/da/bf/62853db4291f1c5f91326e32e4d1766b8cfcccd1c0e6eaf53f\n",
            "Successfully built lmfit asteval\n",
            "Installing collected packages: asteval, uncertainties, lmfit\n",
            "Successfully installed asteval-0.9.19 lmfit-1.0.1 uncertainties-3.1.4\n"
          ],
          "name": "stdout"
        }
      ]
    },
    {
      "cell_type": "code",
      "metadata": {
        "colab_type": "code",
        "id": "jyE0M3V99EdP",
        "scrolled": true,
        "colab": {
          "base_uri": "https://localhost:8080/",
          "height": 108
        },
        "outputId": "fd6f1556-3074-40f6-ecb2-24a3da4c0a08"
      },
      "source": [
        "import numpy as np\n",
        "#import cv2\n",
        "import os\n",
        "import re\n",
        "import glob\n",
        "import matplotlib.pyplot as plt\n",
        "from scipy.signal import  gaussian\n",
        "from scipy.ndimage import filters\n",
        "from scipy import optimize\n",
        "from scipy.stats import linregress\n",
        "from mpl_toolkits.mplot3d import Axes3D\n",
        "\n",
        "import seaborn as sns\n",
        "\n",
        "import scipy as sp\n",
        "import scipy.interpolate\n",
        "from scipy.integrate import trapz\n",
        "\n",
        "import time\n",
        "\n",
        "import pandas as pd\n",
        "\n",
        "from lmfit import Model, fit_report, Parameters\n",
        "\n",
        "#from __future__ import absolute_import, division, print_function, unicode_literals\n",
        "\n",
        "import pathlib\n",
        "\n",
        "import matplotlib.pyplot as plt\n",
        "import pandas as pd\n",
        "import seaborn as sns\n",
        "\n",
        "import tensorflow as tf\n",
        "from tensorflow import keras\n",
        "from tensorflow.keras import layers\n",
        "\n",
        "import io\n",
        "\n",
        "print(tf.__version__)\n",
        "print(\"Num GPUs Available: \", len(tf.config.experimental.list_physical_devices('GPU')))\n",
        "\n",
        "\n",
        "######### initialize the data ###############\n",
        "data_input=[]\n",
        "data_output=[]\n",
        "l_sample=300\n",
        "vol_all=[]\n",
        "vol2_all=[]\n",
        "data_x=[]\n",
        "data_y=[]\n",
        "data_h=[]\n",
        "data_w=[]\n",
        "R_sph_all=[]\n",
        "Ar=[]\n",
        "#st_all=[]\n",
        "rho=[]\n",
        "theta=[]\n",
        "#List of non-processed images:\n",
        "discarded=[]\n",
        "new=[]  #list of images without the discarded ones\n",
        "\n",
        "#For the simple approach fit\n",
        "phi_final=[]\n",
        "theta_az=[]\n",
        "theta_all=[]\n",
        "theta_final=[]\n",
        "r_theta_all=[]\n",
        "xc_all=[]\n",
        "yc_all=[]\n",
        "rho_final=[]\n",
        "data_Ps=[]\n",
        "data_dB=[]\n",
        "data_stderr=[]\n",
        "data_err=[]\n",
        "\n",
        "total_num_pictures = len(glob.glob1('.',\"*.png\"))\n",
        "frame_number=np.arange(total_num_pictures)\n",
        "\n",
        "gamma=64 #[N/m]\n",
        "Cg_air=1/101325 #Pa**(-1)\n",
        "k_o=2*np.pi*40/340  #wave number in the air. frequency 40kHz (25kH=0.000040sec) and speed of sound in air v=340 m/s from paper (331.5 for 20oC online) \n",
        "#Calibration\n",
        "needle_d=0.83 #mm\n",
        "needle_pxl=220 #pixels\n",
        "#calibration=0.00621722846441948**3\n",
        "cal=needle_d/needle_pxl\n",
        "calibration=(cal)**3\n",
        "\n",
        "\n",
        "###############################################################################\n",
        "#### Functions used in the data processing ####################################\n",
        "###############################################################################\n",
        "\n",
        "def calc_volume(x,y):\n",
        "    \"\"\"\n",
        "    Calculate the drop volume from a shape matrix.\n",
        "\n",
        "    Parameters\n",
        "    ----------\n",
        "    x, y - contour of the drop\n",
        "\n",
        "    Returns\n",
        "    -------\n",
        "    Integrated volume using for the given shape matrix.\n",
        "\n",
        "    \"\"\"\n",
        "    # data selection\n",
        "    idx=x<=0  # r=right\n",
        "    x_l=x[idx]\n",
        "    y_l=y[idx]\n",
        "        \n",
        "    vol_left=trapz(np.pi*x_l**2, y_l)/2\n",
        "        \n",
        "    # data selection\n",
        "    idx=x>=0  # r=right\n",
        "    x_r=x[idx]\n",
        "    y_r=y[idx]\n",
        "    vol_right=-trapz(np.pi*x_r**2, y_r)/2\n",
        "   \n",
        "    return vol_left+vol_right\n",
        "\n",
        "\n",
        "def calc_R_sph(vol, cal):\n",
        "    \"\"\"\n",
        "    Calculate the spherical radius of a droplet based on the volume.\n",
        "\n",
        "    Input parameters\n",
        "    ----------\n",
        "    vol:         volume   [pixels**3]\n",
        "    calibration: calibration factor  [mm**3/pixels**3]\n",
        "\n",
        "    Returns\n",
        "    -------\n",
        "    Corresponding spherical radius.  [mm]\n",
        "\n",
        "    \"\"\"\n",
        "#    calibration=0.00621722846441948**3\n",
        "    #R_sph=(3*vol*calibration/(4*np.pi))**(1/3)\n",
        "    R_sph=(3*vol/(4*np.pi))**(1/3)\n",
        "    return R_sph\n",
        "\n",
        "def calc_dB(Ps):\n",
        "    \"\"\"\n",
        "    Calculate the deci Bell (dB) value for each acoustic pressure Ps.\n",
        "\n",
        "    Input parameters\n",
        "    ----------\n",
        "    Ps:     aplitude of the acoustic pressure\n",
        "\n",
        "    Returns\n",
        "    -------\n",
        "    dB value. []\n",
        "\n",
        "    \"\"\"\n",
        "    Po=2*10**(-5) #[Pa]\n",
        "\n",
        "    return 20*np.log10(Ps/Po)     #Acoustic pressure [Pa]\n",
        "\n",
        "def model_fit(th, Ps):\n",
        "    \"\"\"\n",
        "    Express the model that will be used to fit the experimental data (simple approach).\n",
        "\n",
        "    Input parameters\n",
        "    ----------\n",
        "    dB:     deciBell\n",
        "    th:     angle theta\n",
        "    Returns\n",
        "    -------\n",
        "    Expression of fitting model.\n",
        "\n",
        "    \"\"\"\n",
        "#    Ps=calc_ampl(dB)\n",
        "    ct_new=-((3/(64*gamma))*R_sph**2*Ps**2*Cg_air*(1+((7/5)*(k_o*R_sph)**2)))\n",
        "    return ct_new*(3*(np.cos(th))**2-1)+R_sph\n",
        "\n",
        "\n",
        "def R_predict(th, gamma, R_sph, Ps, Cg_air, k_o):\n",
        "    \"\"\"\n",
        "    Prediction of ST. \n",
        "    After the acoustic pressure is determined. The ST is calculated based on the equation of our model. \n",
        "    \n",
        "    \n",
        "    Input parameters\n",
        "    ----------\n",
        "    th:     angle theta\n",
        "    gamma:  ST as initial predition [mN/m]\n",
        "    Power:  U*I [Watt]\n",
        "    Returns\n",
        "    -------\n",
        "    gamma:   predicted surface tension [mN/m]\n",
        "\n",
        "    \"\"\"    \n",
        "#    Ps=data_Ps[i-1]    #[Pa]\n",
        "    ct_new=-((3/(64*gamma))*R_sph**2*Ps**2*Cg_air*(1+((7/5)*(k_o*R_sph)**2)))*(3*(np.cos(th))**2-1)\n",
        "    return ct_new+R_sph\n",
        "\n",
        "def ST_predict(th, gamma, R_sph, Ps, Cg_air, k_o):\n",
        "    \"\"\"\n",
        "    Prediction of ST. \n",
        "    After the acoustic pressure is determined. The ST is calculated based on the equation of our model. \n",
        "    \n",
        "    \n",
        "    Input parameters\n",
        "    ----------\n",
        "    th:     angle theta\n",
        "    gamma:  ST as initial predition [mN/m]\n",
        "    Power:  U*I [Watt]\n",
        "    Returns\n",
        "    -------\n",
        "    gamma:   predicted surface tension [mN/m]\n",
        "\n",
        "    \"\"\"    \n",
        "#    Ps=data_Ps[i-1]    #[Pa]\n",
        "    ct_new=-((3/(64*gamma))*R_sph**2*Ps**2*Cg_air*(1+((7/5)*(k_o*R_sph)**2)))*(3*(np.cos(th))**2-1)\n",
        "    return ct_new+R_sph\n",
        "\n",
        "\n",
        "def azimuth(phi):\n",
        "    \"\"\"\n",
        "    Calculate the azimuthal angle.\n",
        "\n",
        "    Input parameters\n",
        "    ----------\n",
        "    phi:     angle phi\n",
        "\n",
        "    Returns\n",
        "    -------\n",
        "    Azimuthal angle.\n",
        "\n",
        "    \"\"\"\n",
        "\n",
        "    if phi<=np.pi/2:\n",
        "        a=np.pi/2-phi\n",
        "    else:\n",
        "        a=2.5*np.pi-phi\n",
        "    return a\n",
        "\n",
        "\n",
        "def cart2pol(x, y):\n",
        "    rho = np.sqrt(x**2 + y**2)\n",
        "    theta = np.arctan2(y, x)\n",
        "    return(theta, rho)\n",
        "\n",
        "def pol2cart(rho, phi):\n",
        "    x = rho * np.cos(phi)\n",
        "    y = rho * np.sin(phi)\n",
        "    return(x, y)\n",
        "\n",
        "\n",
        "def pol2cart_theta(rho, theta):\n",
        "    x = rho * np.sin(theta)\n",
        "    y = rho * np.cos(theta)\n",
        "    return(x, y)"
      ],
      "execution_count": 2,
      "outputs": [
        {
          "output_type": "stream",
          "text": [
            "/usr/local/lib/python3.6/dist-packages/statsmodels/tools/_testing.py:19: FutureWarning: pandas.util.testing is deprecated. Use the functions in the public API at pandas.testing instead.\n",
            "  import pandas.util.testing as tm\n"
          ],
          "name": "stderr"
        },
        {
          "output_type": "stream",
          "text": [
            "2.3.0\n",
            "Num GPUs Available:  0\n"
          ],
          "name": "stdout"
        }
      ]
    },
    {
      "cell_type": "markdown",
      "metadata": {
        "colab_type": "text",
        "id": "lsGCO8nDUAlJ"
      },
      "source": [
        "Generate random angle:\n",
        "20 000 sets of 200 points"
      ]
    },
    {
      "cell_type": "code",
      "metadata": {
        "colab_type": "code",
        "id": "k2AMjiCZT_5m",
        "colab": {
          "base_uri": "https://localhost:8080/",
          "height": 1000
        },
        "outputId": "08cb76a4-9985-4dc7-9740-8294930bd35c"
      },
      "source": [
        "theta_all=[]\n",
        "def gen_data(num_sample,sampling):\n",
        "\n",
        "    np.random.seed(1234)\n",
        "\n",
        "    #test=np.arange(100)\n",
        "    #test_r=np.random.choice(test,10)\n",
        "\n",
        "    vol_drop=np.random.random(num_sample)*(5.5-1)+1 # in µL\n",
        "    calibration=0.0060567117466506235e-3 #mm/pixel\n",
        "  \n",
        "    #gamma=72.8 #[mN/m]   \n",
        "    Cg_air=1/101325 #Pa**(-1)\n",
        "    k_o=2*np.pi*40/340  #wave number in the air in [mm^-1]. frequency 40kHz (25kH=0.000040sec) and speed of sound in air v=340 m/s from paper (331.5 for 20oC online) \n",
        "    #Calibration\n",
        "    Ps=np.random.random(num_sample)*(3000-1500)+1500  #[Pa]\n",
        "    #for i in range(num_sample):\n",
        "    R_sph=calc_R_sph(vol_drop, calibration)\n",
        "\n",
        "   # print(\"Radius in mm: \", R_sph)\n",
        "\n",
        "    #theta=np.linspace(0,2*np.pi, 100)\n",
        "\n",
        "    #theta=np.random.random(200)*2*np.pi\n",
        "    theta=np.random.rand(num_sample, sampling)*np.pi*2\n",
        "    theta.sort()\n",
        "    \n",
        "    ST_range=np.random.random(num_sample)*(72-25)+25\n",
        "    #print(theta.shape)\n",
        "    r_all=np.empty([0,sampling])\n",
        "    #print(r_all.shape)\n",
        "\n",
        "    for i in range(num_sample):\n",
        "        r=R_predict(theta[i], ST_range[i], R_sph[i], Ps[i], Cg_air, k_o)\n",
        "          #print(r.shape)\n",
        "         #print(r)\n",
        "        r_all=np.vstack((r_all, r))\n",
        "        \n",
        "        if i % 10000 == 0:\n",
        "                print(i)\n",
        "        \n",
        "\n",
        "    #print(r_all.shape)\n",
        "\n",
        "    dataset=np.hstack((theta,r_all, vol_drop.reshape([num_sample,1]), Ps.reshape([num_sample,1]), ST_range.reshape([num_sample,1])))\n",
        "    #print(dataset.shape)\n",
        "\n",
        "    #print(ST_range)\n",
        "    print(ST_range.min())\n",
        "    print(ST_range.max())\n",
        "    #sns.set(color_codes=True)\n",
        "    plt.figure()\n",
        "    plt.ylabel('Count')\n",
        "    plt.xlabel('Surface tension [mN/m]')\n",
        "    sns.distplot(ST_range)\n",
        "    plt.figure()\n",
        "    plt.ylabel('Count')\n",
        "    plt.xlabel('Acoustic pressure [Pa]')\n",
        "    sns.distplot(Ps)\n",
        "    plt.figure()\n",
        "    plt.ylabel('Count')\n",
        "    plt.xlabel('Volume [μL]')\n",
        "    sns.distplot(vol_drop)\n",
        "\n",
        "    fig3 = plt.figure()\n",
        "    ax = plt.gca()\n",
        "    ax.set_aspect(1)\n",
        "    ax.set_xlim([-1.5,1.5])\n",
        "    ax.set_ylim([-1.5,1.5])\n",
        "    \n",
        "\n",
        "    for j in dataset:\n",
        "\n",
        "      x,y=pol2cart_theta(j[sampling:sampling+sampling], j[0:sampling])\n",
        "    #  print(x.shape)\n",
        "    #  print(y.shape)\n",
        "\n",
        "      #plt.plot(x*1e3,y*1e3)\n",
        "      plt.plot(x,y)\n",
        "\n",
        "    plt.show()\n",
        "    return dataset\n",
        "\n",
        "num_sample=100000  # number of different ST values\n",
        "sampling=175 # number of coordiante point describing the contour\n",
        "\n",
        "\n",
        "dataset=gen_data(num_sample,sampling)\n",
        "\n",
        "\n",
        "column_names=[]\n",
        "for i in range(sampling):\n",
        "  column_names.append('theta')\n",
        "for i in range(sampling):\n",
        "  column_names.append('rho')\n",
        "column_names.append('vol')\n",
        "column_names.append('Ps')\n",
        "column_names.append('ST')\n",
        "\n",
        "\n",
        "raw_dataset = pd.DataFrame(dataset, columns=column_names)\n",
        "\n",
        "raw_dataset.to_csv('./dataset.csv',index=False)\n"
      ],
      "execution_count": 3,
      "outputs": [
        {
          "output_type": "stream",
          "text": [
            "0\n",
            "10000\n",
            "20000\n",
            "30000\n",
            "40000\n",
            "50000\n",
            "60000\n",
            "70000\n",
            "80000\n",
            "90000\n",
            "25.00067047896599\n",
            "71.99983035530857\n"
          ],
          "name": "stdout"
        },
        {
          "output_type": "display_data",
          "data": {
            "image/png": "[encoded data removed]",
            "text/plain": [
              "<Figure size 432x288 with 1 Axes>"
            ]
          },
          "metadata": {
            "tags": [],
            "needs_background": "light"
          }
        },
        {
          "output_type": "display_data",
          "data": {
            "image/png": "[encoded data removed]",
            "text/plain": [
              "<Figure size 432x288 with 1 Axes>"
            ]
          },
          "metadata": {
            "tags": [],
            "needs_background": "light"
          }
        },
        {
          "output_type": "display_data",
          "data": {
            "image/png": "[encoded data removed]",
            "text/plain": [
              "<Figure size 432x288 with 1 Axes>"
            ]
          },
          "metadata": {
            "tags": [],
            "needs_background": "light"
          }
        },
        {
          "output_type": "display_data",
          "data": {
            "image/png": "[encoded data removed]",
            "text/plain": [
              "<Figure size 432x288 with 1 Axes>"
            ]
          },
          "metadata": {
            "tags": [],
            "needs_background": "light"
          }
        }
      ]
    },
    {
      "cell_type": "code",
      "metadata": {
        "colab_type": "code",
        "id": "l83INVYlZsND",
        "colab": {}
      },
      "source": [
        "\n",
        "#input = pd.read_csv(io.BytesIO(uploaded['data.csv']))\n",
        "#input = pd.DataFrame(dataset)\n",
        "# Dataset is now stored in a Pandas Dataframe\n",
        "#input.size\n"
      ],
      "execution_count": null,
      "outputs": []
    },
    {
      "cell_type": "code",
      "metadata": {
        "colab_type": "code",
        "id": "CiX2FI4gZtTt",
        "colab": {
          "base_uri": "https://localhost:8080/",
          "height": 243
        },
        "outputId": "8efd70ec-520c-4266-b639-0db7cc2c2abd"
      },
      "source": [
        "# loading of data\n",
        "\n",
        "raw_dataset=pd.read_csv('dataset.csv')\n",
        "\n",
        "dataset = raw_dataset.copy()\n",
        "dataset.tail()"
      ],
      "execution_count": 4,
      "outputs": [
        {
          "output_type": "execute_result",
          "data": {
            "text/html": [
              "<div>\n",
              "<style scoped>\n",
              "    .dataframe tbody tr th:only-of-type {\n",
              "        vertical-align: middle;\n",
              "    }\n",
              "\n",
              "    .dataframe tbody tr th {\n",
              "        vertical-align: top;\n",
              "    }\n",
              "\n",
              "    .dataframe thead th {\n",
              "        text-align: right;\n",
              "    }\n",
              "</style>\n",
              "<table border=\"1\" class=\"dataframe\">\n",
              "  <thead>\n",
              "    <tr style=\"text-align: right;\">\n",
              "      <th></th>\n",
              "      <th>theta</th>\n",
              "      <th>theta.1</th>\n",
              "      <th>theta.2</th>\n",
              "      <th>theta.3</th>\n",
              "      <th>theta.4</th>\n",
              "      <th>theta.5</th>\n",
              "      <th>theta.6</th>\n",
              "      <th>theta.7</th>\n",
              "      <th>theta.8</th>\n",
              "      <th>theta.9</th>\n",
              "      <th>theta.10</th>\n",
              "      <th>theta.11</th>\n",
              "      <th>theta.12</th>\n",
              "      <th>theta.13</th>\n",
              "      <th>theta.14</th>\n",
              "      <th>theta.15</th>\n",
              "      <th>theta.16</th>\n",
              "      <th>theta.17</th>\n",
              "      <th>theta.18</th>\n",
              "      <th>theta.19</th>\n",
              "      <th>theta.20</th>\n",
              "      <th>theta.21</th>\n",
              "      <th>theta.22</th>\n",
              "      <th>theta.23</th>\n",
              "      <th>theta.24</th>\n",
              "      <th>theta.25</th>\n",
              "      <th>theta.26</th>\n",
              "      <th>theta.27</th>\n",
              "      <th>theta.28</th>\n",
              "      <th>theta.29</th>\n",
              "      <th>theta.30</th>\n",
              "      <th>theta.31</th>\n",
              "      <th>theta.32</th>\n",
              "      <th>theta.33</th>\n",
              "      <th>theta.34</th>\n",
              "      <th>theta.35</th>\n",
              "      <th>theta.36</th>\n",
              "      <th>theta.37</th>\n",
              "      <th>theta.38</th>\n",
              "      <th>theta.39</th>\n",
              "      <th>...</th>\n",
              "      <th>rho.138</th>\n",
              "      <th>rho.139</th>\n",
              "      <th>rho.140</th>\n",
              "      <th>rho.141</th>\n",
              "      <th>rho.142</th>\n",
              "      <th>rho.143</th>\n",
              "      <th>rho.144</th>\n",
              "      <th>rho.145</th>\n",
              "      <th>rho.146</th>\n",
              "      <th>rho.147</th>\n",
              "      <th>rho.148</th>\n",
              "      <th>rho.149</th>\n",
              "      <th>rho.150</th>\n",
              "      <th>rho.151</th>\n",
              "      <th>rho.152</th>\n",
              "      <th>rho.153</th>\n",
              "      <th>rho.154</th>\n",
              "      <th>rho.155</th>\n",
              "      <th>rho.156</th>\n",
              "      <th>rho.157</th>\n",
              "      <th>rho.158</th>\n",
              "      <th>rho.159</th>\n",
              "      <th>rho.160</th>\n",
              "      <th>rho.161</th>\n",
              "      <th>rho.162</th>\n",
              "      <th>rho.163</th>\n",
              "      <th>rho.164</th>\n",
              "      <th>rho.165</th>\n",
              "      <th>rho.166</th>\n",
              "      <th>rho.167</th>\n",
              "      <th>rho.168</th>\n",
              "      <th>rho.169</th>\n",
              "      <th>rho.170</th>\n",
              "      <th>rho.171</th>\n",
              "      <th>rho.172</th>\n",
              "      <th>rho.173</th>\n",
              "      <th>rho.174</th>\n",
              "      <th>vol</th>\n",
              "      <th>Ps</th>\n",
              "      <th>ST</th>\n",
              "    </tr>\n",
              "  </thead>\n",
              "  <tbody>\n",
              "    <tr>\n",
              "      <th>99995</th>\n",
              "      <td>0.028695</td>\n",
              "      <td>0.114707</td>\n",
              "      <td>0.130515</td>\n",
              "      <td>0.203659</td>\n",
              "      <td>0.257239</td>\n",
              "      <td>0.306733</td>\n",
              "      <td>0.378842</td>\n",
              "      <td>0.393070</td>\n",
              "      <td>0.411307</td>\n",
              "      <td>0.428287</td>\n",
              "      <td>0.465063</td>\n",
              "      <td>0.489772</td>\n",
              "      <td>0.600178</td>\n",
              "      <td>0.621799</td>\n",
              "      <td>0.622073</td>\n",
              "      <td>0.637339</td>\n",
              "      <td>0.657703</td>\n",
              "      <td>0.770777</td>\n",
              "      <td>0.868145</td>\n",
              "      <td>0.899229</td>\n",
              "      <td>0.909642</td>\n",
              "      <td>0.918621</td>\n",
              "      <td>0.925388</td>\n",
              "      <td>0.942293</td>\n",
              "      <td>0.946343</td>\n",
              "      <td>0.949211</td>\n",
              "      <td>0.955833</td>\n",
              "      <td>1.018296</td>\n",
              "      <td>1.021325</td>\n",
              "      <td>1.048703</td>\n",
              "      <td>1.065878</td>\n",
              "      <td>1.071783</td>\n",
              "      <td>1.107229</td>\n",
              "      <td>1.228614</td>\n",
              "      <td>1.238390</td>\n",
              "      <td>1.276755</td>\n",
              "      <td>1.278307</td>\n",
              "      <td>1.298285</td>\n",
              "      <td>1.368163</td>\n",
              "      <td>1.378250</td>\n",
              "      <td>...</td>\n",
              "      <td>1.208218</td>\n",
              "      <td>1.200979</td>\n",
              "      <td>1.200447</td>\n",
              "      <td>1.192574</td>\n",
              "      <td>1.182227</td>\n",
              "      <td>1.180804</td>\n",
              "      <td>1.161005</td>\n",
              "      <td>1.136667</td>\n",
              "      <td>1.129437</td>\n",
              "      <td>1.120569</td>\n",
              "      <td>1.055373</td>\n",
              "      <td>1.051580</td>\n",
              "      <td>1.039923</td>\n",
              "      <td>1.033293</td>\n",
              "      <td>1.030419</td>\n",
              "      <td>1.028642</td>\n",
              "      <td>1.008926</td>\n",
              "      <td>0.996038</td>\n",
              "      <td>0.986491</td>\n",
              "      <td>0.983547</td>\n",
              "      <td>0.972835</td>\n",
              "      <td>0.968724</td>\n",
              "      <td>0.957462</td>\n",
              "      <td>0.938973</td>\n",
              "      <td>0.930233</td>\n",
              "      <td>0.913702</td>\n",
              "      <td>0.900396</td>\n",
              "      <td>0.895291</td>\n",
              "      <td>0.884347</td>\n",
              "      <td>0.884288</td>\n",
              "      <td>0.868162</td>\n",
              "      <td>0.853887</td>\n",
              "      <td>0.841757</td>\n",
              "      <td>0.836745</td>\n",
              "      <td>0.835594</td>\n",
              "      <td>0.833970</td>\n",
              "      <td>0.831868</td>\n",
              "      <td>5.388867</td>\n",
              "      <td>2294.264433</td>\n",
              "      <td>42.888316</td>\n",
              "    </tr>\n",
              "    <tr>\n",
              "      <th>99996</th>\n",
              "      <td>0.011080</td>\n",
              "      <td>0.072219</td>\n",
              "      <td>0.089494</td>\n",
              "      <td>0.114707</td>\n",
              "      <td>0.139225</td>\n",
              "      <td>0.175470</td>\n",
              "      <td>0.229975</td>\n",
              "      <td>0.243084</td>\n",
              "      <td>0.246075</td>\n",
              "      <td>0.286330</td>\n",
              "      <td>0.291429</td>\n",
              "      <td>0.341660</td>\n",
              "      <td>0.439796</td>\n",
              "      <td>0.470024</td>\n",
              "      <td>0.506401</td>\n",
              "      <td>0.645211</td>\n",
              "      <td>0.678370</td>\n",
              "      <td>0.758240</td>\n",
              "      <td>0.820971</td>\n",
              "      <td>0.827928</td>\n",
              "      <td>0.866379</td>\n",
              "      <td>0.886762</td>\n",
              "      <td>0.895078</td>\n",
              "      <td>0.948592</td>\n",
              "      <td>0.950267</td>\n",
              "      <td>0.952750</td>\n",
              "      <td>0.969282</td>\n",
              "      <td>1.023264</td>\n",
              "      <td>1.111373</td>\n",
              "      <td>1.132138</td>\n",
              "      <td>1.139193</td>\n",
              "      <td>1.236420</td>\n",
              "      <td>1.237507</td>\n",
              "      <td>1.271636</td>\n",
              "      <td>1.309411</td>\n",
              "      <td>1.332736</td>\n",
              "      <td>1.405263</td>\n",
              "      <td>1.424829</td>\n",
              "      <td>1.430945</td>\n",
              "      <td>1.456924</td>\n",
              "      <td>...</td>\n",
              "      <td>0.977869</td>\n",
              "      <td>0.977350</td>\n",
              "      <td>0.977263</td>\n",
              "      <td>0.974145</td>\n",
              "      <td>0.973966</td>\n",
              "      <td>0.970675</td>\n",
              "      <td>0.969987</td>\n",
              "      <td>0.967805</td>\n",
              "      <td>0.965981</td>\n",
              "      <td>0.959154</td>\n",
              "      <td>0.948079</td>\n",
              "      <td>0.946283</td>\n",
              "      <td>0.938305</td>\n",
              "      <td>0.933119</td>\n",
              "      <td>0.930049</td>\n",
              "      <td>0.914267</td>\n",
              "      <td>0.907906</td>\n",
              "      <td>0.901601</td>\n",
              "      <td>0.892575</td>\n",
              "      <td>0.890077</td>\n",
              "      <td>0.882758</td>\n",
              "      <td>0.882474</td>\n",
              "      <td>0.880186</td>\n",
              "      <td>0.875245</td>\n",
              "      <td>0.873069</td>\n",
              "      <td>0.871453</td>\n",
              "      <td>0.871120</td>\n",
              "      <td>0.870612</td>\n",
              "      <td>0.870449</td>\n",
              "      <td>0.868677</td>\n",
              "      <td>0.868627</td>\n",
              "      <td>0.868329</td>\n",
              "      <td>0.867828</td>\n",
              "      <td>0.867120</td>\n",
              "      <td>0.866973</td>\n",
              "      <td>0.866841</td>\n",
              "      <td>0.866633</td>\n",
              "      <td>3.488248</td>\n",
              "      <td>1511.028119</td>\n",
              "      <td>42.267145</td>\n",
              "    </tr>\n",
              "    <tr>\n",
              "      <th>99997</th>\n",
              "      <td>0.029058</td>\n",
              "      <td>0.049333</td>\n",
              "      <td>0.101226</td>\n",
              "      <td>0.125799</td>\n",
              "      <td>0.142703</td>\n",
              "      <td>0.226402</td>\n",
              "      <td>0.324231</td>\n",
              "      <td>0.327662</td>\n",
              "      <td>0.338837</td>\n",
              "      <td>0.420536</td>\n",
              "      <td>0.443925</td>\n",
              "      <td>0.522634</td>\n",
              "      <td>0.524070</td>\n",
              "      <td>0.550101</td>\n",
              "      <td>0.554849</td>\n",
              "      <td>0.609283</td>\n",
              "      <td>0.649522</td>\n",
              "      <td>0.672373</td>\n",
              "      <td>0.694624</td>\n",
              "      <td>0.706063</td>\n",
              "      <td>0.766861</td>\n",
              "      <td>0.774246</td>\n",
              "      <td>0.847923</td>\n",
              "      <td>0.862075</td>\n",
              "      <td>0.920574</td>\n",
              "      <td>0.930919</td>\n",
              "      <td>0.935966</td>\n",
              "      <td>0.945845</td>\n",
              "      <td>1.033645</td>\n",
              "      <td>1.097088</td>\n",
              "      <td>1.111391</td>\n",
              "      <td>1.120199</td>\n",
              "      <td>1.127791</td>\n",
              "      <td>1.279635</td>\n",
              "      <td>1.302992</td>\n",
              "      <td>1.467161</td>\n",
              "      <td>1.476384</td>\n",
              "      <td>1.492762</td>\n",
              "      <td>1.502192</td>\n",
              "      <td>1.510737</td>\n",
              "      <td>...</td>\n",
              "      <td>0.894366</td>\n",
              "      <td>0.892208</td>\n",
              "      <td>0.890461</td>\n",
              "      <td>0.889080</td>\n",
              "      <td>0.887642</td>\n",
              "      <td>0.885606</td>\n",
              "      <td>0.878252</td>\n",
              "      <td>0.877426</td>\n",
              "      <td>0.874133</td>\n",
              "      <td>0.862412</td>\n",
              "      <td>0.860274</td>\n",
              "      <td>0.852186</td>\n",
              "      <td>0.851233</td>\n",
              "      <td>0.849291</td>\n",
              "      <td>0.845858</td>\n",
              "      <td>0.842492</td>\n",
              "      <td>0.829284</td>\n",
              "      <td>0.825772</td>\n",
              "      <td>0.824924</td>\n",
              "      <td>0.823552</td>\n",
              "      <td>0.815102</td>\n",
              "      <td>0.813436</td>\n",
              "      <td>0.812980</td>\n",
              "      <td>0.809351</td>\n",
              "      <td>0.805422</td>\n",
              "      <td>0.799484</td>\n",
              "      <td>0.796939</td>\n",
              "      <td>0.796472</td>\n",
              "      <td>0.793748</td>\n",
              "      <td>0.768235</td>\n",
              "      <td>0.759675</td>\n",
              "      <td>0.751883</td>\n",
              "      <td>0.751516</td>\n",
              "      <td>0.750498</td>\n",
              "      <td>0.747476</td>\n",
              "      <td>0.746158</td>\n",
              "      <td>0.744814</td>\n",
              "      <td>2.621151</td>\n",
              "      <td>2389.479863</td>\n",
              "      <td>54.540949</td>\n",
              "    </tr>\n",
              "    <tr>\n",
              "      <th>99998</th>\n",
              "      <td>0.060400</td>\n",
              "      <td>0.083246</td>\n",
              "      <td>0.146191</td>\n",
              "      <td>0.193732</td>\n",
              "      <td>0.263857</td>\n",
              "      <td>0.271305</td>\n",
              "      <td>0.331212</td>\n",
              "      <td>0.418289</td>\n",
              "      <td>0.500070</td>\n",
              "      <td>0.500469</td>\n",
              "      <td>0.517763</td>\n",
              "      <td>0.536012</td>\n",
              "      <td>0.565684</td>\n",
              "      <td>0.621346</td>\n",
              "      <td>0.665213</td>\n",
              "      <td>0.701218</td>\n",
              "      <td>0.722469</td>\n",
              "      <td>0.728660</td>\n",
              "      <td>0.737273</td>\n",
              "      <td>0.795226</td>\n",
              "      <td>0.840539</td>\n",
              "      <td>0.841972</td>\n",
              "      <td>0.898024</td>\n",
              "      <td>0.906056</td>\n",
              "      <td>0.972212</td>\n",
              "      <td>1.067107</td>\n",
              "      <td>1.131710</td>\n",
              "      <td>1.136503</td>\n",
              "      <td>1.170670</td>\n",
              "      <td>1.243876</td>\n",
              "      <td>1.258532</td>\n",
              "      <td>1.301085</td>\n",
              "      <td>1.313261</td>\n",
              "      <td>1.320748</td>\n",
              "      <td>1.329206</td>\n",
              "      <td>1.364102</td>\n",
              "      <td>1.376227</td>\n",
              "      <td>1.390149</td>\n",
              "      <td>1.413560</td>\n",
              "      <td>1.462507</td>\n",
              "      <td>...</td>\n",
              "      <td>0.851845</td>\n",
              "      <td>0.852709</td>\n",
              "      <td>0.852950</td>\n",
              "      <td>0.853395</td>\n",
              "      <td>0.853519</td>\n",
              "      <td>0.853616</td>\n",
              "      <td>0.853565</td>\n",
              "      <td>0.853259</td>\n",
              "      <td>0.852605</td>\n",
              "      <td>0.852189</td>\n",
              "      <td>0.849647</td>\n",
              "      <td>0.846778</td>\n",
              "      <td>0.840828</td>\n",
              "      <td>0.836674</td>\n",
              "      <td>0.834516</td>\n",
              "      <td>0.832790</td>\n",
              "      <td>0.816451</td>\n",
              "      <td>0.804658</td>\n",
              "      <td>0.799958</td>\n",
              "      <td>0.788878</td>\n",
              "      <td>0.783457</td>\n",
              "      <td>0.775975</td>\n",
              "      <td>0.772905</td>\n",
              "      <td>0.771561</td>\n",
              "      <td>0.771077</td>\n",
              "      <td>0.761378</td>\n",
              "      <td>0.759776</td>\n",
              "      <td>0.744345</td>\n",
              "      <td>0.739614</td>\n",
              "      <td>0.734407</td>\n",
              "      <td>0.729744</td>\n",
              "      <td>0.716445</td>\n",
              "      <td>0.714130</td>\n",
              "      <td>0.713085</td>\n",
              "      <td>0.712938</td>\n",
              "      <td>0.708102</td>\n",
              "      <td>0.700886</td>\n",
              "      <td>2.165932</td>\n",
              "      <td>2118.679410</td>\n",
              "      <td>39.173356</td>\n",
              "    </tr>\n",
              "    <tr>\n",
              "      <th>99999</th>\n",
              "      <td>0.049187</td>\n",
              "      <td>0.144412</td>\n",
              "      <td>0.182447</td>\n",
              "      <td>0.207710</td>\n",
              "      <td>0.218358</td>\n",
              "      <td>0.230934</td>\n",
              "      <td>0.249572</td>\n",
              "      <td>0.345890</td>\n",
              "      <td>0.353738</td>\n",
              "      <td>0.391827</td>\n",
              "      <td>0.400306</td>\n",
              "      <td>0.400318</td>\n",
              "      <td>0.421208</td>\n",
              "      <td>0.495716</td>\n",
              "      <td>0.523483</td>\n",
              "      <td>0.625885</td>\n",
              "      <td>0.675556</td>\n",
              "      <td>0.689579</td>\n",
              "      <td>0.726161</td>\n",
              "      <td>0.764016</td>\n",
              "      <td>0.774344</td>\n",
              "      <td>0.891360</td>\n",
              "      <td>0.897090</td>\n",
              "      <td>0.909498</td>\n",
              "      <td>0.940170</td>\n",
              "      <td>1.016588</td>\n",
              "      <td>1.023111</td>\n",
              "      <td>1.053232</td>\n",
              "      <td>1.087806</td>\n",
              "      <td>1.116794</td>\n",
              "      <td>1.122063</td>\n",
              "      <td>1.172191</td>\n",
              "      <td>1.200580</td>\n",
              "      <td>1.228444</td>\n",
              "      <td>1.247786</td>\n",
              "      <td>1.249267</td>\n",
              "      <td>1.271476</td>\n",
              "      <td>1.276647</td>\n",
              "      <td>1.286269</td>\n",
              "      <td>1.345711</td>\n",
              "      <td>...</td>\n",
              "      <td>0.712269</td>\n",
              "      <td>0.711738</td>\n",
              "      <td>0.710198</td>\n",
              "      <td>0.704340</td>\n",
              "      <td>0.702981</td>\n",
              "      <td>0.701698</td>\n",
              "      <td>0.700011</td>\n",
              "      <td>0.696924</td>\n",
              "      <td>0.691501</td>\n",
              "      <td>0.688625</td>\n",
              "      <td>0.679958</td>\n",
              "      <td>0.677954</td>\n",
              "      <td>0.677644</td>\n",
              "      <td>0.676966</td>\n",
              "      <td>0.675653</td>\n",
              "      <td>0.669962</td>\n",
              "      <td>0.663236</td>\n",
              "      <td>0.659575</td>\n",
              "      <td>0.656794</td>\n",
              "      <td>0.651509</td>\n",
              "      <td>0.649375</td>\n",
              "      <td>0.645797</td>\n",
              "      <td>0.644306</td>\n",
              "      <td>0.640763</td>\n",
              "      <td>0.637800</td>\n",
              "      <td>0.635114</td>\n",
              "      <td>0.634058</td>\n",
              "      <td>0.632959</td>\n",
              "      <td>0.632563</td>\n",
              "      <td>0.626031</td>\n",
              "      <td>0.625760</td>\n",
              "      <td>0.625152</td>\n",
              "      <td>0.624196</td>\n",
              "      <td>0.623916</td>\n",
              "      <td>0.623411</td>\n",
              "      <td>0.620815</td>\n",
              "      <td>0.620810</td>\n",
              "      <td>1.341242</td>\n",
              "      <td>1869.733139</td>\n",
              "      <td>32.462468</td>\n",
              "    </tr>\n",
              "  </tbody>\n",
              "</table>\n",
              "<p>5 rows × 353 columns</p>\n",
              "</div>"
            ],
            "text/plain": [
              "          theta   theta.1   theta.2  ...       vol           Ps         ST\n",
              "99995  0.028695  0.114707  0.130515  ...  5.388867  2294.264433  42.888316\n",
              "99996  0.011080  0.072219  0.089494  ...  3.488248  1511.028119  42.267145\n",
              "99997  0.029058  0.049333  0.101226  ...  2.621151  2389.479863  54.540949\n",
              "99998  0.060400  0.083246  0.146191  ...  2.165932  2118.679410  39.173356\n",
              "99999  0.049187  0.144412  0.182447  ...  1.341242  1869.733139  32.462468\n",
              "\n",
              "[5 rows x 353 columns]"
            ]
          },
          "metadata": {
            "tags": []
          },
          "execution_count": 4
        }
      ]
    },
    {
      "cell_type": "markdown",
      "metadata": {
        "id": "HkWsufEUFMi8",
        "colab_type": "text"
      },
      "source": [
        "### Adding noise to the data"
      ]
    },
    {
      "cell_type": "code",
      "metadata": {
        "id": "vgwEz3rDFLcz",
        "colab_type": "code",
        "colab": {}
      },
      "source": [
        "#tf.random.set_seed(5);\n",
        "#Gaussian_noise=tf.random.normal(shape=[dataset.shape], mean=0, stddev=1, dtype=tf.dtypes.float64)\n",
        "\n",
        "#dataset_Gauss=dataset+Gaussian_noise\n",
        "#plt.figure()\n",
        "##plt.plot(Gaussian_noise[:, 2])\n",
        "#min(Gaussian_noise.all())\n",
        "#max(Gaussian_noise.all())\n",
        "np.random.seed(seed=1)\n",
        "noise = np.random.random(size=dataset.shape)*0.004\n",
        "#print(noise)\n",
        "dataset=dataset+noise\n",
        "#dataset_noise[0, 0:sampling]\n",
        "plt.figure()\n",
        "plt.plot(dataset.iloc[0, 0:sampling], dataset.iloc[0, sampling:sampling*2])\n",
        "plt.figure()\n",
        "plt.plot(dataset.iloc[10000, 0:sampling], dataset.iloc[10000, sampling:sampling*2])\n",
        "plt.figure()\n",
        "plt.plot(dataset.iloc[19999, 0:sampling], dataset.iloc[19999, sampling:sampling*2])\n"
      ],
      "execution_count": null,
      "outputs": []
    },
    {
      "cell_type": "markdown",
      "metadata": {
        "colab_type": "text",
        "id": "Cuym4yvk76vU"
      },
      "source": [
        "### Split the data into train and test\n",
        "\n",
        "Now split the dataset into a training set and a test set.\n",
        "\n",
        "We will use the test set in the final evaluation of our model."
      ]
    },
    {
      "cell_type": "code",
      "metadata": {
        "colab_type": "code",
        "id": "qn-IGhUE7_1H",
        "colab": {}
      },
      "source": [
        "train_dataset = dataset.sample(frac=0.8,random_state=0)\n",
        "test_dataset = dataset.drop(train_dataset.index)"
      ],
      "execution_count": null,
      "outputs": []
    },
    {
      "cell_type": "markdown",
      "metadata": {
        "colab_type": "text",
        "id": "J4ubs136WLNp"
      },
      "source": [
        "### Inspect the data\n",
        "\n",
        "Have a quick look at the joint distribution of a few pairs of columns from the training set."
      ]
    },
    {
      "cell_type": "code",
      "metadata": {
        "colab_type": "code",
        "id": "oRKO_x8gWKv-",
        "colab": {}
      },
      "source": [
        "#sns.pairplot(train_dataset[column_names], diag_kind=\"kde\")\n",
        "#plt.show()"
      ],
      "execution_count": null,
      "outputs": []
    },
    {
      "cell_type": "markdown",
      "metadata": {
        "colab_type": "text",
        "id": "gavKO_6DWRMP"
      },
      "source": [
        "Also look at the overall statistics:"
      ]
    },
    {
      "cell_type": "code",
      "metadata": {
        "colab_type": "code",
        "id": "yi2FzC3T21jR",
        "colab": {
          "base_uri": "https://localhost:8080/",
          "height": 194
        },
        "outputId": "2211a7a1-a1d0-4325-9ea5-2f13bd592886"
      },
      "source": [
        "train_stats = train_dataset.describe()\n",
        "train_stats.pop(\"ST\")\n",
        "train_stats = train_stats.transpose()\n",
        "train_stats.tail()"
      ],
      "execution_count": null,
      "outputs": [
        {
          "output_type": "execute_result",
          "data": {
            "text/html": [
              "<div>\n",
              "<style scoped>\n",
              "    .dataframe tbody tr th:only-of-type {\n",
              "        vertical-align: middle;\n",
              "    }\n",
              "\n",
              "    .dataframe tbody tr th {\n",
              "        vertical-align: top;\n",
              "    }\n",
              "\n",
              "    .dataframe thead th {\n",
              "        text-align: right;\n",
              "    }\n",
              "</style>\n",
              "<table border=\"1\" class=\"dataframe\">\n",
              "  <thead>\n",
              "    <tr style=\"text-align: right;\">\n",
              "      <th></th>\n",
              "      <th>count</th>\n",
              "      <th>mean</th>\n",
              "      <th>std</th>\n",
              "      <th>min</th>\n",
              "      <th>25%</th>\n",
              "      <th>50%</th>\n",
              "      <th>75%</th>\n",
              "      <th>max</th>\n",
              "    </tr>\n",
              "  </thead>\n",
              "  <tbody>\n",
              "    <tr>\n",
              "      <th>rho.172</th>\n",
              "      <td>80000.0</td>\n",
              "      <td>0.881638</td>\n",
              "      <td>0.090638</td>\n",
              "      <td>0.635723</td>\n",
              "      <td>0.810214</td>\n",
              "      <td>0.882623</td>\n",
              "      <td>0.952428</td>\n",
              "      <td>1.102276</td>\n",
              "    </tr>\n",
              "    <tr>\n",
              "      <th>rho.173</th>\n",
              "      <td>80000.0</td>\n",
              "      <td>0.880155</td>\n",
              "      <td>0.090545</td>\n",
              "      <td>0.635674</td>\n",
              "      <td>0.808783</td>\n",
              "      <td>0.881127</td>\n",
              "      <td>0.950916</td>\n",
              "      <td>1.098610</td>\n",
              "    </tr>\n",
              "    <tr>\n",
              "      <th>rho.174</th>\n",
              "      <td>80000.0</td>\n",
              "      <td>0.879151</td>\n",
              "      <td>0.090497</td>\n",
              "      <td>0.635624</td>\n",
              "      <td>0.807739</td>\n",
              "      <td>0.879962</td>\n",
              "      <td>0.949880</td>\n",
              "      <td>1.098005</td>\n",
              "    </tr>\n",
              "    <tr>\n",
              "      <th>vol</th>\n",
              "      <td>80000.0</td>\n",
              "      <td>4.499538</td>\n",
              "      <td>1.441472</td>\n",
              "      <td>2.000014</td>\n",
              "      <td>3.248780</td>\n",
              "      <td>4.498608</td>\n",
              "      <td>5.747170</td>\n",
              "      <td>6.999996</td>\n",
              "    </tr>\n",
              "    <tr>\n",
              "      <th>Ps</th>\n",
              "      <td>80000.0</td>\n",
              "      <td>1823.980304</td>\n",
              "      <td>187.425162</td>\n",
              "      <td>1500.009330</td>\n",
              "      <td>1661.221720</td>\n",
              "      <td>1823.792145</td>\n",
              "      <td>1986.858674</td>\n",
              "      <td>2149.995069</td>\n",
              "    </tr>\n",
              "  </tbody>\n",
              "</table>\n",
              "</div>"
            ],
            "text/plain": [
              "           count         mean  ...          75%          max\n",
              "rho.172  80000.0     0.881638  ...     0.952428     1.102276\n",
              "rho.173  80000.0     0.880155  ...     0.950916     1.098610\n",
              "rho.174  80000.0     0.879151  ...     0.949880     1.098005\n",
              "vol      80000.0     4.499538  ...     5.747170     6.999996\n",
              "Ps       80000.0  1823.980304  ...  1986.858674  2149.995069\n",
              "\n",
              "[5 rows x 8 columns]"
            ]
          },
          "metadata": {
            "tags": []
          },
          "execution_count": 6
        }
      ]
    },
    {
      "cell_type": "markdown",
      "metadata": {
        "colab_type": "text",
        "id": "Db7Auq1yXUvh"
      },
      "source": [
        "### Split features from labels\n",
        "\n",
        "Separate the target value, or \"label\", from the features. This label is the value that you will train the model to predict."
      ]
    },
    {
      "cell_type": "code",
      "metadata": {
        "colab_type": "code",
        "id": "t2sluJdCW7jN",
        "colab": {}
      },
      "source": [
        "train_labels = train_dataset.pop('ST')\n",
        "test_labels = test_dataset.pop('ST')"
      ],
      "execution_count": null,
      "outputs": []
    },
    {
      "cell_type": "markdown",
      "metadata": {
        "colab_type": "text",
        "id": "mRklxK5s388r"
      },
      "source": [
        "### Normalize the data\n",
        "\n",
        "Look again at the `train_stats` block above and note how different the ranges of each feature are."
      ]
    },
    {
      "cell_type": "markdown",
      "metadata": {
        "colab_type": "text",
        "id": "-ywmerQ6dSox"
      },
      "source": [
        "It is good practice to normalize features that use different scales and ranges. Although the model *might* converge without feature normalization, it makes training more difficult, and it makes the resulting model dependent on the choice of units used in the input.\n",
        "\n",
        "Note: Although we intentionally generate these statistics from only the training dataset, these statistics will also be used to normalize the test dataset. We need to do that to project the test dataset into the same distribution that the model has been trained on."
      ]
    },
    {
      "cell_type": "code",
      "metadata": {
        "colab_type": "code",
        "id": "JlC5ooJrgjQF",
        "colab": {}
      },
      "source": [
        "def norm(x):\n",
        "  return (x - train_stats['mean']) / train_stats['std']\n",
        "normed_train_data = norm(train_dataset)\n",
        "normed_test_data = norm(test_dataset)\n"
      ],
      "execution_count": null,
      "outputs": []
    },
    {
      "cell_type": "markdown",
      "metadata": {
        "colab_type": "text",
        "id": "BuiClDk45eS4"
      },
      "source": [
        "This normalized data is what we will use to train the model.\n",
        "\n",
        "Caution: The statistics used to normalize the inputs here (mean and standard deviation) need to be applied to any other data that is fed to the model, along with the one-hot encoding that we did earlier.  That includes the test set as well as live data when the model is used in production."
      ]
    },
    {
      "cell_type": "markdown",
      "metadata": {
        "colab_type": "text",
        "id": "SmjdzxKzEu1-"
      },
      "source": [
        "## The model"
      ]
    },
    {
      "cell_type": "markdown",
      "metadata": {
        "colab_type": "text",
        "id": "6SWtkIjhrZwa"
      },
      "source": [
        "### Build the model\n",
        "\n",
        "Let's build our model. Here, we'll use a `Sequential` model with two densely connected hidden layers, and an output layer that returns a single, continuous value. The model building steps are wrapped in a function, `build_model`, since we'll create a second model, later on."
      ]
    },
    {
      "cell_type": "markdown",
      "metadata": {
        "id": "VULFJK5Vdk2l",
        "colab_type": "text"
      },
      "source": [
        "###Learning Schedule\n",
        "The code bellow sets a schedules.InverseTimeDecay to hyperbolically decrease the learning rate to 1/2 of the base rate at 1000 epochs, 1/3 at 2000 epochs and so on."
      ]
    },
    {
      "cell_type": "code",
      "metadata": {
        "id": "BVEwu5szdhtt",
        "colab_type": "code",
        "colab": {}
      },
      "source": [
        "#Lr_schedule = learning schedule : Most models learn better if you gradually decrase the learning rate.\n",
        "\n",
        "STEPS_PER_EPOCH=len(train_dataset)/500\n",
        "lr_schedule = tf.keras.optimizers.schedules.InverseTimeDecay(\n",
        "  0.001,\n",
        "  decay_steps=STEPS_PER_EPOCH*1000,\n",
        "  decay_rate=1,\n",
        "  staircase=False)\n",
        "\n",
        "def get_optimizer():\n",
        "  return tf.keras.optimizers.Adam(lr_schedule)"
      ],
      "execution_count": null,
      "outputs": []
    },
    {
      "cell_type": "markdown",
      "metadata": {
        "id": "gB91psdOdj_d",
        "colab_type": "text"
      },
      "source": [
        "Here we can plot the learning rate Vs the number of epocs"
      ]
    },
    {
      "cell_type": "code",
      "metadata": {
        "id": "MfTIU-90dkJC",
        "colab_type": "code",
        "colab": {
          "base_uri": "https://localhost:8080/",
          "height": 279
        },
        "outputId": "dd115c6a-0d9d-476a-b256-1d9d873e58cc"
      },
      "source": [
        "step = np.linspace(0,100000)\n",
        "lr = lr_schedule(step)\n",
        "plt.figure()\n",
        "plt.plot(step/STEPS_PER_EPOCH, lr)\n",
        "plt.ylim([min(plt.ylim()),max(plt.ylim())])\n",
        "plt.xlabel('Epoch')\n",
        "_ = plt.ylabel('Learning Rate')"
      ],
      "execution_count": null,
      "outputs": [
        {
          "output_type": "display_data",
          "data": {
            "image/png": "[encoded data removed]",
            "text/plain": [
              "<Figure size 432x288 with 1 Axes>"
            ]
          },
          "metadata": {
            "tags": [],
            "needs_background": "light"
          }
        }
      ]
    },
    {
      "cell_type": "code",
      "metadata": {
        "colab_type": "code",
        "id": "c26juK7ZG8j-",
        "colab": {}
      },
      "source": [
        "def build_model():\n",
        "  model = keras.Sequential([\n",
        "    #layers.Dense(100, activation=tf.nn.relu, input_shape=[len(train_dataset.keys())]),\n",
        "    layers.Dense(14, activation=tf.nn.swish, input_shape=[len(train_dataset.keys())]),\n",
        "    #layers.Dense(50, activation=tf.nn.swish),\n",
        "    layers.Dense(5, activation=tf.nn.swish),\n",
        "    layers.Dense(1)\n",
        "  ])\n",
        "\n",
        "  optimizer = get_optimizer() # tf.keras.optimizers.Adam(learning_rate=0.001) #RMSprop(0.0001)\n",
        "  model.compile(loss='mean_squared_error',\n",
        "                optimizer=optimizer,\n",
        "                metrics=['mean_absolute_error', 'mean_squared_error'])\n",
        "  return model"
      ],
      "execution_count": null,
      "outputs": []
    },
    {
      "cell_type": "code",
      "metadata": {
        "colab_type": "code",
        "id": "cGbPb-PHGbhs",
        "colab": {}
      },
      "source": [
        "model = build_model()"
      ],
      "execution_count": null,
      "outputs": []
    },
    {
      "cell_type": "markdown",
      "metadata": {
        "id": "AUx4uYxk0GEJ",
        "colab_type": "text"
      },
      "source": [
        "## If there is a model saved on google drive execute the next block"
      ]
    },
    {
      "cell_type": "code",
      "metadata": {
        "id": "y3Ir9yi8z0VA",
        "colab_type": "code",
        "colab": {}
      },
      "source": [
        "from tensorflow.keras.models import load_model\n",
        "\n",
        "del model \n",
        "\n",
        "model_name=str('test_training_whole_drop_3μL_best_175points_noise_0.004_vol_6.h5')\n",
        "model = load_model(str(\"/content/drive/My Drive/DropLev/MachineLearningModels/\"+model_name))\n"
      ],
      "execution_count": null,
      "outputs": []
    },
    {
      "cell_type": "markdown",
      "metadata": {
        "colab_type": "text",
        "id": "Sj49Og4YGULr"
      },
      "source": [
        "### Inspect the model\n",
        "\n",
        "Use the `.summary` method to print a simple description of the model"
      ]
    },
    {
      "cell_type": "code",
      "metadata": {
        "colab_type": "code",
        "id": "ReAD0n6MsFK-",
        "colab": {
          "base_uri": "https://localhost:8080/",
          "height": 266
        },
        "outputId": "30dcebb0-885c-4123-9fa2-34603b5a5271"
      },
      "source": [
        "model.summary()"
      ],
      "execution_count": null,
      "outputs": [
        {
          "output_type": "stream",
          "text": [
            "Model: \"sequential\"\n",
            "_________________________________________________________________\n",
            "Layer (type)                 Output Shape              Param #   \n",
            "=================================================================\n",
            "dense (Dense)                (None, 14)                4942      \n",
            "_________________________________________________________________\n",
            "dense_1 (Dense)              (None, 5)                 75        \n",
            "_________________________________________________________________\n",
            "dense_2 (Dense)              (None, 1)                 6         \n",
            "=================================================================\n",
            "Total params: 5,023\n",
            "Trainable params: 5,023\n",
            "Non-trainable params: 0\n",
            "_________________________________________________________________\n"
          ],
          "name": "stdout"
        }
      ]
    },
    {
      "cell_type": "markdown",
      "metadata": {
        "colab_type": "text",
        "id": "Vt6W50qGsJAL"
      },
      "source": [
        "\n",
        "Now try out the model. Take a batch of `10` examples from the training data and call `model.predict` on it."
      ]
    },
    {
      "cell_type": "code",
      "metadata": {
        "colab_type": "code",
        "id": "-d-gBaVtGTSC",
        "colab": {
          "base_uri": "https://localhost:8080/",
          "height": 195
        },
        "outputId": "ab9f4312-4188-4881-f4da-fd664eb687fd"
      },
      "source": [
        "example_batch = normed_train_data[:10]\n",
        "example_result = model.predict(example_batch)\n",
        "example_result"
      ],
      "execution_count": null,
      "outputs": [
        {
          "output_type": "execute_result",
          "data": {
            "text/plain": [
              "array([[-0.8495115 ],\n",
              "       [-2.24215   ],\n",
              "       [ 0.03837623],\n",
              "       [-0.01660178],\n",
              "       [-2.125808  ],\n",
              "       [-0.23340227],\n",
              "       [-0.4389591 ],\n",
              "       [-0.36590484],\n",
              "       [-0.7154162 ],\n",
              "       [-0.19968686]], dtype=float32)"
            ]
          },
          "metadata": {
            "tags": []
          },
          "execution_count": 14
        }
      ]
    },
    {
      "cell_type": "markdown",
      "metadata": {
        "colab_type": "text",
        "id": "QlM8KrSOsaYo"
      },
      "source": [
        "It seems to be working, and it produces a result of the expected shape and type."
      ]
    },
    {
      "cell_type": "markdown",
      "metadata": {
        "colab_type": "text",
        "id": "0-qWCsh6DlyH"
      },
      "source": [
        "### Train the model\n",
        "\n",
        "Train the model for 1000 epochs, and record the training and validation accuracy in the `history` object."
      ]
    },
    {
      "cell_type": "code",
      "metadata": {
        "colab_type": "code",
        "id": "fdMZuhUgzMZ4",
        "colab": {
          "base_uri": "https://localhost:8080/",
          "height": 212
        },
        "outputId": "56e0da29-5b1a-40e8-d478-e9999fbb491e"
      },
      "source": [
        "# Display training progress by printing a single dot for each completed epoch\n",
        "class PrintDot(keras.callbacks.Callback):\n",
        "  def on_epoch_end(self, epoch, logs):\n",
        "    if epoch % 100 == 0: print('')\n",
        "    print('.', end='')\n",
        "\n",
        "EPOCHS = 1000\n",
        "\n",
        "# The patience parameter is the amount of epochs to check for improvement\n",
        "early_stop = keras.callbacks.EarlyStopping(monitor='val_loss', patience=75)\n",
        "\n",
        "history = model.fit(normed_train_data, train_labels, epochs=EPOCHS,\n",
        "                    validation_split = 0.2, verbose=0, callbacks=[early_stop, PrintDot()])\n"
      ],
      "execution_count": null,
      "outputs": [
        {
          "output_type": "stream",
          "text": [
            "\n",
            "....................................................................................................\n",
            "....................................................................................................\n",
            "....................................................................................................\n",
            "....................................................................................................\n",
            "....................................................................................................\n",
            "....................................................................................................\n",
            "....................................................................................................\n",
            "....................................................................................................\n",
            "....................................................................................................\n",
            "...................................................................................................."
          ],
          "name": "stdout"
        }
      ]
    },
    {
      "cell_type": "markdown",
      "metadata": {
        "colab_type": "text",
        "id": "tQm3pc0FYPQB"
      },
      "source": [
        "Visualize the model's training progress using the stats stored in the `history` object."
      ]
    },
    {
      "cell_type": "code",
      "metadata": {
        "id": "IHtfi4xlXiHy",
        "colab_type": "code",
        "colab": {
          "base_uri": "https://localhost:8080/",
          "height": 194
        },
        "outputId": "e7bd83a7-bf90-4453-bbb5-4b7b09a4fb10"
      },
      "source": [
        "hist = pd.DataFrame(history.history)\n",
        "hist['epoch'] = history.epoch\n",
        "hist.tail() "
      ],
      "execution_count": null,
      "outputs": [
        {
          "output_type": "execute_result",
          "data": {
            "text/html": [
              "<div>\n",
              "<style scoped>\n",
              "    .dataframe tbody tr th:only-of-type {\n",
              "        vertical-align: middle;\n",
              "    }\n",
              "\n",
              "    .dataframe tbody tr th {\n",
              "        vertical-align: top;\n",
              "    }\n",
              "\n",
              "    .dataframe thead th {\n",
              "        text-align: right;\n",
              "    }\n",
              "</style>\n",
              "<table border=\"1\" class=\"dataframe\">\n",
              "  <thead>\n",
              "    <tr style=\"text-align: right;\">\n",
              "      <th></th>\n",
              "      <th>loss</th>\n",
              "      <th>mean_absolute_error</th>\n",
              "      <th>mean_squared_error</th>\n",
              "      <th>val_loss</th>\n",
              "      <th>val_mean_absolute_error</th>\n",
              "      <th>val_mean_squared_error</th>\n",
              "      <th>epoch</th>\n",
              "    </tr>\n",
              "  </thead>\n",
              "  <tbody>\n",
              "    <tr>\n",
              "      <th>995</th>\n",
              "      <td>0.052938</td>\n",
              "      <td>0.165822</td>\n",
              "      <td>0.052938</td>\n",
              "      <td>0.063132</td>\n",
              "      <td>0.174013</td>\n",
              "      <td>0.063132</td>\n",
              "      <td>995</td>\n",
              "    </tr>\n",
              "    <tr>\n",
              "      <th>996</th>\n",
              "      <td>0.053472</td>\n",
              "      <td>0.166596</td>\n",
              "      <td>0.053472</td>\n",
              "      <td>0.065631</td>\n",
              "      <td>0.179348</td>\n",
              "      <td>0.065631</td>\n",
              "      <td>996</td>\n",
              "    </tr>\n",
              "    <tr>\n",
              "      <th>997</th>\n",
              "      <td>0.053073</td>\n",
              "      <td>0.165585</td>\n",
              "      <td>0.053073</td>\n",
              "      <td>0.063014</td>\n",
              "      <td>0.172355</td>\n",
              "      <td>0.063014</td>\n",
              "      <td>997</td>\n",
              "    </tr>\n",
              "    <tr>\n",
              "      <th>998</th>\n",
              "      <td>0.053570</td>\n",
              "      <td>0.166507</td>\n",
              "      <td>0.053570</td>\n",
              "      <td>0.068230</td>\n",
              "      <td>0.179989</td>\n",
              "      <td>0.068230</td>\n",
              "      <td>998</td>\n",
              "    </tr>\n",
              "    <tr>\n",
              "      <th>999</th>\n",
              "      <td>0.053133</td>\n",
              "      <td>0.165867</td>\n",
              "      <td>0.053133</td>\n",
              "      <td>0.071351</td>\n",
              "      <td>0.184860</td>\n",
              "      <td>0.071351</td>\n",
              "      <td>999</td>\n",
              "    </tr>\n",
              "  </tbody>\n",
              "</table>\n",
              "</div>"
            ],
            "text/plain": [
              "         loss  mean_absolute_error  ...  val_mean_squared_error  epoch\n",
              "995  0.052938             0.165822  ...                0.063132    995\n",
              "996  0.053472             0.166596  ...                0.065631    996\n",
              "997  0.053073             0.165585  ...                0.063014    997\n",
              "998  0.053570             0.166507  ...                0.068230    998\n",
              "999  0.053133             0.165867  ...                0.071351    999\n",
              "\n",
              "[5 rows x 7 columns]"
            ]
          },
          "metadata": {
            "tags": []
          },
          "execution_count": 16
        }
      ]
    },
    {
      "cell_type": "code",
      "metadata": {
        "id": "VPI7VDvrXvJb",
        "colab_type": "code",
        "colab": {
          "base_uri": "https://localhost:8080/",
          "height": 549
        },
        "outputId": "d9d4748e-e42c-4c92-bc7a-f90eb2d8c2a5"
      },
      "source": [
        "def plot_history(history):\n",
        "  hist = pd.DataFrame(history.history)\n",
        "  hist['epoch'] = history.epoch\n",
        "\n",
        "  plt.figure()\n",
        "  plt.xlabel('Epoch')\n",
        "  plt.ylabel('Mean Abs Error [ST]')\n",
        "  plt.plot(hist['epoch'], hist['mean_absolute_error'],\n",
        "           label='Train Error')\n",
        "  plt.plot(hist['epoch'], hist['val_mean_absolute_error'],\n",
        "           label = 'Val Error')\n",
        "  plt.ylim([0,2])\n",
        "  plt.legend()\n",
        "\n",
        "  plt.figure()\n",
        "  plt.xlabel('Epoch')\n",
        "  plt.ylabel('Mean Square Error [$ST^2$]')\n",
        "  plt.plot(hist['epoch'], hist['mean_squared_error'],\n",
        "           label='Train Error')\n",
        "  plt.plot(hist['epoch'], hist['val_mean_squared_error'],\n",
        "           label = 'Val Error')\n",
        "  plt.ylim([0,5])\n",
        "  plt.legend()\n",
        "  plt.show()\n",
        "\n",
        "\n",
        "plot_history(history)"
      ],
      "execution_count": null,
      "outputs": [
        {
          "output_type": "display_data",
          "data": {
            "image/png": "[encoded data removed]",
            "text/plain": [
              "<Figure size 432x288 with 1 Axes>"
            ]
          },
          "metadata": {
            "tags": [],
            "needs_background": "light"
          }
        },
        {
          "output_type": "display_data",
          "data": {
            "image/png": "[encoded data removed]",
            "text/plain": [
              "<Figure size 432x288 with 1 Axes>"
            ]
          },
          "metadata": {
            "tags": [],
            "needs_background": "light"
          }
        }
      ]
    },
    {
      "cell_type": "markdown",
      "metadata": {
        "colab_type": "text",
        "id": "3St8-DmrX8P4"
      },
      "source": [
        "The graph shows that on the validation set, the average error is usually around +/- 2 MPG. Is this good? We'll leave that decision up to you.\n",
        "\n",
        "Let's see how well the model generalizes by using the **test** set, which we did not use when training the model.  This tells us how well we can expect the model to predict when we use it in the real world."
      ]
    },
    {
      "cell_type": "code",
      "metadata": {
        "colab_type": "code",
        "id": "jl_yNr5n1kms",
        "colab": {
          "base_uri": "https://localhost:8080/",
          "height": 35
        },
        "outputId": "a15b9d4d-ad43-4fc9-fc50-c9e5fdbff32c"
      },
      "source": [
        "loss, mae, mse = model.evaluate(normed_test_data, test_labels, verbose=0)\n",
        "\n",
        "print(\"Testing set Mean Abs Error: {:5.2f} mN/m\".format(mae))"
      ],
      "execution_count": null,
      "outputs": [
        {
          "output_type": "stream",
          "text": [
            "Testing set Mean Abs Error:  0.19 mN/m\n"
          ],
          "name": "stdout"
        }
      ]
    },
    {
      "cell_type": "markdown",
      "metadata": {
        "colab_type": "text",
        "id": "ft603OzXuEZC"
      },
      "source": [
        "### Make predictions\n",
        "\n",
        "Finally, predict ST values using data in the testing set:"
      ]
    },
    {
      "cell_type": "code",
      "metadata": {
        "colab_type": "code",
        "id": "Xe7RXH3N3CWU",
        "colab": {
          "base_uri": "https://localhost:8080/",
          "height": 573
        },
        "outputId": "c892064f-a2e9-4d68-a5b8-d0cef71d7004"
      },
      "source": [
        "test_predictions = model.predict(normed_test_data).flatten()\n",
        "\n",
        "plt.scatter(test_labels, test_predictions)\n",
        "plt.title('Normalized test data')\n",
        "plt.xlabel('True Values [surface tension - mN/m]')\n",
        "plt.ylabel('Predictions [surface tension - mN/m]')\n",
        "plt.axis('equal')\n",
        "plt.axis('square')\n",
        "plt.xlim([10,75])\n",
        "plt.ylim([10,75])\n",
        "_ = plt.plot([-100, 100], [-100, 100])\n",
        "plt.show()\n",
        "\n",
        "test_predictions2 = model.predict(normed_train_data).flatten()\n",
        "\n",
        "plt.scatter(train_labels, test_predictions2)\n",
        "plt.title('Normalized training data')\n",
        "plt.xlabel('True Values [surface tension - mN/m]')\n",
        "plt.ylabel('Predictions [surface tension - mN/m]')\n",
        "plt.axis('equal')\n",
        "plt.axis('square')\n",
        "plt.xlim([10,75])\n",
        "plt.ylim([10,75])\n",
        "_ = plt.plot([-100, 100], [-100, 100])\n",
        "plt.show()\n"
      ],
      "execution_count": null,
      "outputs": [
        {
          "output_type": "display_data",
          "data": {
            "image/png": "[encoded data removed]",
            "text/plain": [
              "<Figure size 432x288 with 1 Axes>"
            ]
          },
          "metadata": {
            "tags": [],
            "needs_background": "light"
          }
        },
        {
          "output_type": "display_data",
          "data": {
            "image/png": "[encoded data removed]",
            "text/plain": [
              "<Figure size 432x288 with 1 Axes>"
            ]
          },
          "metadata": {
            "tags": [],
            "needs_background": "light"
          }
        }
      ]
    },
    {
      "cell_type": "markdown",
      "metadata": {
        "colab_type": "text",
        "id": "OrkHGKZcusUo"
      },
      "source": [
        "Seriously?"
      ]
    },
    {
      "cell_type": "code",
      "metadata": {
        "colab_type": "code",
        "id": "f-OHX4DiXd8x",
        "colab": {
          "base_uri": "https://localhost:8080/",
          "height": 279
        },
        "outputId": "85b009da-d9fc-459c-ed79-88f4c2c5e081"
      },
      "source": [
        "error = test_predictions - test_labels\n",
        "plt.hist(error, bins = 50)\n",
        "plt.xlabel(\"Prediction Error [mN/m]\")\n",
        "_ = plt.ylabel(\"Count\")\n",
        "#plt.ylim(0, 5)\n",
        "plt.show()"
      ],
      "execution_count": null,
      "outputs": [
        {
          "output_type": "display_data",
          "data": {
            "image/png": "[encoded data removed]",
            "text/plain": [
              "<Figure size 432x288 with 1 Axes>"
            ]
          },
          "metadata": {
            "tags": [],
            "needs_background": "light"
          }
        }
      ]
    },
    {
      "cell_type": "markdown",
      "metadata": {
        "id": "9fyk10HWGv-w",
        "colab_type": "text"
      },
      "source": [
        "### Try out a different model"
      ]
    },
    {
      "cell_type": "code",
      "metadata": {
        "colab_type": "code",
        "id": "J6EaoxCXGmlQ",
        "colab": {}
      },
      "source": [
        "def build_model():\n",
        "  model = keras.Sequential([\n",
        "    layers.Dense(200, activation=tf.nn.relu, input_shape=[len(train_dataset.keys())]),\n",
        "    layers.Dense(100, activation=tf.nn.swish), # input_shape=[len(train_dataset.keys())]),\n",
        "    layers.Dense(50, activation=tf.nn.swish),\n",
        "    layers.Dense(5, activation=tf.nn.swish),\n",
        "    layers.Dense(1)\n",
        "  ])\n",
        "\n",
        "  optimizer = get_optimizer() # tf.keras.optimizers.Adam(learning_rate=0.001) #RMSprop(0.0001)\n",
        "  model.compile(loss='mean_squared_error',\n",
        "                optimizer=optimizer,\n",
        "                metrics=['mean_absolute_error', 'mean_squared_error'])\n",
        "  return model"
      ],
      "execution_count": null,
      "outputs": []
    },
    {
      "cell_type": "code",
      "metadata": {
        "colab_type": "code",
        "id": "8FnUsVd1Gmli",
        "colab": {}
      },
      "source": [
        "model_big = build_model()"
      ],
      "execution_count": null,
      "outputs": []
    },
    {
      "cell_type": "markdown",
      "metadata": {
        "colab_type": "text",
        "id": "yLcQNtUhGmll"
      },
      "source": [
        "## If there is a model saved on google drive execute the next block"
      ]
    },
    {
      "cell_type": "code",
      "metadata": {
        "colab_type": "code",
        "id": "uWsiP4rRGmlm",
        "colab": {}
      },
      "source": [
        "from tensorflow.keras.models import load_model\n",
        "\n",
        "del model \n",
        "\n",
        "model_name=str('test_training_whole_drop_3μL_best_175points_noise_0.004_vol_6.h5')\n",
        "model = load_model(str(\"/content/drive/My Drive/DropLev/MachineLearningModels/\"+model_name))\n"
      ],
      "execution_count": null,
      "outputs": []
    },
    {
      "cell_type": "markdown",
      "metadata": {
        "colab_type": "text",
        "id": "my3o3TCOGmlp"
      },
      "source": [
        "### Inspect the model\n",
        "\n",
        "Use the `.summary` method to print a simple description of the model"
      ]
    },
    {
      "cell_type": "code",
      "metadata": {
        "colab_type": "code",
        "id": "q1U3c9_VGmlp",
        "colab": {
          "base_uri": "https://localhost:8080/",
          "height": 337
        },
        "outputId": "5f3053b8-6448-407b-beae-92856e45aeeb"
      },
      "source": [
        "model_big.summary()"
      ],
      "execution_count": null,
      "outputs": [
        {
          "output_type": "stream",
          "text": [
            "Model: \"sequential_1\"\n",
            "_________________________________________________________________\n",
            "Layer (type)                 Output Shape              Param #   \n",
            "=================================================================\n",
            "dense_3 (Dense)              (None, 200)               70600     \n",
            "_________________________________________________________________\n",
            "dense_4 (Dense)              (None, 100)               20100     \n",
            "_________________________________________________________________\n",
            "dense_5 (Dense)              (None, 50)                5050      \n",
            "_________________________________________________________________\n",
            "dense_6 (Dense)              (None, 5)                 255       \n",
            "_________________________________________________________________\n",
            "dense_7 (Dense)              (None, 1)                 6         \n",
            "=================================================================\n",
            "Total params: 96,011\n",
            "Trainable params: 96,011\n",
            "Non-trainable params: 0\n",
            "_________________________________________________________________\n"
          ],
          "name": "stdout"
        }
      ]
    },
    {
      "cell_type": "markdown",
      "metadata": {
        "colab_type": "text",
        "id": "VIjVtYyyGmls"
      },
      "source": [
        "\n",
        "Now try out the model. Take a batch of `10` examples from the training data and call `model.predict` on it."
      ]
    },
    {
      "cell_type": "code",
      "metadata": {
        "colab_type": "code",
        "id": "G5_MGnAzGmlt",
        "colab": {
          "base_uri": "https://localhost:8080/",
          "height": 195
        },
        "outputId": "37cd6370-cf9c-402a-8567-a073da143a2d"
      },
      "source": [
        "example_batch = normed_train_data[:10]\n",
        "example_result = model.predict(example_batch)\n",
        "example_result"
      ],
      "execution_count": null,
      "outputs": [
        {
          "output_type": "execute_result",
          "data": {
            "text/plain": [
              "array([[52.56801 ],\n",
              "       [45.614388],\n",
              "       [66.16925 ],\n",
              "       [69.43645 ],\n",
              "       [61.43324 ],\n",
              "       [49.346756],\n",
              "       [35.584835],\n",
              "       [26.093672],\n",
              "       [52.617676],\n",
              "       [51.04277 ]], dtype=float32)"
            ]
          },
          "metadata": {
            "tags": []
          },
          "execution_count": 30
        }
      ]
    },
    {
      "cell_type": "markdown",
      "metadata": {
        "colab_type": "text",
        "id": "HvdF7VgzGmlw"
      },
      "source": [
        "It seems to be working, and it produces a result of the expected shape and type."
      ]
    },
    {
      "cell_type": "markdown",
      "metadata": {
        "colab_type": "text",
        "id": "MP5Bz5BzGmlx"
      },
      "source": [
        "### Train the model\n",
        "\n",
        "Train the model for 1000 epochs, and record the training and validation accuracy in the `history` object."
      ]
    },
    {
      "cell_type": "code",
      "metadata": {
        "colab_type": "code",
        "id": "8iG9JR5NGmlx",
        "colab": {
          "base_uri": "https://localhost:8080/",
          "height": 106
        },
        "outputId": "3cd4da46-a80b-4f93-f5b0-d97174060c2b"
      },
      "source": [
        "# Display training progress by printing a single dot for each completed epoch\n",
        "class PrintDot(keras.callbacks.Callback):\n",
        "  def on_epoch_end(self, epoch, logs):\n",
        "    if epoch % 100 == 0: print('')\n",
        "    print('.', end='')\n",
        "\n",
        "EPOCHS = 1000\n",
        "\n",
        "# The patience parameter is the amount of epochs to check for improvement\n",
        "early_stop = keras.callbacks.EarlyStopping(monitor='val_loss', patience=75)\n",
        "\n",
        "history_big = model_big.fit(normed_train_data, train_labels, epochs=EPOCHS,\n",
        "                    validation_split = 0.2, verbose=0, callbacks=[early_stop, PrintDot()])\n"
      ],
      "execution_count": null,
      "outputs": [
        {
          "output_type": "stream",
          "text": [
            "\n",
            "....................................................................................................\n",
            "....................................................................................................\n",
            "....................................................................................................\n",
            "......................................................"
          ],
          "name": "stdout"
        }
      ]
    },
    {
      "cell_type": "markdown",
      "metadata": {
        "colab_type": "text",
        "id": "0Kwk9eLaGmlz"
      },
      "source": [
        "Visualize the model's training progress using the stats stored in the `history` object."
      ]
    },
    {
      "cell_type": "code",
      "metadata": {
        "colab_type": "code",
        "id": "UPNtAEKZGmlz",
        "colab": {
          "base_uri": "https://localhost:8080/",
          "height": 194
        },
        "outputId": "09b05831-2007-4d9a-b8d2-a9d11f620a9e"
      },
      "source": [
        "hist_big = pd.DataFrame(history_big.history)\n",
        "hist_big['epoch'] = history_big.epoch\n",
        "hist_big.tail() "
      ],
      "execution_count": null,
      "outputs": [
        {
          "output_type": "execute_result",
          "data": {
            "text/html": [
              "<div>\n",
              "<style scoped>\n",
              "    .dataframe tbody tr th:only-of-type {\n",
              "        vertical-align: middle;\n",
              "    }\n",
              "\n",
              "    .dataframe tbody tr th {\n",
              "        vertical-align: top;\n",
              "    }\n",
              "\n",
              "    .dataframe thead th {\n",
              "        text-align: right;\n",
              "    }\n",
              "</style>\n",
              "<table border=\"1\" class=\"dataframe\">\n",
              "  <thead>\n",
              "    <tr style=\"text-align: right;\">\n",
              "      <th></th>\n",
              "      <th>loss</th>\n",
              "      <th>mean_absolute_error</th>\n",
              "      <th>mean_squared_error</th>\n",
              "      <th>val_loss</th>\n",
              "      <th>val_mean_absolute_error</th>\n",
              "      <th>val_mean_squared_error</th>\n",
              "      <th>epoch</th>\n",
              "    </tr>\n",
              "  </thead>\n",
              "  <tbody>\n",
              "    <tr>\n",
              "      <th>349</th>\n",
              "      <td>0.009550</td>\n",
              "      <td>0.068605</td>\n",
              "      <td>0.009550</td>\n",
              "      <td>0.016726</td>\n",
              "      <td>0.093524</td>\n",
              "      <td>0.016726</td>\n",
              "      <td>349</td>\n",
              "    </tr>\n",
              "    <tr>\n",
              "      <th>350</th>\n",
              "      <td>0.009735</td>\n",
              "      <td>0.069005</td>\n",
              "      <td>0.009735</td>\n",
              "      <td>0.009707</td>\n",
              "      <td>0.068078</td>\n",
              "      <td>0.009707</td>\n",
              "      <td>350</td>\n",
              "    </tr>\n",
              "    <tr>\n",
              "      <th>351</th>\n",
              "      <td>0.009828</td>\n",
              "      <td>0.069744</td>\n",
              "      <td>0.009828</td>\n",
              "      <td>0.017998</td>\n",
              "      <td>0.099655</td>\n",
              "      <td>0.017998</td>\n",
              "      <td>351</td>\n",
              "    </tr>\n",
              "    <tr>\n",
              "      <th>352</th>\n",
              "      <td>0.010031</td>\n",
              "      <td>0.067599</td>\n",
              "      <td>0.010031</td>\n",
              "      <td>0.016418</td>\n",
              "      <td>0.088410</td>\n",
              "      <td>0.016418</td>\n",
              "      <td>352</td>\n",
              "    </tr>\n",
              "    <tr>\n",
              "      <th>353</th>\n",
              "      <td>0.008605</td>\n",
              "      <td>0.065644</td>\n",
              "      <td>0.008605</td>\n",
              "      <td>0.010773</td>\n",
              "      <td>0.071640</td>\n",
              "      <td>0.010773</td>\n",
              "      <td>353</td>\n",
              "    </tr>\n",
              "  </tbody>\n",
              "</table>\n",
              "</div>"
            ],
            "text/plain": [
              "         loss  mean_absolute_error  ...  val_mean_squared_error  epoch\n",
              "349  0.009550             0.068605  ...                0.016726    349\n",
              "350  0.009735             0.069005  ...                0.009707    350\n",
              "351  0.009828             0.069744  ...                0.017998    351\n",
              "352  0.010031             0.067599  ...                0.016418    352\n",
              "353  0.008605             0.065644  ...                0.010773    353\n",
              "\n",
              "[5 rows x 7 columns]"
            ]
          },
          "metadata": {
            "tags": []
          },
          "execution_count": 42
        }
      ]
    },
    {
      "cell_type": "code",
      "metadata": {
        "colab_type": "code",
        "id": "FXoBIFTgGml1",
        "colab": {
          "base_uri": "https://localhost:8080/",
          "height": 549
        },
        "outputId": "af7fd6b4-e0b3-4cf0-da85-5fab84ad16e9"
      },
      "source": [
        "def plot_history(history):\n",
        "  hist = pd.DataFrame(history.history)\n",
        "  hist['epoch'] = history.epoch\n",
        "\n",
        "  plt.figure()\n",
        "  plt.xlabel('Epoch')\n",
        "  plt.ylabel('Mean Abs Error [ST]')\n",
        "  plt.plot(hist['epoch'], hist['mean_absolute_error'],\n",
        "           label='Train Error')\n",
        "  plt.plot(hist['epoch'], hist['val_mean_absolute_error'],\n",
        "           label = 'Val Error')\n",
        "  plt.ylim([0,2])\n",
        "  plt.legend()\n",
        "\n",
        "  plt.figure()\n",
        "  plt.xlabel('Epoch')\n",
        "  plt.ylabel('Mean Square Error [$ST^2$]')\n",
        "  plt.plot(hist['epoch'], hist['mean_squared_error'],\n",
        "           label='Train Error')\n",
        "  plt.plot(hist['epoch'], hist['val_mean_squared_error'],\n",
        "           label = 'Val Error')\n",
        "  plt.ylim([0,5])\n",
        "  plt.legend()\n",
        "  plt.show()\n",
        "\n",
        "\n",
        "plot_history(history_big)"
      ],
      "execution_count": null,
      "outputs": [
        {
          "output_type": "display_data",
          "data": {
            "image/png": "[encoded data removed]",
            "text/plain": [
              "<Figure size 432x288 with 1 Axes>"
            ]
          },
          "metadata": {
            "tags": [],
            "needs_background": "light"
          }
        },
        {
          "output_type": "display_data",
          "data": {
            "image/png": "[encoded data removed]",
            "text/plain": [
              "<Figure size 432x288 with 1 Axes>"
            ]
          },
          "metadata": {
            "tags": [],
            "needs_background": "light"
          }
        }
      ]
    },
    {
      "cell_type": "markdown",
      "metadata": {
        "colab_type": "text",
        "id": "tMUM2ZMoGml3"
      },
      "source": [
        "The graph shows that on the validation set, the average error is usually around +/- 2 MPG. Is this good? We'll leave that decision up to you.\n",
        "\n",
        "Let's see how well the model generalizes by using the **test** set, which we did not use when training the model.  This tells us how well we can expect the model to predict when we use it in the real world."
      ]
    },
    {
      "cell_type": "code",
      "metadata": {
        "colab_type": "code",
        "id": "fXVH-grGGml3",
        "colab": {
          "base_uri": "https://localhost:8080/",
          "height": 35
        },
        "outputId": "64cbb873-3358-42d3-e8ae-a0309dda1306"
      },
      "source": [
        "loss, mae, mse = model_big.evaluate(normed_test_data, test_labels, verbose=0)\n",
        "\n",
        "print(\"Testing set Mean Abs Error: {:5.2f} mN/m\".format(mae))"
      ],
      "execution_count": null,
      "outputs": [
        {
          "output_type": "stream",
          "text": [
            "Testing set Mean Abs Error:  0.07 mN/m\n"
          ],
          "name": "stdout"
        }
      ]
    },
    {
      "cell_type": "markdown",
      "metadata": {
        "colab_type": "text",
        "id": "4ifGv8-hGml5"
      },
      "source": [
        "### Make predictions\n",
        "\n",
        "Finally, predict ST values using data in the testing set:"
      ]
    },
    {
      "cell_type": "code",
      "metadata": {
        "colab_type": "code",
        "id": "Wi0BcB87Gml5",
        "colab": {
          "base_uri": "https://localhost:8080/",
          "height": 573
        },
        "outputId": "4d202dd0-02c2-43c1-dfbb-7fab341607b1"
      },
      "source": [
        "test_predictions_big = model_big.predict(normed_test_data).flatten()\n",
        "\n",
        "plt.scatter(test_labels, test_predictions_big)\n",
        "plt.title('Normalized test data')\n",
        "plt.xlabel('True Values [surface tension - mN/m]')\n",
        "plt.ylabel('Predictions [surface tension - mN/m]')\n",
        "plt.axis('equal')\n",
        "plt.axis('square')\n",
        "plt.xlim([10,75])\n",
        "plt.ylim([10,75])\n",
        "_ = plt.plot([-100, 100], [-100, 100])\n",
        "plt.show()\n",
        "\n",
        "test_predictions2_big = model_big.predict(normed_train_data).flatten()\n",
        "\n",
        "plt.scatter(train_labels, test_predictions2_big)\n",
        "plt.title('Normalized training data')\n",
        "plt.xlabel('True Values [surface tension - mN/m]')\n",
        "plt.ylabel('Predictions [surface tension - mN/m]')\n",
        "plt.axis('equal')\n",
        "plt.axis('square')\n",
        "plt.xlim([10,75])\n",
        "plt.ylim([10,75])\n",
        "_ = plt.plot([-100, 100], [-100, 100])\n",
        "plt.show()\n"
      ],
      "execution_count": null,
      "outputs": [
        {
          "output_type": "display_data",
          "data": {
            "image/png": "[encoded data removed]",
            "text/plain": [
              "<Figure size 432x288 with 1 Axes>"
            ]
          },
          "metadata": {
            "tags": [],
            "needs_background": "light"
          }
        },
        {
          "output_type": "display_data",
          "data": {
            "image/png": "[encoded data removed]",
            "text/plain": [
              "<Figure size 432x288 with 1 Axes>"
            ]
          },
          "metadata": {
            "tags": [],
            "needs_background": "light"
          }
        }
      ]
    },
    {
      "cell_type": "markdown",
      "metadata": {
        "colab_type": "text",
        "id": "30DW9Dt9Gml8"
      },
      "source": [
        "Seriously?"
      ]
    },
    {
      "cell_type": "code",
      "metadata": {
        "colab_type": "code",
        "id": "1zNzaL86Gml8",
        "colab": {
          "base_uri": "https://localhost:8080/",
          "height": 283
        },
        "outputId": "0d69f5ff-1ca3-4b1f-a600-83ad54be17c5"
      },
      "source": [
        "error_big = test_predictions_big - test_labels\n",
        "plt.hist(error_big, bins = 50)\n",
        "plt.xlabel(\"Prediction Error [mN/m]\")\n",
        "_ = plt.ylabel(\"Count\")\n",
        "#plt.ylim(0, 5)\n",
        "plt.show()"
      ],
      "execution_count": null,
      "outputs": [
        {
          "output_type": "display_data",
          "data": {
            "image/png": "[encoded data removed]",
            "text/plain": [
              "<Figure size 432x288 with 1 Axes>"
            ]
          },
          "metadata": {
            "tags": [],
            "needs_background": "light"
          }
        }
      ]
    },
    {
      "cell_type": "markdown",
      "metadata": {
        "id": "r-i0Bq5JF0nv",
        "colab_type": "text"
      },
      "source": [
        "# Saving the final Model"
      ]
    },
    {
      "cell_type": "markdown",
      "metadata": {
        "id": "G8FBhOnbGK65",
        "colab_type": "text"
      },
      "source": [
        "When you are satisfied with the model and the accuracy continue from here:"
      ]
    },
    {
      "cell_type": "markdown",
      "metadata": {
        "id": "TvCBPgR-gWXl",
        "colab_type": "text"
      },
      "source": [
        "Run the next code box only if google drive is not mounted to colab"
      ]
    },
    {
      "cell_type": "code",
      "metadata": {
        "id": "7dA-joJRPNiJ",
        "colab_type": "code",
        "colab": {
          "base_uri": "https://localhost:8080/",
          "height": 126
        },
        "outputId": "906fcfa9-ce70-4f7c-d50b-a4da7faa6210"
      },
      "source": [
        "from google.colab import drive\n",
        "drive.mount('/content/drive')"
      ],
      "execution_count": null,
      "outputs": [
        {
          "output_type": "stream",
          "text": [
            "Go to this URL in a browser: https://accounts.google.com/o/oauth2/auth?client_id=947318989803-6bn6qk8qdgf4n4g3pfee6491hc0brc4i.apps.googleusercontent.com&redirect_uri=urn%3aietf%3awg%3aoauth%3a2.0%3aoob&scope=email%20https%3a%2f%2fwww.googleapis.com%2fauth%2fdocs.test%20https%3a%2f%2fwww.googleapis.com%2fauth%2fdrive%20https%3a%2f%2fwww.googleapis.com%2fauth%2fdrive.photos.readonly%20https%3a%2f%2fwww.googleapis.com%2fauth%2fpeopleapi.readonly&response_type=code\n",
            "\n",
            "Enter your authorization code:\n",
            "4/3wHTJGN81TvOx64OLoC3TUZHzYOm_lIxCgMLuYZ0JFBVXHZvpZJdk-Y\n",
            "Mounted at /content/drive\n"
          ],
          "name": "stdout"
        }
      ]
    },
    {
      "cell_type": "markdown",
      "metadata": {
        "id": "BspL3Z6-GPaa",
        "colab_type": "text"
      },
      "source": [
        "Saving the model in a **SavedModel** format"
      ]
    },
    {
      "cell_type": "code",
      "metadata": {
        "id": "VwWrwBcZGLnZ",
        "colab_type": "code",
        "colab": {}
      },
      "source": [
        "!pip install -q pyyaml h5py  # Required to save models in HDF5 format"
      ],
      "execution_count": null,
      "outputs": []
    },
    {
      "cell_type": "code",
      "metadata": {
        "id": "6BR7rbL5GXku",
        "colab_type": "code",
        "colab": {}
      },
      "source": [
        "import os"
      ],
      "execution_count": null,
      "outputs": []
    },
    {
      "cell_type": "code",
      "metadata": {
        "id": "MzumSsZfGYCp",
        "colab_type": "code",
        "colab": {}
      },
      "source": [
        "# Save the entire model as a SavedModel.\n",
        "filename=str('test_training_all_vary_vol_0.h5')\n",
        "#!mkdir -p '/content/drive/My Drive/DropLev/MachineLearningModels' #Ceates a folder named \"MachineLearningModels\"\n",
        "model.save('/content/drive/My Drive/DropLev/MachineLearningModels/'+filename)  #Saves the file"
      ],
      "execution_count": null,
      "outputs": []
    },
    {
      "cell_type": "markdown",
      "metadata": {
        "id": "oZcqRI0r9B4r",
        "colab_type": "text"
      },
      "source": [
        "# Reload a fresh Keras model from the saved model:"
      ]
    },
    {
      "cell_type": "markdown",
      "metadata": {
        "id": "W6mEqNn497op",
        "colab_type": "text"
      },
      "source": [
        "For **SavedModel** format"
      ]
    },
    {
      "cell_type": "code",
      "metadata": {
        "id": "c4vUC4ep8_VA",
        "colab_type": "code",
        "colab": {}
      },
      "source": [
        "filename=str('test_training_quarter_drop_best_35points.h5')\n",
        "\n",
        "model = tf.keras.models.load_model('/content/drive/My Drive/DropLev/MachineLearningModels/'+filename)\n",
        "\n",
        "# Check its architecture\n",
        "model.summary()"
      ],
      "execution_count": null,
      "outputs": []
    },
    {
      "cell_type": "markdown",
      "metadata": {
        "id": "j1K6xGBg9K4A",
        "colab_type": "text"
      },
      "source": [
        "View the MAE of the saved and re-called model:"
      ]
    },
    {
      "cell_type": "code",
      "metadata": {
        "id": "if5rjrz79NPI",
        "colab_type": "code",
        "colab": {}
      },
      "source": [
        "# Evaluation\n",
        "loss, mae, mse = model.evaluate(normed_test_data, test_labels, verbose=0)\n",
        "print('Restored model, Mean absolute error: {:5.2f}'.format(mae))\n"
      ],
      "execution_count": null,
      "outputs": []
    },
    {
      "cell_type": "markdown",
      "metadata": {
        "id": "SfiEXBeBbCcr",
        "colab_type": "text"
      },
      "source": [
        "### Genarate new data and evaluate the saved model"
      ]
    },
    {
      "cell_type": "code",
      "metadata": {
        "id": "93WuLc7ybJoC",
        "colab_type": "code",
        "colab": {
          "base_uri": "https://localhost:8080/",
          "height": 1000
        },
        "outputId": "b49bd0f3-c30c-415f-be24-c1efcf22f6f5"
      },
      "source": [
        "def norm_test(x):\n",
        "  return (x - stats_input_df['mean']) / stats_input_df['std']\n",
        "\n",
        "#import model from drive\n",
        "#filename=str('test_training_whole_drop_best.h5')\n",
        "#model = tf.keras.models.load_model('/content/drive/My Drive/DropLev/MachineLearningModels/'+filename)\n",
        "\n",
        "\n",
        "num_sample_test=25\n",
        "sampling=175\n",
        "vol_drop=np.random.random(num_sample_test)*(7-2)+2\n",
        "R_sph=calc_R_sph(vol_drop[i], calibration)\n",
        "Ps=np.random.random(num_sample_test)*(2000-1000)+2000 #Pa\n",
        "theta_test=np.random.rand(num_sample_test, sampling)*np.pi*2\n",
        "theta_test.sort()\n",
        "\n",
        "ST_test=np.random.random(num_sample_test)*(72-25)+25\n",
        "\n",
        "r_all_test=np.empty([0,sampling])\n",
        "\n",
        "for i in range(num_sample_test):\n",
        "  r_test=R_predict(theta_test[i], ST_test[i], R_sph[i], Ps[i], Cg_air, k_o)\n",
        "  r_all_test=np.vstack((r_all_test, r_test))\n",
        "\n",
        "test_dataset=np.hstack((theta_test,r_all_test, ST_test.reshape([num_sample_test,1])))\n",
        "\n",
        "############### Adding noise #############################\n",
        "noise = np.random.random(size=test_dataset.shape)*0.1\n",
        "#print(noise)\n",
        "test_dataset=test_dataset+noise\n",
        "plt.figure()\n",
        "plt.plot(test_dataset[0, 0:sampling], test_dataset[0, sampling:sampling*2])\n",
        "##########################################################\n",
        "\n",
        "input_array=test_dataset[:, 0:sampling*2]\n",
        "input_df=pd.DataFrame(input_array, index=None, dtype=float)\n",
        "\n",
        "stats_input_df=input_df.describe()\n",
        "stats_input_df=stats_input_df.transpose()\n",
        "\n",
        "norm_input_array=norm_test(input_df)\n",
        "prediction=model.predict(norm_input_array).flatten()\n",
        "true_values=test_dataset[:, sampling*2]\n",
        "\n",
        "plt.figure()\n",
        "plt.xlabel('Frame number')\n",
        "plt.ylabel('Surface tension [ mN/m ]')\n",
        "plt.ylim(20, 75)\n",
        "plt.plot(prediction, label='Predicted values')\n",
        "plt.plot(true_values, label='Real values')\n",
        "plt.legend()\n",
        "\n",
        "plt.figure()\n",
        "plt.scatter(true_values, prediction)\n",
        "plt.title('Normalized new test data')\n",
        "plt.xlabel('True Values [surface tension - mN/m]')\n",
        "plt.ylabel('Predictions [surface tension - mN/m]')\n",
        "plt.axis('equal')\n",
        "plt.axis('square')\n",
        "plt.xlim([10,75])\n",
        "plt.ylim([10,75])\n",
        "_ = plt.plot([-100, 100], [-100, 100])\n",
        "plt.show()\n",
        "\n",
        "error = prediction - true_values\n",
        "plt.figure()\n",
        "plt.hist(error, bins = 50)\n",
        "plt.xlabel(\"Prediction Error [mN/m]\")\n",
        "_ = plt.ylabel(\"Count\")\n",
        "plt.show()\n"
      ],
      "execution_count": null,
      "outputs": [
        {
          "output_type": "display_data",
          "data": {
            "image/png": "[encoded data removed]",
            "text/plain": [
              "<Figure size 432x288 with 1 Axes>"
            ]
          },
          "metadata": {
            "tags": [],
            "needs_background": "light"
          }
        },
        {
          "output_type": "display_data",
          "data": {
            "image/png": "[encoded data removed]",
            "text/plain": [
              "<Figure size 432x288 with 1 Axes>"
            ]
          },
          "metadata": {
            "tags": [],
            "needs_background": "light"
          }
        },
        {
          "output_type": "display_data",
          "data": {
            "image/png": "[encoded data removed]",
            "text/plain": [
              "<Figure size 432x288 with 1 Axes>"
            ]
          },
          "metadata": {
            "tags": [],
            "needs_background": "light"
          }
        },
        {
          "output_type": "display_data",
          "data": {
            "image/png": "[encoded data removed]",
            "text/plain": [
              "<Figure size 432x288 with 1 Axes>"
            ]
          },
          "metadata": {
            "tags": [],
            "needs_background": "light"
          }
        }
      ]
    }
  ]
}