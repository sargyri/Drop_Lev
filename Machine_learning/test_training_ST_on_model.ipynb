{
 "cells": [
  {
   "cell_type": "code",
   "execution_count": 1,
   "metadata": {
    "colab": {
     "base_uri": "https://localhost:8080/",
     "height": 302
    },
    "colab_type": "code",
    "executionInfo": {
     "elapsed": 5295,
     "status": "ok",
     "timestamp": 1598903697223,
     "user": {
      "displayName": "Romain Bordes",
      "photoUrl": "",
      "userId": "06156974316290119472"
     },
     "user_tz": -120
    },
    "id": "IbpYKApN-KAR",
    "outputId": "fdedda4f-d22e-4af3-b1d8-cfe61d9f17ba",
    "scrolled": true
   },
   "outputs": [
    {
     "name": "stdout",
     "output_type": "stream",
     "text": [
      "Requirement already satisfied: lmfit in /usr/local/lib/python3.6/dist-packages (1.0.1)\n",
      "Requirement already satisfied: numpy>=1.16 in /usr/local/lib/python3.6/dist-packages (from lmfit) (1.18.1)\n",
      "Requirement already satisfied: scipy>=1.2 in /usr/local/lib/python3.6/dist-packages (from lmfit) (1.5.2)\n",
      "Requirement already satisfied: asteval>=0.9.16 in /usr/local/lib/python3.6/dist-packages (from lmfit) (0.9.18)\n",
      "Requirement already satisfied: uncertainties>=3.0.1 in /usr/local/lib/python3.6/dist-packages (from lmfit) (3.1.4)\n",
      "Requirement already satisfied: future in /usr/local/lib/python3.6/dist-packages (from uncertainties>=3.0.1->lmfit) (0.18.2)\n",
      "\u001b[33mWARNING: You are using pip version 19.3.1; however, version 20.2.2 is available.\n",
      "You should consider upgrading via the 'pip install --upgrade pip' command.\u001b[0m\n",
      "Requirement already satisfied: seaborn in /usr/local/lib/python3.6/dist-packages (0.10.1)\n",
      "Requirement already satisfied: matplotlib>=2.1.2 in /usr/local/lib/python3.6/dist-packages (from seaborn) (3.1.3)\n",
      "Requirement already satisfied: pandas>=0.22.0 in /usr/local/lib/python3.6/dist-packages (from seaborn) (1.1.1)\n",
      "Requirement already satisfied: numpy>=1.13.3 in /usr/local/lib/python3.6/dist-packages (from seaborn) (1.18.1)\n",
      "Requirement already satisfied: scipy>=1.0.1 in /usr/local/lib/python3.6/dist-packages (from seaborn) (1.5.2)\n",
      "Requirement already satisfied: cycler>=0.10 in /usr/local/lib/python3.6/dist-packages (from matplotlib>=2.1.2->seaborn) (0.10.0)\n",
      "Requirement already satisfied: kiwisolver>=1.0.1 in /usr/local/lib/python3.6/dist-packages (from matplotlib>=2.1.2->seaborn) (1.1.0)\n",
      "Requirement already satisfied: python-dateutil>=2.1 in /usr/local/lib/python3.6/dist-packages (from matplotlib>=2.1.2->seaborn) (2.8.1)\n",
      "Requirement already satisfied: pyparsing!=2.0.4,!=2.1.2,!=2.1.6,>=2.0.1 in /usr/local/lib/python3.6/dist-packages (from matplotlib>=2.1.2->seaborn) (2.4.6)\n",
      "Requirement already satisfied: pytz>=2017.2 in /usr/local/lib/python3.6/dist-packages (from pandas>=0.22.0->seaborn) (2020.1)\n",
      "Requirement already satisfied: six in /usr/lib/python3/dist-packages (from cycler>=0.10->matplotlib>=2.1.2->seaborn) (1.11.0)\n",
      "Requirement already satisfied: setuptools in /usr/local/lib/python3.6/dist-packages (from kiwisolver>=1.0.1->matplotlib>=2.1.2->seaborn) (42.0.2)\n",
      "\u001b[33mWARNING: You are using pip version 19.3.1; however, version 20.2.2 is available.\n",
      "You should consider upgrading via the 'pip install --upgrade pip' command.\u001b[0m\n"
     ]
    }
   ],
   "source": [
    "!pip install lmfit\n",
    "!pip install seaborn\n"
   ]
  },
  {
   "cell_type": "code",
   "execution_count": 2,
   "metadata": {
    "colab": {
     "base_uri": "https://localhost:8080/",
     "height": 34
    },
    "colab_type": "code",
    "executionInfo": {
     "elapsed": 5278,
     "status": "ok",
     "timestamp": 1598903697233,
     "user": {
      "displayName": "Romain Bordes",
      "photoUrl": "",
      "userId": "06156974316290119472"
     },
     "user_tz": -120
    },
    "id": "jyE0M3V99EdP",
    "outputId": "7a631b6f-ee55-482c-dfd4-10ba4099253d",
    "scrolled": true
   },
   "outputs": [
    {
     "name": "stdout",
     "output_type": "stream",
     "text": [
      "2.0.1\n",
      "Num GPUs Available:  1\n"
     ]
    }
   ],
   "source": [
    "import numpy as np\n",
    "#import cv2\n",
    "import os\n",
    "import re\n",
    "import glob\n",
    "import matplotlib.pyplot as plt\n",
    "from scipy.signal import  gaussian\n",
    "from scipy.ndimage import filters\n",
    "from scipy import optimize\n",
    "from scipy.stats import linregress\n",
    "from mpl_toolkits.mplot3d import Axes3D\n",
    "\n",
    "import seaborn as sns\n",
    "\n",
    "import scipy as sp\n",
    "import scipy.interpolate\n",
    "from scipy.integrate import trapz\n",
    "\n",
    "import time\n",
    "\n",
    "import pandas as pd\n",
    "\n",
    "from lmfit import Model, fit_report, Parameters\n",
    "\n",
    "#from __future__ import absolute_import, division, print_function, unicode_literals\n",
    "\n",
    "import pathlib\n",
    "\n",
    "import matplotlib.pyplot as plt\n",
    "import pandas as pd\n",
    "import seaborn as sns\n",
    "\n",
    "import tensorflow as tf\n",
    "from tensorflow import keras\n",
    "from tensorflow.keras import layers\n",
    "\n",
    "print(tf.__version__)\n",
    "print(\"Num GPUs Available: \", len(tf.config.experimental.list_physical_devices('GPU')))\n",
    "\n",
    "\n",
    "######### initialize the data ###############\n",
    "data_input=[]\n",
    "data_output=[]\n",
    "l_sample=300\n",
    "vol_all=[]\n",
    "vol2_all=[]\n",
    "data_x=[]\n",
    "data_y=[]\n",
    "data_h=[]\n",
    "data_w=[]\n",
    "R_sph_all=[]\n",
    "Ar=[]\n",
    "#st_all=[]\n",
    "rho=[]\n",
    "theta=[]\n",
    "#List of non-processed images:\n",
    "discarded=[]\n",
    "new=[]  #list of images without the discarded ones\n",
    "\n",
    "#For the simple approach fit\n",
    "phi_final=[]\n",
    "theta_az=[]\n",
    "theta_all=[]\n",
    "theta_final=[]\n",
    "r_theta_all=[]\n",
    "xc_all=[]\n",
    "yc_all=[]\n",
    "rho_final=[]\n",
    "data_Ps=[]\n",
    "data_dB=[]\n",
    "data_stderr=[]\n",
    "data_err=[]\n",
    "\n",
    "total_num_pictures = len(glob.glob1('.',\"*.png\"))\n",
    "frame_number=np.arange(total_num_pictures)\n",
    "\n",
    "gamma=64 #[N/m]\n",
    "Cg_air=1/101325 #Pa**(-1)\n",
    "k_o=2*np.pi*40/340  #wave number in the air. frequency 40kHz (25kH=0.000040sec) and speed of sound in air v=340 m/s from paper (331.5 for 20oC online) \n",
    "#Calibration\n",
    "needle_d=0.83 #mm\n",
    "needle_pxl=220 #pixels\n",
    "#calibration=0.00621722846441948**3\n",
    "cal=needle_d/needle_pxl\n",
    "calibration=(cal)**3\n",
    "\n",
    "\n",
    "###############################################################################\n",
    "#### Functions used in the data processing ####################################\n",
    "###############################################################################\n",
    "\n",
    "def calc_volume(x,y):\n",
    "    \"\"\"\n",
    "    Calculate the drop volume from a shape matrix.\n",
    "\n",
    "    Parameters\n",
    "    ----------\n",
    "    x, y - contour of the drop\n",
    "\n",
    "    Returns\n",
    "    -------\n",
    "    Integrated volume using for the given shape matrix.\n",
    "\n",
    "    \"\"\"\n",
    "    # data selection\n",
    "    idx=x<=0  # r=right\n",
    "    x_l=x[idx]\n",
    "    y_l=y[idx]\n",
    "        \n",
    "    vol_left=trapz(np.pi*x_l**2, y_l)/2\n",
    "        \n",
    "    # data selection\n",
    "    idx=x>=0  # r=right\n",
    "    x_r=x[idx]\n",
    "    y_r=y[idx]\n",
    "    vol_right=-trapz(np.pi*x_r**2, y_r)/2\n",
    "   \n",
    "    return vol_left+vol_right\n",
    "\n",
    "\n",
    "def calc_R_sph(vol, cal):\n",
    "    \"\"\"\n",
    "    Calculate the spherical radius of a droplet based on the volume.\n",
    "\n",
    "    Input parameters\n",
    "    ----------\n",
    "    vol:         volume   [pixels**3]\n",
    "    calibration: calibration factor  [mm**3/pixels**3]\n",
    "\n",
    "    Returns\n",
    "    -------\n",
    "    Corresponding spherical radius.  [mm]\n",
    "\n",
    "    \"\"\"\n",
    "#    calibration=0.00621722846441948**3\n",
    "    #R_sph=(3*vol*calibration/(4*np.pi))**(1/3)\n",
    "    R_sph=(3*vol/(4*np.pi))**(1/3)\n",
    "    return R_sph\n",
    "\n",
    "def calc_dB(Ps):\n",
    "    \"\"\"\n",
    "    Calculate the deci Bell (dB) value for each acoustic pressure Ps.\n",
    "\n",
    "    Input parameters\n",
    "    ----------\n",
    "    Ps:     aplitude of the acoustic pressure\n",
    "\n",
    "    Returns\n",
    "    -------\n",
    "    dB value. []\n",
    "\n",
    "    \"\"\"\n",
    "    Po=2*10**(-5) #[Pa]\n",
    "\n",
    "    return 20*np.log10(Ps/Po)     #Acoustic pressure [Pa]\n",
    "\n",
    "def model_fit(th, Ps):\n",
    "    \"\"\"\n",
    "    Express the model that will be used to fit the experimental data (simple approach).\n",
    "\n",
    "    Input parameters\n",
    "    ----------\n",
    "    dB:     deciBell\n",
    "    th:     angle theta\n",
    "    Returns\n",
    "    -------\n",
    "    Expression of fitting model.\n",
    "\n",
    "    \"\"\"\n",
    "#    Ps=calc_ampl(dB)\n",
    "    ct_new=-((3/(64*gamma))*R_sph**2*Ps**2*Cg_air*(1+((7/5)*(k_o*R_sph)**2)))\n",
    "    return ct_new*(3*(np.cos(th))**2-1)+R_sph\n",
    "\n",
    "\n",
    "def R_predict(th, gamma, R_sph, Ps, Cg_air, k_o):\n",
    "    \"\"\"\n",
    "    Prediction of ST. \n",
    "    After the acoustic pressure is determined. The ST is calculated based on the equation of our model. \n",
    "    \n",
    "    \n",
    "    Input parameters\n",
    "    ----------\n",
    "    th:     angle theta\n",
    "    gamma:  ST as initial predition [mN/m]\n",
    "    Power:  U*I [Watt]\n",
    "    Returns\n",
    "    -------\n",
    "    gamma:   predicted surface tension [mN/m]\n",
    "\n",
    "    \"\"\"    \n",
    "#    Ps=data_Ps[i-1]    #[Pa]\n",
    "    ct_new=-((3/(64*gamma))*R_sph**2*Ps**2*Cg_air*(1+((7/5)*(k_o*R_sph)**2)))*(3*(np.cos(th))**2-1)\n",
    "    return ct_new+R_sph\n",
    "\n",
    "def ST_predict(th, gamma, R_sph, Ps, Cg_air, k_o):\n",
    "    \"\"\"\n",
    "    Prediction of ST. \n",
    "    After the acoustic pressure is determined. The ST is calculated based on the equation of our model. \n",
    "    \n",
    "    \n",
    "    Input parameters\n",
    "    ----------\n",
    "    th:     angle theta\n",
    "    gamma:  ST as initial predition [mN/m]\n",
    "    Power:  U*I [Watt]\n",
    "    Returns\n",
    "    -------\n",
    "    gamma:   predicted surface tension [mN/m]\n",
    "\n",
    "    \"\"\"    \n",
    "#    Ps=data_Ps[i-1]    #[Pa]\n",
    "    ct_new=-((3/(64*gamma))*R_sph**2*Ps**2*Cg_air*(1+((7/5)*(k_o*R_sph)**2)))*(3*(np.cos(th))**2-1)\n",
    "    return ct_new+R_sph\n",
    "\n",
    "\n",
    "def azimuth(phi):\n",
    "    \"\"\"\n",
    "    Calculate the azimuthal angle.\n",
    "\n",
    "    Input parameters\n",
    "    ----------\n",
    "    phi:     angle phi\n",
    "\n",
    "    Returns\n",
    "    -------\n",
    "    Azimuthal angle.\n",
    "\n",
    "    \"\"\"\n",
    "\n",
    "    if phi<=np.pi/2:\n",
    "        a=np.pi/2-phi\n",
    "    else:\n",
    "        a=2.5*np.pi-phi\n",
    "    return a\n",
    "\n",
    "\n",
    "def cart2pol(x, y):\n",
    "    rho = np.sqrt(x**2 + y**2)\n",
    "    theta = np.arctan2(y, x)\n",
    "    return(theta, rho)\n",
    "\n",
    "def pol2cart(rho, phi):\n",
    "    x = rho * np.cos(phi)\n",
    "    y = rho * np.sin(phi)\n",
    "    return(x, y)\n",
    "\n",
    "\n",
    "def pol2cart_theta(rho, theta):\n",
    "    x = rho * np.sin(theta)\n",
    "    y = rho * np.cos(theta)\n",
    "    return(x, y)"
   ]
  },
  {
   "cell_type": "markdown",
   "metadata": {
    "colab_type": "text",
    "id": "lsGCO8nDUAlJ"
   },
   "source": [
    "Generate random angle:\n",
    "20 000 sets of 200 points"
   ]
  },
  {
   "cell_type": "code",
   "execution_count": 26,
   "metadata": {
    "colab": {
     "base_uri": "https://localhost:8080/",
     "height": 634
    },
    "colab_type": "code",
    "executionInfo": {
     "elapsed": 116611,
     "status": "ok",
     "timestamp": 1598903808592,
     "user": {
      "displayName": "Romain Bordes",
      "photoUrl": "",
      "userId": "06156974316290119472"
     },
     "user_tz": -120
    },
    "id": "k2AMjiCZT_5m",
    "outputId": "3b7cba75-a41d-4735-d1e5-57938eb5183c"
   },
   "outputs": [
    {
     "name": "stdout",
     "output_type": "stream",
     "text": [
      "Radius in mm:  1060.7844179470553\n",
      "(5000, 200)\n",
      "(0, 200)\n",
      "0\n",
      "100\n",
      "200\n",
      "300\n",
      "400\n",
      "500\n",
      "600\n",
      "700\n",
      "800\n",
      "900\n",
      "1000\n",
      "1100\n",
      "1200\n",
      "1300\n",
      "1400\n",
      "1500\n",
      "1600\n",
      "1700\n",
      "1800\n",
      "1900\n",
      "2000\n",
      "2100\n",
      "2200\n",
      "2300\n",
      "2400\n",
      "2500\n",
      "2600\n",
      "2700\n",
      "2800\n",
      "2900\n",
      "3000\n",
      "3100\n",
      "3200\n",
      "3300\n",
      "3400\n",
      "3500\n",
      "3600\n",
      "3700\n",
      "3800\n",
      "3900\n",
      "4000\n",
      "4100\n",
      "4200\n",
      "4300\n",
      "4400\n",
      "4500\n",
      "4600\n",
      "4700\n",
      "4800\n",
      "4900\n",
      "(5000, 200)\n",
      "(5000, 401)\n",
      "30.006102525716475\n",
      "71.99433748141851\n"
     ]
    },
    {
     "data": {
      "image/png": "[encoded data removed]",
      "text/plain": [
       "<Figure size 432x288 with 1 Axes>"
      ]
     },
     "metadata": {
      "needs_background": "light"
     },
     "output_type": "display_data"
    },
    {
     "data": {
      "image/png": "[encoded data removed]",
      "text/plain": [
       "<Figure size 432x288 with 1 Axes>"
      ]
     },
     "metadata": {
      "needs_background": "light"
     },
     "output_type": "display_data"
    }
   ],
   "source": [
    "def gen_data(num_sample,sampling):\n",
    "\n",
    "    np.random.seed(1234)\n",
    "\n",
    "    #test=np.arange(100)\n",
    "    #test_r=np.random.choice(test,10)\n",
    "\n",
    "    vol_drop=5 # in µL\n",
    "    calibration=0.0060567117466506235e-3 #m/px\n",
    "    #calibration=1\n",
    "\n",
    "\n",
    "    gamma=72.8 #[N/m]   !!!!!!!!!!!!!!!!!!!!!   there is an error here should be mN\n",
    "    Cg_air=1/101325 #Pa**(-1)\n",
    "    k_o=2*np.pi*40/340  #wave number in the air. frequency 40kHz (25kH=0.000040sec) and speed of sound in air v=340 m/s from paper (331.5 for 20oC online) \n",
    "    #Calibration\n",
    "    Ps= 1800\n",
    "    R_sph=calc_R_sph(vol_drop, calibration)\n",
    "\n",
    "    print(\"Radius in mm: \", R_sph*1e3)\n",
    "    \n",
    "    #num_sample=200  #ST\n",
    "    #sampling=200\n",
    "\n",
    "    #theta=np.linspace(0,2*np.pi, 100)\n",
    "\n",
    "    #theta=np.random.random(200)*2*np.pi\n",
    "    theta=np.random.rand(num_sample, sampling)*2*np.pi\n",
    "    theta.sort()\n",
    "    ST_range=np.random.random(num_sample)*(72-30)+30\n",
    "    print(theta.shape)\n",
    "    r_all=np.empty([0,sampling])\n",
    "    print(r_all.shape)\n",
    "\n",
    "    for i in range(num_sample):\n",
    "        r=R_predict(theta[i], ST_range[i], R_sph, Ps, Cg_air, k_o)\n",
    "          #print(r.shape)\n",
    "         #print(r)\n",
    "        r_all=np.vstack((r_all, r))\n",
    "        \n",
    "        if i % 100 == 0:\n",
    "                print(i)\n",
    "        \n",
    "\n",
    "    print(r_all.shape)\n",
    "\n",
    "    dataset=np.hstack((theta,r_all, ST_range.reshape([num_sample,1])))\n",
    "    print(dataset.shape)\n",
    "\n",
    "    #print(ST_range)\n",
    "    print(ST_range.min())\n",
    "    print(ST_range.max())\n",
    "    #sns.set(color_codes=True)\n",
    "    sns.distplot(ST_range);\n",
    "\n",
    "    fig3 = plt.figure()\n",
    "    ax = plt.gca()\n",
    "    ax.set_aspect(1)\n",
    "    ax.set_xlim([-1.5,1.5])\n",
    "    ax.set_ylim([-1.5,1.5])\n",
    "    \n",
    "\n",
    "    for j in dataset:\n",
    "\n",
    "      x,y=pol2cart_theta(j[sampling:sampling+sampling], j[0:sampling])\n",
    "    #  print(x.shape)\n",
    "    #  print(y.shape)\n",
    "\n",
    "      #plt.plot(x*1e3,y*1e3)\n",
    "      plt.plot(x,y)\n",
    "\n",
    "    plt.show()\n",
    "    return dataset\n",
    "\n",
    "num_sample=5000  # number of different ST values\n",
    "sampling=200 # number of coordiante point describing the contour\n",
    "\n",
    "\n",
    "dataset=gen_data(num_sample,sampling)\n",
    "\n",
    "\n",
    "column_names=[]\n",
    "for i in range(sampling):\n",
    "  column_names.append('theta')\n",
    "for i in range(sampling):\n",
    "  column_names.append('rho')\n",
    "\n",
    "column_names.append('ST')\n",
    "\n",
    "\n",
    "raw_dataset = pd.DataFrame(dataset, columns=column_names)\n",
    "\n",
    "raw_dataset.to_csv('./dataset.csv',index=False)\n"
   ]
  },
  {
   "cell_type": "code",
   "execution_count": 27,
   "metadata": {
    "colab": {
     "base_uri": "https://localhost:8080/",
     "height": 34
    },
    "colab_type": "code",
    "executionInfo": {
     "elapsed": 116594,
     "status": "ok",
     "timestamp": 1598903808598,
     "user": {
      "displayName": "Romain Bordes",
      "photoUrl": "",
      "userId": "06156974316290119472"
     },
     "user_tz": -120
    },
    "id": "l83INVYlZsND",
    "outputId": "5393fa7d-52d6-48d9-b45d-a3330e077ac2"
   },
   "outputs": [],
   "source": [
    "import io\n",
    "#input = pd.read_csv(io.BytesIO(uploaded['data.csv']))\n",
    "#input = pd.DataFrame(dataset)\n",
    "# Dataset is now stored in a Pandas Dataframe\n",
    "#input.size\n"
   ]
  },
  {
   "cell_type": "code",
   "execution_count": 28,
   "metadata": {
    "colab": {
     "base_uri": "https://localhost:8080/",
     "height": 244
    },
    "colab_type": "code",
    "executionInfo": {
     "elapsed": 116573,
     "status": "ok",
     "timestamp": 1598903808603,
     "user": {
      "displayName": "Romain Bordes",
      "photoUrl": "",
      "userId": "06156974316290119472"
     },
     "user_tz": -120
    },
    "id": "CiX2FI4gZtTt",
    "outputId": "1252b608-d865-4a0b-87b1-3a00c9e96f09"
   },
   "outputs": [
    {
     "data": {
      "text/html": [
       "<div>\n",
       "<style scoped>\n",
       "    .dataframe tbody tr th:only-of-type {\n",
       "        vertical-align: middle;\n",
       "    }\n",
       "\n",
       "    .dataframe tbody tr th {\n",
       "        vertical-align: top;\n",
       "    }\n",
       "\n",
       "    .dataframe thead th {\n",
       "        text-align: right;\n",
       "    }\n",
       "</style>\n",
       "<table border=\"1\" class=\"dataframe\">\n",
       "  <thead>\n",
       "    <tr style=\"text-align: right;\">\n",
       "      <th></th>\n",
       "      <th>theta</th>\n",
       "      <th>theta.1</th>\n",
       "      <th>theta.2</th>\n",
       "      <th>theta.3</th>\n",
       "      <th>theta.4</th>\n",
       "      <th>theta.5</th>\n",
       "      <th>theta.6</th>\n",
       "      <th>theta.7</th>\n",
       "      <th>theta.8</th>\n",
       "      <th>theta.9</th>\n",
       "      <th>...</th>\n",
       "      <th>rho.191</th>\n",
       "      <th>rho.192</th>\n",
       "      <th>rho.193</th>\n",
       "      <th>rho.194</th>\n",
       "      <th>rho.195</th>\n",
       "      <th>rho.196</th>\n",
       "      <th>rho.197</th>\n",
       "      <th>rho.198</th>\n",
       "      <th>rho.199</th>\n",
       "      <th>ST</th>\n",
       "    </tr>\n",
       "  </thead>\n",
       "  <tbody>\n",
       "    <tr>\n",
       "      <th>4995</th>\n",
       "      <td>0.033196</td>\n",
       "      <td>0.080572</td>\n",
       "      <td>0.151492</td>\n",
       "      <td>0.202281</td>\n",
       "      <td>0.238298</td>\n",
       "      <td>0.261690</td>\n",
       "      <td>0.267977</td>\n",
       "      <td>0.277648</td>\n",
       "      <td>0.330929</td>\n",
       "      <td>0.390225</td>\n",
       "      <td>...</td>\n",
       "      <td>0.958187</td>\n",
       "      <td>0.957501</td>\n",
       "      <td>0.954873</td>\n",
       "      <td>0.945921</td>\n",
       "      <td>0.945229</td>\n",
       "      <td>0.944147</td>\n",
       "      <td>0.943849</td>\n",
       "      <td>0.942074</td>\n",
       "      <td>0.941710</td>\n",
       "      <td>52.529100</td>\n",
       "    </tr>\n",
       "    <tr>\n",
       "      <th>4996</th>\n",
       "      <td>0.112351</td>\n",
       "      <td>0.122821</td>\n",
       "      <td>0.163990</td>\n",
       "      <td>0.173220</td>\n",
       "      <td>0.237142</td>\n",
       "      <td>0.291035</td>\n",
       "      <td>0.309880</td>\n",
       "      <td>0.356042</td>\n",
       "      <td>0.368716</td>\n",
       "      <td>0.382229</td>\n",
       "      <td>...</td>\n",
       "      <td>0.945506</td>\n",
       "      <td>0.944419</td>\n",
       "      <td>0.942451</td>\n",
       "      <td>0.942342</td>\n",
       "      <td>0.941671</td>\n",
       "      <td>0.939270</td>\n",
       "      <td>0.938898</td>\n",
       "      <td>0.938338</td>\n",
       "      <td>0.938172</td>\n",
       "      <td>51.146062</td>\n",
       "    </tr>\n",
       "    <tr>\n",
       "      <th>4997</th>\n",
       "      <td>0.039116</td>\n",
       "      <td>0.099112</td>\n",
       "      <td>0.104960</td>\n",
       "      <td>0.125689</td>\n",
       "      <td>0.199744</td>\n",
       "      <td>0.257138</td>\n",
       "      <td>0.267558</td>\n",
       "      <td>0.331899</td>\n",
       "      <td>0.337089</td>\n",
       "      <td>0.373073</td>\n",
       "      <td>...</td>\n",
       "      <td>0.886654</td>\n",
       "      <td>0.886601</td>\n",
       "      <td>0.885194</td>\n",
       "      <td>0.883205</td>\n",
       "      <td>0.881658</td>\n",
       "      <td>0.881231</td>\n",
       "      <td>0.880261</td>\n",
       "      <td>0.880012</td>\n",
       "      <td>0.879966</td>\n",
       "      <td>34.689841</td>\n",
       "    </tr>\n",
       "    <tr>\n",
       "      <th>4998</th>\n",
       "      <td>0.014346</td>\n",
       "      <td>0.036231</td>\n",
       "      <td>0.043969</td>\n",
       "      <td>0.044453</td>\n",
       "      <td>0.088801</td>\n",
       "      <td>0.130613</td>\n",
       "      <td>0.191184</td>\n",
       "      <td>0.195540</td>\n",
       "      <td>0.208702</td>\n",
       "      <td>0.412201</td>\n",
       "      <td>...</td>\n",
       "      <td>0.962360</td>\n",
       "      <td>0.959155</td>\n",
       "      <td>0.956477</td>\n",
       "      <td>0.953169</td>\n",
       "      <td>0.952645</td>\n",
       "      <td>0.952341</td>\n",
       "      <td>0.952256</td>\n",
       "      <td>0.951528</td>\n",
       "      <td>0.951170</td>\n",
       "      <td>57.194459</td>\n",
       "    </tr>\n",
       "    <tr>\n",
       "      <th>4999</th>\n",
       "      <td>0.039988</td>\n",
       "      <td>0.056159</td>\n",
       "      <td>0.147036</td>\n",
       "      <td>0.155008</td>\n",
       "      <td>0.170555</td>\n",
       "      <td>0.177394</td>\n",
       "      <td>0.209926</td>\n",
       "      <td>0.224403</td>\n",
       "      <td>0.230426</td>\n",
       "      <td>0.234068</td>\n",
       "      <td>...</td>\n",
       "      <td>0.969943</td>\n",
       "      <td>0.969760</td>\n",
       "      <td>0.969073</td>\n",
       "      <td>0.968779</td>\n",
       "      <td>0.967268</td>\n",
       "      <td>0.966661</td>\n",
       "      <td>0.966322</td>\n",
       "      <td>0.966144</td>\n",
       "      <td>0.966079</td>\n",
       "      <td>66.260390</td>\n",
       "    </tr>\n",
       "  </tbody>\n",
       "</table>\n",
       "<p>5 rows × 401 columns</p>\n",
       "</div>"
      ],
      "text/plain": [
       "         theta   theta.1   theta.2   theta.3   theta.4   theta.5   theta.6  \\\n",
       "4995  0.033196  0.080572  0.151492  0.202281  0.238298  0.261690  0.267977   \n",
       "4996  0.112351  0.122821  0.163990  0.173220  0.237142  0.291035  0.309880   \n",
       "4997  0.039116  0.099112  0.104960  0.125689  0.199744  0.257138  0.267558   \n",
       "4998  0.014346  0.036231  0.043969  0.044453  0.088801  0.130613  0.191184   \n",
       "4999  0.039988  0.056159  0.147036  0.155008  0.170555  0.177394  0.209926   \n",
       "\n",
       "       theta.7   theta.8   theta.9  ...   rho.191   rho.192   rho.193  \\\n",
       "4995  0.277648  0.330929  0.390225  ...  0.958187  0.957501  0.954873   \n",
       "4996  0.356042  0.368716  0.382229  ...  0.945506  0.944419  0.942451   \n",
       "4997  0.331899  0.337089  0.373073  ...  0.886654  0.886601  0.885194   \n",
       "4998  0.195540  0.208702  0.412201  ...  0.962360  0.959155  0.956477   \n",
       "4999  0.224403  0.230426  0.234068  ...  0.969943  0.969760  0.969073   \n",
       "\n",
       "       rho.194   rho.195   rho.196   rho.197   rho.198   rho.199         ST  \n",
       "4995  0.945921  0.945229  0.944147  0.943849  0.942074  0.941710  52.529100  \n",
       "4996  0.942342  0.941671  0.939270  0.938898  0.938338  0.938172  51.146062  \n",
       "4997  0.883205  0.881658  0.881231  0.880261  0.880012  0.879966  34.689841  \n",
       "4998  0.953169  0.952645  0.952341  0.952256  0.951528  0.951170  57.194459  \n",
       "4999  0.968779  0.967268  0.966661  0.966322  0.966144  0.966079  66.260390  \n",
       "\n",
       "[5 rows x 401 columns]"
      ]
     },
     "execution_count": 28,
     "metadata": {},
     "output_type": "execute_result"
    }
   ],
   "source": [
    "# loading of data\n",
    "\n",
    "raw_dataset=pd.read_csv('dataset.csv')\n",
    "\n",
    "dataset = raw_dataset.copy()\n",
    "dataset.tail()"
   ]
  },
  {
   "cell_type": "markdown",
   "metadata": {
    "colab_type": "text",
    "id": "Cuym4yvk76vU"
   },
   "source": [
    "### Split the data into train and test\n",
    "\n",
    "Now split the dataset into a training set and a test set.\n",
    "\n",
    "We will use the test set in the final evaluation of our model."
   ]
  },
  {
   "cell_type": "code",
   "execution_count": 29,
   "metadata": {
    "colab": {},
    "colab_type": "code",
    "executionInfo": {
     "elapsed": 116554,
     "status": "ok",
     "timestamp": 1598903808607,
     "user": {
      "displayName": "Romain Bordes",
      "photoUrl": "",
      "userId": "06156974316290119472"
     },
     "user_tz": -120
    },
    "id": "qn-IGhUE7_1H"
   },
   "outputs": [],
   "source": [
    "train_dataset = dataset.sample(frac=0.8,random_state=0)\n",
    "test_dataset = dataset.drop(train_dataset.index)"
   ]
  },
  {
   "cell_type": "markdown",
   "metadata": {
    "colab_type": "text",
    "id": "J4ubs136WLNp"
   },
   "source": [
    "### Inspect the data\n",
    "\n",
    "Have a quick look at the joint distribution of a few pairs of columns from the training set."
   ]
  },
  {
   "cell_type": "code",
   "execution_count": 30,
   "metadata": {
    "colab": {},
    "colab_type": "code",
    "executionInfo": {
     "elapsed": 116534,
     "status": "ok",
     "timestamp": 1598903808614,
     "user": {
      "displayName": "Romain Bordes",
      "photoUrl": "",
      "userId": "06156974316290119472"
     },
     "user_tz": -120
    },
    "id": "oRKO_x8gWKv-"
   },
   "outputs": [],
   "source": [
    "#sns.pairplot(train_dataset[column_names], diag_kind=\"kde\")\n",
    "#plt.show()"
   ]
  },
  {
   "cell_type": "markdown",
   "metadata": {
    "colab_type": "text",
    "id": "gavKO_6DWRMP"
   },
   "source": [
    "Also look at the overall statistics:"
   ]
  },
  {
   "cell_type": "code",
   "execution_count": 31,
   "metadata": {
    "colab": {
     "base_uri": "https://localhost:8080/",
     "height": 402
    },
    "colab_type": "code",
    "executionInfo": {
     "elapsed": 117684,
     "status": "ok",
     "timestamp": 1598903809776,
     "user": {
      "displayName": "Romain Bordes",
      "photoUrl": "",
      "userId": "06156974316290119472"
     },
     "user_tz": -120
    },
    "id": "yi2FzC3T21jR",
    "outputId": "44e2f687-c8c3-4b07-ca40-a428debaf8f6"
   },
   "outputs": [
    {
     "data": {
      "text/html": [
       "<div>\n",
       "<style scoped>\n",
       "    .dataframe tbody tr th:only-of-type {\n",
       "        vertical-align: middle;\n",
       "    }\n",
       "\n",
       "    .dataframe tbody tr th {\n",
       "        vertical-align: top;\n",
       "    }\n",
       "\n",
       "    .dataframe thead th {\n",
       "        text-align: right;\n",
       "    }\n",
       "</style>\n",
       "<table border=\"1\" class=\"dataframe\">\n",
       "  <thead>\n",
       "    <tr style=\"text-align: right;\">\n",
       "      <th></th>\n",
       "      <th>count</th>\n",
       "      <th>mean</th>\n",
       "      <th>std</th>\n",
       "      <th>min</th>\n",
       "      <th>25%</th>\n",
       "      <th>50%</th>\n",
       "      <th>75%</th>\n",
       "      <th>max</th>\n",
       "    </tr>\n",
       "  </thead>\n",
       "  <tbody>\n",
       "    <tr>\n",
       "      <th>theta</th>\n",
       "      <td>4000.0</td>\n",
       "      <td>0.031264</td>\n",
       "      <td>0.030949</td>\n",
       "      <td>0.000004</td>\n",
       "      <td>0.008926</td>\n",
       "      <td>0.022175</td>\n",
       "      <td>0.043417</td>\n",
       "      <td>0.242190</td>\n",
       "    </tr>\n",
       "    <tr>\n",
       "      <th>theta.1</th>\n",
       "      <td>4000.0</td>\n",
       "      <td>0.061806</td>\n",
       "      <td>0.042983</td>\n",
       "      <td>0.000534</td>\n",
       "      <td>0.030005</td>\n",
       "      <td>0.052550</td>\n",
       "      <td>0.082815</td>\n",
       "      <td>0.356888</td>\n",
       "    </tr>\n",
       "    <tr>\n",
       "      <th>theta.2</th>\n",
       "      <td>4000.0</td>\n",
       "      <td>0.092641</td>\n",
       "      <td>0.052942</td>\n",
       "      <td>0.002559</td>\n",
       "      <td>0.053188</td>\n",
       "      <td>0.083498</td>\n",
       "      <td>0.122344</td>\n",
       "      <td>0.489584</td>\n",
       "    </tr>\n",
       "    <tr>\n",
       "      <th>theta.3</th>\n",
       "      <td>4000.0</td>\n",
       "      <td>0.124314</td>\n",
       "      <td>0.061655</td>\n",
       "      <td>0.007941</td>\n",
       "      <td>0.078184</td>\n",
       "      <td>0.115235</td>\n",
       "      <td>0.159605</td>\n",
       "      <td>0.492807</td>\n",
       "    </tr>\n",
       "    <tr>\n",
       "      <th>theta.4</th>\n",
       "      <td>4000.0</td>\n",
       "      <td>0.155378</td>\n",
       "      <td>0.069801</td>\n",
       "      <td>0.016825</td>\n",
       "      <td>0.104355</td>\n",
       "      <td>0.145726</td>\n",
       "      <td>0.195939</td>\n",
       "      <td>0.559092</td>\n",
       "    </tr>\n",
       "    <tr>\n",
       "      <th>...</th>\n",
       "      <td>...</td>\n",
       "      <td>...</td>\n",
       "      <td>...</td>\n",
       "      <td>...</td>\n",
       "      <td>...</td>\n",
       "      <td>...</td>\n",
       "      <td>...</td>\n",
       "      <td>...</td>\n",
       "    </tr>\n",
       "    <tr>\n",
       "      <th>rho.195</th>\n",
       "      <td>4000.0</td>\n",
       "      <td>0.935147</td>\n",
       "      <td>0.032333</td>\n",
       "      <td>0.853411</td>\n",
       "      <td>0.911409</td>\n",
       "      <td>0.942193</td>\n",
       "      <td>0.962491</td>\n",
       "      <td>0.996416</td>\n",
       "    </tr>\n",
       "    <tr>\n",
       "      <th>rho.196</th>\n",
       "      <td>4000.0</td>\n",
       "      <td>0.933271</td>\n",
       "      <td>0.032638</td>\n",
       "      <td>0.852233</td>\n",
       "      <td>0.909288</td>\n",
       "      <td>0.940165</td>\n",
       "      <td>0.961023</td>\n",
       "      <td>0.996221</td>\n",
       "    </tr>\n",
       "    <tr>\n",
       "      <th>rho.197</th>\n",
       "      <td>4000.0</td>\n",
       "      <td>0.931776</td>\n",
       "      <td>0.032887</td>\n",
       "      <td>0.852031</td>\n",
       "      <td>0.907460</td>\n",
       "      <td>0.938899</td>\n",
       "      <td>0.959708</td>\n",
       "      <td>0.988395</td>\n",
       "    </tr>\n",
       "    <tr>\n",
       "      <th>rho.198</th>\n",
       "      <td>4000.0</td>\n",
       "      <td>0.930649</td>\n",
       "      <td>0.033091</td>\n",
       "      <td>0.851762</td>\n",
       "      <td>0.906163</td>\n",
       "      <td>0.937992</td>\n",
       "      <td>0.958793</td>\n",
       "      <td>0.982285</td>\n",
       "    </tr>\n",
       "    <tr>\n",
       "      <th>rho.199</th>\n",
       "      <td>4000.0</td>\n",
       "      <td>0.929865</td>\n",
       "      <td>0.033256</td>\n",
       "      <td>0.851742</td>\n",
       "      <td>0.905313</td>\n",
       "      <td>0.937046</td>\n",
       "      <td>0.958215</td>\n",
       "      <td>0.977406</td>\n",
       "    </tr>\n",
       "  </tbody>\n",
       "</table>\n",
       "<p>400 rows × 8 columns</p>\n",
       "</div>"
      ],
      "text/plain": [
       "          count      mean       std       min       25%       50%       75%  \\\n",
       "theta    4000.0  0.031264  0.030949  0.000004  0.008926  0.022175  0.043417   \n",
       "theta.1  4000.0  0.061806  0.042983  0.000534  0.030005  0.052550  0.082815   \n",
       "theta.2  4000.0  0.092641  0.052942  0.002559  0.053188  0.083498  0.122344   \n",
       "theta.3  4000.0  0.124314  0.061655  0.007941  0.078184  0.115235  0.159605   \n",
       "theta.4  4000.0  0.155378  0.069801  0.016825  0.104355  0.145726  0.195939   \n",
       "...         ...       ...       ...       ...       ...       ...       ...   \n",
       "rho.195  4000.0  0.935147  0.032333  0.853411  0.911409  0.942193  0.962491   \n",
       "rho.196  4000.0  0.933271  0.032638  0.852233  0.909288  0.940165  0.961023   \n",
       "rho.197  4000.0  0.931776  0.032887  0.852031  0.907460  0.938899  0.959708   \n",
       "rho.198  4000.0  0.930649  0.033091  0.851762  0.906163  0.937992  0.958793   \n",
       "rho.199  4000.0  0.929865  0.033256  0.851742  0.905313  0.937046  0.958215   \n",
       "\n",
       "              max  \n",
       "theta    0.242190  \n",
       "theta.1  0.356888  \n",
       "theta.2  0.489584  \n",
       "theta.3  0.492807  \n",
       "theta.4  0.559092  \n",
       "...           ...  \n",
       "rho.195  0.996416  \n",
       "rho.196  0.996221  \n",
       "rho.197  0.988395  \n",
       "rho.198  0.982285  \n",
       "rho.199  0.977406  \n",
       "\n",
       "[400 rows x 8 columns]"
      ]
     },
     "execution_count": 31,
     "metadata": {},
     "output_type": "execute_result"
    }
   ],
   "source": [
    "train_stats = train_dataset.describe()\n",
    "train_stats.pop(\"ST\")\n",
    "train_stats = train_stats.transpose()\n",
    "train_stats"
   ]
  },
  {
   "cell_type": "markdown",
   "metadata": {
    "colab_type": "text",
    "id": "Db7Auq1yXUvh"
   },
   "source": [
    "### Split features from labels\n",
    "\n",
    "Separate the target value, or \"label\", from the features. This label is the value that you will train the model to predict."
   ]
  },
  {
   "cell_type": "code",
   "execution_count": 32,
   "metadata": {
    "colab": {},
    "colab_type": "code",
    "executionInfo": {
     "elapsed": 117673,
     "status": "ok",
     "timestamp": 1598903809782,
     "user": {
      "displayName": "Romain Bordes",
      "photoUrl": "",
      "userId": "06156974316290119472"
     },
     "user_tz": -120
    },
    "id": "t2sluJdCW7jN"
   },
   "outputs": [],
   "source": [
    "train_labels = train_dataset.pop('ST')\n",
    "test_labels = test_dataset.pop('ST')"
   ]
  },
  {
   "cell_type": "markdown",
   "metadata": {
    "colab_type": "text",
    "id": "mRklxK5s388r"
   },
   "source": [
    "### Normalize the data\n",
    "\n",
    "Look again at the `train_stats` block above and note how different the ranges of each feature are."
   ]
  },
  {
   "cell_type": "markdown",
   "metadata": {
    "colab_type": "text",
    "id": "-ywmerQ6dSox"
   },
   "source": [
    "It is good practice to normalize features that use different scales and ranges. Although the model *might* converge without feature normalization, it makes training more difficult, and it makes the resulting model dependent on the choice of units used in the input.\n",
    "\n",
    "Note: Although we intentionally generate these statistics from only the training dataset, these statistics will also be used to normalize the test dataset. We need to do that to project the test dataset into the same distribution that the model has been trained on."
   ]
  },
  {
   "cell_type": "code",
   "execution_count": 33,
   "metadata": {
    "colab": {},
    "colab_type": "code",
    "executionInfo": {
     "elapsed": 118137,
     "status": "ok",
     "timestamp": 1598903810267,
     "user": {
      "displayName": "Romain Bordes",
      "photoUrl": "",
      "userId": "06156974316290119472"
     },
     "user_tz": -120
    },
    "id": "JlC5ooJrgjQF"
   },
   "outputs": [],
   "source": [
    "def norm(x):\n",
    "  return (x - train_stats['mean']) / train_stats['std']\n",
    "normed_train_data = norm(train_dataset)\n",
    "normed_test_data = norm(test_dataset)\n"
   ]
  },
  {
   "cell_type": "markdown",
   "metadata": {
    "colab_type": "text",
    "id": "BuiClDk45eS4"
   },
   "source": [
    "This normalized data is what we will use to train the model.\n",
    "\n",
    "Caution: The statistics used to normalize the inputs here (mean and standard deviation) need to be applied to any other data that is fed to the model, along with the one-hot encoding that we did earlier.  That includes the test set as well as live data when the model is used in production."
   ]
  },
  {
   "cell_type": "markdown",
   "metadata": {
    "colab_type": "text",
    "id": "SmjdzxKzEu1-"
   },
   "source": [
    "## The model"
   ]
  },
  {
   "cell_type": "markdown",
   "metadata": {
    "colab_type": "text",
    "id": "6SWtkIjhrZwa"
   },
   "source": [
    "### Build the model\n",
    "\n",
    "Let's build our model. Here, we'll use a `Sequential` model with two densely connected hidden layers, and an output layer that returns a single, continuous value. The model building steps are wrapped in a function, `build_model`, since we'll create a second model, later on."
   ]
  },
  {
   "cell_type": "code",
   "execution_count": 34,
   "metadata": {
    "colab": {},
    "colab_type": "code",
    "executionInfo": {
     "elapsed": 118127,
     "status": "ok",
     "timestamp": 1598903810271,
     "user": {
      "displayName": "Romain Bordes",
      "photoUrl": "",
      "userId": "06156974316290119472"
     },
     "user_tz": -120
    },
    "id": "c26juK7ZG8j-"
   },
   "outputs": [],
   "source": [
    "def build_model():\n",
    "  model = keras.Sequential([\n",
    "    #layers.Dense(100, activation=tf.nn.relu, input_shape=[len(train_dataset.keys())]),\n",
    "    layers.Dense(400, activation=tf.nn.relu, input_shape=[len(train_dataset.keys())]),\n",
    "    layers.Dense(150, activation=tf.nn.relu),\n",
    "    layers.Dense(10, activation=tf.nn.relu),\n",
    "    layers.Dense(1)\n",
    "  ])\n",
    "\n",
    "  optimizer = tf.keras.optimizers.RMSprop(0.0001)\n",
    "\n",
    "  model.compile(loss='mean_squared_error',\n",
    "                optimizer=optimizer,\n",
    "                metrics=['mean_absolute_error', 'mean_squared_error'])\n",
    "  return model"
   ]
  },
  {
   "cell_type": "code",
   "execution_count": 35,
   "metadata": {
    "colab": {},
    "colab_type": "code",
    "executionInfo": {
     "elapsed": 118119,
     "status": "ok",
     "timestamp": 1598903810275,
     "user": {
      "displayName": "Romain Bordes",
      "photoUrl": "",
      "userId": "06156974316290119472"
     },
     "user_tz": -120
    },
    "id": "cGbPb-PHGbhs"
   },
   "outputs": [],
   "source": [
    "model = build_model()"
   ]
  },
  {
   "cell_type": "markdown",
   "metadata": {
    "colab_type": "text",
    "id": "Sj49Og4YGULr"
   },
   "source": [
    "### Inspect the model\n",
    "\n",
    "Use the `.summary` method to print a simple description of the model"
   ]
  },
  {
   "cell_type": "code",
   "execution_count": 36,
   "metadata": {
    "colab": {
     "base_uri": "https://localhost:8080/",
     "height": 286
    },
    "colab_type": "code",
    "executionInfo": {
     "elapsed": 118099,
     "status": "ok",
     "timestamp": 1598903810280,
     "user": {
      "displayName": "Romain Bordes",
      "photoUrl": "",
      "userId": "06156974316290119472"
     },
     "user_tz": -120
    },
    "id": "ReAD0n6MsFK-",
    "outputId": "8965830f-20bf-41f9-809d-41f6700ae63d"
   },
   "outputs": [
    {
     "name": "stdout",
     "output_type": "stream",
     "text": [
      "Model: \"sequential_3\"\n",
      "_________________________________________________________________\n",
      "Layer (type)                 Output Shape              Param #   \n",
      "=================================================================\n",
      "dense_12 (Dense)             (None, 400)               160400    \n",
      "_________________________________________________________________\n",
      "dense_13 (Dense)             (None, 150)               60150     \n",
      "_________________________________________________________________\n",
      "dense_14 (Dense)             (None, 10)                1510      \n",
      "_________________________________________________________________\n",
      "dense_15 (Dense)             (None, 1)                 11        \n",
      "=================================================================\n",
      "Total params: 222,071\n",
      "Trainable params: 222,071\n",
      "Non-trainable params: 0\n",
      "_________________________________________________________________\n"
     ]
    }
   ],
   "source": [
    "model.summary()"
   ]
  },
  {
   "cell_type": "markdown",
   "metadata": {
    "colab_type": "text",
    "id": "Vt6W50qGsJAL"
   },
   "source": [
    "\n",
    "Now try out the model. Take a batch of `10` examples from the training data and call `model.predict` on it."
   ]
  },
  {
   "cell_type": "code",
   "execution_count": 37,
   "metadata": {
    "colab": {
     "base_uri": "https://localhost:8080/",
     "height": 185
    },
    "colab_type": "code",
    "executionInfo": {
     "elapsed": 118441,
     "status": "ok",
     "timestamp": 1598903810656,
     "user": {
      "displayName": "Romain Bordes",
      "photoUrl": "",
      "userId": "06156974316290119472"
     },
     "user_tz": -120
    },
    "id": "-d-gBaVtGTSC",
    "outputId": "f60564ef-dee7-4d39-f57e-b3dec55284ce"
   },
   "outputs": [
    {
     "name": "stdout",
     "output_type": "stream",
     "text": [
      "WARNING:tensorflow:Falling back from v2 loop because of error: Failed to find data adapter that can handle input: <class 'pandas.core.frame.DataFrame'>, <class 'NoneType'>\n"
     ]
    },
    {
     "data": {
      "text/plain": [
       "array([[ 0.03417835],\n",
       "       [-0.44183064],\n",
       "       [-0.19837008],\n",
       "       [ 0.11806098],\n",
       "       [-0.24200842],\n",
       "       [-0.6259847 ],\n",
       "       [ 0.24557266],\n",
       "       [-0.19629729],\n",
       "       [ 0.22847643],\n",
       "       [-0.6765268 ]], dtype=float32)"
      ]
     },
     "execution_count": 37,
     "metadata": {},
     "output_type": "execute_result"
    }
   ],
   "source": [
    "example_batch = normed_train_data[:10]\n",
    "example_result = model.predict(example_batch)\n",
    "example_result"
   ]
  },
  {
   "cell_type": "markdown",
   "metadata": {
    "colab_type": "text",
    "id": "QlM8KrSOsaYo"
   },
   "source": [
    "It seems to be working, and it produces a result of the expected shape and type."
   ]
  },
  {
   "cell_type": "markdown",
   "metadata": {
    "colab_type": "text",
    "id": "0-qWCsh6DlyH"
   },
   "source": [
    "### Train the model\n",
    "\n",
    "Train the model for 1000 epochs, and record the training and validation accuracy in the `history` object."
   ]
  },
  {
   "cell_type": "code",
   "execution_count": 38,
   "metadata": {
    "colab": {
     "base_uri": "https://localhost:8080/",
     "height": 202
    },
    "colab_type": "code",
    "executionInfo": {
     "elapsed": 1349756,
     "status": "ok",
     "timestamp": 1598905042013,
     "user": {
      "displayName": "Romain Bordes",
      "photoUrl": "",
      "userId": "06156974316290119472"
     },
     "user_tz": -120
    },
    "id": "sD7qHCmNIOY0",
    "outputId": "cbbfa6c8-75b1-4240-bc69-5a9b3c5dde95"
   },
   "outputs": [
    {
     "name": "stdout",
     "output_type": "stream",
     "text": [
      "WARNING:tensorflow:Falling back from v2 loop because of error: Failed to find data adapter that can handle input: <class 'pandas.core.frame.DataFrame'>, <class 'NoneType'>\n",
      "\n",
      ".................................................."
     ]
    }
   ],
   "source": [
    "# Display training progress by printing a single dot for each completed epoch\n",
    "class PrintDot(keras.callbacks.Callback):\n",
    "  def on_epoch_end(self, epoch, logs):\n",
    "    if epoch % 100 == 0: print('')\n",
    "    print('.', end='')\n",
    "\n",
    "EPOCHS = 50\n",
    "\n",
    "history = model.fit(\n",
    "  normed_train_data, train_labels,\n",
    "  epochs=EPOCHS, validation_split = 0.2, verbose=0,\n",
    "  callbacks=[PrintDot()])"
   ]
  },
  {
   "cell_type": "markdown",
   "metadata": {
    "colab_type": "text",
    "id": "tQm3pc0FYPQB"
   },
   "source": [
    "Visualize the model's training progress using the stats stored in the `history` object."
   ]
  },
  {
   "cell_type": "code",
   "execution_count": 39,
   "metadata": {
    "colab": {
     "base_uri": "https://localhost:8080/",
     "height": 195
    },
    "colab_type": "code",
    "executionInfo": {
     "elapsed": 1349746,
     "status": "ok",
     "timestamp": 1598905042028,
     "user": {
      "displayName": "Romain Bordes",
      "photoUrl": "",
      "userId": "06156974316290119472"
     },
     "user_tz": -120
    },
    "id": "4Xj91b-dymEy",
    "outputId": "c08edceb-30ce-48a3-ac24-d5196a3bc353"
   },
   "outputs": [
    {
     "data": {
      "text/html": [
       "<div>\n",
       "<style scoped>\n",
       "    .dataframe tbody tr th:only-of-type {\n",
       "        vertical-align: middle;\n",
       "    }\n",
       "\n",
       "    .dataframe tbody tr th {\n",
       "        vertical-align: top;\n",
       "    }\n",
       "\n",
       "    .dataframe thead th {\n",
       "        text-align: right;\n",
       "    }\n",
       "</style>\n",
       "<table border=\"1\" class=\"dataframe\">\n",
       "  <thead>\n",
       "    <tr style=\"text-align: right;\">\n",
       "      <th></th>\n",
       "      <th>loss</th>\n",
       "      <th>mean_absolute_error</th>\n",
       "      <th>mean_squared_error</th>\n",
       "      <th>val_loss</th>\n",
       "      <th>val_mean_absolute_error</th>\n",
       "      <th>val_mean_squared_error</th>\n",
       "      <th>epoch</th>\n",
       "    </tr>\n",
       "  </thead>\n",
       "  <tbody>\n",
       "    <tr>\n",
       "      <th>45</th>\n",
       "      <td>1.446428</td>\n",
       "      <td>0.934788</td>\n",
       "      <td>1.446428</td>\n",
       "      <td>2.873687</td>\n",
       "      <td>1.321908</td>\n",
       "      <td>2.873687</td>\n",
       "      <td>45</td>\n",
       "    </tr>\n",
       "    <tr>\n",
       "      <th>46</th>\n",
       "      <td>1.291684</td>\n",
       "      <td>0.894236</td>\n",
       "      <td>1.291684</td>\n",
       "      <td>2.708628</td>\n",
       "      <td>1.274071</td>\n",
       "      <td>2.708628</td>\n",
       "      <td>46</td>\n",
       "    </tr>\n",
       "    <tr>\n",
       "      <th>47</th>\n",
       "      <td>1.310340</td>\n",
       "      <td>0.908394</td>\n",
       "      <td>1.310340</td>\n",
       "      <td>3.058607</td>\n",
       "      <td>1.386592</td>\n",
       "      <td>3.058608</td>\n",
       "      <td>47</td>\n",
       "    </tr>\n",
       "    <tr>\n",
       "      <th>48</th>\n",
       "      <td>1.232471</td>\n",
       "      <td>0.863341</td>\n",
       "      <td>1.232471</td>\n",
       "      <td>2.700927</td>\n",
       "      <td>1.262378</td>\n",
       "      <td>2.700927</td>\n",
       "      <td>48</td>\n",
       "    </tr>\n",
       "    <tr>\n",
       "      <th>49</th>\n",
       "      <td>1.244019</td>\n",
       "      <td>0.883154</td>\n",
       "      <td>1.244019</td>\n",
       "      <td>2.591090</td>\n",
       "      <td>1.263749</td>\n",
       "      <td>2.591089</td>\n",
       "      <td>49</td>\n",
       "    </tr>\n",
       "  </tbody>\n",
       "</table>\n",
       "</div>"
      ],
      "text/plain": [
       "        loss  mean_absolute_error  mean_squared_error  val_loss  \\\n",
       "45  1.446428             0.934788            1.446428  2.873687   \n",
       "46  1.291684             0.894236            1.291684  2.708628   \n",
       "47  1.310340             0.908394            1.310340  3.058607   \n",
       "48  1.232471             0.863341            1.232471  2.700927   \n",
       "49  1.244019             0.883154            1.244019  2.591090   \n",
       "\n",
       "    val_mean_absolute_error  val_mean_squared_error  epoch  \n",
       "45                 1.321908                2.873687     45  \n",
       "46                 1.274071                2.708628     46  \n",
       "47                 1.386592                3.058608     47  \n",
       "48                 1.262378                2.700927     48  \n",
       "49                 1.263749                2.591089     49  "
      ]
     },
     "execution_count": 39,
     "metadata": {},
     "output_type": "execute_result"
    }
   ],
   "source": [
    "hist = pd.DataFrame(history.history)\n",
    "hist['epoch'] = history.epoch\n",
    "hist.tail()"
   ]
  },
  {
   "cell_type": "code",
   "execution_count": 40,
   "metadata": {
    "colab": {
     "base_uri": "https://localhost:8080/",
     "height": 549
    },
    "colab_type": "code",
    "executionInfo": {
     "elapsed": 1349704,
     "status": "ok",
     "timestamp": 1598905042030,
     "user": {
      "displayName": "Romain Bordes",
      "photoUrl": "",
      "userId": "06156974316290119472"
     },
     "user_tz": -120
    },
    "id": "B6XriGbVPh2t",
    "outputId": "ded2cf73-3996-4155-b3f3-a8a34ebec5b5"
   },
   "outputs": [
    {
     "data": {
      "image/png": "[encoded data removed]",
      "text/plain": [
       "<Figure size 432x288 with 1 Axes>"
      ]
     },
     "metadata": {
      "needs_background": "light"
     },
     "output_type": "display_data"
    },
    {
     "data": {
      "image/png": "[encoded data removed]",
      "text/plain": [
       "<Figure size 432x288 with 1 Axes>"
      ]
     },
     "metadata": {
      "needs_background": "light"
     },
     "output_type": "display_data"
    }
   ],
   "source": [
    "def plot_history(history):\n",
    "  hist = pd.DataFrame(history.history)\n",
    "  hist['epoch'] = history.epoch\n",
    "\n",
    "  plt.figure()\n",
    "  plt.xlabel('Epoch')\n",
    "  plt.ylabel('Mean Abs Error [MPG]')\n",
    "  plt.plot(hist['epoch'], hist['mean_absolute_error'],\n",
    "           label='Train Error')\n",
    "  plt.plot(hist['epoch'], hist['val_mean_absolute_error'],\n",
    "           label = 'Val Error')\n",
    "  plt.ylim([0,5])\n",
    "  plt.legend()\n",
    "\n",
    "  plt.figure()\n",
    "  plt.xlabel('Epoch')\n",
    "  plt.ylabel('Mean Square Error [$MPG^2$]')\n",
    "  plt.plot(hist['epoch'], hist['mean_squared_error'],\n",
    "           label='Train Error')\n",
    "  plt.plot(hist['epoch'], hist['val_mean_squared_error'],\n",
    "           label = 'Val Error')\n",
    "  plt.ylim([0,20])\n",
    "  plt.legend()\n",
    "  plt.show()\n",
    "\n",
    "\n",
    "plot_history(history)"
   ]
  },
  {
   "cell_type": "markdown",
   "metadata": {
    "colab_type": "text",
    "id": "AqsuANc11FYv"
   },
   "source": [
    "This graph shows little improvement, or even degradation in the validation error after about 100 epochs. Let's update the `model.fit` call to automatically stop training when the validation score doesn't improve. We'll use an *EarlyStopping callback* that tests a training condition for  every epoch. If a set amount of epochs elapses without showing improvement, then automatically stop the training.\n",
    "\n",
    "You can learn more about this callback [here](https://www.tensorflow.org/versions/master/api_docs/python/tf/keras/callbacks/EarlyStopping)."
   ]
  },
  {
   "cell_type": "code",
   "execution_count": 41,
   "metadata": {
    "colab": {
     "base_uri": "https://localhost:8080/",
     "height": 616
    },
    "colab_type": "code",
    "executionInfo": {
     "elapsed": 1619673,
     "status": "ok",
     "timestamp": 1598905312029,
     "user": {
      "displayName": "Romain Bordes",
      "photoUrl": "",
      "userId": "06156974316290119472"
     },
     "user_tz": -120
    },
    "id": "fdMZuhUgzMZ4",
    "outputId": "e33f678d-3cc9-4bc0-aa59-b918055bf932"
   },
   "outputs": [
    {
     "name": "stdout",
     "output_type": "stream",
     "text": [
      "WARNING:tensorflow:Falling back from v2 loop because of error: Failed to find data adapter that can handle input: <class 'pandas.core.frame.DataFrame'>, <class 'NoneType'>\n",
      "\n",
      "............................................................................................"
     ]
    },
    {
     "data": {
      "image/png": "[encoded data removed]",
      "text/plain": [
       "<Figure size 432x288 with 1 Axes>"
      ]
     },
     "metadata": {
      "needs_background": "light"
     },
     "output_type": "display_data"
    },
    {
     "data": {
      "image/png": "[encoded data removed]",
      "text/plain": [
       "<Figure size 432x288 with 1 Axes>"
      ]
     },
     "metadata": {
      "needs_background": "light"
     },
     "output_type": "display_data"
    }
   ],
   "source": [
    "model = build_model()\n",
    "EPOCHS=1000\n",
    "# The patience parameter is the amount of epochs to check for improvement\n",
    "early_stop = keras.callbacks.EarlyStopping(monitor='val_loss', patience=10)\n",
    "\n",
    "history = model.fit(normed_train_data, train_labels, epochs=EPOCHS,\n",
    "                    validation_split = 0.2, verbose=0, callbacks=[early_stop, PrintDot()])\n",
    "\n",
    "plot_history(history)"
   ]
  },
  {
   "cell_type": "markdown",
   "metadata": {
    "colab_type": "text",
    "id": "3St8-DmrX8P4"
   },
   "source": [
    "The graph shows that on the validation set, the average error is usually around +/- 2 MPG. Is this good? We'll leave that decision up to you.\n",
    "\n",
    "Let's see how well the model generalizes by using the **test** set, which we did not use when training the model.  This tells us how well we can expect the model to predict when we use it in the real world."
   ]
  },
  {
   "cell_type": "code",
   "execution_count": 42,
   "metadata": {
    "colab": {
     "base_uri": "https://localhost:8080/",
     "height": 34
    },
    "colab_type": "code",
    "executionInfo": {
     "elapsed": 1619647,
     "status": "ok",
     "timestamp": 1598905312034,
     "user": {
      "displayName": "Romain Bordes",
      "photoUrl": "",
      "userId": "06156974316290119472"
     },
     "user_tz": -120
    },
    "id": "jl_yNr5n1kms",
    "outputId": "8fdc139f-9e5c-40ab-de76-6c501a5e82d3"
   },
   "outputs": [
    {
     "name": "stdout",
     "output_type": "stream",
     "text": [
      "WARNING:tensorflow:Falling back from v2 loop because of error: Failed to find data adapter that can handle input: <class 'pandas.core.frame.DataFrame'>, <class 'NoneType'>\n",
      "Testing set Mean Abs Error:  1.25 mN/m\n"
     ]
    }
   ],
   "source": [
    "loss, mae, mse = model.evaluate(normed_test_data, test_labels, verbose=0)\n",
    "\n",
    "print(\"Testing set Mean Abs Error: {:5.2f} mN/m\".format(mae))"
   ]
  },
  {
   "cell_type": "markdown",
   "metadata": {
    "colab_type": "text",
    "id": "ft603OzXuEZC"
   },
   "source": [
    "### Make predictions\n",
    "\n",
    "Finally, predict volt values using data in the testing set:"
   ]
  },
  {
   "cell_type": "code",
   "execution_count": 43,
   "metadata": {
    "colab": {
     "base_uri": "https://localhost:8080/",
     "height": 279
    },
    "colab_type": "code",
    "executionInfo": {
     "elapsed": 1620121,
     "status": "ok",
     "timestamp": 1598905312527,
     "user": {
      "displayName": "Romain Bordes",
      "photoUrl": "",
      "userId": "06156974316290119472"
     },
     "user_tz": -120
    },
    "id": "Xe7RXH3N3CWU",
    "outputId": "06032c35-ab15-4331-ea9e-f261a328cb8d"
   },
   "outputs": [
    {
     "name": "stdout",
     "output_type": "stream",
     "text": [
      "WARNING:tensorflow:Falling back from v2 loop because of error: Failed to find data adapter that can handle input: <class 'pandas.core.frame.DataFrame'>, <class 'NoneType'>\n"
     ]
    },
    {
     "data": {
      "image/png": "[encoded data removed]",
      "text/plain": [
       "<Figure size 432x288 with 1 Axes>"
      ]
     },
     "metadata": {
      "needs_background": "light"
     },
     "output_type": "display_data"
    }
   ],
   "source": [
    "test_predictions = model.predict(normed_test_data).flatten()\n",
    "\n",
    "plt.scatter(test_labels, test_predictions)\n",
    "plt.xlabel('True Values [volt]')\n",
    "plt.ylabel('Predictions [volt]')\n",
    "plt.axis('equal')\n",
    "plt.axis('square')\n",
    "plt.xlim([0,plt.xlim()[1]])\n",
    "plt.ylim([0,plt.ylim()[1]])\n",
    "_ = plt.plot([-100, 100], [-100, 100])\n",
    "plt.show()\n"
   ]
  },
  {
   "cell_type": "markdown",
   "metadata": {
    "colab_type": "text",
    "id": "OrkHGKZcusUo"
   },
   "source": [
    "Seriously?"
   ]
  },
  {
   "cell_type": "code",
   "execution_count": 44,
   "metadata": {
    "colab": {
     "base_uri": "https://localhost:8080/",
     "height": 279
    },
    "colab_type": "code",
    "executionInfo": {
     "elapsed": 1620075,
     "status": "ok",
     "timestamp": 1598905312532,
     "user": {
      "displayName": "Romain Bordes",
      "photoUrl": "",
      "userId": "06156974316290119472"
     },
     "user_tz": -120
    },
    "id": "f-OHX4DiXd8x",
    "outputId": "1c9a121f-7740-4724-9665-a7e9e780cd4d"
   },
   "outputs": [
    {
     "data": {
      "image/png": "[encoded data removed]",
      "text/plain": [
       "<Figure size 432x288 with 1 Axes>"
      ]
     },
     "metadata": {
      "needs_background": "light"
     },
     "output_type": "display_data"
    }
   ],
   "source": [
    "error = test_predictions - test_labels\n",
    "plt.hist(error, bins = 50)\n",
    "plt.xlabel(\"Prediction Error [volt]\")\n",
    "_ = plt.ylabel(\"Count\")\n",
    "plt.show()"
   ]
  }
 ],
 "metadata": {
  "colab": {
   "authorship_tag": "ABX9TyOr/G/8yyUW0NjPLLailOl8",
   "collapsed_sections": [],
   "name": "test_training_ST_on_model.ipynb",
   "provenance": []
  },
  "kernelspec": {
   "display_name": "Python 3",
   "language": "python",
   "name": "python3"
  },
  "language_info": {
   "codemirror_mode": {
    "name": "ipython",
    "version": 3
   },
   "file_extension": ".py",
   "mimetype": "text/x-python",
   "name": "python",
   "nbconvert_exporter": "python",
   "pygments_lexer": "ipython3",
   "version": "3.6.9"
  }
 },
 "nbformat": 4,
 "nbformat_minor": 1
}
