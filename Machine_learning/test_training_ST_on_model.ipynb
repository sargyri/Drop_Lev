{
  "nbformat": 4,
  "nbformat_minor": 0,
  "metadata": {
    "colab": {
      "name": "test_training_ST_on_model.ipynb",
      "provenance": [],
      "collapsed_sections": [],
      "toc_visible": true
    },
    "kernelspec": {
      "display_name": "Python 3",
      "language": "python",
      "name": "python3"
    },
    "language_info": {
      "codemirror_mode": {
        "name": "ipython",
        "version": 3
      },
      "file_extension": ".py",
      "mimetype": "text/x-python",
      "name": "python",
      "nbconvert_exporter": "python",
      "pygments_lexer": "ipython3",
      "version": "3.6.9"
    },
    "accelerator": "GPU"
  },
  "cells": [
    {
      "cell_type": "markdown",
      "metadata": {
        "id": "FhGuhbZ6M5tl"
      },
      "source": [
        "##### Copyright 2018 The TensorFlow Authors."
      ]
    },
    {
      "cell_type": "code",
      "metadata": {
        "cellView": "form",
        "id": "AwOEIRJC6Une"
      },
      "source": [
        "#@title Licensed under the Apache License, Version 2.0 (the \"License\");\n",
        "# you may not use this file except in compliance with the License.\n",
        "# You may obtain a copy of the License at\n",
        "#\n",
        "# https://www.apache.org/licenses/LICENSE-2.0\n",
        "#\n",
        "# Unless required by applicable law or agreed to in writing, software\n",
        "# distributed under the License is distributed on an \"AS IS\" BASIS,\n",
        "# WITHOUT WARRANTIES OR CONDITIONS OF ANY KIND, either express or implied.\n",
        "# See the License for the specific language governing permissions and\n",
        "# limitations under the License."
      ],
      "execution_count": null,
      "outputs": []
    },
    {
      "cell_type": "code",
      "metadata": {
        "cellView": "form",
        "id": "KyPEtTqk6VdG"
      },
      "source": [
        "#@title MIT License\n",
        "#\n",
        "# Copyright (c) 2017 François Chollet\n",
        "#\n",
        "# Permission is hereby granted, free of charge, to any person obtaining a\n",
        "# copy of this software and associated documentation files (the \"Software\"),\n",
        "# to deal in the Software without restriction, including without limitation\n",
        "# the rights to use, copy, modify, merge, publish, distribute, sublicense,\n",
        "# and/or sell copies of the Software, and to permit persons to whom the\n",
        "# Software is furnished to do so, subject to the following conditions:\n",
        "#\n",
        "# The above copyright notice and this permission notice shall be included in\n",
        "# all copies or substantial portions of the Software.\n",
        "#\n",
        "# THE SOFTWARE IS PROVIDED \"AS IS\", WITHOUT WARRANTY OF ANY KIND, EXPRESS OR\n",
        "# IMPLIED, INCLUDING BUT NOT LIMITED TO THE WARRANTIES OF MERCHANTABILITY,\n",
        "# FITNESS FOR A PARTICULAR PURPOSE AND NONINFRINGEMENT. IN NO EVENT SHALL\n",
        "# THE AUTHORS OR COPYRIGHT HOLDERS BE LIABLE FOR ANY CLAIM, DAMAGES OR OTHER\n",
        "# LIABILITY, WHETHER IN AN ACTION OF CONTRACT, TORT OR OTHERWISE, ARISING\n",
        "# FROM, OUT OF OR IN CONNECTION WITH THE SOFTWARE OR THE USE OR OTHER\n",
        "# DEALINGS IN THE SOFTWARE."
      ],
      "execution_count": null,
      "outputs": []
    },
    {
      "cell_type": "markdown",
      "metadata": {
        "id": "EIdT9iu_Z4Rb"
      },
      "source": [
        "# Lev Droplet "
      ]
    },
    {
      "cell_type": "markdown",
      "metadata": {
        "id": "bBIlTPscrIT9"
      },
      "source": [
        "<table class=\"tfo-notebook-buttons\" align=\"left\">\n",
        "  <td>\n",
        "    <a target=\"_blank\" href=\"https://www.tensorflow.org/tutorials/keras/basic_regression\"><img src=\"https://www.tensorflow.org/images/tf_logo_32px.png\" />View on TensorFlow.org</a>\n",
        "  </td>\n",
        "  <td>\n",
        "    <a target=\"_blank\" href=\"https://colab.research.google.com/github/tensorflow/docs/blob/r2.0rc/site/en/tutorials/keras/basic_regression.ipynb\"><img src=\"https://www.tensorflow.org/images/colab_logo_32px.png\" />Run in Google Colab</a>\n",
        "  </td>\n",
        "  <td>\n",
        "    <a target=\"_blank\" href=\"https://github.com/tensorflow/docs/blob/r2.0rc/site/en/tutorials/keras/basic_regression.ipynb\"><img src=\"https://www.tensorflow.org/images/GitHub-Mark-32px.png\" />View source on GitHub</a>\n",
        "  </td>\n",
        "</table>"
      ]
    },
    {
      "cell_type": "markdown",
      "metadata": {
        "id": "AHp3M9ZmrIxj"
      },
      "source": [
        "Training NN model(s) on theoretical data generated via the simple physical model"
      ]
    },
    {
      "cell_type": "code",
      "metadata": {
        "id": "IbpYKApN-KAR",
        "scrolled": true,
        "colab": {
          "base_uri": "https://localhost:8080/"
        },
        "outputId": "3e5172f7-5490-4ead-bfc2-b313ff4e0627"
      },
      "source": [
        "!pip install lmfit\n",
        "#!pip install seaborn"
      ],
      "execution_count": 1,
      "outputs": [
        {
          "output_type": "stream",
          "text": [
            "Collecting lmfit\n",
            "\u001b[?25l  Downloading https://files.pythonhosted.org/packages/67/70/0ef97b9d67b63efce0b720563e1c87ebfc15b565e89adde0c66c1025c848/lmfit-1.0.2.tar.gz (306kB)\n",
            "\u001b[K     |████████████████████████████████| 307kB 4.9MB/s \n",
            "\u001b[?25hCollecting asteval>=0.9.16\n",
            "\u001b[?25l  Downloading https://files.pythonhosted.org/packages/32/06/efc5ea08dc44836abbabbd949d944d6fde08312ce756557e16ab1ca477a4/asteval-0.9.23.tar.gz (55kB)\n",
            "\u001b[K     |████████████████████████████████| 61kB 6.1MB/s \n",
            "\u001b[?25hRequirement already satisfied: numpy>=1.16 in /usr/local/lib/python3.7/dist-packages (from lmfit) (1.19.5)\n",
            "Requirement already satisfied: scipy>=1.2 in /usr/local/lib/python3.7/dist-packages (from lmfit) (1.4.1)\n",
            "Collecting uncertainties>=3.0.1\n",
            "\u001b[?25l  Downloading https://files.pythonhosted.org/packages/45/41/fc7e7b73b603e7c2c9e040b7aa8caf4a88d74b6faa567601ed82b6f0d8e1/uncertainties-3.1.5-py2.py3-none-any.whl (246kB)\n",
            "\u001b[K     |████████████████████████████████| 256kB 8.2MB/s \n",
            "\u001b[?25hRequirement already satisfied: future in /usr/local/lib/python3.7/dist-packages (from uncertainties>=3.0.1->lmfit) (0.16.0)\n",
            "Building wheels for collected packages: lmfit, asteval\n",
            "  Building wheel for lmfit (setup.py) ... \u001b[?25l\u001b[?25hdone\n",
            "  Created wheel for lmfit: filename=lmfit-1.0.2-cp37-none-any.whl size=85265 sha256=b4d776378871524e480e7d10e49fed47d907ddb8488eb2b96e02a97cb720ea3e\n",
            "  Stored in directory: /root/.cache/pip/wheels/d4/5e/db/d9f5987d9f15bf910feb5e0274ac601d5f2161dc78aedfacfa\n",
            "  Building wheel for asteval (setup.py) ... \u001b[?25l\u001b[?25hdone\n",
            "  Created wheel for asteval: filename=asteval-0.9.23-cp37-none-any.whl size=17419 sha256=4028060365e2e7da27073438b903c614f7141b01e3f306cc56074d2f77682fa0\n",
            "  Stored in directory: /root/.cache/pip/wheels/56/d6/43/4b5d8a9fd98b976031768673658c8b8d08dc9dcc0fa1907ad0\n",
            "Successfully built lmfit asteval\n",
            "Installing collected packages: asteval, uncertainties, lmfit\n",
            "Successfully installed asteval-0.9.23 lmfit-1.0.2 uncertainties-3.1.5\n"
          ],
          "name": "stdout"
        }
      ]
    },
    {
      "cell_type": "code",
      "metadata": {
        "id": "jyE0M3V99EdP",
        "scrolled": true,
        "colab": {
          "base_uri": "https://localhost:8080/"
        },
        "outputId": "916e088f-c61d-4426-99f3-b372ba912587"
      },
      "source": [
        "import numpy as np\n",
        "#import cv2\n",
        "import os\n",
        "import re\n",
        "import glob\n",
        "import matplotlib.pyplot as plt\n",
        "from scipy.signal import  gaussian\n",
        "from scipy.ndimage import filters\n",
        "from scipy import optimize\n",
        "from scipy.stats import linregress\n",
        "from mpl_toolkits.mplot3d import Axes3D\n",
        "\n",
        "import seaborn as sns\n",
        "\n",
        "import scipy as sp\n",
        "import scipy.interpolate\n",
        "from scipy.integrate import trapz\n",
        "\n",
        "import time\n",
        "\n",
        "import pandas as pd\n",
        "\n",
        "from lmfit import Model, fit_report, Parameters\n",
        "\n",
        "#from __future__ import absolute_import, division, print_function, unicode_literals\n",
        "\n",
        "import pathlib\n",
        "\n",
        "import matplotlib.pyplot as plt\n",
        "import pandas as pd\n",
        "import seaborn as sns\n",
        "\n",
        "import tensorflow as tf\n",
        "from tensorflow import keras\n",
        "from tensorflow.keras import layers\n",
        "\n",
        "import io\n",
        "\n",
        "print(tf.__version__)\n",
        "print(\"Num GPUs Available: \", len(tf.config.experimental.list_physical_devices('GPU')))\n",
        "\n",
        "\n",
        "######### initialize the data ###############\n",
        "data_input=[]\n",
        "data_output=[]\n",
        "l_sample=300\n",
        "vol_all=[]\n",
        "vol2_all=[]\n",
        "data_x=[]\n",
        "data_y=[]\n",
        "data_h=[]\n",
        "data_w=[]\n",
        "R_sph_all=[]\n",
        "Ar=[]\n",
        "#st_all=[]\n",
        "rho=[]\n",
        "theta=[]\n",
        "#List of non-processed images:\n",
        "discarded=[]\n",
        "new=[]  #list of images without the discarded ones\n",
        "\n",
        "#For the simple approach fit\n",
        "phi_final=[]\n",
        "theta_az=[]\n",
        "theta_all=[]\n",
        "theta_final=[]\n",
        "r_theta_all=[]\n",
        "xc_all=[]\n",
        "yc_all=[]\n",
        "rho_final=[]\n",
        "data_Ps=[]\n",
        "data_dB=[]\n",
        "data_stderr=[]\n",
        "data_err=[]\n",
        "\n",
        "total_num_pictures = len(glob.glob1('.',\"*.png\"))\n",
        "frame_number=np.arange(total_num_pictures)\n",
        "\n",
        "gamma=64 #[N/m]\n",
        "Cg_air=1/101325 #Pa**(-1)\n",
        "k_o=2*np.pi*40/340  #wave number in the air. frequency 40kHz (25kH=0.000040sec) and speed of sound in air v=340 m/s from paper (331.5 for 20oC online) \n",
        "#Calibration\n",
        "needle_d=0.83 #mm\n",
        "needle_pxl=220 #pixels\n",
        "#calibration=0.00621722846441948**3\n",
        "cal=needle_d/needle_pxl\n",
        "calibration=(cal)**3\n",
        "\n",
        "\n",
        "###############################################################################\n",
        "#### Functions used in the data processing ####################################\n",
        "###############################################################################\n",
        "\n",
        "def calc_volume(x,y):\n",
        "    \"\"\"\n",
        "    Calculate the drop volume from a shape matrix.\n",
        "\n",
        "    Parameters\n",
        "    ----------\n",
        "    x, y - contour of the drop\n",
        "\n",
        "    Returns\n",
        "    -------\n",
        "    Integrated volume using for the given shape matrix.\n",
        "\n",
        "    \"\"\"\n",
        "    # data selection\n",
        "    idx=x<=0  # r=right\n",
        "    x_l=x[idx]\n",
        "    y_l=y[idx]\n",
        "        \n",
        "    vol_left=trapz(np.pi*x_l**2, y_l)/2\n",
        "        \n",
        "    # data selection\n",
        "    idx=x>=0  # r=right\n",
        "    x_r=x[idx]\n",
        "    y_r=y[idx]\n",
        "    vol_right=-trapz(np.pi*x_r**2, y_r)/2\n",
        "   \n",
        "    return vol_left+vol_right\n",
        "\n",
        "\n",
        "def calc_R_sph(vol):\n",
        "    \"\"\"\n",
        "    Calculate the spherical radius of a droplet based on the volume.\n",
        "\n",
        "    Input parameters\n",
        "    ----------\n",
        "    vol:         volume   [pixels**3]\n",
        "    calibration: calibration factor  [mm**3/pixels**3]\n",
        "\n",
        "    Returns\n",
        "    -------\n",
        "    Corresponding spherical radius.  [mm]\n",
        "\n",
        "    \"\"\"\n",
        "#    calibration=0.00621722846441948**3\n",
        "    #R_sph=(3*vol*calibration/(4*np.pi))**(1/3)\n",
        "    R_sph=(3*vol/(4*np.pi))**(1/3)\n",
        "    return R_sph\n",
        "\n",
        "def calc_dB(Ps):\n",
        "    \"\"\"\n",
        "    Calculate the deci Bell (dB) value for each acoustic pressure Ps.\n",
        "\n",
        "    Input parameters\n",
        "    ----------\n",
        "    Ps:     aplitude of the acoustic pressure\n",
        "\n",
        "    Returns\n",
        "    -------\n",
        "    dB value. []\n",
        "\n",
        "    \"\"\"\n",
        "    Po=2*10**(-5) #[Pa]\n",
        "\n",
        "    return 20*np.log10(Ps/Po)     #Acoustic pressure [Pa]\n",
        "\n",
        "def model_fit(th, Ps):\n",
        "    \"\"\"\n",
        "    Express the model that will be used to fit the experimental data (simple approach).\n",
        "\n",
        "    Input parameters\n",
        "    ----------\n",
        "    dB:     deciBell\n",
        "    th:     angle theta\n",
        "    Returns\n",
        "    -------\n",
        "    Expression of fitting model.\n",
        "\n",
        "    \"\"\"\n",
        "#    Ps=calc_ampl(dB)\n",
        "    ct_new=-((3/(64*gamma))*R_sph**2*Ps**2*Cg_air*(1+((7/5)*(k_o*R_sph)**2)))\n",
        "    return ct_new*(3*(np.cos(th))**2-1)+R_sph\n",
        "\n",
        "\n",
        "def R_predict(th, gamma, R_sph, Ps, Cg_air, k_o):\n",
        "    \"\"\"\n",
        "    Prediction of ST. \n",
        "    After the acoustic pressure is determined. The ST is calculated based on the equation of our model. \n",
        "    \n",
        "    \n",
        "    Input parameters\n",
        "    ----------\n",
        "    th:     angle theta\n",
        "    gamma:  ST as initial predition [mN/m]\n",
        "    Power:  U*I [Watt]\n",
        "    Returns\n",
        "    -------\n",
        "    gamma:   predicted surface tension [mN/m]\n",
        "\n",
        "    \"\"\"    \n",
        "#    Ps=data_Ps[i-1]    #[Pa]\n",
        "    ct_new=-((3/(64*gamma))*R_sph**2*Ps**2*Cg_air*(1+((7/5)*(k_o*R_sph)**2)))*(3*(np.cos(th))**2-1)\n",
        "    return ct_new+R_sph\n",
        "\n",
        "def ST_predict(th, gamma, R_sph, Ps, Cg_air, k_o):\n",
        "    \"\"\"\n",
        "    Prediction of ST. \n",
        "    After the acoustic pressure is determined. The ST is calculated based on the equation of our model. \n",
        "    \n",
        "    \n",
        "    Input parameters\n",
        "    ----------\n",
        "    th:     angle theta\n",
        "    gamma:  ST as initial predition [mN/m]\n",
        "    Power:  U*I [Watt]\n",
        "    Returns\n",
        "    -------\n",
        "    gamma:   predicted surface tension [mN/m]\n",
        "\n",
        "    \"\"\"    \n",
        "#    Ps=data_Ps[i-1]    #[Pa]\n",
        "    ct_new=-((3/(64*gamma))*R_sph**2*Ps**2*Cg_air*(1+((7/5)*(k_o*R_sph)**2)))*(3*(np.cos(th))**2-1)\n",
        "    return ct_new+R_sph\n",
        "\n",
        "\n",
        "def azimuth(phi):\n",
        "    \"\"\"\n",
        "    Calculate the azimuthal angle.\n",
        "\n",
        "    Input parameters\n",
        "    ----------\n",
        "    phi:     angle phi\n",
        "\n",
        "    Returns\n",
        "    -------\n",
        "    Azimuthal angle.\n",
        "\n",
        "    \"\"\"\n",
        "\n",
        "    if phi<=np.pi/2:\n",
        "        a=np.pi/2-phi\n",
        "    else:\n",
        "        a=2.5*np.pi-phi\n",
        "    return a\n",
        "\n",
        "\n",
        "def cart2pol(x, y):\n",
        "    rho = np.sqrt(x**2 + y**2)\n",
        "    theta = np.arctan2(y, x)\n",
        "    return(theta, rho)\n",
        "\n",
        "def pol2cart(rho, phi):\n",
        "    x = rho * np.cos(phi)\n",
        "    y = rho * np.sin(phi)\n",
        "    return(x, y)\n",
        "\n",
        "\n",
        "def pol2cart_theta(rho, theta):\n",
        "    x = rho * np.sin(theta)\n",
        "    y = rho * np.cos(theta)\n",
        "    return(x, y)"
      ],
      "execution_count": 2,
      "outputs": [
        {
          "output_type": "stream",
          "text": [
            "2.4.1\n",
            "Num GPUs Available:  1\n"
          ],
          "name": "stdout"
        }
      ]
    },
    {
      "cell_type": "markdown",
      "metadata": {
        "id": "OgUp-UtJe3dA"
      },
      "source": [
        "Check the connection to google's **GPU**"
      ]
    },
    {
      "cell_type": "code",
      "metadata": {
        "id": "dgZHRBKye0v-",
        "colab": {
          "base_uri": "https://localhost:8080/"
        },
        "outputId": "3a1f9431-e10a-4a65-8e82-f123c79fcc98"
      },
      "source": [
        "%tensorflow_version 2.x\n",
        "import tensorflow as tf\n",
        "device_name = tf.test.gpu_device_name()\n",
        "if device_name != '/device:GPU:0':\n",
        "  raise SystemError('GPU device not found')\n",
        "print('Found GPU at: {}'.format(device_name))"
      ],
      "execution_count": 3,
      "outputs": [
        {
          "output_type": "stream",
          "text": [
            "Found GPU at: /device:GPU:0\n"
          ],
          "name": "stdout"
        }
      ]
    },
    {
      "cell_type": "markdown",
      "metadata": {
        "id": "lsGCO8nDUAlJ"
      },
      "source": [
        "Generate random angle:\n",
        "20 000 sets of 200 points"
      ]
    },
    {
      "cell_type": "code",
      "metadata": {
        "id": "k2AMjiCZT_5m",
        "colab": {
          "base_uri": "https://localhost:8080/",
          "height": 1000
        },
        "outputId": "29ca46b1-1fed-4994-bd61-e2388393a7af"
      },
      "source": [
        "def gen_data(num_sample,sampling):\n",
        "\n",
        "    #np.random.seed(1234)\n",
        "\n",
        "    vol_drop=np.random.random(num_sample)*(5-1)+1 # in µL\n",
        "    # vol_drop=np.tile(vol_drop, num_sample)   # If the volume is constant !!!\n",
        "\n",
        "    #gamma=72.8 #[mN/m]   \n",
        "    Cg_air=1/101325 #Pa**(-1)\n",
        "    k_o=2*np.pi*40/340  #wave number in the air in [mm^-1]. frequency 40kHz (25kH=0.000040sec) and speed of sound in air v=340 m/s from paper (331.5 for 20oC online) \n",
        "\n",
        "    Ps=np.random.random(num_sample)*(2800-1300)+1300  #[Pa]\n",
        "    R_sph=calc_R_sph(vol_drop)\n",
        "\n",
        "    theta=np.random.rand(num_sample, sampling)*np.pi*2\n",
        "    theta.sort()\n",
        "    \n",
        "    ST_range=np.random.random(num_sample)*(70-35)+35\n",
        "    r_all=np.empty([0,sampling])\n",
        "\n",
        "\n",
        "    for i in range(num_sample):\n",
        "        r=R_predict(theta[i], ST_range[i], R_sph[i], Ps[i], Cg_air, k_o)\n",
        "        r_all=np.vstack((r_all, r))\n",
        "        \n",
        "        if i % 10000 == 0:\n",
        "                print(i)\n",
        "        \n",
        "    \n",
        "    dataset=np.hstack((theta,r_all, vol_drop.reshape([num_sample, 1]), Ps.reshape([num_sample,1]), ST_range.reshape([num_sample,1])))\n",
        "\n",
        "    # print(ST_range.min())\n",
        "    # print(ST_range.max())\n",
        "\n",
        "    plt.figure()\n",
        "    plt.ylabel('Count')\n",
        "    plt.xlabel('Surface tension [mN/m]')\n",
        "    sns.distplot(ST_range)\n",
        "    plt.figure()\n",
        "    plt.ylabel('Count')\n",
        "    plt.xlabel('Acoustic pressure [Pa]')\n",
        "    sns.distplot(Ps)\n",
        "    plt.figure()\n",
        "    plt.ylabel('Count')\n",
        "    plt.xlabel('Volume [μL]')\n",
        "    sns.distplot(vol_drop)\n",
        "\n",
        "    fig3 = plt.figure()\n",
        "    ax = plt.gca()\n",
        "    ax.set_aspect(1)\n",
        "    ax.set_xlim([-1.5,1.5])\n",
        "    ax.set_ylim([-1.5,1.5])\n",
        "    \n",
        "\n",
        "    for j in dataset:\n",
        "\n",
        "      x,y=pol2cart_theta(j[sampling:sampling+sampling], j[0:sampling])\n",
        "\n",
        "      plt.plot(x,y)\n",
        "\n",
        "    plt.show()\n",
        "    return dataset\n",
        "\n",
        "num_sample=100000  # number of different ST values\n",
        "sampling=175 # number of coordiante point describing the contour\n",
        "\n",
        "\n",
        "dataset=gen_data(num_sample,sampling)\n",
        "\n",
        "\n",
        "column_names=[]\n",
        "for i in range(sampling):\n",
        "  column_names.append('theta')\n",
        "for i in range(sampling):\n",
        "  column_names.append('rho')\n",
        "column_names.append('vol')\n",
        "column_names.append('Ps')\n",
        "column_names.append('ST')\n",
        "\n",
        "\n",
        "raw_dataset = pd.DataFrame(dataset, columns=column_names)\n",
        "\n",
        "# raw_dataset.to_csv('./dataset.csv',index=False)\n"
      ],
      "execution_count": 75,
      "outputs": [
        {
          "output_type": "stream",
          "text": [
            "0\n",
            "10000\n",
            "20000\n",
            "30000\n",
            "40000\n",
            "50000\n",
            "60000\n",
            "70000\n",
            "80000\n",
            "90000\n"
          ],
          "name": "stdout"
        },
        {
          "output_type": "stream",
          "text": [
            "/usr/local/lib/python3.7/dist-packages/seaborn/distributions.py:2557: FutureWarning: `distplot` is a deprecated function and will be removed in a future version. Please adapt your code to use either `displot` (a figure-level function with similar flexibility) or `histplot` (an axes-level function for histograms).\n",
            "  warnings.warn(msg, FutureWarning)\n",
            "/usr/local/lib/python3.7/dist-packages/seaborn/distributions.py:2557: FutureWarning: `distplot` is a deprecated function and will be removed in a future version. Please adapt your code to use either `displot` (a figure-level function with similar flexibility) or `histplot` (an axes-level function for histograms).\n",
            "  warnings.warn(msg, FutureWarning)\n",
            "/usr/local/lib/python3.7/dist-packages/seaborn/distributions.py:2557: FutureWarning: `distplot` is a deprecated function and will be removed in a future version. Please adapt your code to use either `displot` (a figure-level function with similar flexibility) or `histplot` (an axes-level function for histograms).\n",
            "  warnings.warn(msg, FutureWarning)\n"
          ],
          "name": "stderr"
        },
        {
          "output_type": "display_data",
          "data": {
            "image/png": "[encoded data removed]",
            "text/plain": [
              "<Figure size 432x288 with 1 Axes>"
            ]
          },
          "metadata": {
            "tags": [],
            "needs_background": "light"
          }
        },
        {
          "output_type": "display_data",
          "data": {
            "image/png": "[encoded data removed]",
            "text/plain": [
              "<Figure size 432x288 with 1 Axes>"
            ]
          },
          "metadata": {
            "tags": [],
            "needs_background": "light"
          }
        },
        {
          "output_type": "display_data",
          "data": {
            "image/png": "[encoded data removed]",
            "text/plain": [
              "<Figure size 432x288 with 1 Axes>"
            ]
          },
          "metadata": {
            "tags": [],
            "needs_background": "light"
          }
        },
        {
          "output_type": "display_data",
          "data": {
            "image/png": "[encoded data removed]",
            "text/plain": [
              "<Figure size 432x288 with 1 Axes>"
            ]
          },
          "metadata": {
            "tags": [],
            "needs_background": "light"
          }
        }
      ]
    },
    {
      "cell_type": "code",
      "metadata": {
        "id": "QnYEVF5jmVsJ"
      },
      "source": [
        "#Remove columns\n",
        "\n",
        "Ps=raw_dataset.pop('Ps')\n",
        "volume=raw_dataset.pop('vol')"
      ],
      "execution_count": null,
      "outputs": []
    },
    {
      "cell_type": "code",
      "metadata": {
        "id": "l83INVYlZsND",
        "outputId": "5b39c275-7c36-4827-fae8-9ed0e9666628",
        "colab": {
          "base_uri": "https://localhost:8080/"
        }
      },
      "source": [
        "\n",
        "#input = pd.read_csv(io.BytesIO(uploaded['data.csv']))\n",
        "#input = pd.DataFrame(dataset)\n",
        "# Dataset is now stored in a Pandas Dataframe\n",
        "#input.size\n"
      ],
      "execution_count": 45,
      "outputs": [
        {
          "output_type": "execute_result",
          "data": {
            "text/plain": [
              "(100000, 353)"
            ]
          },
          "metadata": {
            "tags": []
          },
          "execution_count": 45
        }
      ]
    },
    {
      "cell_type": "code",
      "metadata": {
        "id": "CiX2FI4gZtTt",
        "colab": {
          "base_uri": "https://localhost:8080/",
          "height": 253
        },
        "outputId": "2d09e3fe-1a16-4873-d869-5c0458cf38fc"
      },
      "source": [
        "# loading of data\n",
        "# raw_dataset=pd.read_csv('dataset.csv')\n",
        "\n",
        "dataset = raw_dataset.copy()\n",
        "# dataset.pop('vol')\n",
        "dataset.tail()\n"
      ],
      "execution_count": 81,
      "outputs": [
        {
          "output_type": "execute_result",
          "data": {
            "text/html": [
              "<div>\n",
              "<style scoped>\n",
              "    .dataframe tbody tr th:only-of-type {\n",
              "        vertical-align: middle;\n",
              "    }\n",
              "\n",
              "    .dataframe tbody tr th {\n",
              "        vertical-align: top;\n",
              "    }\n",
              "\n",
              "    .dataframe thead th {\n",
              "        text-align: right;\n",
              "    }\n",
              "</style>\n",
              "<table border=\"1\" class=\"dataframe\">\n",
              "  <thead>\n",
              "    <tr style=\"text-align: right;\">\n",
              "      <th></th>\n",
              "      <th>theta</th>\n",
              "      <th>theta</th>\n",
              "      <th>theta</th>\n",
              "      <th>theta</th>\n",
              "      <th>theta</th>\n",
              "      <th>theta</th>\n",
              "      <th>theta</th>\n",
              "      <th>theta</th>\n",
              "      <th>theta</th>\n",
              "      <th>theta</th>\n",
              "      <th>theta</th>\n",
              "      <th>theta</th>\n",
              "      <th>theta</th>\n",
              "      <th>theta</th>\n",
              "      <th>theta</th>\n",
              "      <th>theta</th>\n",
              "      <th>theta</th>\n",
              "      <th>theta</th>\n",
              "      <th>theta</th>\n",
              "      <th>theta</th>\n",
              "      <th>theta</th>\n",
              "      <th>theta</th>\n",
              "      <th>theta</th>\n",
              "      <th>theta</th>\n",
              "      <th>theta</th>\n",
              "      <th>theta</th>\n",
              "      <th>theta</th>\n",
              "      <th>theta</th>\n",
              "      <th>theta</th>\n",
              "      <th>theta</th>\n",
              "      <th>theta</th>\n",
              "      <th>theta</th>\n",
              "      <th>theta</th>\n",
              "      <th>theta</th>\n",
              "      <th>theta</th>\n",
              "      <th>theta</th>\n",
              "      <th>theta</th>\n",
              "      <th>theta</th>\n",
              "      <th>theta</th>\n",
              "      <th>theta</th>\n",
              "      <th>...</th>\n",
              "      <th>rho</th>\n",
              "      <th>rho</th>\n",
              "      <th>rho</th>\n",
              "      <th>rho</th>\n",
              "      <th>rho</th>\n",
              "      <th>rho</th>\n",
              "      <th>rho</th>\n",
              "      <th>rho</th>\n",
              "      <th>rho</th>\n",
              "      <th>rho</th>\n",
              "      <th>rho</th>\n",
              "      <th>rho</th>\n",
              "      <th>rho</th>\n",
              "      <th>rho</th>\n",
              "      <th>rho</th>\n",
              "      <th>rho</th>\n",
              "      <th>rho</th>\n",
              "      <th>rho</th>\n",
              "      <th>rho</th>\n",
              "      <th>rho</th>\n",
              "      <th>rho</th>\n",
              "      <th>rho</th>\n",
              "      <th>rho</th>\n",
              "      <th>rho</th>\n",
              "      <th>rho</th>\n",
              "      <th>rho</th>\n",
              "      <th>rho</th>\n",
              "      <th>rho</th>\n",
              "      <th>rho</th>\n",
              "      <th>rho</th>\n",
              "      <th>rho</th>\n",
              "      <th>rho</th>\n",
              "      <th>rho</th>\n",
              "      <th>rho</th>\n",
              "      <th>rho</th>\n",
              "      <th>rho</th>\n",
              "      <th>rho</th>\n",
              "      <th>vol</th>\n",
              "      <th>Ps</th>\n",
              "      <th>ST</th>\n",
              "    </tr>\n",
              "  </thead>\n",
              "  <tbody>\n",
              "    <tr>\n",
              "      <th>99995</th>\n",
              "      <td>0.027536</td>\n",
              "      <td>0.041900</td>\n",
              "      <td>0.120338</td>\n",
              "      <td>0.167342</td>\n",
              "      <td>0.224650</td>\n",
              "      <td>0.235506</td>\n",
              "      <td>0.257757</td>\n",
              "      <td>0.266040</td>\n",
              "      <td>0.303137</td>\n",
              "      <td>0.304812</td>\n",
              "      <td>0.346579</td>\n",
              "      <td>0.356552</td>\n",
              "      <td>0.380573</td>\n",
              "      <td>0.412928</td>\n",
              "      <td>0.438804</td>\n",
              "      <td>0.468703</td>\n",
              "      <td>0.482600</td>\n",
              "      <td>0.497993</td>\n",
              "      <td>0.511600</td>\n",
              "      <td>0.530672</td>\n",
              "      <td>0.616448</td>\n",
              "      <td>0.632351</td>\n",
              "      <td>0.664223</td>\n",
              "      <td>0.703274</td>\n",
              "      <td>0.710828</td>\n",
              "      <td>0.774535</td>\n",
              "      <td>0.836642</td>\n",
              "      <td>0.859075</td>\n",
              "      <td>0.859217</td>\n",
              "      <td>0.866586</td>\n",
              "      <td>0.870807</td>\n",
              "      <td>0.967826</td>\n",
              "      <td>0.979500</td>\n",
              "      <td>0.992374</td>\n",
              "      <td>0.997411</td>\n",
              "      <td>1.033411</td>\n",
              "      <td>1.036174</td>\n",
              "      <td>1.123461</td>\n",
              "      <td>1.165755</td>\n",
              "      <td>1.198738</td>\n",
              "      <td>...</td>\n",
              "      <td>0.804418</td>\n",
              "      <td>0.804317</td>\n",
              "      <td>0.793282</td>\n",
              "      <td>0.791570</td>\n",
              "      <td>0.789222</td>\n",
              "      <td>0.787669</td>\n",
              "      <td>0.784051</td>\n",
              "      <td>0.762322</td>\n",
              "      <td>0.761129</td>\n",
              "      <td>0.760509</td>\n",
              "      <td>0.760146</td>\n",
              "      <td>0.758858</td>\n",
              "      <td>0.734552</td>\n",
              "      <td>0.731161</td>\n",
              "      <td>0.729149</td>\n",
              "      <td>0.728764</td>\n",
              "      <td>0.724563</td>\n",
              "      <td>0.721429</td>\n",
              "      <td>0.718928</td>\n",
              "      <td>0.715958</td>\n",
              "      <td>0.715953</td>\n",
              "      <td>0.715707</td>\n",
              "      <td>0.713805</td>\n",
              "      <td>0.712919</td>\n",
              "      <td>0.705282</td>\n",
              "      <td>0.700614</td>\n",
              "      <td>0.700164</td>\n",
              "      <td>0.695660</td>\n",
              "      <td>0.694158</td>\n",
              "      <td>0.692580</td>\n",
              "      <td>0.679054</td>\n",
              "      <td>0.678077</td>\n",
              "      <td>0.676753</td>\n",
              "      <td>0.676181</td>\n",
              "      <td>0.675746</td>\n",
              "      <td>0.675582</td>\n",
              "      <td>0.675015</td>\n",
              "      <td>1.872113</td>\n",
              "      <td>2180.024811</td>\n",
              "      <td>41.247264</td>\n",
              "    </tr>\n",
              "    <tr>\n",
              "      <th>99996</th>\n",
              "      <td>0.014136</td>\n",
              "      <td>0.016402</td>\n",
              "      <td>0.053606</td>\n",
              "      <td>0.089164</td>\n",
              "      <td>0.168933</td>\n",
              "      <td>0.195093</td>\n",
              "      <td>0.202779</td>\n",
              "      <td>0.271777</td>\n",
              "      <td>0.299264</td>\n",
              "      <td>0.300490</td>\n",
              "      <td>0.362260</td>\n",
              "      <td>0.423598</td>\n",
              "      <td>0.490952</td>\n",
              "      <td>0.520692</td>\n",
              "      <td>0.583140</td>\n",
              "      <td>0.627130</td>\n",
              "      <td>0.648604</td>\n",
              "      <td>0.658628</td>\n",
              "      <td>0.696790</td>\n",
              "      <td>0.727055</td>\n",
              "      <td>0.754070</td>\n",
              "      <td>0.809066</td>\n",
              "      <td>0.822825</td>\n",
              "      <td>0.829041</td>\n",
              "      <td>0.829738</td>\n",
              "      <td>0.837406</td>\n",
              "      <td>0.881328</td>\n",
              "      <td>0.884816</td>\n",
              "      <td>0.930201</td>\n",
              "      <td>0.977360</td>\n",
              "      <td>1.042539</td>\n",
              "      <td>1.054964</td>\n",
              "      <td>1.072627</td>\n",
              "      <td>1.073222</td>\n",
              "      <td>1.078719</td>\n",
              "      <td>1.082961</td>\n",
              "      <td>1.121759</td>\n",
              "      <td>1.154878</td>\n",
              "      <td>1.196075</td>\n",
              "      <td>1.213535</td>\n",
              "      <td>...</td>\n",
              "      <td>1.004682</td>\n",
              "      <td>1.005507</td>\n",
              "      <td>1.003888</td>\n",
              "      <td>0.999552</td>\n",
              "      <td>0.999307</td>\n",
              "      <td>0.990756</td>\n",
              "      <td>0.976182</td>\n",
              "      <td>0.966775</td>\n",
              "      <td>0.959977</td>\n",
              "      <td>0.956075</td>\n",
              "      <td>0.943837</td>\n",
              "      <td>0.932636</td>\n",
              "      <td>0.918917</td>\n",
              "      <td>0.910857</td>\n",
              "      <td>0.905204</td>\n",
              "      <td>0.900232</td>\n",
              "      <td>0.898502</td>\n",
              "      <td>0.897330</td>\n",
              "      <td>0.891384</td>\n",
              "      <td>0.885216</td>\n",
              "      <td>0.873531</td>\n",
              "      <td>0.872385</td>\n",
              "      <td>0.859118</td>\n",
              "      <td>0.854498</td>\n",
              "      <td>0.851311</td>\n",
              "      <td>0.844250</td>\n",
              "      <td>0.840303</td>\n",
              "      <td>0.838037</td>\n",
              "      <td>0.825885</td>\n",
              "      <td>0.819920</td>\n",
              "      <td>0.817700</td>\n",
              "      <td>0.817640</td>\n",
              "      <td>0.814290</td>\n",
              "      <td>0.811923</td>\n",
              "      <td>0.811868</td>\n",
              "      <td>0.811297</td>\n",
              "      <td>0.810860</td>\n",
              "      <td>3.487499</td>\n",
              "      <td>2374.232759</td>\n",
              "      <td>59.517780</td>\n",
              "    </tr>\n",
              "    <tr>\n",
              "      <th>99997</th>\n",
              "      <td>0.039013</td>\n",
              "      <td>0.059690</td>\n",
              "      <td>0.082217</td>\n",
              "      <td>0.087061</td>\n",
              "      <td>0.094784</td>\n",
              "      <td>0.127901</td>\n",
              "      <td>0.179975</td>\n",
              "      <td>0.193207</td>\n",
              "      <td>0.225609</td>\n",
              "      <td>0.278529</td>\n",
              "      <td>0.285809</td>\n",
              "      <td>0.343195</td>\n",
              "      <td>0.405576</td>\n",
              "      <td>0.437508</td>\n",
              "      <td>0.493531</td>\n",
              "      <td>0.551528</td>\n",
              "      <td>0.557301</td>\n",
              "      <td>0.654501</td>\n",
              "      <td>0.664422</td>\n",
              "      <td>0.682937</td>\n",
              "      <td>0.714803</td>\n",
              "      <td>0.770266</td>\n",
              "      <td>0.784748</td>\n",
              "      <td>0.785511</td>\n",
              "      <td>0.818975</td>\n",
              "      <td>0.922332</td>\n",
              "      <td>0.988108</td>\n",
              "      <td>1.025793</td>\n",
              "      <td>1.045540</td>\n",
              "      <td>1.071780</td>\n",
              "      <td>1.125844</td>\n",
              "      <td>1.147593</td>\n",
              "      <td>1.221608</td>\n",
              "      <td>1.247693</td>\n",
              "      <td>1.361367</td>\n",
              "      <td>1.389103</td>\n",
              "      <td>1.459623</td>\n",
              "      <td>1.463722</td>\n",
              "      <td>1.486251</td>\n",
              "      <td>1.557460</td>\n",
              "      <td>...</td>\n",
              "      <td>0.757800</td>\n",
              "      <td>0.758604</td>\n",
              "      <td>0.758541</td>\n",
              "      <td>0.758288</td>\n",
              "      <td>0.758164</td>\n",
              "      <td>0.755557</td>\n",
              "      <td>0.754705</td>\n",
              "      <td>0.753213</td>\n",
              "      <td>0.752000</td>\n",
              "      <td>0.751980</td>\n",
              "      <td>0.744306</td>\n",
              "      <td>0.741893</td>\n",
              "      <td>0.737389</td>\n",
              "      <td>0.736345</td>\n",
              "      <td>0.734898</td>\n",
              "      <td>0.721984</td>\n",
              "      <td>0.719514</td>\n",
              "      <td>0.715777</td>\n",
              "      <td>0.714906</td>\n",
              "      <td>0.709166</td>\n",
              "      <td>0.703031</td>\n",
              "      <td>0.695154</td>\n",
              "      <td>0.682522</td>\n",
              "      <td>0.680879</td>\n",
              "      <td>0.677328</td>\n",
              "      <td>0.672089</td>\n",
              "      <td>0.670468</td>\n",
              "      <td>0.658595</td>\n",
              "      <td>0.658365</td>\n",
              "      <td>0.657477</td>\n",
              "      <td>0.653287</td>\n",
              "      <td>0.652924</td>\n",
              "      <td>0.643638</td>\n",
              "      <td>0.641944</td>\n",
              "      <td>0.638516</td>\n",
              "      <td>0.638165</td>\n",
              "      <td>0.638093</td>\n",
              "      <td>1.553234</td>\n",
              "      <td>2156.265118</td>\n",
              "      <td>38.542140</td>\n",
              "    </tr>\n",
              "    <tr>\n",
              "      <th>99998</th>\n",
              "      <td>0.013354</td>\n",
              "      <td>0.033415</td>\n",
              "      <td>0.046185</td>\n",
              "      <td>0.086145</td>\n",
              "      <td>0.112996</td>\n",
              "      <td>0.126142</td>\n",
              "      <td>0.210809</td>\n",
              "      <td>0.246228</td>\n",
              "      <td>0.253542</td>\n",
              "      <td>0.262687</td>\n",
              "      <td>0.278433</td>\n",
              "      <td>0.292357</td>\n",
              "      <td>0.338462</td>\n",
              "      <td>0.405023</td>\n",
              "      <td>0.523771</td>\n",
              "      <td>0.529478</td>\n",
              "      <td>0.552420</td>\n",
              "      <td>0.573971</td>\n",
              "      <td>0.580452</td>\n",
              "      <td>0.658791</td>\n",
              "      <td>0.697283</td>\n",
              "      <td>0.710818</td>\n",
              "      <td>0.750686</td>\n",
              "      <td>0.778744</td>\n",
              "      <td>0.857587</td>\n",
              "      <td>0.941201</td>\n",
              "      <td>0.991165</td>\n",
              "      <td>1.037637</td>\n",
              "      <td>1.110104</td>\n",
              "      <td>1.121316</td>\n",
              "      <td>1.153038</td>\n",
              "      <td>1.157439</td>\n",
              "      <td>1.173064</td>\n",
              "      <td>1.179390</td>\n",
              "      <td>1.191534</td>\n",
              "      <td>1.192685</td>\n",
              "      <td>1.206024</td>\n",
              "      <td>1.209038</td>\n",
              "      <td>1.262786</td>\n",
              "      <td>1.319002</td>\n",
              "      <td>...</td>\n",
              "      <td>1.167542</td>\n",
              "      <td>1.166510</td>\n",
              "      <td>1.166097</td>\n",
              "      <td>1.161530</td>\n",
              "      <td>1.160278</td>\n",
              "      <td>1.156056</td>\n",
              "      <td>1.152647</td>\n",
              "      <td>1.148959</td>\n",
              "      <td>1.140461</td>\n",
              "      <td>1.138245</td>\n",
              "      <td>1.132768</td>\n",
              "      <td>1.131045</td>\n",
              "      <td>1.112763</td>\n",
              "      <td>1.108246</td>\n",
              "      <td>1.104857</td>\n",
              "      <td>1.102840</td>\n",
              "      <td>1.102836</td>\n",
              "      <td>1.097041</td>\n",
              "      <td>1.083448</td>\n",
              "      <td>1.041779</td>\n",
              "      <td>0.972471</td>\n",
              "      <td>0.970726</td>\n",
              "      <td>0.934379</td>\n",
              "      <td>0.931176</td>\n",
              "      <td>0.928494</td>\n",
              "      <td>0.913652</td>\n",
              "      <td>0.862158</td>\n",
              "      <td>0.834125</td>\n",
              "      <td>0.810985</td>\n",
              "      <td>0.806762</td>\n",
              "      <td>0.806362</td>\n",
              "      <td>0.806020</td>\n",
              "      <td>0.804751</td>\n",
              "      <td>0.794854</td>\n",
              "      <td>0.793482</td>\n",
              "      <td>0.792313</td>\n",
              "      <td>0.791072</td>\n",
              "      <td>4.842031</td>\n",
              "      <td>2572.995555</td>\n",
              "      <td>48.104515</td>\n",
              "    </tr>\n",
              "    <tr>\n",
              "      <th>99999</th>\n",
              "      <td>0.031427</td>\n",
              "      <td>0.061669</td>\n",
              "      <td>0.094740</td>\n",
              "      <td>0.098836</td>\n",
              "      <td>0.184188</td>\n",
              "      <td>0.205507</td>\n",
              "      <td>0.244952</td>\n",
              "      <td>0.266344</td>\n",
              "      <td>0.308625</td>\n",
              "      <td>0.311981</td>\n",
              "      <td>0.326493</td>\n",
              "      <td>0.364039</td>\n",
              "      <td>0.434511</td>\n",
              "      <td>0.448559</td>\n",
              "      <td>0.457772</td>\n",
              "      <td>0.466998</td>\n",
              "      <td>0.468113</td>\n",
              "      <td>0.531816</td>\n",
              "      <td>0.541759</td>\n",
              "      <td>0.604962</td>\n",
              "      <td>0.647808</td>\n",
              "      <td>0.715113</td>\n",
              "      <td>0.715340</td>\n",
              "      <td>0.794001</td>\n",
              "      <td>0.858389</td>\n",
              "      <td>0.872565</td>\n",
              "      <td>0.895083</td>\n",
              "      <td>0.911463</td>\n",
              "      <td>0.925040</td>\n",
              "      <td>0.965339</td>\n",
              "      <td>1.005937</td>\n",
              "      <td>1.129652</td>\n",
              "      <td>1.197964</td>\n",
              "      <td>1.266475</td>\n",
              "      <td>1.314698</td>\n",
              "      <td>1.323873</td>\n",
              "      <td>1.348104</td>\n",
              "      <td>1.371662</td>\n",
              "      <td>1.390193</td>\n",
              "      <td>1.426474</td>\n",
              "      <td>...</td>\n",
              "      <td>1.098036</td>\n",
              "      <td>1.095602</td>\n",
              "      <td>1.086165</td>\n",
              "      <td>1.083409</td>\n",
              "      <td>1.081412</td>\n",
              "      <td>1.069030</td>\n",
              "      <td>1.065027</td>\n",
              "      <td>1.055836</td>\n",
              "      <td>1.047397</td>\n",
              "      <td>1.045713</td>\n",
              "      <td>1.040073</td>\n",
              "      <td>1.029649</td>\n",
              "      <td>1.029048</td>\n",
              "      <td>1.020881</td>\n",
              "      <td>1.012450</td>\n",
              "      <td>1.000371</td>\n",
              "      <td>0.991842</td>\n",
              "      <td>0.987165</td>\n",
              "      <td>0.972769</td>\n",
              "      <td>0.960530</td>\n",
              "      <td>0.953613</td>\n",
              "      <td>0.939574</td>\n",
              "      <td>0.922648</td>\n",
              "      <td>0.911588</td>\n",
              "      <td>0.908503</td>\n",
              "      <td>0.876148</td>\n",
              "      <td>0.871028</td>\n",
              "      <td>0.840695</td>\n",
              "      <td>0.828743</td>\n",
              "      <td>0.803437</td>\n",
              "      <td>0.801782</td>\n",
              "      <td>0.782401</td>\n",
              "      <td>0.781020</td>\n",
              "      <td>0.779175</td>\n",
              "      <td>0.773728</td>\n",
              "      <td>0.771362</td>\n",
              "      <td>0.769675</td>\n",
              "      <td>4.177354</td>\n",
              "      <td>2550.690619</td>\n",
              "      <td>46.106270</td>\n",
              "    </tr>\n",
              "  </tbody>\n",
              "</table>\n",
              "<p>5 rows × 353 columns</p>\n",
              "</div>"
            ],
            "text/plain": [
              "          theta     theta     theta  ...       vol           Ps         ST\n",
              "99995  0.027536  0.041900  0.120338  ...  1.872113  2180.024811  41.247264\n",
              "99996  0.014136  0.016402  0.053606  ...  3.487499  2374.232759  59.517780\n",
              "99997  0.039013  0.059690  0.082217  ...  1.553234  2156.265118  38.542140\n",
              "99998  0.013354  0.033415  0.046185  ...  4.842031  2572.995555  48.104515\n",
              "99999  0.031427  0.061669  0.094740  ...  4.177354  2550.690619  46.106270\n",
              "\n",
              "[5 rows x 353 columns]"
            ]
          },
          "metadata": {
            "tags": []
          },
          "execution_count": 81
        }
      ]
    },
    {
      "cell_type": "markdown",
      "metadata": {
        "id": "HkWsufEUFMi8"
      },
      "source": [
        "### Adding noise to acoustic pressure"
      ]
    },
    {
      "cell_type": "code",
      "metadata": {
        "id": "vgwEz3rDFLcz",
        "colab": {
          "base_uri": "https://localhost:8080/",
          "height": 530
        },
        "outputId": "59609476-c4de-48c8-cf01-380853f7e23e"
      },
      "source": [
        "noisy_dataset=dataset.copy()\n",
        "\n",
        "np.random.seed(seed=1)\n",
        "noise1 = np.random.random(size=[len(dataset), ])*25\n",
        "noise2=np.random.random(size=[len(dataset), ])*25\n",
        "noisy_dataset.Ps=noisy_dataset.Ps+noise1-noise2\n",
        "\n",
        "plt.figure()\n",
        "plt.plot(dataset.iloc[0, 0:sampling], dataset.iloc[0, sampling:sampling*2])\n",
        "\n",
        "plt.figure()\n",
        "plt.plot(dataset.Ps[0:10], label='Initial Ps')\n",
        "plt.plot(noisy_dataset.Ps[0:10], label='Ps with noise')\n",
        "plt.legend()"
      ],
      "execution_count": null,
      "outputs": [
        {
          "output_type": "execute_result",
          "data": {
            "text/plain": [
              "<matplotlib.legend.Legend at 0x7fdd1ffa77d0>"
            ]
          },
          "metadata": {
            "tags": []
          },
          "execution_count": 119
        },
        {
          "output_type": "display_data",
          "data": {
            "image/png": "[encoded data removed]",
            "text/plain": [
              "<Figure size 432x288 with 1 Axes>"
            ]
          },
          "metadata": {
            "tags": [],
            "needs_background": "light"
          }
        },
        {
          "output_type": "display_data",
          "data": {
            "image/png": "[encoded data removed]",
            "text/plain": [
              "<Figure size 432x288 with 1 Axes>"
            ]
          },
          "metadata": {
            "tags": [],
            "needs_background": "light"
          }
        }
      ]
    },
    {
      "cell_type": "markdown",
      "metadata": {
        "id": "MtvfYyw-1dig"
      },
      "source": [
        "### Save the noise dataset"
      ]
    },
    {
      "cell_type": "code",
      "metadata": {
        "id": "OEN9cHIe1c4U",
        "colab": {
          "base_uri": "https://localhost:8080/",
          "height": 253
        },
        "outputId": "cfeb326f-21b4-4658-9043-bbda5e72b32b"
      },
      "source": [
        "#The original dataset is on: raw_dataset.tail()\n",
        "# dataset=raw_dataset\n",
        "#Save the noisy dataset as dataset\n",
        "dataset=noisy_dataset\n",
        "dataset.tail()"
      ],
      "execution_count": null,
      "outputs": [
        {
          "output_type": "execute_result",
          "data": {
            "text/html": [
              "<div>\n",
              "<style scoped>\n",
              "    .dataframe tbody tr th:only-of-type {\n",
              "        vertical-align: middle;\n",
              "    }\n",
              "\n",
              "    .dataframe tbody tr th {\n",
              "        vertical-align: top;\n",
              "    }\n",
              "\n",
              "    .dataframe thead th {\n",
              "        text-align: right;\n",
              "    }\n",
              "</style>\n",
              "<table border=\"1\" class=\"dataframe\">\n",
              "  <thead>\n",
              "    <tr style=\"text-align: right;\">\n",
              "      <th></th>\n",
              "      <th>theta</th>\n",
              "      <th>theta</th>\n",
              "      <th>theta</th>\n",
              "      <th>theta</th>\n",
              "      <th>theta</th>\n",
              "      <th>theta</th>\n",
              "      <th>theta</th>\n",
              "      <th>theta</th>\n",
              "      <th>theta</th>\n",
              "      <th>theta</th>\n",
              "      <th>theta</th>\n",
              "      <th>theta</th>\n",
              "      <th>theta</th>\n",
              "      <th>theta</th>\n",
              "      <th>theta</th>\n",
              "      <th>theta</th>\n",
              "      <th>theta</th>\n",
              "      <th>theta</th>\n",
              "      <th>theta</th>\n",
              "      <th>theta</th>\n",
              "      <th>theta</th>\n",
              "      <th>theta</th>\n",
              "      <th>theta</th>\n",
              "      <th>theta</th>\n",
              "      <th>theta</th>\n",
              "      <th>theta</th>\n",
              "      <th>theta</th>\n",
              "      <th>theta</th>\n",
              "      <th>theta</th>\n",
              "      <th>theta</th>\n",
              "      <th>theta</th>\n",
              "      <th>theta</th>\n",
              "      <th>theta</th>\n",
              "      <th>theta</th>\n",
              "      <th>theta</th>\n",
              "      <th>theta</th>\n",
              "      <th>theta</th>\n",
              "      <th>theta</th>\n",
              "      <th>theta</th>\n",
              "      <th>theta</th>\n",
              "      <th>...</th>\n",
              "      <th>rho</th>\n",
              "      <th>rho</th>\n",
              "      <th>rho</th>\n",
              "      <th>rho</th>\n",
              "      <th>rho</th>\n",
              "      <th>rho</th>\n",
              "      <th>rho</th>\n",
              "      <th>rho</th>\n",
              "      <th>rho</th>\n",
              "      <th>rho</th>\n",
              "      <th>rho</th>\n",
              "      <th>rho</th>\n",
              "      <th>rho</th>\n",
              "      <th>rho</th>\n",
              "      <th>rho</th>\n",
              "      <th>rho</th>\n",
              "      <th>rho</th>\n",
              "      <th>rho</th>\n",
              "      <th>rho</th>\n",
              "      <th>rho</th>\n",
              "      <th>rho</th>\n",
              "      <th>rho</th>\n",
              "      <th>rho</th>\n",
              "      <th>rho</th>\n",
              "      <th>rho</th>\n",
              "      <th>rho</th>\n",
              "      <th>rho</th>\n",
              "      <th>rho</th>\n",
              "      <th>rho</th>\n",
              "      <th>rho</th>\n",
              "      <th>rho</th>\n",
              "      <th>rho</th>\n",
              "      <th>rho</th>\n",
              "      <th>rho</th>\n",
              "      <th>rho</th>\n",
              "      <th>rho</th>\n",
              "      <th>rho</th>\n",
              "      <th>vol</th>\n",
              "      <th>Ps</th>\n",
              "      <th>ST</th>\n",
              "    </tr>\n",
              "  </thead>\n",
              "  <tbody>\n",
              "    <tr>\n",
              "      <th>99995</th>\n",
              "      <td>0.039908</td>\n",
              "      <td>0.100211</td>\n",
              "      <td>0.123792</td>\n",
              "      <td>0.143284</td>\n",
              "      <td>0.248989</td>\n",
              "      <td>0.256429</td>\n",
              "      <td>0.276989</td>\n",
              "      <td>0.306908</td>\n",
              "      <td>0.353844</td>\n",
              "      <td>0.412989</td>\n",
              "      <td>0.431787</td>\n",
              "      <td>0.443188</td>\n",
              "      <td>0.451810</td>\n",
              "      <td>0.497165</td>\n",
              "      <td>0.519754</td>\n",
              "      <td>0.533590</td>\n",
              "      <td>0.582264</td>\n",
              "      <td>0.609993</td>\n",
              "      <td>0.615454</td>\n",
              "      <td>0.621378</td>\n",
              "      <td>0.634593</td>\n",
              "      <td>0.645124</td>\n",
              "      <td>0.720576</td>\n",
              "      <td>0.766725</td>\n",
              "      <td>0.788217</td>\n",
              "      <td>0.795253</td>\n",
              "      <td>0.803847</td>\n",
              "      <td>0.893964</td>\n",
              "      <td>0.974027</td>\n",
              "      <td>0.978505</td>\n",
              "      <td>0.985181</td>\n",
              "      <td>0.986678</td>\n",
              "      <td>1.007718</td>\n",
              "      <td>1.059297</td>\n",
              "      <td>1.084816</td>\n",
              "      <td>1.133738</td>\n",
              "      <td>1.155920</td>\n",
              "      <td>1.157079</td>\n",
              "      <td>1.209349</td>\n",
              "      <td>1.211184</td>\n",
              "      <td>...</td>\n",
              "      <td>0.989414</td>\n",
              "      <td>0.989494</td>\n",
              "      <td>0.988718</td>\n",
              "      <td>0.988684</td>\n",
              "      <td>0.988128</td>\n",
              "      <td>0.985210</td>\n",
              "      <td>0.985104</td>\n",
              "      <td>0.973720</td>\n",
              "      <td>0.973635</td>\n",
              "      <td>0.972274</td>\n",
              "      <td>0.966523</td>\n",
              "      <td>0.961734</td>\n",
              "      <td>0.958344</td>\n",
              "      <td>0.956702</td>\n",
              "      <td>0.952112</td>\n",
              "      <td>0.937426</td>\n",
              "      <td>0.931630</td>\n",
              "      <td>0.920661</td>\n",
              "      <td>0.914212</td>\n",
              "      <td>0.909397</td>\n",
              "      <td>0.907571</td>\n",
              "      <td>0.902369</td>\n",
              "      <td>0.900331</td>\n",
              "      <td>0.900309</td>\n",
              "      <td>0.895594</td>\n",
              "      <td>0.889803</td>\n",
              "      <td>0.884769</td>\n",
              "      <td>0.881457</td>\n",
              "      <td>0.880773</td>\n",
              "      <td>0.876738</td>\n",
              "      <td>0.871624</td>\n",
              "      <td>0.867674</td>\n",
              "      <td>0.865746</td>\n",
              "      <td>0.865070</td>\n",
              "      <td>0.865051</td>\n",
              "      <td>0.864383</td>\n",
              "      <td>0.863530</td>\n",
              "      <td>3.563205</td>\n",
              "      <td>2078.251844</td>\n",
              "      <td>71.626467</td>\n",
              "    </tr>\n",
              "    <tr>\n",
              "      <th>99996</th>\n",
              "      <td>0.102226</td>\n",
              "      <td>0.105187</td>\n",
              "      <td>0.119526</td>\n",
              "      <td>0.144739</td>\n",
              "      <td>0.147046</td>\n",
              "      <td>0.153807</td>\n",
              "      <td>0.207210</td>\n",
              "      <td>0.209711</td>\n",
              "      <td>0.262357</td>\n",
              "      <td>0.368467</td>\n",
              "      <td>0.428154</td>\n",
              "      <td>0.463273</td>\n",
              "      <td>0.500793</td>\n",
              "      <td>0.550299</td>\n",
              "      <td>0.693990</td>\n",
              "      <td>0.731842</td>\n",
              "      <td>0.752800</td>\n",
              "      <td>0.786223</td>\n",
              "      <td>0.832711</td>\n",
              "      <td>0.834341</td>\n",
              "      <td>0.845422</td>\n",
              "      <td>0.852951</td>\n",
              "      <td>0.855588</td>\n",
              "      <td>0.895340</td>\n",
              "      <td>0.908149</td>\n",
              "      <td>0.908926</td>\n",
              "      <td>0.938491</td>\n",
              "      <td>0.950920</td>\n",
              "      <td>0.992130</td>\n",
              "      <td>1.000615</td>\n",
              "      <td>1.003147</td>\n",
              "      <td>1.023693</td>\n",
              "      <td>1.040480</td>\n",
              "      <td>1.041210</td>\n",
              "      <td>1.074605</td>\n",
              "      <td>1.080558</td>\n",
              "      <td>1.082430</td>\n",
              "      <td>1.112215</td>\n",
              "      <td>1.112269</td>\n",
              "      <td>1.114138</td>\n",
              "      <td>...</td>\n",
              "      <td>0.922747</td>\n",
              "      <td>0.921364</td>\n",
              "      <td>0.919510</td>\n",
              "      <td>0.919173</td>\n",
              "      <td>0.909403</td>\n",
              "      <td>0.904577</td>\n",
              "      <td>0.904500</td>\n",
              "      <td>0.904140</td>\n",
              "      <td>0.895049</td>\n",
              "      <td>0.891045</td>\n",
              "      <td>0.889918</td>\n",
              "      <td>0.888591</td>\n",
              "      <td>0.879384</td>\n",
              "      <td>0.877817</td>\n",
              "      <td>0.874280</td>\n",
              "      <td>0.872487</td>\n",
              "      <td>0.859109</td>\n",
              "      <td>0.857911</td>\n",
              "      <td>0.855040</td>\n",
              "      <td>0.851348</td>\n",
              "      <td>0.850466</td>\n",
              "      <td>0.845486</td>\n",
              "      <td>0.842691</td>\n",
              "      <td>0.839619</td>\n",
              "      <td>0.834403</td>\n",
              "      <td>0.829315</td>\n",
              "      <td>0.828877</td>\n",
              "      <td>0.828122</td>\n",
              "      <td>0.826083</td>\n",
              "      <td>0.825616</td>\n",
              "      <td>0.824872</td>\n",
              "      <td>0.823253</td>\n",
              "      <td>0.822973</td>\n",
              "      <td>0.822468</td>\n",
              "      <td>0.822401</td>\n",
              "      <td>0.822384</td>\n",
              "      <td>0.822342</td>\n",
              "      <td>2.945927</td>\n",
              "      <td>1421.171832</td>\n",
              "      <td>34.907303</td>\n",
              "    </tr>\n",
              "    <tr>\n",
              "      <th>99997</th>\n",
              "      <td>0.007129</td>\n",
              "      <td>0.035470</td>\n",
              "      <td>0.050607</td>\n",
              "      <td>0.076113</td>\n",
              "      <td>0.194752</td>\n",
              "      <td>0.203267</td>\n",
              "      <td>0.239681</td>\n",
              "      <td>0.284312</td>\n",
              "      <td>0.353512</td>\n",
              "      <td>0.374871</td>\n",
              "      <td>0.440922</td>\n",
              "      <td>0.443143</td>\n",
              "      <td>0.447959</td>\n",
              "      <td>0.512794</td>\n",
              "      <td>0.566930</td>\n",
              "      <td>0.600406</td>\n",
              "      <td>0.672240</td>\n",
              "      <td>0.725601</td>\n",
              "      <td>0.725965</td>\n",
              "      <td>0.727637</td>\n",
              "      <td>0.761659</td>\n",
              "      <td>0.804759</td>\n",
              "      <td>0.916379</td>\n",
              "      <td>0.939192</td>\n",
              "      <td>0.951930</td>\n",
              "      <td>0.991082</td>\n",
              "      <td>0.995293</td>\n",
              "      <td>1.019701</td>\n",
              "      <td>1.024264</td>\n",
              "      <td>1.032472</td>\n",
              "      <td>1.081440</td>\n",
              "      <td>1.099770</td>\n",
              "      <td>1.161472</td>\n",
              "      <td>1.255281</td>\n",
              "      <td>1.308350</td>\n",
              "      <td>1.319986</td>\n",
              "      <td>1.349161</td>\n",
              "      <td>1.352477</td>\n",
              "      <td>1.352657</td>\n",
              "      <td>1.492174</td>\n",
              "      <td>...</td>\n",
              "      <td>0.962533</td>\n",
              "      <td>0.960162</td>\n",
              "      <td>0.959726</td>\n",
              "      <td>0.958917</td>\n",
              "      <td>0.957079</td>\n",
              "      <td>0.956553</td>\n",
              "      <td>0.953083</td>\n",
              "      <td>0.950422</td>\n",
              "      <td>0.950403</td>\n",
              "      <td>0.950362</td>\n",
              "      <td>0.949633</td>\n",
              "      <td>0.938736</td>\n",
              "      <td>0.938428</td>\n",
              "      <td>0.933190</td>\n",
              "      <td>0.932145</td>\n",
              "      <td>0.897377</td>\n",
              "      <td>0.896992</td>\n",
              "      <td>0.896595</td>\n",
              "      <td>0.893140</td>\n",
              "      <td>0.890724</td>\n",
              "      <td>0.887696</td>\n",
              "      <td>0.884135</td>\n",
              "      <td>0.871967</td>\n",
              "      <td>0.868459</td>\n",
              "      <td>0.863736</td>\n",
              "      <td>0.862638</td>\n",
              "      <td>0.858604</td>\n",
              "      <td>0.856815</td>\n",
              "      <td>0.856445</td>\n",
              "      <td>0.855774</td>\n",
              "      <td>0.852063</td>\n",
              "      <td>0.850517</td>\n",
              "      <td>0.848816</td>\n",
              "      <td>0.847037</td>\n",
              "      <td>0.844279</td>\n",
              "      <td>0.843291</td>\n",
              "      <td>0.843178</td>\n",
              "      <td>3.323637</td>\n",
              "      <td>1696.185372</td>\n",
              "      <td>45.089836</td>\n",
              "    </tr>\n",
              "    <tr>\n",
              "      <th>99998</th>\n",
              "      <td>0.038870</td>\n",
              "      <td>0.216244</td>\n",
              "      <td>0.233850</td>\n",
              "      <td>0.257454</td>\n",
              "      <td>0.268044</td>\n",
              "      <td>0.276054</td>\n",
              "      <td>0.309785</td>\n",
              "      <td>0.370312</td>\n",
              "      <td>0.446913</td>\n",
              "      <td>0.457621</td>\n",
              "      <td>0.475340</td>\n",
              "      <td>0.485227</td>\n",
              "      <td>0.488406</td>\n",
              "      <td>0.491886</td>\n",
              "      <td>0.499002</td>\n",
              "      <td>0.499494</td>\n",
              "      <td>0.528860</td>\n",
              "      <td>0.562811</td>\n",
              "      <td>0.591998</td>\n",
              "      <td>0.606943</td>\n",
              "      <td>0.635850</td>\n",
              "      <td>0.660828</td>\n",
              "      <td>0.684410</td>\n",
              "      <td>0.703760</td>\n",
              "      <td>0.729626</td>\n",
              "      <td>0.758776</td>\n",
              "      <td>0.791520</td>\n",
              "      <td>0.832539</td>\n",
              "      <td>0.876124</td>\n",
              "      <td>0.876233</td>\n",
              "      <td>0.890157</td>\n",
              "      <td>0.895874</td>\n",
              "      <td>1.002580</td>\n",
              "      <td>1.053305</td>\n",
              "      <td>1.090214</td>\n",
              "      <td>1.143786</td>\n",
              "      <td>1.164267</td>\n",
              "      <td>1.175871</td>\n",
              "      <td>1.200008</td>\n",
              "      <td>1.243996</td>\n",
              "      <td>...</td>\n",
              "      <td>1.067014</td>\n",
              "      <td>1.066083</td>\n",
              "      <td>1.065540</td>\n",
              "      <td>1.065233</td>\n",
              "      <td>1.065016</td>\n",
              "      <td>1.063229</td>\n",
              "      <td>1.059191</td>\n",
              "      <td>1.057283</td>\n",
              "      <td>1.052902</td>\n",
              "      <td>1.052891</td>\n",
              "      <td>1.051975</td>\n",
              "      <td>1.047736</td>\n",
              "      <td>1.047009</td>\n",
              "      <td>1.042068</td>\n",
              "      <td>1.041053</td>\n",
              "      <td>1.039720</td>\n",
              "      <td>1.039439</td>\n",
              "      <td>1.037861</td>\n",
              "      <td>1.036709</td>\n",
              "      <td>1.036165</td>\n",
              "      <td>1.034231</td>\n",
              "      <td>1.031290</td>\n",
              "      <td>1.028964</td>\n",
              "      <td>1.025896</td>\n",
              "      <td>1.024602</td>\n",
              "      <td>1.017794</td>\n",
              "      <td>1.017323</td>\n",
              "      <td>1.016799</td>\n",
              "      <td>1.015873</td>\n",
              "      <td>1.012318</td>\n",
              "      <td>1.006794</td>\n",
              "      <td>1.006428</td>\n",
              "      <td>1.006171</td>\n",
              "      <td>1.002191</td>\n",
              "      <td>1.001944</td>\n",
              "      <td>0.999571</td>\n",
              "      <td>0.999411</td>\n",
              "      <td>4.776491</td>\n",
              "      <td>1309.658158</td>\n",
              "      <td>71.082061</td>\n",
              "    </tr>\n",
              "    <tr>\n",
              "      <th>99999</th>\n",
              "      <td>0.034713</td>\n",
              "      <td>0.046829</td>\n",
              "      <td>0.091079</td>\n",
              "      <td>0.131102</td>\n",
              "      <td>0.181535</td>\n",
              "      <td>0.298437</td>\n",
              "      <td>0.334803</td>\n",
              "      <td>0.355875</td>\n",
              "      <td>0.381577</td>\n",
              "      <td>0.400939</td>\n",
              "      <td>0.402548</td>\n",
              "      <td>0.503964</td>\n",
              "      <td>0.529914</td>\n",
              "      <td>0.579275</td>\n",
              "      <td>0.657764</td>\n",
              "      <td>0.664280</td>\n",
              "      <td>0.711240</td>\n",
              "      <td>0.724588</td>\n",
              "      <td>0.799882</td>\n",
              "      <td>0.800111</td>\n",
              "      <td>0.825475</td>\n",
              "      <td>0.836566</td>\n",
              "      <td>0.839267</td>\n",
              "      <td>0.851964</td>\n",
              "      <td>0.859462</td>\n",
              "      <td>0.903442</td>\n",
              "      <td>0.921129</td>\n",
              "      <td>0.950560</td>\n",
              "      <td>0.955079</td>\n",
              "      <td>0.999705</td>\n",
              "      <td>1.095535</td>\n",
              "      <td>1.104685</td>\n",
              "      <td>1.126580</td>\n",
              "      <td>1.138211</td>\n",
              "      <td>1.139441</td>\n",
              "      <td>1.140824</td>\n",
              "      <td>1.164515</td>\n",
              "      <td>1.184823</td>\n",
              "      <td>1.216829</td>\n",
              "      <td>1.240794</td>\n",
              "      <td>...</td>\n",
              "      <td>1.094976</td>\n",
              "      <td>1.092636</td>\n",
              "      <td>1.092452</td>\n",
              "      <td>1.092046</td>\n",
              "      <td>1.089574</td>\n",
              "      <td>1.082176</td>\n",
              "      <td>1.072371</td>\n",
              "      <td>1.060572</td>\n",
              "      <td>1.057717</td>\n",
              "      <td>1.039409</td>\n",
              "      <td>1.028846</td>\n",
              "      <td>1.022640</td>\n",
              "      <td>1.018436</td>\n",
              "      <td>1.018054</td>\n",
              "      <td>1.016776</td>\n",
              "      <td>1.016252</td>\n",
              "      <td>1.011410</td>\n",
              "      <td>1.004298</td>\n",
              "      <td>0.999009</td>\n",
              "      <td>0.991652</td>\n",
              "      <td>0.990809</td>\n",
              "      <td>0.978699</td>\n",
              "      <td>0.974359</td>\n",
              "      <td>0.973791</td>\n",
              "      <td>0.967944</td>\n",
              "      <td>0.965963</td>\n",
              "      <td>0.963062</td>\n",
              "      <td>0.958933</td>\n",
              "      <td>0.958194</td>\n",
              "      <td>0.954981</td>\n",
              "      <td>0.952698</td>\n",
              "      <td>0.946045</td>\n",
              "      <td>0.945718</td>\n",
              "      <td>0.944610</td>\n",
              "      <td>0.942169</td>\n",
              "      <td>0.939748</td>\n",
              "      <td>0.939448</td>\n",
              "      <td>4.940290</td>\n",
              "      <td>2049.863588</td>\n",
              "      <td>69.286102</td>\n",
              "    </tr>\n",
              "  </tbody>\n",
              "</table>\n",
              "<p>5 rows × 353 columns</p>\n",
              "</div>"
            ],
            "text/plain": [
              "          theta     theta     theta  ...       vol           Ps         ST\n",
              "99995  0.039908  0.100211  0.123792  ...  3.563205  2078.251844  71.626467\n",
              "99996  0.102226  0.105187  0.119526  ...  2.945927  1421.171832  34.907303\n",
              "99997  0.007129  0.035470  0.050607  ...  3.323637  1696.185372  45.089836\n",
              "99998  0.038870  0.216244  0.233850  ...  4.776491  1309.658158  71.082061\n",
              "99999  0.034713  0.046829  0.091079  ...  4.940290  2049.863588  69.286102\n",
              "\n",
              "[5 rows x 353 columns]"
            ]
          },
          "metadata": {
            "tags": []
          },
          "execution_count": 120
        }
      ]
    },
    {
      "cell_type": "markdown",
      "metadata": {
        "id": "Cuym4yvk76vU"
      },
      "source": [
        "### Split the data into train and test\n",
        "\n",
        "Now split the dataset into a training set and a test set.\n",
        "\n",
        "We will use the test set in the final evaluation of our model."
      ]
    },
    {
      "cell_type": "code",
      "metadata": {
        "id": "qn-IGhUE7_1H"
      },
      "source": [
        "train_dataset = dataset.sample(frac=0.8,random_state=0)\n",
        "test_dataset = dataset.drop(train_dataset.index)"
      ],
      "execution_count": 82,
      "outputs": []
    },
    {
      "cell_type": "markdown",
      "metadata": {
        "id": "J4ubs136WLNp"
      },
      "source": [
        "### Inspect the data\n",
        "\n",
        "Have a quick look at the joint distribution of a few pairs of columns from the training set."
      ]
    },
    {
      "cell_type": "code",
      "metadata": {
        "id": "oRKO_x8gWKv-"
      },
      "source": [
        "#sns.pairplot(train_dataset[column_names], diag_kind=\"kde\")\n",
        "#plt.show()"
      ],
      "execution_count": null,
      "outputs": []
    },
    {
      "cell_type": "markdown",
      "metadata": {
        "id": "gavKO_6DWRMP"
      },
      "source": [
        "Also look at the overall statistics:"
      ]
    },
    {
      "cell_type": "code",
      "metadata": {
        "id": "yi2FzC3T21jR",
        "colab": {
          "base_uri": "https://localhost:8080/",
          "height": 204
        },
        "outputId": "85424d3f-f000-40d2-b034-3895995322fd"
      },
      "source": [
        "train_stats = train_dataset.describe()\n",
        "train_stats.pop(\"ST\")\n",
        "train_stats = train_stats.transpose()\n",
        "train_stats.tail()"
      ],
      "execution_count": 83,
      "outputs": [
        {
          "output_type": "execute_result",
          "data": {
            "text/html": [
              "<div>\n",
              "<style scoped>\n",
              "    .dataframe tbody tr th:only-of-type {\n",
              "        vertical-align: middle;\n",
              "    }\n",
              "\n",
              "    .dataframe tbody tr th {\n",
              "        vertical-align: top;\n",
              "    }\n",
              "\n",
              "    .dataframe thead th {\n",
              "        text-align: right;\n",
              "    }\n",
              "</style>\n",
              "<table border=\"1\" class=\"dataframe\">\n",
              "  <thead>\n",
              "    <tr style=\"text-align: right;\">\n",
              "      <th></th>\n",
              "      <th>count</th>\n",
              "      <th>mean</th>\n",
              "      <th>std</th>\n",
              "      <th>min</th>\n",
              "      <th>25%</th>\n",
              "      <th>50%</th>\n",
              "      <th>75%</th>\n",
              "      <th>max</th>\n",
              "    </tr>\n",
              "  </thead>\n",
              "  <tbody>\n",
              "    <tr>\n",
              "      <th>rho</th>\n",
              "      <td>80000.0</td>\n",
              "      <td>0.776519</td>\n",
              "      <td>0.100393</td>\n",
              "      <td>0.527871</td>\n",
              "      <td>0.699048</td>\n",
              "      <td>0.779172</td>\n",
              "      <td>0.853276</td>\n",
              "      <td>1.011486</td>\n",
              "    </tr>\n",
              "    <tr>\n",
              "      <th>rho</th>\n",
              "      <td>80000.0</td>\n",
              "      <td>0.775367</td>\n",
              "      <td>0.100294</td>\n",
              "      <td>0.525096</td>\n",
              "      <td>0.697954</td>\n",
              "      <td>0.777808</td>\n",
              "      <td>0.851926</td>\n",
              "      <td>1.010754</td>\n",
              "    </tr>\n",
              "    <tr>\n",
              "      <th>rho</th>\n",
              "      <td>80000.0</td>\n",
              "      <td>0.774580</td>\n",
              "      <td>0.100227</td>\n",
              "      <td>0.523966</td>\n",
              "      <td>0.697250</td>\n",
              "      <td>0.776855</td>\n",
              "      <td>0.851039</td>\n",
              "      <td>1.010141</td>\n",
              "    </tr>\n",
              "    <tr>\n",
              "      <th>vol</th>\n",
              "      <td>80000.0</td>\n",
              "      <td>3.001360</td>\n",
              "      <td>1.155929</td>\n",
              "      <td>1.000043</td>\n",
              "      <td>1.996482</td>\n",
              "      <td>3.002544</td>\n",
              "      <td>4.005375</td>\n",
              "      <td>4.999980</td>\n",
              "    </tr>\n",
              "    <tr>\n",
              "      <th>Ps</th>\n",
              "      <td>80000.0</td>\n",
              "      <td>2048.801022</td>\n",
              "      <td>433.795149</td>\n",
              "      <td>1300.054705</td>\n",
              "      <td>1672.582764</td>\n",
              "      <td>2050.069805</td>\n",
              "      <td>2424.921830</td>\n",
              "      <td>2799.965503</td>\n",
              "    </tr>\n",
              "  </tbody>\n",
              "</table>\n",
              "</div>"
            ],
            "text/plain": [
              "       count         mean         std  ...          50%          75%          max\n",
              "rho  80000.0     0.776519    0.100393  ...     0.779172     0.853276     1.011486\n",
              "rho  80000.0     0.775367    0.100294  ...     0.777808     0.851926     1.010754\n",
              "rho  80000.0     0.774580    0.100227  ...     0.776855     0.851039     1.010141\n",
              "vol  80000.0     3.001360    1.155929  ...     3.002544     4.005375     4.999980\n",
              "Ps   80000.0  2048.801022  433.795149  ...  2050.069805  2424.921830  2799.965503\n",
              "\n",
              "[5 rows x 8 columns]"
            ]
          },
          "metadata": {
            "tags": []
          },
          "execution_count": 83
        }
      ]
    },
    {
      "cell_type": "markdown",
      "metadata": {
        "id": "Db7Auq1yXUvh"
      },
      "source": [
        "### Split features from labels\n",
        "\n",
        "Separate the target value, or \"label\", from the features. This label is the value that you will train the model to predict."
      ]
    },
    {
      "cell_type": "code",
      "metadata": {
        "id": "t2sluJdCW7jN"
      },
      "source": [
        "train_labels = train_dataset.pop('ST')\n",
        "test_labels = test_dataset.pop('ST')"
      ],
      "execution_count": 84,
      "outputs": []
    },
    {
      "cell_type": "markdown",
      "metadata": {
        "id": "mRklxK5s388r"
      },
      "source": [
        "### Normalize the data\n",
        "\n",
        "Look again at the `train_stats` block above and note how different the ranges of each feature are."
      ]
    },
    {
      "cell_type": "markdown",
      "metadata": {
        "id": "-ywmerQ6dSox"
      },
      "source": [
        "It is good practice to normalize features that use different scales and ranges. Although the model *might* converge without feature normalization, it makes training more difficult, and it makes the resulting model dependent on the choice of units used in the input.\n",
        "\n",
        "Note: Although we intentionally generate these statistics from only the training dataset, these statistics will also be used to normalize the test dataset. We need to do that to project the test dataset into the same distribution that the model has been trained on."
      ]
    },
    {
      "cell_type": "markdown",
      "metadata": {
        "id": "FnxcF5nL7u3r"
      },
      "source": [
        "### Min-Max normalization"
      ]
    },
    {
      "cell_type": "code",
      "metadata": {
        "id": "Yemp8bAu7xo5"
      },
      "source": [
        "def min_max_norm(x):\n",
        "  return (x-train_stats['min'])/(train_stats['max']-train_stats['min'])\n",
        "\n",
        "normed_train_data = min_max_norm(train_dataset)\n",
        "normed_test_data  = min_max_norm(test_dataset)\n"
      ],
      "execution_count": 85,
      "outputs": []
    },
    {
      "cell_type": "markdown",
      "metadata": {
        "id": "jFpeCy1J7yOG"
      },
      "source": [
        "### Standard normalization"
      ]
    },
    {
      "cell_type": "code",
      "metadata": {
        "id": "JlC5ooJrgjQF"
      },
      "source": [
        "def std_norm(x):\n",
        "  return (x - train_stats['mean']) / train_stats['std']\n",
        "normed_train_data = std_norm(train_dataset)\n",
        "normed_test_data  = std_norm(test_dataset)\n"
      ],
      "execution_count": null,
      "outputs": []
    },
    {
      "cell_type": "markdown",
      "metadata": {
        "id": "BuiClDk45eS4"
      },
      "source": [
        "This normalized data is what we will use to train the model.\n",
        "\n",
        "Caution: The statistics used to normalize the inputs here (mean and standard deviation) need to be applied to any other data that is fed to the model, along with the one-hot encoding that we did earlier.  That includes the test set as well as live data when the model is used in production."
      ]
    },
    {
      "cell_type": "markdown",
      "metadata": {
        "id": "SmjdzxKzEu1-"
      },
      "source": [
        "## The model"
      ]
    },
    {
      "cell_type": "markdown",
      "metadata": {
        "id": "6SWtkIjhrZwa"
      },
      "source": [
        "### Build the model\n",
        "\n",
        "Let's build our model. Here, we'll use a `Sequential` model with two densely connected hidden layers, and an output layer that returns a single, continuous value. The model building steps are wrapped in a function, `build_model`, since we'll create a second model, later on."
      ]
    },
    {
      "cell_type": "markdown",
      "metadata": {
        "id": "VULFJK5Vdk2l"
      },
      "source": [
        "###Learning Schedule\n",
        "The code bellow sets a schedules.InverseTimeDecay to hyperbolically decrease the learning rate to 1/2 of the base rate at 1000 epochs, 1/3 at 2000 epochs and so on."
      ]
    },
    {
      "cell_type": "code",
      "metadata": {
        "id": "BVEwu5szdhtt"
      },
      "source": [
        "#Lr_schedule = learning schedule : Most models learn better if you gradually decrase the learning rate.\n",
        "\n",
        "STEPS_PER_EPOCH=len(train_dataset)/500\n",
        "lr_schedule = tf.keras.optimizers.schedules.InverseTimeDecay(\n",
        "  0.001,\n",
        "  decay_steps=STEPS_PER_EPOCH*1000,\n",
        "  decay_rate=1,\n",
        "  staircase=False)\n",
        "\n",
        "def get_optimizer():\n",
        "  return tf.keras.optimizers.Adam()"
      ],
      "execution_count": 86,
      "outputs": []
    },
    {
      "cell_type": "markdown",
      "metadata": {
        "id": "gB91psdOdj_d"
      },
      "source": [
        "Here we can plot the learning rate Vs the number of epocs"
      ]
    },
    {
      "cell_type": "code",
      "metadata": {
        "id": "MfTIU-90dkJC",
        "colab": {
          "base_uri": "https://localhost:8080/",
          "height": 279
        },
        "outputId": "d6cc4219-70b6-4a63-81cf-d58b6d94a380"
      },
      "source": [
        "step = np.linspace(0,100000)\n",
        "lr = lr_schedule(step)\n",
        "plt.figure()\n",
        "plt.plot(step/STEPS_PER_EPOCH, lr)\n",
        "plt.ylim([min(plt.ylim()),max(plt.ylim())])\n",
        "plt.xlabel('Epoch')\n",
        "_ = plt.ylabel('Learning Rate')"
      ],
      "execution_count": null,
      "outputs": [
        {
          "output_type": "display_data",
          "data": {
            "image/png": "[encoded data removed]",
            "text/plain": [
              "<Figure size 432x288 with 1 Axes>"
            ]
          },
          "metadata": {
            "tags": [],
            "needs_background": "light"
          }
        }
      ]
    },
    {
      "cell_type": "code",
      "metadata": {
        "id": "c26juK7ZG8j-"
      },
      "source": [
        "def build_model():\n",
        "  model = keras.Sequential([\n",
        "    #layers.Dense(100, activation=tf.nn.relu, input_shape=[len(train_dataset.keys())]),\n",
        "    layers.Dense(40, activation=tf.nn.softplus, input_shape=[len(train_dataset.keys())]), #kernel_regularizer='l2', \n",
        "    # layers.Dense(50, activation=tf.nn.softplus, kernel_regularizer='l2'),\n",
        "    layers.Dense(20, activation=tf.nn.softplus),\n",
        "    layers.Dense(1)\n",
        "  ])\n",
        "\n",
        "  optimizer = get_optimizer() # tf.keras.optimizers.Adam(learning_rate=0.001) #RMSprop(0.0001)\n",
        "  model.compile(loss='mean_squared_error',\n",
        "                optimizer=optimizer,\n",
        "                metrics=['mean_absolute_error', 'mean_squared_error'])\n",
        "  return model"
      ],
      "execution_count": 220,
      "outputs": []
    },
    {
      "cell_type": "code",
      "metadata": {
        "id": "cGbPb-PHGbhs"
      },
      "source": [
        "model = build_model()"
      ],
      "execution_count": 247,
      "outputs": []
    },
    {
      "cell_type": "markdown",
      "metadata": {
        "id": "AUx4uYxk0GEJ"
      },
      "source": [
        "## If there is a model saved on google drive execute the next block"
      ]
    },
    {
      "cell_type": "code",
      "metadata": {
        "id": "68AWXTSRObgp"
      },
      "source": [
        "from google.colab import drive\n",
        "drive.mount('/content/drive')"
      ],
      "execution_count": null,
      "outputs": []
    },
    {
      "cell_type": "code",
      "metadata": {
        "id": "y3Ir9yi8z0VA"
      },
      "source": [
        "from tensorflow.keras.models import load_model\n",
        "\n",
        "# del model \n",
        "\n",
        "folder=str('theoretical_all_vary/')\n",
        "\n",
        "model_name=str('CNN_model_all_vary_with_Ps_noise_Ps_1200_2300_2_5μL_25_72mN_m_no_noise_only_contours_1.h5')\n",
        "\n",
        "model = load_model(str(\"/content/drive/My Drive/DropLev/MachineLearningModels/\"+folder+model_name))\n"
      ],
      "execution_count": null,
      "outputs": []
    },
    {
      "cell_type": "markdown",
      "metadata": {
        "id": "Sj49Og4YGULr"
      },
      "source": [
        "### Inspect the model\n",
        "\n",
        "Use the `.summary` method to print a simple description of the model"
      ]
    },
    {
      "cell_type": "code",
      "metadata": {
        "id": "ReAD0n6MsFK-",
        "colab": {
          "base_uri": "https://localhost:8080/"
        },
        "outputId": "2100383d-1c30-4255-c146-6ad353c3341c"
      },
      "source": [
        "model.summary()"
      ],
      "execution_count": 248,
      "outputs": [
        {
          "output_type": "stream",
          "text": [
            "Model: \"sequential_18\"\n",
            "_________________________________________________________________\n",
            "Layer (type)                 Output Shape              Param #   \n",
            "=================================================================\n",
            "dense_54 (Dense)             (None, 40)                14120     \n",
            "_________________________________________________________________\n",
            "dense_55 (Dense)             (None, 20)                820       \n",
            "_________________________________________________________________\n",
            "dense_56 (Dense)             (None, 1)                 21        \n",
            "=================================================================\n",
            "Total params: 14,961\n",
            "Trainable params: 14,961\n",
            "Non-trainable params: 0\n",
            "_________________________________________________________________\n"
          ],
          "name": "stdout"
        }
      ]
    },
    {
      "cell_type": "code",
      "metadata": {
        "id": "cSK7djKwUxOw"
      },
      "source": [
        "model.get_config()"
      ],
      "execution_count": null,
      "outputs": []
    },
    {
      "cell_type": "code",
      "metadata": {
        "id": "o7xSRZUma5N3"
      },
      "source": [
        "model.get_weights()"
      ],
      "execution_count": null,
      "outputs": []
    },
    {
      "cell_type": "markdown",
      "metadata": {
        "id": "Vt6W50qGsJAL"
      },
      "source": [
        "\n",
        "Now try out the model. Take a batch of `10` examples from the training data and call `model.predict` on it."
      ]
    },
    {
      "cell_type": "code",
      "metadata": {
        "id": "-d-gBaVtGTSC",
        "outputId": "7467d984-d3f8-472f-a4f6-85fd99bbc4e7",
        "colab": {
          "base_uri": "https://localhost:8080/"
        }
      },
      "source": [
        "example_batch = normed_train_data[:10]\n",
        "example_result = model.predict(example_batch)\n",
        "example_result"
      ],
      "execution_count": 249,
      "outputs": [
        {
          "output_type": "execute_result",
          "data": {
            "text/plain": [
              "array([[2.116008 ],\n",
              "       [2.173276 ],\n",
              "       [2.066339 ],\n",
              "       [1.9948268],\n",
              "       [2.2052119],\n",
              "       [2.1345816],\n",
              "       [2.149648 ],\n",
              "       [2.032464 ],\n",
              "       [2.0791864],\n",
              "       [2.1147304]], dtype=float32)"
            ]
          },
          "metadata": {
            "tags": []
          },
          "execution_count": 249
        }
      ]
    },
    {
      "cell_type": "markdown",
      "metadata": {
        "id": "QlM8KrSOsaYo"
      },
      "source": [
        "It seems to be working, and it produces a result of the expected shape and type."
      ]
    },
    {
      "cell_type": "markdown",
      "metadata": {
        "id": "0-qWCsh6DlyH"
      },
      "source": [
        "### Train the model\n",
        "\n",
        "Train the model for 1000 epochs, and record the training and validation accuracy in the `history` object."
      ]
    },
    {
      "cell_type": "code",
      "metadata": {
        "id": "fdMZuhUgzMZ4",
        "colab": {
          "base_uri": "https://localhost:8080/"
        },
        "outputId": "322e82bd-866f-4c65-f605-4dfb2052c6c2"
      },
      "source": [
        "# Display training progress by printing a single dot for each completed epoch\n",
        "class PrintDot(keras.callbacks.Callback):\n",
        "  def on_epoch_end(self, epoch, logs):\n",
        "    if epoch % 100 == 0: print('')\n",
        "    print('.', end='')\n",
        "\n",
        "EPOCHS = 1000\n",
        "\n",
        "# The patience parameter is the amount of epochs to check for improvement\n",
        "early_stop = keras.callbacks.EarlyStopping(monitor='val_loss', patience=20, min_delta=0)\n",
        "\n",
        "history = model.fit(normed_train_data, train_labels, epochs=EPOCHS,\n",
        "                    validation_split = 0.2, verbose=0, callbacks=[early_stop, PrintDot()])\n"
      ],
      "execution_count": 250,
      "outputs": [
        {
          "output_type": "stream",
          "text": [
            "\n",
            "........................................................................"
          ],
          "name": "stdout"
        }
      ]
    },
    {
      "cell_type": "markdown",
      "metadata": {
        "id": "tQm3pc0FYPQB"
      },
      "source": [
        "Visualize the model's training progress using the stats stored in the `history` object."
      ]
    },
    {
      "cell_type": "code",
      "metadata": {
        "id": "IHtfi4xlXiHy",
        "outputId": "ecf0f1c6-9dab-4181-cdc4-386aa8b9e449",
        "colab": {
          "base_uri": "https://localhost:8080/",
          "height": 204
        }
      },
      "source": [
        "hist = pd.DataFrame(history.history)\n",
        "hist['epoch'] = history.epoch\n",
        "hist.tail() "
      ],
      "execution_count": 251,
      "outputs": [
        {
          "output_type": "execute_result",
          "data": {
            "text/html": [
              "<div>\n",
              "<style scoped>\n",
              "    .dataframe tbody tr th:only-of-type {\n",
              "        vertical-align: middle;\n",
              "    }\n",
              "\n",
              "    .dataframe tbody tr th {\n",
              "        vertical-align: top;\n",
              "    }\n",
              "\n",
              "    .dataframe thead th {\n",
              "        text-align: right;\n",
              "    }\n",
              "</style>\n",
              "<table border=\"1\" class=\"dataframe\">\n",
              "  <thead>\n",
              "    <tr style=\"text-align: right;\">\n",
              "      <th></th>\n",
              "      <th>loss</th>\n",
              "      <th>mean_absolute_error</th>\n",
              "      <th>mean_squared_error</th>\n",
              "      <th>val_loss</th>\n",
              "      <th>val_mean_absolute_error</th>\n",
              "      <th>val_mean_squared_error</th>\n",
              "      <th>epoch</th>\n",
              "    </tr>\n",
              "  </thead>\n",
              "  <tbody>\n",
              "    <tr>\n",
              "      <th>67</th>\n",
              "      <td>0.290898</td>\n",
              "      <td>0.397941</td>\n",
              "      <td>0.290898</td>\n",
              "      <td>0.358258</td>\n",
              "      <td>0.522328</td>\n",
              "      <td>0.358258</td>\n",
              "      <td>67</td>\n",
              "    </tr>\n",
              "    <tr>\n",
              "      <th>68</th>\n",
              "      <td>0.319797</td>\n",
              "      <td>0.404239</td>\n",
              "      <td>0.319797</td>\n",
              "      <td>0.184949</td>\n",
              "      <td>0.330458</td>\n",
              "      <td>0.184949</td>\n",
              "      <td>68</td>\n",
              "    </tr>\n",
              "    <tr>\n",
              "      <th>69</th>\n",
              "      <td>0.329361</td>\n",
              "      <td>0.409490</td>\n",
              "      <td>0.329361</td>\n",
              "      <td>0.224935</td>\n",
              "      <td>0.350389</td>\n",
              "      <td>0.224935</td>\n",
              "      <td>69</td>\n",
              "    </tr>\n",
              "    <tr>\n",
              "      <th>70</th>\n",
              "      <td>0.257763</td>\n",
              "      <td>0.368600</td>\n",
              "      <td>0.257763</td>\n",
              "      <td>0.335085</td>\n",
              "      <td>0.437878</td>\n",
              "      <td>0.335085</td>\n",
              "      <td>70</td>\n",
              "    </tr>\n",
              "    <tr>\n",
              "      <th>71</th>\n",
              "      <td>0.273853</td>\n",
              "      <td>0.377722</td>\n",
              "      <td>0.273853</td>\n",
              "      <td>0.255866</td>\n",
              "      <td>0.386961</td>\n",
              "      <td>0.255866</td>\n",
              "      <td>71</td>\n",
              "    </tr>\n",
              "  </tbody>\n",
              "</table>\n",
              "</div>"
            ],
            "text/plain": [
              "        loss  mean_absolute_error  ...  val_mean_squared_error  epoch\n",
              "67  0.290898             0.397941  ...                0.358258     67\n",
              "68  0.319797             0.404239  ...                0.184949     68\n",
              "69  0.329361             0.409490  ...                0.224935     69\n",
              "70  0.257763             0.368600  ...                0.335085     70\n",
              "71  0.273853             0.377722  ...                0.255866     71\n",
              "\n",
              "[5 rows x 7 columns]"
            ]
          },
          "metadata": {
            "tags": []
          },
          "execution_count": 251
        }
      ]
    },
    {
      "cell_type": "code",
      "metadata": {
        "id": "VPI7VDvrXvJb",
        "colab": {
          "base_uri": "https://localhost:8080/",
          "height": 549
        },
        "outputId": "7d607996-b467-4cde-8ebd-55afe089ce50"
      },
      "source": [
        "def plot_history(history):\n",
        "  hist = pd.DataFrame(history.history)\n",
        "  hist['epoch'] = history.epoch\n",
        "\n",
        "  plt.figure()\n",
        "  plt.xlabel('Epoch')\n",
        "  plt.ylabel('Mean Abs Error [ST]')\n",
        "  plt.plot(hist['epoch'], hist['mean_absolute_error'],\n",
        "           label='Train Error')\n",
        "  plt.plot(hist['epoch'], hist['val_mean_absolute_error'],\n",
        "           label = 'Val Error')\n",
        "  plt.ylim([0,5])\n",
        "  plt.legend()\n",
        "\n",
        "  plt.figure()\n",
        "  plt.xlabel('Epoch')\n",
        "  plt.ylabel('Mean Square Error [$ST^2$]')\n",
        "  plt.plot(hist['epoch'], hist['mean_squared_error'],\n",
        "           label='Train Error')\n",
        "  plt.plot(hist['epoch'], hist['val_mean_squared_error'],\n",
        "           label = 'Val Error')\n",
        "  plt.ylim([0,10])\n",
        "  plt.legend()\n",
        "  plt.show()\n",
        "\n",
        "\n",
        "plot_history(history)"
      ],
      "execution_count": 252,
      "outputs": [
        {
          "output_type": "display_data",
          "data": {
            "image/png": "[encoded data removed]",
            "text/plain": [
              "<Figure size 432x288 with 1 Axes>"
            ]
          },
          "metadata": {
            "tags": [],
            "needs_background": "light"
          }
        },
        {
          "output_type": "display_data",
          "data": {
            "image/png": "[encoded data removed]",
            "text/plain": [
              "<Figure size 432x288 with 1 Axes>"
            ]
          },
          "metadata": {
            "tags": [],
            "needs_background": "light"
          }
        }
      ]
    },
    {
      "cell_type": "markdown",
      "metadata": {
        "id": "3St8-DmrX8P4"
      },
      "source": [
        "The graph shows that on the validation set, the average error is usually around +/- 2 MPG. Is this good? We'll leave that decision up to you.\n",
        "\n",
        "Let's see how well the model generalizes by using the **test** set, which we did not use when training the model.  This tells us how well we can expect the model to predict when we use it in the real world."
      ]
    },
    {
      "cell_type": "code",
      "metadata": {
        "id": "jl_yNr5n1kms",
        "colab": {
          "base_uri": "https://localhost:8080/"
        },
        "outputId": "7eabcbaf-6979-4e70-8094-5ae314ebbe62"
      },
      "source": [
        "loss, mae, mse = model.evaluate(normed_test_data, test_labels, verbose=0)\n",
        "\n",
        "print(\"Testing set Mean Abs Error: {:5.2f} mN/m\".format(mae))"
      ],
      "execution_count": 253,
      "outputs": [
        {
          "output_type": "stream",
          "text": [
            "Testing set Mean Abs Error:  0.38 mN/m\n"
          ],
          "name": "stdout"
        }
      ]
    },
    {
      "cell_type": "markdown",
      "metadata": {
        "id": "ft603OzXuEZC"
      },
      "source": [
        "### Make predictions\n",
        "\n",
        "Finally, predict ST values using data in the testing set:"
      ]
    },
    {
      "cell_type": "code",
      "metadata": {
        "id": "Xe7RXH3N3CWU",
        "colab": {
          "base_uri": "https://localhost:8080/",
          "height": 856
        },
        "outputId": "f79e1c3f-3d5e-4346-e6f0-62b4c0fec4aa"
      },
      "source": [
        "test_predictions = model.predict(normed_test_data).flatten()\n",
        "\n",
        "plt.scatter(test_labels, test_predictions)\n",
        "plt.title('Normalized test data')\n",
        "plt.xlabel('True Values [surface tension - mN/m]')\n",
        "plt.ylabel('Predictions [surface tension - mN/m]')\n",
        "plt.axis('equal')\n",
        "plt.axis('square')\n",
        "plt.xlim([10,80])\n",
        "plt.ylim([10,80])\n",
        "_ = plt.plot([-100, 100], [-100, 100])\n",
        "plt.show()\n",
        "\n",
        "test_predictions2 = model.predict(normed_train_data).flatten()\n",
        "\n",
        "plt.scatter(train_labels, test_predictions2)\n",
        "plt.title('Normalized training data')\n",
        "plt.xlabel('True Values [surface tension - mN/m]')\n",
        "plt.ylabel('Predictions [surface tension - mN/m]')\n",
        "plt.axis('equal')\n",
        "plt.axis('square')\n",
        "plt.xlim([10,80])\n",
        "plt.ylim([10,80])\n",
        "_ = plt.plot([-100, 100], [-100, 100])\n",
        "plt.show()\n",
        "\n",
        "plt.figure()\n",
        "plt.xlabel('Image')\n",
        "plt.ylabel('Surface tension [ mN/m ]')\n",
        "plt.ylim(30, 75)\n",
        "plt.plot(test_predictions[0:2000], label='Predicted test instances')\n",
        "plt.plot(range(len(test_labels)-18000), test_labels[0:2000], '--', label='Real test instances')\n",
        "plt.legend()\n"
      ],
      "execution_count": 254,
      "outputs": [
        {
          "output_type": "display_data",
          "data": {
            "image/png": "[encoded data removed]",
            "text/plain": [
              "<Figure size 432x288 with 1 Axes>"
            ]
          },
          "metadata": {
            "tags": [],
            "needs_background": "light"
          }
        },
        {
          "output_type": "display_data",
          "data": {
            "image/png": "[encoded data removed]",
            "text/plain": [
              "<Figure size 432x288 with 1 Axes>"
            ]
          },
          "metadata": {
            "tags": [],
            "needs_background": "light"
          }
        },
        {
          "output_type": "execute_result",
          "data": {
            "text/plain": [
              "<matplotlib.legend.Legend at 0x7f0237c12f90>"
            ]
          },
          "metadata": {
            "tags": []
          },
          "execution_count": 254
        },
        {
          "output_type": "display_data",
          "data": {
            "image/png": "[encoded data removed]",
            "text/plain": [
              "<Figure size 432x288 with 1 Axes>"
            ]
          },
          "metadata": {
            "tags": [],
            "needs_background": "light"
          }
        }
      ]
    },
    {
      "cell_type": "markdown",
      "metadata": {
        "id": "OrkHGKZcusUo"
      },
      "source": [
        "Seriously?"
      ]
    },
    {
      "cell_type": "code",
      "metadata": {
        "id": "f-OHX4DiXd8x",
        "colab": {
          "base_uri": "https://localhost:8080/",
          "height": 279
        },
        "outputId": "00bf9d41-4351-4878-80cb-82304327ad1e"
      },
      "source": [
        "error = test_predictions - test_labels\n",
        "plt.hist(error, bins = 50)\n",
        "plt.xlabel(\"Prediction Error [mN/m]\")\n",
        "_ = plt.ylabel(\"Count\")\n",
        "# plt.xlim(-4, 6)\n",
        "plt.show()"
      ],
      "execution_count": 255,
      "outputs": [
        {
          "output_type": "display_data",
          "data": {
            "image/png": "[encoded data removed]",
            "text/plain": [
              "<Figure size 432x288 with 1 Axes>"
            ]
          },
          "metadata": {
            "tags": [],
            "needs_background": "light"
          }
        }
      ]
    },
    {
      "cell_type": "markdown",
      "metadata": {
        "id": "izbMDBoshgNz"
      },
      "source": [
        "# Saving the final Model"
      ]
    },
    {
      "cell_type": "markdown",
      "metadata": {
        "id": "caflPo2mhgN8"
      },
      "source": [
        "When you are satisfied with the model and the accuracy continue from here:"
      ]
    },
    {
      "cell_type": "markdown",
      "metadata": {
        "id": "iquUCcQhhgN9"
      },
      "source": [
        "Run the next code box only if google drive is not mounted to colab"
      ]
    },
    {
      "cell_type": "code",
      "metadata": {
        "colab": {
          "base_uri": "https://localhost:8080/"
        },
        "id": "sjhZO2GshgN9",
        "outputId": "87166b48-8a9a-46db-dae1-41c76ead1781"
      },
      "source": [
        "from google.colab import drive\n",
        "drive.mount('/content/drive')"
      ],
      "execution_count": null,
      "outputs": [
        {
          "output_type": "stream",
          "text": [
            "Mounted at /content/drive\n"
          ],
          "name": "stdout"
        }
      ]
    },
    {
      "cell_type": "markdown",
      "metadata": {
        "id": "0ybZbCZGhgN_"
      },
      "source": [
        "Saving the model in a **SavedModel** format"
      ]
    },
    {
      "cell_type": "code",
      "metadata": {
        "id": "uRUuQvLahgOA"
      },
      "source": [
        "!pip install -q pyyaml h5py  # Required to save models in HDF5 format"
      ],
      "execution_count": null,
      "outputs": []
    },
    {
      "cell_type": "code",
      "metadata": {
        "id": "roMH1XhthgOA"
      },
      "source": [
        "import os"
      ],
      "execution_count": null,
      "outputs": []
    },
    {
      "cell_type": "code",
      "metadata": {
        "id": "llchoImChgOB"
      },
      "source": [
        "# Save the entire model as a SavedModel.\n",
        "folder=str('theoretical_all_vary/')\n",
        "filename=str('model_all_vary_Ps_1300_2800_1_5μL_35_70mNm_MSE_0_18_great_error_distr.h5')\n",
        "#!mkdir -p '/content/drive/My Drive/DropLev/MachineLearningModels' #Ceates a folder named \"MachineLearningModels\"\n",
        "model.save('/content/drive/My Drive/DropLev/MachineLearningModels/'+folder+filename)  #Saves the file"
      ],
      "execution_count": 199,
      "outputs": []
    },
    {
      "cell_type": "markdown",
      "metadata": {
        "id": "9fyk10HWGv-w"
      },
      "source": [
        "### Try out a different model"
      ]
    },
    {
      "cell_type": "code",
      "metadata": {
        "id": "J6EaoxCXGmlQ"
      },
      "source": [
        "def build_model():\n",
        "  model = keras.Sequential([\n",
        "    layers.Dense(200, activation=tf.nn.softplus, input_shape=[len(train_dataset.keys())]),\n",
        "    layers.Dense(100, activation=tf.nn.swish), # input_shape=[len(train_dataset.keys())]),\n",
        "    layers.Dense(50, activation=tf.nn.softplus),\n",
        "    layers.Dense(5, activation=tf.nn.swish),\n",
        "    layers.Dense(1)\n",
        "  ])\n",
        "\n",
        "  optimizer = get_optimizer() # tf.keras.optimizers.Adam(learning_rate=0.001) #RMSprop(0.0001)\n",
        "  model.compile(loss='mean_squared_error',\n",
        "                optimizer=optimizer,\n",
        "                metrics=['mean_absolute_error', 'mean_squared_error'])\n",
        "  return model"
      ],
      "execution_count": null,
      "outputs": []
    },
    {
      "cell_type": "code",
      "metadata": {
        "id": "8FnUsVd1Gmli"
      },
      "source": [
        "model_big = build_model()"
      ],
      "execution_count": null,
      "outputs": []
    },
    {
      "cell_type": "markdown",
      "metadata": {
        "id": "yLcQNtUhGmll"
      },
      "source": [
        "## If there is a model saved on google drive execute the next block"
      ]
    },
    {
      "cell_type": "code",
      "metadata": {
        "id": "uWsiP4rRGmlm"
      },
      "source": [
        "from tensorflow.keras.models import load_model\n",
        "\n",
        "del model \n",
        "\n",
        "model_name=str('test_training_whole_drop_3μL_best_175points_noise_0.004_vol_6.h5')\n",
        "model = load_model(str(\"/content/drive/My Drive/DropLev/MachineLearningModels/\"+model_name))\n"
      ],
      "execution_count": null,
      "outputs": []
    },
    {
      "cell_type": "markdown",
      "metadata": {
        "id": "my3o3TCOGmlp"
      },
      "source": [
        "### Inspect the model\n",
        "\n",
        "Use the `.summary` method to print a simple description of the model"
      ]
    },
    {
      "cell_type": "code",
      "metadata": {
        "id": "q1U3c9_VGmlp",
        "colab": {
          "base_uri": "https://localhost:8080/"
        },
        "outputId": "25400a35-f98f-4c61-a44f-b71627199c38"
      },
      "source": [
        "model_big.summary()"
      ],
      "execution_count": null,
      "outputs": [
        {
          "output_type": "stream",
          "text": [
            "Model: \"sequential\"\n",
            "_________________________________________________________________\n",
            "Layer (type)                 Output Shape              Param #   \n",
            "=================================================================\n",
            "dense (Dense)                (None, 200)               70200     \n",
            "_________________________________________________________________\n",
            "dense_1 (Dense)              (None, 100)               20100     \n",
            "_________________________________________________________________\n",
            "dense_2 (Dense)              (None, 50)                5050      \n",
            "_________________________________________________________________\n",
            "dense_3 (Dense)              (None, 5)                 255       \n",
            "_________________________________________________________________\n",
            "dense_4 (Dense)              (None, 1)                 6         \n",
            "=================================================================\n",
            "Total params: 95,611\n",
            "Trainable params: 95,611\n",
            "Non-trainable params: 0\n",
            "_________________________________________________________________\n"
          ],
          "name": "stdout"
        }
      ]
    },
    {
      "cell_type": "markdown",
      "metadata": {
        "id": "VIjVtYyyGmls"
      },
      "source": [
        "\n",
        "Now try out the model. Take a batch of `10` examples from the training data and call `model.predict` on it."
      ]
    },
    {
      "cell_type": "code",
      "metadata": {
        "id": "G5_MGnAzGmlt",
        "colab": {
          "base_uri": "https://localhost:8080/"
        },
        "outputId": "56f55137-ab18-459d-94c5-54683e5b7950"
      },
      "source": [
        "example_batch = normed_train_data[:10]\n",
        "example_result = model_big.predict(example_batch)\n",
        "example_result"
      ],
      "execution_count": null,
      "outputs": [
        {
          "output_type": "execute_result",
          "data": {
            "text/plain": [
              "array([[0.4646791 ],\n",
              "       [0.46449545],\n",
              "       [0.44632238],\n",
              "       [0.4460677 ],\n",
              "       [0.4428678 ],\n",
              "       [0.46233898],\n",
              "       [0.44848484],\n",
              "       [0.48535466],\n",
              "       [0.44410846],\n",
              "       [0.50217676]], dtype=float32)"
            ]
          },
          "metadata": {
            "tags": []
          },
          "execution_count": 15
        }
      ]
    },
    {
      "cell_type": "markdown",
      "metadata": {
        "id": "HvdF7VgzGmlw"
      },
      "source": [
        "It seems to be working, and it produces a result of the expected shape and type."
      ]
    },
    {
      "cell_type": "markdown",
      "metadata": {
        "id": "MP5Bz5BzGmlx"
      },
      "source": [
        "### Train the model\n",
        "\n",
        "Train the model for 1000 epochs, and record the training and validation accuracy in the `history` object."
      ]
    },
    {
      "cell_type": "code",
      "metadata": {
        "id": "8iG9JR5NGmlx",
        "colab": {
          "base_uri": "https://localhost:8080/"
        },
        "outputId": "8fe8bea0-3709-4e56-8dc9-56cb2a453c15"
      },
      "source": [
        "# Display training progress by printing a single dot for each completed epoch\n",
        "class PrintDot(keras.callbacks.Callback):\n",
        "  def on_epoch_end(self, epoch, logs):\n",
        "    if epoch % 100 == 0: print('')\n",
        "    print('.', end='')\n",
        "\n",
        "EPOCHS = 1000\n",
        "\n",
        "# The patience parameter is the amount of epochs to check for improvement\n",
        "early_stop = keras.callbacks.EarlyStopping(monitor='val_loss', patience=75, min_delta=0)\n",
        "\n",
        "history_big = model_big.fit(normed_train_data, train_labels, epochs=EPOCHS,\n",
        "                    validation_split = 0.2, verbose=0, callbacks=[early_stop, PrintDot()])\n"
      ],
      "execution_count": null,
      "outputs": [
        {
          "output_type": "stream",
          "text": [
            "\n",
            "....................................................................................................\n",
            "............................."
          ],
          "name": "stdout"
        }
      ]
    },
    {
      "cell_type": "markdown",
      "metadata": {
        "id": "0Kwk9eLaGmlz"
      },
      "source": [
        "Visualize the model's training progress using the stats stored in the `history` object."
      ]
    },
    {
      "cell_type": "code",
      "metadata": {
        "id": "UPNtAEKZGmlz",
        "colab": {
          "base_uri": "https://localhost:8080/",
          "height": 204
        },
        "outputId": "bd4b7450-1261-4316-f3f9-334e8ad11a7c"
      },
      "source": [
        "hist_big = pd.DataFrame(history_big.history)\n",
        "hist_big['epoch'] = history_big.epoch\n",
        "hist_big.tail() "
      ],
      "execution_count": null,
      "outputs": [
        {
          "output_type": "execute_result",
          "data": {
            "text/html": [
              "<div>\n",
              "<style scoped>\n",
              "    .dataframe tbody tr th:only-of-type {\n",
              "        vertical-align: middle;\n",
              "    }\n",
              "\n",
              "    .dataframe tbody tr th {\n",
              "        vertical-align: top;\n",
              "    }\n",
              "\n",
              "    .dataframe thead th {\n",
              "        text-align: right;\n",
              "    }\n",
              "</style>\n",
              "<table border=\"1\" class=\"dataframe\">\n",
              "  <thead>\n",
              "    <tr style=\"text-align: right;\">\n",
              "      <th></th>\n",
              "      <th>loss</th>\n",
              "      <th>mean_absolute_error</th>\n",
              "      <th>mean_squared_error</th>\n",
              "      <th>val_loss</th>\n",
              "      <th>val_mean_absolute_error</th>\n",
              "      <th>val_mean_squared_error</th>\n",
              "      <th>epoch</th>\n",
              "    </tr>\n",
              "  </thead>\n",
              "  <tbody>\n",
              "    <tr>\n",
              "      <th>124</th>\n",
              "      <td>109.842056</td>\n",
              "      <td>8.555373</td>\n",
              "      <td>109.842056</td>\n",
              "      <td>110.820740</td>\n",
              "      <td>8.603889</td>\n",
              "      <td>110.820740</td>\n",
              "      <td>124</td>\n",
              "    </tr>\n",
              "    <tr>\n",
              "      <th>125</th>\n",
              "      <td>109.929482</td>\n",
              "      <td>8.557758</td>\n",
              "      <td>109.929482</td>\n",
              "      <td>111.271721</td>\n",
              "      <td>8.649287</td>\n",
              "      <td>111.271721</td>\n",
              "      <td>125</td>\n",
              "    </tr>\n",
              "    <tr>\n",
              "      <th>126</th>\n",
              "      <td>109.859123</td>\n",
              "      <td>8.554682</td>\n",
              "      <td>109.859123</td>\n",
              "      <td>111.351135</td>\n",
              "      <td>8.592625</td>\n",
              "      <td>111.351135</td>\n",
              "      <td>126</td>\n",
              "    </tr>\n",
              "    <tr>\n",
              "      <th>127</th>\n",
              "      <td>109.711716</td>\n",
              "      <td>8.549767</td>\n",
              "      <td>109.711716</td>\n",
              "      <td>111.419083</td>\n",
              "      <td>8.663173</td>\n",
              "      <td>111.419083</td>\n",
              "      <td>127</td>\n",
              "    </tr>\n",
              "    <tr>\n",
              "      <th>128</th>\n",
              "      <td>109.710609</td>\n",
              "      <td>8.545816</td>\n",
              "      <td>109.710609</td>\n",
              "      <td>111.692207</td>\n",
              "      <td>8.661056</td>\n",
              "      <td>111.692207</td>\n",
              "      <td>128</td>\n",
              "    </tr>\n",
              "  </tbody>\n",
              "</table>\n",
              "</div>"
            ],
            "text/plain": [
              "           loss  mean_absolute_error  ...  val_mean_squared_error  epoch\n",
              "124  109.842056             8.555373  ...              110.820740    124\n",
              "125  109.929482             8.557758  ...              111.271721    125\n",
              "126  109.859123             8.554682  ...              111.351135    126\n",
              "127  109.711716             8.549767  ...              111.419083    127\n",
              "128  109.710609             8.545816  ...              111.692207    128\n",
              "\n",
              "[5 rows x 7 columns]"
            ]
          },
          "metadata": {
            "tags": []
          },
          "execution_count": 17
        }
      ]
    },
    {
      "cell_type": "code",
      "metadata": {
        "id": "FXoBIFTgGml1",
        "colab": {
          "base_uri": "https://localhost:8080/",
          "height": 549
        },
        "outputId": "d3d24c24-7d35-478c-8d00-330fad9bdadf"
      },
      "source": [
        "def plot_history(history):\n",
        "  hist = pd.DataFrame(history.history)\n",
        "  hist['epoch'] = history.epoch\n",
        "\n",
        "  plt.figure()\n",
        "  plt.xlabel('Epoch')\n",
        "  plt.ylabel('Mean Abs Error [ST]')\n",
        "  plt.plot(hist['epoch'], hist['mean_absolute_error'],\n",
        "           label='Train Error')\n",
        "  plt.plot(hist['epoch'], hist['val_mean_absolute_error'],\n",
        "           label = 'Val Error')\n",
        "  plt.ylim([0,2])\n",
        "  plt.legend()\n",
        "\n",
        "  plt.figure()\n",
        "  plt.xlabel('Epoch')\n",
        "  plt.ylabel('Mean Square Error [$ST^2$]')\n",
        "  plt.plot(hist['epoch'], hist['mean_squared_error'],\n",
        "           label='Train Error')\n",
        "  plt.plot(hist['epoch'], hist['val_mean_squared_error'],\n",
        "           label = 'Val Error')\n",
        "  plt.ylim([0,5])\n",
        "  plt.legend()\n",
        "  plt.show()\n",
        "\n",
        "\n",
        "plot_history(history_big)"
      ],
      "execution_count": null,
      "outputs": [
        {
          "output_type": "display_data",
          "data": {
            "image/png": "[encoded data removed]",
            "text/plain": [
              "<Figure size 432x288 with 1 Axes>"
            ]
          },
          "metadata": {
            "tags": [],
            "needs_background": "light"
          }
        },
        {
          "output_type": "display_data",
          "data": {
            "image/png": "[encoded data removed]",
            "text/plain": [
              "<Figure size 432x288 with 1 Axes>"
            ]
          },
          "metadata": {
            "tags": [],
            "needs_background": "light"
          }
        }
      ]
    },
    {
      "cell_type": "markdown",
      "metadata": {
        "id": "tMUM2ZMoGml3"
      },
      "source": [
        "The graph shows that on the validation set, the average error is usually around +/- 2 MPG. Is this good? We'll leave that decision up to you.\n",
        "\n",
        "Let's see how well the model generalizes by using the **test** set, which we did not use when training the model.  This tells us how well we can expect the model to predict when we use it in the real world."
      ]
    },
    {
      "cell_type": "code",
      "metadata": {
        "id": "fXVH-grGGml3",
        "colab": {
          "base_uri": "https://localhost:8080/"
        },
        "outputId": "48cb8d65-563e-4aa2-c412-9888a9588a0a"
      },
      "source": [
        "loss, mae, mse = model_big.evaluate(normed_test_data, test_labels, verbose=0)\n",
        "\n",
        "print(\"Testing set Mean Abs Error: {:5.2f} mN/m\".format(mae))"
      ],
      "execution_count": null,
      "outputs": [
        {
          "output_type": "stream",
          "text": [
            "Testing set Mean Abs Error:  8.67 mN/m\n"
          ],
          "name": "stdout"
        }
      ]
    },
    {
      "cell_type": "markdown",
      "metadata": {
        "id": "4ifGv8-hGml5"
      },
      "source": [
        "### Make predictions\n",
        "\n",
        "Finally, predict ST values using data in the testing set:"
      ]
    },
    {
      "cell_type": "code",
      "metadata": {
        "id": "Wi0BcB87Gml5",
        "colab": {
          "base_uri": "https://localhost:8080/",
          "height": 573
        },
        "outputId": "c8f0ed85-3156-49cb-e038-bc3f1cc926ec"
      },
      "source": [
        "test_predictions_big = model_big.predict(normed_test_data).flatten()\n",
        "\n",
        "plt.scatter(test_labels, test_predictions_big)\n",
        "plt.title('Normalized test data')\n",
        "plt.xlabel('True Values [surface tension - mN/m]')\n",
        "plt.ylabel('Predictions [surface tension - mN/m]')\n",
        "plt.axis('equal')\n",
        "plt.axis('square')\n",
        "plt.xlim([10,75])\n",
        "plt.ylim([10,75])\n",
        "_ = plt.plot([-100, 100], [-100, 100])\n",
        "plt.show()\n",
        "\n",
        "test_predictions2_big = model_big.predict(normed_train_data).flatten()\n",
        "\n",
        "plt.scatter(train_labels, test_predictions2_big)\n",
        "plt.title('Normalized training data')\n",
        "plt.xlabel('True Values [surface tension - mN/m]')\n",
        "plt.ylabel('Predictions [surface tension - mN/m]')\n",
        "plt.axis('equal')\n",
        "plt.axis('square')\n",
        "plt.xlim([10,75])\n",
        "plt.ylim([10,75])\n",
        "_ = plt.plot([-100, 100], [-100, 100])\n",
        "plt.show()\n"
      ],
      "execution_count": null,
      "outputs": [
        {
          "output_type": "display_data",
          "data": {
            "image/png": "[encoded data removed]",
            "text/plain": [
              "<Figure size 432x288 with 1 Axes>"
            ]
          },
          "metadata": {
            "tags": [],
            "needs_background": "light"
          }
        },
        {
          "output_type": "display_data",
          "data": {
            "image/png": "[encoded data removed]",
            "text/plain": [
              "<Figure size 432x288 with 1 Axes>"
            ]
          },
          "metadata": {
            "tags": [],
            "needs_background": "light"
          }
        }
      ]
    },
    {
      "cell_type": "markdown",
      "metadata": {
        "id": "30DW9Dt9Gml8"
      },
      "source": [
        "Seriously?"
      ]
    },
    {
      "cell_type": "code",
      "metadata": {
        "id": "1zNzaL86Gml8",
        "colab": {
          "base_uri": "https://localhost:8080/",
          "height": 279
        },
        "outputId": "1ff0c5c2-52fd-43eb-b5e9-7e529b7e9d83"
      },
      "source": [
        "error_big = test_predictions_big - test_labels\n",
        "plt.hist(error_big, bins = 50)\n",
        "plt.xlabel(\"Prediction Error [mN/m]\")\n",
        "_ = plt.ylabel(\"Count\")\n",
        "#plt.ylim(0, 5)\n",
        "plt.show()"
      ],
      "execution_count": null,
      "outputs": [
        {
          "output_type": "display_data",
          "data": {
            "image/png": "[encoded data removed]",
            "text/plain": [
              "<Figure size 432x288 with 1 Axes>"
            ]
          },
          "metadata": {
            "tags": [],
            "needs_background": "light"
          }
        }
      ]
    },
    {
      "cell_type": "markdown",
      "metadata": {
        "id": "ZoPD_D4PLBwx"
      },
      "source": [
        "### Trying model No 3\n"
      ]
    },
    {
      "cell_type": "code",
      "metadata": {
        "id": "sZRUD8cgLHUk"
      },
      "source": [
        "# def build_model():\n",
        "#   model = keras.Sequential([\n",
        "#     #layers.Dense(100, activation=tf.nn.relu, input_shape=[len(train_dataset.keys())]),\n",
        "#     layers.Conv3D(64, kernel_size=(5,5, 5), strides=(1, 1, 1), activation=tf.nn.swish, input_shape=[len(train_dataset.keys())]),\n",
        "#     layers.MaxPooling3D(pool_size=(2, 2, 2), strides=(1, 1, 1)),\n",
        "#     layers.Conv3D(32, kernel_size=(5, 5, 5), strides=(1, 1, 1), activation=tf.nn.swish),\n",
        "#     layers.MaxPooling3D(pool_size=(2, 2, 2), strides=(1, 1, 1)),\n",
        "#     layers.Flatten(),\n",
        "#     layers.Dense(14, activation=tf.nn.swish),\n",
        "#     layers.Dense(5, activation=tf.nn.swish),\n",
        "#     layers.Dense(1)\n",
        "#   ])\n",
        "\n",
        "#   optimizer = get_optimizer() # tf.keras.optimizers.Adam(learning_rate=0.001) #RMSprop(0.0001)\n",
        "#   model.compile(loss='mean_squared_error',\n",
        "#                 optimizer=optimizer,\n",
        "#                 metrics=['mean_absolute_error', 'mean_squared_error'])\n",
        "#   return model"
      ],
      "execution_count": null,
      "outputs": []
    },
    {
      "cell_type": "markdown",
      "metadata": {
        "id": "wdKQPWPDuHDw"
      },
      "source": [
        "#### Reshape the data"
      ]
    },
    {
      "cell_type": "code",
      "metadata": {
        "colab": {
          "base_uri": "https://localhost:8080/"
        },
        "id": "eHLreNV8CMN8",
        "outputId": "a7c948ae-c42d-4945-fe9b-c3da9a27d4a7"
      },
      "source": [
        "print(normed_train_data.shape)"
      ],
      "execution_count": null,
      "outputs": [
        {
          "output_type": "stream",
          "text": [
            "(80000, 350)\n"
          ],
          "name": "stdout"
        }
      ]
    },
    {
      "cell_type": "code",
      "metadata": {
        "colab": {
          "base_uri": "https://localhost:8080/"
        },
        "id": "qx5yUvg_CMN9",
        "outputId": "00122211-d80d-461f-cf48-c7bf7b581e5a"
      },
      "source": [
        "sample_size = normed_train_data.shape[0] # number of samples in train set\n",
        "time_steps1  =2 # int(normed_train_data.shape[1]) # number of features in train set\n",
        "time_steps2 =175 #int(normed_train_data.shape[1]/25)\n",
        "input_dimension = 1               # each feature is represented by 1 number\n",
        "\n",
        "train_data_reshaped = normed_train_data.values.reshape(sample_size, time_steps1, time_steps2, input_dimension)\n",
        "\n",
        "input_shape=train_data_reshaped.shape\n",
        "print(input_shape)"
      ],
      "execution_count": null,
      "outputs": [
        {
          "output_type": "stream",
          "text": [
            "(80000, 2, 175, 1)\n"
          ],
          "name": "stdout"
        }
      ]
    },
    {
      "cell_type": "markdown",
      "metadata": {
        "id": "J0PpeGyXCMN9"
      },
      "source": [
        "#### Reshape test data"
      ]
    },
    {
      "cell_type": "code",
      "metadata": {
        "id": "Ihef5vFxCMN9"
      },
      "source": [
        "test_data_reshaped = normed_test_data.values.reshape(normed_test_data.shape[0], 2, 175, 1) #int(normed_test_data.shape[1]/25)"
      ],
      "execution_count": null,
      "outputs": []
    },
    {
      "cell_type": "code",
      "metadata": {
        "id": "Gp7vRHKYCMN9"
      },
      "source": [
        "def build_model():\n",
        "  \n",
        "  n_timesteps = train_data_reshaped.shape[1] #Number of features\n",
        "  n_features  = train_data_reshaped.shape[2] #Number of output(s)\n",
        "  dimension=1\n",
        "  model = keras.Sequential([\n",
        "    # layers.Input(shape=),\n",
        "    layers.Conv2D(filters=50, kernel_size=(1, 1), activation=\"relu\", input_shape=(n_timesteps,n_features, dimension)),\n",
        "    layers.MaxPooling2D(pool_size=(1, 1)),\n",
        "    layers.BatchNormalization(),\n",
        "    layers.Conv2D(filters=25, kernel_size=(1, 1), activation=\"relu\"),\n",
        "    layers.MaxPooling2D(pool_size=(1, 1)),\n",
        "    layers.BatchNormalization(),\n",
        "    # layers.GlobalAveragePooling3D(),\n",
        "    layers.Flatten(),\n",
        "    # layers.Dense(100, activation=tf.nn.softplus),\n",
        "    # layers.Dense(50, activation=tf.nn.swish),\n",
        "    layers.Dense(10, activation=tf.nn.softplus),\n",
        "    layers.Dense(1)\n",
        "  ])\n",
        "\n",
        " # optimizer = tf.keras.optimizers.RMSprop(0.0001)\n",
        "\n",
        "  model.compile(loss='mean_squared_error',\n",
        "                optimizer=get_optimizer(),\n",
        "                metrics=['mean_absolute_error', 'mean_squared_error'])\n",
        "  return model"
      ],
      "execution_count": null,
      "outputs": []
    },
    {
      "cell_type": "code",
      "metadata": {
        "id": "PeF3NEK6LHUt"
      },
      "source": [
        "CNN_model = build_model()"
      ],
      "execution_count": null,
      "outputs": []
    },
    {
      "cell_type": "markdown",
      "metadata": {
        "id": "ZntoWrT9MMnb"
      },
      "source": [
        "### Inspect the model\n",
        "\n",
        "Use the `.summary` method to print a simple description of the model"
      ]
    },
    {
      "cell_type": "code",
      "metadata": {
        "id": "XVDN4MumMMne",
        "colab": {
          "base_uri": "https://localhost:8080/"
        },
        "outputId": "19fe4286-ea38-42ba-93ba-9ac2bbf25791"
      },
      "source": [
        "CNN_model.summary()"
      ],
      "execution_count": null,
      "outputs": [
        {
          "output_type": "stream",
          "text": [
            "Model: \"sequential_14\"\n",
            "_________________________________________________________________\n",
            "Layer (type)                 Output Shape              Param #   \n",
            "=================================================================\n",
            "conv2d_26 (Conv2D)           (None, 2, 175, 50)        100       \n",
            "_________________________________________________________________\n",
            "max_pooling2d_26 (MaxPooling (None, 2, 175, 50)        0         \n",
            "_________________________________________________________________\n",
            "batch_normalization_26 (Batc (None, 2, 175, 50)        200       \n",
            "_________________________________________________________________\n",
            "conv2d_27 (Conv2D)           (None, 2, 175, 25)        1275      \n",
            "_________________________________________________________________\n",
            "max_pooling2d_27 (MaxPooling (None, 2, 175, 25)        0         \n",
            "_________________________________________________________________\n",
            "batch_normalization_27 (Batc (None, 2, 175, 25)        100       \n",
            "_________________________________________________________________\n",
            "flatten_13 (Flatten)         (None, 8750)              0         \n",
            "_________________________________________________________________\n",
            "dense_34 (Dense)             (None, 10)                87510     \n",
            "_________________________________________________________________\n",
            "dense_35 (Dense)             (None, 1)                 11        \n",
            "=================================================================\n",
            "Total params: 89,196\n",
            "Trainable params: 89,046\n",
            "Non-trainable params: 150\n",
            "_________________________________________________________________\n"
          ],
          "name": "stdout"
        }
      ]
    },
    {
      "cell_type": "markdown",
      "metadata": {
        "id": "qspbVMZNMMnf"
      },
      "source": [
        "\n",
        "Now try out the model. Take a batch of `10` examples from the training data and call `model.predict` on it."
      ]
    },
    {
      "cell_type": "code",
      "metadata": {
        "id": "lUbyl5J8MMnf",
        "colab": {
          "base_uri": "https://localhost:8080/"
        },
        "outputId": "29b68061-ba43-40c6-fe23-15d9c6886c28"
      },
      "source": [
        "example_batch = train_data_reshaped[:10]\n",
        "example_result = CNN_model.predict(example_batch)\n",
        "example_result"
      ],
      "execution_count": null,
      "outputs": [
        {
          "output_type": "execute_result",
          "data": {
            "text/plain": [
              "array([[28.087883],\n",
              "       [32.96527 ],\n",
              "       [44.103367],\n",
              "       [69.42511 ],\n",
              "       [51.100143],\n",
              "       [45.80421 ],\n",
              "       [56.901924],\n",
              "       [51.55749 ],\n",
              "       [65.29247 ],\n",
              "       [46.492516]], dtype=float32)"
            ]
          },
          "metadata": {
            "tags": []
          },
          "execution_count": 161
        }
      ]
    },
    {
      "cell_type": "markdown",
      "metadata": {
        "id": "twoy1EgBMMnf"
      },
      "source": [
        "It seems to be working, and it produces a result of the expected shape and type."
      ]
    },
    {
      "cell_type": "markdown",
      "metadata": {
        "id": "eE7Qfz0oMMng"
      },
      "source": [
        "### Train the model\n",
        "\n",
        "Train the model for 1000 epochs, and record the training and validation accuracy in the `history` object."
      ]
    },
    {
      "cell_type": "code",
      "metadata": {
        "id": "KcUVLqy1MMng",
        "colab": {
          "base_uri": "https://localhost:8080/"
        },
        "outputId": "649ebb87-c09a-4b74-a244-05ab74ccb207"
      },
      "source": [
        "# Display training progress by printing a single dot for each completed epoch\n",
        "class PrintDot(keras.callbacks.Callback):\n",
        "  def on_epoch_end(self, epoch, logs):\n",
        "    if epoch % 100 == 0: print('')\n",
        "    print('.', end='')\n",
        "\n",
        "EPOCHS = 1000\n",
        "\n",
        "# The patience parameter is the amount of epochs to check for improvement\n",
        "early_stop = keras.callbacks.EarlyStopping(monitor='val_loss',min_delta=0, patience=15, verbose=0, mode='auto')\n",
        "\n",
        "history_CNN = CNN_model.fit(train_data_reshaped, train_labels,\n",
        "  epochs=EPOCHS, validation_split = 0.2, verbose=0,\n",
        "  callbacks=[early_stop, PrintDot()])  # callbacks=callbacks_list\n"
      ],
      "execution_count": null,
      "outputs": [
        {
          "output_type": "stream",
          "text": [
            "\n",
            "............................."
          ],
          "name": "stdout"
        }
      ]
    },
    {
      "cell_type": "markdown",
      "metadata": {
        "id": "In64HnexMMnh"
      },
      "source": [
        "Visualize the model's training progress using the stats stored in the `history` object."
      ]
    },
    {
      "cell_type": "code",
      "metadata": {
        "id": "idExKIXeMMni",
        "colab": {
          "base_uri": "https://localhost:8080/",
          "height": 204
        },
        "outputId": "5f243fc9-80a6-41f4-90b9-c08d12527324"
      },
      "source": [
        "hist_CNN = pd.DataFrame(history_CNN.history)\n",
        "hist_CNN['epoch'] = history_CNN.epoch\n",
        "hist_CNN.tail() "
      ],
      "execution_count": null,
      "outputs": [
        {
          "output_type": "execute_result",
          "data": {
            "text/html": [
              "<div>\n",
              "<style scoped>\n",
              "    .dataframe tbody tr th:only-of-type {\n",
              "        vertical-align: middle;\n",
              "    }\n",
              "\n",
              "    .dataframe tbody tr th {\n",
              "        vertical-align: top;\n",
              "    }\n",
              "\n",
              "    .dataframe thead th {\n",
              "        text-align: right;\n",
              "    }\n",
              "</style>\n",
              "<table border=\"1\" class=\"dataframe\">\n",
              "  <thead>\n",
              "    <tr style=\"text-align: right;\">\n",
              "      <th></th>\n",
              "      <th>loss</th>\n",
              "      <th>mean_absolute_error</th>\n",
              "      <th>mean_squared_error</th>\n",
              "      <th>val_loss</th>\n",
              "      <th>val_mean_absolute_error</th>\n",
              "      <th>val_mean_squared_error</th>\n",
              "      <th>epoch</th>\n",
              "    </tr>\n",
              "  </thead>\n",
              "  <tbody>\n",
              "    <tr>\n",
              "      <th>24</th>\n",
              "      <td>111.828896</td>\n",
              "      <td>8.636181</td>\n",
              "      <td>111.828896</td>\n",
              "      <td>109.931259</td>\n",
              "      <td>8.527595</td>\n",
              "      <td>109.931259</td>\n",
              "      <td>24</td>\n",
              "    </tr>\n",
              "    <tr>\n",
              "      <th>25</th>\n",
              "      <td>111.635277</td>\n",
              "      <td>8.627120</td>\n",
              "      <td>111.635277</td>\n",
              "      <td>113.665749</td>\n",
              "      <td>8.749763</td>\n",
              "      <td>113.665749</td>\n",
              "      <td>25</td>\n",
              "    </tr>\n",
              "    <tr>\n",
              "      <th>26</th>\n",
              "      <td>111.584976</td>\n",
              "      <td>8.627238</td>\n",
              "      <td>111.584976</td>\n",
              "      <td>110.240440</td>\n",
              "      <td>8.568928</td>\n",
              "      <td>110.240440</td>\n",
              "      <td>26</td>\n",
              "    </tr>\n",
              "    <tr>\n",
              "      <th>27</th>\n",
              "      <td>111.479774</td>\n",
              "      <td>8.623121</td>\n",
              "      <td>111.479774</td>\n",
              "      <td>110.773445</td>\n",
              "      <td>8.627024</td>\n",
              "      <td>110.773445</td>\n",
              "      <td>27</td>\n",
              "    </tr>\n",
              "    <tr>\n",
              "      <th>28</th>\n",
              "      <td>111.552353</td>\n",
              "      <td>8.625348</td>\n",
              "      <td>111.552353</td>\n",
              "      <td>109.793175</td>\n",
              "      <td>8.562902</td>\n",
              "      <td>109.793175</td>\n",
              "      <td>28</td>\n",
              "    </tr>\n",
              "  </tbody>\n",
              "</table>\n",
              "</div>"
            ],
            "text/plain": [
              "          loss  mean_absolute_error  ...  val_mean_squared_error  epoch\n",
              "24  111.828896             8.636181  ...              109.931259     24\n",
              "25  111.635277             8.627120  ...              113.665749     25\n",
              "26  111.584976             8.627238  ...              110.240440     26\n",
              "27  111.479774             8.623121  ...              110.773445     27\n",
              "28  111.552353             8.625348  ...              109.793175     28\n",
              "\n",
              "[5 rows x 7 columns]"
            ]
          },
          "metadata": {
            "tags": []
          },
          "execution_count": 163
        }
      ]
    },
    {
      "cell_type": "code",
      "metadata": {
        "id": "AbwAAkxGMMni",
        "colab": {
          "base_uri": "https://localhost:8080/",
          "height": 543
        },
        "outputId": "5129685c-4244-4cdc-e23d-a449fe2b6ca5"
      },
      "source": [
        "def plot_history(history):\n",
        "  hist = pd.DataFrame(history.history)\n",
        "  hist['epoch'] = history.epoch\n",
        "\n",
        "  plt.figure()\n",
        "  plt.xlabel('Epoch')\n",
        "  plt.ylabel('Mean Abs Error [ST]')\n",
        "  plt.plot(hist['epoch'], hist['mean_absolute_error'],\n",
        "           label='Train Error')\n",
        "  plt.plot(hist['epoch'], hist['val_mean_absolute_error'],\n",
        "           label = 'Val Error')\n",
        "  # plt.ylim([0,2])\n",
        "  plt.legend()\n",
        "\n",
        "  plt.figure()\n",
        "  plt.xlabel('Epoch')\n",
        "  plt.ylabel('Mean Square Error [$ST^2$]')\n",
        "  plt.plot(hist['epoch'], hist['mean_squared_error'],\n",
        "           label='Train Error')\n",
        "  plt.plot(hist['epoch'], hist['val_mean_squared_error'],\n",
        "           label = 'Val Error')\n",
        "  # plt.ylim([0,5])\n",
        "  plt.legend()\n",
        "  plt.show()\n",
        "\n",
        "\n",
        "plot_history(history_CNN)"
      ],
      "execution_count": null,
      "outputs": [
        {
          "output_type": "display_data",
          "data": {
            "image/png": "[encoded data removed]",
            "text/plain": [
              "<Figure size 432x288 with 1 Axes>"
            ]
          },
          "metadata": {
            "tags": [],
            "needs_background": "light"
          }
        },
        {
          "output_type": "display_data",
          "data": {
            "image/png": "[encoded data removed]",
            "text/plain": [
              "<Figure size 432x288 with 1 Axes>"
            ]
          },
          "metadata": {
            "tags": [],
            "needs_background": "light"
          }
        }
      ]
    },
    {
      "cell_type": "markdown",
      "metadata": {
        "id": "AlxGpxupMMni"
      },
      "source": [
        "The graph shows that on the validation set, the average error is usually around +/- 2 MPG. Is this good? We'll leave that decision up to you.\n",
        "\n",
        "Let's see how well the model generalizes by using the **test** set, which we did not use when training the model.  This tells us how well we can expect the model to predict when we use it in the real world."
      ]
    },
    {
      "cell_type": "code",
      "metadata": {
        "id": "xdFKCSBqMMni",
        "colab": {
          "base_uri": "https://localhost:8080/"
        },
        "outputId": "20382b2b-df3b-4d70-9fe8-3d2426caeb78"
      },
      "source": [
        "loss, mae, mse = CNN_model.evaluate(test_data_reshaped, test_labels, verbose=0)\n",
        "\n",
        "print(\"Testing set Mean Abs Error: {:5.2f} mN/m\".format(mae))"
      ],
      "execution_count": null,
      "outputs": [
        {
          "output_type": "stream",
          "text": [
            "Testing set Mean Abs Error:  8.74 mN/m\n"
          ],
          "name": "stdout"
        }
      ]
    },
    {
      "cell_type": "markdown",
      "metadata": {
        "id": "_Aumx2-VMMnj"
      },
      "source": [
        "### Make predictions\n",
        "\n",
        "Finally, predict ST values using data in the testing set:"
      ]
    },
    {
      "cell_type": "code",
      "metadata": {
        "id": "Gn-HG3aFMMnj",
        "colab": {
          "base_uri": "https://localhost:8080/",
          "height": 573
        },
        "outputId": "7d7b14bc-ccb5-4f89-dd49-d4c6c1632017"
      },
      "source": [
        "test_predictions_CNN = CNN_model.predict(test_data_reshaped).flatten()\n",
        "\n",
        "plt.scatter(test_labels, test_predictions_CNN)\n",
        "plt.title('Normalized test data')\n",
        "plt.xlabel('True Values [surface tension - mN/m]')\n",
        "plt.ylabel('Predictions [surface tension - mN/m]')\n",
        "plt.axis('equal')\n",
        "plt.axis('square')\n",
        "plt.xlim([10,75])\n",
        "plt.ylim([10,75])\n",
        "_ = plt.plot([-100, 100], [-100, 100])\n",
        "plt.show()\n",
        "\n",
        "test_predictions2_CNN = CNN_model.predict(train_data_reshaped).flatten()\n",
        "\n",
        "plt.scatter(train_labels, test_predictions2_CNN)\n",
        "plt.title('Normalized training data')\n",
        "plt.xlabel('True Values [surface tension - mN/m]')\n",
        "plt.ylabel('Predictions [surface tension - mN/m]')\n",
        "plt.axis('equal')\n",
        "plt.axis('square')\n",
        "plt.xlim([10,75])\n",
        "plt.ylim([10,75])\n",
        "_ = plt.plot([-100, 100], [-100, 100])\n",
        "plt.show()\n"
      ],
      "execution_count": null,
      "outputs": [
        {
          "output_type": "display_data",
          "data": {
            "image/png": "[encoded data removed]",
            "text/plain": [
              "<Figure size 432x288 with 1 Axes>"
            ]
          },
          "metadata": {
            "tags": [],
            "needs_background": "light"
          }
        },
        {
          "output_type": "display_data",
          "data": {
            "image/png": "[encoded data removed]",
            "text/plain": [
              "<Figure size 432x288 with 1 Axes>"
            ]
          },
          "metadata": {
            "tags": [],
            "needs_background": "light"
          }
        }
      ]
    },
    {
      "cell_type": "markdown",
      "metadata": {
        "id": "f0mwvrhIMMnj"
      },
      "source": [
        "Seriously?"
      ]
    },
    {
      "cell_type": "code",
      "metadata": {
        "id": "wwhGkUuyMMnj",
        "colab": {
          "base_uri": "https://localhost:8080/",
          "height": 282
        },
        "outputId": "20b2a343-713a-47b3-cab9-e1b23b199719"
      },
      "source": [
        "error_CNN = test_predictions_CNN - test_labels\n",
        "plt.hist(error_CNN, bins = 50)\n",
        "plt.xlabel(\"Prediction Error [mN/m]\")\n",
        "_ = plt.ylabel(\"Count\")\n",
        "#plt.ylim(0, 5)\n",
        "plt.show()"
      ],
      "execution_count": null,
      "outputs": [
        {
          "output_type": "display_data",
          "data": {
            "image/png": "[encoded data removed]",
            "text/plain": [
              "<Figure size 432x288 with 1 Axes>"
            ]
          },
          "metadata": {
            "tags": [],
            "needs_background": "light"
          }
        }
      ]
    },
    {
      "cell_type": "markdown",
      "metadata": {
        "id": "r-i0Bq5JF0nv"
      },
      "source": [
        "# Saving the final Model"
      ]
    },
    {
      "cell_type": "markdown",
      "metadata": {
        "id": "G8FBhOnbGK65"
      },
      "source": [
        "When you are satisfied with the model and the accuracy continue from here:"
      ]
    },
    {
      "cell_type": "markdown",
      "metadata": {
        "id": "TvCBPgR-gWXl"
      },
      "source": [
        "Run the next code box only if google drive is not mounted to colab"
      ]
    },
    {
      "cell_type": "code",
      "metadata": {
        "id": "7dA-joJRPNiJ",
        "colab": {
          "base_uri": "https://localhost:8080/"
        },
        "outputId": "721e1d46-d412-436c-d02c-77fdd9d8f00b"
      },
      "source": [
        "from google.colab import drive\n",
        "drive.mount('/content/drive')"
      ],
      "execution_count": 76,
      "outputs": [
        {
          "output_type": "stream",
          "text": [
            "Mounted at /content/drive\n"
          ],
          "name": "stdout"
        }
      ]
    },
    {
      "cell_type": "markdown",
      "metadata": {
        "id": "BspL3Z6-GPaa"
      },
      "source": [
        "Saving the model in a **SavedModel** format"
      ]
    },
    {
      "cell_type": "code",
      "metadata": {
        "id": "VwWrwBcZGLnZ"
      },
      "source": [
        "!pip install -q pyyaml h5py  # Required to save models in HDF5 format"
      ],
      "execution_count": 77,
      "outputs": []
    },
    {
      "cell_type": "code",
      "metadata": {
        "id": "6BR7rbL5GXku"
      },
      "source": [
        "import os"
      ],
      "execution_count": 78,
      "outputs": []
    },
    {
      "cell_type": "code",
      "metadata": {
        "id": "MzumSsZfGYCp"
      },
      "source": [
        "# Save the entire model as a SavedModel.\n",
        "folder=str('theoretical_all_vary/')\n",
        "filename=str('CNN_model_all_vary_with_Ps_noise_Ps_1300_2800_2_6μL_30_70mN_m_no_noise_only_contours_1.h5')\n",
        "#!mkdir -p '/content/drive/My Drive/DropLev/MachineLearningModels' #Ceates a folder named \"MachineLearningModels\"\n",
        "CNN_model.save('/content/drive/My Drive/DropLev/MachineLearningModels/'+folder+filename)  #Saves the file"
      ],
      "execution_count": 80,
      "outputs": []
    },
    {
      "cell_type": "markdown",
      "metadata": {
        "id": "oZcqRI0r9B4r"
      },
      "source": [
        "# Reload a fresh Keras model from the saved model:"
      ]
    },
    {
      "cell_type": "markdown",
      "metadata": {
        "id": "W6mEqNn497op"
      },
      "source": [
        "For **SavedModel** format"
      ]
    },
    {
      "cell_type": "code",
      "metadata": {
        "id": "c4vUC4ep8_VA",
        "colab": {
          "base_uri": "https://localhost:8080/",
          "height": 250
        },
        "outputId": "cd46a4fd-af73-4a6e-be19-09cb2a856130"
      },
      "source": [
        "folder=str('theoretical_only_Ps_vary/')\n",
        "filename=str('test_training_Ps_1800_3000_3μL.h5')\n",
        "\n",
        "model = tf.keras.models.load_model('/content/drive/My Drive/DropLev/MachineLearningModels/'+folder+filename)\n",
        "\n",
        "# Check its architecture\n",
        "model.summary()"
      ],
      "execution_count": null,
      "outputs": [
        {
          "output_type": "stream",
          "text": [
            "Model: \"sequential_1\"\n",
            "_________________________________________________________________\n",
            "Layer (type)                 Output Shape              Param #   \n",
            "=================================================================\n",
            "dense_3 (Dense)              (None, 14)                4928      \n",
            "_________________________________________________________________\n",
            "dense_4 (Dense)              (None, 5)                 75        \n",
            "_________________________________________________________________\n",
            "dense_5 (Dense)              (None, 1)                 6         \n",
            "=================================================================\n",
            "Total params: 5,009\n",
            "Trainable params: 5,009\n",
            "Non-trainable params: 0\n",
            "_________________________________________________________________\n"
          ],
          "name": "stdout"
        }
      ]
    },
    {
      "cell_type": "markdown",
      "metadata": {
        "id": "j1K6xGBg9K4A"
      },
      "source": [
        "View the MAE of the saved and re-called model:"
      ]
    },
    {
      "cell_type": "code",
      "metadata": {
        "id": "if5rjrz79NPI"
      },
      "source": [
        "# Evaluation\n",
        "loss, mae, mse = model.evaluate(normed_test_data, test_labels, verbose=0)\n",
        "print('Restored model, Mean absolute error: {:5.2f}'.format(mae))\n"
      ],
      "execution_count": null,
      "outputs": []
    },
    {
      "cell_type": "markdown",
      "metadata": {
        "id": "SfiEXBeBbCcr"
      },
      "source": [
        "### Genarate new data and evaluate the saved model"
      ]
    },
    {
      "cell_type": "code",
      "metadata": {
        "id": "93WuLc7ybJoC",
        "colab": {
          "base_uri": "https://localhost:8080/",
          "height": 1000
        },
        "outputId": "b49bd0f3-c30c-415f-be24-c1efcf22f6f5"
      },
      "source": [
        "def norm_test(x):\n",
        "  return (x - stats_input_df['mean']) / stats_input_df['std']\n",
        "\n",
        "#import model from drive\n",
        "#filename=str('test_training_whole_drop_best.h5')\n",
        "#model = tf.keras.models.load_model('/content/drive/My Drive/DropLev/MachineLearningModels/'+filename)\n",
        "\n",
        "\n",
        "num_sample_test=25\n",
        "sampling=175\n",
        "vol_drop=np.random.random(num_sample_test)*(7-2)+2\n",
        "R_sph=calc_R_sph(vol_drop[i], calibration)\n",
        "Ps=np.random.random(num_sample_test)*(2000-1000)+2000 #Pa\n",
        "theta_test=np.random.rand(num_sample_test, sampling)*np.pi*2\n",
        "theta_test.sort()\n",
        "\n",
        "ST_test=np.random.random(num_sample_test)*(72-25)+25\n",
        "\n",
        "r_all_test=np.empty([0,sampling])\n",
        "\n",
        "for i in range(num_sample_test):\n",
        "  r_test=R_predict(theta_test[i], ST_test[i], R_sph[i], Ps[i], Cg_air, k_o)\n",
        "  r_all_test=np.vstack((r_all_test, r_test))\n",
        "\n",
        "test_dataset=np.hstack((theta_test,r_all_test, ST_test.reshape([num_sample_test,1])))\n",
        "\n",
        "############### Adding noise #############################\n",
        "noise = np.random.random(size=test_dataset.shape)*0.1\n",
        "#print(noise)\n",
        "test_dataset=test_dataset+noise\n",
        "plt.figure()\n",
        "plt.plot(test_dataset[0, 0:sampling], test_dataset[0, sampling:sampling*2])\n",
        "##########################################################\n",
        "\n",
        "input_array=test_dataset[:, 0:sampling*2]\n",
        "input_df=pd.DataFrame(input_array, index=None, dtype=float)\n",
        "\n",
        "stats_input_df=input_df.describe()\n",
        "stats_input_df=stats_input_df.transpose()\n",
        "\n",
        "norm_input_array=norm_test(input_df)\n",
        "prediction=model.predict(norm_input_array).flatten()\n",
        "true_values=test_dataset[:, sampling*2]\n",
        "\n",
        "plt.figure()\n",
        "plt.xlabel('Frame number')\n",
        "plt.ylabel('Surface tension [ mN/m ]')\n",
        "plt.ylim(20, 75)\n",
        "plt.plot(prediction, label='Predicted values')\n",
        "plt.plot(true_values, label='Real values')\n",
        "plt.legend()\n",
        "\n",
        "plt.figure()\n",
        "plt.scatter(true_values, prediction)\n",
        "plt.title('Normalized new test data')\n",
        "plt.xlabel('True Values [surface tension - mN/m]')\n",
        "plt.ylabel('Predictions [surface tension - mN/m]')\n",
        "plt.axis('equal')\n",
        "plt.axis('square')\n",
        "plt.xlim([10,75])\n",
        "plt.ylim([10,75])\n",
        "_ = plt.plot([-100, 100], [-100, 100])\n",
        "plt.show()\n",
        "\n",
        "error = prediction - true_values\n",
        "plt.figure()\n",
        "plt.hist(error, bins = 50)\n",
        "plt.xlabel(\"Prediction Error [mN/m]\")\n",
        "_ = plt.ylabel(\"Count\")\n",
        "plt.show()\n"
      ],
      "execution_count": null,
      "outputs": [
        {
          "output_type": "display_data",
          "data": {
            "image/png": "[encoded data removed]",
            "text/plain": [
              "<Figure size 432x288 with 1 Axes>"
            ]
          },
          "metadata": {
            "tags": [],
            "needs_background": "light"
          }
        },
        {
          "output_type": "display_data",
          "data": {
            "image/png": "[encoded data removed]",
            "text/plain": [
              "<Figure size 432x288 with 1 Axes>"
            ]
          },
          "metadata": {
            "tags": [],
            "needs_background": "light"
          }
        },
        {
          "output_type": "display_data",
          "data": {
            "image/png": "[encoded data removed]",
            "text/plain": [
              "<Figure size 432x288 with 1 Axes>"
            ]
          },
          "metadata": {
            "tags": [],
            "needs_background": "light"
          }
        },
        {
          "output_type": "display_data",
          "data": {
            "image/png": "[encoded data removed]",
            "text/plain": [
              "<Figure size 432x288 with 1 Axes>"
            ]
          },
          "metadata": {
            "tags": [],
            "needs_background": "light"
          }
        }
      ]
    }
  ]
}