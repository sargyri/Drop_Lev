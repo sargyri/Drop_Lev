{
  "nbformat": 4,
  "nbformat_minor": 0,
  "metadata": {
    "colab": {
      "name": "test_training_ST_on_model.ipynb",
      "provenance": [],
      "collapsed_sections": [],
      "toc_visible": true
    },
    "kernelspec": {
      "display_name": "Python 3",
      "language": "python",
      "name": "python3"
    },
    "language_info": {
      "codemirror_mode": {
        "name": "ipython",
        "version": 3
      },
      "file_extension": ".py",
      "mimetype": "text/x-python",
      "name": "python",
      "nbconvert_exporter": "python",
      "pygments_lexer": "ipython3",
      "version": "3.6.9"
    }
  },
  "cells": [
    {
      "cell_type": "code",
      "metadata": {
        "colab_type": "code",
        "id": "IbpYKApN-KAR",
        "scrolled": true,
        "colab": {
          "base_uri": "https://localhost:8080/",
          "height": 403
        },
        "outputId": "db28417a-7ced-44a0-eb7f-2ad28b612753"
      },
      "source": [
        "!pip install lmfit\n",
        "#!pip install seaborn"
      ],
      "execution_count": 1,
      "outputs": [
        {
          "output_type": "stream",
          "text": [
            "Collecting lmfit\n",
            "\u001b[?25l  Downloading https://files.pythonhosted.org/packages/d1/2e/9e4cdcebf93603ce57bc7577707ad56ed1282ae306f611e525612b9cfeea/lmfit-1.0.1.tar.gz (258kB)\n",
            "\u001b[K     |████████████████████████████████| 266kB 4.3MB/s \n",
            "\u001b[?25hCollecting asteval>=0.9.16\n",
            "\u001b[?25l  Downloading https://files.pythonhosted.org/packages/4d/35/140edd280047b77aef487a8840c0f60372ab15210eb8064e5de9b832730c/asteval-0.9.19.tar.gz (207kB)\n",
            "\u001b[K     |████████████████████████████████| 215kB 10.9MB/s \n",
            "\u001b[?25hRequirement already satisfied: numpy>=1.16 in /usr/local/lib/python3.6/dist-packages (from lmfit) (1.18.5)\n",
            "Requirement already satisfied: scipy>=1.2 in /usr/local/lib/python3.6/dist-packages (from lmfit) (1.4.1)\n",
            "Collecting uncertainties>=3.0.1\n",
            "\u001b[?25l  Downloading https://files.pythonhosted.org/packages/b0/e0/fc200da8190729dcb685ae4877ed6936d31d64aeccb8cc355d9ec982681d/uncertainties-3.1.4-py2.py3-none-any.whl (246kB)\n",
            "\u001b[K     |████████████████████████████████| 256kB 13.5MB/s \n",
            "\u001b[?25hRequirement already satisfied: future in /usr/local/lib/python3.6/dist-packages (from uncertainties>=3.0.1->lmfit) (0.16.0)\n",
            "Building wheels for collected packages: lmfit, asteval\n",
            "  Building wheel for lmfit (setup.py) ... \u001b[?25l\u001b[?25hdone\n",
            "  Created wheel for lmfit: filename=lmfit-1.0.1-cp36-none-any.whl size=81991 sha256=976011cdc917e9dd44bbbb56d5435d8b423b24ea4acac5d3079df201a0f21120\n",
            "  Stored in directory: /root/.cache/pip/wheels/ef/22/8d/6cd9c0af36f501cfb248673b05dad5d2c27504951d55519acb\n",
            "  Building wheel for asteval (setup.py) ... \u001b[?25l\u001b[?25hdone\n",
            "  Created wheel for asteval: filename=asteval-0.9.19-cp36-none-any.whl size=17486 sha256=8c529b34480b4badc1649118dc3e8e30645f899815ac08abd26556908db6cbc0\n",
            "  Stored in directory: /root/.cache/pip/wheels/59/da/bf/62853db4291f1c5f91326e32e4d1766b8cfcccd1c0e6eaf53f\n",
            "Successfully built lmfit asteval\n",
            "Installing collected packages: asteval, uncertainties, lmfit\n",
            "Successfully installed asteval-0.9.19 lmfit-1.0.1 uncertainties-3.1.4\n"
          ],
          "name": "stdout"
        }
      ]
    },
    {
      "cell_type": "code",
      "metadata": {
        "colab_type": "code",
        "id": "jyE0M3V99EdP",
        "scrolled": true,
        "colab": {
          "base_uri": "https://localhost:8080/",
          "height": 108
        },
        "outputId": "2b774af1-34ac-47fe-c127-f2d504679f55"
      },
      "source": [
        "import numpy as np\n",
        "#import cv2\n",
        "import os\n",
        "import re\n",
        "import glob\n",
        "import matplotlib.pyplot as plt\n",
        "from scipy.signal import  gaussian\n",
        "from scipy.ndimage import filters\n",
        "from scipy import optimize\n",
        "from scipy.stats import linregress\n",
        "from mpl_toolkits.mplot3d import Axes3D\n",
        "\n",
        "import seaborn as sns\n",
        "\n",
        "import scipy as sp\n",
        "import scipy.interpolate\n",
        "from scipy.integrate import trapz\n",
        "\n",
        "import time\n",
        "\n",
        "import pandas as pd\n",
        "\n",
        "from lmfit import Model, fit_report, Parameters\n",
        "\n",
        "#from __future__ import absolute_import, division, print_function, unicode_literals\n",
        "\n",
        "import pathlib\n",
        "\n",
        "import matplotlib.pyplot as plt\n",
        "import pandas as pd\n",
        "import seaborn as sns\n",
        "\n",
        "import tensorflow as tf\n",
        "from tensorflow import keras\n",
        "from tensorflow.keras import layers\n",
        "\n",
        "import io\n",
        "\n",
        "print(tf.__version__)\n",
        "print(\"Num GPUs Available: \", len(tf.config.experimental.list_physical_devices('GPU')))\n",
        "\n",
        "\n",
        "######### initialize the data ###############\n",
        "data_input=[]\n",
        "data_output=[]\n",
        "l_sample=300\n",
        "vol_all=[]\n",
        "vol2_all=[]\n",
        "data_x=[]\n",
        "data_y=[]\n",
        "data_h=[]\n",
        "data_w=[]\n",
        "R_sph_all=[]\n",
        "Ar=[]\n",
        "#st_all=[]\n",
        "rho=[]\n",
        "theta=[]\n",
        "#List of non-processed images:\n",
        "discarded=[]\n",
        "new=[]  #list of images without the discarded ones\n",
        "\n",
        "#For the simple approach fit\n",
        "phi_final=[]\n",
        "theta_az=[]\n",
        "theta_all=[]\n",
        "theta_final=[]\n",
        "r_theta_all=[]\n",
        "xc_all=[]\n",
        "yc_all=[]\n",
        "rho_final=[]\n",
        "data_Ps=[]\n",
        "data_dB=[]\n",
        "data_stderr=[]\n",
        "data_err=[]\n",
        "\n",
        "total_num_pictures = len(glob.glob1('.',\"*.png\"))\n",
        "frame_number=np.arange(total_num_pictures)\n",
        "\n",
        "gamma=64 #[N/m]\n",
        "Cg_air=1/101325 #Pa**(-1)\n",
        "k_o=2*np.pi*40/340  #wave number in the air. frequency 40kHz (25kH=0.000040sec) and speed of sound in air v=340 m/s from paper (331.5 for 20oC online) \n",
        "#Calibration\n",
        "needle_d=0.83 #mm\n",
        "needle_pxl=220 #pixels\n",
        "#calibration=0.00621722846441948**3\n",
        "cal=needle_d/needle_pxl\n",
        "calibration=(cal)**3\n",
        "\n",
        "\n",
        "###############################################################################\n",
        "#### Functions used in the data processing ####################################\n",
        "###############################################################################\n",
        "\n",
        "def calc_volume(x,y):\n",
        "    \"\"\"\n",
        "    Calculate the drop volume from a shape matrix.\n",
        "\n",
        "    Parameters\n",
        "    ----------\n",
        "    x, y - contour of the drop\n",
        "\n",
        "    Returns\n",
        "    -------\n",
        "    Integrated volume using for the given shape matrix.\n",
        "\n",
        "    \"\"\"\n",
        "    # data selection\n",
        "    idx=x<=0  # r=right\n",
        "    x_l=x[idx]\n",
        "    y_l=y[idx]\n",
        "        \n",
        "    vol_left=trapz(np.pi*x_l**2, y_l)/2\n",
        "        \n",
        "    # data selection\n",
        "    idx=x>=0  # r=right\n",
        "    x_r=x[idx]\n",
        "    y_r=y[idx]\n",
        "    vol_right=-trapz(np.pi*x_r**2, y_r)/2\n",
        "   \n",
        "    return vol_left+vol_right\n",
        "\n",
        "\n",
        "def calc_R_sph(vol, cal):\n",
        "    \"\"\"\n",
        "    Calculate the spherical radius of a droplet based on the volume.\n",
        "\n",
        "    Input parameters\n",
        "    ----------\n",
        "    vol:         volume   [pixels**3]\n",
        "    calibration: calibration factor  [mm**3/pixels**3]\n",
        "\n",
        "    Returns\n",
        "    -------\n",
        "    Corresponding spherical radius.  [mm]\n",
        "\n",
        "    \"\"\"\n",
        "#    calibration=0.00621722846441948**3\n",
        "    #R_sph=(3*vol*calibration/(4*np.pi))**(1/3)\n",
        "    R_sph=(3*vol/(4*np.pi))**(1/3)\n",
        "    return R_sph\n",
        "\n",
        "def calc_dB(Ps):\n",
        "    \"\"\"\n",
        "    Calculate the deci Bell (dB) value for each acoustic pressure Ps.\n",
        "\n",
        "    Input parameters\n",
        "    ----------\n",
        "    Ps:     aplitude of the acoustic pressure\n",
        "\n",
        "    Returns\n",
        "    -------\n",
        "    dB value. []\n",
        "\n",
        "    \"\"\"\n",
        "    Po=2*10**(-5) #[Pa]\n",
        "\n",
        "    return 20*np.log10(Ps/Po)     #Acoustic pressure [Pa]\n",
        "\n",
        "def model_fit(th, Ps):\n",
        "    \"\"\"\n",
        "    Express the model that will be used to fit the experimental data (simple approach).\n",
        "\n",
        "    Input parameters\n",
        "    ----------\n",
        "    dB:     deciBell\n",
        "    th:     angle theta\n",
        "    Returns\n",
        "    -------\n",
        "    Expression of fitting model.\n",
        "\n",
        "    \"\"\"\n",
        "#    Ps=calc_ampl(dB)\n",
        "    ct_new=-((3/(64*gamma))*R_sph**2*Ps**2*Cg_air*(1+((7/5)*(k_o*R_sph)**2)))\n",
        "    return ct_new*(3*(np.cos(th))**2-1)+R_sph\n",
        "\n",
        "\n",
        "def R_predict(th, gamma, R_sph, Ps, Cg_air, k_o):\n",
        "    \"\"\"\n",
        "    Prediction of ST. \n",
        "    After the acoustic pressure is determined. The ST is calculated based on the equation of our model. \n",
        "    \n",
        "    \n",
        "    Input parameters\n",
        "    ----------\n",
        "    th:     angle theta\n",
        "    gamma:  ST as initial predition [mN/m]\n",
        "    Power:  U*I [Watt]\n",
        "    Returns\n",
        "    -------\n",
        "    gamma:   predicted surface tension [mN/m]\n",
        "\n",
        "    \"\"\"    \n",
        "#    Ps=data_Ps[i-1]    #[Pa]\n",
        "    ct_new=-((3/(64*gamma))*R_sph**2*Ps**2*Cg_air*(1+((7/5)*(k_o*R_sph)**2)))*(3*(np.cos(th))**2-1)\n",
        "    return ct_new+R_sph\n",
        "\n",
        "def ST_predict(th, gamma, R_sph, Ps, Cg_air, k_o):\n",
        "    \"\"\"\n",
        "    Prediction of ST. \n",
        "    After the acoustic pressure is determined. The ST is calculated based on the equation of our model. \n",
        "    \n",
        "    \n",
        "    Input parameters\n",
        "    ----------\n",
        "    th:     angle theta\n",
        "    gamma:  ST as initial predition [mN/m]\n",
        "    Power:  U*I [Watt]\n",
        "    Returns\n",
        "    -------\n",
        "    gamma:   predicted surface tension [mN/m]\n",
        "\n",
        "    \"\"\"    \n",
        "#    Ps=data_Ps[i-1]    #[Pa]\n",
        "    ct_new=-((3/(64*gamma))*R_sph**2*Ps**2*Cg_air*(1+((7/5)*(k_o*R_sph)**2)))*(3*(np.cos(th))**2-1)\n",
        "    return ct_new+R_sph\n",
        "\n",
        "\n",
        "def azimuth(phi):\n",
        "    \"\"\"\n",
        "    Calculate the azimuthal angle.\n",
        "\n",
        "    Input parameters\n",
        "    ----------\n",
        "    phi:     angle phi\n",
        "\n",
        "    Returns\n",
        "    -------\n",
        "    Azimuthal angle.\n",
        "\n",
        "    \"\"\"\n",
        "\n",
        "    if phi<=np.pi/2:\n",
        "        a=np.pi/2-phi\n",
        "    else:\n",
        "        a=2.5*np.pi-phi\n",
        "    return a\n",
        "\n",
        "\n",
        "def cart2pol(x, y):\n",
        "    rho = np.sqrt(x**2 + y**2)\n",
        "    theta = np.arctan2(y, x)\n",
        "    return(theta, rho)\n",
        "\n",
        "def pol2cart(rho, phi):\n",
        "    x = rho * np.cos(phi)\n",
        "    y = rho * np.sin(phi)\n",
        "    return(x, y)\n",
        "\n",
        "\n",
        "def pol2cart_theta(rho, theta):\n",
        "    x = rho * np.sin(theta)\n",
        "    y = rho * np.cos(theta)\n",
        "    return(x, y)"
      ],
      "execution_count": 2,
      "outputs": [
        {
          "output_type": "stream",
          "text": [
            "/usr/local/lib/python3.6/dist-packages/statsmodels/tools/_testing.py:19: FutureWarning: pandas.util.testing is deprecated. Use the functions in the public API at pandas.testing instead.\n",
            "  import pandas.util.testing as tm\n"
          ],
          "name": "stderr"
        },
        {
          "output_type": "stream",
          "text": [
            "2.3.0\n",
            "Num GPUs Available:  0\n"
          ],
          "name": "stdout"
        }
      ]
    },
    {
      "cell_type": "markdown",
      "metadata": {
        "colab_type": "text",
        "id": "lsGCO8nDUAlJ"
      },
      "source": [
        "Generate random angle:\n",
        "20 000 sets of 200 points"
      ]
    },
    {
      "cell_type": "code",
      "metadata": {
        "colab_type": "code",
        "id": "k2AMjiCZT_5m",
        "colab": {
          "base_uri": "https://localhost:8080/",
          "height": 1000
        },
        "outputId": "55154148-0b39-4528-cc54-56caa07d4ac1"
      },
      "source": [
        "def gen_data(num_sample,sampling):\n",
        "\n",
        "    np.random.seed(1234)\n",
        "\n",
        "    #test=np.arange(100)\n",
        "    #test_r=np.random.choice(test,10)\n",
        "\n",
        "    vol_drop=5 # in µL\n",
        "    calibration=0.0060567117466506235e-3 #mm/pixel\n",
        "  \n",
        "    #gamma=72.8 #[mN/m]   \n",
        "    Cg_air=1/101325 #Pa**(-1)\n",
        "    k_o=2*np.pi*40/340  #wave number in the air in [mm^-1]. frequency 40kHz (25kH=0.000040sec) and speed of sound in air v=340 m/s from paper (331.5 for 20oC online) \n",
        "    #Calibration\n",
        "    Ps= 1600  #[Pa]\n",
        "    R_sph=calc_R_sph(vol_drop, calibration)\n",
        "\n",
        "    print(\"Radius in mm: \", R_sph)\n",
        "    \n",
        "    #num_sample=200  #ST\n",
        "    #sampling=200\n",
        "\n",
        "    #theta=np.linspace(0,2*np.pi, 100)\n",
        "\n",
        "    #theta=np.random.random(200)*2*np.pi\n",
        "    theta=np.random.rand(num_sample, sampling)*np.pi\n",
        "    theta.sort()\n",
        "    ST_range=np.random.random(num_sample)*(72-25)+25\n",
        "    print(theta.shape)\n",
        "    r_all=np.empty([0,sampling])\n",
        "    print(r_all.shape)\n",
        "\n",
        "    for i in range(num_sample):\n",
        "        r=R_predict(theta[i], ST_range[i], R_sph, Ps, Cg_air, k_o)\n",
        "          #print(r.shape)\n",
        "         #print(r)\n",
        "        r_all=np.vstack((r_all, r))\n",
        "        \n",
        "        if i % 100 == 0:\n",
        "                print(i)\n",
        "        \n",
        "\n",
        "    print(r_all.shape)\n",
        "\n",
        "    dataset=np.hstack((theta,r_all, ST_range.reshape([num_sample,1])))\n",
        "    print(dataset.shape)\n",
        "\n",
        "    #print(ST_range)\n",
        "    print(ST_range.min())\n",
        "    print(ST_range.max())\n",
        "    #sns.set(color_codes=True)\n",
        "    sns.distplot(ST_range);\n",
        "\n",
        "    fig3 = plt.figure()\n",
        "    ax = plt.gca()\n",
        "    ax.set_aspect(1)\n",
        "    ax.set_xlim([-1.5,1.5])\n",
        "    ax.set_ylim([-1.5,1.5])\n",
        "    \n",
        "\n",
        "    for j in dataset:\n",
        "\n",
        "      x,y=pol2cart_theta(j[sampling:sampling+sampling], j[0:sampling])\n",
        "    #  print(x.shape)\n",
        "    #  print(y.shape)\n",
        "\n",
        "      #plt.plot(x*1e3,y*1e3)\n",
        "      plt.plot(x,y)\n",
        "\n",
        "    plt.show()\n",
        "    return dataset\n",
        "\n",
        "num_sample=20000  # number of different ST values\n",
        "sampling=200 # number of coordiante point describing the contour\n",
        "\n",
        "\n",
        "dataset=gen_data(num_sample,sampling)\n",
        "\n",
        "\n",
        "column_names=[]\n",
        "for i in range(sampling):\n",
        "  column_names.append('theta')\n",
        "for i in range(sampling):\n",
        "  column_names.append('rho')\n",
        "\n",
        "column_names.append('ST')\n",
        "\n",
        "\n",
        "raw_dataset = pd.DataFrame(dataset, columns=column_names)\n",
        "\n",
        "raw_dataset.to_csv('./dataset.csv',index=False)\n"
      ],
      "execution_count": 448,
      "outputs": [
        {
          "output_type": "stream",
          "text": [
            "Radius in mm:  1.0607844179470554\n",
            "(20000, 200)\n",
            "(0, 200)\n",
            "0\n",
            "100\n",
            "200\n",
            "300\n",
            "400\n",
            "500\n",
            "600\n",
            "700\n",
            "800\n",
            "900\n",
            "1000\n",
            "1100\n",
            "1200\n",
            "1300\n",
            "1400\n",
            "1500\n",
            "1600\n",
            "1700\n",
            "1800\n",
            "1900\n",
            "2000\n",
            "2100\n",
            "2200\n",
            "2300\n",
            "2400\n",
            "2500\n",
            "2600\n",
            "2700\n",
            "2800\n",
            "2900\n",
            "3000\n",
            "3100\n",
            "3200\n",
            "3300\n",
            "3400\n",
            "3500\n",
            "3600\n",
            "3700\n",
            "3800\n",
            "3900\n",
            "4000\n",
            "4100\n",
            "4200\n",
            "4300\n",
            "4400\n",
            "4500\n",
            "4600\n",
            "4700\n",
            "4800\n",
            "4900\n",
            "5000\n",
            "5100\n",
            "5200\n",
            "5300\n",
            "5400\n",
            "5500\n",
            "5600\n",
            "5700\n",
            "5800\n",
            "5900\n",
            "6000\n",
            "6100\n",
            "6200\n",
            "6300\n",
            "6400\n",
            "6500\n",
            "6600\n",
            "6700\n",
            "6800\n",
            "6900\n",
            "7000\n",
            "7100\n",
            "7200\n",
            "7300\n",
            "7400\n",
            "7500\n",
            "7600\n",
            "7700\n",
            "7800\n",
            "7900\n",
            "8000\n",
            "8100\n",
            "8200\n",
            "8300\n",
            "8400\n",
            "8500\n",
            "8600\n",
            "8700\n",
            "8800\n",
            "8900\n",
            "9000\n",
            "9100\n",
            "9200\n",
            "9300\n",
            "9400\n",
            "9500\n",
            "9600\n",
            "9700\n",
            "9800\n",
            "9900\n",
            "10000\n",
            "10100\n",
            "10200\n",
            "10300\n",
            "10400\n",
            "10500\n",
            "10600\n",
            "10700\n",
            "10800\n",
            "10900\n",
            "11000\n",
            "11100\n",
            "11200\n",
            "11300\n",
            "11400\n",
            "11500\n",
            "11600\n",
            "11700\n",
            "11800\n",
            "11900\n",
            "12000\n",
            "12100\n",
            "12200\n",
            "12300\n",
            "12400\n",
            "12500\n",
            "12600\n",
            "12700\n",
            "12800\n",
            "12900\n",
            "13000\n",
            "13100\n",
            "13200\n",
            "13300\n",
            "13400\n",
            "13500\n",
            "13600\n",
            "13700\n",
            "13800\n",
            "13900\n",
            "14000\n",
            "14100\n",
            "14200\n",
            "14300\n",
            "14400\n",
            "14500\n",
            "14600\n",
            "14700\n",
            "14800\n",
            "14900\n",
            "15000\n",
            "15100\n",
            "15200\n",
            "15300\n",
            "15400\n",
            "15500\n",
            "15600\n",
            "15700\n",
            "15800\n",
            "15900\n",
            "16000\n",
            "16100\n",
            "16200\n",
            "16300\n",
            "16400\n",
            "16500\n",
            "16600\n",
            "16700\n",
            "16800\n",
            "16900\n",
            "17000\n",
            "17100\n",
            "17200\n",
            "17300\n",
            "17400\n",
            "17500\n",
            "17600\n",
            "17700\n",
            "17800\n",
            "17900\n",
            "18000\n",
            "18100\n",
            "18200\n",
            "18300\n",
            "18400\n",
            "18500\n",
            "18600\n",
            "18700\n",
            "18800\n",
            "18900\n",
            "19000\n",
            "19100\n",
            "19200\n",
            "19300\n",
            "19400\n",
            "19500\n",
            "19600\n",
            "19700\n",
            "19800\n",
            "19900\n",
            "(20000, 200)\n",
            "(20000, 401)\n",
            "25.00013319593395\n",
            "71.99936057814139\n"
          ],
          "name": "stdout"
        },
        {
          "output_type": "display_data",
          "data": {
            "image/png": "[encoded data removed]",
            "text/plain": [
              "<Figure size 432x288 with 1 Axes>"
            ]
          },
          "metadata": {
            "tags": [],
            "needs_background": "light"
          }
        },
        {
          "output_type": "display_data",
          "data": {
            "image/png": "[encoded data removed]",
            "text/plain": [
              "<Figure size 432x288 with 1 Axes>"
            ]
          },
          "metadata": {
            "tags": [],
            "needs_background": "light"
          }
        }
      ]
    },
    {
      "cell_type": "code",
      "metadata": {
        "colab_type": "code",
        "id": "l83INVYlZsND",
        "colab": {}
      },
      "source": [
        "\n",
        "#input = pd.read_csv(io.BytesIO(uploaded['data.csv']))\n",
        "#input = pd.DataFrame(dataset)\n",
        "# Dataset is now stored in a Pandas Dataframe\n",
        "#input.size\n"
      ],
      "execution_count": null,
      "outputs": []
    },
    {
      "cell_type": "code",
      "metadata": {
        "colab_type": "code",
        "id": "CiX2FI4gZtTt",
        "colab": {
          "base_uri": "https://localhost:8080/",
          "height": 249
        },
        "outputId": "022bdfd4-12c4-4834-cac2-83cd77318918"
      },
      "source": [
        "# loading of data\n",
        "\n",
        "raw_dataset=pd.read_csv('dataset.csv')\n",
        "\n",
        "dataset = raw_dataset.copy()\n",
        "dataset.tail()"
      ],
      "execution_count": 449,
      "outputs": [
        {
          "output_type": "execute_result",
          "data": {
            "text/html": [
              "<div>\n",
              "<style scoped>\n",
              "    .dataframe tbody tr th:only-of-type {\n",
              "        vertical-align: middle;\n",
              "    }\n",
              "\n",
              "    .dataframe tbody tr th {\n",
              "        vertical-align: top;\n",
              "    }\n",
              "\n",
              "    .dataframe thead th {\n",
              "        text-align: right;\n",
              "    }\n",
              "</style>\n",
              "<table border=\"1\" class=\"dataframe\">\n",
              "  <thead>\n",
              "    <tr style=\"text-align: right;\">\n",
              "      <th></th>\n",
              "      <th>theta</th>\n",
              "      <th>theta.1</th>\n",
              "      <th>theta.2</th>\n",
              "      <th>theta.3</th>\n",
              "      <th>theta.4</th>\n",
              "      <th>theta.5</th>\n",
              "      <th>theta.6</th>\n",
              "      <th>theta.7</th>\n",
              "      <th>theta.8</th>\n",
              "      <th>theta.9</th>\n",
              "      <th>theta.10</th>\n",
              "      <th>theta.11</th>\n",
              "      <th>theta.12</th>\n",
              "      <th>theta.13</th>\n",
              "      <th>theta.14</th>\n",
              "      <th>theta.15</th>\n",
              "      <th>theta.16</th>\n",
              "      <th>theta.17</th>\n",
              "      <th>theta.18</th>\n",
              "      <th>theta.19</th>\n",
              "      <th>theta.20</th>\n",
              "      <th>theta.21</th>\n",
              "      <th>theta.22</th>\n",
              "      <th>theta.23</th>\n",
              "      <th>theta.24</th>\n",
              "      <th>theta.25</th>\n",
              "      <th>theta.26</th>\n",
              "      <th>theta.27</th>\n",
              "      <th>theta.28</th>\n",
              "      <th>theta.29</th>\n",
              "      <th>theta.30</th>\n",
              "      <th>theta.31</th>\n",
              "      <th>theta.32</th>\n",
              "      <th>theta.33</th>\n",
              "      <th>theta.34</th>\n",
              "      <th>theta.35</th>\n",
              "      <th>theta.36</th>\n",
              "      <th>theta.37</th>\n",
              "      <th>theta.38</th>\n",
              "      <th>theta.39</th>\n",
              "      <th>...</th>\n",
              "      <th>rho.161</th>\n",
              "      <th>rho.162</th>\n",
              "      <th>rho.163</th>\n",
              "      <th>rho.164</th>\n",
              "      <th>rho.165</th>\n",
              "      <th>rho.166</th>\n",
              "      <th>rho.167</th>\n",
              "      <th>rho.168</th>\n",
              "      <th>rho.169</th>\n",
              "      <th>rho.170</th>\n",
              "      <th>rho.171</th>\n",
              "      <th>rho.172</th>\n",
              "      <th>rho.173</th>\n",
              "      <th>rho.174</th>\n",
              "      <th>rho.175</th>\n",
              "      <th>rho.176</th>\n",
              "      <th>rho.177</th>\n",
              "      <th>rho.178</th>\n",
              "      <th>rho.179</th>\n",
              "      <th>rho.180</th>\n",
              "      <th>rho.181</th>\n",
              "      <th>rho.182</th>\n",
              "      <th>rho.183</th>\n",
              "      <th>rho.184</th>\n",
              "      <th>rho.185</th>\n",
              "      <th>rho.186</th>\n",
              "      <th>rho.187</th>\n",
              "      <th>rho.188</th>\n",
              "      <th>rho.189</th>\n",
              "      <th>rho.190</th>\n",
              "      <th>rho.191</th>\n",
              "      <th>rho.192</th>\n",
              "      <th>rho.193</th>\n",
              "      <th>rho.194</th>\n",
              "      <th>rho.195</th>\n",
              "      <th>rho.196</th>\n",
              "      <th>rho.197</th>\n",
              "      <th>rho.198</th>\n",
              "      <th>rho.199</th>\n",
              "      <th>ST</th>\n",
              "    </tr>\n",
              "  </thead>\n",
              "  <tbody>\n",
              "    <tr>\n",
              "      <th>19995</th>\n",
              "      <td>0.009773</td>\n",
              "      <td>0.011303</td>\n",
              "      <td>0.060575</td>\n",
              "      <td>0.112293</td>\n",
              "      <td>0.123772</td>\n",
              "      <td>0.130527</td>\n",
              "      <td>0.141380</td>\n",
              "      <td>0.167260</td>\n",
              "      <td>0.202962</td>\n",
              "      <td>0.206363</td>\n",
              "      <td>0.210331</td>\n",
              "      <td>0.229384</td>\n",
              "      <td>0.258612</td>\n",
              "      <td>0.274328</td>\n",
              "      <td>0.295451</td>\n",
              "      <td>0.297748</td>\n",
              "      <td>0.361605</td>\n",
              "      <td>0.366617</td>\n",
              "      <td>0.442028</td>\n",
              "      <td>0.451040</td>\n",
              "      <td>0.511785</td>\n",
              "      <td>0.513481</td>\n",
              "      <td>0.576186</td>\n",
              "      <td>0.667201</td>\n",
              "      <td>0.679674</td>\n",
              "      <td>0.690010</td>\n",
              "      <td>0.742281</td>\n",
              "      <td>0.759252</td>\n",
              "      <td>0.823595</td>\n",
              "      <td>0.827372</td>\n",
              "      <td>0.844896</td>\n",
              "      <td>0.873778</td>\n",
              "      <td>0.894318</td>\n",
              "      <td>0.940369</td>\n",
              "      <td>0.948158</td>\n",
              "      <td>0.957746</td>\n",
              "      <td>0.959934</td>\n",
              "      <td>0.989109</td>\n",
              "      <td>0.998219</td>\n",
              "      <td>1.076695</td>\n",
              "      <td>...</td>\n",
              "      <td>1.133165</td>\n",
              "      <td>1.133079</td>\n",
              "      <td>1.128532</td>\n",
              "      <td>1.125105</td>\n",
              "      <td>1.122654</td>\n",
              "      <td>1.121206</td>\n",
              "      <td>1.117477</td>\n",
              "      <td>1.102198</td>\n",
              "      <td>1.100858</td>\n",
              "      <td>1.086840</td>\n",
              "      <td>1.083017</td>\n",
              "      <td>1.079155</td>\n",
              "      <td>1.066345</td>\n",
              "      <td>1.043342</td>\n",
              "      <td>1.041554</td>\n",
              "      <td>1.040272</td>\n",
              "      <td>1.037059</td>\n",
              "      <td>1.015105</td>\n",
              "      <td>1.002569</td>\n",
              "      <td>1.002302</td>\n",
              "      <td>0.993695</td>\n",
              "      <td>0.972871</td>\n",
              "      <td>0.965827</td>\n",
              "      <td>0.962806</td>\n",
              "      <td>0.960118</td>\n",
              "      <td>0.950018</td>\n",
              "      <td>0.945370</td>\n",
              "      <td>0.925223</td>\n",
              "      <td>0.925158</td>\n",
              "      <td>0.921584</td>\n",
              "      <td>0.920934</td>\n",
              "      <td>0.919572</td>\n",
              "      <td>0.915609</td>\n",
              "      <td>0.910934</td>\n",
              "      <td>0.908708</td>\n",
              "      <td>0.907123</td>\n",
              "      <td>0.907061</td>\n",
              "      <td>0.907053</td>\n",
              "      <td>0.907027</td>\n",
              "      <td>32.252223</td>\n",
              "    </tr>\n",
              "    <tr>\n",
              "      <th>19996</th>\n",
              "      <td>0.008965</td>\n",
              "      <td>0.042472</td>\n",
              "      <td>0.043273</td>\n",
              "      <td>0.064577</td>\n",
              "      <td>0.082400</td>\n",
              "      <td>0.088693</td>\n",
              "      <td>0.116575</td>\n",
              "      <td>0.135483</td>\n",
              "      <td>0.177168</td>\n",
              "      <td>0.193012</td>\n",
              "      <td>0.218251</td>\n",
              "      <td>0.240488</td>\n",
              "      <td>0.290631</td>\n",
              "      <td>0.310191</td>\n",
              "      <td>0.365915</td>\n",
              "      <td>0.373478</td>\n",
              "      <td>0.408482</td>\n",
              "      <td>0.419900</td>\n",
              "      <td>0.461810</td>\n",
              "      <td>0.483980</td>\n",
              "      <td>0.509719</td>\n",
              "      <td>0.526536</td>\n",
              "      <td>0.542885</td>\n",
              "      <td>0.551989</td>\n",
              "      <td>0.634505</td>\n",
              "      <td>0.654260</td>\n",
              "      <td>0.681656</td>\n",
              "      <td>0.764426</td>\n",
              "      <td>0.777240</td>\n",
              "      <td>0.804237</td>\n",
              "      <td>0.891655</td>\n",
              "      <td>0.892687</td>\n",
              "      <td>0.945483</td>\n",
              "      <td>0.955518</td>\n",
              "      <td>1.002029</td>\n",
              "      <td>1.005053</td>\n",
              "      <td>1.039336</td>\n",
              "      <td>1.042929</td>\n",
              "      <td>1.088171</td>\n",
              "      <td>1.130464</td>\n",
              "      <td>...</td>\n",
              "      <td>1.145825</td>\n",
              "      <td>1.145786</td>\n",
              "      <td>1.145017</td>\n",
              "      <td>1.144768</td>\n",
              "      <td>1.144367</td>\n",
              "      <td>1.143182</td>\n",
              "      <td>1.139511</td>\n",
              "      <td>1.136575</td>\n",
              "      <td>1.131950</td>\n",
              "      <td>1.129705</td>\n",
              "      <td>1.129513</td>\n",
              "      <td>1.120801</td>\n",
              "      <td>1.094105</td>\n",
              "      <td>1.093181</td>\n",
              "      <td>1.091418</td>\n",
              "      <td>1.083482</td>\n",
              "      <td>1.076732</td>\n",
              "      <td>1.069873</td>\n",
              "      <td>1.066525</td>\n",
              "      <td>1.049136</td>\n",
              "      <td>1.046936</td>\n",
              "      <td>1.042977</td>\n",
              "      <td>1.020291</td>\n",
              "      <td>1.012293</td>\n",
              "      <td>0.969717</td>\n",
              "      <td>0.968929</td>\n",
              "      <td>0.966005</td>\n",
              "      <td>0.965863</td>\n",
              "      <td>0.954827</td>\n",
              "      <td>0.935336</td>\n",
              "      <td>0.913833</td>\n",
              "      <td>0.913824</td>\n",
              "      <td>0.901588</td>\n",
              "      <td>0.901246</td>\n",
              "      <td>0.900742</td>\n",
              "      <td>0.894169</td>\n",
              "      <td>0.893890</td>\n",
              "      <td>0.892595</td>\n",
              "      <td>0.890728</td>\n",
              "      <td>29.147202</td>\n",
              "    </tr>\n",
              "    <tr>\n",
              "      <th>19997</th>\n",
              "      <td>0.034328</td>\n",
              "      <td>0.074429</td>\n",
              "      <td>0.098381</td>\n",
              "      <td>0.107143</td>\n",
              "      <td>0.122114</td>\n",
              "      <td>0.129121</td>\n",
              "      <td>0.137911</td>\n",
              "      <td>0.143670</td>\n",
              "      <td>0.159492</td>\n",
              "      <td>0.176554</td>\n",
              "      <td>0.189311</td>\n",
              "      <td>0.241693</td>\n",
              "      <td>0.253761</td>\n",
              "      <td>0.258997</td>\n",
              "      <td>0.277908</td>\n",
              "      <td>0.351971</td>\n",
              "      <td>0.362318</td>\n",
              "      <td>0.370591</td>\n",
              "      <td>0.408116</td>\n",
              "      <td>0.408428</td>\n",
              "      <td>0.413513</td>\n",
              "      <td>0.445829</td>\n",
              "      <td>0.470964</td>\n",
              "      <td>0.486273</td>\n",
              "      <td>0.534163</td>\n",
              "      <td>0.581937</td>\n",
              "      <td>0.640716</td>\n",
              "      <td>0.661362</td>\n",
              "      <td>0.668757</td>\n",
              "      <td>0.749181</td>\n",
              "      <td>0.769756</td>\n",
              "      <td>0.783343</td>\n",
              "      <td>0.809923</td>\n",
              "      <td>0.841109</td>\n",
              "      <td>0.921916</td>\n",
              "      <td>0.931332</td>\n",
              "      <td>0.949643</td>\n",
              "      <td>1.134579</td>\n",
              "      <td>1.183396</td>\n",
              "      <td>1.203556</td>\n",
              "      <td>...</td>\n",
              "      <td>1.096839</td>\n",
              "      <td>1.096792</td>\n",
              "      <td>1.096572</td>\n",
              "      <td>1.096289</td>\n",
              "      <td>1.096139</td>\n",
              "      <td>1.095993</td>\n",
              "      <td>1.090807</td>\n",
              "      <td>1.087040</td>\n",
              "      <td>1.084587</td>\n",
              "      <td>1.084221</td>\n",
              "      <td>1.080732</td>\n",
              "      <td>1.074719</td>\n",
              "      <td>1.071880</td>\n",
              "      <td>1.070774</td>\n",
              "      <td>1.067521</td>\n",
              "      <td>1.061375</td>\n",
              "      <td>1.059986</td>\n",
              "      <td>1.058479</td>\n",
              "      <td>1.056929</td>\n",
              "      <td>1.051657</td>\n",
              "      <td>1.047913</td>\n",
              "      <td>1.042147</td>\n",
              "      <td>1.039088</td>\n",
              "      <td>1.028305</td>\n",
              "      <td>1.025404</td>\n",
              "      <td>1.012564</td>\n",
              "      <td>1.004964</td>\n",
              "      <td>1.003537</td>\n",
              "      <td>0.997321</td>\n",
              "      <td>0.996377</td>\n",
              "      <td>0.994524</td>\n",
              "      <td>0.994361</td>\n",
              "      <td>0.994175</td>\n",
              "      <td>0.993946</td>\n",
              "      <td>0.992289</td>\n",
              "      <td>0.989851</td>\n",
              "      <td>0.989469</td>\n",
              "      <td>0.989203</td>\n",
              "      <td>0.988622</td>\n",
              "      <td>68.727341</td>\n",
              "    </tr>\n",
              "    <tr>\n",
              "      <th>19998</th>\n",
              "      <td>0.045656</td>\n",
              "      <td>0.050916</td>\n",
              "      <td>0.109330</td>\n",
              "      <td>0.146726</td>\n",
              "      <td>0.210851</td>\n",
              "      <td>0.243398</td>\n",
              "      <td>0.334508</td>\n",
              "      <td>0.384158</td>\n",
              "      <td>0.412512</td>\n",
              "      <td>0.412514</td>\n",
              "      <td>0.418850</td>\n",
              "      <td>0.581158</td>\n",
              "      <td>0.582752</td>\n",
              "      <td>0.584539</td>\n",
              "      <td>0.613947</td>\n",
              "      <td>0.661779</td>\n",
              "      <td>0.670049</td>\n",
              "      <td>0.690219</td>\n",
              "      <td>0.693292</td>\n",
              "      <td>0.717104</td>\n",
              "      <td>0.727213</td>\n",
              "      <td>0.750770</td>\n",
              "      <td>0.756144</td>\n",
              "      <td>0.804111</td>\n",
              "      <td>0.871723</td>\n",
              "      <td>0.898818</td>\n",
              "      <td>0.965504</td>\n",
              "      <td>0.999707</td>\n",
              "      <td>1.022200</td>\n",
              "      <td>1.032955</td>\n",
              "      <td>1.046904</td>\n",
              "      <td>1.063057</td>\n",
              "      <td>1.102367</td>\n",
              "      <td>1.176759</td>\n",
              "      <td>1.188942</td>\n",
              "      <td>1.218295</td>\n",
              "      <td>1.250971</td>\n",
              "      <td>1.291633</td>\n",
              "      <td>1.305236</td>\n",
              "      <td>1.332238</td>\n",
              "      <td>...</td>\n",
              "      <td>1.073209</td>\n",
              "      <td>1.070135</td>\n",
              "      <td>1.068132</td>\n",
              "      <td>1.065741</td>\n",
              "      <td>1.064251</td>\n",
              "      <td>1.048984</td>\n",
              "      <td>1.045757</td>\n",
              "      <td>1.038985</td>\n",
              "      <td>1.037319</td>\n",
              "      <td>1.031061</td>\n",
              "      <td>1.031058</td>\n",
              "      <td>1.026881</td>\n",
              "      <td>1.022839</td>\n",
              "      <td>1.022739</td>\n",
              "      <td>1.020175</td>\n",
              "      <td>1.019131</td>\n",
              "      <td>1.012708</td>\n",
              "      <td>1.010230</td>\n",
              "      <td>1.008688</td>\n",
              "      <td>1.007309</td>\n",
              "      <td>1.006447</td>\n",
              "      <td>1.002532</td>\n",
              "      <td>1.001886</td>\n",
              "      <td>1.001774</td>\n",
              "      <td>0.999060</td>\n",
              "      <td>0.992709</td>\n",
              "      <td>0.985097</td>\n",
              "      <td>0.983136</td>\n",
              "      <td>0.983051</td>\n",
              "      <td>0.982470</td>\n",
              "      <td>0.982357</td>\n",
              "      <td>0.981582</td>\n",
              "      <td>0.980881</td>\n",
              "      <td>0.980537</td>\n",
              "      <td>0.980130</td>\n",
              "      <td>0.980038</td>\n",
              "      <td>0.980008</td>\n",
              "      <td>0.979958</td>\n",
              "      <td>0.979956</td>\n",
              "      <td>61.359736</td>\n",
              "    </tr>\n",
              "    <tr>\n",
              "      <th>19999</th>\n",
              "      <td>0.009613</td>\n",
              "      <td>0.094927</td>\n",
              "      <td>0.095200</td>\n",
              "      <td>0.102870</td>\n",
              "      <td>0.166819</td>\n",
              "      <td>0.166943</td>\n",
              "      <td>0.198911</td>\n",
              "      <td>0.228884</td>\n",
              "      <td>0.237084</td>\n",
              "      <td>0.309890</td>\n",
              "      <td>0.319283</td>\n",
              "      <td>0.346297</td>\n",
              "      <td>0.373366</td>\n",
              "      <td>0.394301</td>\n",
              "      <td>0.414239</td>\n",
              "      <td>0.474029</td>\n",
              "      <td>0.478463</td>\n",
              "      <td>0.510046</td>\n",
              "      <td>0.515853</td>\n",
              "      <td>0.591117</td>\n",
              "      <td>0.665938</td>\n",
              "      <td>0.733739</td>\n",
              "      <td>0.768377</td>\n",
              "      <td>0.823760</td>\n",
              "      <td>0.888340</td>\n",
              "      <td>0.966166</td>\n",
              "      <td>1.001383</td>\n",
              "      <td>1.036227</td>\n",
              "      <td>1.043397</td>\n",
              "      <td>1.070165</td>\n",
              "      <td>1.114728</td>\n",
              "      <td>1.134956</td>\n",
              "      <td>1.205168</td>\n",
              "      <td>1.285077</td>\n",
              "      <td>1.323993</td>\n",
              "      <td>1.325175</td>\n",
              "      <td>1.387341</td>\n",
              "      <td>1.403474</td>\n",
              "      <td>1.415550</td>\n",
              "      <td>1.420244</td>\n",
              "      <td>...</td>\n",
              "      <td>1.093431</td>\n",
              "      <td>1.090879</td>\n",
              "      <td>1.085871</td>\n",
              "      <td>1.070135</td>\n",
              "      <td>1.067187</td>\n",
              "      <td>1.056213</td>\n",
              "      <td>1.050670</td>\n",
              "      <td>1.050488</td>\n",
              "      <td>1.049987</td>\n",
              "      <td>1.043454</td>\n",
              "      <td>1.030056</td>\n",
              "      <td>1.028606</td>\n",
              "      <td>1.027347</td>\n",
              "      <td>1.025262</td>\n",
              "      <td>1.023002</td>\n",
              "      <td>1.018206</td>\n",
              "      <td>1.015959</td>\n",
              "      <td>1.014441</td>\n",
              "      <td>1.011058</td>\n",
              "      <td>0.995780</td>\n",
              "      <td>0.989184</td>\n",
              "      <td>0.980434</td>\n",
              "      <td>0.979664</td>\n",
              "      <td>0.975415</td>\n",
              "      <td>0.972558</td>\n",
              "      <td>0.971754</td>\n",
              "      <td>0.969407</td>\n",
              "      <td>0.966795</td>\n",
              "      <td>0.966018</td>\n",
              "      <td>0.963732</td>\n",
              "      <td>0.963077</td>\n",
              "      <td>0.954065</td>\n",
              "      <td>0.951274</td>\n",
              "      <td>0.950040</td>\n",
              "      <td>0.947735</td>\n",
              "      <td>0.946533</td>\n",
              "      <td>0.945858</td>\n",
              "      <td>0.945835</td>\n",
              "      <td>0.945561</td>\n",
              "      <td>42.829686</td>\n",
              "    </tr>\n",
              "  </tbody>\n",
              "</table>\n",
              "<p>5 rows × 401 columns</p>\n",
              "</div>"
            ],
            "text/plain": [
              "          theta   theta.1   theta.2  ...   rho.198   rho.199         ST\n",
              "19995  0.009773  0.011303  0.060575  ...  0.907053  0.907027  32.252223\n",
              "19996  0.008965  0.042472  0.043273  ...  0.892595  0.890728  29.147202\n",
              "19997  0.034328  0.074429  0.098381  ...  0.989203  0.988622  68.727341\n",
              "19998  0.045656  0.050916  0.109330  ...  0.979958  0.979956  61.359736\n",
              "19999  0.009613  0.094927  0.095200  ...  0.945835  0.945561  42.829686\n",
              "\n",
              "[5 rows x 401 columns]"
            ]
          },
          "metadata": {
            "tags": []
          },
          "execution_count": 449
        }
      ]
    },
    {
      "cell_type": "markdown",
      "metadata": {
        "id": "HkWsufEUFMi8",
        "colab_type": "text"
      },
      "source": [
        "### Adding noise to the data"
      ]
    },
    {
      "cell_type": "code",
      "metadata": {
        "id": "vgwEz3rDFLcz",
        "colab_type": "code",
        "colab": {
          "base_uri": "https://localhost:8080/",
          "height": 778
        },
        "outputId": "3b885cbf-6497-4976-d910-9ff30a152abf"
      },
      "source": [
        "#tf.random.set_seed(5);\n",
        "#Gaussian_noise=tf.random.normal(shape=[dataset.shape], mean=0, stddev=1, dtype=tf.dtypes.float64)\n",
        "\n",
        "#dataset_Gauss=dataset+Gaussian_noise\n",
        "#plt.figure()\n",
        "##plt.plot(Gaussian_noise[:, 2])\n",
        "#min(Gaussian_noise.all())\n",
        "#max(Gaussian_noise.all())\n",
        "np.random.seed(seed=1)\n",
        "noise = np.random.random(size=dataset.shape)*0.02\n",
        "#print(noise)\n",
        "dataset=dataset+noise\n",
        "#dataset_noise[0, 0:200]\n",
        "plt.figure()\n",
        "plt.plot(dataset.iloc[0, 0:200], dataset.iloc[0, 200:400])\n",
        "plt.figure()\n",
        "plt.plot(dataset.iloc[10000, 0:200], dataset.iloc[10000, 200:400])\n",
        "plt.figure()\n",
        "plt.plot(dataset.iloc[19999, 0:200], dataset.iloc[19999, 200:400])\n"
      ],
      "execution_count": 402,
      "outputs": [
        {
          "output_type": "execute_result",
          "data": {
            "text/plain": [
              "[<matplotlib.lines.Line2D at 0x7fbea0d8ebe0>]"
            ]
          },
          "metadata": {
            "tags": []
          },
          "execution_count": 402
        },
        {
          "output_type": "display_data",
          "data": {
            "image/png": "[encoded data removed]",
            "text/plain": [
              "<Figure size 432x288 with 1 Axes>"
            ]
          },
          "metadata": {
            "tags": [],
            "needs_background": "light"
          }
        },
        {
          "output_type": "display_data",
          "data": {
            "image/png": "[encoded data removed]",
            "text/plain": [
              "<Figure size 432x288 with 1 Axes>"
            ]
          },
          "metadata": {
            "tags": [],
            "needs_background": "light"
          }
        },
        {
          "output_type": "display_data",
          "data": {
            "image/png": "[encoded data removed]",
            "text/plain": [
              "<Figure size 432x288 with 1 Axes>"
            ]
          },
          "metadata": {
            "tags": [],
            "needs_background": "light"
          }
        }
      ]
    },
    {
      "cell_type": "markdown",
      "metadata": {
        "colab_type": "text",
        "id": "Cuym4yvk76vU"
      },
      "source": [
        "### Split the data into train and test\n",
        "\n",
        "Now split the dataset into a training set and a test set.\n",
        "\n",
        "We will use the test set in the final evaluation of our model."
      ]
    },
    {
      "cell_type": "code",
      "metadata": {
        "colab_type": "code",
        "id": "qn-IGhUE7_1H",
        "colab": {}
      },
      "source": [
        "train_dataset = dataset.sample(frac=0.8,random_state=0)\n",
        "test_dataset = dataset.drop(train_dataset.index)"
      ],
      "execution_count": 450,
      "outputs": []
    },
    {
      "cell_type": "markdown",
      "metadata": {
        "colab_type": "text",
        "id": "J4ubs136WLNp"
      },
      "source": [
        "### Inspect the data\n",
        "\n",
        "Have a quick look at the joint distribution of a few pairs of columns from the training set."
      ]
    },
    {
      "cell_type": "code",
      "metadata": {
        "colab_type": "code",
        "id": "oRKO_x8gWKv-",
        "colab": {}
      },
      "source": [
        "#sns.pairplot(train_dataset[column_names], diag_kind=\"kde\")\n",
        "#plt.show()"
      ],
      "execution_count": null,
      "outputs": []
    },
    {
      "cell_type": "markdown",
      "metadata": {
        "colab_type": "text",
        "id": "gavKO_6DWRMP"
      },
      "source": [
        "Also look at the overall statistics:"
      ]
    },
    {
      "cell_type": "code",
      "metadata": {
        "colab_type": "code",
        "id": "yi2FzC3T21jR",
        "colab": {
          "base_uri": "https://localhost:8080/",
          "height": 411
        },
        "outputId": "762a0091-fa2c-4028-c6cc-c713da0741cc"
      },
      "source": [
        "train_stats = train_dataset.describe()\n",
        "train_stats.pop(\"ST\")\n",
        "train_stats = train_stats.transpose()\n",
        "train_stats"
      ],
      "execution_count": 451,
      "outputs": [
        {
          "output_type": "execute_result",
          "data": {
            "text/html": [
              "<div>\n",
              "<style scoped>\n",
              "    .dataframe tbody tr th:only-of-type {\n",
              "        vertical-align: middle;\n",
              "    }\n",
              "\n",
              "    .dataframe tbody tr th {\n",
              "        vertical-align: top;\n",
              "    }\n",
              "\n",
              "    .dataframe thead th {\n",
              "        text-align: right;\n",
              "    }\n",
              "</style>\n",
              "<table border=\"1\" class=\"dataframe\">\n",
              "  <thead>\n",
              "    <tr style=\"text-align: right;\">\n",
              "      <th></th>\n",
              "      <th>count</th>\n",
              "      <th>mean</th>\n",
              "      <th>std</th>\n",
              "      <th>min</th>\n",
              "      <th>25%</th>\n",
              "      <th>50%</th>\n",
              "      <th>75%</th>\n",
              "      <th>max</th>\n",
              "    </tr>\n",
              "  </thead>\n",
              "  <tbody>\n",
              "    <tr>\n",
              "      <th>theta</th>\n",
              "      <td>16000.0</td>\n",
              "      <td>0.030700</td>\n",
              "      <td>0.030591</td>\n",
              "      <td>0.000003</td>\n",
              "      <td>0.008670</td>\n",
              "      <td>0.021488</td>\n",
              "      <td>0.042749</td>\n",
              "      <td>0.278093</td>\n",
              "    </tr>\n",
              "    <tr>\n",
              "      <th>theta.1</th>\n",
              "      <td>16000.0</td>\n",
              "      <td>0.061864</td>\n",
              "      <td>0.043499</td>\n",
              "      <td>0.000164</td>\n",
              "      <td>0.029862</td>\n",
              "      <td>0.052142</td>\n",
              "      <td>0.083295</td>\n",
              "      <td>0.398188</td>\n",
              "    </tr>\n",
              "    <tr>\n",
              "      <th>theta.2</th>\n",
              "      <td>16000.0</td>\n",
              "      <td>0.092940</td>\n",
              "      <td>0.052926</td>\n",
              "      <td>0.002495</td>\n",
              "      <td>0.054136</td>\n",
              "      <td>0.083860</td>\n",
              "      <td>0.120996</td>\n",
              "      <td>0.489584</td>\n",
              "    </tr>\n",
              "    <tr>\n",
              "      <th>theta.3</th>\n",
              "      <td>16000.0</td>\n",
              "      <td>0.124585</td>\n",
              "      <td>0.060997</td>\n",
              "      <td>0.006154</td>\n",
              "      <td>0.079756</td>\n",
              "      <td>0.114804</td>\n",
              "      <td>0.158804</td>\n",
              "      <td>0.492807</td>\n",
              "    </tr>\n",
              "    <tr>\n",
              "      <th>theta.4</th>\n",
              "      <td>16000.0</td>\n",
              "      <td>0.155845</td>\n",
              "      <td>0.068403</td>\n",
              "      <td>0.014900</td>\n",
              "      <td>0.105702</td>\n",
              "      <td>0.146161</td>\n",
              "      <td>0.194878</td>\n",
              "      <td>0.590842</td>\n",
              "    </tr>\n",
              "    <tr>\n",
              "      <th>...</th>\n",
              "      <td>...</td>\n",
              "      <td>...</td>\n",
              "      <td>...</td>\n",
              "      <td>...</td>\n",
              "      <td>...</td>\n",
              "      <td>...</td>\n",
              "      <td>...</td>\n",
              "      <td>...</td>\n",
              "    </tr>\n",
              "    <tr>\n",
              "      <th>rho.195</th>\n",
              "      <td>16000.0</td>\n",
              "      <td>0.953643</td>\n",
              "      <td>0.033561</td>\n",
              "      <td>0.863747</td>\n",
              "      <td>0.931150</td>\n",
              "      <td>0.962429</td>\n",
              "      <td>0.981675</td>\n",
              "      <td>1.021681</td>\n",
              "    </tr>\n",
              "    <tr>\n",
              "      <th>rho.196</th>\n",
              "      <td>16000.0</td>\n",
              "      <td>0.952059</td>\n",
              "      <td>0.033907</td>\n",
              "      <td>0.862904</td>\n",
              "      <td>0.929177</td>\n",
              "      <td>0.960999</td>\n",
              "      <td>0.980522</td>\n",
              "      <td>1.014271</td>\n",
              "    </tr>\n",
              "    <tr>\n",
              "      <th>rho.197</th>\n",
              "      <td>16000.0</td>\n",
              "      <td>0.950768</td>\n",
              "      <td>0.034213</td>\n",
              "      <td>0.862765</td>\n",
              "      <td>0.927689</td>\n",
              "      <td>0.959743</td>\n",
              "      <td>0.979575</td>\n",
              "      <td>1.003073</td>\n",
              "    </tr>\n",
              "    <tr>\n",
              "      <th>rho.198</th>\n",
              "      <td>16000.0</td>\n",
              "      <td>0.949815</td>\n",
              "      <td>0.034446</td>\n",
              "      <td>0.862614</td>\n",
              "      <td>0.926494</td>\n",
              "      <td>0.958809</td>\n",
              "      <td>0.978950</td>\n",
              "      <td>1.000251</td>\n",
              "    </tr>\n",
              "    <tr>\n",
              "      <th>rho.199</th>\n",
              "      <td>16000.0</td>\n",
              "      <td>0.949165</td>\n",
              "      <td>0.034626</td>\n",
              "      <td>0.862408</td>\n",
              "      <td>0.925620</td>\n",
              "      <td>0.958342</td>\n",
              "      <td>0.978433</td>\n",
              "      <td>0.996389</td>\n",
              "    </tr>\n",
              "  </tbody>\n",
              "</table>\n",
              "<p>400 rows × 8 columns</p>\n",
              "</div>"
            ],
            "text/plain": [
              "           count      mean       std  ...       50%       75%       max\n",
              "theta    16000.0  0.030700  0.030591  ...  0.021488  0.042749  0.278093\n",
              "theta.1  16000.0  0.061864  0.043499  ...  0.052142  0.083295  0.398188\n",
              "theta.2  16000.0  0.092940  0.052926  ...  0.083860  0.120996  0.489584\n",
              "theta.3  16000.0  0.124585  0.060997  ...  0.114804  0.158804  0.492807\n",
              "theta.4  16000.0  0.155845  0.068403  ...  0.146161  0.194878  0.590842\n",
              "...          ...       ...       ...  ...       ...       ...       ...\n",
              "rho.195  16000.0  0.953643  0.033561  ...  0.962429  0.981675  1.021681\n",
              "rho.196  16000.0  0.952059  0.033907  ...  0.960999  0.980522  1.014271\n",
              "rho.197  16000.0  0.950768  0.034213  ...  0.959743  0.979575  1.003073\n",
              "rho.198  16000.0  0.949815  0.034446  ...  0.958809  0.978950  1.000251\n",
              "rho.199  16000.0  0.949165  0.034626  ...  0.958342  0.978433  0.996389\n",
              "\n",
              "[400 rows x 8 columns]"
            ]
          },
          "metadata": {
            "tags": []
          },
          "execution_count": 451
        }
      ]
    },
    {
      "cell_type": "markdown",
      "metadata": {
        "colab_type": "text",
        "id": "Db7Auq1yXUvh"
      },
      "source": [
        "### Split features from labels\n",
        "\n",
        "Separate the target value, or \"label\", from the features. This label is the value that you will train the model to predict."
      ]
    },
    {
      "cell_type": "code",
      "metadata": {
        "colab_type": "code",
        "id": "t2sluJdCW7jN",
        "colab": {}
      },
      "source": [
        "train_labels = train_dataset.pop('ST')\n",
        "test_labels = test_dataset.pop('ST')"
      ],
      "execution_count": 452,
      "outputs": []
    },
    {
      "cell_type": "markdown",
      "metadata": {
        "colab_type": "text",
        "id": "mRklxK5s388r"
      },
      "source": [
        "### Normalize the data\n",
        "\n",
        "Look again at the `train_stats` block above and note how different the ranges of each feature are."
      ]
    },
    {
      "cell_type": "markdown",
      "metadata": {
        "colab_type": "text",
        "id": "-ywmerQ6dSox"
      },
      "source": [
        "It is good practice to normalize features that use different scales and ranges. Although the model *might* converge without feature normalization, it makes training more difficult, and it makes the resulting model dependent on the choice of units used in the input.\n",
        "\n",
        "Note: Although we intentionally generate these statistics from only the training dataset, these statistics will also be used to normalize the test dataset. We need to do that to project the test dataset into the same distribution that the model has been trained on."
      ]
    },
    {
      "cell_type": "code",
      "metadata": {
        "colab_type": "code",
        "id": "JlC5ooJrgjQF",
        "colab": {}
      },
      "source": [
        "def norm(x):\n",
        "  return (x - train_stats['mean']) / train_stats['std']\n",
        "normed_train_data = norm(train_dataset)\n",
        "normed_test_data = norm(test_dataset)\n"
      ],
      "execution_count": 453,
      "outputs": []
    },
    {
      "cell_type": "markdown",
      "metadata": {
        "colab_type": "text",
        "id": "BuiClDk45eS4"
      },
      "source": [
        "This normalized data is what we will use to train the model.\n",
        "\n",
        "Caution: The statistics used to normalize the inputs here (mean and standard deviation) need to be applied to any other data that is fed to the model, along with the one-hot encoding that we did earlier.  That includes the test set as well as live data when the model is used in production."
      ]
    },
    {
      "cell_type": "markdown",
      "metadata": {
        "colab_type": "text",
        "id": "SmjdzxKzEu1-"
      },
      "source": [
        "## The model"
      ]
    },
    {
      "cell_type": "markdown",
      "metadata": {
        "colab_type": "text",
        "id": "6SWtkIjhrZwa"
      },
      "source": [
        "### Build the model\n",
        "\n",
        "Let's build our model. Here, we'll use a `Sequential` model with two densely connected hidden layers, and an output layer that returns a single, continuous value. The model building steps are wrapped in a function, `build_model`, since we'll create a second model, later on."
      ]
    },
    {
      "cell_type": "markdown",
      "metadata": {
        "id": "VULFJK5Vdk2l",
        "colab_type": "text"
      },
      "source": [
        "###Learning Schedule\n",
        "The code bellow sets a schedules.InverseTimeDecay to hyperbolically decrease the learning rate to 1/2 of the base rate at 1000 epochs, 1/3 at 2000 epochs and so on."
      ]
    },
    {
      "cell_type": "code",
      "metadata": {
        "id": "BVEwu5szdhtt",
        "colab_type": "code",
        "colab": {}
      },
      "source": [
        "#Lr_schedule = learning schedule : Most models learn better if you gradually decrase the learning rate.\n",
        "\n",
        "STEPS_PER_EPOCH=len(train_dataset)/500\n",
        "lr_schedule = tf.keras.optimizers.schedules.InverseTimeDecay(\n",
        "  0.001,\n",
        "  decay_steps=STEPS_PER_EPOCH*1000,\n",
        "  decay_rate=1,\n",
        "  staircase=False)\n",
        "\n",
        "def get_optimizer():\n",
        "  return tf.keras.optimizers.Adam(lr_schedule)"
      ],
      "execution_count": 454,
      "outputs": []
    },
    {
      "cell_type": "markdown",
      "metadata": {
        "id": "gB91psdOdj_d",
        "colab_type": "text"
      },
      "source": [
        "Here we can plot the learning rate Vs the number of epocs"
      ]
    },
    {
      "cell_type": "code",
      "metadata": {
        "id": "MfTIU-90dkJC",
        "colab_type": "code",
        "colab": {
          "base_uri": "https://localhost:8080/",
          "height": 388
        },
        "outputId": "8f125bee-8fc7-4d09-bdd7-d6f1a2bfd9b4"
      },
      "source": [
        "step = np.linspace(0,100000)\n",
        "lr = lr_schedule(step)\n",
        "plt.figure(figsize = (8,6))\n",
        "plt.plot(step/STEPS_PER_EPOCH, lr)\n",
        "plt.ylim([0,max(plt.ylim())])\n",
        "plt.xlabel('Epoch')\n",
        "_ = plt.ylabel('Learning Rate')"
      ],
      "execution_count": 455,
      "outputs": [
        {
          "output_type": "display_data",
          "data": {
            "image/png": "[encoded data removed]",
            "text/plain": [
              "<Figure size 576x432 with 1 Axes>"
            ]
          },
          "metadata": {
            "tags": [],
            "needs_background": "light"
          }
        }
      ]
    },
    {
      "cell_type": "code",
      "metadata": {
        "colab_type": "code",
        "id": "c26juK7ZG8j-",
        "colab": {}
      },
      "source": [
        "def build_model():\n",
        "  model = keras.Sequential([\n",
        "    #layers.Dense(100, activation=tf.nn.relu, input_shape=[len(train_dataset.keys())]),\n",
        "    layers.Dense(14, activation=tf.nn.swish, input_shape=[len(train_dataset.keys())]),\n",
        "    #layers.Dense(50, activation=tf.nn.swish),\n",
        "    layers.Dense(5, activation=tf.nn.swish),\n",
        "    layers.Dense(1)\n",
        "  ])\n",
        "\n",
        "  optimizer = get_optimizer() # tf.keras.optimizers.Adam(learning_rate=0.001) #RMSprop(0.0001)\n",
        "  model.compile(loss='mean_squared_error',\n",
        "                optimizer=optimizer,\n",
        "                metrics=['mean_absolute_error', 'mean_squared_error'])\n",
        "  return model"
      ],
      "execution_count": 456,
      "outputs": []
    },
    {
      "cell_type": "code",
      "metadata": {
        "colab_type": "code",
        "id": "cGbPb-PHGbhs",
        "colab": {}
      },
      "source": [
        "model = build_model()"
      ],
      "execution_count": 480,
      "outputs": []
    },
    {
      "cell_type": "markdown",
      "metadata": {
        "colab_type": "text",
        "id": "Sj49Og4YGULr"
      },
      "source": [
        "### Inspect the model\n",
        "\n",
        "Use the `.summary` method to print a simple description of the model"
      ]
    },
    {
      "cell_type": "code",
      "metadata": {
        "colab_type": "code",
        "id": "ReAD0n6MsFK-",
        "colab": {
          "base_uri": "https://localhost:8080/",
          "height": 266
        },
        "outputId": "da58e7f2-9054-4abe-b481-de615c8a9c66"
      },
      "source": [
        "model.summary()"
      ],
      "execution_count": 458,
      "outputs": [
        {
          "output_type": "stream",
          "text": [
            "Model: \"sequential_48\"\n",
            "_________________________________________________________________\n",
            "Layer (type)                 Output Shape              Param #   \n",
            "=================================================================\n",
            "dense_145 (Dense)            (None, 14)                5614      \n",
            "_________________________________________________________________\n",
            "dense_146 (Dense)            (None, 5)                 75        \n",
            "_________________________________________________________________\n",
            "dense_147 (Dense)            (None, 1)                 6         \n",
            "=================================================================\n",
            "Total params: 5,695\n",
            "Trainable params: 5,695\n",
            "Non-trainable params: 0\n",
            "_________________________________________________________________\n"
          ],
          "name": "stdout"
        }
      ]
    },
    {
      "cell_type": "markdown",
      "metadata": {
        "colab_type": "text",
        "id": "Vt6W50qGsJAL"
      },
      "source": [
        "\n",
        "Now try out the model. Take a batch of `10` examples from the training data and call `model.predict` on it."
      ]
    },
    {
      "cell_type": "code",
      "metadata": {
        "colab_type": "code",
        "id": "-d-gBaVtGTSC",
        "colab": {
          "base_uri": "https://localhost:8080/",
          "height": 195
        },
        "outputId": "2b7b0d6d-3b40-4a9a-d418-790a90482ebc"
      },
      "source": [
        "example_batch = normed_train_data[:10]\n",
        "example_result = model.predict(example_batch)\n",
        "example_result"
      ],
      "execution_count": 459,
      "outputs": [
        {
          "output_type": "execute_result",
          "data": {
            "text/plain": [
              "array([[ 1.4783881 ],\n",
              "       [ 0.04202371],\n",
              "       [ 0.46618506],\n",
              "       [-0.11094198],\n",
              "       [ 0.11034737],\n",
              "       [ 0.35821182],\n",
              "       [-0.18164915],\n",
              "       [-0.5072448 ],\n",
              "       [ 0.12149434],\n",
              "       [-0.16098142]], dtype=float32)"
            ]
          },
          "metadata": {
            "tags": []
          },
          "execution_count": 459
        }
      ]
    },
    {
      "cell_type": "markdown",
      "metadata": {
        "colab_type": "text",
        "id": "QlM8KrSOsaYo"
      },
      "source": [
        "It seems to be working, and it produces a result of the expected shape and type."
      ]
    },
    {
      "cell_type": "markdown",
      "metadata": {
        "colab_type": "text",
        "id": "0-qWCsh6DlyH"
      },
      "source": [
        "### Train the model\n",
        "\n",
        "Train the model for 1000 epochs, and record the training and validation accuracy in the `history` object."
      ]
    },
    {
      "cell_type": "code",
      "metadata": {
        "colab_type": "code",
        "id": "fdMZuhUgzMZ4",
        "colab": {
          "base_uri": "https://localhost:8080/",
          "height": 70
        },
        "outputId": "99d5ee39-249a-4cf8-b815-fbeb95aa544b"
      },
      "source": [
        "# Display training progress by printing a single dot for each completed epoch\n",
        "class PrintDot(keras.callbacks.Callback):\n",
        "  def on_epoch_end(self, epoch, logs):\n",
        "    if epoch % 100 == 0: print('')\n",
        "    print('.', end='')\n",
        "\n",
        "EPOCHS = 1000\n",
        "\n",
        "# The patience parameter is the amount of epochs to check for improvement\n",
        "early_stop = keras.callbacks.EarlyStopping(monitor='val_loss', patience=10)\n",
        "\n",
        "history = model.fit(normed_train_data, train_labels, epochs=EPOCHS,\n",
        "                    validation_split = 0.2, verbose=0, callbacks=[early_stop, PrintDot()])\n"
      ],
      "execution_count": 481,
      "outputs": [
        {
          "output_type": "stream",
          "text": [
            "\n",
            "....................................................................................................\n",
            "................................................................................"
          ],
          "name": "stdout"
        }
      ]
    },
    {
      "cell_type": "markdown",
      "metadata": {
        "colab_type": "text",
        "id": "tQm3pc0FYPQB"
      },
      "source": [
        "Visualize the model's training progress using the stats stored in the `history` object."
      ]
    },
    {
      "cell_type": "code",
      "metadata": {
        "id": "IHtfi4xlXiHy",
        "colab_type": "code",
        "colab": {
          "base_uri": "https://localhost:8080/",
          "height": 200
        },
        "outputId": "0b8048d4-68ae-446c-ed74-864711ffef84"
      },
      "source": [
        "hist = pd.DataFrame(history.history)\n",
        "hist['epoch'] = history.epoch\n",
        "hist.tail() "
      ],
      "execution_count": 482,
      "outputs": [
        {
          "output_type": "execute_result",
          "data": {
            "text/html": [
              "<div>\n",
              "<style scoped>\n",
              "    .dataframe tbody tr th:only-of-type {\n",
              "        vertical-align: middle;\n",
              "    }\n",
              "\n",
              "    .dataframe tbody tr th {\n",
              "        vertical-align: top;\n",
              "    }\n",
              "\n",
              "    .dataframe thead th {\n",
              "        text-align: right;\n",
              "    }\n",
              "</style>\n",
              "<table border=\"1\" class=\"dataframe\">\n",
              "  <thead>\n",
              "    <tr style=\"text-align: right;\">\n",
              "      <th></th>\n",
              "      <th>loss</th>\n",
              "      <th>mean_absolute_error</th>\n",
              "      <th>mean_squared_error</th>\n",
              "      <th>val_loss</th>\n",
              "      <th>val_mean_absolute_error</th>\n",
              "      <th>val_mean_squared_error</th>\n",
              "      <th>epoch</th>\n",
              "    </tr>\n",
              "  </thead>\n",
              "  <tbody>\n",
              "    <tr>\n",
              "      <th>175</th>\n",
              "      <td>0.080639</td>\n",
              "      <td>0.220541</td>\n",
              "      <td>0.080639</td>\n",
              "      <td>0.122573</td>\n",
              "      <td>0.265303</td>\n",
              "      <td>0.122573</td>\n",
              "      <td>175</td>\n",
              "    </tr>\n",
              "    <tr>\n",
              "      <th>176</th>\n",
              "      <td>0.079103</td>\n",
              "      <td>0.216615</td>\n",
              "      <td>0.079103</td>\n",
              "      <td>0.139566</td>\n",
              "      <td>0.274682</td>\n",
              "      <td>0.139566</td>\n",
              "      <td>176</td>\n",
              "    </tr>\n",
              "    <tr>\n",
              "      <th>177</th>\n",
              "      <td>0.076995</td>\n",
              "      <td>0.213764</td>\n",
              "      <td>0.076995</td>\n",
              "      <td>0.099366</td>\n",
              "      <td>0.238764</td>\n",
              "      <td>0.099366</td>\n",
              "      <td>177</td>\n",
              "    </tr>\n",
              "    <tr>\n",
              "      <th>178</th>\n",
              "      <td>0.077814</td>\n",
              "      <td>0.215909</td>\n",
              "      <td>0.077814</td>\n",
              "      <td>0.133640</td>\n",
              "      <td>0.269282</td>\n",
              "      <td>0.133640</td>\n",
              "      <td>178</td>\n",
              "    </tr>\n",
              "    <tr>\n",
              "      <th>179</th>\n",
              "      <td>0.078893</td>\n",
              "      <td>0.216294</td>\n",
              "      <td>0.078893</td>\n",
              "      <td>0.110607</td>\n",
              "      <td>0.243672</td>\n",
              "      <td>0.110607</td>\n",
              "      <td>179</td>\n",
              "    </tr>\n",
              "  </tbody>\n",
              "</table>\n",
              "</div>"
            ],
            "text/plain": [
              "         loss  mean_absolute_error  ...  val_mean_squared_error  epoch\n",
              "175  0.080639             0.220541  ...                0.122573    175\n",
              "176  0.079103             0.216615  ...                0.139566    176\n",
              "177  0.076995             0.213764  ...                0.099366    177\n",
              "178  0.077814             0.215909  ...                0.133640    178\n",
              "179  0.078893             0.216294  ...                0.110607    179\n",
              "\n",
              "[5 rows x 7 columns]"
            ]
          },
          "metadata": {
            "tags": []
          },
          "execution_count": 482
        }
      ]
    },
    {
      "cell_type": "code",
      "metadata": {
        "id": "VPI7VDvrXvJb",
        "colab_type": "code",
        "colab": {
          "base_uri": "https://localhost:8080/",
          "height": 549
        },
        "outputId": "f48d04bf-abeb-4eca-b234-1cb7f69e4a7d"
      },
      "source": [
        "def plot_history(history):\n",
        "  hist = pd.DataFrame(history.history)\n",
        "  hist['epoch'] = history.epoch\n",
        "\n",
        "  plt.figure()\n",
        "  plt.xlabel('Epoch')\n",
        "  plt.ylabel('Mean Abs Error [ST]')\n",
        "  plt.plot(hist['epoch'], hist['mean_absolute_error'],\n",
        "           label='Train Error')\n",
        "  plt.plot(hist['epoch'], hist['val_mean_absolute_error'],\n",
        "           label = 'Val Error')\n",
        "  plt.ylim([0,2])\n",
        "  plt.legend()\n",
        "\n",
        "  plt.figure()\n",
        "  plt.xlabel('Epoch')\n",
        "  plt.ylabel('Mean Square Error [$ST^2$]')\n",
        "  plt.plot(hist['epoch'], hist['mean_squared_error'],\n",
        "           label='Train Error')\n",
        "  plt.plot(hist['epoch'], hist['val_mean_squared_error'],\n",
        "           label = 'Val Error')\n",
        "  plt.ylim([0,20])\n",
        "  plt.legend()\n",
        "  plt.show()\n",
        "\n",
        "\n",
        "plot_history(history)"
      ],
      "execution_count": 483,
      "outputs": [
        {
          "output_type": "display_data",
          "data": {
            "image/png": "[encoded data removed]",
            "text/plain": [
              "<Figure size 432x288 with 1 Axes>"
            ]
          },
          "metadata": {
            "tags": [],
            "needs_background": "light"
          }
        },
        {
          "output_type": "display_data",
          "data": {
            "image/png": "[encoded data removed]",
            "text/plain": [
              "<Figure size 432x288 with 1 Axes>"
            ]
          },
          "metadata": {
            "tags": [],
            "needs_background": "light"
          }
        }
      ]
    },
    {
      "cell_type": "markdown",
      "metadata": {
        "colab_type": "text",
        "id": "3St8-DmrX8P4"
      },
      "source": [
        "The graph shows that on the validation set, the average error is usually around +/- 2 MPG. Is this good? We'll leave that decision up to you.\n",
        "\n",
        "Let's see how well the model generalizes by using the **test** set, which we did not use when training the model.  This tells us how well we can expect the model to predict when we use it in the real world."
      ]
    },
    {
      "cell_type": "code",
      "metadata": {
        "colab_type": "code",
        "id": "jl_yNr5n1kms",
        "colab": {
          "base_uri": "https://localhost:8080/",
          "height": 35
        },
        "outputId": "d6c7775c-f613-424d-8034-8cbe2d6499bd"
      },
      "source": [
        "loss, mae, mse = model.evaluate(normed_test_data, test_labels, verbose=0)\n",
        "\n",
        "print(\"Testing set Mean Abs Error: {:5.2f} mN/m\".format(mae))"
      ],
      "execution_count": 484,
      "outputs": [
        {
          "output_type": "stream",
          "text": [
            "Testing set Mean Abs Error:  0.24 mN/m\n"
          ],
          "name": "stdout"
        }
      ]
    },
    {
      "cell_type": "markdown",
      "metadata": {
        "colab_type": "text",
        "id": "ft603OzXuEZC"
      },
      "source": [
        "### Make predictions\n",
        "\n",
        "Finally, predict volt values using data in the testing set:"
      ]
    },
    {
      "cell_type": "code",
      "metadata": {
        "colab_type": "code",
        "id": "Xe7RXH3N3CWU",
        "colab": {
          "base_uri": "https://localhost:8080/",
          "height": 573
        },
        "outputId": "fe109935-b6e2-4de9-91c1-92c49f85fa47"
      },
      "source": [
        "test_predictions = model.predict(normed_test_data).flatten()\n",
        "\n",
        "plt.scatter(test_labels, test_predictions)\n",
        "plt.title('Normalized test data')\n",
        "plt.xlabel('True Values [surface tension - mN/m]')\n",
        "plt.ylabel('Predictions [surface tension - mN/m]')\n",
        "plt.axis('equal')\n",
        "plt.axis('square')\n",
        "plt.xlim([10,75])\n",
        "plt.ylim([10,75])\n",
        "_ = plt.plot([-100, 100], [-100, 100])\n",
        "plt.show()\n",
        "\n",
        "test_predictions2 = model.predict(normed_train_data).flatten()\n",
        "\n",
        "plt.scatter(train_labels, test_predictions2)\n",
        "plt.title('Normalized training data')\n",
        "plt.xlabel('True Values [surface tension - mN/m]')\n",
        "plt.ylabel('Predictions [surface tension - mN/m]')\n",
        "plt.axis('equal')\n",
        "plt.axis('square')\n",
        "plt.xlim([10,75])\n",
        "plt.ylim([10,75])\n",
        "_ = plt.plot([-100, 100], [-100, 100])\n",
        "plt.show()\n"
      ],
      "execution_count": 485,
      "outputs": [
        {
          "output_type": "display_data",
          "data": {
            "image/png": "[encoded data removed]",
            "text/plain": [
              "<Figure size 432x288 with 1 Axes>"
            ]
          },
          "metadata": {
            "tags": [],
            "needs_background": "light"
          }
        },
        {
          "output_type": "display_data",
          "data": {
            "image/png": "[encoded data removed]",
            "text/plain": [
              "<Figure size 432x288 with 1 Axes>"
            ]
          },
          "metadata": {
            "tags": [],
            "needs_background": "light"
          }
        }
      ]
    },
    {
      "cell_type": "markdown",
      "metadata": {
        "colab_type": "text",
        "id": "OrkHGKZcusUo"
      },
      "source": [
        "Seriously?"
      ]
    },
    {
      "cell_type": "code",
      "metadata": {
        "colab_type": "code",
        "id": "f-OHX4DiXd8x",
        "colab": {
          "base_uri": "https://localhost:8080/",
          "height": 279
        },
        "outputId": "4cdf7d65-3cc8-4be4-8f0a-6cbe84a2fc39"
      },
      "source": [
        "error = test_predictions - test_labels\n",
        "plt.hist(error, bins = 50)\n",
        "plt.xlabel(\"Prediction Error [volt]\")\n",
        "_ = plt.ylabel(\"Count\")\n",
        "plt.show()"
      ],
      "execution_count": 472,
      "outputs": [
        {
          "output_type": "display_data",
          "data": {
            "image/png": "[encoded data removed]",
            "text/plain": [
              "<Figure size 432x288 with 1 Axes>"
            ]
          },
          "metadata": {
            "tags": [],
            "needs_background": "light"
          }
        }
      ]
    },
    {
      "cell_type": "markdown",
      "metadata": {
        "id": "r-i0Bq5JF0nv",
        "colab_type": "text"
      },
      "source": [
        "# Saving the final Model"
      ]
    },
    {
      "cell_type": "markdown",
      "metadata": {
        "id": "G8FBhOnbGK65",
        "colab_type": "text"
      },
      "source": [
        "When you are satisfied with the model and the accuracy continue from here:"
      ]
    },
    {
      "cell_type": "markdown",
      "metadata": {
        "id": "TvCBPgR-gWXl",
        "colab_type": "text"
      },
      "source": [
        "Run the next code box only if google drive is not mounted to colab"
      ]
    },
    {
      "cell_type": "code",
      "metadata": {
        "id": "7dA-joJRPNiJ",
        "colab_type": "code",
        "colab": {
          "base_uri": "https://localhost:8080/",
          "height": 126
        },
        "outputId": "5a33d7b7-4973-42d9-cec2-2084ab5cc0b4"
      },
      "source": [
        "from google.colab import drive\n",
        "drive.mount('/content/drive')"
      ],
      "execution_count": 67,
      "outputs": [
        {
          "output_type": "stream",
          "text": [
            "Go to this URL in a browser: https://accounts.google.com/o/oauth2/auth?client_id=947318989803-6bn6qk8qdgf4n4g3pfee6491hc0brc4i.apps.googleusercontent.com&redirect_uri=urn%3aietf%3awg%3aoauth%3a2.0%3aoob&scope=email%20https%3a%2f%2fwww.googleapis.com%2fauth%2fdocs.test%20https%3a%2f%2fwww.googleapis.com%2fauth%2fdrive%20https%3a%2f%2fwww.googleapis.com%2fauth%2fdrive.photos.readonly%20https%3a%2f%2fwww.googleapis.com%2fauth%2fpeopleapi.readonly&response_type=code\n",
            "\n",
            "Enter your authorization code:\n",
            "··········\n",
            "Mounted at /content/drive\n"
          ],
          "name": "stdout"
        }
      ]
    },
    {
      "cell_type": "markdown",
      "metadata": {
        "id": "BspL3Z6-GPaa",
        "colab_type": "text"
      },
      "source": [
        "Saving the model in a **SavedModel** format"
      ]
    },
    {
      "cell_type": "code",
      "metadata": {
        "id": "VwWrwBcZGLnZ",
        "colab_type": "code",
        "colab": {}
      },
      "source": [
        "!pip install -q pyyaml h5py  # Required to save models in HDF5 format"
      ],
      "execution_count": null,
      "outputs": []
    },
    {
      "cell_type": "code",
      "metadata": {
        "id": "6BR7rbL5GXku",
        "colab_type": "code",
        "colab": {}
      },
      "source": [
        "import os"
      ],
      "execution_count": null,
      "outputs": []
    },
    {
      "cell_type": "code",
      "metadata": {
        "id": "MzumSsZfGYCp",
        "colab_type": "code",
        "colab": {}
      },
      "source": [
        "# Save the entire model as a SavedModel.\n",
        "filename=str('test_training_whole_drop_best.h5')\n",
        "!mkdir -p '/content/drive/My Drive/DropLev/MachineLearningModels' #Ceates a folder named \"MachineLearningModels\"\n",
        "model.save('/content/drive/My Drive/DropLev/MachineLearningModels/'+filename)  #Saves the file"
      ],
      "execution_count": 473,
      "outputs": []
    },
    {
      "cell_type": "markdown",
      "metadata": {
        "id": "oZcqRI0r9B4r",
        "colab_type": "text"
      },
      "source": [
        "# Reload a fresh Keras model from the saved model:"
      ]
    },
    {
      "cell_type": "markdown",
      "metadata": {
        "id": "W6mEqNn497op",
        "colab_type": "text"
      },
      "source": [
        "For **SavedModel** format"
      ]
    },
    {
      "cell_type": "code",
      "metadata": {
        "id": "c4vUC4ep8_VA",
        "colab_type": "code",
        "colab": {
          "base_uri": "https://localhost:8080/",
          "height": 266
        },
        "outputId": "d1824fe1-b463-4671-93b6-a504b8260e4c"
      },
      "source": [
        "new_model = tf.keras.models.load_model('/content/drive/My Drive/DropLev/MachineLearningModels/'+filename)\n",
        "\n",
        "# Check its architecture\n",
        "new_model.summary()"
      ],
      "execution_count": 399,
      "outputs": [
        {
          "output_type": "stream",
          "text": [
            "Model: \"sequential_42\"\n",
            "_________________________________________________________________\n",
            "Layer (type)                 Output Shape              Param #   \n",
            "=================================================================\n",
            "dense_127 (Dense)            (None, 20)                8020      \n",
            "_________________________________________________________________\n",
            "dense_128 (Dense)            (None, 50)                1050      \n",
            "_________________________________________________________________\n",
            "dense_129 (Dense)            (None, 1)                 51        \n",
            "=================================================================\n",
            "Total params: 9,121\n",
            "Trainable params: 9,121\n",
            "Non-trainable params: 0\n",
            "_________________________________________________________________\n"
          ],
          "name": "stdout"
        }
      ]
    },
    {
      "cell_type": "markdown",
      "metadata": {
        "id": "j1K6xGBg9K4A",
        "colab_type": "text"
      },
      "source": [
        "Evaluate the restored model:"
      ]
    },
    {
      "cell_type": "code",
      "metadata": {
        "id": "if5rjrz79NPI",
        "colab_type": "code",
        "colab": {
          "base_uri": "https://localhost:8080/",
          "height": 52
        },
        "outputId": "04cff2f7-8462-4e2b-cdb5-4ccab14d4a1e"
      },
      "source": [
        "# Evaluation\n",
        "loss, mae, mse = new_model.evaluate(normed_test_data, test_labels, verbose=0)\n",
        "print('Restored model, Mean absolute error: {:5.2f}'.format(mae))\n",
        "\n",
        "print(new_model.predict(normed_test_data).shape)"
      ],
      "execution_count": 322,
      "outputs": [
        {
          "output_type": "stream",
          "text": [
            "Restored model, Mean absolute error:  0.48\n",
            "(4000, 1)\n"
          ],
          "name": "stdout"
        }
      ]
    }
  ]
}