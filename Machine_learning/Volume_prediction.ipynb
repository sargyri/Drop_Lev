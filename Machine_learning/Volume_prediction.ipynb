{
  "nbformat": 4,
  "nbformat_minor": 0,
  "metadata": {
    "colab": {
      "name": "Volume_prediction.ipynb",
      "provenance": [],
      "collapsed_sections": [],
      "toc_visible": true,
      "authorship_tag": "ABX9TyM6Qa03xuPflzdr3Gnn4ujf",
      "include_colab_link": true
    },
    "kernelspec": {
      "name": "python3",
      "display_name": "Python 3"
    },
    "accelerator": "TPU"
  },
  "cells": [
    {
      "cell_type": "markdown",
      "metadata": {
        "id": "view-in-github",
        "colab_type": "text"
      },
      "source": [
        "<a href=\"https://colab.research.google.com/github/sargyri/Drop_Lev/blob/master/Machine_learning/Volume_prediction.ipynb\" target=\"_parent\"><img src=\"https://colab.research.google.com/assets/colab-badge.svg\" alt=\"Open In Colab\"/></a>"
      ]
    },
    {
      "cell_type": "markdown",
      "metadata": {
        "colab_type": "text",
        "id": "FhGuhbZ6M5tl"
      },
      "source": [
        "##### Copyright 2018 The TensorFlow Authors."
      ]
    },
    {
      "cell_type": "code",
      "metadata": {
        "cellView": "form",
        "colab_type": "code",
        "id": "AwOEIRJC6Une",
        "colab": {}
      },
      "source": [
        "#@title Licensed under the Apache License, Version 2.0 (the \"License\");\n",
        "# you may not use this file except in compliance with the License.\n",
        "# You may obtain a copy of the License at\n",
        "#\n",
        "# https://www.apache.org/licenses/LICENSE-2.0\n",
        "#\n",
        "# Unless required by applicable law or agreed to in writing, software\n",
        "# distributed under the License is distributed on an \"AS IS\" BASIS,\n",
        "# WITHOUT WARRANTIES OR CONDITIONS OF ANY KIND, either express or implied.\n",
        "# See the License for the specific language governing permissions and\n",
        "# limitations under the License."
      ],
      "execution_count": null,
      "outputs": []
    },
    {
      "cell_type": "code",
      "metadata": {
        "cellView": "form",
        "colab_type": "code",
        "id": "KyPEtTqk6VdG",
        "colab": {}
      },
      "source": [
        "#@title MIT License\n",
        "#\n",
        "# Copyright (c) 2017 François Chollet\n",
        "#\n",
        "# Permission is hereby granted, free of charge, to any person obtaining a\n",
        "# copy of this software and associated documentation files (the \"Software\"),\n",
        "# to deal in the Software without restriction, including without limitation\n",
        "# the rights to use, copy, modify, merge, publish, distribute, sublicense,\n",
        "# and/or sell copies of the Software, and to permit persons to whom the\n",
        "# Software is furnished to do so, subject to the following conditions:\n",
        "#\n",
        "# The above copyright notice and this permission notice shall be included in\n",
        "# all copies or substantial portions of the Software.\n",
        "#\n",
        "# THE SOFTWARE IS PROVIDED \"AS IS\", WITHOUT WARRANTY OF ANY KIND, EXPRESS OR\n",
        "# IMPLIED, INCLUDING BUT NOT LIMITED TO THE WARRANTIES OF MERCHANTABILITY,\n",
        "# FITNESS FOR A PARTICULAR PURPOSE AND NONINFRINGEMENT. IN NO EVENT SHALL\n",
        "# THE AUTHORS OR COPYRIGHT HOLDERS BE LIABLE FOR ANY CLAIM, DAMAGES OR OTHER\n",
        "# LIABILITY, WHETHER IN AN ACTION OF CONTRACT, TORT OR OTHERWISE, ARISING\n",
        "# FROM, OUT OF OR IN CONNECTION WITH THE SOFTWARE OR THE USE OR OTHER\n",
        "# DEALINGS IN THE SOFTWARE."
      ],
      "execution_count": null,
      "outputs": []
    },
    {
      "cell_type": "markdown",
      "metadata": {
        "colab_type": "text",
        "id": "EIdT9iu_Z4Rb"
      },
      "source": [
        "# Lev Droplet "
      ]
    },
    {
      "cell_type": "markdown",
      "metadata": {
        "colab_type": "text",
        "id": "bBIlTPscrIT9"
      },
      "source": [
        "<table class=\"tfo-notebook-buttons\" align=\"left\">\n",
        "  <td>\n",
        "    <a target=\"_blank\" href=\"https://www.tensorflow.org/tutorials/keras/basic_regression\"><img src=\"https://www.tensorflow.org/images/tf_logo_32px.png\" />View on TensorFlow.org</a>\n",
        "  </td>\n",
        "  <td>\n",
        "    <a target=\"_blank\" href=\"https://colab.research.google.com/github/tensorflow/docs/blob/r2.0rc/site/en/tutorials/keras/basic_regression.ipynb\"><img src=\"https://www.tensorflow.org/images/colab_logo_32px.png\" />Run in Google Colab</a>\n",
        "  </td>\n",
        "  <td>\n",
        "    <a target=\"_blank\" href=\"https://github.com/tensorflow/docs/blob/r2.0rc/site/en/tutorials/keras/basic_regression.ipynb\"><img src=\"https://www.tensorflow.org/images/GitHub-Mark-32px.png\" />View source on GitHub</a>\n",
        "  </td>\n",
        "</table>"
      ]
    },
    {
      "cell_type": "markdown",
      "metadata": {
        "colab_type": "text",
        "id": "AHp3M9ZmrIxj"
      },
      "source": [
        "NN for predicting volume and voltage from the coordinate in polar system"
      ]
    },
    {
      "cell_type": "code",
      "metadata": {
        "colab_type": "code",
        "id": "moB4tpEHxKB3",
        "colab": {}
      },
      "source": [
        "# Use seaborn for pairplot\n",
        "!pip install seaborn\n",
        "#!pip install talos"
      ],
      "execution_count": null,
      "outputs": []
    },
    {
      "cell_type": "code",
      "metadata": {
        "colab_type": "code",
        "id": "1rRo8oNqZ-Rj",
        "colab": {
          "base_uri": "https://localhost:8080/",
          "height": 137
        },
        "outputId": "33dc9223-fb8c-4320-e8dd-365bcbe41976"
      },
      "source": [
        "from __future__ import absolute_import, division, print_function, unicode_literals\n",
        "\n",
        "import pathlib\n",
        "import os\n",
        "import matplotlib.pyplot as plt\n",
        "import pandas as pd\n",
        "import seaborn as sns\n",
        "\n",
        "import pprint\n",
        "import tensorflow.compat.v1 as tf\n",
        "tf.disable_v2_behavior()\n",
        "\n",
        "from tensorflow import keras\n",
        "from tensorflow.keras import layers\n",
        "from tensorflow.keras.callbacks import ModelCheckpoint\n",
        "\n",
        "print(tf.__version__)"
      ],
      "execution_count": 1,
      "outputs": [
        {
          "output_type": "stream",
          "text": [
            "/usr/local/lib/python3.6/dist-packages/statsmodels/tools/_testing.py:19: FutureWarning: pandas.util.testing is deprecated. Use the functions in the public API at pandas.testing instead.\n",
            "  import pandas.util.testing as tm\n"
          ],
          "name": "stderr"
        },
        {
          "output_type": "stream",
          "text": [
            "WARNING:tensorflow:From /usr/local/lib/python3.6/dist-packages/tensorflow/python/compat/v2_compat.py:96: disable_resource_variables (from tensorflow.python.ops.variable_scope) is deprecated and will be removed in a future version.\n",
            "Instructions for updating:\n",
            "non-resource variables are not supported in the long term\n",
            "2.3.0\n"
          ],
          "name": "stdout"
        }
      ]
    },
    {
      "cell_type": "markdown",
      "metadata": {
        "id": "TvCBPgR-gWXl",
        "colab_type": "text"
      },
      "source": [
        "Run the next code box only if google drive is not mounted to colab"
      ]
    },
    {
      "cell_type": "code",
      "metadata": {
        "id": "7dA-joJRPNiJ",
        "colab_type": "code",
        "colab": {
          "base_uri": "https://localhost:8080/",
          "height": 120
        },
        "outputId": "cac856d4-2e14-4cca-cc06-17be23d9ba55"
      },
      "source": [
        "from google.colab import drive\n",
        "drive.mount('/content/drive')"
      ],
      "execution_count": 2,
      "outputs": [
        {
          "output_type": "stream",
          "text": [
            "Go to this URL in a browser: https://accounts.google.com/o/oauth2/auth?client_id=947318989803-6bn6qk8qdgf4n4g3pfee6491hc0brc4i.apps.googleusercontent.com&redirect_uri=urn%3aietf%3awg%3aoauth%3a2.0%3aoob&scope=email%20https%3a%2f%2fwww.googleapis.com%2fauth%2fdocs.test%20https%3a%2f%2fwww.googleapis.com%2fauth%2fdrive%20https%3a%2f%2fwww.googleapis.com%2fauth%2fdrive.photos.readonly%20https%3a%2f%2fwww.googleapis.com%2fauth%2fpeopleapi.readonly&response_type=code\n",
            "\n",
            "Enter your authorization code:\n",
            "··········\n",
            "Mounted at /content/drive\n"
          ],
          "name": "stdout"
        }
      ]
    },
    {
      "cell_type": "markdown",
      "metadata": {
        "id": "lMshRx3PgwcZ",
        "colab_type": "text"
      },
      "source": [
        "If it **is** mounted continue from here on"
      ]
    },
    {
      "cell_type": "code",
      "metadata": {
        "colab_type": "code",
        "id": "3IEVK-KFxi5Z",
        "colab": {
          "base_uri": "https://localhost:8080/",
          "height": 233
        },
        "outputId": "9cc356e8-8147-444c-c68b-b3d242a0979a"
      },
      "source": [
        "if 'COLAB_TPU_ADDR' not in os.environ:\n",
        "  print('ERROR: Not connected to a TPU runtime; please see the first cell in this notebook for instructions!')\n",
        "else:\n",
        "  tpu_address = 'grpc://' + os.environ['COLAB_TPU_ADDR']\n",
        "  print ('TPU address is', tpu_address)\n",
        "\n",
        "  with tf.Session(tpu_address) as session:\n",
        "    devices = session.list_devices()\n",
        "    \n",
        "  print('TPU devices:')\n",
        "  pprint.pprint(devices)"
      ],
      "execution_count": 3,
      "outputs": [
        {
          "output_type": "stream",
          "text": [
            "TPU address is grpc://10.104.26.130:8470\n",
            "TPU devices:\n",
            "[_DeviceAttributes(/job:tpu_worker/replica:0/task:0/device:CPU:0, CPU, -1, -593578334542965028),\n",
            " _DeviceAttributes(/job:tpu_worker/replica:0/task:0/device:XLA_CPU:0, XLA_CPU, 17179869184, -2481733934963897498),\n",
            " _DeviceAttributes(/job:tpu_worker/replica:0/task:0/device:TPU:0, TPU, 17179869184, 6736525171419960590),\n",
            " _DeviceAttributes(/job:tpu_worker/replica:0/task:0/device:TPU:1, TPU, 17179869184, 5517078634154039994),\n",
            " _DeviceAttributes(/job:tpu_worker/replica:0/task:0/device:TPU:2, TPU, 17179869184, 6153006742291094440),\n",
            " _DeviceAttributes(/job:tpu_worker/replica:0/task:0/device:TPU:3, TPU, 17179869184, -5991673125144865911),\n",
            " _DeviceAttributes(/job:tpu_worker/replica:0/task:0/device:TPU:4, TPU, 17179869184, 7360252825646945341),\n",
            " _DeviceAttributes(/job:tpu_worker/replica:0/task:0/device:TPU:5, TPU, 17179869184, -2741211048425086288),\n",
            " _DeviceAttributes(/job:tpu_worker/replica:0/task:0/device:TPU:6, TPU, 17179869184, 5088204268789846438),\n",
            " _DeviceAttributes(/job:tpu_worker/replica:0/task:0/device:TPU:7, TPU, 17179869184, -3316076142060724834),\n",
            " _DeviceAttributes(/job:tpu_worker/replica:0/task:0/device:TPU_SYSTEM:0, TPU_SYSTEM, 8589934592, 5695171016195312417)]\n"
          ],
          "name": "stdout"
        }
      ]
    },
    {
      "cell_type": "markdown",
      "metadata": {
        "colab_type": "text",
        "id": "gFh9ne3FZ-On"
      },
      "source": [
        "### Get the data\n",
        "First download the dataset!\n",
        "\n",
        "**Option 1**: Upload files"
      ]
    },
    {
      "cell_type": "code",
      "metadata": {
        "id": "K7-5GSURZTdh",
        "colab_type": "code",
        "colab": {}
      },
      "source": [
        "from google.colab import files\n",
        "uploaded = files.upload()"
      ],
      "execution_count": null,
      "outputs": []
    },
    {
      "cell_type": "code",
      "metadata": {
        "id": "l83INVYlZsND",
        "colab_type": "code",
        "colab": {}
      },
      "source": [
        "import io\n",
        "csvfilename=str('TritonX100_conci_0.0100_all.csv')\n",
        "input = pd.read_csv(io.BytesIO(uploaded[csvfilename]))\n",
        "#input = pd.read_csv(csvfilename, sep=\"\\t\")\n",
        "# Dataset is now stored in a Pandas Dataframe\n",
        "input.shape"
      ],
      "execution_count": null,
      "outputs": []
    },
    {
      "cell_type": "markdown",
      "metadata": {
        "id": "WCobdL9vDRXH",
        "colab_type": "text"
      },
      "source": [
        "**Option 2**: Import files from drive"
      ]
    },
    {
      "cell_type": "code",
      "metadata": {
        "id": "Z-NFT5ddEOdC",
        "colab_type": "code",
        "colab": {
          "base_uri": "https://localhost:8080/",
          "height": 33
        },
        "outputId": "fc881baf-2d35-4722-d60f-dc6927dbdc48"
      },
      "source": [
        "#From the drive folder that is mounted to collab go to the file that you are interested in, \n",
        "#right click and copy the path of the file. Paste it in csvfilename:\n",
        "import numpy as np\n",
        "file1=pd.read_csv(str('/content/drive/My Drive/DropLev/Levitator_2/Training/CTAB/CTAB_conci_0.00200_all.csv'), sep=\"\\t\")\n",
        "file2=pd.read_csv(str('/content/drive/My Drive/DropLev/Levitator_2/Training/CTAB/CTAB_conci_0.01500_all.csv'), sep=\"\\t\")\n",
        "file3=pd.read_csv(str('/content/drive/My Drive/DropLev/Levitator_2/Training/CTAB/CTAB_conci_0.10000_all.csv'), sep=\"\\t\")\n",
        "file4=pd.read_csv(str('/content/drive/My Drive/DropLev/Levitator_2/Training/CTAB/CTAB_conci_0.30000_all.csv'), sep=\"\\t\")\n",
        "file5=pd.read_csv(str('/content/drive/My Drive/DropLev/Levitator_2/Training/CTAB/CTAB_conci_0.60000_all.csv'), sep=\"\\t\")\n",
        "file6=pd.read_csv(str('/content/drive/My Drive/DropLev/Levitator_2/Training/CTAB/CTAB_conci_0.90000_all.csv'), sep=\"\\t\")\n",
        "\n",
        "input=np.vstack([file1, file2, file3, file4, file5, file6])\n",
        "\n",
        "input.shape\n",
        "#csvfilename=str('/content/drive/My Drive/DropLev/Levitator_2/Training/SDS/SDS_conci_1.50000_ML_data.csv')\n",
        "\n",
        "#input = pd.read_csv(csvfilename)\n"
      ],
      "execution_count": 4,
      "outputs": [
        {
          "output_type": "execute_result",
          "data": {
            "text/plain": [
              "(29956, 913)"
            ]
          },
          "metadata": {
            "tags": []
          },
          "execution_count": 4
        }
      ]
    },
    {
      "cell_type": "markdown",
      "metadata": {
        "colab_type": "text",
        "id": "nslsRLh7Zss4"
      },
      "source": [
        "Import it using pandas"
      ]
    },
    {
      "cell_type": "code",
      "metadata": {
        "colab_type": "code",
        "id": "CiX2FI4gZtTt",
        "colab": {
          "base_uri": "https://localhost:8080/",
          "height": 247
        },
        "outputId": "6084481f-84f0-4a92-8131-36f759c2a75e"
      },
      "source": [
        "column_names=[]\n",
        "\n",
        "for i in range(300):\n",
        "  column_names.append('rho_%d' %i)\n",
        "for i in range(300):\n",
        "  column_names.append('phi_%d' %i)\n",
        "for i in range(300):\n",
        "  column_names.append('theta_%d' %i)\n",
        "column_names.append('height')\n",
        "column_names.append('width')  \n",
        "column_names.append('volume')\n",
        "column_names.append('R_sph')\n",
        "column_names.append('volt')\n",
        "column_names.append('Intensity')\n",
        "column_names.append('time')\n",
        "column_names.append('Power')\n",
        "#column_names.append('Ps')\n",
        "#column_names.append('Ps_err')\n",
        "column_names.append('centre_x')\n",
        "column_names.append('centre_y')\n",
        "column_names.append('surfactant_conc')\n",
        "column_names.append('Aspect_Ratio')\n",
        "column_names.append('st')\n",
        "\n",
        "#raw_dataset = pd.read_csv(csvfilename, sep=\"\\t\")\n",
        "#raw_dataset.columns=column_names\n",
        "\n",
        "raw_dataset = pd.DataFrame(data=input,  columns=column_names) \n",
        "              \n",
        "raw_dataset.shape\n",
        "\n",
        "dataset = raw_dataset.copy()\n",
        "\n",
        "for i in range(300):\n",
        "  dataset.pop('theta_%d' %i)\n",
        "dataset.pop(\"height\")\n",
        "dataset.pop(\"width\")\n",
        "dataset.pop(\"R_sph\")\n",
        "dataset.pop('volt')\n",
        "dataset.pop('Intensity')\n",
        "dataset.pop('time')\n",
        "dataset.pop('Power')\n",
        "dataset.pop(\"centre_x\")\n",
        "dataset.pop(\"centre_y\")\n",
        "dataset.pop('surfactant_conc')\n",
        "dataset.pop(\"Aspect_Ratio\")\n",
        "dataset.pop('st')\n",
        "#dataset.pop('Ps')\n",
        "#dataset.pop('Ps_err')\n",
        "\n",
        "\n",
        "\n",
        "dataset.tail()"
      ],
      "execution_count": 47,
      "outputs": [
        {
          "output_type": "execute_result",
          "data": {
            "text/html": [
              "<div>\n",
              "<style scoped>\n",
              "    .dataframe tbody tr th:only-of-type {\n",
              "        vertical-align: middle;\n",
              "    }\n",
              "\n",
              "    .dataframe tbody tr th {\n",
              "        vertical-align: top;\n",
              "    }\n",
              "\n",
              "    .dataframe thead th {\n",
              "        text-align: right;\n",
              "    }\n",
              "</style>\n",
              "<table border=\"1\" class=\"dataframe\">\n",
              "  <thead>\n",
              "    <tr style=\"text-align: right;\">\n",
              "      <th></th>\n",
              "      <th>rho_0</th>\n",
              "      <th>rho_1</th>\n",
              "      <th>rho_2</th>\n",
              "      <th>rho_3</th>\n",
              "      <th>rho_4</th>\n",
              "      <th>rho_5</th>\n",
              "      <th>rho_6</th>\n",
              "      <th>rho_7</th>\n",
              "      <th>rho_8</th>\n",
              "      <th>rho_9</th>\n",
              "      <th>rho_10</th>\n",
              "      <th>rho_11</th>\n",
              "      <th>rho_12</th>\n",
              "      <th>rho_13</th>\n",
              "      <th>rho_14</th>\n",
              "      <th>rho_15</th>\n",
              "      <th>rho_16</th>\n",
              "      <th>rho_17</th>\n",
              "      <th>rho_18</th>\n",
              "      <th>rho_19</th>\n",
              "      <th>rho_20</th>\n",
              "      <th>rho_21</th>\n",
              "      <th>rho_22</th>\n",
              "      <th>rho_23</th>\n",
              "      <th>rho_24</th>\n",
              "      <th>rho_25</th>\n",
              "      <th>rho_26</th>\n",
              "      <th>rho_27</th>\n",
              "      <th>rho_28</th>\n",
              "      <th>rho_29</th>\n",
              "      <th>rho_30</th>\n",
              "      <th>rho_31</th>\n",
              "      <th>rho_32</th>\n",
              "      <th>rho_33</th>\n",
              "      <th>rho_34</th>\n",
              "      <th>rho_35</th>\n",
              "      <th>rho_36</th>\n",
              "      <th>rho_37</th>\n",
              "      <th>rho_38</th>\n",
              "      <th>rho_39</th>\n",
              "      <th>...</th>\n",
              "      <th>phi_261</th>\n",
              "      <th>phi_262</th>\n",
              "      <th>phi_263</th>\n",
              "      <th>phi_264</th>\n",
              "      <th>phi_265</th>\n",
              "      <th>phi_266</th>\n",
              "      <th>phi_267</th>\n",
              "      <th>phi_268</th>\n",
              "      <th>phi_269</th>\n",
              "      <th>phi_270</th>\n",
              "      <th>phi_271</th>\n",
              "      <th>phi_272</th>\n",
              "      <th>phi_273</th>\n",
              "      <th>phi_274</th>\n",
              "      <th>phi_275</th>\n",
              "      <th>phi_276</th>\n",
              "      <th>phi_277</th>\n",
              "      <th>phi_278</th>\n",
              "      <th>phi_279</th>\n",
              "      <th>phi_280</th>\n",
              "      <th>phi_281</th>\n",
              "      <th>phi_282</th>\n",
              "      <th>phi_283</th>\n",
              "      <th>phi_284</th>\n",
              "      <th>phi_285</th>\n",
              "      <th>phi_286</th>\n",
              "      <th>phi_287</th>\n",
              "      <th>phi_288</th>\n",
              "      <th>phi_289</th>\n",
              "      <th>phi_290</th>\n",
              "      <th>phi_291</th>\n",
              "      <th>phi_292</th>\n",
              "      <th>phi_293</th>\n",
              "      <th>phi_294</th>\n",
              "      <th>phi_295</th>\n",
              "      <th>phi_296</th>\n",
              "      <th>phi_297</th>\n",
              "      <th>phi_298</th>\n",
              "      <th>phi_299</th>\n",
              "      <th>volume</th>\n",
              "    </tr>\n",
              "  </thead>\n",
              "  <tbody>\n",
              "    <tr>\n",
              "      <th>29951</th>\n",
              "      <td>0.012854</td>\n",
              "      <td>0.012776</td>\n",
              "      <td>0.012840</td>\n",
              "      <td>0.012684</td>\n",
              "      <td>0.012873</td>\n",
              "      <td>0.012716</td>\n",
              "      <td>0.012983</td>\n",
              "      <td>0.012671</td>\n",
              "      <td>0.012593</td>\n",
              "      <td>0.012515</td>\n",
              "      <td>0.012469</td>\n",
              "      <td>0.012501</td>\n",
              "      <td>0.012534</td>\n",
              "      <td>0.013196</td>\n",
              "      <td>0.013150</td>\n",
              "      <td>0.013182</td>\n",
              "      <td>0.012305</td>\n",
              "      <td>0.013215</td>\n",
              "      <td>0.012337</td>\n",
              "      <td>0.012291</td>\n",
              "      <td>0.012246</td>\n",
              "      <td>0.012061</td>\n",
              "      <td>0.013490</td>\n",
              "      <td>0.011956</td>\n",
              "      <td>0.011942</td>\n",
              "      <td>0.011975</td>\n",
              "      <td>0.011916</td>\n",
              "      <td>0.013650</td>\n",
              "      <td>0.011889</td>\n",
              "      <td>0.013669</td>\n",
              "      <td>0.011830</td>\n",
              "      <td>0.013707</td>\n",
              "      <td>0.011790</td>\n",
              "      <td>0.013796</td>\n",
              "      <td>0.011750</td>\n",
              "      <td>0.011704</td>\n",
              "      <td>0.011691</td>\n",
              "      <td>0.013859</td>\n",
              "      <td>0.011637</td>\n",
              "      <td>0.011624</td>\n",
              "      <td>...</td>\n",
              "      <td>3.895662</td>\n",
              "      <td>3.895721</td>\n",
              "      <td>3.896156</td>\n",
              "      <td>3.896206</td>\n",
              "      <td>3.896697</td>\n",
              "      <td>3.899220</td>\n",
              "      <td>3.899767</td>\n",
              "      <td>3.900681</td>\n",
              "      <td>3.900730</td>\n",
              "      <td>3.901482</td>\n",
              "      <td>3.902203</td>\n",
              "      <td>3.902243</td>\n",
              "      <td>3.902742</td>\n",
              "      <td>3.903009</td>\n",
              "      <td>3.903739</td>\n",
              "      <td>3.904551</td>\n",
              "      <td>3.905328</td>\n",
              "      <td>3.906038</td>\n",
              "      <td>3.906810</td>\n",
              "      <td>3.906825</td>\n",
              "      <td>3.906859</td>\n",
              "      <td>3.907745</td>\n",
              "      <td>3.908380</td>\n",
              "      <td>3.908745</td>\n",
              "      <td>3.908778</td>\n",
              "      <td>3.909151</td>\n",
              "      <td>3.909869</td>\n",
              "      <td>3.910599</td>\n",
              "      <td>3.910776</td>\n",
              "      <td>3.910834</td>\n",
              "      <td>3.910892</td>\n",
              "      <td>3.910921</td>\n",
              "      <td>3.910949</td>\n",
              "      <td>3.911421</td>\n",
              "      <td>3.911448</td>\n",
              "      <td>3.911934</td>\n",
              "      <td>3.911961</td>\n",
              "      <td>3.912014</td>\n",
              "      <td>3.912040</td>\n",
              "      <td>1.276124</td>\n",
              "    </tr>\n",
              "    <tr>\n",
              "      <th>29952</th>\n",
              "      <td>0.012937</td>\n",
              "      <td>0.012970</td>\n",
              "      <td>0.013034</td>\n",
              "      <td>0.012690</td>\n",
              "      <td>0.012722</td>\n",
              "      <td>0.012832</td>\n",
              "      <td>0.013021</td>\n",
              "      <td>0.012676</td>\n",
              "      <td>0.012787</td>\n",
              "      <td>0.012630</td>\n",
              "      <td>0.013150</td>\n",
              "      <td>0.012493</td>\n",
              "      <td>0.012448</td>\n",
              "      <td>0.013266</td>\n",
              "      <td>0.012466</td>\n",
              "      <td>0.013298</td>\n",
              "      <td>0.012421</td>\n",
              "      <td>0.013331</td>\n",
              "      <td>0.013363</td>\n",
              "      <td>0.012407</td>\n",
              "      <td>0.013317</td>\n",
              "      <td>0.013350</td>\n",
              "      <td>0.012362</td>\n",
              "      <td>0.013382</td>\n",
              "      <td>0.013401</td>\n",
              "      <td>0.013466</td>\n",
              "      <td>0.012289</td>\n",
              "      <td>0.013452</td>\n",
              "      <td>0.012198</td>\n",
              "      <td>0.012217</td>\n",
              "      <td>0.012125</td>\n",
              "      <td>0.012112</td>\n",
              "      <td>0.013606</td>\n",
              "      <td>0.013644</td>\n",
              "      <td>0.013663</td>\n",
              "      <td>0.011900</td>\n",
              "      <td>0.011933</td>\n",
              "      <td>0.013842</td>\n",
              "      <td>0.011860</td>\n",
              "      <td>0.013880</td>\n",
              "      <td>...</td>\n",
              "      <td>3.891292</td>\n",
              "      <td>3.891749</td>\n",
              "      <td>3.893296</td>\n",
              "      <td>3.893965</td>\n",
              "      <td>3.894018</td>\n",
              "      <td>3.895285</td>\n",
              "      <td>3.895344</td>\n",
              "      <td>3.896943</td>\n",
              "      <td>3.898268</td>\n",
              "      <td>3.898374</td>\n",
              "      <td>3.899175</td>\n",
              "      <td>3.899220</td>\n",
              "      <td>3.899926</td>\n",
              "      <td>3.900681</td>\n",
              "      <td>3.900724</td>\n",
              "      <td>3.902203</td>\n",
              "      <td>3.902383</td>\n",
              "      <td>3.902969</td>\n",
              "      <td>3.903316</td>\n",
              "      <td>3.903662</td>\n",
              "      <td>3.904329</td>\n",
              "      <td>3.904370</td>\n",
              "      <td>3.904438</td>\n",
              "      <td>3.904476</td>\n",
              "      <td>3.905450</td>\n",
              "      <td>3.905968</td>\n",
              "      <td>3.906403</td>\n",
              "      <td>3.906476</td>\n",
              "      <td>3.906723</td>\n",
              "      <td>3.907420</td>\n",
              "      <td>3.907452</td>\n",
              "      <td>3.907455</td>\n",
              "      <td>3.907490</td>\n",
              "      <td>3.908060</td>\n",
              "      <td>3.908093</td>\n",
              "      <td>3.908491</td>\n",
              "      <td>3.908523</td>\n",
              "      <td>3.908588</td>\n",
              "      <td>3.908620</td>\n",
              "      <td>1.265280</td>\n",
              "    </tr>\n",
              "    <tr>\n",
              "      <th>29953</th>\n",
              "      <td>0.012991</td>\n",
              "      <td>0.012913</td>\n",
              "      <td>0.013055</td>\n",
              "      <td>0.012853</td>\n",
              "      <td>0.012697</td>\n",
              "      <td>0.013120</td>\n",
              "      <td>0.012684</td>\n",
              "      <td>0.013263</td>\n",
              "      <td>0.012716</td>\n",
              "      <td>0.012638</td>\n",
              "      <td>0.013314</td>\n",
              "      <td>0.013346</td>\n",
              "      <td>0.013378</td>\n",
              "      <td>0.012520</td>\n",
              "      <td>0.013411</td>\n",
              "      <td>0.013365</td>\n",
              "      <td>0.013397</td>\n",
              "      <td>0.012428</td>\n",
              "      <td>0.013430</td>\n",
              "      <td>0.012460</td>\n",
              "      <td>0.012493</td>\n",
              "      <td>0.012447</td>\n",
              "      <td>0.013481</td>\n",
              "      <td>0.012356</td>\n",
              "      <td>0.012388</td>\n",
              "      <td>0.013564</td>\n",
              "      <td>0.013667</td>\n",
              "      <td>0.012243</td>\n",
              "      <td>0.012229</td>\n",
              "      <td>0.012216</td>\n",
              "      <td>0.012157</td>\n",
              "      <td>0.012143</td>\n",
              "      <td>0.012071</td>\n",
              "      <td>0.013850</td>\n",
              "      <td>0.013883</td>\n",
              "      <td>0.012017</td>\n",
              "      <td>0.011971</td>\n",
              "      <td>0.011990</td>\n",
              "      <td>0.011931</td>\n",
              "      <td>0.013977</td>\n",
              "      <td>...</td>\n",
              "      <td>3.880698</td>\n",
              "      <td>3.880728</td>\n",
              "      <td>3.880813</td>\n",
              "      <td>3.881777</td>\n",
              "      <td>3.882772</td>\n",
              "      <td>3.882843</td>\n",
              "      <td>3.883470</td>\n",
              "      <td>3.884171</td>\n",
              "      <td>3.884240</td>\n",
              "      <td>3.884891</td>\n",
              "      <td>3.884968</td>\n",
              "      <td>3.885585</td>\n",
              "      <td>3.886297</td>\n",
              "      <td>3.887012</td>\n",
              "      <td>3.887667</td>\n",
              "      <td>3.887731</td>\n",
              "      <td>3.888026</td>\n",
              "      <td>3.888454</td>\n",
              "      <td>3.889849</td>\n",
              "      <td>3.890302</td>\n",
              "      <td>3.890523</td>\n",
              "      <td>3.891228</td>\n",
              "      <td>3.891292</td>\n",
              "      <td>3.891482</td>\n",
              "      <td>3.891947</td>\n",
              "      <td>3.892005</td>\n",
              "      <td>3.892399</td>\n",
              "      <td>3.892464</td>\n",
              "      <td>3.892522</td>\n",
              "      <td>3.893553</td>\n",
              "      <td>3.893670</td>\n",
              "      <td>3.893786</td>\n",
              "      <td>3.893902</td>\n",
              "      <td>3.893959</td>\n",
              "      <td>3.894017</td>\n",
              "      <td>3.894244</td>\n",
              "      <td>3.894300</td>\n",
              "      <td>3.894412</td>\n",
              "      <td>3.894468</td>\n",
              "      <td>1.244427</td>\n",
              "    </tr>\n",
              "    <tr>\n",
              "      <th>29954</th>\n",
              "      <td>0.013090</td>\n",
              "      <td>0.012934</td>\n",
              "      <td>0.013155</td>\n",
              "      <td>0.012921</td>\n",
              "      <td>0.012953</td>\n",
              "      <td>0.012875</td>\n",
              "      <td>0.012719</td>\n",
              "      <td>0.012751</td>\n",
              "      <td>0.012673</td>\n",
              "      <td>0.013239</td>\n",
              "      <td>0.012660</td>\n",
              "      <td>0.012692</td>\n",
              "      <td>0.012614</td>\n",
              "      <td>0.013303</td>\n",
              "      <td>0.013368</td>\n",
              "      <td>0.012587</td>\n",
              "      <td>0.012482</td>\n",
              "      <td>0.012469</td>\n",
              "      <td>0.012423</td>\n",
              "      <td>0.012455</td>\n",
              "      <td>0.012377</td>\n",
              "      <td>0.013521</td>\n",
              "      <td>0.012396</td>\n",
              "      <td>0.013573</td>\n",
              "      <td>0.013605</td>\n",
              "      <td>0.012305</td>\n",
              "      <td>0.013637</td>\n",
              "      <td>0.013624</td>\n",
              "      <td>0.013656</td>\n",
              "      <td>0.013689</td>\n",
              "      <td>0.013675</td>\n",
              "      <td>0.012219</td>\n",
              "      <td>0.012206</td>\n",
              "      <td>0.013745</td>\n",
              "      <td>0.012165</td>\n",
              "      <td>0.012120</td>\n",
              "      <td>0.013835</td>\n",
              "      <td>0.013943</td>\n",
              "      <td>0.014133</td>\n",
              "      <td>0.011774</td>\n",
              "      <td>...</td>\n",
              "      <td>3.882576</td>\n",
              "      <td>3.883620</td>\n",
              "      <td>3.883818</td>\n",
              "      <td>3.884582</td>\n",
              "      <td>3.885984</td>\n",
              "      <td>3.886690</td>\n",
              "      <td>3.886755</td>\n",
              "      <td>3.887742</td>\n",
              "      <td>3.887813</td>\n",
              "      <td>3.888758</td>\n",
              "      <td>3.888829</td>\n",
              "      <td>3.889837</td>\n",
              "      <td>3.889904</td>\n",
              "      <td>3.891000</td>\n",
              "      <td>3.891059</td>\n",
              "      <td>3.891673</td>\n",
              "      <td>3.891731</td>\n",
              "      <td>3.891965</td>\n",
              "      <td>3.892465</td>\n",
              "      <td>3.892954</td>\n",
              "      <td>3.893091</td>\n",
              "      <td>3.893835</td>\n",
              "      <td>3.893938</td>\n",
              "      <td>3.894055</td>\n",
              "      <td>3.894114</td>\n",
              "      <td>3.894475</td>\n",
              "      <td>3.895030</td>\n",
              "      <td>3.895229</td>\n",
              "      <td>3.895282</td>\n",
              "      <td>3.895830</td>\n",
              "      <td>3.896109</td>\n",
              "      <td>3.896164</td>\n",
              "      <td>3.896272</td>\n",
              "      <td>3.896326</td>\n",
              "      <td>3.896543</td>\n",
              "      <td>3.896905</td>\n",
              "      <td>3.897162</td>\n",
              "      <td>3.897212</td>\n",
              "      <td>3.897739</td>\n",
              "      <td>1.237624</td>\n",
              "    </tr>\n",
              "    <tr>\n",
              "      <th>29955</th>\n",
              "      <td>0.012867</td>\n",
              "      <td>0.013088</td>\n",
              "      <td>0.012853</td>\n",
              "      <td>0.012619</td>\n",
              "      <td>0.012886</td>\n",
              "      <td>0.012808</td>\n",
              "      <td>0.012652</td>\n",
              "      <td>0.012684</td>\n",
              "      <td>0.012606</td>\n",
              "      <td>0.013028</td>\n",
              "      <td>0.012592</td>\n",
              "      <td>0.012514</td>\n",
              "      <td>0.013171</td>\n",
              "      <td>0.012547</td>\n",
              "      <td>0.013236</td>\n",
              "      <td>0.012364</td>\n",
              "      <td>0.012396</td>\n",
              "      <td>0.012382</td>\n",
              "      <td>0.012304</td>\n",
              "      <td>0.013306</td>\n",
              "      <td>0.012291</td>\n",
              "      <td>0.013454</td>\n",
              "      <td>0.012218</td>\n",
              "      <td>0.012159</td>\n",
              "      <td>0.012132</td>\n",
              "      <td>0.013510</td>\n",
              "      <td>0.013543</td>\n",
              "      <td>0.012119</td>\n",
              "      <td>0.012073</td>\n",
              "      <td>0.013562</td>\n",
              "      <td>0.013594</td>\n",
              "      <td>0.013581</td>\n",
              "      <td>0.013613</td>\n",
              "      <td>0.012033</td>\n",
              "      <td>0.013632</td>\n",
              "      <td>0.013683</td>\n",
              "      <td>0.013778</td>\n",
              "      <td>0.013886</td>\n",
              "      <td>0.011714</td>\n",
              "      <td>0.011687</td>\n",
              "      <td>...</td>\n",
              "      <td>3.883259</td>\n",
              "      <td>3.883329</td>\n",
              "      <td>3.885450</td>\n",
              "      <td>3.885517</td>\n",
              "      <td>3.885969</td>\n",
              "      <td>3.886045</td>\n",
              "      <td>3.886121</td>\n",
              "      <td>3.886881</td>\n",
              "      <td>3.887602</td>\n",
              "      <td>3.887667</td>\n",
              "      <td>3.888122</td>\n",
              "      <td>3.888193</td>\n",
              "      <td>3.889787</td>\n",
              "      <td>3.890310</td>\n",
              "      <td>3.891203</td>\n",
              "      <td>3.891324</td>\n",
              "      <td>3.891888</td>\n",
              "      <td>3.892005</td>\n",
              "      <td>3.892333</td>\n",
              "      <td>3.892459</td>\n",
              "      <td>3.892637</td>\n",
              "      <td>3.892695</td>\n",
              "      <td>3.893398</td>\n",
              "      <td>3.893459</td>\n",
              "      <td>3.894036</td>\n",
              "      <td>3.894147</td>\n",
              "      <td>3.894570</td>\n",
              "      <td>3.894628</td>\n",
              "      <td>3.895458</td>\n",
              "      <td>3.895512</td>\n",
              "      <td>3.895565</td>\n",
              "      <td>3.895611</td>\n",
              "      <td>3.895667</td>\n",
              "      <td>3.896073</td>\n",
              "      <td>3.896592</td>\n",
              "      <td>3.896802</td>\n",
              "      <td>3.897123</td>\n",
              "      <td>3.897175</td>\n",
              "      <td>3.897434</td>\n",
              "      <td>1.241945</td>\n",
              "    </tr>\n",
              "  </tbody>\n",
              "</table>\n",
              "<p>5 rows × 601 columns</p>\n",
              "</div>"
            ],
            "text/plain": [
              "          rho_0     rho_1     rho_2  ...   phi_298   phi_299    volume\n",
              "29951  0.012854  0.012776  0.012840  ...  3.912014  3.912040  1.276124\n",
              "29952  0.012937  0.012970  0.013034  ...  3.908588  3.908620  1.265280\n",
              "29953  0.012991  0.012913  0.013055  ...  3.894412  3.894468  1.244427\n",
              "29954  0.013090  0.012934  0.013155  ...  3.897212  3.897739  1.237624\n",
              "29955  0.012867  0.013088  0.012853  ...  3.897175  3.897434  1.241945\n",
              "\n",
              "[5 rows x 601 columns]"
            ]
          },
          "metadata": {
            "tags": []
          },
          "execution_count": 47
        }
      ]
    },
    {
      "cell_type": "code",
      "metadata": {
        "id": "aTt84LyOh5C3",
        "colab_type": "code",
        "colab": {}
      },
      "source": [
        "def pol2cart(rho, phi):\n",
        "    x = rho * np.cos(phi)\n",
        "    y = rho * np.sin(phi)\n",
        "    return(x, y)"
      ],
      "execution_count": 70,
      "outputs": []
    },
    {
      "cell_type": "code",
      "metadata": {
        "id": "UTBCyX580tv6",
        "colab_type": "code",
        "colab": {
          "base_uri": "https://localhost:8080/",
          "height": 33
        },
        "outputId": "15cd4967-62e6-4a77-ce95-8c580b882a00"
      },
      "source": [
        "rho.shape"
      ],
      "execution_count": 58,
      "outputs": [
        {
          "output_type": "execute_result",
          "data": {
            "text/plain": [
              "(300,)"
            ]
          },
          "metadata": {
            "tags": []
          },
          "execution_count": 58
        }
      ]
    },
    {
      "cell_type": "code",
      "metadata": {
        "id": "pYqxmm_8h60D",
        "colab_type": "code",
        "colab": {
          "base_uri": "https://localhost:8080/",
          "height": 282
        },
        "outputId": "146bf4e5-eb9b-4a3d-83e5-15b525cf5c7d"
      },
      "source": [
        "x_all=[]\n",
        "y_all=[]\n",
        "\n",
        "rho=dataset.iloc[0, 0:300]/0.0038073394495412843\n",
        "phi=dataset.iloc[0, 300:600]\n",
        "\n",
        "for i in range(len(rho)):\n",
        "    [x, y] = pol2cart(rho[i], phi[i])\n",
        "\n",
        "    x_all.append(x)\n",
        "    y_all.append(y)\n",
        "\n",
        "x_all=np.asarray(x_all, dtype=float)\n",
        "y_all=np.asarray(y_all, dtype=float)\n",
        "\n",
        "keyy= lambda order:order[0]       #Key used to sort the coordinates\n",
        "xy=sorted(coord_new, key = keyy)\n",
        "\n",
        "plt.figure()\n",
        "plt.scatter(x_all, y_all)"
      ],
      "execution_count": 69,
      "outputs": [
        {
          "output_type": "execute_result",
          "data": {
            "text/plain": [
              "<matplotlib.collections.PathCollection at 0x7efe87d16e10>"
            ]
          },
          "metadata": {
            "tags": []
          },
          "execution_count": 69
        },
        {
          "output_type": "display_data",
          "data": {
            "image/png": "[encoded data removed]",
            "text/plain": [
              "<Figure size 432x288 with 1 Axes>"
            ]
          },
          "metadata": {
            "tags": [],
            "needs_background": "light"
          }
        }
      ]
    },
    {
      "cell_type": "code",
      "metadata": {
        "id": "SqNMY_CNz3uc",
        "colab_type": "code",
        "colab": {
          "base_uri": "https://localhost:8080/",
          "height": 282
        },
        "outputId": "43945c07-57c8-48ca-b93b-c5fe59cb8d6c"
      },
      "source": [
        "plt.figure()\n",
        "plt.plot(x, y)"
      ],
      "execution_count": 50,
      "outputs": [
        {
          "output_type": "execute_result",
          "data": {
            "text/plain": [
              "[<matplotlib.lines.Line2D at 0x7efe882d3f28>]"
            ]
          },
          "metadata": {
            "tags": []
          },
          "execution_count": 50
        },
        {
          "output_type": "display_data",
          "data": {
            "image/png": "[encoded data removed]",
            "text/plain": [
              "<Figure size 432x288 with 1 Axes>"
            ]
          },
          "metadata": {
            "tags": [],
            "needs_background": "light"
          }
        }
      ]
    },
    {
      "cell_type": "code",
      "metadata": {
        "id": "LkrRiM2rI2cX",
        "colab_type": "code",
        "colab": {
          "base_uri": "https://localhost:8080/",
          "height": 530
        },
        "outputId": "740dcb33-2ba2-403c-9b59-9d06abf2a14b"
      },
      "source": [
        "rho=dataset.iloc[0, 0:300]/0.0038073394495412843\n",
        "phi=dataset.iloc[0, 300:600]\n",
        "vol=dataset.iloc[:, 600]\n",
        "plt.figure()\n",
        "#plt.gca().set_aspect('equal', 'box')\n",
        "plt.scatter(phi, rho)\n",
        "#plt.xlim(0, 0.2)\n",
        "#plt.ylim(3, 4)\n",
        "\n",
        "plt.figure()\n",
        "plt.plot(vol)\n"
      ],
      "execution_count": 52,
      "outputs": [
        {
          "output_type": "execute_result",
          "data": {
            "text/plain": [
              "[<matplotlib.lines.Line2D at 0x7efe888984e0>]"
            ]
          },
          "metadata": {
            "tags": []
          },
          "execution_count": 52
        },
        {
          "output_type": "display_data",
          "data": {
            "image/png": "[encoded data removed]",
            "text/plain": [
              "<Figure size 432x288 with 1 Axes>"
            ]
          },
          "metadata": {
            "tags": [],
            "needs_background": "light"
          }
        },
        {
          "output_type": "display_data",
          "data": {
            "image/png": "[encoded data removed]",
            "text/plain": [
              "<Figure size 432x288 with 1 Axes>"
            ]
          },
          "metadata": {
            "tags": [],
            "needs_background": "light"
          }
        }
      ]
    },
    {
      "cell_type": "markdown",
      "metadata": {
        "colab_type": "text",
        "id": "Cuym4yvk76vU"
      },
      "source": [
        "### Split the data into train and test\n",
        "\n",
        "Now split the dataset into a training set and a test set.\n",
        "\n",
        "We will use the test set in the final evaluation of our model."
      ]
    },
    {
      "cell_type": "code",
      "metadata": {
        "colab_type": "code",
        "id": "qn-IGhUE7_1H",
        "colab": {}
      },
      "source": [
        "train_dataset = dataset.sample(frac=0.8,random_state=0)\n",
        "test_dataset = dataset.drop(train_dataset.index)"
      ],
      "execution_count": null,
      "outputs": []
    },
    {
      "cell_type": "markdown",
      "metadata": {
        "colab_type": "text",
        "id": "J4ubs136WLNp"
      },
      "source": [
        "### Inspect the data\n",
        "\n",
        "Have a quick look at the joint distribution of a few pairs of columns from the training set."
      ]
    },
    {
      "cell_type": "code",
      "metadata": {
        "colab_type": "code",
        "id": "oRKO_x8gWKv-",
        "colab": {}
      },
      "source": [
        "#sns.pairplot(train_dataset[column_names], diag_kind=\"kde\")\n",
        "#plt.show()"
      ],
      "execution_count": null,
      "outputs": []
    },
    {
      "cell_type": "code",
      "metadata": {
        "colab_type": "code",
        "id": "yi2FzC3T21jR",
        "colab": {
          "base_uri": "https://localhost:8080/",
          "height": 407
        },
        "outputId": "2fac4578-48cf-4ddc-8ec8-9c51a3c5c694"
      },
      "source": [
        "train_stats = train_dataset.describe()\n",
        "train_stats.pop('volume')\n",
        "train_stats = train_stats.transpose()\n",
        "train_stats"
      ],
      "execution_count": null,
      "outputs": [
        {
          "output_type": "execute_result",
          "data": {
            "text/html": [
              "<div>\n",
              "<style scoped>\n",
              "    .dataframe tbody tr th:only-of-type {\n",
              "        vertical-align: middle;\n",
              "    }\n",
              "\n",
              "    .dataframe tbody tr th {\n",
              "        vertical-align: top;\n",
              "    }\n",
              "\n",
              "    .dataframe thead th {\n",
              "        text-align: right;\n",
              "    }\n",
              "</style>\n",
              "<table border=\"1\" class=\"dataframe\">\n",
              "  <thead>\n",
              "    <tr style=\"text-align: right;\">\n",
              "      <th></th>\n",
              "      <th>count</th>\n",
              "      <th>mean</th>\n",
              "      <th>std</th>\n",
              "      <th>min</th>\n",
              "      <th>25%</th>\n",
              "      <th>50%</th>\n",
              "      <th>75%</th>\n",
              "      <th>max</th>\n",
              "    </tr>\n",
              "  </thead>\n",
              "  <tbody>\n",
              "    <tr>\n",
              "      <th>rho_0</th>\n",
              "      <td>23965.0</td>\n",
              "      <td>0.012869</td>\n",
              "      <td>0.000413</td>\n",
              "      <td>0.011693</td>\n",
              "      <td>0.012514</td>\n",
              "      <td>0.012892</td>\n",
              "      <td>0.013193</td>\n",
              "      <td>0.014135</td>\n",
              "    </tr>\n",
              "    <tr>\n",
              "      <th>rho_1</th>\n",
              "      <td>23965.0</td>\n",
              "      <td>0.012867</td>\n",
              "      <td>0.000418</td>\n",
              "      <td>0.011733</td>\n",
              "      <td>0.012517</td>\n",
              "      <td>0.012880</td>\n",
              "      <td>0.013194</td>\n",
              "      <td>0.014140</td>\n",
              "    </tr>\n",
              "    <tr>\n",
              "      <th>rho_2</th>\n",
              "      <td>23965.0</td>\n",
              "      <td>0.012867</td>\n",
              "      <td>0.000426</td>\n",
              "      <td>0.011776</td>\n",
              "      <td>0.012522</td>\n",
              "      <td>0.012878</td>\n",
              "      <td>0.013189</td>\n",
              "      <td>0.014311</td>\n",
              "    </tr>\n",
              "    <tr>\n",
              "      <th>rho_3</th>\n",
              "      <td>23965.0</td>\n",
              "      <td>0.012867</td>\n",
              "      <td>0.000432</td>\n",
              "      <td>0.011719</td>\n",
              "      <td>0.012527</td>\n",
              "      <td>0.012878</td>\n",
              "      <td>0.013199</td>\n",
              "      <td>0.014160</td>\n",
              "    </tr>\n",
              "    <tr>\n",
              "      <th>rho_4</th>\n",
              "      <td>23965.0</td>\n",
              "      <td>0.012865</td>\n",
              "      <td>0.000439</td>\n",
              "      <td>0.011714</td>\n",
              "      <td>0.012526</td>\n",
              "      <td>0.012870</td>\n",
              "      <td>0.013195</td>\n",
              "      <td>0.014270</td>\n",
              "    </tr>\n",
              "    <tr>\n",
              "      <th>...</th>\n",
              "      <td>...</td>\n",
              "      <td>...</td>\n",
              "      <td>...</td>\n",
              "      <td>...</td>\n",
              "      <td>...</td>\n",
              "      <td>...</td>\n",
              "      <td>...</td>\n",
              "      <td>...</td>\n",
              "    </tr>\n",
              "    <tr>\n",
              "      <th>phi_295</th>\n",
              "      <td>23965.0</td>\n",
              "      <td>3.993830</td>\n",
              "      <td>0.046553</td>\n",
              "      <td>3.854483</td>\n",
              "      <td>3.958173</td>\n",
              "      <td>3.999779</td>\n",
              "      <td>4.030631</td>\n",
              "      <td>4.109067</td>\n",
              "    </tr>\n",
              "    <tr>\n",
              "      <th>phi_296</th>\n",
              "      <td>23965.0</td>\n",
              "      <td>3.994003</td>\n",
              "      <td>0.046547</td>\n",
              "      <td>3.854530</td>\n",
              "      <td>3.958346</td>\n",
              "      <td>3.999942</td>\n",
              "      <td>4.030783</td>\n",
              "      <td>4.109136</td>\n",
              "    </tr>\n",
              "    <tr>\n",
              "      <th>phi_297</th>\n",
              "      <td>23965.0</td>\n",
              "      <td>3.994169</td>\n",
              "      <td>0.046543</td>\n",
              "      <td>3.854579</td>\n",
              "      <td>3.958504</td>\n",
              "      <td>4.000076</td>\n",
              "      <td>4.030954</td>\n",
              "      <td>4.109457</td>\n",
              "    </tr>\n",
              "    <tr>\n",
              "      <th>phi_298</th>\n",
              "      <td>23965.0</td>\n",
              "      <td>3.994340</td>\n",
              "      <td>0.046546</td>\n",
              "      <td>3.854653</td>\n",
              "      <td>3.958782</td>\n",
              "      <td>4.000212</td>\n",
              "      <td>4.031117</td>\n",
              "      <td>4.109779</td>\n",
              "    </tr>\n",
              "    <tr>\n",
              "      <th>phi_299</th>\n",
              "      <td>23965.0</td>\n",
              "      <td>3.994534</td>\n",
              "      <td>0.046566</td>\n",
              "      <td>3.854827</td>\n",
              "      <td>3.958995</td>\n",
              "      <td>4.000388</td>\n",
              "      <td>4.031304</td>\n",
              "      <td>4.109910</td>\n",
              "    </tr>\n",
              "  </tbody>\n",
              "</table>\n",
              "<p>600 rows × 8 columns</p>\n",
              "</div>"
            ],
            "text/plain": [
              "           count      mean       std  ...       50%       75%       max\n",
              "rho_0    23965.0  0.012869  0.000413  ...  0.012892  0.013193  0.014135\n",
              "rho_1    23965.0  0.012867  0.000418  ...  0.012880  0.013194  0.014140\n",
              "rho_2    23965.0  0.012867  0.000426  ...  0.012878  0.013189  0.014311\n",
              "rho_3    23965.0  0.012867  0.000432  ...  0.012878  0.013199  0.014160\n",
              "rho_4    23965.0  0.012865  0.000439  ...  0.012870  0.013195  0.014270\n",
              "...          ...       ...       ...  ...       ...       ...       ...\n",
              "phi_295  23965.0  3.993830  0.046553  ...  3.999779  4.030631  4.109067\n",
              "phi_296  23965.0  3.994003  0.046547  ...  3.999942  4.030783  4.109136\n",
              "phi_297  23965.0  3.994169  0.046543  ...  4.000076  4.030954  4.109457\n",
              "phi_298  23965.0  3.994340  0.046546  ...  4.000212  4.031117  4.109779\n",
              "phi_299  23965.0  3.994534  0.046566  ...  4.000388  4.031304  4.109910\n",
              "\n",
              "[600 rows x 8 columns]"
            ]
          },
          "metadata": {
            "tags": []
          },
          "execution_count": 141
        }
      ]
    },
    {
      "cell_type": "markdown",
      "metadata": {
        "colab_type": "text",
        "id": "Db7Auq1yXUvh"
      },
      "source": [
        "### Split features from labels\n",
        "\n",
        "Separate the target value, or \"label\", from the features. This label is the value that you will train the model to predict."
      ]
    },
    {
      "cell_type": "code",
      "metadata": {
        "colab_type": "code",
        "id": "t2sluJdCW7jN",
        "colab": {}
      },
      "source": [
        "train_labels = train_dataset.pop('volume')\n",
        "test_labels = test_dataset.pop('volume')"
      ],
      "execution_count": null,
      "outputs": []
    },
    {
      "cell_type": "markdown",
      "metadata": {
        "colab_type": "text",
        "id": "mRklxK5s388r"
      },
      "source": [
        "### Normalize the data\n",
        "\n",
        "Look again at the `train_stats` block above and note how different the ranges of each feature are."
      ]
    },
    {
      "cell_type": "markdown",
      "metadata": {
        "colab_type": "text",
        "id": "-ywmerQ6dSox"
      },
      "source": [
        "It is good practice to normalize features that use different scales and ranges. Although the model *might* converge without feature normalization, it makes training more difficult, and it makes the resulting model dependent on the choice of units used in the input.\n",
        "\n",
        "Note: Although we intentionally generate these statistics from only the training dataset, these statistics will also be used to normalize the test dataset. We need to do that to project the test dataset into the same distribution that the model has been trained on."
      ]
    },
    {
      "cell_type": "code",
      "metadata": {
        "colab_type": "code",
        "id": "JlC5ooJrgjQF",
        "colab": {}
      },
      "source": [
        "def norm(x):\n",
        "  return (x - train_stats['mean']) / train_stats['std']\n",
        "normed_train_data = norm(train_dataset)\n",
        "normed_test_data = norm(test_dataset)\n",
        "#normed_train_data = train_dataset\n",
        "#normed_test_data = test_dataset\n"
      ],
      "execution_count": null,
      "outputs": []
    },
    {
      "cell_type": "markdown",
      "metadata": {
        "colab_type": "text",
        "id": "BuiClDk45eS4"
      },
      "source": [
        "This normalized data is what we will use to train the model.\n",
        "\n",
        "Caution: The statistics used to normalize the inputs here (mean and standard deviation) need to be applied to any other data that is fed to the model, along with the one-hot encoding that we did earlier.  That includes the test set as well as live data when the model is used in production."
      ]
    },
    {
      "cell_type": "markdown",
      "metadata": {
        "colab_type": "text",
        "id": "SmjdzxKzEu1-"
      },
      "source": [
        "## The model"
      ]
    },
    {
      "cell_type": "markdown",
      "metadata": {
        "colab_type": "text",
        "id": "6SWtkIjhrZwa"
      },
      "source": [
        "### Build the model\n",
        "\n",
        "Let's build our model. Here, we'll use a `Sequential` model with two densely connected hidden layers, and an output layer that returns a single, continuous value. The model building steps are wrapped in a function, `build_model`, since we'll create a second model, later on."
      ]
    },
    {
      "cell_type": "code",
      "metadata": {
        "colab_type": "code",
        "id": "c26juK7ZG8j-",
        "colab": {}
      },
      "source": [
        "def build_model():\n",
        "  model = keras.Sequential([\n",
        "    #layers.Dense(800, activation=tf.nn.sigmoid, input_shape=[len(train_dataset.keys())]),\n",
        "    #layers.Dense(200, activation=tf.nn.sigmoid),\n",
        "    layers.Dense(10, activation=tf.nn.swish, input_shape=[len(train_dataset.keys())]),\n",
        "    layers.Dense(1)\n",
        "  ])\n",
        "\n",
        "  #optimizer = tf.keras.optimizers.RMSprop(0.0000001)\n",
        "  #optimizer = tf.keras.optimizers.Adagrad(learning_rate=0.0001)\n",
        "  optimizer = tf.keras.optimizers.Adam(learning_rate=0.001, beta_1=0.9, beta_2=0.999, amsgrad=False)\n",
        "  #optimizer = tf.keras.optimizers.Adamax(learning_rate=0.001, beta_1=0.8, beta_2=0.995)\n",
        "\n",
        "  #model.compile(loss='mean_squared_error',\n",
        "  #              optimizer=optimizer,\n",
        "  #              metrics=['mean_absolute_error', 'mean_squared_error'])\n",
        "  \n",
        "  model.compile(loss='mean_absolute_error',\n",
        "                optimizer=optimizer,\n",
        "                metrics=['mean_absolute_error', 'mean_squared_error'])\n",
        "  \n",
        "  \n",
        "  return model"
      ],
      "execution_count": null,
      "outputs": []
    },
    {
      "cell_type": "code",
      "metadata": {
        "colab_type": "code",
        "id": "cGbPb-PHGbhs",
        "colab": {}
      },
      "source": [
        "model = build_model()"
      ],
      "execution_count": null,
      "outputs": []
    },
    {
      "cell_type": "markdown",
      "metadata": {
        "id": "AUx4uYxk0GEJ",
        "colab_type": "text"
      },
      "source": [
        "## If there is a model saved on google drive execute the next block"
      ]
    },
    {
      "cell_type": "code",
      "metadata": {
        "id": "y3Ir9yi8z0VA",
        "colab_type": "code",
        "colab": {}
      },
      "source": [
        "from tensorflow.keras.models import load_model\n",
        "\n",
        "#del model \n",
        "\n",
        "model_name=str('volume_pred_swish_trial_6.h5')\n",
        "model = load_model(str(\"/content/drive/My Drive/DropLev/MachineLearningModels/\"+model_name))\n"
      ],
      "execution_count": null,
      "outputs": []
    },
    {
      "cell_type": "markdown",
      "metadata": {
        "colab_type": "text",
        "id": "Sj49Og4YGULr"
      },
      "source": [
        "### Inspect the model\n",
        "\n",
        "Use the `.summary` method to print a simple description of the model"
      ]
    },
    {
      "cell_type": "code",
      "metadata": {
        "colab_type": "code",
        "id": "ReAD0n6MsFK-",
        "colab": {
          "base_uri": "https://localhost:8080/",
          "height": 217
        },
        "outputId": "dc63ff71-5eb7-4ccb-e1d3-f9e9f5b7ddb5"
      },
      "source": [
        "model.summary()"
      ],
      "execution_count": null,
      "outputs": [
        {
          "output_type": "stream",
          "text": [
            "Model: \"sequential_1\"\n",
            "_________________________________________________________________\n",
            "Layer (type)                 Output Shape              Param #   \n",
            "=================================================================\n",
            "dense_2 (Dense)              (None, 10)                6010      \n",
            "_________________________________________________________________\n",
            "dense_3 (Dense)              (None, 1)                 11        \n",
            "=================================================================\n",
            "Total params: 6,021\n",
            "Trainable params: 6,021\n",
            "Non-trainable params: 0\n",
            "_________________________________________________________________\n"
          ],
          "name": "stdout"
        }
      ]
    },
    {
      "cell_type": "markdown",
      "metadata": {
        "colab_type": "text",
        "id": "Vt6W50qGsJAL"
      },
      "source": [
        "\n",
        "Now try out the model. Take a batch of `10` examples from the training data and call `model.predict` on it."
      ]
    },
    {
      "cell_type": "code",
      "metadata": {
        "colab_type": "code",
        "id": "-d-gBaVtGTSC",
        "colab": {
          "base_uri": "https://localhost:8080/",
          "height": 183
        },
        "outputId": "6ea1c101-0387-4e23-818d-283bc7ecd65e"
      },
      "source": [
        "example_batch = normed_train_data[:10]\n",
        "example_result = model.predict(example_batch)\n",
        "example_result"
      ],
      "execution_count": null,
      "outputs": [
        {
          "output_type": "execute_result",
          "data": {
            "text/plain": [
              "array([[0.89499193],\n",
              "       [1.4205085 ],\n",
              "       [2.8677683 ],\n",
              "       [0.77859426],\n",
              "       [3.5926478 ],\n",
              "       [3.3774765 ],\n",
              "       [0.5990012 ],\n",
              "       [2.5998697 ],\n",
              "       [0.7836043 ],\n",
              "       [1.1705005 ]], dtype=float32)"
            ]
          },
          "metadata": {
            "tags": []
          },
          "execution_count": 146
        }
      ]
    },
    {
      "cell_type": "markdown",
      "metadata": {
        "colab_type": "text",
        "id": "QlM8KrSOsaYo"
      },
      "source": [
        "It seems to be working, and it produces a result of the expected shape and type."
      ]
    },
    {
      "cell_type": "markdown",
      "metadata": {
        "colab_type": "text",
        "id": "0-qWCsh6DlyH"
      },
      "source": [
        "### Train the model\n",
        "\n",
        "Train the model for 1000 epochs, and record the training and validation accuracy in the `history` object."
      ]
    },
    {
      "cell_type": "code",
      "metadata": {
        "colab_type": "code",
        "id": "sD7qHCmNIOY0",
        "colab": {
          "base_uri": "https://localhost:8080/",
          "height": 50
        },
        "outputId": "0c962264-6e55-4850-b155-13bea3a25ce8"
      },
      "source": [
        "# Display training progress by printing a single dot for each completed epoch\n",
        "class PrintDot(keras.callbacks.Callback):\n",
        "  def on_epoch_end(self, epoch, logs):\n",
        "    if epoch % 55 == 0: print('')\n",
        "    print('.', end='')\n",
        "\n",
        "\n",
        "EPOCHS = 700\n",
        "\n",
        "\n",
        "early_stop = keras.callbacks.EarlyStopping(monitor='val_loss',min_delta=0, patience=5, verbose=0, mode='auto')\n",
        "\n",
        "\n",
        "history = model.fit(\n",
        "  normed_train_data, train_labels,\n",
        "  epochs=EPOCHS, validation_split = 0.2, verbose=0,\n",
        "  callbacks=[early_stop, PrintDot()])  # callbacks=callbacks_list"
      ],
      "execution_count": null,
      "outputs": [
        {
          "output_type": "stream",
          "text": [
            "\n",
            "........"
          ],
          "name": "stdout"
        }
      ]
    },
    {
      "cell_type": "markdown",
      "metadata": {
        "colab_type": "text",
        "id": "tQm3pc0FYPQB"
      },
      "source": [
        "Visualize the model's training progress using the stats stored in the `history` object."
      ]
    },
    {
      "cell_type": "code",
      "metadata": {
        "colab_type": "code",
        "id": "4Xj91b-dymEy",
        "colab": {
          "base_uri": "https://localhost:8080/",
          "height": 197
        },
        "outputId": "ce3c9af3-27b3-4eb9-a7c3-29dd003948f5"
      },
      "source": [
        "hist = pd.DataFrame(history.history)\n",
        "hist['epoch'] = history.epoch\n",
        "hist.tail()"
      ],
      "execution_count": null,
      "outputs": [
        {
          "output_type": "execute_result",
          "data": {
            "text/html": [
              "<div>\n",
              "<style scoped>\n",
              "    .dataframe tbody tr th:only-of-type {\n",
              "        vertical-align: middle;\n",
              "    }\n",
              "\n",
              "    .dataframe tbody tr th {\n",
              "        vertical-align: top;\n",
              "    }\n",
              "\n",
              "    .dataframe thead th {\n",
              "        text-align: right;\n",
              "    }\n",
              "</style>\n",
              "<table border=\"1\" class=\"dataframe\">\n",
              "  <thead>\n",
              "    <tr style=\"text-align: right;\">\n",
              "      <th></th>\n",
              "      <th>loss</th>\n",
              "      <th>mean_absolute_error</th>\n",
              "      <th>mean_squared_error</th>\n",
              "      <th>val_loss</th>\n",
              "      <th>val_mean_absolute_error</th>\n",
              "      <th>val_mean_squared_error</th>\n",
              "      <th>epoch</th>\n",
              "    </tr>\n",
              "  </thead>\n",
              "  <tbody>\n",
              "    <tr>\n",
              "      <th>3</th>\n",
              "      <td>0.032764</td>\n",
              "      <td>0.032764</td>\n",
              "      <td>0.001959</td>\n",
              "      <td>0.043082</td>\n",
              "      <td>0.043082</td>\n",
              "      <td>0.003811</td>\n",
              "      <td>3</td>\n",
              "    </tr>\n",
              "    <tr>\n",
              "      <th>4</th>\n",
              "      <td>0.033705</td>\n",
              "      <td>0.033705</td>\n",
              "      <td>0.002094</td>\n",
              "      <td>0.036267</td>\n",
              "      <td>0.036267</td>\n",
              "      <td>0.002200</td>\n",
              "      <td>4</td>\n",
              "    </tr>\n",
              "    <tr>\n",
              "      <th>5</th>\n",
              "      <td>0.033194</td>\n",
              "      <td>0.033194</td>\n",
              "      <td>0.002010</td>\n",
              "      <td>0.033464</td>\n",
              "      <td>0.033464</td>\n",
              "      <td>0.001984</td>\n",
              "      <td>5</td>\n",
              "    </tr>\n",
              "    <tr>\n",
              "      <th>6</th>\n",
              "      <td>0.033141</td>\n",
              "      <td>0.033141</td>\n",
              "      <td>0.002019</td>\n",
              "      <td>0.035283</td>\n",
              "      <td>0.035283</td>\n",
              "      <td>0.002276</td>\n",
              "      <td>6</td>\n",
              "    </tr>\n",
              "    <tr>\n",
              "      <th>7</th>\n",
              "      <td>0.033954</td>\n",
              "      <td>0.033954</td>\n",
              "      <td>0.002163</td>\n",
              "      <td>0.034601</td>\n",
              "      <td>0.034601</td>\n",
              "      <td>0.001953</td>\n",
              "      <td>7</td>\n",
              "    </tr>\n",
              "  </tbody>\n",
              "</table>\n",
              "</div>"
            ],
            "text/plain": [
              "       loss  mean_absolute_error  ...  val_mean_squared_error  epoch\n",
              "3  0.032764             0.032764  ...                0.003811      3\n",
              "4  0.033705             0.033705  ...                0.002200      4\n",
              "5  0.033194             0.033194  ...                0.001984      5\n",
              "6  0.033141             0.033141  ...                0.002276      6\n",
              "7  0.033954             0.033954  ...                0.001953      7\n",
              "\n",
              "[5 rows x 7 columns]"
            ]
          },
          "metadata": {
            "tags": []
          },
          "execution_count": 151
        }
      ]
    },
    {
      "cell_type": "code",
      "metadata": {
        "colab_type": "code",
        "id": "B6XriGbVPh2t",
        "colab": {
          "base_uri": "https://localhost:8080/",
          "height": 549
        },
        "outputId": "179461da-7697-4f06-b7ab-9ab9c35ba903"
      },
      "source": [
        "def plot_history(history):\n",
        "  hist = pd.DataFrame(history.history)\n",
        "  hist['epoch'] = history.epoch\n",
        "\n",
        "  plt.figure()\n",
        "  plt.xlabel('Epoch')\n",
        "  plt.ylabel('Mean Abs Error [volt]')\n",
        "  plt.plot(hist['epoch'], hist['mean_absolute_error'],\n",
        "           label='Train Error')\n",
        "  plt.plot(hist['epoch'], hist['val_mean_absolute_error'],\n",
        "           label = 'Val Error')\n",
        "  plt.ylim([0,0.5])\n",
        "  plt.legend()\n",
        "\n",
        "  plt.figure()\n",
        "  plt.xlabel('Epoch')\n",
        "  plt.ylabel('Mean Square Error [$volt^2$]')\n",
        "  plt.plot(hist['epoch'], hist['mean_squared_error'],\n",
        "           label='Train Error')\n",
        "  plt.plot(hist['epoch'], hist['val_mean_squared_error'],\n",
        "           label = 'Val Error')\n",
        "  plt.ylim([0,0.2])\n",
        "  plt.legend()\n",
        "  plt.show()\n",
        "\n",
        "\n",
        "plot_history(history)"
      ],
      "execution_count": null,
      "outputs": [
        {
          "output_type": "display_data",
          "data": {
            "image/png": "[encoded data removed]",
            "text/plain": [
              "<Figure size 432x288 with 1 Axes>"
            ]
          },
          "metadata": {
            "tags": [],
            "needs_background": "light"
          }
        },
        {
          "output_type": "display_data",
          "data": {
            "image/png": "[encoded data removed]",
            "text/plain": [
              "<Figure size 432x288 with 1 Axes>"
            ]
          },
          "metadata": {
            "tags": [],
            "needs_background": "light"
          }
        }
      ]
    },
    {
      "cell_type": "code",
      "metadata": {
        "colab_type": "code",
        "id": "jl_yNr5n1kms",
        "colab": {
          "base_uri": "https://localhost:8080/",
          "height": 33
        },
        "outputId": "56c4eb85-68af-4465-bbe1-58c8bfe64347"
      },
      "source": [
        "loss, mae, mse = model.evaluate(normed_test_data, test_labels, verbose=0)\n",
        "\n",
        "print(\"Testing set Mean Abs Error: {:5.2f} µl\".format(mae))"
      ],
      "execution_count": null,
      "outputs": [
        {
          "output_type": "stream",
          "text": [
            "Testing set Mean Abs Error:  0.03 µl\n"
          ],
          "name": "stdout"
        }
      ]
    },
    {
      "cell_type": "markdown",
      "metadata": {
        "colab_type": "text",
        "id": "ft603OzXuEZC"
      },
      "source": [
        "### Make predictions\n",
        "\n",
        "Finally, predict volume values using data in the testing set:"
      ]
    },
    {
      "cell_type": "code",
      "metadata": {
        "colab_type": "code",
        "id": "0rX45MS7FAoW",
        "colab": {
          "base_uri": "https://localhost:8080/",
          "height": 573
        },
        "outputId": "1765c931-74d5-4b56-d9a8-43855ddfa4c0"
      },
      "source": [
        "test_predictions = model.predict(normed_test_data).flatten()\n",
        "\n",
        "plt.scatter(test_labels, test_predictions)\n",
        "plt.title('Normalized test data')\n",
        "plt.xlabel('True Values [Volume- μL]')\n",
        "plt.ylabel('Predictions [Volume- μL]')\n",
        "plt.axis('equal')\n",
        "plt.axis('square')\n",
        "plt.xlim([0,10])\n",
        "plt.ylim([0,10])\n",
        "_ = plt.plot([-100, 100], [-100, 100])\n",
        "plt.show()\n",
        "\n",
        "test_predictions2 = model.predict(normed_train_data).flatten()\n",
        "\n",
        "plt.scatter(train_labels, test_predictions2)\n",
        "plt.title('Normalized training data')\n",
        "plt.xlabel('True Values [Volume- μL]')\n",
        "plt.ylabel('Predictions [Volume- μL]')\n",
        "plt.axis('equal')\n",
        "plt.axis('square')\n",
        "plt.xlim([0,10])\n",
        "plt.ylim([0,10])\n",
        "_ = plt.plot([-100, 100], [-100, 100])\n",
        "plt.show()\n"
      ],
      "execution_count": null,
      "outputs": [
        {
          "output_type": "display_data",
          "data": {
            "image/png": "[encoded data removed]",
            "text/plain": [
              "<Figure size 432x288 with 1 Axes>"
            ]
          },
          "metadata": {
            "tags": [],
            "needs_background": "light"
          }
        },
        {
          "output_type": "display_data",
          "data": {
            "image/png": "[encoded data removed]",
            "text/plain": [
              "<Figure size 432x288 with 1 Axes>"
            ]
          },
          "metadata": {
            "tags": [],
            "needs_background": "light"
          }
        }
      ]
    },
    {
      "cell_type": "code",
      "metadata": {
        "colab_type": "code",
        "id": "GSZlGc6EFAoi",
        "colab": {
          "base_uri": "https://localhost:8080/",
          "height": 279
        },
        "outputId": "06a35146-bf91-459a-8911-5bf9ba158964"
      },
      "source": [
        "error = test_predictions - test_labels\n",
        "plt.hist(error, bins = 50)\n",
        "plt.xlabel(\"Prediction Error [surface tension - mN/m]\")\n",
        "_ = plt.ylabel(\"Count\")\n",
        "plt.show()"
      ],
      "execution_count": null,
      "outputs": [
        {
          "output_type": "display_data",
          "data": {
            "image/png": "[encoded data removed]",
            "text/plain": [
              "<Figure size 432x288 with 1 Axes>"
            ]
          },
          "metadata": {
            "tags": [],
            "needs_background": "light"
          }
        }
      ]
    },
    {
      "cell_type": "markdown",
      "metadata": {
        "id": "vDAvu4BI157_",
        "colab_type": "text"
      },
      "source": [
        "# Saving the Model"
      ]
    },
    {
      "cell_type": "markdown",
      "metadata": {
        "id": "FcFG3xHC19Nr",
        "colab_type": "text"
      },
      "source": [
        "When you are satisfied with the model and the accuracy continue from here:"
      ]
    },
    {
      "cell_type": "markdown",
      "metadata": {
        "id": "ILdhbQFz9b2K",
        "colab_type": "text"
      },
      "source": [
        "Saving the model in a **SavedModel** format"
      ]
    },
    {
      "cell_type": "code",
      "metadata": {
        "id": "4tfUB6Fq2DVJ",
        "colab_type": "code",
        "colab": {}
      },
      "source": [
        "!pip install -q pyyaml h5py  # Required to save models in HDF5 format"
      ],
      "execution_count": null,
      "outputs": []
    },
    {
      "cell_type": "code",
      "metadata": {
        "id": "MzumSsZfGYCp",
        "colab_type": "code",
        "colab": {}
      },
      "source": [
        "# Save the entire model as a SavedModel.\n",
        "filename=str('volume_pred_swish_trial_7.h5')\n",
        "!mkdir -p '/content/drive/My Drive/DropLev/MachineLearningModels' #Ceates a folder named \"MachineLearningModels\"\n",
        "model.save('/content/drive/My Drive/DropLev/MachineLearningModels/'+filename)  #Saves the file"
      ],
      "execution_count": null,
      "outputs": []
    },
    {
      "cell_type": "markdown",
      "metadata": {
        "id": "NhlGbAn0826s",
        "colab_type": "text"
      },
      "source": [
        "The SavedModel format is a directory containing a protobuf binary and a Tensorflow checkpoint. Inspect the saved model directory:"
      ]
    },
    {
      "cell_type": "code",
      "metadata": {
        "id": "eotmNYdB83bB",
        "colab_type": "code",
        "colab": {}
      },
      "source": [
        "# DropLev_volt_vol_prediction_model directory\n",
        "#!ls saved_model\n",
        "\n",
        "# Contains an assets folder, saved_model.pb, and variables folder.\n",
        "#!ls saved_model/DropLev_volt_vol_prediction_model"
      ],
      "execution_count": null,
      "outputs": []
    },
    {
      "cell_type": "markdown",
      "metadata": {
        "id": "ikYCgbdb9kfp",
        "colab_type": "text"
      },
      "source": [
        "Saving the model in a **HDF5** format"
      ]
    },
    {
      "cell_type": "code",
      "metadata": {
        "id": "xdVXWoNE9o4r",
        "colab_type": "code",
        "colab": {}
      },
      "source": [
        "# Save the entire model to a HDF5 file.\n",
        "# The '.h5' extension indicates that the model should be saved to HDF5.\n",
        "#model.save('DropLev_volt_vol_prediction_model.h5') "
      ],
      "execution_count": null,
      "outputs": []
    },
    {
      "cell_type": "markdown",
      "metadata": {
        "id": "oZcqRI0r9B4r",
        "colab_type": "text"
      },
      "source": [
        "# Reload a fresh Keras model from the saved model:"
      ]
    },
    {
      "cell_type": "markdown",
      "metadata": {
        "id": "W6mEqNn497op",
        "colab_type": "text"
      },
      "source": [
        "For **SavedModel** format"
      ]
    },
    {
      "cell_type": "code",
      "metadata": {
        "id": "c4vUC4ep8_VA",
        "colab_type": "code",
        "colab": {
          "base_uri": "https://localhost:8080/",
          "height": 217
        },
        "outputId": "100ba442-ee61-4133-974a-b469d48e9f79"
      },
      "source": [
        "new_model = tf.keras.models.load_model('/content/drive/My Drive/DropLev/MachineLearningModels/'+filename)\n",
        "\n",
        "# Check its architecture\n",
        "new_model.summary()"
      ],
      "execution_count": null,
      "outputs": [
        {
          "output_type": "stream",
          "text": [
            "Model: \"sequential_1\"\n",
            "_________________________________________________________________\n",
            "Layer (type)                 Output Shape              Param #   \n",
            "=================================================================\n",
            "dense_2 (Dense)              (None, 10)                6010      \n",
            "_________________________________________________________________\n",
            "dense_3 (Dense)              (None, 1)                 11        \n",
            "=================================================================\n",
            "Total params: 6,021\n",
            "Trainable params: 6,021\n",
            "Non-trainable params: 0\n",
            "_________________________________________________________________\n"
          ],
          "name": "stdout"
        }
      ]
    },
    {
      "cell_type": "markdown",
      "metadata": {
        "id": "myilbB_P9_dO",
        "colab_type": "text"
      },
      "source": [
        "For **HDF5** format"
      ]
    },
    {
      "cell_type": "code",
      "metadata": {
        "id": "94ZjuhOV-Dfk",
        "colab_type": "code",
        "colab": {}
      },
      "source": [
        "# Recreate the exact same model, including its weights and the optimizer\n",
        "new_model = tf.keras.models.load_model('DropLev_volt_vol_prediction_model.h5')\n",
        "\n",
        "# Show the model architecture\n",
        "new_model.summary()"
      ],
      "execution_count": null,
      "outputs": []
    },
    {
      "cell_type": "markdown",
      "metadata": {
        "id": "j1K6xGBg9K4A",
        "colab_type": "text"
      },
      "source": [
        "Evaluate the restored model (for both formats)"
      ]
    },
    {
      "cell_type": "code",
      "metadata": {
        "id": "if5rjrz79NPI",
        "colab_type": "code",
        "colab": {}
      },
      "source": [
        "# Evaluation\n",
        "loss, mae, mse = new_model.evaluate(normed_test_data, test_labels, verbose=0)\n",
        "print('Restored model, Mean absolute error: {:5.2f}'.format(mae))\n",
        "\n",
        "print(new_model.predict(normed_test_data).shape)"
      ],
      "execution_count": null,
      "outputs": []
    }
  ]
}