{
  "nbformat": 4,
  "nbformat_minor": 0,
  "metadata": {
    "colab": {
      "name": "Volume_prediction.ipynb",
      "provenance": [],
      "collapsed_sections": [],
      "toc_visible": true,
      "authorship_tag": "ABX9TyO8PkWg2aEMFIlP193sIQmO",
      "include_colab_link": true
    },
    "kernelspec": {
      "name": "python3",
      "display_name": "Python 3"
    },
    "accelerator": "TPU"
  },
  "cells": [
    {
      "cell_type": "markdown",
      "metadata": {
        "id": "view-in-github",
        "colab_type": "text"
      },
      "source": [
        "<a href=\"https://colab.research.google.com/github/sargyri/Drop_Lev/blob/master/Volume_prediction.ipynb\" target=\"_parent\"><img src=\"https://colab.research.google.com/assets/colab-badge.svg\" alt=\"Open In Colab\"/></a>"
      ]
    },
    {
      "cell_type": "markdown",
      "metadata": {
        "colab_type": "text",
        "id": "FhGuhbZ6M5tl"
      },
      "source": [
        "##### Copyright 2018 The TensorFlow Authors."
      ]
    },
    {
      "cell_type": "code",
      "metadata": {
        "cellView": "form",
        "colab_type": "code",
        "id": "AwOEIRJC6Une",
        "colab": {}
      },
      "source": [
        "#@title Licensed under the Apache License, Version 2.0 (the \"License\");\n",
        "# you may not use this file except in compliance with the License.\n",
        "# You may obtain a copy of the License at\n",
        "#\n",
        "# https://www.apache.org/licenses/LICENSE-2.0\n",
        "#\n",
        "# Unless required by applicable law or agreed to in writing, software\n",
        "# distributed under the License is distributed on an \"AS IS\" BASIS,\n",
        "# WITHOUT WARRANTIES OR CONDITIONS OF ANY KIND, either express or implied.\n",
        "# See the License for the specific language governing permissions and\n",
        "# limitations under the License."
      ],
      "execution_count": null,
      "outputs": []
    },
    {
      "cell_type": "code",
      "metadata": {
        "cellView": "form",
        "colab_type": "code",
        "id": "KyPEtTqk6VdG",
        "colab": {}
      },
      "source": [
        "#@title MIT License\n",
        "#\n",
        "# Copyright (c) 2017 François Chollet\n",
        "#\n",
        "# Permission is hereby granted, free of charge, to any person obtaining a\n",
        "# copy of this software and associated documentation files (the \"Software\"),\n",
        "# to deal in the Software without restriction, including without limitation\n",
        "# the rights to use, copy, modify, merge, publish, distribute, sublicense,\n",
        "# and/or sell copies of the Software, and to permit persons to whom the\n",
        "# Software is furnished to do so, subject to the following conditions:\n",
        "#\n",
        "# The above copyright notice and this permission notice shall be included in\n",
        "# all copies or substantial portions of the Software.\n",
        "#\n",
        "# THE SOFTWARE IS PROVIDED \"AS IS\", WITHOUT WARRANTY OF ANY KIND, EXPRESS OR\n",
        "# IMPLIED, INCLUDING BUT NOT LIMITED TO THE WARRANTIES OF MERCHANTABILITY,\n",
        "# FITNESS FOR A PARTICULAR PURPOSE AND NONINFRINGEMENT. IN NO EVENT SHALL\n",
        "# THE AUTHORS OR COPYRIGHT HOLDERS BE LIABLE FOR ANY CLAIM, DAMAGES OR OTHER\n",
        "# LIABILITY, WHETHER IN AN ACTION OF CONTRACT, TORT OR OTHERWISE, ARISING\n",
        "# FROM, OUT OF OR IN CONNECTION WITH THE SOFTWARE OR THE USE OR OTHER\n",
        "# DEALINGS IN THE SOFTWARE."
      ],
      "execution_count": null,
      "outputs": []
    },
    {
      "cell_type": "markdown",
      "metadata": {
        "colab_type": "text",
        "id": "EIdT9iu_Z4Rb"
      },
      "source": [
        "# Lev Droplet "
      ]
    },
    {
      "cell_type": "markdown",
      "metadata": {
        "colab_type": "text",
        "id": "bBIlTPscrIT9"
      },
      "source": [
        "<table class=\"tfo-notebook-buttons\" align=\"left\">\n",
        "  <td>\n",
        "    <a target=\"_blank\" href=\"https://www.tensorflow.org/tutorials/keras/basic_regression\"><img src=\"https://www.tensorflow.org/images/tf_logo_32px.png\" />View on TensorFlow.org</a>\n",
        "  </td>\n",
        "  <td>\n",
        "    <a target=\"_blank\" href=\"https://colab.research.google.com/github/tensorflow/docs/blob/r2.0rc/site/en/tutorials/keras/basic_regression.ipynb\"><img src=\"https://www.tensorflow.org/images/colab_logo_32px.png\" />Run in Google Colab</a>\n",
        "  </td>\n",
        "  <td>\n",
        "    <a target=\"_blank\" href=\"https://github.com/tensorflow/docs/blob/r2.0rc/site/en/tutorials/keras/basic_regression.ipynb\"><img src=\"https://www.tensorflow.org/images/GitHub-Mark-32px.png\" />View source on GitHub</a>\n",
        "  </td>\n",
        "</table>"
      ]
    },
    {
      "cell_type": "markdown",
      "metadata": {
        "colab_type": "text",
        "id": "AHp3M9ZmrIxj"
      },
      "source": [
        "NN for predicting volume and voltage from the coordinate in polar system"
      ]
    },
    {
      "cell_type": "code",
      "metadata": {
        "colab_type": "code",
        "id": "moB4tpEHxKB3",
        "colab": {}
      },
      "source": [
        "# Use seaborn for pairplot\n",
        "!pip install seaborn\n",
        "#!pip install talos"
      ],
      "execution_count": null,
      "outputs": []
    },
    {
      "cell_type": "code",
      "metadata": {
        "colab_type": "code",
        "id": "1rRo8oNqZ-Rj",
        "colab": {
          "base_uri": "https://localhost:8080/",
          "height": 137
        },
        "outputId": "df806ad3-f9c0-4fd4-cca5-b82fc38abc3a"
      },
      "source": [
        "from __future__ import absolute_import, division, print_function, unicode_literals\n",
        "\n",
        "import pathlib\n",
        "import os\n",
        "import matplotlib.pyplot as plt\n",
        "import pandas as pd\n",
        "import seaborn as sns\n",
        "\n",
        "import pprint\n",
        "import tensorflow.compat.v1 as tf\n",
        "tf.disable_v2_behavior()\n",
        "\n",
        "from tensorflow import keras\n",
        "from tensorflow.keras import layers\n",
        "from tensorflow.keras.callbacks import ModelCheckpoint\n",
        "\n",
        "print(tf.__version__)"
      ],
      "execution_count": 1,
      "outputs": [
        {
          "output_type": "stream",
          "text": [
            "/usr/local/lib/python3.6/dist-packages/statsmodels/tools/_testing.py:19: FutureWarning: pandas.util.testing is deprecated. Use the functions in the public API at pandas.testing instead.\n",
            "  import pandas.util.testing as tm\n"
          ],
          "name": "stderr"
        },
        {
          "output_type": "stream",
          "text": [
            "WARNING:tensorflow:From /usr/local/lib/python3.6/dist-packages/tensorflow/python/compat/v2_compat.py:96: disable_resource_variables (from tensorflow.python.ops.variable_scope) is deprecated and will be removed in a future version.\n",
            "Instructions for updating:\n",
            "non-resource variables are not supported in the long term\n",
            "2.3.0\n"
          ],
          "name": "stdout"
        }
      ]
    },
    {
      "cell_type": "markdown",
      "metadata": {
        "id": "TvCBPgR-gWXl",
        "colab_type": "text"
      },
      "source": [
        "Run the next code box only if google drive is not mounted to colab"
      ]
    },
    {
      "cell_type": "code",
      "metadata": {
        "id": "7dA-joJRPNiJ",
        "colab_type": "code",
        "colab": {
          "base_uri": "https://localhost:8080/",
          "height": 120
        },
        "outputId": "394b3048-1ae2-4707-9d4a-1c590bb67d03"
      },
      "source": [
        "from google.colab import drive\n",
        "drive.mount('/content/drive')"
      ],
      "execution_count": 2,
      "outputs": [
        {
          "output_type": "stream",
          "text": [
            "Go to this URL in a browser: https://accounts.google.com/o/oauth2/auth?client_id=947318989803-6bn6qk8qdgf4n4g3pfee6491hc0brc4i.apps.googleusercontent.com&redirect_uri=urn%3aietf%3awg%3aoauth%3a2.0%3aoob&scope=email%20https%3a%2f%2fwww.googleapis.com%2fauth%2fdocs.test%20https%3a%2f%2fwww.googleapis.com%2fauth%2fdrive%20https%3a%2f%2fwww.googleapis.com%2fauth%2fdrive.photos.readonly%20https%3a%2f%2fwww.googleapis.com%2fauth%2fpeopleapi.readonly&response_type=code\n",
            "\n",
            "Enter your authorization code:\n",
            "··········\n",
            "Mounted at /content/drive\n"
          ],
          "name": "stdout"
        }
      ]
    },
    {
      "cell_type": "markdown",
      "metadata": {
        "id": "lMshRx3PgwcZ",
        "colab_type": "text"
      },
      "source": [
        "If it **is** mounted continue from here on"
      ]
    },
    {
      "cell_type": "code",
      "metadata": {
        "colab_type": "code",
        "id": "3IEVK-KFxi5Z",
        "colab": {
          "base_uri": "https://localhost:8080/",
          "height": 233
        },
        "outputId": "5908e45c-d486-452a-d425-40e9cd7aa690"
      },
      "source": [
        "if 'COLAB_TPU_ADDR' not in os.environ:\n",
        "  print('ERROR: Not connected to a TPU runtime; please see the first cell in this notebook for instructions!')\n",
        "else:\n",
        "  tpu_address = 'grpc://' + os.environ['COLAB_TPU_ADDR']\n",
        "  print ('TPU address is', tpu_address)\n",
        "\n",
        "  with tf.Session(tpu_address) as session:\n",
        "    devices = session.list_devices()\n",
        "    \n",
        "  print('TPU devices:')\n",
        "  pprint.pprint(devices)"
      ],
      "execution_count": 3,
      "outputs": [
        {
          "output_type": "stream",
          "text": [
            "TPU address is grpc://10.33.112.138:8470\n",
            "TPU devices:\n",
            "[_DeviceAttributes(/job:tpu_worker/replica:0/task:0/device:CPU:0, CPU, -1, 7356725167691526736),\n",
            " _DeviceAttributes(/job:tpu_worker/replica:0/task:0/device:XLA_CPU:0, XLA_CPU, 17179869184, -3664299002491481450),\n",
            " _DeviceAttributes(/job:tpu_worker/replica:0/task:0/device:TPU:0, TPU, 17179869184, 1653881564591155150),\n",
            " _DeviceAttributes(/job:tpu_worker/replica:0/task:0/device:TPU:1, TPU, 17179869184, 1631980260023647450),\n",
            " _DeviceAttributes(/job:tpu_worker/replica:0/task:0/device:TPU:2, TPU, 17179869184, -988743405773692751),\n",
            " _DeviceAttributes(/job:tpu_worker/replica:0/task:0/device:TPU:3, TPU, 17179869184, 558069678448489003),\n",
            " _DeviceAttributes(/job:tpu_worker/replica:0/task:0/device:TPU:4, TPU, 17179869184, -2951902731977985514),\n",
            " _DeviceAttributes(/job:tpu_worker/replica:0/task:0/device:TPU:5, TPU, 17179869184, -3388467178250990230),\n",
            " _DeviceAttributes(/job:tpu_worker/replica:0/task:0/device:TPU:6, TPU, 17179869184, -7161444110978126509),\n",
            " _DeviceAttributes(/job:tpu_worker/replica:0/task:0/device:TPU:7, TPU, 17179869184, -6113188158369301714),\n",
            " _DeviceAttributes(/job:tpu_worker/replica:0/task:0/device:TPU_SYSTEM:0, TPU_SYSTEM, 8589934592, 3454438040685135436)]\n"
          ],
          "name": "stdout"
        }
      ]
    },
    {
      "cell_type": "markdown",
      "metadata": {
        "colab_type": "text",
        "id": "gFh9ne3FZ-On"
      },
      "source": [
        "### Get the data\n",
        "First download the dataset!\n",
        "\n",
        "**Option 1**: Upload files"
      ]
    },
    {
      "cell_type": "code",
      "metadata": {
        "id": "K7-5GSURZTdh",
        "colab_type": "code",
        "colab": {}
      },
      "source": [
        "from google.colab import files\n",
        "uploaded = files.upload()"
      ],
      "execution_count": null,
      "outputs": []
    },
    {
      "cell_type": "code",
      "metadata": {
        "id": "l83INVYlZsND",
        "colab_type": "code",
        "colab": {}
      },
      "source": [
        "import io\n",
        "csvfilename=str('TritonX100_conci_0.0100_all.csv')\n",
        "input = pd.read_csv(io.BytesIO(uploaded[csvfilename]))\n",
        "#input = pd.read_csv(csvfilename, sep=\"\\t\")\n",
        "# Dataset is now stored in a Pandas Dataframe\n",
        "input.shape"
      ],
      "execution_count": null,
      "outputs": []
    },
    {
      "cell_type": "markdown",
      "metadata": {
        "id": "WCobdL9vDRXH",
        "colab_type": "text"
      },
      "source": [
        "**Option 2**: Import files from drive"
      ]
    },
    {
      "cell_type": "code",
      "metadata": {
        "id": "Z-NFT5ddEOdC",
        "colab_type": "code",
        "colab": {}
      },
      "source": [
        "#From the drive folder that is mounted to collab go to the file that you are interested in, \n",
        "#right click and copy the path of the file. Paste it in csvfilename:\n",
        "import numpy as np\n",
        "file1=pd.read_csv(str('/content/drive/My Drive/DropLev/Levitator_2/Training/CTAB/CTAB_conci_0.00500_ML_data.csv'), sep=\"\\t\")\n",
        "file2=pd.read_csv(str('/content/drive/My Drive/DropLev/Levitator_2/Training/CTAB/CTAB_conci_0.25000_ML_data.csv'), sep=\"\\t\")\n",
        "file3=pd.read_csv(str('/content/drive/My Drive/DropLev/Levitator_2/Training/CTAB/CTAB_conci_0.40000_ML_data.csv'), sep=\"\\t\")\n",
        "file4=pd.read_csv(str('/content/drive/My Drive/DropLev/Levitator_2/Training/CTAB/CTAB_conci_13.15224_ML_data.csv'), sep=\"\\t\")\n",
        "#file5=pd.read_csv(str('/content/drive/My Drive/DropLev/Levitator_2/Training/SDS/SDS_conci_6.50000_ML_data.csv'), sep=\"\\t\")\n",
        "#file6=pd.read_csv(str('/content/drive/My Drive/DropLev/Levitator_2/Training/SDS/SDS_conci_24.75900_ML_data.csv'), sep=\"\\t\")\n",
        "\n",
        "input=np.vstack([file1, file2, file3, file4]) #, file5, file6])\n",
        "\n",
        "#csvfilename=str('/content/drive/My Drive/DropLev/Levitator_2/Training/SDS/SDS_conci_1.50000_ML_data.csv')\n",
        "\n",
        "#input = pd.read_csv(csvfilename)\n"
      ],
      "execution_count": 91,
      "outputs": []
    },
    {
      "cell_type": "code",
      "metadata": {
        "id": "byZH8QndtP1v",
        "colab_type": "code",
        "colab": {
          "base_uri": "https://localhost:8080/",
          "height": 33
        },
        "outputId": "a65ae4e8-f003-45a2-e62b-7de4acb9875f"
      },
      "source": [
        "input.shape"
      ],
      "execution_count": 92,
      "outputs": [
        {
          "output_type": "execute_result",
          "data": {
            "text/plain": [
              "(20199, 606)"
            ]
          },
          "metadata": {
            "tags": []
          },
          "execution_count": 92
        }
      ]
    },
    {
      "cell_type": "markdown",
      "metadata": {
        "colab_type": "text",
        "id": "nslsRLh7Zss4"
      },
      "source": [
        "Import it using pandas"
      ]
    },
    {
      "cell_type": "code",
      "metadata": {
        "colab_type": "code",
        "id": "CiX2FI4gZtTt",
        "colab": {
          "base_uri": "https://localhost:8080/",
          "height": 247
        },
        "outputId": "94107124-5a9e-4245-db3f-fd9060a4cc54"
      },
      "source": [
        "column_names=[]\n",
        "\n",
        "for i in range(300):\n",
        "  column_names.append('rho_%d' %i)\n",
        "#for i in range(300):\n",
        "#  column_names.append('phi_%d' %i)\n",
        "for i in range(300):\n",
        "  column_names.append('theta_%d' %i)\n",
        "#column_names.append('height')\n",
        "#column_names.append('width')  \n",
        "column_names.append('volume')\n",
        "#column_names.append('R_sph')\n",
        "column_names.append('volt')\n",
        "#column_names.append('Intensity')\n",
        "#column_names.append('time')\n",
        "#column_names.append('TritonX_conc')\n",
        "#column_names.append('Ar')\n",
        "#column_names.append('Ps')\n",
        "#column_names.append('Ps_err')\n",
        "column_names.append('centre_x')\n",
        "column_names.append('centre_y')\n",
        "column_names.append('Aspect_Ratio')\n",
        "column_names.append('st')\n",
        "\n",
        "#raw_dataset = pd.read_csv(csvfilename, sep=\"\\t\")\n",
        "#raw_dataset.columns=column_names\n",
        "\n",
        "raw_dataset = pd.DataFrame(data=input,  columns=column_names) \n",
        "              \n",
        "raw_dataset.shape\n",
        "\n",
        "dataset = raw_dataset.copy()\n",
        "\n",
        "dataset.pop(\"centre_x\")\n",
        "dataset.pop(\"centre_y\")\n",
        "dataset.pop('volt')\n",
        "dataset.pop('st')\n",
        "#dataset.pop('Ps')\n",
        "#dataset.pop('Ps_err')\n",
        "#dataset.pop('TritonX_conc')\n",
        "#dataset.pop(\"volume\")\n",
        "#dataset.pop(\"height\")\n",
        "#dataset.pop(\"width\")\n",
        "#dataset.pop(\"R_sph\")\n",
        "dataset.pop(\"Aspect_Ratio\")\n",
        "\n",
        "dataset.tail()"
      ],
      "execution_count": 105,
      "outputs": [
        {
          "output_type": "execute_result",
          "data": {
            "text/html": [
              "<div>\n",
              "<style scoped>\n",
              "    .dataframe tbody tr th:only-of-type {\n",
              "        vertical-align: middle;\n",
              "    }\n",
              "\n",
              "    .dataframe tbody tr th {\n",
              "        vertical-align: top;\n",
              "    }\n",
              "\n",
              "    .dataframe thead th {\n",
              "        text-align: right;\n",
              "    }\n",
              "</style>\n",
              "<table border=\"1\" class=\"dataframe\">\n",
              "  <thead>\n",
              "    <tr style=\"text-align: right;\">\n",
              "      <th></th>\n",
              "      <th>rho_0</th>\n",
              "      <th>rho_1</th>\n",
              "      <th>rho_2</th>\n",
              "      <th>rho_3</th>\n",
              "      <th>rho_4</th>\n",
              "      <th>rho_5</th>\n",
              "      <th>rho_6</th>\n",
              "      <th>rho_7</th>\n",
              "      <th>rho_8</th>\n",
              "      <th>rho_9</th>\n",
              "      <th>rho_10</th>\n",
              "      <th>rho_11</th>\n",
              "      <th>rho_12</th>\n",
              "      <th>rho_13</th>\n",
              "      <th>rho_14</th>\n",
              "      <th>rho_15</th>\n",
              "      <th>rho_16</th>\n",
              "      <th>rho_17</th>\n",
              "      <th>rho_18</th>\n",
              "      <th>rho_19</th>\n",
              "      <th>rho_20</th>\n",
              "      <th>rho_21</th>\n",
              "      <th>rho_22</th>\n",
              "      <th>rho_23</th>\n",
              "      <th>rho_24</th>\n",
              "      <th>rho_25</th>\n",
              "      <th>rho_26</th>\n",
              "      <th>rho_27</th>\n",
              "      <th>rho_28</th>\n",
              "      <th>rho_29</th>\n",
              "      <th>rho_30</th>\n",
              "      <th>rho_31</th>\n",
              "      <th>rho_32</th>\n",
              "      <th>rho_33</th>\n",
              "      <th>rho_34</th>\n",
              "      <th>rho_35</th>\n",
              "      <th>rho_36</th>\n",
              "      <th>rho_37</th>\n",
              "      <th>rho_38</th>\n",
              "      <th>rho_39</th>\n",
              "      <th>...</th>\n",
              "      <th>theta_261</th>\n",
              "      <th>theta_262</th>\n",
              "      <th>theta_263</th>\n",
              "      <th>theta_264</th>\n",
              "      <th>theta_265</th>\n",
              "      <th>theta_266</th>\n",
              "      <th>theta_267</th>\n",
              "      <th>theta_268</th>\n",
              "      <th>theta_269</th>\n",
              "      <th>theta_270</th>\n",
              "      <th>theta_271</th>\n",
              "      <th>theta_272</th>\n",
              "      <th>theta_273</th>\n",
              "      <th>theta_274</th>\n",
              "      <th>theta_275</th>\n",
              "      <th>theta_276</th>\n",
              "      <th>theta_277</th>\n",
              "      <th>theta_278</th>\n",
              "      <th>theta_279</th>\n",
              "      <th>theta_280</th>\n",
              "      <th>theta_281</th>\n",
              "      <th>theta_282</th>\n",
              "      <th>theta_283</th>\n",
              "      <th>theta_284</th>\n",
              "      <th>theta_285</th>\n",
              "      <th>theta_286</th>\n",
              "      <th>theta_287</th>\n",
              "      <th>theta_288</th>\n",
              "      <th>theta_289</th>\n",
              "      <th>theta_290</th>\n",
              "      <th>theta_291</th>\n",
              "      <th>theta_292</th>\n",
              "      <th>theta_293</th>\n",
              "      <th>theta_294</th>\n",
              "      <th>theta_295</th>\n",
              "      <th>theta_296</th>\n",
              "      <th>theta_297</th>\n",
              "      <th>theta_298</th>\n",
              "      <th>theta_299</th>\n",
              "      <th>volume</th>\n",
              "    </tr>\n",
              "  </thead>\n",
              "  <tbody>\n",
              "    <tr>\n",
              "      <th>20194</th>\n",
              "      <td>0.012755</td>\n",
              "      <td>0.012631</td>\n",
              "      <td>0.012852</td>\n",
              "      <td>0.012664</td>\n",
              "      <td>0.012728</td>\n",
              "      <td>0.012650</td>\n",
              "      <td>0.012572</td>\n",
              "      <td>0.012494</td>\n",
              "      <td>0.012982</td>\n",
              "      <td>0.013046</td>\n",
              "      <td>0.012481</td>\n",
              "      <td>0.012357</td>\n",
              "      <td>0.013065</td>\n",
              "      <td>0.012376</td>\n",
              "      <td>0.013117</td>\n",
              "      <td>0.012330</td>\n",
              "      <td>0.012193</td>\n",
              "      <td>0.013252</td>\n",
              "      <td>0.012167</td>\n",
              "      <td>0.012121</td>\n",
              "      <td>0.012153</td>\n",
              "      <td>0.012094</td>\n",
              "      <td>0.012049</td>\n",
              "      <td>0.012081</td>\n",
              "      <td>0.013406</td>\n",
              "      <td>0.011963</td>\n",
              "      <td>0.011950</td>\n",
              "      <td>0.013527</td>\n",
              "      <td>0.011936</td>\n",
              "      <td>0.013546</td>\n",
              "      <td>0.011877</td>\n",
              "      <td>0.011910</td>\n",
              "      <td>0.011864</td>\n",
              "      <td>0.011851</td>\n",
              "      <td>0.011765</td>\n",
              "      <td>0.013661</td>\n",
              "      <td>0.013680</td>\n",
              "      <td>0.013699</td>\n",
              "      <td>0.013718</td>\n",
              "      <td>0.013737</td>\n",
              "      <td>...</td>\n",
              "      <td>3.968358</td>\n",
              "      <td>3.968290</td>\n",
              "      <td>3.968037</td>\n",
              "      <td>3.967565</td>\n",
              "      <td>3.965982</td>\n",
              "      <td>3.965305</td>\n",
              "      <td>3.964852</td>\n",
              "      <td>3.964630</td>\n",
              "      <td>3.963871</td>\n",
              "      <td>3.963801</td>\n",
              "      <td>3.963140</td>\n",
              "      <td>3.962825</td>\n",
              "      <td>3.962330</td>\n",
              "      <td>3.961784</td>\n",
              "      <td>3.961719</td>\n",
              "      <td>3.960934</td>\n",
              "      <td>3.960876</td>\n",
              "      <td>3.960623</td>\n",
              "      <td>3.960560</td>\n",
              "      <td>3.960114</td>\n",
              "      <td>3.959598</td>\n",
              "      <td>3.957452</td>\n",
              "      <td>3.957396</td>\n",
              "      <td>3.957180</td>\n",
              "      <td>3.957128</td>\n",
              "      <td>3.956445</td>\n",
              "      <td>3.956394</td>\n",
              "      <td>3.956286</td>\n",
              "      <td>3.956180</td>\n",
              "      <td>3.955854</td>\n",
              "      <td>3.955754</td>\n",
              "      <td>3.955152</td>\n",
              "      <td>3.955054</td>\n",
              "      <td>3.954886</td>\n",
              "      <td>3.954836</td>\n",
              "      <td>3.954786</td>\n",
              "      <td>3.954638</td>\n",
              "      <td>3.954588</td>\n",
              "      <td>3.954345</td>\n",
              "      <td>1.098164</td>\n",
              "    </tr>\n",
              "    <tr>\n",
              "      <th>20195</th>\n",
              "      <td>0.012545</td>\n",
              "      <td>0.012655</td>\n",
              "      <td>0.012843</td>\n",
              "      <td>0.012499</td>\n",
              "      <td>0.012876</td>\n",
              "      <td>0.012531</td>\n",
              "      <td>0.012563</td>\n",
              "      <td>0.012752</td>\n",
              "      <td>0.012895</td>\n",
              "      <td>0.012817</td>\n",
              "      <td>0.012472</td>\n",
              "      <td>0.012394</td>\n",
              "      <td>0.012959</td>\n",
              "      <td>0.012381</td>\n",
              "      <td>0.012303</td>\n",
              "      <td>0.012257</td>\n",
              "      <td>0.012276</td>\n",
              "      <td>0.013140</td>\n",
              "      <td>0.012152</td>\n",
              "      <td>0.013094</td>\n",
              "      <td>0.012066</td>\n",
              "      <td>0.012020</td>\n",
              "      <td>0.011994</td>\n",
              "      <td>0.013332</td>\n",
              "      <td>0.011980</td>\n",
              "      <td>0.011849</td>\n",
              "      <td>0.013440</td>\n",
              "      <td>0.011835</td>\n",
              "      <td>0.011868</td>\n",
              "      <td>0.011809</td>\n",
              "      <td>0.011763</td>\n",
              "      <td>0.011750</td>\n",
              "      <td>0.011782</td>\n",
              "      <td>0.013548</td>\n",
              "      <td>0.013567</td>\n",
              "      <td>0.013586</td>\n",
              "      <td>0.013605</td>\n",
              "      <td>0.011670</td>\n",
              "      <td>0.011624</td>\n",
              "      <td>0.011597</td>\n",
              "      <td>...</td>\n",
              "      <td>3.971811</td>\n",
              "      <td>3.971193</td>\n",
              "      <td>3.971108</td>\n",
              "      <td>3.969572</td>\n",
              "      <td>3.969111</td>\n",
              "      <td>3.968041</td>\n",
              "      <td>3.967959</td>\n",
              "      <td>3.966632</td>\n",
              "      <td>3.966566</td>\n",
              "      <td>3.965908</td>\n",
              "      <td>3.965834</td>\n",
              "      <td>3.965760</td>\n",
              "      <td>3.964780</td>\n",
              "      <td>3.964388</td>\n",
              "      <td>3.964325</td>\n",
              "      <td>3.963732</td>\n",
              "      <td>3.963663</td>\n",
              "      <td>3.963570</td>\n",
              "      <td>3.962556</td>\n",
              "      <td>3.961589</td>\n",
              "      <td>3.961524</td>\n",
              "      <td>3.960686</td>\n",
              "      <td>3.960628</td>\n",
              "      <td>3.959965</td>\n",
              "      <td>3.959908</td>\n",
              "      <td>3.959357</td>\n",
              "      <td>3.959297</td>\n",
              "      <td>3.959294</td>\n",
              "      <td>3.958615</td>\n",
              "      <td>3.958504</td>\n",
              "      <td>3.958173</td>\n",
              "      <td>3.958059</td>\n",
              "      <td>3.957927</td>\n",
              "      <td>3.957818</td>\n",
              "      <td>3.957612</td>\n",
              "      <td>3.957557</td>\n",
              "      <td>3.957502</td>\n",
              "      <td>3.957339</td>\n",
              "      <td>3.957285</td>\n",
              "      <td>1.097919</td>\n",
              "    </tr>\n",
              "    <tr>\n",
              "      <th>20196</th>\n",
              "      <td>0.012469</td>\n",
              "      <td>0.012690</td>\n",
              "      <td>0.012534</td>\n",
              "      <td>0.012377</td>\n",
              "      <td>0.012566</td>\n",
              "      <td>0.012832</td>\n",
              "      <td>0.012676</td>\n",
              "      <td>0.012865</td>\n",
              "      <td>0.012787</td>\n",
              "      <td>0.012442</td>\n",
              "      <td>0.012819</td>\n",
              "      <td>0.012273</td>\n",
              "      <td>0.012916</td>\n",
              "      <td>0.012967</td>\n",
              "      <td>0.012154</td>\n",
              "      <td>0.012141</td>\n",
              "      <td>0.012063</td>\n",
              "      <td>0.012095</td>\n",
              "      <td>0.012049</td>\n",
              "      <td>0.012036</td>\n",
              "      <td>0.013167</td>\n",
              "      <td>0.011990</td>\n",
              "      <td>0.012023</td>\n",
              "      <td>0.011977</td>\n",
              "      <td>0.011845</td>\n",
              "      <td>0.011832</td>\n",
              "      <td>0.011773</td>\n",
              "      <td>0.011805</td>\n",
              "      <td>0.011760</td>\n",
              "      <td>0.011719</td>\n",
              "      <td>0.011693</td>\n",
              "      <td>0.013472</td>\n",
              "      <td>0.013524</td>\n",
              "      <td>0.011666</td>\n",
              "      <td>0.011620</td>\n",
              "      <td>0.011594</td>\n",
              "      <td>0.013581</td>\n",
              "      <td>0.013600</td>\n",
              "      <td>0.011567</td>\n",
              "      <td>0.011508</td>\n",
              "      <td>...</td>\n",
              "      <td>3.969436</td>\n",
              "      <td>3.969355</td>\n",
              "      <td>3.969124</td>\n",
              "      <td>3.969054</td>\n",
              "      <td>3.968353</td>\n",
              "      <td>3.968317</td>\n",
              "      <td>3.968274</td>\n",
              "      <td>3.967199</td>\n",
              "      <td>3.966834</td>\n",
              "      <td>3.966205</td>\n",
              "      <td>3.966020</td>\n",
              "      <td>3.965335</td>\n",
              "      <td>3.965068</td>\n",
              "      <td>3.964995</td>\n",
              "      <td>3.964011</td>\n",
              "      <td>3.963884</td>\n",
              "      <td>3.963821</td>\n",
              "      <td>3.962412</td>\n",
              "      <td>3.961784</td>\n",
              "      <td>3.961719</td>\n",
              "      <td>3.961639</td>\n",
              "      <td>3.961579</td>\n",
              "      <td>3.960137</td>\n",
              "      <td>3.959659</td>\n",
              "      <td>3.959537</td>\n",
              "      <td>3.958838</td>\n",
              "      <td>3.958782</td>\n",
              "      <td>3.958670</td>\n",
              "      <td>3.958615</td>\n",
              "      <td>3.958173</td>\n",
              "      <td>3.958147</td>\n",
              "      <td>3.958116</td>\n",
              "      <td>3.958059</td>\n",
              "      <td>3.957557</td>\n",
              "      <td>3.957447</td>\n",
              "      <td>3.957285</td>\n",
              "      <td>3.957009</td>\n",
              "      <td>3.956955</td>\n",
              "      <td>3.956739</td>\n",
              "      <td>1.098068</td>\n",
              "    </tr>\n",
              "    <tr>\n",
              "      <th>20197</th>\n",
              "      <td>0.012710</td>\n",
              "      <td>0.012521</td>\n",
              "      <td>0.012508</td>\n",
              "      <td>0.012807</td>\n",
              "      <td>0.012618</td>\n",
              "      <td>0.012430</td>\n",
              "      <td>0.012352</td>\n",
              "      <td>0.012839</td>\n",
              "      <td>0.012462</td>\n",
              "      <td>0.012494</td>\n",
              "      <td>0.012793</td>\n",
              "      <td>0.012338</td>\n",
              "      <td>0.012923</td>\n",
              "      <td>0.012233</td>\n",
              "      <td>0.013052</td>\n",
              "      <td>0.013006</td>\n",
              "      <td>0.012220</td>\n",
              "      <td>0.012024</td>\n",
              "      <td>0.013257</td>\n",
              "      <td>0.011984</td>\n",
              "      <td>0.011938</td>\n",
              "      <td>0.013295</td>\n",
              "      <td>0.011957</td>\n",
              "      <td>0.011911</td>\n",
              "      <td>0.011826</td>\n",
              "      <td>0.013404</td>\n",
              "      <td>0.011812</td>\n",
              "      <td>0.011767</td>\n",
              "      <td>0.011799</td>\n",
              "      <td>0.011740</td>\n",
              "      <td>0.011727</td>\n",
              "      <td>0.013512</td>\n",
              "      <td>0.011714</td>\n",
              "      <td>0.013531</td>\n",
              "      <td>0.013550</td>\n",
              "      <td>0.011628</td>\n",
              "      <td>0.013627</td>\n",
              "      <td>0.011588</td>\n",
              "      <td>0.011575</td>\n",
              "      <td>0.011529</td>\n",
              "      <td>...</td>\n",
              "      <td>3.966814</td>\n",
              "      <td>3.965806</td>\n",
              "      <td>3.965731</td>\n",
              "      <td>3.964883</td>\n",
              "      <td>3.964654</td>\n",
              "      <td>3.963323</td>\n",
              "      <td>3.962587</td>\n",
              "      <td>3.961870</td>\n",
              "      <td>3.961811</td>\n",
              "      <td>3.960535</td>\n",
              "      <td>3.960471</td>\n",
              "      <td>3.959569</td>\n",
              "      <td>3.959514</td>\n",
              "      <td>3.959484</td>\n",
              "      <td>3.959422</td>\n",
              "      <td>3.958740</td>\n",
              "      <td>3.958379</td>\n",
              "      <td>3.958320</td>\n",
              "      <td>3.957227</td>\n",
              "      <td>3.956255</td>\n",
              "      <td>3.956200</td>\n",
              "      <td>3.955754</td>\n",
              "      <td>3.955704</td>\n",
              "      <td>3.955005</td>\n",
              "      <td>3.954956</td>\n",
              "      <td>3.954297</td>\n",
              "      <td>3.954062</td>\n",
              "      <td>3.954011</td>\n",
              "      <td>3.953580</td>\n",
              "      <td>3.953486</td>\n",
              "      <td>3.952911</td>\n",
              "      <td>3.952855</td>\n",
              "      <td>3.952815</td>\n",
              "      <td>3.952763</td>\n",
              "      <td>3.952440</td>\n",
              "      <td>3.952394</td>\n",
              "      <td>3.952348</td>\n",
              "      <td>3.952211</td>\n",
              "      <td>3.952165</td>\n",
              "      <td>1.094999</td>\n",
              "    </tr>\n",
              "    <tr>\n",
              "      <th>20198</th>\n",
              "      <td>0.012626</td>\n",
              "      <td>0.012658</td>\n",
              "      <td>0.012470</td>\n",
              "      <td>0.012314</td>\n",
              "      <td>0.012723</td>\n",
              "      <td>0.012534</td>\n",
              "      <td>0.012346</td>\n",
              "      <td>0.012645</td>\n",
              "      <td>0.012755</td>\n",
              "      <td>0.012567</td>\n",
              "      <td>0.012489</td>\n",
              "      <td>0.012365</td>\n",
              "      <td>0.012852</td>\n",
              "      <td>0.012241</td>\n",
              "      <td>0.012150</td>\n",
              "      <td>0.012182</td>\n",
              "      <td>0.012104</td>\n",
              "      <td>0.012136</td>\n",
              "      <td>0.012923</td>\n",
              "      <td>0.012058</td>\n",
              "      <td>0.012955</td>\n",
              "      <td>0.012987</td>\n",
              "      <td>0.012077</td>\n",
              "      <td>0.012032</td>\n",
              "      <td>0.013071</td>\n",
              "      <td>0.013122</td>\n",
              "      <td>0.011927</td>\n",
              "      <td>0.011914</td>\n",
              "      <td>0.011854</td>\n",
              "      <td>0.011887</td>\n",
              "      <td>0.011841</td>\n",
              "      <td>0.013263</td>\n",
              "      <td>0.011742</td>\n",
              "      <td>0.011683</td>\n",
              "      <td>0.011643</td>\n",
              "      <td>0.013428</td>\n",
              "      <td>0.011472</td>\n",
              "      <td>0.013562</td>\n",
              "      <td>0.013581</td>\n",
              "      <td>0.011392</td>\n",
              "      <td>...</td>\n",
              "      <td>3.966263</td>\n",
              "      <td>3.965757</td>\n",
              "      <td>3.965692</td>\n",
              "      <td>3.965011</td>\n",
              "      <td>3.964228</td>\n",
              "      <td>3.964156</td>\n",
              "      <td>3.962064</td>\n",
              "      <td>3.961996</td>\n",
              "      <td>3.961870</td>\n",
              "      <td>3.961107</td>\n",
              "      <td>3.960991</td>\n",
              "      <td>3.959625</td>\n",
              "      <td>3.959569</td>\n",
              "      <td>3.958794</td>\n",
              "      <td>3.957810</td>\n",
              "      <td>3.957750</td>\n",
              "      <td>3.957285</td>\n",
              "      <td>3.955664</td>\n",
              "      <td>3.955654</td>\n",
              "      <td>3.954956</td>\n",
              "      <td>3.954629</td>\n",
              "      <td>3.954106</td>\n",
              "      <td>3.953440</td>\n",
              "      <td>3.952626</td>\n",
              "      <td>3.952581</td>\n",
              "      <td>3.952385</td>\n",
              "      <td>3.952338</td>\n",
              "      <td>3.952290</td>\n",
              "      <td>3.951240</td>\n",
              "      <td>3.951195</td>\n",
              "      <td>3.950495</td>\n",
              "      <td>3.950452</td>\n",
              "      <td>3.950368</td>\n",
              "      <td>3.950326</td>\n",
              "      <td>3.950071</td>\n",
              "      <td>3.949986</td>\n",
              "      <td>3.949902</td>\n",
              "      <td>3.949818</td>\n",
              "      <td>3.949735</td>\n",
              "      <td>1.094578</td>\n",
              "    </tr>\n",
              "  </tbody>\n",
              "</table>\n",
              "<p>5 rows × 601 columns</p>\n",
              "</div>"
            ],
            "text/plain": [
              "          rho_0     rho_1     rho_2  ...  theta_298  theta_299    volume\n",
              "20194  0.012755  0.012631  0.012852  ...   3.954588   3.954345  1.098164\n",
              "20195  0.012545  0.012655  0.012843  ...   3.957339   3.957285  1.097919\n",
              "20196  0.012469  0.012690  0.012534  ...   3.956955   3.956739  1.098068\n",
              "20197  0.012710  0.012521  0.012508  ...   3.952211   3.952165  1.094999\n",
              "20198  0.012626  0.012658  0.012470  ...   3.949818   3.949735  1.094578\n",
              "\n",
              "[5 rows x 601 columns]"
            ]
          },
          "metadata": {
            "tags": []
          },
          "execution_count": 105
        }
      ]
    },
    {
      "cell_type": "markdown",
      "metadata": {
        "colab_type": "text",
        "id": "Cuym4yvk76vU"
      },
      "source": [
        "### Split the data into train and test\n",
        "\n",
        "Now split the dataset into a training set and a test set.\n",
        "\n",
        "We will use the test set in the final evaluation of our model."
      ]
    },
    {
      "cell_type": "code",
      "metadata": {
        "colab_type": "code",
        "id": "qn-IGhUE7_1H",
        "colab": {}
      },
      "source": [
        "train_dataset = dataset.sample(frac=0.8,random_state=0)\n",
        "test_dataset = dataset.drop(train_dataset.index)"
      ],
      "execution_count": 106,
      "outputs": []
    },
    {
      "cell_type": "markdown",
      "metadata": {
        "colab_type": "text",
        "id": "J4ubs136WLNp"
      },
      "source": [
        "### Inspect the data\n",
        "\n",
        "Have a quick look at the joint distribution of a few pairs of columns from the training set."
      ]
    },
    {
      "cell_type": "code",
      "metadata": {
        "colab_type": "code",
        "id": "oRKO_x8gWKv-",
        "colab": {}
      },
      "source": [
        "#sns.pairplot(train_dataset[column_names], diag_kind=\"kde\")\n",
        "#plt.show()"
      ],
      "execution_count": null,
      "outputs": []
    },
    {
      "cell_type": "code",
      "metadata": {
        "colab_type": "code",
        "id": "yi2FzC3T21jR",
        "colab": {
          "base_uri": "https://localhost:8080/",
          "height": 407
        },
        "outputId": "c37897a4-3c07-4334-9fc0-c6c6f3927180"
      },
      "source": [
        "train_stats = train_dataset.describe()\n",
        "train_stats.pop('volume')\n",
        "train_stats = train_stats.transpose()\n",
        "train_stats"
      ],
      "execution_count": 107,
      "outputs": [
        {
          "output_type": "execute_result",
          "data": {
            "text/html": [
              "<div>\n",
              "<style scoped>\n",
              "    .dataframe tbody tr th:only-of-type {\n",
              "        vertical-align: middle;\n",
              "    }\n",
              "\n",
              "    .dataframe tbody tr th {\n",
              "        vertical-align: top;\n",
              "    }\n",
              "\n",
              "    .dataframe thead th {\n",
              "        text-align: right;\n",
              "    }\n",
              "</style>\n",
              "<table border=\"1\" class=\"dataframe\">\n",
              "  <thead>\n",
              "    <tr style=\"text-align: right;\">\n",
              "      <th></th>\n",
              "      <th>count</th>\n",
              "      <th>mean</th>\n",
              "      <th>std</th>\n",
              "      <th>min</th>\n",
              "      <th>25%</th>\n",
              "      <th>50%</th>\n",
              "      <th>75%</th>\n",
              "      <th>max</th>\n",
              "    </tr>\n",
              "  </thead>\n",
              "  <tbody>\n",
              "    <tr>\n",
              "      <th>rho_0</th>\n",
              "      <td>16159.0</td>\n",
              "      <td>0.012974</td>\n",
              "      <td>0.000317</td>\n",
              "      <td>0.012084</td>\n",
              "      <td>0.012754</td>\n",
              "      <td>0.012964</td>\n",
              "      <td>0.013168</td>\n",
              "      <td>0.014676</td>\n",
              "    </tr>\n",
              "    <tr>\n",
              "      <th>rho_1</th>\n",
              "      <td>16159.0</td>\n",
              "      <td>0.012972</td>\n",
              "      <td>0.000327</td>\n",
              "      <td>0.011826</td>\n",
              "      <td>0.012747</td>\n",
              "      <td>0.012960</td>\n",
              "      <td>0.013177</td>\n",
              "      <td>0.014991</td>\n",
              "    </tr>\n",
              "    <tr>\n",
              "      <th>rho_2</th>\n",
              "      <td>16159.0</td>\n",
              "      <td>0.012974</td>\n",
              "      <td>0.000334</td>\n",
              "      <td>0.012070</td>\n",
              "      <td>0.012740</td>\n",
              "      <td>0.012956</td>\n",
              "      <td>0.013187</td>\n",
              "      <td>0.014833</td>\n",
              "    </tr>\n",
              "    <tr>\n",
              "      <th>rho_3</th>\n",
              "      <td>16159.0</td>\n",
              "      <td>0.012974</td>\n",
              "      <td>0.000341</td>\n",
              "      <td>0.011812</td>\n",
              "      <td>0.012737</td>\n",
              "      <td>0.012957</td>\n",
              "      <td>0.013195</td>\n",
              "      <td>0.014708</td>\n",
              "    </tr>\n",
              "    <tr>\n",
              "      <th>rho_4</th>\n",
              "      <td>16159.0</td>\n",
              "      <td>0.012976</td>\n",
              "      <td>0.000347</td>\n",
              "      <td>0.012010</td>\n",
              "      <td>0.012734</td>\n",
              "      <td>0.012958</td>\n",
              "      <td>0.013198</td>\n",
              "      <td>0.014945</td>\n",
              "    </tr>\n",
              "    <tr>\n",
              "      <th>...</th>\n",
              "      <td>...</td>\n",
              "      <td>...</td>\n",
              "      <td>...</td>\n",
              "      <td>...</td>\n",
              "      <td>...</td>\n",
              "      <td>...</td>\n",
              "      <td>...</td>\n",
              "      <td>...</td>\n",
              "    </tr>\n",
              "    <tr>\n",
              "      <th>theta_295</th>\n",
              "      <td>16159.0</td>\n",
              "      <td>3.866789</td>\n",
              "      <td>0.035951</td>\n",
              "      <td>3.767795</td>\n",
              "      <td>3.839945</td>\n",
              "      <td>3.864627</td>\n",
              "      <td>3.892343</td>\n",
              "      <td>3.970596</td>\n",
              "    </tr>\n",
              "    <tr>\n",
              "      <th>theta_296</th>\n",
              "      <td>16159.0</td>\n",
              "      <td>3.866622</td>\n",
              "      <td>0.035930</td>\n",
              "      <td>3.767738</td>\n",
              "      <td>3.839817</td>\n",
              "      <td>3.864516</td>\n",
              "      <td>3.892239</td>\n",
              "      <td>3.970519</td>\n",
              "    </tr>\n",
              "    <tr>\n",
              "      <th>theta_297</th>\n",
              "      <td>16159.0</td>\n",
              "      <td>3.866457</td>\n",
              "      <td>0.035906</td>\n",
              "      <td>3.767540</td>\n",
              "      <td>3.839617</td>\n",
              "      <td>3.864355</td>\n",
              "      <td>3.892084</td>\n",
              "      <td>3.970060</td>\n",
              "    </tr>\n",
              "    <tr>\n",
              "      <th>theta_298</th>\n",
              "      <td>16159.0</td>\n",
              "      <td>3.866283</td>\n",
              "      <td>0.035890</td>\n",
              "      <td>3.767384</td>\n",
              "      <td>3.839449</td>\n",
              "      <td>3.864246</td>\n",
              "      <td>3.891849</td>\n",
              "      <td>3.969909</td>\n",
              "    </tr>\n",
              "    <tr>\n",
              "      <th>theta_299</th>\n",
              "      <td>16159.0</td>\n",
              "      <td>3.866091</td>\n",
              "      <td>0.035898</td>\n",
              "      <td>3.767234</td>\n",
              "      <td>3.839224</td>\n",
              "      <td>3.864056</td>\n",
              "      <td>3.891571</td>\n",
              "      <td>3.969822</td>\n",
              "    </tr>\n",
              "  </tbody>\n",
              "</table>\n",
              "<p>600 rows × 8 columns</p>\n",
              "</div>"
            ],
            "text/plain": [
              "             count      mean       std  ...       50%       75%       max\n",
              "rho_0      16159.0  0.012974  0.000317  ...  0.012964  0.013168  0.014676\n",
              "rho_1      16159.0  0.012972  0.000327  ...  0.012960  0.013177  0.014991\n",
              "rho_2      16159.0  0.012974  0.000334  ...  0.012956  0.013187  0.014833\n",
              "rho_3      16159.0  0.012974  0.000341  ...  0.012957  0.013195  0.014708\n",
              "rho_4      16159.0  0.012976  0.000347  ...  0.012958  0.013198  0.014945\n",
              "...            ...       ...       ...  ...       ...       ...       ...\n",
              "theta_295  16159.0  3.866789  0.035951  ...  3.864627  3.892343  3.970596\n",
              "theta_296  16159.0  3.866622  0.035930  ...  3.864516  3.892239  3.970519\n",
              "theta_297  16159.0  3.866457  0.035906  ...  3.864355  3.892084  3.970060\n",
              "theta_298  16159.0  3.866283  0.035890  ...  3.864246  3.891849  3.969909\n",
              "theta_299  16159.0  3.866091  0.035898  ...  3.864056  3.891571  3.969822\n",
              "\n",
              "[600 rows x 8 columns]"
            ]
          },
          "metadata": {
            "tags": []
          },
          "execution_count": 107
        }
      ]
    },
    {
      "cell_type": "markdown",
      "metadata": {
        "colab_type": "text",
        "id": "Db7Auq1yXUvh"
      },
      "source": [
        "### Split features from labels\n",
        "\n",
        "Separate the target value, or \"label\", from the features. This label is the value that you will train the model to predict."
      ]
    },
    {
      "cell_type": "code",
      "metadata": {
        "colab_type": "code",
        "id": "t2sluJdCW7jN",
        "colab": {}
      },
      "source": [
        "train_labels = train_dataset.pop('volume')\n",
        "test_labels = test_dataset.pop('volume')"
      ],
      "execution_count": 108,
      "outputs": []
    },
    {
      "cell_type": "markdown",
      "metadata": {
        "colab_type": "text",
        "id": "mRklxK5s388r"
      },
      "source": [
        "### Normalize the data\n",
        "\n",
        "Look again at the `train_stats` block above and note how different the ranges of each feature are."
      ]
    },
    {
      "cell_type": "markdown",
      "metadata": {
        "colab_type": "text",
        "id": "-ywmerQ6dSox"
      },
      "source": [
        "It is good practice to normalize features that use different scales and ranges. Although the model *might* converge without feature normalization, it makes training more difficult, and it makes the resulting model dependent on the choice of units used in the input.\n",
        "\n",
        "Note: Although we intentionally generate these statistics from only the training dataset, these statistics will also be used to normalize the test dataset. We need to do that to project the test dataset into the same distribution that the model has been trained on."
      ]
    },
    {
      "cell_type": "code",
      "metadata": {
        "colab_type": "code",
        "id": "JlC5ooJrgjQF",
        "colab": {}
      },
      "source": [
        "def norm(x):\n",
        "  return (x - train_stats['mean']) / train_stats['std']\n",
        "normed_train_data = norm(train_dataset)\n",
        "normed_test_data = norm(test_dataset)\n",
        "#normed_train_data = train_dataset\n",
        "#normed_test_data = test_dataset\n"
      ],
      "execution_count": 109,
      "outputs": []
    },
    {
      "cell_type": "markdown",
      "metadata": {
        "colab_type": "text",
        "id": "BuiClDk45eS4"
      },
      "source": [
        "This normalized data is what we will use to train the model.\n",
        "\n",
        "Caution: The statistics used to normalize the inputs here (mean and standard deviation) need to be applied to any other data that is fed to the model, along with the one-hot encoding that we did earlier.  That includes the test set as well as live data when the model is used in production."
      ]
    },
    {
      "cell_type": "markdown",
      "metadata": {
        "colab_type": "text",
        "id": "SmjdzxKzEu1-"
      },
      "source": [
        "## The model"
      ]
    },
    {
      "cell_type": "markdown",
      "metadata": {
        "colab_type": "text",
        "id": "6SWtkIjhrZwa"
      },
      "source": [
        "### Build the model\n",
        "\n",
        "Let's build our model. Here, we'll use a `Sequential` model with two densely connected hidden layers, and an output layer that returns a single, continuous value. The model building steps are wrapped in a function, `build_model`, since we'll create a second model, later on."
      ]
    },
    {
      "cell_type": "code",
      "metadata": {
        "colab_type": "code",
        "id": "c26juK7ZG8j-",
        "colab": {}
      },
      "source": [
        "def build_model():\n",
        "  model = keras.Sequential([\n",
        "    #layers.Dense(800, activation=tf.nn.sigmoid, input_shape=[len(train_dataset.keys())]),\n",
        "    #layers.Dense(200, activation=tf.nn.sigmoid),\n",
        "    layers.Dense(20, activation=tf.nn.sigmoid, input_shape=[len(train_dataset.keys())]),\n",
        "    layers.Dense(1)\n",
        "  ])\n",
        "\n",
        "  #optimizer = tf.keras.optimizers.RMSprop(0.0000001)\n",
        "  #optimizer = tf.keras.optimizers.Adagrad(learning_rate=0.0001)\n",
        "  optimizer = tf.keras.optimizers.Adam(learning_rate=0.001, beta_1=0.9, beta_2=0.999, amsgrad=False)\n",
        "  #optimizer = tf.keras.optimizers.Adamax(learning_rate=0.001, beta_1=0.8, beta_2=0.995)\n",
        "\n",
        "  #model.compile(loss='mean_squared_error',\n",
        "  #              optimizer=optimizer,\n",
        "  #              metrics=['mean_absolute_error', 'mean_squared_error'])\n",
        "  \n",
        "  model.compile(loss='mean_absolute_error',\n",
        "                optimizer=optimizer,\n",
        "                metrics=['mean_absolute_error', 'mean_squared_error'])\n",
        "  \n",
        "  \n",
        "  return model"
      ],
      "execution_count": 98,
      "outputs": []
    },
    {
      "cell_type": "code",
      "metadata": {
        "colab_type": "code",
        "id": "cGbPb-PHGbhs",
        "colab": {}
      },
      "source": [
        "model = build_model()"
      ],
      "execution_count": 99,
      "outputs": []
    },
    {
      "cell_type": "markdown",
      "metadata": {
        "id": "AUx4uYxk0GEJ",
        "colab_type": "text"
      },
      "source": [
        "## If there is a model saved on google drive execute the next block"
      ]
    },
    {
      "cell_type": "code",
      "metadata": {
        "id": "y3Ir9yi8z0VA",
        "colab_type": "code",
        "colab": {}
      },
      "source": [
        "from tensorflow.keras.models import load_model\n",
        "\n",
        "del model \n",
        "\n",
        "model_name=str('SDS_volume_pred_trial_4.h5')\n",
        "model = load_model(str(\"/content/drive/My Drive/DropLev/MachineLearningModels/\"+model_name))\n"
      ],
      "execution_count": 110,
      "outputs": []
    },
    {
      "cell_type": "markdown",
      "metadata": {
        "colab_type": "text",
        "id": "Sj49Og4YGULr"
      },
      "source": [
        "### Inspect the model\n",
        "\n",
        "Use the `.summary` method to print a simple description of the model"
      ]
    },
    {
      "cell_type": "code",
      "metadata": {
        "colab_type": "code",
        "id": "ReAD0n6MsFK-",
        "colab": {
          "base_uri": "https://localhost:8080/",
          "height": 217
        },
        "outputId": "efe612db-ad6c-4457-e9b9-a00bf936e0a9"
      },
      "source": [
        "model.summary()"
      ],
      "execution_count": 111,
      "outputs": [
        {
          "output_type": "stream",
          "text": [
            "Model: \"sequential_2\"\n",
            "_________________________________________________________________\n",
            "Layer (type)                 Output Shape              Param #   \n",
            "=================================================================\n",
            "dense_4 (Dense)              (None, 20)                12020     \n",
            "_________________________________________________________________\n",
            "dense_5 (Dense)              (None, 1)                 21        \n",
            "=================================================================\n",
            "Total params: 12,041\n",
            "Trainable params: 12,041\n",
            "Non-trainable params: 0\n",
            "_________________________________________________________________\n"
          ],
          "name": "stdout"
        }
      ]
    },
    {
      "cell_type": "markdown",
      "metadata": {
        "colab_type": "text",
        "id": "Vt6W50qGsJAL"
      },
      "source": [
        "\n",
        "Now try out the model. Take a batch of `10` examples from the training data and call `model.predict` on it."
      ]
    },
    {
      "cell_type": "code",
      "metadata": {
        "colab_type": "code",
        "id": "-d-gBaVtGTSC",
        "colab": {
          "base_uri": "https://localhost:8080/",
          "height": 183
        },
        "outputId": "270bc524-3945-49dd-8119-dd5a942bbde6"
      },
      "source": [
        "example_batch = normed_train_data[:10]\n",
        "example_result = model.predict(example_batch)\n",
        "example_result"
      ],
      "execution_count": 112,
      "outputs": [
        {
          "output_type": "execute_result",
          "data": {
            "text/plain": [
              "array([[3.9475756],\n",
              "       [1.383054 ],\n",
              "       [3.908187 ],\n",
              "       [3.5878735],\n",
              "       [4.9004183],\n",
              "       [2.2600932],\n",
              "       [2.0207775],\n",
              "       [3.9454408],\n",
              "       [1.9130672],\n",
              "       [4.9236174]], dtype=float32)"
            ]
          },
          "metadata": {
            "tags": []
          },
          "execution_count": 112
        }
      ]
    },
    {
      "cell_type": "markdown",
      "metadata": {
        "colab_type": "text",
        "id": "QlM8KrSOsaYo"
      },
      "source": [
        "It seems to be working, and it produces a result of the expected shape and type."
      ]
    },
    {
      "cell_type": "markdown",
      "metadata": {
        "colab_type": "text",
        "id": "0-qWCsh6DlyH"
      },
      "source": [
        "### Train the model\n",
        "\n",
        "Train the model for 1000 epochs, and record the training and validation accuracy in the `history` object."
      ]
    },
    {
      "cell_type": "code",
      "metadata": {
        "colab_type": "code",
        "id": "sD7qHCmNIOY0",
        "colab": {
          "base_uri": "https://localhost:8080/",
          "height": 50
        },
        "outputId": "7d05f5f0-1ddd-45a2-e0f9-cb29efc71e3b"
      },
      "source": [
        "# Display training progress by printing a single dot for each completed epoch\n",
        "class PrintDot(keras.callbacks.Callback):\n",
        "  def on_epoch_end(self, epoch, logs):\n",
        "    if epoch % 55 == 0: print('')\n",
        "    print('.', end='')\n",
        "\n",
        "\n",
        "EPOCHS = 700\n",
        "\n",
        "\n",
        "early_stop = keras.callbacks.EarlyStopping(monitor='val_loss',min_delta=0, patience=5, verbose=0, mode='auto')\n",
        "\n",
        "\n",
        "history = model.fit(\n",
        "  normed_train_data, train_labels,\n",
        "  epochs=EPOCHS, validation_split = 0.2, verbose=0,\n",
        "  callbacks=[early_stop, PrintDot()])  # callbacks=callbacks_list"
      ],
      "execution_count": 113,
      "outputs": [
        {
          "output_type": "stream",
          "text": [
            "\n",
            "..........................."
          ],
          "name": "stdout"
        }
      ]
    },
    {
      "cell_type": "markdown",
      "metadata": {
        "colab_type": "text",
        "id": "tQm3pc0FYPQB"
      },
      "source": [
        "Visualize the model's training progress using the stats stored in the `history` object."
      ]
    },
    {
      "cell_type": "code",
      "metadata": {
        "colab_type": "code",
        "id": "4Xj91b-dymEy",
        "colab": {
          "base_uri": "https://localhost:8080/",
          "height": 197
        },
        "outputId": "45fc7ec0-b504-4c47-8b60-e79ed37e8a8d"
      },
      "source": [
        "hist = pd.DataFrame(history.history)\n",
        "hist['epoch'] = history.epoch\n",
        "hist.tail()"
      ],
      "execution_count": 114,
      "outputs": [
        {
          "output_type": "execute_result",
          "data": {
            "text/html": [
              "<div>\n",
              "<style scoped>\n",
              "    .dataframe tbody tr th:only-of-type {\n",
              "        vertical-align: middle;\n",
              "    }\n",
              "\n",
              "    .dataframe tbody tr th {\n",
              "        vertical-align: top;\n",
              "    }\n",
              "\n",
              "    .dataframe thead th {\n",
              "        text-align: right;\n",
              "    }\n",
              "</style>\n",
              "<table border=\"1\" class=\"dataframe\">\n",
              "  <thead>\n",
              "    <tr style=\"text-align: right;\">\n",
              "      <th></th>\n",
              "      <th>loss</th>\n",
              "      <th>mean_absolute_error</th>\n",
              "      <th>mean_squared_error</th>\n",
              "      <th>val_loss</th>\n",
              "      <th>val_mean_absolute_error</th>\n",
              "      <th>val_mean_squared_error</th>\n",
              "      <th>epoch</th>\n",
              "    </tr>\n",
              "  </thead>\n",
              "  <tbody>\n",
              "    <tr>\n",
              "      <th>22</th>\n",
              "      <td>0.035944</td>\n",
              "      <td>0.035944</td>\n",
              "      <td>0.002326</td>\n",
              "      <td>0.047203</td>\n",
              "      <td>0.047203</td>\n",
              "      <td>0.003737</td>\n",
              "      <td>22</td>\n",
              "    </tr>\n",
              "    <tr>\n",
              "      <th>23</th>\n",
              "      <td>0.037676</td>\n",
              "      <td>0.037676</td>\n",
              "      <td>0.002582</td>\n",
              "      <td>0.046305</td>\n",
              "      <td>0.046305</td>\n",
              "      <td>0.003651</td>\n",
              "      <td>23</td>\n",
              "    </tr>\n",
              "    <tr>\n",
              "      <th>24</th>\n",
              "      <td>0.036068</td>\n",
              "      <td>0.036068</td>\n",
              "      <td>0.002365</td>\n",
              "      <td>0.043657</td>\n",
              "      <td>0.043657</td>\n",
              "      <td>0.003254</td>\n",
              "      <td>24</td>\n",
              "    </tr>\n",
              "    <tr>\n",
              "      <th>25</th>\n",
              "      <td>0.035634</td>\n",
              "      <td>0.035634</td>\n",
              "      <td>0.002294</td>\n",
              "      <td>0.045138</td>\n",
              "      <td>0.045138</td>\n",
              "      <td>0.003633</td>\n",
              "      <td>25</td>\n",
              "    </tr>\n",
              "    <tr>\n",
              "      <th>26</th>\n",
              "      <td>0.037242</td>\n",
              "      <td>0.037242</td>\n",
              "      <td>0.002501</td>\n",
              "      <td>0.041137</td>\n",
              "      <td>0.041137</td>\n",
              "      <td>0.003029</td>\n",
              "      <td>26</td>\n",
              "    </tr>\n",
              "  </tbody>\n",
              "</table>\n",
              "</div>"
            ],
            "text/plain": [
              "        loss  mean_absolute_error  ...  val_mean_squared_error  epoch\n",
              "22  0.035944             0.035944  ...                0.003737     22\n",
              "23  0.037676             0.037676  ...                0.003651     23\n",
              "24  0.036068             0.036068  ...                0.003254     24\n",
              "25  0.035634             0.035634  ...                0.003633     25\n",
              "26  0.037242             0.037242  ...                0.003029     26\n",
              "\n",
              "[5 rows x 7 columns]"
            ]
          },
          "metadata": {
            "tags": []
          },
          "execution_count": 114
        }
      ]
    },
    {
      "cell_type": "code",
      "metadata": {
        "colab_type": "code",
        "id": "B6XriGbVPh2t",
        "colab": {
          "base_uri": "https://localhost:8080/",
          "height": 549
        },
        "outputId": "e455880f-5dda-4422-b5d6-b71f76ae906e"
      },
      "source": [
        "def plot_history(history):\n",
        "  hist = pd.DataFrame(history.history)\n",
        "  hist['epoch'] = history.epoch\n",
        "\n",
        "  plt.figure()\n",
        "  plt.xlabel('Epoch')\n",
        "  plt.ylabel('Mean Abs Error [volt]')\n",
        "  plt.plot(hist['epoch'], hist['mean_absolute_error'],\n",
        "           label='Train Error')\n",
        "  plt.plot(hist['epoch'], hist['val_mean_absolute_error'],\n",
        "           label = 'Val Error')\n",
        "  plt.ylim([0,5])\n",
        "  plt.legend()\n",
        "\n",
        "  plt.figure()\n",
        "  plt.xlabel('Epoch')\n",
        "  plt.ylabel('Mean Square Error [$volt^2$]')\n",
        "  plt.plot(hist['epoch'], hist['mean_squared_error'],\n",
        "           label='Train Error')\n",
        "  plt.plot(hist['epoch'], hist['val_mean_squared_error'],\n",
        "           label = 'Val Error')\n",
        "  plt.ylim([0,20])\n",
        "  plt.legend()\n",
        "  plt.show()\n",
        "\n",
        "\n",
        "plot_history(history)"
      ],
      "execution_count": 115,
      "outputs": [
        {
          "output_type": "display_data",
          "data": {
            "image/png": "[encoded data removed]",
            "text/plain": [
              "<Figure size 432x288 with 1 Axes>"
            ]
          },
          "metadata": {
            "tags": [],
            "needs_background": "light"
          }
        },
        {
          "output_type": "display_data",
          "data": {
            "image/png": "[encoded data removed]",
            "text/plain": [
              "<Figure size 432x288 with 1 Axes>"
            ]
          },
          "metadata": {
            "tags": [],
            "needs_background": "light"
          }
        }
      ]
    },
    {
      "cell_type": "markdown",
      "metadata": {
        "colab_type": "text",
        "id": "AqsuANc11FYv"
      },
      "source": [
        "This graph shows little improvement, or even degradation in the validation error after about 100 epochs. Let's update the `model.fit` call to automatically stop training when the validation score doesn't improve. We'll use an *EarlyStopping callback* that tests a training condition for  every epoch. If a set amount of epochs elapses without showing improvement, then automatically stop the training.\n",
        "\n",
        "You can learn more about this callback [here](https://www.tensorflow.org/versions/master/api_docs/python/tf/keras/callbacks/EarlyStopping)."
      ]
    },
    {
      "cell_type": "code",
      "metadata": {
        "colab_type": "code",
        "id": "fdMZuhUgzMZ4",
        "colab": {
          "base_uri": "https://localhost:8080/",
          "height": 582
        },
        "outputId": "1ccdbde2-c141-4943-8f7d-952f002e4450"
      },
      "source": [
        "#model = build_model()\n",
        "\n",
        "\n",
        "# The patience parameter is the amount of epochs to check for improvement\n",
        "early_stop = keras.callbacks.EarlyStopping(monitor='val_loss',min_delta=0, patience=2, verbose=0, mode='auto')\n",
        "\n",
        "history = model.fit(normed_train_data, train_labels, epochs=EPOCHS,\n",
        "                    validation_split = 0.2, verbose=0, callbacks=[early_stop, PrintDot()])\n",
        "\n",
        "plot_history(history)"
      ],
      "execution_count": 116,
      "outputs": [
        {
          "output_type": "stream",
          "text": [
            "\n",
            "...."
          ],
          "name": "stdout"
        },
        {
          "output_type": "display_data",
          "data": {
            "image/png": "[encoded data removed]",
            "text/plain": [
              "<Figure size 432x288 with 1 Axes>"
            ]
          },
          "metadata": {
            "tags": [],
            "needs_background": "light"
          }
        },
        {
          "output_type": "display_data",
          "data": {
            "image/png": "[encoded data removed]",
            "text/plain": [
              "<Figure size 432x288 with 1 Axes>"
            ]
          },
          "metadata": {
            "tags": [],
            "needs_background": "light"
          }
        }
      ]
    },
    {
      "cell_type": "markdown",
      "metadata": {
        "colab_type": "text",
        "id": "3St8-DmrX8P4"
      },
      "source": [
        "The graph shows that on the validation set, the average error is usually around +/- 2 MPG. Is this good? We'll leave that decision up to you.\n",
        "\n",
        "Let's see how well the model generalizes by using the **test** set, which we did not use when training the model.  This tells us how well we can expect the model to predict when we use it in the real world."
      ]
    },
    {
      "cell_type": "code",
      "metadata": {
        "colab_type": "code",
        "id": "jl_yNr5n1kms",
        "colab": {
          "base_uri": "https://localhost:8080/",
          "height": 33
        },
        "outputId": "56e23bae-c4a7-485b-8c6f-fcbc398a8811"
      },
      "source": [
        "loss, mae, mse = model.evaluate(normed_test_data, test_labels, verbose=0)\n",
        "\n",
        "print(\"Testing set Mean Abs Error: {:5.2f} µl\".format(mae))"
      ],
      "execution_count": 117,
      "outputs": [
        {
          "output_type": "stream",
          "text": [
            "Testing set Mean Abs Error:  0.05 µl\n"
          ],
          "name": "stdout"
        }
      ]
    },
    {
      "cell_type": "markdown",
      "metadata": {
        "colab_type": "text",
        "id": "ft603OzXuEZC"
      },
      "source": [
        "### Make predictions\n",
        "\n",
        "Finally, predict volume values using data in the testing set:"
      ]
    },
    {
      "cell_type": "code",
      "metadata": {
        "colab_type": "code",
        "id": "0rX45MS7FAoW",
        "colab": {
          "base_uri": "https://localhost:8080/",
          "height": 573
        },
        "outputId": "570af5d0-3509-438e-8945-3edf2c4fa452"
      },
      "source": [
        "test_predictions = model.predict(normed_test_data).flatten()\n",
        "\n",
        "plt.scatter(test_labels, test_predictions)\n",
        "plt.title('Normalized test data')\n",
        "plt.xlabel('True Values [Volume- μL]')\n",
        "plt.ylabel('Predictions [Volume- μL]')\n",
        "plt.axis('equal')\n",
        "plt.axis('square')\n",
        "plt.xlim([0,10])\n",
        "plt.ylim([0,10])\n",
        "_ = plt.plot([-100, 100], [-100, 100])\n",
        "plt.show()\n",
        "\n",
        "test_predictions2 = model.predict(normed_train_data).flatten()\n",
        "\n",
        "plt.scatter(train_labels, test_predictions2)\n",
        "plt.title('Normalized training data')\n",
        "plt.xlabel('True Values [Volume- μL]')\n",
        "plt.ylabel('Predictions [Volume- μL]')\n",
        "plt.axis('equal')\n",
        "plt.axis('square')\n",
        "plt.xlim([0,10])\n",
        "plt.ylim([0,10])\n",
        "_ = plt.plot([-100, 100], [-100, 100])\n",
        "plt.show()\n"
      ],
      "execution_count": 118,
      "outputs": [
        {
          "output_type": "display_data",
          "data": {
            "image/png": "[encoded data removed]",
            "text/plain": [
              "<Figure size 432x288 with 1 Axes>"
            ]
          },
          "metadata": {
            "tags": [],
            "needs_background": "light"
          }
        },
        {
          "output_type": "display_data",
          "data": {
            "image/png": "[encoded data removed]",
            "text/plain": [
              "<Figure size 432x288 with 1 Axes>"
            ]
          },
          "metadata": {
            "tags": [],
            "needs_background": "light"
          }
        }
      ]
    },
    {
      "cell_type": "code",
      "metadata": {
        "colab_type": "code",
        "id": "GSZlGc6EFAoi",
        "colab": {
          "base_uri": "https://localhost:8080/",
          "height": 279
        },
        "outputId": "66fb09f6-e974-462c-a98b-73217e58afb2"
      },
      "source": [
        "error = test_predictions - test_labels\n",
        "plt.hist(error, bins = 50)\n",
        "plt.xlabel(\"Prediction Error [surface tension - mN/m]\")\n",
        "_ = plt.ylabel(\"Count\")\n",
        "plt.show()"
      ],
      "execution_count": 119,
      "outputs": [
        {
          "output_type": "display_data",
          "data": {
            "image/png": "[encoded data removed]",
            "text/plain": [
              "<Figure size 432x288 with 1 Axes>"
            ]
          },
          "metadata": {
            "tags": [],
            "needs_background": "light"
          }
        }
      ]
    },
    {
      "cell_type": "markdown",
      "metadata": {
        "id": "vDAvu4BI157_",
        "colab_type": "text"
      },
      "source": [
        "# Saving the Model"
      ]
    },
    {
      "cell_type": "markdown",
      "metadata": {
        "id": "FcFG3xHC19Nr",
        "colab_type": "text"
      },
      "source": [
        "When you are satisfied with the model and the accuracy continue from here:"
      ]
    },
    {
      "cell_type": "markdown",
      "metadata": {
        "id": "ILdhbQFz9b2K",
        "colab_type": "text"
      },
      "source": [
        "Saving the model in a **SavedModel** format"
      ]
    },
    {
      "cell_type": "code",
      "metadata": {
        "id": "4tfUB6Fq2DVJ",
        "colab_type": "code",
        "colab": {}
      },
      "source": [
        "!pip install -q pyyaml h5py  # Required to save models in HDF5 format"
      ],
      "execution_count": null,
      "outputs": []
    },
    {
      "cell_type": "code",
      "metadata": {
        "id": "MzumSsZfGYCp",
        "colab_type": "code",
        "colab": {}
      },
      "source": [
        "# Save the entire model as a SavedModel.\n",
        "filename=str('SDS_volume_pred_trial_5.h5')\n",
        "!mkdir -p '/content/drive/My Drive/DropLev/MachineLearningModels' #Ceates a folder named \"MachineLearningModels\"\n",
        "model.save('/content/drive/My Drive/DropLev/MachineLearningModels/'+filename)  #Saves the file"
      ],
      "execution_count": 120,
      "outputs": []
    },
    {
      "cell_type": "markdown",
      "metadata": {
        "id": "NhlGbAn0826s",
        "colab_type": "text"
      },
      "source": [
        "The SavedModel format is a directory containing a protobuf binary and a Tensorflow checkpoint. Inspect the saved model directory:"
      ]
    },
    {
      "cell_type": "code",
      "metadata": {
        "id": "eotmNYdB83bB",
        "colab_type": "code",
        "colab": {}
      },
      "source": [
        "# DropLev_volt_vol_prediction_model directory\n",
        "#!ls saved_model\n",
        "\n",
        "# Contains an assets folder, saved_model.pb, and variables folder.\n",
        "#!ls saved_model/DropLev_volt_vol_prediction_model"
      ],
      "execution_count": null,
      "outputs": []
    },
    {
      "cell_type": "markdown",
      "metadata": {
        "id": "ikYCgbdb9kfp",
        "colab_type": "text"
      },
      "source": [
        "Saving the model in a **HDF5** format"
      ]
    },
    {
      "cell_type": "code",
      "metadata": {
        "id": "xdVXWoNE9o4r",
        "colab_type": "code",
        "colab": {}
      },
      "source": [
        "# Save the entire model to a HDF5 file.\n",
        "# The '.h5' extension indicates that the model should be saved to HDF5.\n",
        "#model.save('DropLev_volt_vol_prediction_model.h5') "
      ],
      "execution_count": null,
      "outputs": []
    },
    {
      "cell_type": "markdown",
      "metadata": {
        "id": "oZcqRI0r9B4r",
        "colab_type": "text"
      },
      "source": [
        "# Reload a fresh Keras model from the saved model:"
      ]
    },
    {
      "cell_type": "markdown",
      "metadata": {
        "id": "W6mEqNn497op",
        "colab_type": "text"
      },
      "source": [
        "For **SavedModel** format"
      ]
    },
    {
      "cell_type": "code",
      "metadata": {
        "id": "c4vUC4ep8_VA",
        "colab_type": "code",
        "colab": {
          "base_uri": "https://localhost:8080/",
          "height": 217
        },
        "outputId": "7bb129bb-edb9-4aee-8dec-4e6393531472"
      },
      "source": [
        "new_model = tf.keras.models.load_model('/content/drive/My Drive/DropLev/MachineLearningModels/'+filename)\n",
        "\n",
        "# Check its architecture\n",
        "new_model.summary()"
      ],
      "execution_count": 90,
      "outputs": [
        {
          "output_type": "stream",
          "text": [
            "Model: \"sequential_2\"\n",
            "_________________________________________________________________\n",
            "Layer (type)                 Output Shape              Param #   \n",
            "=================================================================\n",
            "dense_4 (Dense)              (None, 20)                12020     \n",
            "_________________________________________________________________\n",
            "dense_5 (Dense)              (None, 1)                 21        \n",
            "=================================================================\n",
            "Total params: 12,041\n",
            "Trainable params: 12,041\n",
            "Non-trainable params: 0\n",
            "_________________________________________________________________\n"
          ],
          "name": "stdout"
        }
      ]
    },
    {
      "cell_type": "markdown",
      "metadata": {
        "id": "myilbB_P9_dO",
        "colab_type": "text"
      },
      "source": [
        "For **HDF5** format"
      ]
    },
    {
      "cell_type": "code",
      "metadata": {
        "id": "94ZjuhOV-Dfk",
        "colab_type": "code",
        "colab": {}
      },
      "source": [
        "# Recreate the exact same model, including its weights and the optimizer\n",
        "new_model = tf.keras.models.load_model('DropLev_volt_vol_prediction_model.h5')\n",
        "\n",
        "# Show the model architecture\n",
        "new_model.summary()"
      ],
      "execution_count": null,
      "outputs": []
    },
    {
      "cell_type": "markdown",
      "metadata": {
        "id": "j1K6xGBg9K4A",
        "colab_type": "text"
      },
      "source": [
        "Evaluate the restored model (for both formats)"
      ]
    },
    {
      "cell_type": "code",
      "metadata": {
        "id": "if5rjrz79NPI",
        "colab_type": "code",
        "colab": {}
      },
      "source": [
        "# Evaluation\n",
        "loss, mae, mse = new_model.evaluate(normed_test_data, test_labels, verbose=0)\n",
        "print('Restored model, Mean absolute error: {:5.2f}'.format(mae))\n",
        "\n",
        "print(new_model.predict(normed_test_data).shape)"
      ],
      "execution_count": null,
      "outputs": []
    }
  ]
}